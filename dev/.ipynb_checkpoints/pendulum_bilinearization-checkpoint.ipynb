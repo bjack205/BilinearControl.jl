{
 "cells": [
  {
   "cell_type": "code",
   "execution_count": 1,
   "metadata": {},
   "outputs": [
    {
     "name": "stderr",
     "output_type": "stream",
     "text": [
      "\u001b[32m\u001b[1m  Activating\u001b[22m\u001b[39m project at `~/.julia/dev/BilinearControl/examples`\n"
     ]
    }
   ],
   "source": [
    "import Pkg; Pkg.activate(@__DIR__)\n",
    "include(\"taylorseries.jl\")\n",
    "using Test\n",
    "using Symbolics\n",
    "using SparseArrays\n",
    "using BenchmarkTools "
   ]
  },
  {
   "cell_type": "code",
   "execution_count": 2,
   "metadata": {},
   "outputs": [],
   "source": [
    "# Define the dynamics\n",
    "function pendulum_dynamics(states, controls)\n",
    "    x = states[1]\n",
    "    xdot = states[2]\n",
    "    tau = controls[1]\n",
    "    a = -2.1 # g / J⋅ℓ\n",
    "    b = 0.1  # damping / J\n",
    "    c = 0.5  # 1/J\n",
    "    xddot = a * sin(x)  + b * xdot  + c*tau\n",
    "    return [xdot, xddot]\n",
    "end\n",
    "\n",
    "# Build state and control vectors\n",
    "@variables t x(t) τ\n",
    "Dt = Differential(t)\n",
    "xdot = Dt(x)\n",
    "ẋ = xdot\n",
    "states = [x, xdot]\n",
    "controls = [τ];"
   ]
  },
  {
   "cell_type": "code",
   "execution_count": 3,
   "metadata": {},
   "outputs": [
    {
     "data": {
      "text/latex": [
       "\\begin{equation}\n",
       "\\left[\n",
       "\\begin{array}{c}\n",
       "\\frac{dx(t)}{dt} \\\\\n",
       "0.5 \\tau + 0.1 \\frac{dx(t)}{dt} - 2.1 \\sin\\left( x\\left( t \\right) \\right) \\\\\n",
       "\\end{array}\n",
       "\\right]\n",
       "\\end{equation}\n"
      ],
      "text/plain": [
       "2-element Vector{Num}:\n",
       " Differential(t)(x(t))\n",
       "  0.5τ + 0.1Differential(t)(x(t)) - 2.1sin(x(t))"
      ]
     },
     "execution_count": 3,
     "metadata": {},
     "output_type": "execute_result"
    }
   ],
   "source": [
    "# Get symbolic expression for dynamics\n",
    "statederivative = pendulum_dynamics(states, controls)"
   ]
  },
  {
   "cell_type": "code",
   "execution_count": 4,
   "metadata": {},
   "outputs": [
    {
     "data": {
      "text/latex": [
       "\\begin{equation}\n",
       "\\left[\n",
       "\\begin{array}{c}\n",
       "\\frac{dx(t)}{dt} \\\\\n",
       "0.5 \\tau + 0.1 \\frac{dx(t)}{dt} - 2.1 \\sin\\left( _{x0{_1}} \\right) + 1.05 \\left(  - _{x0{_1}} + x\\left( t \\right) \\right)^{2} \\sin\\left( _{x0{_1}} \\right) + 0.35 \\left(  - _{x0{_1}} + x\\left( t \\right) \\right)^{3} \\cos\\left( _{x0{_1}} \\right) - 2.1 \\left(  - _{x0{_1}} + x\\left( t \\right) \\right) \\cos\\left( _{x0{_1}} \\right) \\\\\n",
       "\\end{array}\n",
       "\\right]\n",
       "\\end{equation}\n"
      ],
      "text/plain": [
       "2-element Vector{Num}:\n",
       " Differential(t)(x(t))\n",
       "  0.5τ + 0.1Differential(t)(x(t)) + 1.05((x(t) - _x0₁)^2)*sin(_x0₁) + 0.35((x(t) - _x0₁)^3)*cos(_x0₁) - 2.1sin(_x0₁) - 2.1(x(t) - _x0₁)*cos(_x0₁)"
      ]
     },
     "execution_count": 4,
     "metadata": {},
     "output_type": "execute_result"
    }
   ],
   "source": [
    "# Get Taylor series approximation of dynamics\n",
    "order = 3\n",
    "states0 = [Symbolics.variable(Symbol(\"_x0\"), i) for i = 1:length(states)]\n",
    "approx_dynamics = map(statederivative) do xdot\n",
    "    Num(taylorexpand(xdot, states, states0, order))\n",
    "end"
   ]
  },
  {
   "cell_type": "code",
   "execution_count": 5,
   "metadata": {},
   "outputs": [
    {
     "data": {
      "text/latex": [
       "\\begin{equation}\n",
       "\\left[\n",
       "\\begin{array}{c}\n",
       "x\\left( t \\right) \\\\\n",
       "\\frac{dx(t)}{dt} \\\\\n",
       "\\left( x\\left( t \\right) \\right)^{2} \\\\\n",
       "x\\left( t \\right) \\frac{dx(t)}{dt} \\\\\n",
       "\\left( \\frac{dx(t)}{dt} \\right)^{2} \\\\\n",
       "\\left( x\\left( t \\right) \\right)^{3} \\\\\n",
       "\\left( x\\left( t \\right) \\right)^{2} \\frac{dx(t)}{dt} \\\\\n",
       "\\left( \\frac{dx(t)}{dt} \\right)^{2} x\\left( t \\right) \\\\\n",
       "\\left( \\frac{dx(t)}{dt} \\right)^{3} \\\\\n",
       "\\end{array}\n",
       "\\right]\n",
       "\\end{equation}\n"
      ],
      "text/plain": [
       "9-element Vector{Num}:\n",
       "        x(t)\n",
       "          Differential(t)(x(t))\n",
       "      x(t)^2\n",
       "     x(t)*Differential(t)(x(t))\n",
       "          Differential(t)(x(t))^2\n",
       "      x(t)^3\n",
       " (x(t)^2)*Differential(t)(x(t))\n",
       "         (Differential(t)(x(t))^2)*x(t)\n",
       "          Differential(t)(x(t))^3"
      ]
     },
     "execution_count": 5,
     "metadata": {},
     "output_type": "execute_result"
    }
   ],
   "source": [
    "# Build expanded state vector\n",
    "y = buildstatevector(states, 3)"
   ]
  },
  {
   "cell_type": "code",
   "execution_count": 6,
   "metadata": {},
   "outputs": [
    {
     "data": {
      "text/latex": [
       "\\begin{equation}\n",
       "\\left[\n",
       "\\begin{array}{c}\n",
       "\\frac{dx(t)}{dt} \\\\\n",
       "\\mathrm{\\frac{d}{d t}}\\left( \\frac{dx(t)}{dt} \\right) \\\\\n",
       "2 x\\left( t \\right) \\frac{dx(t)}{dt} \\\\\n",
       "x\\left( t \\right) \\mathrm{\\frac{d}{d t}}\\left( \\frac{dx(t)}{dt} \\right) + \\left( \\frac{dx(t)}{dt} \\right)^{2} \\\\\n",
       "2 \\frac{dx(t)}{dt} \\mathrm{\\frac{d}{d t}}\\left( \\frac{dx(t)}{dt} \\right) \\\\\n",
       "3 \\left( x\\left( t \\right) \\right)^{2} \\frac{dx(t)}{dt} \\\\\n",
       "\\left( x\\left( t \\right) \\right)^{2} \\mathrm{\\frac{d}{d t}}\\left( \\frac{dx(t)}{dt} \\right) + 2 \\left( \\frac{dx(t)}{dt} \\right)^{2} x\\left( t \\right) \\\\\n",
       "\\left( \\frac{dx(t)}{dt} \\right)^{3} + 2 x\\left( t \\right) \\frac{dx(t)}{dt} \\mathrm{\\frac{d}{d t}}\\left( \\frac{dx(t)}{dt} \\right) \\\\\n",
       "3 \\left( \\frac{dx(t)}{dt} \\right)^{2} \\mathrm{\\frac{d}{d t}}\\left( \\frac{dx(t)}{dt} \\right) \\\\\n",
       "\\end{array}\n",
       "\\right]\n",
       "\\end{equation}\n"
      ],
      "text/plain": [
       "9-element Vector{Num}:\n",
       "           Differential(t)(x(t))\n",
       "           Differential(t)(Differential(t)(x(t)))\n",
       "     2x(t)*Differential(t)(x(t))\n",
       "      x(t)*Differential(t)(Differential(t)(x(t))) + Differential(t)(x(t))^2\n",
       "          2Differential(t)(x(t))*Differential(t)(Differential(t)(x(t)))\n",
       " 3(x(t)^2)*Differential(t)(x(t))\n",
       "  (x(t)^2)*Differential(t)(Differential(t)(x(t))) + 2(Differential(t)(x(t))^2)*x(t)\n",
       "           Differential(t)(x(t))^3 + 2x(t)*Differential(t)(x(t))*Differential(t)(Differential(t)(x(t)))\n",
       "         3(Differential(t)(x(t))^2)*Differential(t)(Differential(t)(x(t)))"
      ]
     },
     "execution_count": 6,
     "metadata": {},
     "output_type": "execute_result"
    }
   ],
   "source": [
    "# Form expanded state derivative\n",
    "ydot = expand_derivatives.(Dt.(y))"
   ]
  },
  {
   "cell_type": "code",
   "execution_count": 7,
   "metadata": {},
   "outputs": [
    {
     "data": {
      "text/latex": [
       "\\begin{equation}\n",
       "\\left[\n",
       "\\begin{array}{c}\n",
       "\\frac{dx(t)}{dt} \\\\\n",
       "0.5 \\tau + 0.1 \\frac{dx(t)}{dt} - 2.1 \\sin\\left( _{x0{_1}} \\right) + 1.05 \\left(  - _{x0{_1}} + x\\left( t \\right) \\right)^{2} \\sin\\left( _{x0{_1}} \\right) + 0.35 \\left(  - _{x0{_1}} + x\\left( t \\right) \\right)^{3} \\cos\\left( _{x0{_1}} \\right) - 2.1 \\left(  - _{x0{_1}} + x\\left( t \\right) \\right) \\cos\\left( _{x0{_1}} \\right) \\\\\n",
       "2 x\\left( t \\right) \\frac{dx(t)}{dt} \\\\\n",
       "\\left( 0.5 \\tau + 0.1 \\frac{dx(t)}{dt} - 2.1 \\sin\\left( _{x0{_1}} \\right) + 1.05 \\left(  - _{x0{_1}} + x\\left( t \\right) \\right)^{2} \\sin\\left( _{x0{_1}} \\right) + 0.35 \\left(  - _{x0{_1}} + x\\left( t \\right) \\right)^{3} \\cos\\left( _{x0{_1}} \\right) - 2.1 \\left(  - _{x0{_1}} + x\\left( t \\right) \\right) \\cos\\left( _{x0{_1}} \\right) \\right) x\\left( t \\right) + \\left( \\frac{dx(t)}{dt} \\right)^{2} \\\\\n",
       "2 \\left( 0.5 \\tau + 0.1 \\frac{dx(t)}{dt} - 2.1 \\sin\\left( _{x0{_1}} \\right) + 1.05 \\left(  - _{x0{_1}} + x\\left( t \\right) \\right)^{2} \\sin\\left( _{x0{_1}} \\right) + 0.35 \\left(  - _{x0{_1}} + x\\left( t \\right) \\right)^{3} \\cos\\left( _{x0{_1}} \\right) - 2.1 \\left(  - _{x0{_1}} + x\\left( t \\right) \\right) \\cos\\left( _{x0{_1}} \\right) \\right) \\frac{dx(t)}{dt} \\\\\n",
       "3 \\left( x\\left( t \\right) \\right)^{2} \\frac{dx(t)}{dt} \\\\\n",
       "\\left( x\\left( t \\right) \\right)^{2} \\left( 0.5 \\tau + 0.1 \\frac{dx(t)}{dt} - 2.1 \\sin\\left( _{x0{_1}} \\right) + 1.05 \\left(  - _{x0{_1}} + x\\left( t \\right) \\right)^{2} \\sin\\left( _{x0{_1}} \\right) + 0.35 \\left(  - _{x0{_1}} + x\\left( t \\right) \\right)^{3} \\cos\\left( _{x0{_1}} \\right) - 2.1 \\left(  - _{x0{_1}} + x\\left( t \\right) \\right) \\cos\\left( _{x0{_1}} \\right) \\right) + 2 \\left( \\frac{dx(t)}{dt} \\right)^{2} x\\left( t \\right) \\\\\n",
       "\\left( \\frac{dx(t)}{dt} \\right)^{3} + 2 \\left( 0.5 \\tau + 0.1 \\frac{dx(t)}{dt} - 2.1 \\sin\\left( _{x0{_1}} \\right) + 1.05 \\left(  - _{x0{_1}} + x\\left( t \\right) \\right)^{2} \\sin\\left( _{x0{_1}} \\right) + 0.35 \\left(  - _{x0{_1}} + x\\left( t \\right) \\right)^{3} \\cos\\left( _{x0{_1}} \\right) - 2.1 \\left(  - _{x0{_1}} + x\\left( t \\right) \\right) \\cos\\left( _{x0{_1}} \\right) \\right) x\\left( t \\right) \\frac{dx(t)}{dt} \\\\\n",
       "3 \\left( \\frac{dx(t)}{dt} \\right)^{2} \\left( 0.5 \\tau + 0.1 \\frac{dx(t)}{dt} - 2.1 \\sin\\left( _{x0{_1}} \\right) + 1.05 \\left(  - _{x0{_1}} + x\\left( t \\right) \\right)^{2} \\sin\\left( _{x0{_1}} \\right) + 0.35 \\left(  - _{x0{_1}} + x\\left( t \\right) \\right)^{3} \\cos\\left( _{x0{_1}} \\right) - 2.1 \\left(  - _{x0{_1}} + x\\left( t \\right) \\right) \\cos\\left( _{x0{_1}} \\right) \\right) \\\\\n",
       "\\end{array}\n",
       "\\right]\n",
       "\\end{equation}\n"
      ],
      "text/plain": [
       "9-element Vector{Num}:\n",
       "           Differential(t)(x(t))\n",
       "            0.5τ + 0.1Differential(t)(x(t)) + 1.05((x(t) - _x0₁)^2)*sin(_x0₁) + 0.35((x(t) - _x0₁)^3)*cos(_x0₁) - 2.1sin(_x0₁) - 2.1(x(t) - _x0₁)*cos(_x0₁)\n",
       "     2x(t)*Differential(t)(x(t))\n",
       "           (0.5τ + 0.1Differential(t)(x(t)) + 1.05((x(t) - _x0₁)^2)*sin(_x0₁) + 0.35((x(t) - _x0₁)^3)*cos(_x0₁) - 2.1sin(_x0₁) - 2.1(x(t) - _x0₁)*cos(_x0₁))*x(t) + Differential(t)(x(t))^2\n",
       "          2(0.5τ + 0.1Differential(t)(x(t)) + 1.05((x(t) - _x0₁)^2)*sin(_x0₁) + 0.35((x(t) - _x0₁)^3)*cos(_x0₁) - 2.1sin(_x0₁) - 2.1(x(t) - _x0₁)*cos(_x0₁))*Differential(t)(x(t))\n",
       " 3(x(t)^2)*Differential(t)(x(t))\n",
       "           (0.5τ + 0.1Differential(t)(x(t)) + 1.05((x(t) - _x0₁)^2)*sin(_x0₁) + 0.35((x(t) - _x0₁)^3)*cos(_x0₁) - 2.1sin(_x0₁) - 2.1(x(t) - _x0₁)*cos(_x0₁))*(x(t)^2) + 2(Differential(t)(x(t))^2)*x(t)\n",
       "           Differential(t)(x(t))^3 + 2(0.5τ + 0.1Differential(t)(x(t)) + 1.05((x(t) - _x0₁)^2)*sin(_x0₁) + 0.35((x(t) - _x0₁)^3)*cos(_x0₁) - 2.1sin(_x0₁) - 2.1(x(t) - _x0₁)*cos(_x0₁))*x(t)*Differential(t)(x(t))\n",
       "          3(0.5τ + 0.1Differential(t)(x(t)) + 1.05((x(t) - _x0₁)^2)*sin(_x0₁) + 0.35((x(t) - _x0₁)^3)*cos(_x0₁) - 2.1sin(_x0₁) - 2.1(x(t) - _x0₁)*cos(_x0₁))*(Differential(t)(x(t))^2)"
      ]
     },
     "execution_count": 7,
     "metadata": {},
     "output_type": "execute_result"
    }
   ],
   "source": [
    "# Substitute in the approximate dynamics\n",
    "subs = Dict(Dt(states[i])=>approx_dynamics[i] for i = 1:length(states))\n",
    "ydot_approx = map(ydot) do yi\n",
    "    substitute(yi, subs)\n",
    "end"
   ]
  },
  {
   "cell_type": "code",
   "execution_count": 8,
   "metadata": {},
   "outputs": [],
   "source": [
    "# Build symbolic sparse matrices\n",
    "Asym = getAsym(ydot_approx, y, controls)\n",
    "Bsym = getBsym(ydot_approx, y, controls)\n",
    "Csym = getCsym(ydot_approx, y, controls)\n",
    "Dsym = getDsym(ydot_approx, y, controls);"
   ]
  },
  {
   "cell_type": "code",
   "execution_count": 9,
   "metadata": {},
   "outputs": [
    {
     "data": {
      "text/latex": [
       "\\begin{equation}\n",
       "\\left[\n",
       "\\begin{array}{ccccccccc}\n",
       "0 & 1 & 0 & 0 & 0 & 0 & 0 & 0 & 0 \\\\\n",
       " - 2.1 \\cos\\left( _{x0{_1}} \\right) + 1.0499999999999998 _{x0{_1}}^{2} \\cos\\left( _{x0{_1}} \\right) - 2.1 _{x0{_1}} \\sin\\left( _{x0{_1}} \\right) & 0.1 & 1.05 \\sin\\left( _{x0{_1}} \\right) - 1.0499999999999998 _{x0{_1}} \\cos\\left( _{x0{_1}} \\right) & 0 & 0 & 0.35 \\cos\\left( _{x0{_1}} \\right) & 0 & 0 & 0 \\\\\n",
       "0 & 0 & 0 & 2 & 0 & 0 & 0 & 0 & 0 \\\\\n",
       " - 2.1 \\sin\\left( _{x0{_1}} \\right) + 2.1 _{x0{_1}} \\cos\\left( _{x0{_1}} \\right) + 1.05 _{x0{_1}}^{2} \\sin\\left( _{x0{_1}} \\right) - 0.35 _{x0{_1}}^{3} \\cos\\left( _{x0{_1}} \\right) & 0 &  - 2.1 \\cos\\left( _{x0{_1}} \\right) + 1.0499999999999998 _{x0{_1}}^{2} \\cos\\left( _{x0{_1}} \\right) - 2.1 _{x0{_1}} \\sin\\left( _{x0{_1}} \\right) & 0.1 & 1 & 1.05 \\sin\\left( _{x0{_1}} \\right) - 1.0499999999999998 _{x0{_1}} \\cos\\left( _{x0{_1}} \\right) & 0 & 0 & 0 \\\\\n",
       "0 &  - 4.2 \\sin\\left( _{x0{_1}} \\right) + 4.2 _{x0{_1}} \\cos\\left( _{x0{_1}} \\right) + 2.1 _{x0{_1}}^{2} \\sin\\left( _{x0{_1}} \\right) - 0.7 _{x0{_1}}^{3} \\cos\\left( _{x0{_1}} \\right) & 0 &  - 4.2 \\cos\\left( _{x0{_1}} \\right) + 2.0999999999999996 _{x0{_1}}^{2} \\cos\\left( _{x0{_1}} \\right) - 4.2 _{x0{_1}} \\sin\\left( _{x0{_1}} \\right) & 0.2 & 0 & 2.1 \\sin\\left( _{x0{_1}} \\right) - 2.0999999999999996 _{x0{_1}} \\cos\\left( _{x0{_1}} \\right) & 0 & 0 \\\\\n",
       "0 & 0 & 0 & 0 & 0 & 0 & 3 & 0 & 0 \\\\\n",
       "0 & 0 &  - 2.1 \\sin\\left( _{x0{_1}} \\right) + 2.1 _{x0{_1}} \\cos\\left( _{x0{_1}} \\right) + 1.05 _{x0{_1}}^{2} \\sin\\left( _{x0{_1}} \\right) - 0.35 _{x0{_1}}^{3} \\cos\\left( _{x0{_1}} \\right) & 0 & 0 &  - 2.1 \\cos\\left( _{x0{_1}} \\right) + 1.0499999999999998 _{x0{_1}}^{2} \\cos\\left( _{x0{_1}} \\right) - 2.1 _{x0{_1}} \\sin\\left( _{x0{_1}} \\right) & 0.1 & 2.0 & 0 \\\\\n",
       "0 & 0 & 0 &  - 4.2 \\sin\\left( _{x0{_1}} \\right) + 4.2 _{x0{_1}} \\cos\\left( _{x0{_1}} \\right) + 2.1 _{x0{_1}}^{2} \\sin\\left( _{x0{_1}} \\right) - 0.7 _{x0{_1}}^{3} \\cos\\left( _{x0{_1}} \\right) & 0 & 0 &  - 4.2 \\cos\\left( _{x0{_1}} \\right) + 2.0999999999999996 _{x0{_1}}^{2} \\cos\\left( _{x0{_1}} \\right) - 4.2 _{x0{_1}} \\sin\\left( _{x0{_1}} \\right) & 0.2 & 1 \\\\\n",
       "0 & 0 & 0 & 0 &  - 6.300000000000001 \\sin\\left( _{x0{_1}} \\right) + 6.300000000000001 _{x0{_1}} \\cos\\left( _{x0{_1}} \\right) + 3.1500000000000004 _{x0{_1}}^{2} \\sin\\left( _{x0{_1}} \\right) - 1.0499999999999998 _{x0{_1}}^{3} \\cos\\left( _{x0{_1}} \\right) & 0 & 0 &  - 6.300000000000001 \\cos\\left( _{x0{_1}} \\right) + 3.1499999999999995 _{x0{_1}}^{2} \\cos\\left( _{x0{_1}} \\right) - 6.300000000000001 _{x0{_1}} \\sin\\left( _{x0{_1}} \\right) & 0.30000000000000004 \\\\\n",
       "\\end{array}\n",
       "\\right]\n",
       "\\end{equation}\n"
      ],
      "text/plain": [
       "9×9 SparseMatrixCSC{Num, Int64} with 27 stored entries:\n",
       " ⋅                                                                                   …  ⋅\n",
       " 1.05(_x0₁^2)*cos(_x0₁) - 2.1cos(_x0₁) - 2.1_x0₁*sin(_x0₁)                              ⋅\n",
       " ⋅                                                                                      ⋅\n",
       " 2.1_x0₁*cos(_x0₁) + 1.05(_x0₁^2)*sin(_x0₁) - 2.1sin(_x0₁) - 0.35(_x0₁^3)*cos(_x0₁)     ⋅\n",
       " ⋅                                                                                      ⋅\n",
       " ⋅                                                                                   …  ⋅\n",
       " ⋅                                                                                      ⋅\n",
       " ⋅                                                                                      1\n",
       " ⋅                                                                                      0.3"
      ]
     },
     "execution_count": 9,
     "metadata": {},
     "output_type": "execute_result"
    }
   ],
   "source": [
    "Asym"
   ]
  },
  {
   "cell_type": "code",
   "execution_count": 10,
   "metadata": {},
   "outputs": [],
   "source": [
    "# Build expressions for updating A,B,C,D\n",
    "updateA_expr, updateB_expr, updateC_expr, updateD_expr = \n",
    "    build_bilinear_dynamics_functions(Asym, Bsym, Csym, Dsym, states0, controls);"
   ]
  },
  {
   "cell_type": "code",
   "execution_count": 11,
   "metadata": {},
   "outputs": [
    {
     "data": {
      "text/plain": [
       "quote\n",
       "    \u001b[90m#= /home/brian/.julia/dev/BilinearControl/examples/taylorseries.jl:380 =#\u001b[39m\n",
       "    function (A, x0)\n",
       "        \u001b[90m#= /home/brian/.julia/dev/BilinearControl/examples/taylorseries.jl:380 =#\u001b[39m\n",
       "        \u001b[90m#= /home/brian/.julia/dev/BilinearControl/examples/taylorseries.jl:381 =#\u001b[39m\n",
       "        _x0 = x0\n",
       "        \u001b[90m#= /home/brian/.julia/dev/BilinearControl/examples/taylorseries.jl:383 =#\u001b[39m\n",
       "        nzval = A.nzval\n",
       "        \u001b[90m#= /home/brian/.julia/dev/BilinearControl/examples/taylorseries.jl:384 =#\u001b[39m\n",
       "        nzval[1] = (+)((+)((*)(-2.1, (cos)((getindex)(_x0, 1))), (*)((*)(1.0499999999999998, (^)((getindex)(_x0, 1), 2)), (cos)((getindex)(_x0, 1)))), (*)((*)(-2.1, (sin)((getindex)(_x0, 1))), (getindex)(_x0, 1)))\n",
       "        nzval[2] = (+)((+)((+)((*)(-2.1, (sin)((getindex)(_x0, 1))), (*)((*)(1.05, (^)((getindex)(_x0, 1), 2)), (sin)((getindex)(_x0, 1)))), (*)((*)(-0.35, (^)((getindex)(_x0, 1), 3)), (cos)((getindex)(_x0, 1)))), (*)((*)(2.1, (cos)((getindex)(_x0, 1))), (getindex)(_x0, 1)))\n",
       "        nzval[3] = 1\n",
       "        nzval[4] = 0.1\n",
       "        nzval[5] = (+)((+)((+)((*)(-4.2, (sin)((getindex)(_x0, 1))), (*)((*)(2.1, (^)((getindex)(_x0, 1), 2)), (sin)((getindex)(_x0, 1)))), (*)((*)(-0.7, (^)((getindex)(_x0, 1), 3)), (cos)((getindex)(_x0, 1)))), (*)((*)(4.2, (cos)((getindex)(_x0, 1))), (getindex)(_x0, 1)))\n",
       "        nzval[6] = (+)((*)(1.05, (sin)((getindex)(_x0, 1))), (*)((*)(-1.0499999999999998, (cos)((getindex)(_x0, 1))), (getindex)(_x0, 1)))\n",
       "        nzval[7] = (+)((+)((*)(-2.1, (cos)((getindex)(_x0, 1))), (*)((*)(1.0499999999999998, (^)((getindex)(_x0, 1), 2)), (cos)((getindex)(_x0, 1)))), (*)((*)(-2.1, (sin)((getindex)(_x0, 1))), (getindex)(_x0, 1)))\n",
       "        nzval[8] = (+)((+)((+)((*)(-2.1, (sin)((getindex)(_x0, 1))), (*)((*)(1.05, (^)((getindex)(_x0, 1), 2)), (sin)((getindex)(_x0, 1)))), (*)((*)(-0.35, (^)((getindex)(_x0, 1), 3)), (cos)((getindex)(_x0, 1)))), (*)((*)(2.1, (cos)((getindex)(_x0, 1))), (getindex)(_x0, 1)))\n",
       "        nzval[9] = 2\n",
       "        nzval[10] = 0.1\n",
       "        nzval[11] = (+)((+)((*)(-4.2, (cos)((getindex)(_x0, 1))), (*)((*)(2.0999999999999996, (^)((getindex)(_x0, 1), 2)), (cos)((getindex)(_x0, 1)))), (*)((*)(-4.2, (sin)((getindex)(_x0, 1))), (getindex)(_x0, 1)))\n",
       "        nzval[12] = (+)((+)((+)((*)(-4.2, (sin)((getindex)(_x0, 1))), (*)((*)(2.1, (^)((getindex)(_x0, 1), 2)), (sin)((getindex)(_x0, 1)))), (*)((*)(-0.7, (^)((getindex)(_x0, 1), 3)), (cos)((getindex)(_x0, 1)))), (*)((*)(4.2, (cos)((getindex)(_x0, 1))), (getindex)(_x0, 1)))\n",
       "        nzval[13] = 1\n",
       "        nzval[14] = 0.2\n",
       "        nzval[15] = (+)((+)((+)((*)(-6.300000000000001, (sin)((getindex)(_x0, 1))), (*)((*)(3.1500000000000004, (^)((getindex)(_x0, 1), 2)), (sin)((getindex)(_x0, 1)))), (*)((*)(-1.0499999999999998, (^)((getindex)(_x0, 1), 3)), (cos)((getindex)(_x0, 1)))), (*)((*)(6.300000000000001, (cos)((getindex)(_x0, 1))), (getindex)(_x0, 1)))\n",
       "        nzval[16] = (*)(0.35, (cos)((getindex)(_x0, 1)))\n",
       "        nzval[17] = (+)((*)(1.05, (sin)((getindex)(_x0, 1))), (*)((*)(-1.0499999999999998, (cos)((getindex)(_x0, 1))), (getindex)(_x0, 1)))\n",
       "        nzval[18] = (+)((+)((*)(-2.1, (cos)((getindex)(_x0, 1))), (*)((*)(1.0499999999999998, (^)((getindex)(_x0, 1), 2)), (cos)((getindex)(_x0, 1)))), (*)((*)(-2.1, (sin)((getindex)(_x0, 1))), (getindex)(_x0, 1)))\n",
       "        nzval[19] = (+)((*)(2.1, (sin)((getindex)(_x0, 1))), (*)((*)(-2.0999999999999996, (cos)((getindex)(_x0, 1))), (getindex)(_x0, 1)))\n",
       "        nzval[20] = 3\n",
       "        nzval[21] = 0.1\n",
       "        nzval[22] = (+)((+)((*)(-4.2, (cos)((getindex)(_x0, 1))), (*)((*)(2.0999999999999996, (^)((getindex)(_x0, 1), 2)), (cos)((getindex)(_x0, 1)))), (*)((*)(-4.2, (sin)((getindex)(_x0, 1))), (getindex)(_x0, 1)))\n",
       "        nzval[23] = 2.0\n",
       "        nzval[24] = 0.2\n",
       "        nzval[25] = (+)((+)((*)(-6.300000000000001, (cos)((getindex)(_x0, 1))), (*)((*)(3.1499999999999995, (^)((getindex)(_x0, 1), 2)), (cos)((getindex)(_x0, 1)))), (*)((*)(-6.300000000000001, (sin)((getindex)(_x0, 1))), (getindex)(_x0, 1)))\n",
       "        nzval[26] = 1\n",
       "        nzval[27] = 0.30000000000000004\n",
       "        \u001b[90m#= /home/brian/.julia/dev/BilinearControl/examples/taylorseries.jl:385 =#\u001b[39m\n",
       "        return A\n",
       "    end\n",
       "end"
      ]
     },
     "execution_count": 11,
     "metadata": {},
     "output_type": "execute_result"
    }
   ],
   "source": [
    "updateA_expr"
   ]
  },
  {
   "cell_type": "code",
   "execution_count": 12,
   "metadata": {},
   "outputs": [],
   "source": [
    "# Evaluate the expressions to build the functions\n",
    "pendulum_updateA! = eval(updateA_expr)\n",
    "pendulum_updateB! = eval(updateB_expr)\n",
    "pendulum_updateC! = eval(updateC_expr)\n",
    "pendulum_updateD! = eval(updateD_expr);\n",
    "# pendulum_expand! = eval(state_expand_expr)"
   ]
  },
  {
   "cell_type": "code",
   "execution_count": 13,
   "metadata": {},
   "outputs": [],
   "source": [
    "# Build the function to build the expanded state vector\n",
    "state_expand_expr = build_expanded_vector_function(y)\n",
    "pendulum_expand! = eval(state_expand_expr);"
   ]
  },
  {
   "cell_type": "code",
   "execution_count": 14,
   "metadata": {},
   "outputs": [
    {
     "data": {
      "text/plain": [
       "0.0006842232718358154"
      ]
     },
     "execution_count": 14,
     "metadata": {},
     "output_type": "execute_result"
    }
   ],
   "source": [
    "# Test the dynamics\n",
    "x0_ = zeros(length(states))\n",
    "x_ = [deg2rad(30), deg2rad(10)]\n",
    "y_ = zeros(length(y))\n",
    "u_ = [0.5]\n",
    "pendulum_expand!(y_, x_)\n",
    "\n",
    "# Create matrices \n",
    "A = similar(Asym, Float64)\n",
    "B = similar(Bsym, Float64)\n",
    "C = [similar(C, Float64) for C in Csym]\n",
    "D = similar(Dsym, Float64)\n",
    "\n",
    "# Update matrices (updates the nonzeros vector directly)\n",
    "pendulum_updateA!(A, x0_)\n",
    "pendulum_updateB!(B, x0_)\n",
    "pendulum_updateC!(C, x0_)\n",
    "pendulum_updateD!(D, x0_)\n",
    "\n",
    "ydot_ = A*y_ + B*u_ + u_[1]*C[1]*y_ + D\n",
    "xdot1 = ydot_[1:2]\n",
    "xdot0 = pendulum_dynamics(x_, u_)\n",
    "norm(xdot1 - xdot0)"
   ]
  },
  {
   "cell_type": "code",
   "execution_count": 18,
   "metadata": {},
   "outputs": [],
   "source": [
    "using Plots"
   ]
  },
  {
   "cell_type": "code",
   "execution_count": 19,
   "metadata": {},
   "outputs": [],
   "source": [
    "thetas = range(-pi,pi,length=101)\n",
    "X = [[theta; 0] for theta in thetas]\n",
    "u = [0.5]\n",
    "x0 = zeros(2);"
   ]
  },
  {
   "cell_type": "code",
   "execution_count": 20,
   "metadata": {},
   "outputs": [
    {
     "name": "stdout",
     "output_type": "stream",
     "text": [
      "  0.548980 seconds (2.62 M allocations: 104.609 MiB, 5.66% gc time, 56.14% compilation time)\n"
     ]
    },
    {
     "data": {
      "text/plain": [
       "101-element Vector{Float64}:\n",
       " 4.25485226556637\n",
       " 3.880463256373423\n",
       " 3.5310782226056228\n",
       " 3.2056579210243203\n",
       " 2.903167207780972\n",
       " 2.6225770678811786\n",
       " 2.3628666204609328\n",
       " 2.1230250919611584\n",
       " 1.9020537494133551\n",
       " 1.6989677862065127\n",
       " 1.5127981528930674\n",
       " 1.3425933258085407\n",
       " 1.187421006524888\n",
       " ⋮\n",
       " 1.3425933258085407\n",
       " 1.5127981528930674\n",
       " 1.6989677862065127\n",
       " 1.9020537494133551\n",
       " 2.1230250919611584\n",
       " 2.3628666204609328\n",
       " 2.6225770678811786\n",
       " 2.903167207780972\n",
       " 3.2056579210243203\n",
       " 3.5310782226056228\n",
       " 3.880463256373423\n",
       " 4.25485226556637"
      ]
     },
     "execution_count": 20,
     "metadata": {},
     "output_type": "execute_result"
    }
   ],
   "source": [
    "order = 3\n",
    "@time bilinear_pendulum = bilinearize_dynamics(pendulum_dynamics, states, controls, t, order)\n",
    "\n",
    "state_expand_expr = build_expanded_vector_function(bilinear_pendulum)\n",
    "\n",
    "updateA_expr, updateB_expr, updateC_expr, updateD_expr = \n",
    "    build_bilinear_dynamics_functions(bilinear_pendulum)\n",
    "\n",
    "_pendulum_updateA! = eval(updateA_expr)\n",
    "_pendulum_updateB! = eval(updateB_expr)\n",
    "_pendulum_updateC! = eval(updateC_expr)\n",
    "_pendulum_updateD! = eval(updateD_expr)\n",
    "_pendulum_expand! = eval(state_expand_expr)\n",
    "\n",
    "A = similar(bilinear_pendulum.A, Float64)\n",
    "B = similar(bilinear_pendulum.B, Float64)\n",
    "C = [similar(C, Float64) for C in bilinear_pendulum.C]\n",
    "D = similar(bilinear_pendulum.D, Float64)\n",
    "\n",
    "# Update matrices\n",
    "y = zeros(bilinear_pendulum.n)\n",
    "err = map(X) do x\n",
    "    _pendulum_expand!(y, x)\n",
    "    _pendulum_updateA!(A, x0)\n",
    "    _pendulum_updateB!(B, x0)\n",
    "    _pendulum_updateC!(C, x0)\n",
    "    _pendulum_updateD!(D, x0)\n",
    "    ydot = A*y + B*u + u[1]*C[1]*y + D\n",
    "    xdot1 = ydot[1:2]\n",
    "    xdot0 = pendulum_dynamics(x, u)\n",
    "    norm(xdot1 - xdot0)\n",
    "end\n"
   ]
  },
  {
   "cell_type": "code",
   "execution_count": 16,
   "metadata": {},
   "outputs": [],
   "source": [
    "using Plots"
   ]
  },
  {
   "cell_type": "code",
   "execution_count": 24,
   "metadata": {},
   "outputs": [
    {
     "name": "stdout",
     "output_type": "stream",
     "text": [
      "  0.314206 seconds (2.43 M allocations: 92.874 MiB, 5.88% gc time, 11.12% compilation time)\n"
     ]
    },
    {
     "ename": "LoadError",
     "evalue": "MethodError: no method matching (::var\"#96#97\")(::SparseMatrixCSC{Float64, Int64}, ::Vector{Float64})\nThe applicable method may be too new: running in world age 31662, while current world is 31667.\n\u001b[0mClosest candidates are:\n\u001b[0m  (::var\"#96#97\")(::Any, ::Any) at ~/.julia/dev/BilinearControl/examples/taylorseries.jl:380 (method too new to be called from this world context.)",
     "output_type": "error",
     "traceback": [
      "MethodError: no method matching (::var\"#96#97\")(::SparseMatrixCSC{Float64, Int64}, ::Vector{Float64})\nThe applicable method may be too new: running in world age 31662, while current world is 31667.\n\u001b[0mClosest candidates are:\n\u001b[0m  (::var\"#96#97\")(::Any, ::Any) at ~/.julia/dev/BilinearControl/examples/taylorseries.jl:380 (method too new to be called from this world context.)",
      "",
      "Stacktrace:",
      " [1] (::var\"#91#93\"{Vector{Float64}, Vector{Float64}, Vector{Float64}, SparseMatrixCSC{Float64, Int64}, Vector{SparseMatrixCSC{Float64, Int64}}, SparseMatrixCSC{Float64, Int64}, SparseMatrixCSC{Float64, Int64}, typeof(expand!), var\"#102#103\", var\"#100#101\", var\"#98#99\", var\"#96#97\"})(x::Vector{Float64})",
      "   @ Main ./In[22]:24",
      " [2] iterate",
      "   @ ./generator.jl:47 [inlined]",
      " [3] _collect",
      "   @ ./array.jl:744 [inlined]",
      " [4] collect_similar(cont::Vector{Vector{Float64}}, itr::Base.Generator{Vector{Vector{Float64}}, var\"#91#93\"{Vector{Float64}, Vector{Float64}, Vector{Float64}, SparseMatrixCSC{Float64, Int64}, Vector{SparseMatrixCSC{Float64, Int64}}, SparseMatrixCSC{Float64, Int64}, SparseMatrixCSC{Float64, Int64}, typeof(expand!), var\"#102#103\", var\"#100#101\", var\"#98#99\", var\"#96#97\"}})",
      "   @ Base ./array.jl:653",
      " [5] map(f::Function, A::Vector{Vector{Float64}})",
      "   @ Base ./abstractarray.jl:2849",
      " [6] dynamics_error(X::Vector{Vector{Float64}}, x0::Vector{Float64}, u::Vector{Float64}, order::Int64)",
      "   @ Main ./In[22]:22",
      " [7] top-level scope",
      "   @ In[24]:5",
      " [8] eval",
      "   @ ./boot.jl:373 [inlined]",
      " [9] include_string(mapexpr::typeof(REPL.softscope), mod::Module, code::String, filename::String)",
      "   @ Base ./loading.jl:1196"
     ]
    }
   ],
   "source": [
    "thetas = range(-pi,pi,length=101)\n",
    "X = [[theta; 0] for theta in thetas]\n",
    "u = [0.5]\n",
    "x0 = zeros(2)\n",
    "err = dynamics_error(X, x0, u, 3)\n",
    "plot(thetas, err)"
   ]
  },
  {
   "cell_type": "code",
   "execution_count": null,
   "metadata": {},
   "outputs": [],
   "source": [
    "function geterr"
   ]
  }
 ],
 "metadata": {
  "kernelspec": {
   "display_name": "Julia 1.7.1",
   "language": "julia",
   "name": "julia-1.7"
  },
  "language_info": {
   "file_extension": ".jl",
   "mimetype": "application/julia",
   "name": "julia",
   "version": "1.7.1"
  }
 },
 "nbformat": 4,
 "nbformat_minor": 2
}
