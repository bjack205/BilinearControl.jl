{
 "cells": [
  {
   "cell_type": "code",
   "execution_count": 141,
   "metadata": {},
   "outputs": [],
   "source": [
    "using RobotZoo\n",
    "using RobotDynamics\n",
    "using LinearAlgebra\n",
    "using StaticArrays\n",
    "using SparseArrays\n",
    "using MeshCat, GeometryBasics, Colors, CoordinateTransformations, Rotations\n",
    "using Plots\n",
    "using Convex\n",
    "using SCS"
   ]
  },
  {
   "cell_type": "code",
   "execution_count": 122,
   "metadata": {},
   "outputs": [
    {
     "data": {
      "text/plain": [
       "RobotDynamics"
      ]
     },
     "execution_count": 122,
     "metadata": {},
     "output_type": "execute_result"
    }
   ],
   "source": [
    "const RD = RobotDynamics"
   ]
  },
  {
   "cell_type": "code",
   "execution_count": 123,
   "metadata": {},
   "outputs": [
    {
     "data": {
      "text/plain": [
       "visualize! (generic function with 1 method)"
      ]
     },
     "execution_count": 123,
     "metadata": {},
     "output_type": "execute_result"
    }
   ],
   "source": [
    "function defcolor(c1, c2, c1def, c2def)\n",
    "    if !isnothing(c1) && isnothing(c2)\n",
    "        c2 = c1\n",
    "    else\n",
    "        c1 = isnothing(c1) ? c1def : c1\n",
    "        c2 = isnothing(c2) ? c2def : c2\n",
    "    end\n",
    "    c1,c2\n",
    "end\n",
    "\n",
    "function set_mesh!(vis0, model::RobotZoo.Pendulum; \n",
    "    color=nothing, color2=nothing)\n",
    "    \n",
    "    vis = vis0[\"robot\"]\n",
    "    dim = Vec(0.1, 0.3, 0.1)\n",
    "    cart = Rect3D(-dim/2, dim)\n",
    "    hinge = Cylinder(Point3f0(-dim[1]/2,0,dim[3]/2), Point3f0(dim[1],0,dim[3]/2), 0.03f0)\n",
    "    c1,c2 = defcolor(color,color2, colorant\"blue\", colorant\"red\")\n",
    "\n",
    "    pole = Cylinder(Point3f0(0,0,0),Point3f0(0,0,model.len),0.01f0)\n",
    "    mass = HyperSphere(Point3f0(0,0,model.len), 0.05f0)\n",
    "    setobject!(vis[\"cart\",\"box\"],   cart, MeshPhongMaterial(color=isnothing(color) ? colorant\"green\" : color))\n",
    "    setobject!(vis[\"cart\",\"hinge\"], hinge, MeshPhongMaterial(color=colorant\"black\"))\n",
    "    setobject!(vis[\"cart\",\"pole\",\"geom\",\"cyl\"], pole, MeshPhongMaterial(color=c1))\n",
    "    setobject!(vis[\"cart\",\"pole\",\"geom\",\"mass\"], mass, MeshPhongMaterial(color=c2))\n",
    "    settransform!(vis[\"cart\",\"pole\"], Translation(0.75*dim[1],0,dim[3]/2))\n",
    "end\n",
    "\n",
    "function visualize_state!(vis, model::RobotZoo.Pendulum, x)\n",
    "    θ = x[1]\n",
    "    q = expm((pi-θ) * @SVector [1,0,0])\n",
    "    settransform!(vis[\"robot\",\"cart\",\"pole\",\"geom\"], LinearMap(UnitQuaternion(q)))\n",
    "end\n",
    "\n",
    "function visualize!(vis, model::RobotDynamics.AbstractModel, tf::Real, X)\n",
    "    fps = Int(round((length(X)-1)/tf))\n",
    "    anim = MeshCat.Animation(fps)\n",
    "    n = state_dim(model)\n",
    "    for (k,x) in enumerate(X)\n",
    "        atframe(anim, k) do\n",
    "            x = X[k]\n",
    "            visualize_state!(vis, model, SVector{n}(x)) \n",
    "        end\n",
    "    end\n",
    "    setanimation!(vis, anim)\n",
    "end"
   ]
  },
  {
   "cell_type": "code",
   "execution_count": 124,
   "metadata": {},
   "outputs": [
    {
     "data": {
      "text/plain": [
       "create_U (generic function with 1 method)"
      ]
     },
     "execution_count": 124,
     "metadata": {},
     "output_type": "execute_result"
    }
   ],
   "source": [
    "function create_U(num_knots, m, U_type::String)\n",
    "\n",
    "    if U_type == \"constant\"\n",
    "        u0 = 2 .* ones(m)\n",
    "    elseif U_type == \"random\"\n",
    "        u0 = 0.01 .* ones(m)\n",
    "    end\n",
    "\n",
    "    U = [u0]\n",
    "\n",
    "    for k in 1:(num_knots-1)\n",
    "\n",
    "        if U_type == \"constant\"\n",
    "            u = 2 .* ones(m)\n",
    "        elseif U_type == \"random\"\n",
    "            u = -5 .+ (10*rand(Float64, m))\n",
    "        end\n",
    "\n",
    "        push!(U, u)\n",
    "\n",
    "    end\n",
    "    \n",
    "    return U\n",
    "\n",
    "end"
   ]
  },
  {
   "cell_type": "code",
   "execution_count": 125,
   "metadata": {},
   "outputs": [
    {
     "data": {
      "text/plain": [
       "create_training_U (generic function with 1 method)"
      ]
     },
     "execution_count": 125,
     "metadata": {},
     "output_type": "execute_result"
    }
   ],
   "source": [
    "function create_training_U(num_knots, m)\n",
    "\n",
    "    u0 = -3 .* ones(m)\n",
    "    U = [u0]\n",
    "\n",
    "    for k in 1:(num_knots-1)\n",
    "\n",
    "        u = -3 .+ (6*rand(Float64, m))\n",
    "        push!(U, u)\n",
    "\n",
    "    end\n",
    "\n",
    "    # for k in (Int(round((num_knots-1)/2) + 1)) : (num_knots - 1)\n",
    "\n",
    "    #     u = 2 .* ones(m)\n",
    "    #     push!(U, u)\n",
    "    # end\n",
    "    \n",
    "    # return U\n",
    "\n",
    "    # for k in 1 : (Int(round((num_knots-1)/2)))\n",
    "\n",
    "    #     u = -3 .+ (6*rand(Float64, m))\n",
    "    #     push!(U, u)\n",
    "\n",
    "    # end\n",
    "\n",
    "    # for k in (Int(round((num_knots-1)/2) + 1)) : (num_knots - 1)\n",
    "\n",
    "    #     u = -2 .* ones(m)\n",
    "    #     push!(U, u)\n",
    "    # end\n",
    "    \n",
    "    return U\n",
    "\n",
    "end"
   ]
  },
  {
   "cell_type": "code",
   "execution_count": 126,
   "metadata": {},
   "outputs": [
    {
     "data": {
      "text/plain": [
       "simulate (generic function with 1 method)"
      ]
     },
     "execution_count": 126,
     "metadata": {},
     "output_type": "execute_result"
    }
   ],
   "source": [
    "function simulate(dmodel, x0, U, dt)\n",
    "\n",
    "    t = 0.0\n",
    "    x = x0\n",
    "    X = [x]\n",
    "    T = [t]\n",
    "    \n",
    "    for k in 1:length(U)\n",
    "\n",
    "        u = U[k]\n",
    "        x = RD.discrete_dynamics(dmodel, x, u, t, dt)\n",
    "        t += dt\n",
    "        push!(X, x)\n",
    "        append!(T, t)\n",
    "\n",
    "    end\n",
    "\n",
    "    return T, X\n",
    "\n",
    "end"
   ]
  },
  {
   "cell_type": "code",
   "execution_count": 127,
   "metadata": {},
   "outputs": [
    {
     "data": {
      "text/plain": [
       "chebyshev_poly (generic function with 2 methods)"
      ]
     },
     "execution_count": 127,
     "metadata": {},
     "output_type": "execute_result"
    }
   ],
   "source": [
    "function chebyshev_poly(x, order=0)\n",
    "\n",
    "    if order == 0\n",
    "        return []\n",
    "    end\n",
    "    \n",
    "    T0 = ones(length(x))\n",
    "    T1 = x\n",
    "\n",
    "    chebyshev = [T0]\n",
    "    push!(chebyshev, T1)\n",
    "\n",
    "    for p in 2:order\n",
    "\n",
    "        next_T = (2 .* x .* chebyshev[p]) - chebyshev[p-1]\n",
    "        push!(chebyshev, next_T)\n",
    "\n",
    "    end\n",
    "\n",
    "    chebyshev = reduce(vcat, chebyshev[3:end])\n",
    "\n",
    "    return chebyshev\n",
    "    \n",
    "end"
   ]
  },
  {
   "cell_type": "code",
   "execution_count": 128,
   "metadata": {},
   "outputs": [
    {
     "data": {
      "text/plain": [
       "hermite_poly (generic function with 2 methods)"
      ]
     },
     "execution_count": 128,
     "metadata": {},
     "output_type": "execute_result"
    }
   ],
   "source": [
    "function hermite_poly(x, order=0)\n",
    "\n",
    "    if order == 0\n",
    "        return []\n",
    "    end\n",
    "    \n",
    "    T0 = ones(length(x))\n",
    "    T1 = 2 .* x\n",
    "\n",
    "    hermite = [T0]\n",
    "    push!(hermite, T1)\n",
    "\n",
    "    for p in 2:order\n",
    "\n",
    "        next_T = (2 .* x .* hermite[p]) - 2 .* p .* hermite[p-1]\n",
    "        push!(hermite, next_T)\n",
    "\n",
    "    end\n",
    "\n",
    "    hermite = reduce(vcat, hermite[3:end])\n",
    "\n",
    "    return hermite\n",
    "    \n",
    "end"
   ]
  },
  {
   "cell_type": "code",
   "execution_count": 129,
   "metadata": {},
   "outputs": [
    {
     "data": {
      "text/plain": [
       "create_mono (generic function with 2 methods)"
      ]
     },
     "execution_count": 129,
     "metadata": {},
     "output_type": "execute_result"
    }
   ],
   "source": [
    "function create_mono(x, order=0)\n",
    "\n",
    "    if order == 0\n",
    "        return []\n",
    "    end\n",
    "\n",
    "    mono_x = [x]\n",
    "    row_start_ind = ones(length(x))\n",
    "\n",
    "    for p in 2:order\n",
    "\n",
    "        prev_row_start_ind = row_start_ind\n",
    "\n",
    "        mono = x * mono_x[p-1]'\n",
    "        mono_perm = mono[1, :]\n",
    "        row_start_ind = [size(mono)[2]]\n",
    "\n",
    "        for i in 2:size(mono)[1]\n",
    "\n",
    "            row_start_ind = vcat(row_start_ind, Int(row_start_ind[i-1] - prev_row_start_ind[i-1]))\n",
    "            non_repeating_mono = mono[i, end-row_start_ind[i]+1:end]\n",
    "            mono_perm = vcat(mono_perm, non_repeating_mono)\n",
    "\n",
    "        end\n",
    "\n",
    "        push!(mono_x, mono_perm)\n",
    "\n",
    "    end\n",
    "\n",
    "    mono_x = reduce(vcat, mono_x[2:end])\n",
    "\n",
    "    return mono_x\n",
    "    \n",
    "end"
   ]
  },
  {
   "cell_type": "code",
   "execution_count": 130,
   "metadata": {},
   "outputs": [
    {
     "data": {
      "text/plain": [
       "koopman_eigenfunctions (generic function with 2 methods)"
      ]
     },
     "execution_count": 130,
     "metadata": {},
     "output_type": "execute_result"
    }
   ],
   "source": [
    "function koopman_eigenfunctions(X, U, order=5)\n",
    "\n",
    "    n = length(X[1])\n",
    "    num_p = 2*n*order\n",
    "    Z = []\n",
    "    Zu = []\n",
    "    \n",
    "    for k in 1:length(X)\n",
    "        \n",
    "        xk = X[k]\n",
    "        zk = vcat([1], xk, sin.(xk), cos.(xk), chebyshev_poly(xk, order))\n",
    "        push!(Z, zk)\n",
    "\n",
    "        if k < length(X)\n",
    "            uk = U[k]\n",
    "            zu = vcat(zk, vec(zk*uk'))\n",
    "            push!(Zu, zu)\n",
    "        end\n",
    "\n",
    "    end\n",
    "\n",
    "return Z, Zu\n",
    "\n",
    "end"
   ]
  },
  {
   "cell_type": "code",
   "execution_count": 131,
   "metadata": {},
   "outputs": [
    {
     "data": {
      "text/plain": [
       "simulate_bilinear (generic function with 1 method)"
      ]
     },
     "execution_count": 131,
     "metadata": {},
     "output_type": "execute_result"
    }
   ],
   "source": [
    "function simulate_bilinear(F, C, g, x0, z0, U)\n",
    "    \n",
    "    x = x0\n",
    "    z = z0\n",
    "    Z = [z]\n",
    "    X = [x]\n",
    "\n",
    "    for k in 1:length(U)\n",
    "\n",
    "        u = U[k]\n",
    "\n",
    "        z = F * z + (C * z) .* u\n",
    "        x = g * z\n",
    "\n",
    "        push!(Z, z)\n",
    "        push!(X, x)\n",
    "        \n",
    "    end\n",
    "\n",
    "    return X, Z\n",
    "\n",
    "end"
   ]
  },
  {
   "cell_type": "code",
   "execution_count": 135,
   "metadata": {},
   "outputs": [
    {
     "data": {
      "text/plain": [
       "regression (generic function with 3 methods)"
      ]
     },
     "execution_count": 135,
     "metadata": {},
     "output_type": "execute_result"
    }
   ],
   "source": [
    "function regression(Y, X, gamma=0, lambda=0)\n",
    "    \n",
    "    (T, K) = (size(X, 1), size(X, 2))\n",
    "\n",
    "    Q = X'X / T\n",
    "    c = X'Y / T                   #c'b = Y'X*b\n",
    "\n",
    "    b = Variable(K)               #define variables to optimize over\n",
    "    L1 = quadform(b, Q)           #b'Q*b\n",
    "    L2 = dot(c, b)                #c'b\n",
    "    L3 = norm(b, 1)               #sum(|b|)\n",
    "    L4 = sumsquares(b)            #sum(b^2)\n",
    "\n",
    "    if gamma==0 && lambda==0\n",
    "        return X \\ Y\n",
    "    end\n",
    "\n",
    "    if λ > 0\n",
    "        Sol = minimize(L1 - 2 * L2 + gamma * L3 + lambda * L4)      #u'u/T + γ*sum(|b|) + λ*sum(b^2), where u = Y-Xb\n",
    "    else\n",
    "        Sol = minimize(L1 - 2 * L2 + gamma * L3)               #u'u/T + γ*sum(|b|) where u = Y-Xb\n",
    "    end\n",
    "\n",
    "    solve!(Sol, SCS.Optimizer; silent_solver = true)\n",
    "    Sol.status == Convex.MOI.OPTIMAL ? b = vec(evaluate(b)) : b = X \\ Y\n",
    "    \n",
    "    return b\n",
    "\n",
    "end"
   ]
  },
  {
   "cell_type": "code",
   "execution_count": 136,
   "metadata": {},
   "outputs": [
    {
     "data": {
      "text/plain": [
       "RobotZoo.Pendulum{Float64, 3}(1.0, 0.5, 0.1, 0.5, 0.25, 9.81, ForwardDiff.JacobianConfig{Nothing, Float64, 3, Tuple{Vector{ForwardDiff.Dual{Nothing, Float64, 3}}, Vector{ForwardDiff.Dual{Nothing, Float64, 3}}}}((Partials(1.0, 0.0, 0.0), Partials(0.0, 1.0, 0.0), Partials(0.0, 0.0, 1.0)), (ForwardDiff.Dual{Nothing, Float64, 3}[Dual{Nothing}(6.9292152105774e-310,6.92921514684137e-310,6.92920107767073e-310,6.9292010776747e-310), Dual{Nothing}(6.92920107767863e-310,6.9292010776826e-310,6.92921614853535e-310,6.92920107768654e-310)], ForwardDiff.Dual{Nothing, Float64, 3}[Dual{Nothing}(6.92919422305376e-310,6.92919422305613e-310,6.9291942230585e-310,6.92919422306087e-310), Dual{Nothing}(6.92919422306324e-310,6.9291942230656e-310,6.929194223068e-310,6.92919422307036e-310), Dual{Nothing}(6.92919422307273e-310,6.92919422307747e-310,6.92919422307984e-310,6.92928833309853e-310)])), FiniteDiff.JacobianCache{Vector{Float64}, Vector{Float64}, Vector{Float64}, UnitRange{Int64}, Nothing, Val{:forward}(), Float64}([0.0, 0.0, 0.0], [0.0, 0.0], [0.0, 0.0], 1:3, nothing))"
      ]
     },
     "execution_count": 136,
     "metadata": {},
     "output_type": "execute_result"
    }
   ],
   "source": [
    "# define temporal properties\n",
    "dt = 0.01\n",
    "tf = 3\n",
    "\n",
    "num_knots = Int(tf/dt + 1)\n",
    "\n",
    "# define pendulum initial properties\n",
    "x0 = [0.5*pi, 0]\n",
    "\n",
    "# define Pendulum model\n",
    "model = RobotZoo.Pendulum()"
   ]
  },
  {
   "cell_type": "code",
   "execution_count": 137,
   "metadata": {},
   "outputs": [
    {
     "data": {
      "text/plain": [
       "([0.0, 0.01, 0.02, 0.03, 0.04, 0.05, 0.060000000000000005, 0.07, 0.08, 0.09  …  2.9199999999999817, 2.9299999999999815, 2.9399999999999813, 2.949999999999981, 2.959999999999981, 2.9699999999999807, 2.9799999999999804, 2.9899999999999802, 2.99999999999998, 3.00999999999998], [[1.5707963267948966, 0.0], [1.569217432789066, -0.31556838125925163], [1.5650080333471623, -0.5261705985355757], [1.558397773244902, -0.7956997703850179], [1.5490133488318296, -1.0809896750541044], [1.5376650769085656, -1.188582793116992], [1.5246243752671245, -1.4193867628452816], [1.5090219410918249, -1.7008848855167975], [1.4909590883757828, -1.9115034608916677], [1.4704848109972595, -2.1831107241395866]  …  [0.6010623802375198, 1.4446401595846425], [0.6144165965980395, 1.2259904080870794], [0.6259740022511553, 1.0852770104896847], [0.6363254344775142, 0.9848031594032179], [0.6450620665142001, 0.7624424574731843], [0.6525472844576706, 0.7344248000184411], [0.6589128884297017, 0.5386615132555694], [0.6638406784222909, 0.44683054752373663], [0.6671320010984676, 0.21150618839489008], [0.6686860859330707, 0.09934564324485338]])"
      ]
     },
     "execution_count": 137,
     "metadata": {},
     "output_type": "execute_result"
    }
   ],
   "source": [
    "state_dim(model) = 2\n",
    "control_dim(model) = 1\n",
    "\n",
    "dmodel = RD.DiscretizedDynamics{RD.RK4}(model)\n",
    "n, m = RD.dims(dmodel)\n",
    "\n",
    "# create predefined control trajectory\n",
    "U_sim = create_training_U(num_knots, m)\n",
    "\n",
    "# randomly simulate model and store trajectory\n",
    "time, X_sim = simulate(dmodel, x0, U_sim, dt)"
   ]
  },
  {
   "cell_type": "code",
   "execution_count": 138,
   "metadata": {},
   "outputs": [
    {
     "name": "stderr",
     "output_type": "stream",
     "text": [
      "┌ Info: MeshCat server started. You can open the visualizer by visiting the following URL in your browser:\n",
      "│ http://127.0.0.1:8702\n",
      "└ @ MeshCat /home/jeonghun/.julia/packages/MeshCat/Ax8pH/src/visualizer.jl:73\n"
     ]
    },
    {
     "data": {
      "text/html": [
       "    <div style=\"height: 500px; width: 100%; overflow-x: auto; overflow-y: hidden; resize: both\">\n",
       "    <iframe src=\"http://127.0.0.1:8702\" style=\"width: 100%; height: 100%; border: none\"></iframe>\n",
       "    </div>\n"
      ],
      "text/plain": [
       "MeshCat.DisplayedVisualizer(MeshCat.CoreVisualizer(MeshCat.SceneTrees.SceneNode(nothing, nothing, Dict{String, Vector{UInt8}}(), nothing, Dict{String, MeshCat.SceneTrees.SceneNode}(\"meshcat\" => MeshCat.SceneTrees.SceneNode(nothing, nothing, Dict{String, Vector{UInt8}}(), nothing, Dict{String, MeshCat.SceneTrees.SceneNode}(\"robot\" => MeshCat.SceneTrees.SceneNode(nothing, nothing, Dict{String, Vector{UInt8}}(), nothing, Dict{String, MeshCat.SceneTrees.SceneNode}(\"cart\" => MeshCat.SceneTrees.SceneNode(nothing, nothing, Dict{String, Vector{UInt8}}(), nothing, Dict{String, MeshCat.SceneTrees.SceneNode}(\"pole\" => MeshCat.SceneTrees.SceneNode(nothing, UInt8[0x83, 0xa6, 0x6d, 0x61, 0x74, 0x72, 0x69, 0x78, 0xc7, 0x40  …  0x2f, 0x63, 0x61, 0x72, 0x74, 0x2f, 0x70, 0x6f, 0x6c, 0x65], Dict{String, Vector{UInt8}}(), nothing, Dict{String, MeshCat.SceneTrees.SceneNode}(\"geom\" => MeshCat.SceneTrees.SceneNode(nothing, nothing, Dict{String, Vector{UInt8}}(), nothing, Dict{String, MeshCat.SceneTrees.SceneNode}(\"cyl\" => MeshCat.SceneTrees.SceneNode(UInt8[0x83, 0xa6, 0x6f, 0x62, 0x6a, 0x65, 0x63, 0x74, 0x84, 0xaa  …  0x65, 0x2f, 0x67, 0x65, 0x6f, 0x6d, 0x2f, 0x63, 0x79, 0x6c], nothing, Dict{String, Vector{UInt8}}(), nothing, Dict{String, MeshCat.SceneTrees.SceneNode}()), \"mass\" => MeshCat.SceneTrees.SceneNode(UInt8[0x83, 0xa6, 0x6f, 0x62, 0x6a, 0x65, 0x63, 0x74, 0x84, 0xaa  …  0x2f, 0x67, 0x65, 0x6f, 0x6d, 0x2f, 0x6d, 0x61, 0x73, 0x73], nothing, Dict{String, Vector{UInt8}}(), nothing, Dict{String, MeshCat.SceneTrees.SceneNode}()))))), \"box\" => MeshCat.SceneTrees.SceneNode(UInt8[0x83, 0xa6, 0x6f, 0x62, 0x6a, 0x65, 0x63, 0x74, 0x84, 0xaa  …  0x74, 0x2f, 0x63, 0x61, 0x72, 0x74, 0x2f, 0x62, 0x6f, 0x78], nothing, Dict{String, Vector{UInt8}}(), nothing, Dict{String, MeshCat.SceneTrees.SceneNode}()), \"hinge\" => MeshCat.SceneTrees.SceneNode(UInt8[0x83, 0xa6, 0x6f, 0x62, 0x6a, 0x65, 0x63, 0x74, 0x84, 0xaa  …  0x63, 0x61, 0x72, 0x74, 0x2f, 0x68, 0x69, 0x6e, 0x67, 0x65], nothing, Dict{String, Vector{UInt8}}(), nothing, Dict{String, MeshCat.SceneTrees.SceneNode}()))))))))), Set{Any}(), ip\"127.0.0.1\", 8702))"
      ]
     },
     "execution_count": 138,
     "metadata": {},
     "output_type": "execute_result"
    }
   ],
   "source": [
    "global vis = Visualizer()\n",
    "set_mesh!(vis, model)\n",
    "render(vis)"
   ]
  },
  {
   "cell_type": "code",
   "execution_count": 139,
   "metadata": {},
   "outputs": [],
   "source": [
    "visualize!(vis, model, tf, X_sim)"
   ]
  },
  {
   "cell_type": "code",
   "execution_count": 140,
   "metadata": {},
   "outputs": [
    {
     "data": {
      "text/plain": [
       "15"
      ]
     },
     "execution_count": 140,
     "metadata": {},
     "output_type": "execute_result"
    }
   ],
   "source": [
    "# calculate koopman data matrices\n",
    "Z_sim, Zu_sim = koopman_eigenfunctions(X_sim, U_sim, 5)\n",
    "\n",
    "# convert data matrices into actual matrix arrays from vectors of vectors\n",
    "X_mat = mapreduce(permutedims, vcat, X_sim)'\n",
    "U_mat = mapreduce(permutedims, vcat, U_sim)'\n",
    "Z_mat = mapreduce(permutedims, vcat, Z_sim)'\n",
    "Zu_mat = mapreduce(permutedims, vcat, Zu_sim)'\n",
    "\n",
    "# extract data matrices\n",
    "Z = Z_mat[:, 1:end-1]\n",
    "Z_prime = Z_mat[:, 2:end]\n",
    "Zu = Zu_mat\n",
    "X = X_mat[:, 1:end-1]\n",
    "\n",
    "z0 = Z[:, 1]\n",
    "\n",
    "num_eigenfunctions = size(Z)[1]"
   ]
  },
  {
   "cell_type": "code",
   "execution_count": 18,
   "metadata": {},
   "outputs": [],
   "source": [
    "# perform ridge regression\n",
    "\n",
    "# alphaA = 0\n",
    "# alphag = 0\n",
    "\n",
    "# gammaA = alphaA .* I(size(Zu')[2])\n",
    "# regularize_Zu = [Zu' ; gammaA]\n",
    "# regularize_Z_prime = [Z_prime' ; zeros(size(gammaA)[1], size(Z_prime')[2])]\n",
    "\n",
    "# gammag = alphag .* I(size(Z')[2])\n",
    "# regularize_Z = [Z' ; gammag]\n",
    "# regularize_X = [X' ; zeros(size(gammag)[1], size(X')[2])]\n",
    "\n",
    "# A = (regularize_Zu \\ regularize_Z_prime)'\n",
    "# g = (regularize_Z \\ regularize_X)'\n",
    "\n",
    "# println(size(g))\n",
    "\n",
    "# F = A[:, 1:size(A)[1]]\n",
    "# C = A[:, (size(A)[1] + 1):end]"
   ]
  },
  {
   "cell_type": "code",
   "execution_count": 19,
   "metadata": {},
   "outputs": [
    {
     "name": "stderr",
     "output_type": "stream",
     "text": [
      "┌ Warning: Problem status ALMOST_OPTIMAL; solution may be inaccurate.\n",
      "└ @ Convex /home/jeonghun/.julia/packages/Convex/FQF1R/src/solution.jl:342\n",
      "┌ Warning: Problem status ALMOST_OPTIMAL; solution may be inaccurate.\n",
      "└ @ Convex /home/jeonghun/.julia/packages/Convex/FQF1R/src/solution.jl:342\n"
     ]
    },
    {
     "data": {
      "text/plain": [
       "30-element Vector{Float64}:\n",
       "  8.325314473248045e-14\n",
       "  1.0000000000017975\n",
       "  4.206029512686505e-17\n",
       " -2.0425939594952615e-12\n",
       " -6.292499626772372e-18\n",
       " -1.0859712447550066e-13\n",
       "  8.979637339773824e-17\n",
       " -2.497812669734314e-14\n",
       " -6.624680370048938e-18\n",
       " -8.002675652251114e-14\n",
       " -1.0094023870217088e-18\n",
       "  4.968425617209981e-16\n",
       "  3.95693887457753e-20\n",
       "  ⋮\n",
       " -4.2893107735570905e-14\n",
       " -1.1260466380575826e-16\n",
       " -1.8046593432005514e-14\n",
       "  3.167663004644705e-17\n",
       " -4.134625636556586e-15\n",
       "  1.7447611493527895e-18\n",
       " -1.705705087670203e-15\n",
       " -3.199315228930149e-18\n",
       "  7.959586878298297e-17\n",
       " -3.947231437611304e-20\n",
       "  2.5919005795146236e-17\n",
       "  2.2985406544159002e-20"
      ]
     },
     "execution_count": 19,
     "metadata": {},
     "output_type": "execute_result"
    }
   ],
   "source": [
    "# perform lasso regression\n",
    "\n",
    "lambda = 0.01\n",
    "\n",
    "vec_Z_prime_T = vec(Z_prime')\n",
    "Zu_T_mat = kron(I(size(Z_prime')[2]), Zu')\n",
    "\n",
    "vec_X_T = vec(X')\n",
    "Z_T_mat = kron(I(size(X')[2]), Z')\n",
    "\n",
    "A_T_vec = Lasso(vec_Z_prime_T, Zu_T_mat, lambda)\n",
    "g_T_vec = Lasso(vec_X_T, Z_T_mat, 0)"
   ]
  },
  {
   "cell_type": "code",
   "execution_count": 20,
   "metadata": {},
   "outputs": [
    {
     "data": {
      "text/plain": [
       "15×15 Matrix{Float64}:\n",
       "   -2.06346e-7       2.26443e-6  …     1.22919e-9   -2.2352e-14\n",
       "    0.000175846      0.00160168        8.62486e-7   -8.14444e-12\n",
       "    0.0325227        0.481186          0.000259126  -2.40895e-9\n",
       "    0.0802496       -4.92996          -0.00265514    2.39076e-8\n",
       "    0.372329       103.282             0.0551872    -3.3796e-7\n",
       "    0.828993         3.11214     …     0.00180034   -2.36594e-7\n",
       "    5.26603        -54.8782           -0.0298073    -6.14731e-7\n",
       "   -2.77406        -24.2063           -0.0136625     1.10816e-6\n",
       "   64.5645         243.803             0.140899     -1.8173e-5\n",
       "   -3.47218        130.995             0.0706226    -7.3646e-7\n",
       "  614.849        -3702.9         …    -2.03057      -8.78513e-5\n",
       "   41.0345        -542.231            -0.296285      4.0005e-6\n",
       " 5549.47         56252.5              31.6434       -0.0036539\n",
       " -116.311          392.169             0.217022     -1.00455e-5\n",
       "    1.03751e5       -2.40685e5      -139.094        -0.00571772"
      ]
     },
     "execution_count": 20,
     "metadata": {},
     "output_type": "execute_result"
    }
   ],
   "source": [
    "A = reshape(A_T_vec, size(Zu')[2], size(Z_prime')[2])'\n",
    "g = reshape(g_T_vec, size(Z')[2], size(X')[2])'\n",
    "\n",
    "F = A[:, 1:size(A)[1]]\n",
    "C = A[:, (size(A)[1] + 1):end]"
   ]
  },
  {
   "cell_type": "code",
   "execution_count": 21,
   "metadata": {},
   "outputs": [
    {
     "data": {
      "text/plain": [
       "2×302 adjoint(::Matrix{Float64}) with eltype Float64:\n",
       " 1.5708   1.56922    1.56527    1.55963   …  0.815841  0.840905  0.864244\n",
       " 0.0     -0.315761  -0.473692  -0.654291     2.55555   2.45675   2.21044"
      ]
     },
     "execution_count": 21,
     "metadata": {},
     "output_type": "execute_result"
    }
   ],
   "source": [
    "bi_X, _ = simulate_bilinear(F, C, g, x0, z0, U_sim)\n",
    "bi_X_mat = mapreduce(permutedims, vcat, bi_X)'"
   ]
  },
  {
   "cell_type": "code",
   "execution_count": 22,
   "metadata": {},
   "outputs": [
    {
     "name": "stderr",
     "output_type": "stream",
     "text": [
      "┌ Info: MeshCat server started. You can open the visualizer by visiting the following URL in your browser:\n",
      "│ http://127.0.0.1:8701\n",
      "└ @ MeshCat /home/jeonghun/.julia/packages/MeshCat/Ax8pH/src/visualizer.jl:73\n"
     ]
    },
    {
     "data": {
      "text/html": [
       "    <div style=\"height: 500px; width: 100%; overflow-x: auto; overflow-y: hidden; resize: both\">\n",
       "    <iframe src=\"http://127.0.0.1:8701\" style=\"width: 100%; height: 100%; border: none\"></iframe>\n",
       "    </div>\n"
      ],
      "text/plain": [
       "MeshCat.DisplayedVisualizer(MeshCat.CoreVisualizer(MeshCat.SceneTrees.SceneNode(nothing, nothing, Dict{String, Vector{UInt8}}(), nothing, Dict{String, MeshCat.SceneTrees.SceneNode}(\"meshcat\" => MeshCat.SceneTrees.SceneNode(nothing, nothing, Dict{String, Vector{UInt8}}(), nothing, Dict{String, MeshCat.SceneTrees.SceneNode}(\"robot\" => MeshCat.SceneTrees.SceneNode(nothing, nothing, Dict{String, Vector{UInt8}}(), nothing, Dict{String, MeshCat.SceneTrees.SceneNode}(\"cart\" => MeshCat.SceneTrees.SceneNode(nothing, nothing, Dict{String, Vector{UInt8}}(), nothing, Dict{String, MeshCat.SceneTrees.SceneNode}(\"pole\" => MeshCat.SceneTrees.SceneNode(nothing, UInt8[0x83, 0xa6, 0x6d, 0x61, 0x74, 0x72, 0x69, 0x78, 0xc7, 0x40  …  0x2f, 0x63, 0x61, 0x72, 0x74, 0x2f, 0x70, 0x6f, 0x6c, 0x65], Dict{String, Vector{UInt8}}(), nothing, Dict{String, MeshCat.SceneTrees.SceneNode}(\"geom\" => MeshCat.SceneTrees.SceneNode(nothing, nothing, Dict{String, Vector{UInt8}}(), nothing, Dict{String, MeshCat.SceneTrees.SceneNode}(\"cyl\" => MeshCat.SceneTrees.SceneNode(UInt8[0x83, 0xa6, 0x6f, 0x62, 0x6a, 0x65, 0x63, 0x74, 0x84, 0xaa  …  0x65, 0x2f, 0x67, 0x65, 0x6f, 0x6d, 0x2f, 0x63, 0x79, 0x6c], nothing, Dict{String, Vector{UInt8}}(), nothing, Dict{String, MeshCat.SceneTrees.SceneNode}()), \"mass\" => MeshCat.SceneTrees.SceneNode(UInt8[0x83, 0xa6, 0x6f, 0x62, 0x6a, 0x65, 0x63, 0x74, 0x84, 0xaa  …  0x2f, 0x67, 0x65, 0x6f, 0x6d, 0x2f, 0x6d, 0x61, 0x73, 0x73], nothing, Dict{String, Vector{UInt8}}(), nothing, Dict{String, MeshCat.SceneTrees.SceneNode}()))))), \"box\" => MeshCat.SceneTrees.SceneNode(UInt8[0x83, 0xa6, 0x6f, 0x62, 0x6a, 0x65, 0x63, 0x74, 0x84, 0xaa  …  0x74, 0x2f, 0x63, 0x61, 0x72, 0x74, 0x2f, 0x62, 0x6f, 0x78], nothing, Dict{String, Vector{UInt8}}(), nothing, Dict{String, MeshCat.SceneTrees.SceneNode}()), \"hinge\" => MeshCat.SceneTrees.SceneNode(UInt8[0x83, 0xa6, 0x6f, 0x62, 0x6a, 0x65, 0x63, 0x74, 0x84, 0xaa  …  0x63, 0x61, 0x72, 0x74, 0x2f, 0x68, 0x69, 0x6e, 0x67, 0x65], nothing, Dict{String, Vector{UInt8}}(), nothing, Dict{String, MeshCat.SceneTrees.SceneNode}()))))))))), Set{Any}(), ip\"127.0.0.1\", 8701))"
      ]
     },
     "execution_count": 22,
     "metadata": {},
     "output_type": "execute_result"
    }
   ],
   "source": [
    "global vis = Visualizer()\n",
    "set_mesh!(vis, model)\n",
    "render(vis)"
   ]
  },
  {
   "cell_type": "code",
   "execution_count": 23,
   "metadata": {},
   "outputs": [],
   "source": [
    "visualize!(vis, model, tf, bi_X)\n",
    "#visualize!(vis, model, tf, X_sim)"
   ]
  },
  {
   "cell_type": "code",
   "execution_count": 24,
   "metadata": {},
   "outputs": [
    {
     "data": {
      "text/plain": [
       "302-element Vector{Float64}:\n",
       "  0.0\n",
       " -0.3157613924077377\n",
       " -0.47369177604576\n",
       " -0.6542910706542812\n",
       " -0.9610265034662655\n",
       " -1.2003482211892469\n",
       " -1.3870462936516559\n",
       " -1.5477031373034278\n",
       " -1.6554152091429364\n",
       " -1.8662110564637702\n",
       " -2.0588482240508106\n",
       " -2.353851568223246\n",
       " -2.603970082291406\n",
       "  ⋮\n",
       "  3.6669880522302414\n",
       "  3.5718099481126186\n",
       "  3.471405562292672\n",
       "  3.247612667645421\n",
       "  3.038436620050435\n",
       "  3.001689584956889\n",
       "  2.8558486018075655\n",
       "  2.7949099285165824\n",
       "  2.624632714410546\n",
       "  2.5555524513424257\n",
       "  2.4567545651572313\n",
       "  2.2104415424495953"
      ]
     },
     "execution_count": 24,
     "metadata": {},
     "output_type": "execute_result"
    }
   ],
   "source": [
    "# extract individual state histories\n",
    "theta_sim = X_mat[1, :]\n",
    "omega_sim = X_mat[2, :]\n",
    "\n",
    "theta_bilinear = bi_X_mat[1, :]\n",
    "omega_bilinear = bi_X_mat[2, :]"
   ]
  },
  {
   "cell_type": "code",
   "execution_count": 25,
   "metadata": {},
   "outputs": [
    {
     "data": {
      "image/svg+xml": "<?xml version=\"1.0\" encoding=\"utf-8\"?>\n<svg xmlns=\"http://www.w3.org/2000/svg\" xmlns:xlink=\"http://www.w3.org/1999/xlink\" width=\"600\" height=\"400\" viewBox=\"0 0 2400 1600\">\n<defs>\n  <clipPath id=\"clip380\">\n    <rect x=\"0\" y=\"0\" width=\"2400\" height=\"1600\"/>\n  </clipPath>\n</defs>\n<path clip-path=\"url(#clip380)\" d=\"\nM0 1600 L2400 1600 L2400 0 L0 0  Z\n  \" fill=\"#ffffff\" fill-rule=\"evenodd\" fill-opacity=\"1\"/>\n<defs>\n  <clipPath id=\"clip381\">\n    <rect x=\"480\" y=\"0\" width=\"1681\" height=\"1600\"/>\n  </clipPath>\n</defs>\n<path clip-path=\"url(#clip380)\" d=\"\nM193.936 1486.45 L2352.76 1486.45 L2352.76 47.2441 L193.936 47.2441  Z\n  \" fill=\"#ffffff\" fill-rule=\"evenodd\" fill-opacity=\"1\"/>\n<defs>\n  <clipPath id=\"clip382\">\n    <rect x=\"193\" y=\"47\" width=\"2160\" height=\"1440\"/>\n  </clipPath>\n</defs>\n<polyline clip-path=\"url(#clip382)\" style=\"stroke:#000000; stroke-linecap:butt; stroke-linejoin:round; stroke-width:2; stroke-opacity:0.1; fill:none\" points=\"\n  255.035,1486.45 255.035,47.2441 \n  \"/>\n<polyline clip-path=\"url(#clip382)\" style=\"stroke:#000000; stroke-linecap:butt; stroke-linejoin:round; stroke-width:2; stroke-opacity:0.1; fill:none\" points=\"\n  931.653,1486.45 931.653,47.2441 \n  \"/>\n<polyline clip-path=\"url(#clip382)\" style=\"stroke:#000000; stroke-linecap:butt; stroke-linejoin:round; stroke-width:2; stroke-opacity:0.1; fill:none\" points=\"\n  1608.27,1486.45 1608.27,47.2441 \n  \"/>\n<polyline clip-path=\"url(#clip382)\" style=\"stroke:#000000; stroke-linecap:butt; stroke-linejoin:round; stroke-width:2; stroke-opacity:0.1; fill:none\" points=\"\n  2284.89,1486.45 2284.89,47.2441 \n  \"/>\n<polyline clip-path=\"url(#clip380)\" style=\"stroke:#000000; stroke-linecap:butt; stroke-linejoin:round; stroke-width:4; stroke-opacity:1; fill:none\" points=\"\n  193.936,1486.45 2352.76,1486.45 \n  \"/>\n<polyline clip-path=\"url(#clip380)\" style=\"stroke:#000000; stroke-linecap:butt; stroke-linejoin:round; stroke-width:4; stroke-opacity:1; fill:none\" points=\"\n  255.035,1486.45 255.035,1467.55 \n  \"/>\n<polyline clip-path=\"url(#clip380)\" style=\"stroke:#000000; stroke-linecap:butt; stroke-linejoin:round; stroke-width:4; stroke-opacity:1; fill:none\" points=\"\n  931.653,1486.45 931.653,1467.55 \n  \"/>\n<polyline clip-path=\"url(#clip380)\" style=\"stroke:#000000; stroke-linecap:butt; stroke-linejoin:round; stroke-width:4; stroke-opacity:1; fill:none\" points=\"\n  1608.27,1486.45 1608.27,1467.55 \n  \"/>\n<polyline clip-path=\"url(#clip380)\" style=\"stroke:#000000; stroke-linecap:butt; stroke-linejoin:round; stroke-width:4; stroke-opacity:1; fill:none\" points=\"\n  2284.89,1486.45 2284.89,1467.55 \n  \"/>\n<path clip-path=\"url(#clip380)\" d=\"M255.035 1517.37 Q251.424 1517.37 249.595 1520.93 Q247.789 1524.47 247.789 1531.6 Q247.789 1538.71 249.595 1542.27 Q251.424 1545.82 255.035 1545.82 Q258.669 1545.82 260.474 1542.27 Q262.303 1538.71 262.303 1531.6 Q262.303 1524.47 260.474 1520.93 Q258.669 1517.37 255.035 1517.37 M255.035 1513.66 Q260.845 1513.66 263.9 1518.27 Q266.979 1522.85 266.979 1531.6 Q266.979 1540.33 263.9 1544.94 Q260.845 1549.52 255.035 1549.52 Q249.225 1549.52 246.146 1544.94 Q243.09 1540.33 243.09 1531.6 Q243.09 1522.85 246.146 1518.27 Q249.225 1513.66 255.035 1513.66 Z\" fill=\"#000000\" fill-rule=\"evenodd\" fill-opacity=\"1\" /><path clip-path=\"url(#clip380)\" d=\"M922.035 1544.91 L929.674 1544.91 L929.674 1518.55 L921.364 1520.21 L921.364 1515.95 L929.628 1514.29 L934.304 1514.29 L934.304 1544.91 L941.943 1544.91 L941.943 1548.85 L922.035 1548.85 L922.035 1544.91 Z\" fill=\"#000000\" fill-rule=\"evenodd\" fill-opacity=\"1\" /><path clip-path=\"url(#clip380)\" d=\"M1602.93 1544.91 L1619.24 1544.91 L1619.24 1548.85 L1597.3 1548.85 L1597.3 1544.91 Q1599.96 1542.16 1604.55 1537.53 Q1609.15 1532.88 1610.33 1531.53 Q1612.58 1529.01 1613.46 1527.27 Q1614.36 1525.51 1614.36 1523.82 Q1614.36 1521.07 1612.42 1519.33 Q1610.49 1517.6 1607.39 1517.6 Q1605.19 1517.6 1602.74 1518.36 Q1600.31 1519.13 1597.53 1520.68 L1597.53 1515.95 Q1600.36 1514.82 1602.81 1514.24 Q1605.26 1513.66 1607.3 1513.66 Q1612.67 1513.66 1615.86 1516.35 Q1619.06 1519.03 1619.06 1523.52 Q1619.06 1525.65 1618.25 1527.57 Q1617.46 1529.47 1615.36 1532.07 Q1614.78 1532.74 1611.68 1535.95 Q1608.57 1539.15 1602.93 1544.91 Z\" fill=\"#000000\" fill-rule=\"evenodd\" fill-opacity=\"1\" /><path clip-path=\"url(#clip380)\" d=\"M2289.14 1530.21 Q2292.5 1530.93 2294.37 1533.2 Q2296.27 1535.47 2296.27 1538.8 Q2296.27 1543.92 2292.75 1546.72 Q2289.23 1549.52 2282.75 1549.52 Q2280.57 1549.52 2278.26 1549.08 Q2275.97 1548.66 2273.51 1547.81 L2273.51 1543.29 Q2275.46 1544.43 2277.77 1545.01 Q2280.09 1545.58 2282.61 1545.58 Q2287.01 1545.58 2289.3 1543.85 Q2291.62 1542.11 2291.62 1538.8 Q2291.62 1535.75 2289.46 1534.03 Q2287.33 1532.3 2283.51 1532.3 L2279.49 1532.3 L2279.49 1528.45 L2283.7 1528.45 Q2287.15 1528.45 2288.98 1527.09 Q2290.81 1525.7 2290.81 1523.11 Q2290.81 1520.45 2288.91 1519.03 Q2287.03 1517.6 2283.51 1517.6 Q2281.59 1517.6 2279.39 1518.01 Q2277.19 1518.43 2274.56 1519.31 L2274.56 1515.14 Q2277.22 1514.4 2279.53 1514.03 Q2281.87 1513.66 2283.93 1513.66 Q2289.25 1513.66 2292.36 1516.09 Q2295.46 1518.5 2295.46 1522.62 Q2295.46 1525.49 2293.81 1527.48 Q2292.17 1529.45 2289.14 1530.21 Z\" fill=\"#000000\" fill-rule=\"evenodd\" fill-opacity=\"1\" /><polyline clip-path=\"url(#clip382)\" style=\"stroke:#000000; stroke-linecap:butt; stroke-linejoin:round; stroke-width:2; stroke-opacity:0.1; fill:none\" points=\"\n  193.936,1247.95 2352.76,1247.95 \n  \"/>\n<polyline clip-path=\"url(#clip382)\" style=\"stroke:#000000; stroke-linecap:butt; stroke-linejoin:round; stroke-width:2; stroke-opacity:0.1; fill:none\" points=\"\n  193.936,972.298 2352.76,972.298 \n  \"/>\n<polyline clip-path=\"url(#clip382)\" style=\"stroke:#000000; stroke-linecap:butt; stroke-linejoin:round; stroke-width:2; stroke-opacity:0.1; fill:none\" points=\"\n  193.936,696.642 2352.76,696.642 \n  \"/>\n<polyline clip-path=\"url(#clip382)\" style=\"stroke:#000000; stroke-linecap:butt; stroke-linejoin:round; stroke-width:2; stroke-opacity:0.1; fill:none\" points=\"\n  193.936,420.987 2352.76,420.987 \n  \"/>\n<polyline clip-path=\"url(#clip382)\" style=\"stroke:#000000; stroke-linecap:butt; stroke-linejoin:round; stroke-width:2; stroke-opacity:0.1; fill:none\" points=\"\n  193.936,145.332 2352.76,145.332 \n  \"/>\n<polyline clip-path=\"url(#clip380)\" style=\"stroke:#000000; stroke-linecap:butt; stroke-linejoin:round; stroke-width:4; stroke-opacity:1; fill:none\" points=\"\n  193.936,1486.45 193.936,47.2441 \n  \"/>\n<polyline clip-path=\"url(#clip380)\" style=\"stroke:#000000; stroke-linecap:butt; stroke-linejoin:round; stroke-width:4; stroke-opacity:1; fill:none\" points=\"\n  193.936,1247.95 212.834,1247.95 \n  \"/>\n<polyline clip-path=\"url(#clip380)\" style=\"stroke:#000000; stroke-linecap:butt; stroke-linejoin:round; stroke-width:4; stroke-opacity:1; fill:none\" points=\"\n  193.936,972.298 212.834,972.298 \n  \"/>\n<polyline clip-path=\"url(#clip380)\" style=\"stroke:#000000; stroke-linecap:butt; stroke-linejoin:round; stroke-width:4; stroke-opacity:1; fill:none\" points=\"\n  193.936,696.642 212.834,696.642 \n  \"/>\n<polyline clip-path=\"url(#clip380)\" style=\"stroke:#000000; stroke-linecap:butt; stroke-linejoin:round; stroke-width:4; stroke-opacity:1; fill:none\" points=\"\n  193.936,420.987 212.834,420.987 \n  \"/>\n<polyline clip-path=\"url(#clip380)\" style=\"stroke:#000000; stroke-linecap:butt; stroke-linejoin:round; stroke-width:4; stroke-opacity:1; fill:none\" points=\"\n  193.936,145.332 212.834,145.332 \n  \"/>\n<path clip-path=\"url(#clip380)\" d=\"M50.9921 1248.4 L80.6679 1248.4 L80.6679 1252.34 L50.9921 1252.34 L50.9921 1248.4 Z\" fill=\"#000000\" fill-rule=\"evenodd\" fill-opacity=\"1\" /><path clip-path=\"url(#clip380)\" d=\"M90.8067 1230.67 L109.163 1230.67 L109.163 1234.61 L95.0891 1234.61 L95.0891 1243.08 Q96.1076 1242.73 97.1261 1242.57 Q98.1447 1242.39 99.1632 1242.39 Q104.95 1242.39 108.33 1245.56 Q111.709 1248.73 111.709 1254.15 Q111.709 1259.72 108.237 1262.83 Q104.765 1265.9 98.4456 1265.9 Q96.2697 1265.9 94.0012 1265.53 Q91.7558 1265.16 89.3484 1264.42 L89.3484 1259.72 Q91.4317 1260.86 93.6539 1261.41 Q95.8761 1261.97 98.353 1261.97 Q102.358 1261.97 104.696 1259.86 Q107.033 1257.76 107.033 1254.15 Q107.033 1250.53 104.696 1248.43 Q102.358 1246.32 98.353 1246.32 Q96.478 1246.32 94.603 1246.74 Q92.7512 1247.15 90.8067 1248.03 L90.8067 1230.67 Z\" fill=\"#000000\" fill-rule=\"evenodd\" fill-opacity=\"1\" /><path clip-path=\"url(#clip380)\" d=\"M120.922 1259.35 L125.807 1259.35 L125.807 1265.23 L120.922 1265.23 L120.922 1259.35 Z\" fill=\"#000000\" fill-rule=\"evenodd\" fill-opacity=\"1\" /><path clip-path=\"url(#clip380)\" d=\"M145.992 1233.75 Q142.381 1233.75 140.552 1237.32 Q138.746 1240.86 138.746 1247.99 Q138.746 1255.09 140.552 1258.66 Q142.381 1262.2 145.992 1262.2 Q149.626 1262.2 151.431 1258.66 Q153.26 1255.09 153.26 1247.99 Q153.26 1240.86 151.431 1237.32 Q149.626 1233.75 145.992 1233.75 M145.992 1230.05 Q151.802 1230.05 154.857 1234.65 Q157.936 1239.24 157.936 1247.99 Q157.936 1256.71 154.857 1261.32 Q151.802 1265.9 145.992 1265.9 Q140.181 1265.9 137.103 1261.32 Q134.047 1256.71 134.047 1247.99 Q134.047 1239.24 137.103 1234.65 Q140.181 1230.05 145.992 1230.05 Z\" fill=\"#000000\" fill-rule=\"evenodd\" fill-opacity=\"1\" /><path clip-path=\"url(#clip380)\" d=\"M51.9875 972.749 L81.6633 972.749 L81.6633 976.684 L51.9875 976.684 L51.9875 972.749 Z\" fill=\"#000000\" fill-rule=\"evenodd\" fill-opacity=\"1\" /><path clip-path=\"url(#clip380)\" d=\"M95.7836 985.643 L112.103 985.643 L112.103 989.578 L90.1586 989.578 L90.1586 985.643 Q92.8206 982.888 97.4039 978.258 Q102.01 973.606 103.191 972.263 Q105.436 969.74 106.316 968.004 Q107.219 966.245 107.219 964.555 Q107.219 961.8 105.274 960.064 Q103.353 958.328 100.251 958.328 Q98.0521 958.328 95.5984 959.092 Q93.1678 959.856 90.3901 961.407 L90.3901 956.684 Q93.2141 955.55 95.6678 954.971 Q98.1215 954.393 100.159 954.393 Q105.529 954.393 108.723 957.078 Q111.918 959.763 111.918 964.254 Q111.918 966.383 111.108 968.305 Q110.321 970.203 108.214 972.795 Q107.635 973.467 104.534 976.684 Q101.432 979.879 95.7836 985.643 Z\" fill=\"#000000\" fill-rule=\"evenodd\" fill-opacity=\"1\" /><path clip-path=\"url(#clip380)\" d=\"M121.918 983.698 L126.802 983.698 L126.802 989.578 L121.918 989.578 L121.918 983.698 Z\" fill=\"#000000\" fill-rule=\"evenodd\" fill-opacity=\"1\" /><path clip-path=\"url(#clip380)\" d=\"M137.033 955.018 L155.39 955.018 L155.39 958.953 L141.316 958.953 L141.316 967.425 Q142.334 967.078 143.353 966.916 Q144.371 966.731 145.39 966.731 Q151.177 966.731 154.556 969.902 Q157.936 973.073 157.936 978.49 Q157.936 984.069 154.464 987.17 Q150.992 990.249 144.672 990.249 Q142.496 990.249 140.228 989.879 Q137.982 989.508 135.575 988.768 L135.575 984.069 Q137.658 985.203 139.881 985.758 Q142.103 986.314 144.58 986.314 Q148.584 986.314 150.922 984.207 Q153.26 982.101 153.26 978.49 Q153.26 974.879 150.922 972.772 Q148.584 970.666 144.58 970.666 Q142.705 970.666 140.83 971.082 Q138.978 971.499 137.033 972.379 L137.033 955.018 Z\" fill=\"#000000\" fill-rule=\"evenodd\" fill-opacity=\"1\" /><path clip-path=\"url(#clip380)\" d=\"M100.76 682.441 Q97.1493 682.441 95.3206 686.006 Q93.515 689.548 93.515 696.677 Q93.515 703.784 95.3206 707.348 Q97.1493 710.89 100.76 710.89 Q104.395 710.89 106.2 707.348 Q108.029 703.784 108.029 696.677 Q108.029 689.548 106.2 686.006 Q104.395 682.441 100.76 682.441 M100.76 678.737 Q106.571 678.737 109.626 683.344 Q112.705 687.927 112.705 696.677 Q112.705 705.404 109.626 710.01 Q106.571 714.594 100.76 714.594 Q94.9502 714.594 91.8715 710.01 Q88.816 705.404 88.816 696.677 Q88.816 687.927 91.8715 683.344 Q94.9502 678.737 100.76 678.737 Z\" fill=\"#000000\" fill-rule=\"evenodd\" fill-opacity=\"1\" /><path clip-path=\"url(#clip380)\" d=\"M120.922 708.043 L125.807 708.043 L125.807 713.922 L120.922 713.922 L120.922 708.043 Z\" fill=\"#000000\" fill-rule=\"evenodd\" fill-opacity=\"1\" /><path clip-path=\"url(#clip380)\" d=\"M145.992 682.441 Q142.381 682.441 140.552 686.006 Q138.746 689.548 138.746 696.677 Q138.746 703.784 140.552 707.348 Q142.381 710.89 145.992 710.89 Q149.626 710.89 151.431 707.348 Q153.26 703.784 153.26 696.677 Q153.26 689.548 151.431 686.006 Q149.626 682.441 145.992 682.441 M145.992 678.737 Q151.802 678.737 154.857 683.344 Q157.936 687.927 157.936 696.677 Q157.936 705.404 154.857 710.01 Q151.802 714.594 145.992 714.594 Q140.181 714.594 137.103 710.01 Q134.047 705.404 134.047 696.677 Q134.047 687.927 137.103 683.344 Q140.181 678.737 145.992 678.737 Z\" fill=\"#000000\" fill-rule=\"evenodd\" fill-opacity=\"1\" /><path clip-path=\"url(#clip380)\" d=\"M95.7836 434.332 L112.103 434.332 L112.103 438.267 L90.1586 438.267 L90.1586 434.332 Q92.8206 431.577 97.4039 426.948 Q102.01 422.295 103.191 420.952 Q105.436 418.429 106.316 416.693 Q107.219 414.934 107.219 413.244 Q107.219 410.489 105.274 408.753 Q103.353 407.017 100.251 407.017 Q98.0521 407.017 95.5984 407.781 Q93.1678 408.545 90.3901 410.096 L90.3901 405.374 Q93.2141 404.24 95.6678 403.661 Q98.1215 403.082 100.159 403.082 Q105.529 403.082 108.723 405.767 Q111.918 408.452 111.918 412.943 Q111.918 415.073 111.108 416.994 Q110.321 418.892 108.214 421.485 Q107.635 422.156 104.534 425.374 Q101.432 428.568 95.7836 434.332 Z\" fill=\"#000000\" fill-rule=\"evenodd\" fill-opacity=\"1\" /><path clip-path=\"url(#clip380)\" d=\"M121.918 432.388 L126.802 432.388 L126.802 438.267 L121.918 438.267 L121.918 432.388 Z\" fill=\"#000000\" fill-rule=\"evenodd\" fill-opacity=\"1\" /><path clip-path=\"url(#clip380)\" d=\"M137.033 403.707 L155.39 403.707 L155.39 407.642 L141.316 407.642 L141.316 416.114 Q142.334 415.767 143.353 415.605 Q144.371 415.42 145.39 415.42 Q151.177 415.42 154.556 418.591 Q157.936 421.763 157.936 427.179 Q157.936 432.758 154.464 435.86 Q150.992 438.938 144.672 438.938 Q142.496 438.938 140.228 438.568 Q137.982 438.198 135.575 437.457 L135.575 432.758 Q137.658 433.892 139.881 434.448 Q142.103 435.003 144.58 435.003 Q148.584 435.003 150.922 432.897 Q153.26 430.79 153.26 427.179 Q153.26 423.568 150.922 421.462 Q148.584 419.355 144.58 419.355 Q142.705 419.355 140.83 419.772 Q138.978 420.189 137.033 421.068 L137.033 403.707 Z\" fill=\"#000000\" fill-rule=\"evenodd\" fill-opacity=\"1\" /><path clip-path=\"url(#clip380)\" d=\"M90.8067 128.052 L109.163 128.052 L109.163 131.987 L95.0891 131.987 L95.0891 140.459 Q96.1076 140.112 97.1261 139.95 Q98.1447 139.765 99.1632 139.765 Q104.95 139.765 108.33 142.936 Q111.709 146.107 111.709 151.524 Q111.709 157.103 108.237 160.204 Q104.765 163.283 98.4456 163.283 Q96.2697 163.283 94.0012 162.913 Q91.7558 162.542 89.3484 161.802 L89.3484 157.103 Q91.4317 158.237 93.6539 158.792 Q95.8761 159.348 98.353 159.348 Q102.358 159.348 104.696 157.241 Q107.033 155.135 107.033 151.524 Q107.033 147.913 104.696 145.806 Q102.358 143.7 98.353 143.7 Q96.478 143.7 94.603 144.117 Q92.7512 144.533 90.8067 145.413 L90.8067 128.052 Z\" fill=\"#000000\" fill-rule=\"evenodd\" fill-opacity=\"1\" /><path clip-path=\"url(#clip380)\" d=\"M120.922 156.732 L125.807 156.732 L125.807 162.612 L120.922 162.612 L120.922 156.732 Z\" fill=\"#000000\" fill-rule=\"evenodd\" fill-opacity=\"1\" /><path clip-path=\"url(#clip380)\" d=\"M145.992 131.13 Q142.381 131.13 140.552 134.695 Q138.746 138.237 138.746 145.367 Q138.746 152.473 140.552 156.038 Q142.381 159.579 145.992 159.579 Q149.626 159.579 151.431 156.038 Q153.26 152.473 153.26 145.367 Q153.26 138.237 151.431 134.695 Q149.626 131.13 145.992 131.13 M145.992 127.427 Q151.802 127.427 154.857 132.033 Q157.936 136.617 157.936 145.367 Q157.936 154.093 154.857 158.7 Q151.802 163.283 145.992 163.283 Q140.181 163.283 137.103 158.7 Q134.047 154.093 134.047 145.367 Q134.047 136.617 137.103 132.033 Q140.181 127.427 145.992 127.427 Z\" fill=\"#000000\" fill-rule=\"evenodd\" fill-opacity=\"1\" /><polyline clip-path=\"url(#clip382)\" style=\"stroke:#009af9; stroke-linecap:butt; stroke-linejoin:round; stroke-width:4; stroke-opacity:1; fill:none\" points=\"\n  255.035,523.443 261.801,523.617 268.567,524.052 275.333,524.673 282.099,525.561 288.866,526.75 295.632,528.173 302.398,529.787 309.164,531.549 315.93,533.487 \n  322.697,535.647 329.463,538.076 336.229,540.807 342.995,543.759 349.761,546.852 356.527,550.123 363.294,553.638 370.06,557.427 376.826,561.525 383.592,565.824 \n  390.358,570.249 397.125,574.855 403.891,579.653 410.657,584.626 417.423,589.799 424.189,595.139 430.956,600.642 437.722,606.308 444.488,612.123 451.254,618.135 \n  458.02,624.229 464.786,630.431 471.553,636.82 478.319,643.258 485.085,649.739 491.851,656.369 498.617,663.165 505.384,670.088 512.15,677.093 518.916,684.196 \n  525.682,691.384 532.448,698.618 539.215,705.811 545.981,712.941 552.747,719.976 559.513,726.837 566.279,733.525 573.046,740.073 579.812,746.517 586.578,752.774 \n  593.344,758.838 600.11,764.783 606.876,770.581 613.643,776.201 620.409,781.694 627.175,786.998 633.941,792.013 640.707,796.814 647.474,801.434 654.24,805.82 \n  661.006,810 667.772,814.013 674.538,817.864 681.305,821.559 688.071,825.093 694.837,828.444 701.603,831.591 708.369,834.49 715.135,837.11 721.902,839.542 \n  728.668,841.874 735.434,844.077 742.2,846.099 748.966,847.859 755.733,849.327 762.499,850.555 769.265,851.613 776.031,852.467 782.797,853.059 789.564,853.415 \n  796.33,853.572 803.096,853.487 809.862,853.167 816.628,852.676 823.394,851.954 830.161,851.017 836.927,849.86 843.693,848.492 850.459,846.959 857.225,845.262 \n  863.992,843.379 870.758,841.3 877.524,838.978 884.29,836.371 891.056,833.532 897.823,830.525 904.589,827.399 911.355,824.108 918.121,820.587 924.887,816.874 \n  931.653,813.056 938.42,809.148 945.186,805.102 951.952,800.882 958.718,796.46 965.484,791.875 972.251,787.122 979.017,782.214 985.783,777.197 992.549,772.035 \n  999.315,766.737 1006.08,761.37 1012.85,755.914 1019.61,750.381 1026.38,744.828 1033.15,739.244 1039.91,733.622 1046.68,727.969 1053.44,722.29 1060.21,716.527 \n  1066.98,710.672 1073.74,704.813 1080.51,698.931 1087.28,692.963 1094.04,686.921 1100.81,680.835 1107.57,674.777 1114.34,668.724 1121.11,662.733 1127.87,656.885 \n  1134.64,651.128 1141.41,645.436 1148.17,639.883 1154.94,634.485 1161.7,629.241 1168.47,624.209 1175.24,619.42 1182,614.799 1188.77,610.297 1195.53,606.002 \n  1202.3,601.935 1209.07,598.07 1215.83,594.403 1222.6,590.913 1229.37,587.557 1236.13,584.382 1242.9,581.41 1249.66,578.63 1256.43,576.076 1263.2,573.74 \n  1269.96,571.556 1276.73,569.551 1283.5,567.775 1290.26,566.203 1297.03,564.897 1303.79,563.836 1310.56,562.974 1317.33,562.321 1324.09,561.842 1330.86,561.599 \n  1337.62,561.662 1344.39,562.005 1351.16,562.589 1357.92,563.411 1364.69,564.46 1371.46,565.705 1378.22,567.121 1384.99,568.72 1391.75,570.573 1398.52,572.649 \n  1405.29,574.911 1412.05,577.391 1418.82,580.078 1425.59,582.906 1432.35,585.875 1439.12,588.988 1445.88,592.211 1452.65,595.634 1459.42,599.27 1466.18,603.024 \n  1472.95,606.893 1479.71,610.909 1486.48,615.047 1493.25,619.36 1500.01,623.889 1506.78,628.517 1513.55,633.145 1520.31,637.853 1527.08,642.711 1533.84,647.695 \n  1540.61,652.79 1547.38,657.949 1554.14,663.176 1560.91,668.436 1567.68,673.684 1574.44,678.955 1581.21,684.303 1587.97,689.709 1594.74,695.134 1601.51,700.561 \n  1608.27,705.991 1615.04,711.432 1621.8,716.784 1628.57,722.079 1635.34,727.293 1642.1,732.374 1648.87,737.331 1655.64,742.18 1662.4,746.907 1669.17,751.415 \n  1675.93,755.782 1682.7,760.107 1689.47,764.294 1696.23,768.304 1703,772.205 1709.77,776.025 1716.53,779.732 1723.3,783.246 1730.06,786.571 1736.83,789.802 \n  1743.6,792.979 1750.36,796.067 1757.13,799.054 1763.89,801.851 1770.66,804.352 1777.43,806.581 1784.19,808.635 1790.96,810.518 1797.73,812.227 1804.49,813.815 \n  1811.26,815.287 1818.02,816.615 1824.79,817.738 1831.56,818.589 1838.32,819.144 1845.09,819.495 1851.86,819.704 1858.62,819.782 1865.39,819.659 1872.15,819.256 \n  1878.92,818.682 1885.69,817.991 1892.45,817.117 1899.22,816.017 1905.98,814.694 1912.75,813.199 1919.52,811.61 1926.28,809.95 1933.05,808.119 1939.82,806.116 \n  1946.58,803.936 1953.35,801.48 1960.11,798.763 1966.88,795.811 1973.65,792.658 1980.41,789.306 1987.18,785.712 1993.94,781.885 2000.71,777.947 2007.48,773.983 \n  2014.24,769.883 2021.01,765.644 2027.78,761.311 2034.54,756.879 2041.31,752.41 2048.07,747.837 2054.84,743.182 2061.61,738.528 2068.37,733.815 2075.14,728.978 \n  2081.91,724.022 2088.67,719.02 2095.44,714.069 2102.2,709.187 2108.97,704.279 2115.74,699.372 2122.5,694.522 2129.27,689.637 2136.03,684.75 2142.8,679.876 \n  2149.57,674.981 2156.33,670.056 2163.1,665.099 2169.87,660.158 2176.63,655.344 2183.4,650.641 2190.16,646.03 2196.93,641.537 2203.7,637.134 2210.46,632.916 \n  2217.23,628.915 2224,625.081 2230.76,621.393 2237.53,617.921 2244.29,614.724 2251.06,611.697 2257.83,608.804 2264.59,606.057 2271.36,603.468 2278.12,601.039 \n  2284.89,598.73 2291.66,596.637 \n  \"/>\n<polyline clip-path=\"url(#clip382)\" style=\"stroke:#e26f46; stroke-linecap:butt; stroke-linejoin:round; stroke-width:4; stroke-opacity:1; fill:none\" points=\"\n  255.035,696.642 261.801,731.438 268.567,748.794 275.333,768.626 282.099,802.361 288.866,828.675 295.632,849.205 302.398,866.886 309.164,878.75 315.93,902.003 \n  322.697,923.283 329.463,955.889 336.229,983.593 342.995,1000.03 349.761,1011.81 356.527,1035.57 363.294,1060.63 370.06,1090.44 376.826,1122.4 383.592,1130.59 \n  390.358,1147.76 397.125,1166.58 403.891,1186.16 410.657,1201.6 417.423,1226.28 424.189,1234.82 430.956,1259.08 437.722,1267.22 444.488,1288.87 451.254,1306.59 \n  458.02,1305.43 464.786,1328.15 471.553,1342.77 478.319,1337.85 485.085,1351.45 491.851,1367.57 498.617,1384.77 505.384,1392.88 512.15,1401.18 518.916,1412.52 \n  525.682,1417.96 532.448,1421.9 539.215,1409.77 545.981,1409.24 552.747,1390.97 559.513,1374.33 566.279,1356.19 573.046,1346.62 579.812,1335.17 586.578,1309.48 \n  593.344,1296.37 600.11,1285.83 606.876,1266.82 613.643,1250.43 620.409,1241.29 627.175,1212.66 633.941,1183.61 640.707,1169.83 647.474,1147.26 654.24,1123.25 \n  661.006,1106.02 667.772,1089.69 674.538,1073.7 681.305,1058.56 688.071,1041.54 694.837,1021.95 701.603,1000.65 708.369,972.403 715.135,945.056 721.902,934.586 \n  728.668,924.978 735.434,909.009 742.2,888.661 748.966,856.542 755.733,830.399 762.499,808.587 769.265,796.17 776.031,767.94 782.797,743.771 789.564,720.802 \n  796.33,703.808 803.096,672.575 809.862,656.647 816.628,638.412 823.394,610.582 830.161,595.263 836.927,566.705 843.693,552.865 850.459,533.92 857.225,520.052 \n  863.992,496.669 870.758,480.879 877.524,448.02 884.29,423.929 891.056,401.421 897.823,390.517 904.589,377.784 911.355,357.338 918.121,331.824 924.887,318.791 \n  931.653,310.971 938.42,300.81 945.186,283.44 951.952,265.774 958.718,243.314 965.484,233.121 972.251,209.656 979.017,202.107 985.783,187.871 992.549,173.099 \n  999.315,160.853 1006.08,159.181 1012.85,143.022 1019.61,143.907 1026.38,138.781 1033.15,138.045 1039.91,130.987 1046.68,131.74 1053.44,126.047 1060.21,114.882 \n  1066.98,107.505 1073.74,114.218 1080.51,102.882 1087.28,96.9981 1094.04,87.9763 1100.81,88.4184 1107.57,93.3874 1114.34,89.5938 1121.11,105.532 1127.87,118.429 \n  1134.64,123.605 1141.41,131.38 1148.17,151.527 1154.94,162.214 1161.7,182.46 1168.47,204.614 1175.24,230.856 1182,238.374 1188.77,254.509 1195.53,280.033 \n  1202.3,299.788 1209.07,320.708 1215.83,339.207 1222.6,356.03 1229.37,366.148 1236.13,392.197 1242.9,406.808 1249.66,430.48 1256.43,451.859 1263.2,474.28 \n  1269.96,482.358 1276.73,509.855 1283.5,528.345 1290.26,550.388 1297.03,581.757 1303.79,599.247 1310.56,621.675 1317.33,641.126 1324.09,656.208 1330.86,688.619 \n  1337.62,717.085 1344.39,744.878 1351.16,765.191 1357.92,792.358 1364.69,810.708 1371.46,831.586 1378.22,844.996 1384.99,867.917 1391.75,895.954 1398.52,912.534 \n  1405.29,933.157 1412.05,955.94 1418.82,974.819 1425.59,983.901 1432.35,1003.22 1439.12,1012.5 1445.88,1025.37 1452.65,1052.32 1459.42,1068.24 1466.18,1075.78 \n  1472.95,1091.03 1479.71,1105.38 1486.48,1115.55 1493.25,1140.06 1500.01,1159.02 1506.78,1159.61 1513.55,1159.25 1520.31,1175.47 1527.08,1189.16 1533.84,1200.8 \n  1540.61,1211.34 1547.38,1213.62 1554.14,1224.9 1560.91,1220.2 1567.68,1222.59 1574.44,1224.63 1581.21,1238.16 1587.97,1236.11 1594.74,1241.89 1601.51,1236.74 \n  1608.27,1242.32 1615.04,1238.97 1621.8,1224.68 1628.57,1227.29 1635.34,1208.75 1642.1,1200.51 1648.87,1184.05 1655.64,1178.84 1662.4,1159.81 1669.17,1135.02 \n  1675.93,1131.48 1682.7,1126.66 1689.47,1104.03 1696.23,1091.15 1703,1082.09 1709.77,1075.2 1716.53,1059.29 1723.3,1036.72 1730.06,1021.67 1736.83,1017.58 \n  1743.6,1011.16 1750.36,999.723 1757.13,990.773 1763.89,962.04 1770.66,931.335 1777.43,907.8 1784.19,896.212 1790.96,873.637 1797.73,861.317 1804.49,849.593 \n  1811.26,838.125 1818.02,820.785 1824.79,797.061 1831.56,766.476 1838.32,737.776 1845.09,725.799 1851.86,709.179 1858.62,699.816 1865.39,668.745 1872.15,643.948 \n  1878.92,634.563 1885.69,620.714 1892.45,597.79 1899.22,575.4 1905.98,553.414 1912.75,540.793 1919.52,534.751 1926.28,526.52 1933.05,500.593 1939.82,492.234 \n  1946.58,465.115 1953.35,437.118 1960.11,412.695 1966.88,390.296 1973.65,372.435 1980.41,350.649 1987.18,323.778 1993.94,304.239 2000.71,301.683 2007.48,298.887 \n  2014.24,274.372 2021.01,271.369 2027.78,255.366 2034.54,251.709 2041.31,247.898 2048.07,230.93 2054.84,231.451 2061.61,231.23 2068.37,219.449 2075.14,206.659 \n  2081.91,195.654 2088.67,197.414 2095.44,205.788 2102.2,211.287 2108.97,200.503 2115.74,211.56 2122.5,211.778 2129.27,204.654 2136.03,211.453 2142.8,207.163 \n  2149.57,207.433 2156.33,200.963 2163.1,200.973 2169.87,204.422 2176.63,226.089 2183.4,226.765 2190.16,244.499 2196.93,250.167 2203.7,262.758 2210.46,287.043 \n  2217.23,306.138 2224,320.455 2230.76,335.285 2237.53,363.633 2244.29,390.251 2251.06,397.715 2257.83,417.059 2264.59,426.884 2271.36,448.605 2278.12,459 \n  2284.89,472.506 2291.66,502.113 \n  \"/>\n<polyline clip-path=\"url(#clip382)\" style=\"stroke:#3da44d; stroke-linecap:butt; stroke-linejoin:round; stroke-width:4; stroke-opacity:1; fill:none\" points=\"\n  255.035,523.443 261.801,523.617 268.567,524.053 275.333,524.674 282.099,525.565 288.866,526.757 295.632,528.183 302.398,529.801 309.164,531.567 315.93,533.509 \n  322.697,535.673 329.463,538.106 336.229,540.84 342.995,543.792 349.761,546.884 356.527,550.151 363.294,553.66 370.06,557.441 376.826,561.528 383.592,565.812 \n  390.358,570.22 397.125,574.805 403.891,579.579 410.657,584.526 417.423,589.673 424.189,594.984 430.956,600.461 437.722,606.1 444.488,611.893 451.254,617.887 \n  458.02,623.97 464.786,630.171 471.553,636.569 478.319,643.029 485.085,649.548 491.851,656.235 498.617,663.109 505.384,670.133 512.15,677.267 518.916,684.527 \n  525.682,691.902 532.448,699.357 539.215,706.806 545.981,714.227 552.747,721.591 559.513,728.817 566.279,735.906 573.046,742.892 579.812,749.809 586.578,756.574 \n  593.344,763.177 600.11,769.692 606.876,776.085 613.643,782.326 620.409,788.459 627.175,794.418 633.941,800.101 640.707,805.577 647.474,810.872 654.24,815.932 \n  661.006,820.777 667.772,825.441 674.538,829.925 681.305,834.229 688.071,838.343 694.837,842.238 701.603,845.889 708.369,849.246 715.135,852.275 721.902,855.061 \n  728.668,857.687 735.434,860.123 742.2,862.312 748.966,864.167 755.733,865.659 762.499,866.837 769.265,867.768 776.031,868.418 782.797,868.729 789.564,868.726 \n  796.33,868.448 803.096,867.853 809.862,866.95 816.628,865.805 823.394,864.362 830.161,862.639 836.927,860.637 843.693,858.367 850.459,855.883 857.225,853.188 \n  863.992,850.267 870.758,847.114 877.524,843.689 884.29,839.955 891.056,835.97 897.823,831.808 904.589,827.523 911.355,823.074 918.121,818.403 924.887,813.553 \n  931.653,808.619 938.42,803.619 945.186,798.512 951.952,793.264 958.718,787.854 965.484,782.323 972.251,776.671 979.017,770.914 985.783,765.101 992.549,759.197 \n  999.315,753.215 1006.08,747.222 1012.85,741.199 1019.61,735.159 1026.38,729.156 1033.15,723.183 1039.91,717.228 1046.68,711.296 1053.44,705.393 1060.21,699.456 \n  1066.98,693.476 1073.74,687.538 1080.51,681.62 1087.28,675.656 1094.04,669.656 1100.81,663.647 1107.57,657.698 1114.34,651.785 1121.11,645.96 1127.87,640.304 \n  1134.64,634.761 1141.41,629.303 1148.17,624.004 1154.94,618.875 1161.7,613.917 1168.47,609.184 1175.24,604.706 1182,600.409 1188.77,596.239 1195.53,592.288 \n  1202.3,588.573 1209.07,585.07 1215.83,581.772 1222.6,578.658 1229.37,575.687 1236.13,572.905 1242.9,570.335 1249.66,567.964 1256.43,565.827 1263.2,563.918 \n  1269.96,562.171 1276.73,560.611 1283.5,559.291 1290.26,558.183 1297.03,557.352 1303.79,556.776 1310.56,556.408 1317.33,556.258 1324.09,556.289 1330.86,556.565 \n  1337.62,557.152 1344.39,558.026 1351.16,559.144 1357.92,560.501 1364.69,562.086 1371.46,563.864 1378.22,565.809 1384.99,567.929 1391.75,570.295 1398.52,572.872 \n  1405.29,575.62 1412.05,578.569 1418.82,581.707 1425.59,584.963 1432.35,588.337 1439.12,591.827 1445.88,595.399 1452.65,599.141 1459.42,603.065 1466.18,607.073 \n  1472.95,611.16 1479.71,615.359 1486.48,619.645 1493.25,624.068 1500.01,628.67 1506.78,633.334 1513.55,637.961 1520.31,642.632 1527.08,647.417 1533.84,652.295 \n  1540.61,657.252 1547.38,662.241 1554.14,667.27 1560.91,672.304 1567.68,677.303 1574.44,682.302 1581.21,687.36 1587.97,692.459 1594.74,697.564 1601.51,702.66 \n  1608.27,707.751 1615.04,712.849 1621.8,717.856 1628.57,722.805 1635.34,727.679 1642.1,732.424 1648.87,737.054 1655.64,741.586 1662.4,746.009 1669.17,750.226 \n  1675.93,754.317 1682.7,758.381 1689.47,762.326 1696.23,766.11 1703,769.802 1709.77,773.432 1716.53,776.965 1723.3,780.324 1730.06,783.512 1736.83,786.621 \n  1743.6,789.694 1750.36,792.693 1757.13,795.605 1763.89,798.343 1770.66,800.797 1777.43,802.993 1784.19,805.025 1790.96,806.898 1797.73,808.607 1804.49,810.204 \n  1811.26,811.695 1818.02,813.049 1824.79,814.206 1831.56,815.099 1838.32,815.702 1845.09,816.109 1851.86,816.378 1858.62,816.524 1865.39,816.474 1872.15,816.151 \n  1878.92,815.664 1885.69,815.068 1892.45,814.294 1899.22,813.302 1905.98,812.096 1912.75,810.727 1919.52,809.273 1926.28,807.759 1933.05,806.084 1939.82,804.251 \n  1946.58,802.253 1953.35,799.993 1960.11,797.487 1966.88,794.761 1973.65,791.849 1980.41,788.754 1987.18,785.432 1993.94,781.893 2000.71,778.258 2007.48,774.61 \n  2014.24,770.839 2021.01,766.942 2027.78,762.961 2034.54,758.892 2041.31,754.794 2048.07,750.599 2054.84,746.327 2061.61,742.059 2068.37,737.733 2075.14,733.284 \n  2081.91,728.712 2088.67,724.09 2095.44,719.51 2102.2,714.99 2108.97,710.43 2115.74,705.858 2122.5,701.325 2129.27,696.738 2136.03,692.129 2142.8,687.508 \n  2149.57,682.842 2156.33,678.117 2163.1,673.331 2169.87,668.53 2176.63,663.821 2183.4,659.188 2190.16,654.611 2196.93,650.114 2203.7,645.67 2210.46,641.372 \n  2217.23,637.252 2224,633.261 2230.76,629.377 2237.53,625.672 2244.29,622.206 2251.06,618.876 2257.83,615.646 2264.59,612.531 2271.36,609.542 2278.12,606.686 \n  2284.89,603.922 2291.66,601.349 \n  \"/>\n<polyline clip-path=\"url(#clip382)\" style=\"stroke:#c271d2; stroke-linecap:butt; stroke-linejoin:round; stroke-width:4; stroke-opacity:1; fill:none\" points=\"\n  255.035,696.642 261.801,731.459 268.567,748.873 275.333,768.786 282.099,802.607 288.866,828.995 295.632,849.581 302.398,867.295 309.164,879.172 315.93,902.415 \n  322.697,923.655 329.463,956.183 336.229,983.762 342.995,1000.02 349.761,1011.59 356.527,1035.11 363.294,1059.91 370.06,1089.45 376.826,1121.12 383.592,1128.99 \n  390.358,1145.84 397.125,1164.37 403.891,1183.69 410.657,1198.93 417.423,1223.5 424.189,1232.03 430.956,1256.39 437.722,1264.78 444.488,1286.82 451.254,1305.14 \n  458.02,1304.76 464.786,1328.46 471.553,1344.31 478.319,1340.85 485.085,1356.15 491.851,1374.24 498.617,1393.69 505.384,1404.33 512.15,1415.39 518.916,1429.73 \n  525.682,1438.39 532.448,1445.72 539.215,1437.11 545.981,1440.21 552.747,1425.62 559.513,1412.66 566.279,1398.18 573.046,1392.2 579.812,1384.23 586.578,1361.86 \n  593.344,1351.84 600.11,1344.16 606.876,1327.69 613.643,1313.49 620.409,1306.16 627.175,1278.9 633.941,1250.78 640.707,1237.44 647.474,1214.82 654.24,1190.25 \n  661.006,1171.94 667.772,1154.01 674.538,1135.89 681.305,1118.06 688.071,1097.81 694.837,1074.45 701.603,1048.85 708.369,1015.81 715.135,983.222 721.902,967.096 \n  728.668,951.426 735.434,929.002 742.2,901.833 748.966,862.585 755.733,829.078 762.499,799.731 769.265,779.654 776.031,743.684 782.797,711.765 789.564,681.101 \n  796.33,656.521 803.096,617.869 809.862,594.755 816.628,569.607 823.394,535.189 830.161,513.657 836.927,479.304 843.693,460.135 850.459,436.349 857.225,418.149 \n  863.992,390.962 870.758,371.919 877.524,336.385 884.29,310.242 891.056,286.331 897.823,274.669 904.589,261.801 911.355,241.828 918.121,217.399 924.887,206.049 \n  931.653,200.469 938.42,193.059 945.186,178.913 951.952,164.917 958.718,146.551 965.484,140.839 972.251,122.205 979.017,119.796 985.783,110.953 992.549,101.787 \n  999.315,95.3146 1006.08,99.5195 1012.85,89.2916 1019.61,96.1101 1026.38,96.859 1033.15,101.892 1039.91,100.454 1046.68,106.641 1053.44,106.161 1060.21,99.9772 \n  1066.98,97.3358 1073.74,108.508 1080.51,101.345 1087.28,99.3616 1094.04,93.974 1100.81,97.7886 1107.57,105.864 1114.34,104.929 1121.11,123.482 1127.87,138.747 \n  1134.64,146.067 1141.41,155.793 1148.17,177.708 1154.94,189.997 1161.7,211.7 1168.47,235.174 1175.24,262.605 1182,271.205 1188.77,288.347 1195.53,314.812 \n  1202.3,335.451 1209.07,357.21 1215.83,376.516 1222.6,394.127 1229.37,405.035 1236.13,431.891 1242.9,447.329 1249.66,471.856 1256.43,494.114 1263.2,517.436 \n  1269.96,526.437 1276.73,554.888 1283.5,574.352 1290.26,597.381 1297.03,629.732 1303.79,648.175 1310.56,671.512 1317.33,691.816 1324.09,707.684 1330.86,740.801 \n  1337.62,769.862 1344.39,798.107 1351.16,818.699 1357.92,845.954 1364.69,864.18 1371.46,884.712 1378.22,897.548 1384.99,919.664 1391.75,946.654 1398.52,961.933 \n  1405.29,981.001 1412.05,1001.97 1418.82,1018.79 1425.59,1025.56 1432.35,1042.35 1439.12,1048.88 1445.88,1058.82 1452.65,1082.67 1459.42,1095.31 1466.18,1099.44 \n  1472.95,1111.18 1479.71,1121.91 1486.48,1128.42 1493.25,1149.23 1500.01,1164.46 1506.78,1161.35 1513.55,1157.34 1520.31,1170 1527.08,1180.21 1533.84,1188.53 \n  1540.61,1195.89 1547.38,1195.18 1554.14,1203.67 1560.91,1196.42 1567.68,1196.5 1574.44,1196.51 1581.21,1208.26 1587.97,1204.71 1594.74,1209.28 1601.51,1203.21 \n  1608.27,1208.16 1615.04,1204.46 1621.8,1190.13 1628.57,1192.95 1635.34,1174.88 1642.1,1167.35 1648.87,1151.82 1655.64,1147.74 1662.4,1129.99 1669.17,1106.65 \n  1675.93,1104.67 1682.7,1101.48 1689.47,1080.55 1696.23,1069.43 1703,1062.15 1709.77,1057.04 1716.53,1042.9 1723.3,1022.07 1730.06,1008.74 1736.83,1006.3 \n  1743.6,1001.47 1750.36,991.557 1757.13,984.066 1763.89,956.73 1770.66,927.356 1777.43,905.074 1784.19,894.647 1790.96,873.145 1797.73,861.814 1804.49,850.999 \n  1811.26,840.372 1818.02,823.819 1824.79,800.841 1831.56,770.967 1838.32,742.947 1845.09,731.617 1851.86,715.623 1858.62,706.88 1865.39,676.437 1872.15,652.287 \n  1878.92,643.568 1885.69,630.419 1892.45,608.244 1899.22,586.658 1905.98,565.533 1912.75,553.834 1919.52,548.783 1926.28,541.628 1933.05,516.871 1939.82,509.775 \n  1946.58,484.013 1953.35,457.451 1960.11,434.523 1966.88,413.658 1973.65,397.352 1980.41,377.124 1987.18,351.795 1993.94,333.752 2000.71,332.624 2007.48,331.182 \n  2014.24,307.941 2021.01,306.106 2027.78,291.152 2034.54,288.405 2041.31,285.356 2048.07,268.993 2054.84,269.938 2061.61,269.957 2068.37,258.225 2075.14,245.274 \n  2081.91,233.876 2088.67,234.992 2095.44,242.475 2102.2,246.85 2108.97,234.717 2115.74,244.192 2122.5,242.61 2129.27,233.469 2136.03,238.031 2142.8,231.293 \n  2149.57,228.905 2156.33,219.57 2163.1,216.505 2169.87,216.683 2176.63,234.905 2183.4,231.997 2190.16,246.033 2196.93,247.919 2203.7,256.668 2210.46,277.081 \n  2217.23,292.313 2224,302.807 2230.76,313.878 2237.53,338.554 2244.29,361.618 2251.06,365.67 2257.83,381.75 2264.59,388.47 2271.36,407.245 2278.12,414.862 \n  2284.89,425.755 2291.66,452.914 \n  \"/>\n<path clip-path=\"url(#clip380)\" d=\"\nM1986.78 354.418 L2280.8 354.418 L2280.8 95.2176 L1986.78 95.2176  Z\n  \" fill=\"#ffffff\" fill-rule=\"evenodd\" fill-opacity=\"1\"/>\n<polyline clip-path=\"url(#clip380)\" style=\"stroke:#000000; stroke-linecap:butt; stroke-linejoin:round; stroke-width:4; stroke-opacity:1; fill:none\" points=\"\n  1986.78,354.418 2280.8,354.418 2280.8,95.2176 1986.78,95.2176 1986.78,354.418 \n  \"/>\n<polyline clip-path=\"url(#clip380)\" style=\"stroke:#009af9; stroke-linecap:butt; stroke-linejoin:round; stroke-width:4; stroke-opacity:1; fill:none\" points=\"\n  2010.77,147.058 2154.69,147.058 \n  \"/>\n<path clip-path=\"url(#clip380)\" d=\"M2192.52 166.745 Q2190.72 171.375 2189 172.787 Q2187.29 174.199 2184.42 174.199 L2181.02 174.199 L2181.02 170.634 L2183.52 170.634 Q2185.28 170.634 2186.25 169.8 Q2187.22 168.967 2188.4 165.865 L2189.16 163.921 L2178.68 138.412 L2183.19 138.412 L2191.29 158.689 L2199.4 138.412 L2203.91 138.412 L2192.52 166.745 Z\" fill=\"#000000\" fill-rule=\"evenodd\" fill-opacity=\"1\" /><path clip-path=\"url(#clip380)\" d=\"M2211.2 160.402 L2218.84 160.402 L2218.84 134.037 L2210.53 135.703 L2210.53 131.444 L2218.79 129.778 L2223.47 129.778 L2223.47 160.402 L2231.11 160.402 L2231.11 164.338 L2211.2 164.338 L2211.2 160.402 Z\" fill=\"#000000\" fill-rule=\"evenodd\" fill-opacity=\"1\" /><polyline clip-path=\"url(#clip380)\" style=\"stroke:#e26f46; stroke-linecap:butt; stroke-linejoin:round; stroke-width:4; stroke-opacity:1; fill:none\" points=\"\n  2010.77,198.898 2154.69,198.898 \n  \"/>\n<path clip-path=\"url(#clip380)\" d=\"M2192.52 218.585 Q2190.72 223.215 2189 224.627 Q2187.29 226.039 2184.42 226.039 L2181.02 226.039 L2181.02 222.474 L2183.52 222.474 Q2185.28 222.474 2186.25 221.64 Q2187.22 220.807 2188.4 217.705 L2189.16 215.761 L2178.68 190.252 L2183.19 190.252 L2191.29 210.529 L2199.4 190.252 L2203.91 190.252 L2192.52 218.585 Z\" fill=\"#000000\" fill-rule=\"evenodd\" fill-opacity=\"1\" /><path clip-path=\"url(#clip380)\" d=\"M2214.42 212.242 L2230.74 212.242 L2230.74 216.178 L2208.79 216.178 L2208.79 212.242 Q2211.46 209.488 2216.04 204.858 Q2220.65 200.205 2221.83 198.863 Q2224.07 196.34 2224.95 194.604 Q2225.85 192.844 2225.85 191.155 Q2225.85 188.4 2223.91 186.664 Q2221.99 184.928 2218.89 184.928 Q2216.69 184.928 2214.23 185.692 Q2211.8 186.455 2209.03 188.006 L2209.03 183.284 Q2211.85 182.15 2214.3 181.571 Q2216.76 180.993 2218.79 180.993 Q2224.16 180.993 2227.36 183.678 Q2230.55 186.363 2230.55 190.854 Q2230.55 192.983 2229.74 194.905 Q2228.96 196.803 2226.85 199.395 Q2226.27 200.067 2223.17 203.284 Q2220.07 206.479 2214.42 212.242 Z\" fill=\"#000000\" fill-rule=\"evenodd\" fill-opacity=\"1\" /><polyline clip-path=\"url(#clip380)\" style=\"stroke:#3da44d; stroke-linecap:butt; stroke-linejoin:round; stroke-width:4; stroke-opacity:1; fill:none\" points=\"\n  2010.77,250.738 2154.69,250.738 \n  \"/>\n<path clip-path=\"url(#clip380)\" d=\"M2192.52 270.425 Q2190.72 275.055 2189 276.467 Q2187.29 277.879 2184.42 277.879 L2181.02 277.879 L2181.02 274.314 L2183.52 274.314 Q2185.28 274.314 2186.25 273.48 Q2187.22 272.647 2188.4 269.545 L2189.16 267.601 L2178.68 242.092 L2183.19 242.092 L2191.29 262.369 L2199.4 242.092 L2203.91 242.092 L2192.52 270.425 Z\" fill=\"#000000\" fill-rule=\"evenodd\" fill-opacity=\"1\" /><path clip-path=\"url(#clip380)\" d=\"M2224.56 249.383 Q2227.91 250.101 2229.79 252.369 Q2231.69 254.638 2231.69 257.971 Q2231.69 263.087 2228.17 265.888 Q2224.65 268.689 2218.17 268.689 Q2215.99 268.689 2213.68 268.249 Q2211.39 267.832 2208.93 266.976 L2208.93 262.462 Q2210.88 263.596 2213.19 264.175 Q2215.51 264.754 2218.03 264.754 Q2222.43 264.754 2224.72 263.018 Q2227.03 261.281 2227.03 257.971 Q2227.03 254.916 2224.88 253.203 Q2222.75 251.467 2218.93 251.467 L2214.9 251.467 L2214.9 247.624 L2219.12 247.624 Q2222.57 247.624 2224.4 246.258 Q2226.22 244.87 2226.22 242.277 Q2226.22 239.615 2224.33 238.203 Q2222.45 236.768 2218.93 236.768 Q2217.01 236.768 2214.81 237.184 Q2212.61 237.601 2209.97 238.481 L2209.97 234.314 Q2212.64 233.573 2214.95 233.203 Q2217.29 232.833 2219.35 232.833 Q2224.67 232.833 2227.78 235.263 Q2230.88 237.67 2230.88 241.791 Q2230.88 244.661 2229.23 246.652 Q2227.59 248.62 2224.56 249.383 Z\" fill=\"#000000\" fill-rule=\"evenodd\" fill-opacity=\"1\" /><polyline clip-path=\"url(#clip380)\" style=\"stroke:#c271d2; stroke-linecap:butt; stroke-linejoin:round; stroke-width:4; stroke-opacity:1; fill:none\" points=\"\n  2010.77,302.578 2154.69,302.578 \n  \"/>\n<path clip-path=\"url(#clip380)\" d=\"M2192.52 322.265 Q2190.72 326.895 2189 328.307 Q2187.29 329.719 2184.42 329.719 L2181.02 329.719 L2181.02 326.154 L2183.52 326.154 Q2185.28 326.154 2186.25 325.32 Q2187.22 324.487 2188.4 321.385 L2189.16 319.441 L2178.68 293.932 L2183.19 293.932 L2191.29 314.209 L2199.4 293.932 L2203.91 293.932 L2192.52 322.265 Z\" fill=\"#000000\" fill-rule=\"evenodd\" fill-opacity=\"1\" /><path clip-path=\"url(#clip380)\" d=\"M2223.24 289.372 L2211.43 307.821 L2223.24 307.821 L2223.24 289.372 M2222.01 285.298 L2227.89 285.298 L2227.89 307.821 L2232.82 307.821 L2232.82 311.709 L2227.89 311.709 L2227.89 319.858 L2223.24 319.858 L2223.24 311.709 L2207.64 311.709 L2207.64 307.196 L2222.01 285.298 Z\" fill=\"#000000\" fill-rule=\"evenodd\" fill-opacity=\"1\" /></svg>\n"
     },
     "execution_count": 25,
     "metadata": {},
     "output_type": "execute_result"
    }
   ],
   "source": [
    "plot(time, theta_sim)\n",
    "plot!(time, omega_sim)\n",
    "\n",
    "plot!(time, theta_bilinear)\n",
    "plot!(time, omega_bilinear)"
   ]
  },
  {
   "cell_type": "code",
   "execution_count": 26,
   "metadata": {},
   "outputs": [
    {
     "data": {
      "image/svg+xml": "<?xml version=\"1.0\" encoding=\"utf-8\"?>\n<svg xmlns=\"http://www.w3.org/2000/svg\" xmlns:xlink=\"http://www.w3.org/1999/xlink\" width=\"600\" height=\"400\" viewBox=\"0 0 2400 1600\">\n<defs>\n  <clipPath id=\"clip420\">\n    <rect x=\"0\" y=\"0\" width=\"2400\" height=\"1600\"/>\n  </clipPath>\n</defs>\n<path clip-path=\"url(#clip420)\" d=\"\nM0 1600 L2400 1600 L2400 0 L0 0  Z\n  \" fill=\"#ffffff\" fill-rule=\"evenodd\" fill-opacity=\"1\"/>\n<defs>\n  <clipPath id=\"clip421\">\n    <rect x=\"480\" y=\"0\" width=\"1681\" height=\"1600\"/>\n  </clipPath>\n</defs>\n<path clip-path=\"url(#clip420)\" d=\"\nM149.191 1486.45 L2352.76 1486.45 L2352.76 47.2441 L149.191 47.2441  Z\n  \" fill=\"#ffffff\" fill-rule=\"evenodd\" fill-opacity=\"1\"/>\n<defs>\n  <clipPath id=\"clip422\">\n    <rect x=\"149\" y=\"47\" width=\"2205\" height=\"1440\"/>\n  </clipPath>\n</defs>\n<polyline clip-path=\"url(#clip422)\" style=\"stroke:#000000; stroke-linecap:butt; stroke-linejoin:round; stroke-width:2; stroke-opacity:0.1; fill:none\" points=\"\n  211.556,1486.45 211.556,47.2441 \n  \"/>\n<polyline clip-path=\"url(#clip422)\" style=\"stroke:#000000; stroke-linecap:butt; stroke-linejoin:round; stroke-width:2; stroke-opacity:0.1; fill:none\" points=\"\n  902.199,1486.45 902.199,47.2441 \n  \"/>\n<polyline clip-path=\"url(#clip422)\" style=\"stroke:#000000; stroke-linecap:butt; stroke-linejoin:round; stroke-width:2; stroke-opacity:0.1; fill:none\" points=\"\n  1592.84,1486.45 1592.84,47.2441 \n  \"/>\n<polyline clip-path=\"url(#clip422)\" style=\"stroke:#000000; stroke-linecap:butt; stroke-linejoin:round; stroke-width:2; stroke-opacity:0.1; fill:none\" points=\"\n  2283.48,1486.45 2283.48,47.2441 \n  \"/>\n<polyline clip-path=\"url(#clip420)\" style=\"stroke:#000000; stroke-linecap:butt; stroke-linejoin:round; stroke-width:4; stroke-opacity:1; fill:none\" points=\"\n  149.191,1486.45 2352.76,1486.45 \n  \"/>\n<polyline clip-path=\"url(#clip420)\" style=\"stroke:#000000; stroke-linecap:butt; stroke-linejoin:round; stroke-width:4; stroke-opacity:1; fill:none\" points=\"\n  211.556,1486.45 211.556,1467.55 \n  \"/>\n<polyline clip-path=\"url(#clip420)\" style=\"stroke:#000000; stroke-linecap:butt; stroke-linejoin:round; stroke-width:4; stroke-opacity:1; fill:none\" points=\"\n  902.199,1486.45 902.199,1467.55 \n  \"/>\n<polyline clip-path=\"url(#clip420)\" style=\"stroke:#000000; stroke-linecap:butt; stroke-linejoin:round; stroke-width:4; stroke-opacity:1; fill:none\" points=\"\n  1592.84,1486.45 1592.84,1467.55 \n  \"/>\n<polyline clip-path=\"url(#clip420)\" style=\"stroke:#000000; stroke-linecap:butt; stroke-linejoin:round; stroke-width:4; stroke-opacity:1; fill:none\" points=\"\n  2283.48,1486.45 2283.48,1467.55 \n  \"/>\n<path clip-path=\"url(#clip420)\" d=\"M211.556 1517.37 Q207.945 1517.37 206.116 1520.93 Q204.311 1524.47 204.311 1531.6 Q204.311 1538.71 206.116 1542.27 Q207.945 1545.82 211.556 1545.82 Q215.19 1545.82 216.996 1542.27 Q218.824 1538.71 218.824 1531.6 Q218.824 1524.47 216.996 1520.93 Q215.19 1517.37 211.556 1517.37 M211.556 1513.66 Q217.366 1513.66 220.422 1518.27 Q223.5 1522.85 223.5 1531.6 Q223.5 1540.33 220.422 1544.94 Q217.366 1549.52 211.556 1549.52 Q205.746 1549.52 202.667 1544.94 Q199.612 1540.33 199.612 1531.6 Q199.612 1522.85 202.667 1518.27 Q205.746 1513.66 211.556 1513.66 Z\" fill=\"#000000\" fill-rule=\"evenodd\" fill-opacity=\"1\" /><path clip-path=\"url(#clip420)\" d=\"M892.581 1544.91 L900.22 1544.91 L900.22 1518.55 L891.909 1520.21 L891.909 1515.95 L900.173 1514.29 L904.849 1514.29 L904.849 1544.91 L912.488 1544.91 L912.488 1548.85 L892.581 1548.85 L892.581 1544.91 Z\" fill=\"#000000\" fill-rule=\"evenodd\" fill-opacity=\"1\" /><path clip-path=\"url(#clip420)\" d=\"M1587.49 1544.91 L1603.81 1544.91 L1603.81 1548.85 L1581.87 1548.85 L1581.87 1544.91 Q1584.53 1542.16 1589.11 1537.53 Q1593.72 1532.88 1594.9 1531.53 Q1597.15 1529.01 1598.03 1527.27 Q1598.93 1525.51 1598.93 1523.82 Q1598.93 1521.07 1596.99 1519.33 Q1595.06 1517.6 1591.96 1517.6 Q1589.76 1517.6 1587.31 1518.36 Q1584.88 1519.13 1582.1 1520.68 L1582.1 1515.95 Q1584.92 1514.82 1587.38 1514.24 Q1589.83 1513.66 1591.87 1513.66 Q1597.24 1513.66 1600.43 1516.35 Q1603.63 1519.03 1603.63 1523.52 Q1603.63 1525.65 1602.82 1527.57 Q1602.03 1529.47 1599.92 1532.07 Q1599.35 1532.74 1596.24 1535.95 Q1593.14 1539.15 1587.49 1544.91 Z\" fill=\"#000000\" fill-rule=\"evenodd\" fill-opacity=\"1\" /><path clip-path=\"url(#clip420)\" d=\"M2287.73 1530.21 Q2291.09 1530.93 2292.96 1533.2 Q2294.86 1535.47 2294.86 1538.8 Q2294.86 1543.92 2291.34 1546.72 Q2287.82 1549.52 2281.34 1549.52 Q2279.17 1549.52 2276.85 1549.08 Q2274.56 1548.66 2272.11 1547.81 L2272.11 1543.29 Q2274.05 1544.43 2276.37 1545.01 Q2278.68 1545.58 2281.2 1545.58 Q2285.6 1545.58 2287.89 1543.85 Q2290.21 1542.11 2290.21 1538.8 Q2290.21 1535.75 2288.06 1534.03 Q2285.93 1532.3 2282.11 1532.3 L2278.08 1532.3 L2278.08 1528.45 L2282.29 1528.45 Q2285.74 1528.45 2287.57 1527.09 Q2289.4 1525.7 2289.4 1523.11 Q2289.4 1520.45 2287.5 1519.03 Q2285.63 1517.6 2282.11 1517.6 Q2280.19 1517.6 2277.99 1518.01 Q2275.79 1518.43 2273.15 1519.31 L2273.15 1515.14 Q2275.81 1514.4 2278.13 1514.03 Q2280.46 1513.66 2282.52 1513.66 Q2287.85 1513.66 2290.95 1516.09 Q2294.05 1518.5 2294.05 1522.62 Q2294.05 1525.49 2292.41 1527.48 Q2290.76 1529.45 2287.73 1530.21 Z\" fill=\"#000000\" fill-rule=\"evenodd\" fill-opacity=\"1\" /><polyline clip-path=\"url(#clip422)\" style=\"stroke:#000000; stroke-linecap:butt; stroke-linejoin:round; stroke-width:2; stroke-opacity:0.1; fill:none\" points=\"\n  149.191,1446.12 2352.76,1446.12 \n  \"/>\n<polyline clip-path=\"url(#clip422)\" style=\"stroke:#000000; stroke-linecap:butt; stroke-linejoin:round; stroke-width:2; stroke-opacity:0.1; fill:none\" points=\"\n  149.191,1098.81 2352.76,1098.81 \n  \"/>\n<polyline clip-path=\"url(#clip422)\" style=\"stroke:#000000; stroke-linecap:butt; stroke-linejoin:round; stroke-width:2; stroke-opacity:0.1; fill:none\" points=\"\n  149.191,751.488 2352.76,751.488 \n  \"/>\n<polyline clip-path=\"url(#clip422)\" style=\"stroke:#000000; stroke-linecap:butt; stroke-linejoin:round; stroke-width:2; stroke-opacity:0.1; fill:none\" points=\"\n  149.191,404.17 2352.76,404.17 \n  \"/>\n<polyline clip-path=\"url(#clip422)\" style=\"stroke:#000000; stroke-linecap:butt; stroke-linejoin:round; stroke-width:2; stroke-opacity:0.1; fill:none\" points=\"\n  149.191,56.8512 2352.76,56.8512 \n  \"/>\n<polyline clip-path=\"url(#clip420)\" style=\"stroke:#000000; stroke-linecap:butt; stroke-linejoin:round; stroke-width:4; stroke-opacity:1; fill:none\" points=\"\n  149.191,1486.45 149.191,47.2441 \n  \"/>\n<polyline clip-path=\"url(#clip420)\" style=\"stroke:#000000; stroke-linecap:butt; stroke-linejoin:round; stroke-width:4; stroke-opacity:1; fill:none\" points=\"\n  149.191,1446.12 168.089,1446.12 \n  \"/>\n<polyline clip-path=\"url(#clip420)\" style=\"stroke:#000000; stroke-linecap:butt; stroke-linejoin:round; stroke-width:4; stroke-opacity:1; fill:none\" points=\"\n  149.191,1098.81 168.089,1098.81 \n  \"/>\n<polyline clip-path=\"url(#clip420)\" style=\"stroke:#000000; stroke-linecap:butt; stroke-linejoin:round; stroke-width:4; stroke-opacity:1; fill:none\" points=\"\n  149.191,751.488 168.089,751.488 \n  \"/>\n<polyline clip-path=\"url(#clip420)\" style=\"stroke:#000000; stroke-linecap:butt; stroke-linejoin:round; stroke-width:4; stroke-opacity:1; fill:none\" points=\"\n  149.191,404.17 168.089,404.17 \n  \"/>\n<polyline clip-path=\"url(#clip420)\" style=\"stroke:#000000; stroke-linecap:butt; stroke-linejoin:round; stroke-width:4; stroke-opacity:1; fill:none\" points=\"\n  149.191,56.8512 168.089,56.8512 \n  \"/>\n<path clip-path=\"url(#clip420)\" d=\"M50.9921 1446.58 L80.6679 1446.58 L80.6679 1450.51 L50.9921 1450.51 L50.9921 1446.58 Z\" fill=\"#000000\" fill-rule=\"evenodd\" fill-opacity=\"1\" /><path clip-path=\"url(#clip420)\" d=\"M103.608 1432.92 L91.8021 1451.37 L103.608 1451.37 L103.608 1432.92 M102.381 1428.84 L108.26 1428.84 L108.26 1451.37 L113.191 1451.37 L113.191 1455.26 L108.26 1455.26 L108.26 1463.4 L103.608 1463.4 L103.608 1455.26 L88.0058 1455.26 L88.0058 1450.74 L102.381 1428.84 Z\" fill=\"#000000\" fill-rule=\"evenodd\" fill-opacity=\"1\" /><path clip-path=\"url(#clip420)\" d=\"M53.0754 1099.26 L82.7512 1099.26 L82.7512 1103.19 L53.0754 1103.19 L53.0754 1099.26 Z\" fill=\"#000000\" fill-rule=\"evenodd\" fill-opacity=\"1\" /><path clip-path=\"url(#clip420)\" d=\"M96.8715 1112.15 L113.191 1112.15 L113.191 1116.09 L91.2465 1116.09 L91.2465 1112.15 Q93.9086 1109.4 98.4919 1104.77 Q103.098 1100.11 104.279 1098.77 Q106.524 1096.25 107.404 1094.51 Q108.307 1092.75 108.307 1091.06 Q108.307 1088.31 106.362 1086.57 Q104.441 1084.84 101.339 1084.84 Q99.14 1084.84 96.6863 1085.6 Q94.2558 1086.36 91.478 1087.92 L91.478 1083.19 Q94.3021 1082.06 96.7558 1081.48 Q99.2095 1080.9 101.246 1080.9 Q106.617 1080.9 109.811 1083.59 Q113.006 1086.27 113.006 1090.76 Q113.006 1092.89 112.196 1094.81 Q111.408 1096.71 109.302 1099.3 Q108.723 1099.98 105.621 1103.19 Q102.52 1106.39 96.8715 1112.15 Z\" fill=\"#000000\" fill-rule=\"evenodd\" fill-opacity=\"1\" /><path clip-path=\"url(#clip420)\" d=\"M101.246 737.287 Q97.6354 737.287 95.8067 740.852 Q94.0012 744.393 94.0012 751.523 Q94.0012 758.629 95.8067 762.194 Q97.6354 765.736 101.246 765.736 Q104.881 765.736 106.686 762.194 Q108.515 758.629 108.515 751.523 Q108.515 744.393 106.686 740.852 Q104.881 737.287 101.246 737.287 M101.246 733.583 Q107.057 733.583 110.112 738.19 Q113.191 742.773 113.191 751.523 Q113.191 760.25 110.112 764.856 Q107.057 769.439 101.246 769.439 Q95.4363 769.439 92.3576 764.856 Q89.3021 760.25 89.3021 751.523 Q89.3021 742.773 92.3576 738.19 Q95.4363 733.583 101.246 733.583 Z\" fill=\"#000000\" fill-rule=\"evenodd\" fill-opacity=\"1\" /><path clip-path=\"url(#clip420)\" d=\"M96.8715 417.514 L113.191 417.514 L113.191 421.45 L91.2465 421.45 L91.2465 417.514 Q93.9086 414.76 98.4919 410.13 Q103.098 405.478 104.279 404.135 Q106.524 401.612 107.404 399.876 Q108.307 398.116 108.307 396.427 Q108.307 393.672 106.362 391.936 Q104.441 390.2 101.339 390.2 Q99.14 390.2 96.6863 390.964 Q94.2558 391.728 91.478 393.279 L91.478 388.556 Q94.3021 387.422 96.7558 386.843 Q99.2095 386.265 101.246 386.265 Q106.617 386.265 109.811 388.95 Q113.006 391.635 113.006 396.126 Q113.006 398.255 112.196 400.177 Q111.408 402.075 109.302 404.667 Q108.723 405.339 105.621 408.556 Q102.52 411.751 96.8715 417.514 Z\" fill=\"#000000\" fill-rule=\"evenodd\" fill-opacity=\"1\" /><path clip-path=\"url(#clip420)\" d=\"M103.608 43.6453 L91.8021 62.0942 L103.608 62.0942 L103.608 43.6453 M102.381 39.5712 L108.26 39.5712 L108.26 62.0942 L113.191 62.0942 L113.191 65.9831 L108.26 65.9831 L108.26 74.1312 L103.608 74.1312 L103.608 65.9831 L88.0058 65.9831 L88.0058 61.4692 L102.381 39.5712 Z\" fill=\"#000000\" fill-rule=\"evenodd\" fill-opacity=\"1\" /><polyline clip-path=\"url(#clip422)\" style=\"stroke:#009af9; stroke-linecap:butt; stroke-linejoin:round; stroke-width:4; stroke-opacity:1; fill:none\" points=\"\n  211.556,478.705 218.462,478.806 225.369,479.107 232.275,479.609 239.182,480.311 246.088,481.21 252.994,482.308 259.901,483.603 266.807,485.093 273.714,486.779 \n  280.62,488.659 287.527,490.733 294.433,492.999 301.339,495.456 308.246,498.102 315.152,500.938 322.059,503.961 328.965,507.17 335.872,510.562 342.778,514.137 \n  349.684,517.892 356.591,521.824 363.497,525.932 370.404,530.212 377.31,534.662 384.217,539.278 391.123,544.056 398.029,548.993 404.936,554.084 411.842,559.324 \n  418.749,564.709 425.655,570.233 432.562,575.89 439.468,581.674 446.374,587.578 453.281,593.595 460.187,599.718 467.094,605.938 474,612.248 480.907,618.638 \n  487.813,625.1 494.719,631.623 501.626,638.198 508.532,644.814 515.439,651.462 522.345,658.129 529.252,664.805 536.158,671.479 543.064,678.139 549.971,684.772 \n  556.877,691.368 563.784,697.915 570.69,704.399 577.597,710.811 584.503,717.137 591.409,723.366 598.316,729.486 605.222,735.486 612.129,741.355 619.035,747.082 \n  625.942,752.655 632.848,758.066 639.754,763.303 646.661,768.358 653.567,773.221 660.474,777.884 667.38,782.338 674.287,786.575 681.193,790.589 688.099,794.372 \n  695.006,797.918 701.912,801.222 708.819,804.278 715.725,807.081 722.632,809.627 729.538,811.913 736.444,813.935 743.351,815.691 750.257,817.179 757.164,818.396 \n  764.07,819.342 770.977,820.016 777.883,820.418 784.789,820.548 791.696,820.408 798.602,819.998 805.509,819.321 812.415,818.378 819.322,817.172 826.228,815.707 \n  833.134,813.987 840.041,812.014 846.947,809.796 853.854,807.335 860.76,804.638 867.667,801.711 874.573,798.559 881.479,795.191 888.386,791.613 895.292,787.833 \n  902.199,783.858 909.105,779.698 916.012,775.361 922.918,770.856 929.824,766.192 936.731,761.38 943.637,756.429 950.544,751.349 957.45,746.151 964.357,740.846 \n  971.263,735.444 978.169,729.957 985.076,724.394 991.982,718.769 998.889,713.09 1005.8,707.371 1012.7,701.621 1019.61,695.851 1026.51,690.073 1033.42,684.297 \n  1040.33,678.534 1047.23,672.794 1054.14,667.087 1061.05,661.423 1067.95,655.812 1074.86,650.262 1081.77,644.783 1088.67,639.383 1095.58,634.071 1102.49,628.853 \n  1109.39,623.739 1116.3,618.735 1123.2,613.847 1130.11,609.082 1137.02,604.447 1143.92,599.945 1150.83,595.584 1157.74,591.367 1164.64,587.3 1171.55,583.385 \n  1178.46,579.628 1185.36,576.031 1192.27,572.598 1199.18,569.331 1206.08,566.234 1212.99,563.308 1219.89,560.556 1226.8,557.978 1233.71,555.578 1240.61,553.356 \n  1247.52,551.313 1254.43,549.451 1261.33,547.769 1268.24,546.269 1275.15,544.951 1282.05,543.815 1288.96,542.861 1295.87,542.09 1302.77,541.5 1309.68,541.093 \n  1316.58,540.867 1323.49,540.821 1330.4,540.955 1337.3,541.269 1344.21,541.761 1351.12,542.43 1358.02,543.276 1364.93,544.296 1371.84,545.489 1378.74,546.854 \n  1385.65,548.39 1392.56,550.093 1399.46,551.963 1406.37,553.997 1413.27,556.192 1420.18,558.547 1427.09,561.059 1433.99,563.724 1440.9,566.541 1447.81,569.504 \n  1454.71,572.612 1461.62,575.861 1468.53,579.245 1475.43,582.763 1482.34,586.408 1489.25,590.177 1496.15,594.065 1503.06,598.066 1509.96,602.175 1516.87,606.387 \n  1523.78,610.695 1530.68,615.094 1537.59,619.578 1544.5,624.139 1551.4,628.77 1558.31,633.465 1565.22,638.217 1572.12,643.017 1579.03,647.859 1585.94,652.733 \n  1592.84,657.632 1599.75,662.549 1606.65,667.473 1613.56,672.397 1620.47,677.313 1627.37,682.211 1634.28,687.083 1641.19,691.92 1648.09,696.714 1655,701.455 \n  1661.91,706.136 1668.81,710.746 1675.72,715.279 1682.63,719.725 1689.53,724.077 1696.44,728.327 1703.34,732.466 1710.25,736.487 1717.16,740.382 1724.06,744.145 \n  1730.97,747.769 1737.88,751.247 1744.78,754.573 1751.69,757.741 1758.6,760.746 1765.5,763.582 1772.41,766.244 1779.32,768.728 1786.22,771.03 1793.13,773.146 \n  1800.03,775.072 1806.94,776.806 1813.85,778.346 1820.75,779.688 1827.66,780.831 1834.57,781.774 1841.47,782.515 1848.38,783.054 1855.29,783.391 1862.19,783.527 \n  1869.1,783.46 1876.01,783.193 1882.91,782.727 1889.82,782.063 1896.72,781.203 1903.63,780.151 1910.54,778.908 1917.44,777.478 1924.35,775.864 1931.26,774.071 \n  1938.16,772.102 1945.07,769.962 1951.98,767.656 1958.88,765.189 1965.79,762.566 1972.7,759.793 1979.6,756.877 1986.51,753.823 1993.41,750.638 2000.32,747.329 \n  2007.23,743.903 2014.13,740.366 2021.04,736.727 2027.95,732.992 2034.85,729.17 2041.76,725.268 2048.67,721.294 2055.57,717.257 2062.48,713.163 2069.39,709.021 \n  2076.29,704.84 2083.2,700.627 2090.1,696.39 2097.01,692.138 2103.92,687.878 2110.82,683.618 2117.73,679.366 2124.64,675.129 2131.54,670.916 2138.45,666.733 \n  2145.36,662.587 2152.26,658.486 2159.17,654.436 2166.08,650.443 2172.98,646.515 2179.89,642.658 2186.79,638.876 2193.7,635.176 2200.61,631.563 2207.51,628.043 \n  2214.42,624.62 2221.33,621.299 2228.23,618.084 2235.14,614.98 2242.05,611.99 2248.95,609.118 2255.86,606.367 2262.77,603.741 2269.67,601.242 2276.58,598.873 \n  2283.48,596.637 2290.39,594.536 \n  \"/>\n<polyline clip-path=\"url(#clip422)\" style=\"stroke:#e26f46; stroke-linecap:butt; stroke-linejoin:round; stroke-width:4; stroke-opacity:1; fill:none\" points=\"\n  211.556,751.488 218.462,771.627 225.369,791.685 232.275,811.664 239.182,831.561 246.088,851.378 252.994,871.113 259.901,890.764 266.807,910.329 273.714,929.805 \n  280.62,949.186 287.527,968.467 294.433,987.643 301.339,1006.7 308.246,1025.64 315.152,1044.44 322.059,1063.09 328.965,1081.58 335.872,1099.89 342.778,1118 \n  349.684,1135.9 356.591,1153.55 363.497,1170.94 370.404,1188.04 377.31,1204.82 384.217,1221.25 391.123,1237.31 398.029,1252.95 404.936,1268.13 411.842,1282.84 \n  418.749,1297.02 425.655,1310.63 432.562,1323.64 439.468,1336 446.374,1347.68 453.281,1358.62 460.187,1368.79 467.094,1378.14 474,1386.63 480.907,1394.23 \n  487.813,1400.88 494.719,1406.57 501.626,1411.24 508.532,1414.86 515.439,1417.41 522.345,1418.85 529.252,1419.17 536.158,1418.34 543.064,1416.34 549.971,1413.17 \n  556.877,1408.8 563.784,1403.24 570.69,1396.49 577.597,1388.55 584.503,1379.43 591.409,1369.14 598.316,1357.7 605.222,1345.12 612.129,1331.44 619.035,1316.68 \n  625.942,1300.88 632.848,1284.06 639.754,1266.26 646.661,1247.53 653.567,1227.91 660.474,1207.45 667.38,1186.18 674.287,1164.16 681.193,1141.43 688.099,1118.05 \n  695.006,1094.07 701.912,1069.54 708.819,1044.51 715.725,1019.03 722.632,993.16 729.538,966.942 736.444,940.433 743.351,913.683 750.257,886.743 757.164,859.665 \n  764.07,832.499 770.977,805.295 777.883,778.102 784.789,750.97 791.696,723.946 798.602,697.081 805.509,670.421 812.415,644.014 819.322,617.907 826.228,592.148 \n  833.134,566.783 840.041,541.857 846.947,517.417 853.854,493.507 860.76,470.172 867.667,447.455 874.573,425.399 881.479,404.046 888.386,383.438 895.292,363.613 \n  902.199,344.61 909.105,326.466 916.012,309.215 922.918,292.891 929.824,277.524 936.731,263.143 943.637,249.774 950.544,237.44 957.45,226.162 964.357,215.957 \n  971.263,206.839 978.169,198.818 985.076,191.904 991.982,186.099 998.889,181.404 1005.8,177.817 1012.7,175.332 1019.61,173.938 1026.51,173.622 1033.42,174.369 \n  1040.33,176.159 1047.23,178.971 1054.14,182.779 1061.05,187.556 1067.95,193.273 1074.86,199.898 1081.77,207.399 1088.67,215.739 1095.58,224.885 1102.49,234.798 \n  1109.39,245.441 1116.3,256.776 1123.2,268.765 1130.11,281.37 1137.02,294.553 1143.92,308.275 1150.83,322.501 1157.74,337.194 1164.64,352.318 1171.55,367.839 \n  1178.46,383.725 1185.36,399.942 1192.27,416.461 1199.18,433.251 1206.08,450.285 1212.99,467.536 1219.89,484.979 1226.8,502.589 1233.71,520.344 1240.61,538.221 \n  1247.52,556.202 1254.43,574.266 1261.33,592.395 1268.24,610.573 1275.15,628.783 1282.05,647.01 1288.96,665.239 1295.87,683.456 1302.77,701.648 1309.68,719.802 \n  1316.58,737.905 1323.49,755.946 1330.4,773.911 1337.3,791.789 1344.21,809.568 1351.12,827.236 1358.02,844.78 1364.93,862.187 1371.84,879.445 1378.74,896.54 \n  1385.65,913.458 1392.56,930.185 1399.46,946.705 1406.37,963.002 1413.27,979.06 1420.18,994.862 1427.09,1010.39 1433.99,1025.62 1440.9,1040.54 1447.81,1055.13 \n  1454.71,1069.36 1461.62,1083.21 1468.53,1096.67 1475.43,1109.7 1482.34,1122.28 1489.25,1134.39 1496.15,1146 1503.06,1157.1 1509.96,1167.64 1516.87,1177.61 \n  1523.78,1186.97 1530.68,1195.72 1537.59,1203.81 1544.5,1211.23 1551.4,1217.95 1558.31,1223.95 1565.22,1229.21 1572.12,1233.7 1579.03,1237.41 1585.94,1240.32 \n  1592.84,1242.4 1599.75,1243.66 1606.65,1244.07 1613.56,1243.63 1620.47,1242.32 1627.37,1240.14 1634.28,1237.09 1641.19,1233.17 1648.09,1228.37 1655,1222.71 \n  1661.91,1216.18 1668.81,1208.81 1675.72,1200.59 1682.63,1191.54 1689.53,1181.68 1696.44,1171.03 1703.34,1159.61 1710.25,1147.44 1717.16,1134.54 1724.06,1120.95 \n  1730.97,1106.69 1737.88,1091.79 1744.78,1076.29 1751.69,1060.21 1758.6,1043.59 1765.5,1026.47 1772.41,1008.88 1779.32,990.853 1786.22,972.435 1793.13,953.66 \n  1800.03,934.568 1806.94,915.197 1813.85,895.586 1820.75,875.775 1827.66,855.803 1834.57,835.709 1841.47,815.533 1848.38,795.314 1855.29,775.091 1862.19,754.904 \n  1869.1,734.791 1876.01,714.79 1882.91,694.939 1889.82,675.277 1896.72,655.84 1903.63,636.666 1910.54,617.789 1917.44,599.247 1924.35,581.073 1931.26,563.302 \n  1938.16,545.967 1945.07,529.102 1951.98,512.736 1958.88,496.901 1965.79,481.626 1972.7,466.94 1979.6,452.868 1986.51,439.437 1993.41,426.671 2000.32,414.591 \n  2007.23,403.219 2014.13,392.573 2021.04,382.671 2027.95,373.529 2034.85,365.158 2041.76,357.571 2048.67,350.776 2055.57,344.781 2062.48,339.591 2069.39,335.209 \n  2076.29,331.634 2083.2,328.866 2090.1,326.902 2097.01,325.735 2103.92,325.358 2110.82,325.761 2117.73,326.933 2124.64,328.862 2131.54,331.531 2138.45,334.924 \n  2145.36,339.025 2152.26,343.813 2159.17,349.268 2166.08,355.37 2172.98,362.095 2179.89,369.42 2186.79,377.322 2193.7,385.776 2200.61,394.758 2207.51,404.242 \n  2214.42,414.204 2221.33,424.618 2228.23,435.459 2235.14,446.701 2242.05,458.321 2248.95,470.292 2255.86,482.592 2262.77,495.195 2269.67,508.08 2276.58,521.222 \n  2283.48,534.599 2290.39,548.189 \n  \"/>\n<polyline clip-path=\"url(#clip422)\" style=\"stroke:#3da44d; stroke-linecap:butt; stroke-linejoin:round; stroke-width:4; stroke-opacity:1; fill:none\" points=\"\n  211.556,478.705 218.462,478.806 225.369,479.108 232.275,479.613 239.182,480.318 246.088,481.225 252.994,482.333 259.901,483.641 266.807,485.15 273.714,486.86 \n  280.62,488.769 287.527,490.88 294.433,493.191 301.339,495.702 308.246,498.415 315.152,501.329 322.059,504.443 328.965,507.759 335.872,511.276 342.778,514.992 \n  349.684,518.908 356.591,523.023 363.497,527.334 370.404,531.839 377.31,536.536 384.217,541.422 391.123,546.492 398.029,551.742 404.936,557.167 411.842,562.761 \n  418.749,568.516 425.655,574.426 432.562,580.482 439.468,586.674 446.374,592.995 453.281,599.432 460.187,605.975 467.094,612.613 474,619.334 480.907,626.124 \n  487.813,632.972 494.719,639.863 501.626,646.785 508.532,653.724 515.439,660.665 522.345,667.595 529.252,674.501 536.158,681.367 543.064,688.181 549.971,694.928 \n  556.877,701.596 563.784,708.171 570.69,714.639 577.597,720.99 584.503,727.209 591.409,733.286 598.316,739.208 605.222,744.965 612.129,750.546 619.035,755.94 \n  625.942,761.137 632.848,766.128 639.754,770.904 646.661,775.457 653.567,779.777 660.474,783.857 667.38,787.691 674.287,791.27 681.193,794.59 688.099,797.643 \n  695.006,800.426 701.912,802.932 708.819,805.159 715.725,807.102 722.632,808.757 729.538,810.124 736.444,811.199 743.351,811.981 750.257,812.469 757.164,812.664 \n  764.07,812.566 770.977,812.175 777.883,811.494 784.789,810.525 791.696,809.271 798.602,807.734 805.509,805.92 812.415,803.832 819.322,801.476 826.228,798.857 \n  833.134,795.982 840.041,792.856 846.947,789.487 853.854,785.881 860.76,782.047 867.667,777.992 874.573,773.724 881.479,769.252 888.386,764.584 895.292,759.728 \n  902.199,754.695 909.105,749.492 916.012,744.128 922.918,738.614 929.824,732.958 936.731,727.17 943.637,721.258 950.544,715.233 957.45,709.103 964.357,702.879 \n  971.263,696.569 978.169,690.184 985.076,683.734 991.982,677.227 998.889,670.674 1005.8,664.086 1012.7,657.471 1019.61,650.841 1026.51,644.205 1033.42,637.574 \n  1040.33,630.959 1047.23,624.37 1054.14,617.818 1061.05,611.314 1067.95,604.869 1074.86,598.495 1081.77,592.202 1088.67,586.002 1095.58,579.905 1102.49,573.923 \n  1109.39,568.068 1116.3,562.35 1123.2,556.781 1130.11,551.371 1137.02,546.13 1143.92,541.07 1150.83,536.201 1157.74,531.531 1164.64,527.072 1171.55,522.832 \n  1178.46,518.82 1185.36,515.043 1192.27,511.51 1199.18,508.229 1206.08,505.205 1212.99,502.445 1219.89,499.955 1226.8,497.738 1233.71,495.801 1240.61,494.146 \n  1247.52,492.777 1254.43,491.695 1261.33,490.903 1268.24,490.402 1275.15,490.192 1282.05,490.272 1288.96,490.643 1295.87,491.303 1302.77,492.249 1309.68,493.48 \n  1316.58,494.991 1323.49,496.779 1330.4,498.84 1337.3,501.168 1344.21,503.759 1351.12,506.607 1358.02,509.705 1364.93,513.047 1371.84,516.626 1378.74,520.433 \n  1385.65,524.461 1392.56,528.703 1399.46,533.148 1406.37,537.789 1413.27,542.616 1420.18,547.62 1427.09,552.791 1433.99,558.119 1440.9,563.595 1447.81,569.208 \n  1454.71,574.947 1461.62,580.802 1468.53,586.763 1475.43,592.819 1482.34,598.959 1489.25,605.172 1496.15,611.447 1503.06,617.775 1509.96,624.143 1516.87,630.541 \n  1523.78,636.959 1530.68,643.385 1537.59,649.809 1544.5,656.221 1551.4,662.61 1558.31,668.965 1565.22,675.277 1572.12,681.534 1579.03,687.729 1585.94,693.849 \n  1592.84,699.886 1599.75,705.83 1606.65,711.671 1613.56,717.401 1620.47,723.01 1627.37,728.489 1634.28,733.829 1641.19,739.022 1648.09,744.059 1655,748.933 \n  1661.91,753.634 1668.81,758.154 1675.72,762.488 1682.63,766.626 1689.53,770.561 1696.44,774.288 1703.34,777.798 1710.25,781.085 1717.16,784.145 1724.06,786.969 \n  1730.97,789.554 1737.88,791.893 1744.78,793.982 1751.69,795.817 1758.6,797.394 1765.5,798.708 1772.41,799.758 1779.32,800.54 1786.22,801.051 1793.13,801.291 \n  1800.03,801.258 1806.94,800.951 1813.85,800.371 1820.75,799.518 1827.66,798.392 1834.57,796.996 1841.47,795.331 1848.38,793.4 1855.29,791.207 1862.19,788.755 \n  1869.1,786.05 1876.01,783.095 1882.91,779.896 1889.82,776.46 1896.72,772.793 1903.63,768.903 1910.54,764.796 1917.44,760.481 1924.35,755.967 1931.26,751.262 \n  1938.16,746.376 1945.07,741.318 1951.98,736.098 1958.88,730.727 1965.79,725.215 1972.7,719.573 1979.6,713.811 1986.51,707.942 1993.41,701.976 2000.32,695.925 \n  2007.23,689.8 2014.13,683.613 2021.04,677.376 2027.95,671.1 2034.85,664.796 2041.76,658.476 2048.67,652.152 2055.57,645.835 2062.48,639.536 2069.39,633.267 \n  2076.29,627.037 2083.2,620.859 2090.1,614.742 2097.01,608.697 2103.92,602.734 2110.82,596.863 2117.73,591.094 2124.64,585.436 2131.54,579.899 2138.45,574.49 \n  2145.36,569.22 2152.26,564.095 2159.17,559.126 2166.08,554.318 2172.98,549.68 2179.89,545.219 2186.79,540.942 2193.7,536.856 2200.61,532.966 2207.51,529.279 \n  2214.42,525.801 2221.33,522.537 2228.23,519.492 2235.14,516.67 2242.05,514.077 2248.95,511.716 2255.86,509.592 2262.77,507.707 2269.67,506.065 2276.58,504.668 \n  2283.48,503.519 2290.39,502.621 \n  \"/>\n<polyline clip-path=\"url(#clip422)\" style=\"stroke:#c271d2; stroke-linecap:butt; stroke-linejoin:round; stroke-width:4; stroke-opacity:1; fill:none\" points=\"\n  211.556,751.488 218.462,771.667 225.369,791.837 232.275,811.989 239.182,832.117 246.088,852.22 252.994,872.299 259.901,892.359 266.807,912.407 273.714,932.449 \n  280.62,952.494 287.527,972.547 294.433,992.614 301.339,1012.7 308.246,1032.8 315.152,1052.91 322.059,1073.01 328.965,1093.11 335.872,1113.16 342.778,1133.15 \n  349.684,1153.03 356.591,1172.78 363.497,1192.34 370.404,1211.66 377.31,1230.69 384.217,1249.36 391.123,1267.6 398.029,1285.34 404.936,1302.52 411.842,1319.05 \n  418.749,1334.87 425.655,1349.9 432.562,1364.07 439.468,1377.31 446.374,1389.54 453.281,1400.71 460.187,1410.75 467.094,1419.61 474,1427.25 480.907,1433.61 \n  487.813,1438.66 494.719,1442.38 501.626,1444.74 508.532,1445.72 515.439,1445.3 522.345,1443.5 529.252,1440.3 536.158,1435.72 543.064,1429.77 549.971,1422.47 \n  556.877,1413.83 563.784,1403.88 570.69,1392.66 577.597,1380.18 584.503,1366.5 591.409,1351.64 598.316,1335.64 605.222,1318.54 612.129,1300.39 619.035,1281.21 \n  625.942,1261.07 632.848,1240 639.754,1218.04 646.661,1195.23 653.567,1171.64 660.474,1147.29 667.38,1122.25 674.287,1096.55 681.193,1070.24 688.099,1043.38 \n  695.006,1016.02 701.912,988.21 708.819,960.005 715.725,931.459 722.632,902.631 729.538,873.577 736.444,844.357 743.351,815.031 750.257,785.659 757.164,756.303 \n  764.07,727.022 770.977,697.879 777.883,668.933 784.789,640.245 791.696,611.873 798.602,583.873 805.509,556.301 812.415,529.21 819.322,502.649 826.228,476.668 \n  833.134,451.309 840.041,426.616 846.947,402.626 853.854,379.374 860.76,356.891 867.667,335.206 874.573,314.343 881.479,294.325 888.386,275.17 895.292,256.894 \n  902.199,239.51 909.105,223.031 916.012,207.465 922.918,192.82 929.824,179.103 936.731,166.321 943.637,154.478 950.544,143.58 957.45,133.632 964.357,124.64 \n  971.263,116.609 978.169,109.547 985.076,103.461 991.982,98.3588 998.889,94.251 1005.8,91.1474 1012.7,89.0592 1019.61,87.9981 1026.51,87.9763 1033.42,89.0062 \n  1040.33,91.1002 1047.23,94.2706 1054.14,98.5286 1061.05,103.885 1067.95,110.349 1074.86,117.927 1081.77,126.627 1088.67,136.449 1095.58,147.396 1102.49,159.464 \n  1109.39,172.647 1116.3,186.937 1123.2,202.32 1130.11,218.78 1137.02,236.296 1143.92,254.843 1150.83,274.392 1157.74,294.912 1164.64,316.365 1171.55,338.712 \n  1178.46,361.908 1185.36,385.906 1192.27,410.657 1199.18,436.107 1206.08,462.201 1212.99,488.879 1219.89,516.083 1226.8,543.75 1233.71,571.819 1240.61,600.223 \n  1247.52,628.9 1254.43,657.784 1261.33,686.81 1268.24,715.914 1275.15,745.03 1282.05,774.095 1288.96,803.048 1295.87,831.825 1302.77,860.368 1309.68,888.617 \n  1316.58,916.516 1323.49,944.009 1330.4,971.044 1337.3,997.569 1344.21,1023.54 1351.12,1048.9 1358.02,1073.6 1364.93,1097.62 1371.84,1120.9 1378.74,1143.41 \n  1385.65,1165.11 1392.56,1185.97 1399.46,1205.96 1406.37,1225.04 1413.27,1243.2 1420.18,1260.4 1427.09,1276.62 1433.99,1291.85 1440.9,1306.07 1447.81,1319.25 \n  1454.71,1331.39 1461.62,1342.48 1468.53,1352.5 1475.43,1361.45 1482.34,1369.32 1489.25,1376.11 1496.15,1381.82 1503.06,1386.45 1509.96,1389.99 1516.87,1392.46 \n  1523.78,1393.86 1530.68,1394.19 1537.59,1393.46 1544.5,1391.68 1551.4,1388.85 1558.31,1385 1565.22,1380.13 1572.12,1374.25 1579.03,1367.37 1585.94,1359.52 \n  1592.84,1350.7 1599.75,1340.92 1606.65,1330.21 1613.56,1318.57 1620.47,1306.03 1627.37,1292.6 1634.28,1278.29 1641.19,1263.13 1648.09,1247.14 1655,1230.32 \n  1661.91,1212.71 1668.81,1194.32 1675.72,1175.17 1682.63,1155.29 1689.53,1134.7 1696.44,1113.42 1703.34,1091.49 1710.25,1068.93 1717.16,1045.76 1724.06,1022.03 \n  1730.97,997.766 1737.88,973.002 1744.78,947.777 1751.69,922.129 1758.6,896.102 1765.5,869.737 1772.41,843.081 1779.32,816.181 1786.22,789.085 1793.13,761.845 \n  1800.03,734.513 1806.94,707.142 1813.85,679.788 1820.75,652.506 1827.66,625.353 1834.57,598.387 1841.47,571.664 1848.38,545.244 1855.29,519.182 1862.19,493.537 \n  1869.1,468.365 1876.01,443.722 1882.91,419.662 1889.82,396.237 1896.72,373.499 1903.63,351.498 1910.54,330.28 1917.44,309.891 1924.35,290.373 1931.26,271.766 \n  1938.16,254.107 1945.07,237.43 1951.98,221.767 1958.88,207.146 1965.79,193.593 1972.7,181.129 1979.6,169.774 1986.51,159.543 1993.41,150.449 2000.32,142.503 \n  2007.23,135.712 2014.13,130.079 2021.04,125.605 2027.95,122.291 2034.85,120.131 2041.76,119.12 2048.67,119.248 2055.57,120.506 2062.48,122.881 2069.39,126.357 \n  2076.29,130.919 2083.2,136.548 2090.1,143.225 2097.01,150.928 2103.92,159.637 2110.82,169.326 2117.73,179.973 2124.64,191.552 2131.54,204.037 2138.45,217.401 \n  2145.36,231.616 2152.26,246.656 2159.17,262.491 2166.08,279.093 2172.98,296.432 2179.89,314.479 2186.79,333.204 2193.7,352.577 2200.61,372.566 2207.51,393.143 \n  2214.42,414.275 2221.33,435.931 2228.23,458.08 2235.14,480.689 2242.05,503.727 2248.95,527.161 2255.86,550.958 2262.77,575.085 2269.67,599.507 2276.58,624.191 \n  2283.48,649.101 2290.39,674.202 \n  \"/>\n<path clip-path=\"url(#clip420)\" d=\"\nM1980.32 354.418 L2279.3 354.418 L2279.3 95.2176 L1980.32 95.2176  Z\n  \" fill=\"#ffffff\" fill-rule=\"evenodd\" fill-opacity=\"1\"/>\n<polyline clip-path=\"url(#clip420)\" style=\"stroke:#000000; stroke-linecap:butt; stroke-linejoin:round; stroke-width:4; stroke-opacity:1; fill:none\" points=\"\n  1980.32,354.418 2279.3,354.418 2279.3,95.2176 1980.32,95.2176 1980.32,354.418 \n  \"/>\n<polyline clip-path=\"url(#clip420)\" style=\"stroke:#009af9; stroke-linecap:butt; stroke-linejoin:round; stroke-width:4; stroke-opacity:1; fill:none\" points=\"\n  2004.8,147.058 2151.71,147.058 \n  \"/>\n<path clip-path=\"url(#clip420)\" d=\"M2190.03 166.745 Q2188.23 171.375 2186.52 172.787 Q2184.8 174.199 2181.93 174.199 L2178.53 174.199 L2178.53 170.634 L2181.03 170.634 Q2182.79 170.634 2183.76 169.8 Q2184.73 168.967 2185.91 165.865 L2186.68 163.921 L2176.19 138.412 L2180.71 138.412 L2188.81 158.689 L2196.91 138.412 L2201.42 138.412 L2190.03 166.745 Z\" fill=\"#000000\" fill-rule=\"evenodd\" fill-opacity=\"1\" /><path clip-path=\"url(#clip420)\" d=\"M2208.72 160.402 L2216.35 160.402 L2216.35 134.037 L2208.04 135.703 L2208.04 131.444 L2216.31 129.778 L2220.98 129.778 L2220.98 160.402 L2228.62 160.402 L2228.62 164.338 L2208.72 164.338 L2208.72 160.402 Z\" fill=\"#000000\" fill-rule=\"evenodd\" fill-opacity=\"1\" /><polyline clip-path=\"url(#clip420)\" style=\"stroke:#e26f46; stroke-linecap:butt; stroke-linejoin:round; stroke-width:4; stroke-opacity:1; fill:none\" points=\"\n  2004.8,198.898 2151.71,198.898 \n  \"/>\n<path clip-path=\"url(#clip420)\" d=\"M2190.03 218.585 Q2188.23 223.215 2186.52 224.627 Q2184.8 226.039 2181.93 226.039 L2178.53 226.039 L2178.53 222.474 L2181.03 222.474 Q2182.79 222.474 2183.76 221.64 Q2184.73 220.807 2185.91 217.705 L2186.68 215.761 L2176.19 190.252 L2180.71 190.252 L2188.81 210.529 L2196.91 190.252 L2201.42 190.252 L2190.03 218.585 Z\" fill=\"#000000\" fill-rule=\"evenodd\" fill-opacity=\"1\" /><path clip-path=\"url(#clip420)\" d=\"M2211.93 212.242 L2228.25 212.242 L2228.25 216.178 L2206.31 216.178 L2206.31 212.242 Q2208.97 209.488 2213.55 204.858 Q2218.16 200.205 2219.34 198.863 Q2221.59 196.34 2222.47 194.604 Q2223.37 192.844 2223.37 191.155 Q2223.37 188.4 2221.42 186.664 Q2219.5 184.928 2216.4 184.928 Q2214.2 184.928 2211.75 185.692 Q2209.32 186.455 2206.54 188.006 L2206.54 183.284 Q2209.36 182.15 2211.82 181.571 Q2214.27 180.993 2216.31 180.993 Q2221.68 180.993 2224.87 183.678 Q2228.07 186.363 2228.07 190.854 Q2228.07 192.983 2227.26 194.905 Q2226.47 196.803 2224.36 199.395 Q2223.78 200.067 2220.68 203.284 Q2217.58 206.479 2211.93 212.242 Z\" fill=\"#000000\" fill-rule=\"evenodd\" fill-opacity=\"1\" /><polyline clip-path=\"url(#clip420)\" style=\"stroke:#3da44d; stroke-linecap:butt; stroke-linejoin:round; stroke-width:4; stroke-opacity:1; fill:none\" points=\"\n  2004.8,250.738 2151.71,250.738 \n  \"/>\n<path clip-path=\"url(#clip420)\" d=\"M2190.03 270.425 Q2188.23 275.055 2186.52 276.467 Q2184.8 277.879 2181.93 277.879 L2178.53 277.879 L2178.53 274.314 L2181.03 274.314 Q2182.79 274.314 2183.76 273.48 Q2184.73 272.647 2185.91 269.545 L2186.68 267.601 L2176.19 242.092 L2180.71 242.092 L2188.81 262.369 L2196.91 242.092 L2201.42 242.092 L2190.03 270.425 Z\" fill=\"#000000\" fill-rule=\"evenodd\" fill-opacity=\"1\" /><path clip-path=\"url(#clip420)\" d=\"M2222.07 249.383 Q2225.43 250.101 2227.3 252.369 Q2229.2 254.638 2229.2 257.971 Q2229.2 263.087 2225.68 265.888 Q2222.16 268.689 2215.68 268.689 Q2213.51 268.689 2211.19 268.249 Q2208.9 267.832 2206.45 266.976 L2206.45 262.462 Q2208.39 263.596 2210.71 264.175 Q2213.02 264.754 2215.54 264.754 Q2219.94 264.754 2222.23 263.018 Q2224.55 261.281 2224.55 257.971 Q2224.55 254.916 2222.4 253.203 Q2220.27 251.467 2216.45 251.467 L2212.42 251.467 L2212.42 247.624 L2216.63 247.624 Q2220.08 247.624 2221.91 246.258 Q2223.74 244.87 2223.74 242.277 Q2223.74 239.615 2221.84 238.203 Q2219.97 236.768 2216.45 236.768 Q2214.53 236.768 2212.33 237.184 Q2210.13 237.601 2207.49 238.481 L2207.49 234.314 Q2210.15 233.573 2212.47 233.203 Q2214.8 232.833 2216.86 232.833 Q2222.19 232.833 2225.29 235.263 Q2228.39 237.67 2228.39 241.791 Q2228.39 244.661 2226.75 246.652 Q2225.1 248.62 2222.07 249.383 Z\" fill=\"#000000\" fill-rule=\"evenodd\" fill-opacity=\"1\" /><polyline clip-path=\"url(#clip420)\" style=\"stroke:#c271d2; stroke-linecap:butt; stroke-linejoin:round; stroke-width:4; stroke-opacity:1; fill:none\" points=\"\n  2004.8,302.578 2151.71,302.578 \n  \"/>\n<path clip-path=\"url(#clip420)\" d=\"M2190.03 322.265 Q2188.23 326.895 2186.52 328.307 Q2184.8 329.719 2181.93 329.719 L2178.53 329.719 L2178.53 326.154 L2181.03 326.154 Q2182.79 326.154 2183.76 325.32 Q2184.73 324.487 2185.91 321.385 L2186.68 319.441 L2176.19 293.932 L2180.71 293.932 L2188.81 314.209 L2196.91 293.932 L2201.42 293.932 L2190.03 322.265 Z\" fill=\"#000000\" fill-rule=\"evenodd\" fill-opacity=\"1\" /><path clip-path=\"url(#clip420)\" d=\"M2220.75 289.372 L2208.95 307.821 L2220.75 307.821 L2220.75 289.372 M2219.53 285.298 L2225.41 285.298 L2225.41 307.821 L2230.34 307.821 L2230.34 311.709 L2225.41 311.709 L2225.41 319.858 L2220.75 319.858 L2220.75 311.709 L2205.15 311.709 L2205.15 307.196 L2219.53 285.298 Z\" fill=\"#000000\" fill-rule=\"evenodd\" fill-opacity=\"1\" /></svg>\n"
     },
     "execution_count": 26,
     "metadata": {},
     "output_type": "execute_result"
    }
   ],
   "source": [
    "U_test = create_U(num_knots, m, \"constant\")\n",
    "\n",
    "time_test, X_test = simulate(dmodel, x0, U_test, dt)\n",
    "X_test_mat = mapreduce(permutedims, vcat, X_test)'\n",
    "\n",
    "bi_X_test, _ = simulate_bilinear(F, C, g, x0, z0, U_test)\n",
    "bi_X_test_mat = mapreduce(permutedims, vcat, bi_X_test)'\n",
    "\n",
    "# extract individual state histories\n",
    "theta_test_sim = X_test_mat[1, :]\n",
    "omega_test_sim = X_test_mat[2, :]\n",
    "\n",
    "theta_test_bilinear = bi_X_test_mat[1, :]\n",
    "omega_test_bilinear = bi_X_test_mat[2, :]\n",
    "\n",
    "plot(time_test, theta_test_sim)\n",
    "plot!(time_test, omega_test_sim)\n",
    "\n",
    "plot!(time_test, theta_test_bilinear)\n",
    "plot!(time_test, omega_test_bilinear)"
   ]
  },
  {
   "cell_type": "code",
   "execution_count": 29,
   "metadata": {},
   "outputs": [],
   "source": [
    "using FileIO, JLD2\n",
    "\n",
    "FileIO.save(\"../../data/pendulum_eDMD_data.jld2\", \"F\", F, \"C\", C, \"g\", g, \"X_sim\", X_sim, \"U_sim\", U_sim)"
   ]
  }
 ],
 "metadata": {
  "kernelspec": {
   "display_name": "Julia 1.6.5",
   "language": "julia",
   "name": "julia-1.6"
  },
  "language_info": {
   "file_extension": ".jl",
   "mimetype": "application/julia",
   "name": "julia",
   "version": "1.6.5"
  },
  "orig_nbformat": 4
 },
 "nbformat": 4,
 "nbformat_minor": 2
}
