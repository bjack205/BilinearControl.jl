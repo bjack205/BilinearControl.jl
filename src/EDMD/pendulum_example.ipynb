{
 "cells": [
  {
   "cell_type": "code",
   "execution_count": 1796,
   "metadata": {},
   "outputs": [],
   "source": [
    "using RobotZoo\n",
    "using RobotDynamics\n",
    "using LinearAlgebra\n",
    "using StaticArrays\n",
    "using SparseArrays\n",
    "using MeshCat, GeometryBasics, Colors, CoordinateTransformations, Rotations\n",
    "using Plots"
   ]
  },
  {
   "cell_type": "code",
   "execution_count": 1797,
   "metadata": {},
   "outputs": [
    {
     "data": {
      "text/plain": [
       "RobotDynamics"
      ]
     },
     "execution_count": 1797,
     "metadata": {},
     "output_type": "execute_result"
    }
   ],
   "source": [
    "const RD = RobotDynamics"
   ]
  },
  {
   "cell_type": "code",
   "execution_count": 1798,
   "metadata": {},
   "outputs": [
    {
     "data": {
      "text/plain": [
       "visualize! (generic function with 1 method)"
      ]
     },
     "execution_count": 1798,
     "metadata": {},
     "output_type": "execute_result"
    }
   ],
   "source": [
    "include(\"visualization.jl\")"
   ]
  },
  {
   "cell_type": "code",
   "execution_count": 1799,
   "metadata": {},
   "outputs": [
    {
     "data": {
      "text/plain": [
       "create_U (generic function with 1 method)"
      ]
     },
     "execution_count": 1799,
     "metadata": {},
     "output_type": "execute_result"
    }
   ],
   "source": [
    "function create_U(num_knots, m, U_type::String)\n",
    "\n",
    "    if U_type == \"constant\"\n",
    "        u0 = 2 .* ones(m)\n",
    "    elseif U_type == \"random\"\n",
    "        u0 = 0.01 .* ones(m)\n",
    "    end\n",
    "\n",
    "    U = [u0]\n",
    "\n",
    "    for k in 1:(num_knots-1)\n",
    "\n",
    "        if U_type == \"constant\"\n",
    "            u = 2 .* ones(m)\n",
    "        elseif U_type == \"random\"\n",
    "            u = -5 .+ (10*rand(Float64, m))\n",
    "        end\n",
    "\n",
    "        push!(U, u)\n",
    "\n",
    "    end\n",
    "    \n",
    "    return U\n",
    "\n",
    "end"
   ]
  },
  {
   "cell_type": "code",
   "execution_count": 1800,
   "metadata": {},
   "outputs": [
    {
     "data": {
      "text/plain": [
       "create_training_U (generic function with 1 method)"
      ]
     },
     "execution_count": 1800,
     "metadata": {},
     "output_type": "execute_result"
    }
   ],
   "source": [
    "function create_training_U(num_knots, m)\n",
    "\n",
    "    u0 = -3 .* ones(m)\n",
    "    U = [u0]\n",
    "\n",
    "    for k in 1:(num_knots-1)\n",
    "\n",
    "        u = -3 .+ (6*rand(Float64, m))\n",
    "        push!(U, u)\n",
    "\n",
    "    end\n",
    "\n",
    "    # for k in (Int(round((num_knots-1)/2) + 1)) : (num_knots - 1)\n",
    "\n",
    "    #     u = 2 .* ones(m)\n",
    "    #     push!(U, u)\n",
    "    # end\n",
    "    \n",
    "    # return U\n",
    "\n",
    "    # for k in 1 : (Int(round((num_knots-1)/2)))\n",
    "\n",
    "    #     u = 2 .* ones(m)\n",
    "    #     push!(U, u)\n",
    "    # end\n",
    "\n",
    "    # for k in (Int(round((num_knots-1)/2) + 1)) : (num_knots - 1)\n",
    "\n",
    "    #     u = -2 .* ones(m)\n",
    "    #     push!(U, u)\n",
    "    # end\n",
    "    \n",
    "    return U\n",
    "\n",
    "end"
   ]
  },
  {
   "cell_type": "code",
   "execution_count": 1801,
   "metadata": {},
   "outputs": [
    {
     "data": {
      "text/plain": [
       "simulate (generic function with 1 method)"
      ]
     },
     "execution_count": 1801,
     "metadata": {},
     "output_type": "execute_result"
    }
   ],
   "source": [
    "function simulate(dmodel, x0, U, dt)\n",
    "\n",
    "    t = 0.0\n",
    "    x = x0\n",
    "    X = [x]\n",
    "    T = [t]\n",
    "    \n",
    "    for k in 1:length(U)\n",
    "\n",
    "        u = U[k]\n",
    "        x = RD.discrete_dynamics(dmodel, x, u, t, dt)\n",
    "        t += dt\n",
    "        push!(X, x)\n",
    "        append!(T, t)\n",
    "\n",
    "    end\n",
    "\n",
    "    return T, X\n",
    "\n",
    "end"
   ]
  },
  {
   "cell_type": "code",
   "execution_count": 1802,
   "metadata": {},
   "outputs": [
    {
     "data": {
      "text/plain": [
       "chebyshev_poly (generic function with 2 methods)"
      ]
     },
     "execution_count": 1802,
     "metadata": {},
     "output_type": "execute_result"
    }
   ],
   "source": [
    "function chebyshev_poly(x, order=5)\n",
    "    \n",
    "    T0 = ones(length(x))\n",
    "    T1 = x\n",
    "\n",
    "    chebyshev = [T0]\n",
    "    push!(chebyshev, T1)\n",
    "\n",
    "    for p in 2:order\n",
    "\n",
    "        next_T = (2 .* x .* chebyshev[p]) - chebyshev[p-1]\n",
    "        push!(chebyshev, next_T)\n",
    "\n",
    "    end\n",
    "\n",
    "    chebyshev = reduce(vcat, chebyshev[2:end])\n",
    "\n",
    "    return chebyshev\n",
    "    \n",
    "end"
   ]
  },
  {
   "cell_type": "code",
   "execution_count": 1803,
   "metadata": {},
   "outputs": [
    {
     "data": {
      "text/plain": [
       "hermite_poly (generic function with 2 methods)"
      ]
     },
     "execution_count": 1803,
     "metadata": {},
     "output_type": "execute_result"
    }
   ],
   "source": [
    "function hermite_poly(x, order=5)\n",
    "    \n",
    "    T0 = ones(length(x))\n",
    "    T1 = 2 .* x\n",
    "\n",
    "    hermite = [T0]\n",
    "    push!(hermite, T1)\n",
    "\n",
    "    for p in 2:order\n",
    "\n",
    "        next_T = (2 .* x .* hermite[p]) - 2 .* p .* hermite[p-1]\n",
    "        push!(hermite, next_T)\n",
    "\n",
    "    end\n",
    "\n",
    "    hermite = reduce(vcat, hermite[2:end])\n",
    "\n",
    "    return hermite\n",
    "    \n",
    "end"
   ]
  },
  {
   "cell_type": "code",
   "execution_count": 1804,
   "metadata": {},
   "outputs": [
    {
     "data": {
      "text/plain": [
       "create_poly (generic function with 2 methods)"
      ]
     },
     "execution_count": 1804,
     "metadata": {},
     "output_type": "execute_result"
    }
   ],
   "source": [
    "function create_poly(x, order=5)\n",
    "\n",
    "    poly_x = [x]\n",
    "\n",
    "    for p in 2:order\n",
    "\n",
    "        push!(poly_x, x .^ p)\n",
    "\n",
    "    end\n",
    "\n",
    "    return poly_x\n",
    "    \n",
    "end"
   ]
  },
  {
   "cell_type": "code",
   "execution_count": 1805,
   "metadata": {},
   "outputs": [
    {
     "data": {
      "text/plain": [
       "koopman_eigenfunctions (generic function with 2 methods)"
      ]
     },
     "execution_count": 1805,
     "metadata": {},
     "output_type": "execute_result"
    }
   ],
   "source": [
    "function koopman_eigenfunctions(X, U, x0, order)\n",
    "\n",
    "    n = length(X[1])\n",
    "    num_p = 2*n*order\n",
    "    Z = []\n",
    "    Zu = []\n",
    "    \n",
    "    for k in 1:length(X)\n",
    "        \n",
    "        xk = X[k]\n",
    "        zk = vcat([1], xk, sin.(xk), cos.(xk))\n",
    "        push!(Z, zk)\n",
    "\n",
    "        if k < length(X)\n",
    "            uk = U[k]\n",
    "            zu = vcat(zk, vec(zk*uk'))\n",
    "            push!(Zu, zu)\n",
    "        end\n",
    "\n",
    "    end\n",
    "\n",
    "return Z, Zu\n",
    "\n",
    "end"
   ]
  },
  {
   "cell_type": "code",
   "execution_count": 1806,
   "metadata": {},
   "outputs": [
    {
     "data": {
      "text/plain": [
       "simulate_bilinear (generic function with 1 method)"
      ]
     },
     "execution_count": 1806,
     "metadata": {},
     "output_type": "execute_result"
    }
   ],
   "source": [
    "function simulate_bilinear(F, C, g, x0, z0, U)\n",
    "    \n",
    "    x = x0\n",
    "    z = z0\n",
    "    Z = [z]\n",
    "    X = [x]\n",
    "\n",
    "    for k in 1:length(U)\n",
    "\n",
    "        u = U[k]\n",
    "\n",
    "        z = F * z + (C * z) .* u\n",
    "        x = g * z\n",
    "\n",
    "        push!(Z, z)\n",
    "        push!(X, x)\n",
    "        \n",
    "    end\n",
    "\n",
    "    return X, Z\n",
    "\n",
    "end"
   ]
  },
  {
   "cell_type": "code",
   "execution_count": 1807,
   "metadata": {},
   "outputs": [
    {
     "data": {
      "text/plain": [
       "RobotZoo.Pendulum{Float64, 3}(1.0, 0.5, 0.1, 0.5, 0.25, 9.81, ForwardDiff.JacobianConfig{Nothing, Float64, 3, Tuple{Vector{ForwardDiff.Dual{Nothing, Float64, 3}}, Vector{ForwardDiff.Dual{Nothing, Float64, 3}}}}((Partials(1.0, 0.0, 0.0), Partials(0.0, 1.0, 0.0), Partials(0.0, 0.0, 1.0)), (ForwardDiff.Dual{Nothing, Float64, 3}[Dual{Nothing}(1.5178e-319,4.94e-322,4.94e-321,1.235e-321), Dual{Nothing}(1.0e-322,1.5e-323,1.6e-322,2.0e-323)], ForwardDiff.Dual{Nothing, Float64, 3}[Dual{Nothing}(1.0e-323,5.0e-324,0.0,5.0e-324), Dual{Nothing}(1.0e-323,5.0e-324,0.0,5.0e-324), Dual{Nothing}(5.0e-324,5.0e-324,0.0,6.92758258826245e-310)])), FiniteDiff.JacobianCache{Vector{Float64}, Vector{Float64}, Vector{Float64}, UnitRange{Int64}, Nothing, Val{:forward}(), Float64}([0.0, 0.0, 0.0], [0.0, 0.0], [0.0, 0.0], 1:3, nothing))"
      ]
     },
     "execution_count": 1807,
     "metadata": {},
     "output_type": "execute_result"
    }
   ],
   "source": [
    "# define temporal properties\n",
    "dt = 0.01\n",
    "tf = 3\n",
    "\n",
    "num_knots = Int(tf/dt + 1)\n",
    "\n",
    "# define pendulum initial properties\n",
    "x0 = [0.4*pi, 0]\n",
    "\n",
    "# define Pendulum model\n",
    "model = RobotZoo.Pendulum()"
   ]
  },
  {
   "cell_type": "code",
   "execution_count": 1808,
   "metadata": {},
   "outputs": [
    {
     "data": {
      "text/plain": [
       "([0.0, 0.01, 0.02, 0.03, 0.04, 0.05, 0.060000000000000005, 0.07, 0.08, 0.09  …  2.9199999999999817, 2.9299999999999815, 2.9399999999999813, 2.949999999999981, 2.959999999999981, 2.9699999999999807, 2.9799999999999804, 2.9899999999999802, 2.99999999999998, 3.00999999999998], [[1.2566370614359172, 0.0], [1.2551061944757564, -0.305953936820147], [1.2514567524162816, -0.4238186500660824], [1.245832319445029, -0.7008250633999387], [1.237974574643778, -0.870527783787643], [1.2288990767585208, -0.9444243095252401], [1.2189804385343328, -1.0391299536443197], [1.2081916572946891, -1.1184500683840632], [1.1961976976075113, -1.2800928121757327], [1.1829818704567903, -1.3628566779901956]  …  [0.6677684836592856, 1.8248975908531102], [0.6852965726265402, 1.6803696708936122], [0.7018287585340466, 1.6256883061337046], [0.7171484993954629, 1.4380049420732746], [0.731133060298517, 1.3586176524368911], [0.7437777250537896, 1.1701349175336444], [0.7545158905761176, 0.9773695763389983], [0.7638269013435884, 0.8846735250724925], [0.7717989148565335, 0.7096583095601792], [0.7778584002702156, 0.5022354624479025]])"
      ]
     },
     "execution_count": 1808,
     "metadata": {},
     "output_type": "execute_result"
    }
   ],
   "source": [
    "state_dim(model) = 2\n",
    "control_dim(model) = 1\n",
    "\n",
    "dmodel = RD.DiscretizedDynamics{RD.RK4}(model)\n",
    "n, m = RD.dims(dmodel)\n",
    "\n",
    "# create predefined control trajectory\n",
    "U_sim = create_training_U(num_knots, m)\n",
    "\n",
    "# randomly simulate model and store trajectory\n",
    "time, X_sim = simulate(dmodel, x0, U_sim, dt)"
   ]
  },
  {
   "cell_type": "code",
   "execution_count": 1809,
   "metadata": {},
   "outputs": [
    {
     "name": "stderr",
     "output_type": "stream",
     "text": [
      "┌ Info: MeshCat server started. You can open the visualizer by visiting the following URL in your browser:\n",
      "│ http://127.0.0.1:8916\n",
      "└ @ MeshCat /home/jeonghun/.julia/packages/MeshCat/Ax8pH/src/visualizer.jl:73\n"
     ]
    },
    {
     "data": {
      "text/html": [
       "    <div style=\"height: 500px; width: 100%; overflow-x: auto; overflow-y: hidden; resize: both\">\n",
       "    <iframe src=\"http://127.0.0.1:8916\" style=\"width: 100%; height: 100%; border: none\"></iframe>\n",
       "    </div>\n"
      ],
      "text/plain": [
       "MeshCat.DisplayedVisualizer(MeshCat.CoreVisualizer(MeshCat.SceneTrees.SceneNode(nothing, nothing, Dict{String, Vector{UInt8}}(), nothing, Dict{String, MeshCat.SceneTrees.SceneNode}(\"meshcat\" => MeshCat.SceneTrees.SceneNode(nothing, nothing, Dict{String, Vector{UInt8}}(), nothing, Dict{String, MeshCat.SceneTrees.SceneNode}(\"robot\" => MeshCat.SceneTrees.SceneNode(nothing, nothing, Dict{String, Vector{UInt8}}(), nothing, Dict{String, MeshCat.SceneTrees.SceneNode}(\"cart\" => MeshCat.SceneTrees.SceneNode(nothing, nothing, Dict{String, Vector{UInt8}}(), nothing, Dict{String, MeshCat.SceneTrees.SceneNode}(\"pole\" => MeshCat.SceneTrees.SceneNode(nothing, UInt8[0x83, 0xa6, 0x6d, 0x61, 0x74, 0x72, 0x69, 0x78, 0xc7, 0x40  …  0x2f, 0x63, 0x61, 0x72, 0x74, 0x2f, 0x70, 0x6f, 0x6c, 0x65], Dict{String, Vector{UInt8}}(), nothing, Dict{String, MeshCat.SceneTrees.SceneNode}(\"geom\" => MeshCat.SceneTrees.SceneNode(nothing, nothing, Dict{String, Vector{UInt8}}(), nothing, Dict{String, MeshCat.SceneTrees.SceneNode}(\"cyl\" => MeshCat.SceneTrees.SceneNode(UInt8[0x83, 0xa6, 0x6f, 0x62, 0x6a, 0x65, 0x63, 0x74, 0x84, 0xaa  …  0x65, 0x2f, 0x67, 0x65, 0x6f, 0x6d, 0x2f, 0x63, 0x79, 0x6c], nothing, Dict{String, Vector{UInt8}}(), nothing, Dict{String, MeshCat.SceneTrees.SceneNode}()), \"mass\" => MeshCat.SceneTrees.SceneNode(UInt8[0x83, 0xa6, 0x6f, 0x62, 0x6a, 0x65, 0x63, 0x74, 0x84, 0xaa  …  0x2f, 0x67, 0x65, 0x6f, 0x6d, 0x2f, 0x6d, 0x61, 0x73, 0x73], nothing, Dict{String, Vector{UInt8}}(), nothing, Dict{String, MeshCat.SceneTrees.SceneNode}()))))), \"box\" => MeshCat.SceneTrees.SceneNode(UInt8[0x83, 0xa6, 0x6f, 0x62, 0x6a, 0x65, 0x63, 0x74, 0x84, 0xaa  …  0x74, 0x2f, 0x63, 0x61, 0x72, 0x74, 0x2f, 0x62, 0x6f, 0x78], nothing, Dict{String, Vector{UInt8}}(), nothing, Dict{String, MeshCat.SceneTrees.SceneNode}()), \"hinge\" => MeshCat.SceneTrees.SceneNode(UInt8[0x83, 0xa6, 0x6f, 0x62, 0x6a, 0x65, 0x63, 0x74, 0x84, 0xaa  …  0x63, 0x61, 0x72, 0x74, 0x2f, 0x68, 0x69, 0x6e, 0x67, 0x65], nothing, Dict{String, Vector{UInt8}}(), nothing, Dict{String, MeshCat.SceneTrees.SceneNode}()))))))))), Set{Any}(), ip\"127.0.0.1\", 8916))"
      ]
     },
     "execution_count": 1809,
     "metadata": {},
     "output_type": "execute_result"
    }
   ],
   "source": [
    "global vis = Visualizer()\n",
    "set_mesh!(vis, model)\n",
    "render(vis)"
   ]
  },
  {
   "cell_type": "code",
   "execution_count": 1810,
   "metadata": {},
   "outputs": [],
   "source": [
    "visualize!(vis, model, tf, X_sim)"
   ]
  },
  {
   "cell_type": "code",
   "execution_count": 1811,
   "metadata": {},
   "outputs": [
    {
     "data": {
      "text/plain": [
       "7×7 Matrix{Float64}:\n",
       " -1.92121e-16  -1.25594e-15   9.38919e-17  …  -2.01228e-16   1.0842e-16\n",
       "  0.000199754  -2.56497e-7    1.18324e-8      -8.42351e-8    9.30094e-9\n",
       "  0.039926     -7.68173e-5    3.57183e-6      -2.81078e-5    2.97874e-6\n",
       " -5.45623e-5    0.000782049  -3.69444e-5       0.00034525   -3.42651e-5\n",
       " -0.0229655     0.0190988     0.000879505      0.0333208     0.0515234\n",
       " -0.00114888    0.0043584     0.00014861   …   0.00201284    0.000714782\n",
       " -0.00539584    0.00199502    0.000182448      0.0012722    -0.00470317"
      ]
     },
     "execution_count": 1811,
     "metadata": {},
     "output_type": "execute_result"
    }
   ],
   "source": [
    "# calculate koopman data matrices\n",
    "Z_sim, Zu_sim = koopman_eigenfunctions(X_sim, U_sim, order)\n",
    "\n",
    "# convert data matrices into actual matrix arrays from vectors of vectors\n",
    "X_mat = mapreduce(permutedims, vcat, X_sim)'\n",
    "U_mat = mapreduce(permutedims, vcat, U_sim)'\n",
    "Z_mat = mapreduce(permutedims, vcat, Z_sim)'\n",
    "Zu_mat = mapreduce(permutedims, vcat, Zu_sim)'\n",
    "\n",
    "# extract data matrices\n",
    "Z = Z_mat[:, 1:end-1]\n",
    "Z_prime = Z_mat[:, 2:end]\n",
    "Zu = Zu_mat\n",
    "X = X_mat[:, 1:end-1]\n",
    "\n",
    "z0 = Z[:, 1]\n",
    "\n",
    "num_eigenfunctions = size(Z)[1]\n",
    "\n",
    "# perform LLS\n",
    "A = Z_prime*pinv(Zu)\n",
    "g = X*pinv(Z)\n",
    "\n",
    "F = A[:, 1:size(A)[1]]\n",
    "C = A[:, (size(A)[1] + 1):end]"
   ]
  },
  {
   "cell_type": "code",
   "execution_count": 1812,
   "metadata": {},
   "outputs": [
    {
     "data": {
      "text/plain": [
       "2×302 adjoint(::Matrix{Float64}) with eltype Float64:\n",
       " 1.25664   1.25511    1.25145    1.24581   …  0.744905  0.752551  0.758367\n",
       " 0.0      -0.306244  -0.424861  -0.702989     0.847991  0.681184  0.481987"
      ]
     },
     "execution_count": 1812,
     "metadata": {},
     "output_type": "execute_result"
    }
   ],
   "source": [
    "bi_X, _ = simulate_bilinear(F, C, g, x0, z0, U_sim)\n",
    "bi_X_mat = mapreduce(permutedims, vcat, bi_X)'"
   ]
  },
  {
   "cell_type": "code",
   "execution_count": 1813,
   "metadata": {},
   "outputs": [
    {
     "name": "stderr",
     "output_type": "stream",
     "text": [
      "┌ Info: MeshCat server started. You can open the visualizer by visiting the following URL in your browser:\n",
      "│ http://127.0.0.1:8917\n",
      "└ @ MeshCat /home/jeonghun/.julia/packages/MeshCat/Ax8pH/src/visualizer.jl:73\n"
     ]
    },
    {
     "data": {
      "text/html": [
       "    <div style=\"height: 500px; width: 100%; overflow-x: auto; overflow-y: hidden; resize: both\">\n",
       "    <iframe src=\"http://127.0.0.1:8917\" style=\"width: 100%; height: 100%; border: none\"></iframe>\n",
       "    </div>\n"
      ],
      "text/plain": [
       "MeshCat.DisplayedVisualizer(MeshCat.CoreVisualizer(MeshCat.SceneTrees.SceneNode(nothing, nothing, Dict{String, Vector{UInt8}}(), nothing, Dict{String, MeshCat.SceneTrees.SceneNode}(\"meshcat\" => MeshCat.SceneTrees.SceneNode(nothing, nothing, Dict{String, Vector{UInt8}}(), nothing, Dict{String, MeshCat.SceneTrees.SceneNode}(\"robot\" => MeshCat.SceneTrees.SceneNode(nothing, nothing, Dict{String, Vector{UInt8}}(), nothing, Dict{String, MeshCat.SceneTrees.SceneNode}(\"cart\" => MeshCat.SceneTrees.SceneNode(nothing, nothing, Dict{String, Vector{UInt8}}(), nothing, Dict{String, MeshCat.SceneTrees.SceneNode}(\"pole\" => MeshCat.SceneTrees.SceneNode(nothing, UInt8[0x83, 0xa6, 0x6d, 0x61, 0x74, 0x72, 0x69, 0x78, 0xc7, 0x40  …  0x2f, 0x63, 0x61, 0x72, 0x74, 0x2f, 0x70, 0x6f, 0x6c, 0x65], Dict{String, Vector{UInt8}}(), nothing, Dict{String, MeshCat.SceneTrees.SceneNode}(\"geom\" => MeshCat.SceneTrees.SceneNode(nothing, nothing, Dict{String, Vector{UInt8}}(), nothing, Dict{String, MeshCat.SceneTrees.SceneNode}(\"cyl\" => MeshCat.SceneTrees.SceneNode(UInt8[0x83, 0xa6, 0x6f, 0x62, 0x6a, 0x65, 0x63, 0x74, 0x84, 0xaa  …  0x65, 0x2f, 0x67, 0x65, 0x6f, 0x6d, 0x2f, 0x63, 0x79, 0x6c], nothing, Dict{String, Vector{UInt8}}(), nothing, Dict{String, MeshCat.SceneTrees.SceneNode}()), \"mass\" => MeshCat.SceneTrees.SceneNode(UInt8[0x83, 0xa6, 0x6f, 0x62, 0x6a, 0x65, 0x63, 0x74, 0x84, 0xaa  …  0x2f, 0x67, 0x65, 0x6f, 0x6d, 0x2f, 0x6d, 0x61, 0x73, 0x73], nothing, Dict{String, Vector{UInt8}}(), nothing, Dict{String, MeshCat.SceneTrees.SceneNode}()))))), \"box\" => MeshCat.SceneTrees.SceneNode(UInt8[0x83, 0xa6, 0x6f, 0x62, 0x6a, 0x65, 0x63, 0x74, 0x84, 0xaa  …  0x74, 0x2f, 0x63, 0x61, 0x72, 0x74, 0x2f, 0x62, 0x6f, 0x78], nothing, Dict{String, Vector{UInt8}}(), nothing, Dict{String, MeshCat.SceneTrees.SceneNode}()), \"hinge\" => MeshCat.SceneTrees.SceneNode(UInt8[0x83, 0xa6, 0x6f, 0x62, 0x6a, 0x65, 0x63, 0x74, 0x84, 0xaa  …  0x63, 0x61, 0x72, 0x74, 0x2f, 0x68, 0x69, 0x6e, 0x67, 0x65], nothing, Dict{String, Vector{UInt8}}(), nothing, Dict{String, MeshCat.SceneTrees.SceneNode}()))))))))), Set{Any}(), ip\"127.0.0.1\", 8917))"
      ]
     },
     "execution_count": 1813,
     "metadata": {},
     "output_type": "execute_result"
    }
   ],
   "source": [
    "global vis = Visualizer()\n",
    "set_mesh!(vis, model)\n",
    "render(vis)"
   ]
  },
  {
   "cell_type": "code",
   "execution_count": 1814,
   "metadata": {},
   "outputs": [],
   "source": [
    "visualize!(vis, model, tf, bi_X)\n",
    "#visualize!(vis, model, tf, X_sim)"
   ]
  },
  {
   "cell_type": "code",
   "execution_count": 1815,
   "metadata": {},
   "outputs": [
    {
     "data": {
      "text/plain": [
       "302-element Vector{Float64}:\n",
       "  0.0\n",
       " -0.3062437356093122\n",
       " -0.4248612026373672\n",
       " -0.7029887646661798\n",
       " -0.8741032715472624\n",
       " -0.949506619755259\n",
       " -1.045725236086521\n",
       " -1.1265350408030321\n",
       " -1.2896514064800113\n",
       " -1.37382451216043\n",
       " -1.6132562954723284\n",
       " -1.748777025917623\n",
       " -1.9597183932211066\n",
       "  ⋮\n",
       "  1.9914032754058175\n",
       "  1.9168481816764003\n",
       "  1.730262409407632\n",
       "  1.5940560141944025\n",
       "  1.547709470672357\n",
       "  1.3683469871869098\n",
       "  1.297252049598396\n",
       "  1.117027549146659\n",
       "  0.9324810776437544\n",
       "  0.8479913939476726\n",
       "  0.6811841021804766\n",
       "  0.48198671609006266"
      ]
     },
     "execution_count": 1815,
     "metadata": {},
     "output_type": "execute_result"
    }
   ],
   "source": [
    "# extract individual state histories\n",
    "theta_sim = X_mat[1, :]\n",
    "omega_sim = X_mat[2, :]\n",
    "\n",
    "theta_bilinear = bi_X_mat[1, :]\n",
    "omega_bilinear = bi_X_mat[2, :]"
   ]
  },
  {
   "cell_type": "code",
   "execution_count": 1816,
   "metadata": {},
   "outputs": [
    {
     "data": {
      "image/svg+xml": "<?xml version=\"1.0\" encoding=\"utf-8\"?>\n<svg xmlns=\"http://www.w3.org/2000/svg\" xmlns:xlink=\"http://www.w3.org/1999/xlink\" width=\"600\" height=\"400\" viewBox=\"0 0 2400 1600\">\n<defs>\n  <clipPath id=\"clip310\">\n    <rect x=\"0\" y=\"0\" width=\"2400\" height=\"1600\"/>\n  </clipPath>\n</defs>\n<path clip-path=\"url(#clip310)\" d=\"\nM0 1600 L2400 1600 L2400 0 L0 0  Z\n  \" fill=\"#ffffff\" fill-rule=\"evenodd\" fill-opacity=\"1\"/>\n<defs>\n  <clipPath id=\"clip311\">\n    <rect x=\"480\" y=\"0\" width=\"1681\" height=\"1600\"/>\n  </clipPath>\n</defs>\n<path clip-path=\"url(#clip310)\" d=\"\nM149.191 1486.45 L2352.76 1486.45 L2352.76 47.2441 L149.191 47.2441  Z\n  \" fill=\"#ffffff\" fill-rule=\"evenodd\" fill-opacity=\"1\"/>\n<defs>\n  <clipPath id=\"clip312\">\n    <rect x=\"149\" y=\"47\" width=\"2205\" height=\"1440\"/>\n  </clipPath>\n</defs>\n<polyline clip-path=\"url(#clip312)\" style=\"stroke:#000000; stroke-linecap:butt; stroke-linejoin:round; stroke-width:2; stroke-opacity:0.1; fill:none\" points=\"\n  211.556,1486.45 211.556,47.2441 \n  \"/>\n<polyline clip-path=\"url(#clip312)\" style=\"stroke:#000000; stroke-linecap:butt; stroke-linejoin:round; stroke-width:2; stroke-opacity:0.1; fill:none\" points=\"\n  902.199,1486.45 902.199,47.2441 \n  \"/>\n<polyline clip-path=\"url(#clip312)\" style=\"stroke:#000000; stroke-linecap:butt; stroke-linejoin:round; stroke-width:2; stroke-opacity:0.1; fill:none\" points=\"\n  1592.84,1486.45 1592.84,47.2441 \n  \"/>\n<polyline clip-path=\"url(#clip312)\" style=\"stroke:#000000; stroke-linecap:butt; stroke-linejoin:round; stroke-width:2; stroke-opacity:0.1; fill:none\" points=\"\n  2283.48,1486.45 2283.48,47.2441 \n  \"/>\n<polyline clip-path=\"url(#clip310)\" style=\"stroke:#000000; stroke-linecap:butt; stroke-linejoin:round; stroke-width:4; stroke-opacity:1; fill:none\" points=\"\n  149.191,1486.45 2352.76,1486.45 \n  \"/>\n<polyline clip-path=\"url(#clip310)\" style=\"stroke:#000000; stroke-linecap:butt; stroke-linejoin:round; stroke-width:4; stroke-opacity:1; fill:none\" points=\"\n  211.556,1486.45 211.556,1467.55 \n  \"/>\n<polyline clip-path=\"url(#clip310)\" style=\"stroke:#000000; stroke-linecap:butt; stroke-linejoin:round; stroke-width:4; stroke-opacity:1; fill:none\" points=\"\n  902.199,1486.45 902.199,1467.55 \n  \"/>\n<polyline clip-path=\"url(#clip310)\" style=\"stroke:#000000; stroke-linecap:butt; stroke-linejoin:round; stroke-width:4; stroke-opacity:1; fill:none\" points=\"\n  1592.84,1486.45 1592.84,1467.55 \n  \"/>\n<polyline clip-path=\"url(#clip310)\" style=\"stroke:#000000; stroke-linecap:butt; stroke-linejoin:round; stroke-width:4; stroke-opacity:1; fill:none\" points=\"\n  2283.48,1486.45 2283.48,1467.55 \n  \"/>\n<path clip-path=\"url(#clip310)\" d=\"M211.556 1517.37 Q207.945 1517.37 206.116 1520.93 Q204.311 1524.47 204.311 1531.6 Q204.311 1538.71 206.116 1542.27 Q207.945 1545.82 211.556 1545.82 Q215.19 1545.82 216.996 1542.27 Q218.824 1538.71 218.824 1531.6 Q218.824 1524.47 216.996 1520.93 Q215.19 1517.37 211.556 1517.37 M211.556 1513.66 Q217.366 1513.66 220.422 1518.27 Q223.5 1522.85 223.5 1531.6 Q223.5 1540.33 220.422 1544.94 Q217.366 1549.52 211.556 1549.52 Q205.746 1549.52 202.667 1544.94 Q199.612 1540.33 199.612 1531.6 Q199.612 1522.85 202.667 1518.27 Q205.746 1513.66 211.556 1513.66 Z\" fill=\"#000000\" fill-rule=\"evenodd\" fill-opacity=\"1\" /><path clip-path=\"url(#clip310)\" d=\"M892.581 1544.91 L900.22 1544.91 L900.22 1518.55 L891.909 1520.21 L891.909 1515.95 L900.173 1514.29 L904.849 1514.29 L904.849 1544.91 L912.488 1544.91 L912.488 1548.85 L892.581 1548.85 L892.581 1544.91 Z\" fill=\"#000000\" fill-rule=\"evenodd\" fill-opacity=\"1\" /><path clip-path=\"url(#clip310)\" d=\"M1587.49 1544.91 L1603.81 1544.91 L1603.81 1548.85 L1581.87 1548.85 L1581.87 1544.91 Q1584.53 1542.16 1589.11 1537.53 Q1593.72 1532.88 1594.9 1531.53 Q1597.15 1529.01 1598.03 1527.27 Q1598.93 1525.51 1598.93 1523.82 Q1598.93 1521.07 1596.99 1519.33 Q1595.06 1517.6 1591.96 1517.6 Q1589.76 1517.6 1587.31 1518.36 Q1584.88 1519.13 1582.1 1520.68 L1582.1 1515.95 Q1584.92 1514.82 1587.38 1514.24 Q1589.83 1513.66 1591.87 1513.66 Q1597.24 1513.66 1600.43 1516.35 Q1603.63 1519.03 1603.63 1523.52 Q1603.63 1525.65 1602.82 1527.57 Q1602.03 1529.47 1599.92 1532.07 Q1599.35 1532.74 1596.24 1535.95 Q1593.14 1539.15 1587.49 1544.91 Z\" fill=\"#000000\" fill-rule=\"evenodd\" fill-opacity=\"1\" /><path clip-path=\"url(#clip310)\" d=\"M2287.73 1530.21 Q2291.09 1530.93 2292.96 1533.2 Q2294.86 1535.47 2294.86 1538.8 Q2294.86 1543.92 2291.34 1546.72 Q2287.82 1549.52 2281.34 1549.52 Q2279.17 1549.52 2276.85 1549.08 Q2274.56 1548.66 2272.11 1547.81 L2272.11 1543.29 Q2274.05 1544.43 2276.37 1545.01 Q2278.68 1545.58 2281.2 1545.58 Q2285.6 1545.58 2287.89 1543.85 Q2290.21 1542.11 2290.21 1538.8 Q2290.21 1535.75 2288.06 1534.03 Q2285.93 1532.3 2282.11 1532.3 L2278.08 1532.3 L2278.08 1528.45 L2282.29 1528.45 Q2285.74 1528.45 2287.57 1527.09 Q2289.4 1525.7 2289.4 1523.11 Q2289.4 1520.45 2287.5 1519.03 Q2285.63 1517.6 2282.11 1517.6 Q2280.19 1517.6 2277.99 1518.01 Q2275.79 1518.43 2273.15 1519.31 L2273.15 1515.14 Q2275.81 1514.4 2278.13 1514.03 Q2280.46 1513.66 2282.52 1513.66 Q2287.85 1513.66 2290.95 1516.09 Q2294.05 1518.5 2294.05 1522.62 Q2294.05 1525.49 2292.41 1527.48 Q2290.76 1529.45 2287.73 1530.21 Z\" fill=\"#000000\" fill-rule=\"evenodd\" fill-opacity=\"1\" /><polyline clip-path=\"url(#clip312)\" style=\"stroke:#000000; stroke-linecap:butt; stroke-linejoin:round; stroke-width:2; stroke-opacity:0.1; fill:none\" points=\"\n  149.191,1271.46 2352.76,1271.46 \n  \"/>\n<polyline clip-path=\"url(#clip312)\" style=\"stroke:#000000; stroke-linecap:butt; stroke-linejoin:round; stroke-width:2; stroke-opacity:0.1; fill:none\" points=\"\n  149.191,1001.52 2352.76,1001.52 \n  \"/>\n<polyline clip-path=\"url(#clip312)\" style=\"stroke:#000000; stroke-linecap:butt; stroke-linejoin:round; stroke-width:2; stroke-opacity:0.1; fill:none\" points=\"\n  149.191,731.578 2352.76,731.578 \n  \"/>\n<polyline clip-path=\"url(#clip312)\" style=\"stroke:#000000; stroke-linecap:butt; stroke-linejoin:round; stroke-width:2; stroke-opacity:0.1; fill:none\" points=\"\n  149.191,461.637 2352.76,461.637 \n  \"/>\n<polyline clip-path=\"url(#clip312)\" style=\"stroke:#000000; stroke-linecap:butt; stroke-linejoin:round; stroke-width:2; stroke-opacity:0.1; fill:none\" points=\"\n  149.191,191.696 2352.76,191.696 \n  \"/>\n<polyline clip-path=\"url(#clip310)\" style=\"stroke:#000000; stroke-linecap:butt; stroke-linejoin:round; stroke-width:4; stroke-opacity:1; fill:none\" points=\"\n  149.191,1486.45 149.191,47.2441 \n  \"/>\n<polyline clip-path=\"url(#clip310)\" style=\"stroke:#000000; stroke-linecap:butt; stroke-linejoin:round; stroke-width:4; stroke-opacity:1; fill:none\" points=\"\n  149.191,1271.46 168.089,1271.46 \n  \"/>\n<polyline clip-path=\"url(#clip310)\" style=\"stroke:#000000; stroke-linecap:butt; stroke-linejoin:round; stroke-width:4; stroke-opacity:1; fill:none\" points=\"\n  149.191,1001.52 168.089,1001.52 \n  \"/>\n<polyline clip-path=\"url(#clip310)\" style=\"stroke:#000000; stroke-linecap:butt; stroke-linejoin:round; stroke-width:4; stroke-opacity:1; fill:none\" points=\"\n  149.191,731.578 168.089,731.578 \n  \"/>\n<polyline clip-path=\"url(#clip310)\" style=\"stroke:#000000; stroke-linecap:butt; stroke-linejoin:round; stroke-width:4; stroke-opacity:1; fill:none\" points=\"\n  149.191,461.637 168.089,461.637 \n  \"/>\n<polyline clip-path=\"url(#clip310)\" style=\"stroke:#000000; stroke-linecap:butt; stroke-linejoin:round; stroke-width:4; stroke-opacity:1; fill:none\" points=\"\n  149.191,191.696 168.089,191.696 \n  \"/>\n<path clip-path=\"url(#clip310)\" d=\"M50.9921 1271.91 L80.6679 1271.91 L80.6679 1275.85 L50.9921 1275.85 L50.9921 1271.91 Z\" fill=\"#000000\" fill-rule=\"evenodd\" fill-opacity=\"1\" /><path clip-path=\"url(#clip310)\" d=\"M103.608 1258.25 L91.8021 1276.7 L103.608 1276.7 L103.608 1258.25 M102.381 1254.18 L108.26 1254.18 L108.26 1276.7 L113.191 1276.7 L113.191 1280.59 L108.26 1280.59 L108.26 1288.74 L103.608 1288.74 L103.608 1280.59 L88.0058 1280.59 L88.0058 1276.08 L102.381 1254.18 Z\" fill=\"#000000\" fill-rule=\"evenodd\" fill-opacity=\"1\" /><path clip-path=\"url(#clip310)\" d=\"M53.0754 1001.97 L82.7512 1001.97 L82.7512 1005.91 L53.0754 1005.91 L53.0754 1001.97 Z\" fill=\"#000000\" fill-rule=\"evenodd\" fill-opacity=\"1\" /><path clip-path=\"url(#clip310)\" d=\"M96.8715 1014.86 L113.191 1014.86 L113.191 1018.8 L91.2465 1018.8 L91.2465 1014.86 Q93.9086 1012.11 98.4919 1007.48 Q103.098 1002.83 104.279 1001.48 Q106.524 998.962 107.404 997.226 Q108.307 995.466 108.307 993.777 Q108.307 991.022 106.362 989.286 Q104.441 987.55 101.339 987.55 Q99.14 987.55 96.6863 988.314 Q94.2558 989.078 91.478 990.628 L91.478 985.906 Q94.3021 984.772 96.7558 984.193 Q99.2095 983.615 101.246 983.615 Q106.617 983.615 109.811 986.3 Q113.006 988.985 113.006 993.476 Q113.006 995.605 112.196 997.527 Q111.408 999.425 109.302 1002.02 Q108.723 1002.69 105.621 1005.91 Q102.52 1009.1 96.8715 1014.86 Z\" fill=\"#000000\" fill-rule=\"evenodd\" fill-opacity=\"1\" /><path clip-path=\"url(#clip310)\" d=\"M101.246 717.377 Q97.6354 717.377 95.8067 720.942 Q94.0012 724.483 94.0012 731.613 Q94.0012 738.719 95.8067 742.284 Q97.6354 745.826 101.246 745.826 Q104.881 745.826 106.686 742.284 Q108.515 738.719 108.515 731.613 Q108.515 724.483 106.686 720.942 Q104.881 717.377 101.246 717.377 M101.246 713.673 Q107.057 713.673 110.112 718.28 Q113.191 722.863 113.191 731.613 Q113.191 740.34 110.112 744.946 Q107.057 749.53 101.246 749.53 Q95.4363 749.53 92.3576 744.946 Q89.3021 740.34 89.3021 731.613 Q89.3021 722.863 92.3576 718.28 Q95.4363 713.673 101.246 713.673 Z\" fill=\"#000000\" fill-rule=\"evenodd\" fill-opacity=\"1\" /><path clip-path=\"url(#clip310)\" d=\"M96.8715 474.982 L113.191 474.982 L113.191 478.917 L91.2465 478.917 L91.2465 474.982 Q93.9086 472.227 98.4919 467.598 Q103.098 462.945 104.279 461.602 Q106.524 459.079 107.404 457.343 Q108.307 455.584 108.307 453.894 Q108.307 451.139 106.362 449.403 Q104.441 447.667 101.339 447.667 Q99.14 447.667 96.6863 448.431 Q94.2558 449.195 91.478 450.746 L91.478 446.024 Q94.3021 444.889 96.7558 444.311 Q99.2095 443.732 101.246 443.732 Q106.617 443.732 109.811 446.417 Q113.006 449.102 113.006 453.593 Q113.006 455.723 112.196 457.644 Q111.408 459.542 109.302 462.135 Q108.723 462.806 105.621 466.024 Q102.52 469.218 96.8715 474.982 Z\" fill=\"#000000\" fill-rule=\"evenodd\" fill-opacity=\"1\" /><path clip-path=\"url(#clip310)\" d=\"M103.608 178.49 L91.8021 196.939 L103.608 196.939 L103.608 178.49 M102.381 174.416 L108.26 174.416 L108.26 196.939 L113.191 196.939 L113.191 200.828 L108.26 200.828 L108.26 208.976 L103.608 208.976 L103.608 200.828 L88.0058 200.828 L88.0058 196.314 L102.381 174.416 Z\" fill=\"#000000\" fill-rule=\"evenodd\" fill-opacity=\"1\" /><polyline clip-path=\"url(#clip312)\" style=\"stroke:#009af9; stroke-linecap:butt; stroke-linejoin:round; stroke-width:4; stroke-opacity:1; fill:none\" points=\"\n  211.556,561.969 218.462,562.176 225.369,562.668 232.275,563.428 239.182,564.488 246.088,565.713 252.994,567.052 259.901,568.508 266.807,570.127 273.714,571.91 \n  280.62,573.911 287.527,576.162 294.433,578.646 301.339,581.315 308.246,584.108 315.152,587.169 322.059,590.557 328.965,594.226 335.872,598.166 342.778,602.301 \n  349.684,606.584 356.591,611.112 363.497,615.972 370.404,621.146 377.31,626.475 384.217,631.826 391.123,637.297 398.029,643.001 404.936,648.82 411.842,654.725 \n  418.749,660.773 425.655,666.858 432.562,672.947 439.468,679.155 446.374,685.552 453.281,692.119 460.187,698.788 467.094,705.425 474,712.076 480.907,718.865 \n  487.813,725.758 494.719,732.643 501.626,739.45 508.532,746.248 515.439,753.13 522.345,760.073 529.252,766.976 536.158,773.809 543.064,780.498 549.971,786.969 \n  556.877,793.275 563.784,799.434 570.69,805.478 577.597,811.423 584.503,817.298 591.409,823.036 598.316,828.529 605.222,833.802 612.129,838.828 619.035,843.603 \n  625.942,848.12 632.848,852.411 639.754,856.46 646.661,860.154 653.567,863.552 660.474,866.658 667.38,869.487 674.287,872.099 681.193,874.432 688.099,876.535 \n  695.006,878.516 701.912,880.267 708.819,881.753 715.725,883.067 722.632,884.127 729.538,884.917 736.444,885.496 743.351,885.93 750.257,886.192 757.164,886.236 \n  764.07,886.035 770.977,885.553 777.883,884.843 784.789,883.963 791.696,882.912 798.602,881.697 805.509,880.33 812.415,878.743 819.322,876.842 826.228,874.664 \n  833.134,872.275 840.041,869.687 846.947,866.97 853.854,864.042 860.76,860.929 867.667,857.763 874.573,854.452 881.479,850.91 888.386,847.127 895.292,843.118 \n  902.199,838.887 909.105,834.415 916.012,829.669 922.918,824.669 929.824,819.501 936.731,814.151 943.637,808.648 950.544,803.127 957.45,797.632 964.357,792.058 \n  971.263,786.278 978.169,780.366 985.076,774.407 991.982,768.434 998.889,762.519 1005.8,756.553 1012.7,750.477 1019.61,744.393 1026.51,738.297 1033.42,732.217 \n  1040.33,726.238 1047.23,720.334 1054.14,714.516 1061.05,708.855 1067.95,703.385 1074.86,697.997 1081.77,692.62 1088.67,687.357 1095.58,682.196 1102.49,677.149 \n  1109.39,672.218 1116.3,667.443 1123.2,662.814 1130.11,658.226 1137.02,653.717 1143.92,649.318 1150.83,644.991 1157.74,640.745 1164.64,636.641 1171.55,632.754 \n  1178.46,629.146 1185.36,625.833 1192.27,622.824 1199.18,620.094 1206.08,617.668 1212.99,615.433 1219.89,613.372 1226.8,611.501 1233.71,609.731 1240.61,608.169 \n  1247.52,606.854 1254.43,605.667 1261.33,604.638 1268.24,603.873 1275.15,603.408 1282.05,603.28 1288.96,603.36 1295.87,603.551 1302.77,603.944 1309.68,604.538 \n  1316.58,605.352 1323.49,606.426 1330.4,607.644 1337.3,608.955 1344.21,610.414 1351.12,612.005 1358.02,613.758 1364.93,615.665 1371.84,617.725 1378.74,619.946 \n  1385.65,622.384 1392.56,625.043 1399.46,627.768 1406.37,630.535 1413.27,633.349 1420.18,636.315 1427.09,639.539 1433.99,643.037 1440.9,646.815 1447.81,650.834 \n  1454.71,655.103 1461.62,659.521 1468.53,663.949 1475.43,668.445 1482.34,673.016 1489.25,677.572 1496.15,682.081 1503.06,686.556 1509.96,691.099 1516.87,695.731 \n  1523.78,700.365 1530.68,705.036 1537.59,709.849 1544.5,714.753 1551.4,719.707 1558.31,724.665 1565.22,729.64 1572.12,734.648 1579.03,739.595 1585.94,744.5 \n  1592.84,749.383 1599.75,754.25 1606.65,759.138 1613.56,763.974 1620.47,768.761 1627.37,773.581 1634.28,778.276 1641.19,782.831 1648.09,787.295 1655,791.562 \n  1661.91,795.694 1668.81,799.654 1675.72,803.442 1682.63,807.183 1689.53,810.792 1696.44,814.222 1703.34,817.558 1710.25,820.792 1717.16,823.845 1724.06,826.673 \n  1730.97,829.223 1737.88,831.554 1744.78,833.807 1751.69,836.014 1758.6,838.171 1765.5,840.211 1772.41,842.07 1779.32,843.82 1786.22,845.376 1793.13,846.668 \n  1800.03,847.793 1806.94,848.675 1813.85,849.249 1820.75,849.545 1827.66,849.632 1834.57,849.495 1841.47,849.107 1848.38,848.583 1855.29,847.876 1862.19,846.852 \n  1869.1,845.491 1876.01,843.85 1882.91,842.005 1889.82,840.045 1896.72,837.965 1903.63,835.728 1910.54,833.314 1917.44,830.659 1924.35,827.798 1931.26,824.744 \n  1938.16,821.429 1945.07,817.922 1951.98,814.361 1958.88,810.805 1965.79,807.246 1972.7,803.61 1979.6,799.809 1986.51,795.794 1993.41,791.659 2000.32,787.427 \n  2007.23,783.017 2014.13,778.497 2021.04,773.893 2027.95,769.138 2034.85,764.261 2041.76,759.263 2048.67,754.172 2055.57,749.132 2062.48,744.204 2069.39,739.262 \n  2076.29,734.25 2083.2,729.189 2090.1,724.021 2097.01,718.862 2103.92,713.862 2110.82,708.898 2117.73,703.938 2124.64,699.027 2131.54,694.178 2138.45,689.467 \n  2145.36,684.952 2152.26,680.554 2159.17,676.203 2166.08,672.042 2172.98,668.075 2179.89,664.168 2186.79,660.325 2193.7,656.622 2200.61,653.106 2207.51,649.823 \n  2214.42,646.826 2221.33,644.044 2228.23,641.449 2235.14,639.083 2242.05,636.852 2248.95,634.784 2255.86,632.897 2262.77,631.19 2269.67,629.741 2276.58,628.484 \n  2283.48,627.408 2290.39,626.59 \n  \"/>\n<polyline clip-path=\"url(#clip312)\" style=\"stroke:#e26f46; stroke-linecap:butt; stroke-linejoin:round; stroke-width:4; stroke-opacity:1; fill:none\" points=\"\n  211.556,731.578 218.462,772.873 225.369,788.781 232.275,826.169 239.182,849.074 246.088,859.048 252.994,871.83 259.901,882.536 266.807,904.353 273.714,915.524 \n  280.62,947.658 287.527,965.78 294.433,994.106 301.339,1002.65 308.246,1019.05 315.152,1056.36 322.059,1084.37 328.965,1112.39 335.872,1138.61 342.778,1151.65 \n  349.684,1167.96 356.591,1200.66 363.497,1234.31 370.404,1263.47 377.31,1265.5 384.217,1267.7 391.123,1289.4 398.029,1314.55 404.936,1312.11 411.842,1331.98 \n  418.749,1340.59 425.655,1339.46 432.562,1341.29 439.468,1363.25 446.374,1379.09 453.281,1397.2 460.187,1399.62 467.094,1390.57 474,1402.62 480.907,1418.16 \n  487.813,1423.25 494.719,1416.85 501.626,1407.45 508.532,1415.01 515.439,1424.34 522.345,1427.17 529.252,1416.37 536.158,1413.14 543.064,1387.74 549.971,1369.29 \n  556.877,1355.01 563.784,1339.73 570.69,1332 577.597,1320.07 584.503,1317.83 591.409,1292.93 598.316,1268.7 605.222,1248.86 612.129,1219.51 619.035,1198.39 \n  625.942,1168.08 632.848,1153.22 639.754,1119.82 646.661,1082.08 653.567,1060.55 660.474,1023.74 667.38,1005.24 674.287,980.26 681.193,949.556 688.099,934.136 \n  695.006,925.176 701.912,888.149 708.819,872.244 715.725,853.731 722.632,821.475 729.538,799.617 736.444,779.42 743.351,770.514 750.257,745.039 757.164,726.851 \n  764.07,696.182 770.977,670.551 777.883,650.616 784.789,636.546 791.696,616.536 798.602,603.669 805.509,586.014 812.415,559.883 819.322,522.967 826.228,504.721 \n  833.134,480.638 840.041,464.939 846.947,454.902 853.854,422.777 860.76,417.854 867.667,412.235 874.573,388.684 881.479,366.194 888.386,340.472 895.292,320.889 \n  902.199,296.219 909.105,272.756 916.012,241.315 922.918,221.977 929.824,207.763 936.731,185.443 943.637,177.368 950.544,181.626 957.45,182.8 964.357,165.63 \n  971.263,141.724 978.169,139.296 985.076,132.191 991.982,136.558 998.889,143.857 1005.8,126.261 1012.7,121.862 1019.61,124.787 1026.51,119.334 1033.42,127.887 \n  1040.33,139.743 1047.23,142.877 1054.14,156.683 1061.05,174.507 1067.95,194.832 1074.86,190.846 1081.77,197.081 1088.67,213.651 1095.58,217.476 1102.49,236.5 \n  1109.39,240.514 1116.3,267.761 1123.2,269.783 1130.11,275.894 1137.02,285.652 1143.92,297.729 1150.83,300.087 1157.74,314.028 1164.64,328.458 1171.55,357.431 \n  1178.46,384.009 1185.36,416.726 1192.27,444.611 1199.18,472.651 1206.08,505.312 1212.99,510.925 1219.89,540.111 1226.8,548.8 1233.71,560.341 1240.61,590.449 \n  1247.52,609.642 1254.43,616.146 1261.33,641.235 1268.24,668.883 1275.15,701.334 1282.05,736.252 1288.96,742.796 1295.87,758.651 1302.77,783.027 1309.68,798.866 \n  1316.58,827.108 1323.49,850.78 1330.4,855.947 1337.3,869.49 1344.21,885.443 1351.12,895.766 1358.02,918.047 1364.93,926.289 1371.84,948.895 1378.74,958.394 \n  1385.65,992.32 1392.56,1002.45 1399.46,1005.84 1406.37,1010.47 1413.27,1015.43 1420.18,1040.87 1427.09,1066.92 1433.99,1095.81 1440.9,1122.77 1447.81,1144.16 \n  1454.71,1172.57 1461.62,1174.15 1468.53,1174.37 1475.43,1187.93 1482.34,1189.24 1489.25,1185.05 1496.15,1179.8 1503.06,1178.27 1509.96,1193.32 1516.87,1196 \n  1523.78,1193.77 1530.68,1203.6 1537.59,1221.91 1544.5,1221.9 1551.4,1231.9 1558.31,1222.73 1565.22,1235.13 1572.12,1229.56 1579.03,1222.94 1585.94,1220.98 \n  1592.84,1218.54 1599.75,1217.98 1606.65,1222.54 1613.56,1207.7 1620.47,1212.69 1627.37,1214.31 1634.28,1187.73 1641.19,1186.21 1648.09,1169.63 1655,1146.89 \n  1661.91,1142.56 1668.81,1112.53 1675.72,1108.08 1682.63,1103.24 1689.53,1081.59 1696.44,1067.53 1703.34,1062.6 1710.25,1047.39 1717.16,1026.32 1724.06,1002.33 \n  1730.97,970.768 1737.88,958.621 1744.78,954.968 1751.69,949.516 1758.6,945.101 1765.5,925.985 1772.41,908.931 1779.32,904.269 1786.22,870.026 1793.13,851.546 \n  1800.03,836.499 1806.94,803.138 1813.85,774.723 1820.75,747.667 1827.66,732.847 1834.57,703 1841.47,682.635 1848.38,675.61 1855.29,646.31 1862.19,611.956 \n  1869.1,579.15 1876.01,555.868 1882.91,538.286 1889.82,532.92 1896.72,514.413 1903.63,501.385 1910.54,478.924 1917.44,453.285 1924.35,437.928 1931.26,414.364 \n  1938.16,385.876 1945.07,376.12 1951.98,374.855 1958.88,377.146 1965.79,374.38 1972.7,361.734 1979.6,341.311 1986.51,319.012 1993.41,317.253 2000.32,299.629 \n  2007.23,281.582 2014.13,277.758 2021.04,264.729 2027.95,247.583 2034.85,240.33 2041.76,223.459 2048.67,221.642 2055.57,233.73 2062.48,243.861 2069.39,231.157 \n  2076.29,229.735 2083.2,221.333 2090.1,208.511 2097.01,223.012 2103.92,240.19 2110.82,230.412 2117.73,240.805 2124.64,240.369 2131.54,253.061 2138.45,268.166 \n  2145.36,292.099 2152.26,291.645 2159.17,301.425 2166.08,329.572 2172.98,340.359 2179.89,341.52 2186.79,352.988 2193.7,369.668 2200.61,390.393 2207.51,416.186 \n  2214.42,447.788 2221.33,458.965 2228.23,485.271 2235.14,504.778 2242.05,512.158 2248.95,537.49 2255.86,548.205 2262.77,573.644 2269.67,599.662 2276.58,612.173 \n  2283.48,635.795 2290.39,663.791 \n  \"/>\n<polyline clip-path=\"url(#clip312)\" style=\"stroke:#3da44d; stroke-linecap:butt; stroke-linejoin:round; stroke-width:4; stroke-opacity:1; fill:none\" points=\"\n  211.556,561.969 218.462,562.176 225.369,562.669 232.275,563.431 239.182,564.495 246.088,565.726 252.994,567.072 259.901,568.538 266.807,570.169 273.714,571.967 \n  280.62,573.983 287.527,576.252 294.433,578.755 301.339,581.444 308.246,584.258 315.152,587.341 322.059,590.751 328.965,594.441 335.872,598.402 342.778,602.558 \n  349.684,606.86 356.591,611.404 363.497,616.278 370.404,621.465 377.31,626.804 384.217,632.163 391.123,637.638 398.029,643.346 404.936,649.166 411.842,655.072 \n  418.749,661.121 425.655,667.208 432.562,673.301 439.468,679.517 446.374,685.927 453.281,692.513 460.187,699.21 467.094,705.885 474,712.586 480.907,719.439 \n  487.813,726.41 494.719,733.391 501.626,740.311 508.532,747.241 515.439,754.277 522.345,761.394 529.252,768.494 536.158,775.545 543.064,782.476 549.971,789.21 \n  556.877,795.802 563.784,802.268 570.69,808.637 577.597,814.926 584.503,821.16 591.409,827.271 598.316,833.147 605.222,838.811 612.129,844.233 619.035,849.404 \n  625.942,854.315 632.848,858.996 639.754,863.425 646.661,867.485 653.567,871.233 660.474,874.669 667.38,877.804 674.287,880.695 681.193,883.278 688.099,885.597 \n  695.006,887.759 701.912,889.651 708.819,891.238 715.725,892.61 722.632,893.683 729.538,894.439 736.444,894.938 743.351,895.243 750.257,895.327 757.164,895.144 \n  764.07,894.668 770.977,893.863 777.883,892.782 784.789,891.485 791.696,889.974 798.602,888.255 805.509,886.344 812.415,884.175 819.322,881.655 826.228,878.827 \n  833.134,875.758 840.041,872.463 846.947,869.018 853.854,865.343 860.76,861.467 867.667,857.528 874.573,853.435 881.479,849.108 888.386,844.54 895.292,839.748 \n  902.199,834.742 909.105,829.506 916.012,824.009 922.918,818.276 929.824,812.396 936.731,806.357 943.637,800.192 950.544,794.038 957.45,787.942 964.357,781.799 \n  971.263,775.485 978.169,769.076 985.076,762.656 991.982,756.26 998.889,749.96 1005.8,743.647 1012.7,737.262 1019.61,730.907 1026.51,724.578 1033.42,718.3 \n  1040.33,712.16 1047.23,706.131 1054.14,700.22 1061.05,694.501 1067.95,689.004 1074.86,683.621 1081.77,678.278 1088.67,673.079 1095.58,668.009 1102.49,663.08 \n  1109.39,658.291 1116.3,653.684 1123.2,649.247 1130.11,644.874 1137.02,640.602 1143.92,636.46 1150.83,632.412 1157.74,628.466 1164.64,624.683 1171.55,621.136 \n  1178.46,617.887 1185.36,614.955 1192.27,612.346 1199.18,610.036 1206.08,608.049 1212.99,606.272 1219.89,604.687 1226.8,603.309 1233.71,602.048 1240.61,601.012 \n  1247.52,600.237 1254.43,599.605 1261.33,599.144 1268.24,598.959 1275.15,599.085 1282.05,599.558 1288.96,600.245 1295.87,601.051 1302.77,602.062 1309.68,603.276 \n  1316.58,604.711 1323.49,606.404 1330.4,608.237 1337.3,610.158 1344.21,612.218 1351.12,614.4 1358.02,616.734 1364.93,619.206 1371.84,621.816 1378.74,624.57 \n  1385.65,627.523 1392.56,630.674 1399.46,633.871 1406.37,637.084 1413.27,640.32 1420.18,643.682 1427.09,647.275 1433.99,651.115 1440.9,655.205 1447.81,659.507 \n  1454.71,664.028 1461.62,668.668 1468.53,673.285 1475.43,677.939 1482.34,682.635 1489.25,687.285 1496.15,691.858 1503.06,696.366 1509.96,700.913 1516.87,705.521 \n  1523.78,710.105 1530.68,714.701 1537.59,719.416 1544.5,724.199 1551.4,729.013 1558.31,733.812 1565.22,738.611 1572.12,743.428 1579.03,748.171 1585.94,752.859 \n  1592.84,757.516 1599.75,762.149 1606.65,766.795 1613.56,771.385 1620.47,775.92 1627.37,780.486 1634.28,784.925 1641.19,789.223 1648.09,793.429 1655,797.44 \n  1661.91,801.316 1668.81,805.023 1675.72,808.559 1682.63,812.051 1689.53,815.414 1696.44,818.6 1703.34,821.695 1710.25,824.69 1717.16,827.507 1724.06,830.1 \n  1730.97,832.416 1737.88,834.515 1744.78,836.537 1751.69,838.514 1758.6,840.441 1765.5,842.25 1772.41,843.876 1779.32,845.392 1786.22,846.711 1793.13,847.764 \n  1800.03,848.646 1806.94,849.282 1813.85,849.606 1820.75,849.65 1827.66,849.482 1834.57,849.088 1841.47,848.442 1848.38,847.658 1855.29,846.692 1862.19,845.409 \n  1869.1,843.793 1876.01,841.899 1882.91,839.807 1889.82,837.606 1896.72,835.294 1903.63,832.833 1910.54,830.206 1917.44,827.35 1924.35,824.303 1931.26,821.075 \n  1938.16,817.604 1945.07,813.959 1951.98,810.277 1958.88,806.62 1965.79,802.981 1972.7,799.285 1979.6,795.445 1986.51,791.413 1993.41,787.283 2000.32,783.077 \n  2007.23,778.714 2014.13,774.263 2021.04,769.749 2027.95,765.103 2034.85,760.354 2041.76,755.503 2048.67,750.576 2055.57,745.715 2062.48,740.98 2069.39,736.245 \n  2076.29,731.451 2083.2,726.618 2090.1,721.687 2097.01,716.77 2103.92,712.017 2110.82,707.304 2117.73,702.596 2124.64,697.937 2131.54,693.338 2138.45,688.876 \n  2145.36,684.604 2152.26,680.445 2159.17,676.326 2166.08,672.389 2172.98,668.639 2179.89,664.939 2186.79,661.294 2193.7,657.779 2200.61,654.44 2207.51,651.324 \n  2214.42,648.483 2221.33,645.845 2228.23,643.384 2235.14,641.14 2242.05,639.02 2248.95,637.051 2255.86,635.252 2262.77,633.623 2269.67,632.24 2276.58,631.038 \n  2283.48,630.006 2290.39,629.221 \n  \"/>\n<polyline clip-path=\"url(#clip312)\" style=\"stroke:#c271d2; stroke-linecap:butt; stroke-linejoin:round; stroke-width:4; stroke-opacity:1; fill:none\" points=\"\n  211.556,731.578 218.462,772.912 225.369,788.922 232.275,826.461 239.182,849.557 246.088,859.734 252.994,872.72 259.901,883.627 266.807,905.643 273.714,917.004 \n  280.62,949.321 287.527,967.612 294.433,996.083 301.339,1004.74 308.246,1021.19 315.152,1058.53 322.059,1086.56 328.965,1114.55 335.872,1140.69 342.778,1153.6 \n  349.684,1169.73 356.591,1202.23 363.497,1235.66 370.404,1264.6 377.31,1266.38 384.217,1268.33 391.123,1289.79 398.029,1314.77 404.936,1312.21 411.842,1332.03 \n  418.749,1340.71 425.655,1339.75 432.562,1341.86 439.468,1364.26 446.374,1380.69 453.281,1399.55 460.187,1402.9 467.094,1394.95 474,1408.26 480.907,1425.23 \n  487.813,1431.9 494.719,1427.25 501.626,1419.74 508.532,1429.31 515.439,1440.73 522.345,1445.72 529.252,1437.14 536.158,1436.15 543.064,1413 549.971,1396.76 \n  556.877,1384.63 563.784,1371.38 570.69,1365.52 577.597,1355.26 584.503,1354.46 591.409,1330.75 598.316,1307.44 605.222,1288.23 612.129,1259.18 619.035,1238.03 \n  625.942,1207.34 632.848,1191.71 639.754,1157.19 646.661,1117.96 653.567,1094.6 660.474,1055.6 667.38,1034.58 674.287,1006.75 681.193,972.886 688.099,954.022 \n  695.006,941.324 701.912,900.309 708.819,880.202 715.725,857.283 722.632,820.463 729.538,793.925 736.444,768.953 743.351,755.198 750.257,724.832 757.164,701.751 \n  764.07,666.226 770.977,635.824 777.883,611.233 784.789,592.646 791.696,568.285 798.602,551.259 805.509,529.655 812.415,499.818 819.322,459.479 826.228,438.126 \n  833.134,411.27 840.041,393.149 846.947,381.047 853.854,347.227 860.76,340.987 867.667,334.423 874.573,310.292 881.479,287.588 888.386,262.02 895.292,242.959 \n  902.199,219.173 909.105,196.947 916.012,167.085 922.918,149.656 929.824,137.668 936.731,117.863 943.637,112.566 950.544,119.852 957.45,124.27 964.357,110.512 \n  971.263,90.1419 978.169,91.3534 985.076,87.9763 991.982,96.1318 998.889,107.261 1005.8,93.4935 1012.7,92.8889 1019.61,99.5698 1026.51,97.8145 1033.42,109.994 \n  1040.33,125.403 1047.23,132.001 1054.14,149.174 1061.05,170.268 1067.95,193.763 1074.86,192.832 1081.77,201.995 1088.67,221.384 1095.58,227.918 1102.49,249.548 \n  1109.39,256.072 1116.3,285.74 1123.2,290.102 1130.11,298.466 1137.02,310.407 1143.92,324.61 1150.83,329.043 1157.74,345.024 1164.64,361.472 1171.55,392.455 \n  1178.46,421.039 1185.36,455.752 1192.27,485.612 1199.18,515.595 1206.08,550.154 1212.99,557.608 1219.89,588.569 1226.8,598.962 1233.71,612.129 1240.61,643.787 \n  1247.52,664.44 1254.43,672.304 1261.33,698.652 1268.24,727.446 1275.15,760.911 1282.05,796.687 1288.96,803.915 1295.87,820.279 1302.77,844.982 1309.68,860.956 \n  1316.58,889.136 1323.49,912.533 1330.4,917.213 1337.3,930.064 1344.21,945.124 1351.12,954.358 1358.02,975.359 1364.93,982.135 1371.84,1003.09 1378.74,1010.77 \n  1385.65,1042.71 1392.56,1050.68 1399.46,1051.75 1406.37,1053.94 1413.27,1056.34 1420.18,1079.14 1427.09,1102.46 1433.99,1128.52 1440.9,1152.56 1447.81,1170.94 \n  1454.71,1196.26 1461.62,1194.68 1468.53,1191.71 1475.43,1202.08 1482.34,1200.21 1489.25,1192.89 1496.15,1184.59 1503.06,1180.11 1509.96,1192.32 1516.87,1192.3 \n  1523.78,1187.49 1530.68,1194.91 1537.59,1210.95 1544.5,1208.84 1551.4,1216.89 1558.31,1205.95 1565.22,1216.75 1572.12,1209.75 1579.03,1201.88 1585.94,1198.84 \n  1592.84,1195.49 1599.75,1194.16 1606.65,1198.11 1613.56,1182.78 1620.47,1187.42 1627.37,1188.78 1634.28,1162.05 1641.19,1160.47 1648.09,1143.9 1655,1121.26 \n  1661.91,1117.08 1668.81,1087.26 1675.72,1083.05 1682.63,1078.48 1689.53,1057.09 1696.44,1043.29 1703.34,1038.62 1710.25,1023.62 1717.16,1002.74 1724.06,978.911 \n  1730.97,947.498 1737.88,935.48 1744.78,931.917 1751.69,926.497 1758.6,922.045 1765.5,902.827 1772.41,885.617 1779.32,880.733 1786.22,846.219 1793.13,827.441 \n  1800.03,812.067 1806.94,778.369 1813.85,749.635 1820.75,722.295 1827.66,707.235 1834.57,677.202 1841.47,656.726 1848.38,649.666 1855.29,620.415 1862.19,586.219 \n  1869.1,553.704 1876.01,530.855 1882.91,513.852 1889.82,509.211 1896.72,491.568 1903.63,479.545 1910.54,458.227 1917.44,433.869 1924.35,419.931 1931.26,397.917 \n  1938.16,371.105 1945.07,363.141 1951.98,363.775 1958.88,368.052 1965.79,367.342 1972.7,356.801 1979.6,338.519 1986.51,318.381 1993.41,318.792 2000.32,303.328 \n  2007.23,287.413 2014.13,285.68 2021.04,274.684 2027.95,259.493 2034.85,254.103 2041.76,238.985 2048.67,238.8 2055.57,252.392 2062.48,263.896 2069.39,252.418 \n  2076.29,252.063 2083.2,244.564 2090.1,232.471 2097.01,247.531 2103.92,265.111 2110.82,255.573 2117.73,266.044 2124.64,265.533 2131.54,278.004 2138.45,292.755 \n  2145.36,316.216 2152.26,315.179 2159.17,324.269 2166.08,351.639 2172.98,361.574 2179.89,361.811 2186.79,372.293 2193.7,387.939 2200.61,407.597 2207.51,432.3 \n  2214.42,462.797 2221.33,472.86 2228.23,498.044 2235.14,516.428 2242.05,522.683 2248.95,546.892 2255.86,556.487 2262.77,580.812 2269.67,605.721 2276.58,617.124 \n  2283.48,639.638 2290.39,666.524 \n  \"/>\n<path clip-path=\"url(#clip310)\" d=\"\nM1980.32 354.418 L2279.3 354.418 L2279.3 95.2176 L1980.32 95.2176  Z\n  \" fill=\"#ffffff\" fill-rule=\"evenodd\" fill-opacity=\"1\"/>\n<polyline clip-path=\"url(#clip310)\" style=\"stroke:#000000; stroke-linecap:butt; stroke-linejoin:round; stroke-width:4; stroke-opacity:1; fill:none\" points=\"\n  1980.32,354.418 2279.3,354.418 2279.3,95.2176 1980.32,95.2176 1980.32,354.418 \n  \"/>\n<polyline clip-path=\"url(#clip310)\" style=\"stroke:#009af9; stroke-linecap:butt; stroke-linejoin:round; stroke-width:4; stroke-opacity:1; fill:none\" points=\"\n  2004.8,147.058 2151.71,147.058 \n  \"/>\n<path clip-path=\"url(#clip310)\" d=\"M2190.03 166.745 Q2188.23 171.375 2186.52 172.787 Q2184.8 174.199 2181.93 174.199 L2178.53 174.199 L2178.53 170.634 L2181.03 170.634 Q2182.79 170.634 2183.76 169.8 Q2184.73 168.967 2185.91 165.865 L2186.68 163.921 L2176.19 138.412 L2180.71 138.412 L2188.81 158.689 L2196.91 138.412 L2201.42 138.412 L2190.03 166.745 Z\" fill=\"#000000\" fill-rule=\"evenodd\" fill-opacity=\"1\" /><path clip-path=\"url(#clip310)\" d=\"M2208.72 160.402 L2216.35 160.402 L2216.35 134.037 L2208.04 135.703 L2208.04 131.444 L2216.31 129.778 L2220.98 129.778 L2220.98 160.402 L2228.62 160.402 L2228.62 164.338 L2208.72 164.338 L2208.72 160.402 Z\" fill=\"#000000\" fill-rule=\"evenodd\" fill-opacity=\"1\" /><polyline clip-path=\"url(#clip310)\" style=\"stroke:#e26f46; stroke-linecap:butt; stroke-linejoin:round; stroke-width:4; stroke-opacity:1; fill:none\" points=\"\n  2004.8,198.898 2151.71,198.898 \n  \"/>\n<path clip-path=\"url(#clip310)\" d=\"M2190.03 218.585 Q2188.23 223.215 2186.52 224.627 Q2184.8 226.039 2181.93 226.039 L2178.53 226.039 L2178.53 222.474 L2181.03 222.474 Q2182.79 222.474 2183.76 221.64 Q2184.73 220.807 2185.91 217.705 L2186.68 215.761 L2176.19 190.252 L2180.71 190.252 L2188.81 210.529 L2196.91 190.252 L2201.42 190.252 L2190.03 218.585 Z\" fill=\"#000000\" fill-rule=\"evenodd\" fill-opacity=\"1\" /><path clip-path=\"url(#clip310)\" d=\"M2211.93 212.242 L2228.25 212.242 L2228.25 216.178 L2206.31 216.178 L2206.31 212.242 Q2208.97 209.488 2213.55 204.858 Q2218.16 200.205 2219.34 198.863 Q2221.59 196.34 2222.47 194.604 Q2223.37 192.844 2223.37 191.155 Q2223.37 188.4 2221.42 186.664 Q2219.5 184.928 2216.4 184.928 Q2214.2 184.928 2211.75 185.692 Q2209.32 186.455 2206.54 188.006 L2206.54 183.284 Q2209.36 182.15 2211.82 181.571 Q2214.27 180.993 2216.31 180.993 Q2221.68 180.993 2224.87 183.678 Q2228.07 186.363 2228.07 190.854 Q2228.07 192.983 2227.26 194.905 Q2226.47 196.803 2224.36 199.395 Q2223.78 200.067 2220.68 203.284 Q2217.58 206.479 2211.93 212.242 Z\" fill=\"#000000\" fill-rule=\"evenodd\" fill-opacity=\"1\" /><polyline clip-path=\"url(#clip310)\" style=\"stroke:#3da44d; stroke-linecap:butt; stroke-linejoin:round; stroke-width:4; stroke-opacity:1; fill:none\" points=\"\n  2004.8,250.738 2151.71,250.738 \n  \"/>\n<path clip-path=\"url(#clip310)\" d=\"M2190.03 270.425 Q2188.23 275.055 2186.52 276.467 Q2184.8 277.879 2181.93 277.879 L2178.53 277.879 L2178.53 274.314 L2181.03 274.314 Q2182.79 274.314 2183.76 273.48 Q2184.73 272.647 2185.91 269.545 L2186.68 267.601 L2176.19 242.092 L2180.71 242.092 L2188.81 262.369 L2196.91 242.092 L2201.42 242.092 L2190.03 270.425 Z\" fill=\"#000000\" fill-rule=\"evenodd\" fill-opacity=\"1\" /><path clip-path=\"url(#clip310)\" d=\"M2222.07 249.383 Q2225.43 250.101 2227.3 252.369 Q2229.2 254.638 2229.2 257.971 Q2229.2 263.087 2225.68 265.888 Q2222.16 268.689 2215.68 268.689 Q2213.51 268.689 2211.19 268.249 Q2208.9 267.832 2206.45 266.976 L2206.45 262.462 Q2208.39 263.596 2210.71 264.175 Q2213.02 264.754 2215.54 264.754 Q2219.94 264.754 2222.23 263.018 Q2224.55 261.281 2224.55 257.971 Q2224.55 254.916 2222.4 253.203 Q2220.27 251.467 2216.45 251.467 L2212.42 251.467 L2212.42 247.624 L2216.63 247.624 Q2220.08 247.624 2221.91 246.258 Q2223.74 244.87 2223.74 242.277 Q2223.74 239.615 2221.84 238.203 Q2219.97 236.768 2216.45 236.768 Q2214.53 236.768 2212.33 237.184 Q2210.13 237.601 2207.49 238.481 L2207.49 234.314 Q2210.15 233.573 2212.47 233.203 Q2214.8 232.833 2216.86 232.833 Q2222.19 232.833 2225.29 235.263 Q2228.39 237.67 2228.39 241.791 Q2228.39 244.661 2226.75 246.652 Q2225.1 248.62 2222.07 249.383 Z\" fill=\"#000000\" fill-rule=\"evenodd\" fill-opacity=\"1\" /><polyline clip-path=\"url(#clip310)\" style=\"stroke:#c271d2; stroke-linecap:butt; stroke-linejoin:round; stroke-width:4; stroke-opacity:1; fill:none\" points=\"\n  2004.8,302.578 2151.71,302.578 \n  \"/>\n<path clip-path=\"url(#clip310)\" d=\"M2190.03 322.265 Q2188.23 326.895 2186.52 328.307 Q2184.8 329.719 2181.93 329.719 L2178.53 329.719 L2178.53 326.154 L2181.03 326.154 Q2182.79 326.154 2183.76 325.32 Q2184.73 324.487 2185.91 321.385 L2186.68 319.441 L2176.19 293.932 L2180.71 293.932 L2188.81 314.209 L2196.91 293.932 L2201.42 293.932 L2190.03 322.265 Z\" fill=\"#000000\" fill-rule=\"evenodd\" fill-opacity=\"1\" /><path clip-path=\"url(#clip310)\" d=\"M2220.75 289.372 L2208.95 307.821 L2220.75 307.821 L2220.75 289.372 M2219.53 285.298 L2225.41 285.298 L2225.41 307.821 L2230.34 307.821 L2230.34 311.709 L2225.41 311.709 L2225.41 319.858 L2220.75 319.858 L2220.75 311.709 L2205.15 311.709 L2205.15 307.196 L2219.53 285.298 Z\" fill=\"#000000\" fill-rule=\"evenodd\" fill-opacity=\"1\" /></svg>\n"
     },
     "execution_count": 1816,
     "metadata": {},
     "output_type": "execute_result"
    }
   ],
   "source": [
    "plot(time, theta_sim)\n",
    "plot!(time, omega_sim)\n",
    "\n",
    "plot!(time, theta_bilinear)\n",
    "plot!(time, omega_bilinear)"
   ]
  },
  {
   "cell_type": "code",
   "execution_count": 1817,
   "metadata": {},
   "outputs": [
    {
     "data": {
      "image/svg+xml": "<?xml version=\"1.0\" encoding=\"utf-8\"?>\n<svg xmlns=\"http://www.w3.org/2000/svg\" xmlns:xlink=\"http://www.w3.org/1999/xlink\" width=\"600\" height=\"400\" viewBox=\"0 0 2400 1600\">\n<defs>\n  <clipPath id=\"clip350\">\n    <rect x=\"0\" y=\"0\" width=\"2400\" height=\"1600\"/>\n  </clipPath>\n</defs>\n<path clip-path=\"url(#clip350)\" d=\"\nM0 1600 L2400 1600 L2400 0 L0 0  Z\n  \" fill=\"#ffffff\" fill-rule=\"evenodd\" fill-opacity=\"1\"/>\n<defs>\n  <clipPath id=\"clip351\">\n    <rect x=\"480\" y=\"0\" width=\"1681\" height=\"1600\"/>\n  </clipPath>\n</defs>\n<path clip-path=\"url(#clip350)\" d=\"\nM148.057 1486.45 L2352.76 1486.45 L2352.76 47.2441 L148.057 47.2441  Z\n  \" fill=\"#ffffff\" fill-rule=\"evenodd\" fill-opacity=\"1\"/>\n<defs>\n  <clipPath id=\"clip352\">\n    <rect x=\"148\" y=\"47\" width=\"2206\" height=\"1440\"/>\n  </clipPath>\n</defs>\n<polyline clip-path=\"url(#clip352)\" style=\"stroke:#000000; stroke-linecap:butt; stroke-linejoin:round; stroke-width:2; stroke-opacity:0.1; fill:none\" points=\"\n  210.454,1486.45 210.454,47.2441 \n  \"/>\n<polyline clip-path=\"url(#clip352)\" style=\"stroke:#000000; stroke-linecap:butt; stroke-linejoin:round; stroke-width:2; stroke-opacity:0.1; fill:none\" points=\"\n  901.452,1486.45 901.452,47.2441 \n  \"/>\n<polyline clip-path=\"url(#clip352)\" style=\"stroke:#000000; stroke-linecap:butt; stroke-linejoin:round; stroke-width:2; stroke-opacity:0.1; fill:none\" points=\"\n  1592.45,1486.45 1592.45,47.2441 \n  \"/>\n<polyline clip-path=\"url(#clip352)\" style=\"stroke:#000000; stroke-linecap:butt; stroke-linejoin:round; stroke-width:2; stroke-opacity:0.1; fill:none\" points=\"\n  2283.45,1486.45 2283.45,47.2441 \n  \"/>\n<polyline clip-path=\"url(#clip350)\" style=\"stroke:#000000; stroke-linecap:butt; stroke-linejoin:round; stroke-width:4; stroke-opacity:1; fill:none\" points=\"\n  148.057,1486.45 2352.76,1486.45 \n  \"/>\n<polyline clip-path=\"url(#clip350)\" style=\"stroke:#000000; stroke-linecap:butt; stroke-linejoin:round; stroke-width:4; stroke-opacity:1; fill:none\" points=\"\n  210.454,1486.45 210.454,1467.55 \n  \"/>\n<polyline clip-path=\"url(#clip350)\" style=\"stroke:#000000; stroke-linecap:butt; stroke-linejoin:round; stroke-width:4; stroke-opacity:1; fill:none\" points=\"\n  901.452,1486.45 901.452,1467.55 \n  \"/>\n<polyline clip-path=\"url(#clip350)\" style=\"stroke:#000000; stroke-linecap:butt; stroke-linejoin:round; stroke-width:4; stroke-opacity:1; fill:none\" points=\"\n  1592.45,1486.45 1592.45,1467.55 \n  \"/>\n<polyline clip-path=\"url(#clip350)\" style=\"stroke:#000000; stroke-linecap:butt; stroke-linejoin:round; stroke-width:4; stroke-opacity:1; fill:none\" points=\"\n  2283.45,1486.45 2283.45,1467.55 \n  \"/>\n<path clip-path=\"url(#clip350)\" d=\"M210.454 1517.37 Q206.843 1517.37 205.014 1520.93 Q203.208 1524.47 203.208 1531.6 Q203.208 1538.71 205.014 1542.27 Q206.843 1545.82 210.454 1545.82 Q214.088 1545.82 215.894 1542.27 Q217.722 1538.71 217.722 1531.6 Q217.722 1524.47 215.894 1520.93 Q214.088 1517.37 210.454 1517.37 M210.454 1513.66 Q216.264 1513.66 219.319 1518.27 Q222.398 1522.85 222.398 1531.6 Q222.398 1540.33 219.319 1544.94 Q216.264 1549.52 210.454 1549.52 Q204.644 1549.52 201.565 1544.94 Q198.509 1540.33 198.509 1531.6 Q198.509 1522.85 201.565 1518.27 Q204.644 1513.66 210.454 1513.66 Z\" fill=\"#000000\" fill-rule=\"evenodd\" fill-opacity=\"1\" /><path clip-path=\"url(#clip350)\" d=\"M891.834 1544.91 L899.473 1544.91 L899.473 1518.55 L891.163 1520.21 L891.163 1515.95 L899.427 1514.29 L904.103 1514.29 L904.103 1544.91 L911.741 1544.91 L911.741 1548.85 L891.834 1548.85 L891.834 1544.91 Z\" fill=\"#000000\" fill-rule=\"evenodd\" fill-opacity=\"1\" /><path clip-path=\"url(#clip350)\" d=\"M1587.1 1544.91 L1603.42 1544.91 L1603.42 1548.85 L1581.48 1548.85 L1581.48 1544.91 Q1584.14 1542.16 1588.72 1537.53 Q1593.33 1532.88 1594.51 1531.53 Q1596.76 1529.01 1597.64 1527.27 Q1598.54 1525.51 1598.54 1523.82 Q1598.54 1521.07 1596.59 1519.33 Q1594.67 1517.6 1591.57 1517.6 Q1589.37 1517.6 1586.92 1518.36 Q1584.49 1519.13 1581.71 1520.68 L1581.71 1515.95 Q1584.53 1514.82 1586.99 1514.24 Q1589.44 1513.66 1591.48 1513.66 Q1596.85 1513.66 1600.04 1516.35 Q1603.24 1519.03 1603.24 1523.52 Q1603.24 1525.65 1602.43 1527.57 Q1601.64 1529.47 1599.53 1532.07 Q1598.96 1532.74 1595.85 1535.95 Q1592.75 1539.15 1587.1 1544.91 Z\" fill=\"#000000\" fill-rule=\"evenodd\" fill-opacity=\"1\" /><path clip-path=\"url(#clip350)\" d=\"M2287.7 1530.21 Q2291.05 1530.93 2292.93 1533.2 Q2294.83 1535.47 2294.83 1538.8 Q2294.83 1543.92 2291.31 1546.72 Q2287.79 1549.52 2281.31 1549.52 Q2279.13 1549.52 2276.82 1549.08 Q2274.53 1548.66 2272.07 1547.81 L2272.07 1543.29 Q2274.02 1544.43 2276.33 1545.01 Q2278.65 1545.58 2281.17 1545.58 Q2285.57 1545.58 2287.86 1543.85 Q2290.17 1542.11 2290.17 1538.8 Q2290.17 1535.75 2288.02 1534.03 Q2285.89 1532.3 2282.07 1532.3 L2278.04 1532.3 L2278.04 1528.45 L2282.26 1528.45 Q2285.71 1528.45 2287.53 1527.09 Q2289.36 1525.7 2289.36 1523.11 Q2289.36 1520.45 2287.46 1519.03 Q2285.59 1517.6 2282.07 1517.6 Q2280.15 1517.6 2277.95 1518.01 Q2275.75 1518.43 2273.11 1519.31 L2273.11 1515.14 Q2275.78 1514.4 2278.09 1514.03 Q2280.43 1513.66 2282.49 1513.66 Q2287.81 1513.66 2290.91 1516.09 Q2294.02 1518.5 2294.02 1522.62 Q2294.02 1525.49 2292.37 1527.48 Q2290.73 1529.45 2287.7 1530.21 Z\" fill=\"#000000\" fill-rule=\"evenodd\" fill-opacity=\"1\" /><polyline clip-path=\"url(#clip352)\" style=\"stroke:#000000; stroke-linecap:butt; stroke-linejoin:round; stroke-width:2; stroke-opacity:0.1; fill:none\" points=\"\n  148.057,1445.78 2352.76,1445.78 \n  \"/>\n<polyline clip-path=\"url(#clip352)\" style=\"stroke:#000000; stroke-linecap:butt; stroke-linejoin:round; stroke-width:2; stroke-opacity:0.1; fill:none\" points=\"\n  148.057,1201.98 2352.76,1201.98 \n  \"/>\n<polyline clip-path=\"url(#clip352)\" style=\"stroke:#000000; stroke-linecap:butt; stroke-linejoin:round; stroke-width:2; stroke-opacity:0.1; fill:none\" points=\"\n  148.057,958.177 2352.76,958.177 \n  \"/>\n<polyline clip-path=\"url(#clip352)\" style=\"stroke:#000000; stroke-linecap:butt; stroke-linejoin:round; stroke-width:2; stroke-opacity:0.1; fill:none\" points=\"\n  148.057,714.377 2352.76,714.377 \n  \"/>\n<polyline clip-path=\"url(#clip352)\" style=\"stroke:#000000; stroke-linecap:butt; stroke-linejoin:round; stroke-width:2; stroke-opacity:0.1; fill:none\" points=\"\n  148.057,470.576 2352.76,470.576 \n  \"/>\n<polyline clip-path=\"url(#clip352)\" style=\"stroke:#000000; stroke-linecap:butt; stroke-linejoin:round; stroke-width:2; stroke-opacity:0.1; fill:none\" points=\"\n  148.057,226.776 2352.76,226.776 \n  \"/>\n<polyline clip-path=\"url(#clip350)\" style=\"stroke:#000000; stroke-linecap:butt; stroke-linejoin:round; stroke-width:4; stroke-opacity:1; fill:none\" points=\"\n  148.057,1486.45 148.057,47.2441 \n  \"/>\n<polyline clip-path=\"url(#clip350)\" style=\"stroke:#000000; stroke-linecap:butt; stroke-linejoin:round; stroke-width:4; stroke-opacity:1; fill:none\" points=\"\n  148.057,1445.78 166.954,1445.78 \n  \"/>\n<polyline clip-path=\"url(#clip350)\" style=\"stroke:#000000; stroke-linecap:butt; stroke-linejoin:round; stroke-width:4; stroke-opacity:1; fill:none\" points=\"\n  148.057,1201.98 166.954,1201.98 \n  \"/>\n<polyline clip-path=\"url(#clip350)\" style=\"stroke:#000000; stroke-linecap:butt; stroke-linejoin:round; stroke-width:4; stroke-opacity:1; fill:none\" points=\"\n  148.057,958.177 166.954,958.177 \n  \"/>\n<polyline clip-path=\"url(#clip350)\" style=\"stroke:#000000; stroke-linecap:butt; stroke-linejoin:round; stroke-width:4; stroke-opacity:1; fill:none\" points=\"\n  148.057,714.377 166.954,714.377 \n  \"/>\n<polyline clip-path=\"url(#clip350)\" style=\"stroke:#000000; stroke-linecap:butt; stroke-linejoin:round; stroke-width:4; stroke-opacity:1; fill:none\" points=\"\n  148.057,470.576 166.954,470.576 \n  \"/>\n<polyline clip-path=\"url(#clip350)\" style=\"stroke:#000000; stroke-linecap:butt; stroke-linejoin:round; stroke-width:4; stroke-opacity:1; fill:none\" points=\"\n  148.057,226.776 166.954,226.776 \n  \"/>\n<path clip-path=\"url(#clip350)\" d=\"M50.9921 1446.23 L80.6679 1446.23 L80.6679 1450.16 L50.9921 1450.16 L50.9921 1446.23 Z\" fill=\"#000000\" fill-rule=\"evenodd\" fill-opacity=\"1\" /><path clip-path=\"url(#clip350)\" d=\"M104.927 1444.42 Q108.283 1445.14 110.158 1447.41 Q112.057 1449.68 112.057 1453.01 Q112.057 1458.13 108.538 1460.93 Q105.02 1463.73 98.5382 1463.73 Q96.3623 1463.73 94.0475 1463.29 Q91.7558 1462.87 89.3021 1462.02 L89.3021 1457.5 Q91.2465 1458.64 93.5613 1459.22 Q95.8761 1459.79 98.3993 1459.79 Q102.797 1459.79 105.089 1458.06 Q107.404 1456.32 107.404 1453.01 Q107.404 1449.96 105.251 1448.24 Q103.121 1446.51 99.3021 1446.51 L95.2743 1446.51 L95.2743 1442.66 L99.4872 1442.66 Q102.936 1442.66 104.765 1441.3 Q106.594 1439.91 106.594 1437.32 Q106.594 1434.66 104.696 1433.24 Q102.821 1431.81 99.3021 1431.81 Q97.3808 1431.81 95.1817 1432.22 Q92.9826 1432.64 90.3438 1433.52 L90.3438 1429.35 Q93.0058 1428.61 95.3206 1428.24 Q97.6585 1427.87 99.7187 1427.87 Q105.043 1427.87 108.145 1430.3 Q111.246 1432.71 111.246 1436.83 Q111.246 1439.7 109.603 1441.69 Q107.959 1443.66 104.927 1444.42 Z\" fill=\"#000000\" fill-rule=\"evenodd\" fill-opacity=\"1\" /><path clip-path=\"url(#clip350)\" d=\"M51.9412 1202.43 L81.617 1202.43 L81.617 1206.36 L51.9412 1206.36 L51.9412 1202.43 Z\" fill=\"#000000\" fill-rule=\"evenodd\" fill-opacity=\"1\" /><path clip-path=\"url(#clip350)\" d=\"M95.7373 1215.32 L112.057 1215.32 L112.057 1219.26 L90.1123 1219.26 L90.1123 1215.32 Q92.7743 1212.57 97.3576 1207.94 Q101.964 1203.29 103.145 1201.94 Q105.39 1199.42 106.27 1197.68 Q107.172 1195.92 107.172 1194.23 Q107.172 1191.48 105.228 1189.74 Q103.307 1188.01 100.205 1188.01 Q98.0058 1188.01 95.5521 1188.77 Q93.1215 1189.54 90.3438 1191.09 L90.3438 1186.36 Q93.1678 1185.23 95.6215 1184.65 Q98.0752 1184.07 100.112 1184.07 Q105.483 1184.07 108.677 1186.76 Q111.871 1189.44 111.871 1193.93 Q111.871 1196.06 111.061 1197.98 Q110.274 1199.88 108.168 1202.48 Q107.589 1203.15 104.487 1206.36 Q101.385 1209.56 95.7373 1215.32 Z\" fill=\"#000000\" fill-rule=\"evenodd\" fill-opacity=\"1\" /><path clip-path=\"url(#clip350)\" d=\"M51.5708 958.628 L81.2466 958.628 L81.2466 962.564 L51.5708 962.564 L51.5708 958.628 Z\" fill=\"#000000\" fill-rule=\"evenodd\" fill-opacity=\"1\" /><path clip-path=\"url(#clip350)\" d=\"M92.1493 971.522 L99.7882 971.522 L99.7882 945.156 L91.478 946.823 L91.478 942.564 L99.7419 940.897 L104.418 940.897 L104.418 971.522 L112.057 971.522 L112.057 975.457 L92.1493 975.457 L92.1493 971.522 Z\" fill=\"#000000\" fill-rule=\"evenodd\" fill-opacity=\"1\" /><path clip-path=\"url(#clip350)\" d=\"M100.112 700.175 Q96.5011 700.175 94.6724 703.74 Q92.8669 707.282 92.8669 714.411 Q92.8669 721.518 94.6724 725.083 Q96.5011 728.624 100.112 728.624 Q103.746 728.624 105.552 725.083 Q107.381 721.518 107.381 714.411 Q107.381 707.282 105.552 703.74 Q103.746 700.175 100.112 700.175 M100.112 696.472 Q105.922 696.472 108.978 701.078 Q112.057 705.661 112.057 714.411 Q112.057 723.138 108.978 727.745 Q105.922 732.328 100.112 732.328 Q94.3021 732.328 91.2234 727.745 Q88.1679 723.138 88.1679 714.411 Q88.1679 705.661 91.2234 701.078 Q94.3021 696.472 100.112 696.472 Z\" fill=\"#000000\" fill-rule=\"evenodd\" fill-opacity=\"1\" /><path clip-path=\"url(#clip350)\" d=\"M92.1493 483.921 L99.7882 483.921 L99.7882 457.555 L91.478 459.222 L91.478 454.963 L99.7419 453.296 L104.418 453.296 L104.418 483.921 L112.057 483.921 L112.057 487.856 L92.1493 487.856 L92.1493 483.921 Z\" fill=\"#000000\" fill-rule=\"evenodd\" fill-opacity=\"1\" /><path clip-path=\"url(#clip350)\" d=\"M95.7373 240.121 L112.057 240.121 L112.057 244.056 L90.1123 244.056 L90.1123 240.121 Q92.7743 237.366 97.3576 232.736 Q101.964 228.084 103.145 226.741 Q105.39 224.218 106.27 222.482 Q107.172 220.723 107.172 219.033 Q107.172 216.278 105.228 214.542 Q103.307 212.806 100.205 212.806 Q98.0058 212.806 95.5521 213.57 Q93.1215 214.334 90.3438 215.885 L90.3438 211.162 Q93.1678 210.028 95.6215 209.449 Q98.0752 208.871 100.112 208.871 Q105.483 208.871 108.677 211.556 Q111.871 214.241 111.871 218.732 Q111.871 220.861 111.061 222.783 Q110.274 224.681 108.168 227.273 Q107.589 227.945 104.487 231.162 Q101.385 234.357 95.7373 240.121 Z\" fill=\"#000000\" fill-rule=\"evenodd\" fill-opacity=\"1\" /><polyline clip-path=\"url(#clip352)\" style=\"stroke:#009af9; stroke-linecap:butt; stroke-linejoin:round; stroke-width:4; stroke-opacity:1; fill:none\" points=\"\n  210.454,408.008 217.364,408.138 224.274,408.526 231.184,409.172 238.094,410.074 245.004,411.231 251.914,412.64 258.824,414.3 265.734,416.209 272.644,418.365 \n  279.554,420.764 286.464,423.405 293.374,426.284 300.284,429.4 307.194,432.747 314.104,436.323 321.013,440.124 327.923,444.145 334.833,448.384 341.743,452.834 \n  348.653,457.491 355.563,462.35 362.473,467.404 369.383,472.649 376.293,478.078 383.203,483.684 390.113,489.461 397.023,495.4 403.933,501.494 410.843,507.735 \n  417.753,514.114 424.663,520.623 431.573,527.251 438.483,533.99 445.393,540.83 452.303,547.759 459.213,554.767 466.123,561.843 473.033,568.976 479.943,576.153 \n  486.853,583.364 493.763,590.596 500.673,597.836 507.583,605.073 514.493,612.292 521.403,619.482 528.313,626.631 535.223,633.724 542.133,640.749 549.043,647.693 \n  555.953,654.544 562.863,661.289 569.773,667.915 576.683,674.411 583.593,680.765 590.503,686.963 597.413,692.996 604.323,698.852 611.233,704.521 618.143,709.991 \n  625.053,715.254 631.963,720.299 638.873,725.118 645.783,729.702 652.693,734.043 659.603,738.134 666.513,741.968 673.423,745.537 680.333,748.837 687.243,751.862 \n  694.153,754.607 701.063,757.068 707.973,759.241 714.883,761.124 721.793,762.714 728.703,764.008 735.612,765.007 742.522,765.708 749.432,766.112 756.342,766.22 \n  763.252,766.032 770.162,765.549 777.072,764.774 783.982,763.71 790.892,762.36 797.802,760.727 804.712,758.815 811.622,756.631 818.532,754.177 825.442,751.462 \n  832.352,748.49 839.262,745.27 846.172,741.807 853.082,738.109 859.992,734.186 866.902,730.044 873.812,725.694 880.722,721.145 887.632,716.406 894.542,711.487 \n  901.452,706.399 908.362,701.152 915.272,695.757 922.182,690.226 929.092,684.569 936.002,678.799 942.912,672.926 949.822,666.963 956.732,660.922 963.642,654.813 \n  970.552,648.65 977.462,642.444 984.372,636.207 991.282,629.951 998.192,623.687 1005.1,617.427 1012.01,611.182 1018.92,604.963 1025.83,598.782 1032.74,592.648 \n  1039.65,586.573 1046.56,580.567 1053.47,574.639 1060.38,568.799 1067.29,563.055 1074.2,557.418 1081.11,551.895 1088.02,546.495 1094.93,541.225 1101.84,536.092 \n  1108.75,531.104 1115.66,526.268 1122.57,521.588 1129.48,517.072 1136.39,512.725 1143.3,508.553 1150.21,504.558 1157.12,500.748 1164.03,497.124 1170.94,493.691 \n  1177.85,490.453 1184.76,487.413 1191.67,484.573 1198.58,481.936 1205.49,479.504 1212.4,477.279 1219.31,475.263 1226.22,473.457 1233.13,471.862 1240.04,470.479 \n  1246.95,469.308 1253.86,468.351 1260.77,467.607 1267.68,467.076 1274.59,466.758 1281.5,466.652 1288.41,466.757 1295.32,467.074 1302.23,467.599 1309.14,468.333 \n  1316.05,469.273 1322.96,470.418 1329.87,471.766 1336.78,473.314 1343.69,475.059 1350.6,477.001 1357.51,479.134 1364.42,481.457 1371.33,483.965 1378.24,486.656 \n  1385.15,489.525 1392.06,492.568 1398.97,495.782 1405.88,499.161 1412.79,502.7 1419.7,506.395 1426.61,510.241 1433.52,514.231 1440.43,518.359 1447.34,522.62 \n  1454.25,527.008 1461.16,531.515 1468.07,536.135 1474.98,540.86 1481.89,545.684 1488.8,550.598 1495.71,555.595 1502.62,560.667 1509.53,565.806 1516.44,571.002 \n  1523.35,576.248 1530.26,581.535 1537.17,586.853 1544.08,592.194 1550.99,597.548 1557.9,602.906 1564.81,608.259 1571.72,613.597 1578.63,618.911 1585.54,624.191 \n  1592.45,629.429 1599.36,634.613 1606.27,639.736 1613.18,644.787 1620.09,649.758 1627,654.64 1633.91,659.423 1640.82,664.099 1647.73,668.66 1654.64,673.097 \n  1661.55,677.402 1668.46,681.567 1675.37,685.585 1682.28,689.449 1689.19,693.151 1696.1,696.685 1703.01,700.045 1709.92,703.226 1716.83,706.22 1723.74,709.025 \n  1730.65,711.633 1737.56,714.043 1744.47,716.248 1751.38,718.247 1758.29,720.035 1765.2,721.61 1772.11,722.971 1779.02,724.114 1785.93,725.04 1792.84,725.746 \n  1799.75,726.232 1806.66,726.499 1813.57,726.546 1820.48,726.375 1827.39,725.986 1834.3,725.381 1841.21,724.563 1848.12,723.533 1855.03,722.295 1861.94,720.852 \n  1868.85,719.207 1875.76,717.365 1882.67,715.33 1889.58,713.106 1896.49,710.699 1903.4,708.114 1910.31,705.357 1917.22,702.435 1924.13,699.352 1931.04,696.117 \n  1937.95,692.736 1944.86,689.216 1951.77,685.564 1958.68,681.789 1965.59,677.898 1972.5,673.898 1979.41,669.8 1986.32,665.609 1993.23,661.336 2000.14,656.988 \n  2007.05,652.574 2013.96,648.103 2020.87,643.583 2027.78,639.023 2034.69,634.432 2041.6,629.818 2048.51,625.191 2055.42,620.558 2062.33,615.928 2069.24,611.31 \n  2076.15,606.711 2083.06,602.14 2089.97,597.604 2096.88,593.112 2103.79,588.671 2110.7,584.289 2117.61,579.972 2124.52,575.728 2131.43,571.563 2138.34,567.484 \n  2145.25,563.497 2152.16,559.608 2159.07,555.823 2165.98,552.148 2172.89,548.588 2179.8,545.147 2186.71,541.831 2193.62,538.643 2200.53,535.589 2207.44,532.672 \n  2214.35,529.895 2221.26,527.263 2228.17,524.778 2235.08,522.443 2241.99,520.261 2248.9,518.234 2255.81,516.365 2262.72,514.654 2269.63,513.105 2276.54,511.718 \n  2283.45,510.495 2290.36,509.436 \n  \"/>\n<polyline clip-path=\"url(#clip352)\" style=\"stroke:#e26f46; stroke-linecap:butt; stroke-linejoin:round; stroke-width:4; stroke-opacity:1; fill:none\" points=\"\n  210.454,714.377 217.364,740.311 224.274,766.125 231.184,791.805 238.094,817.335 245.004,842.699 251.914,867.881 258.824,892.865 265.734,917.631 272.644,942.163 \n  279.554,966.442 286.464,990.446 293.374,1014.16 300.284,1037.55 307.194,1060.6 314.104,1083.28 321.013,1105.58 327.923,1127.45 334.833,1148.88 341.743,1169.82 \n  348.653,1190.26 355.563,1210.15 362.473,1229.47 369.383,1248.18 376.293,1266.24 383.203,1283.62 390.113,1300.27 397.023,1316.17 403.933,1331.27 410.843,1345.53 \n  417.753,1358.92 424.663,1371.39 431.573,1382.92 438.483,1393.45 445.393,1402.96 452.303,1411.42 459.213,1418.78 466.123,1425.02 473.033,1430.1 479.943,1434.01 \n  486.853,1436.71 493.763,1438.18 500.673,1438.42 507.583,1437.39 514.493,1435.09 521.403,1431.51 528.313,1426.65 535.223,1420.5 542.133,1413.06 549.043,1404.36 \n  555.953,1394.38 562.863,1383.16 569.773,1370.7 576.683,1357.03 583.593,1342.17 590.503,1326.15 597.413,1309.01 604.323,1290.78 611.233,1271.49 618.143,1251.2 \n  625.053,1229.93 631.963,1207.73 638.873,1184.66 645.783,1160.77 652.693,1136.09 659.603,1110.69 666.513,1084.62 673.423,1057.94 680.333,1030.69 687.243,1002.94 \n  694.153,974.743 701.063,946.155 707.973,917.233 714.883,888.037 721.793,858.624 728.703,829.051 735.612,799.376 742.522,769.657 749.432,739.951 756.342,710.314 \n  763.252,680.804 770.162,651.475 777.072,622.384 783.982,593.586 790.892,565.134 797.802,537.082 804.712,509.483 811.622,482.389 818.532,455.85 825.442,429.917 \n  832.352,404.638 839.262,380.06 846.172,356.229 853.082,333.191 859.992,310.987 866.902,289.659 873.812,269.245 880.722,249.784 887.632,231.31 894.542,213.855 \n  901.452,197.449 908.362,182.121 915.272,167.894 922.182,154.79 929.092,142.829 936.002,132.027 942.912,122.395 949.822,113.944 956.732,106.68 963.642,100.606 \n  970.552,95.7221 977.462,92.0252 984.372,89.5087 991.282,88.1633 998.192,87.9763 1005.1,88.9325 1012.01,91.0137 1018.92,94.1993 1025.83,98.4661 1032.74,103.789 \n  1039.65,110.139 1046.56,117.489 1053.47,125.806 1060.38,135.058 1067.29,145.211 1074.2,156.23 1081.11,168.079 1088.02,180.722 1094.93,194.121 1101.84,208.238 \n  1108.75,223.037 1115.66,238.48 1122.57,254.529 1129.48,271.147 1136.39,288.298 1143.3,305.945 1150.21,324.053 1157.12,342.587 1164.03,361.514 1170.94,380.798 \n  1177.85,400.41 1184.76,420.316 1191.67,440.487 1198.58,460.892 1205.49,481.503 1212.4,502.293 1219.31,523.233 1226.22,544.298 1233.13,565.462 1240.04,586.7 \n  1246.95,607.989 1253.86,629.305 1260.77,650.624 1267.68,671.924 1274.59,693.183 1281.5,714.379 1288.41,735.491 1295.32,756.496 1302.23,777.374 1309.14,798.103 \n  1316.05,818.662 1322.96,839.03 1329.87,859.185 1336.78,879.104 1343.69,898.767 1350.6,918.151 1357.51,937.233 1364.42,955.99 1371.33,974.399 1378.24,992.436 \n  1385.15,1010.08 1392.06,1027.3 1398.97,1044.08 1405.88,1060.38 1412.79,1076.19 1419.7,1091.48 1426.61,1106.23 1433.52,1120.4 1440.43,1133.97 1447.34,1146.92 \n  1454.25,1159.22 1461.16,1170.84 1468.07,1181.76 1474.98,1191.96 1481.89,1201.41 1488.8,1210.09 1495.71,1217.97 1502.62,1225.04 1509.53,1231.27 1516.44,1236.64 \n  1523.35,1241.15 1530.26,1244.76 1537.17,1247.48 1544.08,1249.28 1550.99,1250.15 1557.9,1250.09 1564.81,1249.09 1571.72,1247.14 1578.63,1244.25 1585.54,1240.41 \n  1592.45,1235.62 1599.36,1229.89 1606.27,1223.23 1613.18,1215.65 1620.09,1207.16 1627,1197.77 1633.91,1187.49 1640.82,1176.36 1647.73,1164.39 1654.64,1151.6 \n  1661.55,1138.01 1668.46,1123.66 1675.37,1108.57 1682.28,1092.78 1689.19,1076.31 1696.1,1059.21 1703.01,1041.5 1709.92,1023.22 1716.83,1004.4 1723.74,985.1 \n  1730.65,965.343 1737.56,945.174 1744.47,924.634 1751.38,903.764 1758.29,882.606 1765.2,861.204 1772.11,839.6 1779.02,817.837 1785.93,795.958 1792.84,774.008 \n  1799.75,752.028 1806.66,730.062 1813.57,708.154 1820.48,686.345 1827.39,664.678 1834.3,643.195 1841.21,621.936 1848.12,600.944 1855.03,580.257 1861.94,559.915 \n  1868.85,539.956 1875.76,520.419 1882.67,501.339 1889.58,482.753 1896.49,464.694 1903.4,447.196 1910.31,430.291 1917.22,414.009 1924.13,398.379 1931.04,383.43 \n  1937.95,369.186 1944.86,355.672 1951.77,342.91 1958.68,330.922 1965.59,319.725 1972.5,309.337 1979.41,299.773 1986.32,291.045 1993.23,283.164 2000.14,276.138 \n  2007.05,269.975 2013.96,264.679 2020.87,260.252 2027.78,256.694 2034.69,254.005 2041.6,252.179 2048.51,251.211 2055.42,251.094 2062.33,251.819 2069.24,253.373 \n  2076.15,255.744 2083.06,258.917 2089.97,262.876 2096.88,267.604 2103.79,273.082 2110.7,279.29 2117.61,286.206 2124.52,293.809 2131.43,302.075 2138.34,310.981 \n  2145.25,320.502 2152.16,330.613 2159.07,341.289 2165.98,352.503 2172.89,364.23 2179.8,376.444 2186.71,389.117 2193.62,402.224 2200.53,415.737 2207.44,429.631 \n  2214.35,443.879 2221.26,458.456 2228.17,473.335 2235.08,488.491 2241.99,503.898 2248.9,519.532 2255.81,535.369 2262.72,551.383 2269.63,567.551 2276.54,583.85 \n  2283.45,600.256 2290.36,616.746 \n  \"/>\n<polyline clip-path=\"url(#clip352)\" style=\"stroke:#3da44d; stroke-linecap:butt; stroke-linejoin:round; stroke-width:4; stroke-opacity:1; fill:none\" points=\"\n  210.454,408.008 217.364,408.138 224.274,408.528 231.184,409.177 238.094,410.086 245.004,411.252 251.914,412.676 258.824,414.356 265.734,416.291 272.644,418.478 \n  279.554,420.915 286.464,423.601 293.374,426.532 300.284,429.707 307.194,433.12 314.104,436.77 321.013,440.652 327.923,444.762 334.833,449.096 341.743,453.649 \n  348.653,458.415 355.563,463.389 362.473,468.565 369.383,473.936 376.293,479.496 383.203,485.237 390.113,491.151 397.023,497.231 403.933,503.467 410.843,509.85 \n  417.753,516.372 424.663,523.022 431.573,529.79 438.483,536.666 445.393,543.637 452.303,550.693 459.213,557.823 466.123,565.014 473.033,572.254 479.943,579.53 \n  486.853,586.831 493.763,594.143 500.673,601.453 507.583,608.75 514.493,616.018 521.403,623.247 528.313,630.423 535.223,637.533 542.133,644.564 549.043,651.505 \n  555.953,658.344 562.863,665.067 569.773,671.664 576.683,678.124 583.593,684.435 590.503,690.587 597.413,696.569 604.323,702.373 611.233,707.99 618.143,713.409 \n  625.053,718.624 631.963,723.626 638.873,728.408 645.783,732.964 652.693,737.287 659.603,741.372 666.513,745.214 673.423,748.808 680.333,752.15 687.243,755.237 \n  694.153,758.066 701.063,760.633 707.973,762.937 714.883,764.977 721.793,766.75 728.703,768.257 735.612,769.497 742.522,770.47 749.432,771.177 756.342,771.618 \n  763.252,771.794 770.162,771.708 777.072,771.36 783.982,770.754 790.892,769.891 797.802,768.774 804.712,767.407 811.622,765.792 818.532,763.934 825.442,761.836 \n  832.352,759.503 839.262,756.938 846.172,754.147 853.082,751.135 859.992,747.907 866.902,744.468 873.812,740.824 880.722,736.981 887.632,732.946 894.542,728.725 \n  901.452,724.325 908.362,719.754 915.272,715.018 922.182,710.125 929.092,705.084 936.002,699.902 942.912,694.588 949.822,689.151 956.732,683.6 963.642,677.943 \n  970.552,672.192 977.462,666.354 984.372,660.441 991.282,654.462 998.192,648.427 1005.1,642.348 1012.01,636.233 1018.92,630.095 1025.83,623.944 1032.74,617.791 \n  1039.65,611.646 1046.56,605.521 1053.47,599.426 1060.38,593.372 1067.29,587.37 1074.2,581.431 1081.11,575.565 1088.02,569.782 1094.93,564.094 1101.84,558.509 \n  1108.75,553.037 1115.66,547.689 1122.57,542.473 1129.48,537.399 1136.39,532.474 1143.3,527.708 1150.21,523.107 1157.12,518.681 1164.03,514.435 1170.94,510.377 \n  1177.85,506.513 1184.76,502.848 1191.67,499.389 1198.58,496.14 1205.49,493.106 1212.4,490.291 1219.31,487.699 1226.22,485.332 1233.13,483.194 1240.04,481.287 \n  1246.95,479.613 1253.86,478.173 1260.77,476.968 1267.68,476 1274.59,475.267 1281.5,474.771 1288.41,474.51 1295.32,474.484 1302.23,474.69 1309.14,475.129 \n  1316.05,475.796 1322.96,476.691 1329.87,477.81 1336.78,479.151 1343.69,480.71 1350.6,482.483 1357.51,484.467 1364.42,486.657 1371.33,489.049 1378.24,491.638 \n  1385.15,494.419 1392.06,497.388 1398.97,500.538 1405.88,503.864 1412.79,507.359 1419.7,511.019 1426.61,514.835 1433.52,518.803 1440.43,522.914 1447.34,527.163 \n  1454.25,531.541 1461.16,536.041 1468.07,540.656 1474.98,545.379 1481.89,550.2 1488.8,555.112 1495.71,560.107 1502.62,565.176 1509.53,570.311 1516.44,575.503 \n  1523.35,580.744 1530.26,586.024 1537.17,591.334 1544.08,596.666 1550.99,602.01 1557.9,607.358 1564.81,612.7 1571.72,618.027 1578.63,623.329 1585.54,628.599 \n  1592.45,633.826 1599.36,639.001 1606.27,644.116 1613.18,649.162 1620.09,654.13 1627,659.012 1633.91,663.798 1640.82,668.481 1647.73,673.053 1654.64,677.506 \n  1661.55,681.832 1668.46,686.025 1675.37,690.076 1682.28,693.979 1689.19,697.728 1696.1,701.316 1703.01,704.738 1709.92,707.988 1716.83,711.061 1723.74,713.952 \n  1730.65,716.657 1737.56,719.17 1744.47,721.49 1751.38,723.612 1758.29,725.534 1765.2,727.253 1772.11,728.766 1779.02,730.072 1785.93,731.17 1792.84,732.059 \n  1799.75,732.737 1806.66,733.205 1813.57,733.463 1820.48,733.511 1827.39,733.35 1834.3,732.981 1841.21,732.406 1848.12,731.627 1855.03,730.646 1861.94,729.465 \n  1868.85,728.087 1875.76,726.516 1882.67,724.754 1889.58,722.806 1896.49,720.675 1903.4,718.366 1910.31,715.884 1917.22,713.232 1924.13,710.416 1931.04,707.441 \n  1937.95,704.313 1944.86,701.037 1951.77,697.619 1958.68,694.065 1965.59,690.382 1972.5,686.575 1979.41,682.651 1986.32,678.618 1993.23,674.481 2000.14,670.248 \n  2007.05,665.926 2013.96,661.523 2020.87,657.045 2027.78,652.5 2034.69,647.896 2041.6,643.241 2048.51,638.541 2055.42,633.806 2062.33,629.042 2069.24,624.258 \n  2076.15,619.461 2083.06,614.66 2089.97,609.862 2096.88,605.076 2103.79,600.309 2110.7,595.57 2117.61,590.865 2124.52,586.204 2131.43,581.593 2138.34,577.041 \n  2145.25,572.554 2152.16,568.141 2159.07,563.808 2165.98,559.563 2172.89,555.412 2179.8,551.364 2186.71,547.423 2193.62,543.597 2200.53,539.892 2207.44,536.314 \n  2214.35,532.869 2221.26,529.561 2228.17,526.398 2235.08,523.383 2241.99,520.521 2248.9,517.817 2255.81,515.274 2262.72,512.897 2269.63,510.69 2276.54,508.655 \n  2283.45,506.795 2290.36,505.113 \n  \"/>\n<polyline clip-path=\"url(#clip352)\" style=\"stroke:#c271d2; stroke-linecap:butt; stroke-linejoin:round; stroke-width:4; stroke-opacity:1; fill:none\" points=\"\n  210.454,714.377 217.364,740.367 224.274,766.345 231.184,792.284 238.094,818.156 245.004,843.937 251.914,869.601 258.824,895.123 265.734,920.477 272.644,945.639 \n  279.554,970.581 286.464,995.278 293.374,1019.7 300.284,1043.82 307.194,1067.61 314.104,1091.03 321.013,1114.06 327.923,1136.65 334.833,1158.78 341.743,1180.4 \n  348.653,1201.48 355.563,1221.97 362.473,1241.84 369.383,1261.04 376.293,1279.54 383.203,1297.27 390.113,1314.21 397.023,1330.31 403.933,1345.53 410.843,1359.82 \n  417.753,1373.14 424.663,1385.45 431.573,1396.72 438.483,1406.9 445.393,1415.96 452.303,1423.87 459.213,1430.6 466.123,1436.12 473.033,1440.41 479.943,1443.45 \n  486.853,1445.22 493.763,1445.72 500.673,1444.92 507.583,1442.84 514.493,1439.47 521.403,1434.81 528.313,1428.87 535.223,1421.67 542.133,1413.22 549.043,1403.54 \n  555.953,1392.65 562.863,1380.59 569.773,1367.39 576.683,1353.08 583.593,1337.7 590.503,1321.28 597.413,1303.88 604.323,1285.54 611.233,1266.3 618.143,1246.21 \n  625.053,1225.33 631.963,1203.71 638.873,1181.39 645.783,1158.43 652.693,1134.89 659.603,1110.81 666.513,1086.25 673.423,1061.25 680.333,1035.88 687.243,1010.18 \n  694.153,984.201 701.063,957.988 707.973,931.59 714.883,905.052 721.793,878.418 728.703,851.729 735.612,825.027 742.522,798.351 749.432,771.738 756.342,745.226 \n  763.252,718.848 770.162,692.639 777.072,666.632 783.982,640.856 790.892,615.344 797.802,590.124 804.712,565.226 811.622,540.677 818.532,516.505 825.442,492.738 \n  832.352,469.402 839.262,446.525 846.172,424.133 853.082,402.252 859.992,380.91 866.902,360.134 873.812,339.95 880.722,320.385 887.632,301.467 894.542,283.223 \n  901.452,265.681 908.362,248.867 915.272,232.81 922.182,217.536 929.092,203.073 936.002,189.446 942.912,176.683 949.822,164.808 956.732,153.847 963.642,143.822 \n  970.552,134.756 977.462,126.671 984.372,119.586 991.282,113.52 998.192,108.488 1005.1,104.506 1012.01,101.586 1018.92,99.7372 1025.83,98.9684 1032.74,99.2846 \n  1039.65,100.689 1046.56,103.181 1053.47,106.758 1060.38,111.416 1067.29,117.146 1074.2,123.938 1081.11,131.777 1088.02,140.647 1094.93,150.53 1101.84,161.403 \n  1108.75,173.242 1115.66,186.021 1122.57,199.711 1129.48,214.279 1136.39,229.693 1143.3,245.918 1150.21,262.916 1157.12,280.648 1164.03,299.076 1170.94,318.156 \n  1177.85,337.848 1184.76,358.107 1191.67,378.89 1198.58,400.153 1205.49,421.85 1212.4,443.936 1219.31,466.368 1226.22,489.099 1233.13,512.086 1240.04,535.285 \n  1246.95,558.651 1253.86,582.142 1260.77,605.717 1267.68,629.333 1274.59,652.95 1281.5,676.529 1288.41,700.032 1295.32,723.421 1302.23,746.659 1309.14,769.712 \n  1316.05,792.545 1322.96,815.125 1329.87,837.42 1336.78,859.398 1343.69,881.03 1350.6,902.286 1357.51,923.137 1364.42,943.557 1371.33,963.518 1378.24,982.993 \n  1385.15,1001.96 1392.06,1020.39 1398.97,1038.26 1405.88,1055.55 1412.79,1072.24 1419.7,1088.29 1426.61,1103.7 1433.52,1118.44 1440.43,1132.49 1447.34,1145.82 \n  1454.25,1158.43 1461.16,1170.29 1468.07,1181.37 1474.98,1191.68 1481.89,1201.18 1488.8,1209.87 1495.71,1217.72 1502.62,1224.73 1509.53,1230.87 1516.44,1236.15 \n  1523.35,1240.54 1530.26,1244.05 1537.17,1246.65 1544.08,1248.35 1550.99,1249.14 1557.9,1249.01 1564.81,1247.96 1571.72,1246 1578.63,1243.13 1585.54,1239.34 \n  1592.45,1234.65 1599.36,1229.05 1606.27,1222.57 1613.18,1215.21 1620.09,1206.99 1627,1197.91 1633.91,1188 1640.82,1177.27 1647.73,1165.75 1654.64,1153.46 \n  1661.55,1140.42 1668.46,1126.67 1675.37,1112.21 1682.28,1097.09 1689.19,1081.34 1696.1,1064.98 1703.01,1048.06 1709.92,1030.6 1716.83,1012.64 1723.74,994.214 \n  1730.65,975.361 1737.56,956.118 1744.47,936.523 1751.38,916.614 1758.29,896.429 1765.2,876.007 1772.11,855.388 1779.02,834.608 1785.93,813.708 1792.84,792.725 \n  1799.75,771.698 1806.66,750.662 1813.57,729.657 1820.48,708.716 1827.39,687.877 1834.3,667.174 1841.21,646.642 1848.12,626.312 1855.03,606.219 1861.94,586.393 \n  1868.85,566.866 1875.76,547.666 1882.67,528.823 1889.58,510.364 1896.49,492.318 1903.4,474.708 1910.31,457.562 1917.22,440.902 1924.13,424.752 1931.04,409.135 \n  1937.95,394.071 1944.86,379.582 1951.77,365.687 1958.68,352.405 1965.59,339.754 1972.5,327.751 1979.41,316.411 1986.32,305.752 1993.23,295.786 2000.14,286.528 \n  2007.05,277.99 2013.96,270.185 2020.87,263.122 2027.78,256.813 2034.69,251.266 2041.6,246.488 2048.51,242.488 2055.42,239.271 2062.33,236.841 2069.24,235.203 \n  2076.15,234.359 2083.06,234.31 2089.97,235.057 2096.88,236.598 2103.79,238.931 2110.7,242.052 2117.61,245.956 2124.52,250.636 2131.43,256.086 2138.34,262.295 \n  2145.25,269.252 2152.16,276.947 2159.07,285.364 2165.98,294.49 2172.89,304.308 2179.8,314.8 2186.71,325.947 2193.62,337.728 2200.53,350.123 2207.44,363.108 \n  2214.35,376.659 2221.26,390.75 2228.17,405.356 2235.08,420.449 2241.99,436 2248.9,451.981 2255.81,468.36 2262.72,485.109 2269.63,502.194 2276.54,519.584 \n  2283.45,537.247 2290.36,555.15 \n  \"/>\n<path clip-path=\"url(#clip350)\" d=\"\nM1980.16 354.418 L2279.27 354.418 L2279.27 95.2176 L1980.16 95.2176  Z\n  \" fill=\"#ffffff\" fill-rule=\"evenodd\" fill-opacity=\"1\"/>\n<polyline clip-path=\"url(#clip350)\" style=\"stroke:#000000; stroke-linecap:butt; stroke-linejoin:round; stroke-width:4; stroke-opacity:1; fill:none\" points=\"\n  1980.16,354.418 2279.27,354.418 2279.27,95.2176 1980.16,95.2176 1980.16,354.418 \n  \"/>\n<polyline clip-path=\"url(#clip350)\" style=\"stroke:#009af9; stroke-linecap:butt; stroke-linejoin:round; stroke-width:4; stroke-opacity:1; fill:none\" points=\"\n  2004.65,147.058 2151.63,147.058 \n  \"/>\n<path clip-path=\"url(#clip350)\" d=\"M2189.97 166.745 Q2188.17 171.375 2186.45 172.787 Q2184.74 174.199 2181.87 174.199 L2178.47 174.199 L2178.47 170.634 L2180.97 170.634 Q2182.73 170.634 2183.7 169.8 Q2184.67 168.967 2185.85 165.865 L2186.62 163.921 L2176.13 138.412 L2180.64 138.412 L2188.75 158.689 L2196.85 138.412 L2201.36 138.412 L2189.97 166.745 Z\" fill=\"#000000\" fill-rule=\"evenodd\" fill-opacity=\"1\" /><path clip-path=\"url(#clip350)\" d=\"M2208.65 160.402 L2216.29 160.402 L2216.29 134.037 L2207.98 135.703 L2207.98 131.444 L2216.24 129.778 L2220.92 129.778 L2220.92 160.402 L2228.56 160.402 L2228.56 164.338 L2208.65 164.338 L2208.65 160.402 Z\" fill=\"#000000\" fill-rule=\"evenodd\" fill-opacity=\"1\" /><polyline clip-path=\"url(#clip350)\" style=\"stroke:#e26f46; stroke-linecap:butt; stroke-linejoin:round; stroke-width:4; stroke-opacity:1; fill:none\" points=\"\n  2004.65,198.898 2151.63,198.898 \n  \"/>\n<path clip-path=\"url(#clip350)\" d=\"M2189.97 218.585 Q2188.17 223.215 2186.45 224.627 Q2184.74 226.039 2181.87 226.039 L2178.47 226.039 L2178.47 222.474 L2180.97 222.474 Q2182.73 222.474 2183.7 221.64 Q2184.67 220.807 2185.85 217.705 L2186.62 215.761 L2176.13 190.252 L2180.64 190.252 L2188.75 210.529 L2196.85 190.252 L2201.36 190.252 L2189.97 218.585 Z\" fill=\"#000000\" fill-rule=\"evenodd\" fill-opacity=\"1\" /><path clip-path=\"url(#clip350)\" d=\"M2211.87 212.242 L2228.19 212.242 L2228.19 216.178 L2206.24 216.178 L2206.24 212.242 Q2208.91 209.488 2213.49 204.858 Q2218.1 200.205 2219.28 198.863 Q2221.52 196.34 2222.4 194.604 Q2223.31 192.844 2223.31 191.155 Q2223.31 188.4 2221.36 186.664 Q2219.44 184.928 2216.34 184.928 Q2214.14 184.928 2211.68 185.692 Q2209.25 186.455 2206.48 188.006 L2206.48 183.284 Q2209.3 182.15 2211.75 181.571 Q2214.21 180.993 2216.24 180.993 Q2221.62 180.993 2224.81 183.678 Q2228 186.363 2228 190.854 Q2228 192.983 2227.19 194.905 Q2226.41 196.803 2224.3 199.395 Q2223.72 200.067 2220.62 203.284 Q2217.52 206.479 2211.87 212.242 Z\" fill=\"#000000\" fill-rule=\"evenodd\" fill-opacity=\"1\" /><polyline clip-path=\"url(#clip350)\" style=\"stroke:#3da44d; stroke-linecap:butt; stroke-linejoin:round; stroke-width:4; stroke-opacity:1; fill:none\" points=\"\n  2004.65,250.738 2151.63,250.738 \n  \"/>\n<path clip-path=\"url(#clip350)\" d=\"M2189.97 270.425 Q2188.17 275.055 2186.45 276.467 Q2184.74 277.879 2181.87 277.879 L2178.47 277.879 L2178.47 274.314 L2180.97 274.314 Q2182.73 274.314 2183.7 273.48 Q2184.67 272.647 2185.85 269.545 L2186.62 267.601 L2176.13 242.092 L2180.64 242.092 L2188.75 262.369 L2196.85 242.092 L2201.36 242.092 L2189.97 270.425 Z\" fill=\"#000000\" fill-rule=\"evenodd\" fill-opacity=\"1\" /><path clip-path=\"url(#clip350)\" d=\"M2222.01 249.383 Q2225.37 250.101 2227.24 252.369 Q2229.14 254.638 2229.14 257.971 Q2229.14 263.087 2225.62 265.888 Q2222.1 268.689 2215.62 268.689 Q2213.44 268.689 2211.13 268.249 Q2208.84 267.832 2206.38 266.976 L2206.38 262.462 Q2208.33 263.596 2210.64 264.175 Q2212.96 264.754 2215.48 264.754 Q2219.88 264.754 2222.17 263.018 Q2224.49 261.281 2224.49 257.971 Q2224.49 254.916 2222.33 253.203 Q2220.2 251.467 2216.38 251.467 L2212.36 251.467 L2212.36 247.624 L2216.57 247.624 Q2220.02 247.624 2221.85 246.258 Q2223.68 244.87 2223.68 242.277 Q2223.68 239.615 2221.78 238.203 Q2219.9 236.768 2216.38 236.768 Q2214.46 236.768 2212.26 237.184 Q2210.06 237.601 2207.43 238.481 L2207.43 234.314 Q2210.09 233.573 2212.4 233.203 Q2214.74 232.833 2216.8 232.833 Q2222.12 232.833 2225.23 235.263 Q2228.33 237.67 2228.33 241.791 Q2228.33 244.661 2226.68 246.652 Q2225.04 248.62 2222.01 249.383 Z\" fill=\"#000000\" fill-rule=\"evenodd\" fill-opacity=\"1\" /><polyline clip-path=\"url(#clip350)\" style=\"stroke:#c271d2; stroke-linecap:butt; stroke-linejoin:round; stroke-width:4; stroke-opacity:1; fill:none\" points=\"\n  2004.65,302.578 2151.63,302.578 \n  \"/>\n<path clip-path=\"url(#clip350)\" d=\"M2189.97 322.265 Q2188.17 326.895 2186.45 328.307 Q2184.74 329.719 2181.87 329.719 L2178.47 329.719 L2178.47 326.154 L2180.97 326.154 Q2182.73 326.154 2183.7 325.32 Q2184.67 324.487 2185.85 321.385 L2186.62 319.441 L2176.13 293.932 L2180.64 293.932 L2188.75 314.209 L2196.85 293.932 L2201.36 293.932 L2189.97 322.265 Z\" fill=\"#000000\" fill-rule=\"evenodd\" fill-opacity=\"1\" /><path clip-path=\"url(#clip350)\" d=\"M2220.69 289.372 L2208.88 307.821 L2220.69 307.821 L2220.69 289.372 M2219.46 285.298 L2225.34 285.298 L2225.34 307.821 L2230.27 307.821 L2230.27 311.709 L2225.34 311.709 L2225.34 319.858 L2220.69 319.858 L2220.69 311.709 L2205.09 311.709 L2205.09 307.196 L2219.46 285.298 Z\" fill=\"#000000\" fill-rule=\"evenodd\" fill-opacity=\"1\" /></svg>\n"
     },
     "execution_count": 1817,
     "metadata": {},
     "output_type": "execute_result"
    }
   ],
   "source": [
    "U_test = create_U(num_knots, m, \"constant\")\n",
    "\n",
    "time_test, X_test = simulate(dmodel, x0, U_test, dt)\n",
    "X_test_mat = mapreduce(permutedims, vcat, X_test)'\n",
    "\n",
    "bi_X_test, _ = simulate_bilinear(F, C, g, x0, z0, U_test)\n",
    "bi_X_test_mat = mapreduce(permutedims, vcat, bi_X_test)'\n",
    "\n",
    "# extract individual state histories\n",
    "theta_test_sim = X_test_mat[1, :]\n",
    "omega_test_sim = X_test_mat[2, :]\n",
    "\n",
    "theta_test_bilinear = bi_X_test_mat[1, :]\n",
    "omega_test_bilinear = bi_X_test_mat[2, :]\n",
    "\n",
    "plot(time_test, theta_test_sim)\n",
    "plot!(time_test, omega_test_sim)\n",
    "\n",
    "plot!(time_test, theta_test_bilinear)\n",
    "plot!(time_test, omega_test_bilinear)"
   ]
  },
  {
   "cell_type": "code",
   "execution_count": 1820,
   "metadata": {},
   "outputs": [],
   "source": [
    "using FileIO, JLD2\n",
    "\n",
    "FileIO.save(\"pendulum_eDMD_data.jld2\", \"F\", F, \"C\", C, \"g\", g, \"X_sim\", X_sim, \"U_sim\", U_sim)"
   ]
  }
 ],
 "metadata": {
  "kernelspec": {
   "display_name": "Julia 1.6.5",
   "language": "julia",
   "name": "julia-1.6"
  },
  "language_info": {
   "file_extension": ".jl",
   "mimetype": "application/julia",
   "name": "julia",
   "version": "1.6.5"
  },
  "orig_nbformat": 4
 },
 "nbformat": 4,
 "nbformat_minor": 2
}
