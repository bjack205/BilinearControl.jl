{
 "cells": [
  {
   "cell_type": "code",
   "execution_count": 1,
   "metadata": {},
   "outputs": [
    {
     "name": "stderr",
     "output_type": "stream",
     "text": [
      "\u001b[32m\u001b[1m  Activating\u001b[22m\u001b[39m project at `~/.julia/dev/BilinearControl/examples`\n"
     ]
    }
   ],
   "source": [
    "import Pkg; Pkg.activate(joinpath(@__DIR__)); Pkg.instantiate();\n",
    "using BilinearControl\n",
    "using BilinearControl.Problems\n",
    "using BilinearControl.EDMD\n",
    "import RobotDynamics as RD\n",
    "using LinearAlgebra\n",
    "using RobotZoo\n",
    "using JLD2\n",
    "using SparseArrays\n",
    "using Plots\n",
    "using Distributions\n",
    "using Distributions: Normal\n",
    "using Random\n",
    "using FiniteDiff, ForwardDiff\n",
    "using Test"
   ]
  },
  {
   "cell_type": "code",
   "execution_count": 2,
   "metadata": {},
   "outputs": [
    {
     "data": {
      "text/plain": [
       "10"
      ]
     },
     "execution_count": 2,
     "metadata": {},
     "output_type": "execute_result"
    }
   ],
   "source": [
    "Threads.nthreads()"
   ]
  },
  {
   "cell_type": "code",
   "execution_count": 3,
   "metadata": {},
   "outputs": [],
   "source": [
    "include(\"learned_models/edmd_utils.jl\");"
   ]
  },
  {
   "cell_type": "code",
   "execution_count": 4,
   "metadata": {},
   "outputs": [
    {
     "name": "stderr",
     "output_type": "stream",
     "text": [
      "WARNING: using GeometryBasics.Normal in module Main conflicts with an existing identifier.\n",
      "┌ Info: MeshCat server started. You can open the visualizer by visiting the following URL in your browser:\n",
      "│ http://127.0.0.1:8702\n",
      "└ @ MeshCat /home/jeonghun/.julia/packages/MeshCat/Ax8pH/src/visualizer.jl:73\n"
     ]
    },
    {
     "data": {
      "text/plain": [
       "MeshCat Visualizer with path /meshcat/robot/cart/pole at http://127.0.0.1:8702"
      ]
     },
     "execution_count": 4,
     "metadata": {},
     "output_type": "execute_result"
    }
   ],
   "source": [
    "## Visualizer\n",
    "model = Cartpole2()\n",
    "include(joinpath(Problems.VISDIR, \"visualization.jl\"))\n",
    "vis = Visualizer()\n",
    "delete!(vis)\n",
    "set_cartpole!(vis)"
   ]
  },
  {
   "cell_type": "code",
   "execution_count": 5,
   "metadata": {},
   "outputs": [
    {
     "data": {
      "text/html": [
       "    <div style=\"height: 500px; width: 100%; overflow-x: auto; overflow-y: hidden; resize: both\">\n",
       "    <iframe src=\"http://127.0.0.1:8702\" style=\"width: 100%; height: 100%; border: none\"></iframe>\n",
       "    </div>\n"
      ],
      "text/plain": [
       "MeshCat.DisplayedVisualizer(MeshCat.CoreVisualizer(MeshCat.SceneTrees.SceneNode(nothing, nothing, Dict{String, Vector{UInt8}}(), nothing, Dict{String, MeshCat.SceneTrees.SceneNode}(\"meshcat\" => MeshCat.SceneTrees.SceneNode(nothing, nothing, Dict{String, Vector{UInt8}}(), nothing, Dict{String, MeshCat.SceneTrees.SceneNode}(\"robot\" => MeshCat.SceneTrees.SceneNode(nothing, nothing, Dict{String, Vector{UInt8}}(), nothing, Dict{String, MeshCat.SceneTrees.SceneNode}(\"rod\" => MeshCat.SceneTrees.SceneNode(UInt8[0x83, 0xa6, 0x6f, 0x62, 0x6a, 0x65, 0x63, 0x74, 0x84, 0xaa  …  0x2f, 0x72, 0x6f, 0x62, 0x6f, 0x74, 0x2f, 0x72, 0x6f, 0x64], nothing, Dict{String, Vector{UInt8}}(), nothing, Dict{String, MeshCat.SceneTrees.SceneNode}()), \"cart\" => MeshCat.SceneTrees.SceneNode(nothing, nothing, Dict{String, Vector{UInt8}}(), nothing, Dict{String, MeshCat.SceneTrees.SceneNode}(\"pole\" => MeshCat.SceneTrees.SceneNode(nothing, UInt8[0x83, 0xa6, 0x6d, 0x61, 0x74, 0x72, 0x69, 0x78, 0xc7, 0x40  …  0x2f, 0x63, 0x61, 0x72, 0x74, 0x2f, 0x70, 0x6f, 0x6c, 0x65], Dict{String, Vector{UInt8}}(), nothing, Dict{String, MeshCat.SceneTrees.SceneNode}(\"geom\" => MeshCat.SceneTrees.SceneNode(nothing, nothing, Dict{String, Vector{UInt8}}(), nothing, Dict{String, MeshCat.SceneTrees.SceneNode}(\"cyl\" => MeshCat.SceneTrees.SceneNode(UInt8[0x83, 0xa6, 0x6f, 0x62, 0x6a, 0x65, 0x63, 0x74, 0x84, 0xaa  …  0x65, 0x2f, 0x67, 0x65, 0x6f, 0x6d, 0x2f, 0x63, 0x79, 0x6c], nothing, Dict{String, Vector{UInt8}}(), nothing, Dict{String, MeshCat.SceneTrees.SceneNode}()), \"mass\" => MeshCat.SceneTrees.SceneNode(UInt8[0x83, 0xa6, 0x6f, 0x62, 0x6a, 0x65, 0x63, 0x74, 0x84, 0xaa  …  0x2f, 0x67, 0x65, 0x6f, 0x6d, 0x2f, 0x6d, 0x61, 0x73, 0x73], nothing, Dict{String, Vector{UInt8}}(), nothing, Dict{String, MeshCat.SceneTrees.SceneNode}()))))), \"box\" => MeshCat.SceneTrees.SceneNode(UInt8[0x83, 0xa6, 0x6f, 0x62, 0x6a, 0x65, 0x63, 0x74, 0x84, 0xaa  …  0x74, 0x2f, 0x63, 0x61, 0x72, 0x74, 0x2f, 0x62, 0x6f, 0x78], nothing, Dict{String, Vector{UInt8}}(), nothing, Dict{String, MeshCat.SceneTrees.SceneNode}()), \"hinge\" => MeshCat.SceneTrees.SceneNode(UInt8[0x83, 0xa6, 0x6f, 0x62, 0x6a, 0x65, 0x63, 0x74, 0x84, 0xaa  …  0x63, 0x61, 0x72, 0x74, 0x2f, 0x68, 0x69, 0x6e, 0x67, 0x65], nothing, Dict{String, Vector{UInt8}}(), nothing, Dict{String, MeshCat.SceneTrees.SceneNode}()))))))))), Set{Any}(), ip\"127.0.0.1\", 8702))"
      ]
     },
     "execution_count": 5,
     "metadata": {},
     "output_type": "execute_result"
    }
   ],
   "source": [
    "render(vis)"
   ]
  },
  {
   "cell_type": "markdown",
   "metadata": {},
   "source": [
    "# Define Cartpole Model"
   ]
  },
  {
   "cell_type": "code",
   "execution_count": 6,
   "metadata": {},
   "outputs": [],
   "source": [
    "model = Cartpole2()  # this model has damping\n",
    "dmodel = RD.DiscretizedDynamics{RD.RK4}(model)\n",
    "tf = 2.0\n",
    "dt = 0.02;"
   ]
  },
  {
   "cell_type": "markdown",
   "metadata": {},
   "source": [
    "# Generate Data"
   ]
  },
  {
   "cell_type": "code",
   "execution_count": 7,
   "metadata": {},
   "outputs": [],
   "source": [
    "Random.seed!(1)\n",
    "num_test = 50  # number of trajectories\n",
    "num_train = 50\n",
    "\n",
    "# Generate a stabilizing LQR controller about the top\n",
    "Qlqr = Diagonal([0.2,10,1e-2,1e-2])\n",
    "Rlqr = Diagonal([1e-3])\n",
    "xe = [0,pi,0,0]\n",
    "ue = [0.0]\n",
    "ctrl_lqr = LQRController(dmodel, Qlqr, Rlqr, xe, ue, dt)\n",
    "\n",
    "# Sample a bunch of initial conditions for the LQR controller\n",
    "x0_sampler = Product([\n",
    "    Uniform(-1.0,1.0),\n",
    "    Uniform(pi-pi/3,pi+pi/3),\n",
    "    Uniform(-.5,.5),\n",
    "    Uniform(-.5,.5),\n",
    "])\n",
    "initial_conditions_lqr = [rand(x0_sampler) for _ in 1:num_test]\n",
    "initial_conditions_test = [rand(x0_sampler) for _ in 1:num_train]\n",
    "\n",
    "# Create data set\n",
    "X_train, U_train = create_data(dmodel, ctrl_lqr, initial_conditions_lqr, tf, dt)\n",
    "X_test, U_test = create_data(dmodel, ctrl_lqr, initial_conditions_test, tf, dt);"
   ]
  },
  {
   "cell_type": "code",
   "execution_count": 8,
   "metadata": {},
   "outputs": [],
   "source": [
    "#save data\n",
    "jldsave(joinpath(Problems.DATADIR, \"cartpole_lqr_trajectories.jld2\"); \n",
    "    X_train, U_train, X_test, U_test, tf, dt)"
   ]
  },
  {
   "cell_type": "markdown",
   "metadata": {},
   "source": [
    "# Import Training/Test Data"
   ]
  },
  {
   "cell_type": "code",
   "execution_count": 9,
   "metadata": {},
   "outputs": [],
   "source": [
    "lqr_traj = load(joinpath(Problems.DATADIR, \"cartpole_lqr_trajectories.jld2\"))\n",
    "\n",
    "X_train = lqr_traj[\"X_train\"]\n",
    "U_train = lqr_traj[\"U_train\"]\n",
    "X_test = lqr_traj[\"X_test\"]\n",
    "U_test = lqr_traj[\"U_test\"]\n",
    "tf = lqr_traj[\"tf\"]\n",
    "dt = lqr_traj[\"dt\"]\n",
    "\n",
    "T_ref = range(0,tf,step=dt);"
   ]
  },
  {
   "cell_type": "markdown",
   "metadata": {},
   "source": [
    "# Fit the Data using Nominal eDMD\n",
    "This uses the standard eDMD model method used in the CalTech paper, which learns a model of the form:\n",
    "\n",
    "$$ x^+ = A x + \\sum_{i=1}^m u_i C_i x $$"
   ]
  },
  {
   "cell_type": "code",
   "execution_count": 10,
   "metadata": {},
   "outputs": [],
   "source": [
    "# Define the basis functions\n",
    "eigfuns = [\"state\", \"sine\", \"cosine\", \"sine\", \"sine\", \"chebyshev\"]\n",
    "eigorders = [0,0,0,2,4,4];"
   ]
  },
  {
   "cell_type": "code",
   "execution_count": 11,
   "metadata": {},
   "outputs": [
    {
     "name": "stdout",
     "output_type": "stream",
     "text": [
      "(T, K) = (165000, 2211)\n",
      "issparse(X) = true\n",
      "lambda = 0.0\n",
      "(T, K) = (20000, 132)\n",
      "issparse(X) = true\n",
      "lambda = 0.0\n"
     ]
    }
   ],
   "source": [
    "# Fit the data\n",
    "Z_train, Zu_train, kf = build_eigenfunctions(X_train, U_train, eigfuns, eigorders)\n",
    "\n",
    "# A, B, C, g = learn_bilinear_model(X_train, Z_train, Zu_train,\n",
    "#     [\"ridge\", \"na\"]; \n",
    "#     edmd_weights=[10.1], \n",
    "#     mapping_weights=[0.0], \n",
    "#     algorithm=:qr\n",
    "# );\n",
    "\n",
    "A, B, C, g = learn_bilinear_model(X_train, Z_train, Zu_train,\n",
    "    [\"na\", \"na\"]; \n",
    "    edmd_weights=[0.0], \n",
    "    mapping_weights=[0.0], \n",
    "    algorithm=:qr\n",
    ");"
   ]
  },
  {
   "cell_type": "code",
   "execution_count": 12,
   "metadata": {},
   "outputs": [],
   "source": [
    "# Save model\n",
    "jldsave(joinpath(Problems.DATADIR,\"cartpole_lqr_nominal_eDMD_data.jld2\"); A, B, C, g, kf, eigfuns, eigorders, tf, dt)"
   ]
  },
  {
   "cell_type": "markdown",
   "metadata": {},
   "source": [
    "# Import Nominal EDMD Model"
   ]
  },
  {
   "cell_type": "code",
   "execution_count": 13,
   "metadata": {},
   "outputs": [],
   "source": [
    "cartpole_data = load(joinpath(Problems.DATADIR, \"cartpole_lqr_nominal_eDMD_data.jld2\"))\n",
    "A_nom = cartpole_data[\"A\"]\n",
    "B_nom = cartpole_data[\"B\"]\n",
    "C_nom = cartpole_data[\"C\"]\n",
    "g_nom = cartpole_data[\"g\"]\n",
    "kf = cartpole_data[\"kf\"]\n",
    "tf = cartpole_data[\"tf\"]\n",
    "dt = cartpole_data[\"dt\"];"
   ]
  },
  {
   "cell_type": "markdown",
   "metadata": {},
   "source": [
    "# Evaluate the Nominal Fit\n",
    "The fit is evaluated using:\n",
    "$$ \\frac{1}{P} \\sum_{j=1}^P || g (A \\varphi(x_j) + \\sum_{i=1}^m u_{j,i} C_i \\varphi(x_j)) - x_j^+ || $$\n",
    "\n",
    "where $y = \\varphi(x)$ is the Koopman transform."
   ]
  },
  {
   "cell_type": "code",
   "execution_count": 14,
   "metadata": {},
   "outputs": [
    {
     "name": "stdout",
     "output_type": "stream",
     "text": [
      "Train Error: 0.0034957043768757694\n",
      "Test Error:  0.008698930470642706\n"
     ]
    }
   ],
   "source": [
    "err_train = BilinearControl.EDMD.fiterror(A_nom, B_nom, C_nom, g_nom, kf, X_train, U_train)\n",
    "err_test = BilinearControl.EDMD.fiterror(A_nom, B_nom, C_nom, g_nom, kf, X_test, U_test)\n",
    "println(\"Train Error: \", err_train)\n",
    "println(\"Test Error:  \", err_test)"
   ]
  },
  {
   "cell_type": "markdown",
   "metadata": {},
   "source": [
    "### Define the Bilinear Model"
   ]
  },
  {
   "cell_type": "code",
   "execution_count": 15,
   "metadata": {},
   "outputs": [
    {
     "name": "stdout",
     "output_type": "stream",
     "text": [
      "New state dimension: 33\n"
     ]
    }
   ],
   "source": [
    "model_bilinear = EDMDModel(A_nom,B_nom,C_nom,g_nom,kf,dt,\"cartpole\")\n",
    "n,m = RD.dims(model_bilinear)\n",
    "n0 = originalstatedim(model_bilinear)\n",
    "println(\"New state dimension: \", n)"
   ]
  },
  {
   "cell_type": "markdown",
   "metadata": {},
   "source": [
    "### Compare Linearization\n",
    "To see if the learned model captures the dynamics, we'll evaluate the effective `A` and `B` dynamics Jaocbians of the learned model on the original dynamics, and compare to the nominal Jacobians."
   ]
  },
  {
   "cell_type": "code",
   "execution_count": 16,
   "metadata": {},
   "outputs": [],
   "source": [
    "# Define the equilibrium\n",
    "xe = [0.,pi,0,0]\n",
    "ue = [0.0]\n",
    "ze = RD.KnotPoint{n0,m}(xe,ue,0.0,dt)\n",
    "ye = expandstate(model_bilinear, xe);"
   ]
  },
  {
   "cell_type": "code",
   "execution_count": 17,
   "metadata": {},
   "outputs": [],
   "source": [
    "# Nominal Jacobians\n",
    "J = zeros(n0,n0+m)\n",
    "xn = zeros(n0)\n",
    "RD.jacobian!(RD.InPlace(), RD.ForwardAD(), dmodel, J, xn, ze)\n",
    "A_og = J[:,1:n0]\n",
    "B_og = J[:,n0+1:end];"
   ]
  },
  {
   "cell_type": "code",
   "execution_count": 18,
   "metadata": {},
   "outputs": [],
   "source": [
    "# Bilinear Jacobians\n",
    "function dynamics_bilinear(x,u,t,dt)\n",
    "    y = expandstate(model_bilinear, x)\n",
    "    yn = zero(y)\n",
    "    RD.discrete_dynamics!(model_bilinear, yn, y, u, t, dt)\n",
    "    originalstate(model_bilinear, yn)\n",
    "end\n",
    "\n",
    "A_bil_nom = FiniteDiff.finite_difference_jacobian(x->dynamics_bilinear(x,ue,0.0,dt), xe)\n",
    "B_bil_nom = FiniteDiff.finite_difference_jacobian(u->dynamics_bilinear(xe,u,0.0,dt), ue);"
   ]
  },
  {
   "cell_type": "code",
   "execution_count": 19,
   "metadata": {},
   "outputs": [
    {
     "data": {
      "text/plain": [
       "4×4 Matrix{Float64}:\n",
       " 1.0  0.000392055   0.019998     -1.38375e-6\n",
       " 0.0  1.0047       -3.99648e-6    0.0199834\n",
       " 0.0  0.0392035     0.9998       -7.57316e-6\n",
       " 0.0  0.470481     -0.000399628   0.999909"
      ]
     },
     "execution_count": 19,
     "metadata": {},
     "output_type": "execute_result"
    }
   ],
   "source": [
    "A_og"
   ]
  },
  {
   "cell_type": "code",
   "execution_count": 20,
   "metadata": {},
   "outputs": [
    {
     "data": {
      "text/plain": [
       "4×4 Matrix{Float64}:\n",
       "   0.765613      2.46795   -0.309573     0.388494\n",
       "   0.83105      -7.74433    1.16855     -1.35747\n",
       "   6.38353     -67.1639     9.97586    -10.5806\n",
       " 219.705     -2312.51     308.928     -363.158"
      ]
     },
     "execution_count": 20,
     "metadata": {},
     "output_type": "execute_result"
    }
   ],
   "source": [
    "A_bil_nom"
   ]
  },
  {
   "cell_type": "code",
   "execution_count": 21,
   "metadata": {},
   "outputs": [
    {
     "data": {
      "text/plain": [
       "4×1 Matrix{Float64}:\n",
       " 0.00019995956333333334\n",
       " 0.00039964806000000004\n",
       " 0.01999523290316667\n",
       " 0.03996279079433334"
      ]
     },
     "execution_count": 21,
     "metadata": {},
     "output_type": "execute_result"
    }
   ],
   "source": [
    "B_og"
   ]
  },
  {
   "cell_type": "code",
   "execution_count": 22,
   "metadata": {},
   "outputs": [
    {
     "data": {
      "text/plain": [
       "4×1 Matrix{Float64}:\n",
       "   0.02145782682283226\n",
       "  -0.07496950030326843\n",
       "  -0.5588988631172924\n",
       " -19.88563881436494"
      ]
     },
     "execution_count": 22,
     "metadata": {},
     "output_type": "execute_result"
    }
   ],
   "source": [
    "B_bil_nom"
   ]
  },
  {
   "cell_type": "markdown",
   "metadata": {},
   "source": [
    "# Try Stabilizing Nominal Model using LQR"
   ]
  },
  {
   "cell_type": "code",
   "execution_count": 23,
   "metadata": {},
   "outputs": [],
   "source": [
    "# Calculate LQR Gain \n",
    "Qlqr = Diagonal([1.0,10.0,1e-2,1e-2])\n",
    "Rlqr = Diagonal([1e-4])\n",
    "K_og = dlqr(A_og, B_og, Qlqr, Rlqr)\n",
    "K_bil_nom = dlqr(A_bil_nom, B_bil_nom, Qlqr, Rlqr);"
   ]
  },
  {
   "cell_type": "code",
   "execution_count": 24,
   "metadata": {},
   "outputs": [
    {
     "name": "stdout",
     "output_type": "stream",
     "text": [
      "Stability Summary:\n",
      "  Dynamics  |  Controller  |  is stable? \n",
      "------------|--------------|--------------\n",
      "  Nominal   |  Nominal     |  true\n",
      "  Bilinear  |  Bilinear    |  true\n",
      "  Nominal   |  Bilinear    |  true\n"
     ]
    }
   ],
   "source": [
    "# Evaluate stability\n",
    "isstable_nominal = maximum(abs.(eigvals(A_og - B_og*K_og))) < 1.0\n",
    "isstable_bilinear = maximum(abs.(eigvals(A_bil_nom - B_bil_nom*K_bil_nom))) < 1.0\n",
    "isstable_nominal_with_bilinear = maximum(abs.(eigvals(A_og - B_og*K_bil_nom))) < 1.0\n",
    "\n",
    "println(\"Stability Summary:\")\n",
    "println(\"  Dynamics  |  Controller  |  is stable? \")\n",
    "println(\"------------|--------------|--------------\")\n",
    "println(\"  Nominal   |  Nominal     |  \", isstable_nominal)\n",
    "println(\"  Bilinear  |  Bilinear    |  \", isstable_bilinear)\n",
    "println(\"  Nominal   |  Bilinear    |  \", isstable_nominal_with_bilinear)"
   ]
  },
  {
   "cell_type": "code",
   "execution_count": 25,
   "metadata": {},
   "outputs": [
    {
     "data": {
      "image/svg+xml": "<?xml version=\"1.0\" encoding=\"utf-8\"?>\n<svg xmlns=\"http://www.w3.org/2000/svg\" xmlns:xlink=\"http://www.w3.org/1999/xlink\" width=\"600\" height=\"400\" viewBox=\"0 0 2400 1600\">\n<defs>\n  <clipPath id=\"clip680\">\n    <rect x=\"0\" y=\"0\" width=\"2400\" height=\"1600\"/>\n  </clipPath>\n</defs>\n<path clip-path=\"url(#clip680)\" d=\"\nM0 1600 L2400 1600 L2400 0 L0 0  Z\n  \" fill=\"#ffffff\" fill-rule=\"evenodd\" fill-opacity=\"1\"/>\n<defs>\n  <clipPath id=\"clip681\">\n    <rect x=\"480\" y=\"0\" width=\"1681\" height=\"1600\"/>\n  </clipPath>\n</defs>\n<path clip-path=\"url(#clip680)\" d=\"\nM174.149 1423.18 L2352.76 1423.18 L2352.76 47.2441 L174.149 47.2441  Z\n  \" fill=\"#ffffff\" fill-rule=\"evenodd\" fill-opacity=\"1\"/>\n<defs>\n  <clipPath id=\"clip682\">\n    <rect x=\"174\" y=\"47\" width=\"2180\" height=\"1377\"/>\n  </clipPath>\n</defs>\n<polyline clip-path=\"url(#clip682)\" style=\"stroke:#000000; stroke-linecap:butt; stroke-linejoin:round; stroke-width:2; stroke-opacity:0.1; fill:none\" points=\"\n  235.808,1423.18 235.808,47.2441 \n  \"/>\n<polyline clip-path=\"url(#clip682)\" style=\"stroke:#000000; stroke-linecap:butt; stroke-linejoin:round; stroke-width:2; stroke-opacity:0.1; fill:none\" points=\"\n  920.904,1423.18 920.904,47.2441 \n  \"/>\n<polyline clip-path=\"url(#clip682)\" style=\"stroke:#000000; stroke-linecap:butt; stroke-linejoin:round; stroke-width:2; stroke-opacity:0.1; fill:none\" points=\"\n  1606,1423.18 1606,47.2441 \n  \"/>\n<polyline clip-path=\"url(#clip682)\" style=\"stroke:#000000; stroke-linecap:butt; stroke-linejoin:round; stroke-width:2; stroke-opacity:0.1; fill:none\" points=\"\n  2291.1,1423.18 2291.1,47.2441 \n  \"/>\n<polyline clip-path=\"url(#clip680)\" style=\"stroke:#000000; stroke-linecap:butt; stroke-linejoin:round; stroke-width:4; stroke-opacity:1; fill:none\" points=\"\n  174.149,1423.18 2352.76,1423.18 \n  \"/>\n<polyline clip-path=\"url(#clip680)\" style=\"stroke:#000000; stroke-linecap:butt; stroke-linejoin:round; stroke-width:4; stroke-opacity:1; fill:none\" points=\"\n  235.808,1423.18 235.808,1404.28 \n  \"/>\n<polyline clip-path=\"url(#clip680)\" style=\"stroke:#000000; stroke-linecap:butt; stroke-linejoin:round; stroke-width:4; stroke-opacity:1; fill:none\" points=\"\n  920.904,1423.18 920.904,1404.28 \n  \"/>\n<polyline clip-path=\"url(#clip680)\" style=\"stroke:#000000; stroke-linecap:butt; stroke-linejoin:round; stroke-width:4; stroke-opacity:1; fill:none\" points=\"\n  1606,1423.18 1606,1404.28 \n  \"/>\n<polyline clip-path=\"url(#clip680)\" style=\"stroke:#000000; stroke-linecap:butt; stroke-linejoin:round; stroke-width:4; stroke-opacity:1; fill:none\" points=\"\n  2291.1,1423.18 2291.1,1404.28 \n  \"/>\n<path clip-path=\"url(#clip680)\" d=\"M235.808 1454.1 Q232.197 1454.1 230.368 1457.66 Q228.562 1461.2 228.562 1468.33 Q228.562 1475.44 230.368 1479.01 Q232.197 1482.55 235.808 1482.55 Q239.442 1482.55 241.247 1479.01 Q243.076 1475.44 243.076 1468.33 Q243.076 1461.2 241.247 1457.66 Q239.442 1454.1 235.808 1454.1 M235.808 1450.39 Q241.618 1450.39 244.673 1455 Q247.752 1459.58 247.752 1468.33 Q247.752 1477.06 244.673 1481.67 Q241.618 1486.25 235.808 1486.25 Q229.997 1486.25 226.919 1481.67 Q223.863 1477.06 223.863 1468.33 Q223.863 1459.58 226.919 1455 Q229.997 1450.39 235.808 1450.39 Z\" fill=\"#000000\" fill-rule=\"evenodd\" fill-opacity=\"1\" /><path clip-path=\"url(#clip680)\" d=\"M911.286 1481.64 L918.925 1481.64 L918.925 1455.28 L910.615 1456.95 L910.615 1452.69 L918.879 1451.02 L923.555 1451.02 L923.555 1481.64 L931.193 1481.64 L931.193 1485.58 L911.286 1485.58 L911.286 1481.64 Z\" fill=\"#000000\" fill-rule=\"evenodd\" fill-opacity=\"1\" /><path clip-path=\"url(#clip680)\" d=\"M1600.65 1481.64 L1616.97 1481.64 L1616.97 1485.58 L1595.03 1485.58 L1595.03 1481.64 Q1597.69 1478.89 1602.27 1474.26 Q1606.88 1469.61 1608.06 1468.27 Q1610.31 1465.74 1611.19 1464.01 Q1612.09 1462.25 1612.09 1460.56 Q1612.09 1457.8 1610.14 1456.07 Q1608.22 1454.33 1605.12 1454.33 Q1602.92 1454.33 1600.47 1455.09 Q1598.04 1455.86 1595.26 1457.41 L1595.26 1452.69 Q1598.08 1451.55 1600.54 1450.97 Q1602.99 1450.39 1605.03 1450.39 Q1610.4 1450.39 1613.59 1453.08 Q1616.79 1455.77 1616.79 1460.26 Q1616.79 1462.39 1615.98 1464.31 Q1615.19 1466.2 1613.08 1468.8 Q1612.51 1469.47 1609.4 1472.69 Q1606.3 1475.88 1600.65 1481.64 Z\" fill=\"#000000\" fill-rule=\"evenodd\" fill-opacity=\"1\" /><path clip-path=\"url(#clip680)\" d=\"M2295.34 1466.95 Q2298.7 1467.66 2300.58 1469.93 Q2302.47 1472.2 2302.47 1475.53 Q2302.47 1480.65 2298.96 1483.45 Q2295.44 1486.25 2288.96 1486.25 Q2286.78 1486.25 2284.47 1485.81 Q2282.17 1485.39 2279.72 1484.54 L2279.72 1480.02 Q2281.66 1481.16 2283.98 1481.74 Q2286.29 1482.32 2288.82 1482.32 Q2293.22 1482.32 2295.51 1480.58 Q2297.82 1478.84 2297.82 1475.53 Q2297.82 1472.48 2295.67 1470.77 Q2293.54 1469.03 2289.72 1469.03 L2285.69 1469.03 L2285.69 1465.19 L2289.91 1465.19 Q2293.35 1465.19 2295.18 1463.82 Q2297.01 1462.43 2297.01 1459.84 Q2297.01 1457.18 2295.11 1455.77 Q2293.24 1454.33 2289.72 1454.33 Q2287.8 1454.33 2285.6 1454.75 Q2283.4 1455.16 2280.76 1456.04 L2280.76 1451.88 Q2283.42 1451.14 2285.74 1450.77 Q2288.08 1450.39 2290.14 1450.39 Q2295.46 1450.39 2298.56 1452.83 Q2301.66 1455.23 2301.66 1459.35 Q2301.66 1462.22 2300.02 1464.21 Q2298.38 1466.18 2295.34 1466.95 Z\" fill=\"#000000\" fill-rule=\"evenodd\" fill-opacity=\"1\" /><path clip-path=\"url(#clip680)\" d=\"M1150.91 1522.27 L1150.91 1532.4 L1162.97 1532.4 L1162.97 1536.95 L1150.91 1536.95 L1150.91 1556.3 Q1150.91 1560.66 1152.08 1561.9 Q1153.29 1563.14 1156.95 1563.14 L1162.97 1563.14 L1162.97 1568.04 L1156.95 1568.04 Q1150.17 1568.04 1147.6 1565.53 Q1145.02 1562.98 1145.02 1556.3 L1145.02 1536.95 L1140.72 1536.95 L1140.72 1532.4 L1145.02 1532.4 L1145.02 1522.27 L1150.91 1522.27 Z\" fill=\"#000000\" fill-rule=\"evenodd\" fill-opacity=\"1\" /><path clip-path=\"url(#clip680)\" d=\"M1170.67 1532.4 L1176.53 1532.4 L1176.53 1568.04 L1170.67 1568.04 L1170.67 1532.4 M1170.67 1518.52 L1176.53 1518.52 L1176.53 1525.93 L1170.67 1525.93 L1170.67 1518.52 Z\" fill=\"#000000\" fill-rule=\"evenodd\" fill-opacity=\"1\" /><path clip-path=\"url(#clip680)\" d=\"M1216.54 1539.24 Q1218.73 1535.29 1221.79 1533.41 Q1224.84 1531.54 1228.98 1531.54 Q1234.55 1531.54 1237.58 1535.45 Q1240.6 1539.33 1240.6 1546.53 L1240.6 1568.04 L1234.71 1568.04 L1234.71 1546.72 Q1234.71 1541.59 1232.9 1539.11 Q1231.08 1536.63 1227.36 1536.63 Q1222.81 1536.63 1220.17 1539.65 Q1217.52 1542.68 1217.52 1547.9 L1217.52 1568.04 L1211.64 1568.04 L1211.64 1546.72 Q1211.64 1541.56 1209.82 1539.11 Q1208.01 1536.63 1204.22 1536.63 Q1199.73 1536.63 1197.09 1539.68 Q1194.45 1542.71 1194.45 1547.9 L1194.45 1568.04 L1188.56 1568.04 L1188.56 1532.4 L1194.45 1532.4 L1194.45 1537.93 Q1196.45 1534.66 1199.25 1533.1 Q1202.06 1531.54 1205.91 1531.54 Q1209.79 1531.54 1212.49 1533.51 Q1215.23 1535.48 1216.54 1539.24 Z\" fill=\"#000000\" fill-rule=\"evenodd\" fill-opacity=\"1\" /><path clip-path=\"url(#clip680)\" d=\"M1282.77 1548.76 L1282.77 1551.62 L1255.85 1551.62 Q1256.23 1557.67 1259.47 1560.85 Q1262.75 1564 1268.58 1564 Q1271.95 1564 1275.1 1563.17 Q1278.28 1562.35 1281.4 1560.69 L1281.4 1566.23 Q1278.25 1567.57 1274.94 1568.27 Q1271.63 1568.97 1268.23 1568.97 Q1259.7 1568.97 1254.7 1564 Q1249.73 1559.04 1249.73 1550.57 Q1249.73 1541.82 1254.44 1536.69 Q1259.19 1531.54 1267.21 1531.54 Q1274.4 1531.54 1278.57 1536.18 Q1282.77 1540.8 1282.77 1548.76 M1276.92 1547.04 Q1276.85 1542.23 1274.21 1539.37 Q1271.6 1536.5 1267.27 1536.5 Q1262.37 1536.5 1259.41 1539.27 Q1256.48 1542.04 1256.04 1547.07 L1276.92 1547.04 Z\" fill=\"#000000\" fill-rule=\"evenodd\" fill-opacity=\"1\" /><path clip-path=\"url(#clip680)\" d=\"M1327.17 1518.58 Q1322.91 1525.9 1320.84 1533.06 Q1318.77 1540.23 1318.77 1547.58 Q1318.77 1554.93 1320.84 1562.16 Q1322.94 1569.35 1327.17 1576.64 L1322.08 1576.64 Q1317.31 1569.16 1314.92 1561.93 Q1312.56 1554.71 1312.56 1547.58 Q1312.56 1540.48 1314.92 1533.29 Q1317.27 1526.09 1322.08 1518.58 L1327.17 1518.58 Z\" fill=\"#000000\" fill-rule=\"evenodd\" fill-opacity=\"1\" /><path clip-path=\"url(#clip680)\" d=\"M1361.26 1533.45 L1361.26 1538.98 Q1358.78 1537.71 1356.11 1537.07 Q1353.43 1536.44 1350.57 1536.44 Q1346.21 1536.44 1344.01 1537.77 Q1341.85 1539.11 1341.85 1541.79 Q1341.85 1543.82 1343.41 1545 Q1344.97 1546.15 1349.68 1547.2 L1351.68 1547.64 Q1357.92 1548.98 1360.53 1551.43 Q1363.17 1553.85 1363.17 1558.21 Q1363.17 1563.17 1359.22 1566.07 Q1355.31 1568.97 1348.43 1568.97 Q1345.57 1568.97 1342.45 1568.39 Q1339.36 1567.85 1335.93 1566.74 L1335.93 1560.69 Q1339.17 1562.38 1342.32 1563.24 Q1345.47 1564.07 1348.56 1564.07 Q1352.7 1564.07 1354.93 1562.66 Q1357.16 1561.23 1357.16 1558.65 Q1357.16 1556.27 1355.53 1554.99 Q1353.94 1553.72 1348.5 1552.54 L1346.46 1552.07 Q1341.02 1550.92 1338.6 1548.56 Q1336.18 1546.18 1336.18 1542.04 Q1336.18 1537.01 1339.75 1534.27 Q1343.31 1531.54 1349.87 1531.54 Q1353.11 1531.54 1355.98 1532.01 Q1358.84 1532.49 1361.26 1533.45 Z\" fill=\"#000000\" fill-rule=\"evenodd\" fill-opacity=\"1\" /><path clip-path=\"url(#clip680)\" d=\"M1371.57 1518.58 L1376.67 1518.58 Q1381.44 1526.09 1383.8 1533.29 Q1386.18 1540.48 1386.18 1547.58 Q1386.18 1554.71 1383.8 1561.93 Q1381.44 1569.16 1376.67 1576.64 L1371.57 1576.64 Q1375.81 1569.35 1377.88 1562.16 Q1379.98 1554.93 1379.98 1547.58 Q1379.98 1540.23 1377.88 1533.06 Q1375.81 1525.9 1371.57 1518.58 Z\" fill=\"#000000\" fill-rule=\"evenodd\" fill-opacity=\"1\" /><polyline clip-path=\"url(#clip682)\" style=\"stroke:#000000; stroke-linecap:butt; stroke-linejoin:round; stroke-width:2; stroke-opacity:0.1; fill:none\" points=\"\n  174.149,1253.75 2352.76,1253.75 \n  \"/>\n<polyline clip-path=\"url(#clip682)\" style=\"stroke:#000000; stroke-linecap:butt; stroke-linejoin:round; stroke-width:2; stroke-opacity:0.1; fill:none\" points=\"\n  174.149,927.542 2352.76,927.542 \n  \"/>\n<polyline clip-path=\"url(#clip682)\" style=\"stroke:#000000; stroke-linecap:butt; stroke-linejoin:round; stroke-width:2; stroke-opacity:0.1; fill:none\" points=\"\n  174.149,601.331 2352.76,601.331 \n  \"/>\n<polyline clip-path=\"url(#clip682)\" style=\"stroke:#000000; stroke-linecap:butt; stroke-linejoin:round; stroke-width:2; stroke-opacity:0.1; fill:none\" points=\"\n  174.149,275.119 2352.76,275.119 \n  \"/>\n<polyline clip-path=\"url(#clip680)\" style=\"stroke:#000000; stroke-linecap:butt; stroke-linejoin:round; stroke-width:4; stroke-opacity:1; fill:none\" points=\"\n  174.149,1423.18 174.149,47.2441 \n  \"/>\n<polyline clip-path=\"url(#clip680)\" style=\"stroke:#000000; stroke-linecap:butt; stroke-linejoin:round; stroke-width:4; stroke-opacity:1; fill:none\" points=\"\n  174.149,1253.75 193.047,1253.75 \n  \"/>\n<polyline clip-path=\"url(#clip680)\" style=\"stroke:#000000; stroke-linecap:butt; stroke-linejoin:round; stroke-width:4; stroke-opacity:1; fill:none\" points=\"\n  174.149,927.542 193.047,927.542 \n  \"/>\n<polyline clip-path=\"url(#clip680)\" style=\"stroke:#000000; stroke-linecap:butt; stroke-linejoin:round; stroke-width:4; stroke-opacity:1; fill:none\" points=\"\n  174.149,601.331 193.047,601.331 \n  \"/>\n<polyline clip-path=\"url(#clip680)\" style=\"stroke:#000000; stroke-linecap:butt; stroke-linejoin:round; stroke-width:4; stroke-opacity:1; fill:none\" points=\"\n  174.149,275.119 193.047,275.119 \n  \"/>\n<path clip-path=\"url(#clip680)\" d=\"M126.205 1239.55 Q122.593 1239.55 120.765 1243.12 Q118.959 1246.66 118.959 1253.79 Q118.959 1260.89 120.765 1264.46 Q122.593 1268 126.205 1268 Q129.839 1268 131.644 1264.46 Q133.473 1260.89 133.473 1253.79 Q133.473 1246.66 131.644 1243.12 Q129.839 1239.55 126.205 1239.55 M126.205 1235.85 Q132.015 1235.85 135.07 1240.46 Q138.149 1245.04 138.149 1253.79 Q138.149 1262.52 135.07 1267.12 Q132.015 1271.7 126.205 1271.7 Q120.394 1271.7 117.316 1267.12 Q114.26 1262.52 114.26 1253.79 Q114.26 1245.04 117.316 1240.46 Q120.394 1235.85 126.205 1235.85 Z\" fill=\"#000000\" fill-rule=\"evenodd\" fill-opacity=\"1\" /><path clip-path=\"url(#clip680)\" d=\"M118.242 940.887 L125.88 940.887 L125.88 914.521 L117.57 916.188 L117.57 911.929 L125.834 910.262 L130.51 910.262 L130.51 940.887 L138.149 940.887 L138.149 944.822 L118.242 944.822 L118.242 940.887 Z\" fill=\"#000000\" fill-rule=\"evenodd\" fill-opacity=\"1\" /><path clip-path=\"url(#clip680)\" d=\"M121.83 614.675 L138.149 614.675 L138.149 618.611 L116.205 618.611 L116.205 614.675 Q118.867 611.921 123.45 607.291 Q128.056 602.638 129.237 601.296 Q131.482 598.773 132.362 597.037 Q133.265 595.277 133.265 593.588 Q133.265 590.833 131.32 589.097 Q129.399 587.361 126.297 587.361 Q124.098 587.361 121.644 588.125 Q119.214 588.889 116.436 590.439 L116.436 585.717 Q119.26 584.583 121.714 584.004 Q124.168 583.426 126.205 583.426 Q131.575 583.426 134.769 586.111 Q137.964 588.796 137.964 593.287 Q137.964 595.416 137.154 597.338 Q136.367 599.236 134.26 601.828 Q133.681 602.5 130.58 605.717 Q127.478 608.912 121.83 614.675 Z\" fill=\"#000000\" fill-rule=\"evenodd\" fill-opacity=\"1\" /><path clip-path=\"url(#clip680)\" d=\"M131.019 273.765 Q134.376 274.483 136.251 276.751 Q138.149 279.02 138.149 282.353 Q138.149 287.469 134.63 290.269 Q131.112 293.07 124.63 293.07 Q122.455 293.07 120.14 292.631 Q117.848 292.214 115.394 291.357 L115.394 286.844 Q117.339 287.978 119.654 288.557 Q121.968 289.135 124.492 289.135 Q128.89 289.135 131.181 287.399 Q133.496 285.663 133.496 282.353 Q133.496 279.297 131.343 277.584 Q129.214 275.848 125.394 275.848 L121.367 275.848 L121.367 272.006 L125.58 272.006 Q129.029 272.006 130.857 270.64 Q132.686 269.251 132.686 266.658 Q132.686 263.996 130.788 262.584 Q128.913 261.149 125.394 261.149 Q123.473 261.149 121.274 261.566 Q119.075 261.983 116.436 262.862 L116.436 258.696 Q119.098 257.955 121.413 257.584 Q123.751 257.214 125.811 257.214 Q131.135 257.214 134.237 259.645 Q137.339 262.052 137.339 266.172 Q137.339 269.043 135.695 271.033 Q134.052 273.001 131.019 273.765 Z\" fill=\"#000000\" fill-rule=\"evenodd\" fill-opacity=\"1\" /><path clip-path=\"url(#clip680)\" d=\"M29.4065 806.062 L34.9447 806.062 Q33.6716 808.545 33.035 811.219 Q32.3984 813.892 32.3984 816.757 Q32.3984 821.117 33.7352 823.313 Q35.072 825.478 37.7456 825.478 Q39.7826 825.478 40.9603 823.918 Q42.1061 822.358 43.1565 817.648 L43.6021 815.643 Q44.9389 809.404 47.3897 806.794 Q49.8086 804.153 54.1691 804.153 Q59.1344 804.153 62.0308 808.099 Q64.9272 812.014 64.9272 818.889 Q64.9272 821.754 64.3543 824.873 Q63.8132 827.96 62.6992 831.398 L56.6518 831.398 Q58.3387 828.151 59.198 825 Q60.0256 821.849 60.0256 818.762 Q60.0256 814.624 58.6251 812.396 Q57.1929 810.168 54.6147 810.168 Q52.2276 810.168 50.9545 811.791 Q49.6813 813.383 48.5037 818.826 L48.0262 820.863 Q46.8804 826.305 44.5251 828.724 Q42.138 831.143 38.0002 831.143 Q32.9713 831.143 30.2341 827.578 Q27.4968 824.014 27.4968 817.457 Q27.4968 814.21 27.9743 811.346 Q28.4517 808.481 29.4065 806.062 Z\" fill=\"#000000\" fill-rule=\"evenodd\" fill-opacity=\"1\" /><path clip-path=\"url(#clip680)\" d=\"M18.2347 789.034 L28.3562 789.034 L28.3562 776.971 L32.9077 776.971 L32.9077 789.034 L52.2594 789.034 Q56.6199 789.034 57.8613 787.856 Q59.1026 786.647 59.1026 782.987 L59.1026 776.971 L64.0042 776.971 L64.0042 782.987 Q64.0042 789.766 61.4897 792.344 Q58.9434 794.922 52.2594 794.922 L32.9077 794.922 L32.9077 799.219 L28.3562 799.219 L28.3562 794.922 L18.2347 794.922 L18.2347 789.034 Z\" fill=\"#000000\" fill-rule=\"evenodd\" fill-opacity=\"1\" /><path clip-path=\"url(#clip680)\" d=\"M46.0847 753.068 Q46.0847 760.166 47.7079 762.903 Q49.3312 765.64 53.2461 765.64 Q56.3653 765.64 58.2114 763.603 Q60.0256 761.534 60.0256 758.001 Q60.0256 753.131 56.5881 750.203 Q53.1188 747.243 47.3897 747.243 L46.0847 747.243 L46.0847 753.068 M43.6657 741.387 L64.0042 741.387 L64.0042 747.243 L58.5933 747.243 Q61.8398 749.248 63.3994 752.24 Q64.9272 755.232 64.9272 759.561 Q64.9272 765.035 61.8716 768.282 Q58.7843 771.496 53.6281 771.496 Q47.6125 771.496 44.5569 767.486 Q41.5014 763.444 41.5014 755.455 L41.5014 747.243 L40.9285 747.243 Q36.8862 747.243 34.6901 749.917 Q32.4621 752.559 32.4621 757.365 Q32.4621 760.42 33.1941 763.317 Q33.9262 766.213 35.3903 768.887 L29.9795 768.887 Q28.7381 765.672 28.1334 762.648 Q27.4968 759.624 27.4968 756.76 Q27.4968 749.026 31.5072 745.206 Q35.5176 741.387 43.6657 741.387 Z\" fill=\"#000000\" fill-rule=\"evenodd\" fill-opacity=\"1\" /><path clip-path=\"url(#clip680)\" d=\"M18.2347 723.531 L28.3562 723.531 L28.3562 711.468 L32.9077 711.468 L32.9077 723.531 L52.2594 723.531 Q56.6199 723.531 57.8613 722.353 Q59.1026 721.144 59.1026 717.483 L59.1026 711.468 L64.0042 711.468 L64.0042 717.483 Q64.0042 724.263 61.4897 726.841 Q58.9434 729.419 52.2594 729.419 L32.9077 729.419 L32.9077 733.716 L28.3562 733.716 L28.3562 729.419 L18.2347 729.419 L18.2347 723.531 Z\" fill=\"#000000\" fill-rule=\"evenodd\" fill-opacity=\"1\" /><path clip-path=\"url(#clip680)\" d=\"M44.7161 673.274 L47.5806 673.274 L47.5806 700.201 Q53.6281 699.819 56.8109 696.572 Q59.9619 693.294 59.9619 687.469 Q59.9619 684.095 59.1344 680.944 Q58.3069 677.761 56.6518 674.642 L62.1899 674.642 Q63.5267 677.793 64.227 681.103 Q64.9272 684.414 64.9272 687.819 Q64.9272 696.349 59.9619 701.346 Q54.9967 706.312 46.5303 706.312 Q37.7774 706.312 32.6531 701.601 Q27.4968 696.859 27.4968 688.838 Q27.4968 681.645 32.1438 677.475 Q36.7589 673.274 44.7161 673.274 M42.9973 679.13 Q38.1912 679.194 35.3266 681.836 Q32.4621 684.445 32.4621 688.774 Q32.4621 693.676 35.2312 696.636 Q38.0002 699.564 43.0292 700.01 L42.9973 679.13 Z\" fill=\"#000000\" fill-rule=\"evenodd\" fill-opacity=\"1\" /><path clip-path=\"url(#clip680)\" d=\"M29.4065 640.936 L34.9447 640.936 Q33.6716 643.418 33.035 646.092 Q32.3984 648.766 32.3984 651.63 Q32.3984 655.991 33.7352 658.187 Q35.072 660.351 37.7456 660.351 Q39.7826 660.351 40.9603 658.792 Q42.1061 657.232 43.1565 652.521 L43.6021 650.516 Q44.9389 644.278 47.3897 641.668 Q49.8086 639.026 54.1691 639.026 Q59.1344 639.026 62.0308 642.973 Q64.9272 646.888 64.9272 653.763 Q64.9272 656.627 64.3543 659.747 Q63.8132 662.834 62.6992 666.271 L56.6518 666.271 Q58.3387 663.025 59.198 659.874 Q60.0256 656.723 60.0256 653.635 Q60.0256 649.498 58.6251 647.27 Q57.1929 645.042 54.6147 645.042 Q52.2276 645.042 50.9545 646.665 Q49.6813 648.256 48.5037 653.699 L48.0262 655.736 Q46.8804 661.179 44.5251 663.598 Q42.138 666.017 38.0002 666.017 Q32.9713 666.017 30.2341 662.452 Q27.4968 658.887 27.4968 652.33 Q27.4968 649.084 27.9743 646.219 Q28.4517 643.355 29.4065 640.936 Z\" fill=\"#000000\" fill-rule=\"evenodd\" fill-opacity=\"1\" /><polyline clip-path=\"url(#clip682)\" style=\"stroke:#009af9; stroke-linecap:butt; stroke-linejoin:round; stroke-width:8; stroke-opacity:1; fill:none\" stroke-dasharray=\"32, 20\" points=\"\n  235.808,1384.24 249.51,1373.2 263.211,1342.51 276.913,1298.82 290.615,1251.53 304.317,1208.79 318.019,1174.14 331.721,1147.7 345.423,1128.55 359.125,1115.55 \n  372.827,1107.51 386.529,1103.18 400.231,1101.29 413.933,1100.75 427.635,1100.69 441.337,1100.56 455.038,1100.12 468.74,1099.32 482.442,1098.26 496.144,1097.08 \n  509.846,1095.9 523.548,1094.83 537.25,1093.93 550.952,1093.25 564.654,1092.8 578.356,1092.58 592.058,1092.59 605.76,1092.8 619.462,1093.2 633.164,1093.78 \n  646.866,1094.53 660.567,1095.43 674.269,1096.48 687.971,1097.65 701.673,1098.95 715.375,1100.37 729.077,1101.89 742.779,1103.51 756.481,1105.23 770.183,1107.03 \n  783.885,1108.92 797.587,1110.87 811.289,1112.9 824.991,1114.99 838.693,1117.13 852.394,1119.32 866.096,1121.56 879.798,1123.84 893.5,1126.16 907.202,1128.5 \n  920.904,1130.87 934.606,1133.27 948.308,1135.68 962.01,1138.11 975.712,1140.55 989.414,1143 1003.12,1145.45 1016.82,1147.9 1030.52,1150.36 1044.22,1152.8 \n  1057.92,1155.24 1071.63,1157.67 1085.33,1160.09 1099.03,1162.49 1112.73,1164.88 1126.43,1167.24 1140.14,1169.59 1153.84,1171.92 1167.54,1174.22 1181.24,1176.49 \n  1194.94,1178.74 1208.64,1180.96 1222.35,1183.16 1236.05,1185.32 1249.75,1187.45 1263.45,1189.55 1277.15,1191.62 1290.86,1193.65 1304.56,1195.65 1318.26,1197.61 \n  1331.96,1199.54 1345.66,1201.43 1359.37,1203.29 1373.07,1205.11 1386.77,1206.89 1400.47,1208.63 1414.17,1210.34 1427.88,1212.01 1441.58,1213.65 1455.28,1215.24 \n  1468.98,1216.8 1482.68,1218.33 1496.39,1219.81 1510.09,1221.26 1523.79,1222.67 1537.49,1224.04 1551.19,1225.38 1564.89,1226.69 1578.6,1227.95 1592.3,1229.18 \n  1606,1230.38 1619.7,1231.54 1633.4,1232.67 1647.11,1233.77 1660.81,1234.83 1674.51,1235.86 1688.21,1236.85 1701.91,1237.82 1715.62,1238.75 1729.32,1239.66 \n  1743.02,1240.53 1756.72,1241.37 1770.42,1242.19 1784.13,1242.97 1797.83,1243.73 1811.53,1244.46 1825.23,1245.16 1838.93,1245.84 1852.64,1246.49 1866.34,1247.11 \n  1880.04,1247.71 1893.74,1248.29 1907.44,1248.84 1921.15,1249.37 1934.85,1249.88 1948.55,1250.37 1962.25,1250.83 1975.95,1251.28 1989.65,1251.7 2003.36,1252.11 \n  2017.06,1252.49 2030.76,1252.86 2044.46,1253.21 2058.16,1253.54 2071.87,1253.85 2085.57,1254.15 2099.27,1254.43 2112.97,1254.7 2126.67,1254.95 2140.38,1255.19 \n  2154.08,1255.41 2167.78,1255.62 2181.48,1255.82 2195.18,1256 2208.89,1256.17 2222.59,1256.33 2236.29,1256.48 2249.99,1256.62 2263.69,1256.74 2277.4,1256.86 \n  2291.1,1256.97 \n  \"/>\n<polyline clip-path=\"url(#clip682)\" style=\"stroke:#e26f46; stroke-linecap:butt; stroke-linejoin:round; stroke-width:8; stroke-opacity:1; fill:none\" stroke-dasharray=\"32, 20\" points=\"\n  235.808,456.669 249.51,440.486 263.211,394.558 276.913,327.627 290.615,255.107 304.317,192.134 318.019,145.146 331.721,113.577 345.423,94.9084 359.125,86.5788 \n  372.827,86.1857 386.529,91.4103 400.231,100.04 413.933,110.117 427.635,120.136 441.337,129.153 455.038,136.76 468.74,142.953 482.442,147.951 496.144,152.056 \n  509.846,155.555 523.548,158.679 537.25,161.589 550.952,164.383 564.654,167.117 578.356,169.81 592.058,172.468 605.76,175.084 619.462,177.649 633.164,180.156 \n  646.866,182.599 660.567,184.972 674.269,187.274 687.971,189.504 701.673,191.663 715.375,193.75 729.077,195.769 742.779,197.719 756.481,199.603 770.183,201.423 \n  783.885,203.179 797.587,204.874 811.289,206.508 824.991,208.083 838.693,209.6 852.394,211.061 866.096,212.467 879.798,213.819 893.5,215.119 907.202,216.367 \n  920.904,217.565 934.606,218.714 948.308,219.815 962.01,220.87 975.712,221.88 989.414,222.845 1003.12,223.767 1016.82,224.648 1030.52,225.488 1044.22,226.288 \n  1057.92,227.049 1071.63,227.774 1085.33,228.462 1099.03,229.115 1112.73,229.733 1126.43,230.319 1140.14,230.873 1153.84,231.395 1167.54,231.887 1181.24,232.35 \n  1194.94,232.786 1208.64,233.193 1222.35,233.575 1236.05,233.931 1249.75,234.263 1263.45,234.571 1277.15,234.857 1290.86,235.12 1304.56,235.363 1318.26,235.585 \n  1331.96,235.788 1345.66,235.972 1359.37,236.138 1373.07,236.287 1386.77,236.419 1400.47,236.536 1414.17,236.637 1427.88,236.724 1441.58,236.798 1455.28,236.858 \n  1468.98,236.905 1482.68,236.941 1496.39,236.965 1510.09,236.979 1523.79,236.982 1537.49,236.976 1551.19,236.96 1564.89,236.935 1578.6,236.903 1592.3,236.862 \n  1606,236.814 1619.7,236.76 1633.4,236.698 1647.11,236.631 1660.81,236.558 1674.51,236.48 1688.21,236.397 1701.91,236.31 1715.62,236.218 1729.32,236.122 \n  1743.02,236.023 1756.72,235.921 1770.42,235.815 1784.13,235.707 1797.83,235.596 1811.53,235.484 1825.23,235.369 1838.93,235.253 1852.64,235.135 1866.34,235.016 \n  1880.04,234.896 1893.74,234.775 1907.44,234.653 1921.15,234.531 1934.85,234.409 1948.55,234.286 1962.25,234.164 1975.95,234.041 1989.65,233.919 2003.36,233.798 \n  2017.06,233.677 2030.76,233.556 2044.46,233.437 2058.16,233.318 2071.87,233.2 2085.57,233.083 2099.27,232.968 2112.97,232.853 2126.67,232.74 2140.38,232.628 \n  2154.08,232.518 2167.78,232.409 2181.48,232.302 2195.18,232.196 2208.89,232.092 2222.59,231.989 2236.29,231.889 2249.99,231.79 2263.69,231.692 2277.4,231.597 \n  2291.1,231.503 \n  \"/>\n<polyline clip-path=\"url(#clip682)\" style=\"stroke:#009af9; stroke-linecap:butt; stroke-linejoin:round; stroke-width:8; stroke-opacity:1; fill:none\" points=\"\n  235.808,1384.24 249.51,1379.68 263.211,1366.87 276.913,1347.6 290.615,1323.83 304.317,1297.51 318.019,1270.47 331.721,1244.17 345.423,1219.56 359.125,1197.18 \n  372.827,1177.2 386.529,1159.59 400.231,1144.2 413.933,1130.81 427.635,1119.2 441.337,1109.12 455.038,1100.36 468.74,1092.7 482.442,1085.95 496.144,1079.95 \n  509.846,1074.55 523.548,1069.64 537.25,1065.13 550.952,1060.95 564.654,1057.03 578.356,1053.34 592.058,1049.86 605.76,1046.57 619.462,1043.45 633.164,1040.51 \n  646.866,1037.73 660.567,1035.13 674.269,1032.69 687.971,1030.43 701.673,1028.34 715.375,1026.42 729.077,1024.68 742.779,1023.1 756.481,1021.69 770.183,1020.45 \n  783.885,1019.37 797.587,1018.45 811.289,1017.68 824.991,1017.07 838.693,1016.6 852.394,1016.27 866.096,1016.07 879.798,1016.01 893.5,1016.08 907.202,1016.27 \n  920.904,1016.58 934.606,1017 948.308,1017.53 962.01,1018.17 975.712,1018.91 989.414,1019.75 1003.12,1020.68 1016.82,1021.71 1030.52,1022.82 1044.22,1024.01 \n  1057.92,1025.28 1071.63,1026.63 1085.33,1028.05 1099.03,1029.55 1112.73,1031.11 1126.43,1032.73 1140.14,1034.41 1153.84,1036.16 1167.54,1037.95 1181.24,1039.8 \n  1194.94,1041.7 1208.64,1043.64 1222.35,1045.63 1236.05,1047.66 1249.75,1049.73 1263.45,1051.84 1277.15,1053.98 1290.86,1056.16 1304.56,1058.36 1318.26,1060.59 \n  1331.96,1062.85 1345.66,1065.13 1359.37,1067.43 1373.07,1069.75 1386.77,1072.09 1400.47,1074.45 1414.17,1076.82 1427.88,1079.2 1441.58,1081.6 1455.28,1084 \n  1468.98,1086.41 1482.68,1088.83 1496.39,1091.25 1510.09,1093.67 1523.79,1096.1 1537.49,1098.53 1551.19,1100.95 1564.89,1103.38 1578.6,1105.8 1592.3,1108.22 \n  1606,1110.63 1619.7,1113.03 1633.4,1115.43 1647.11,1117.82 1660.81,1120.2 1674.51,1122.57 1688.21,1124.93 1701.91,1127.27 1715.62,1129.6 1729.32,1131.92 \n  1743.02,1134.23 1756.72,1136.52 1770.42,1138.79 1784.13,1141.05 1797.83,1143.29 1811.53,1145.51 1825.23,1147.71 1838.93,1149.9 1852.64,1152.06 1866.34,1154.21 \n  1880.04,1156.33 1893.74,1158.44 1907.44,1160.52 1921.15,1162.58 1934.85,1164.62 1948.55,1166.64 1962.25,1168.63 1975.95,1170.61 1989.65,1172.56 2003.36,1174.48 \n  2017.06,1176.38 2030.76,1178.26 2044.46,1180.12 2058.16,1181.95 2071.87,1183.76 2085.57,1185.54 2099.27,1187.3 2112.97,1189.03 2126.67,1190.74 2140.38,1192.42 \n  2154.08,1194.08 2167.78,1195.72 2181.48,1197.33 2195.18,1198.91 2208.89,1200.47 2222.59,1202.01 2236.29,1203.52 2249.99,1205 2263.69,1206.47 2277.4,1207.9 \n  2291.1,1209.32 \n  \"/>\n<polyline clip-path=\"url(#clip682)\" style=\"stroke:#e26f46; stroke-linecap:butt; stroke-linejoin:round; stroke-width:8; stroke-opacity:1; fill:none\" points=\"\n  235.808,456.669 249.51,450.493 263.211,433.109 276.913,406.865 290.615,374.375 304.317,338.575 318.019,302.422 331.721,268.413 345.423,238.222 359.125,212.661 \n  372.827,191.867 386.529,175.569 400.231,163.289 413.933,154.474 427.635,148.567 441.337,145.04 455.038,143.41 468.74,143.249 482.442,144.185 496.144,145.902 \n  509.846,148.139 523.548,150.688 537.25,153.388 550.952,156.12 564.654,158.8 578.356,161.376 592.058,163.815 605.76,166.104 619.462,168.242 633.164,170.237 \n  646.866,172.1 660.567,173.847 674.269,175.493 687.971,177.055 701.673,178.544 715.375,179.975 729.077,181.357 742.779,182.698 756.481,184.006 770.183,185.285 \n  783.885,186.539 797.587,187.77 811.289,188.981 824.991,190.173 838.693,191.346 852.394,192.501 866.096,193.637 879.798,194.755 893.5,195.855 907.202,196.935 \n  920.904,197.997 934.606,199.039 948.308,200.062 962.01,201.066 975.712,202.05 989.414,203.015 1003.12,203.961 1016.82,204.888 1030.52,205.796 1044.22,206.685 \n  1057.92,207.555 1071.63,208.407 1085.33,209.241 1099.03,210.056 1112.73,210.854 1126.43,211.634 1140.14,212.396 1153.84,213.141 1167.54,213.869 1181.24,214.581 \n  1194.94,215.275 1208.64,215.954 1222.35,216.616 1236.05,217.262 1249.75,217.893 1263.45,218.507 1277.15,219.107 1290.86,219.691 1304.56,220.261 1318.26,220.816 \n  1331.96,221.356 1345.66,221.882 1359.37,222.394 1373.07,222.892 1386.77,223.376 1400.47,223.847 1414.17,224.305 1427.88,224.75 1441.58,225.182 1455.28,225.601 \n  1468.98,226.008 1482.68,226.402 1496.39,226.785 1510.09,227.156 1523.79,227.515 1537.49,227.863 1551.19,228.2 1564.89,228.526 1578.6,228.841 1592.3,229.146 \n  1606,229.44 1619.7,229.724 1633.4,229.998 1647.11,230.262 1660.81,230.516 1674.51,230.762 1688.21,230.998 1701.91,231.224 1715.62,231.443 1729.32,231.652 \n  1743.02,231.853 1756.72,232.045 1770.42,232.23 1784.13,232.407 1797.83,232.575 1811.53,232.737 1825.23,232.89 1838.93,233.037 1852.64,233.176 1866.34,233.309 \n  1880.04,233.435 1893.74,233.554 1907.44,233.667 1921.15,233.773 1934.85,233.873 1948.55,233.968 1962.25,234.056 1975.95,234.139 1989.65,234.217 2003.36,234.289 \n  2017.06,234.356 2030.76,234.417 2044.46,234.474 2058.16,234.526 2071.87,234.573 2085.57,234.616 2099.27,234.654 2112.97,234.688 2126.67,234.718 2140.38,234.744 \n  2154.08,234.766 2167.78,234.784 2181.48,234.799 2195.18,234.81 2208.89,234.817 2222.59,234.821 2236.29,234.822 2249.99,234.82 2263.69,234.815 2277.4,234.807 \n  2291.1,234.796 \n  \"/>\n<path clip-path=\"url(#clip680)\" d=\"\nM1614.58 838.892 L2280.14 838.892 L2280.14 579.692 L1614.58 579.692  Z\n  \" fill=\"#ffffff\" fill-rule=\"evenodd\" fill-opacity=\"1\"/>\n<polyline clip-path=\"url(#clip680)\" style=\"stroke:#000000; stroke-linecap:butt; stroke-linejoin:round; stroke-width:4; stroke-opacity:1; fill:none\" points=\"\n  1614.58,838.892 2280.14,838.892 2280.14,579.692 1614.58,579.692 1614.58,838.892 \n  \"/>\n<polyline clip-path=\"url(#clip680)\" style=\"stroke:#009af9; stroke-linecap:butt; stroke-linejoin:round; stroke-width:4; stroke-opacity:1; fill:none\" stroke-dasharray=\"16, 10\" points=\"\n  1638.78,631.532 1784.02,631.532 \n  \"/>\n<path clip-path=\"url(#clip680)\" d=\"M1832.88 622.886 L1823.51 635.502 L1833.37 648.812 L1828.34 648.812 L1820.8 638.627 L1813.25 648.812 L1808.23 648.812 L1818.3 635.247 L1809.09 622.886 L1814.11 622.886 L1820.98 632.122 L1827.86 622.886 L1832.88 622.886 Z\" fill=\"#000000\" fill-rule=\"evenodd\" fill-opacity=\"1\" /><path clip-path=\"url(#clip680)\" d=\"M1864.69 612.84 Q1861.59 618.164 1860.08 623.372 Q1858.58 628.581 1858.58 633.928 Q1858.58 639.275 1860.08 644.53 Q1861.61 649.761 1864.69 655.062 L1860.98 655.062 Q1857.51 649.622 1855.78 644.368 Q1854.06 639.113 1854.06 633.928 Q1854.06 628.766 1855.78 623.534 Q1857.49 618.303 1860.98 612.84 L1864.69 612.84 Z\" fill=\"#000000\" fill-rule=\"evenodd\" fill-opacity=\"1\" /><path clip-path=\"url(#clip680)\" d=\"M1883 625.872 Q1879.57 625.872 1877.58 628.557 Q1875.59 631.219 1875.59 635.872 Q1875.59 640.525 1877.56 643.21 Q1879.55 645.872 1883 645.872 Q1886.4 645.872 1888.39 643.187 Q1890.38 640.502 1890.38 635.872 Q1890.38 631.266 1888.39 628.581 Q1886.4 625.872 1883 625.872 M1883 622.261 Q1888.55 622.261 1891.72 625.872 Q1894.9 629.483 1894.9 635.872 Q1894.9 642.238 1891.72 645.872 Q1888.55 649.483 1883 649.483 Q1877.42 649.483 1874.25 645.872 Q1871.1 642.238 1871.1 635.872 Q1871.1 629.483 1874.25 625.872 Q1877.42 622.261 1883 622.261 Z\" fill=\"#000000\" fill-rule=\"evenodd\" fill-opacity=\"1\" /><path clip-path=\"url(#clip680)\" d=\"M1919.02 635.548 Q1919.02 630.919 1917.09 628.372 Q1915.2 625.826 1911.75 625.826 Q1908.32 625.826 1906.4 628.372 Q1904.5 630.919 1904.5 635.548 Q1904.5 640.155 1906.4 642.701 Q1908.32 645.247 1911.75 645.247 Q1915.2 645.247 1917.09 642.701 Q1919.02 640.155 1919.02 635.548 M1923.27 645.594 Q1923.27 652.215 1920.33 655.432 Q1917.4 658.673 1911.33 658.673 Q1909.09 658.673 1907.09 658.326 Q1905.1 658.002 1903.23 657.307 L1903.23 653.164 Q1905.1 654.182 1906.93 654.668 Q1908.76 655.155 1910.66 655.155 Q1914.85 655.155 1916.93 652.955 Q1919.02 650.78 1919.02 646.358 L1919.02 644.252 Q1917.7 646.543 1915.64 647.678 Q1913.58 648.812 1910.71 648.812 Q1905.94 648.812 1903.02 645.178 Q1900.1 641.543 1900.1 635.548 Q1900.1 629.53 1903.02 625.895 Q1905.94 622.261 1910.71 622.261 Q1913.58 622.261 1915.64 623.395 Q1917.7 624.53 1919.02 626.821 L1919.02 622.886 L1923.27 622.886 L1923.27 645.594 Z\" fill=\"#000000\" fill-rule=\"evenodd\" fill-opacity=\"1\" /><path clip-path=\"url(#clip680)\" d=\"M1964.18 626.821 L1964.18 612.794 L1968.44 612.794 L1968.44 648.812 L1964.18 648.812 L1964.18 644.923 Q1962.83 647.238 1960.77 648.372 Q1958.74 649.483 1955.87 649.483 Q1951.17 649.483 1948.21 645.733 Q1945.27 641.983 1945.27 635.872 Q1945.27 629.761 1948.21 626.011 Q1951.17 622.261 1955.87 622.261 Q1958.74 622.261 1960.77 623.395 Q1962.83 624.507 1964.18 626.821 M1949.66 635.872 Q1949.66 640.571 1951.58 643.256 Q1953.53 645.918 1956.91 645.918 Q1960.29 645.918 1962.23 643.256 Q1964.18 640.571 1964.18 635.872 Q1964.18 631.173 1962.23 628.511 Q1960.29 625.826 1956.91 625.826 Q1953.53 625.826 1951.58 628.511 Q1949.66 631.173 1949.66 635.872 Z\" fill=\"#000000\" fill-rule=\"evenodd\" fill-opacity=\"1\" /><path clip-path=\"url(#clip680)\" d=\"M1988 651.219 Q1986.19 655.849 1984.48 657.261 Q1982.77 658.673 1979.89 658.673 L1976.49 658.673 L1976.49 655.108 L1978.99 655.108 Q1980.75 655.108 1981.72 654.275 Q1982.7 653.442 1983.88 650.34 L1984.64 648.395 L1974.15 622.886 L1978.67 622.886 L1986.77 643.164 L1994.87 622.886 L1999.39 622.886 L1988 651.219 Z\" fill=\"#000000\" fill-rule=\"evenodd\" fill-opacity=\"1\" /><path clip-path=\"url(#clip680)\" d=\"M2026.82 633.164 L2026.82 648.812 L2022.56 648.812 L2022.56 633.303 Q2022.56 629.622 2021.12 627.794 Q2019.69 625.965 2016.82 625.965 Q2013.37 625.965 2011.38 628.164 Q2009.39 630.363 2009.39 634.159 L2009.39 648.812 L2005.1 648.812 L2005.1 622.886 L2009.39 622.886 L2009.39 626.914 Q2010.91 624.576 2012.97 623.419 Q2015.06 622.261 2017.76 622.261 Q2022.23 622.261 2024.52 625.039 Q2026.82 627.794 2026.82 633.164 Z\" fill=\"#000000\" fill-rule=\"evenodd\" fill-opacity=\"1\" /><path clip-path=\"url(#clip680)\" d=\"M2047.09 635.78 Q2041.93 635.78 2039.94 636.96 Q2037.95 638.141 2037.95 640.988 Q2037.95 643.256 2039.43 644.599 Q2040.94 645.918 2043.51 645.918 Q2047.05 645.918 2049.18 643.418 Q2051.33 640.895 2051.33 636.729 L2051.33 635.78 L2047.09 635.78 M2055.59 634.02 L2055.59 648.812 L2051.33 648.812 L2051.33 644.877 Q2049.87 647.238 2047.7 648.372 Q2045.52 649.483 2042.37 649.483 Q2038.39 649.483 2036.03 647.261 Q2033.69 645.016 2033.69 641.266 Q2033.69 636.891 2036.61 634.669 Q2039.55 632.446 2045.36 632.446 L2051.33 632.446 L2051.33 632.03 Q2051.33 629.09 2049.39 627.493 Q2047.46 625.872 2043.97 625.872 Q2041.75 625.872 2039.64 626.405 Q2037.53 626.937 2035.59 628.002 L2035.59 624.067 Q2037.93 623.164 2040.13 622.724 Q2042.33 622.261 2044.41 622.261 Q2050.03 622.261 2052.81 625.178 Q2055.59 628.094 2055.59 634.02 Z\" fill=\"#000000\" fill-rule=\"evenodd\" fill-opacity=\"1\" /><path clip-path=\"url(#clip680)\" d=\"M2084.55 627.863 Q2086.14 624.993 2088.37 623.627 Q2090.59 622.261 2093.6 622.261 Q2097.65 622.261 2099.85 625.108 Q2102.05 627.932 2102.05 633.164 L2102.05 648.812 L2097.76 648.812 L2097.76 633.303 Q2097.76 629.576 2096.45 627.77 Q2095.13 625.965 2092.42 625.965 Q2089.11 625.965 2087.19 628.164 Q2085.26 630.363 2085.26 634.159 L2085.26 648.812 L2080.98 648.812 L2080.98 633.303 Q2080.98 629.553 2079.66 627.77 Q2078.34 625.965 2075.59 625.965 Q2072.32 625.965 2070.4 628.187 Q2068.48 630.386 2068.48 634.159 L2068.48 648.812 L2064.2 648.812 L2064.2 622.886 L2068.48 622.886 L2068.48 626.914 Q2069.94 624.53 2071.98 623.395 Q2074.01 622.261 2076.82 622.261 Q2079.64 622.261 2081.61 623.696 Q2083.6 625.132 2084.55 627.863 Z\" fill=\"#000000\" fill-rule=\"evenodd\" fill-opacity=\"1\" /><path clip-path=\"url(#clip680)\" d=\"M2110.54 622.886 L2114.8 622.886 L2114.8 648.812 L2110.54 648.812 L2110.54 622.886 M2110.54 612.794 L2114.8 612.794 L2114.8 618.187 L2110.54 618.187 L2110.54 612.794 Z\" fill=\"#000000\" fill-rule=\"evenodd\" fill-opacity=\"1\" /><path clip-path=\"url(#clip680)\" d=\"M2142.37 623.882 L2142.37 627.863 Q2140.57 626.868 2138.74 626.382 Q2136.93 625.872 2135.08 625.872 Q2130.94 625.872 2128.64 628.511 Q2126.35 631.127 2126.35 635.872 Q2126.35 640.618 2128.64 643.256 Q2130.94 645.872 2135.08 645.872 Q2136.93 645.872 2138.74 645.386 Q2140.57 644.877 2142.37 643.881 L2142.37 647.817 Q2140.59 648.65 2138.67 649.067 Q2136.77 649.483 2134.62 649.483 Q2128.76 649.483 2125.31 645.803 Q2121.86 642.122 2121.86 635.872 Q2121.86 629.53 2125.33 625.895 Q2128.83 622.261 2134.89 622.261 Q2136.86 622.261 2138.74 622.678 Q2140.61 623.071 2142.37 623.882 Z\" fill=\"#000000\" fill-rule=\"evenodd\" fill-opacity=\"1\" /><path clip-path=\"url(#clip680)\" d=\"M2166.31 623.65 L2166.31 627.678 Q2164.5 626.752 2162.56 626.289 Q2160.61 625.826 2158.53 625.826 Q2155.36 625.826 2153.76 626.798 Q2152.19 627.77 2152.19 629.715 Q2152.19 631.196 2153.32 632.053 Q2154.45 632.886 2157.88 633.65 L2159.34 633.974 Q2163.88 634.946 2165.77 636.729 Q2167.69 638.488 2167.69 641.659 Q2167.69 645.27 2164.82 647.377 Q2161.98 649.483 2156.98 649.483 Q2154.89 649.483 2152.63 649.067 Q2150.38 648.673 2147.88 647.863 L2147.88 643.465 Q2150.24 644.692 2152.53 645.317 Q2154.82 645.918 2157.07 645.918 Q2160.08 645.918 2161.7 644.9 Q2163.32 643.858 2163.32 641.983 Q2163.32 640.247 2162.14 639.321 Q2160.98 638.395 2157.02 637.539 L2155.54 637.192 Q2151.58 636.358 2149.82 634.645 Q2148.07 632.909 2148.07 629.9 Q2148.07 626.243 2150.66 624.252 Q2153.25 622.261 2158.02 622.261 Q2160.38 622.261 2162.46 622.608 Q2164.55 622.956 2166.31 623.65 Z\" fill=\"#000000\" fill-rule=\"evenodd\" fill-opacity=\"1\" /><path clip-path=\"url(#clip680)\" d=\"M2173.81 612.84 L2177.51 612.84 Q2180.98 618.303 2182.69 623.534 Q2184.43 628.766 2184.43 633.928 Q2184.43 639.113 2182.69 644.368 Q2180.98 649.622 2177.51 655.062 L2173.81 655.062 Q2176.88 649.761 2178.39 644.53 Q2179.92 639.275 2179.92 633.928 Q2179.92 628.581 2178.39 623.372 Q2176.88 618.164 2173.81 612.84 Z\" fill=\"#000000\" fill-rule=\"evenodd\" fill-opacity=\"1\" /><polyline clip-path=\"url(#clip680)\" style=\"stroke:#e26f46; stroke-linecap:butt; stroke-linejoin:round; stroke-width:4; stroke-opacity:1; fill:none\" stroke-dasharray=\"16, 10\" points=\"\n  1638.78,683.372 1784.02,683.372 \n  \"/>\n<path clip-path=\"url(#clip680)\" d=\"M1827.49 684.217 L1812.74 684.217 Q1813.09 691.138 1814.69 694.078 Q1816.68 697.689 1820.13 697.689 Q1823.6 697.689 1825.52 694.055 Q1827.21 690.86 1827.49 684.217 M1827.42 680.282 Q1826.77 673.708 1825.52 671.393 Q1823.53 667.735 1820.13 667.735 Q1816.59 667.735 1814.71 671.347 Q1813.23 674.263 1812.79 680.282 L1827.42 680.282 M1820.13 664.263 Q1825.68 664.263 1828.85 669.171 Q1832.03 674.055 1832.03 682.712 Q1832.03 691.346 1828.85 696.254 Q1825.68 701.184 1820.13 701.184 Q1814.55 701.184 1811.4 696.254 Q1808.23 691.346 1808.23 682.712 Q1808.23 674.055 1811.4 669.171 Q1814.55 664.263 1820.13 664.263 Z\" fill=\"#000000\" fill-rule=\"evenodd\" fill-opacity=\"1\" /><path clip-path=\"url(#clip680)\" d=\"M1864.39 664.68 Q1861.28 670.004 1859.78 675.212 Q1858.28 680.421 1858.28 685.768 Q1858.28 691.115 1859.78 696.37 Q1861.31 701.601 1864.39 706.902 L1860.68 706.902 Q1857.21 701.462 1855.47 696.208 Q1853.76 690.953 1853.76 685.768 Q1853.76 680.606 1855.47 675.374 Q1857.19 670.143 1860.68 664.68 L1864.39 664.68 Z\" fill=\"#000000\" fill-rule=\"evenodd\" fill-opacity=\"1\" /><path clip-path=\"url(#clip680)\" d=\"M1882.7 677.712 Q1879.27 677.712 1877.28 680.397 Q1875.29 683.059 1875.29 687.712 Q1875.29 692.365 1877.26 695.05 Q1879.25 697.712 1882.7 697.712 Q1886.1 697.712 1888.09 695.027 Q1890.08 692.342 1890.08 687.712 Q1890.08 683.106 1888.09 680.421 Q1886.1 677.712 1882.7 677.712 M1882.7 674.101 Q1888.25 674.101 1891.42 677.712 Q1894.59 681.323 1894.59 687.712 Q1894.59 694.078 1891.42 697.712 Q1888.25 701.323 1882.7 701.323 Q1877.12 701.323 1873.95 697.712 Q1870.8 694.078 1870.8 687.712 Q1870.8 681.323 1873.95 677.712 Q1877.12 674.101 1882.7 674.101 Z\" fill=\"#000000\" fill-rule=\"evenodd\" fill-opacity=\"1\" /><path clip-path=\"url(#clip680)\" d=\"M1918.71 687.388 Q1918.71 682.759 1916.79 680.212 Q1914.9 677.666 1911.45 677.666 Q1908.02 677.666 1906.1 680.212 Q1904.2 682.759 1904.2 687.388 Q1904.2 691.995 1906.1 694.541 Q1908.02 697.087 1911.45 697.087 Q1914.9 697.087 1916.79 694.541 Q1918.71 691.995 1918.71 687.388 M1922.97 697.434 Q1922.97 704.055 1920.03 707.272 Q1917.09 710.513 1911.03 710.513 Q1908.78 710.513 1906.79 710.166 Q1904.8 709.842 1902.93 709.147 L1902.93 705.004 Q1904.8 706.022 1906.63 706.508 Q1908.46 706.995 1910.36 706.995 Q1914.55 706.995 1916.63 704.795 Q1918.71 702.62 1918.71 698.198 L1918.71 696.092 Q1917.4 698.383 1915.33 699.518 Q1913.27 700.652 1910.4 700.652 Q1905.64 700.652 1902.72 697.018 Q1899.8 693.383 1899.8 687.388 Q1899.8 681.37 1902.72 677.735 Q1905.64 674.101 1910.4 674.101 Q1913.27 674.101 1915.33 675.235 Q1917.4 676.37 1918.71 678.661 L1918.71 674.726 L1922.97 674.726 L1922.97 697.434 Z\" fill=\"#000000\" fill-rule=\"evenodd\" fill-opacity=\"1\" /><path clip-path=\"url(#clip680)\" d=\"M1963.88 678.661 L1963.88 664.634 L1968.14 664.634 L1968.14 700.652 L1963.88 700.652 L1963.88 696.763 Q1962.53 699.078 1960.47 700.212 Q1958.44 701.323 1955.57 701.323 Q1950.87 701.323 1947.9 697.573 Q1944.96 693.823 1944.96 687.712 Q1944.96 681.601 1947.9 677.851 Q1950.87 674.101 1955.57 674.101 Q1958.44 674.101 1960.47 675.235 Q1962.53 676.347 1963.88 678.661 M1949.36 687.712 Q1949.36 692.411 1951.28 695.096 Q1953.23 697.758 1956.61 697.758 Q1959.99 697.758 1961.93 695.096 Q1963.88 692.411 1963.88 687.712 Q1963.88 683.013 1961.93 680.351 Q1959.99 677.666 1956.61 677.666 Q1953.23 677.666 1951.28 680.351 Q1949.36 683.013 1949.36 687.712 Z\" fill=\"#000000\" fill-rule=\"evenodd\" fill-opacity=\"1\" /><path clip-path=\"url(#clip680)\" d=\"M1987.7 703.059 Q1985.89 707.689 1984.18 709.101 Q1982.46 710.513 1979.59 710.513 L1976.19 710.513 L1976.19 706.948 L1978.69 706.948 Q1980.45 706.948 1981.42 706.115 Q1982.39 705.282 1983.58 702.18 L1984.34 700.235 L1973.85 674.726 L1978.37 674.726 L1986.47 695.004 L1994.57 674.726 L1999.08 674.726 L1987.7 703.059 Z\" fill=\"#000000\" fill-rule=\"evenodd\" fill-opacity=\"1\" /><path clip-path=\"url(#clip680)\" d=\"M2026.51 685.004 L2026.51 700.652 L2022.26 700.652 L2022.26 685.143 Q2022.26 681.462 2020.82 679.634 Q2019.39 677.805 2016.52 677.805 Q2013.07 677.805 2011.08 680.004 Q2009.08 682.203 2009.08 685.999 L2009.08 700.652 L2004.8 700.652 L2004.8 674.726 L2009.08 674.726 L2009.08 678.754 Q2010.61 676.416 2012.67 675.259 Q2014.76 674.101 2017.46 674.101 Q2021.93 674.101 2024.22 676.879 Q2026.51 679.634 2026.51 685.004 Z\" fill=\"#000000\" fill-rule=\"evenodd\" fill-opacity=\"1\" /><path clip-path=\"url(#clip680)\" d=\"M2046.79 687.62 Q2041.63 687.62 2039.64 688.8 Q2037.65 689.981 2037.65 692.828 Q2037.65 695.096 2039.13 696.439 Q2040.64 697.758 2043.2 697.758 Q2046.75 697.758 2048.88 695.258 Q2051.03 692.735 2051.03 688.569 L2051.03 687.62 L2046.79 687.62 M2055.29 685.86 L2055.29 700.652 L2051.03 700.652 L2051.03 696.717 Q2049.57 699.078 2047.39 700.212 Q2045.22 701.323 2042.07 701.323 Q2038.09 701.323 2035.73 699.101 Q2033.39 696.856 2033.39 693.106 Q2033.39 688.731 2036.31 686.509 Q2039.25 684.286 2045.06 684.286 L2051.03 684.286 L2051.03 683.87 Q2051.03 680.93 2049.08 679.333 Q2047.16 677.712 2043.67 677.712 Q2041.45 677.712 2039.34 678.245 Q2037.23 678.777 2035.29 679.842 L2035.29 675.907 Q2037.63 675.004 2039.83 674.564 Q2042.02 674.101 2044.11 674.101 Q2049.73 674.101 2052.51 677.018 Q2055.29 679.934 2055.29 685.86 Z\" fill=\"#000000\" fill-rule=\"evenodd\" fill-opacity=\"1\" /><path clip-path=\"url(#clip680)\" d=\"M2084.25 679.703 Q2085.84 676.833 2088.07 675.467 Q2090.29 674.101 2093.3 674.101 Q2097.35 674.101 2099.55 676.948 Q2101.75 679.772 2101.75 685.004 L2101.75 700.652 L2097.46 700.652 L2097.46 685.143 Q2097.46 681.416 2096.14 679.61 Q2094.82 677.805 2092.12 677.805 Q2088.81 677.805 2086.88 680.004 Q2084.96 682.203 2084.96 685.999 L2084.96 700.652 L2080.68 700.652 L2080.68 685.143 Q2080.68 681.393 2079.36 679.61 Q2078.04 677.805 2075.29 677.805 Q2072.02 677.805 2070.1 680.027 Q2068.18 682.226 2068.18 685.999 L2068.18 700.652 L2063.9 700.652 L2063.9 674.726 L2068.18 674.726 L2068.18 678.754 Q2069.64 676.37 2071.68 675.235 Q2073.71 674.101 2076.51 674.101 Q2079.34 674.101 2081.31 675.536 Q2083.3 676.972 2084.25 679.703 Z\" fill=\"#000000\" fill-rule=\"evenodd\" fill-opacity=\"1\" /><path clip-path=\"url(#clip680)\" d=\"M2110.24 674.726 L2114.5 674.726 L2114.5 700.652 L2110.24 700.652 L2110.24 674.726 M2110.24 664.634 L2114.5 664.634 L2114.5 670.027 L2110.24 670.027 L2110.24 664.634 Z\" fill=\"#000000\" fill-rule=\"evenodd\" fill-opacity=\"1\" /><path clip-path=\"url(#clip680)\" d=\"M2142.07 675.722 L2142.07 679.703 Q2140.26 678.708 2138.44 678.222 Q2136.63 677.712 2134.78 677.712 Q2130.63 677.712 2128.34 680.351 Q2126.05 682.967 2126.05 687.712 Q2126.05 692.458 2128.34 695.096 Q2130.63 697.712 2134.78 697.712 Q2136.63 697.712 2138.44 697.226 Q2140.26 696.717 2142.07 695.721 L2142.07 699.657 Q2140.29 700.49 2138.37 700.907 Q2136.47 701.323 2134.32 701.323 Q2128.46 701.323 2125.01 697.643 Q2121.56 693.962 2121.56 687.712 Q2121.56 681.37 2125.03 677.735 Q2128.53 674.101 2134.59 674.101 Q2136.56 674.101 2138.44 674.518 Q2140.31 674.911 2142.07 675.722 Z\" fill=\"#000000\" fill-rule=\"evenodd\" fill-opacity=\"1\" /><path clip-path=\"url(#clip680)\" d=\"M2166 675.49 L2166 679.518 Q2164.2 678.592 2162.25 678.129 Q2160.31 677.666 2158.23 677.666 Q2155.06 677.666 2153.46 678.638 Q2151.88 679.61 2151.88 681.555 Q2151.88 683.036 2153.02 683.893 Q2154.15 684.726 2157.58 685.49 L2159.04 685.814 Q2163.57 686.786 2165.47 688.569 Q2167.39 690.328 2167.39 693.499 Q2167.39 697.11 2164.52 699.217 Q2161.68 701.323 2156.68 701.323 Q2154.59 701.323 2152.32 700.907 Q2150.08 700.513 2147.58 699.703 L2147.58 695.305 Q2149.94 696.532 2152.23 697.157 Q2154.52 697.758 2156.77 697.758 Q2159.78 697.758 2161.4 696.74 Q2163.02 695.698 2163.02 693.823 Q2163.02 692.087 2161.84 691.161 Q2160.68 690.235 2156.72 689.379 L2155.24 689.032 Q2151.28 688.198 2149.52 686.485 Q2147.76 684.749 2147.76 681.74 Q2147.76 678.083 2150.36 676.092 Q2152.95 674.101 2157.72 674.101 Q2160.08 674.101 2162.16 674.448 Q2164.25 674.796 2166 675.49 Z\" fill=\"#000000\" fill-rule=\"evenodd\" fill-opacity=\"1\" /><path clip-path=\"url(#clip680)\" d=\"M2173.5 664.68 L2177.21 664.68 Q2180.68 670.143 2182.39 675.374 Q2184.13 680.606 2184.13 685.768 Q2184.13 690.953 2182.39 696.208 Q2180.68 701.462 2177.21 706.902 L2173.5 706.902 Q2176.58 701.601 2178.09 696.37 Q2179.62 691.115 2179.62 685.768 Q2179.62 680.421 2178.09 675.212 Q2176.58 670.004 2173.5 664.68 Z\" fill=\"#000000\" fill-rule=\"evenodd\" fill-opacity=\"1\" /><polyline clip-path=\"url(#clip680)\" style=\"stroke:#009af9; stroke-linecap:butt; stroke-linejoin:round; stroke-width:4; stroke-opacity:1; fill:none\" points=\"\n  1638.78,735.212 1784.02,735.212 \n  \"/>\n<path clip-path=\"url(#clip680)\" d=\"M1832.88 726.566 L1823.51 739.182 L1833.37 752.492 L1828.34 752.492 L1820.8 742.307 L1813.25 752.492 L1808.23 752.492 L1818.3 738.927 L1809.09 726.566 L1814.11 726.566 L1820.98 735.802 L1827.86 726.566 L1832.88 726.566 Z\" fill=\"#000000\" fill-rule=\"evenodd\" fill-opacity=\"1\" /><path clip-path=\"url(#clip680)\" d=\"M1864.69 716.52 Q1861.59 721.844 1860.08 727.052 Q1858.58 732.261 1858.58 737.608 Q1858.58 742.955 1860.08 748.21 Q1861.61 753.441 1864.69 758.742 L1860.98 758.742 Q1857.51 753.302 1855.78 748.048 Q1854.06 742.793 1854.06 737.608 Q1854.06 732.446 1855.78 727.214 Q1857.49 721.983 1860.98 716.52 L1864.69 716.52 Z\" fill=\"#000000\" fill-rule=\"evenodd\" fill-opacity=\"1\" /><path clip-path=\"url(#clip680)\" d=\"M1894.5 736.844 L1894.5 752.492 L1890.24 752.492 L1890.24 736.983 Q1890.24 733.302 1888.81 731.474 Q1887.37 729.645 1884.5 729.645 Q1881.05 729.645 1879.06 731.844 Q1877.07 734.043 1877.07 737.839 L1877.07 752.492 L1872.79 752.492 L1872.79 726.566 L1877.07 726.566 L1877.07 730.594 Q1878.6 728.256 1880.66 727.099 Q1882.74 725.941 1885.45 725.941 Q1889.92 725.941 1892.21 728.719 Q1894.5 731.474 1894.5 736.844 Z\" fill=\"#000000\" fill-rule=\"evenodd\" fill-opacity=\"1\" /><path clip-path=\"url(#clip680)\" d=\"M1913.04 729.552 Q1909.62 729.552 1907.63 732.237 Q1905.64 734.899 1905.64 739.552 Q1905.64 744.205 1907.6 746.89 Q1909.59 749.552 1913.04 749.552 Q1916.45 749.552 1918.44 746.867 Q1920.43 744.182 1920.43 739.552 Q1920.43 734.946 1918.44 732.261 Q1916.45 729.552 1913.04 729.552 M1913.04 725.941 Q1918.6 725.941 1921.77 729.552 Q1924.94 733.163 1924.94 739.552 Q1924.94 745.918 1921.77 749.552 Q1918.6 753.163 1913.04 753.163 Q1907.46 753.163 1904.29 749.552 Q1901.15 745.918 1901.15 739.552 Q1901.15 733.163 1904.29 729.552 Q1907.46 725.941 1913.04 725.941 Z\" fill=\"#000000\" fill-rule=\"evenodd\" fill-opacity=\"1\" /><path clip-path=\"url(#clip680)\" d=\"M1952.19 731.543 Q1953.78 728.673 1956.01 727.307 Q1958.23 725.941 1961.24 725.941 Q1965.29 725.941 1967.49 728.788 Q1969.69 731.612 1969.69 736.844 L1969.69 752.492 L1965.4 752.492 L1965.4 736.983 Q1965.4 733.256 1964.08 731.45 Q1962.77 729.645 1960.06 729.645 Q1956.75 729.645 1954.83 731.844 Q1952.9 734.043 1952.9 737.839 L1952.9 752.492 L1948.62 752.492 L1948.62 736.983 Q1948.62 733.233 1947.3 731.45 Q1945.98 729.645 1943.23 729.645 Q1939.96 729.645 1938.04 731.867 Q1936.12 734.066 1936.12 737.839 L1936.12 752.492 L1931.84 752.492 L1931.84 726.566 L1936.12 726.566 L1936.12 730.594 Q1937.58 728.21 1939.62 727.075 Q1941.65 725.941 1944.46 725.941 Q1947.28 725.941 1949.25 727.376 Q1951.24 728.812 1952.19 731.543 Z\" fill=\"#000000\" fill-rule=\"evenodd\" fill-opacity=\"1\" /><path clip-path=\"url(#clip680)\" d=\"M1978.18 726.566 L1982.44 726.566 L1982.44 752.492 L1978.18 752.492 L1978.18 726.566 M1978.18 716.474 L1982.44 716.474 L1982.44 721.867 L1978.18 721.867 L1978.18 716.474 Z\" fill=\"#000000\" fill-rule=\"evenodd\" fill-opacity=\"1\" /><path clip-path=\"url(#clip680)\" d=\"M2012.9 736.844 L2012.9 752.492 L2008.64 752.492 L2008.64 736.983 Q2008.64 733.302 2007.21 731.474 Q2005.77 729.645 2002.9 729.645 Q1999.45 729.645 1997.46 731.844 Q1995.47 734.043 1995.47 737.839 L1995.47 752.492 L1991.19 752.492 L1991.19 726.566 L1995.47 726.566 L1995.47 730.594 Q1997 728.256 1999.06 727.099 Q2001.14 725.941 2003.85 725.941 Q2008.32 725.941 2010.61 728.719 Q2012.9 731.474 2012.9 736.844 Z\" fill=\"#000000\" fill-rule=\"evenodd\" fill-opacity=\"1\" /><path clip-path=\"url(#clip680)\" d=\"M2033.18 739.46 Q2028.02 739.46 2026.03 740.64 Q2024.04 741.821 2024.04 744.668 Q2024.04 746.936 2025.52 748.279 Q2027.02 749.598 2029.59 749.598 Q2033.14 749.598 2035.26 747.098 Q2037.42 744.575 2037.42 740.409 L2037.42 739.46 L2033.18 739.46 M2041.68 737.7 L2041.68 752.492 L2037.42 752.492 L2037.42 748.557 Q2035.96 750.918 2033.78 752.052 Q2031.61 753.163 2028.46 753.163 Q2024.48 753.163 2022.12 750.941 Q2019.78 748.696 2019.78 744.946 Q2019.78 740.571 2022.7 738.349 Q2025.64 736.126 2031.45 736.126 L2037.42 736.126 L2037.42 735.71 Q2037.42 732.77 2035.47 731.173 Q2033.55 729.552 2030.06 729.552 Q2027.83 729.552 2025.73 730.085 Q2023.62 730.617 2021.68 731.682 L2021.68 727.747 Q2024.01 726.844 2026.21 726.404 Q2028.41 725.941 2030.5 725.941 Q2036.12 725.941 2038.9 728.858 Q2041.68 731.774 2041.68 737.7 Z\" fill=\"#000000\" fill-rule=\"evenodd\" fill-opacity=\"1\" /><path clip-path=\"url(#clip680)\" d=\"M2050.45 716.474 L2054.71 716.474 L2054.71 752.492 L2050.45 752.492 L2050.45 716.474 Z\" fill=\"#000000\" fill-rule=\"evenodd\" fill-opacity=\"1\" /><path clip-path=\"url(#clip680)\" d=\"M2100.87 738.464 L2100.87 740.548 L2081.28 740.548 Q2081.56 744.946 2083.92 747.261 Q2086.31 749.552 2090.54 749.552 Q2093 749.552 2095.29 748.95 Q2097.6 748.348 2099.87 747.145 L2099.87 751.173 Q2097.58 752.145 2095.17 752.654 Q2092.76 753.163 2090.29 753.163 Q2084.08 753.163 2080.45 749.552 Q2076.84 745.941 2076.84 739.784 Q2076.84 733.418 2080.26 729.691 Q2083.71 725.941 2089.55 725.941 Q2094.78 725.941 2097.81 729.321 Q2100.87 732.677 2100.87 738.464 M2096.61 737.214 Q2096.56 733.719 2094.64 731.636 Q2092.74 729.552 2089.59 729.552 Q2086.03 729.552 2083.88 731.566 Q2081.75 733.58 2081.42 737.237 L2096.61 737.214 Z\" fill=\"#000000\" fill-rule=\"evenodd\" fill-opacity=\"1\" /><path clip-path=\"url(#clip680)\" d=\"M2112.72 721.775 L2112.72 748.649 L2118.37 748.649 Q2125.52 748.649 2128.83 745.409 Q2132.16 742.168 2132.16 735.177 Q2132.16 728.233 2128.83 725.015 Q2125.52 721.775 2118.37 721.775 L2112.72 721.775 M2108.04 717.932 L2117.65 717.932 Q2127.69 717.932 2132.39 722.122 Q2137.09 726.288 2137.09 735.177 Q2137.09 744.112 2132.37 748.302 Q2127.65 752.492 2117.65 752.492 L2108.04 752.492 L2108.04 717.932 Z\" fill=\"#000000\" fill-rule=\"evenodd\" fill-opacity=\"1\" /><path clip-path=\"url(#clip680)\" d=\"M2144.55 717.932 L2151.51 717.932 L2160.33 741.45 L2169.2 717.932 L2176.17 717.932 L2176.17 752.492 L2171.61 752.492 L2171.61 722.145 L2162.69 745.848 L2158 745.848 L2149.08 722.145 L2149.08 752.492 L2144.55 752.492 L2144.55 717.932 Z\" fill=\"#000000\" fill-rule=\"evenodd\" fill-opacity=\"1\" /><path clip-path=\"url(#clip680)\" d=\"M2190.13 721.775 L2190.13 748.649 L2195.77 748.649 Q2202.93 748.649 2206.24 745.409 Q2209.57 742.168 2209.57 735.177 Q2209.57 728.233 2206.24 725.015 Q2202.93 721.775 2195.77 721.775 L2190.13 721.775 M2185.45 717.932 L2195.06 717.932 Q2205.1 717.932 2209.8 722.122 Q2214.5 726.288 2214.5 735.177 Q2214.5 744.112 2209.78 748.302 Q2205.06 752.492 2195.06 752.492 L2185.45 752.492 L2185.45 717.932 Z\" fill=\"#000000\" fill-rule=\"evenodd\" fill-opacity=\"1\" /><path clip-path=\"url(#clip680)\" d=\"M2221.1 716.52 L2224.8 716.52 Q2228.27 721.983 2229.99 727.214 Q2231.72 732.446 2231.72 737.608 Q2231.72 742.793 2229.99 748.048 Q2228.27 753.302 2224.8 758.742 L2221.1 758.742 Q2224.18 753.441 2225.68 748.21 Q2227.21 742.955 2227.21 737.608 Q2227.21 732.261 2225.68 727.052 Q2224.18 721.844 2221.1 716.52 Z\" fill=\"#000000\" fill-rule=\"evenodd\" fill-opacity=\"1\" /><polyline clip-path=\"url(#clip680)\" style=\"stroke:#e26f46; stroke-linecap:butt; stroke-linejoin:round; stroke-width:4; stroke-opacity:1; fill:none\" points=\"\n  1638.78,787.052 1784.02,787.052 \n  \"/>\n<path clip-path=\"url(#clip680)\" d=\"M1827.49 787.897 L1812.74 787.897 Q1813.09 794.818 1814.69 797.758 Q1816.68 801.369 1820.13 801.369 Q1823.6 801.369 1825.52 797.735 Q1827.21 794.54 1827.49 787.897 M1827.42 783.962 Q1826.77 777.388 1825.52 775.073 Q1823.53 771.415 1820.13 771.415 Q1816.59 771.415 1814.71 775.027 Q1813.23 777.943 1812.79 783.962 L1827.42 783.962 M1820.13 767.943 Q1825.68 767.943 1828.85 772.851 Q1832.03 777.735 1832.03 786.392 Q1832.03 795.026 1828.85 799.934 Q1825.68 804.864 1820.13 804.864 Q1814.55 804.864 1811.4 799.934 Q1808.23 795.026 1808.23 786.392 Q1808.23 777.735 1811.4 772.851 Q1814.55 767.943 1820.13 767.943 Z\" fill=\"#000000\" fill-rule=\"evenodd\" fill-opacity=\"1\" /><path clip-path=\"url(#clip680)\" d=\"M1864.39 768.36 Q1861.28 773.684 1859.78 778.892 Q1858.28 784.101 1858.28 789.448 Q1858.28 794.795 1859.78 800.05 Q1861.31 805.281 1864.39 810.582 L1860.68 810.582 Q1857.21 805.142 1855.47 799.888 Q1853.76 794.633 1853.76 789.448 Q1853.76 784.286 1855.47 779.054 Q1857.19 773.823 1860.68 768.36 L1864.39 768.36 Z\" fill=\"#000000\" fill-rule=\"evenodd\" fill-opacity=\"1\" /><path clip-path=\"url(#clip680)\" d=\"M1894.2 788.684 L1894.2 804.332 L1889.94 804.332 L1889.94 788.823 Q1889.94 785.142 1888.51 783.314 Q1887.07 781.485 1884.2 781.485 Q1880.75 781.485 1878.76 783.684 Q1876.77 785.883 1876.77 789.679 L1876.77 804.332 L1872.49 804.332 L1872.49 778.406 L1876.77 778.406 L1876.77 782.434 Q1878.3 780.096 1880.36 778.939 Q1882.44 777.781 1885.15 777.781 Q1889.62 777.781 1891.91 780.559 Q1894.2 783.314 1894.2 788.684 Z\" fill=\"#000000\" fill-rule=\"evenodd\" fill-opacity=\"1\" /><path clip-path=\"url(#clip680)\" d=\"M1912.74 781.392 Q1909.32 781.392 1907.33 784.077 Q1905.34 786.739 1905.34 791.392 Q1905.34 796.045 1907.3 798.73 Q1909.29 801.392 1912.74 801.392 Q1916.15 801.392 1918.14 798.707 Q1920.13 796.022 1920.13 791.392 Q1920.13 786.786 1918.14 784.101 Q1916.15 781.392 1912.74 781.392 M1912.74 777.781 Q1918.3 777.781 1921.47 781.392 Q1924.64 785.003 1924.64 791.392 Q1924.64 797.758 1921.47 801.392 Q1918.3 805.003 1912.74 805.003 Q1907.16 805.003 1903.99 801.392 Q1900.84 797.758 1900.84 791.392 Q1900.84 785.003 1903.99 781.392 Q1907.16 777.781 1912.74 777.781 Z\" fill=\"#000000\" fill-rule=\"evenodd\" fill-opacity=\"1\" /><path clip-path=\"url(#clip680)\" d=\"M1951.89 783.383 Q1953.48 780.513 1955.71 779.147 Q1957.93 777.781 1960.94 777.781 Q1964.99 777.781 1967.19 780.628 Q1969.39 783.452 1969.39 788.684 L1969.39 804.332 L1965.1 804.332 L1965.1 788.823 Q1965.1 785.096 1963.78 783.29 Q1962.46 781.485 1959.76 781.485 Q1956.45 781.485 1954.52 783.684 Q1952.6 785.883 1952.6 789.679 L1952.6 804.332 L1948.32 804.332 L1948.32 788.823 Q1948.32 785.073 1947 783.29 Q1945.68 781.485 1942.93 781.485 Q1939.66 781.485 1937.74 783.707 Q1935.82 785.906 1935.82 789.679 L1935.82 804.332 L1931.54 804.332 L1931.54 778.406 L1935.82 778.406 L1935.82 782.434 Q1937.28 780.05 1939.32 778.915 Q1941.35 777.781 1944.15 777.781 Q1946.98 777.781 1948.95 779.216 Q1950.94 780.652 1951.89 783.383 Z\" fill=\"#000000\" fill-rule=\"evenodd\" fill-opacity=\"1\" /><path clip-path=\"url(#clip680)\" d=\"M1977.88 778.406 L1982.14 778.406 L1982.14 804.332 L1977.88 804.332 L1977.88 778.406 M1977.88 768.314 L1982.14 768.314 L1982.14 773.707 L1977.88 773.707 L1977.88 768.314 Z\" fill=\"#000000\" fill-rule=\"evenodd\" fill-opacity=\"1\" /><path clip-path=\"url(#clip680)\" d=\"M2012.6 788.684 L2012.6 804.332 L2008.34 804.332 L2008.34 788.823 Q2008.34 785.142 2006.91 783.314 Q2005.47 781.485 2002.6 781.485 Q1999.15 781.485 1997.16 783.684 Q1995.17 785.883 1995.17 789.679 L1995.17 804.332 L1990.89 804.332 L1990.89 778.406 L1995.17 778.406 L1995.17 782.434 Q1996.7 780.096 1998.76 778.939 Q2000.84 777.781 2003.55 777.781 Q2008.02 777.781 2010.31 780.559 Q2012.6 783.314 2012.6 788.684 Z\" fill=\"#000000\" fill-rule=\"evenodd\" fill-opacity=\"1\" /><path clip-path=\"url(#clip680)\" d=\"M2032.88 791.3 Q2027.72 791.3 2025.73 792.48 Q2023.74 793.661 2023.74 796.508 Q2023.74 798.776 2025.22 800.119 Q2026.72 801.438 2029.29 801.438 Q2032.83 801.438 2034.96 798.938 Q2037.12 796.415 2037.12 792.249 L2037.12 791.3 L2032.88 791.3 M2041.38 789.54 L2041.38 804.332 L2037.12 804.332 L2037.12 800.397 Q2035.66 802.758 2033.48 803.892 Q2031.31 805.003 2028.16 805.003 Q2024.18 805.003 2021.82 802.781 Q2019.48 800.536 2019.48 796.786 Q2019.48 792.411 2022.39 790.189 Q2025.33 787.966 2031.14 787.966 L2037.12 787.966 L2037.12 787.55 Q2037.12 784.61 2035.17 783.013 Q2033.25 781.392 2029.76 781.392 Q2027.53 781.392 2025.43 781.925 Q2023.32 782.457 2021.38 783.522 L2021.38 779.587 Q2023.71 778.684 2025.91 778.244 Q2028.11 777.781 2030.2 777.781 Q2035.82 777.781 2038.6 780.698 Q2041.38 783.614 2041.38 789.54 Z\" fill=\"#000000\" fill-rule=\"evenodd\" fill-opacity=\"1\" /><path clip-path=\"url(#clip680)\" d=\"M2050.15 768.314 L2054.41 768.314 L2054.41 804.332 L2050.15 804.332 L2050.15 768.314 Z\" fill=\"#000000\" fill-rule=\"evenodd\" fill-opacity=\"1\" /><path clip-path=\"url(#clip680)\" d=\"M2100.57 790.304 L2100.57 792.388 L2080.98 792.388 Q2081.26 796.786 2083.62 799.101 Q2086.01 801.392 2090.24 801.392 Q2092.7 801.392 2094.99 800.79 Q2097.3 800.188 2099.57 798.985 L2099.57 803.013 Q2097.28 803.985 2094.87 804.494 Q2092.46 805.003 2089.99 805.003 Q2083.78 805.003 2080.15 801.392 Q2076.54 797.781 2076.54 791.624 Q2076.54 785.258 2079.96 781.531 Q2083.41 777.781 2089.25 777.781 Q2094.48 777.781 2097.51 781.161 Q2100.57 784.517 2100.57 790.304 M2096.31 789.054 Q2096.26 785.559 2094.34 783.476 Q2092.44 781.392 2089.29 781.392 Q2085.73 781.392 2083.57 783.406 Q2081.45 785.42 2081.12 789.077 L2096.31 789.054 Z\" fill=\"#000000\" fill-rule=\"evenodd\" fill-opacity=\"1\" /><path clip-path=\"url(#clip680)\" d=\"M2112.42 773.615 L2112.42 800.489 L2118.07 800.489 Q2125.22 800.489 2128.53 797.249 Q2131.86 794.008 2131.86 787.017 Q2131.86 780.073 2128.53 776.855 Q2125.22 773.615 2118.07 773.615 L2112.42 773.615 M2107.74 769.772 L2117.35 769.772 Q2127.39 769.772 2132.09 773.962 Q2136.79 778.128 2136.79 787.017 Q2136.79 795.952 2132.07 800.142 Q2127.35 804.332 2117.35 804.332 L2107.74 804.332 L2107.74 769.772 Z\" fill=\"#000000\" fill-rule=\"evenodd\" fill-opacity=\"1\" /><path clip-path=\"url(#clip680)\" d=\"M2144.25 769.772 L2151.21 769.772 L2160.03 793.29 L2168.9 769.772 L2175.87 769.772 L2175.87 804.332 L2171.31 804.332 L2171.31 773.985 L2162.39 797.688 L2157.69 797.688 L2148.78 773.985 L2148.78 804.332 L2144.25 804.332 L2144.25 769.772 Z\" fill=\"#000000\" fill-rule=\"evenodd\" fill-opacity=\"1\" /><path clip-path=\"url(#clip680)\" d=\"M2189.82 773.615 L2189.82 800.489 L2195.47 800.489 Q2202.63 800.489 2205.94 797.249 Q2209.27 794.008 2209.27 787.017 Q2209.27 780.073 2205.94 776.855 Q2202.63 773.615 2195.47 773.615 L2189.82 773.615 M2185.15 769.772 L2194.75 769.772 Q2204.8 769.772 2209.5 773.962 Q2214.2 778.128 2214.2 787.017 Q2214.2 795.952 2209.48 800.142 Q2204.75 804.332 2194.75 804.332 L2185.15 804.332 L2185.15 769.772 Z\" fill=\"#000000\" fill-rule=\"evenodd\" fill-opacity=\"1\" /><path clip-path=\"url(#clip680)\" d=\"M2220.8 768.36 L2224.5 768.36 Q2227.97 773.823 2229.69 779.054 Q2231.42 784.286 2231.42 789.448 Q2231.42 794.633 2229.69 799.888 Q2227.97 805.142 2224.5 810.582 L2220.8 810.582 Q2223.88 805.281 2225.38 800.05 Q2226.91 794.795 2226.91 789.448 Q2226.91 784.101 2225.38 778.892 Q2223.88 773.684 2220.8 768.36 Z\" fill=\"#000000\" fill-rule=\"evenodd\" fill-opacity=\"1\" /></svg>\n"
     },
     "execution_count": 25,
     "metadata": {},
     "output_type": "execute_result"
    }
   ],
   "source": [
    "# Simulate nominal model with LQR gain from bilinear model\n",
    "\n",
    "tf_sim = 3.0\n",
    "Tsim_lqr_nominal = range(0,tf_sim,step=dt)\n",
    "\n",
    "# x0 = [0,pi-deg2rad(1),0,0]\n",
    "x0 = [-0.4,pi-deg2rad(40),0,0]\n",
    "\n",
    "ctrl_lqr_og = LQRController(K_og, xe, ue)\n",
    "ctrl_lqr_nominal = LQRController(K_bil_nom, xe, ue)\n",
    "\n",
    "Xsim_lqr_og, = simulatewithcontroller(dmodel, ctrl_lqr_og, x0, tf_sim, dt)\n",
    "Xsim_lqr_nominal, = simulatewithcontroller(dmodel, ctrl_lqr_nominal, x0, tf_sim, dt)\n",
    "\n",
    "plotstates(Tsim_lqr_nominal, Xsim_lqr_og, inds=1:2, xlabel=\"time (s)\", ylabel=\"states\",\n",
    "            label=[\"x (og dynamics)\" \"θ (og dynamics)\"], legend=:right, lw=2,\n",
    "            linestyle=:dash, color=[1 2])\n",
    "plotstates!(Tsim_lqr_nominal, Xsim_lqr_nominal, inds=1:2, xlabel=\"time (s)\", ylabel=\"states\",\n",
    "            label=[\"x (nominal eDMD)\" \"θ (nominal eDMD)\"], legend=:right, lw=2,\n",
    "            color=[1 2])"
   ]
  },
  {
   "cell_type": "markdown",
   "metadata": {},
   "source": [
    "# Evaluate New eDMD Model with Penalties on Jacobians\n",
    "Here we incorporate derivative data by penalizing the difference of the Jacobian of the learned model from the expected Jacobians of the nominal model, e.g.:\n",
    "\n",
    "$$ \\sum_{j=1}^P || \\frac{\\partial}{\\partial x} G \\hat{f}(\\varphi(x_j), u_j) - A_j ||^2 $$\n",
    "\n",
    "where \n",
    "\n",
    "$$ \\hat{f}(y,u) = A y + B u + \\sum_{i=1}^m u_i C_i y $$\n",
    "\n",
    "are the learned bilinear dynamics."
   ]
  },
  {
   "cell_type": "code",
   "execution_count": 26,
   "metadata": {},
   "outputs": [],
   "source": [
    "# Generate Jacobians\n",
    "xn = zeros(n0)\n",
    "jacobians = map(CartesianIndices(U_train)) do cind\n",
    "    k = cind[1]\n",
    "    x = X_train[cind]\n",
    "    u = U_train[cind]\n",
    "    z = RD.KnotPoint{n0,m}(x,u,T_ref[k],dt)\n",
    "    J = zeros(n0,n0+m)\n",
    "    RD.jacobian!(\n",
    "        RD.InPlace(), RD.ForwardAD(), dmodel, J, xn, z \n",
    "    )\n",
    "    J\n",
    "end\n",
    "A_train = map(J->J[:,1:n0], jacobians)\n",
    "B_train = map(J->J[:,n0+1:end], jacobians)\n",
    "\n",
    "# Convert states to lifted Koopman states\n",
    "Y_train = map(kf, X_train)\n",
    "\n",
    "# Calculate Jacobian of Koopman transform\n",
    "F_train = map(@view X_train[1:end-1,:]) do x\n",
    "    sparse(ForwardDiff.jacobian(x->expandstate(model_bilinear,x), x))\n",
    "end;"
   ]
  },
  {
   "cell_type": "markdown",
   "metadata": {},
   "source": [
    "### Build Least-squares problem\n",
    "Find the eDMD data `A`, `B`, and `C` that minimize the following residual:\n",
    "\n",
    "$$\\sum_{j=1}^P (1-\\alpha)|| A y_j + B u_j + \\sum_{i=1}^m u_{j,i} C_i x_j - y_j^+ ||^2 + \n",
    "\\alpha || G (A + \\sum_{i=1}^m u_{j,i} C_j) F_j  - A_j ||^2 + \n",
    "\\alpha || G (B + [C_1 x_j \\dots C_m x_j]) - B_j ||^2  $$\n",
    "\n",
    "where $F_j = \\partial \\varphi(x_j) / \\partial x$.\n",
    "\n",
    "This is equivalent to \n",
    "\n",
    "$$ (1-\\alpha)|| E Z_{1:P} - Y_{1:P}^+ ||^2 + \n",
    "\\alpha || G E \\hat{A}_{1:P} - A_{1:P} ||^2 +\n",
    "\\alpha || G E \\hat{B}_{1:P} - B_{1:P} ||^2 $$\n",
    "\n",
    "where\n",
    "\n",
    "$$ E = \\begin{bmatrix} A & B & C_1 & \\dots & C_m \\end{bmatrix} \\in \\mathbb{R}^{n \\times p} $$\n",
    "$$ Z_j = \\begin{bmatrix} \n",
    "    x_j \\\\ u_j \\\\ u_{j,1} x_j \\\\ \\vdots \\\\ u_{j,m} x_j \n",
    "\\end{bmatrix} \\in \\mathbb{R}^{p}, \\quad\n",
    "\\hat{A}_j = \\begin{bmatrix} \n",
    "    I_n \\\\ 0_{m,n} \\\\ u_{j,1} I_n \\\\ \\vdots \\\\ u_{j,m} I_n \n",
    "\\end{bmatrix} \\in \\mathbb{R}^{p \\times n}, \\quad\n",
    "\\hat{B}_j = \\begin{bmatrix} \n",
    "    0_{n,m} \\\\ I_m \\\\ [x_j \\; 0 \\; \\dots \\; 0] \\\\ \\vdots \\\\ [0 \\; \\dots \\; 0 \\; x_j] \n",
    "\\end{bmatrix} \\in \\mathbb{R}^{p \\times m}\n",
    "$$\n",
    "\n",
    "which is equivalent to \n",
    "\n",
    "$$ \\left\\lVert \n",
    "\\begin{bmatrix} \n",
    "    Z_{1:P}^T \\otimes I_n \\\\\n",
    "    \\hat{A}_{1:P}^T \\otimes G \\\\\n",
    "    \\hat{B}_{1:P}^T \\otimes G \n",
    "\\end{bmatrix} \\text{vec}(E) - \n",
    "\\begin{bmatrix}\n",
    "    \\text{vec}{Y_{1:P}^+}\\\\\n",
    "    \\text{vec}{A_{1:P}^+}\\\\\n",
    "    \\text{vec}{B_{1:P}^+}\\\\\n",
    "\\end{bmatrix}\n",
    "\\right\\rVert^2 $$"
   ]
  },
  {
   "cell_type": "code",
   "execution_count": 27,
   "metadata": {},
   "outputs": [
    {
     "name": "stdout",
     "output_type": "stream",
     "text": [
      "Concatentating data\n",
      "Creating feature matrix\n",
      "Creating state Jacobian matrix\n",
      "Creating control Jacobian matrix\n",
      "Creating least-squares data\n"
     ]
    }
   ],
   "source": [
    "# Create a sparse version of the G Jacobian\n",
    "G = spdiagm(n0,n,1=>ones(n0)) \n",
    "@test norm(G - model_bilinear.g) < 1e-8\n",
    "\n",
    "# Build Least Squares Problem\n",
    "W,s = BilinearControl.EDMD.build_edmd_data(\n",
    "    Z_train, U_train, A_train, B_train, F_train, model_bilinear.g\n",
    ");"
   ]
  },
  {
   "cell_type": "markdown",
   "metadata": {},
   "source": [
    "### Solve the Least-squares Problem"
   ]
  },
  {
   "cell_type": "code",
   "execution_count": 28,
   "metadata": {},
   "outputs": [
    {
     "name": "stdout",
     "output_type": "stream",
     "text": [
      " 11.477233 seconds (451.15 k allocations: 1.349 GiB, 3.16% gc time, 0.84% compilation time)\n",
      " 52.127978 seconds (623 allocations: 27.529 GiB, 1.55% gc time, 0.02% compilation time)\n",
      "  1.857413 seconds (33 allocations: 34.782 MiB, 0.46% gc time, 0.15% compilation time)\n"
     ]
    },
    {
     "data": {
      "text/plain": [
       "13671.16757513551"
      ]
     },
     "execution_count": 28,
     "metadata": {},
     "output_type": "execute_result"
    }
   ],
   "source": [
    "@time Wsparse = sparse(W)\n",
    "@time F = qr(Wsparse)\n",
    "@time x = F \\ s\n",
    "norm(W*x - s)"
   ]
  },
  {
   "cell_type": "code",
   "execution_count": 29,
   "metadata": {},
   "outputs": [
    {
     "data": {
      "text/plain": [
       "0.1292593635595607"
      ]
     },
     "execution_count": 29,
     "metadata": {},
     "output_type": "execute_result"
    }
   ],
   "source": [
    "BilinearControl.matdensity(Wsparse)"
   ]
  },
  {
   "cell_type": "code",
   "execution_count": 30,
   "metadata": {},
   "outputs": [],
   "source": [
    "# Extract out bilinear dynamics\n",
    "n = length(Z_train[1])\n",
    "E = reshape(x,n,:)\n",
    "A = E[:,1:n]\n",
    "B = E[:,n .+ (1:m)]\n",
    "C = E[:,n+m .+ (1:n*m)]\n",
    "\n",
    "C_list = Matrix{Float64}[]\n",
    "    \n",
    "for i in 1:m\n",
    "    C_i = C[:, (i-1)*n+1:i*n]\n",
    "    push!(C_list, C_i)\n",
    "end\n",
    "\n",
    "return A, B, C_list, Matrix(g)\n",
    "\n",
    "C = C_list;"
   ]
  },
  {
   "cell_type": "code",
   "execution_count": 31,
   "metadata": {},
   "outputs": [],
   "source": [
    "# Save data\n",
    "jldsave(joinpath(Problems.DATADIR,\"cartpole_lqr_jacobian_penalized_eDMD_data.jld2\"); A, B, C, g, kf, eigfuns, eigorders, tf, dt)"
   ]
  },
  {
   "cell_type": "markdown",
   "metadata": {},
   "source": [
    "# Import New Model"
   ]
  },
  {
   "cell_type": "code",
   "execution_count": 32,
   "metadata": {},
   "outputs": [],
   "source": [
    "cartpole_data = load(joinpath(Problems.DATADIR, \"cartpole_lqr_jacobian_penalized_eDMD_data.jld2\"))\n",
    "A_jacpen = cartpole_data[\"A\"]\n",
    "B_jacpen = cartpole_data[\"B\"]\n",
    "C_jacpen = cartpole_data[\"C\"]\n",
    "g_jacpen = cartpole_data[\"g\"]\n",
    "kf = cartpole_data[\"kf\"]\n",
    "tf = cartpole_data[\"tf\"]\n",
    "dt = cartpole_data[\"dt\"]\n",
    "\n",
    "T_ref = range(0,tf,step=dt);"
   ]
  },
  {
   "cell_type": "markdown",
   "metadata": {},
   "source": [
    "# Evaluate the New Fit"
   ]
  },
  {
   "cell_type": "code",
   "execution_count": 33,
   "metadata": {},
   "outputs": [
    {
     "name": "stdout",
     "output_type": "stream",
     "text": [
      "Train Error: 0.0034957043768757694\n",
      "Test Error:  0.008698930470642706\n",
      "\n",
      "New Train Error: 0.0062163136534720545\n",
      "New Test Error:  0.006365613094846368\n"
     ]
    }
   ],
   "source": [
    "# Evaluate the Fit\n",
    "err_train2 = BilinearControl.EDMD.fiterror(A_jacpen, B_jacpen, C_jacpen, g_jacpen, kf, X_train, U_train)\n",
    "err_test2 = BilinearControl.EDMD.fiterror(A_jacpen, B_jacpen, C_jacpen, g_jacpen, kf, X_test, U_test)\n",
    "println(\"Train Error: \", err_train)\n",
    "println(\"Test Error:  \", err_test)\n",
    "println(\"\")\n",
    "println(\"New Train Error: \", err_train2)\n",
    "println(\"New Test Error:  \", err_test2)"
   ]
  },
  {
   "cell_type": "code",
   "execution_count": 34,
   "metadata": {},
   "outputs": [],
   "source": [
    "model_bilinear_jacpen = EDMDModel(A_jacpen, B_jacpen, C_jacpen, g_jacpen, kf, dt, \"cartpole\")\n",
    "n,m = RD.dims(model_bilinear_jacpen)\n",
    "n0 = originalstatedim(model_bilinear_jacpen);"
   ]
  },
  {
   "cell_type": "code",
   "execution_count": 35,
   "metadata": {},
   "outputs": [],
   "source": [
    "# Get A,B for new system\n",
    "function dynamics_bilinear_jacpen(x,u,t,dt)\n",
    "    y = expandstate(model_bilinear_jacpen, x)\n",
    "    yn = zero(y)\n",
    "    RD.discrete_dynamics!(model_bilinear_jacpen, yn, y, u, t, dt)\n",
    "    originalstate(model_bilinear_jacpen, yn)\n",
    "end\n",
    "\n",
    "A_bil_jacpen = FiniteDiff.finite_difference_jacobian(x->dynamics_bilinear_jacpen(x,ue,0.0,dt), xe)\n",
    "B_bil_jacpen = FiniteDiff.finite_difference_jacobian(u->dynamics_bilinear_jacpen(xe,u,0.0,dt), ue);"
   ]
  },
  {
   "cell_type": "markdown",
   "metadata": {},
   "source": [
    "**Compare the Jacobians with Nominal model**"
   ]
  },
  {
   "cell_type": "code",
   "execution_count": 36,
   "metadata": {},
   "outputs": [
    {
     "data": {
      "text/plain": [
       "4×4 Matrix{Float64}:\n",
       " 1.0  0.000392055   0.019998     -1.38375e-6\n",
       " 0.0  1.0047       -3.99648e-6    0.0199834\n",
       " 0.0  0.0392035     0.9998       -7.57316e-6\n",
       " 0.0  0.470481     -0.000399628   0.999909"
      ]
     },
     "execution_count": 36,
     "metadata": {},
     "output_type": "execute_result"
    }
   ],
   "source": [
    "A_og"
   ]
  },
  {
   "cell_type": "code",
   "execution_count": 37,
   "metadata": {},
   "outputs": [
    {
     "data": {
      "text/plain": [
       "4×4 Matrix{Float64}:\n",
       " 1.0          0.000384806   0.0199987   -1.10295e-6\n",
       " 2.47359e-6   1.0047       -1.3113e-6    0.0199848\n",
       " 7.52507e-5   0.0386225     0.999888     3.14119e-5\n",
       " 0.000321389  0.470412     -3.24245e-5   1.00011"
      ]
     },
     "execution_count": 37,
     "metadata": {},
     "output_type": "execute_result"
    }
   ],
   "source": [
    "A_bil_jacpen"
   ]
  },
  {
   "cell_type": "code",
   "execution_count": 38,
   "metadata": {},
   "outputs": [
    {
     "data": {
      "text/plain": [
       "4×1 Matrix{Float64}:\n",
       " 0.00019995956333333334\n",
       " 0.00039964806000000004\n",
       " 0.01999523290316667\n",
       " 0.03996279079433334"
      ]
     },
     "execution_count": 38,
     "metadata": {},
     "output_type": "execute_result"
    }
   ],
   "source": [
    "B_og"
   ]
  },
  {
   "cell_type": "code",
   "execution_count": 39,
   "metadata": {},
   "outputs": [
    {
     "data": {
      "text/plain": [
       "4×1 Matrix{Float64}:\n",
       " 0.00019874977174083597\n",
       " 0.0004000663757324219\n",
       " 0.0198978412249744\n",
       " 0.04012235753089044"
      ]
     },
     "execution_count": 39,
     "metadata": {},
     "output_type": "execute_result"
    }
   ],
   "source": [
    "B_bil_jacpen"
   ]
  },
  {
   "cell_type": "markdown",
   "metadata": {},
   "source": [
    "# Try Stabilizing New Model using LQR"
   ]
  },
  {
   "cell_type": "code",
   "execution_count": 40,
   "metadata": {},
   "outputs": [],
   "source": [
    "K_bil_jacpen = dlqr(A_bil_jacpen, B_bil_jacpen, Qlqr, Rlqr);"
   ]
  },
  {
   "cell_type": "code",
   "execution_count": 41,
   "metadata": {},
   "outputs": [
    {
     "name": "stdout",
     "output_type": "stream",
     "text": [
      "Stability Summary:\n",
      "  Dynamics  |  Controller  |  is stable? \n",
      "------------|--------------|--------------\n",
      "  Nominal   |  Nominal     |  true\n",
      "  Bilinear  |  Bilinear    |  true\n",
      "  Nominal   |  Bilinear    |  true\n"
     ]
    }
   ],
   "source": [
    "# Evaluate stability\n",
    "isstable_bilinear2 = maximum(abs.(eigvals(A_bil_jacpen - B_bil_jacpen*K_bil_jacpen))) < 1.0\n",
    "isstable_nominal_with_bilinear2 = maximum(abs.(eigvals(A_og - B_og*K_bil_jacpen))) < 1.0\n",
    "\n",
    "println(\"Stability Summary:\")\n",
    "println(\"  Dynamics  |  Controller  |  is stable? \")\n",
    "println(\"------------|--------------|--------------\")\n",
    "println(\"  Nominal   |  Nominal     |  \", isstable_nominal)\n",
    "println(\"  Bilinear  |  Bilinear    |  \", isstable_bilinear2)\n",
    "println(\"  Nominal   |  Bilinear    |  \", isstable_nominal_with_bilinear2)"
   ]
  },
  {
   "cell_type": "code",
   "execution_count": 42,
   "metadata": {},
   "outputs": [
    {
     "data": {
      "image/svg+xml": "<?xml version=\"1.0\" encoding=\"utf-8\"?>\n<svg xmlns=\"http://www.w3.org/2000/svg\" xmlns:xlink=\"http://www.w3.org/1999/xlink\" width=\"600\" height=\"400\" viewBox=\"0 0 2400 1600\">\n<defs>\n  <clipPath id=\"clip720\">\n    <rect x=\"0\" y=\"0\" width=\"2400\" height=\"1600\"/>\n  </clipPath>\n</defs>\n<path clip-path=\"url(#clip720)\" d=\"\nM0 1600 L2400 1600 L2400 0 L0 0  Z\n  \" fill=\"#ffffff\" fill-rule=\"evenodd\" fill-opacity=\"1\"/>\n<defs>\n  <clipPath id=\"clip721\">\n    <rect x=\"480\" y=\"0\" width=\"1681\" height=\"1600\"/>\n  </clipPath>\n</defs>\n<path clip-path=\"url(#clip720)\" d=\"\nM174.149 1423.18 L2352.76 1423.18 L2352.76 47.2441 L174.149 47.2441  Z\n  \" fill=\"#ffffff\" fill-rule=\"evenodd\" fill-opacity=\"1\"/>\n<defs>\n  <clipPath id=\"clip722\">\n    <rect x=\"174\" y=\"47\" width=\"2180\" height=\"1377\"/>\n  </clipPath>\n</defs>\n<polyline clip-path=\"url(#clip722)\" style=\"stroke:#000000; stroke-linecap:butt; stroke-linejoin:round; stroke-width:2; stroke-opacity:0.1; fill:none\" points=\"\n  235.808,1423.18 235.808,47.2441 \n  \"/>\n<polyline clip-path=\"url(#clip722)\" style=\"stroke:#000000; stroke-linecap:butt; stroke-linejoin:round; stroke-width:2; stroke-opacity:0.1; fill:none\" points=\"\n  920.904,1423.18 920.904,47.2441 \n  \"/>\n<polyline clip-path=\"url(#clip722)\" style=\"stroke:#000000; stroke-linecap:butt; stroke-linejoin:round; stroke-width:2; stroke-opacity:0.1; fill:none\" points=\"\n  1606,1423.18 1606,47.2441 \n  \"/>\n<polyline clip-path=\"url(#clip722)\" style=\"stroke:#000000; stroke-linecap:butt; stroke-linejoin:round; stroke-width:2; stroke-opacity:0.1; fill:none\" points=\"\n  2291.1,1423.18 2291.1,47.2441 \n  \"/>\n<polyline clip-path=\"url(#clip720)\" style=\"stroke:#000000; stroke-linecap:butt; stroke-linejoin:round; stroke-width:4; stroke-opacity:1; fill:none\" points=\"\n  174.149,1423.18 2352.76,1423.18 \n  \"/>\n<polyline clip-path=\"url(#clip720)\" style=\"stroke:#000000; stroke-linecap:butt; stroke-linejoin:round; stroke-width:4; stroke-opacity:1; fill:none\" points=\"\n  235.808,1423.18 235.808,1404.28 \n  \"/>\n<polyline clip-path=\"url(#clip720)\" style=\"stroke:#000000; stroke-linecap:butt; stroke-linejoin:round; stroke-width:4; stroke-opacity:1; fill:none\" points=\"\n  920.904,1423.18 920.904,1404.28 \n  \"/>\n<polyline clip-path=\"url(#clip720)\" style=\"stroke:#000000; stroke-linecap:butt; stroke-linejoin:round; stroke-width:4; stroke-opacity:1; fill:none\" points=\"\n  1606,1423.18 1606,1404.28 \n  \"/>\n<polyline clip-path=\"url(#clip720)\" style=\"stroke:#000000; stroke-linecap:butt; stroke-linejoin:round; stroke-width:4; stroke-opacity:1; fill:none\" points=\"\n  2291.1,1423.18 2291.1,1404.28 \n  \"/>\n<path clip-path=\"url(#clip720)\" d=\"M235.808 1454.1 Q232.197 1454.1 230.368 1457.66 Q228.562 1461.2 228.562 1468.33 Q228.562 1475.44 230.368 1479.01 Q232.197 1482.55 235.808 1482.55 Q239.442 1482.55 241.247 1479.01 Q243.076 1475.44 243.076 1468.33 Q243.076 1461.2 241.247 1457.66 Q239.442 1454.1 235.808 1454.1 M235.808 1450.39 Q241.618 1450.39 244.673 1455 Q247.752 1459.58 247.752 1468.33 Q247.752 1477.06 244.673 1481.67 Q241.618 1486.25 235.808 1486.25 Q229.997 1486.25 226.919 1481.67 Q223.863 1477.06 223.863 1468.33 Q223.863 1459.58 226.919 1455 Q229.997 1450.39 235.808 1450.39 Z\" fill=\"#000000\" fill-rule=\"evenodd\" fill-opacity=\"1\" /><path clip-path=\"url(#clip720)\" d=\"M911.286 1481.64 L918.925 1481.64 L918.925 1455.28 L910.615 1456.95 L910.615 1452.69 L918.879 1451.02 L923.555 1451.02 L923.555 1481.64 L931.193 1481.64 L931.193 1485.58 L911.286 1485.58 L911.286 1481.64 Z\" fill=\"#000000\" fill-rule=\"evenodd\" fill-opacity=\"1\" /><path clip-path=\"url(#clip720)\" d=\"M1600.65 1481.64 L1616.97 1481.64 L1616.97 1485.58 L1595.03 1485.58 L1595.03 1481.64 Q1597.69 1478.89 1602.27 1474.26 Q1606.88 1469.61 1608.06 1468.27 Q1610.31 1465.74 1611.19 1464.01 Q1612.09 1462.25 1612.09 1460.56 Q1612.09 1457.8 1610.14 1456.07 Q1608.22 1454.33 1605.12 1454.33 Q1602.92 1454.33 1600.47 1455.09 Q1598.04 1455.86 1595.26 1457.41 L1595.26 1452.69 Q1598.08 1451.55 1600.54 1450.97 Q1602.99 1450.39 1605.03 1450.39 Q1610.4 1450.39 1613.59 1453.08 Q1616.79 1455.77 1616.79 1460.26 Q1616.79 1462.39 1615.98 1464.31 Q1615.19 1466.2 1613.08 1468.8 Q1612.51 1469.47 1609.4 1472.69 Q1606.3 1475.88 1600.65 1481.64 Z\" fill=\"#000000\" fill-rule=\"evenodd\" fill-opacity=\"1\" /><path clip-path=\"url(#clip720)\" d=\"M2295.34 1466.95 Q2298.7 1467.66 2300.58 1469.93 Q2302.47 1472.2 2302.47 1475.53 Q2302.47 1480.65 2298.96 1483.45 Q2295.44 1486.25 2288.96 1486.25 Q2286.78 1486.25 2284.47 1485.81 Q2282.17 1485.39 2279.72 1484.54 L2279.72 1480.02 Q2281.66 1481.16 2283.98 1481.74 Q2286.29 1482.32 2288.82 1482.32 Q2293.22 1482.32 2295.51 1480.58 Q2297.82 1478.84 2297.82 1475.53 Q2297.82 1472.48 2295.67 1470.77 Q2293.54 1469.03 2289.72 1469.03 L2285.69 1469.03 L2285.69 1465.19 L2289.91 1465.19 Q2293.35 1465.19 2295.18 1463.82 Q2297.01 1462.43 2297.01 1459.84 Q2297.01 1457.18 2295.11 1455.77 Q2293.24 1454.33 2289.72 1454.33 Q2287.8 1454.33 2285.6 1454.75 Q2283.4 1455.16 2280.76 1456.04 L2280.76 1451.88 Q2283.42 1451.14 2285.74 1450.77 Q2288.08 1450.39 2290.14 1450.39 Q2295.46 1450.39 2298.56 1452.83 Q2301.66 1455.23 2301.66 1459.35 Q2301.66 1462.22 2300.02 1464.21 Q2298.38 1466.18 2295.34 1466.95 Z\" fill=\"#000000\" fill-rule=\"evenodd\" fill-opacity=\"1\" /><path clip-path=\"url(#clip720)\" d=\"M1150.91 1522.27 L1150.91 1532.4 L1162.97 1532.4 L1162.97 1536.95 L1150.91 1536.95 L1150.91 1556.3 Q1150.91 1560.66 1152.08 1561.9 Q1153.29 1563.14 1156.95 1563.14 L1162.97 1563.14 L1162.97 1568.04 L1156.95 1568.04 Q1150.17 1568.04 1147.6 1565.53 Q1145.02 1562.98 1145.02 1556.3 L1145.02 1536.95 L1140.72 1536.95 L1140.72 1532.4 L1145.02 1532.4 L1145.02 1522.27 L1150.91 1522.27 Z\" fill=\"#000000\" fill-rule=\"evenodd\" fill-opacity=\"1\" /><path clip-path=\"url(#clip720)\" d=\"M1170.67 1532.4 L1176.53 1532.4 L1176.53 1568.04 L1170.67 1568.04 L1170.67 1532.4 M1170.67 1518.52 L1176.53 1518.52 L1176.53 1525.93 L1170.67 1525.93 L1170.67 1518.52 Z\" fill=\"#000000\" fill-rule=\"evenodd\" fill-opacity=\"1\" /><path clip-path=\"url(#clip720)\" d=\"M1216.54 1539.24 Q1218.73 1535.29 1221.79 1533.41 Q1224.84 1531.54 1228.98 1531.54 Q1234.55 1531.54 1237.58 1535.45 Q1240.6 1539.33 1240.6 1546.53 L1240.6 1568.04 L1234.71 1568.04 L1234.71 1546.72 Q1234.71 1541.59 1232.9 1539.11 Q1231.08 1536.63 1227.36 1536.63 Q1222.81 1536.63 1220.17 1539.65 Q1217.52 1542.68 1217.52 1547.9 L1217.52 1568.04 L1211.64 1568.04 L1211.64 1546.72 Q1211.64 1541.56 1209.82 1539.11 Q1208.01 1536.63 1204.22 1536.63 Q1199.73 1536.63 1197.09 1539.68 Q1194.45 1542.71 1194.45 1547.9 L1194.45 1568.04 L1188.56 1568.04 L1188.56 1532.4 L1194.45 1532.4 L1194.45 1537.93 Q1196.45 1534.66 1199.25 1533.1 Q1202.06 1531.54 1205.91 1531.54 Q1209.79 1531.54 1212.49 1533.51 Q1215.23 1535.48 1216.54 1539.24 Z\" fill=\"#000000\" fill-rule=\"evenodd\" fill-opacity=\"1\" /><path clip-path=\"url(#clip720)\" d=\"M1282.77 1548.76 L1282.77 1551.62 L1255.85 1551.62 Q1256.23 1557.67 1259.47 1560.85 Q1262.75 1564 1268.58 1564 Q1271.95 1564 1275.1 1563.17 Q1278.28 1562.35 1281.4 1560.69 L1281.4 1566.23 Q1278.25 1567.57 1274.94 1568.27 Q1271.63 1568.97 1268.23 1568.97 Q1259.7 1568.97 1254.7 1564 Q1249.73 1559.04 1249.73 1550.57 Q1249.73 1541.82 1254.44 1536.69 Q1259.19 1531.54 1267.21 1531.54 Q1274.4 1531.54 1278.57 1536.18 Q1282.77 1540.8 1282.77 1548.76 M1276.92 1547.04 Q1276.85 1542.23 1274.21 1539.37 Q1271.6 1536.5 1267.27 1536.5 Q1262.37 1536.5 1259.41 1539.27 Q1256.48 1542.04 1256.04 1547.07 L1276.92 1547.04 Z\" fill=\"#000000\" fill-rule=\"evenodd\" fill-opacity=\"1\" /><path clip-path=\"url(#clip720)\" d=\"M1327.17 1518.58 Q1322.91 1525.9 1320.84 1533.06 Q1318.77 1540.23 1318.77 1547.58 Q1318.77 1554.93 1320.84 1562.16 Q1322.94 1569.35 1327.17 1576.64 L1322.08 1576.64 Q1317.31 1569.16 1314.92 1561.93 Q1312.56 1554.71 1312.56 1547.58 Q1312.56 1540.48 1314.92 1533.29 Q1317.27 1526.09 1322.08 1518.58 L1327.17 1518.58 Z\" fill=\"#000000\" fill-rule=\"evenodd\" fill-opacity=\"1\" /><path clip-path=\"url(#clip720)\" d=\"M1361.26 1533.45 L1361.26 1538.98 Q1358.78 1537.71 1356.11 1537.07 Q1353.43 1536.44 1350.57 1536.44 Q1346.21 1536.44 1344.01 1537.77 Q1341.85 1539.11 1341.85 1541.79 Q1341.85 1543.82 1343.41 1545 Q1344.97 1546.15 1349.68 1547.2 L1351.68 1547.64 Q1357.92 1548.98 1360.53 1551.43 Q1363.17 1553.85 1363.17 1558.21 Q1363.17 1563.17 1359.22 1566.07 Q1355.31 1568.97 1348.43 1568.97 Q1345.57 1568.97 1342.45 1568.39 Q1339.36 1567.85 1335.93 1566.74 L1335.93 1560.69 Q1339.17 1562.38 1342.32 1563.24 Q1345.47 1564.07 1348.56 1564.07 Q1352.7 1564.07 1354.93 1562.66 Q1357.16 1561.23 1357.16 1558.65 Q1357.16 1556.27 1355.53 1554.99 Q1353.94 1553.72 1348.5 1552.54 L1346.46 1552.07 Q1341.02 1550.92 1338.6 1548.56 Q1336.18 1546.18 1336.18 1542.04 Q1336.18 1537.01 1339.75 1534.27 Q1343.31 1531.54 1349.87 1531.54 Q1353.11 1531.54 1355.98 1532.01 Q1358.84 1532.49 1361.26 1533.45 Z\" fill=\"#000000\" fill-rule=\"evenodd\" fill-opacity=\"1\" /><path clip-path=\"url(#clip720)\" d=\"M1371.57 1518.58 L1376.67 1518.58 Q1381.44 1526.09 1383.8 1533.29 Q1386.18 1540.48 1386.18 1547.58 Q1386.18 1554.71 1383.8 1561.93 Q1381.44 1569.16 1376.67 1576.64 L1371.57 1576.64 Q1375.81 1569.35 1377.88 1562.16 Q1379.98 1554.93 1379.98 1547.58 Q1379.98 1540.23 1377.88 1533.06 Q1375.81 1525.9 1371.57 1518.58 Z\" fill=\"#000000\" fill-rule=\"evenodd\" fill-opacity=\"1\" /><polyline clip-path=\"url(#clip722)\" style=\"stroke:#000000; stroke-linecap:butt; stroke-linejoin:round; stroke-width:2; stroke-opacity:0.1; fill:none\" points=\"\n  174.149,1254 2352.76,1254 \n  \"/>\n<polyline clip-path=\"url(#clip722)\" style=\"stroke:#000000; stroke-linecap:butt; stroke-linejoin:round; stroke-width:2; stroke-opacity:0.1; fill:none\" points=\"\n  174.149,928.399 2352.76,928.399 \n  \"/>\n<polyline clip-path=\"url(#clip722)\" style=\"stroke:#000000; stroke-linecap:butt; stroke-linejoin:round; stroke-width:2; stroke-opacity:0.1; fill:none\" points=\"\n  174.149,602.799 2352.76,602.799 \n  \"/>\n<polyline clip-path=\"url(#clip722)\" style=\"stroke:#000000; stroke-linecap:butt; stroke-linejoin:round; stroke-width:2; stroke-opacity:0.1; fill:none\" points=\"\n  174.149,277.2 2352.76,277.2 \n  \"/>\n<polyline clip-path=\"url(#clip720)\" style=\"stroke:#000000; stroke-linecap:butt; stroke-linejoin:round; stroke-width:4; stroke-opacity:1; fill:none\" points=\"\n  174.149,1423.18 174.149,47.2441 \n  \"/>\n<polyline clip-path=\"url(#clip720)\" style=\"stroke:#000000; stroke-linecap:butt; stroke-linejoin:round; stroke-width:4; stroke-opacity:1; fill:none\" points=\"\n  174.149,1254 193.047,1254 \n  \"/>\n<polyline clip-path=\"url(#clip720)\" style=\"stroke:#000000; stroke-linecap:butt; stroke-linejoin:round; stroke-width:4; stroke-opacity:1; fill:none\" points=\"\n  174.149,928.399 193.047,928.399 \n  \"/>\n<polyline clip-path=\"url(#clip720)\" style=\"stroke:#000000; stroke-linecap:butt; stroke-linejoin:round; stroke-width:4; stroke-opacity:1; fill:none\" points=\"\n  174.149,602.799 193.047,602.799 \n  \"/>\n<polyline clip-path=\"url(#clip720)\" style=\"stroke:#000000; stroke-linecap:butt; stroke-linejoin:round; stroke-width:4; stroke-opacity:1; fill:none\" points=\"\n  174.149,277.2 193.047,277.2 \n  \"/>\n<path clip-path=\"url(#clip720)\" d=\"M126.205 1239.8 Q122.593 1239.8 120.765 1243.36 Q118.959 1246.9 118.959 1254.03 Q118.959 1261.14 120.765 1264.7 Q122.593 1268.25 126.205 1268.25 Q129.839 1268.25 131.644 1264.7 Q133.473 1261.14 133.473 1254.03 Q133.473 1246.9 131.644 1243.36 Q129.839 1239.8 126.205 1239.8 M126.205 1236.09 Q132.015 1236.09 135.07 1240.7 Q138.149 1245.28 138.149 1254.03 Q138.149 1262.76 135.07 1267.37 Q132.015 1271.95 126.205 1271.95 Q120.394 1271.95 117.316 1267.37 Q114.26 1262.76 114.26 1254.03 Q114.26 1245.28 117.316 1240.7 Q120.394 1236.09 126.205 1236.09 Z\" fill=\"#000000\" fill-rule=\"evenodd\" fill-opacity=\"1\" /><path clip-path=\"url(#clip720)\" d=\"M118.242 941.744 L125.88 941.744 L125.88 915.378 L117.57 917.045 L117.57 912.786 L125.834 911.119 L130.51 911.119 L130.51 941.744 L138.149 941.744 L138.149 945.679 L118.242 945.679 L118.242 941.744 Z\" fill=\"#000000\" fill-rule=\"evenodd\" fill-opacity=\"1\" /><path clip-path=\"url(#clip720)\" d=\"M121.83 616.144 L138.149 616.144 L138.149 620.079 L116.205 620.079 L116.205 616.144 Q118.867 613.389 123.45 608.76 Q128.056 604.107 129.237 602.765 Q131.482 600.241 132.362 598.505 Q133.265 596.746 133.265 595.056 Q133.265 592.302 131.32 590.566 Q129.399 588.829 126.297 588.829 Q124.098 588.829 121.644 589.593 Q119.214 590.357 116.436 591.908 L116.436 587.186 Q119.26 586.052 121.714 585.473 Q124.168 584.894 126.205 584.894 Q131.575 584.894 134.769 587.579 Q137.964 590.265 137.964 594.755 Q137.964 596.885 137.154 598.806 Q136.367 600.704 134.26 603.297 Q133.681 603.968 130.58 607.186 Q127.478 610.38 121.83 616.144 Z\" fill=\"#000000\" fill-rule=\"evenodd\" fill-opacity=\"1\" /><path clip-path=\"url(#clip720)\" d=\"M131.019 275.846 Q134.376 276.563 136.251 278.832 Q138.149 281.1 138.149 284.433 Q138.149 289.549 134.63 292.35 Q131.112 295.151 124.63 295.151 Q122.455 295.151 120.14 294.711 Q117.848 294.294 115.394 293.438 L115.394 288.924 Q117.339 290.058 119.654 290.637 Q121.968 291.216 124.492 291.216 Q128.89 291.216 131.181 289.48 Q133.496 287.744 133.496 284.433 Q133.496 281.378 131.343 279.665 Q129.214 277.929 125.394 277.929 L121.367 277.929 L121.367 274.086 L125.58 274.086 Q129.029 274.086 130.857 272.721 Q132.686 271.332 132.686 268.739 Q132.686 266.077 130.788 264.665 Q128.913 263.23 125.394 263.23 Q123.473 263.23 121.274 263.646 Q119.075 264.063 116.436 264.943 L116.436 260.776 Q119.098 260.035 121.413 259.665 Q123.751 259.295 125.811 259.295 Q131.135 259.295 134.237 261.725 Q137.339 264.133 137.339 268.253 Q137.339 271.123 135.695 273.114 Q134.052 275.082 131.019 275.846 Z\" fill=\"#000000\" fill-rule=\"evenodd\" fill-opacity=\"1\" /><path clip-path=\"url(#clip720)\" d=\"M29.4065 806.062 L34.9447 806.062 Q33.6716 808.545 33.035 811.219 Q32.3984 813.892 32.3984 816.757 Q32.3984 821.117 33.7352 823.313 Q35.072 825.478 37.7456 825.478 Q39.7826 825.478 40.9603 823.918 Q42.1061 822.358 43.1565 817.648 L43.6021 815.643 Q44.9389 809.404 47.3897 806.794 Q49.8086 804.153 54.1691 804.153 Q59.1344 804.153 62.0308 808.099 Q64.9272 812.014 64.9272 818.889 Q64.9272 821.754 64.3543 824.873 Q63.8132 827.96 62.6992 831.398 L56.6518 831.398 Q58.3387 828.151 59.198 825 Q60.0256 821.849 60.0256 818.762 Q60.0256 814.624 58.6251 812.396 Q57.1929 810.168 54.6147 810.168 Q52.2276 810.168 50.9545 811.791 Q49.6813 813.383 48.5037 818.826 L48.0262 820.863 Q46.8804 826.305 44.5251 828.724 Q42.138 831.143 38.0002 831.143 Q32.9713 831.143 30.2341 827.578 Q27.4968 824.014 27.4968 817.457 Q27.4968 814.21 27.9743 811.346 Q28.4517 808.481 29.4065 806.062 Z\" fill=\"#000000\" fill-rule=\"evenodd\" fill-opacity=\"1\" /><path clip-path=\"url(#clip720)\" d=\"M18.2347 789.034 L28.3562 789.034 L28.3562 776.971 L32.9077 776.971 L32.9077 789.034 L52.2594 789.034 Q56.6199 789.034 57.8613 787.856 Q59.1026 786.647 59.1026 782.987 L59.1026 776.971 L64.0042 776.971 L64.0042 782.987 Q64.0042 789.766 61.4897 792.344 Q58.9434 794.922 52.2594 794.922 L32.9077 794.922 L32.9077 799.219 L28.3562 799.219 L28.3562 794.922 L18.2347 794.922 L18.2347 789.034 Z\" fill=\"#000000\" fill-rule=\"evenodd\" fill-opacity=\"1\" /><path clip-path=\"url(#clip720)\" d=\"M46.0847 753.068 Q46.0847 760.166 47.7079 762.903 Q49.3312 765.64 53.2461 765.64 Q56.3653 765.64 58.2114 763.603 Q60.0256 761.534 60.0256 758.001 Q60.0256 753.131 56.5881 750.203 Q53.1188 747.243 47.3897 747.243 L46.0847 747.243 L46.0847 753.068 M43.6657 741.387 L64.0042 741.387 L64.0042 747.243 L58.5933 747.243 Q61.8398 749.248 63.3994 752.24 Q64.9272 755.232 64.9272 759.561 Q64.9272 765.035 61.8716 768.282 Q58.7843 771.496 53.6281 771.496 Q47.6125 771.496 44.5569 767.486 Q41.5014 763.444 41.5014 755.455 L41.5014 747.243 L40.9285 747.243 Q36.8862 747.243 34.6901 749.917 Q32.4621 752.559 32.4621 757.365 Q32.4621 760.42 33.1941 763.317 Q33.9262 766.213 35.3903 768.887 L29.9795 768.887 Q28.7381 765.672 28.1334 762.648 Q27.4968 759.624 27.4968 756.76 Q27.4968 749.026 31.5072 745.206 Q35.5176 741.387 43.6657 741.387 Z\" fill=\"#000000\" fill-rule=\"evenodd\" fill-opacity=\"1\" /><path clip-path=\"url(#clip720)\" d=\"M18.2347 723.531 L28.3562 723.531 L28.3562 711.468 L32.9077 711.468 L32.9077 723.531 L52.2594 723.531 Q56.6199 723.531 57.8613 722.353 Q59.1026 721.144 59.1026 717.483 L59.1026 711.468 L64.0042 711.468 L64.0042 717.483 Q64.0042 724.263 61.4897 726.841 Q58.9434 729.419 52.2594 729.419 L32.9077 729.419 L32.9077 733.716 L28.3562 733.716 L28.3562 729.419 L18.2347 729.419 L18.2347 723.531 Z\" fill=\"#000000\" fill-rule=\"evenodd\" fill-opacity=\"1\" /><path clip-path=\"url(#clip720)\" d=\"M44.7161 673.274 L47.5806 673.274 L47.5806 700.201 Q53.6281 699.819 56.8109 696.572 Q59.9619 693.294 59.9619 687.469 Q59.9619 684.095 59.1344 680.944 Q58.3069 677.761 56.6518 674.642 L62.1899 674.642 Q63.5267 677.793 64.227 681.103 Q64.9272 684.414 64.9272 687.819 Q64.9272 696.349 59.9619 701.346 Q54.9967 706.312 46.5303 706.312 Q37.7774 706.312 32.6531 701.601 Q27.4968 696.859 27.4968 688.838 Q27.4968 681.645 32.1438 677.475 Q36.7589 673.274 44.7161 673.274 M42.9973 679.13 Q38.1912 679.194 35.3266 681.836 Q32.4621 684.445 32.4621 688.774 Q32.4621 693.676 35.2312 696.636 Q38.0002 699.564 43.0292 700.01 L42.9973 679.13 Z\" fill=\"#000000\" fill-rule=\"evenodd\" fill-opacity=\"1\" /><path clip-path=\"url(#clip720)\" d=\"M29.4065 640.936 L34.9447 640.936 Q33.6716 643.418 33.035 646.092 Q32.3984 648.766 32.3984 651.63 Q32.3984 655.991 33.7352 658.187 Q35.072 660.351 37.7456 660.351 Q39.7826 660.351 40.9603 658.792 Q42.1061 657.232 43.1565 652.521 L43.6021 650.516 Q44.9389 644.278 47.3897 641.668 Q49.8086 639.026 54.1691 639.026 Q59.1344 639.026 62.0308 642.973 Q64.9272 646.888 64.9272 653.763 Q64.9272 656.627 64.3543 659.747 Q63.8132 662.834 62.6992 666.271 L56.6518 666.271 Q58.3387 663.025 59.198 659.874 Q60.0256 656.723 60.0256 653.635 Q60.0256 649.498 58.6251 647.27 Q57.1929 645.042 54.6147 645.042 Q52.2276 645.042 50.9545 646.665 Q49.6813 648.256 48.5037 653.699 L48.0262 655.736 Q46.8804 661.179 44.5251 663.598 Q42.138 666.017 38.0002 666.017 Q32.9713 666.017 30.2341 662.452 Q27.4968 658.887 27.4968 652.33 Q27.4968 649.084 27.9743 646.219 Q28.4517 643.355 29.4065 640.936 Z\" fill=\"#000000\" fill-rule=\"evenodd\" fill-opacity=\"1\" /><polyline clip-path=\"url(#clip722)\" style=\"stroke:#009af9; stroke-linecap:butt; stroke-linejoin:round; stroke-width:8; stroke-opacity:1; fill:none\" stroke-dasharray=\"32, 20\" points=\"\n  235.808,1384.24 249.51,1373.23 263.211,1342.58 276.913,1298.98 290.615,1251.78 304.317,1209.12 318.019,1174.53 331.721,1148.15 345.423,1129.03 359.125,1116.06 \n  372.827,1108.03 386.529,1103.7 400.231,1101.82 413.933,1101.28 427.635,1101.22 441.337,1101.09 455.038,1100.65 468.74,1099.85 482.442,1098.8 496.144,1097.62 \n  509.846,1096.44 523.548,1095.37 537.25,1094.48 550.952,1093.8 564.654,1093.35 578.356,1093.13 592.058,1093.13 605.76,1093.34 619.462,1093.75 633.164,1094.33 \n  646.866,1095.08 660.567,1095.97 674.269,1097.02 687.971,1098.19 701.673,1099.49 715.375,1100.9 729.077,1102.42 742.779,1104.04 756.481,1105.75 770.183,1107.55 \n  783.885,1109.43 797.587,1111.39 811.289,1113.41 824.991,1115.49 838.693,1117.63 852.394,1119.82 866.096,1122.05 879.798,1124.33 893.5,1126.64 907.202,1128.98 \n  920.904,1131.35 934.606,1133.74 948.308,1136.15 962.01,1138.57 975.712,1141.01 989.414,1143.45 1003.12,1145.9 1016.82,1148.35 1030.52,1150.79 1044.22,1153.24 \n  1057.92,1155.67 1071.63,1158.09 1085.33,1160.51 1099.03,1162.91 1112.73,1165.29 1126.43,1167.65 1140.14,1169.99 1153.84,1172.31 1167.54,1174.61 1181.24,1176.88 \n  1194.94,1179.13 1208.64,1181.35 1222.35,1183.53 1236.05,1185.69 1249.75,1187.82 1263.45,1189.92 1277.15,1191.98 1290.86,1194.01 1304.56,1196 1318.26,1197.96 \n  1331.96,1199.89 1345.66,1201.77 1359.37,1203.63 1373.07,1205.44 1386.77,1207.22 1400.47,1208.96 1414.17,1210.67 1427.88,1212.34 1441.58,1213.97 1455.28,1215.56 \n  1468.98,1217.12 1482.68,1218.64 1496.39,1220.12 1510.09,1221.56 1523.79,1222.97 1537.49,1224.34 1551.19,1225.68 1564.89,1226.98 1578.6,1228.25 1592.3,1229.48 \n  1606,1230.67 1619.7,1231.83 1633.4,1232.96 1647.11,1234.05 1660.81,1235.11 1674.51,1236.14 1688.21,1237.13 1701.91,1238.09 1715.62,1239.03 1729.32,1239.93 \n  1743.02,1240.8 1756.72,1241.64 1770.42,1242.45 1784.13,1243.24 1797.83,1243.99 1811.53,1244.72 1825.23,1245.42 1838.93,1246.1 1852.64,1246.75 1866.34,1247.37 \n  1880.04,1247.97 1893.74,1248.55 1907.44,1249.1 1921.15,1249.63 1934.85,1250.13 1948.55,1250.62 1962.25,1251.08 1975.95,1251.53 1989.65,1251.95 2003.36,1252.35 \n  2017.06,1252.74 2030.76,1253.11 2044.46,1253.45 2058.16,1253.78 2071.87,1254.1 2085.57,1254.4 2099.27,1254.68 2112.97,1254.94 2126.67,1255.19 2140.38,1255.43 \n  2154.08,1255.65 2167.78,1255.86 2181.48,1256.06 2195.18,1256.24 2208.89,1256.41 2222.59,1256.57 2236.29,1256.72 2249.99,1256.86 2263.69,1256.98 2277.4,1257.1 \n  2291.1,1257.21 \n  \"/>\n<polyline clip-path=\"url(#clip722)\" style=\"stroke:#e26f46; stroke-linecap:butt; stroke-linejoin:round; stroke-width:8; stroke-opacity:1; fill:none\" stroke-dasharray=\"32, 20\" points=\"\n  235.808,458.409 249.51,442.256 263.211,396.414 276.913,329.61 290.615,257.225 304.317,194.37 318.019,147.47 331.721,115.96 345.423,97.3271 359.125,89.0131 \n  372.827,88.6207 386.529,93.8355 400.231,102.449 413.933,112.507 427.635,122.508 441.337,131.507 455.038,139.1 468.74,145.281 482.442,150.27 496.144,154.367 \n  509.846,157.86 523.548,160.978 537.25,163.882 550.952,166.672 564.654,169.4 578.356,172.088 592.058,174.741 605.76,177.352 619.462,179.913 633.164,182.415 \n  646.866,184.853 660.567,187.222 674.269,189.52 687.971,191.746 701.673,193.9 715.375,195.984 729.077,197.998 742.779,199.945 756.481,201.826 770.183,203.642 \n  783.885,205.395 797.587,207.086 811.289,208.717 824.991,210.289 838.693,211.804 852.394,213.262 866.096,214.665 879.798,216.015 893.5,217.312 907.202,218.558 \n  920.904,219.753 934.606,220.9 948.308,222 962.01,223.052 975.712,224.06 989.414,225.024 1003.12,225.944 1016.82,226.823 1030.52,227.661 1044.22,228.46 \n  1057.92,229.22 1071.63,229.943 1085.33,230.63 1099.03,231.282 1112.73,231.899 1126.43,232.484 1140.14,233.036 1153.84,233.558 1167.54,234.049 1181.24,234.511 \n  1194.94,234.945 1208.64,235.353 1222.35,235.733 1236.05,236.089 1249.75,236.42 1263.45,236.728 1277.15,237.013 1290.86,237.276 1304.56,237.518 1318.26,237.74 \n  1331.96,237.942 1345.66,238.126 1359.37,238.291 1373.07,238.44 1386.77,238.572 1400.47,238.689 1414.17,238.79 1427.88,238.877 1441.58,238.95 1455.28,239.01 \n  1468.98,239.058 1482.68,239.093 1496.39,239.118 1510.09,239.131 1523.79,239.134 1537.49,239.128 1551.19,239.112 1564.89,239.087 1578.6,239.055 1592.3,239.014 \n  1606,238.967 1619.7,238.912 1633.4,238.851 1647.11,238.784 1660.81,238.711 1674.51,238.633 1688.21,238.551 1701.91,238.463 1715.62,238.372 1729.32,238.276 \n  1743.02,238.177 1756.72,238.075 1770.42,237.969 1784.13,237.861 1797.83,237.751 1811.53,237.639 1825.23,237.524 1838.93,237.408 1852.64,237.29 1866.34,237.172 \n  1880.04,237.052 1893.74,236.931 1907.44,236.81 1921.15,236.688 1934.85,236.566 1948.55,236.443 1962.25,236.321 1975.95,236.199 1989.65,236.077 2003.36,235.956 \n  2017.06,235.835 2030.76,235.715 2044.46,235.595 2058.16,235.477 2071.87,235.359 2085.57,235.243 2099.27,235.127 2112.97,235.013 2126.67,234.9 2140.38,234.789 \n  2154.08,234.679 2167.78,234.57 2181.48,234.463 2195.18,234.357 2208.89,234.253 2222.59,234.151 2236.29,234.05 2249.99,233.951 2263.69,233.854 2277.4,233.759 \n  2291.1,233.665 \n  \"/>\n<polyline clip-path=\"url(#clip722)\" style=\"stroke:#009af9; stroke-linecap:butt; stroke-linejoin:round; stroke-width:8; stroke-opacity:1; fill:none\" stroke-dasharray=\"4, 8\" points=\"\n  235.808,1384.24 249.51,1379.69 263.211,1366.9 276.913,1347.67 290.615,1323.94 304.317,1297.67 318.019,1270.69 331.721,1244.43 345.423,1219.87 359.125,1197.53 \n  372.827,1177.59 386.529,1160.01 400.231,1144.65 413.933,1131.29 427.635,1119.69 441.337,1109.64 455.038,1100.89 468.74,1093.25 482.442,1086.51 496.144,1080.52 \n  509.846,1075.13 523.548,1070.23 537.25,1065.73 550.952,1061.55 564.654,1057.64 578.356,1053.96 592.058,1050.49 605.76,1047.2 619.462,1044.09 633.164,1041.15 \n  646.866,1038.38 660.567,1035.78 674.269,1033.35 687.971,1031.09 701.673,1029.01 715.375,1027.09 729.077,1025.35 742.779,1023.78 756.481,1022.37 770.183,1021.13 \n  783.885,1020.06 797.587,1019.14 811.289,1018.37 824.991,1017.76 838.693,1017.29 852.394,1016.96 866.096,1016.77 879.798,1016.7 893.5,1016.77 907.202,1016.96 \n  920.904,1017.27 934.606,1017.69 948.308,1018.22 962.01,1018.86 975.712,1019.6 989.414,1020.43 1003.12,1021.37 1016.82,1022.39 1030.52,1023.49 1044.22,1024.69 \n  1057.92,1025.96 1071.63,1027.3 1085.33,1028.72 1099.03,1030.21 1112.73,1031.77 1126.43,1033.39 1140.14,1035.07 1153.84,1036.81 1167.54,1038.6 1181.24,1040.45 \n  1194.94,1042.34 1208.64,1044.28 1222.35,1046.27 1236.05,1048.3 1249.75,1050.36 1263.45,1052.47 1277.15,1054.6 1290.86,1056.77 1304.56,1058.97 1318.26,1061.2 \n  1331.96,1063.45 1345.66,1065.73 1359.37,1068.03 1373.07,1070.34 1386.77,1072.68 1400.47,1075.03 1414.17,1077.4 1427.88,1079.77 1441.58,1082.16 1455.28,1084.56 \n  1468.98,1086.97 1482.68,1089.38 1496.39,1091.8 1510.09,1094.22 1523.79,1096.64 1537.49,1099.06 1551.19,1101.48 1564.89,1103.9 1578.6,1106.32 1592.3,1108.73 \n  1606,1111.14 1619.7,1113.54 1633.4,1115.93 1647.11,1118.32 1660.81,1120.69 1674.51,1123.06 1688.21,1125.41 1701.91,1127.75 1715.62,1130.08 1729.32,1132.4 \n  1743.02,1134.7 1756.72,1136.98 1770.42,1139.25 1784.13,1141.5 1797.83,1143.74 1811.53,1145.96 1825.23,1148.16 1838.93,1150.34 1852.64,1152.5 1866.34,1154.64 \n  1880.04,1156.76 1893.74,1158.86 1907.44,1160.94 1921.15,1163 1934.85,1165.03 1948.55,1167.05 1962.25,1169.04 1975.95,1171.01 1989.65,1172.95 2003.36,1174.88 \n  2017.06,1176.77 2030.76,1178.65 2044.46,1180.5 2058.16,1182.33 2071.87,1184.13 2085.57,1185.91 2099.27,1187.67 2112.97,1189.4 2126.67,1191.1 2140.38,1192.78 \n  2154.08,1194.44 2167.78,1196.07 2181.48,1197.68 2195.18,1199.26 2208.89,1200.82 2222.59,1202.35 2236.29,1203.86 2249.99,1205.34 2263.69,1206.8 2277.4,1208.23 \n  2291.1,1209.64 \n  \"/>\n<polyline clip-path=\"url(#clip722)\" style=\"stroke:#e26f46; stroke-linecap:butt; stroke-linejoin:round; stroke-width:8; stroke-opacity:1; fill:none\" stroke-dasharray=\"4, 8\" points=\"\n  235.808,458.409 249.51,452.244 263.211,434.893 276.913,408.698 290.615,376.269 304.317,340.536 318.019,304.452 331.721,270.506 345.423,240.372 359.125,214.858 \n  372.827,194.104 386.529,177.836 400.231,165.579 413.933,156.781 427.635,150.885 441.337,147.364 455.038,145.738 468.74,145.577 482.442,146.511 496.144,148.225 \n  509.846,150.458 523.548,153.002 537.25,155.697 550.952,158.423 564.654,161.099 578.356,163.67 592.058,166.104 605.76,168.389 619.462,170.523 633.164,172.514 \n  646.866,174.374 660.567,176.117 674.269,177.761 687.971,179.319 701.673,180.806 715.375,182.234 729.077,183.613 742.779,184.952 756.481,186.257 770.183,187.534 \n  783.885,188.785 797.587,190.015 811.289,191.224 824.991,192.413 838.693,193.584 852.394,194.737 866.096,195.871 879.798,196.987 893.5,198.084 907.202,199.162 \n  920.904,200.222 934.606,201.262 948.308,202.283 962.01,203.285 975.712,204.268 989.414,205.231 1003.12,206.175 1016.82,207.101 1030.52,208.007 1044.22,208.894 \n  1057.92,209.763 1071.63,210.613 1085.33,211.445 1099.03,212.259 1112.73,213.055 1126.43,213.833 1140.14,214.594 1153.84,215.338 1167.54,216.065 1181.24,216.775 \n  1194.94,217.468 1208.64,218.145 1222.35,218.806 1236.05,219.451 1249.75,220.08 1263.45,220.694 1277.15,221.293 1290.86,221.876 1304.56,222.444 1318.26,222.998 \n  1331.96,223.537 1345.66,224.062 1359.37,224.573 1373.07,225.07 1386.77,225.554 1400.47,226.024 1414.17,226.481 1427.88,226.925 1441.58,227.356 1455.28,227.774 \n  1468.98,228.18 1482.68,228.574 1496.39,228.956 1510.09,229.327 1523.79,229.685 1537.49,230.033 1551.19,230.369 1564.89,230.694 1578.6,231.009 1592.3,231.312 \n  1606,231.606 1619.7,231.889 1633.4,232.163 1647.11,232.427 1660.81,232.681 1674.51,232.925 1688.21,233.161 1701.91,233.387 1715.62,233.605 1729.32,233.814 \n  1743.02,234.015 1756.72,234.207 1770.42,234.391 1784.13,234.567 1797.83,234.736 1811.53,234.897 1825.23,235.05 1838.93,235.196 1852.64,235.336 1866.34,235.468 \n  1880.04,235.593 1893.74,235.712 1907.44,235.825 1921.15,235.931 1934.85,236.031 1948.55,236.126 1962.25,236.214 1975.95,236.297 1989.65,236.374 2003.36,236.446 \n  2017.06,236.513 2030.76,236.574 2044.46,236.631 2058.16,236.683 2071.87,236.73 2085.57,236.772 2099.27,236.811 2112.97,236.845 2126.67,236.875 2140.38,236.9 \n  2154.08,236.922 2167.78,236.94 2181.48,236.955 2195.18,236.966 2208.89,236.973 2222.59,236.977 2236.29,236.978 2249.99,236.976 2263.69,236.971 2277.4,236.963 \n  2291.1,236.952 \n  \"/>\n<polyline clip-path=\"url(#clip722)\" style=\"stroke:#009af9; stroke-linecap:butt; stroke-linejoin:round; stroke-width:8; stroke-opacity:1; fill:none\" points=\"\n  235.808,1384.24 249.51,1373.28 263.211,1342.7 276.913,1298.96 290.615,1251.37 304.317,1208.2 318.019,1173.17 331.721,1146.56 345.423,1127.47 359.125,1114.8 \n  372.827,1107.31 386.529,1103.7 400.231,1102.62 413.933,1102.85 427.635,1103.46 441.337,1103.87 455.038,1103.8 468.74,1103.26 482.442,1102.36 496.144,1101.27 \n  509.846,1100.14 523.548,1099.1 537.25,1098.24 550.952,1097.59 564.654,1097.17 578.356,1096.98 592.058,1097.02 605.76,1097.26 619.462,1097.69 633.164,1098.3 \n  646.866,1099.07 660.567,1099.98 674.269,1101.03 687.971,1102.21 701.673,1103.5 715.375,1104.91 729.077,1106.42 742.779,1108.02 756.481,1109.72 770.183,1111.49 \n  783.885,1113.34 797.587,1115.27 811.289,1117.25 824.991,1119.3 838.693,1121.4 852.394,1123.54 866.096,1125.73 879.798,1127.96 893.5,1130.22 907.202,1132.51 \n  920.904,1134.82 934.606,1137.16 948.308,1139.51 962.01,1141.88 975.712,1144.25 989.414,1146.64 1003.12,1149.02 1016.82,1151.41 1030.52,1153.79 1044.22,1156.17 \n  1057.92,1158.54 1071.63,1160.9 1085.33,1163.25 1099.03,1165.58 1112.73,1167.89 1126.43,1170.19 1140.14,1172.47 1153.84,1174.73 1167.54,1176.96 1181.24,1179.16 \n  1194.94,1181.35 1208.64,1183.5 1222.35,1185.62 1236.05,1187.72 1249.75,1189.78 1263.45,1191.82 1277.15,1193.82 1290.86,1195.79 1304.56,1197.72 1318.26,1199.62 \n  1331.96,1201.49 1345.66,1203.32 1359.37,1205.12 1373.07,1206.88 1386.77,1208.6 1400.47,1210.29 1414.17,1211.94 1427.88,1213.56 1441.58,1215.14 1455.28,1216.68 \n  1468.98,1218.19 1482.68,1219.66 1496.39,1221.1 1510.09,1222.5 1523.79,1223.86 1537.49,1225.19 1551.19,1226.48 1564.89,1227.74 1578.6,1228.97 1592.3,1230.16 \n  1606,1231.31 1619.7,1232.44 1633.4,1233.53 1647.11,1234.59 1660.81,1235.61 1674.51,1236.6 1688.21,1237.57 1701.91,1238.5 1715.62,1239.4 1729.32,1240.27 \n  1743.02,1241.12 1756.72,1241.93 1770.42,1242.72 1784.13,1243.48 1797.83,1244.21 1811.53,1244.91 1825.23,1245.59 1838.93,1246.25 1852.64,1246.87 1866.34,1247.48 \n  1880.04,1248.06 1893.74,1248.62 1907.44,1249.15 1921.15,1249.66 1934.85,1250.15 1948.55,1250.62 1962.25,1251.07 1975.95,1251.5 1989.65,1251.91 2003.36,1252.31 \n  2017.06,1252.68 2030.76,1253.03 2044.46,1253.37 2058.16,1253.69 2071.87,1254 2085.57,1254.28 2099.27,1254.56 2112.97,1254.82 2126.67,1255.06 2140.38,1255.29 \n  2154.08,1255.51 2167.78,1255.71 2181.48,1255.9 2195.18,1256.08 2208.89,1256.24 2222.59,1256.4 2236.29,1256.54 2249.99,1256.68 2263.69,1256.8 2277.4,1256.91 \n  2291.1,1257.02 \n  \"/>\n<polyline clip-path=\"url(#clip722)\" style=\"stroke:#e26f46; stroke-linecap:butt; stroke-linejoin:round; stroke-width:8; stroke-opacity:1; fill:none\" points=\"\n  235.808,458.409 249.51,442.341 263.211,396.59 276.913,329.549 290.615,256.445 304.317,192.619 318.019,144.873 331.721,112.864 345.423,94.1527 359.125,86.1857 \n  372.827,86.5177 386.529,92.7326 400.231,102.471 413.933,113.613 427.635,124.513 441.337,134.151 455.038,142.112 468.74,148.431 482.442,153.392 496.144,157.358 \n  509.846,160.67 523.548,163.594 537.25,166.314 550.952,168.94 564.654,171.529 578.356,174.101 592.058,176.655 605.76,179.181 619.462,181.666 633.164,184.099 \n  646.866,186.471 660.567,188.777 674.269,191.012 687.971,193.176 701.673,195.27 715.375,197.293 729.077,199.249 742.779,201.138 756.481,202.962 770.183,204.722 \n  783.885,206.422 797.587,208.06 811.289,209.64 824.991,211.163 838.693,212.629 852.394,214.04 866.096,215.398 879.798,216.704 893.5,217.958 907.202,219.162 \n  920.904,220.317 934.606,221.425 948.308,222.487 962.01,223.503 975.712,224.476 989.414,225.405 1003.12,226.293 1016.82,227.14 1030.52,227.948 1044.22,228.717 \n  1057.92,229.449 1071.63,230.145 1085.33,230.805 1099.03,231.432 1112.73,232.025 1126.43,232.587 1140.14,233.117 1153.84,233.618 1167.54,234.089 1181.24,234.532 \n  1194.94,234.948 1208.64,235.338 1222.35,235.702 1236.05,236.042 1249.75,236.358 1263.45,236.652 1277.15,236.923 1290.86,237.174 1304.56,237.404 1318.26,237.615 \n  1331.96,237.807 1345.66,237.981 1359.37,238.137 1373.07,238.278 1386.77,238.402 1400.47,238.511 1414.17,238.606 1427.88,238.687 1441.58,238.754 1455.28,238.809 \n  1468.98,238.852 1482.68,238.884 1496.39,238.904 1510.09,238.914 1523.79,238.915 1537.49,238.906 1551.19,238.888 1564.89,238.862 1578.6,238.828 1592.3,238.787 \n  1606,238.739 1619.7,238.684 1633.4,238.623 1647.11,238.556 1660.81,238.484 1674.51,238.407 1688.21,238.325 1701.91,238.239 1715.62,238.149 1729.32,238.055 \n  1743.02,237.958 1756.72,237.857 1770.42,237.754 1784.13,237.649 1797.83,237.541 1811.53,237.431 1825.23,237.319 1838.93,237.206 1852.64,237.091 1866.34,236.976 \n  1880.04,236.859 1893.74,236.742 1907.44,236.624 1921.15,236.505 1934.85,236.386 1948.55,236.268 1962.25,236.149 1975.95,236.03 1989.65,235.912 2003.36,235.794 \n  2017.06,235.677 2030.76,235.561 2044.46,235.445 2058.16,235.33 2071.87,235.216 2085.57,235.103 2099.27,234.992 2112.97,234.881 2126.67,234.772 2140.38,234.664 \n  2154.08,234.557 2167.78,234.452 2181.48,234.349 2195.18,234.247 2208.89,234.146 2222.59,234.047 2236.29,233.95 2249.99,233.855 2263.69,233.761 2277.4,233.669 \n  2291.1,233.578 \n  \"/>\n<path clip-path=\"url(#clip720)\" d=\"\nM1499.18 890.732 L2280.14 890.732 L2280.14 527.852 L1499.18 527.852  Z\n  \" fill=\"#ffffff\" fill-rule=\"evenodd\" fill-opacity=\"1\"/>\n<polyline clip-path=\"url(#clip720)\" style=\"stroke:#000000; stroke-linecap:butt; stroke-linejoin:round; stroke-width:4; stroke-opacity:1; fill:none\" points=\"\n  1499.18,890.732 2280.14,890.732 2280.14,527.852 1499.18,527.852 1499.18,890.732 \n  \"/>\n<polyline clip-path=\"url(#clip720)\" style=\"stroke:#009af9; stroke-linecap:butt; stroke-linejoin:round; stroke-width:4; stroke-opacity:1; fill:none\" stroke-dasharray=\"16, 10\" points=\"\n  1523.39,579.692 1668.63,579.692 \n  \"/>\n<path clip-path=\"url(#clip720)\" d=\"M1717.49 571.046 L1708.11 583.662 L1717.97 596.972 L1712.95 596.972 L1705.41 586.787 L1697.86 596.972 L1692.84 596.972 L1702.91 583.407 L1693.69 571.046 L1698.72 571.046 L1705.59 580.282 L1712.47 571.046 L1717.49 571.046 Z\" fill=\"#000000\" fill-rule=\"evenodd\" fill-opacity=\"1\" /><path clip-path=\"url(#clip720)\" d=\"M1749.29 561 Q1746.19 566.324 1744.69 571.532 Q1743.18 576.741 1743.18 582.088 Q1743.18 587.435 1744.69 592.69 Q1746.22 597.921 1749.29 603.222 L1745.59 603.222 Q1742.12 597.782 1740.38 592.528 Q1738.67 587.273 1738.67 582.088 Q1738.67 576.926 1740.38 571.694 Q1742.1 566.463 1745.59 561 L1749.29 561 Z\" fill=\"#000000\" fill-rule=\"evenodd\" fill-opacity=\"1\" /><path clip-path=\"url(#clip720)\" d=\"M1767.6 574.032 Q1764.18 574.032 1762.19 576.717 Q1760.2 579.379 1760.2 584.032 Q1760.2 588.685 1762.16 591.37 Q1764.16 594.032 1767.6 594.032 Q1771.01 594.032 1773 591.347 Q1774.99 588.662 1774.99 584.032 Q1774.99 579.426 1773 576.741 Q1771.01 574.032 1767.6 574.032 M1767.6 570.421 Q1773.16 570.421 1776.33 574.032 Q1779.5 577.643 1779.5 584.032 Q1779.5 590.398 1776.33 594.032 Q1773.16 597.643 1767.6 597.643 Q1762.03 597.643 1758.85 594.032 Q1755.71 590.398 1755.71 584.032 Q1755.71 577.643 1758.85 574.032 Q1762.03 570.421 1767.6 570.421 Z\" fill=\"#000000\" fill-rule=\"evenodd\" fill-opacity=\"1\" /><path clip-path=\"url(#clip720)\" d=\"M1803.62 583.708 Q1803.62 579.079 1801.7 576.532 Q1799.8 573.986 1796.35 573.986 Q1792.93 573.986 1791.01 576.532 Q1789.11 579.079 1789.11 583.708 Q1789.11 588.315 1791.01 590.861 Q1792.93 593.407 1796.35 593.407 Q1799.8 593.407 1801.7 590.861 Q1803.62 588.315 1803.62 583.708 M1807.88 593.754 Q1807.88 600.375 1804.94 603.592 Q1802 606.833 1795.94 606.833 Q1793.69 606.833 1791.7 606.486 Q1789.71 606.162 1787.84 605.467 L1787.84 601.324 Q1789.71 602.342 1791.54 602.828 Q1793.37 603.315 1795.27 603.315 Q1799.46 603.315 1801.54 601.115 Q1803.62 598.94 1803.62 594.518 L1803.62 592.412 Q1802.3 594.703 1800.24 595.838 Q1798.18 596.972 1795.31 596.972 Q1790.54 596.972 1787.63 593.338 Q1784.71 589.703 1784.71 583.708 Q1784.71 577.69 1787.63 574.055 Q1790.54 570.421 1795.31 570.421 Q1798.18 570.421 1800.24 571.555 Q1802.3 572.69 1803.62 574.981 L1803.62 571.046 L1807.88 571.046 L1807.88 593.754 Z\" fill=\"#000000\" fill-rule=\"evenodd\" fill-opacity=\"1\" /><path clip-path=\"url(#clip720)\" d=\"M1848.78 574.981 L1848.78 560.954 L1853.04 560.954 L1853.04 596.972 L1848.78 596.972 L1848.78 593.083 Q1847.44 595.398 1845.38 596.532 Q1843.34 597.643 1840.47 597.643 Q1835.78 597.643 1832.81 593.893 Q1829.87 590.143 1829.87 584.032 Q1829.87 577.921 1832.81 574.171 Q1835.78 570.421 1840.47 570.421 Q1843.34 570.421 1845.38 571.555 Q1847.44 572.667 1848.78 574.981 M1834.27 584.032 Q1834.27 588.731 1836.19 591.416 Q1838.14 594.078 1841.52 594.078 Q1844.9 594.078 1846.84 591.416 Q1848.78 588.731 1848.78 584.032 Q1848.78 579.333 1846.84 576.671 Q1844.9 573.986 1841.52 573.986 Q1838.14 573.986 1836.19 576.671 Q1834.27 579.333 1834.27 584.032 Z\" fill=\"#000000\" fill-rule=\"evenodd\" fill-opacity=\"1\" /><path clip-path=\"url(#clip720)\" d=\"M1872.6 599.379 Q1870.8 604.009 1869.09 605.421 Q1867.37 606.833 1864.5 606.833 L1861.1 606.833 L1861.1 603.268 L1863.6 603.268 Q1865.36 603.268 1866.33 602.435 Q1867.3 601.602 1868.48 598.5 L1869.25 596.555 L1858.76 571.046 L1863.28 571.046 L1871.38 591.324 L1879.48 571.046 L1883.99 571.046 L1872.6 599.379 Z\" fill=\"#000000\" fill-rule=\"evenodd\" fill-opacity=\"1\" /><path clip-path=\"url(#clip720)\" d=\"M1911.42 581.324 L1911.42 596.972 L1907.16 596.972 L1907.16 581.463 Q1907.16 577.782 1905.73 575.954 Q1904.29 574.125 1901.42 574.125 Q1897.97 574.125 1895.98 576.324 Q1893.99 578.523 1893.99 582.319 L1893.99 596.972 L1889.71 596.972 L1889.71 571.046 L1893.99 571.046 L1893.99 575.074 Q1895.52 572.736 1897.58 571.579 Q1899.66 570.421 1902.37 570.421 Q1906.84 570.421 1909.13 573.199 Q1911.42 575.954 1911.42 581.324 Z\" fill=\"#000000\" fill-rule=\"evenodd\" fill-opacity=\"1\" /><path clip-path=\"url(#clip720)\" d=\"M1931.7 583.94 Q1926.54 583.94 1924.55 585.12 Q1922.56 586.301 1922.56 589.148 Q1922.56 591.416 1924.04 592.759 Q1925.54 594.078 1928.11 594.078 Q1931.65 594.078 1933.78 591.578 Q1935.94 589.055 1935.94 584.889 L1935.94 583.94 L1931.7 583.94 M1940.2 582.18 L1940.2 596.972 L1935.94 596.972 L1935.94 593.037 Q1934.48 595.398 1932.3 596.532 Q1930.13 597.643 1926.98 597.643 Q1923 597.643 1920.64 595.421 Q1918.3 593.176 1918.3 589.426 Q1918.3 585.051 1921.21 582.829 Q1924.15 580.606 1929.96 580.606 L1935.94 580.606 L1935.94 580.19 Q1935.94 577.25 1933.99 575.653 Q1932.07 574.032 1928.58 574.032 Q1926.35 574.032 1924.25 574.565 Q1922.14 575.097 1920.2 576.162 L1920.2 572.227 Q1922.53 571.324 1924.73 570.884 Q1926.93 570.421 1929.02 570.421 Q1934.64 570.421 1937.42 573.338 Q1940.2 576.254 1940.2 582.18 Z\" fill=\"#000000\" fill-rule=\"evenodd\" fill-opacity=\"1\" /><path clip-path=\"url(#clip720)\" d=\"M1969.15 576.023 Q1970.75 573.153 1972.97 571.787 Q1975.2 570.421 1978.21 570.421 Q1982.26 570.421 1984.45 573.268 Q1986.65 576.092 1986.65 581.324 L1986.65 596.972 L1982.37 596.972 L1982.37 581.463 Q1982.37 577.736 1981.05 575.93 Q1979.73 574.125 1977.02 574.125 Q1973.71 574.125 1971.79 576.324 Q1969.87 578.523 1969.87 582.319 L1969.87 596.972 L1965.59 596.972 L1965.59 581.463 Q1965.59 577.713 1964.27 575.93 Q1962.95 574.125 1960.2 574.125 Q1956.93 574.125 1955.01 576.347 Q1953.09 578.546 1953.09 582.319 L1953.09 596.972 L1948.81 596.972 L1948.81 571.046 L1953.09 571.046 L1953.09 575.074 Q1954.55 572.69 1956.58 571.555 Q1958.62 570.421 1961.42 570.421 Q1964.25 570.421 1966.21 571.856 Q1968.21 573.292 1969.15 576.023 Z\" fill=\"#000000\" fill-rule=\"evenodd\" fill-opacity=\"1\" /><path clip-path=\"url(#clip720)\" d=\"M1995.15 571.046 L1999.41 571.046 L1999.41 596.972 L1995.15 596.972 L1995.15 571.046 M1995.15 560.954 L1999.41 560.954 L1999.41 566.347 L1995.15 566.347 L1995.15 560.954 Z\" fill=\"#000000\" fill-rule=\"evenodd\" fill-opacity=\"1\" /><path clip-path=\"url(#clip720)\" d=\"M2026.98 572.042 L2026.98 576.023 Q2025.17 575.028 2023.34 574.542 Q2021.54 574.032 2019.69 574.032 Q2015.54 574.032 2013.25 576.671 Q2010.96 579.287 2010.96 584.032 Q2010.96 588.778 2013.25 591.416 Q2015.54 594.032 2019.69 594.032 Q2021.54 594.032 2023.34 593.546 Q2025.17 593.037 2026.98 592.041 L2026.98 595.977 Q2025.2 596.81 2023.27 597.227 Q2021.38 597.643 2019.22 597.643 Q2013.37 597.643 2009.92 593.963 Q2006.47 590.282 2006.47 584.032 Q2006.47 577.69 2009.94 574.055 Q2013.44 570.421 2019.5 570.421 Q2021.47 570.421 2023.34 570.838 Q2025.22 571.231 2026.98 572.042 Z\" fill=\"#000000\" fill-rule=\"evenodd\" fill-opacity=\"1\" /><path clip-path=\"url(#clip720)\" d=\"M2050.91 571.81 L2050.91 575.838 Q2049.11 574.912 2047.16 574.449 Q2045.22 573.986 2043.14 573.986 Q2039.96 573.986 2038.37 574.958 Q2036.79 575.93 2036.79 577.875 Q2036.79 579.356 2037.93 580.213 Q2039.06 581.046 2042.49 581.81 L2043.95 582.134 Q2048.48 583.106 2050.38 584.889 Q2052.3 586.648 2052.3 589.819 Q2052.3 593.43 2049.43 595.537 Q2046.58 597.643 2041.58 597.643 Q2039.5 597.643 2037.23 597.227 Q2034.99 596.833 2032.49 596.023 L2032.49 591.625 Q2034.85 592.852 2037.14 593.477 Q2039.43 594.078 2041.68 594.078 Q2044.69 594.078 2046.31 593.06 Q2047.93 592.018 2047.93 590.143 Q2047.93 588.407 2046.75 587.481 Q2045.59 586.555 2041.63 585.699 L2040.15 585.352 Q2036.19 584.518 2034.43 582.805 Q2032.67 581.069 2032.67 578.06 Q2032.67 574.403 2035.26 572.412 Q2037.86 570.421 2042.63 570.421 Q2044.99 570.421 2047.07 570.768 Q2049.15 571.116 2050.91 571.81 Z\" fill=\"#000000\" fill-rule=\"evenodd\" fill-opacity=\"1\" /><path clip-path=\"url(#clip720)\" d=\"M2058.41 561 L2062.12 561 Q2065.59 566.463 2067.3 571.694 Q2069.04 576.926 2069.04 582.088 Q2069.04 587.273 2067.3 592.528 Q2065.59 597.782 2062.12 603.222 L2058.41 603.222 Q2061.49 597.921 2063 592.69 Q2064.52 587.435 2064.52 582.088 Q2064.52 576.741 2063 571.532 Q2061.49 566.324 2058.41 561 Z\" fill=\"#000000\" fill-rule=\"evenodd\" fill-opacity=\"1\" /><polyline clip-path=\"url(#clip720)\" style=\"stroke:#e26f46; stroke-linecap:butt; stroke-linejoin:round; stroke-width:4; stroke-opacity:1; fill:none\" stroke-dasharray=\"16, 10\" points=\"\n  1523.39,631.532 1668.63,631.532 \n  \"/>\n<path clip-path=\"url(#clip720)\" d=\"M1712.1 632.377 L1697.35 632.377 Q1697.7 639.298 1699.29 642.238 Q1701.29 645.849 1704.73 645.849 Q1708.21 645.849 1710.13 642.215 Q1711.82 639.02 1712.1 632.377 M1712.03 628.442 Q1711.38 621.868 1710.13 619.553 Q1708.14 615.895 1704.73 615.895 Q1701.19 615.895 1699.32 619.507 Q1697.84 622.423 1697.4 628.442 L1712.03 628.442 M1704.73 612.423 Q1710.29 612.423 1713.46 617.331 Q1716.63 622.215 1716.63 630.872 Q1716.63 639.506 1713.46 644.414 Q1710.29 649.344 1704.73 649.344 Q1699.16 649.344 1696.01 644.414 Q1692.84 639.506 1692.84 630.872 Q1692.84 622.215 1696.01 617.331 Q1699.16 612.423 1704.73 612.423 Z\" fill=\"#000000\" fill-rule=\"evenodd\" fill-opacity=\"1\" /><path clip-path=\"url(#clip720)\" d=\"M1748.99 612.84 Q1745.89 618.164 1744.39 623.372 Q1742.88 628.581 1742.88 633.928 Q1742.88 639.275 1744.39 644.53 Q1745.91 649.761 1748.99 655.062 L1745.29 655.062 Q1741.82 649.622 1740.08 644.368 Q1738.37 639.113 1738.37 633.928 Q1738.37 628.766 1740.08 623.534 Q1741.79 618.303 1745.29 612.84 L1748.99 612.84 Z\" fill=\"#000000\" fill-rule=\"evenodd\" fill-opacity=\"1\" /><path clip-path=\"url(#clip720)\" d=\"M1767.3 625.872 Q1763.88 625.872 1761.89 628.557 Q1759.9 631.219 1759.9 635.872 Q1759.9 640.525 1761.86 643.21 Q1763.85 645.872 1767.3 645.872 Q1770.71 645.872 1772.7 643.187 Q1774.69 640.502 1774.69 635.872 Q1774.69 631.266 1772.7 628.581 Q1770.71 625.872 1767.3 625.872 M1767.3 622.261 Q1772.86 622.261 1776.03 625.872 Q1779.2 629.483 1779.2 635.872 Q1779.2 642.238 1776.03 645.872 Q1772.86 649.483 1767.3 649.483 Q1761.72 649.483 1758.55 645.872 Q1755.41 642.238 1755.41 635.872 Q1755.41 629.483 1758.55 625.872 Q1761.72 622.261 1767.3 622.261 Z\" fill=\"#000000\" fill-rule=\"evenodd\" fill-opacity=\"1\" /><path clip-path=\"url(#clip720)\" d=\"M1803.32 635.548 Q1803.32 630.919 1801.4 628.372 Q1799.5 625.826 1796.05 625.826 Q1792.63 625.826 1790.71 628.372 Q1788.81 630.919 1788.81 635.548 Q1788.81 640.155 1790.71 642.701 Q1792.63 645.247 1796.05 645.247 Q1799.5 645.247 1801.4 642.701 Q1803.32 640.155 1803.32 635.548 M1807.58 645.594 Q1807.58 652.215 1804.64 655.432 Q1801.7 658.673 1795.64 658.673 Q1793.39 658.673 1791.4 658.326 Q1789.41 658.002 1787.53 657.307 L1787.53 653.164 Q1789.41 654.182 1791.24 654.668 Q1793.07 655.155 1794.97 655.155 Q1799.16 655.155 1801.24 652.955 Q1803.32 650.78 1803.32 646.358 L1803.32 644.252 Q1802 646.543 1799.94 647.678 Q1797.88 648.812 1795.01 648.812 Q1790.24 648.812 1787.33 645.178 Q1784.41 641.543 1784.41 635.548 Q1784.41 629.53 1787.33 625.895 Q1790.24 622.261 1795.01 622.261 Q1797.88 622.261 1799.94 623.395 Q1802 624.53 1803.32 626.821 L1803.32 622.886 L1807.58 622.886 L1807.58 645.594 Z\" fill=\"#000000\" fill-rule=\"evenodd\" fill-opacity=\"1\" /><path clip-path=\"url(#clip720)\" d=\"M1848.48 626.821 L1848.48 612.794 L1852.74 612.794 L1852.74 648.812 L1848.48 648.812 L1848.48 644.923 Q1847.14 647.238 1845.08 648.372 Q1843.04 649.483 1840.17 649.483 Q1835.47 649.483 1832.51 645.733 Q1829.57 641.983 1829.57 635.872 Q1829.57 629.761 1832.51 626.011 Q1835.47 622.261 1840.17 622.261 Q1843.04 622.261 1845.08 623.395 Q1847.14 624.507 1848.48 626.821 M1833.97 635.872 Q1833.97 640.571 1835.89 643.256 Q1837.84 645.918 1841.22 645.918 Q1844.59 645.918 1846.54 643.256 Q1848.48 640.571 1848.48 635.872 Q1848.48 631.173 1846.54 628.511 Q1844.59 625.826 1841.22 625.826 Q1837.84 625.826 1835.89 628.511 Q1833.97 631.173 1833.97 635.872 Z\" fill=\"#000000\" fill-rule=\"evenodd\" fill-opacity=\"1\" /><path clip-path=\"url(#clip720)\" d=\"M1872.3 651.219 Q1870.5 655.849 1868.78 657.261 Q1867.07 658.673 1864.2 658.673 L1860.8 658.673 L1860.8 655.108 L1863.3 655.108 Q1865.06 655.108 1866.03 654.275 Q1867 653.442 1868.18 650.34 L1868.95 648.395 L1858.46 622.886 L1862.97 622.886 L1871.08 643.164 L1879.18 622.886 L1883.69 622.886 L1872.3 651.219 Z\" fill=\"#000000\" fill-rule=\"evenodd\" fill-opacity=\"1\" /><path clip-path=\"url(#clip720)\" d=\"M1911.12 633.164 L1911.12 648.812 L1906.86 648.812 L1906.86 633.303 Q1906.86 629.622 1905.43 627.794 Q1903.99 625.965 1901.12 625.965 Q1897.67 625.965 1895.68 628.164 Q1893.69 630.363 1893.69 634.159 L1893.69 648.812 L1889.41 648.812 L1889.41 622.886 L1893.69 622.886 L1893.69 626.914 Q1895.22 624.576 1897.28 623.419 Q1899.36 622.261 1902.07 622.261 Q1906.54 622.261 1908.83 625.039 Q1911.12 627.794 1911.12 633.164 Z\" fill=\"#000000\" fill-rule=\"evenodd\" fill-opacity=\"1\" /><path clip-path=\"url(#clip720)\" d=\"M1931.4 635.78 Q1926.24 635.78 1924.25 636.96 Q1922.26 638.141 1922.26 640.988 Q1922.26 643.256 1923.74 644.599 Q1925.24 645.918 1927.81 645.918 Q1931.35 645.918 1933.48 643.418 Q1935.64 640.895 1935.64 636.729 L1935.64 635.78 L1931.4 635.78 M1939.9 634.02 L1939.9 648.812 L1935.64 648.812 L1935.64 644.877 Q1934.18 647.238 1932 648.372 Q1929.83 649.483 1926.68 649.483 Q1922.7 649.483 1920.33 647.261 Q1918 645.016 1918 641.266 Q1918 636.891 1920.91 634.669 Q1923.85 632.446 1929.66 632.446 L1935.64 632.446 L1935.64 632.03 Q1935.64 629.09 1933.69 627.493 Q1931.77 625.872 1928.27 625.872 Q1926.05 625.872 1923.95 626.405 Q1921.84 626.937 1919.9 628.002 L1919.9 624.067 Q1922.23 623.164 1924.43 622.724 Q1926.63 622.261 1928.71 622.261 Q1934.34 622.261 1937.12 625.178 Q1939.9 628.094 1939.9 634.02 Z\" fill=\"#000000\" fill-rule=\"evenodd\" fill-opacity=\"1\" /><path clip-path=\"url(#clip720)\" d=\"M1968.85 627.863 Q1970.45 624.993 1972.67 623.627 Q1974.89 622.261 1977.9 622.261 Q1981.96 622.261 1984.15 625.108 Q1986.35 627.932 1986.35 633.164 L1986.35 648.812 L1982.07 648.812 L1982.07 633.303 Q1982.07 629.576 1980.75 627.77 Q1979.43 625.965 1976.72 625.965 Q1973.41 625.965 1971.49 628.164 Q1969.57 630.363 1969.57 634.159 L1969.57 648.812 L1965.29 648.812 L1965.29 633.303 Q1965.29 629.553 1963.97 627.77 Q1962.65 625.965 1959.89 625.965 Q1956.63 625.965 1954.71 628.187 Q1952.79 630.386 1952.79 634.159 L1952.79 648.812 L1948.51 648.812 L1948.51 622.886 L1952.79 622.886 L1952.79 626.914 Q1954.25 624.53 1956.28 623.395 Q1958.32 622.261 1961.12 622.261 Q1963.95 622.261 1965.91 623.696 Q1967.9 625.132 1968.85 627.863 Z\" fill=\"#000000\" fill-rule=\"evenodd\" fill-opacity=\"1\" /><path clip-path=\"url(#clip720)\" d=\"M1994.85 622.886 L1999.11 622.886 L1999.11 648.812 L1994.85 648.812 L1994.85 622.886 M1994.85 612.794 L1999.11 612.794 L1999.11 618.187 L1994.85 618.187 L1994.85 612.794 Z\" fill=\"#000000\" fill-rule=\"evenodd\" fill-opacity=\"1\" /><path clip-path=\"url(#clip720)\" d=\"M2026.68 623.882 L2026.68 627.863 Q2024.87 626.868 2023.04 626.382 Q2021.24 625.872 2019.39 625.872 Q2015.24 625.872 2012.95 628.511 Q2010.66 631.127 2010.66 635.872 Q2010.66 640.618 2012.95 643.256 Q2015.24 645.872 2019.39 645.872 Q2021.24 645.872 2023.04 645.386 Q2024.87 644.877 2026.68 643.881 L2026.68 647.817 Q2024.89 648.65 2022.97 649.067 Q2021.08 649.483 2018.92 649.483 Q2013.07 649.483 2009.62 645.803 Q2006.17 642.122 2006.17 635.872 Q2006.17 629.53 2009.64 625.895 Q2013.14 622.261 2019.2 622.261 Q2021.17 622.261 2023.04 622.678 Q2024.92 623.071 2026.68 623.882 Z\" fill=\"#000000\" fill-rule=\"evenodd\" fill-opacity=\"1\" /><path clip-path=\"url(#clip720)\" d=\"M2050.61 623.65 L2050.61 627.678 Q2048.81 626.752 2046.86 626.289 Q2044.92 625.826 2042.83 625.826 Q2039.66 625.826 2038.07 626.798 Q2036.49 627.77 2036.49 629.715 Q2036.49 631.196 2037.63 632.053 Q2038.76 632.886 2042.19 633.65 L2043.64 633.974 Q2048.18 634.946 2050.08 636.729 Q2052 638.488 2052 641.659 Q2052 645.27 2049.13 647.377 Q2046.28 649.483 2041.28 649.483 Q2039.2 649.483 2036.93 649.067 Q2034.69 648.673 2032.19 647.863 L2032.19 643.465 Q2034.55 644.692 2036.84 645.317 Q2039.13 645.918 2041.38 645.918 Q2044.39 645.918 2046.01 644.9 Q2047.63 643.858 2047.63 641.983 Q2047.63 640.247 2046.45 639.321 Q2045.29 638.395 2041.33 637.539 L2039.85 637.192 Q2035.89 636.358 2034.13 634.645 Q2032.37 632.909 2032.37 629.9 Q2032.37 626.243 2034.96 624.252 Q2037.56 622.261 2042.33 622.261 Q2044.69 622.261 2046.77 622.608 Q2048.85 622.956 2050.61 623.65 Z\" fill=\"#000000\" fill-rule=\"evenodd\" fill-opacity=\"1\" /><path clip-path=\"url(#clip720)\" d=\"M2058.11 612.84 L2061.82 612.84 Q2065.29 618.303 2067 623.534 Q2068.74 628.766 2068.74 633.928 Q2068.74 639.113 2067 644.368 Q2065.29 649.622 2061.82 655.062 L2058.11 655.062 Q2061.19 649.761 2062.7 644.53 Q2064.22 639.275 2064.22 633.928 Q2064.22 628.581 2062.7 623.372 Q2061.19 618.164 2058.11 612.84 Z\" fill=\"#000000\" fill-rule=\"evenodd\" fill-opacity=\"1\" /><polyline clip-path=\"url(#clip720)\" style=\"stroke:#009af9; stroke-linecap:butt; stroke-linejoin:round; stroke-width:4; stroke-opacity:1; fill:none\" stroke-dasharray=\"2, 4\" points=\"\n  1523.39,683.372 1668.63,683.372 \n  \"/>\n<path clip-path=\"url(#clip720)\" d=\"M1717.49 674.726 L1708.11 687.342 L1717.97 700.652 L1712.95 700.652 L1705.41 690.467 L1697.86 700.652 L1692.84 700.652 L1702.91 687.087 L1693.69 674.726 L1698.72 674.726 L1705.59 683.962 L1712.47 674.726 L1717.49 674.726 Z\" fill=\"#000000\" fill-rule=\"evenodd\" fill-opacity=\"1\" /><path clip-path=\"url(#clip720)\" d=\"M1749.29 664.68 Q1746.19 670.004 1744.69 675.212 Q1743.18 680.421 1743.18 685.768 Q1743.18 691.115 1744.69 696.37 Q1746.22 701.601 1749.29 706.902 L1745.59 706.902 Q1742.12 701.462 1740.38 696.208 Q1738.67 690.953 1738.67 685.768 Q1738.67 680.606 1740.38 675.374 Q1742.1 670.143 1745.59 664.68 L1749.29 664.68 Z\" fill=\"#000000\" fill-rule=\"evenodd\" fill-opacity=\"1\" /><path clip-path=\"url(#clip720)\" d=\"M1779.11 685.004 L1779.11 700.652 L1774.85 700.652 L1774.85 685.143 Q1774.85 681.462 1773.41 679.634 Q1771.98 677.805 1769.11 677.805 Q1765.66 677.805 1763.67 680.004 Q1761.68 682.203 1761.68 685.999 L1761.68 700.652 L1757.4 700.652 L1757.4 674.726 L1761.68 674.726 L1761.68 678.754 Q1763.21 676.416 1765.27 675.259 Q1767.35 674.101 1770.06 674.101 Q1774.53 674.101 1776.82 676.879 Q1779.11 679.634 1779.11 685.004 Z\" fill=\"#000000\" fill-rule=\"evenodd\" fill-opacity=\"1\" /><path clip-path=\"url(#clip720)\" d=\"M1797.65 677.712 Q1794.22 677.712 1792.23 680.397 Q1790.24 683.059 1790.24 687.712 Q1790.24 692.365 1792.21 695.05 Q1794.2 697.712 1797.65 697.712 Q1801.05 697.712 1803.04 695.027 Q1805.03 692.342 1805.03 687.712 Q1805.03 683.106 1803.04 680.421 Q1801.05 677.712 1797.65 677.712 M1797.65 674.101 Q1803.21 674.101 1806.38 677.712 Q1809.55 681.323 1809.55 687.712 Q1809.55 694.078 1806.38 697.712 Q1803.21 701.323 1797.65 701.323 Q1792.07 701.323 1788.9 697.712 Q1785.75 694.078 1785.75 687.712 Q1785.75 681.323 1788.9 677.712 Q1792.07 674.101 1797.65 674.101 Z\" fill=\"#000000\" fill-rule=\"evenodd\" fill-opacity=\"1\" /><path clip-path=\"url(#clip720)\" d=\"M1836.79 679.703 Q1838.39 676.833 1840.61 675.467 Q1842.84 674.101 1845.84 674.101 Q1849.9 674.101 1852.09 676.948 Q1854.29 679.772 1854.29 685.004 L1854.29 700.652 L1850.01 700.652 L1850.01 685.143 Q1850.01 681.416 1848.69 679.61 Q1847.37 677.805 1844.66 677.805 Q1841.35 677.805 1839.43 680.004 Q1837.51 682.203 1837.51 685.999 L1837.51 700.652 L1833.23 700.652 L1833.23 685.143 Q1833.23 681.393 1831.91 679.61 Q1830.59 677.805 1827.84 677.805 Q1824.57 677.805 1822.65 680.027 Q1820.73 682.226 1820.73 685.999 L1820.73 700.652 L1816.45 700.652 L1816.45 674.726 L1820.73 674.726 L1820.73 678.754 Q1822.19 676.37 1824.22 675.235 Q1826.26 674.101 1829.06 674.101 Q1831.89 674.101 1833.85 675.536 Q1835.84 676.972 1836.79 679.703 Z\" fill=\"#000000\" fill-rule=\"evenodd\" fill-opacity=\"1\" /><path clip-path=\"url(#clip720)\" d=\"M1862.79 674.726 L1867.05 674.726 L1867.05 700.652 L1862.79 700.652 L1862.79 674.726 M1862.79 664.634 L1867.05 664.634 L1867.05 670.027 L1862.79 670.027 L1862.79 664.634 Z\" fill=\"#000000\" fill-rule=\"evenodd\" fill-opacity=\"1\" /><path clip-path=\"url(#clip720)\" d=\"M1897.51 685.004 L1897.51 700.652 L1893.25 700.652 L1893.25 685.143 Q1893.25 681.462 1891.82 679.634 Q1890.38 677.805 1887.51 677.805 Q1884.06 677.805 1882.07 680.004 Q1880.08 682.203 1880.08 685.999 L1880.08 700.652 L1875.8 700.652 L1875.8 674.726 L1880.08 674.726 L1880.08 678.754 Q1881.61 676.416 1883.67 675.259 Q1885.75 674.101 1888.46 674.101 Q1892.93 674.101 1895.22 676.879 Q1897.51 679.634 1897.51 685.004 Z\" fill=\"#000000\" fill-rule=\"evenodd\" fill-opacity=\"1\" /><path clip-path=\"url(#clip720)\" d=\"M1917.79 687.62 Q1912.63 687.62 1910.64 688.8 Q1908.65 689.981 1908.65 692.828 Q1908.65 695.096 1910.13 696.439 Q1911.63 697.758 1914.2 697.758 Q1917.74 697.758 1919.87 695.258 Q1922.02 692.735 1922.02 688.569 L1922.02 687.62 L1917.79 687.62 M1926.28 685.86 L1926.28 700.652 L1922.02 700.652 L1922.02 696.717 Q1920.57 699.078 1918.39 700.212 Q1916.21 701.323 1913.07 701.323 Q1909.09 701.323 1906.72 699.101 Q1904.39 696.856 1904.39 693.106 Q1904.39 688.731 1907.3 686.509 Q1910.24 684.286 1916.05 684.286 L1922.02 684.286 L1922.02 683.87 Q1922.02 680.93 1920.08 679.333 Q1918.16 677.712 1914.66 677.712 Q1912.44 677.712 1910.34 678.245 Q1908.23 678.777 1906.28 679.842 L1906.28 675.907 Q1908.62 675.004 1910.82 674.564 Q1913.02 674.101 1915.1 674.101 Q1920.73 674.101 1923.51 677.018 Q1926.28 679.934 1926.28 685.86 Z\" fill=\"#000000\" fill-rule=\"evenodd\" fill-opacity=\"1\" /><path clip-path=\"url(#clip720)\" d=\"M1935.06 664.634 L1939.32 664.634 L1939.32 700.652 L1935.06 700.652 L1935.06 664.634 Z\" fill=\"#000000\" fill-rule=\"evenodd\" fill-opacity=\"1\" /><path clip-path=\"url(#clip720)\" d=\"M1985.47 686.624 L1985.47 688.708 L1965.89 688.708 Q1966.17 693.106 1968.53 695.421 Q1970.91 697.712 1975.15 697.712 Q1977.6 697.712 1979.89 697.11 Q1982.21 696.508 1984.48 695.305 L1984.48 699.333 Q1982.19 700.305 1979.78 700.814 Q1977.37 701.323 1974.89 701.323 Q1968.69 701.323 1965.06 697.712 Q1961.45 694.101 1961.45 687.944 Q1961.45 681.578 1964.87 677.851 Q1968.32 674.101 1974.15 674.101 Q1979.39 674.101 1982.42 677.481 Q1985.47 680.837 1985.47 686.624 M1981.21 685.374 Q1981.17 681.879 1979.25 679.796 Q1977.35 677.712 1974.2 677.712 Q1970.64 677.712 1968.48 679.726 Q1966.35 681.74 1966.03 685.397 L1981.21 685.374 Z\" fill=\"#000000\" fill-rule=\"evenodd\" fill-opacity=\"1\" /><path clip-path=\"url(#clip720)\" d=\"M1997.33 669.935 L1997.33 696.809 L2002.97 696.809 Q2010.13 696.809 2013.44 693.569 Q2016.77 690.328 2016.77 683.337 Q2016.77 676.393 2013.44 673.175 Q2010.13 669.935 2002.97 669.935 L1997.33 669.935 M1992.65 666.092 L2002.26 666.092 Q2012.3 666.092 2017 670.282 Q2021.7 674.448 2021.7 683.337 Q2021.7 692.272 2016.98 696.462 Q2012.26 700.652 2002.26 700.652 L1992.65 700.652 L1992.65 666.092 Z\" fill=\"#000000\" fill-rule=\"evenodd\" fill-opacity=\"1\" /><path clip-path=\"url(#clip720)\" d=\"M2029.15 666.092 L2036.12 666.092 L2044.94 689.61 L2053.81 666.092 L2060.77 666.092 L2060.77 700.652 L2056.21 700.652 L2056.21 670.305 L2047.3 694.008 L2042.6 694.008 L2033.69 670.305 L2033.69 700.652 L2029.15 700.652 L2029.15 666.092 Z\" fill=\"#000000\" fill-rule=\"evenodd\" fill-opacity=\"1\" /><path clip-path=\"url(#clip720)\" d=\"M2074.73 669.935 L2074.73 696.809 L2080.38 696.809 Q2087.53 696.809 2090.84 693.569 Q2094.18 690.328 2094.18 683.337 Q2094.18 676.393 2090.84 673.175 Q2087.53 669.935 2080.38 669.935 L2074.73 669.935 M2070.06 666.092 L2079.66 666.092 Q2089.71 666.092 2094.41 670.282 Q2099.11 674.448 2099.11 683.337 Q2099.11 692.272 2094.38 696.462 Q2089.66 700.652 2079.66 700.652 L2070.06 700.652 L2070.06 666.092 Z\" fill=\"#000000\" fill-rule=\"evenodd\" fill-opacity=\"1\" /><path clip-path=\"url(#clip720)\" d=\"M2105.7 664.68 L2109.41 664.68 Q2112.88 670.143 2114.59 675.374 Q2116.33 680.606 2116.33 685.768 Q2116.33 690.953 2114.59 696.208 Q2112.88 701.462 2109.41 706.902 L2105.7 706.902 Q2108.78 701.601 2110.29 696.37 Q2111.82 691.115 2111.82 685.768 Q2111.82 680.421 2110.29 675.212 Q2108.78 670.004 2105.7 664.68 Z\" fill=\"#000000\" fill-rule=\"evenodd\" fill-opacity=\"1\" /><polyline clip-path=\"url(#clip720)\" style=\"stroke:#e26f46; stroke-linecap:butt; stroke-linejoin:round; stroke-width:4; stroke-opacity:1; fill:none\" stroke-dasharray=\"2, 4\" points=\"\n  1523.39,735.212 1668.63,735.212 \n  \"/>\n<path clip-path=\"url(#clip720)\" d=\"M1712.1 736.057 L1697.35 736.057 Q1697.7 742.978 1699.29 745.918 Q1701.29 749.529 1704.73 749.529 Q1708.21 749.529 1710.13 745.895 Q1711.82 742.7 1712.1 736.057 M1712.03 732.122 Q1711.38 725.548 1710.13 723.233 Q1708.14 719.575 1704.73 719.575 Q1701.19 719.575 1699.32 723.187 Q1697.84 726.103 1697.4 732.122 L1712.03 732.122 M1704.73 716.103 Q1710.29 716.103 1713.46 721.011 Q1716.63 725.895 1716.63 734.552 Q1716.63 743.186 1713.46 748.094 Q1710.29 753.024 1704.73 753.024 Q1699.16 753.024 1696.01 748.094 Q1692.84 743.186 1692.84 734.552 Q1692.84 725.895 1696.01 721.011 Q1699.16 716.103 1704.73 716.103 Z\" fill=\"#000000\" fill-rule=\"evenodd\" fill-opacity=\"1\" /><path clip-path=\"url(#clip720)\" d=\"M1748.99 716.52 Q1745.89 721.844 1744.39 727.052 Q1742.88 732.261 1742.88 737.608 Q1742.88 742.955 1744.39 748.21 Q1745.91 753.441 1748.99 758.742 L1745.29 758.742 Q1741.82 753.302 1740.08 748.048 Q1738.37 742.793 1738.37 737.608 Q1738.37 732.446 1740.08 727.214 Q1741.79 721.983 1745.29 716.52 L1748.99 716.52 Z\" fill=\"#000000\" fill-rule=\"evenodd\" fill-opacity=\"1\" /><path clip-path=\"url(#clip720)\" d=\"M1778.81 736.844 L1778.81 752.492 L1774.55 752.492 L1774.55 736.983 Q1774.55 733.302 1773.11 731.474 Q1771.68 729.645 1768.81 729.645 Q1765.36 729.645 1763.37 731.844 Q1761.38 734.043 1761.38 737.839 L1761.38 752.492 L1757.1 752.492 L1757.1 726.566 L1761.38 726.566 L1761.38 730.594 Q1762.91 728.256 1764.97 727.099 Q1767.05 725.941 1769.76 725.941 Q1774.22 725.941 1776.52 728.719 Q1778.81 731.474 1778.81 736.844 Z\" fill=\"#000000\" fill-rule=\"evenodd\" fill-opacity=\"1\" /><path clip-path=\"url(#clip720)\" d=\"M1797.35 729.552 Q1793.92 729.552 1791.93 732.237 Q1789.94 734.899 1789.94 739.552 Q1789.94 744.205 1791.91 746.89 Q1793.9 749.552 1797.35 749.552 Q1800.75 749.552 1802.74 746.867 Q1804.73 744.182 1804.73 739.552 Q1804.73 734.946 1802.74 732.261 Q1800.75 729.552 1797.35 729.552 M1797.35 725.941 Q1802.91 725.941 1806.08 729.552 Q1809.25 733.163 1809.25 739.552 Q1809.25 745.918 1806.08 749.552 Q1802.91 753.163 1797.35 753.163 Q1791.77 753.163 1788.6 749.552 Q1785.45 745.918 1785.45 739.552 Q1785.45 733.163 1788.6 729.552 Q1791.77 725.941 1797.35 725.941 Z\" fill=\"#000000\" fill-rule=\"evenodd\" fill-opacity=\"1\" /><path clip-path=\"url(#clip720)\" d=\"M1836.49 731.543 Q1838.09 728.673 1840.31 727.307 Q1842.53 725.941 1845.54 725.941 Q1849.59 725.941 1851.79 728.788 Q1853.99 731.612 1853.99 736.844 L1853.99 752.492 L1849.71 752.492 L1849.71 736.983 Q1849.71 733.256 1848.39 731.45 Q1847.07 729.645 1844.36 729.645 Q1841.05 729.645 1839.13 731.844 Q1837.21 734.043 1837.21 737.839 L1837.21 752.492 L1832.93 752.492 L1832.93 736.983 Q1832.93 733.233 1831.61 731.45 Q1830.29 729.645 1827.53 729.645 Q1824.27 729.645 1822.35 731.867 Q1820.43 734.066 1820.43 737.839 L1820.43 752.492 L1816.15 752.492 L1816.15 726.566 L1820.43 726.566 L1820.43 730.594 Q1821.89 728.21 1823.92 727.075 Q1825.96 725.941 1828.76 725.941 Q1831.59 725.941 1833.55 727.376 Q1835.54 728.812 1836.49 731.543 Z\" fill=\"#000000\" fill-rule=\"evenodd\" fill-opacity=\"1\" /><path clip-path=\"url(#clip720)\" d=\"M1862.49 726.566 L1866.75 726.566 L1866.75 752.492 L1862.49 752.492 L1862.49 726.566 M1862.49 716.474 L1866.75 716.474 L1866.75 721.867 L1862.49 721.867 L1862.49 716.474 Z\" fill=\"#000000\" fill-rule=\"evenodd\" fill-opacity=\"1\" /><path clip-path=\"url(#clip720)\" d=\"M1897.21 736.844 L1897.21 752.492 L1892.95 752.492 L1892.95 736.983 Q1892.95 733.302 1891.52 731.474 Q1890.08 729.645 1887.21 729.645 Q1883.76 729.645 1881.77 731.844 Q1879.78 734.043 1879.78 737.839 L1879.78 752.492 L1875.5 752.492 L1875.5 726.566 L1879.78 726.566 L1879.78 730.594 Q1881.31 728.256 1883.37 727.099 Q1885.45 725.941 1888.16 725.941 Q1892.63 725.941 1894.92 728.719 Q1897.21 731.474 1897.21 736.844 Z\" fill=\"#000000\" fill-rule=\"evenodd\" fill-opacity=\"1\" /><path clip-path=\"url(#clip720)\" d=\"M1917.49 739.46 Q1912.33 739.46 1910.34 740.64 Q1908.34 741.821 1908.34 744.668 Q1908.34 746.936 1909.83 748.279 Q1911.33 749.598 1913.9 749.598 Q1917.44 749.598 1919.57 747.098 Q1921.72 744.575 1921.72 740.409 L1921.72 739.46 L1917.49 739.46 M1925.98 737.7 L1925.98 752.492 L1921.72 752.492 L1921.72 748.557 Q1920.27 750.918 1918.09 752.052 Q1915.91 753.163 1912.77 753.163 Q1908.78 753.163 1906.42 750.941 Q1904.09 748.696 1904.09 744.946 Q1904.09 740.571 1907 738.349 Q1909.94 736.126 1915.75 736.126 L1921.72 736.126 L1921.72 735.71 Q1921.72 732.77 1919.78 731.173 Q1917.86 729.552 1914.36 729.552 Q1912.14 729.552 1910.03 730.085 Q1907.93 730.617 1905.98 731.682 L1905.98 727.747 Q1908.32 726.844 1910.52 726.404 Q1912.72 725.941 1914.8 725.941 Q1920.43 725.941 1923.21 728.858 Q1925.98 731.774 1925.98 737.7 Z\" fill=\"#000000\" fill-rule=\"evenodd\" fill-opacity=\"1\" /><path clip-path=\"url(#clip720)\" d=\"M1934.76 716.474 L1939.02 716.474 L1939.02 752.492 L1934.76 752.492 L1934.76 716.474 Z\" fill=\"#000000\" fill-rule=\"evenodd\" fill-opacity=\"1\" /><path clip-path=\"url(#clip720)\" d=\"M1985.17 738.464 L1985.17 740.548 L1965.59 740.548 Q1965.87 744.946 1968.23 747.261 Q1970.61 749.552 1974.85 749.552 Q1977.3 749.552 1979.59 748.95 Q1981.91 748.348 1984.18 747.145 L1984.18 751.173 Q1981.89 752.145 1979.48 752.654 Q1977.07 753.163 1974.59 753.163 Q1968.39 753.163 1964.76 749.552 Q1961.14 745.941 1961.14 739.784 Q1961.14 733.418 1964.57 729.691 Q1968.02 725.941 1973.85 725.941 Q1979.08 725.941 1982.12 729.321 Q1985.17 732.677 1985.17 738.464 M1980.91 737.214 Q1980.87 733.719 1978.95 731.636 Q1977.05 729.552 1973.9 729.552 Q1970.33 729.552 1968.18 731.566 Q1966.05 733.58 1965.73 737.237 L1980.91 737.214 Z\" fill=\"#000000\" fill-rule=\"evenodd\" fill-opacity=\"1\" /><path clip-path=\"url(#clip720)\" d=\"M1997.02 721.775 L1997.02 748.649 L2002.67 748.649 Q2009.83 748.649 2013.14 745.409 Q2016.47 742.168 2016.47 735.177 Q2016.47 728.233 2013.14 725.015 Q2009.83 721.775 2002.67 721.775 L1997.02 721.775 M1992.35 717.932 L2001.95 717.932 Q2012 717.932 2016.7 722.122 Q2021.4 726.288 2021.4 735.177 Q2021.4 744.112 2016.68 748.302 Q2011.95 752.492 2001.95 752.492 L1992.35 752.492 L1992.35 717.932 Z\" fill=\"#000000\" fill-rule=\"evenodd\" fill-opacity=\"1\" /><path clip-path=\"url(#clip720)\" d=\"M2028.85 717.932 L2035.82 717.932 L2044.64 741.45 L2053.51 717.932 L2060.47 717.932 L2060.47 752.492 L2055.91 752.492 L2055.91 722.145 L2047 745.848 L2042.3 745.848 L2033.39 722.145 L2033.39 752.492 L2028.85 752.492 L2028.85 717.932 Z\" fill=\"#000000\" fill-rule=\"evenodd\" fill-opacity=\"1\" /><path clip-path=\"url(#clip720)\" d=\"M2074.43 721.775 L2074.43 748.649 L2080.08 748.649 Q2087.23 748.649 2090.54 745.409 Q2093.88 742.168 2093.88 735.177 Q2093.88 728.233 2090.54 725.015 Q2087.23 721.775 2080.08 721.775 L2074.43 721.775 M2069.76 717.932 L2079.36 717.932 Q2089.41 717.932 2094.11 722.122 Q2098.81 726.288 2098.81 735.177 Q2098.81 744.112 2094.08 748.302 Q2089.36 752.492 2079.36 752.492 L2069.76 752.492 L2069.76 717.932 Z\" fill=\"#000000\" fill-rule=\"evenodd\" fill-opacity=\"1\" /><path clip-path=\"url(#clip720)\" d=\"M2105.4 716.52 L2109.11 716.52 Q2112.58 721.983 2114.29 727.214 Q2116.03 732.446 2116.03 737.608 Q2116.03 742.793 2114.29 748.048 Q2112.58 753.302 2109.11 758.742 L2105.4 758.742 Q2108.48 753.441 2109.99 748.21 Q2111.51 742.955 2111.51 737.608 Q2111.51 732.261 2109.99 727.052 Q2108.48 721.844 2105.4 716.52 Z\" fill=\"#000000\" fill-rule=\"evenodd\" fill-opacity=\"1\" /><polyline clip-path=\"url(#clip720)\" style=\"stroke:#009af9; stroke-linecap:butt; stroke-linejoin:round; stroke-width:4; stroke-opacity:1; fill:none\" points=\"\n  1523.39,787.052 1668.63,787.052 \n  \"/>\n<path clip-path=\"url(#clip720)\" d=\"M1717.49 778.406 L1708.11 791.022 L1717.97 804.332 L1712.95 804.332 L1705.41 794.147 L1697.86 804.332 L1692.84 804.332 L1702.91 790.767 L1693.69 778.406 L1698.72 778.406 L1705.59 787.642 L1712.47 778.406 L1717.49 778.406 Z\" fill=\"#000000\" fill-rule=\"evenodd\" fill-opacity=\"1\" /><path clip-path=\"url(#clip720)\" d=\"M1749.29 768.36 Q1746.19 773.684 1744.69 778.892 Q1743.18 784.101 1743.18 789.448 Q1743.18 794.795 1744.69 800.05 Q1746.22 805.281 1749.29 810.582 L1745.59 810.582 Q1742.12 805.142 1740.38 799.888 Q1738.67 794.633 1738.67 789.448 Q1738.67 784.286 1740.38 779.054 Q1742.1 773.823 1745.59 768.36 L1749.29 768.36 Z\" fill=\"#000000\" fill-rule=\"evenodd\" fill-opacity=\"1\" /><path clip-path=\"url(#clip720)\" d=\"M1757.56 778.406 L1761.82 778.406 L1761.82 804.795 Q1761.82 809.749 1759.92 811.971 Q1758.04 814.193 1753.85 814.193 L1752.23 814.193 L1752.23 810.582 L1753.37 810.582 Q1755.8 810.582 1756.68 809.448 Q1757.56 808.337 1757.56 804.795 L1757.56 778.406 M1757.56 768.314 L1761.82 768.314 L1761.82 773.707 L1757.56 773.707 L1757.56 768.314 Z\" fill=\"#000000\" fill-rule=\"evenodd\" fill-opacity=\"1\" /><path clip-path=\"url(#clip720)\" d=\"M1782.51 791.3 Q1777.35 791.3 1775.36 792.48 Q1773.37 793.661 1773.37 796.508 Q1773.37 798.776 1774.85 800.119 Q1776.35 801.438 1778.92 801.438 Q1782.47 801.438 1784.59 798.938 Q1786.75 796.415 1786.75 792.249 L1786.75 791.3 L1782.51 791.3 M1791.01 789.54 L1791.01 804.332 L1786.75 804.332 L1786.75 800.397 Q1785.29 802.758 1783.11 803.892 Q1780.94 805.003 1777.79 805.003 Q1773.81 805.003 1771.45 802.781 Q1769.11 800.536 1769.11 796.786 Q1769.11 792.411 1772.03 790.189 Q1774.97 787.966 1780.78 787.966 L1786.75 787.966 L1786.75 787.55 Q1786.75 784.61 1784.8 783.013 Q1782.88 781.392 1779.39 781.392 Q1777.16 781.392 1775.06 781.925 Q1772.95 782.457 1771.01 783.522 L1771.01 779.587 Q1773.35 778.684 1775.54 778.244 Q1777.74 777.781 1779.83 777.781 Q1785.45 777.781 1788.23 780.698 Q1791.01 783.614 1791.01 789.54 Z\" fill=\"#000000\" fill-rule=\"evenodd\" fill-opacity=\"1\" /><path clip-path=\"url(#clip720)\" d=\"M1818.44 779.402 L1818.44 783.383 Q1816.63 782.388 1814.8 781.902 Q1813 781.392 1811.15 781.392 Q1807 781.392 1804.71 784.031 Q1802.42 786.647 1802.42 791.392 Q1802.42 796.138 1804.71 798.776 Q1807 801.392 1811.15 801.392 Q1813 801.392 1814.8 800.906 Q1816.63 800.397 1818.44 799.401 L1818.44 803.337 Q1816.65 804.17 1814.73 804.587 Q1812.84 805.003 1810.68 805.003 Q1804.83 805.003 1801.38 801.323 Q1797.93 797.642 1797.93 791.392 Q1797.93 785.05 1801.4 781.415 Q1804.9 777.781 1810.96 777.781 Q1812.93 777.781 1814.8 778.198 Q1816.68 778.591 1818.44 779.402 Z\" fill=\"#000000\" fill-rule=\"evenodd\" fill-opacity=\"1\" /><path clip-path=\"url(#clip720)\" d=\"M1835.89 781.392 Q1832.47 781.392 1830.47 784.077 Q1828.48 786.739 1828.48 791.392 Q1828.48 796.045 1830.45 798.73 Q1832.44 801.392 1835.89 801.392 Q1839.29 801.392 1841.28 798.707 Q1843.28 796.022 1843.28 791.392 Q1843.28 786.786 1841.28 784.101 Q1839.29 781.392 1835.89 781.392 M1835.89 777.781 Q1841.45 777.781 1844.62 781.392 Q1847.79 785.003 1847.79 791.392 Q1847.79 797.758 1844.62 801.392 Q1841.45 805.003 1835.89 805.003 Q1830.31 805.003 1827.14 801.392 Q1823.99 797.758 1823.99 791.392 Q1823.99 785.003 1827.14 781.392 Q1830.31 777.781 1835.89 777.781 Z\" fill=\"#000000\" fill-rule=\"evenodd\" fill-opacity=\"1\" /><path clip-path=\"url(#clip720)\" d=\"M1873.46 791.392 Q1873.46 786.693 1871.52 784.031 Q1869.59 781.346 1866.21 781.346 Q1862.84 781.346 1860.89 784.031 Q1858.97 786.693 1858.97 791.392 Q1858.97 796.091 1860.89 798.776 Q1862.84 801.438 1866.21 801.438 Q1869.59 801.438 1871.52 798.776 Q1873.46 796.091 1873.46 791.392 M1858.97 782.341 Q1860.31 780.027 1862.35 778.915 Q1864.41 777.781 1867.26 777.781 Q1871.98 777.781 1874.92 781.531 Q1877.88 785.281 1877.88 791.392 Q1877.88 797.503 1874.92 801.253 Q1871.98 805.003 1867.26 805.003 Q1864.41 805.003 1862.35 803.892 Q1860.31 802.758 1858.97 800.443 L1858.97 804.332 L1854.69 804.332 L1854.69 768.314 L1858.97 768.314 L1858.97 782.341 Z\" fill=\"#000000\" fill-rule=\"evenodd\" fill-opacity=\"1\" /><path clip-path=\"url(#clip720)\" d=\"M1884.94 778.406 L1889.2 778.406 L1889.2 804.332 L1884.94 804.332 L1884.94 778.406 M1884.94 768.314 L1889.2 768.314 L1889.2 773.707 L1884.94 773.707 L1884.94 768.314 Z\" fill=\"#000000\" fill-rule=\"evenodd\" fill-opacity=\"1\" /><path clip-path=\"url(#clip720)\" d=\"M1909.9 791.3 Q1904.73 791.3 1902.74 792.48 Q1900.75 793.661 1900.75 796.508 Q1900.75 798.776 1902.23 800.119 Q1903.74 801.438 1906.31 801.438 Q1909.85 801.438 1911.98 798.938 Q1914.13 796.415 1914.13 792.249 L1914.13 791.3 L1909.9 791.3 M1918.39 789.54 L1918.39 804.332 L1914.13 804.332 L1914.13 800.397 Q1912.67 802.758 1910.5 803.892 Q1908.32 805.003 1905.17 805.003 Q1901.19 805.003 1898.83 802.781 Q1896.49 800.536 1896.49 796.786 Q1896.49 792.411 1899.41 790.189 Q1902.35 787.966 1908.16 787.966 L1914.13 787.966 L1914.13 787.55 Q1914.13 784.61 1912.19 783.013 Q1910.27 781.392 1906.77 781.392 Q1904.55 781.392 1902.44 781.925 Q1900.34 782.457 1898.39 783.522 L1898.39 779.587 Q1900.73 778.684 1902.93 778.244 Q1905.13 777.781 1907.21 777.781 Q1912.84 777.781 1915.61 780.698 Q1918.39 783.614 1918.39 789.54 Z\" fill=\"#000000\" fill-rule=\"evenodd\" fill-opacity=\"1\" /><path clip-path=\"url(#clip720)\" d=\"M1948.71 788.684 L1948.71 804.332 L1944.46 804.332 L1944.46 788.823 Q1944.46 785.142 1943.02 783.314 Q1941.58 781.485 1938.71 781.485 Q1935.27 781.485 1933.27 783.684 Q1931.28 785.883 1931.28 789.679 L1931.28 804.332 L1927 804.332 L1927 778.406 L1931.28 778.406 L1931.28 782.434 Q1932.81 780.096 1934.87 778.939 Q1936.96 777.781 1939.66 777.781 Q1944.13 777.781 1946.42 780.559 Q1948.71 783.314 1948.71 788.684 Z\" fill=\"#000000\" fill-rule=\"evenodd\" fill-opacity=\"1\" /><path clip-path=\"url(#clip720)\" d=\"M1955.06 789.448 L1967.53 789.448 L1967.53 793.244 L1955.06 793.244 L1955.06 789.448 Z\" fill=\"#000000\" fill-rule=\"evenodd\" fill-opacity=\"1\" /><path clip-path=\"url(#clip720)\" d=\"M1978.44 800.443 L1978.44 814.193 L1974.15 814.193 L1974.15 778.406 L1978.44 778.406 L1978.44 782.341 Q1979.78 780.027 1981.82 778.915 Q1983.88 777.781 1986.72 777.781 Q1991.45 777.781 1994.39 781.531 Q1997.35 785.281 1997.35 791.392 Q1997.35 797.503 1994.39 801.253 Q1991.45 805.003 1986.72 805.003 Q1983.88 805.003 1981.82 803.892 Q1979.78 802.758 1978.44 800.443 M1992.93 791.392 Q1992.93 786.693 1990.98 784.031 Q1989.06 781.346 1985.68 781.346 Q1982.3 781.346 1980.36 784.031 Q1978.44 786.693 1978.44 791.392 Q1978.44 796.091 1980.36 798.776 Q1982.3 801.438 1985.68 801.438 Q1989.06 801.438 1990.98 798.776 Q1992.93 796.091 1992.93 791.392 Z\" fill=\"#000000\" fill-rule=\"evenodd\" fill-opacity=\"1\" /><path clip-path=\"url(#clip720)\" d=\"M2026.58 790.304 L2026.58 792.388 L2007 792.388 Q2007.28 796.786 2009.64 799.101 Q2012.02 801.392 2016.26 801.392 Q2018.71 801.392 2021.01 800.79 Q2023.32 800.188 2025.59 798.985 L2025.59 803.013 Q2023.3 803.985 2020.89 804.494 Q2018.48 805.003 2016.01 805.003 Q2009.8 805.003 2006.17 801.392 Q2002.56 797.781 2002.56 791.624 Q2002.56 785.258 2005.98 781.531 Q2009.43 777.781 2015.27 777.781 Q2020.5 777.781 2023.53 781.161 Q2026.58 784.517 2026.58 790.304 M2022.33 789.054 Q2022.28 785.559 2020.36 783.476 Q2018.46 781.392 2015.31 781.392 Q2011.75 781.392 2009.59 783.406 Q2007.46 785.42 2007.14 789.077 L2022.33 789.054 Z\" fill=\"#000000\" fill-rule=\"evenodd\" fill-opacity=\"1\" /><path clip-path=\"url(#clip720)\" d=\"M2055.13 788.684 L2055.13 804.332 L2050.87 804.332 L2050.87 788.823 Q2050.87 785.142 2049.43 783.314 Q2048 781.485 2045.13 781.485 Q2041.68 781.485 2039.69 783.684 Q2037.7 785.883 2037.7 789.679 L2037.7 804.332 L2033.41 804.332 L2033.41 778.406 L2037.7 778.406 L2037.7 782.434 Q2039.22 780.096 2041.28 778.939 Q2043.37 777.781 2046.08 777.781 Q2050.54 777.781 2052.83 780.559 Q2055.13 783.314 2055.13 788.684 Z\" fill=\"#000000\" fill-rule=\"evenodd\" fill-opacity=\"1\" /><path clip-path=\"url(#clip720)\" d=\"M2100.87 790.304 L2100.87 792.388 L2081.28 792.388 Q2081.56 796.786 2083.92 799.101 Q2086.31 801.392 2090.54 801.392 Q2093 801.392 2095.29 800.79 Q2097.6 800.188 2099.87 798.985 L2099.87 803.013 Q2097.58 803.985 2095.17 804.494 Q2092.76 805.003 2090.29 805.003 Q2084.08 805.003 2080.45 801.392 Q2076.84 797.781 2076.84 791.624 Q2076.84 785.258 2080.26 781.531 Q2083.71 777.781 2089.55 777.781 Q2094.78 777.781 2097.81 781.161 Q2100.87 784.517 2100.87 790.304 M2096.61 789.054 Q2096.56 785.559 2094.64 783.476 Q2092.74 781.392 2089.59 781.392 Q2086.03 781.392 2083.88 783.406 Q2081.75 785.42 2081.42 789.077 L2096.61 789.054 Z\" fill=\"#000000\" fill-rule=\"evenodd\" fill-opacity=\"1\" /><path clip-path=\"url(#clip720)\" d=\"M2112.72 773.615 L2112.72 800.489 L2118.37 800.489 Q2125.52 800.489 2128.83 797.249 Q2132.16 794.008 2132.16 787.017 Q2132.16 780.073 2128.83 776.855 Q2125.52 773.615 2118.37 773.615 L2112.72 773.615 M2108.04 769.772 L2117.65 769.772 Q2127.69 769.772 2132.39 773.962 Q2137.09 778.128 2137.09 787.017 Q2137.09 795.952 2132.37 800.142 Q2127.65 804.332 2117.65 804.332 L2108.04 804.332 L2108.04 769.772 Z\" fill=\"#000000\" fill-rule=\"evenodd\" fill-opacity=\"1\" /><path clip-path=\"url(#clip720)\" d=\"M2144.55 769.772 L2151.51 769.772 L2160.33 793.29 L2169.2 769.772 L2176.17 769.772 L2176.17 804.332 L2171.61 804.332 L2171.61 773.985 L2162.69 797.688 L2158 797.688 L2149.08 773.985 L2149.08 804.332 L2144.55 804.332 L2144.55 769.772 Z\" fill=\"#000000\" fill-rule=\"evenodd\" fill-opacity=\"1\" /><path clip-path=\"url(#clip720)\" d=\"M2190.13 773.615 L2190.13 800.489 L2195.77 800.489 Q2202.93 800.489 2206.24 797.249 Q2209.57 794.008 2209.57 787.017 Q2209.57 780.073 2206.24 776.855 Q2202.93 773.615 2195.77 773.615 L2190.13 773.615 M2185.45 769.772 L2195.06 769.772 Q2205.1 769.772 2209.8 773.962 Q2214.5 778.128 2214.5 787.017 Q2214.5 795.952 2209.78 800.142 Q2205.06 804.332 2195.06 804.332 L2185.45 804.332 L2185.45 769.772 Z\" fill=\"#000000\" fill-rule=\"evenodd\" fill-opacity=\"1\" /><path clip-path=\"url(#clip720)\" d=\"M2221.1 768.36 L2224.8 768.36 Q2228.27 773.823 2229.99 779.054 Q2231.72 784.286 2231.72 789.448 Q2231.72 794.633 2229.99 799.888 Q2228.27 805.142 2224.8 810.582 L2221.1 810.582 Q2224.18 805.281 2225.68 800.05 Q2227.21 794.795 2227.21 789.448 Q2227.21 784.101 2225.68 778.892 Q2224.18 773.684 2221.1 768.36 Z\" fill=\"#000000\" fill-rule=\"evenodd\" fill-opacity=\"1\" /><polyline clip-path=\"url(#clip720)\" style=\"stroke:#e26f46; stroke-linecap:butt; stroke-linejoin:round; stroke-width:4; stroke-opacity:1; fill:none\" points=\"\n  1523.39,838.892 1668.63,838.892 \n  \"/>\n<path clip-path=\"url(#clip720)\" d=\"M1712.1 839.737 L1697.35 839.737 Q1697.7 846.658 1699.29 849.598 Q1701.29 853.209 1704.73 853.209 Q1708.21 853.209 1710.13 849.575 Q1711.82 846.38 1712.1 839.737 M1712.03 835.802 Q1711.38 829.228 1710.13 826.913 Q1708.14 823.255 1704.73 823.255 Q1701.19 823.255 1699.32 826.867 Q1697.84 829.783 1697.4 835.802 L1712.03 835.802 M1704.73 819.783 Q1710.29 819.783 1713.46 824.691 Q1716.63 829.575 1716.63 838.232 Q1716.63 846.866 1713.46 851.774 Q1710.29 856.704 1704.73 856.704 Q1699.16 856.704 1696.01 851.774 Q1692.84 846.866 1692.84 838.232 Q1692.84 829.575 1696.01 824.691 Q1699.16 819.783 1704.73 819.783 Z\" fill=\"#000000\" fill-rule=\"evenodd\" fill-opacity=\"1\" /><path clip-path=\"url(#clip720)\" d=\"M1748.99 820.2 Q1745.89 825.524 1744.39 830.732 Q1742.88 835.941 1742.88 841.288 Q1742.88 846.635 1744.39 851.89 Q1745.91 857.121 1748.99 862.422 L1745.29 862.422 Q1741.82 856.982 1740.08 851.728 Q1738.37 846.473 1738.37 841.288 Q1738.37 836.126 1740.08 830.894 Q1741.79 825.663 1745.29 820.2 L1748.99 820.2 Z\" fill=\"#000000\" fill-rule=\"evenodd\" fill-opacity=\"1\" /><path clip-path=\"url(#clip720)\" d=\"M1757.26 830.246 L1761.52 830.246 L1761.52 856.635 Q1761.52 861.589 1759.62 863.811 Q1757.74 866.033 1753.55 866.033 L1751.93 866.033 L1751.93 862.422 L1753.07 862.422 Q1755.5 862.422 1756.38 861.288 Q1757.26 860.177 1757.26 856.635 L1757.26 830.246 M1757.26 820.154 L1761.52 820.154 L1761.52 825.547 L1757.26 825.547 L1757.26 820.154 Z\" fill=\"#000000\" fill-rule=\"evenodd\" fill-opacity=\"1\" /><path clip-path=\"url(#clip720)\" d=\"M1782.21 843.14 Q1777.05 843.14 1775.06 844.32 Q1773.07 845.501 1773.07 848.348 Q1773.07 850.616 1774.55 851.959 Q1776.05 853.278 1778.62 853.278 Q1782.16 853.278 1784.29 850.778 Q1786.45 848.255 1786.45 844.089 L1786.45 843.14 L1782.21 843.14 M1790.71 841.38 L1790.71 856.172 L1786.45 856.172 L1786.45 852.237 Q1784.99 854.598 1782.81 855.732 Q1780.64 856.843 1777.49 856.843 Q1773.51 856.843 1771.15 854.621 Q1768.81 852.376 1768.81 848.626 Q1768.81 844.251 1771.72 842.029 Q1774.66 839.806 1780.47 839.806 L1786.45 839.806 L1786.45 839.39 Q1786.45 836.45 1784.5 834.853 Q1782.58 833.232 1779.09 833.232 Q1776.86 833.232 1774.76 833.765 Q1772.65 834.297 1770.71 835.362 L1770.71 831.427 Q1773.04 830.524 1775.24 830.084 Q1777.44 829.621 1779.53 829.621 Q1785.15 829.621 1787.93 832.538 Q1790.71 835.454 1790.71 841.38 Z\" fill=\"#000000\" fill-rule=\"evenodd\" fill-opacity=\"1\" /><path clip-path=\"url(#clip720)\" d=\"M1818.14 831.242 L1818.14 835.223 Q1816.33 834.228 1814.5 833.742 Q1812.7 833.232 1810.84 833.232 Q1806.7 833.232 1804.41 835.871 Q1802.12 838.487 1802.12 843.232 Q1802.12 847.978 1804.41 850.616 Q1806.7 853.232 1810.84 853.232 Q1812.7 853.232 1814.5 852.746 Q1816.33 852.237 1818.14 851.241 L1818.14 855.177 Q1816.35 856.01 1814.43 856.427 Q1812.53 856.843 1810.38 856.843 Q1804.53 856.843 1801.08 853.163 Q1797.63 849.482 1797.63 843.232 Q1797.63 836.89 1801.1 833.255 Q1804.59 829.621 1810.66 829.621 Q1812.63 829.621 1814.5 830.038 Q1816.38 830.431 1818.14 831.242 Z\" fill=\"#000000\" fill-rule=\"evenodd\" fill-opacity=\"1\" /><path clip-path=\"url(#clip720)\" d=\"M1835.59 833.232 Q1832.16 833.232 1830.17 835.917 Q1828.18 838.579 1828.18 843.232 Q1828.18 847.885 1830.15 850.57 Q1832.14 853.232 1835.59 853.232 Q1838.99 853.232 1840.98 850.547 Q1842.97 847.862 1842.97 843.232 Q1842.97 838.626 1840.98 835.941 Q1838.99 833.232 1835.59 833.232 M1835.59 829.621 Q1841.15 829.621 1844.32 833.232 Q1847.49 836.843 1847.49 843.232 Q1847.49 849.598 1844.32 853.232 Q1841.15 856.843 1835.59 856.843 Q1830.01 856.843 1826.84 853.232 Q1823.69 849.598 1823.69 843.232 Q1823.69 836.843 1826.84 833.232 Q1830.01 829.621 1835.59 829.621 Z\" fill=\"#000000\" fill-rule=\"evenodd\" fill-opacity=\"1\" /><path clip-path=\"url(#clip720)\" d=\"M1873.16 843.232 Q1873.16 838.533 1871.21 835.871 Q1869.29 833.186 1865.91 833.186 Q1862.53 833.186 1860.59 835.871 Q1858.67 838.533 1858.67 843.232 Q1858.67 847.931 1860.59 850.616 Q1862.53 853.278 1865.91 853.278 Q1869.29 853.278 1871.21 850.616 Q1873.16 847.931 1873.16 843.232 M1858.67 834.181 Q1860.01 831.867 1862.05 830.755 Q1864.11 829.621 1866.96 829.621 Q1871.68 829.621 1874.62 833.371 Q1877.58 837.121 1877.58 843.232 Q1877.58 849.343 1874.62 853.093 Q1871.68 856.843 1866.96 856.843 Q1864.11 856.843 1862.05 855.732 Q1860.01 854.598 1858.67 852.283 L1858.67 856.172 L1854.39 856.172 L1854.39 820.154 L1858.67 820.154 L1858.67 834.181 Z\" fill=\"#000000\" fill-rule=\"evenodd\" fill-opacity=\"1\" /><path clip-path=\"url(#clip720)\" d=\"M1884.64 830.246 L1888.9 830.246 L1888.9 856.172 L1884.64 856.172 L1884.64 830.246 M1884.64 820.154 L1888.9 820.154 L1888.9 825.547 L1884.64 825.547 L1884.64 820.154 Z\" fill=\"#000000\" fill-rule=\"evenodd\" fill-opacity=\"1\" /><path clip-path=\"url(#clip720)\" d=\"M1909.59 843.14 Q1904.43 843.14 1902.44 844.32 Q1900.45 845.501 1900.45 848.348 Q1900.45 850.616 1901.93 851.959 Q1903.44 853.278 1906.01 853.278 Q1909.55 853.278 1911.68 850.778 Q1913.83 848.255 1913.83 844.089 L1913.83 843.14 L1909.59 843.14 M1918.09 841.38 L1918.09 856.172 L1913.83 856.172 L1913.83 852.237 Q1912.37 854.598 1910.2 855.732 Q1908.02 856.843 1904.87 856.843 Q1900.89 856.843 1898.53 854.621 Q1896.19 852.376 1896.19 848.626 Q1896.19 844.251 1899.11 842.029 Q1902.05 839.806 1907.86 839.806 L1913.83 839.806 L1913.83 839.39 Q1913.83 836.45 1911.89 834.853 Q1909.96 833.232 1906.47 833.232 Q1904.25 833.232 1902.14 833.765 Q1900.03 834.297 1898.09 835.362 L1898.09 831.427 Q1900.43 830.524 1902.63 830.084 Q1904.83 829.621 1906.91 829.621 Q1912.53 829.621 1915.31 832.538 Q1918.09 835.454 1918.09 841.38 Z\" fill=\"#000000\" fill-rule=\"evenodd\" fill-opacity=\"1\" /><path clip-path=\"url(#clip720)\" d=\"M1948.41 840.524 L1948.41 856.172 L1944.15 856.172 L1944.15 840.663 Q1944.15 836.982 1942.72 835.154 Q1941.28 833.325 1938.41 833.325 Q1934.96 833.325 1932.97 835.524 Q1930.98 837.723 1930.98 841.519 L1930.98 856.172 L1926.7 856.172 L1926.7 830.246 L1930.98 830.246 L1930.98 834.274 Q1932.51 831.936 1934.57 830.779 Q1936.65 829.621 1939.36 829.621 Q1943.83 829.621 1946.12 832.399 Q1948.41 835.154 1948.41 840.524 Z\" fill=\"#000000\" fill-rule=\"evenodd\" fill-opacity=\"1\" /><path clip-path=\"url(#clip720)\" d=\"M1954.76 841.288 L1967.23 841.288 L1967.23 845.084 L1954.76 845.084 L1954.76 841.288 Z\" fill=\"#000000\" fill-rule=\"evenodd\" fill-opacity=\"1\" /><path clip-path=\"url(#clip720)\" d=\"M1978.14 852.283 L1978.14 866.033 L1973.85 866.033 L1973.85 830.246 L1978.14 830.246 L1978.14 834.181 Q1979.48 831.867 1981.52 830.755 Q1983.58 829.621 1986.42 829.621 Q1991.14 829.621 1994.08 833.371 Q1997.05 837.121 1997.05 843.232 Q1997.05 849.343 1994.08 853.093 Q1991.14 856.843 1986.42 856.843 Q1983.58 856.843 1981.52 855.732 Q1979.48 854.598 1978.14 852.283 M1992.63 843.232 Q1992.63 838.533 1990.68 835.871 Q1988.76 833.186 1985.38 833.186 Q1982 833.186 1980.06 835.871 Q1978.14 838.533 1978.14 843.232 Q1978.14 847.931 1980.06 850.616 Q1982 853.278 1985.38 853.278 Q1988.76 853.278 1990.68 850.616 Q1992.63 847.931 1992.63 843.232 Z\" fill=\"#000000\" fill-rule=\"evenodd\" fill-opacity=\"1\" /><path clip-path=\"url(#clip720)\" d=\"M2026.28 842.144 L2026.28 844.228 L2006.7 844.228 Q2006.98 848.626 2009.34 850.941 Q2011.72 853.232 2015.96 853.232 Q2018.41 853.232 2020.7 852.63 Q2023.02 852.028 2025.29 850.825 L2025.29 854.853 Q2023 855.825 2020.59 856.334 Q2018.18 856.843 2015.7 856.843 Q2009.5 856.843 2005.87 853.232 Q2002.26 849.621 2002.26 843.464 Q2002.26 837.098 2005.68 833.371 Q2009.13 829.621 2014.96 829.621 Q2020.2 829.621 2023.23 833.001 Q2026.28 836.357 2026.28 842.144 M2022.02 840.894 Q2021.98 837.399 2020.06 835.316 Q2018.16 833.232 2015.01 833.232 Q2011.45 833.232 2009.29 835.246 Q2007.16 837.26 2006.84 840.917 L2022.02 840.894 Z\" fill=\"#000000\" fill-rule=\"evenodd\" fill-opacity=\"1\" /><path clip-path=\"url(#clip720)\" d=\"M2054.82 840.524 L2054.82 856.172 L2050.57 856.172 L2050.57 840.663 Q2050.57 836.982 2049.13 835.154 Q2047.7 833.325 2044.83 833.325 Q2041.38 833.325 2039.39 835.524 Q2037.39 837.723 2037.39 841.519 L2037.39 856.172 L2033.11 856.172 L2033.11 830.246 L2037.39 830.246 L2037.39 834.274 Q2038.92 831.936 2040.98 830.779 Q2043.07 829.621 2045.77 829.621 Q2050.24 829.621 2052.53 832.399 Q2054.82 835.154 2054.82 840.524 Z\" fill=\"#000000\" fill-rule=\"evenodd\" fill-opacity=\"1\" /><path clip-path=\"url(#clip720)\" d=\"M2100.57 842.144 L2100.57 844.228 L2080.98 844.228 Q2081.26 848.626 2083.62 850.941 Q2086.01 853.232 2090.24 853.232 Q2092.7 853.232 2094.99 852.63 Q2097.3 852.028 2099.57 850.825 L2099.57 854.853 Q2097.28 855.825 2094.87 856.334 Q2092.46 856.843 2089.99 856.843 Q2083.78 856.843 2080.15 853.232 Q2076.54 849.621 2076.54 843.464 Q2076.54 837.098 2079.96 833.371 Q2083.41 829.621 2089.25 829.621 Q2094.48 829.621 2097.51 833.001 Q2100.57 836.357 2100.57 842.144 M2096.31 840.894 Q2096.26 837.399 2094.34 835.316 Q2092.44 833.232 2089.29 833.232 Q2085.73 833.232 2083.57 835.246 Q2081.45 837.26 2081.12 840.917 L2096.31 840.894 Z\" fill=\"#000000\" fill-rule=\"evenodd\" fill-opacity=\"1\" /><path clip-path=\"url(#clip720)\" d=\"M2112.42 825.455 L2112.42 852.329 L2118.07 852.329 Q2125.22 852.329 2128.53 849.089 Q2131.86 845.848 2131.86 838.857 Q2131.86 831.913 2128.53 828.695 Q2125.22 825.455 2118.07 825.455 L2112.42 825.455 M2107.74 821.612 L2117.35 821.612 Q2127.39 821.612 2132.09 825.802 Q2136.79 829.968 2136.79 838.857 Q2136.79 847.792 2132.07 851.982 Q2127.35 856.172 2117.35 856.172 L2107.74 856.172 L2107.74 821.612 Z\" fill=\"#000000\" fill-rule=\"evenodd\" fill-opacity=\"1\" /><path clip-path=\"url(#clip720)\" d=\"M2144.25 821.612 L2151.21 821.612 L2160.03 845.13 L2168.9 821.612 L2175.87 821.612 L2175.87 856.172 L2171.31 856.172 L2171.31 825.825 L2162.39 849.528 L2157.69 849.528 L2148.78 825.825 L2148.78 856.172 L2144.25 856.172 L2144.25 821.612 Z\" fill=\"#000000\" fill-rule=\"evenodd\" fill-opacity=\"1\" /><path clip-path=\"url(#clip720)\" d=\"M2189.82 825.455 L2189.82 852.329 L2195.47 852.329 Q2202.63 852.329 2205.94 849.089 Q2209.27 845.848 2209.27 838.857 Q2209.27 831.913 2205.94 828.695 Q2202.63 825.455 2195.47 825.455 L2189.82 825.455 M2185.15 821.612 L2194.75 821.612 Q2204.8 821.612 2209.5 825.802 Q2214.2 829.968 2214.2 838.857 Q2214.2 847.792 2209.48 851.982 Q2204.75 856.172 2194.75 856.172 L2185.15 856.172 L2185.15 821.612 Z\" fill=\"#000000\" fill-rule=\"evenodd\" fill-opacity=\"1\" /><path clip-path=\"url(#clip720)\" d=\"M2220.8 820.2 L2224.5 820.2 Q2227.97 825.663 2229.69 830.894 Q2231.42 836.126 2231.42 841.288 Q2231.42 846.473 2229.69 851.728 Q2227.97 856.982 2224.5 862.422 L2220.8 862.422 Q2223.88 857.121 2225.38 851.89 Q2226.91 846.635 2226.91 841.288 Q2226.91 835.941 2225.38 830.732 Q2223.88 825.524 2220.8 820.2 Z\" fill=\"#000000\" fill-rule=\"evenodd\" fill-opacity=\"1\" /></svg>\n"
     },
     "execution_count": 42,
     "metadata": {},
     "output_type": "execute_result"
    }
   ],
   "source": [
    "tf_sim = 3.0\n",
    "Tsim_lqr_jacpen = range(0,tf_sim,step=dt)\n",
    "\n",
    "x0 = [-0.4,pi-deg2rad(40),0,0]\n",
    "\n",
    "ctrl_lqr_jacpen = LQRController(K_bil_jacpen, xe, ue)\n",
    "Xsim_lqr_jacpen, = simulatewithcontroller(dmodel, ctrl_lqr_jacpen, x0, tf_sim, dt)\n",
    "\n",
    "plotstates(Tsim_lqr_nominal, Xsim_lqr_og, inds=1:2, xlabel=\"time (s)\", ylabel=\"states\",\n",
    "            label=[\"x (og dynamics)\" \"θ (og dynamics)\"], legend=:right, lw=2,\n",
    "            linestyle=:dash, color=[1 2])\n",
    "plotstates!(Tsim_lqr_nominal, Xsim_lqr_nominal, inds=1:2, xlabel=\"time (s)\", ylabel=\"states\",\n",
    "            label=[\"x (nominal eDMD)\" \"θ (nominal eDMD)\"], legend=:right, lw=2,\n",
    "            linestyle=:dot, color=[1 2])\n",
    "plotstates!(Tsim_lqr_jacpen, Xsim_lqr_jacpen, inds=1:2, xlabel=\"time (s)\", ylabel=\"states\",\n",
    "            label=[\"x (jacobian-pen eDMD)\" \"θ (jacobian-pen eDMD)\"], legend=:right, lw=2,\n",
    "            color=[1 2])"
   ]
  },
  {
   "cell_type": "code",
   "execution_count": 43,
   "metadata": {},
   "outputs": [
    {
     "data": {
      "text/html": [
       "    <div style=\"height: 500px; width: 100%; overflow-x: auto; overflow-y: hidden; resize: both\">\n",
       "    <iframe src=\"http://127.0.0.1:8702\" style=\"width: 100%; height: 100%; border: none\"></iframe>\n",
       "    </div>\n"
      ],
      "text/plain": [
       "MeshCat.DisplayedVisualizer(MeshCat.CoreVisualizer(MeshCat.SceneTrees.SceneNode(nothing, nothing, Dict{String, Vector{UInt8}}(), nothing, Dict{String, MeshCat.SceneTrees.SceneNode}(\"meshcat\" => MeshCat.SceneTrees.SceneNode(nothing, nothing, Dict{String, Vector{UInt8}}(), nothing, Dict{String, MeshCat.SceneTrees.SceneNode}(\"robot\" => MeshCat.SceneTrees.SceneNode(nothing, nothing, Dict{String, Vector{UInt8}}(), nothing, Dict{String, MeshCat.SceneTrees.SceneNode}(\"rod\" => MeshCat.SceneTrees.SceneNode(UInt8[0x83, 0xa6, 0x6f, 0x62, 0x6a, 0x65, 0x63, 0x74, 0x84, 0xaa  …  0x2f, 0x72, 0x6f, 0x62, 0x6f, 0x74, 0x2f, 0x72, 0x6f, 0x64], nothing, Dict{String, Vector{UInt8}}(), nothing, Dict{String, MeshCat.SceneTrees.SceneNode}()), \"cart\" => MeshCat.SceneTrees.SceneNode(nothing, nothing, Dict{String, Vector{UInt8}}(), nothing, Dict{String, MeshCat.SceneTrees.SceneNode}(\"pole\" => MeshCat.SceneTrees.SceneNode(nothing, UInt8[0x83, 0xa6, 0x6d, 0x61, 0x74, 0x72, 0x69, 0x78, 0xc7, 0x40  …  0x2f, 0x63, 0x61, 0x72, 0x74, 0x2f, 0x70, 0x6f, 0x6c, 0x65], Dict{String, Vector{UInt8}}(), nothing, Dict{String, MeshCat.SceneTrees.SceneNode}(\"geom\" => MeshCat.SceneTrees.SceneNode(nothing, nothing, Dict{String, Vector{UInt8}}(), nothing, Dict{String, MeshCat.SceneTrees.SceneNode}(\"cyl\" => MeshCat.SceneTrees.SceneNode(UInt8[0x83, 0xa6, 0x6f, 0x62, 0x6a, 0x65, 0x63, 0x74, 0x84, 0xaa  …  0x65, 0x2f, 0x67, 0x65, 0x6f, 0x6d, 0x2f, 0x63, 0x79, 0x6c], nothing, Dict{String, Vector{UInt8}}(), nothing, Dict{String, MeshCat.SceneTrees.SceneNode}()), \"mass\" => MeshCat.SceneTrees.SceneNode(UInt8[0x83, 0xa6, 0x6f, 0x62, 0x6a, 0x65, 0x63, 0x74, 0x84, 0xaa  …  0x2f, 0x67, 0x65, 0x6f, 0x6d, 0x2f, 0x6d, 0x61, 0x73, 0x73], nothing, Dict{String, Vector{UInt8}}(), nothing, Dict{String, MeshCat.SceneTrees.SceneNode}()))))), \"box\" => MeshCat.SceneTrees.SceneNode(UInt8[0x83, 0xa6, 0x6f, 0x62, 0x6a, 0x65, 0x63, 0x74, 0x84, 0xaa  …  0x74, 0x2f, 0x63, 0x61, 0x72, 0x74, 0x2f, 0x62, 0x6f, 0x78], nothing, Dict{String, Vector{UInt8}}(), nothing, Dict{String, MeshCat.SceneTrees.SceneNode}()), \"hinge\" => MeshCat.SceneTrees.SceneNode(UInt8[0x83, 0xa6, 0x6f, 0x62, 0x6a, 0x65, 0x63, 0x74, 0x84, 0xaa  …  0x63, 0x61, 0x72, 0x74, 0x2f, 0x68, 0x69, 0x6e, 0x67, 0x65], nothing, Dict{String, Vector{UInt8}}(), nothing, Dict{String, MeshCat.SceneTrees.SceneNode}()))))))))), Set(Any[WebSocket(server, \u001b[32mCONNECTED\u001b[39m)]), ip\"127.0.0.1\", 8702))"
      ]
     },
     "execution_count": 43,
     "metadata": {},
     "output_type": "execute_result"
    }
   ],
   "source": [
    "render(vis)"
   ]
  },
  {
   "cell_type": "code",
   "execution_count": 44,
   "metadata": {},
   "outputs": [],
   "source": [
    "# visualize!(vis, model, tf_sim, Xsim_lqr_nominal)\n",
    "visualize!(vis, model, tf_sim, Xsim_lqr_jacpen)"
   ]
  }
 ],
 "metadata": {
  "kernelspec": {
   "display_name": "Julia (10 Threads) 1.7.2",
   "language": "julia",
   "name": "julia-(10-threads)-1.7"
  },
  "language_info": {
   "file_extension": ".jl",
   "mimetype": "application/julia",
   "name": "julia",
   "version": "1.7.2"
  },
  "orig_nbformat": 4
 },
 "nbformat": 4,
 "nbformat_minor": 2
}
