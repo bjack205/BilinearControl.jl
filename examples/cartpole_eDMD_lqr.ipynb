{
 "cells": [
  {
   "cell_type": "code",
   "execution_count": 1,
   "metadata": {},
   "outputs": [
    {
     "name": "stderr",
     "output_type": "stream",
     "text": [
      "\u001b[32m\u001b[1m  Activating\u001b[22m\u001b[39m project at `~/.julia/dev/BilinearControl/examples`\n"
     ]
    }
   ],
   "source": [
    "import Pkg; Pkg.activate(joinpath(@__DIR__)); Pkg.instantiate();\n",
    "using BilinearControl\n",
    "using BilinearControl.Problems\n",
    "using BilinearControl.EDMD\n",
    "import RobotDynamics as RD\n",
    "using LinearAlgebra\n",
    "using RobotZoo\n",
    "using JLD2\n",
    "using SparseArrays\n",
    "using Plots\n",
    "using Distributions\n",
    "using Distributions: Normal\n",
    "using Random\n",
    "using FiniteDiff, ForwardDiff\n",
    "using Test"
   ]
  },
  {
   "cell_type": "code",
   "execution_count": 2,
   "metadata": {},
   "outputs": [
    {
     "data": {
      "text/plain": [
       "calc_error (generic function with 1 method)"
      ]
     },
     "execution_count": 2,
     "metadata": {},
     "output_type": "execute_result"
    }
   ],
   "source": [
    "include(\"learned_models/edmd_utils.jl\")"
   ]
  },
  {
   "cell_type": "code",
   "execution_count": 3,
   "metadata": {},
   "outputs": [
    {
     "name": "stderr",
     "output_type": "stream",
     "text": [
      "WARNING: using GeometryBasics.Normal in module Main conflicts with an existing identifier.\n",
      "┌ Info: MeshCat server started. You can open the visualizer by visiting the following URL in your browser:\n",
      "│ http://127.0.0.1:8703\n",
      "└ @ MeshCat /home/jeonghun/.julia/packages/MeshCat/Ax8pH/src/visualizer.jl:73\n"
     ]
    },
    {
     "data": {
      "text/plain": [
       "MeshCat Visualizer with path /meshcat/robot/cart/pole at http://127.0.0.1:8703"
      ]
     },
     "execution_count": 3,
     "metadata": {},
     "output_type": "execute_result"
    }
   ],
   "source": [
    "## Visualizer\n",
    "model = Cartpole2()\n",
    "include(joinpath(Problems.VISDIR, \"visualization.jl\"))\n",
    "vis = Visualizer()\n",
    "delete!(vis)\n",
    "set_cartpole!(vis)"
   ]
  },
  {
   "cell_type": "code",
   "execution_count": 4,
   "metadata": {},
   "outputs": [
    {
     "data": {
      "text/html": [
       "    <div style=\"height: 500px; width: 100%; overflow-x: auto; overflow-y: hidden; resize: both\">\n",
       "    <iframe src=\"http://127.0.0.1:8703\" style=\"width: 100%; height: 100%; border: none\"></iframe>\n",
       "    </div>\n"
      ],
      "text/plain": [
       "MeshCat.DisplayedVisualizer(MeshCat.CoreVisualizer(MeshCat.SceneTrees.SceneNode(nothing, nothing, Dict{String, Vector{UInt8}}(), nothing, Dict{String, MeshCat.SceneTrees.SceneNode}(\"meshcat\" => MeshCat.SceneTrees.SceneNode(nothing, nothing, Dict{String, Vector{UInt8}}(), nothing, Dict{String, MeshCat.SceneTrees.SceneNode}(\"robot\" => MeshCat.SceneTrees.SceneNode(nothing, nothing, Dict{String, Vector{UInt8}}(), nothing, Dict{String, MeshCat.SceneTrees.SceneNode}(\"rod\" => MeshCat.SceneTrees.SceneNode(UInt8[0x83, 0xa6, 0x6f, 0x62, 0x6a, 0x65, 0x63, 0x74, 0x84, 0xaa  …  0x2f, 0x72, 0x6f, 0x62, 0x6f, 0x74, 0x2f, 0x72, 0x6f, 0x64], nothing, Dict{String, Vector{UInt8}}(), nothing, Dict{String, MeshCat.SceneTrees.SceneNode}()), \"cart\" => MeshCat.SceneTrees.SceneNode(nothing, nothing, Dict{String, Vector{UInt8}}(), nothing, Dict{String, MeshCat.SceneTrees.SceneNode}(\"pole\" => MeshCat.SceneTrees.SceneNode(nothing, UInt8[0x83, 0xa6, 0x6d, 0x61, 0x74, 0x72, 0x69, 0x78, 0xc7, 0x40  …  0x2f, 0x63, 0x61, 0x72, 0x74, 0x2f, 0x70, 0x6f, 0x6c, 0x65], Dict{String, Vector{UInt8}}(), nothing, Dict{String, MeshCat.SceneTrees.SceneNode}(\"geom\" => MeshCat.SceneTrees.SceneNode(nothing, nothing, Dict{String, Vector{UInt8}}(), nothing, Dict{String, MeshCat.SceneTrees.SceneNode}(\"cyl\" => MeshCat.SceneTrees.SceneNode(UInt8[0x83, 0xa6, 0x6f, 0x62, 0x6a, 0x65, 0x63, 0x74, 0x84, 0xaa  …  0x65, 0x2f, 0x67, 0x65, 0x6f, 0x6d, 0x2f, 0x63, 0x79, 0x6c], nothing, Dict{String, Vector{UInt8}}(), nothing, Dict{String, MeshCat.SceneTrees.SceneNode}()), \"mass\" => MeshCat.SceneTrees.SceneNode(UInt8[0x83, 0xa6, 0x6f, 0x62, 0x6a, 0x65, 0x63, 0x74, 0x84, 0xaa  …  0x2f, 0x67, 0x65, 0x6f, 0x6d, 0x2f, 0x6d, 0x61, 0x73, 0x73], nothing, Dict{String, Vector{UInt8}}(), nothing, Dict{String, MeshCat.SceneTrees.SceneNode}()))))), \"box\" => MeshCat.SceneTrees.SceneNode(UInt8[0x83, 0xa6, 0x6f, 0x62, 0x6a, 0x65, 0x63, 0x74, 0x84, 0xaa  …  0x74, 0x2f, 0x63, 0x61, 0x72, 0x74, 0x2f, 0x62, 0x6f, 0x78], nothing, Dict{String, Vector{UInt8}}(), nothing, Dict{String, MeshCat.SceneTrees.SceneNode}()), \"hinge\" => MeshCat.SceneTrees.SceneNode(UInt8[0x83, 0xa6, 0x6f, 0x62, 0x6a, 0x65, 0x63, 0x74, 0x84, 0xaa  …  0x63, 0x61, 0x72, 0x74, 0x2f, 0x68, 0x69, 0x6e, 0x67, 0x65], nothing, Dict{String, Vector{UInt8}}(), nothing, Dict{String, MeshCat.SceneTrees.SceneNode}()))))))))), Set{Any}(), ip\"127.0.0.1\", 8703))"
      ]
     },
     "execution_count": 4,
     "metadata": {},
     "output_type": "execute_result"
    }
   ],
   "source": [
    "render(vis)"
   ]
  },
  {
   "cell_type": "markdown",
   "metadata": {},
   "source": [
    "# Generate Data"
   ]
  },
  {
   "cell_type": "code",
   "execution_count": 5,
   "metadata": {},
   "outputs": [],
   "source": [
    "model = Cartpole2()  # this model has damping\n",
    "dmodel = RD.DiscretizedDynamics{RD.RK4}(model)\n",
    "num_traj = 100\n",
    "tf = 2.0\n",
    "dt = 0.02\n",
    "times = range(0,tf,step=dt);"
   ]
  },
  {
   "cell_type": "code",
   "execution_count": 6,
   "metadata": {},
   "outputs": [],
   "source": [
    "Random.seed!(1)\n",
    "num_test = 50  # number of trajectories\n",
    "num_train = 50\n",
    "\n",
    "# Generate a stabilizing LQR controller about the top\n",
    "Qlqr = Diagonal([0.2,10,1e-2,1e-2])\n",
    "Rlqr = Diagonal([1e-3])\n",
    "xe = [0,pi,0,0]\n",
    "ue = [0.0]\n",
    "ctrl_lqr = LQRController(dmodel, Qlqr, Rlqr, xe, ue, dt)\n",
    "\n",
    "# Sample a bunch of initial conditions for the LQR controller\n",
    "x0_sampler = Product([\n",
    "    Uniform(-1.0,1.0),\n",
    "    Uniform(pi-pi/3,pi+pi/3),\n",
    "    Uniform(-.5,.5),\n",
    "    Uniform(-.5,.5),\n",
    "])\n",
    "initial_conditions_lqr = [rand(x0_sampler) for _ in 1:num_test]\n",
    "initial_conditions_test = [rand(x0_sampler) for _ in 1:num_train]\n",
    "\n",
    "# Create data set\n",
    "X_train, U_train = create_data(dmodel, ctrl_lqr, initial_conditions_lqr, tf, dt)\n",
    "X_test, U_test = create_data(dmodel, ctrl_lqr, initial_conditions_test, tf, dt);\n"
   ]
  },
  {
   "cell_type": "markdown",
   "metadata": {},
   "source": [
    "# Fit the Data using normal eDMD\n",
    "This uses the standard eDMD model method used in the CalTech paper, which learns a model of the form:\n",
    "\n",
    "$$ x^+ = A x + \\sum_{i=1}^m u_i C_i x $$"
   ]
  },
  {
   "cell_type": "code",
   "execution_count": 7,
   "metadata": {},
   "outputs": [],
   "source": [
    "# Define the basis functions\n",
    "eigfuns = [\"state\", \"sine\", \"cosine\", \"sine\", \"sine\", \"chebyshev\"]\n",
    "eigorders = [0,0,0,2,4,4];"
   ]
  },
  {
   "cell_type": "code",
   "execution_count": 8,
   "metadata": {},
   "outputs": [
    {
     "name": "stdout",
     "output_type": "stream",
     "text": [
      "(T, K) = (165000, 2178)\n",
      "issparse(X) = true\n",
      "lambda = 10.1\n",
      "(T, K) = (20000, 132)\n",
      "issparse(X) = true\n",
      "lambda = 0.0\n"
     ]
    }
   ],
   "source": [
    "# Fit the data\n",
    "Z_train, Zu_train, kf = build_eigenfunctions(X_train, U_train, eigfuns, eigorders)\n",
    "F, C, g = learn_bilinear_model(X_train, Z_train, Zu_train,\n",
    "    [\"ridge\", \"lasso\"]; \n",
    "    edmd_weights=[10.1], \n",
    "    mapping_weights=[0.0], \n",
    "    algorithm=:qr\n",
    ");"
   ]
  },
  {
   "cell_type": "markdown",
   "metadata": {},
   "source": [
    "### Evaluate the fit\n",
    "The fit is evaluated using:\n",
    "$$ \\frac{1}{P} \\sum_{j=1}^P || g (A \\varphi(x_j) + \\sum_{i=1}^m u_{j,i} C_i \\varphi(x_j)) - x_j^+ || $$\n",
    "\n",
    "where $y = \\varphi(x)$ is the Koopman transform."
   ]
  },
  {
   "cell_type": "code",
   "execution_count": 9,
   "metadata": {},
   "outputs": [
    {
     "name": "stdout",
     "output_type": "stream",
     "text": [
      "Train Error: 0.0256158932548699\n",
      "Test Error:  0.04575627041255644\n"
     ]
    }
   ],
   "source": [
    "err_train = BilinearControl.EDMD.fiterror(F,C,g,kf, X_train, U_train)\n",
    "err_test = BilinearControl.EDMD.fiterror(F,C,g,kf, X_test, U_test)\n",
    "println(\"Train Error: \", err_train)\n",
    "println(\"Test Error:  \", err_test)"
   ]
  },
  {
   "cell_type": "markdown",
   "metadata": {},
   "source": [
    "### Define the Bilinear Model"
   ]
  },
  {
   "cell_type": "code",
   "execution_count": 10,
   "metadata": {},
   "outputs": [
    {
     "name": "stdout",
     "output_type": "stream",
     "text": [
      "New state dimension: 33\n"
     ]
    }
   ],
   "source": [
    "model_bilinear = EDMDModel(F,C,g,kf,dt,\"cartpole\")\n",
    "n,m = RD.dims(model_bilinear)\n",
    "n0 = originalstatedim(model_bilinear);\n",
    "println(\"New state dimension: \", n)"
   ]
  },
  {
   "cell_type": "markdown",
   "metadata": {},
   "source": [
    "### Compare Linearization\n",
    "To see if the learned model captures the dynamics, we'll evaluate the effective `A` and `B` dynamics Jaocbians of the learned model on the original dynamics, and compare to the nominal Jacobians."
   ]
  },
  {
   "cell_type": "code",
   "execution_count": 11,
   "metadata": {},
   "outputs": [],
   "source": [
    "# Define the equilibrium\n",
    "xe = [0.,pi,0,0]\n",
    "ue = [0.0]\n",
    "ze = RD.KnotPoint{n0,m}(xe,ue,0.0,dt)\n",
    "ye = expandstate(model_bilinear, xe);"
   ]
  },
  {
   "cell_type": "code",
   "execution_count": 12,
   "metadata": {},
   "outputs": [],
   "source": [
    "# Nominal Jacobians\n",
    "J = zeros(n0,n0+m)\n",
    "xn = zeros(n0)\n",
    "RD.jacobian!(RD.InPlace(), RD.ForwardAD(), dmodel, J, xn, ze)\n",
    "A_nom = J[:,1:n0]\n",
    "B_nom = J[:,n0+1:end];"
   ]
  },
  {
   "cell_type": "code",
   "execution_count": 13,
   "metadata": {},
   "outputs": [],
   "source": [
    "# Bilinear Jacobians\n",
    "function dynamics_bilinear(x,u,t,dt)\n",
    "    y = expandstate(model_bilinear, x)\n",
    "    yn = zero(y)\n",
    "    RD.discrete_dynamics!(model_bilinear, yn, y, u, t, dt)\n",
    "    originalstate(model_bilinear, yn)\n",
    "end\n",
    "\n",
    "A_bil = FiniteDiff.finite_difference_jacobian(x->dynamics_bilinear(x,ue,0.0,dt), xe)\n",
    "B_bil = FiniteDiff.finite_difference_jacobian(u->dynamics_bilinear(xe,u,0.0,dt), ue);"
   ]
  },
  {
   "cell_type": "code",
   "execution_count": 14,
   "metadata": {},
   "outputs": [
    {
     "data": {
      "text/plain": [
       "4×4 Matrix{Float64}:\n",
       " 1.0  0.000392055   0.019998     -1.38375e-6\n",
       " 0.0  1.0047       -3.99648e-6    0.0199834\n",
       " 0.0  0.0392035     0.9998       -7.57316e-6\n",
       " 0.0  0.470481     -0.000399628   0.999909"
      ]
     },
     "execution_count": 14,
     "metadata": {},
     "output_type": "execute_result"
    }
   ],
   "source": [
    "A_nom"
   ]
  },
  {
   "cell_type": "code",
   "execution_count": 15,
   "metadata": {},
   "outputs": [
    {
     "data": {
      "text/plain": [
       "4×4 Matrix{Float64}:\n",
       "  0.934512    0.567423  -0.0513745  0.0672587\n",
       " -0.0516894   1.54726   -0.0753731  0.106527\n",
       " -0.107765    1.2054     0.850429   0.186049\n",
       "  0.151918   -1.19891    0.211363   0.73424"
      ]
     },
     "execution_count": 15,
     "metadata": {},
     "output_type": "execute_result"
    }
   ],
   "source": [
    "A_bil"
   ]
  },
  {
   "cell_type": "code",
   "execution_count": 16,
   "metadata": {},
   "outputs": [
    {
     "data": {
      "text/plain": [
       "4×1 Matrix{Float64}:\n",
       " 0.00019995956333333334\n",
       " 0.00039964806000000004\n",
       " 0.01999523290316667\n",
       " 0.03996279079433334"
      ]
     },
     "execution_count": 16,
     "metadata": {},
     "output_type": "execute_result"
    }
   ],
   "source": [
    "B_nom"
   ]
  },
  {
   "cell_type": "code",
   "execution_count": 17,
   "metadata": {},
   "outputs": [
    {
     "data": {
      "text/plain": [
       "4×1 Matrix{Float64}:\n",
       " 0.005341808369848877\n",
       " 0.005137056112289429\n",
       " 0.02959465352614643\n",
       " 0.02476261821720982"
      ]
     },
     "execution_count": 17,
     "metadata": {},
     "output_type": "execute_result"
    }
   ],
   "source": [
    "B_bil"
   ]
  },
  {
   "cell_type": "markdown",
   "metadata": {},
   "source": [
    "### Try Stabilizing with LQR"
   ]
  },
  {
   "cell_type": "code",
   "execution_count": 18,
   "metadata": {},
   "outputs": [],
   "source": [
    "# Calculate LQR Gain \n",
    "Qlqr = Diagonal([1.0,10.0,1e-2,1e-2])\n",
    "Rlqr = Diagonal([1e-4])\n",
    "K_nom = dlqr(A_nom, B_nom, Qlqr, Rlqr);\n",
    "K_bil = dlqr(A_bil, B_bil, Qlqr, Rlqr);"
   ]
  },
  {
   "cell_type": "code",
   "execution_count": 19,
   "metadata": {},
   "outputs": [
    {
     "name": "stdout",
     "output_type": "stream",
     "text": [
      "Stability Summary:\n",
      "  Dynamics  |  Controller  |  is stable? \n",
      "------------|--------------|--------------\n",
      "  Nominal   |  Nominal     |  true\n",
      "  Bilinear  |  Bilinear    |  true\n",
      "  Nominal   |  Bilinear    |  false\n"
     ]
    }
   ],
   "source": [
    "# Evaluate stability\n",
    "isstable_nominal = maximum(abs.(eigvals(A_nom - B_nom*K_nom))) < 1.0\n",
    "isstable_bilinear = maximum(abs.(eigvals(A_bil - B_bil*K_bil))) < 1.0\n",
    "isstable_nominal_with_bilinear = maximum(abs.(eigvals(A_nom - B_nom*K_bil))) < 1.0\n",
    "\n",
    "println(\"Stability Summary:\")\n",
    "println(\"  Dynamics  |  Controller  |  is stable? \")\n",
    "println(\"------------|--------------|--------------\")\n",
    "println(\"  Nominal   |  Nominal     |  \", isstable_nominal)\n",
    "println(\"  Bilinear  |  Bilinear    |  \", isstable_bilinear)\n",
    "println(\"  Nominal   |  Bilinear    |  \", isstable_nominal_with_bilinear)"
   ]
  },
  {
   "cell_type": "code",
   "execution_count": 26,
   "metadata": {},
   "outputs": [
    {
     "data": {
      "image/svg+xml": "<?xml version=\"1.0\" encoding=\"utf-8\"?>\n<svg xmlns=\"http://www.w3.org/2000/svg\" xmlns:xlink=\"http://www.w3.org/1999/xlink\" width=\"600\" height=\"400\" viewBox=\"0 0 2400 1600\">\n<defs>\n  <clipPath id=\"clip780\">\n    <rect x=\"0\" y=\"0\" width=\"2400\" height=\"1600\"/>\n  </clipPath>\n</defs>\n<path clip-path=\"url(#clip780)\" d=\"\nM0 1600 L2400 1600 L2400 0 L0 0  Z\n  \" fill=\"#ffffff\" fill-rule=\"evenodd\" fill-opacity=\"1\"/>\n<defs>\n  <clipPath id=\"clip781\">\n    <rect x=\"480\" y=\"0\" width=\"1681\" height=\"1600\"/>\n  </clipPath>\n</defs>\n<path clip-path=\"url(#clip780)\" d=\"\nM175.445 1423.18 L2352.76 1423.18 L2352.76 47.2441 L175.445 47.2441  Z\n  \" fill=\"#ffffff\" fill-rule=\"evenodd\" fill-opacity=\"1\"/>\n<defs>\n  <clipPath id=\"clip782\">\n    <rect x=\"175\" y=\"47\" width=\"2178\" height=\"1377\"/>\n  </clipPath>\n</defs>\n<polyline clip-path=\"url(#clip782)\" style=\"stroke:#000000; stroke-linecap:butt; stroke-linejoin:round; stroke-width:2; stroke-opacity:0.1; fill:none\" points=\"\n  237.067,1423.18 237.067,47.2441 \n  \"/>\n<polyline clip-path=\"url(#clip782)\" style=\"stroke:#000000; stroke-linecap:butt; stroke-linejoin:round; stroke-width:2; stroke-opacity:0.1; fill:none\" points=\"\n  921.756,1423.18 921.756,47.2441 \n  \"/>\n<polyline clip-path=\"url(#clip782)\" style=\"stroke:#000000; stroke-linecap:butt; stroke-linejoin:round; stroke-width:2; stroke-opacity:0.1; fill:none\" points=\"\n  1606.45,1423.18 1606.45,47.2441 \n  \"/>\n<polyline clip-path=\"url(#clip782)\" style=\"stroke:#000000; stroke-linecap:butt; stroke-linejoin:round; stroke-width:2; stroke-opacity:0.1; fill:none\" points=\"\n  2291.13,1423.18 2291.13,47.2441 \n  \"/>\n<polyline clip-path=\"url(#clip780)\" style=\"stroke:#000000; stroke-linecap:butt; stroke-linejoin:round; stroke-width:4; stroke-opacity:1; fill:none\" points=\"\n  175.445,1423.18 2352.76,1423.18 \n  \"/>\n<polyline clip-path=\"url(#clip780)\" style=\"stroke:#000000; stroke-linecap:butt; stroke-linejoin:round; stroke-width:4; stroke-opacity:1; fill:none\" points=\"\n  237.067,1423.18 237.067,1404.28 \n  \"/>\n<polyline clip-path=\"url(#clip780)\" style=\"stroke:#000000; stroke-linecap:butt; stroke-linejoin:round; stroke-width:4; stroke-opacity:1; fill:none\" points=\"\n  921.756,1423.18 921.756,1404.28 \n  \"/>\n<polyline clip-path=\"url(#clip780)\" style=\"stroke:#000000; stroke-linecap:butt; stroke-linejoin:round; stroke-width:4; stroke-opacity:1; fill:none\" points=\"\n  1606.45,1423.18 1606.45,1404.28 \n  \"/>\n<polyline clip-path=\"url(#clip780)\" style=\"stroke:#000000; stroke-linecap:butt; stroke-linejoin:round; stroke-width:4; stroke-opacity:1; fill:none\" points=\"\n  2291.13,1423.18 2291.13,1404.28 \n  \"/>\n<path clip-path=\"url(#clip780)\" d=\"M237.067 1454.1 Q233.456 1454.1 231.627 1457.66 Q229.822 1461.2 229.822 1468.33 Q229.822 1475.44 231.627 1479.01 Q233.456 1482.55 237.067 1482.55 Q240.701 1482.55 242.507 1479.01 Q244.336 1475.44 244.336 1468.33 Q244.336 1461.2 242.507 1457.66 Q240.701 1454.1 237.067 1454.1 M237.067 1450.39 Q242.877 1450.39 245.933 1455 Q249.012 1459.58 249.012 1468.33 Q249.012 1477.06 245.933 1481.67 Q242.877 1486.25 237.067 1486.25 Q231.257 1486.25 228.178 1481.67 Q225.123 1477.06 225.123 1468.33 Q225.123 1459.58 228.178 1455 Q231.257 1450.39 237.067 1450.39 Z\" fill=\"#000000\" fill-rule=\"evenodd\" fill-opacity=\"1\" /><path clip-path=\"url(#clip780)\" d=\"M912.138 1481.64 L919.777 1481.64 L919.777 1455.28 L911.467 1456.95 L911.467 1452.69 L919.731 1451.02 L924.407 1451.02 L924.407 1481.64 L932.045 1481.64 L932.045 1485.58 L912.138 1485.58 L912.138 1481.64 Z\" fill=\"#000000\" fill-rule=\"evenodd\" fill-opacity=\"1\" /><path clip-path=\"url(#clip780)\" d=\"M1601.1 1481.64 L1617.42 1481.64 L1617.42 1485.58 L1595.47 1485.58 L1595.47 1481.64 Q1598.13 1478.89 1602.72 1474.26 Q1607.32 1469.61 1608.51 1468.27 Q1610.75 1465.74 1611.63 1464.01 Q1612.53 1462.25 1612.53 1460.56 Q1612.53 1457.8 1610.59 1456.07 Q1608.67 1454.33 1605.57 1454.33 Q1603.37 1454.33 1600.91 1455.09 Q1598.48 1455.86 1595.7 1457.41 L1595.7 1452.69 Q1598.53 1451.55 1600.98 1450.97 Q1603.44 1450.39 1605.47 1450.39 Q1610.84 1450.39 1614.04 1453.08 Q1617.23 1455.77 1617.23 1460.26 Q1617.23 1462.39 1616.42 1464.31 Q1615.63 1466.2 1613.53 1468.8 Q1612.95 1469.47 1609.85 1472.69 Q1606.75 1475.88 1601.1 1481.64 Z\" fill=\"#000000\" fill-rule=\"evenodd\" fill-opacity=\"1\" /><path clip-path=\"url(#clip780)\" d=\"M2295.38 1466.95 Q2298.74 1467.66 2300.61 1469.93 Q2302.51 1472.2 2302.51 1475.53 Q2302.51 1480.65 2298.99 1483.45 Q2295.47 1486.25 2288.99 1486.25 Q2286.82 1486.25 2284.5 1485.81 Q2282.21 1485.39 2279.76 1484.54 L2279.76 1480.02 Q2281.7 1481.16 2284.02 1481.74 Q2286.33 1482.32 2288.85 1482.32 Q2293.25 1482.32 2295.54 1480.58 Q2297.86 1478.84 2297.86 1475.53 Q2297.86 1472.48 2295.71 1470.77 Q2293.58 1469.03 2289.76 1469.03 L2285.73 1469.03 L2285.73 1465.19 L2289.94 1465.19 Q2293.39 1465.19 2295.22 1463.82 Q2297.05 1462.43 2297.05 1459.84 Q2297.05 1457.18 2295.15 1455.77 Q2293.28 1454.33 2289.76 1454.33 Q2287.84 1454.33 2285.64 1454.75 Q2283.44 1455.16 2280.8 1456.04 L2280.8 1451.88 Q2283.46 1451.14 2285.78 1450.77 Q2288.11 1450.39 2290.17 1450.39 Q2295.5 1450.39 2298.6 1452.83 Q2301.7 1455.23 2301.7 1459.35 Q2301.7 1462.22 2300.06 1464.21 Q2298.41 1466.18 2295.38 1466.95 Z\" fill=\"#000000\" fill-rule=\"evenodd\" fill-opacity=\"1\" /><path clip-path=\"url(#clip780)\" d=\"M1151.55 1522.27 L1151.55 1532.4 L1163.62 1532.4 L1163.62 1536.95 L1151.55 1536.95 L1151.55 1556.3 Q1151.55 1560.66 1152.73 1561.9 Q1153.94 1563.14 1157.6 1563.14 L1163.62 1563.14 L1163.62 1568.04 L1157.6 1568.04 Q1150.82 1568.04 1148.24 1565.53 Q1145.67 1562.98 1145.67 1556.3 L1145.67 1536.95 L1141.37 1536.95 L1141.37 1532.4 L1145.67 1532.4 L1145.67 1522.27 L1151.55 1522.27 Z\" fill=\"#000000\" fill-rule=\"evenodd\" fill-opacity=\"1\" /><path clip-path=\"url(#clip780)\" d=\"M1171.32 1532.4 L1177.18 1532.4 L1177.18 1568.04 L1171.32 1568.04 L1171.32 1532.4 M1171.32 1518.52 L1177.18 1518.52 L1177.18 1525.93 L1171.32 1525.93 L1171.32 1518.52 Z\" fill=\"#000000\" fill-rule=\"evenodd\" fill-opacity=\"1\" /><path clip-path=\"url(#clip780)\" d=\"M1217.19 1539.24 Q1219.38 1535.29 1222.44 1533.41 Q1225.49 1531.54 1229.63 1531.54 Q1235.2 1531.54 1238.22 1535.45 Q1241.25 1539.33 1241.25 1546.53 L1241.25 1568.04 L1235.36 1568.04 L1235.36 1546.72 Q1235.36 1541.59 1233.55 1539.11 Q1231.73 1536.63 1228.01 1536.63 Q1223.46 1536.63 1220.81 1539.65 Q1218.17 1542.68 1218.17 1547.9 L1218.17 1568.04 L1212.28 1568.04 L1212.28 1546.72 Q1212.28 1541.56 1210.47 1539.11 Q1208.66 1536.63 1204.87 1536.63 Q1200.38 1536.63 1197.74 1539.68 Q1195.1 1542.71 1195.1 1547.9 L1195.1 1568.04 L1189.21 1568.04 L1189.21 1532.4 L1195.1 1532.4 L1195.1 1537.93 Q1197.1 1534.66 1199.9 1533.1 Q1202.7 1531.54 1206.55 1531.54 Q1210.44 1531.54 1213.14 1533.51 Q1215.88 1535.48 1217.19 1539.24 Z\" fill=\"#000000\" fill-rule=\"evenodd\" fill-opacity=\"1\" /><path clip-path=\"url(#clip780)\" d=\"M1283.42 1548.76 L1283.42 1551.62 L1256.49 1551.62 Q1256.88 1557.67 1260.12 1560.85 Q1263.4 1564 1269.22 1564 Q1272.6 1564 1275.75 1563.17 Q1278.93 1562.35 1282.05 1560.69 L1282.05 1566.23 Q1278.9 1567.57 1275.59 1568.27 Q1272.28 1568.97 1268.87 1568.97 Q1260.34 1568.97 1255.35 1564 Q1250.38 1559.04 1250.38 1550.57 Q1250.38 1541.82 1255.09 1536.69 Q1259.84 1531.54 1267.86 1531.54 Q1275.05 1531.54 1279.22 1536.18 Q1283.42 1540.8 1283.42 1548.76 M1277.56 1547.04 Q1277.5 1542.23 1274.86 1539.37 Q1272.25 1536.5 1267.92 1536.5 Q1263.02 1536.5 1260.06 1539.27 Q1257.13 1542.04 1256.68 1547.07 L1277.56 1547.04 Z\" fill=\"#000000\" fill-rule=\"evenodd\" fill-opacity=\"1\" /><path clip-path=\"url(#clip780)\" d=\"M1327.82 1518.58 Q1323.56 1525.9 1321.49 1533.06 Q1319.42 1540.23 1319.42 1547.58 Q1319.42 1554.93 1321.49 1562.16 Q1323.59 1569.35 1327.82 1576.64 L1322.73 1576.64 Q1317.95 1569.16 1315.57 1561.93 Q1313.21 1554.71 1313.21 1547.58 Q1313.21 1540.48 1315.57 1533.29 Q1317.92 1526.09 1322.73 1518.58 L1327.82 1518.58 Z\" fill=\"#000000\" fill-rule=\"evenodd\" fill-opacity=\"1\" /><path clip-path=\"url(#clip780)\" d=\"M1361.91 1533.45 L1361.91 1538.98 Q1359.43 1537.71 1356.75 1537.07 Q1354.08 1536.44 1351.22 1536.44 Q1346.85 1536.44 1344.66 1537.77 Q1342.49 1539.11 1342.49 1541.79 Q1342.49 1543.82 1344.05 1545 Q1345.61 1546.15 1350.32 1547.2 L1352.33 1547.64 Q1358.57 1548.98 1361.18 1551.43 Q1363.82 1553.85 1363.82 1558.21 Q1363.82 1563.17 1359.87 1566.07 Q1355.96 1568.97 1349.08 1568.97 Q1346.22 1568.97 1343.1 1568.39 Q1340.01 1567.85 1336.57 1566.74 L1336.57 1560.69 Q1339.82 1562.38 1342.97 1563.24 Q1346.12 1564.07 1349.21 1564.07 Q1353.35 1564.07 1355.58 1562.66 Q1357.8 1561.23 1357.8 1558.65 Q1357.8 1556.27 1356.18 1554.99 Q1354.59 1553.72 1349.15 1552.54 L1347.11 1552.07 Q1341.67 1550.92 1339.25 1548.56 Q1336.83 1546.18 1336.83 1542.04 Q1336.83 1537.01 1340.39 1534.27 Q1343.96 1531.54 1350.52 1531.54 Q1353.76 1531.54 1356.63 1532.01 Q1359.49 1532.49 1361.91 1533.45 Z\" fill=\"#000000\" fill-rule=\"evenodd\" fill-opacity=\"1\" /><path clip-path=\"url(#clip780)\" d=\"M1372.22 1518.58 L1377.31 1518.58 Q1382.09 1526.09 1384.44 1533.29 Q1386.83 1540.48 1386.83 1547.58 Q1386.83 1554.71 1384.44 1561.93 Q1382.09 1569.16 1377.31 1576.64 L1372.22 1576.64 Q1376.46 1569.35 1378.52 1562.16 Q1380.62 1554.93 1380.62 1547.58 Q1380.62 1540.23 1378.52 1533.06 Q1376.46 1525.9 1372.22 1518.58 Z\" fill=\"#000000\" fill-rule=\"evenodd\" fill-opacity=\"1\" /><polyline clip-path=\"url(#clip782)\" style=\"stroke:#000000; stroke-linecap:butt; stroke-linejoin:round; stroke-width:2; stroke-opacity:0.1; fill:none\" points=\"\n  175.445,1273.55 2352.76,1273.55 \n  \"/>\n<polyline clip-path=\"url(#clip782)\" style=\"stroke:#000000; stroke-linecap:butt; stroke-linejoin:round; stroke-width:2; stroke-opacity:0.1; fill:none\" points=\"\n  175.445,996.821 2352.76,996.821 \n  \"/>\n<polyline clip-path=\"url(#clip782)\" style=\"stroke:#000000; stroke-linecap:butt; stroke-linejoin:round; stroke-width:2; stroke-opacity:0.1; fill:none\" points=\"\n  175.445,720.095 2352.76,720.095 \n  \"/>\n<polyline clip-path=\"url(#clip782)\" style=\"stroke:#000000; stroke-linecap:butt; stroke-linejoin:round; stroke-width:2; stroke-opacity:0.1; fill:none\" points=\"\n  175.445,443.369 2352.76,443.369 \n  \"/>\n<polyline clip-path=\"url(#clip782)\" style=\"stroke:#000000; stroke-linecap:butt; stroke-linejoin:round; stroke-width:2; stroke-opacity:0.1; fill:none\" points=\"\n  175.445,166.642 2352.76,166.642 \n  \"/>\n<polyline clip-path=\"url(#clip780)\" style=\"stroke:#000000; stroke-linecap:butt; stroke-linejoin:round; stroke-width:4; stroke-opacity:1; fill:none\" points=\"\n  175.445,1423.18 175.445,47.2441 \n  \"/>\n<polyline clip-path=\"url(#clip780)\" style=\"stroke:#000000; stroke-linecap:butt; stroke-linejoin:round; stroke-width:4; stroke-opacity:1; fill:none\" points=\"\n  175.445,1273.55 194.343,1273.55 \n  \"/>\n<polyline clip-path=\"url(#clip780)\" style=\"stroke:#000000; stroke-linecap:butt; stroke-linejoin:round; stroke-width:4; stroke-opacity:1; fill:none\" points=\"\n  175.445,996.821 194.343,996.821 \n  \"/>\n<polyline clip-path=\"url(#clip780)\" style=\"stroke:#000000; stroke-linecap:butt; stroke-linejoin:round; stroke-width:4; stroke-opacity:1; fill:none\" points=\"\n  175.445,720.095 194.343,720.095 \n  \"/>\n<polyline clip-path=\"url(#clip780)\" style=\"stroke:#000000; stroke-linecap:butt; stroke-linejoin:round; stroke-width:4; stroke-opacity:1; fill:none\" points=\"\n  175.445,443.369 194.343,443.369 \n  \"/>\n<polyline clip-path=\"url(#clip780)\" style=\"stroke:#000000; stroke-linecap:butt; stroke-linejoin:round; stroke-width:4; stroke-opacity:1; fill:none\" points=\"\n  175.445,166.642 194.343,166.642 \n  \"/>\n<path clip-path=\"url(#clip780)\" d=\"M127.501 1259.35 Q123.89 1259.35 122.061 1262.91 Q120.255 1266.45 120.255 1273.58 Q120.255 1280.69 122.061 1284.25 Q123.89 1287.8 127.501 1287.8 Q131.135 1287.8 132.941 1284.25 Q134.769 1280.69 134.769 1273.58 Q134.769 1266.45 132.941 1262.91 Q131.135 1259.35 127.501 1259.35 M127.501 1255.64 Q133.311 1255.64 136.367 1260.25 Q139.445 1264.83 139.445 1273.58 Q139.445 1282.31 136.367 1286.92 Q133.311 1291.5 127.501 1291.5 Q121.691 1291.5 118.612 1286.92 Q115.556 1282.31 115.556 1273.58 Q115.556 1264.83 118.612 1260.25 Q121.691 1255.64 127.501 1255.64 Z\" fill=\"#000000\" fill-rule=\"evenodd\" fill-opacity=\"1\" /><path clip-path=\"url(#clip780)\" d=\"M119.538 1010.17 L127.177 1010.17 L127.177 983.801 L118.867 985.467 L118.867 981.208 L127.13 979.541 L131.806 979.541 L131.806 1010.17 L139.445 1010.17 L139.445 1014.1 L119.538 1014.1 L119.538 1010.17 Z\" fill=\"#000000\" fill-rule=\"evenodd\" fill-opacity=\"1\" /><path clip-path=\"url(#clip780)\" d=\"M123.126 733.44 L139.445 733.44 L139.445 737.375 L117.501 737.375 L117.501 733.44 Q120.163 730.685 124.746 726.056 Q129.353 721.403 130.533 720.06 Q132.779 717.537 133.658 715.801 Q134.561 714.042 134.561 712.352 Q134.561 709.597 132.617 707.861 Q130.695 706.125 127.593 706.125 Q125.394 706.125 122.941 706.889 Q120.51 707.653 117.732 709.204 L117.732 704.482 Q120.556 703.347 123.01 702.769 Q125.464 702.19 127.501 702.19 Q132.871 702.19 136.066 704.875 Q139.26 707.56 139.26 712.051 Q139.26 714.181 138.45 716.102 Q137.663 718 135.556 720.593 Q134.978 721.264 131.876 724.482 Q128.774 727.676 123.126 733.44 Z\" fill=\"#000000\" fill-rule=\"evenodd\" fill-opacity=\"1\" /><path clip-path=\"url(#clip780)\" d=\"M132.316 442.014 Q135.672 442.732 137.547 445.001 Q139.445 447.269 139.445 450.602 Q139.445 455.718 135.927 458.519 Q132.408 461.32 125.927 461.32 Q123.751 461.32 121.436 460.88 Q119.144 460.463 116.691 459.607 L116.691 455.093 Q118.635 456.227 120.95 456.806 Q123.265 457.385 125.788 457.385 Q130.186 457.385 132.478 455.649 Q134.792 453.913 134.792 450.602 Q134.792 447.547 132.64 445.834 Q130.51 444.098 126.691 444.098 L122.663 444.098 L122.663 440.255 L126.876 440.255 Q130.325 440.255 132.154 438.889 Q133.982 437.501 133.982 434.908 Q133.982 432.246 132.084 430.834 Q130.209 429.399 126.691 429.399 Q124.769 429.399 122.57 429.815 Q120.371 430.232 117.732 431.112 L117.732 426.945 Q120.394 426.204 122.709 425.834 Q125.047 425.464 127.107 425.464 Q132.431 425.464 135.533 427.894 Q138.635 430.302 138.635 434.422 Q138.635 437.292 136.992 439.283 Q135.348 441.251 132.316 442.014 Z\" fill=\"#000000\" fill-rule=\"evenodd\" fill-opacity=\"1\" /><path clip-path=\"url(#clip780)\" d=\"M129.862 153.436 L118.056 171.885 L129.862 171.885 L129.862 153.436 M128.635 149.362 L134.515 149.362 L134.515 171.885 L139.445 171.885 L139.445 175.774 L134.515 175.774 L134.515 183.922 L129.862 183.922 L129.862 175.774 L114.26 175.774 L114.26 171.26 L128.635 149.362 Z\" fill=\"#000000\" fill-rule=\"evenodd\" fill-opacity=\"1\" /><path clip-path=\"url(#clip780)\" d=\"M29.4065 806.062 L34.9447 806.062 Q33.6716 808.545 33.035 811.219 Q32.3984 813.892 32.3984 816.757 Q32.3984 821.117 33.7352 823.313 Q35.072 825.478 37.7456 825.478 Q39.7826 825.478 40.9603 823.918 Q42.1061 822.358 43.1565 817.648 L43.6021 815.643 Q44.9389 809.404 47.3897 806.794 Q49.8086 804.153 54.1691 804.153 Q59.1344 804.153 62.0308 808.099 Q64.9272 812.014 64.9272 818.889 Q64.9272 821.754 64.3543 824.873 Q63.8132 827.96 62.6992 831.398 L56.6518 831.398 Q58.3387 828.151 59.198 825 Q60.0256 821.849 60.0256 818.762 Q60.0256 814.624 58.6251 812.396 Q57.1929 810.168 54.6147 810.168 Q52.2276 810.168 50.9545 811.791 Q49.6813 813.383 48.5037 818.826 L48.0262 820.863 Q46.8804 826.305 44.5251 828.724 Q42.138 831.143 38.0002 831.143 Q32.9713 831.143 30.2341 827.578 Q27.4968 824.014 27.4968 817.457 Q27.4968 814.21 27.9743 811.346 Q28.4517 808.481 29.4065 806.062 Z\" fill=\"#000000\" fill-rule=\"evenodd\" fill-opacity=\"1\" /><path clip-path=\"url(#clip780)\" d=\"M18.2347 789.034 L28.3562 789.034 L28.3562 776.971 L32.9077 776.971 L32.9077 789.034 L52.2594 789.034 Q56.6199 789.034 57.8613 787.856 Q59.1026 786.647 59.1026 782.987 L59.1026 776.971 L64.0042 776.971 L64.0042 782.987 Q64.0042 789.766 61.4897 792.344 Q58.9434 794.922 52.2594 794.922 L32.9077 794.922 L32.9077 799.219 L28.3562 799.219 L28.3562 794.922 L18.2347 794.922 L18.2347 789.034 Z\" fill=\"#000000\" fill-rule=\"evenodd\" fill-opacity=\"1\" /><path clip-path=\"url(#clip780)\" d=\"M46.0847 753.068 Q46.0847 760.166 47.7079 762.903 Q49.3312 765.64 53.2461 765.64 Q56.3653 765.64 58.2114 763.603 Q60.0256 761.534 60.0256 758.001 Q60.0256 753.131 56.5881 750.203 Q53.1188 747.243 47.3897 747.243 L46.0847 747.243 L46.0847 753.068 M43.6657 741.387 L64.0042 741.387 L64.0042 747.243 L58.5933 747.243 Q61.8398 749.248 63.3994 752.24 Q64.9272 755.232 64.9272 759.561 Q64.9272 765.035 61.8716 768.282 Q58.7843 771.496 53.6281 771.496 Q47.6125 771.496 44.5569 767.486 Q41.5014 763.444 41.5014 755.455 L41.5014 747.243 L40.9285 747.243 Q36.8862 747.243 34.6901 749.917 Q32.4621 752.559 32.4621 757.365 Q32.4621 760.42 33.1941 763.317 Q33.9262 766.213 35.3903 768.887 L29.9795 768.887 Q28.7381 765.672 28.1334 762.648 Q27.4968 759.624 27.4968 756.76 Q27.4968 749.026 31.5072 745.206 Q35.5176 741.387 43.6657 741.387 Z\" fill=\"#000000\" fill-rule=\"evenodd\" fill-opacity=\"1\" /><path clip-path=\"url(#clip780)\" d=\"M18.2347 723.531 L28.3562 723.531 L28.3562 711.468 L32.9077 711.468 L32.9077 723.531 L52.2594 723.531 Q56.6199 723.531 57.8613 722.353 Q59.1026 721.144 59.1026 717.483 L59.1026 711.468 L64.0042 711.468 L64.0042 717.483 Q64.0042 724.263 61.4897 726.841 Q58.9434 729.419 52.2594 729.419 L32.9077 729.419 L32.9077 733.716 L28.3562 733.716 L28.3562 729.419 L18.2347 729.419 L18.2347 723.531 Z\" fill=\"#000000\" fill-rule=\"evenodd\" fill-opacity=\"1\" /><path clip-path=\"url(#clip780)\" d=\"M44.7161 673.274 L47.5806 673.274 L47.5806 700.201 Q53.6281 699.819 56.8109 696.572 Q59.9619 693.294 59.9619 687.469 Q59.9619 684.095 59.1344 680.944 Q58.3069 677.761 56.6518 674.642 L62.1899 674.642 Q63.5267 677.793 64.227 681.103 Q64.9272 684.414 64.9272 687.819 Q64.9272 696.349 59.9619 701.346 Q54.9967 706.312 46.5303 706.312 Q37.7774 706.312 32.6531 701.601 Q27.4968 696.859 27.4968 688.838 Q27.4968 681.645 32.1438 677.475 Q36.7589 673.274 44.7161 673.274 M42.9973 679.13 Q38.1912 679.194 35.3266 681.836 Q32.4621 684.445 32.4621 688.774 Q32.4621 693.676 35.2312 696.636 Q38.0002 699.564 43.0292 700.01 L42.9973 679.13 Z\" fill=\"#000000\" fill-rule=\"evenodd\" fill-opacity=\"1\" /><path clip-path=\"url(#clip780)\" d=\"M29.4065 640.936 L34.9447 640.936 Q33.6716 643.418 33.035 646.092 Q32.3984 648.766 32.3984 651.63 Q32.3984 655.991 33.7352 658.187 Q35.072 660.351 37.7456 660.351 Q39.7826 660.351 40.9603 658.792 Q42.1061 657.232 43.1565 652.521 L43.6021 650.516 Q44.9389 644.278 47.3897 641.668 Q49.8086 639.026 54.1691 639.026 Q59.1344 639.026 62.0308 642.973 Q64.9272 646.888 64.9272 653.763 Q64.9272 656.627 64.3543 659.747 Q63.8132 662.834 62.6992 666.271 L56.6518 666.271 Q58.3387 663.025 59.198 659.874 Q60.0256 656.723 60.0256 653.635 Q60.0256 649.498 58.6251 647.27 Q57.1929 645.042 54.6147 645.042 Q52.2276 645.042 50.9545 646.665 Q49.6813 648.256 48.5037 653.699 L48.0262 655.736 Q46.8804 661.179 44.5251 663.598 Q42.138 666.017 38.0002 666.017 Q32.9713 666.017 30.2341 662.452 Q27.4968 658.887 27.4968 652.33 Q27.4968 649.084 27.9743 646.219 Q28.4517 643.355 29.4065 640.936 Z\" fill=\"#000000\" fill-rule=\"evenodd\" fill-opacity=\"1\" /><polyline clip-path=\"url(#clip782)\" style=\"stroke:#009af9; stroke-linecap:butt; stroke-linejoin:round; stroke-width:8; stroke-opacity:1; fill:none\" points=\"\n  237.067,1384.24 250.761,1375.98 264.455,1353.58 278.149,1322.37 291.842,1288.33 305.536,1256.79 319.23,1230.97 332.924,1211.82 346.617,1198.78 360.311,1190.55 \n  374.005,1185.56 387.699,1182.3 401.393,1179.54 415.086,1176.4 428.78,1172.41 442.474,1167.42 456.168,1161.52 469.861,1154.94 483.555,1147.93 497.249,1140.75 \n  510.943,1133.59 524.637,1126.56 538.33,1119.74 552.024,1113.13 565.718,1106.72 579.412,1100.46 593.105,1094.3 606.799,1088.22 620.493,1082.18 634.187,1076.16 \n  647.881,1070.14 661.574,1064.12 675.268,1058.11 688.962,1052.11 702.656,1046.12 716.349,1040.14 730.043,1034.18 743.737,1028.24 757.431,1022.32 771.125,1016.42 \n  784.818,1010.53 798.512,1004.65 812.206,998.773 825.9,992.906 839.593,987.04 853.287,981.176 866.981,975.31 880.675,969.441 894.369,963.567 908.062,957.687 \n  921.756,951.799 935.45,945.903 949.144,939.995 962.837,934.075 976.531,928.142 990.225,922.193 1003.92,916.227 1017.61,910.243 1031.31,904.239 1045,898.213 \n  1058.69,892.165 1072.39,886.092 1086.08,879.993 1099.78,873.867 1113.47,867.713 1127.16,861.528 1140.86,855.312 1154.55,849.063 1168.24,842.78 1181.94,836.462 \n  1195.63,830.106 1209.33,823.712 1223.02,817.279 1236.71,810.805 1250.41,804.289 1264.1,797.729 1277.79,791.124 1291.49,784.474 1305.18,777.776 1318.88,771.029 \n  1332.57,764.232 1346.26,757.384 1359.96,750.484 1373.65,743.529 1387.34,736.52 1401.04,729.454 1414.73,722.331 1428.43,715.148 1442.12,707.906 1455.81,700.602 \n  1469.51,693.236 1483.2,685.805 1496.89,678.31 1510.59,670.747 1524.28,663.118 1537.98,655.419 1551.67,647.65 1565.36,639.809 1579.06,631.895 1592.75,623.908 \n  1606.45,615.845 1620.14,607.705 1633.83,599.487 1647.53,591.19 1661.22,582.813 1674.91,574.353 1688.61,565.811 1702.3,557.184 1716,548.471 1729.69,539.671 \n  1743.38,530.782 1757.08,521.804 1770.77,512.734 1784.46,503.572 1798.16,494.316 1811.85,484.965 1825.55,475.517 1839.24,465.971 1852.93,456.325 1866.63,446.579 \n  1880.32,436.73 1894.01,426.777 1907.71,416.72 1921.4,406.556 1935.1,396.284 1948.79,385.902 1962.48,375.409 1976.18,364.804 1989.87,354.084 2003.56,343.249 \n  2017.26,332.297 2030.95,321.227 2044.65,310.036 2058.34,298.723 2072.03,287.287 2085.73,275.726 2099.42,264.039 2113.11,252.223 2126.81,240.278 2140.5,228.201 \n  2154.2,215.991 2167.89,203.646 2181.58,191.164 2195.28,178.545 2208.97,165.785 2222.67,152.883 2236.36,139.838 2250.05,126.648 2263.75,113.31 2277.44,99.8232 \n  2291.13,86.1857 \n  \"/>\n<polyline clip-path=\"url(#clip782)\" style=\"stroke:#e26f46; stroke-linecap:butt; stroke-linejoin:round; stroke-width:8; stroke-opacity:1; fill:none\" points=\"\n  237.067,597.378 250.761,585.353 264.455,552.29 278.149,505.465 291.842,454.481 305.536,409.024 319.23,375.198 332.924,354.534 346.617,345.578 360.311,345.584 \n  374.005,351.466 387.699,360.318 401.393,369.761 415.086,378.148 428.78,384.599 442.474,388.884 456.168,391.224 469.861,392.088 483.555,392.013 497.249,391.492 \n  510.943,390.903 524.637,390.491 538.33,390.377 552.024,390.583 565.718,391.067 579.412,391.754 593.105,392.56 606.799,393.412 620.493,394.252 634.187,395.047 \n  647.881,395.78 661.574,396.45 675.268,397.065 688.962,397.637 702.656,398.18 716.349,398.706 730.043,399.222 743.737,399.734 757.431,400.245 771.125,400.755 \n  784.818,401.263 798.512,401.768 812.206,402.267 825.9,402.759 839.593,403.244 853.287,403.72 866.981,404.188 880.675,404.648 894.369,405.101 908.062,405.546 \n  921.756,405.986 935.45,406.419 949.144,406.846 962.837,407.268 976.531,407.685 990.225,408.098 1003.92,408.505 1017.61,408.908 1031.31,409.306 1045,409.701 \n  1058.69,410.091 1072.39,410.477 1086.08,410.859 1099.78,411.238 1113.47,411.613 1127.16,411.985 1140.86,412.354 1154.55,412.72 1168.24,413.083 1181.94,413.443 \n  1195.63,413.801 1209.33,414.157 1223.02,414.51 1236.71,414.861 1250.41,415.21 1264.1,415.557 1277.79,415.903 1291.49,416.247 1305.18,416.589 1318.88,416.931 \n  1332.57,417.271 1346.26,417.61 1359.96,417.947 1373.65,418.284 1387.34,418.621 1401.04,418.956 1414.73,419.291 1428.43,419.626 1442.12,419.96 1455.81,420.295 \n  1469.51,420.629 1483.2,420.963 1496.89,421.297 1510.59,421.631 1524.28,421.965 1537.98,422.3 1551.67,422.635 1565.36,422.971 1579.06,423.308 1592.75,423.645 \n  1606.45,423.983 1620.14,424.322 1633.83,424.662 1647.53,425.003 1661.22,425.345 1674.91,425.688 1688.61,426.033 1702.3,426.379 1716,426.727 1729.69,427.076 \n  1743.38,427.427 1757.08,427.779 1770.77,428.134 1784.46,428.49 1798.16,428.848 1811.85,429.209 1825.55,429.571 1839.24,429.936 1852.93,430.303 1866.63,430.672 \n  1880.32,431.043 1894.01,431.418 1907.71,431.794 1921.4,432.174 1935.1,432.556 1948.79,432.94 1962.48,433.328 1976.18,433.719 1989.87,434.112 2003.56,434.509 \n  2017.26,434.909 2030.95,435.312 2044.65,435.718 2058.34,436.128 2072.03,436.541 2085.73,436.958 2099.42,437.378 2113.11,437.802 2126.81,438.23 2140.5,438.661 \n  2154.2,439.096 2167.89,439.535 2181.58,439.979 2195.28,440.426 2208.97,440.877 2222.67,441.333 2236.36,441.793 2250.05,442.257 2263.75,442.726 2277.44,443.199 \n  2291.13,443.677 \n  \"/>\n<path clip-path=\"url(#clip780)\" d=\"\nM248.022 787.052 L515.084 787.052 L515.084 631.532 L248.022 631.532  Z\n  \" fill=\"#ffffff\" fill-rule=\"evenodd\" fill-opacity=\"1\"/>\n<polyline clip-path=\"url(#clip780)\" style=\"stroke:#000000; stroke-linecap:butt; stroke-linejoin:round; stroke-width:4; stroke-opacity:1; fill:none\" points=\"\n  248.022,787.052 515.084,787.052 515.084,631.532 248.022,631.532 248.022,787.052 \n  \"/>\n<polyline clip-path=\"url(#clip780)\" style=\"stroke:#009af9; stroke-linecap:butt; stroke-linejoin:round; stroke-width:4; stroke-opacity:1; fill:none\" points=\"\n  272.215,683.372 417.369,683.372 \n  \"/>\n<path clip-path=\"url(#clip780)\" d=\"M466.214 674.726 L456.839 687.342 L466.7 700.652 L461.677 700.652 L454.13 690.467 L446.584 700.652 L441.561 700.652 L451.63 687.087 L442.417 674.726 L447.441 674.726 L454.316 683.962 L461.19 674.726 L466.214 674.726 Z\" fill=\"#000000\" fill-rule=\"evenodd\" fill-opacity=\"1\" /><polyline clip-path=\"url(#clip780)\" style=\"stroke:#e26f46; stroke-linecap:butt; stroke-linejoin:round; stroke-width:4; stroke-opacity:1; fill:none\" points=\"\n  272.215,735.212 417.369,735.212 \n  \"/>\n<path clip-path=\"url(#clip780)\" d=\"M460.82 736.057 L446.075 736.057 Q446.422 742.978 448.019 745.918 Q450.01 749.529 453.459 749.529 Q456.931 749.529 458.853 745.895 Q460.542 742.7 460.82 736.057 M460.751 732.122 Q460.103 725.548 458.853 723.233 Q456.862 719.575 453.459 719.575 Q449.917 719.575 448.042 723.187 Q446.561 726.103 446.121 732.122 L460.751 732.122 M453.459 716.103 Q459.015 716.103 462.186 721.011 Q465.357 725.895 465.357 734.552 Q465.357 743.186 462.186 748.094 Q459.015 753.024 453.459 753.024 Q447.88 753.024 444.732 748.094 Q441.561 743.186 441.561 734.552 Q441.561 725.895 444.732 721.011 Q447.88 716.103 453.459 716.103 Z\" fill=\"#000000\" fill-rule=\"evenodd\" fill-opacity=\"1\" /></svg>\n"
     },
     "execution_count": 26,
     "metadata": {},
     "output_type": "execute_result"
    }
   ],
   "source": [
    "# Simulate nominal model with LQR gain from bilinear model\n",
    "ctrl_lqr = LQRController(K_bil, xe, ue)\n",
    "\n",
    "t_sim = 3.0\n",
    "times_sim_nominal = range(0,t_sim,step=dt)\n",
    "# x0 = [0,pi-deg2rad(1),0,0]\n",
    "x0 = [-0.4,pi-deg2rad(40),0,0]\n",
    "Xsim_lqr_nominal, = simulatewithcontroller(dmodel, ctrl_lqr, x0, t_sim, dt)\n",
    "plotstates(times_sim_nominal, Xsim_lqr_nominal, inds=1:2, xlabel=\"time (s)\", ylabel=\"states\", label=[\"x\" \"θ\"], legend=:left, lw=2)"
   ]
  },
  {
   "cell_type": "markdown",
   "metadata": {},
   "source": [
    "# Train with Derivative Data\n",
    "Here we incorporate derivative data by penalizing the difference of the Jacobian of the learned model from the expected Jacobians of the nominal model, e.g.:\n",
    "\n",
    "$$ \\sum_{j=1}^P || \\frac{\\partial}{\\partial x} G \\hat{f}(\\varphi(x_j), u_j) - A_j ||^2 $$\n",
    "\n",
    "where \n",
    "\n",
    "$$ \\hat{f}(y,u) = A y + B u + \\sum_{i=1}^m u_i C_i y $$\n",
    "\n",
    "are the learned bilinear dynamics."
   ]
  },
  {
   "cell_type": "code",
   "execution_count": 27,
   "metadata": {},
   "outputs": [],
   "source": [
    "# Generate Jacobians\n",
    "xn = zeros(n0)\n",
    "jacobians = map(CartesianIndices(U_train)) do cind\n",
    "    k = cind[1]\n",
    "    x = X_train[cind]\n",
    "    u = U_train[cind]\n",
    "    z = RD.KnotPoint{n0,m}(x,u,times[k],dt)\n",
    "    J = zeros(n0,n0+m)\n",
    "    RD.jacobian!(\n",
    "        RD.InPlace(), RD.ForwardAD(), dmodel, J, xn, z \n",
    "    )\n",
    "    J\n",
    "end\n",
    "A_train = map(J->J[:,1:n0], jacobians)\n",
    "B_train = map(J->J[:,n0+1:end], jacobians)\n",
    "\n",
    "# Convert states to lifted Koopman states\n",
    "Y_train = map(kf, X_train)\n",
    "\n",
    "# Calculate Jacobian of Koopman transform\n",
    "F_train = map(@view X_train[1:end-1,:]) do x\n",
    "    sparse(ForwardDiff.jacobian(x->expandstate(model_bilinear,x), x))\n",
    "end;"
   ]
  },
  {
   "cell_type": "markdown",
   "metadata": {},
   "source": [
    "### Build Least-squares problem\n",
    "Find the eDMD data `A`, `B`, and `C` that minimize the following residual:\n",
    "\n",
    "$$\\sum_{j=1}^P (1-\\alpha)|| A y_j + B u_j + \\sum_{i=1}^m u_{j,i} C_i x_j - y_j^+ ||^2 + \n",
    "\\alpha || G (A + \\sum_{i=1}^m u_{j,i} C_j) F_j  - A_j ||^2 + \n",
    "\\alpha || G (B + [C_1 x_j \\dots C_m x_j]) - B_j ||^2  $$\n",
    "\n",
    "where $F_j = \\partial \\varphi(x_j) / \\partial x$.\n",
    "\n",
    "This is equivalent to \n",
    "\n",
    "$$ (1-\\alpha)|| E Z_{1:P} - Y_{1:P}^+ ||^2 + \n",
    "\\alpha || G E \\hat{A}_{1:P} - A_{1:P} ||^2 +\n",
    "\\alpha || G E \\hat{B}_{1:P} - B_{1:P} ||^2 $$\n",
    "\n",
    "where\n",
    "\n",
    "$$ E = \\begin{bmatrix} A & B & C_1 & \\dots & C_m \\end{bmatrix} \\in \\mathbb{R}^{n \\times p} $$\n",
    "$$ Z_j = \\begin{bmatrix} \n",
    "    x_j \\\\ u_j \\\\ u_{j,1} x_j \\\\ \\vdots \\\\ u_{j,m} x_j \n",
    "\\end{bmatrix} \\in \\mathbb{R}^{p}, \\quad\n",
    "\\hat{A}_j = \\begin{bmatrix} \n",
    "    I_n \\\\ 0_{m,n} \\\\ u_{j,1} I_n \\\\ \\vdots \\\\ u_{j,m} I_n \n",
    "\\end{bmatrix} \\in \\mathbb{R}^{p \\times n}, \\quad\n",
    "\\hat{B}_j = \\begin{bmatrix} \n",
    "    0_{n,m} \\\\ I_m \\\\ [x_j \\; 0 \\; \\dots \\; 0] \\\\ \\vdots \\\\ [0 \\; \\dots \\; 0 \\; x_j] \n",
    "\\end{bmatrix} \\in \\mathbb{R}^{p \\times m}\n",
    "$$\n",
    "\n",
    "which is equivalent to \n",
    "\n",
    "$$ \\left\\lVert \n",
    "\\begin{bmatrix} \n",
    "    Z_{1:P}^T \\otimes I_n \\\\\n",
    "    \\hat{A}_{1:P}^T \\otimes G \\\\\n",
    "    \\hat{B}_{1:P}^T \\otimes G \n",
    "\\end{bmatrix} \\text{vec}(E) - \n",
    "\\begin{bmatrix}\n",
    "    \\text{vec}{Y_{1:P}^+}\\\\\n",
    "    \\text{vec}{A_{1:P}^+}\\\\\n",
    "    \\text{vec}{B_{1:P}^+}\\\\\n",
    "\\end{bmatrix}\n",
    "\\right\\rVert^2 $$"
   ]
  },
  {
   "cell_type": "code",
   "execution_count": 28,
   "metadata": {},
   "outputs": [
    {
     "name": "stdout",
     "output_type": "stream",
     "text": [
      "Concatentating data\n",
      "Creating feature matrix\n",
      "Creating state Jacobian matrix\n",
      "Creating control Jacobian matrix\n",
      "Creating least-squares data\n"
     ]
    }
   ],
   "source": [
    "# Create a sparse version of the G Jacobian\n",
    "G = spdiagm(n0,n,1=>ones(n0)) \n",
    "@test norm(G - model_bilinear.g) < 1e-8\n",
    "\n",
    "# Build Least Squares Problem\n",
    "W,s = BilinearControl.EDMD.build_edmd_data(\n",
    "    Z_train, U_train, A_train, B_train, F_train, model_bilinear.g\n",
    ");"
   ]
  },
  {
   "cell_type": "markdown",
   "metadata": {},
   "source": [
    "### Solve the Least-squares Problem"
   ]
  },
  {
   "cell_type": "code",
   "execution_count": 29,
   "metadata": {},
   "outputs": [
    {
     "name": "stdout",
     "output_type": "stream",
     "text": [
      " 10.681659 seconds (451.15 k allocations: 1.349 GiB, 3.38% gc time, 0.92% compilation time)\n",
      " 47.123527 seconds (627 allocations: 27.529 GiB, 2.30% gc time, 0.02% compilation time)\n",
      "  1.996315 seconds (33 allocations: 34.782 MiB, 0.45% gc time, 0.14% compilation time)\n"
     ]
    },
    {
     "data": {
      "text/plain": [
       "13671.16757513551"
      ]
     },
     "execution_count": 29,
     "metadata": {},
     "output_type": "execute_result"
    }
   ],
   "source": [
    "@time Wsparse = sparse(W)\n",
    "@time F = qr(Wsparse)\n",
    "@time x = F \\ s\n",
    "norm(W*x - s)"
   ]
  },
  {
   "cell_type": "code",
   "execution_count": 30,
   "metadata": {},
   "outputs": [],
   "source": [
    "# Extract out bilinear dynamics\n",
    "n = length(Z_train[1])\n",
    "E = reshape(x,n,:)\n",
    "A = E[:,1:n]\n",
    "B = E[:,n .+ (1:m)]\n",
    "C = E[:,n+m .+ (1:n*m)];"
   ]
  },
  {
   "cell_type": "code",
   "execution_count": 31,
   "metadata": {},
   "outputs": [
    {
     "name": "stdout",
     "output_type": "stream",
     "text": [
      "Train Error: 0.0256158932548699\n",
      "Test Error:  0.04575627041255644\n",
      "New Train Error: 0.0062163136534738725\n",
      "New Test Error:  0.006365613094846053\n"
     ]
    }
   ],
   "source": [
    "# Evaluate the Fit\n",
    "err_train2 = BilinearControl.EDMD.fiterror(A,B,C,g,kf, X_train, U_train)\n",
    "err_test2 = BilinearControl.EDMD.fiterror(A,B,C,g,kf, X_test, U_test)\n",
    "println(\"Train Error: \", err_train)\n",
    "println(\"Test Error:  \", err_test)\n",
    "println(\"New Train Error: \", err_train2)\n",
    "println(\"New Test Error:  \", err_test2)"
   ]
  },
  {
   "cell_type": "code",
   "execution_count": 32,
   "metadata": {},
   "outputs": [
    {
     "data": {
      "text/plain": [
       "0.1292593635595607"
      ]
     },
     "execution_count": 32,
     "metadata": {},
     "output_type": "execute_result"
    }
   ],
   "source": [
    "BilinearControl.matdensity(Wsparse)"
   ]
  },
  {
   "cell_type": "code",
   "execution_count": 33,
   "metadata": {},
   "outputs": [],
   "source": [
    "# Save data\n",
    "jldsave(joinpath(Problems.DATADIR,\"cartpole_eDMD_jac_data.jld2\"); A,B,C,g, eigfuns, eigorders, dt)"
   ]
  },
  {
   "cell_type": "markdown",
   "metadata": {},
   "source": [
    "### Create and Test new eDMD Model"
   ]
  },
  {
   "cell_type": "code",
   "execution_count": 34,
   "metadata": {},
   "outputs": [],
   "source": [
    "cartpole_data = load(joinpath(Problems.DATADIR, \"cartpole_eDMD_jac_data.jld2\"))\n",
    "A = cartpole_data[\"A\"]\n",
    "B = cartpole_data[\"B\"]\n",
    "C = cartpole_data[\"C\"]\n",
    "g = cartpole_data[\"g\"]\n",
    "dt = cartpole_data[\"dt\"]\n",
    "model_bilinear2 = EDMDModel(A,B,[C],g,kf,dt,\"cartpole\")\n",
    "n,m = RD.dims(model_bilinear)\n",
    "n0 = originalstatedim(model_bilinear);\n"
   ]
  },
  {
   "cell_type": "code",
   "execution_count": 35,
   "metadata": {},
   "outputs": [],
   "source": [
    "# Get A,B for new system\n",
    "function dynamics_bilinear2(x,u,t,dt)\n",
    "    y = expandstate(model_bilinear2, x)\n",
    "    yn = zero(y)\n",
    "    RD.discrete_dynamics!(model_bilinear2, yn, y, u, t, dt)\n",
    "    originalstate(model_bilinear2, yn)\n",
    "end\n",
    "A_bil2 = FiniteDiff.finite_difference_jacobian(x->dynamics_bilinear2(x,ue,0.0,dt), xe)\n",
    "B_bil2 = FiniteDiff.finite_difference_jacobian(u->dynamics_bilinear2(xe,u,0.0,dt), ue);"
   ]
  },
  {
   "cell_type": "markdown",
   "metadata": {},
   "source": [
    "**Compare the Jacobians with Nominal model**"
   ]
  },
  {
   "cell_type": "code",
   "execution_count": 36,
   "metadata": {},
   "outputs": [
    {
     "data": {
      "text/plain": [
       "4×4 Matrix{Float64}:\n",
       " 1.0  0.000392055   0.019998     -1.38375e-6\n",
       " 0.0  1.0047       -3.99648e-6    0.0199834\n",
       " 0.0  0.0392035     0.9998       -7.57316e-6\n",
       " 0.0  0.470481     -0.000399628   0.999909"
      ]
     },
     "execution_count": 36,
     "metadata": {},
     "output_type": "execute_result"
    }
   ],
   "source": [
    "A_nom"
   ]
  },
  {
   "cell_type": "code",
   "execution_count": 37,
   "metadata": {},
   "outputs": [
    {
     "data": {
      "text/plain": [
       "4×4 Matrix{Float64}:\n",
       " 1.0          0.000384806   0.0199987   -1.10295e-6\n",
       " 2.47359e-6   1.0047       -1.3113e-6    0.0199848\n",
       " 7.52507e-5   0.0386225     0.999888     3.14119e-5\n",
       " 0.000321389  0.470412     -3.24245e-5   1.00011"
      ]
     },
     "execution_count": 37,
     "metadata": {},
     "output_type": "execute_result"
    }
   ],
   "source": [
    "A_bil2"
   ]
  },
  {
   "cell_type": "code",
   "execution_count": 38,
   "metadata": {},
   "outputs": [
    {
     "data": {
      "text/plain": [
       "4×1 Matrix{Float64}:\n",
       " 0.00019995956333333334\n",
       " 0.00039964806000000004\n",
       " 0.01999523290316667\n",
       " 0.03996279079433334"
      ]
     },
     "execution_count": 38,
     "metadata": {},
     "output_type": "execute_result"
    }
   ],
   "source": [
    "B_nom"
   ]
  },
  {
   "cell_type": "code",
   "execution_count": 39,
   "metadata": {},
   "outputs": [
    {
     "data": {
      "text/plain": [
       "4×1 Matrix{Float64}:\n",
       " 0.00019874977174083597\n",
       " 0.0004000663757324219\n",
       " 0.0198978412249744\n",
       " 0.04012235753089044"
      ]
     },
     "execution_count": 39,
     "metadata": {},
     "output_type": "execute_result"
    }
   ],
   "source": [
    "B_bil2"
   ]
  },
  {
   "cell_type": "markdown",
   "metadata": {},
   "source": [
    "### Stabilize with LQR"
   ]
  },
  {
   "cell_type": "code",
   "execution_count": 40,
   "metadata": {},
   "outputs": [
    {
     "data": {
      "text/plain": [
       "1×4 Matrix{Float64}:\n",
       " -63.6724  298.111  -61.4419  47.7341"
      ]
     },
     "execution_count": 40,
     "metadata": {},
     "output_type": "execute_result"
    }
   ],
   "source": [
    "K_bil2 = dlqr(A_bil2, B_bil2, Qlqr, Rlqr)"
   ]
  },
  {
   "cell_type": "code",
   "execution_count": 41,
   "metadata": {},
   "outputs": [
    {
     "name": "stdout",
     "output_type": "stream",
     "text": [
      "Stability Summary:\n",
      "  Dynamics  |  Controller  |  is stable? \n",
      "------------|--------------|--------------\n",
      "  Nominal   |  Nominal     |  true\n",
      "  Bilinear  |  Bilinear    |  true\n",
      "  Nominal   |  Bilinear    |  true\n"
     ]
    }
   ],
   "source": [
    "# Evaluate stability\n",
    "isstable_bilinear2 = maximum(abs.(eigvals(A_bil2 - B_bil2*K_bil2))) < 1.0\n",
    "isstable_nominal_with_bilinear2 = maximum(abs.(eigvals(A_nom - B_nom*K_bil2))) < 1.0\n",
    "\n",
    "println(\"Stability Summary:\")\n",
    "println(\"  Dynamics  |  Controller  |  is stable? \")\n",
    "println(\"------------|--------------|--------------\")\n",
    "println(\"  Nominal   |  Nominal     |  \", isstable_nominal)\n",
    "println(\"  Bilinear  |  Bilinear    |  \", isstable_bilinear2)\n",
    "println(\"  Nominal   |  Bilinear    |  \", isstable_nominal_with_bilinear2)"
   ]
  },
  {
   "cell_type": "code",
   "execution_count": 43,
   "metadata": {},
   "outputs": [
    {
     "data": {
      "image/svg+xml": "<?xml version=\"1.0\" encoding=\"utf-8\"?>\n<svg xmlns=\"http://www.w3.org/2000/svg\" xmlns:xlink=\"http://www.w3.org/1999/xlink\" width=\"600\" height=\"400\" viewBox=\"0 0 2400 1600\">\n<defs>\n  <clipPath id=\"clip860\">\n    <rect x=\"0\" y=\"0\" width=\"2400\" height=\"1600\"/>\n  </clipPath>\n</defs>\n<path clip-path=\"url(#clip860)\" d=\"\nM0 1600 L2400 1600 L2400 0 L0 0  Z\n  \" fill=\"#ffffff\" fill-rule=\"evenodd\" fill-opacity=\"1\"/>\n<defs>\n  <clipPath id=\"clip861\">\n    <rect x=\"480\" y=\"0\" width=\"1681\" height=\"1600\"/>\n  </clipPath>\n</defs>\n<path clip-path=\"url(#clip860)\" d=\"\nM175.445 1423.18 L2352.76 1423.18 L2352.76 47.2441 L175.445 47.2441  Z\n  \" fill=\"#ffffff\" fill-rule=\"evenodd\" fill-opacity=\"1\"/>\n<defs>\n  <clipPath id=\"clip862\">\n    <rect x=\"175\" y=\"47\" width=\"2178\" height=\"1377\"/>\n  </clipPath>\n</defs>\n<polyline clip-path=\"url(#clip862)\" style=\"stroke:#000000; stroke-linecap:butt; stroke-linejoin:round; stroke-width:2; stroke-opacity:0.1; fill:none\" points=\"\n  237.067,1423.18 237.067,47.2441 \n  \"/>\n<polyline clip-path=\"url(#clip862)\" style=\"stroke:#000000; stroke-linecap:butt; stroke-linejoin:round; stroke-width:2; stroke-opacity:0.1; fill:none\" points=\"\n  921.756,1423.18 921.756,47.2441 \n  \"/>\n<polyline clip-path=\"url(#clip862)\" style=\"stroke:#000000; stroke-linecap:butt; stroke-linejoin:round; stroke-width:2; stroke-opacity:0.1; fill:none\" points=\"\n  1606.45,1423.18 1606.45,47.2441 \n  \"/>\n<polyline clip-path=\"url(#clip862)\" style=\"stroke:#000000; stroke-linecap:butt; stroke-linejoin:round; stroke-width:2; stroke-opacity:0.1; fill:none\" points=\"\n  2291.13,1423.18 2291.13,47.2441 \n  \"/>\n<polyline clip-path=\"url(#clip860)\" style=\"stroke:#000000; stroke-linecap:butt; stroke-linejoin:round; stroke-width:4; stroke-opacity:1; fill:none\" points=\"\n  175.445,1423.18 2352.76,1423.18 \n  \"/>\n<polyline clip-path=\"url(#clip860)\" style=\"stroke:#000000; stroke-linecap:butt; stroke-linejoin:round; stroke-width:4; stroke-opacity:1; fill:none\" points=\"\n  237.067,1423.18 237.067,1404.28 \n  \"/>\n<polyline clip-path=\"url(#clip860)\" style=\"stroke:#000000; stroke-linecap:butt; stroke-linejoin:round; stroke-width:4; stroke-opacity:1; fill:none\" points=\"\n  921.756,1423.18 921.756,1404.28 \n  \"/>\n<polyline clip-path=\"url(#clip860)\" style=\"stroke:#000000; stroke-linecap:butt; stroke-linejoin:round; stroke-width:4; stroke-opacity:1; fill:none\" points=\"\n  1606.45,1423.18 1606.45,1404.28 \n  \"/>\n<polyline clip-path=\"url(#clip860)\" style=\"stroke:#000000; stroke-linecap:butt; stroke-linejoin:round; stroke-width:4; stroke-opacity:1; fill:none\" points=\"\n  2291.13,1423.18 2291.13,1404.28 \n  \"/>\n<path clip-path=\"url(#clip860)\" d=\"M237.067 1454.1 Q233.456 1454.1 231.627 1457.66 Q229.822 1461.2 229.822 1468.33 Q229.822 1475.44 231.627 1479.01 Q233.456 1482.55 237.067 1482.55 Q240.701 1482.55 242.507 1479.01 Q244.336 1475.44 244.336 1468.33 Q244.336 1461.2 242.507 1457.66 Q240.701 1454.1 237.067 1454.1 M237.067 1450.39 Q242.877 1450.39 245.933 1455 Q249.012 1459.58 249.012 1468.33 Q249.012 1477.06 245.933 1481.67 Q242.877 1486.25 237.067 1486.25 Q231.257 1486.25 228.178 1481.67 Q225.123 1477.06 225.123 1468.33 Q225.123 1459.58 228.178 1455 Q231.257 1450.39 237.067 1450.39 Z\" fill=\"#000000\" fill-rule=\"evenodd\" fill-opacity=\"1\" /><path clip-path=\"url(#clip860)\" d=\"M912.138 1481.64 L919.777 1481.64 L919.777 1455.28 L911.467 1456.95 L911.467 1452.69 L919.731 1451.02 L924.407 1451.02 L924.407 1481.64 L932.045 1481.64 L932.045 1485.58 L912.138 1485.58 L912.138 1481.64 Z\" fill=\"#000000\" fill-rule=\"evenodd\" fill-opacity=\"1\" /><path clip-path=\"url(#clip860)\" d=\"M1601.1 1481.64 L1617.42 1481.64 L1617.42 1485.58 L1595.47 1485.58 L1595.47 1481.64 Q1598.13 1478.89 1602.72 1474.26 Q1607.32 1469.61 1608.51 1468.27 Q1610.75 1465.74 1611.63 1464.01 Q1612.53 1462.25 1612.53 1460.56 Q1612.53 1457.8 1610.59 1456.07 Q1608.67 1454.33 1605.57 1454.33 Q1603.37 1454.33 1600.91 1455.09 Q1598.48 1455.86 1595.7 1457.41 L1595.7 1452.69 Q1598.53 1451.55 1600.98 1450.97 Q1603.44 1450.39 1605.47 1450.39 Q1610.84 1450.39 1614.04 1453.08 Q1617.23 1455.77 1617.23 1460.26 Q1617.23 1462.39 1616.42 1464.31 Q1615.63 1466.2 1613.53 1468.8 Q1612.95 1469.47 1609.85 1472.69 Q1606.75 1475.88 1601.1 1481.64 Z\" fill=\"#000000\" fill-rule=\"evenodd\" fill-opacity=\"1\" /><path clip-path=\"url(#clip860)\" d=\"M2295.38 1466.95 Q2298.74 1467.66 2300.61 1469.93 Q2302.51 1472.2 2302.51 1475.53 Q2302.51 1480.65 2298.99 1483.45 Q2295.47 1486.25 2288.99 1486.25 Q2286.82 1486.25 2284.5 1485.81 Q2282.21 1485.39 2279.76 1484.54 L2279.76 1480.02 Q2281.7 1481.16 2284.02 1481.74 Q2286.33 1482.32 2288.85 1482.32 Q2293.25 1482.32 2295.54 1480.58 Q2297.86 1478.84 2297.86 1475.53 Q2297.86 1472.48 2295.71 1470.77 Q2293.58 1469.03 2289.76 1469.03 L2285.73 1469.03 L2285.73 1465.19 L2289.94 1465.19 Q2293.39 1465.19 2295.22 1463.82 Q2297.05 1462.43 2297.05 1459.84 Q2297.05 1457.18 2295.15 1455.77 Q2293.28 1454.33 2289.76 1454.33 Q2287.84 1454.33 2285.64 1454.75 Q2283.44 1455.16 2280.8 1456.04 L2280.8 1451.88 Q2283.46 1451.14 2285.78 1450.77 Q2288.11 1450.39 2290.17 1450.39 Q2295.5 1450.39 2298.6 1452.83 Q2301.7 1455.23 2301.7 1459.35 Q2301.7 1462.22 2300.06 1464.21 Q2298.41 1466.18 2295.38 1466.95 Z\" fill=\"#000000\" fill-rule=\"evenodd\" fill-opacity=\"1\" /><path clip-path=\"url(#clip860)\" d=\"M1151.55 1522.27 L1151.55 1532.4 L1163.62 1532.4 L1163.62 1536.95 L1151.55 1536.95 L1151.55 1556.3 Q1151.55 1560.66 1152.73 1561.9 Q1153.94 1563.14 1157.6 1563.14 L1163.62 1563.14 L1163.62 1568.04 L1157.6 1568.04 Q1150.82 1568.04 1148.24 1565.53 Q1145.67 1562.98 1145.67 1556.3 L1145.67 1536.95 L1141.37 1536.95 L1141.37 1532.4 L1145.67 1532.4 L1145.67 1522.27 L1151.55 1522.27 Z\" fill=\"#000000\" fill-rule=\"evenodd\" fill-opacity=\"1\" /><path clip-path=\"url(#clip860)\" d=\"M1171.32 1532.4 L1177.18 1532.4 L1177.18 1568.04 L1171.32 1568.04 L1171.32 1532.4 M1171.32 1518.52 L1177.18 1518.52 L1177.18 1525.93 L1171.32 1525.93 L1171.32 1518.52 Z\" fill=\"#000000\" fill-rule=\"evenodd\" fill-opacity=\"1\" /><path clip-path=\"url(#clip860)\" d=\"M1217.19 1539.24 Q1219.38 1535.29 1222.44 1533.41 Q1225.49 1531.54 1229.63 1531.54 Q1235.2 1531.54 1238.22 1535.45 Q1241.25 1539.33 1241.25 1546.53 L1241.25 1568.04 L1235.36 1568.04 L1235.36 1546.72 Q1235.36 1541.59 1233.55 1539.11 Q1231.73 1536.63 1228.01 1536.63 Q1223.46 1536.63 1220.81 1539.65 Q1218.17 1542.68 1218.17 1547.9 L1218.17 1568.04 L1212.28 1568.04 L1212.28 1546.72 Q1212.28 1541.56 1210.47 1539.11 Q1208.66 1536.63 1204.87 1536.63 Q1200.38 1536.63 1197.74 1539.68 Q1195.1 1542.71 1195.1 1547.9 L1195.1 1568.04 L1189.21 1568.04 L1189.21 1532.4 L1195.1 1532.4 L1195.1 1537.93 Q1197.1 1534.66 1199.9 1533.1 Q1202.7 1531.54 1206.55 1531.54 Q1210.44 1531.54 1213.14 1533.51 Q1215.88 1535.48 1217.19 1539.24 Z\" fill=\"#000000\" fill-rule=\"evenodd\" fill-opacity=\"1\" /><path clip-path=\"url(#clip860)\" d=\"M1283.42 1548.76 L1283.42 1551.62 L1256.49 1551.62 Q1256.88 1557.67 1260.12 1560.85 Q1263.4 1564 1269.22 1564 Q1272.6 1564 1275.75 1563.17 Q1278.93 1562.35 1282.05 1560.69 L1282.05 1566.23 Q1278.9 1567.57 1275.59 1568.27 Q1272.28 1568.97 1268.87 1568.97 Q1260.34 1568.97 1255.35 1564 Q1250.38 1559.04 1250.38 1550.57 Q1250.38 1541.82 1255.09 1536.69 Q1259.84 1531.54 1267.86 1531.54 Q1275.05 1531.54 1279.22 1536.18 Q1283.42 1540.8 1283.42 1548.76 M1277.56 1547.04 Q1277.5 1542.23 1274.86 1539.37 Q1272.25 1536.5 1267.92 1536.5 Q1263.02 1536.5 1260.06 1539.27 Q1257.13 1542.04 1256.68 1547.07 L1277.56 1547.04 Z\" fill=\"#000000\" fill-rule=\"evenodd\" fill-opacity=\"1\" /><path clip-path=\"url(#clip860)\" d=\"M1327.82 1518.58 Q1323.56 1525.9 1321.49 1533.06 Q1319.42 1540.23 1319.42 1547.58 Q1319.42 1554.93 1321.49 1562.16 Q1323.59 1569.35 1327.82 1576.64 L1322.73 1576.64 Q1317.95 1569.16 1315.57 1561.93 Q1313.21 1554.71 1313.21 1547.58 Q1313.21 1540.48 1315.57 1533.29 Q1317.92 1526.09 1322.73 1518.58 L1327.82 1518.58 Z\" fill=\"#000000\" fill-rule=\"evenodd\" fill-opacity=\"1\" /><path clip-path=\"url(#clip860)\" d=\"M1361.91 1533.45 L1361.91 1538.98 Q1359.43 1537.71 1356.75 1537.07 Q1354.08 1536.44 1351.22 1536.44 Q1346.85 1536.44 1344.66 1537.77 Q1342.49 1539.11 1342.49 1541.79 Q1342.49 1543.82 1344.05 1545 Q1345.61 1546.15 1350.32 1547.2 L1352.33 1547.64 Q1358.57 1548.98 1361.18 1551.43 Q1363.82 1553.85 1363.82 1558.21 Q1363.82 1563.17 1359.87 1566.07 Q1355.96 1568.97 1349.08 1568.97 Q1346.22 1568.97 1343.1 1568.39 Q1340.01 1567.85 1336.57 1566.74 L1336.57 1560.69 Q1339.82 1562.38 1342.97 1563.24 Q1346.12 1564.07 1349.21 1564.07 Q1353.35 1564.07 1355.58 1562.66 Q1357.8 1561.23 1357.8 1558.65 Q1357.8 1556.27 1356.18 1554.99 Q1354.59 1553.72 1349.15 1552.54 L1347.11 1552.07 Q1341.67 1550.92 1339.25 1548.56 Q1336.83 1546.18 1336.83 1542.04 Q1336.83 1537.01 1340.39 1534.27 Q1343.96 1531.54 1350.52 1531.54 Q1353.76 1531.54 1356.63 1532.01 Q1359.49 1532.49 1361.91 1533.45 Z\" fill=\"#000000\" fill-rule=\"evenodd\" fill-opacity=\"1\" /><path clip-path=\"url(#clip860)\" d=\"M1372.22 1518.58 L1377.31 1518.58 Q1382.09 1526.09 1384.44 1533.29 Q1386.83 1540.48 1386.83 1547.58 Q1386.83 1554.71 1384.44 1561.93 Q1382.09 1569.16 1377.31 1576.64 L1372.22 1576.64 Q1376.46 1569.35 1378.52 1562.16 Q1380.62 1554.93 1380.62 1547.58 Q1380.62 1540.23 1378.52 1533.06 Q1376.46 1525.9 1372.22 1518.58 Z\" fill=\"#000000\" fill-rule=\"evenodd\" fill-opacity=\"1\" /><polyline clip-path=\"url(#clip862)\" style=\"stroke:#000000; stroke-linecap:butt; stroke-linejoin:round; stroke-width:2; stroke-opacity:0.1; fill:none\" points=\"\n  175.445,1273.55 2352.76,1273.55 \n  \"/>\n<polyline clip-path=\"url(#clip862)\" style=\"stroke:#000000; stroke-linecap:butt; stroke-linejoin:round; stroke-width:2; stroke-opacity:0.1; fill:none\" points=\"\n  175.445,996.821 2352.76,996.821 \n  \"/>\n<polyline clip-path=\"url(#clip862)\" style=\"stroke:#000000; stroke-linecap:butt; stroke-linejoin:round; stroke-width:2; stroke-opacity:0.1; fill:none\" points=\"\n  175.445,720.095 2352.76,720.095 \n  \"/>\n<polyline clip-path=\"url(#clip862)\" style=\"stroke:#000000; stroke-linecap:butt; stroke-linejoin:round; stroke-width:2; stroke-opacity:0.1; fill:none\" points=\"\n  175.445,443.369 2352.76,443.369 \n  \"/>\n<polyline clip-path=\"url(#clip862)\" style=\"stroke:#000000; stroke-linecap:butt; stroke-linejoin:round; stroke-width:2; stroke-opacity:0.1; fill:none\" points=\"\n  175.445,166.642 2352.76,166.642 \n  \"/>\n<polyline clip-path=\"url(#clip860)\" style=\"stroke:#000000; stroke-linecap:butt; stroke-linejoin:round; stroke-width:4; stroke-opacity:1; fill:none\" points=\"\n  175.445,1423.18 175.445,47.2441 \n  \"/>\n<polyline clip-path=\"url(#clip860)\" style=\"stroke:#000000; stroke-linecap:butt; stroke-linejoin:round; stroke-width:4; stroke-opacity:1; fill:none\" points=\"\n  175.445,1273.55 194.343,1273.55 \n  \"/>\n<polyline clip-path=\"url(#clip860)\" style=\"stroke:#000000; stroke-linecap:butt; stroke-linejoin:round; stroke-width:4; stroke-opacity:1; fill:none\" points=\"\n  175.445,996.821 194.343,996.821 \n  \"/>\n<polyline clip-path=\"url(#clip860)\" style=\"stroke:#000000; stroke-linecap:butt; stroke-linejoin:round; stroke-width:4; stroke-opacity:1; fill:none\" points=\"\n  175.445,720.095 194.343,720.095 \n  \"/>\n<polyline clip-path=\"url(#clip860)\" style=\"stroke:#000000; stroke-linecap:butt; stroke-linejoin:round; stroke-width:4; stroke-opacity:1; fill:none\" points=\"\n  175.445,443.369 194.343,443.369 \n  \"/>\n<polyline clip-path=\"url(#clip860)\" style=\"stroke:#000000; stroke-linecap:butt; stroke-linejoin:round; stroke-width:4; stroke-opacity:1; fill:none\" points=\"\n  175.445,166.642 194.343,166.642 \n  \"/>\n<path clip-path=\"url(#clip860)\" d=\"M127.501 1259.35 Q123.89 1259.35 122.061 1262.91 Q120.255 1266.45 120.255 1273.58 Q120.255 1280.69 122.061 1284.25 Q123.89 1287.8 127.501 1287.8 Q131.135 1287.8 132.941 1284.25 Q134.769 1280.69 134.769 1273.58 Q134.769 1266.45 132.941 1262.91 Q131.135 1259.35 127.501 1259.35 M127.501 1255.64 Q133.311 1255.64 136.367 1260.25 Q139.445 1264.83 139.445 1273.58 Q139.445 1282.31 136.367 1286.92 Q133.311 1291.5 127.501 1291.5 Q121.691 1291.5 118.612 1286.92 Q115.556 1282.31 115.556 1273.58 Q115.556 1264.83 118.612 1260.25 Q121.691 1255.64 127.501 1255.64 Z\" fill=\"#000000\" fill-rule=\"evenodd\" fill-opacity=\"1\" /><path clip-path=\"url(#clip860)\" d=\"M119.538 1010.17 L127.177 1010.17 L127.177 983.801 L118.867 985.467 L118.867 981.208 L127.13 979.541 L131.806 979.541 L131.806 1010.17 L139.445 1010.17 L139.445 1014.1 L119.538 1014.1 L119.538 1010.17 Z\" fill=\"#000000\" fill-rule=\"evenodd\" fill-opacity=\"1\" /><path clip-path=\"url(#clip860)\" d=\"M123.126 733.44 L139.445 733.44 L139.445 737.375 L117.501 737.375 L117.501 733.44 Q120.163 730.685 124.746 726.056 Q129.353 721.403 130.533 720.06 Q132.779 717.537 133.658 715.801 Q134.561 714.042 134.561 712.352 Q134.561 709.597 132.617 707.861 Q130.695 706.125 127.593 706.125 Q125.394 706.125 122.941 706.889 Q120.51 707.653 117.732 709.204 L117.732 704.482 Q120.556 703.347 123.01 702.769 Q125.464 702.19 127.501 702.19 Q132.871 702.19 136.066 704.875 Q139.26 707.56 139.26 712.051 Q139.26 714.181 138.45 716.102 Q137.663 718 135.556 720.593 Q134.978 721.264 131.876 724.482 Q128.774 727.676 123.126 733.44 Z\" fill=\"#000000\" fill-rule=\"evenodd\" fill-opacity=\"1\" /><path clip-path=\"url(#clip860)\" d=\"M132.316 442.014 Q135.672 442.732 137.547 445.001 Q139.445 447.269 139.445 450.602 Q139.445 455.718 135.927 458.519 Q132.408 461.32 125.927 461.32 Q123.751 461.32 121.436 460.88 Q119.144 460.463 116.691 459.607 L116.691 455.093 Q118.635 456.227 120.95 456.806 Q123.265 457.385 125.788 457.385 Q130.186 457.385 132.478 455.649 Q134.792 453.913 134.792 450.602 Q134.792 447.547 132.64 445.834 Q130.51 444.098 126.691 444.098 L122.663 444.098 L122.663 440.255 L126.876 440.255 Q130.325 440.255 132.154 438.889 Q133.982 437.501 133.982 434.908 Q133.982 432.246 132.084 430.834 Q130.209 429.399 126.691 429.399 Q124.769 429.399 122.57 429.815 Q120.371 430.232 117.732 431.112 L117.732 426.945 Q120.394 426.204 122.709 425.834 Q125.047 425.464 127.107 425.464 Q132.431 425.464 135.533 427.894 Q138.635 430.302 138.635 434.422 Q138.635 437.292 136.992 439.283 Q135.348 441.251 132.316 442.014 Z\" fill=\"#000000\" fill-rule=\"evenodd\" fill-opacity=\"1\" /><path clip-path=\"url(#clip860)\" d=\"M129.862 153.436 L118.056 171.885 L129.862 171.885 L129.862 153.436 M128.635 149.362 L134.515 149.362 L134.515 171.885 L139.445 171.885 L139.445 175.774 L134.515 175.774 L134.515 183.922 L129.862 183.922 L129.862 175.774 L114.26 175.774 L114.26 171.26 L128.635 149.362 Z\" fill=\"#000000\" fill-rule=\"evenodd\" fill-opacity=\"1\" /><path clip-path=\"url(#clip860)\" d=\"M29.4065 806.062 L34.9447 806.062 Q33.6716 808.545 33.035 811.219 Q32.3984 813.892 32.3984 816.757 Q32.3984 821.117 33.7352 823.313 Q35.072 825.478 37.7456 825.478 Q39.7826 825.478 40.9603 823.918 Q42.1061 822.358 43.1565 817.648 L43.6021 815.643 Q44.9389 809.404 47.3897 806.794 Q49.8086 804.153 54.1691 804.153 Q59.1344 804.153 62.0308 808.099 Q64.9272 812.014 64.9272 818.889 Q64.9272 821.754 64.3543 824.873 Q63.8132 827.96 62.6992 831.398 L56.6518 831.398 Q58.3387 828.151 59.198 825 Q60.0256 821.849 60.0256 818.762 Q60.0256 814.624 58.6251 812.396 Q57.1929 810.168 54.6147 810.168 Q52.2276 810.168 50.9545 811.791 Q49.6813 813.383 48.5037 818.826 L48.0262 820.863 Q46.8804 826.305 44.5251 828.724 Q42.138 831.143 38.0002 831.143 Q32.9713 831.143 30.2341 827.578 Q27.4968 824.014 27.4968 817.457 Q27.4968 814.21 27.9743 811.346 Q28.4517 808.481 29.4065 806.062 Z\" fill=\"#000000\" fill-rule=\"evenodd\" fill-opacity=\"1\" /><path clip-path=\"url(#clip860)\" d=\"M18.2347 789.034 L28.3562 789.034 L28.3562 776.971 L32.9077 776.971 L32.9077 789.034 L52.2594 789.034 Q56.6199 789.034 57.8613 787.856 Q59.1026 786.647 59.1026 782.987 L59.1026 776.971 L64.0042 776.971 L64.0042 782.987 Q64.0042 789.766 61.4897 792.344 Q58.9434 794.922 52.2594 794.922 L32.9077 794.922 L32.9077 799.219 L28.3562 799.219 L28.3562 794.922 L18.2347 794.922 L18.2347 789.034 Z\" fill=\"#000000\" fill-rule=\"evenodd\" fill-opacity=\"1\" /><path clip-path=\"url(#clip860)\" d=\"M46.0847 753.068 Q46.0847 760.166 47.7079 762.903 Q49.3312 765.64 53.2461 765.64 Q56.3653 765.64 58.2114 763.603 Q60.0256 761.534 60.0256 758.001 Q60.0256 753.131 56.5881 750.203 Q53.1188 747.243 47.3897 747.243 L46.0847 747.243 L46.0847 753.068 M43.6657 741.387 L64.0042 741.387 L64.0042 747.243 L58.5933 747.243 Q61.8398 749.248 63.3994 752.24 Q64.9272 755.232 64.9272 759.561 Q64.9272 765.035 61.8716 768.282 Q58.7843 771.496 53.6281 771.496 Q47.6125 771.496 44.5569 767.486 Q41.5014 763.444 41.5014 755.455 L41.5014 747.243 L40.9285 747.243 Q36.8862 747.243 34.6901 749.917 Q32.4621 752.559 32.4621 757.365 Q32.4621 760.42 33.1941 763.317 Q33.9262 766.213 35.3903 768.887 L29.9795 768.887 Q28.7381 765.672 28.1334 762.648 Q27.4968 759.624 27.4968 756.76 Q27.4968 749.026 31.5072 745.206 Q35.5176 741.387 43.6657 741.387 Z\" fill=\"#000000\" fill-rule=\"evenodd\" fill-opacity=\"1\" /><path clip-path=\"url(#clip860)\" d=\"M18.2347 723.531 L28.3562 723.531 L28.3562 711.468 L32.9077 711.468 L32.9077 723.531 L52.2594 723.531 Q56.6199 723.531 57.8613 722.353 Q59.1026 721.144 59.1026 717.483 L59.1026 711.468 L64.0042 711.468 L64.0042 717.483 Q64.0042 724.263 61.4897 726.841 Q58.9434 729.419 52.2594 729.419 L32.9077 729.419 L32.9077 733.716 L28.3562 733.716 L28.3562 729.419 L18.2347 729.419 L18.2347 723.531 Z\" fill=\"#000000\" fill-rule=\"evenodd\" fill-opacity=\"1\" /><path clip-path=\"url(#clip860)\" d=\"M44.7161 673.274 L47.5806 673.274 L47.5806 700.201 Q53.6281 699.819 56.8109 696.572 Q59.9619 693.294 59.9619 687.469 Q59.9619 684.095 59.1344 680.944 Q58.3069 677.761 56.6518 674.642 L62.1899 674.642 Q63.5267 677.793 64.227 681.103 Q64.9272 684.414 64.9272 687.819 Q64.9272 696.349 59.9619 701.346 Q54.9967 706.312 46.5303 706.312 Q37.7774 706.312 32.6531 701.601 Q27.4968 696.859 27.4968 688.838 Q27.4968 681.645 32.1438 677.475 Q36.7589 673.274 44.7161 673.274 M42.9973 679.13 Q38.1912 679.194 35.3266 681.836 Q32.4621 684.445 32.4621 688.774 Q32.4621 693.676 35.2312 696.636 Q38.0002 699.564 43.0292 700.01 L42.9973 679.13 Z\" fill=\"#000000\" fill-rule=\"evenodd\" fill-opacity=\"1\" /><path clip-path=\"url(#clip860)\" d=\"M29.4065 640.936 L34.9447 640.936 Q33.6716 643.418 33.035 646.092 Q32.3984 648.766 32.3984 651.63 Q32.3984 655.991 33.7352 658.187 Q35.072 660.351 37.7456 660.351 Q39.7826 660.351 40.9603 658.792 Q42.1061 657.232 43.1565 652.521 L43.6021 650.516 Q44.9389 644.278 47.3897 641.668 Q49.8086 639.026 54.1691 639.026 Q59.1344 639.026 62.0308 642.973 Q64.9272 646.888 64.9272 653.763 Q64.9272 656.627 64.3543 659.747 Q63.8132 662.834 62.6992 666.271 L56.6518 666.271 Q58.3387 663.025 59.198 659.874 Q60.0256 656.723 60.0256 653.635 Q60.0256 649.498 58.6251 647.27 Q57.1929 645.042 54.6147 645.042 Q52.2276 645.042 50.9545 646.665 Q49.6813 648.256 48.5037 653.699 L48.0262 655.736 Q46.8804 661.179 44.5251 663.598 Q42.138 666.017 38.0002 666.017 Q32.9713 666.017 30.2341 662.452 Q27.4968 658.887 27.4968 652.33 Q27.4968 649.084 27.9743 646.219 Q28.4517 643.355 29.4065 640.936 Z\" fill=\"#000000\" fill-rule=\"evenodd\" fill-opacity=\"1\" /><polyline clip-path=\"url(#clip862)\" style=\"stroke:#009af9; stroke-linecap:butt; stroke-linejoin:round; stroke-width:8; stroke-opacity:1; fill:none\" points=\"\n  237.067,1384.24 250.761,1375.98 264.455,1353.58 278.149,1322.37 291.842,1288.33 305.536,1256.79 319.23,1230.97 332.924,1211.82 346.617,1198.78 360.311,1190.55 \n  374.005,1185.56 387.699,1182.3 401.393,1179.54 415.086,1176.4 428.78,1172.41 442.474,1167.42 456.168,1161.52 469.861,1154.94 483.555,1147.93 497.249,1140.75 \n  510.943,1133.59 524.637,1126.56 538.33,1119.74 552.024,1113.13 565.718,1106.72 579.412,1100.46 593.105,1094.3 606.799,1088.22 620.493,1082.18 634.187,1076.16 \n  647.881,1070.14 661.574,1064.12 675.268,1058.11 688.962,1052.11 702.656,1046.12 716.349,1040.14 730.043,1034.18 743.737,1028.24 757.431,1022.32 771.125,1016.42 \n  784.818,1010.53 798.512,1004.65 812.206,998.773 825.9,992.906 839.593,987.04 853.287,981.176 866.981,975.31 880.675,969.441 894.369,963.567 908.062,957.687 \n  921.756,951.799 935.45,945.903 949.144,939.995 962.837,934.075 976.531,928.142 990.225,922.193 1003.92,916.227 1017.61,910.243 1031.31,904.239 1045,898.213 \n  1058.69,892.165 1072.39,886.092 1086.08,879.993 1099.78,873.867 1113.47,867.713 1127.16,861.528 1140.86,855.312 1154.55,849.063 1168.24,842.78 1181.94,836.462 \n  1195.63,830.106 1209.33,823.712 1223.02,817.279 1236.71,810.805 1250.41,804.289 1264.1,797.729 1277.79,791.124 1291.49,784.474 1305.18,777.776 1318.88,771.029 \n  1332.57,764.232 1346.26,757.384 1359.96,750.484 1373.65,743.529 1387.34,736.52 1401.04,729.454 1414.73,722.331 1428.43,715.148 1442.12,707.906 1455.81,700.602 \n  1469.51,693.236 1483.2,685.805 1496.89,678.31 1510.59,670.747 1524.28,663.118 1537.98,655.419 1551.67,647.65 1565.36,639.809 1579.06,631.895 1592.75,623.908 \n  1606.45,615.845 1620.14,607.705 1633.83,599.487 1647.53,591.19 1661.22,582.813 1674.91,574.353 1688.61,565.811 1702.3,557.184 1716,548.471 1729.69,539.671 \n  1743.38,530.782 1757.08,521.804 1770.77,512.734 1784.46,503.572 1798.16,494.316 1811.85,484.965 1825.55,475.517 1839.24,465.971 1852.93,456.325 1866.63,446.579 \n  1880.32,436.73 1894.01,426.777 1907.71,416.72 1921.4,406.556 1935.1,396.284 1948.79,385.902 1962.48,375.409 1976.18,364.804 1989.87,354.084 2003.56,343.249 \n  2017.26,332.297 2030.95,321.227 2044.65,310.036 2058.34,298.723 2072.03,287.287 2085.73,275.726 2099.42,264.039 2113.11,252.223 2126.81,240.278 2140.5,228.201 \n  2154.2,215.991 2167.89,203.646 2181.58,191.164 2195.28,178.545 2208.97,165.785 2222.67,152.883 2236.36,139.838 2250.05,126.648 2263.75,113.31 2277.44,99.8232 \n  2291.13,86.1857 \n  \"/>\n<polyline clip-path=\"url(#clip862)\" style=\"stroke:#e26f46; stroke-linecap:butt; stroke-linejoin:round; stroke-width:8; stroke-opacity:1; fill:none\" points=\"\n  237.067,597.378 250.761,585.353 264.455,552.29 278.149,505.465 291.842,454.481 305.536,409.024 319.23,375.198 332.924,354.534 346.617,345.578 360.311,345.584 \n  374.005,351.466 387.699,360.318 401.393,369.761 415.086,378.148 428.78,384.599 442.474,388.884 456.168,391.224 469.861,392.088 483.555,392.013 497.249,391.492 \n  510.943,390.903 524.637,390.491 538.33,390.377 552.024,390.583 565.718,391.067 579.412,391.754 593.105,392.56 606.799,393.412 620.493,394.252 634.187,395.047 \n  647.881,395.78 661.574,396.45 675.268,397.065 688.962,397.637 702.656,398.18 716.349,398.706 730.043,399.222 743.737,399.734 757.431,400.245 771.125,400.755 \n  784.818,401.263 798.512,401.768 812.206,402.267 825.9,402.759 839.593,403.244 853.287,403.72 866.981,404.188 880.675,404.648 894.369,405.101 908.062,405.546 \n  921.756,405.986 935.45,406.419 949.144,406.846 962.837,407.268 976.531,407.685 990.225,408.098 1003.92,408.505 1017.61,408.908 1031.31,409.306 1045,409.701 \n  1058.69,410.091 1072.39,410.477 1086.08,410.859 1099.78,411.238 1113.47,411.613 1127.16,411.985 1140.86,412.354 1154.55,412.72 1168.24,413.083 1181.94,413.443 \n  1195.63,413.801 1209.33,414.157 1223.02,414.51 1236.71,414.861 1250.41,415.21 1264.1,415.557 1277.79,415.903 1291.49,416.247 1305.18,416.589 1318.88,416.931 \n  1332.57,417.271 1346.26,417.61 1359.96,417.947 1373.65,418.284 1387.34,418.621 1401.04,418.956 1414.73,419.291 1428.43,419.626 1442.12,419.96 1455.81,420.295 \n  1469.51,420.629 1483.2,420.963 1496.89,421.297 1510.59,421.631 1524.28,421.965 1537.98,422.3 1551.67,422.635 1565.36,422.971 1579.06,423.308 1592.75,423.645 \n  1606.45,423.983 1620.14,424.322 1633.83,424.662 1647.53,425.003 1661.22,425.345 1674.91,425.688 1688.61,426.033 1702.3,426.379 1716,426.727 1729.69,427.076 \n  1743.38,427.427 1757.08,427.779 1770.77,428.134 1784.46,428.49 1798.16,428.848 1811.85,429.209 1825.55,429.571 1839.24,429.936 1852.93,430.303 1866.63,430.672 \n  1880.32,431.043 1894.01,431.418 1907.71,431.794 1921.4,432.174 1935.1,432.556 1948.79,432.94 1962.48,433.328 1976.18,433.719 1989.87,434.112 2003.56,434.509 \n  2017.26,434.909 2030.95,435.312 2044.65,435.718 2058.34,436.128 2072.03,436.541 2085.73,436.958 2099.42,437.378 2113.11,437.802 2126.81,438.23 2140.5,438.661 \n  2154.2,439.096 2167.89,439.535 2181.58,439.979 2195.28,440.426 2208.97,440.877 2222.67,441.333 2236.36,441.793 2250.05,442.257 2263.75,442.726 2277.44,443.199 \n  2291.13,443.677 \n  \"/>\n<polyline clip-path=\"url(#clip862)\" style=\"stroke:#3da44d; stroke-linecap:butt; stroke-linejoin:round; stroke-width:8; stroke-opacity:1; fill:none\" points=\"\n  237.067,1384.24 250.761,1374.93 264.455,1348.93 278.149,1311.76 291.842,1271.32 305.536,1234.62 319.23,1204.86 332.924,1182.23 346.617,1166.01 360.311,1155.24 \n  374.005,1148.88 387.699,1145.81 401.393,1144.89 415.086,1145.09 428.78,1145.61 442.474,1145.95 456.168,1145.9 469.861,1145.44 483.555,1144.67 497.249,1143.74 \n  510.943,1142.79 524.637,1141.9 538.33,1141.17 552.024,1140.61 565.718,1140.26 579.412,1140.1 593.105,1140.13 606.799,1140.34 620.493,1140.7 634.187,1141.22 \n  647.881,1141.87 661.574,1142.65 675.268,1143.54 688.962,1144.54 702.656,1145.64 716.349,1146.84 730.043,1148.12 743.737,1149.48 757.431,1150.92 771.125,1152.43 \n  784.818,1154.01 798.512,1155.64 812.206,1157.33 825.9,1159.07 839.593,1160.85 853.287,1162.67 866.981,1164.53 880.675,1166.43 894.369,1168.35 908.062,1170.3 \n  921.756,1172.26 935.45,1174.25 949.144,1176.25 962.837,1178.26 976.531,1180.28 990.225,1182.3 1003.92,1184.33 1017.61,1186.36 1031.31,1188.38 1045,1190.4 \n  1058.69,1192.42 1072.39,1194.42 1086.08,1196.42 1099.78,1198.4 1113.47,1200.37 1127.16,1202.32 1140.86,1204.26 1154.55,1206.17 1168.24,1208.07 1181.94,1209.95 \n  1195.63,1211.8 1209.33,1213.63 1223.02,1215.44 1236.71,1217.22 1250.41,1218.97 1264.1,1220.7 1277.79,1222.4 1291.49,1224.07 1305.18,1225.72 1318.88,1227.33 \n  1332.57,1228.92 1346.26,1230.48 1359.96,1232 1373.65,1233.5 1387.34,1234.97 1401.04,1236.4 1414.73,1237.8 1428.43,1239.18 1442.12,1240.52 1455.81,1241.83 \n  1469.51,1243.11 1483.2,1244.37 1496.89,1245.59 1510.59,1246.77 1524.28,1247.93 1537.98,1249.06 1551.67,1250.16 1565.36,1251.23 1579.06,1252.27 1592.75,1253.29 \n  1606.45,1254.27 1620.14,1255.22 1633.83,1256.15 1647.53,1257.05 1661.22,1257.92 1674.91,1258.76 1688.61,1259.58 1702.3,1260.38 1716,1261.14 1729.69,1261.88 \n  1743.38,1262.6 1757.08,1263.29 1770.77,1263.96 1784.46,1264.6 1798.16,1265.23 1811.85,1265.83 1825.55,1266.4 1839.24,1266.96 1852.93,1267.49 1866.63,1268.01 \n  1880.32,1268.5 1894.01,1268.97 1907.71,1269.43 1921.4,1269.86 1935.1,1270.28 1948.79,1270.68 1962.48,1271.06 1976.18,1271.43 1989.87,1271.78 2003.56,1272.11 \n  2017.26,1272.43 2030.95,1272.73 2044.65,1273.01 2058.34,1273.29 2072.03,1273.55 2085.73,1273.79 2099.42,1274.02 2113.11,1274.24 2126.81,1274.45 2140.5,1274.64 \n  2154.2,1274.83 2167.89,1275 2181.58,1275.16 2195.28,1275.31 2208.97,1275.46 2222.67,1275.59 2236.36,1275.71 2250.05,1275.82 2263.75,1275.93 2277.44,1276.03 \n  2291.13,1276.12 \n  \"/>\n<polyline clip-path=\"url(#clip862)\" style=\"stroke:#c271d2; stroke-linecap:butt; stroke-linejoin:round; stroke-width:8; stroke-opacity:1; fill:none\" points=\"\n  237.067,597.378 250.761,583.722 264.455,544.838 278.149,487.86 291.842,425.729 305.536,371.483 319.23,330.904 332.924,303.7 346.617,287.797 360.311,281.026 \n  374.005,281.308 387.699,286.59 401.393,294.867 415.086,304.337 428.78,313.6 442.474,321.792 456.168,328.558 469.861,333.929 483.555,338.145 497.249,341.515 \n  510.943,344.33 524.637,346.815 538.33,349.127 552.024,351.359 565.718,353.56 579.412,355.745 593.105,357.916 606.799,360.063 620.493,362.175 634.187,364.243 \n  647.881,366.259 661.574,368.218 675.268,370.118 688.962,371.957 702.656,373.736 716.349,375.456 730.043,377.118 743.737,378.724 757.431,380.274 771.125,381.77 \n  784.818,383.214 798.512,384.607 812.206,385.95 825.9,387.244 839.593,388.49 853.287,389.69 866.981,390.844 880.675,391.953 894.369,393.019 908.062,394.042 \n  921.756,395.025 935.45,395.966 949.144,396.868 962.837,397.732 976.531,398.559 990.225,399.348 1003.92,400.103 1017.61,400.823 1031.31,401.509 1045,402.163 \n  1058.69,402.785 1072.39,403.377 1086.08,403.938 1099.78,404.471 1113.47,404.975 1127.16,405.452 1140.86,405.903 1154.55,406.328 1168.24,406.729 1181.94,407.105 \n  1195.63,407.459 1209.33,407.79 1223.02,408.1 1236.71,408.389 1250.41,408.657 1264.1,408.907 1277.79,409.138 1291.49,409.351 1305.18,409.546 1318.88,409.725 \n  1332.57,409.889 1346.26,410.036 1359.96,410.17 1373.65,410.289 1387.34,410.394 1401.04,410.487 1414.73,410.568 1428.43,410.636 1442.12,410.694 1455.81,410.741 \n  1469.51,410.777 1483.2,410.804 1496.89,410.821 1510.59,410.83 1524.28,410.83 1537.98,410.823 1551.67,410.808 1565.36,410.786 1579.06,410.757 1592.75,410.722 \n  1606.45,410.681 1620.14,410.634 1633.83,410.582 1647.53,410.525 1661.22,410.464 1674.91,410.399 1688.61,410.329 1702.3,410.256 1716,410.179 1729.69,410.099 \n  1743.38,410.017 1757.08,409.932 1770.77,409.844 1784.46,409.754 1798.16,409.663 1811.85,409.569 1825.55,409.474 1839.24,409.378 1852.93,409.281 1866.63,409.182 \n  1880.32,409.083 1894.01,408.983 1907.71,408.883 1921.4,408.782 1935.1,408.682 1948.79,408.581 1962.48,408.48 1976.18,408.379 1989.87,408.279 2003.56,408.178 \n  2017.26,408.079 2030.95,407.98 2044.65,407.881 2058.34,407.784 2072.03,407.687 2085.73,407.591 2099.42,407.496 2113.11,407.402 2126.81,407.309 2140.5,407.218 \n  2154.2,407.127 2167.89,407.038 2181.58,406.95 2195.28,406.863 2208.97,406.778 2222.67,406.694 2236.36,406.611 2250.05,406.53 2263.75,406.45 2277.44,406.372 \n  2291.13,406.295 \n  \"/>\n<path clip-path=\"url(#clip860)\" d=\"\nM248.022 838.892 L764.273 838.892 L764.273 579.692 L248.022 579.692  Z\n  \" fill=\"#ffffff\" fill-rule=\"evenodd\" fill-opacity=\"1\"/>\n<polyline clip-path=\"url(#clip860)\" style=\"stroke:#000000; stroke-linecap:butt; stroke-linejoin:round; stroke-width:4; stroke-opacity:1; fill:none\" points=\"\n  248.022,838.892 764.273,838.892 764.273,579.692 248.022,579.692 248.022,838.892 \n  \"/>\n<polyline clip-path=\"url(#clip860)\" style=\"stroke:#009af9; stroke-linecap:butt; stroke-linejoin:round; stroke-width:4; stroke-opacity:1; fill:none\" points=\"\n  272.215,631.532 417.369,631.532 \n  \"/>\n<path clip-path=\"url(#clip860)\" d=\"M466.214 622.886 L456.839 635.502 L466.7 648.812 L461.677 648.812 L454.13 638.627 L446.584 648.812 L441.561 648.812 L451.63 635.247 L442.417 622.886 L447.441 622.886 L454.316 632.122 L461.19 622.886 L466.214 622.886 Z\" fill=\"#000000\" fill-rule=\"evenodd\" fill-opacity=\"1\" /><path clip-path=\"url(#clip860)\" d=\"M498.019 612.84 Q494.917 618.164 493.413 623.372 Q491.908 628.581 491.908 633.928 Q491.908 639.275 493.413 644.53 Q494.94 649.761 498.019 655.062 L494.315 655.062 Q490.843 649.622 489.107 644.368 Q487.394 639.113 487.394 633.928 Q487.394 628.766 489.107 623.534 Q490.82 618.303 494.315 612.84 L498.019 612.84 Z\" fill=\"#000000\" fill-rule=\"evenodd\" fill-opacity=\"1\" /><path clip-path=\"url(#clip860)\" d=\"M527.834 633.164 L527.834 648.812 L523.574 648.812 L523.574 633.303 Q523.574 629.622 522.139 627.794 Q520.704 625.965 517.834 625.965 Q514.385 625.965 512.394 628.164 Q510.403 630.363 510.403 634.159 L510.403 648.812 L506.121 648.812 L506.121 622.886 L510.403 622.886 L510.403 626.914 Q511.931 624.576 513.991 623.419 Q516.074 622.261 518.783 622.261 Q523.25 622.261 525.542 625.039 Q527.834 627.794 527.834 633.164 Z\" fill=\"#000000\" fill-rule=\"evenodd\" fill-opacity=\"1\" /><path clip-path=\"url(#clip860)\" d=\"M546.375 625.872 Q542.949 625.872 540.959 628.557 Q538.968 631.219 538.968 635.872 Q538.968 640.525 540.935 643.21 Q542.926 645.872 546.375 645.872 Q549.778 645.872 551.769 643.187 Q553.759 640.502 553.759 635.872 Q553.759 631.266 551.769 628.581 Q549.778 625.872 546.375 625.872 M546.375 622.261 Q551.931 622.261 555.102 625.872 Q558.273 629.483 558.273 635.872 Q558.273 642.238 555.102 645.872 Q551.931 649.483 546.375 649.483 Q540.797 649.483 537.625 645.872 Q534.477 642.238 534.477 635.872 Q534.477 629.483 537.625 625.872 Q540.797 622.261 546.375 622.261 Z\" fill=\"#000000\" fill-rule=\"evenodd\" fill-opacity=\"1\" /><path clip-path=\"url(#clip860)\" d=\"M585.519 627.863 Q587.116 624.993 589.338 623.627 Q591.56 622.261 594.569 622.261 Q598.62 622.261 600.819 625.108 Q603.018 627.932 603.018 633.164 L603.018 648.812 L598.736 648.812 L598.736 633.303 Q598.736 629.576 597.417 627.77 Q596.097 625.965 593.389 625.965 Q590.079 625.965 588.157 628.164 Q586.236 630.363 586.236 634.159 L586.236 648.812 L581.954 648.812 L581.954 633.303 Q581.954 629.553 580.634 627.77 Q579.315 625.965 576.56 625.965 Q573.296 625.965 571.375 628.187 Q569.454 630.386 569.454 634.159 L569.454 648.812 L565.171 648.812 L565.171 622.886 L569.454 622.886 L569.454 626.914 Q570.912 624.53 572.949 623.395 Q574.986 622.261 577.787 622.261 Q580.611 622.261 582.579 623.696 Q584.569 625.132 585.519 627.863 Z\" fill=\"#000000\" fill-rule=\"evenodd\" fill-opacity=\"1\" /><path clip-path=\"url(#clip860)\" d=\"M611.514 622.886 L615.773 622.886 L615.773 648.812 L611.514 648.812 L611.514 622.886 M611.514 612.794 L615.773 612.794 L615.773 618.187 L611.514 618.187 L611.514 612.794 Z\" fill=\"#000000\" fill-rule=\"evenodd\" fill-opacity=\"1\" /><path clip-path=\"url(#clip860)\" d=\"M646.236 633.164 L646.236 648.812 L641.977 648.812 L641.977 633.303 Q641.977 629.622 640.541 627.794 Q639.106 625.965 636.236 625.965 Q632.787 625.965 630.796 628.164 Q628.805 630.363 628.805 634.159 L628.805 648.812 L624.523 648.812 L624.523 622.886 L628.805 622.886 L628.805 626.914 Q630.333 624.576 632.393 623.419 Q634.477 622.261 637.185 622.261 Q641.652 622.261 643.944 625.039 Q646.236 627.794 646.236 633.164 Z\" fill=\"#000000\" fill-rule=\"evenodd\" fill-opacity=\"1\" /><path clip-path=\"url(#clip860)\" d=\"M666.513 635.78 Q661.351 635.78 659.361 636.96 Q657.37 638.141 657.37 640.988 Q657.37 643.256 658.851 644.599 Q660.356 645.918 662.926 645.918 Q666.467 645.918 668.597 643.418 Q670.75 640.895 670.75 636.729 L670.75 635.78 L666.513 635.78 M675.009 634.02 L675.009 648.812 L670.75 648.812 L670.75 644.877 Q669.291 647.238 667.115 648.372 Q664.939 649.483 661.791 649.483 Q657.81 649.483 655.449 647.261 Q653.111 645.016 653.111 641.266 Q653.111 636.891 656.027 634.669 Q658.967 632.446 664.777 632.446 L670.75 632.446 L670.75 632.03 Q670.75 629.09 668.805 627.493 Q666.884 625.872 663.388 625.872 Q661.166 625.872 659.06 626.405 Q656.953 626.937 655.009 628.002 L655.009 624.067 Q657.347 623.164 659.546 622.724 Q661.745 622.261 663.828 622.261 Q669.453 622.261 672.231 625.178 Q675.009 628.094 675.009 634.02 Z\" fill=\"#000000\" fill-rule=\"evenodd\" fill-opacity=\"1\" /><path clip-path=\"url(#clip860)\" d=\"M683.782 612.794 L688.041 612.794 L688.041 648.812 L683.782 648.812 L683.782 612.794 Z\" fill=\"#000000\" fill-rule=\"evenodd\" fill-opacity=\"1\" /><path clip-path=\"url(#clip860)\" d=\"M696.282 612.84 L699.986 612.84 Q703.458 618.303 705.171 623.534 Q706.907 628.766 706.907 633.928 Q706.907 639.113 705.171 644.368 Q703.458 649.622 699.986 655.062 L696.282 655.062 Q699.361 649.761 700.865 644.53 Q702.393 639.275 702.393 633.928 Q702.393 628.581 700.865 623.372 Q699.361 618.164 696.282 612.84 Z\" fill=\"#000000\" fill-rule=\"evenodd\" fill-opacity=\"1\" /><polyline clip-path=\"url(#clip860)\" style=\"stroke:#e26f46; stroke-linecap:butt; stroke-linejoin:round; stroke-width:4; stroke-opacity:1; fill:none\" points=\"\n  272.215,683.372 417.369,683.372 \n  \"/>\n<path clip-path=\"url(#clip860)\" d=\"M460.82 684.217 L446.075 684.217 Q446.422 691.138 448.019 694.078 Q450.01 697.689 453.459 697.689 Q456.931 697.689 458.853 694.055 Q460.542 690.86 460.82 684.217 M460.751 680.282 Q460.103 673.708 458.853 671.393 Q456.862 667.735 453.459 667.735 Q449.917 667.735 448.042 671.347 Q446.561 674.263 446.121 680.282 L460.751 680.282 M453.459 664.263 Q459.015 664.263 462.186 669.171 Q465.357 674.055 465.357 682.712 Q465.357 691.346 462.186 696.254 Q459.015 701.184 453.459 701.184 Q447.88 701.184 444.732 696.254 Q441.561 691.346 441.561 682.712 Q441.561 674.055 444.732 669.171 Q447.88 664.263 453.459 664.263 Z\" fill=\"#000000\" fill-rule=\"evenodd\" fill-opacity=\"1\" /><path clip-path=\"url(#clip860)\" d=\"M497.718 664.68 Q494.616 670.004 493.112 675.212 Q491.607 680.421 491.607 685.768 Q491.607 691.115 493.112 696.37 Q494.639 701.601 497.718 706.902 L494.014 706.902 Q490.542 701.462 488.806 696.208 Q487.093 690.953 487.093 685.768 Q487.093 680.606 488.806 675.374 Q490.519 670.143 494.014 664.68 L497.718 664.68 Z\" fill=\"#000000\" fill-rule=\"evenodd\" fill-opacity=\"1\" /><path clip-path=\"url(#clip860)\" d=\"M527.533 685.004 L527.533 700.652 L523.273 700.652 L523.273 685.143 Q523.273 681.462 521.838 679.634 Q520.403 677.805 517.533 677.805 Q514.084 677.805 512.093 680.004 Q510.102 682.203 510.102 685.999 L510.102 700.652 L505.82 700.652 L505.82 674.726 L510.102 674.726 L510.102 678.754 Q511.63 676.416 513.69 675.259 Q515.774 674.101 518.482 674.101 Q522.949 674.101 525.241 676.879 Q527.533 679.634 527.533 685.004 Z\" fill=\"#000000\" fill-rule=\"evenodd\" fill-opacity=\"1\" /><path clip-path=\"url(#clip860)\" d=\"M546.074 677.712 Q542.648 677.712 540.658 680.397 Q538.667 683.059 538.667 687.712 Q538.667 692.365 540.635 695.05 Q542.625 697.712 546.074 697.712 Q549.477 697.712 551.468 695.027 Q553.459 692.342 553.459 687.712 Q553.459 683.106 551.468 680.421 Q549.477 677.712 546.074 677.712 M546.074 674.101 Q551.63 674.101 554.801 677.712 Q557.972 681.323 557.972 687.712 Q557.972 694.078 554.801 697.712 Q551.63 701.323 546.074 701.323 Q540.496 701.323 537.324 697.712 Q534.176 694.078 534.176 687.712 Q534.176 681.323 537.324 677.712 Q540.496 674.101 546.074 674.101 Z\" fill=\"#000000\" fill-rule=\"evenodd\" fill-opacity=\"1\" /><path clip-path=\"url(#clip860)\" d=\"M585.218 679.703 Q586.815 676.833 589.037 675.467 Q591.259 674.101 594.268 674.101 Q598.319 674.101 600.518 676.948 Q602.718 679.772 602.718 685.004 L602.718 700.652 L598.435 700.652 L598.435 685.143 Q598.435 681.416 597.116 679.61 Q595.796 677.805 593.088 677.805 Q589.778 677.805 587.856 680.004 Q585.935 682.203 585.935 685.999 L585.935 700.652 L581.653 700.652 L581.653 685.143 Q581.653 681.393 580.333 679.61 Q579.014 677.805 576.259 677.805 Q572.995 677.805 571.074 680.027 Q569.153 682.226 569.153 685.999 L569.153 700.652 L564.87 700.652 L564.87 674.726 L569.153 674.726 L569.153 678.754 Q570.611 676.37 572.648 675.235 Q574.685 674.101 577.486 674.101 Q580.31 674.101 582.278 675.536 Q584.269 676.972 585.218 679.703 Z\" fill=\"#000000\" fill-rule=\"evenodd\" fill-opacity=\"1\" /><path clip-path=\"url(#clip860)\" d=\"M611.213 674.726 L615.472 674.726 L615.472 700.652 L611.213 700.652 L611.213 674.726 M611.213 664.634 L615.472 664.634 L615.472 670.027 L611.213 670.027 L611.213 664.634 Z\" fill=\"#000000\" fill-rule=\"evenodd\" fill-opacity=\"1\" /><path clip-path=\"url(#clip860)\" d=\"M645.935 685.004 L645.935 700.652 L641.676 700.652 L641.676 685.143 Q641.676 681.462 640.24 679.634 Q638.805 677.805 635.935 677.805 Q632.486 677.805 630.495 680.004 Q628.504 682.203 628.504 685.999 L628.504 700.652 L624.222 700.652 L624.222 674.726 L628.504 674.726 L628.504 678.754 Q630.032 676.416 632.092 675.259 Q634.176 674.101 636.884 674.101 Q641.352 674.101 643.643 676.879 Q645.935 679.634 645.935 685.004 Z\" fill=\"#000000\" fill-rule=\"evenodd\" fill-opacity=\"1\" /><path clip-path=\"url(#clip860)\" d=\"M666.213 687.62 Q661.051 687.62 659.06 688.8 Q657.069 689.981 657.069 692.828 Q657.069 695.096 658.551 696.439 Q660.055 697.758 662.625 697.758 Q666.166 697.758 668.296 695.258 Q670.449 692.735 670.449 688.569 L670.449 687.62 L666.213 687.62 M674.708 685.86 L674.708 700.652 L670.449 700.652 L670.449 696.717 Q668.99 699.078 666.814 700.212 Q664.638 701.323 661.49 701.323 Q657.509 701.323 655.148 699.101 Q652.81 696.856 652.81 693.106 Q652.81 688.731 655.726 686.509 Q658.666 684.286 664.476 684.286 L670.449 684.286 L670.449 683.87 Q670.449 680.93 668.504 679.333 Q666.583 677.712 663.088 677.712 Q660.865 677.712 658.759 678.245 Q656.652 678.777 654.708 679.842 L654.708 675.907 Q657.046 675.004 659.245 674.564 Q661.444 674.101 663.527 674.101 Q669.152 674.101 671.93 677.018 Q674.708 679.934 674.708 685.86 Z\" fill=\"#000000\" fill-rule=\"evenodd\" fill-opacity=\"1\" /><path clip-path=\"url(#clip860)\" d=\"M683.481 664.634 L687.74 664.634 L687.74 700.652 L683.481 700.652 L683.481 664.634 Z\" fill=\"#000000\" fill-rule=\"evenodd\" fill-opacity=\"1\" /><path clip-path=\"url(#clip860)\" d=\"M695.981 664.68 L699.685 664.68 Q703.157 670.143 704.87 675.374 Q706.606 680.606 706.606 685.768 Q706.606 690.953 704.87 696.208 Q703.157 701.462 699.685 706.902 L695.981 706.902 Q699.06 701.601 700.564 696.37 Q702.092 691.115 702.092 685.768 Q702.092 680.421 700.564 675.212 Q699.06 670.004 695.981 664.68 Z\" fill=\"#000000\" fill-rule=\"evenodd\" fill-opacity=\"1\" /><polyline clip-path=\"url(#clip860)\" style=\"stroke:#3da44d; stroke-linecap:butt; stroke-linejoin:round; stroke-width:4; stroke-opacity:1; fill:none\" points=\"\n  272.215,735.212 417.369,735.212 \n  \"/>\n<path clip-path=\"url(#clip860)\" d=\"M466.214 726.566 L456.839 739.182 L466.7 752.492 L461.677 752.492 L454.13 742.307 L446.584 752.492 L441.561 752.492 L451.63 738.927 L442.417 726.566 L447.441 726.566 L454.316 735.802 L461.19 726.566 L466.214 726.566 Z\" fill=\"#000000\" fill-rule=\"evenodd\" fill-opacity=\"1\" /><path clip-path=\"url(#clip860)\" d=\"M498.019 716.52 Q494.917 721.844 493.413 727.052 Q491.908 732.261 491.908 737.608 Q491.908 742.955 493.413 748.21 Q494.94 753.441 498.019 758.742 L494.315 758.742 Q490.843 753.302 489.107 748.048 Q487.394 742.793 487.394 737.608 Q487.394 732.446 489.107 727.214 Q490.82 721.983 494.315 716.52 L498.019 716.52 Z\" fill=\"#000000\" fill-rule=\"evenodd\" fill-opacity=\"1\" /><path clip-path=\"url(#clip860)\" d=\"M506.283 726.566 L510.542 726.566 L510.542 752.955 Q510.542 757.909 508.644 760.131 Q506.769 762.353 502.579 762.353 L500.959 762.353 L500.959 758.742 L502.093 758.742 Q504.524 758.742 505.403 757.608 Q506.283 756.497 506.283 752.955 L506.283 726.566 M506.283 716.474 L510.542 716.474 L510.542 721.867 L506.283 721.867 L506.283 716.474 Z\" fill=\"#000000\" fill-rule=\"evenodd\" fill-opacity=\"1\" /><path clip-path=\"url(#clip860)\" d=\"M531.236 739.46 Q526.074 739.46 524.084 740.64 Q522.093 741.821 522.093 744.668 Q522.093 746.936 523.574 748.279 Q525.079 749.598 527.648 749.598 Q531.19 749.598 533.32 747.098 Q535.472 744.575 535.472 740.409 L535.472 739.46 L531.236 739.46 M539.732 737.7 L539.732 752.492 L535.472 752.492 L535.472 748.557 Q534.014 750.918 531.838 752.052 Q529.662 753.163 526.514 753.163 Q522.533 753.163 520.172 750.941 Q517.834 748.696 517.834 744.946 Q517.834 740.571 520.75 738.349 Q523.69 736.126 529.5 736.126 L535.472 736.126 L535.472 735.71 Q535.472 732.77 533.528 731.173 Q531.607 729.552 528.111 729.552 Q525.889 729.552 523.783 730.085 Q521.676 730.617 519.732 731.682 L519.732 727.747 Q522.07 726.844 524.269 726.404 Q526.468 725.941 528.551 725.941 Q534.176 725.941 536.954 728.858 Q539.732 731.774 539.732 737.7 Z\" fill=\"#000000\" fill-rule=\"evenodd\" fill-opacity=\"1\" /><path clip-path=\"url(#clip860)\" d=\"M567.162 727.562 L567.162 731.543 Q565.357 730.548 563.528 730.062 Q561.722 729.552 559.871 729.552 Q555.727 729.552 553.435 732.191 Q551.144 734.807 551.144 739.552 Q551.144 744.298 553.435 746.936 Q555.727 749.552 559.871 749.552 Q561.722 749.552 563.528 749.066 Q565.357 748.557 567.162 747.561 L567.162 751.497 Q565.38 752.33 563.458 752.747 Q561.56 753.163 559.408 753.163 Q553.551 753.163 550.102 749.483 Q546.653 745.802 546.653 739.552 Q546.653 733.21 550.125 729.575 Q553.621 725.941 559.685 725.941 Q561.653 725.941 563.528 726.358 Q565.403 726.751 567.162 727.562 Z\" fill=\"#000000\" fill-rule=\"evenodd\" fill-opacity=\"1\" /><path clip-path=\"url(#clip860)\" d=\"M584.616 729.552 Q581.19 729.552 579.199 732.237 Q577.208 734.899 577.208 739.552 Q577.208 744.205 579.176 746.89 Q581.167 749.552 584.616 749.552 Q588.019 749.552 590.009 746.867 Q592 744.182 592 739.552 Q592 734.946 590.009 732.261 Q588.019 729.552 584.616 729.552 M584.616 725.941 Q590.171 725.941 593.343 729.552 Q596.514 733.163 596.514 739.552 Q596.514 745.918 593.343 749.552 Q590.171 753.163 584.616 753.163 Q579.037 753.163 575.866 749.552 Q572.718 745.918 572.718 739.552 Q572.718 733.163 575.866 729.552 Q579.037 725.941 584.616 725.941 Z\" fill=\"#000000\" fill-rule=\"evenodd\" fill-opacity=\"1\" /><path clip-path=\"url(#clip860)\" d=\"M622.185 739.552 Q622.185 734.853 620.241 732.191 Q618.319 729.506 614.94 729.506 Q611.56 729.506 609.616 732.191 Q607.694 734.853 607.694 739.552 Q607.694 744.251 609.616 746.936 Q611.56 749.598 614.94 749.598 Q618.319 749.598 620.241 746.936 Q622.185 744.251 622.185 739.552 M607.694 730.501 Q609.037 728.187 611.074 727.075 Q613.134 725.941 615.981 725.941 Q620.704 725.941 623.643 729.691 Q626.606 733.441 626.606 739.552 Q626.606 745.663 623.643 749.413 Q620.704 753.163 615.981 753.163 Q613.134 753.163 611.074 752.052 Q609.037 750.918 607.694 748.603 L607.694 752.492 L603.412 752.492 L603.412 716.474 L607.694 716.474 L607.694 730.501 Z\" fill=\"#000000\" fill-rule=\"evenodd\" fill-opacity=\"1\" /><path clip-path=\"url(#clip860)\" d=\"M633.666 726.566 L637.926 726.566 L637.926 752.492 L633.666 752.492 L633.666 726.566 M633.666 716.474 L637.926 716.474 L637.926 721.867 L633.666 721.867 L633.666 716.474 Z\" fill=\"#000000\" fill-rule=\"evenodd\" fill-opacity=\"1\" /><path clip-path=\"url(#clip860)\" d=\"M658.62 739.46 Q653.458 739.46 651.467 740.64 Q649.477 741.821 649.477 744.668 Q649.477 746.936 650.958 748.279 Q652.463 749.598 655.032 749.598 Q658.574 749.598 660.703 747.098 Q662.856 744.575 662.856 740.409 L662.856 739.46 L658.62 739.46 M667.115 737.7 L667.115 752.492 L662.856 752.492 L662.856 748.557 Q661.398 750.918 659.222 752.052 Q657.046 753.163 653.898 753.163 Q649.916 753.163 647.555 750.941 Q645.217 748.696 645.217 744.946 Q645.217 740.571 648.134 738.349 Q651.074 736.126 656.884 736.126 L662.856 736.126 L662.856 735.71 Q662.856 732.77 660.912 731.173 Q658.99 729.552 655.495 729.552 Q653.273 729.552 651.166 730.085 Q649.06 730.617 647.115 731.682 L647.115 727.747 Q649.453 726.844 651.652 726.404 Q653.851 725.941 655.935 725.941 Q661.56 725.941 664.338 728.858 Q667.115 731.774 667.115 737.7 Z\" fill=\"#000000\" fill-rule=\"evenodd\" fill-opacity=\"1\" /><path clip-path=\"url(#clip860)\" d=\"M697.439 736.844 L697.439 752.492 L693.18 752.492 L693.18 736.983 Q693.18 733.302 691.745 731.474 Q690.31 729.645 687.439 729.645 Q683.99 729.645 681.999 731.844 Q680.009 734.043 680.009 737.839 L680.009 752.492 L675.726 752.492 L675.726 726.566 L680.009 726.566 L680.009 730.594 Q681.537 728.256 683.597 727.099 Q685.68 725.941 688.388 725.941 Q692.856 725.941 695.148 728.719 Q697.439 731.474 697.439 736.844 Z\" fill=\"#000000\" fill-rule=\"evenodd\" fill-opacity=\"1\" /><path clip-path=\"url(#clip860)\" d=\"M705.263 716.52 L708.967 716.52 Q712.439 721.983 714.152 727.214 Q715.888 732.446 715.888 737.608 Q715.888 742.793 714.152 748.048 Q712.439 753.302 708.967 758.742 L705.263 758.742 Q708.342 753.441 709.847 748.21 Q711.374 742.955 711.374 737.608 Q711.374 732.261 709.847 727.052 Q708.342 721.844 705.263 716.52 Z\" fill=\"#000000\" fill-rule=\"evenodd\" fill-opacity=\"1\" /><polyline clip-path=\"url(#clip860)\" style=\"stroke:#c271d2; stroke-linecap:butt; stroke-linejoin:round; stroke-width:4; stroke-opacity:1; fill:none\" points=\"\n  272.215,787.052 417.369,787.052 \n  \"/>\n<path clip-path=\"url(#clip860)\" d=\"M460.82 787.897 L446.075 787.897 Q446.422 794.818 448.019 797.758 Q450.01 801.369 453.459 801.369 Q456.931 801.369 458.853 797.735 Q460.542 794.54 460.82 787.897 M460.751 783.962 Q460.103 777.388 458.853 775.073 Q456.862 771.415 453.459 771.415 Q449.917 771.415 448.042 775.027 Q446.561 777.943 446.121 783.962 L460.751 783.962 M453.459 767.943 Q459.015 767.943 462.186 772.851 Q465.357 777.735 465.357 786.392 Q465.357 795.026 462.186 799.934 Q459.015 804.864 453.459 804.864 Q447.88 804.864 444.732 799.934 Q441.561 795.026 441.561 786.392 Q441.561 777.735 444.732 772.851 Q447.88 767.943 453.459 767.943 Z\" fill=\"#000000\" fill-rule=\"evenodd\" fill-opacity=\"1\" /><path clip-path=\"url(#clip860)\" d=\"M497.718 768.36 Q494.616 773.684 493.112 778.892 Q491.607 784.101 491.607 789.448 Q491.607 794.795 493.112 800.05 Q494.639 805.281 497.718 810.582 L494.014 810.582 Q490.542 805.142 488.806 799.888 Q487.093 794.633 487.093 789.448 Q487.093 784.286 488.806 779.054 Q490.519 773.823 494.014 768.36 L497.718 768.36 Z\" fill=\"#000000\" fill-rule=\"evenodd\" fill-opacity=\"1\" /><path clip-path=\"url(#clip860)\" d=\"M505.982 778.406 L510.241 778.406 L510.241 804.795 Q510.241 809.749 508.343 811.971 Q506.468 814.193 502.278 814.193 L500.658 814.193 L500.658 810.582 L501.792 810.582 Q504.223 810.582 505.102 809.448 Q505.982 808.337 505.982 804.795 L505.982 778.406 M505.982 768.314 L510.241 768.314 L510.241 773.707 L505.982 773.707 L505.982 768.314 Z\" fill=\"#000000\" fill-rule=\"evenodd\" fill-opacity=\"1\" /><path clip-path=\"url(#clip860)\" d=\"M530.935 791.3 Q525.773 791.3 523.783 792.48 Q521.792 793.661 521.792 796.508 Q521.792 798.776 523.273 800.119 Q524.778 801.438 527.348 801.438 Q530.889 801.438 533.019 798.938 Q535.172 796.415 535.172 792.249 L535.172 791.3 L530.935 791.3 M539.431 789.54 L539.431 804.332 L535.172 804.332 L535.172 800.397 Q533.713 802.758 531.537 803.892 Q529.361 805.003 526.213 805.003 Q522.232 805.003 519.871 802.781 Q517.533 800.536 517.533 796.786 Q517.533 792.411 520.449 790.189 Q523.389 787.966 529.199 787.966 L535.172 787.966 L535.172 787.55 Q535.172 784.61 533.227 783.013 Q531.306 781.392 527.81 781.392 Q525.588 781.392 523.482 781.925 Q521.375 782.457 519.431 783.522 L519.431 779.587 Q521.769 778.684 523.968 778.244 Q526.167 777.781 528.25 777.781 Q533.875 777.781 536.653 780.698 Q539.431 783.614 539.431 789.54 Z\" fill=\"#000000\" fill-rule=\"evenodd\" fill-opacity=\"1\" /><path clip-path=\"url(#clip860)\" d=\"M566.861 779.402 L566.861 783.383 Q565.056 782.388 563.227 781.902 Q561.421 781.392 559.57 781.392 Q555.426 781.392 553.134 784.031 Q550.843 786.647 550.843 791.392 Q550.843 796.138 553.134 798.776 Q555.426 801.392 559.57 801.392 Q561.421 801.392 563.227 800.906 Q565.056 800.397 566.861 799.401 L566.861 803.337 Q565.079 804.17 563.158 804.587 Q561.259 805.003 559.107 805.003 Q553.25 805.003 549.801 801.323 Q546.352 797.642 546.352 791.392 Q546.352 785.05 549.824 781.415 Q553.32 777.781 559.384 777.781 Q561.352 777.781 563.227 778.198 Q565.102 778.591 566.861 779.402 Z\" fill=\"#000000\" fill-rule=\"evenodd\" fill-opacity=\"1\" /><path clip-path=\"url(#clip860)\" d=\"M584.315 781.392 Q580.889 781.392 578.898 784.077 Q576.907 786.739 576.907 791.392 Q576.907 796.045 578.875 798.73 Q580.866 801.392 584.315 801.392 Q587.718 801.392 589.708 798.707 Q591.699 796.022 591.699 791.392 Q591.699 786.786 589.708 784.101 Q587.718 781.392 584.315 781.392 M584.315 777.781 Q589.87 777.781 593.042 781.392 Q596.213 785.003 596.213 791.392 Q596.213 797.758 593.042 801.392 Q589.87 805.003 584.315 805.003 Q578.736 805.003 575.565 801.392 Q572.417 797.758 572.417 791.392 Q572.417 785.003 575.565 781.392 Q578.736 777.781 584.315 777.781 Z\" fill=\"#000000\" fill-rule=\"evenodd\" fill-opacity=\"1\" /><path clip-path=\"url(#clip860)\" d=\"M621.884 791.392 Q621.884 786.693 619.94 784.031 Q618.018 781.346 614.639 781.346 Q611.259 781.346 609.315 784.031 Q607.393 786.693 607.393 791.392 Q607.393 796.091 609.315 798.776 Q611.259 801.438 614.639 801.438 Q618.018 801.438 619.94 798.776 Q621.884 796.091 621.884 791.392 M607.393 782.341 Q608.736 780.027 610.773 778.915 Q612.833 777.781 615.68 777.781 Q620.403 777.781 623.342 781.531 Q626.305 785.281 626.305 791.392 Q626.305 797.503 623.342 801.253 Q620.403 805.003 615.68 805.003 Q612.833 805.003 610.773 803.892 Q608.736 802.758 607.393 800.443 L607.393 804.332 L603.111 804.332 L603.111 768.314 L607.393 768.314 L607.393 782.341 Z\" fill=\"#000000\" fill-rule=\"evenodd\" fill-opacity=\"1\" /><path clip-path=\"url(#clip860)\" d=\"M633.365 778.406 L637.625 778.406 L637.625 804.332 L633.365 804.332 L633.365 778.406 M633.365 768.314 L637.625 768.314 L637.625 773.707 L633.365 773.707 L633.365 768.314 Z\" fill=\"#000000\" fill-rule=\"evenodd\" fill-opacity=\"1\" /><path clip-path=\"url(#clip860)\" d=\"M658.319 791.3 Q653.157 791.3 651.166 792.48 Q649.176 793.661 649.176 796.508 Q649.176 798.776 650.657 800.119 Q652.162 801.438 654.731 801.438 Q658.273 801.438 660.402 798.938 Q662.555 796.415 662.555 792.249 L662.555 791.3 L658.319 791.3 M666.814 789.54 L666.814 804.332 L662.555 804.332 L662.555 800.397 Q661.097 802.758 658.921 803.892 Q656.745 805.003 653.597 805.003 Q649.615 805.003 647.254 802.781 Q644.916 800.536 644.916 796.786 Q644.916 792.411 647.833 790.189 Q650.773 787.966 656.583 787.966 L662.555 787.966 L662.555 787.55 Q662.555 784.61 660.611 783.013 Q658.689 781.392 655.194 781.392 Q652.972 781.392 650.865 781.925 Q648.759 782.457 646.814 783.522 L646.814 779.587 Q649.152 778.684 651.352 778.244 Q653.551 777.781 655.634 777.781 Q661.259 777.781 664.037 780.698 Q666.814 783.614 666.814 789.54 Z\" fill=\"#000000\" fill-rule=\"evenodd\" fill-opacity=\"1\" /><path clip-path=\"url(#clip860)\" d=\"M697.138 788.684 L697.138 804.332 L692.879 804.332 L692.879 788.823 Q692.879 785.142 691.444 783.314 Q690.009 781.485 687.138 781.485 Q683.689 781.485 681.699 783.684 Q679.708 785.883 679.708 789.679 L679.708 804.332 L675.425 804.332 L675.425 778.406 L679.708 778.406 L679.708 782.434 Q681.236 780.096 683.296 778.939 Q685.379 777.781 688.087 777.781 Q692.555 777.781 694.847 780.559 Q697.138 783.314 697.138 788.684 Z\" fill=\"#000000\" fill-rule=\"evenodd\" fill-opacity=\"1\" /><path clip-path=\"url(#clip860)\" d=\"M704.962 768.36 L708.666 768.36 Q712.138 773.823 713.851 779.054 Q715.587 784.286 715.587 789.448 Q715.587 794.633 713.851 799.888 Q712.138 805.142 708.666 810.582 L704.962 810.582 Q708.041 805.281 709.546 800.05 Q711.073 794.795 711.073 789.448 Q711.073 784.101 709.546 778.892 Q708.041 773.684 704.962 768.36 Z\" fill=\"#000000\" fill-rule=\"evenodd\" fill-opacity=\"1\" /></svg>\n"
     },
     "execution_count": 43,
     "metadata": {},
     "output_type": "execute_result"
    }
   ],
   "source": [
    "ctrl_lqr2 = LQRController(K_bil2, xe, ue)\n",
    "t_sim = 3\n",
    "times_sim = range(0,t_sim,step=dt)\n",
    "x0 = [-0.4,pi-deg2rad(40),0,0]\n",
    "Xsim_lqr2, = simulatewithcontroller(dmodel, ctrl_lqr2, x0, t_sim, dt)\n",
    "plotstates(times_sim_nominal, Xsim_lqr_nominal, inds=1:2, xlabel=\"time (s)\", ylabel=\"states\", label=[\"x (nominal)\" \"θ (nominal)\"], legend=:left, lw=2)\n",
    "plotstates!(times_sim, Xsim_lqr2, inds=1:2, xlabel=\"time (s)\", ylabel=\"states\", label=[\"x (jacobian)\" \"θ (jacobian)\"], legend=:left, lw=2)"
   ]
  },
  {
   "cell_type": "code",
   "execution_count": 44,
   "metadata": {},
   "outputs": [
    {
     "data": {
      "text/html": [
       "    <div style=\"height: 500px; width: 100%; overflow-x: auto; overflow-y: hidden; resize: both\">\n",
       "    <iframe src=\"http://127.0.0.1:8703\" style=\"width: 100%; height: 100%; border: none\"></iframe>\n",
       "    </div>\n"
      ],
      "text/plain": [
       "MeshCat.DisplayedVisualizer(MeshCat.CoreVisualizer(MeshCat.SceneTrees.SceneNode(nothing, nothing, Dict{String, Vector{UInt8}}(), nothing, Dict{String, MeshCat.SceneTrees.SceneNode}(\"meshcat\" => MeshCat.SceneTrees.SceneNode(nothing, nothing, Dict{String, Vector{UInt8}}(), nothing, Dict{String, MeshCat.SceneTrees.SceneNode}(\"robot\" => MeshCat.SceneTrees.SceneNode(nothing, nothing, Dict{String, Vector{UInt8}}(), nothing, Dict{String, MeshCat.SceneTrees.SceneNode}(\"rod\" => MeshCat.SceneTrees.SceneNode(UInt8[0x83, 0xa6, 0x6f, 0x62, 0x6a, 0x65, 0x63, 0x74, 0x84, 0xaa  …  0x2f, 0x72, 0x6f, 0x62, 0x6f, 0x74, 0x2f, 0x72, 0x6f, 0x64], nothing, Dict{String, Vector{UInt8}}(), nothing, Dict{String, MeshCat.SceneTrees.SceneNode}()), \"cart\" => MeshCat.SceneTrees.SceneNode(nothing, nothing, Dict{String, Vector{UInt8}}(), nothing, Dict{String, MeshCat.SceneTrees.SceneNode}(\"pole\" => MeshCat.SceneTrees.SceneNode(nothing, UInt8[0x83, 0xa6, 0x6d, 0x61, 0x74, 0x72, 0x69, 0x78, 0xc7, 0x40  …  0x2f, 0x63, 0x61, 0x72, 0x74, 0x2f, 0x70, 0x6f, 0x6c, 0x65], Dict{String, Vector{UInt8}}(), nothing, Dict{String, MeshCat.SceneTrees.SceneNode}(\"geom\" => MeshCat.SceneTrees.SceneNode(nothing, nothing, Dict{String, Vector{UInt8}}(), nothing, Dict{String, MeshCat.SceneTrees.SceneNode}(\"cyl\" => MeshCat.SceneTrees.SceneNode(UInt8[0x83, 0xa6, 0x6f, 0x62, 0x6a, 0x65, 0x63, 0x74, 0x84, 0xaa  …  0x65, 0x2f, 0x67, 0x65, 0x6f, 0x6d, 0x2f, 0x63, 0x79, 0x6c], nothing, Dict{String, Vector{UInt8}}(), nothing, Dict{String, MeshCat.SceneTrees.SceneNode}()), \"mass\" => MeshCat.SceneTrees.SceneNode(UInt8[0x83, 0xa6, 0x6f, 0x62, 0x6a, 0x65, 0x63, 0x74, 0x84, 0xaa  …  0x2f, 0x67, 0x65, 0x6f, 0x6d, 0x2f, 0x6d, 0x61, 0x73, 0x73], nothing, Dict{String, Vector{UInt8}}(), nothing, Dict{String, MeshCat.SceneTrees.SceneNode}()))))), \"box\" => MeshCat.SceneTrees.SceneNode(UInt8[0x83, 0xa6, 0x6f, 0x62, 0x6a, 0x65, 0x63, 0x74, 0x84, 0xaa  …  0x74, 0x2f, 0x63, 0x61, 0x72, 0x74, 0x2f, 0x62, 0x6f, 0x78], nothing, Dict{String, Vector{UInt8}}(), nothing, Dict{String, MeshCat.SceneTrees.SceneNode}()), \"hinge\" => MeshCat.SceneTrees.SceneNode(UInt8[0x83, 0xa6, 0x6f, 0x62, 0x6a, 0x65, 0x63, 0x74, 0x84, 0xaa  …  0x63, 0x61, 0x72, 0x74, 0x2f, 0x68, 0x69, 0x6e, 0x67, 0x65], nothing, Dict{String, Vector{UInt8}}(), nothing, Dict{String, MeshCat.SceneTrees.SceneNode}()))))))))), Set(Any[WebSocket(server, \u001b[32mCONNECTED\u001b[39m)]), ip\"127.0.0.1\", 8703))"
      ]
     },
     "execution_count": 44,
     "metadata": {},
     "output_type": "execute_result"
    }
   ],
   "source": [
    "render(vis)"
   ]
  },
  {
   "cell_type": "code",
   "execution_count": 46,
   "metadata": {},
   "outputs": [],
   "source": [
    "visualize!(vis, model, t_sim, Xsim_lqr2)"
   ]
  }
 ],
 "metadata": {
  "kernelspec": {
   "display_name": "Julia (10 Threads) 1.7.2",
   "language": "julia",
   "name": "julia-(10-threads)-1.7"
  },
  "language_info": {
   "file_extension": ".jl",
   "mimetype": "application/julia",
   "name": "julia",
   "version": "1.7.2"
  },
  "orig_nbformat": 4
 },
 "nbformat": 4,
 "nbformat_minor": 2
}
