{
 "cells": [
  {
   "cell_type": "code",
   "execution_count": 38,
   "metadata": {},
   "outputs": [
    {
     "name": "stderr",
     "output_type": "stream",
     "text": [
      "\u001b[32m\u001b[1m  Activating\u001b[22m\u001b[39m project at `~/.julia/dev/BilinearControl/examples`\n"
     ]
    }
   ],
   "source": [
    "import Pkg; Pkg.activate(joinpath(@__DIR__)); Pkg.instantiate();\n",
    "using BilinearControl\n",
    "using BilinearControl.Problems\n",
    "using BilinearControl.EDMD\n",
    "import RobotDynamics as RD\n",
    "using LinearAlgebra\n",
    "using RobotZoo\n",
    "using JLD2\n",
    "using SparseArrays\n",
    "using Plots\n",
    "using Distributions\n",
    "using Distributions: Normal\n",
    "using Random\n",
    "using FiniteDiff, ForwardDiff\n",
    "using Test"
   ]
  },
  {
   "cell_type": "code",
   "execution_count": 2,
   "metadata": {},
   "outputs": [
    {
     "data": {
      "text/plain": [
       "calc_error (generic function with 1 method)"
      ]
     },
     "metadata": {},
     "output_type": "display_data"
    }
   ],
   "source": [
    "include(\"learned_models/edmd_utils.jl\")"
   ]
  },
  {
   "cell_type": "code",
   "execution_count": 6,
   "metadata": {},
   "outputs": [
    {
     "name": "stderr",
     "output_type": "stream",
     "text": [
      "┌ Info: MeshCat server started. You can open the visualizer by visiting the following URL in your browser:\n",
      "│ http://127.0.0.1:8702\n",
      "└ @ MeshCat /home/brian/.julia/packages/MeshCat/Ax8pH/src/visualizer.jl:73\n"
     ]
    },
    {
     "data": {
      "text/plain": [
       "MeshCat Visualizer with path /meshcat/robot/cart/pole at http://127.0.0.1:8702"
      ]
     },
     "metadata": {},
     "output_type": "display_data"
    }
   ],
   "source": [
    "## Visualizer\n",
    "model = Cartpole2()\n",
    "include(joinpath(Problems.VISDIR, \"visualization.jl\"))\n",
    "vis = Visualizer()\n",
    "delete!(vis)\n",
    "set_cartpole!(vis)"
   ]
  },
  {
   "cell_type": "code",
   "execution_count": 7,
   "metadata": {},
   "outputs": [
    {
     "data": {
      "text/html": [
       "    <div style=\"height: 500px; width: 100%; overflow-x: auto; overflow-y: hidden; resize: both\">\n",
       "    <iframe src=\"http://127.0.0.1:8702\" style=\"width: 100%; height: 100%; border: none\"></iframe>\n",
       "    </div>\n"
      ],
      "text/plain": [
       "MeshCat.DisplayedVisualizer(MeshCat.CoreVisualizer(MeshCat.SceneTrees.SceneNode(nothing, nothing, Dict{String, Vector{UInt8}}(), nothing, Dict{String, MeshCat.SceneTrees.SceneNode}(\"meshcat\" => MeshCat.SceneTrees.SceneNode(nothing, nothing, Dict{String, Vector{UInt8}}(), nothing, Dict{String, MeshCat.SceneTrees.SceneNode}(\"robot\" => MeshCat.SceneTrees.SceneNode(nothing, nothing, Dict{String, Vector{UInt8}}(), nothing, Dict{String, MeshCat.SceneTrees.SceneNode}(\"rod\" => MeshCat.SceneTrees.SceneNode(UInt8[0x83, 0xa6, 0x6f, 0x62, 0x6a, 0x65, 0x63, 0x74, 0x84, 0xaa  …  0x2f, 0x72, 0x6f, 0x62, 0x6f, 0x74, 0x2f, 0x72, 0x6f, 0x64], nothing, Dict{String, Vector{UInt8}}(), nothing, Dict{String, MeshCat.SceneTrees.SceneNode}()), \"cart\" => MeshCat.SceneTrees.SceneNode(nothing, nothing, Dict{String, Vector{UInt8}}(), nothing, Dict{String, MeshCat.SceneTrees.SceneNode}(\"pole\" => MeshCat.SceneTrees.SceneNode(nothing, UInt8[0x83, 0xa6, 0x6d, 0x61, 0x74, 0x72, 0x69, 0x78, 0xc7, 0x40  …  0x2f, 0x63, 0x61, 0x72, 0x74, 0x2f, 0x70, 0x6f, 0x6c, 0x65], Dict{String, Vector{UInt8}}(), nothing, Dict{String, MeshCat.SceneTrees.SceneNode}(\"geom\" => MeshCat.SceneTrees.SceneNode(nothing, nothing, Dict{String, Vector{UInt8}}(), nothing, Dict{String, MeshCat.SceneTrees.SceneNode}(\"cyl\" => MeshCat.SceneTrees.SceneNode(UInt8[0x83, 0xa6, 0x6f, 0x62, 0x6a, 0x65, 0x63, 0x74, 0x84, 0xaa  …  0x65, 0x2f, 0x67, 0x65, 0x6f, 0x6d, 0x2f, 0x63, 0x79, 0x6c], nothing, Dict{String, Vector{UInt8}}(), nothing, Dict{String, MeshCat.SceneTrees.SceneNode}()), \"mass\" => MeshCat.SceneTrees.SceneNode(UInt8[0x83, 0xa6, 0x6f, 0x62, 0x6a, 0x65, 0x63, 0x74, 0x84, 0xaa  …  0x2f, 0x67, 0x65, 0x6f, 0x6d, 0x2f, 0x6d, 0x61, 0x73, 0x73], nothing, Dict{String, Vector{UInt8}}(), nothing, Dict{String, MeshCat.SceneTrees.SceneNode}()))))), \"box\" => MeshCat.SceneTrees.SceneNode(UInt8[0x83, 0xa6, 0x6f, 0x62, 0x6a, 0x65, 0x63, 0x74, 0x84, 0xaa  …  0x74, 0x2f, 0x63, 0x61, 0x72, 0x74, 0x2f, 0x62, 0x6f, 0x78], nothing, Dict{String, Vector{UInt8}}(), nothing, Dict{String, MeshCat.SceneTrees.SceneNode}()), \"hinge\" => MeshCat.SceneTrees.SceneNode(UInt8[0x83, 0xa6, 0x6f, 0x62, 0x6a, 0x65, 0x63, 0x74, 0x84, 0xaa  …  0x63, 0x61, 0x72, 0x74, 0x2f, 0x68, 0x69, 0x6e, 0x67, 0x65], nothing, Dict{String, Vector{UInt8}}(), nothing, Dict{String, MeshCat.SceneTrees.SceneNode}()))))))))), Set{Any}(), ip\"127.0.0.1\", 8702))"
      ]
     },
     "metadata": {},
     "output_type": "display_data"
    }
   ],
   "source": [
    "render(vis)"
   ]
  },
  {
   "cell_type": "markdown",
   "metadata": {},
   "source": [
    "# Generate Data"
   ]
  },
  {
   "cell_type": "code",
   "execution_count": 8,
   "metadata": {},
   "outputs": [],
   "source": [
    "model = Cartpole2()  # this model has damping\n",
    "dmodel = RD.DiscretizedDynamics{RD.RK4}(model)\n",
    "num_traj = 100\n",
    "tf = 2.0\n",
    "dt = 0.02\n",
    "times = range(0,tf,step=dt);"
   ]
  },
  {
   "cell_type": "code",
   "execution_count": 10,
   "metadata": {},
   "outputs": [],
   "source": [
    "Random.seed!(1)\n",
    "num_test = 50  # number of trajectories\n",
    "num_train = 50\n",
    "\n",
    "# Generate a stabilizing LQR controller about the top\n",
    "Qlqr = Diagonal([0.2,10,1e-2,1e-2])\n",
    "Rlqr = Diagonal([1e-3])\n",
    "xe = [0,pi,0,0]\n",
    "ue = [0.0]\n",
    "ctrl_lqr = LQRController(dmodel, Qlqr, Rlqr, xe, ue, dt)\n",
    "\n",
    "# Sample a bunch of initial conditions for the LQR controller\n",
    "x0_sampler = Product([\n",
    "    Uniform(-1.0,1.0),\n",
    "    Uniform(pi-pi/3,pi+pi/3),\n",
    "    Uniform(-.5,.5),\n",
    "    Uniform(-.5,.5),\n",
    "])\n",
    "initial_conditions_lqr = [rand(x0_sampler) for _ in 1:num_test]\n",
    "initial_conditions_test = [rand(x0_sampler) for _ in 1:num_train]\n",
    "\n",
    "# Create data set\n",
    "X_train, U_train = create_data(dmodel, ctrl_lqr, initial_conditions_lqr, tf, dt)\n",
    "X_test, U_test = create_data(dmodel, ctrl_lqr, initial_conditions_test, tf, dt);\n"
   ]
  },
  {
   "cell_type": "markdown",
   "metadata": {},
   "source": [
    "# Fit the Data using normal eDMD\n",
    "This uses the standard eDMD model method used in the CalTech paper, which learns a model of the form:\n",
    "\n",
    "$$ x^+ = A x + \\sum_{i=1}^m u_i C_i x $$"
   ]
  },
  {
   "cell_type": "code",
   "execution_count": 12,
   "metadata": {},
   "outputs": [],
   "source": [
    "# Define the basis functions\n",
    "eigfuns = [\"state\", \"sine\", \"cosine\", \"sine\", \"sine\", \"chebyshev\"]\n",
    "eigorders = [0,0,0,2,4,4];"
   ]
  },
  {
   "cell_type": "code",
   "execution_count": 13,
   "metadata": {},
   "outputs": [
    {
     "name": "stdout",
     "output_type": "stream",
     "text": [
      "(T, K) = (165000, 2178)\n",
      "issparse(X) = true\n",
      "lambda = 10.1\n",
      "(T, K) = (20000, 132)\n",
      "issparse(X) = true\n",
      "lambda = 0.0\n"
     ]
    }
   ],
   "source": [
    "# Fit the data\n",
    "Z_train, Zu_train, kf = build_eigenfunctions(X_train, U_train, eigfuns, eigorders)\n",
    "F, C, g = learn_bilinear_model(X_train, Z_train, Zu_train,\n",
    "    [\"ridge\", \"lasso\"]; \n",
    "    edmd_weights=[10.1], \n",
    "    mapping_weights=[0.0], \n",
    "    algorithm=:qr\n",
    ");"
   ]
  },
  {
   "cell_type": "markdown",
   "metadata": {},
   "source": [
    "### Evaluate the fit\n",
    "The fit is evaluated using:\n",
    "$$ \\frac{1}{P} \\sum_{j=1}^P || g (A \\varphi(x_j) + \\sum_{i=1}^m u_{j,i} C_i \\varphi(x_j)) - x_j^+ || $$\n",
    "\n",
    "where $y = \\varphi(x)$ is the Koopman transform."
   ]
  },
  {
   "cell_type": "code",
   "execution_count": 14,
   "metadata": {},
   "outputs": [
    {
     "name": "stdout",
     "output_type": "stream",
     "text": [
      "Train Error: 0.025615893254870032\n",
      "Test Error:  0.04575627041255942\n"
     ]
    }
   ],
   "source": [
    "err_train = BilinearControl.EDMD.fiterror(F,C,g,kf, X_train, U_train)\n",
    "err_test = BilinearControl.EDMD.fiterror(F,C,g,kf, X_test, U_test)\n",
    "println(\"Train Error: \", err_train)\n",
    "println(\"Test Error:  \", err_test)"
   ]
  },
  {
   "cell_type": "markdown",
   "metadata": {},
   "source": [
    "### Define the Bilinear Model"
   ]
  },
  {
   "cell_type": "code",
   "execution_count": 17,
   "metadata": {},
   "outputs": [
    {
     "name": "stdout",
     "output_type": "stream",
     "text": [
      "New state dimension: 33\n"
     ]
    }
   ],
   "source": [
    "model_bilinear = EDMDModel(F,C,g,kf,dt,\"cartpole\")\n",
    "n,m = RD.dims(model_bilinear)\n",
    "n0 = originalstatedim(model_bilinear);\n",
    "println(\"New state dimension: \", n)"
   ]
  },
  {
   "cell_type": "markdown",
   "metadata": {},
   "source": [
    "### Compare Linearization\n",
    "To see if the learned model captures the dynamics, we'll evaluate the effective `A` and `B` dynamics Jaocbians of the learned model on the original dynamics, and compare to the nominal Jacobians."
   ]
  },
  {
   "cell_type": "code",
   "execution_count": 16,
   "metadata": {},
   "outputs": [],
   "source": [
    "# Define the equilibrium\n",
    "xe = [0.,pi,0,0]\n",
    "ue = [0.0]\n",
    "ze = RD.KnotPoint{n0,m}(xe,ue,0.0,dt)\n",
    "ye = expandstate(model_bilinear, xe);"
   ]
  },
  {
   "cell_type": "code",
   "execution_count": 20,
   "metadata": {},
   "outputs": [],
   "source": [
    "# Nominal Jacobians\n",
    "J = zeros(n0,n0+m)\n",
    "xn = zeros(n0)\n",
    "RD.jacobian!(RD.InPlace(), RD.ForwardAD(), dmodel, J, xn, ze)\n",
    "A_nom = J[:,1:n0]\n",
    "B_nom = J[:,n0+1:end];"
   ]
  },
  {
   "cell_type": "code",
   "execution_count": 24,
   "metadata": {},
   "outputs": [],
   "source": [
    "# Bilinear Jacobians\n",
    "function dynamics_bilinear(x,u,t,dt)\n",
    "    y = expandstate(model_bilinear, x)\n",
    "    yn = zero(y)\n",
    "    RD.discrete_dynamics!(model_bilinear, yn, y, u, t, dt)\n",
    "    originalstate(model_bilinear, yn)\n",
    "end\n",
    "\n",
    "A_bil = FiniteDiff.finite_difference_jacobian(x->dynamics_bilinear(x,ue,0.0,dt), xe)\n",
    "B_bil = FiniteDiff.finite_difference_jacobian(u->dynamics_bilinear(xe,u,0.0,dt), ue);"
   ]
  },
  {
   "cell_type": "code",
   "execution_count": 25,
   "metadata": {},
   "outputs": [
    {
     "data": {
      "text/plain": [
       "4×4 Matrix{Float64}:\n",
       " 1.0  0.000392055   0.019998     -1.38375e-6\n",
       " 0.0  1.0047       -3.99648e-6    0.0199834\n",
       " 0.0  0.0392035     0.9998       -7.57316e-6\n",
       " 0.0  0.470481     -0.000399628   0.999909"
      ]
     },
     "metadata": {},
     "output_type": "display_data"
    }
   ],
   "source": [
    "A_nom"
   ]
  },
  {
   "cell_type": "code",
   "execution_count": 26,
   "metadata": {},
   "outputs": [
    {
     "data": {
      "text/plain": [
       "4×4 Matrix{Float64}:\n",
       "  0.934512    0.567423  -0.0513745  0.0672587\n",
       " -0.0516894   1.54726   -0.0753731  0.106527\n",
       " -0.107765    1.2054     0.850429   0.186049\n",
       "  0.151918   -1.19891    0.211363   0.73424"
      ]
     },
     "metadata": {},
     "output_type": "display_data"
    }
   ],
   "source": [
    "A_bil"
   ]
  },
  {
   "cell_type": "code",
   "execution_count": 27,
   "metadata": {},
   "outputs": [
    {
     "data": {
      "text/plain": [
       "4×1 Matrix{Float64}:\n",
       " 0.00019995956333333334\n",
       " 0.00039964806000000004\n",
       " 0.01999523290316667\n",
       " 0.03996279079433334"
      ]
     },
     "metadata": {},
     "output_type": "display_data"
    }
   ],
   "source": [
    "B_nom"
   ]
  },
  {
   "cell_type": "code",
   "execution_count": 28,
   "metadata": {},
   "outputs": [
    {
     "data": {
      "text/plain": [
       "4×1 Matrix{Float64}:\n",
       " 0.005341808369848877\n",
       " 0.005137056112289429\n",
       " 0.02959465352614643\n",
       " 0.02476261821720982"
      ]
     },
     "metadata": {},
     "output_type": "display_data"
    }
   ],
   "source": [
    "B_bil"
   ]
  },
  {
   "cell_type": "markdown",
   "metadata": {},
   "source": [
    "### Try Stabilizing with LQR"
   ]
  },
  {
   "cell_type": "code",
   "execution_count": 29,
   "metadata": {},
   "outputs": [],
   "source": [
    "# Calculate LQR Gain \n",
    "Qlqr = Diagonal([1.0,10.0,1e-2,1e-2])\n",
    "Rlqr = Diagonal([1e-4])\n",
    "K_nom = dlqr(A_nom, B_nom, Qlqr, Rlqr);\n",
    "K_bil = dlqr(A_bil, B_bil, Qlqr, Rlqr);"
   ]
  },
  {
   "cell_type": "code",
   "execution_count": 31,
   "metadata": {},
   "outputs": [
    {
     "name": "stdout",
     "output_type": "stream",
     "text": [
      "Stability Summary:\n",
      "  Dynamics  |  Controller  |  is stable? \n",
      "------------|--------------|--------------\n",
      "  Nominal   |  Nominal     |  true\n",
      "  Bilinear  |  Bilinear    |  true\n",
      "  Nominal   |  Bilinear    |  false\n"
     ]
    }
   ],
   "source": [
    "# Evaluate stability\n",
    "isstable_nominal = maximum(abs.(eigvals(A_nom - B_nom*K_nom))) < 1.0\n",
    "isstable_bilinear = maximum(abs.(eigvals(A_bil - B_bil*K_bil))) < 1.0\n",
    "isstable_nominal_with_bilinear = maximum(abs.(eigvals(A_nom - B_nom*K_bil))) < 1.0\n",
    "\n",
    "println(\"Stability Summary:\")\n",
    "println(\"  Dynamics  |  Controller  |  is stable? \")\n",
    "println(\"------------|--------------|--------------\")\n",
    "println(\"  Nominal   |  Nominal     |  \", isstable_nominal)\n",
    "println(\"  Bilinear  |  Bilinear    |  \", isstable_bilinear)\n",
    "println(\"  Nominal   |  Bilinear    |  \", isstable_nominal_with_bilinear)"
   ]
  },
  {
   "cell_type": "code",
   "execution_count": 35,
   "metadata": {},
   "outputs": [
    {
     "data": {
      "image/png": "[encoded data removed]",
      "image/svg+xml": "<?xml version=\"1.0\" encoding=\"utf-8\"?>\n<svg xmlns=\"http://www.w3.org/2000/svg\" xmlns:xlink=\"http://www.w3.org/1999/xlink\" width=\"600\" height=\"400\" viewBox=\"0 0 2400 1600\">\n<defs>\n  <clipPath id=\"clip430\">\n    <rect x=\"0\" y=\"0\" width=\"2400\" height=\"1600\"/>\n  </clipPath>\n</defs>\n<path clip-path=\"url(#clip430)\" d=\"\nM0 1600 L2400 1600 L2400 0 L0 0  Z\n  \" fill=\"#ffffff\" fill-rule=\"evenodd\" fill-opacity=\"1\"/>\n<defs>\n  <clipPath id=\"clip431\">\n    <rect x=\"480\" y=\"0\" width=\"1681\" height=\"1600\"/>\n  </clipPath>\n</defs>\n<path clip-path=\"url(#clip430)\" d=\"\nM174.149 1423.18 L2352.76 1423.18 L2352.76 47.2441 L174.149 47.2441  Z\n  \" fill=\"#ffffff\" fill-rule=\"evenodd\" fill-opacity=\"1\"/>\n<defs>\n  <clipPath id=\"clip432\">\n    <rect x=\"174\" y=\"47\" width=\"2180\" height=\"1377\"/>\n  </clipPath>\n</defs>\n<polyline clip-path=\"url(#clip432)\" style=\"stroke:#000000; stroke-linecap:butt; stroke-linejoin:round; stroke-width:2; stroke-opacity:0.1; fill:none\" points=\"\n  235.808,1423.18 235.808,47.2441 \n  \"/>\n<polyline clip-path=\"url(#clip432)\" style=\"stroke:#000000; stroke-linecap:butt; stroke-linejoin:round; stroke-width:2; stroke-opacity:0.1; fill:none\" points=\"\n  749.63,1423.18 749.63,47.2441 \n  \"/>\n<polyline clip-path=\"url(#clip432)\" style=\"stroke:#000000; stroke-linecap:butt; stroke-linejoin:round; stroke-width:2; stroke-opacity:0.1; fill:none\" points=\"\n  1263.45,1423.18 1263.45,47.2441 \n  \"/>\n<polyline clip-path=\"url(#clip432)\" style=\"stroke:#000000; stroke-linecap:butt; stroke-linejoin:round; stroke-width:2; stroke-opacity:0.1; fill:none\" points=\"\n  1777.27,1423.18 1777.27,47.2441 \n  \"/>\n<polyline clip-path=\"url(#clip432)\" style=\"stroke:#000000; stroke-linecap:butt; stroke-linejoin:round; stroke-width:2; stroke-opacity:0.1; fill:none\" points=\"\n  2291.1,1423.18 2291.1,47.2441 \n  \"/>\n<polyline clip-path=\"url(#clip430)\" style=\"stroke:#000000; stroke-linecap:butt; stroke-linejoin:round; stroke-width:4; stroke-opacity:1; fill:none\" points=\"\n  174.149,1423.18 2352.76,1423.18 \n  \"/>\n<polyline clip-path=\"url(#clip430)\" style=\"stroke:#000000; stroke-linecap:butt; stroke-linejoin:round; stroke-width:4; stroke-opacity:1; fill:none\" points=\"\n  235.808,1423.18 235.808,1404.28 \n  \"/>\n<polyline clip-path=\"url(#clip430)\" style=\"stroke:#000000; stroke-linecap:butt; stroke-linejoin:round; stroke-width:4; stroke-opacity:1; fill:none\" points=\"\n  749.63,1423.18 749.63,1404.28 \n  \"/>\n<polyline clip-path=\"url(#clip430)\" style=\"stroke:#000000; stroke-linecap:butt; stroke-linejoin:round; stroke-width:4; stroke-opacity:1; fill:none\" points=\"\n  1263.45,1423.18 1263.45,1404.28 \n  \"/>\n<polyline clip-path=\"url(#clip430)\" style=\"stroke:#000000; stroke-linecap:butt; stroke-linejoin:round; stroke-width:4; stroke-opacity:1; fill:none\" points=\"\n  1777.27,1423.18 1777.27,1404.28 \n  \"/>\n<polyline clip-path=\"url(#clip430)\" style=\"stroke:#000000; stroke-linecap:butt; stroke-linejoin:round; stroke-width:4; stroke-opacity:1; fill:none\" points=\"\n  2291.1,1423.18 2291.1,1404.28 \n  \"/>\n<path clip-path=\"url(#clip430)\" d=\"M213.192 1454.1 Q209.581 1454.1 207.752 1457.66 Q205.947 1461.2 205.947 1468.33 Q205.947 1475.44 207.752 1479.01 Q209.581 1482.55 213.192 1482.55 Q216.826 1482.55 218.632 1479.01 Q220.46 1475.44 220.46 1468.33 Q220.46 1461.2 218.632 1457.66 Q216.826 1454.1 213.192 1454.1 M213.192 1450.39 Q219.002 1450.39 222.058 1455 Q225.136 1459.58 225.136 1468.33 Q225.136 1477.06 222.058 1481.67 Q219.002 1486.25 213.192 1486.25 Q207.382 1486.25 204.303 1481.67 Q201.248 1477.06 201.248 1468.33 Q201.248 1459.58 204.303 1455 Q207.382 1450.39 213.192 1450.39 Z\" fill=\"#000000\" fill-rule=\"evenodd\" fill-opacity=\"1\" /><path clip-path=\"url(#clip430)\" d=\"M233.354 1479.7 L238.238 1479.7 L238.238 1485.58 L233.354 1485.58 L233.354 1479.7 Z\" fill=\"#000000\" fill-rule=\"evenodd\" fill-opacity=\"1\" /><path clip-path=\"url(#clip430)\" d=\"M258.423 1454.1 Q254.812 1454.1 252.983 1457.66 Q251.178 1461.2 251.178 1468.33 Q251.178 1475.44 252.983 1479.01 Q254.812 1482.55 258.423 1482.55 Q262.057 1482.55 263.863 1479.01 Q265.692 1475.44 265.692 1468.33 Q265.692 1461.2 263.863 1457.66 Q262.057 1454.1 258.423 1454.1 M258.423 1450.39 Q264.233 1450.39 267.289 1455 Q270.368 1459.58 270.368 1468.33 Q270.368 1477.06 267.289 1481.67 Q264.233 1486.25 258.423 1486.25 Q252.613 1486.25 249.534 1481.67 Q246.479 1477.06 246.479 1468.33 Q246.479 1459.58 249.534 1455 Q252.613 1450.39 258.423 1450.39 Z\" fill=\"#000000\" fill-rule=\"evenodd\" fill-opacity=\"1\" /><path clip-path=\"url(#clip430)\" d=\"M721.366 1481.64 L737.686 1481.64 L737.686 1485.58 L715.741 1485.58 L715.741 1481.64 Q718.403 1478.89 722.987 1474.26 Q727.593 1469.61 728.774 1468.27 Q731.019 1465.74 731.899 1464.01 Q732.801 1462.25 732.801 1460.56 Q732.801 1457.8 730.857 1456.07 Q728.936 1454.33 725.834 1454.33 Q723.635 1454.33 721.181 1455.09 Q718.751 1455.86 715.973 1457.41 L715.973 1452.69 Q718.797 1451.55 721.251 1450.97 Q723.704 1450.39 725.741 1450.39 Q731.112 1450.39 734.306 1453.08 Q737.5 1455.77 737.5 1460.26 Q737.5 1462.39 736.69 1464.31 Q735.903 1466.2 733.797 1468.8 Q733.218 1469.47 730.116 1472.69 Q727.014 1475.88 721.366 1481.64 Z\" fill=\"#000000\" fill-rule=\"evenodd\" fill-opacity=\"1\" /><path clip-path=\"url(#clip430)\" d=\"M747.5 1479.7 L752.385 1479.7 L752.385 1485.58 L747.5 1485.58 L747.5 1479.7 Z\" fill=\"#000000\" fill-rule=\"evenodd\" fill-opacity=\"1\" /><path clip-path=\"url(#clip430)\" d=\"M762.616 1451.02 L780.972 1451.02 L780.972 1454.96 L766.898 1454.96 L766.898 1463.43 Q767.917 1463.08 768.935 1462.92 Q769.954 1462.73 770.972 1462.73 Q776.759 1462.73 780.139 1465.9 Q783.519 1469.08 783.519 1474.49 Q783.519 1480.07 780.047 1483.17 Q776.574 1486.25 770.255 1486.25 Q768.079 1486.25 765.81 1485.88 Q763.565 1485.51 761.158 1484.77 L761.158 1480.07 Q763.241 1481.2 765.463 1481.76 Q767.685 1482.32 770.162 1482.32 Q774.167 1482.32 776.505 1480.21 Q778.843 1478.1 778.843 1474.49 Q778.843 1470.88 776.505 1468.77 Q774.167 1466.67 770.162 1466.67 Q768.287 1466.67 766.412 1467.08 Q764.56 1467.5 762.616 1468.38 L762.616 1451.02 Z\" fill=\"#000000\" fill-rule=\"evenodd\" fill-opacity=\"1\" /><path clip-path=\"url(#clip430)\" d=\"M1230.62 1451.02 L1248.97 1451.02 L1248.97 1454.96 L1234.9 1454.96 L1234.9 1463.43 Q1235.92 1463.08 1236.94 1462.92 Q1237.95 1462.73 1238.97 1462.73 Q1244.76 1462.73 1248.14 1465.9 Q1251.52 1469.08 1251.52 1474.49 Q1251.52 1480.07 1248.05 1483.17 Q1244.58 1486.25 1238.26 1486.25 Q1236.08 1486.25 1233.81 1485.88 Q1231.57 1485.51 1229.16 1484.77 L1229.16 1480.07 Q1231.24 1481.2 1233.46 1481.76 Q1235.69 1482.32 1238.16 1482.32 Q1242.17 1482.32 1244.51 1480.21 Q1246.84 1478.1 1246.84 1474.49 Q1246.84 1470.88 1244.51 1468.77 Q1242.17 1466.67 1238.16 1466.67 Q1236.29 1466.67 1234.41 1467.08 Q1232.56 1467.5 1230.62 1468.38 L1230.62 1451.02 Z\" fill=\"#000000\" fill-rule=\"evenodd\" fill-opacity=\"1\" /><path clip-path=\"url(#clip430)\" d=\"M1260.73 1479.7 L1265.62 1479.7 L1265.62 1485.58 L1260.73 1485.58 L1260.73 1479.7 Z\" fill=\"#000000\" fill-rule=\"evenodd\" fill-opacity=\"1\" /><path clip-path=\"url(#clip430)\" d=\"M1285.8 1454.1 Q1282.19 1454.1 1280.36 1457.66 Q1278.56 1461.2 1278.56 1468.33 Q1278.56 1475.44 1280.36 1479.01 Q1282.19 1482.55 1285.8 1482.55 Q1289.44 1482.55 1291.24 1479.01 Q1293.07 1475.44 1293.07 1468.33 Q1293.07 1461.2 1291.24 1457.66 Q1289.44 1454.1 1285.8 1454.1 M1285.8 1450.39 Q1291.61 1450.39 1294.67 1455 Q1297.75 1459.58 1297.75 1468.33 Q1297.75 1477.06 1294.67 1481.67 Q1291.61 1486.25 1285.8 1486.25 Q1279.99 1486.25 1276.91 1481.67 Q1273.86 1477.06 1273.86 1468.33 Q1273.86 1459.58 1276.91 1455 Q1279.99 1450.39 1285.8 1450.39 Z\" fill=\"#000000\" fill-rule=\"evenodd\" fill-opacity=\"1\" /><path clip-path=\"url(#clip430)\" d=\"M1743.59 1451.02 L1765.82 1451.02 L1765.82 1453.01 L1753.27 1485.58 L1748.39 1485.58 L1760.19 1454.96 L1743.59 1454.96 L1743.59 1451.02 Z\" fill=\"#000000\" fill-rule=\"evenodd\" fill-opacity=\"1\" /><path clip-path=\"url(#clip430)\" d=\"M1774.94 1479.7 L1779.82 1479.7 L1779.82 1485.58 L1774.94 1485.58 L1774.94 1479.7 Z\" fill=\"#000000\" fill-rule=\"evenodd\" fill-opacity=\"1\" /><path clip-path=\"url(#clip430)\" d=\"M1790.05 1451.02 L1808.41 1451.02 L1808.41 1454.96 L1794.33 1454.96 L1794.33 1463.43 Q1795.35 1463.08 1796.37 1462.92 Q1797.39 1462.73 1798.41 1462.73 Q1804.2 1462.73 1807.58 1465.9 Q1810.96 1469.08 1810.96 1474.49 Q1810.96 1480.07 1807.48 1483.17 Q1804.01 1486.25 1797.69 1486.25 Q1795.52 1486.25 1793.25 1485.88 Q1791 1485.51 1788.59 1484.77 L1788.59 1480.07 Q1790.68 1481.2 1792.9 1481.76 Q1795.12 1482.32 1797.6 1482.32 Q1801.6 1482.32 1803.94 1480.21 Q1806.28 1478.1 1806.28 1474.49 Q1806.28 1470.88 1803.94 1468.77 Q1801.6 1466.67 1797.6 1466.67 Q1795.72 1466.67 1793.85 1467.08 Q1792 1467.5 1790.05 1468.38 L1790.05 1451.02 Z\" fill=\"#000000\" fill-rule=\"evenodd\" fill-opacity=\"1\" /><path clip-path=\"url(#clip430)\" d=\"M2243.17 1481.64 L2250.81 1481.64 L2250.81 1455.28 L2242.5 1456.95 L2242.5 1452.69 L2250.76 1451.02 L2255.44 1451.02 L2255.44 1481.64 L2263.08 1481.64 L2263.08 1485.58 L2243.17 1485.58 L2243.17 1481.64 Z\" fill=\"#000000\" fill-rule=\"evenodd\" fill-opacity=\"1\" /><path clip-path=\"url(#clip430)\" d=\"M2282.52 1454.1 Q2278.91 1454.1 2277.08 1457.66 Q2275.28 1461.2 2275.28 1468.33 Q2275.28 1475.44 2277.08 1479.01 Q2278.91 1482.55 2282.52 1482.55 Q2286.16 1482.55 2287.96 1479.01 Q2289.79 1475.44 2289.79 1468.33 Q2289.79 1461.2 2287.96 1457.66 Q2286.16 1454.1 2282.52 1454.1 M2282.52 1450.39 Q2288.33 1450.39 2291.39 1455 Q2294.47 1459.58 2294.47 1468.33 Q2294.47 1477.06 2291.39 1481.67 Q2288.33 1486.25 2282.52 1486.25 Q2276.71 1486.25 2273.63 1481.67 Q2270.58 1477.06 2270.58 1468.33 Q2270.58 1459.58 2273.63 1455 Q2276.71 1450.39 2282.52 1450.39 Z\" fill=\"#000000\" fill-rule=\"evenodd\" fill-opacity=\"1\" /><path clip-path=\"url(#clip430)\" d=\"M2302.68 1479.7 L2307.57 1479.7 L2307.57 1485.58 L2302.68 1485.58 L2302.68 1479.7 Z\" fill=\"#000000\" fill-rule=\"evenodd\" fill-opacity=\"1\" /><path clip-path=\"url(#clip430)\" d=\"M2327.75 1454.1 Q2324.14 1454.1 2322.31 1457.66 Q2320.51 1461.2 2320.51 1468.33 Q2320.51 1475.44 2322.31 1479.01 Q2324.14 1482.55 2327.75 1482.55 Q2331.39 1482.55 2333.19 1479.01 Q2335.02 1475.44 2335.02 1468.33 Q2335.02 1461.2 2333.19 1457.66 Q2331.39 1454.1 2327.75 1454.1 M2327.75 1450.39 Q2333.56 1450.39 2336.62 1455 Q2339.7 1459.58 2339.7 1468.33 Q2339.7 1477.06 2336.62 1481.67 Q2333.56 1486.25 2327.75 1486.25 Q2321.94 1486.25 2318.86 1481.67 Q2315.81 1477.06 2315.81 1468.33 Q2315.81 1459.58 2318.86 1455 Q2321.94 1450.39 2327.75 1450.39 Z\" fill=\"#000000\" fill-rule=\"evenodd\" fill-opacity=\"1\" /><path clip-path=\"url(#clip430)\" d=\"M1150.91 1522.27 L1150.91 1532.4 L1162.97 1532.4 L1162.97 1536.95 L1150.91 1536.95 L1150.91 1556.3 Q1150.91 1560.66 1152.08 1561.9 Q1153.29 1563.14 1156.95 1563.14 L1162.97 1563.14 L1162.97 1568.04 L1156.95 1568.04 Q1150.17 1568.04 1147.6 1565.53 Q1145.02 1562.98 1145.02 1556.3 L1145.02 1536.95 L1140.72 1536.95 L1140.72 1532.4 L1145.02 1532.4 L1145.02 1522.27 L1150.91 1522.27 Z\" fill=\"#000000\" fill-rule=\"evenodd\" fill-opacity=\"1\" /><path clip-path=\"url(#clip430)\" d=\"M1170.67 1532.4 L1176.53 1532.4 L1176.53 1568.04 L1170.67 1568.04 L1170.67 1532.4 M1170.67 1518.52 L1176.53 1518.52 L1176.53 1525.93 L1170.67 1525.93 L1170.67 1518.52 Z\" fill=\"#000000\" fill-rule=\"evenodd\" fill-opacity=\"1\" /><path clip-path=\"url(#clip430)\" d=\"M1216.54 1539.24 Q1218.73 1535.29 1221.79 1533.41 Q1224.84 1531.54 1228.98 1531.54 Q1234.55 1531.54 1237.58 1535.45 Q1240.6 1539.33 1240.6 1546.53 L1240.6 1568.04 L1234.71 1568.04 L1234.71 1546.72 Q1234.71 1541.59 1232.9 1539.11 Q1231.08 1536.63 1227.36 1536.63 Q1222.81 1536.63 1220.17 1539.65 Q1217.52 1542.68 1217.52 1547.9 L1217.52 1568.04 L1211.64 1568.04 L1211.64 1546.72 Q1211.64 1541.56 1209.82 1539.11 Q1208.01 1536.63 1204.22 1536.63 Q1199.73 1536.63 1197.09 1539.68 Q1194.45 1542.71 1194.45 1547.9 L1194.45 1568.04 L1188.56 1568.04 L1188.56 1532.4 L1194.45 1532.4 L1194.45 1537.93 Q1196.45 1534.66 1199.25 1533.1 Q1202.06 1531.54 1205.91 1531.54 Q1209.79 1531.54 1212.49 1533.51 Q1215.23 1535.48 1216.54 1539.24 Z\" fill=\"#000000\" fill-rule=\"evenodd\" fill-opacity=\"1\" /><path clip-path=\"url(#clip430)\" d=\"M1282.77 1548.76 L1282.77 1551.62 L1255.85 1551.62 Q1256.23 1557.67 1259.47 1560.85 Q1262.75 1564 1268.58 1564 Q1271.95 1564 1275.1 1563.17 Q1278.28 1562.35 1281.4 1560.69 L1281.4 1566.23 Q1278.25 1567.57 1274.94 1568.27 Q1271.63 1568.97 1268.23 1568.97 Q1259.7 1568.97 1254.7 1564 Q1249.73 1559.04 1249.73 1550.57 Q1249.73 1541.82 1254.44 1536.69 Q1259.19 1531.54 1267.21 1531.54 Q1274.4 1531.54 1278.57 1536.18 Q1282.77 1540.8 1282.77 1548.76 M1276.92 1547.04 Q1276.85 1542.23 1274.21 1539.37 Q1271.6 1536.5 1267.27 1536.5 Q1262.37 1536.5 1259.41 1539.27 Q1256.48 1542.04 1256.04 1547.07 L1276.92 1547.04 Z\" fill=\"#000000\" fill-rule=\"evenodd\" fill-opacity=\"1\" /><path clip-path=\"url(#clip430)\" d=\"M1327.17 1518.58 Q1322.91 1525.9 1320.84 1533.06 Q1318.77 1540.23 1318.77 1547.58 Q1318.77 1554.93 1320.84 1562.16 Q1322.94 1569.35 1327.17 1576.64 L1322.08 1576.64 Q1317.31 1569.16 1314.92 1561.93 Q1312.56 1554.71 1312.56 1547.58 Q1312.56 1540.48 1314.92 1533.29 Q1317.27 1526.09 1322.08 1518.58 L1327.17 1518.58 Z\" fill=\"#000000\" fill-rule=\"evenodd\" fill-opacity=\"1\" /><path clip-path=\"url(#clip430)\" d=\"M1361.26 1533.45 L1361.26 1538.98 Q1358.78 1537.71 1356.11 1537.07 Q1353.43 1536.44 1350.57 1536.44 Q1346.21 1536.44 1344.01 1537.77 Q1341.85 1539.11 1341.85 1541.79 Q1341.85 1543.82 1343.41 1545 Q1344.97 1546.15 1349.68 1547.2 L1351.68 1547.64 Q1357.92 1548.98 1360.53 1551.43 Q1363.17 1553.85 1363.17 1558.21 Q1363.17 1563.17 1359.22 1566.07 Q1355.31 1568.97 1348.43 1568.97 Q1345.57 1568.97 1342.45 1568.39 Q1339.36 1567.85 1335.93 1566.74 L1335.93 1560.69 Q1339.17 1562.38 1342.32 1563.24 Q1345.47 1564.07 1348.56 1564.07 Q1352.7 1564.07 1354.93 1562.66 Q1357.16 1561.23 1357.16 1558.65 Q1357.16 1556.27 1355.53 1554.99 Q1353.94 1553.72 1348.5 1552.54 L1346.46 1552.07 Q1341.02 1550.92 1338.6 1548.56 Q1336.18 1546.18 1336.18 1542.04 Q1336.18 1537.01 1339.75 1534.27 Q1343.31 1531.54 1349.87 1531.54 Q1353.11 1531.54 1355.98 1532.01 Q1358.84 1532.49 1361.26 1533.45 Z\" fill=\"#000000\" fill-rule=\"evenodd\" fill-opacity=\"1\" /><path clip-path=\"url(#clip430)\" d=\"M1371.57 1518.58 L1376.67 1518.58 Q1381.44 1526.09 1383.8 1533.29 Q1386.18 1540.48 1386.18 1547.58 Q1386.18 1554.71 1383.8 1561.93 Q1381.44 1569.16 1376.67 1576.64 L1371.57 1576.64 Q1375.81 1569.35 1377.88 1562.16 Q1379.98 1554.93 1379.98 1547.58 Q1379.98 1540.23 1377.88 1533.06 Q1375.81 1525.9 1371.57 1518.58 Z\" fill=\"#000000\" fill-rule=\"evenodd\" fill-opacity=\"1\" /><polyline clip-path=\"url(#clip432)\" style=\"stroke:#000000; stroke-linecap:butt; stroke-linejoin:round; stroke-width:2; stroke-opacity:0.1; fill:none\" points=\"\n  174.149,1384.24 2352.76,1384.24 \n  \"/>\n<polyline clip-path=\"url(#clip432)\" style=\"stroke:#000000; stroke-linecap:butt; stroke-linejoin:round; stroke-width:2; stroke-opacity:0.1; fill:none\" points=\"\n  174.149,983.659 2352.76,983.659 \n  \"/>\n<polyline clip-path=\"url(#clip432)\" style=\"stroke:#000000; stroke-linecap:butt; stroke-linejoin:round; stroke-width:2; stroke-opacity:0.1; fill:none\" points=\"\n  174.149,583.079 2352.76,583.079 \n  \"/>\n<polyline clip-path=\"url(#clip432)\" style=\"stroke:#000000; stroke-linecap:butt; stroke-linejoin:round; stroke-width:2; stroke-opacity:0.1; fill:none\" points=\"\n  174.149,182.499 2352.76,182.499 \n  \"/>\n<polyline clip-path=\"url(#clip430)\" style=\"stroke:#000000; stroke-linecap:butt; stroke-linejoin:round; stroke-width:4; stroke-opacity:1; fill:none\" points=\"\n  174.149,1423.18 174.149,47.2441 \n  \"/>\n<polyline clip-path=\"url(#clip430)\" style=\"stroke:#000000; stroke-linecap:butt; stroke-linejoin:round; stroke-width:4; stroke-opacity:1; fill:none\" points=\"\n  174.149,1384.24 193.047,1384.24 \n  \"/>\n<polyline clip-path=\"url(#clip430)\" style=\"stroke:#000000; stroke-linecap:butt; stroke-linejoin:round; stroke-width:4; stroke-opacity:1; fill:none\" points=\"\n  174.149,983.659 193.047,983.659 \n  \"/>\n<polyline clip-path=\"url(#clip430)\" style=\"stroke:#000000; stroke-linecap:butt; stroke-linejoin:round; stroke-width:4; stroke-opacity:1; fill:none\" points=\"\n  174.149,583.079 193.047,583.079 \n  \"/>\n<polyline clip-path=\"url(#clip430)\" style=\"stroke:#000000; stroke-linecap:butt; stroke-linejoin:round; stroke-width:4; stroke-opacity:1; fill:none\" points=\"\n  174.149,182.499 193.047,182.499 \n  \"/>\n<path clip-path=\"url(#clip430)\" d=\"M126.205 1370.04 Q122.593 1370.04 120.765 1373.6 Q118.959 1377.14 118.959 1384.27 Q118.959 1391.38 120.765 1394.94 Q122.593 1398.49 126.205 1398.49 Q129.839 1398.49 131.644 1394.94 Q133.473 1391.38 133.473 1384.27 Q133.473 1377.14 131.644 1373.6 Q129.839 1370.04 126.205 1370.04 M126.205 1366.33 Q132.015 1366.33 135.07 1370.94 Q138.149 1375.52 138.149 1384.27 Q138.149 1393 135.07 1397.61 Q132.015 1402.19 126.205 1402.19 Q120.394 1402.19 117.316 1397.61 Q114.26 1393 114.26 1384.27 Q114.26 1375.52 117.316 1370.94 Q120.394 1366.33 126.205 1366.33 Z\" fill=\"#000000\" fill-rule=\"evenodd\" fill-opacity=\"1\" /><path clip-path=\"url(#clip430)\" d=\"M118.242 997.003 L125.88 997.003 L125.88 970.638 L117.57 972.304 L117.57 968.045 L125.834 966.379 L130.51 966.379 L130.51 997.003 L138.149 997.003 L138.149 1000.94 L118.242 1000.94 L118.242 997.003 Z\" fill=\"#000000\" fill-rule=\"evenodd\" fill-opacity=\"1\" /><path clip-path=\"url(#clip430)\" d=\"M121.83 596.424 L138.149 596.424 L138.149 600.359 L116.205 600.359 L116.205 596.424 Q118.867 593.669 123.45 589.04 Q128.056 584.387 129.237 583.044 Q131.482 580.521 132.362 578.785 Q133.265 577.026 133.265 575.336 Q133.265 572.581 131.32 570.845 Q129.399 569.109 126.297 569.109 Q124.098 569.109 121.644 569.873 Q119.214 570.637 116.436 572.188 L116.436 567.466 Q119.26 566.331 121.714 565.753 Q124.168 565.174 126.205 565.174 Q131.575 565.174 134.769 567.859 Q137.964 570.544 137.964 575.035 Q137.964 577.165 137.154 579.086 Q136.367 580.984 134.26 583.577 Q133.681 584.248 130.58 587.465 Q127.478 590.66 121.83 596.424 Z\" fill=\"#000000\" fill-rule=\"evenodd\" fill-opacity=\"1\" /><path clip-path=\"url(#clip430)\" d=\"M131.019 181.145 Q134.376 181.863 136.251 184.131 Q138.149 186.4 138.149 189.733 Q138.149 194.849 134.63 197.65 Q131.112 200.451 124.63 200.451 Q122.455 200.451 120.14 200.011 Q117.848 199.594 115.394 198.738 L115.394 194.224 Q117.339 195.358 119.654 195.937 Q121.968 196.515 124.492 196.515 Q128.89 196.515 131.181 194.779 Q133.496 193.043 133.496 189.733 Q133.496 186.678 131.343 184.965 Q129.214 183.228 125.394 183.228 L121.367 183.228 L121.367 179.386 L125.58 179.386 Q129.029 179.386 130.857 178.02 Q132.686 176.631 132.686 174.039 Q132.686 171.377 130.788 169.965 Q128.913 168.529 125.394 168.529 Q123.473 168.529 121.274 168.946 Q119.075 169.363 116.436 170.242 L116.436 166.076 Q119.098 165.335 121.413 164.965 Q123.751 164.594 125.811 164.594 Q131.135 164.594 134.237 167.025 Q137.339 169.432 137.339 173.553 Q137.339 176.423 135.695 178.414 Q134.052 180.381 131.019 181.145 Z\" fill=\"#000000\" fill-rule=\"evenodd\" fill-opacity=\"1\" /><path clip-path=\"url(#clip430)\" d=\"M29.4065 806.062 L34.9447 806.062 Q33.6716 808.545 33.035 811.219 Q32.3984 813.892 32.3984 816.757 Q32.3984 821.117 33.7352 823.313 Q35.072 825.478 37.7456 825.478 Q39.7826 825.478 40.9603 823.918 Q42.1061 822.358 43.1565 817.648 L43.6021 815.643 Q44.9389 809.404 47.3897 806.794 Q49.8086 804.153 54.1691 804.153 Q59.1344 804.153 62.0308 808.099 Q64.9272 812.014 64.9272 818.889 Q64.9272 821.754 64.3543 824.873 Q63.8132 827.96 62.6992 831.398 L56.6518 831.398 Q58.3387 828.151 59.198 825 Q60.0256 821.849 60.0256 818.762 Q60.0256 814.624 58.6251 812.396 Q57.1929 810.168 54.6147 810.168 Q52.2276 810.168 50.9545 811.791 Q49.6813 813.383 48.5037 818.826 L48.0262 820.863 Q46.8804 826.305 44.5251 828.724 Q42.138 831.143 38.0002 831.143 Q32.9713 831.143 30.2341 827.578 Q27.4968 824.014 27.4968 817.457 Q27.4968 814.21 27.9743 811.346 Q28.4517 808.481 29.4065 806.062 Z\" fill=\"#000000\" fill-rule=\"evenodd\" fill-opacity=\"1\" /><path clip-path=\"url(#clip430)\" d=\"M18.2347 789.034 L28.3562 789.034 L28.3562 776.971 L32.9077 776.971 L32.9077 789.034 L52.2594 789.034 Q56.6199 789.034 57.8613 787.856 Q59.1026 786.647 59.1026 782.987 L59.1026 776.971 L64.0042 776.971 L64.0042 782.987 Q64.0042 789.766 61.4897 792.344 Q58.9434 794.922 52.2594 794.922 L32.9077 794.922 L32.9077 799.219 L28.3562 799.219 L28.3562 794.922 L18.2347 794.922 L18.2347 789.034 Z\" fill=\"#000000\" fill-rule=\"evenodd\" fill-opacity=\"1\" /><path clip-path=\"url(#clip430)\" d=\"M46.0847 753.068 Q46.0847 760.166 47.7079 762.903 Q49.3312 765.64 53.2461 765.64 Q56.3653 765.64 58.2114 763.603 Q60.0256 761.534 60.0256 758.001 Q60.0256 753.131 56.5881 750.203 Q53.1188 747.243 47.3897 747.243 L46.0847 747.243 L46.0847 753.068 M43.6657 741.387 L64.0042 741.387 L64.0042 747.243 L58.5933 747.243 Q61.8398 749.248 63.3994 752.24 Q64.9272 755.232 64.9272 759.561 Q64.9272 765.035 61.8716 768.282 Q58.7843 771.496 53.6281 771.496 Q47.6125 771.496 44.5569 767.486 Q41.5014 763.444 41.5014 755.455 L41.5014 747.243 L40.9285 747.243 Q36.8862 747.243 34.6901 749.917 Q32.4621 752.559 32.4621 757.365 Q32.4621 760.42 33.1941 763.317 Q33.9262 766.213 35.3903 768.887 L29.9795 768.887 Q28.7381 765.672 28.1334 762.648 Q27.4968 759.624 27.4968 756.76 Q27.4968 749.026 31.5072 745.206 Q35.5176 741.387 43.6657 741.387 Z\" fill=\"#000000\" fill-rule=\"evenodd\" fill-opacity=\"1\" /><path clip-path=\"url(#clip430)\" d=\"M18.2347 723.531 L28.3562 723.531 L28.3562 711.468 L32.9077 711.468 L32.9077 723.531 L52.2594 723.531 Q56.6199 723.531 57.8613 722.353 Q59.1026 721.144 59.1026 717.483 L59.1026 711.468 L64.0042 711.468 L64.0042 717.483 Q64.0042 724.263 61.4897 726.841 Q58.9434 729.419 52.2594 729.419 L32.9077 729.419 L32.9077 733.716 L28.3562 733.716 L28.3562 729.419 L18.2347 729.419 L18.2347 723.531 Z\" fill=\"#000000\" fill-rule=\"evenodd\" fill-opacity=\"1\" /><path clip-path=\"url(#clip430)\" d=\"M44.7161 673.274 L47.5806 673.274 L47.5806 700.201 Q53.6281 699.819 56.8109 696.572 Q59.9619 693.294 59.9619 687.469 Q59.9619 684.095 59.1344 680.944 Q58.3069 677.761 56.6518 674.642 L62.1899 674.642 Q63.5267 677.793 64.227 681.103 Q64.9272 684.414 64.9272 687.819 Q64.9272 696.349 59.9619 701.346 Q54.9967 706.312 46.5303 706.312 Q37.7774 706.312 32.6531 701.601 Q27.4968 696.859 27.4968 688.838 Q27.4968 681.645 32.1438 677.475 Q36.7589 673.274 44.7161 673.274 M42.9973 679.13 Q38.1912 679.194 35.3266 681.836 Q32.4621 684.445 32.4621 688.774 Q32.4621 693.676 35.2312 696.636 Q38.0002 699.564 43.0292 700.01 L42.9973 679.13 Z\" fill=\"#000000\" fill-rule=\"evenodd\" fill-opacity=\"1\" /><path clip-path=\"url(#clip430)\" d=\"M29.4065 640.936 L34.9447 640.936 Q33.6716 643.418 33.035 646.092 Q32.3984 648.766 32.3984 651.63 Q32.3984 655.991 33.7352 658.187 Q35.072 660.351 37.7456 660.351 Q39.7826 660.351 40.9603 658.792 Q42.1061 657.232 43.1565 652.521 L43.6021 650.516 Q44.9389 644.278 47.3897 641.668 Q49.8086 639.026 54.1691 639.026 Q59.1344 639.026 62.0308 642.973 Q64.9272 646.888 64.9272 653.763 Q64.9272 656.627 64.3543 659.747 Q63.8132 662.834 62.6992 666.271 L56.6518 666.271 Q58.3387 663.025 59.198 659.874 Q60.0256 656.723 60.0256 653.635 Q60.0256 649.498 58.6251 647.27 Q57.1929 645.042 54.6147 645.042 Q52.2276 645.042 50.9545 646.665 Q49.6813 648.256 48.5037 653.699 L48.0262 655.736 Q46.8804 661.179 44.5251 663.598 Q42.138 666.017 38.0002 666.017 Q32.9713 666.017 30.2341 662.452 Q27.4968 658.887 27.4968 652.33 Q27.4968 649.084 27.9743 646.219 Q28.4517 643.355 29.4065 640.936 Z\" fill=\"#000000\" fill-rule=\"evenodd\" fill-opacity=\"1\" /><polyline clip-path=\"url(#clip432)\" style=\"stroke:#009af9; stroke-linecap:butt; stroke-linejoin:round; stroke-width:4; stroke-opacity:1; fill:none\" points=\"\n  235.808,1384.24 239.918,1383.93 244.029,1383.16 248.139,1382.23 252.25,1381.34 256.361,1380.62 260.471,1380.1 264.582,1379.79 268.692,1379.65 272.803,1379.63 \n  276.913,1379.67 281.024,1379.73 285.135,1379.78 289.245,1379.8 293.356,1379.79 297.466,1379.75 301.577,1379.68 305.687,1379.6 309.798,1379.51 313.909,1379.41 \n  318.019,1379.32 322.13,1379.23 326.24,1379.14 330.351,1379.06 334.462,1378.98 338.572,1378.91 342.683,1378.83 346.793,1378.75 350.904,1378.68 355.014,1378.6 \n  359.125,1378.52 363.236,1378.44 367.346,1378.36 371.457,1378.28 375.567,1378.2 379.678,1378.11 383.788,1378.03 387.899,1377.95 392.01,1377.86 396.12,1377.78 \n  400.231,1377.69 404.341,1377.6 408.452,1377.52 412.563,1377.43 416.673,1377.34 420.784,1377.25 424.894,1377.16 429.005,1377.07 433.115,1376.98 437.226,1376.88 \n  441.337,1376.79 445.447,1376.7 449.558,1376.6 453.668,1376.5 457.779,1376.41 461.889,1376.31 466,1376.21 470.111,1376.11 474.221,1376.01 478.332,1375.91 \n  482.442,1375.81 486.553,1375.7 490.664,1375.6 494.774,1375.49 498.885,1375.39 502.995,1375.28 507.106,1375.17 511.216,1375.06 515.327,1374.95 519.438,1374.84 \n  523.548,1374.72 527.659,1374.61 531.769,1374.49 535.88,1374.38 539.99,1374.26 544.101,1374.14 548.212,1374.02 552.322,1373.9 556.433,1373.78 560.543,1373.65 \n  564.654,1373.53 568.765,1373.4 572.875,1373.27 576.986,1373.14 581.096,1373.01 585.207,1372.88 589.317,1372.74 593.428,1372.61 597.539,1372.47 601.649,1372.33 \n  605.76,1372.19 609.87,1372.05 613.981,1371.91 618.091,1371.77 622.202,1371.62 626.313,1371.47 630.423,1371.32 634.534,1371.17 638.644,1371.02 642.755,1370.87 \n  646.866,1370.71 650.976,1370.55 655.087,1370.39 659.197,1370.23 663.308,1370.07 667.418,1369.91 671.529,1369.74 675.64,1369.57 679.75,1369.4 683.861,1369.23 \n  687.971,1369.06 692.082,1368.88 696.192,1368.7 700.303,1368.52 704.414,1368.34 708.524,1368.16 712.635,1367.97 716.745,1367.78 720.856,1367.59 724.967,1367.4 \n  729.077,1367.21 733.188,1367.01 737.298,1366.81 741.409,1366.61 745.519,1366.41 749.63,1366.2 753.741,1365.99 757.851,1365.78 761.962,1365.57 766.072,1365.35 \n  770.183,1365.14 774.293,1364.92 778.404,1364.69 782.515,1364.47 786.625,1364.24 790.736,1364.01 794.846,1363.78 798.957,1363.54 803.068,1363.3 807.178,1363.06 \n  811.289,1362.82 815.399,1362.57 819.51,1362.32 823.62,1362.07 827.731,1361.82 831.842,1361.56 835.952,1361.3 840.063,1361.03 844.173,1360.77 848.284,1360.5 \n  852.394,1360.23 856.505,1359.95 860.616,1359.67 864.726,1359.39 868.837,1359.1 872.947,1358.81 877.058,1358.52 881.169,1358.23 885.279,1357.93 889.39,1357.63 \n  893.5,1357.32 897.611,1357.01 901.721,1356.7 905.832,1356.38 909.943,1356.06 914.053,1355.74 918.164,1355.41 922.274,1355.08 926.385,1354.75 930.495,1354.41 \n  934.606,1354.07 938.717,1353.72 942.827,1353.37 946.938,1353.02 951.048,1352.66 955.159,1352.3 959.27,1351.93 963.38,1351.56 967.491,1351.18 971.601,1350.8 \n  975.712,1350.42 979.822,1350.03 983.933,1349.64 988.044,1349.24 992.154,1348.84 996.265,1348.44 1000.38,1348.03 1004.49,1347.61 1008.6,1347.19 1012.71,1346.77 \n  1016.82,1346.34 1020.93,1345.9 1025.04,1345.46 1029.15,1345.02 1033.26,1344.57 1037.37,1344.11 1041.48,1343.65 1045.59,1343.19 1049.7,1342.72 1053.81,1342.24 \n  1057.92,1341.76 1062.03,1341.27 1066.14,1340.78 1070.26,1340.28 1074.37,1339.78 1078.48,1339.27 1082.59,1338.75 1086.7,1338.23 1090.81,1337.7 1094.92,1337.17 \n  1099.03,1336.63 1103.14,1336.08 1107.25,1335.53 1111.36,1334.97 1115.47,1334.41 1119.58,1333.84 1123.69,1333.26 1127.8,1332.67 1131.91,1332.08 1136.02,1331.48 \n  1140.14,1330.88 1144.25,1330.27 1148.36,1329.65 1152.47,1329.02 1156.58,1328.39 1160.69,1327.75 1164.8,1327.1 1168.91,1326.45 1173.02,1325.79 1177.13,1325.12 \n  1181.24,1324.44 1185.35,1323.75 1189.46,1323.06 1193.57,1322.36 1197.68,1321.65 1201.79,1320.93 1205.9,1320.2 1210.01,1319.47 1214.13,1318.73 1218.24,1317.98 \n  1222.35,1317.22 1226.46,1316.45 1230.57,1315.67 1234.68,1314.89 1238.79,1314.09 1242.9,1313.29 1247.01,1312.47 1251.12,1311.65 1255.23,1310.82 1259.34,1309.98 \n  1263.45,1309.13 1267.56,1308.27 1271.67,1307.39 1275.78,1306.51 1279.89,1305.62 1284.01,1304.72 1288.12,1303.81 1292.23,1302.89 1296.34,1301.96 1300.45,1301.01 \n  1304.56,1300.06 1308.67,1299.09 1312.78,1298.12 1316.89,1297.13 1321,1296.13 1325.11,1295.12 1329.22,1294.1 1333.33,1293.07 1337.44,1292.02 1341.55,1290.97 \n  1345.66,1289.9 1349.77,1288.82 1353.89,1287.72 1358,1286.62 1362.11,1285.5 1366.22,1284.36 1370.33,1283.22 1374.44,1282.06 1378.55,1280.89 1382.66,1279.71 \n  1386.77,1278.51 1390.88,1277.3 1394.99,1276.07 1399.1,1274.83 1403.21,1273.58 1407.32,1272.31 1411.43,1271.02 1415.54,1269.73 1419.65,1268.41 1423.77,1267.09 \n  1427.88,1265.74 1431.99,1264.39 1436.1,1263.01 1440.21,1261.62 1444.32,1260.22 1448.43,1258.8 1452.54,1257.36 1456.65,1255.9 1460.76,1254.43 1464.87,1252.94 \n  1468.98,1251.44 1473.09,1249.92 1477.2,1248.38 1481.31,1246.82 1485.42,1245.25 1489.53,1243.65 1493.64,1242.04 1497.76,1240.41 1501.87,1238.76 1505.98,1237.09 \n  1510.09,1235.41 1514.2,1233.7 1518.31,1231.98 1522.42,1230.23 1526.53,1228.47 1530.64,1226.68 1534.75,1224.87 1538.86,1223.05 1542.97,1221.2 1547.08,1219.33 \n  1551.19,1217.44 1555.3,1215.53 1559.41,1213.6 1563.52,1211.64 1567.64,1209.66 1571.75,1207.66 1575.86,1205.64 1579.97,1203.59 1584.08,1201.52 1588.19,1199.42 \n  1592.3,1197.31 1596.41,1195.16 1600.52,1193 1604.63,1190.8 1608.74,1188.59 1612.85,1186.34 1616.96,1184.08 1621.07,1181.78 1625.18,1179.46 1629.29,1177.11 \n  1633.4,1174.74 1637.52,1172.34 1641.63,1169.91 1645.74,1167.45 1649.85,1164.97 1653.96,1162.45 1658.07,1159.91 1662.18,1157.34 1666.29,1154.74 1670.4,1152.11 \n  1674.51,1149.45 1678.62,1146.76 1682.73,1144.04 1686.84,1141.28 1690.95,1138.5 1695.06,1135.68 1699.17,1132.83 1703.28,1129.95 1707.39,1127.03 1711.51,1124.09 \n  1715.62,1121.1 1719.73,1118.09 1723.84,1115.04 1727.95,1111.95 1732.06,1108.83 1736.17,1105.67 1740.28,1102.48 1744.39,1099.25 1748.5,1095.98 1752.61,1092.68 \n  1756.72,1089.34 1760.83,1085.96 1764.94,1082.54 1769.05,1079.08 1773.16,1075.58 1777.27,1072.04 1781.39,1068.47 1785.5,1064.85 1789.61,1061.19 1793.72,1057.48 \n  1797.83,1053.74 1801.94,1049.95 1806.05,1046.12 1810.16,1042.24 1814.27,1038.32 1818.38,1034.36 1822.49,1030.35 1826.6,1026.29 1830.71,1022.19 1834.82,1018.04 \n  1838.93,1013.84 1843.04,1009.59 1847.15,1005.3 1851.27,1000.95 1855.38,996.56 1859.49,992.116 1863.6,987.621 1867.71,983.075 1871.82,978.476 1875.93,973.825 \n  1880.04,969.12 1884.15,964.362 1888.26,959.549 1892.37,954.681 1896.48,949.756 1900.59,944.776 1904.7,939.738 1908.81,934.643 1912.92,929.489 1917.03,924.276 \n  1921.15,919.004 1925.26,913.67 1929.37,908.276 1933.48,902.82 1937.59,897.301 1941.7,891.719 1945.81,886.073 1949.92,880.363 1954.03,874.587 1958.14,868.744 \n  1962.25,862.835 1966.36,856.858 1970.47,850.812 1974.58,844.697 1978.69,838.512 1982.8,832.256 1986.91,825.928 1991.02,819.527 1995.14,813.054 1999.25,806.506 \n  2003.36,799.883 2007.47,793.184 2011.58,786.408 2015.69,779.554 2019.8,772.622 2023.91,765.61 2028.02,758.518 2032.13,751.345 2036.24,744.089 2040.35,736.75 \n  2044.46,729.327 2048.57,721.819 2052.68,714.224 2056.79,706.543 2060.9,698.773 2065.02,690.915 2069.13,682.966 2073.24,674.926 2077.35,666.794 2081.46,658.568 \n  2085.57,650.248 2089.68,641.833 2093.79,633.321 2097.9,624.712 2102.01,616.003 2106.12,607.195 2110.23,598.286 2114.34,589.275 2118.45,580.16 2122.56,570.94 \n  2126.67,561.615 2130.78,552.183 2134.9,542.643 2139.01,532.993 2143.12,523.232 2147.23,513.36 2151.34,503.374 2155.45,493.274 2159.56,483.057 2163.67,472.724 \n  2167.78,462.272 2171.89,451.699 2176,441.006 2180.11,430.19 2184.22,419.249 2188.33,408.184 2192.44,396.991 2196.55,385.669 2200.66,374.218 2204.78,362.635 \n  2208.89,350.919 2213,339.069 2217.11,327.083 2221.22,314.959 2225.33,302.695 2229.44,290.291 2233.55,277.745 2237.66,265.055 2241.77,252.218 2245.88,239.235 \n  2249.99,226.102 2254.1,212.819 2258.21,199.382 2262.32,185.792 2266.43,172.046 2270.54,158.141 2274.65,144.077 2278.77,129.851 2282.88,115.462 2286.99,100.907 \n  2291.1,86.1857 \n  \"/>\n<polyline clip-path=\"url(#clip432)\" style=\"stroke:#e26f46; stroke-linecap:butt; stroke-linejoin:round; stroke-width:4; stroke-opacity:1; fill:none\" points=\"\n  235.808,132.772 239.918,132.181 244.029,130.733 248.139,128.997 252.25,127.376 256.361,126.101 260.471,125.257 264.582,124.825 268.692,124.723 272.803,124.845 \n  276.913,125.086 281.024,125.361 285.135,125.613 289.245,125.807 293.356,125.934 297.466,125.999 301.577,126.015 305.687,125.998 309.798,125.965 313.909,125.928 \n  318.019,125.896 322.13,125.873 326.24,125.86 330.351,125.856 334.462,125.86 338.572,125.868 342.683,125.879 346.793,125.889 350.904,125.899 355.014,125.908 \n  359.125,125.915 363.236,125.92 367.346,125.924 371.457,125.928 375.567,125.931 379.678,125.935 383.788,125.938 387.899,125.942 392.01,125.945 396.12,125.949 \n  400.231,125.954 404.341,125.958 408.452,125.962 412.563,125.966 416.673,125.971 420.784,125.975 424.894,125.979 429.005,125.983 433.115,125.987 437.226,125.992 \n  441.337,125.996 445.447,126 449.558,126.004 453.668,126.008 457.779,126.012 461.889,126.016 466,126.021 470.111,126.025 474.221,126.029 478.332,126.033 \n  482.442,126.037 486.553,126.042 490.664,126.046 494.774,126.05 498.885,126.054 502.995,126.059 507.106,126.063 511.216,126.067 515.327,126.072 519.438,126.076 \n  523.548,126.08 527.659,126.085 531.769,126.089 535.88,126.094 539.99,126.098 544.101,126.103 548.212,126.107 552.322,126.112 556.433,126.117 560.543,126.121 \n  564.654,126.126 568.765,126.131 572.875,126.136 576.986,126.14 581.096,126.145 585.207,126.15 589.317,126.155 593.428,126.16 597.539,126.165 601.649,126.17 \n  605.76,126.175 609.87,126.18 613.981,126.185 618.091,126.19 622.202,126.196 626.313,126.201 630.423,126.206 634.534,126.212 638.644,126.217 642.755,126.223 \n  646.866,126.228 650.976,126.234 655.087,126.239 659.197,126.245 663.308,126.251 667.418,126.257 671.529,126.263 675.64,126.268 679.75,126.274 683.861,126.28 \n  687.971,126.287 692.082,126.293 696.192,126.299 700.303,126.305 704.414,126.312 708.524,126.318 712.635,126.324 716.745,126.331 720.856,126.338 724.967,126.344 \n  729.077,126.351 733.188,126.358 737.298,126.365 741.409,126.372 745.519,126.379 749.63,126.386 753.741,126.393 757.851,126.4 761.962,126.407 766.072,126.415 \n  770.183,126.422 774.293,126.43 778.404,126.438 782.515,126.445 786.625,126.453 790.736,126.461 794.846,126.469 798.957,126.477 803.068,126.485 807.178,126.493 \n  811.289,126.502 815.399,126.51 819.51,126.519 823.62,126.527 827.731,126.536 831.842,126.545 835.952,126.554 840.063,126.563 844.173,126.572 848.284,126.581 \n  852.394,126.59 856.505,126.6 860.616,126.609 864.726,126.619 868.837,126.629 872.947,126.639 877.058,126.649 881.169,126.659 885.279,126.669 889.39,126.679 \n  893.5,126.689 897.611,126.7 901.721,126.711 905.832,126.721 909.943,126.732 914.053,126.743 918.164,126.754 922.274,126.766 926.385,126.777 930.495,126.788 \n  934.606,126.8 938.717,126.812 942.827,126.824 946.938,126.836 951.048,126.848 955.159,126.86 959.27,126.873 963.38,126.885 967.491,126.898 971.601,126.911 \n  975.712,126.924 979.822,126.937 983.933,126.95 988.044,126.964 992.154,126.977 996.265,126.991 1000.38,127.005 1004.49,127.019 1008.6,127.034 1012.71,127.048 \n  1016.82,127.063 1020.93,127.077 1025.04,127.092 1029.15,127.107 1033.26,127.122 1037.37,127.138 1041.48,127.154 1045.59,127.169 1049.7,127.185 1053.81,127.201 \n  1057.92,127.218 1062.03,127.234 1066.14,127.251 1070.26,127.268 1074.37,127.285 1078.48,127.302 1082.59,127.32 1086.7,127.337 1090.81,127.355 1094.92,127.373 \n  1099.03,127.392 1103.14,127.41 1107.25,127.429 1111.36,127.448 1115.47,127.467 1119.58,127.486 1123.69,127.506 1127.8,127.526 1131.91,127.546 1136.02,127.566 \n  1140.14,127.586 1144.25,127.607 1148.36,127.628 1152.47,127.649 1156.58,127.671 1160.69,127.692 1164.8,127.714 1168.91,127.736 1173.02,127.759 1177.13,127.782 \n  1181.24,127.805 1185.35,127.828 1189.46,127.851 1193.57,127.875 1197.68,127.899 1201.79,127.923 1205.9,127.948 1210.01,127.973 1214.13,127.998 1218.24,128.023 \n  1222.35,128.049 1226.46,128.075 1230.57,128.101 1234.68,128.128 1238.79,128.155 1242.9,128.182 1247.01,128.21 1251.12,128.238 1255.23,128.266 1259.34,128.294 \n  1263.45,128.323 1267.56,128.352 1271.67,128.382 1275.78,128.412 1279.89,128.442 1284.01,128.472 1288.12,128.503 1292.23,128.534 1296.34,128.566 1300.45,128.598 \n  1304.56,128.63 1308.67,128.663 1312.78,128.696 1316.89,128.729 1321,128.763 1325.11,128.797 1329.22,128.832 1333.33,128.867 1337.44,128.902 1341.55,128.938 \n  1345.66,128.974 1349.77,129.011 1353.89,129.048 1358,129.085 1362.11,129.123 1366.22,129.162 1370.33,129.2 1374.44,129.24 1378.55,129.279 1382.66,129.319 \n  1386.77,129.36 1390.88,129.401 1394.99,129.442 1399.1,129.484 1403.21,129.527 1407.32,129.57 1411.43,129.613 1415.54,129.657 1419.65,129.702 1423.77,129.747 \n  1427.88,129.792 1431.99,129.838 1436.1,129.885 1440.21,129.932 1444.32,129.979 1448.43,130.027 1452.54,130.076 1456.65,130.125 1460.76,130.175 1464.87,130.225 \n  1468.98,130.276 1473.09,130.328 1477.2,130.38 1481.31,130.433 1485.42,130.486 1489.53,130.54 1493.64,130.595 1497.76,130.65 1501.87,130.706 1505.98,130.762 \n  1510.09,130.819 1514.2,130.877 1518.31,130.935 1522.42,130.994 1526.53,131.054 1530.64,131.115 1534.75,131.176 1538.86,131.238 1542.97,131.3 1547.08,131.363 \n  1551.19,131.427 1555.3,131.492 1559.41,131.558 1563.52,131.624 1567.64,131.691 1571.75,131.759 1575.86,131.827 1579.97,131.896 1584.08,131.967 1588.19,132.037 \n  1592.3,132.109 1596.41,132.182 1600.52,132.255 1604.63,132.329 1608.74,132.404 1612.85,132.48 1616.96,132.557 1621.07,132.635 1625.18,132.713 1629.29,132.793 \n  1633.4,132.873 1637.52,132.955 1641.63,133.037 1645.74,133.12 1649.85,133.204 1653.96,133.289 1658.07,133.375 1662.18,133.462 1666.29,133.55 1670.4,133.639 \n  1674.51,133.729 1678.62,133.821 1682.73,133.913 1686.84,134.006 1690.95,134.1 1695.06,134.196 1699.17,134.292 1703.28,134.39 1707.39,134.488 1711.51,134.588 \n  1715.62,134.689 1719.73,134.791 1723.84,134.894 1727.95,134.999 1732.06,135.105 1736.17,135.211 1740.28,135.32 1744.39,135.429 1748.5,135.54 1752.61,135.651 \n  1756.72,135.765 1760.83,135.879 1764.94,135.995 1769.05,136.112 1773.16,136.23 1777.27,136.35 1781.39,136.471 1785.5,136.594 1789.61,136.718 1793.72,136.843 \n  1797.83,136.97 1801.94,137.098 1806.05,137.228 1810.16,137.359 1814.27,137.492 1818.38,137.626 1822.49,137.762 1826.6,137.899 1830.71,138.038 1834.82,138.178 \n  1838.93,138.32 1843.04,138.464 1847.15,138.61 1851.27,138.757 1855.38,138.905 1859.49,139.056 1863.6,139.208 1867.71,139.362 1871.82,139.518 1875.93,139.675 \n  1880.04,139.834 1884.15,139.995 1888.26,140.158 1892.37,140.323 1896.48,140.49 1900.59,140.658 1904.7,140.829 1908.81,141.001 1912.92,141.176 1917.03,141.352 \n  1921.15,141.531 1925.26,141.711 1929.37,141.894 1933.48,142.078 1937.59,142.265 1941.7,142.454 1945.81,142.645 1949.92,142.839 1954.03,143.034 1958.14,143.232 \n  1962.25,143.432 1966.36,143.634 1970.47,143.839 1974.58,144.046 1978.69,144.255 1982.8,144.467 1986.91,144.681 1991.02,144.898 1995.14,145.117 1999.25,145.338 \n  2003.36,145.563 2007.47,145.789 2011.58,146.019 2015.69,146.25 2019.8,146.485 2023.91,146.722 2028.02,146.962 2032.13,147.205 2036.24,147.451 2040.35,147.699 \n  2044.46,147.95 2048.57,148.204 2052.68,148.461 2056.79,148.721 2060.9,148.984 2065.02,149.25 2069.13,149.519 2073.24,149.791 2077.35,150.066 2081.46,150.345 \n  2085.57,150.626 2089.68,150.911 2093.79,151.199 2097.9,151.49 2102.01,151.785 2106.12,152.083 2110.23,152.384 2114.34,152.689 2118.45,152.997 2122.56,153.309 \n  2126.67,153.625 2130.78,153.944 2134.9,154.267 2139.01,154.593 2143.12,154.923 2147.23,155.257 2151.34,155.595 2155.45,155.937 2159.56,156.282 2163.67,156.632 \n  2167.78,156.985 2171.89,157.343 2176,157.705 2180.11,158.07 2184.22,158.44 2188.33,158.815 2192.44,159.193 2196.55,159.576 2200.66,159.963 2204.78,160.355 \n  2208.89,160.751 2213,161.152 2217.11,161.557 2221.22,161.967 2225.33,162.382 2229.44,162.801 2233.55,163.225 2237.66,163.654 2241.77,164.088 2245.88,164.527 \n  2249.99,164.971 2254.1,165.42 2258.21,165.874 2262.32,166.333 2266.43,166.798 2270.54,167.268 2274.65,167.743 2278.77,168.224 2282.88,168.71 2286.99,169.202 \n  2291.1,169.699 \n  \"/>\n<path clip-path=\"url(#clip430)\" d=\"\nM246.769 787.052 L513.975 787.052 L513.975 631.532 L246.769 631.532  Z\n  \" fill=\"#ffffff\" fill-rule=\"evenodd\" fill-opacity=\"1\"/>\n<polyline clip-path=\"url(#clip430)\" style=\"stroke:#000000; stroke-linecap:butt; stroke-linejoin:round; stroke-width:4; stroke-opacity:1; fill:none\" points=\"\n  246.769,787.052 513.975,787.052 513.975,631.532 246.769,631.532 246.769,787.052 \n  \"/>\n<polyline clip-path=\"url(#clip430)\" style=\"stroke:#009af9; stroke-linecap:butt; stroke-linejoin:round; stroke-width:4; stroke-opacity:1; fill:none\" points=\"\n  270.976,683.372 416.216,683.372 \n  \"/>\n<path clip-path=\"url(#clip430)\" d=\"M465.076 674.726 L455.701 687.342 L465.562 700.652 L460.539 700.652 L452.992 690.467 L445.446 700.652 L440.423 700.652 L450.492 687.087 L441.28 674.726 L446.303 674.726 L453.178 683.962 L460.053 674.726 L465.076 674.726 Z\" fill=\"#000000\" fill-rule=\"evenodd\" fill-opacity=\"1\" /><polyline clip-path=\"url(#clip430)\" style=\"stroke:#e26f46; stroke-linecap:butt; stroke-linejoin:round; stroke-width:4; stroke-opacity:1; fill:none\" points=\"\n  270.976,735.212 416.216,735.212 \n  \"/>\n<path clip-path=\"url(#clip430)\" d=\"M459.682 736.057 L444.937 736.057 Q445.284 742.978 446.881 745.918 Q448.872 749.529 452.321 749.529 Q455.793 749.529 457.715 745.895 Q459.404 742.7 459.682 736.057 M459.613 732.122 Q458.965 725.548 457.715 723.233 Q455.724 719.575 452.321 719.575 Q448.78 719.575 446.905 723.187 Q445.423 726.103 444.983 732.122 L459.613 732.122 M452.321 716.103 Q457.877 716.103 461.048 721.011 Q464.219 725.895 464.219 734.552 Q464.219 743.186 461.048 748.094 Q457.877 753.024 452.321 753.024 Q446.743 753.024 443.594 748.094 Q440.423 743.186 440.423 734.552 Q440.423 725.895 443.594 721.011 Q446.743 716.103 452.321 716.103 Z\" fill=\"#000000\" fill-rule=\"evenodd\" fill-opacity=\"1\" /></svg>\n",
      "text/html": [
       "<?xml version=\"1.0\" encoding=\"utf-8\"?>\n",
       "<svg xmlns=\"http://www.w3.org/2000/svg\" xmlns:xlink=\"http://www.w3.org/1999/xlink\" width=\"600\" height=\"400\" viewBox=\"0 0 2400 1600\">\n",
       "<defs>\n",
       "  <clipPath id=\"clip480\">\n",
       "    <rect x=\"0\" y=\"0\" width=\"2400\" height=\"1600\"/>\n",
       "  </clipPath>\n",
       "</defs>\n",
       "<path clip-path=\"url(#clip480)\" d=\"\n",
       "M0 1600 L2400 1600 L2400 0 L0 0  Z\n",
       "  \" fill=\"#ffffff\" fill-rule=\"evenodd\" fill-opacity=\"1\"/>\n",
       "<defs>\n",
       "  <clipPath id=\"clip481\">\n",
       "    <rect x=\"480\" y=\"0\" width=\"1681\" height=\"1600\"/>\n",
       "  </clipPath>\n",
       "</defs>\n",
       "<path clip-path=\"url(#clip480)\" d=\"\n",
       "M174.149 1423.18 L2352.76 1423.18 L2352.76 47.2441 L174.149 47.2441  Z\n",
       "  \" fill=\"#ffffff\" fill-rule=\"evenodd\" fill-opacity=\"1\"/>\n",
       "<defs>\n",
       "  <clipPath id=\"clip482\">\n",
       "    <rect x=\"174\" y=\"47\" width=\"2180\" height=\"1377\"/>\n",
       "  </clipPath>\n",
       "</defs>\n",
       "<polyline clip-path=\"url(#clip482)\" style=\"stroke:#000000; stroke-linecap:butt; stroke-linejoin:round; stroke-width:2; stroke-opacity:0.1; fill:none\" points=\"\n",
       "  235.808,1423.18 235.808,47.2441 \n",
       "  \"/>\n",
       "<polyline clip-path=\"url(#clip482)\" style=\"stroke:#000000; stroke-linecap:butt; stroke-linejoin:round; stroke-width:2; stroke-opacity:0.1; fill:none\" points=\"\n",
       "  749.63,1423.18 749.63,47.2441 \n",
       "  \"/>\n",
       "<polyline clip-path=\"url(#clip482)\" style=\"stroke:#000000; stroke-linecap:butt; stroke-linejoin:round; stroke-width:2; stroke-opacity:0.1; fill:none\" points=\"\n",
       "  1263.45,1423.18 1263.45,47.2441 \n",
       "  \"/>\n",
       "<polyline clip-path=\"url(#clip482)\" style=\"stroke:#000000; stroke-linecap:butt; stroke-linejoin:round; stroke-width:2; stroke-opacity:0.1; fill:none\" points=\"\n",
       "  1777.27,1423.18 1777.27,47.2441 \n",
       "  \"/>\n",
       "<polyline clip-path=\"url(#clip482)\" style=\"stroke:#000000; stroke-linecap:butt; stroke-linejoin:round; stroke-width:2; stroke-opacity:0.1; fill:none\" points=\"\n",
       "  2291.1,1423.18 2291.1,47.2441 \n",
       "  \"/>\n",
       "<polyline clip-path=\"url(#clip480)\" style=\"stroke:#000000; stroke-linecap:butt; stroke-linejoin:round; stroke-width:4; stroke-opacity:1; fill:none\" points=\"\n",
       "  174.149,1423.18 2352.76,1423.18 \n",
       "  \"/>\n",
       "<polyline clip-path=\"url(#clip480)\" style=\"stroke:#000000; stroke-linecap:butt; stroke-linejoin:round; stroke-width:4; stroke-opacity:1; fill:none\" points=\"\n",
       "  235.808,1423.18 235.808,1404.28 \n",
       "  \"/>\n",
       "<polyline clip-path=\"url(#clip480)\" style=\"stroke:#000000; stroke-linecap:butt; stroke-linejoin:round; stroke-width:4; stroke-opacity:1; fill:none\" points=\"\n",
       "  749.63,1423.18 749.63,1404.28 \n",
       "  \"/>\n",
       "<polyline clip-path=\"url(#clip480)\" style=\"stroke:#000000; stroke-linecap:butt; stroke-linejoin:round; stroke-width:4; stroke-opacity:1; fill:none\" points=\"\n",
       "  1263.45,1423.18 1263.45,1404.28 \n",
       "  \"/>\n",
       "<polyline clip-path=\"url(#clip480)\" style=\"stroke:#000000; stroke-linecap:butt; stroke-linejoin:round; stroke-width:4; stroke-opacity:1; fill:none\" points=\"\n",
       "  1777.27,1423.18 1777.27,1404.28 \n",
       "  \"/>\n",
       "<polyline clip-path=\"url(#clip480)\" style=\"stroke:#000000; stroke-linecap:butt; stroke-linejoin:round; stroke-width:4; stroke-opacity:1; fill:none\" points=\"\n",
       "  2291.1,1423.18 2291.1,1404.28 \n",
       "  \"/>\n",
       "<path clip-path=\"url(#clip480)\" d=\"M213.192 1454.1 Q209.581 1454.1 207.752 1457.66 Q205.947 1461.2 205.947 1468.33 Q205.947 1475.44 207.752 1479.01 Q209.581 1482.55 213.192 1482.55 Q216.826 1482.55 218.632 1479.01 Q220.46 1475.44 220.46 1468.33 Q220.46 1461.2 218.632 1457.66 Q216.826 1454.1 213.192 1454.1 M213.192 1450.39 Q219.002 1450.39 222.058 1455 Q225.136 1459.58 225.136 1468.33 Q225.136 1477.06 222.058 1481.67 Q219.002 1486.25 213.192 1486.25 Q207.382 1486.25 204.303 1481.67 Q201.248 1477.06 201.248 1468.33 Q201.248 1459.58 204.303 1455 Q207.382 1450.39 213.192 1450.39 Z\" fill=\"#000000\" fill-rule=\"evenodd\" fill-opacity=\"1\" /><path clip-path=\"url(#clip480)\" d=\"M233.354 1479.7 L238.238 1479.7 L238.238 1485.58 L233.354 1485.58 L233.354 1479.7 Z\" fill=\"#000000\" fill-rule=\"evenodd\" fill-opacity=\"1\" /><path clip-path=\"url(#clip480)\" d=\"M258.423 1454.1 Q254.812 1454.1 252.983 1457.66 Q251.178 1461.2 251.178 1468.33 Q251.178 1475.44 252.983 1479.01 Q254.812 1482.55 258.423 1482.55 Q262.057 1482.55 263.863 1479.01 Q265.692 1475.44 265.692 1468.33 Q265.692 1461.2 263.863 1457.66 Q262.057 1454.1 258.423 1454.1 M258.423 1450.39 Q264.233 1450.39 267.289 1455 Q270.368 1459.58 270.368 1468.33 Q270.368 1477.06 267.289 1481.67 Q264.233 1486.25 258.423 1486.25 Q252.613 1486.25 249.534 1481.67 Q246.479 1477.06 246.479 1468.33 Q246.479 1459.58 249.534 1455 Q252.613 1450.39 258.423 1450.39 Z\" fill=\"#000000\" fill-rule=\"evenodd\" fill-opacity=\"1\" /><path clip-path=\"url(#clip480)\" d=\"M721.366 1481.64 L737.686 1481.64 L737.686 1485.58 L715.741 1485.58 L715.741 1481.64 Q718.403 1478.89 722.987 1474.26 Q727.593 1469.61 728.774 1468.27 Q731.019 1465.74 731.899 1464.01 Q732.801 1462.25 732.801 1460.56 Q732.801 1457.8 730.857 1456.07 Q728.936 1454.33 725.834 1454.33 Q723.635 1454.33 721.181 1455.09 Q718.751 1455.86 715.973 1457.41 L715.973 1452.69 Q718.797 1451.55 721.251 1450.97 Q723.704 1450.39 725.741 1450.39 Q731.112 1450.39 734.306 1453.08 Q737.5 1455.77 737.5 1460.26 Q737.5 1462.39 736.69 1464.31 Q735.903 1466.2 733.797 1468.8 Q733.218 1469.47 730.116 1472.69 Q727.014 1475.88 721.366 1481.64 Z\" fill=\"#000000\" fill-rule=\"evenodd\" fill-opacity=\"1\" /><path clip-path=\"url(#clip480)\" d=\"M747.5 1479.7 L752.385 1479.7 L752.385 1485.58 L747.5 1485.58 L747.5 1479.7 Z\" fill=\"#000000\" fill-rule=\"evenodd\" fill-opacity=\"1\" /><path clip-path=\"url(#clip480)\" d=\"M762.616 1451.02 L780.972 1451.02 L780.972 1454.96 L766.898 1454.96 L766.898 1463.43 Q767.917 1463.08 768.935 1462.92 Q769.954 1462.73 770.972 1462.73 Q776.759 1462.73 780.139 1465.9 Q783.519 1469.08 783.519 1474.49 Q783.519 1480.07 780.047 1483.17 Q776.574 1486.25 770.255 1486.25 Q768.079 1486.25 765.81 1485.88 Q763.565 1485.51 761.158 1484.77 L761.158 1480.07 Q763.241 1481.2 765.463 1481.76 Q767.685 1482.32 770.162 1482.32 Q774.167 1482.32 776.505 1480.21 Q778.843 1478.1 778.843 1474.49 Q778.843 1470.88 776.505 1468.77 Q774.167 1466.67 770.162 1466.67 Q768.287 1466.67 766.412 1467.08 Q764.56 1467.5 762.616 1468.38 L762.616 1451.02 Z\" fill=\"#000000\" fill-rule=\"evenodd\" fill-opacity=\"1\" /><path clip-path=\"url(#clip480)\" d=\"M1230.62 1451.02 L1248.97 1451.02 L1248.97 1454.96 L1234.9 1454.96 L1234.9 1463.43 Q1235.92 1463.08 1236.94 1462.92 Q1237.95 1462.73 1238.97 1462.73 Q1244.76 1462.73 1248.14 1465.9 Q1251.52 1469.08 1251.52 1474.49 Q1251.52 1480.07 1248.05 1483.17 Q1244.58 1486.25 1238.26 1486.25 Q1236.08 1486.25 1233.81 1485.88 Q1231.57 1485.51 1229.16 1484.77 L1229.16 1480.07 Q1231.24 1481.2 1233.46 1481.76 Q1235.69 1482.32 1238.16 1482.32 Q1242.17 1482.32 1244.51 1480.21 Q1246.84 1478.1 1246.84 1474.49 Q1246.84 1470.88 1244.51 1468.77 Q1242.17 1466.67 1238.16 1466.67 Q1236.29 1466.67 1234.41 1467.08 Q1232.56 1467.5 1230.62 1468.38 L1230.62 1451.02 Z\" fill=\"#000000\" fill-rule=\"evenodd\" fill-opacity=\"1\" /><path clip-path=\"url(#clip480)\" d=\"M1260.73 1479.7 L1265.62 1479.7 L1265.62 1485.58 L1260.73 1485.58 L1260.73 1479.7 Z\" fill=\"#000000\" fill-rule=\"evenodd\" fill-opacity=\"1\" /><path clip-path=\"url(#clip480)\" d=\"M1285.8 1454.1 Q1282.19 1454.1 1280.36 1457.66 Q1278.56 1461.2 1278.56 1468.33 Q1278.56 1475.44 1280.36 1479.01 Q1282.19 1482.55 1285.8 1482.55 Q1289.44 1482.55 1291.24 1479.01 Q1293.07 1475.44 1293.07 1468.33 Q1293.07 1461.2 1291.24 1457.66 Q1289.44 1454.1 1285.8 1454.1 M1285.8 1450.39 Q1291.61 1450.39 1294.67 1455 Q1297.75 1459.58 1297.75 1468.33 Q1297.75 1477.06 1294.67 1481.67 Q1291.61 1486.25 1285.8 1486.25 Q1279.99 1486.25 1276.91 1481.67 Q1273.86 1477.06 1273.86 1468.33 Q1273.86 1459.58 1276.91 1455 Q1279.99 1450.39 1285.8 1450.39 Z\" fill=\"#000000\" fill-rule=\"evenodd\" fill-opacity=\"1\" /><path clip-path=\"url(#clip480)\" d=\"M1743.59 1451.02 L1765.82 1451.02 L1765.82 1453.01 L1753.27 1485.58 L1748.39 1485.58 L1760.19 1454.96 L1743.59 1454.96 L1743.59 1451.02 Z\" fill=\"#000000\" fill-rule=\"evenodd\" fill-opacity=\"1\" /><path clip-path=\"url(#clip480)\" d=\"M1774.94 1479.7 L1779.82 1479.7 L1779.82 1485.58 L1774.94 1485.58 L1774.94 1479.7 Z\" fill=\"#000000\" fill-rule=\"evenodd\" fill-opacity=\"1\" /><path clip-path=\"url(#clip480)\" d=\"M1790.05 1451.02 L1808.41 1451.02 L1808.41 1454.96 L1794.33 1454.96 L1794.33 1463.43 Q1795.35 1463.08 1796.37 1462.92 Q1797.39 1462.73 1798.41 1462.73 Q1804.2 1462.73 1807.58 1465.9 Q1810.96 1469.08 1810.96 1474.49 Q1810.96 1480.07 1807.48 1483.17 Q1804.01 1486.25 1797.69 1486.25 Q1795.52 1486.25 1793.25 1485.88 Q1791 1485.51 1788.59 1484.77 L1788.59 1480.07 Q1790.68 1481.2 1792.9 1481.76 Q1795.12 1482.32 1797.6 1482.32 Q1801.6 1482.32 1803.94 1480.21 Q1806.28 1478.1 1806.28 1474.49 Q1806.28 1470.88 1803.94 1468.77 Q1801.6 1466.67 1797.6 1466.67 Q1795.72 1466.67 1793.85 1467.08 Q1792 1467.5 1790.05 1468.38 L1790.05 1451.02 Z\" fill=\"#000000\" fill-rule=\"evenodd\" fill-opacity=\"1\" /><path clip-path=\"url(#clip480)\" d=\"M2243.17 1481.64 L2250.81 1481.64 L2250.81 1455.28 L2242.5 1456.95 L2242.5 1452.69 L2250.76 1451.02 L2255.44 1451.02 L2255.44 1481.64 L2263.08 1481.64 L2263.08 1485.58 L2243.17 1485.58 L2243.17 1481.64 Z\" fill=\"#000000\" fill-rule=\"evenodd\" fill-opacity=\"1\" /><path clip-path=\"url(#clip480)\" d=\"M2282.52 1454.1 Q2278.91 1454.1 2277.08 1457.66 Q2275.28 1461.2 2275.28 1468.33 Q2275.28 1475.44 2277.08 1479.01 Q2278.91 1482.55 2282.52 1482.55 Q2286.16 1482.55 2287.96 1479.01 Q2289.79 1475.44 2289.79 1468.33 Q2289.79 1461.2 2287.96 1457.66 Q2286.16 1454.1 2282.52 1454.1 M2282.52 1450.39 Q2288.33 1450.39 2291.39 1455 Q2294.47 1459.58 2294.47 1468.33 Q2294.47 1477.06 2291.39 1481.67 Q2288.33 1486.25 2282.52 1486.25 Q2276.71 1486.25 2273.63 1481.67 Q2270.58 1477.06 2270.58 1468.33 Q2270.58 1459.58 2273.63 1455 Q2276.71 1450.39 2282.52 1450.39 Z\" fill=\"#000000\" fill-rule=\"evenodd\" fill-opacity=\"1\" /><path clip-path=\"url(#clip480)\" d=\"M2302.68 1479.7 L2307.57 1479.7 L2307.57 1485.58 L2302.68 1485.58 L2302.68 1479.7 Z\" fill=\"#000000\" fill-rule=\"evenodd\" fill-opacity=\"1\" /><path clip-path=\"url(#clip480)\" d=\"M2327.75 1454.1 Q2324.14 1454.1 2322.31 1457.66 Q2320.51 1461.2 2320.51 1468.33 Q2320.51 1475.44 2322.31 1479.01 Q2324.14 1482.55 2327.75 1482.55 Q2331.39 1482.55 2333.19 1479.01 Q2335.02 1475.44 2335.02 1468.33 Q2335.02 1461.2 2333.19 1457.66 Q2331.39 1454.1 2327.75 1454.1 M2327.75 1450.39 Q2333.56 1450.39 2336.62 1455 Q2339.7 1459.58 2339.7 1468.33 Q2339.7 1477.06 2336.62 1481.67 Q2333.56 1486.25 2327.75 1486.25 Q2321.94 1486.25 2318.86 1481.67 Q2315.81 1477.06 2315.81 1468.33 Q2315.81 1459.58 2318.86 1455 Q2321.94 1450.39 2327.75 1450.39 Z\" fill=\"#000000\" fill-rule=\"evenodd\" fill-opacity=\"1\" /><path clip-path=\"url(#clip480)\" d=\"M1150.91 1522.27 L1150.91 1532.4 L1162.97 1532.4 L1162.97 1536.95 L1150.91 1536.95 L1150.91 1556.3 Q1150.91 1560.66 1152.08 1561.9 Q1153.29 1563.14 1156.95 1563.14 L1162.97 1563.14 L1162.97 1568.04 L1156.95 1568.04 Q1150.17 1568.04 1147.6 1565.53 Q1145.02 1562.98 1145.02 1556.3 L1145.02 1536.95 L1140.72 1536.95 L1140.72 1532.4 L1145.02 1532.4 L1145.02 1522.27 L1150.91 1522.27 Z\" fill=\"#000000\" fill-rule=\"evenodd\" fill-opacity=\"1\" /><path clip-path=\"url(#clip480)\" d=\"M1170.67 1532.4 L1176.53 1532.4 L1176.53 1568.04 L1170.67 1568.04 L1170.67 1532.4 M1170.67 1518.52 L1176.53 1518.52 L1176.53 1525.93 L1170.67 1525.93 L1170.67 1518.52 Z\" fill=\"#000000\" fill-rule=\"evenodd\" fill-opacity=\"1\" /><path clip-path=\"url(#clip480)\" d=\"M1216.54 1539.24 Q1218.73 1535.29 1221.79 1533.41 Q1224.84 1531.54 1228.98 1531.54 Q1234.55 1531.54 1237.58 1535.45 Q1240.6 1539.33 1240.6 1546.53 L1240.6 1568.04 L1234.71 1568.04 L1234.71 1546.72 Q1234.71 1541.59 1232.9 1539.11 Q1231.08 1536.63 1227.36 1536.63 Q1222.81 1536.63 1220.17 1539.65 Q1217.52 1542.68 1217.52 1547.9 L1217.52 1568.04 L1211.64 1568.04 L1211.64 1546.72 Q1211.64 1541.56 1209.82 1539.11 Q1208.01 1536.63 1204.22 1536.63 Q1199.73 1536.63 1197.09 1539.68 Q1194.45 1542.71 1194.45 1547.9 L1194.45 1568.04 L1188.56 1568.04 L1188.56 1532.4 L1194.45 1532.4 L1194.45 1537.93 Q1196.45 1534.66 1199.25 1533.1 Q1202.06 1531.54 1205.91 1531.54 Q1209.79 1531.54 1212.49 1533.51 Q1215.23 1535.48 1216.54 1539.24 Z\" fill=\"#000000\" fill-rule=\"evenodd\" fill-opacity=\"1\" /><path clip-path=\"url(#clip480)\" d=\"M1282.77 1548.76 L1282.77 1551.62 L1255.85 1551.62 Q1256.23 1557.67 1259.47 1560.85 Q1262.75 1564 1268.58 1564 Q1271.95 1564 1275.1 1563.17 Q1278.28 1562.35 1281.4 1560.69 L1281.4 1566.23 Q1278.25 1567.57 1274.94 1568.27 Q1271.63 1568.97 1268.23 1568.97 Q1259.7 1568.97 1254.7 1564 Q1249.73 1559.04 1249.73 1550.57 Q1249.73 1541.82 1254.44 1536.69 Q1259.19 1531.54 1267.21 1531.54 Q1274.4 1531.54 1278.57 1536.18 Q1282.77 1540.8 1282.77 1548.76 M1276.92 1547.04 Q1276.85 1542.23 1274.21 1539.37 Q1271.6 1536.5 1267.27 1536.5 Q1262.37 1536.5 1259.41 1539.27 Q1256.48 1542.04 1256.04 1547.07 L1276.92 1547.04 Z\" fill=\"#000000\" fill-rule=\"evenodd\" fill-opacity=\"1\" /><path clip-path=\"url(#clip480)\" d=\"M1327.17 1518.58 Q1322.91 1525.9 1320.84 1533.06 Q1318.77 1540.23 1318.77 1547.58 Q1318.77 1554.93 1320.84 1562.16 Q1322.94 1569.35 1327.17 1576.64 L1322.08 1576.64 Q1317.31 1569.16 1314.92 1561.93 Q1312.56 1554.71 1312.56 1547.58 Q1312.56 1540.48 1314.92 1533.29 Q1317.27 1526.09 1322.08 1518.58 L1327.17 1518.58 Z\" fill=\"#000000\" fill-rule=\"evenodd\" fill-opacity=\"1\" /><path clip-path=\"url(#clip480)\" d=\"M1361.26 1533.45 L1361.26 1538.98 Q1358.78 1537.71 1356.11 1537.07 Q1353.43 1536.44 1350.57 1536.44 Q1346.21 1536.44 1344.01 1537.77 Q1341.85 1539.11 1341.85 1541.79 Q1341.85 1543.82 1343.41 1545 Q1344.97 1546.15 1349.68 1547.2 L1351.68 1547.64 Q1357.92 1548.98 1360.53 1551.43 Q1363.17 1553.85 1363.17 1558.21 Q1363.17 1563.17 1359.22 1566.07 Q1355.31 1568.97 1348.43 1568.97 Q1345.57 1568.97 1342.45 1568.39 Q1339.36 1567.85 1335.93 1566.74 L1335.93 1560.69 Q1339.17 1562.38 1342.32 1563.24 Q1345.47 1564.07 1348.56 1564.07 Q1352.7 1564.07 1354.93 1562.66 Q1357.16 1561.23 1357.16 1558.65 Q1357.16 1556.27 1355.53 1554.99 Q1353.94 1553.72 1348.5 1552.54 L1346.46 1552.07 Q1341.02 1550.92 1338.6 1548.56 Q1336.18 1546.18 1336.18 1542.04 Q1336.18 1537.01 1339.75 1534.27 Q1343.31 1531.54 1349.87 1531.54 Q1353.11 1531.54 1355.98 1532.01 Q1358.84 1532.49 1361.26 1533.45 Z\" fill=\"#000000\" fill-rule=\"evenodd\" fill-opacity=\"1\" /><path clip-path=\"url(#clip480)\" d=\"M1371.57 1518.58 L1376.67 1518.58 Q1381.44 1526.09 1383.8 1533.29 Q1386.18 1540.48 1386.18 1547.58 Q1386.18 1554.71 1383.8 1561.93 Q1381.44 1569.16 1376.67 1576.64 L1371.57 1576.64 Q1375.81 1569.35 1377.88 1562.16 Q1379.98 1554.93 1379.98 1547.58 Q1379.98 1540.23 1377.88 1533.06 Q1375.81 1525.9 1371.57 1518.58 Z\" fill=\"#000000\" fill-rule=\"evenodd\" fill-opacity=\"1\" /><polyline clip-path=\"url(#clip482)\" style=\"stroke:#000000; stroke-linecap:butt; stroke-linejoin:round; stroke-width:2; stroke-opacity:0.1; fill:none\" points=\"\n",
       "  174.149,1384.24 2352.76,1384.24 \n",
       "  \"/>\n",
       "<polyline clip-path=\"url(#clip482)\" style=\"stroke:#000000; stroke-linecap:butt; stroke-linejoin:round; stroke-width:2; stroke-opacity:0.1; fill:none\" points=\"\n",
       "  174.149,983.659 2352.76,983.659 \n",
       "  \"/>\n",
       "<polyline clip-path=\"url(#clip482)\" style=\"stroke:#000000; stroke-linecap:butt; stroke-linejoin:round; stroke-width:2; stroke-opacity:0.1; fill:none\" points=\"\n",
       "  174.149,583.079 2352.76,583.079 \n",
       "  \"/>\n",
       "<polyline clip-path=\"url(#clip482)\" style=\"stroke:#000000; stroke-linecap:butt; stroke-linejoin:round; stroke-width:2; stroke-opacity:0.1; fill:none\" points=\"\n",
       "  174.149,182.499 2352.76,182.499 \n",
       "  \"/>\n",
       "<polyline clip-path=\"url(#clip480)\" style=\"stroke:#000000; stroke-linecap:butt; stroke-linejoin:round; stroke-width:4; stroke-opacity:1; fill:none\" points=\"\n",
       "  174.149,1423.18 174.149,47.2441 \n",
       "  \"/>\n",
       "<polyline clip-path=\"url(#clip480)\" style=\"stroke:#000000; stroke-linecap:butt; stroke-linejoin:round; stroke-width:4; stroke-opacity:1; fill:none\" points=\"\n",
       "  174.149,1384.24 193.047,1384.24 \n",
       "  \"/>\n",
       "<polyline clip-path=\"url(#clip480)\" style=\"stroke:#000000; stroke-linecap:butt; stroke-linejoin:round; stroke-width:4; stroke-opacity:1; fill:none\" points=\"\n",
       "  174.149,983.659 193.047,983.659 \n",
       "  \"/>\n",
       "<polyline clip-path=\"url(#clip480)\" style=\"stroke:#000000; stroke-linecap:butt; stroke-linejoin:round; stroke-width:4; stroke-opacity:1; fill:none\" points=\"\n",
       "  174.149,583.079 193.047,583.079 \n",
       "  \"/>\n",
       "<polyline clip-path=\"url(#clip480)\" style=\"stroke:#000000; stroke-linecap:butt; stroke-linejoin:round; stroke-width:4; stroke-opacity:1; fill:none\" points=\"\n",
       "  174.149,182.499 193.047,182.499 \n",
       "  \"/>\n",
       "<path clip-path=\"url(#clip480)\" d=\"M126.205 1370.04 Q122.593 1370.04 120.765 1373.6 Q118.959 1377.14 118.959 1384.27 Q118.959 1391.38 120.765 1394.94 Q122.593 1398.49 126.205 1398.49 Q129.839 1398.49 131.644 1394.94 Q133.473 1391.38 133.473 1384.27 Q133.473 1377.14 131.644 1373.6 Q129.839 1370.04 126.205 1370.04 M126.205 1366.33 Q132.015 1366.33 135.07 1370.94 Q138.149 1375.52 138.149 1384.27 Q138.149 1393 135.07 1397.61 Q132.015 1402.19 126.205 1402.19 Q120.394 1402.19 117.316 1397.61 Q114.26 1393 114.26 1384.27 Q114.26 1375.52 117.316 1370.94 Q120.394 1366.33 126.205 1366.33 Z\" fill=\"#000000\" fill-rule=\"evenodd\" fill-opacity=\"1\" /><path clip-path=\"url(#clip480)\" d=\"M118.242 997.003 L125.88 997.003 L125.88 970.638 L117.57 972.304 L117.57 968.045 L125.834 966.379 L130.51 966.379 L130.51 997.003 L138.149 997.003 L138.149 1000.94 L118.242 1000.94 L118.242 997.003 Z\" fill=\"#000000\" fill-rule=\"evenodd\" fill-opacity=\"1\" /><path clip-path=\"url(#clip480)\" d=\"M121.83 596.424 L138.149 596.424 L138.149 600.359 L116.205 600.359 L116.205 596.424 Q118.867 593.669 123.45 589.04 Q128.056 584.387 129.237 583.044 Q131.482 580.521 132.362 578.785 Q133.265 577.026 133.265 575.336 Q133.265 572.581 131.32 570.845 Q129.399 569.109 126.297 569.109 Q124.098 569.109 121.644 569.873 Q119.214 570.637 116.436 572.188 L116.436 567.466 Q119.26 566.331 121.714 565.753 Q124.168 565.174 126.205 565.174 Q131.575 565.174 134.769 567.859 Q137.964 570.544 137.964 575.035 Q137.964 577.165 137.154 579.086 Q136.367 580.984 134.26 583.577 Q133.681 584.248 130.58 587.465 Q127.478 590.66 121.83 596.424 Z\" fill=\"#000000\" fill-rule=\"evenodd\" fill-opacity=\"1\" /><path clip-path=\"url(#clip480)\" d=\"M131.019 181.145 Q134.376 181.863 136.251 184.131 Q138.149 186.4 138.149 189.733 Q138.149 194.849 134.63 197.65 Q131.112 200.451 124.63 200.451 Q122.455 200.451 120.14 200.011 Q117.848 199.594 115.394 198.738 L115.394 194.224 Q117.339 195.358 119.654 195.937 Q121.968 196.515 124.492 196.515 Q128.89 196.515 131.181 194.779 Q133.496 193.043 133.496 189.733 Q133.496 186.678 131.343 184.965 Q129.214 183.228 125.394 183.228 L121.367 183.228 L121.367 179.386 L125.58 179.386 Q129.029 179.386 130.857 178.02 Q132.686 176.631 132.686 174.039 Q132.686 171.377 130.788 169.965 Q128.913 168.529 125.394 168.529 Q123.473 168.529 121.274 168.946 Q119.075 169.363 116.436 170.242 L116.436 166.076 Q119.098 165.335 121.413 164.965 Q123.751 164.594 125.811 164.594 Q131.135 164.594 134.237 167.025 Q137.339 169.432 137.339 173.553 Q137.339 176.423 135.695 178.414 Q134.052 180.381 131.019 181.145 Z\" fill=\"#000000\" fill-rule=\"evenodd\" fill-opacity=\"1\" /><path clip-path=\"url(#clip480)\" d=\"M29.4065 806.062 L34.9447 806.062 Q33.6716 808.545 33.035 811.219 Q32.3984 813.892 32.3984 816.757 Q32.3984 821.117 33.7352 823.313 Q35.072 825.478 37.7456 825.478 Q39.7826 825.478 40.9603 823.918 Q42.1061 822.358 43.1565 817.648 L43.6021 815.643 Q44.9389 809.404 47.3897 806.794 Q49.8086 804.153 54.1691 804.153 Q59.1344 804.153 62.0308 808.099 Q64.9272 812.014 64.9272 818.889 Q64.9272 821.754 64.3543 824.873 Q63.8132 827.96 62.6992 831.398 L56.6518 831.398 Q58.3387 828.151 59.198 825 Q60.0256 821.849 60.0256 818.762 Q60.0256 814.624 58.6251 812.396 Q57.1929 810.168 54.6147 810.168 Q52.2276 810.168 50.9545 811.791 Q49.6813 813.383 48.5037 818.826 L48.0262 820.863 Q46.8804 826.305 44.5251 828.724 Q42.138 831.143 38.0002 831.143 Q32.9713 831.143 30.2341 827.578 Q27.4968 824.014 27.4968 817.457 Q27.4968 814.21 27.9743 811.346 Q28.4517 808.481 29.4065 806.062 Z\" fill=\"#000000\" fill-rule=\"evenodd\" fill-opacity=\"1\" /><path clip-path=\"url(#clip480)\" d=\"M18.2347 789.034 L28.3562 789.034 L28.3562 776.971 L32.9077 776.971 L32.9077 789.034 L52.2594 789.034 Q56.6199 789.034 57.8613 787.856 Q59.1026 786.647 59.1026 782.987 L59.1026 776.971 L64.0042 776.971 L64.0042 782.987 Q64.0042 789.766 61.4897 792.344 Q58.9434 794.922 52.2594 794.922 L32.9077 794.922 L32.9077 799.219 L28.3562 799.219 L28.3562 794.922 L18.2347 794.922 L18.2347 789.034 Z\" fill=\"#000000\" fill-rule=\"evenodd\" fill-opacity=\"1\" /><path clip-path=\"url(#clip480)\" d=\"M46.0847 753.068 Q46.0847 760.166 47.7079 762.903 Q49.3312 765.64 53.2461 765.64 Q56.3653 765.64 58.2114 763.603 Q60.0256 761.534 60.0256 758.001 Q60.0256 753.131 56.5881 750.203 Q53.1188 747.243 47.3897 747.243 L46.0847 747.243 L46.0847 753.068 M43.6657 741.387 L64.0042 741.387 L64.0042 747.243 L58.5933 747.243 Q61.8398 749.248 63.3994 752.24 Q64.9272 755.232 64.9272 759.561 Q64.9272 765.035 61.8716 768.282 Q58.7843 771.496 53.6281 771.496 Q47.6125 771.496 44.5569 767.486 Q41.5014 763.444 41.5014 755.455 L41.5014 747.243 L40.9285 747.243 Q36.8862 747.243 34.6901 749.917 Q32.4621 752.559 32.4621 757.365 Q32.4621 760.42 33.1941 763.317 Q33.9262 766.213 35.3903 768.887 L29.9795 768.887 Q28.7381 765.672 28.1334 762.648 Q27.4968 759.624 27.4968 756.76 Q27.4968 749.026 31.5072 745.206 Q35.5176 741.387 43.6657 741.387 Z\" fill=\"#000000\" fill-rule=\"evenodd\" fill-opacity=\"1\" /><path clip-path=\"url(#clip480)\" d=\"M18.2347 723.531 L28.3562 723.531 L28.3562 711.468 L32.9077 711.468 L32.9077 723.531 L52.2594 723.531 Q56.6199 723.531 57.8613 722.353 Q59.1026 721.144 59.1026 717.483 L59.1026 711.468 L64.0042 711.468 L64.0042 717.483 Q64.0042 724.263 61.4897 726.841 Q58.9434 729.419 52.2594 729.419 L32.9077 729.419 L32.9077 733.716 L28.3562 733.716 L28.3562 729.419 L18.2347 729.419 L18.2347 723.531 Z\" fill=\"#000000\" fill-rule=\"evenodd\" fill-opacity=\"1\" /><path clip-path=\"url(#clip480)\" d=\"M44.7161 673.274 L47.5806 673.274 L47.5806 700.201 Q53.6281 699.819 56.8109 696.572 Q59.9619 693.294 59.9619 687.469 Q59.9619 684.095 59.1344 680.944 Q58.3069 677.761 56.6518 674.642 L62.1899 674.642 Q63.5267 677.793 64.227 681.103 Q64.9272 684.414 64.9272 687.819 Q64.9272 696.349 59.9619 701.346 Q54.9967 706.312 46.5303 706.312 Q37.7774 706.312 32.6531 701.601 Q27.4968 696.859 27.4968 688.838 Q27.4968 681.645 32.1438 677.475 Q36.7589 673.274 44.7161 673.274 M42.9973 679.13 Q38.1912 679.194 35.3266 681.836 Q32.4621 684.445 32.4621 688.774 Q32.4621 693.676 35.2312 696.636 Q38.0002 699.564 43.0292 700.01 L42.9973 679.13 Z\" fill=\"#000000\" fill-rule=\"evenodd\" fill-opacity=\"1\" /><path clip-path=\"url(#clip480)\" d=\"M29.4065 640.936 L34.9447 640.936 Q33.6716 643.418 33.035 646.092 Q32.3984 648.766 32.3984 651.63 Q32.3984 655.991 33.7352 658.187 Q35.072 660.351 37.7456 660.351 Q39.7826 660.351 40.9603 658.792 Q42.1061 657.232 43.1565 652.521 L43.6021 650.516 Q44.9389 644.278 47.3897 641.668 Q49.8086 639.026 54.1691 639.026 Q59.1344 639.026 62.0308 642.973 Q64.9272 646.888 64.9272 653.763 Q64.9272 656.627 64.3543 659.747 Q63.8132 662.834 62.6992 666.271 L56.6518 666.271 Q58.3387 663.025 59.198 659.874 Q60.0256 656.723 60.0256 653.635 Q60.0256 649.498 58.6251 647.27 Q57.1929 645.042 54.6147 645.042 Q52.2276 645.042 50.9545 646.665 Q49.6813 648.256 48.5037 653.699 L48.0262 655.736 Q46.8804 661.179 44.5251 663.598 Q42.138 666.017 38.0002 666.017 Q32.9713 666.017 30.2341 662.452 Q27.4968 658.887 27.4968 652.33 Q27.4968 649.084 27.9743 646.219 Q28.4517 643.355 29.4065 640.936 Z\" fill=\"#000000\" fill-rule=\"evenodd\" fill-opacity=\"1\" /><polyline clip-path=\"url(#clip482)\" style=\"stroke:#009af9; stroke-linecap:butt; stroke-linejoin:round; stroke-width:4; stroke-opacity:1; fill:none\" points=\"\n",
       "  235.808,1384.24 239.918,1383.93 244.029,1383.16 248.139,1382.23 252.25,1381.34 256.361,1380.62 260.471,1380.1 264.582,1379.79 268.692,1379.65 272.803,1379.63 \n",
       "  276.913,1379.67 281.024,1379.73 285.135,1379.78 289.245,1379.8 293.356,1379.79 297.466,1379.75 301.577,1379.68 305.687,1379.6 309.798,1379.51 313.909,1379.41 \n",
       "  318.019,1379.32 322.13,1379.23 326.24,1379.14 330.351,1379.06 334.462,1378.98 338.572,1378.91 342.683,1378.83 346.793,1378.75 350.904,1378.68 355.014,1378.6 \n",
       "  359.125,1378.52 363.236,1378.44 367.346,1378.36 371.457,1378.28 375.567,1378.2 379.678,1378.11 383.788,1378.03 387.899,1377.95 392.01,1377.86 396.12,1377.78 \n",
       "  400.231,1377.69 404.341,1377.6 408.452,1377.52 412.563,1377.43 416.673,1377.34 420.784,1377.25 424.894,1377.16 429.005,1377.07 433.115,1376.98 437.226,1376.88 \n",
       "  441.337,1376.79 445.447,1376.7 449.558,1376.6 453.668,1376.5 457.779,1376.41 461.889,1376.31 466,1376.21 470.111,1376.11 474.221,1376.01 478.332,1375.91 \n",
       "  482.442,1375.81 486.553,1375.7 490.664,1375.6 494.774,1375.49 498.885,1375.39 502.995,1375.28 507.106,1375.17 511.216,1375.06 515.327,1374.95 519.438,1374.84 \n",
       "  523.548,1374.72 527.659,1374.61 531.769,1374.49 535.88,1374.38 539.99,1374.26 544.101,1374.14 548.212,1374.02 552.322,1373.9 556.433,1373.78 560.543,1373.65 \n",
       "  564.654,1373.53 568.765,1373.4 572.875,1373.27 576.986,1373.14 581.096,1373.01 585.207,1372.88 589.317,1372.74 593.428,1372.61 597.539,1372.47 601.649,1372.33 \n",
       "  605.76,1372.19 609.87,1372.05 613.981,1371.91 618.091,1371.77 622.202,1371.62 626.313,1371.47 630.423,1371.32 634.534,1371.17 638.644,1371.02 642.755,1370.87 \n",
       "  646.866,1370.71 650.976,1370.55 655.087,1370.39 659.197,1370.23 663.308,1370.07 667.418,1369.91 671.529,1369.74 675.64,1369.57 679.75,1369.4 683.861,1369.23 \n",
       "  687.971,1369.06 692.082,1368.88 696.192,1368.7 700.303,1368.52 704.414,1368.34 708.524,1368.16 712.635,1367.97 716.745,1367.78 720.856,1367.59 724.967,1367.4 \n",
       "  729.077,1367.21 733.188,1367.01 737.298,1366.81 741.409,1366.61 745.519,1366.41 749.63,1366.2 753.741,1365.99 757.851,1365.78 761.962,1365.57 766.072,1365.35 \n",
       "  770.183,1365.14 774.293,1364.92 778.404,1364.69 782.515,1364.47 786.625,1364.24 790.736,1364.01 794.846,1363.78 798.957,1363.54 803.068,1363.3 807.178,1363.06 \n",
       "  811.289,1362.82 815.399,1362.57 819.51,1362.32 823.62,1362.07 827.731,1361.82 831.842,1361.56 835.952,1361.3 840.063,1361.03 844.173,1360.77 848.284,1360.5 \n",
       "  852.394,1360.23 856.505,1359.95 860.616,1359.67 864.726,1359.39 868.837,1359.1 872.947,1358.81 877.058,1358.52 881.169,1358.23 885.279,1357.93 889.39,1357.63 \n",
       "  893.5,1357.32 897.611,1357.01 901.721,1356.7 905.832,1356.38 909.943,1356.06 914.053,1355.74 918.164,1355.41 922.274,1355.08 926.385,1354.75 930.495,1354.41 \n",
       "  934.606,1354.07 938.717,1353.72 942.827,1353.37 946.938,1353.02 951.048,1352.66 955.159,1352.3 959.27,1351.93 963.38,1351.56 967.491,1351.18 971.601,1350.8 \n",
       "  975.712,1350.42 979.822,1350.03 983.933,1349.64 988.044,1349.24 992.154,1348.84 996.265,1348.44 1000.38,1348.03 1004.49,1347.61 1008.6,1347.19 1012.71,1346.77 \n",
       "  1016.82,1346.34 1020.93,1345.9 1025.04,1345.46 1029.15,1345.02 1033.26,1344.57 1037.37,1344.11 1041.48,1343.65 1045.59,1343.19 1049.7,1342.72 1053.81,1342.24 \n",
       "  1057.92,1341.76 1062.03,1341.27 1066.14,1340.78 1070.26,1340.28 1074.37,1339.78 1078.48,1339.27 1082.59,1338.75 1086.7,1338.23 1090.81,1337.7 1094.92,1337.17 \n",
       "  1099.03,1336.63 1103.14,1336.08 1107.25,1335.53 1111.36,1334.97 1115.47,1334.41 1119.58,1333.84 1123.69,1333.26 1127.8,1332.67 1131.91,1332.08 1136.02,1331.48 \n",
       "  1140.14,1330.88 1144.25,1330.27 1148.36,1329.65 1152.47,1329.02 1156.58,1328.39 1160.69,1327.75 1164.8,1327.1 1168.91,1326.45 1173.02,1325.79 1177.13,1325.12 \n",
       "  1181.24,1324.44 1185.35,1323.75 1189.46,1323.06 1193.57,1322.36 1197.68,1321.65 1201.79,1320.93 1205.9,1320.2 1210.01,1319.47 1214.13,1318.73 1218.24,1317.98 \n",
       "  1222.35,1317.22 1226.46,1316.45 1230.57,1315.67 1234.68,1314.89 1238.79,1314.09 1242.9,1313.29 1247.01,1312.47 1251.12,1311.65 1255.23,1310.82 1259.34,1309.98 \n",
       "  1263.45,1309.13 1267.56,1308.27 1271.67,1307.39 1275.78,1306.51 1279.89,1305.62 1284.01,1304.72 1288.12,1303.81 1292.23,1302.89 1296.34,1301.96 1300.45,1301.01 \n",
       "  1304.56,1300.06 1308.67,1299.09 1312.78,1298.12 1316.89,1297.13 1321,1296.13 1325.11,1295.12 1329.22,1294.1 1333.33,1293.07 1337.44,1292.02 1341.55,1290.97 \n",
       "  1345.66,1289.9 1349.77,1288.82 1353.89,1287.72 1358,1286.62 1362.11,1285.5 1366.22,1284.36 1370.33,1283.22 1374.44,1282.06 1378.55,1280.89 1382.66,1279.71 \n",
       "  1386.77,1278.51 1390.88,1277.3 1394.99,1276.07 1399.1,1274.83 1403.21,1273.58 1407.32,1272.31 1411.43,1271.02 1415.54,1269.73 1419.65,1268.41 1423.77,1267.09 \n",
       "  1427.88,1265.74 1431.99,1264.39 1436.1,1263.01 1440.21,1261.62 1444.32,1260.22 1448.43,1258.8 1452.54,1257.36 1456.65,1255.9 1460.76,1254.43 1464.87,1252.94 \n",
       "  1468.98,1251.44 1473.09,1249.92 1477.2,1248.38 1481.31,1246.82 1485.42,1245.25 1489.53,1243.65 1493.64,1242.04 1497.76,1240.41 1501.87,1238.76 1505.98,1237.09 \n",
       "  1510.09,1235.41 1514.2,1233.7 1518.31,1231.98 1522.42,1230.23 1526.53,1228.47 1530.64,1226.68 1534.75,1224.87 1538.86,1223.05 1542.97,1221.2 1547.08,1219.33 \n",
       "  1551.19,1217.44 1555.3,1215.53 1559.41,1213.6 1563.52,1211.64 1567.64,1209.66 1571.75,1207.66 1575.86,1205.64 1579.97,1203.59 1584.08,1201.52 1588.19,1199.42 \n",
       "  1592.3,1197.31 1596.41,1195.16 1600.52,1193 1604.63,1190.8 1608.74,1188.59 1612.85,1186.34 1616.96,1184.08 1621.07,1181.78 1625.18,1179.46 1629.29,1177.11 \n",
       "  1633.4,1174.74 1637.52,1172.34 1641.63,1169.91 1645.74,1167.45 1649.85,1164.97 1653.96,1162.45 1658.07,1159.91 1662.18,1157.34 1666.29,1154.74 1670.4,1152.11 \n",
       "  1674.51,1149.45 1678.62,1146.76 1682.73,1144.04 1686.84,1141.28 1690.95,1138.5 1695.06,1135.68 1699.17,1132.83 1703.28,1129.95 1707.39,1127.03 1711.51,1124.09 \n",
       "  1715.62,1121.1 1719.73,1118.09 1723.84,1115.04 1727.95,1111.95 1732.06,1108.83 1736.17,1105.67 1740.28,1102.48 1744.39,1099.25 1748.5,1095.98 1752.61,1092.68 \n",
       "  1756.72,1089.34 1760.83,1085.96 1764.94,1082.54 1769.05,1079.08 1773.16,1075.58 1777.27,1072.04 1781.39,1068.47 1785.5,1064.85 1789.61,1061.19 1793.72,1057.48 \n",
       "  1797.83,1053.74 1801.94,1049.95 1806.05,1046.12 1810.16,1042.24 1814.27,1038.32 1818.38,1034.36 1822.49,1030.35 1826.6,1026.29 1830.71,1022.19 1834.82,1018.04 \n",
       "  1838.93,1013.84 1843.04,1009.59 1847.15,1005.3 1851.27,1000.95 1855.38,996.56 1859.49,992.116 1863.6,987.621 1867.71,983.075 1871.82,978.476 1875.93,973.825 \n",
       "  1880.04,969.12 1884.15,964.362 1888.26,959.549 1892.37,954.681 1896.48,949.756 1900.59,944.776 1904.7,939.738 1908.81,934.643 1912.92,929.489 1917.03,924.276 \n",
       "  1921.15,919.004 1925.26,913.67 1929.37,908.276 1933.48,902.82 1937.59,897.301 1941.7,891.719 1945.81,886.073 1949.92,880.363 1954.03,874.587 1958.14,868.744 \n",
       "  1962.25,862.835 1966.36,856.858 1970.47,850.812 1974.58,844.697 1978.69,838.512 1982.8,832.256 1986.91,825.928 1991.02,819.527 1995.14,813.054 1999.25,806.506 \n",
       "  2003.36,799.883 2007.47,793.184 2011.58,786.408 2015.69,779.554 2019.8,772.622 2023.91,765.61 2028.02,758.518 2032.13,751.345 2036.24,744.089 2040.35,736.75 \n",
       "  2044.46,729.327 2048.57,721.819 2052.68,714.224 2056.79,706.543 2060.9,698.773 2065.02,690.915 2069.13,682.966 2073.24,674.926 2077.35,666.794 2081.46,658.568 \n",
       "  2085.57,650.248 2089.68,641.833 2093.79,633.321 2097.9,624.712 2102.01,616.003 2106.12,607.195 2110.23,598.286 2114.34,589.275 2118.45,580.16 2122.56,570.94 \n",
       "  2126.67,561.615 2130.78,552.183 2134.9,542.643 2139.01,532.993 2143.12,523.232 2147.23,513.36 2151.34,503.374 2155.45,493.274 2159.56,483.057 2163.67,472.724 \n",
       "  2167.78,462.272 2171.89,451.699 2176,441.006 2180.11,430.19 2184.22,419.249 2188.33,408.184 2192.44,396.991 2196.55,385.669 2200.66,374.218 2204.78,362.635 \n",
       "  2208.89,350.919 2213,339.069 2217.11,327.083 2221.22,314.959 2225.33,302.695 2229.44,290.291 2233.55,277.745 2237.66,265.055 2241.77,252.218 2245.88,239.235 \n",
       "  2249.99,226.102 2254.1,212.819 2258.21,199.382 2262.32,185.792 2266.43,172.046 2270.54,158.141 2274.65,144.077 2278.77,129.851 2282.88,115.462 2286.99,100.907 \n",
       "  2291.1,86.1857 \n",
       "  \"/>\n",
       "<polyline clip-path=\"url(#clip482)\" style=\"stroke:#e26f46; stroke-linecap:butt; stroke-linejoin:round; stroke-width:4; stroke-opacity:1; fill:none\" points=\"\n",
       "  235.808,132.772 239.918,132.181 244.029,130.733 248.139,128.997 252.25,127.376 256.361,126.101 260.471,125.257 264.582,124.825 268.692,124.723 272.803,124.845 \n",
       "  276.913,125.086 281.024,125.361 285.135,125.613 289.245,125.807 293.356,125.934 297.466,125.999 301.577,126.015 305.687,125.998 309.798,125.965 313.909,125.928 \n",
       "  318.019,125.896 322.13,125.873 326.24,125.86 330.351,125.856 334.462,125.86 338.572,125.868 342.683,125.879 346.793,125.889 350.904,125.899 355.014,125.908 \n",
       "  359.125,125.915 363.236,125.92 367.346,125.924 371.457,125.928 375.567,125.931 379.678,125.935 383.788,125.938 387.899,125.942 392.01,125.945 396.12,125.949 \n",
       "  400.231,125.954 404.341,125.958 408.452,125.962 412.563,125.966 416.673,125.971 420.784,125.975 424.894,125.979 429.005,125.983 433.115,125.987 437.226,125.992 \n",
       "  441.337,125.996 445.447,126 449.558,126.004 453.668,126.008 457.779,126.012 461.889,126.016 466,126.021 470.111,126.025 474.221,126.029 478.332,126.033 \n",
       "  482.442,126.037 486.553,126.042 490.664,126.046 494.774,126.05 498.885,126.054 502.995,126.059 507.106,126.063 511.216,126.067 515.327,126.072 519.438,126.076 \n",
       "  523.548,126.08 527.659,126.085 531.769,126.089 535.88,126.094 539.99,126.098 544.101,126.103 548.212,126.107 552.322,126.112 556.433,126.117 560.543,126.121 \n",
       "  564.654,126.126 568.765,126.131 572.875,126.136 576.986,126.14 581.096,126.145 585.207,126.15 589.317,126.155 593.428,126.16 597.539,126.165 601.649,126.17 \n",
       "  605.76,126.175 609.87,126.18 613.981,126.185 618.091,126.19 622.202,126.196 626.313,126.201 630.423,126.206 634.534,126.212 638.644,126.217 642.755,126.223 \n",
       "  646.866,126.228 650.976,126.234 655.087,126.239 659.197,126.245 663.308,126.251 667.418,126.257 671.529,126.263 675.64,126.268 679.75,126.274 683.861,126.28 \n",
       "  687.971,126.287 692.082,126.293 696.192,126.299 700.303,126.305 704.414,126.312 708.524,126.318 712.635,126.324 716.745,126.331 720.856,126.338 724.967,126.344 \n",
       "  729.077,126.351 733.188,126.358 737.298,126.365 741.409,126.372 745.519,126.379 749.63,126.386 753.741,126.393 757.851,126.4 761.962,126.407 766.072,126.415 \n",
       "  770.183,126.422 774.293,126.43 778.404,126.438 782.515,126.445 786.625,126.453 790.736,126.461 794.846,126.469 798.957,126.477 803.068,126.485 807.178,126.493 \n",
       "  811.289,126.502 815.399,126.51 819.51,126.519 823.62,126.527 827.731,126.536 831.842,126.545 835.952,126.554 840.063,126.563 844.173,126.572 848.284,126.581 \n",
       "  852.394,126.59 856.505,126.6 860.616,126.609 864.726,126.619 868.837,126.629 872.947,126.639 877.058,126.649 881.169,126.659 885.279,126.669 889.39,126.679 \n",
       "  893.5,126.689 897.611,126.7 901.721,126.711 905.832,126.721 909.943,126.732 914.053,126.743 918.164,126.754 922.274,126.766 926.385,126.777 930.495,126.788 \n",
       "  934.606,126.8 938.717,126.812 942.827,126.824 946.938,126.836 951.048,126.848 955.159,126.86 959.27,126.873 963.38,126.885 967.491,126.898 971.601,126.911 \n",
       "  975.712,126.924 979.822,126.937 983.933,126.95 988.044,126.964 992.154,126.977 996.265,126.991 1000.38,127.005 1004.49,127.019 1008.6,127.034 1012.71,127.048 \n",
       "  1016.82,127.063 1020.93,127.077 1025.04,127.092 1029.15,127.107 1033.26,127.122 1037.37,127.138 1041.48,127.154 1045.59,127.169 1049.7,127.185 1053.81,127.201 \n",
       "  1057.92,127.218 1062.03,127.234 1066.14,127.251 1070.26,127.268 1074.37,127.285 1078.48,127.302 1082.59,127.32 1086.7,127.337 1090.81,127.355 1094.92,127.373 \n",
       "  1099.03,127.392 1103.14,127.41 1107.25,127.429 1111.36,127.448 1115.47,127.467 1119.58,127.486 1123.69,127.506 1127.8,127.526 1131.91,127.546 1136.02,127.566 \n",
       "  1140.14,127.586 1144.25,127.607 1148.36,127.628 1152.47,127.649 1156.58,127.671 1160.69,127.692 1164.8,127.714 1168.91,127.736 1173.02,127.759 1177.13,127.782 \n",
       "  1181.24,127.805 1185.35,127.828 1189.46,127.851 1193.57,127.875 1197.68,127.899 1201.79,127.923 1205.9,127.948 1210.01,127.973 1214.13,127.998 1218.24,128.023 \n",
       "  1222.35,128.049 1226.46,128.075 1230.57,128.101 1234.68,128.128 1238.79,128.155 1242.9,128.182 1247.01,128.21 1251.12,128.238 1255.23,128.266 1259.34,128.294 \n",
       "  1263.45,128.323 1267.56,128.352 1271.67,128.382 1275.78,128.412 1279.89,128.442 1284.01,128.472 1288.12,128.503 1292.23,128.534 1296.34,128.566 1300.45,128.598 \n",
       "  1304.56,128.63 1308.67,128.663 1312.78,128.696 1316.89,128.729 1321,128.763 1325.11,128.797 1329.22,128.832 1333.33,128.867 1337.44,128.902 1341.55,128.938 \n",
       "  1345.66,128.974 1349.77,129.011 1353.89,129.048 1358,129.085 1362.11,129.123 1366.22,129.162 1370.33,129.2 1374.44,129.24 1378.55,129.279 1382.66,129.319 \n",
       "  1386.77,129.36 1390.88,129.401 1394.99,129.442 1399.1,129.484 1403.21,129.527 1407.32,129.57 1411.43,129.613 1415.54,129.657 1419.65,129.702 1423.77,129.747 \n",
       "  1427.88,129.792 1431.99,129.838 1436.1,129.885 1440.21,129.932 1444.32,129.979 1448.43,130.027 1452.54,130.076 1456.65,130.125 1460.76,130.175 1464.87,130.225 \n",
       "  1468.98,130.276 1473.09,130.328 1477.2,130.38 1481.31,130.433 1485.42,130.486 1489.53,130.54 1493.64,130.595 1497.76,130.65 1501.87,130.706 1505.98,130.762 \n",
       "  1510.09,130.819 1514.2,130.877 1518.31,130.935 1522.42,130.994 1526.53,131.054 1530.64,131.115 1534.75,131.176 1538.86,131.238 1542.97,131.3 1547.08,131.363 \n",
       "  1551.19,131.427 1555.3,131.492 1559.41,131.558 1563.52,131.624 1567.64,131.691 1571.75,131.759 1575.86,131.827 1579.97,131.896 1584.08,131.967 1588.19,132.037 \n",
       "  1592.3,132.109 1596.41,132.182 1600.52,132.255 1604.63,132.329 1608.74,132.404 1612.85,132.48 1616.96,132.557 1621.07,132.635 1625.18,132.713 1629.29,132.793 \n",
       "  1633.4,132.873 1637.52,132.955 1641.63,133.037 1645.74,133.12 1649.85,133.204 1653.96,133.289 1658.07,133.375 1662.18,133.462 1666.29,133.55 1670.4,133.639 \n",
       "  1674.51,133.729 1678.62,133.821 1682.73,133.913 1686.84,134.006 1690.95,134.1 1695.06,134.196 1699.17,134.292 1703.28,134.39 1707.39,134.488 1711.51,134.588 \n",
       "  1715.62,134.689 1719.73,134.791 1723.84,134.894 1727.95,134.999 1732.06,135.105 1736.17,135.211 1740.28,135.32 1744.39,135.429 1748.5,135.54 1752.61,135.651 \n",
       "  1756.72,135.765 1760.83,135.879 1764.94,135.995 1769.05,136.112 1773.16,136.23 1777.27,136.35 1781.39,136.471 1785.5,136.594 1789.61,136.718 1793.72,136.843 \n",
       "  1797.83,136.97 1801.94,137.098 1806.05,137.228 1810.16,137.359 1814.27,137.492 1818.38,137.626 1822.49,137.762 1826.6,137.899 1830.71,138.038 1834.82,138.178 \n",
       "  1838.93,138.32 1843.04,138.464 1847.15,138.61 1851.27,138.757 1855.38,138.905 1859.49,139.056 1863.6,139.208 1867.71,139.362 1871.82,139.518 1875.93,139.675 \n",
       "  1880.04,139.834 1884.15,139.995 1888.26,140.158 1892.37,140.323 1896.48,140.49 1900.59,140.658 1904.7,140.829 1908.81,141.001 1912.92,141.176 1917.03,141.352 \n",
       "  1921.15,141.531 1925.26,141.711 1929.37,141.894 1933.48,142.078 1937.59,142.265 1941.7,142.454 1945.81,142.645 1949.92,142.839 1954.03,143.034 1958.14,143.232 \n",
       "  1962.25,143.432 1966.36,143.634 1970.47,143.839 1974.58,144.046 1978.69,144.255 1982.8,144.467 1986.91,144.681 1991.02,144.898 1995.14,145.117 1999.25,145.338 \n",
       "  2003.36,145.563 2007.47,145.789 2011.58,146.019 2015.69,146.25 2019.8,146.485 2023.91,146.722 2028.02,146.962 2032.13,147.205 2036.24,147.451 2040.35,147.699 \n",
       "  2044.46,147.95 2048.57,148.204 2052.68,148.461 2056.79,148.721 2060.9,148.984 2065.02,149.25 2069.13,149.519 2073.24,149.791 2077.35,150.066 2081.46,150.345 \n",
       "  2085.57,150.626 2089.68,150.911 2093.79,151.199 2097.9,151.49 2102.01,151.785 2106.12,152.083 2110.23,152.384 2114.34,152.689 2118.45,152.997 2122.56,153.309 \n",
       "  2126.67,153.625 2130.78,153.944 2134.9,154.267 2139.01,154.593 2143.12,154.923 2147.23,155.257 2151.34,155.595 2155.45,155.937 2159.56,156.282 2163.67,156.632 \n",
       "  2167.78,156.985 2171.89,157.343 2176,157.705 2180.11,158.07 2184.22,158.44 2188.33,158.815 2192.44,159.193 2196.55,159.576 2200.66,159.963 2204.78,160.355 \n",
       "  2208.89,160.751 2213,161.152 2217.11,161.557 2221.22,161.967 2225.33,162.382 2229.44,162.801 2233.55,163.225 2237.66,163.654 2241.77,164.088 2245.88,164.527 \n",
       "  2249.99,164.971 2254.1,165.42 2258.21,165.874 2262.32,166.333 2266.43,166.798 2270.54,167.268 2274.65,167.743 2278.77,168.224 2282.88,168.71 2286.99,169.202 \n",
       "  2291.1,169.699 \n",
       "  \"/>\n",
       "<path clip-path=\"url(#clip480)\" d=\"\n",
       "M246.769 787.052 L513.975 787.052 L513.975 631.532 L246.769 631.532  Z\n",
       "  \" fill=\"#ffffff\" fill-rule=\"evenodd\" fill-opacity=\"1\"/>\n",
       "<polyline clip-path=\"url(#clip480)\" style=\"stroke:#000000; stroke-linecap:butt; stroke-linejoin:round; stroke-width:4; stroke-opacity:1; fill:none\" points=\"\n",
       "  246.769,787.052 513.975,787.052 513.975,631.532 246.769,631.532 246.769,787.052 \n",
       "  \"/>\n",
       "<polyline clip-path=\"url(#clip480)\" style=\"stroke:#009af9; stroke-linecap:butt; stroke-linejoin:round; stroke-width:4; stroke-opacity:1; fill:none\" points=\"\n",
       "  270.976,683.372 416.216,683.372 \n",
       "  \"/>\n",
       "<path clip-path=\"url(#clip480)\" d=\"M465.076 674.726 L455.701 687.342 L465.562 700.652 L460.539 700.652 L452.992 690.467 L445.446 700.652 L440.423 700.652 L450.492 687.087 L441.28 674.726 L446.303 674.726 L453.178 683.962 L460.053 674.726 L465.076 674.726 Z\" fill=\"#000000\" fill-rule=\"evenodd\" fill-opacity=\"1\" /><polyline clip-path=\"url(#clip480)\" style=\"stroke:#e26f46; stroke-linecap:butt; stroke-linejoin:round; stroke-width:4; stroke-opacity:1; fill:none\" points=\"\n",
       "  270.976,735.212 416.216,735.212 \n",
       "  \"/>\n",
       "<path clip-path=\"url(#clip480)\" d=\"M459.682 736.057 L444.937 736.057 Q445.284 742.978 446.881 745.918 Q448.872 749.529 452.321 749.529 Q455.793 749.529 457.715 745.895 Q459.404 742.7 459.682 736.057 M459.613 732.122 Q458.965 725.548 457.715 723.233 Q455.724 719.575 452.321 719.575 Q448.78 719.575 446.905 723.187 Q445.423 726.103 444.983 732.122 L459.613 732.122 M452.321 716.103 Q457.877 716.103 461.048 721.011 Q464.219 725.895 464.219 734.552 Q464.219 743.186 461.048 748.094 Q457.877 753.024 452.321 753.024 Q446.743 753.024 443.594 748.094 Q440.423 743.186 440.423 734.552 Q440.423 725.895 443.594 721.011 Q446.743 716.103 452.321 716.103 Z\" fill=\"#000000\" fill-rule=\"evenodd\" fill-opacity=\"1\" /></svg>\n"
      ]
     },
     "metadata": {},
     "output_type": "display_data"
    }
   ],
   "source": [
    "# Simulate nominal model with LQR gain from bilinear model\n",
    "ctrl_lqr = LQRController(K_bil, xe, ue)\n",
    "\n",
    "t_sim = 10.0\n",
    "times_sim = range(0,t_sim,step=dt)\n",
    "x0 = [0,pi-deg2rad(1),0,0]\n",
    "Xsim_lqr, = simulatewithcontroller(dmodel, ctrl_lqr, x0, t_sim, dt)\n",
    "plotstates(times_sim, Xsim_lqr, inds=1:2, xlabel=\"time (s)\", ylabel=\"states\", label=[\"x\" \"θ\"], legend=:left)"
   ]
  },
  {
   "cell_type": "markdown",
   "metadata": {},
   "source": [
    "# Train with Derivative Data\n",
    "Here we incorporate derivative data by penalizing the difference of the Jacobian of the learned model from the expected Jacobians of the nominal model, e.g.:\n",
    "\n",
    "$$ \\sum_{j=1}^P || \\frac{\\partial}{\\partial x} G \\hat{f}(\\varphi(x_j), u_j) - A_j ||^2 $$\n",
    "\n",
    "where \n",
    "\n",
    "$$ \\hat{f}(y,u) = A y + B u + \\sum_{i=1}^m u_i C_i y $$\n",
    "\n",
    "are the learned bilinear dynamics."
   ]
  },
  {
   "cell_type": "code",
   "execution_count": 39,
   "metadata": {},
   "outputs": [],
   "source": [
    "# Generate Jacobians\n",
    "xn = zeros(n0)\n",
    "jacobians = map(CartesianIndices(U_train)) do cind\n",
    "    k = cind[1]\n",
    "    x = X_train[cind]\n",
    "    u = U_train[cind]\n",
    "    z = RD.KnotPoint{n0,m}(x,u,times[k],dt)\n",
    "    J = zeros(n0,n0+m)\n",
    "    RD.jacobian!(\n",
    "        RD.InPlace(), RD.ForwardAD(), dmodel, J, xn, z \n",
    "    )\n",
    "    J\n",
    "end\n",
    "A_train = map(J->J[:,1:n0], jacobians)\n",
    "B_train = map(J->J[:,n0+1:end], jacobians)\n",
    "\n",
    "# Convert states to lifted Koopman states\n",
    "Y_train = map(kf, X_train)\n",
    "\n",
    "# Calculate Jacobian of Koopman transform\n",
    "F_train = map(@view X_train[1:end-1,:]) do x\n",
    "    sparse(ForwardDiff.jacobian(x->expandstate(model_bilinear,x), x))\n",
    "end;"
   ]
  },
  {
   "cell_type": "markdown",
   "metadata": {},
   "source": [
    "### Build Least-squares problem\n",
    "Find the eDMD data `A`, `B`, and `C` that minimize the following residual:\n",
    "\n",
    "$$\\sum_{j=1}^P (1-\\alpha)|| A y_j + B u_j + \\sum_{i=1}^m u_{j,i} C_i x_j - y_j^+ ||^2 + \n",
    "\\alpha || G (A + \\sum_{i=1}^m u_{j,i} C_j) F_j  - A_j ||^2 + \n",
    "\\alpha || G (B + [C_1 x_j \\dots C_m x_j]) - B_j ||^2  $$\n",
    "\n",
    "where $F_j = \\partial \\varphi(x_j) / \\partial x$.\n",
    "\n",
    "This is equivalent to \n",
    "\n",
    "$$ (1-\\alpha)|| E Z_{1:P} - Y_{1:P}^+ ||^2 + \n",
    "\\alpha || G E \\hat{A}_{1:P} - A_{1:P} ||^2 +\n",
    "\\alpha || G E \\hat{B}_{1:P} - B_{1:P} ||^2 $$\n",
    "\n",
    "where\n",
    "\n",
    "$$ E = \\begin{bmatrix} A & B & C_1 & \\dots & C_m \\end{bmatrix} \\in \\mathbb{R}^{n \\times p} $$\n",
    "$$ Z_j = \\begin{bmatrix} \n",
    "    x_j \\\\ u_j \\\\ u_{j,1} x_j \\\\ \\vdots \\\\ u_{j,m} x_j \n",
    "\\end{bmatrix} \\in \\mathbb{R}^{p}, \\quad\n",
    "\\hat{A}_j = \\begin{bmatrix} \n",
    "    I_n \\\\ 0_{m,n} \\\\ u_{j,1} I_n \\\\ \\vdots \\\\ u_{j,m} I_n \n",
    "\\end{bmatrix} \\in \\mathbb{R}^{p \\times n}, \\quad\n",
    "\\hat{B}_j = \\begin{bmatrix} \n",
    "    0_{n,m} \\\\ I_m \\\\ [x_j \\; 0 \\; \\dots \\; 0] \\\\ \\vdots \\\\ [0 \\; \\dots \\; 0 \\; x_j] \n",
    "\\end{bmatrix} \\in \\mathbb{R}^{p \\times m}\n",
    "$$\n",
    "\n",
    "which is equivalent to \n",
    "\n",
    "$$ \\left\\lVert \n",
    "\\begin{bmatrix} \n",
    "    Z_{1:P}^T \\otimes I_n \\\\\n",
    "    \\hat{A}_{1:P}^T \\otimes G \\\\\n",
    "    \\hat{B}_{1:P}^T \\otimes G \n",
    "\\end{bmatrix} \\text{vec}(E) - \n",
    "\\begin{bmatrix}\n",
    "    \\text{vec}{Y_{1:P}^+}\\\\\n",
    "    \\text{vec}{A_{1:P}^+}\\\\\n",
    "    \\text{vec}{B_{1:P}^+}\\\\\n",
    "\\end{bmatrix}\n",
    "\\right\\rVert^2 $$"
   ]
  },
  {
   "cell_type": "code",
   "execution_count": 40,
   "metadata": {},
   "outputs": [
    {
     "name": "stdout",
     "output_type": "stream",
     "text": [
      "Concatentating data\n",
      "Creating feature matrix\n",
      "Creating state Jacobian matrix\n",
      "Creating control Jacobian matrix\n",
      "Creating least-squares data\n"
     ]
    },
    {
     "data": {
      "text/plain": [
       "([1.0 0.0 … 0.0 0.0; 0.0 1.0 … 0.0 0.0; … ; -0.0 0.0 … 4.1282863517937713e-20 -2.2887293338193922e-20; 0.0 -0.0 … -4.501820228165715e-20 3.096144026518913e-20], [1.0, -0.8439126111941425, 2.837415577530202, 0.7368484662178297, 1.029960913925374, -0.7472489361446886, 0.29950813012526645, 0.6719572583040847, 0.8572788662859582, 0.6645442253384127  …  0.019995160170292375, 0.03996232525467002, 0.00019995871642105735, 0.0003996424399283758, 0.019995142051166984, 0.03996220187005462, 0.00019995852688141325, 0.0003996411331242925, 0.019995122733652653, 0.03996206955154349])"
      ]
     },
     "metadata": {},
     "output_type": "display_data"
    }
   ],
   "source": [
    "# Create a sparse version of the G Jacobian\n",
    "G = spdiagm(n0,n,1=>ones(n0)) \n",
    "@test norm(G - model_bilinear.g) < 1e-8\n",
    "\n",
    "# Build Least Squares Problem\n",
    "W,s = BilinearControl.EDMD.build_edmd_data(\n",
    "    Z_train, U_train, A_train, B_train, F_train, model_bilinear.g\n",
    ");"
   ]
  },
  {
   "cell_type": "markdown",
   "metadata": {},
   "source": [
    "### Solve the Least-squares Problem"
   ]
  },
  {
   "cell_type": "code",
   "execution_count": 43,
   "metadata": {},
   "outputs": [
    {
     "name": "stdout",
     "output_type": "stream",
     "text": [
      "  8.144143 seconds (48 allocations: 1.326 GiB, 8.19% gc time)\n",
      " 40.594748 seconds (163 allocations: 27.523 GiB, 1.08% gc time)\n",
      "  1.052917 seconds (18 allocations: 34.792 MiB, 0.46% gc time)\n",
      "  8.872833 seconds (47 allocations: 1.326 GiB, 12.83% gc time)\n",
      " 39.538773 seconds (163 allocations: 27.523 GiB, 0.65% gc time)\n",
      "  1.252420 seconds (19 allocations: 34.792 MiB, 15.85% gc time)\n"
     ]
    },
    {
     "data": {
      "text/plain": [
       "13671.167575199119"
      ]
     },
     "metadata": {},
     "output_type": "display_data"
    }
   ],
   "source": [
    "@time Wsparse = sparse(W)\n",
    "@time F = qr(Wsparse)\n",
    "@time x = F \\ s\n",
    "norm(W*x - s)"
   ]
  },
  {
   "cell_type": "code",
   "execution_count": 46,
   "metadata": {},
   "outputs": [],
   "source": [
    "# Extract out bilinear dynamics\n",
    "n = length(Z_train[1])\n",
    "E = reshape(x,n,:)\n",
    "A = E[:,1:n]\n",
    "B = E[:,n .+ (1:m)]\n",
    "C = E[:,n+m .+ (1:n*m)];"
   ]
  },
  {
   "cell_type": "code",
   "execution_count": 47,
   "metadata": {},
   "outputs": [
    {
     "name": "stdout",
     "output_type": "stream",
     "text": [
      "Train Error: 0.025615893254870032\n",
      "Test Error:  0.04575627041255942\n",
      "New Train Error: 0.006216307652919575\n",
      "New Test Error:  0.006365610309140243\n"
     ]
    }
   ],
   "source": [
    "# Evaluate the Fit\n",
    "err_train2 = BilinearControl.EDMD.fiterror(A,B,C,g,kf, X_train, U_train)\n",
    "err_test2 = BilinearControl.EDMD.fiterror(A,B,C,g,kf, X_test, U_test)\n",
    "println(\"Train Error: \", err_train)\n",
    "println(\"Test Error:  \", err_test)\n",
    "println(\"New Train Error: \", err_train2)\n",
    "println(\"New Test Error:  \", err_test2)"
   ]
  },
  {
   "cell_type": "code",
   "execution_count": 65,
   "metadata": {},
   "outputs": [],
   "source": [
    "BilinearControl.matdensity(Wsparse)"
   ]
  },
  {
   "cell_type": "code",
   "execution_count": 48,
   "metadata": {},
   "outputs": [],
   "source": [
    "# Save data\n",
    "jldsave(joinpath(Problems.DATADIR,\"cartpole_eDMD_jac_data.jld2\"); A,B,C,g, eigfuns, eigorders, dt)"
   ]
  },
  {
   "cell_type": "markdown",
   "metadata": {},
   "source": [
    "### Create and Test new eDMD Model"
   ]
  },
  {
   "cell_type": "code",
   "execution_count": 50,
   "metadata": {},
   "outputs": [],
   "source": [
    "cartpole_data = load(joinpath(Problems.DATADIR, \"cartpole_eDMD_jac_data.jld2\"))\n",
    "A = cartpole_data[\"A\"]\n",
    "B = cartpole_data[\"B\"]\n",
    "C = cartpole_data[\"C\"]\n",
    "g = cartpole_data[\"g\"]\n",
    "dt = cartpole_data[\"dt\"]\n",
    "model_bilinear2 = EDMDModel(A,B,[C],g,kf,dt,\"cartpole\")\n",
    "n,m = RD.dims(model_bilinear)\n",
    "n0 = originalstatedim(model_bilinear);\n"
   ]
  },
  {
   "cell_type": "code",
   "execution_count": 52,
   "metadata": {},
   "outputs": [],
   "source": [
    "# Get A,B for new system\n",
    "function dynamics_bilinear2(x,u,t,dt)\n",
    "    y = expandstate(model_bilinear2, x)\n",
    "    yn = zero(y)\n",
    "    RD.discrete_dynamics!(model_bilinear2, yn, y, u, t, dt)\n",
    "    originalstate(model_bilinear2, yn)\n",
    "end\n",
    "A_bil2 = FiniteDiff.finite_difference_jacobian(x->dynamics_bilinear2(x,ue,0.0,dt), xe)\n",
    "B_bil2 = FiniteDiff.finite_difference_jacobian(u->dynamics_bilinear2(xe,u,0.0,dt), ue);"
   ]
  },
  {
   "cell_type": "markdown",
   "metadata": {},
   "source": [
    "**Compare the Jacobians with Nominal model**"
   ]
  },
  {
   "cell_type": "code",
   "execution_count": 53,
   "metadata": {},
   "outputs": [
    {
     "data": {
      "text/plain": [
       "4×4 Matrix{Float64}:\n",
       " 1.0  0.000392055   0.019998     -1.38375e-6\n",
       " 0.0  1.0047       -3.99648e-6    0.0199834\n",
       " 0.0  0.0392035     0.9998       -7.57316e-6\n",
       " 0.0  0.470481     -0.000399628   0.999909"
      ]
     },
     "metadata": {},
     "output_type": "display_data"
    }
   ],
   "source": [
    "A_nom"
   ]
  },
  {
   "cell_type": "code",
   "execution_count": 54,
   "metadata": {},
   "outputs": [
    {
     "data": {
      "text/plain": [
       "4×4 Matrix{Float64}:\n",
       " 1.0          0.000384798   0.0199986   -1.09922e-6\n",
       " 2.47359e-6   1.0047       -1.2815e-6    0.0199848\n",
       " 7.52209e-5   0.0386223     0.999888     3.09052e-5\n",
       " 0.000321389  0.470415     -3.24245e-5   1.00011"
      ]
     },
     "metadata": {},
     "output_type": "display_data"
    }
   ],
   "source": [
    "A_bil2"
   ]
  },
  {
   "cell_type": "code",
   "execution_count": 55,
   "metadata": {},
   "outputs": [
    {
     "data": {
      "text/plain": [
       "4×1 Matrix{Float64}:\n",
       " 0.00019995956333333334\n",
       " 0.00039964806000000004\n",
       " 0.01999523290316667\n",
       " 0.03996279079433334"
      ]
     },
     "metadata": {},
     "output_type": "display_data"
    }
   ],
   "source": [
    "B_nom"
   ]
  },
  {
   "cell_type": "code",
   "execution_count": 56,
   "metadata": {},
   "outputs": [
    {
     "data": {
      "text/plain": [
       "4×1 Matrix{Float64}:\n",
       " 0.00019874953781418014\n",
       " 0.0004000365734100342\n",
       " 0.019897841625720503\n",
       " 0.04012235692653121"
      ]
     },
     "metadata": {},
     "output_type": "display_data"
    }
   ],
   "source": [
    "B_bil2"
   ]
  },
  {
   "cell_type": "markdown",
   "metadata": {},
   "source": [
    "### Stabilize with LQR"
   ]
  },
  {
   "cell_type": "code",
   "execution_count": 57,
   "metadata": {},
   "outputs": [
    {
     "data": {
      "text/plain": [
       "1×4 Matrix{Float64}:\n",
       " -63.6723  298.104  -61.4405  47.7338"
      ]
     },
     "metadata": {},
     "output_type": "display_data"
    }
   ],
   "source": [
    "K_bil2 = dlqr(A_bil2, B_bil2, Qlqr, Rlqr)"
   ]
  },
  {
   "cell_type": "code",
   "execution_count": 60,
   "metadata": {},
   "outputs": [
    {
     "name": "stdout",
     "output_type": "stream",
     "text": [
      "Stability Summary:\n",
      "  Dynamics  |  Controller  |  is stable? \n",
      "------------|--------------|--------------\n",
      "  Nominal   |  Nominal     |  true\n",
      "  Bilinear  |  Bilinear    |  true\n",
      "  Nominal   |  Bilinear    |  true\n"
     ]
    }
   ],
   "source": [
    "# Evaluate stability\n",
    "isstable_bilinear2 = maximum(abs.(eigvals(A_bil2 - B_bil2*K_bil2))) < 1.0\n",
    "isstable_nominal_with_bilinear2 = maximum(abs.(eigvals(A_nom - B_nom*K_bil2))) < 1.0\n",
    "\n",
    "println(\"Stability Summary:\")\n",
    "println(\"  Dynamics  |  Controller  |  is stable? \")\n",
    "println(\"------------|--------------|--------------\")\n",
    "println(\"  Nominal   |  Nominal     |  \", isstable_nominal)\n",
    "println(\"  Bilinear  |  Bilinear    |  \", isstable_bilinear2)\n",
    "println(\"  Nominal   |  Bilinear    |  \", isstable_nominal_with_bilinear2)"
   ]
  },
  {
   "cell_type": "code",
   "execution_count": 62,
   "metadata": {},
   "outputs": [
    {
     "data": {
      "image/png": "[encoded data removed]",
      "image/svg+xml": "<?xml version=\"1.0\" encoding=\"utf-8\"?>\n<svg xmlns=\"http://www.w3.org/2000/svg\" xmlns:xlink=\"http://www.w3.org/1999/xlink\" width=\"600\" height=\"400\" viewBox=\"0 0 2400 1600\">\n<defs>\n  <clipPath id=\"clip610\">\n    <rect x=\"0\" y=\"0\" width=\"2400\" height=\"1600\"/>\n  </clipPath>\n</defs>\n<path clip-path=\"url(#clip610)\" d=\"\nM0 1600 L2400 1600 L2400 0 L0 0  Z\n  \" fill=\"#ffffff\" fill-rule=\"evenodd\" fill-opacity=\"1\"/>\n<defs>\n  <clipPath id=\"clip611\">\n    <rect x=\"480\" y=\"0\" width=\"1681\" height=\"1600\"/>\n  </clipPath>\n</defs>\n<path clip-path=\"url(#clip610)\" d=\"\nM174.149 1423.18 L2352.76 1423.18 L2352.76 47.2441 L174.149 47.2441  Z\n  \" fill=\"#ffffff\" fill-rule=\"evenodd\" fill-opacity=\"1\"/>\n<defs>\n  <clipPath id=\"clip612\">\n    <rect x=\"174\" y=\"47\" width=\"2180\" height=\"1377\"/>\n  </clipPath>\n</defs>\n<polyline clip-path=\"url(#clip612)\" style=\"stroke:#000000; stroke-linecap:butt; stroke-linejoin:round; stroke-width:2; stroke-opacity:0.1; fill:none\" points=\"\n  235.808,1423.18 235.808,47.2441 \n  \"/>\n<polyline clip-path=\"url(#clip612)\" style=\"stroke:#000000; stroke-linecap:butt; stroke-linejoin:round; stroke-width:2; stroke-opacity:0.1; fill:none\" points=\"\n  749.63,1423.18 749.63,47.2441 \n  \"/>\n<polyline clip-path=\"url(#clip612)\" style=\"stroke:#000000; stroke-linecap:butt; stroke-linejoin:round; stroke-width:2; stroke-opacity:0.1; fill:none\" points=\"\n  1263.45,1423.18 1263.45,47.2441 \n  \"/>\n<polyline clip-path=\"url(#clip612)\" style=\"stroke:#000000; stroke-linecap:butt; stroke-linejoin:round; stroke-width:2; stroke-opacity:0.1; fill:none\" points=\"\n  1777.27,1423.18 1777.27,47.2441 \n  \"/>\n<polyline clip-path=\"url(#clip612)\" style=\"stroke:#000000; stroke-linecap:butt; stroke-linejoin:round; stroke-width:2; stroke-opacity:0.1; fill:none\" points=\"\n  2291.1,1423.18 2291.1,47.2441 \n  \"/>\n<polyline clip-path=\"url(#clip610)\" style=\"stroke:#000000; stroke-linecap:butt; stroke-linejoin:round; stroke-width:4; stroke-opacity:1; fill:none\" points=\"\n  174.149,1423.18 2352.76,1423.18 \n  \"/>\n<polyline clip-path=\"url(#clip610)\" style=\"stroke:#000000; stroke-linecap:butt; stroke-linejoin:round; stroke-width:4; stroke-opacity:1; fill:none\" points=\"\n  235.808,1423.18 235.808,1404.28 \n  \"/>\n<polyline clip-path=\"url(#clip610)\" style=\"stroke:#000000; stroke-linecap:butt; stroke-linejoin:round; stroke-width:4; stroke-opacity:1; fill:none\" points=\"\n  749.63,1423.18 749.63,1404.28 \n  \"/>\n<polyline clip-path=\"url(#clip610)\" style=\"stroke:#000000; stroke-linecap:butt; stroke-linejoin:round; stroke-width:4; stroke-opacity:1; fill:none\" points=\"\n  1263.45,1423.18 1263.45,1404.28 \n  \"/>\n<polyline clip-path=\"url(#clip610)\" style=\"stroke:#000000; stroke-linecap:butt; stroke-linejoin:round; stroke-width:4; stroke-opacity:1; fill:none\" points=\"\n  1777.27,1423.18 1777.27,1404.28 \n  \"/>\n<polyline clip-path=\"url(#clip610)\" style=\"stroke:#000000; stroke-linecap:butt; stroke-linejoin:round; stroke-width:4; stroke-opacity:1; fill:none\" points=\"\n  2291.1,1423.18 2291.1,1404.28 \n  \"/>\n<path clip-path=\"url(#clip610)\" d=\"M213.192 1454.1 Q209.581 1454.1 207.752 1457.66 Q205.947 1461.2 205.947 1468.33 Q205.947 1475.44 207.752 1479.01 Q209.581 1482.55 213.192 1482.55 Q216.826 1482.55 218.632 1479.01 Q220.46 1475.44 220.46 1468.33 Q220.46 1461.2 218.632 1457.66 Q216.826 1454.1 213.192 1454.1 M213.192 1450.39 Q219.002 1450.39 222.058 1455 Q225.136 1459.58 225.136 1468.33 Q225.136 1477.06 222.058 1481.67 Q219.002 1486.25 213.192 1486.25 Q207.382 1486.25 204.303 1481.67 Q201.248 1477.06 201.248 1468.33 Q201.248 1459.58 204.303 1455 Q207.382 1450.39 213.192 1450.39 Z\" fill=\"#000000\" fill-rule=\"evenodd\" fill-opacity=\"1\" /><path clip-path=\"url(#clip610)\" d=\"M233.354 1479.7 L238.238 1479.7 L238.238 1485.58 L233.354 1485.58 L233.354 1479.7 Z\" fill=\"#000000\" fill-rule=\"evenodd\" fill-opacity=\"1\" /><path clip-path=\"url(#clip610)\" d=\"M258.423 1454.1 Q254.812 1454.1 252.983 1457.66 Q251.178 1461.2 251.178 1468.33 Q251.178 1475.44 252.983 1479.01 Q254.812 1482.55 258.423 1482.55 Q262.057 1482.55 263.863 1479.01 Q265.692 1475.44 265.692 1468.33 Q265.692 1461.2 263.863 1457.66 Q262.057 1454.1 258.423 1454.1 M258.423 1450.39 Q264.233 1450.39 267.289 1455 Q270.368 1459.58 270.368 1468.33 Q270.368 1477.06 267.289 1481.67 Q264.233 1486.25 258.423 1486.25 Q252.613 1486.25 249.534 1481.67 Q246.479 1477.06 246.479 1468.33 Q246.479 1459.58 249.534 1455 Q252.613 1450.39 258.423 1450.39 Z\" fill=\"#000000\" fill-rule=\"evenodd\" fill-opacity=\"1\" /><path clip-path=\"url(#clip610)\" d=\"M721.366 1481.64 L737.686 1481.64 L737.686 1485.58 L715.741 1485.58 L715.741 1481.64 Q718.403 1478.89 722.987 1474.26 Q727.593 1469.61 728.774 1468.27 Q731.019 1465.74 731.899 1464.01 Q732.801 1462.25 732.801 1460.56 Q732.801 1457.8 730.857 1456.07 Q728.936 1454.33 725.834 1454.33 Q723.635 1454.33 721.181 1455.09 Q718.751 1455.86 715.973 1457.41 L715.973 1452.69 Q718.797 1451.55 721.251 1450.97 Q723.704 1450.39 725.741 1450.39 Q731.112 1450.39 734.306 1453.08 Q737.5 1455.77 737.5 1460.26 Q737.5 1462.39 736.69 1464.31 Q735.903 1466.2 733.797 1468.8 Q733.218 1469.47 730.116 1472.69 Q727.014 1475.88 721.366 1481.64 Z\" fill=\"#000000\" fill-rule=\"evenodd\" fill-opacity=\"1\" /><path clip-path=\"url(#clip610)\" d=\"M747.5 1479.7 L752.385 1479.7 L752.385 1485.58 L747.5 1485.58 L747.5 1479.7 Z\" fill=\"#000000\" fill-rule=\"evenodd\" fill-opacity=\"1\" /><path clip-path=\"url(#clip610)\" d=\"M762.616 1451.02 L780.972 1451.02 L780.972 1454.96 L766.898 1454.96 L766.898 1463.43 Q767.917 1463.08 768.935 1462.92 Q769.954 1462.73 770.972 1462.73 Q776.759 1462.73 780.139 1465.9 Q783.519 1469.08 783.519 1474.49 Q783.519 1480.07 780.047 1483.17 Q776.574 1486.25 770.255 1486.25 Q768.079 1486.25 765.81 1485.88 Q763.565 1485.51 761.158 1484.77 L761.158 1480.07 Q763.241 1481.2 765.463 1481.76 Q767.685 1482.32 770.162 1482.32 Q774.167 1482.32 776.505 1480.21 Q778.843 1478.1 778.843 1474.49 Q778.843 1470.88 776.505 1468.77 Q774.167 1466.67 770.162 1466.67 Q768.287 1466.67 766.412 1467.08 Q764.56 1467.5 762.616 1468.38 L762.616 1451.02 Z\" fill=\"#000000\" fill-rule=\"evenodd\" fill-opacity=\"1\" /><path clip-path=\"url(#clip610)\" d=\"M1230.62 1451.02 L1248.97 1451.02 L1248.97 1454.96 L1234.9 1454.96 L1234.9 1463.43 Q1235.92 1463.08 1236.94 1462.92 Q1237.95 1462.73 1238.97 1462.73 Q1244.76 1462.73 1248.14 1465.9 Q1251.52 1469.08 1251.52 1474.49 Q1251.52 1480.07 1248.05 1483.17 Q1244.58 1486.25 1238.26 1486.25 Q1236.08 1486.25 1233.81 1485.88 Q1231.57 1485.51 1229.16 1484.77 L1229.16 1480.07 Q1231.24 1481.2 1233.46 1481.76 Q1235.69 1482.32 1238.16 1482.32 Q1242.17 1482.32 1244.51 1480.21 Q1246.84 1478.1 1246.84 1474.49 Q1246.84 1470.88 1244.51 1468.77 Q1242.17 1466.67 1238.16 1466.67 Q1236.29 1466.67 1234.41 1467.08 Q1232.56 1467.5 1230.62 1468.38 L1230.62 1451.02 Z\" fill=\"#000000\" fill-rule=\"evenodd\" fill-opacity=\"1\" /><path clip-path=\"url(#clip610)\" d=\"M1260.73 1479.7 L1265.62 1479.7 L1265.62 1485.58 L1260.73 1485.58 L1260.73 1479.7 Z\" fill=\"#000000\" fill-rule=\"evenodd\" fill-opacity=\"1\" /><path clip-path=\"url(#clip610)\" d=\"M1285.8 1454.1 Q1282.19 1454.1 1280.36 1457.66 Q1278.56 1461.2 1278.56 1468.33 Q1278.56 1475.44 1280.36 1479.01 Q1282.19 1482.55 1285.8 1482.55 Q1289.44 1482.55 1291.24 1479.01 Q1293.07 1475.44 1293.07 1468.33 Q1293.07 1461.2 1291.24 1457.66 Q1289.44 1454.1 1285.8 1454.1 M1285.8 1450.39 Q1291.61 1450.39 1294.67 1455 Q1297.75 1459.58 1297.75 1468.33 Q1297.75 1477.06 1294.67 1481.67 Q1291.61 1486.25 1285.8 1486.25 Q1279.99 1486.25 1276.91 1481.67 Q1273.86 1477.06 1273.86 1468.33 Q1273.86 1459.58 1276.91 1455 Q1279.99 1450.39 1285.8 1450.39 Z\" fill=\"#000000\" fill-rule=\"evenodd\" fill-opacity=\"1\" /><path clip-path=\"url(#clip610)\" d=\"M1743.59 1451.02 L1765.82 1451.02 L1765.82 1453.01 L1753.27 1485.58 L1748.39 1485.58 L1760.19 1454.96 L1743.59 1454.96 L1743.59 1451.02 Z\" fill=\"#000000\" fill-rule=\"evenodd\" fill-opacity=\"1\" /><path clip-path=\"url(#clip610)\" d=\"M1774.94 1479.7 L1779.82 1479.7 L1779.82 1485.58 L1774.94 1485.58 L1774.94 1479.7 Z\" fill=\"#000000\" fill-rule=\"evenodd\" fill-opacity=\"1\" /><path clip-path=\"url(#clip610)\" d=\"M1790.05 1451.02 L1808.41 1451.02 L1808.41 1454.96 L1794.33 1454.96 L1794.33 1463.43 Q1795.35 1463.08 1796.37 1462.92 Q1797.39 1462.73 1798.41 1462.73 Q1804.2 1462.73 1807.58 1465.9 Q1810.96 1469.08 1810.96 1474.49 Q1810.96 1480.07 1807.48 1483.17 Q1804.01 1486.25 1797.69 1486.25 Q1795.52 1486.25 1793.25 1485.88 Q1791 1485.51 1788.59 1484.77 L1788.59 1480.07 Q1790.68 1481.2 1792.9 1481.76 Q1795.12 1482.32 1797.6 1482.32 Q1801.6 1482.32 1803.94 1480.21 Q1806.28 1478.1 1806.28 1474.49 Q1806.28 1470.88 1803.94 1468.77 Q1801.6 1466.67 1797.6 1466.67 Q1795.72 1466.67 1793.85 1467.08 Q1792 1467.5 1790.05 1468.38 L1790.05 1451.02 Z\" fill=\"#000000\" fill-rule=\"evenodd\" fill-opacity=\"1\" /><path clip-path=\"url(#clip610)\" d=\"M2243.17 1481.64 L2250.81 1481.64 L2250.81 1455.28 L2242.5 1456.95 L2242.5 1452.69 L2250.76 1451.02 L2255.44 1451.02 L2255.44 1481.64 L2263.08 1481.64 L2263.08 1485.58 L2243.17 1485.58 L2243.17 1481.64 Z\" fill=\"#000000\" fill-rule=\"evenodd\" fill-opacity=\"1\" /><path clip-path=\"url(#clip610)\" d=\"M2282.52 1454.1 Q2278.91 1454.1 2277.08 1457.66 Q2275.28 1461.2 2275.28 1468.33 Q2275.28 1475.44 2277.08 1479.01 Q2278.91 1482.55 2282.52 1482.55 Q2286.16 1482.55 2287.96 1479.01 Q2289.79 1475.44 2289.79 1468.33 Q2289.79 1461.2 2287.96 1457.66 Q2286.16 1454.1 2282.52 1454.1 M2282.52 1450.39 Q2288.33 1450.39 2291.39 1455 Q2294.47 1459.58 2294.47 1468.33 Q2294.47 1477.06 2291.39 1481.67 Q2288.33 1486.25 2282.52 1486.25 Q2276.71 1486.25 2273.63 1481.67 Q2270.58 1477.06 2270.58 1468.33 Q2270.58 1459.58 2273.63 1455 Q2276.71 1450.39 2282.52 1450.39 Z\" fill=\"#000000\" fill-rule=\"evenodd\" fill-opacity=\"1\" /><path clip-path=\"url(#clip610)\" d=\"M2302.68 1479.7 L2307.57 1479.7 L2307.57 1485.58 L2302.68 1485.58 L2302.68 1479.7 Z\" fill=\"#000000\" fill-rule=\"evenodd\" fill-opacity=\"1\" /><path clip-path=\"url(#clip610)\" d=\"M2327.75 1454.1 Q2324.14 1454.1 2322.31 1457.66 Q2320.51 1461.2 2320.51 1468.33 Q2320.51 1475.44 2322.31 1479.01 Q2324.14 1482.55 2327.75 1482.55 Q2331.39 1482.55 2333.19 1479.01 Q2335.02 1475.44 2335.02 1468.33 Q2335.02 1461.2 2333.19 1457.66 Q2331.39 1454.1 2327.75 1454.1 M2327.75 1450.39 Q2333.56 1450.39 2336.62 1455 Q2339.7 1459.58 2339.7 1468.33 Q2339.7 1477.06 2336.62 1481.67 Q2333.56 1486.25 2327.75 1486.25 Q2321.94 1486.25 2318.86 1481.67 Q2315.81 1477.06 2315.81 1468.33 Q2315.81 1459.58 2318.86 1455 Q2321.94 1450.39 2327.75 1450.39 Z\" fill=\"#000000\" fill-rule=\"evenodd\" fill-opacity=\"1\" /><path clip-path=\"url(#clip610)\" d=\"M1150.91 1522.27 L1150.91 1532.4 L1162.97 1532.4 L1162.97 1536.95 L1150.91 1536.95 L1150.91 1556.3 Q1150.91 1560.66 1152.08 1561.9 Q1153.29 1563.14 1156.95 1563.14 L1162.97 1563.14 L1162.97 1568.04 L1156.95 1568.04 Q1150.17 1568.04 1147.6 1565.53 Q1145.02 1562.98 1145.02 1556.3 L1145.02 1536.95 L1140.72 1536.95 L1140.72 1532.4 L1145.02 1532.4 L1145.02 1522.27 L1150.91 1522.27 Z\" fill=\"#000000\" fill-rule=\"evenodd\" fill-opacity=\"1\" /><path clip-path=\"url(#clip610)\" d=\"M1170.67 1532.4 L1176.53 1532.4 L1176.53 1568.04 L1170.67 1568.04 L1170.67 1532.4 M1170.67 1518.52 L1176.53 1518.52 L1176.53 1525.93 L1170.67 1525.93 L1170.67 1518.52 Z\" fill=\"#000000\" fill-rule=\"evenodd\" fill-opacity=\"1\" /><path clip-path=\"url(#clip610)\" d=\"M1216.54 1539.24 Q1218.73 1535.29 1221.79 1533.41 Q1224.84 1531.54 1228.98 1531.54 Q1234.55 1531.54 1237.58 1535.45 Q1240.6 1539.33 1240.6 1546.53 L1240.6 1568.04 L1234.71 1568.04 L1234.71 1546.72 Q1234.71 1541.59 1232.9 1539.11 Q1231.08 1536.63 1227.36 1536.63 Q1222.81 1536.63 1220.17 1539.65 Q1217.52 1542.68 1217.52 1547.9 L1217.52 1568.04 L1211.64 1568.04 L1211.64 1546.72 Q1211.64 1541.56 1209.82 1539.11 Q1208.01 1536.63 1204.22 1536.63 Q1199.73 1536.63 1197.09 1539.68 Q1194.45 1542.71 1194.45 1547.9 L1194.45 1568.04 L1188.56 1568.04 L1188.56 1532.4 L1194.45 1532.4 L1194.45 1537.93 Q1196.45 1534.66 1199.25 1533.1 Q1202.06 1531.54 1205.91 1531.54 Q1209.79 1531.54 1212.49 1533.51 Q1215.23 1535.48 1216.54 1539.24 Z\" fill=\"#000000\" fill-rule=\"evenodd\" fill-opacity=\"1\" /><path clip-path=\"url(#clip610)\" d=\"M1282.77 1548.76 L1282.77 1551.62 L1255.85 1551.62 Q1256.23 1557.67 1259.47 1560.85 Q1262.75 1564 1268.58 1564 Q1271.95 1564 1275.1 1563.17 Q1278.28 1562.35 1281.4 1560.69 L1281.4 1566.23 Q1278.25 1567.57 1274.94 1568.27 Q1271.63 1568.97 1268.23 1568.97 Q1259.7 1568.97 1254.7 1564 Q1249.73 1559.04 1249.73 1550.57 Q1249.73 1541.82 1254.44 1536.69 Q1259.19 1531.54 1267.21 1531.54 Q1274.4 1531.54 1278.57 1536.18 Q1282.77 1540.8 1282.77 1548.76 M1276.92 1547.04 Q1276.85 1542.23 1274.21 1539.37 Q1271.6 1536.5 1267.27 1536.5 Q1262.37 1536.5 1259.41 1539.27 Q1256.48 1542.04 1256.04 1547.07 L1276.92 1547.04 Z\" fill=\"#000000\" fill-rule=\"evenodd\" fill-opacity=\"1\" /><path clip-path=\"url(#clip610)\" d=\"M1327.17 1518.58 Q1322.91 1525.9 1320.84 1533.06 Q1318.77 1540.23 1318.77 1547.58 Q1318.77 1554.93 1320.84 1562.16 Q1322.94 1569.35 1327.17 1576.64 L1322.08 1576.64 Q1317.31 1569.16 1314.92 1561.93 Q1312.56 1554.71 1312.56 1547.58 Q1312.56 1540.48 1314.92 1533.29 Q1317.27 1526.09 1322.08 1518.58 L1327.17 1518.58 Z\" fill=\"#000000\" fill-rule=\"evenodd\" fill-opacity=\"1\" /><path clip-path=\"url(#clip610)\" d=\"M1361.26 1533.45 L1361.26 1538.98 Q1358.78 1537.71 1356.11 1537.07 Q1353.43 1536.44 1350.57 1536.44 Q1346.21 1536.44 1344.01 1537.77 Q1341.85 1539.11 1341.85 1541.79 Q1341.85 1543.82 1343.41 1545 Q1344.97 1546.15 1349.68 1547.2 L1351.68 1547.64 Q1357.92 1548.98 1360.53 1551.43 Q1363.17 1553.85 1363.17 1558.21 Q1363.17 1563.17 1359.22 1566.07 Q1355.31 1568.97 1348.43 1568.97 Q1345.57 1568.97 1342.45 1568.39 Q1339.36 1567.85 1335.93 1566.74 L1335.93 1560.69 Q1339.17 1562.38 1342.32 1563.24 Q1345.47 1564.07 1348.56 1564.07 Q1352.7 1564.07 1354.93 1562.66 Q1357.16 1561.23 1357.16 1558.65 Q1357.16 1556.27 1355.53 1554.99 Q1353.94 1553.72 1348.5 1552.54 L1346.46 1552.07 Q1341.02 1550.92 1338.6 1548.56 Q1336.18 1546.18 1336.18 1542.04 Q1336.18 1537.01 1339.75 1534.27 Q1343.31 1531.54 1349.87 1531.54 Q1353.11 1531.54 1355.98 1532.01 Q1358.84 1532.49 1361.26 1533.45 Z\" fill=\"#000000\" fill-rule=\"evenodd\" fill-opacity=\"1\" /><path clip-path=\"url(#clip610)\" d=\"M1371.57 1518.58 L1376.67 1518.58 Q1381.44 1526.09 1383.8 1533.29 Q1386.18 1540.48 1386.18 1547.58 Q1386.18 1554.71 1383.8 1561.93 Q1381.44 1569.16 1376.67 1576.64 L1371.57 1576.64 Q1375.81 1569.35 1377.88 1562.16 Q1379.98 1554.93 1379.98 1547.58 Q1379.98 1540.23 1377.88 1533.06 Q1375.81 1525.9 1371.57 1518.58 Z\" fill=\"#000000\" fill-rule=\"evenodd\" fill-opacity=\"1\" /><polyline clip-path=\"url(#clip612)\" style=\"stroke:#000000; stroke-linecap:butt; stroke-linejoin:round; stroke-width:2; stroke-opacity:0.1; fill:none\" points=\"\n  174.149,1254 2352.76,1254 \n  \"/>\n<polyline clip-path=\"url(#clip612)\" style=\"stroke:#000000; stroke-linecap:butt; stroke-linejoin:round; stroke-width:2; stroke-opacity:0.1; fill:none\" points=\"\n  174.149,928.396 2352.76,928.396 \n  \"/>\n<polyline clip-path=\"url(#clip612)\" style=\"stroke:#000000; stroke-linecap:butt; stroke-linejoin:round; stroke-width:2; stroke-opacity:0.1; fill:none\" points=\"\n  174.149,602.795 2352.76,602.795 \n  \"/>\n<polyline clip-path=\"url(#clip612)\" style=\"stroke:#000000; stroke-linecap:butt; stroke-linejoin:round; stroke-width:2; stroke-opacity:0.1; fill:none\" points=\"\n  174.149,277.194 2352.76,277.194 \n  \"/>\n<polyline clip-path=\"url(#clip610)\" style=\"stroke:#000000; stroke-linecap:butt; stroke-linejoin:round; stroke-width:4; stroke-opacity:1; fill:none\" points=\"\n  174.149,1423.18 174.149,47.2441 \n  \"/>\n<polyline clip-path=\"url(#clip610)\" style=\"stroke:#000000; stroke-linecap:butt; stroke-linejoin:round; stroke-width:4; stroke-opacity:1; fill:none\" points=\"\n  174.149,1254 193.047,1254 \n  \"/>\n<polyline clip-path=\"url(#clip610)\" style=\"stroke:#000000; stroke-linecap:butt; stroke-linejoin:round; stroke-width:4; stroke-opacity:1; fill:none\" points=\"\n  174.149,928.396 193.047,928.396 \n  \"/>\n<polyline clip-path=\"url(#clip610)\" style=\"stroke:#000000; stroke-linecap:butt; stroke-linejoin:round; stroke-width:4; stroke-opacity:1; fill:none\" points=\"\n  174.149,602.795 193.047,602.795 \n  \"/>\n<polyline clip-path=\"url(#clip610)\" style=\"stroke:#000000; stroke-linecap:butt; stroke-linejoin:round; stroke-width:4; stroke-opacity:1; fill:none\" points=\"\n  174.149,277.194 193.047,277.194 \n  \"/>\n<path clip-path=\"url(#clip610)\" d=\"M126.205 1239.8 Q122.593 1239.8 120.765 1243.36 Q118.959 1246.9 118.959 1254.03 Q118.959 1261.14 120.765 1264.7 Q122.593 1268.25 126.205 1268.25 Q129.839 1268.25 131.644 1264.7 Q133.473 1261.14 133.473 1254.03 Q133.473 1246.9 131.644 1243.36 Q129.839 1239.8 126.205 1239.8 M126.205 1236.09 Q132.015 1236.09 135.07 1240.7 Q138.149 1245.28 138.149 1254.03 Q138.149 1262.76 135.07 1267.37 Q132.015 1271.95 126.205 1271.95 Q120.394 1271.95 117.316 1267.37 Q114.26 1262.76 114.26 1254.03 Q114.26 1245.28 117.316 1240.7 Q120.394 1236.09 126.205 1236.09 Z\" fill=\"#000000\" fill-rule=\"evenodd\" fill-opacity=\"1\" /><path clip-path=\"url(#clip610)\" d=\"M118.242 941.741 L125.88 941.741 L125.88 915.376 L117.57 917.042 L117.57 912.783 L125.834 911.116 L130.51 911.116 L130.51 941.741 L138.149 941.741 L138.149 945.676 L118.242 945.676 L118.242 941.741 Z\" fill=\"#000000\" fill-rule=\"evenodd\" fill-opacity=\"1\" /><path clip-path=\"url(#clip610)\" d=\"M121.83 616.14 L138.149 616.14 L138.149 620.075 L116.205 620.075 L116.205 616.14 Q118.867 613.385 123.45 608.756 Q128.056 604.103 129.237 602.76 Q131.482 600.237 132.362 598.501 Q133.265 596.742 133.265 595.052 Q133.265 592.297 131.32 590.561 Q129.399 588.825 126.297 588.825 Q124.098 588.825 121.644 589.589 Q119.214 590.353 116.436 591.904 L116.436 587.182 Q119.26 586.048 121.714 585.469 Q124.168 584.89 126.205 584.89 Q131.575 584.89 134.769 587.575 Q137.964 590.26 137.964 594.751 Q137.964 596.881 137.154 598.802 Q136.367 600.7 134.26 603.293 Q133.681 603.964 130.58 607.182 Q127.478 610.376 121.83 616.14 Z\" fill=\"#000000\" fill-rule=\"evenodd\" fill-opacity=\"1\" /><path clip-path=\"url(#clip610)\" d=\"M131.019 275.84 Q134.376 276.557 136.251 278.826 Q138.149 281.094 138.149 284.428 Q138.149 289.543 134.63 292.344 Q131.112 295.145 124.63 295.145 Q122.455 295.145 120.14 294.705 Q117.848 294.289 115.394 293.432 L115.394 288.918 Q117.339 290.053 119.654 290.631 Q121.968 291.21 124.492 291.21 Q128.89 291.21 131.181 289.474 Q133.496 287.738 133.496 284.428 Q133.496 281.372 131.343 279.659 Q129.214 277.923 125.394 277.923 L121.367 277.923 L121.367 274.08 L125.58 274.08 Q129.029 274.08 130.857 272.715 Q132.686 271.326 132.686 268.733 Q132.686 266.071 130.788 264.659 Q128.913 263.224 125.394 263.224 Q123.473 263.224 121.274 263.641 Q119.075 264.057 116.436 264.937 L116.436 260.77 Q119.098 260.03 121.413 259.659 Q123.751 259.289 125.811 259.289 Q131.135 259.289 134.237 261.719 Q137.339 264.127 137.339 268.247 Q137.339 271.117 135.695 273.108 Q134.052 275.076 131.019 275.84 Z\" fill=\"#000000\" fill-rule=\"evenodd\" fill-opacity=\"1\" /><path clip-path=\"url(#clip610)\" d=\"M29.4065 806.062 L34.9447 806.062 Q33.6716 808.545 33.035 811.219 Q32.3984 813.892 32.3984 816.757 Q32.3984 821.117 33.7352 823.313 Q35.072 825.478 37.7456 825.478 Q39.7826 825.478 40.9603 823.918 Q42.1061 822.358 43.1565 817.648 L43.6021 815.643 Q44.9389 809.404 47.3897 806.794 Q49.8086 804.153 54.1691 804.153 Q59.1344 804.153 62.0308 808.099 Q64.9272 812.014 64.9272 818.889 Q64.9272 821.754 64.3543 824.873 Q63.8132 827.96 62.6992 831.398 L56.6518 831.398 Q58.3387 828.151 59.198 825 Q60.0256 821.849 60.0256 818.762 Q60.0256 814.624 58.6251 812.396 Q57.1929 810.168 54.6147 810.168 Q52.2276 810.168 50.9545 811.791 Q49.6813 813.383 48.5037 818.826 L48.0262 820.863 Q46.8804 826.305 44.5251 828.724 Q42.138 831.143 38.0002 831.143 Q32.9713 831.143 30.2341 827.578 Q27.4968 824.014 27.4968 817.457 Q27.4968 814.21 27.9743 811.346 Q28.4517 808.481 29.4065 806.062 Z\" fill=\"#000000\" fill-rule=\"evenodd\" fill-opacity=\"1\" /><path clip-path=\"url(#clip610)\" d=\"M18.2347 789.034 L28.3562 789.034 L28.3562 776.971 L32.9077 776.971 L32.9077 789.034 L52.2594 789.034 Q56.6199 789.034 57.8613 787.856 Q59.1026 786.647 59.1026 782.987 L59.1026 776.971 L64.0042 776.971 L64.0042 782.987 Q64.0042 789.766 61.4897 792.344 Q58.9434 794.922 52.2594 794.922 L32.9077 794.922 L32.9077 799.219 L28.3562 799.219 L28.3562 794.922 L18.2347 794.922 L18.2347 789.034 Z\" fill=\"#000000\" fill-rule=\"evenodd\" fill-opacity=\"1\" /><path clip-path=\"url(#clip610)\" d=\"M46.0847 753.068 Q46.0847 760.166 47.7079 762.903 Q49.3312 765.64 53.2461 765.64 Q56.3653 765.64 58.2114 763.603 Q60.0256 761.534 60.0256 758.001 Q60.0256 753.131 56.5881 750.203 Q53.1188 747.243 47.3897 747.243 L46.0847 747.243 L46.0847 753.068 M43.6657 741.387 L64.0042 741.387 L64.0042 747.243 L58.5933 747.243 Q61.8398 749.248 63.3994 752.24 Q64.9272 755.232 64.9272 759.561 Q64.9272 765.035 61.8716 768.282 Q58.7843 771.496 53.6281 771.496 Q47.6125 771.496 44.5569 767.486 Q41.5014 763.444 41.5014 755.455 L41.5014 747.243 L40.9285 747.243 Q36.8862 747.243 34.6901 749.917 Q32.4621 752.559 32.4621 757.365 Q32.4621 760.42 33.1941 763.317 Q33.9262 766.213 35.3903 768.887 L29.9795 768.887 Q28.7381 765.672 28.1334 762.648 Q27.4968 759.624 27.4968 756.76 Q27.4968 749.026 31.5072 745.206 Q35.5176 741.387 43.6657 741.387 Z\" fill=\"#000000\" fill-rule=\"evenodd\" fill-opacity=\"1\" /><path clip-path=\"url(#clip610)\" d=\"M18.2347 723.531 L28.3562 723.531 L28.3562 711.468 L32.9077 711.468 L32.9077 723.531 L52.2594 723.531 Q56.6199 723.531 57.8613 722.353 Q59.1026 721.144 59.1026 717.483 L59.1026 711.468 L64.0042 711.468 L64.0042 717.483 Q64.0042 724.263 61.4897 726.841 Q58.9434 729.419 52.2594 729.419 L32.9077 729.419 L32.9077 733.716 L28.3562 733.716 L28.3562 729.419 L18.2347 729.419 L18.2347 723.531 Z\" fill=\"#000000\" fill-rule=\"evenodd\" fill-opacity=\"1\" /><path clip-path=\"url(#clip610)\" d=\"M44.7161 673.274 L47.5806 673.274 L47.5806 700.201 Q53.6281 699.819 56.8109 696.572 Q59.9619 693.294 59.9619 687.469 Q59.9619 684.095 59.1344 680.944 Q58.3069 677.761 56.6518 674.642 L62.1899 674.642 Q63.5267 677.793 64.227 681.103 Q64.9272 684.414 64.9272 687.819 Q64.9272 696.349 59.9619 701.346 Q54.9967 706.312 46.5303 706.312 Q37.7774 706.312 32.6531 701.601 Q27.4968 696.859 27.4968 688.838 Q27.4968 681.645 32.1438 677.475 Q36.7589 673.274 44.7161 673.274 M42.9973 679.13 Q38.1912 679.194 35.3266 681.836 Q32.4621 684.445 32.4621 688.774 Q32.4621 693.676 35.2312 696.636 Q38.0002 699.564 43.0292 700.01 L42.9973 679.13 Z\" fill=\"#000000\" fill-rule=\"evenodd\" fill-opacity=\"1\" /><path clip-path=\"url(#clip610)\" d=\"M29.4065 640.936 L34.9447 640.936 Q33.6716 643.418 33.035 646.092 Q32.3984 648.766 32.3984 651.63 Q32.3984 655.991 33.7352 658.187 Q35.072 660.351 37.7456 660.351 Q39.7826 660.351 40.9603 658.792 Q42.1061 657.232 43.1565 652.521 L43.6021 650.516 Q44.9389 644.278 47.3897 641.668 Q49.8086 639.026 54.1691 639.026 Q59.1344 639.026 62.0308 642.973 Q64.9272 646.888 64.9272 653.763 Q64.9272 656.627 64.3543 659.747 Q63.8132 662.834 62.6992 666.271 L56.6518 666.271 Q58.3387 663.025 59.198 659.874 Q60.0256 656.723 60.0256 653.635 Q60.0256 649.498 58.6251 647.27 Q57.1929 645.042 54.6147 645.042 Q52.2276 645.042 50.9545 646.665 Q49.6813 648.256 48.5037 653.699 L48.0262 655.736 Q46.8804 661.179 44.5251 663.598 Q42.138 666.017 38.0002 666.017 Q32.9713 666.017 30.2341 662.452 Q27.4968 658.887 27.4968 652.33 Q27.4968 649.084 27.9743 646.219 Q28.4517 643.355 29.4065 640.936 Z\" fill=\"#000000\" fill-rule=\"evenodd\" fill-opacity=\"1\" /><polyline clip-path=\"url(#clip612)\" style=\"stroke:#009af9; stroke-linecap:butt; stroke-linejoin:round; stroke-width:4; stroke-opacity:1; fill:none\" points=\"\n  235.808,1384.24 239.918,1373.28 244.029,1342.7 248.139,1298.96 252.25,1251.38 256.361,1208.2 260.471,1173.18 264.582,1146.56 268.692,1127.48 272.803,1114.8 \n  276.913,1107.31 281.024,1103.7 285.135,1102.61 289.245,1102.84 293.356,1103.46 297.466,1103.86 301.577,1103.79 305.687,1103.25 309.798,1102.35 313.909,1101.26 \n  318.019,1100.13 322.13,1099.1 326.24,1098.23 330.351,1097.58 334.462,1097.16 338.572,1096.97 342.683,1097.01 346.793,1097.25 350.904,1097.69 355.014,1098.29 \n  359.125,1099.06 363.236,1099.97 367.346,1101.02 371.457,1102.2 375.567,1103.5 379.678,1104.9 383.788,1106.41 387.899,1108.02 392.01,1109.71 396.12,1111.48 \n  400.231,1113.34 404.341,1115.26 408.452,1117.25 412.563,1119.29 416.673,1121.39 420.784,1123.54 424.894,1125.73 429.005,1127.95 433.115,1130.21 437.226,1132.5 \n  441.337,1134.82 445.447,1137.16 449.558,1139.51 453.668,1141.87 457.779,1144.25 461.889,1146.63 466,1149.02 470.111,1151.4 474.221,1153.79 478.332,1156.16 \n  482.442,1158.53 486.553,1160.9 490.664,1163.24 494.774,1165.58 498.885,1167.89 502.995,1170.19 507.106,1172.47 511.216,1174.72 515.327,1176.96 519.438,1179.16 \n  523.548,1181.34 527.659,1183.5 531.769,1185.62 535.88,1187.72 539.99,1189.78 544.101,1191.82 548.212,1193.82 552.322,1195.79 556.433,1197.72 560.543,1199.62 \n  564.654,1201.49 568.765,1203.32 572.875,1205.12 576.986,1206.88 581.096,1208.6 585.207,1210.29 589.317,1211.94 593.428,1213.56 597.539,1215.14 601.649,1216.68 \n  605.76,1218.19 609.87,1219.66 613.981,1221.1 618.091,1222.5 622.202,1223.86 626.313,1225.19 630.423,1226.48 634.534,1227.74 638.644,1228.97 642.755,1230.16 \n  646.866,1231.31 650.976,1232.44 655.087,1233.53 659.197,1234.59 663.308,1235.61 667.418,1236.61 671.529,1237.57 675.64,1238.5 679.75,1239.4 683.861,1240.27 \n  687.971,1241.12 692.082,1241.93 696.192,1242.72 700.303,1243.48 704.414,1244.21 708.524,1244.91 712.635,1245.59 716.745,1246.25 720.856,1246.87 724.967,1247.48 \n  729.077,1248.06 733.188,1248.62 737.298,1249.15 741.409,1249.66 745.519,1250.16 749.63,1250.63 753.741,1251.08 757.851,1251.5 761.962,1251.91 766.072,1252.31 \n  770.183,1252.68 774.293,1253.03 778.404,1253.37 782.515,1253.69 786.625,1254 790.736,1254.28 794.846,1254.56 798.957,1254.82 803.068,1255.06 807.178,1255.29 \n  811.289,1255.51 815.399,1255.71 819.51,1255.9 823.62,1256.08 827.731,1256.24 831.842,1256.4 835.952,1256.54 840.063,1256.68 844.173,1256.8 848.284,1256.92 \n  852.394,1257.02 856.505,1257.11 860.616,1257.2 864.726,1257.28 868.837,1257.35 872.947,1257.41 877.058,1257.47 881.169,1257.52 885.279,1257.56 889.39,1257.59 \n  893.5,1257.62 897.611,1257.65 901.721,1257.66 905.832,1257.68 909.943,1257.68 914.053,1257.69 918.164,1257.69 922.274,1257.68 926.385,1257.67 930.495,1257.65 \n  934.606,1257.64 938.717,1257.62 942.827,1257.59 946.938,1257.56 951.048,1257.53 955.159,1257.5 959.27,1257.47 963.38,1257.43 967.491,1257.39 971.601,1257.35 \n  975.712,1257.31 979.822,1257.26 983.933,1257.21 988.044,1257.17 992.154,1257.12 996.265,1257.07 1000.38,1257.02 1004.49,1256.96 1008.6,1256.91 1012.71,1256.86 \n  1016.82,1256.8 1020.93,1256.75 1025.04,1256.69 1029.15,1256.64 1033.26,1256.58 1037.37,1256.52 1041.48,1256.47 1045.59,1256.41 1049.7,1256.36 1053.81,1256.3 \n  1057.92,1256.24 1062.03,1256.19 1066.14,1256.13 1070.26,1256.08 1074.37,1256.02 1078.48,1255.97 1082.59,1255.92 1086.7,1255.86 1090.81,1255.81 1094.92,1255.76 \n  1099.03,1255.71 1103.14,1255.66 1107.25,1255.61 1111.36,1255.56 1115.47,1255.51 1119.58,1255.46 1123.69,1255.42 1127.8,1255.37 1131.91,1255.32 1136.02,1255.28 \n  1140.14,1255.23 1144.25,1255.19 1148.36,1255.15 1152.47,1255.11 1156.58,1255.07 1160.69,1255.03 1164.8,1254.99 1168.91,1254.95 1173.02,1254.91 1177.13,1254.88 \n  1181.24,1254.84 1185.35,1254.81 1189.46,1254.77 1193.57,1254.74 1197.68,1254.71 1201.79,1254.68 1205.9,1254.65 1210.01,1254.62 1214.13,1254.59 1218.24,1254.56 \n  1222.35,1254.53 1226.46,1254.51 1230.57,1254.48 1234.68,1254.46 1238.79,1254.43 1242.9,1254.41 1247.01,1254.39 1251.12,1254.36 1255.23,1254.34 1259.34,1254.32 \n  1263.45,1254.3 1267.56,1254.28 1271.67,1254.26 1275.78,1254.25 1279.89,1254.23 1284.01,1254.21 1288.12,1254.2 1292.23,1254.18 1296.34,1254.17 1300.45,1254.15 \n  1304.56,1254.14 1308.67,1254.13 1312.78,1254.11 1316.89,1254.1 1321,1254.09 1325.11,1254.08 1329.22,1254.07 1333.33,1254.06 1337.44,1254.05 1341.55,1254.04 \n  1345.66,1254.03 1349.77,1254.02 1353.89,1254.01 1358,1254.01 1362.11,1254 1366.22,1253.99 1370.33,1253.98 1374.44,1253.98 1378.55,1253.97 1382.66,1253.97 \n  1386.77,1253.96 1390.88,1253.96 1394.99,1253.95 1399.1,1253.95 1403.21,1253.95 1407.32,1253.94 1411.43,1253.94 1415.54,1253.93 1419.65,1253.93 1423.77,1253.93 \n  1427.88,1253.93 1431.99,1253.92 1436.1,1253.92 1440.21,1253.92 1444.32,1253.92 1448.43,1253.92 1452.54,1253.92 1456.65,1253.92 1460.76,1253.91 1464.87,1253.91 \n  1468.98,1253.91 1473.09,1253.91 1477.2,1253.91 1481.31,1253.91 1485.42,1253.91 1489.53,1253.91 1493.64,1253.91 1497.76,1253.91 1501.87,1253.91 1505.98,1253.91 \n  1510.09,1253.91 1514.2,1253.91 1518.31,1253.91 1522.42,1253.91 1526.53,1253.91 1530.64,1253.92 1534.75,1253.92 1538.86,1253.92 1542.97,1253.92 1547.08,1253.92 \n  1551.19,1253.92 1555.3,1253.92 1559.41,1253.92 1563.52,1253.92 1567.64,1253.92 1571.75,1253.93 1575.86,1253.93 1579.97,1253.93 1584.08,1253.93 1588.19,1253.93 \n  1592.3,1253.93 1596.41,1253.93 1600.52,1253.93 1604.63,1253.94 1608.74,1253.94 1612.85,1253.94 1616.96,1253.94 1621.07,1253.94 1625.18,1253.94 1629.29,1253.94 \n  1633.4,1253.94 1637.52,1253.95 1641.63,1253.95 1645.74,1253.95 1649.85,1253.95 1653.96,1253.95 1658.07,1253.95 1662.18,1253.95 1666.29,1253.96 1670.4,1253.96 \n  1674.51,1253.96 1678.62,1253.96 1682.73,1253.96 1686.84,1253.96 1690.95,1253.96 1695.06,1253.96 1699.17,1253.96 1703.28,1253.97 1707.39,1253.97 1711.51,1253.97 \n  1715.62,1253.97 1719.73,1253.97 1723.84,1253.97 1727.95,1253.97 1732.06,1253.97 1736.17,1253.97 1740.28,1253.97 1744.39,1253.98 1748.5,1253.98 1752.61,1253.98 \n  1756.72,1253.98 1760.83,1253.98 1764.94,1253.98 1769.05,1253.98 1773.16,1253.98 1777.27,1253.98 1781.39,1253.98 1785.5,1253.98 1789.61,1253.98 1793.72,1253.98 \n  1797.83,1253.99 1801.94,1253.99 1806.05,1253.99 1810.16,1253.99 1814.27,1253.99 1818.38,1253.99 1822.49,1253.99 1826.6,1253.99 1830.71,1253.99 1834.82,1253.99 \n  1838.93,1253.99 1843.04,1253.99 1847.15,1253.99 1851.27,1253.99 1855.38,1253.99 1859.49,1253.99 1863.6,1253.99 1867.71,1253.99 1871.82,1253.99 1875.93,1253.99 \n  1880.04,1253.99 1884.15,1253.99 1888.26,1254 1892.37,1254 1896.48,1254 1900.59,1254 1904.7,1254 1908.81,1254 1912.92,1254 1917.03,1254 \n  1921.15,1254 1925.26,1254 1929.37,1254 1933.48,1254 1937.59,1254 1941.7,1254 1945.81,1254 1949.92,1254 1954.03,1254 1958.14,1254 \n  1962.25,1254 1966.36,1254 1970.47,1254 1974.58,1254 1978.69,1254 1982.8,1254 1986.91,1254 1991.02,1254 1995.14,1254 1999.25,1254 \n  2003.36,1254 2007.47,1254 2011.58,1254 2015.69,1254 2019.8,1254 2023.91,1254 2028.02,1254 2032.13,1254 2036.24,1254 2040.35,1254 \n  2044.46,1254 2048.57,1254 2052.68,1254 2056.79,1254 2060.9,1254 2065.02,1254 2069.13,1254 2073.24,1254 2077.35,1254 2081.46,1254 \n  2085.57,1254 2089.68,1254 2093.79,1254 2097.9,1254 2102.01,1254 2106.12,1254 2110.23,1254 2114.34,1254 2118.45,1254 2122.56,1254 \n  2126.67,1254 2130.78,1254 2134.9,1254 2139.01,1254 2143.12,1254 2147.23,1254 2151.34,1254 2155.45,1254 2159.56,1254 2163.67,1254 \n  2167.78,1254 2171.89,1254 2176,1254 2180.11,1254 2184.22,1254 2188.33,1254 2192.44,1254 2196.55,1254 2200.66,1254 2204.78,1254 \n  2208.89,1254 2213,1254 2217.11,1254 2221.22,1254 2225.33,1254 2229.44,1254 2233.55,1254 2237.66,1254 2241.77,1254 2245.88,1254 \n  2249.99,1254 2254.1,1254 2258.21,1254 2262.32,1254 2266.43,1254 2270.54,1254 2274.65,1254 2278.77,1254 2282.88,1254 2286.99,1254 \n  2291.1,1254 \n  \"/>\n<polyline clip-path=\"url(#clip612)\" style=\"stroke:#e26f46; stroke-linecap:butt; stroke-linejoin:round; stroke-width:4; stroke-opacity:1; fill:none\" points=\"\n  235.808,458.404 239.918,442.337 244.029,396.587 248.139,329.548 252.25,256.447 256.361,192.623 260.471,144.877 264.582,112.868 268.692,94.1553 272.803,86.1857 \n  276.913,86.5144 281.024,92.7258 285.135,102.461 289.245,113.6 293.356,124.498 297.466,134.135 301.577,142.096 305.687,148.416 309.798,153.377 313.909,157.344 \n  318.019,160.656 322.13,163.581 326.24,166.302 330.351,168.929 334.462,171.518 338.572,174.09 342.683,176.644 346.793,179.171 350.904,181.656 355.014,184.089 \n  359.125,186.462 363.236,188.767 367.346,191.003 371.457,193.167 375.567,195.261 379.678,197.285 383.788,199.24 387.899,201.129 392.01,202.954 396.12,204.714 \n  400.231,206.414 404.341,208.053 408.452,209.633 412.563,211.155 416.673,212.622 420.784,214.033 424.894,215.391 429.005,216.697 433.115,217.951 437.226,219.155 \n  441.337,220.311 445.447,221.419 449.558,222.48 453.668,223.497 457.779,224.469 461.889,225.399 466,226.287 470.111,227.134 474.221,227.942 478.332,228.711 \n  482.442,229.443 486.553,230.139 490.664,230.8 494.774,231.426 498.885,232.02 502.995,232.581 507.106,233.112 511.216,233.612 515.327,234.083 519.438,234.526 \n  523.548,234.942 527.659,235.332 531.769,235.696 535.88,236.036 539.99,236.353 544.101,236.646 548.212,236.918 552.322,237.168 556.433,237.399 560.543,237.609 \n  564.654,237.801 568.765,237.975 572.875,238.132 576.986,238.272 581.096,238.397 585.207,238.506 589.317,238.6 593.428,238.681 597.539,238.749 601.649,238.804 \n  605.76,238.847 609.87,238.878 613.981,238.899 618.091,238.909 622.202,238.909 626.313,238.9 630.423,238.883 634.534,238.857 638.644,238.823 642.755,238.781 \n  646.866,238.733 650.976,238.678 655.087,238.617 659.197,238.55 663.308,238.478 667.418,238.401 671.529,238.319 675.64,238.233 679.75,238.143 683.861,238.049 \n  687.971,237.952 692.082,237.852 696.192,237.749 700.303,237.643 704.414,237.535 708.524,237.425 712.635,237.314 716.745,237.2 720.856,237.086 724.967,236.97 \n  729.077,236.853 733.188,236.736 737.298,236.618 741.409,236.499 745.519,236.381 749.63,236.262 753.741,236.143 757.851,236.025 761.962,235.906 766.072,235.789 \n  770.183,235.671 774.293,235.555 778.404,235.439 782.515,235.324 786.625,235.21 790.736,235.097 794.846,234.986 798.957,234.875 803.068,234.766 807.178,234.658 \n  811.289,234.551 815.399,234.446 819.51,234.343 823.62,234.241 827.731,234.14 831.842,234.041 835.952,233.944 840.063,233.849 844.173,233.755 848.284,233.663 \n  852.394,233.572 856.505,233.484 860.616,233.397 864.726,233.312 868.837,233.229 872.947,233.147 877.058,233.068 881.169,232.99 885.279,232.914 889.39,232.84 \n  893.5,232.767 897.611,232.696 901.721,232.628 905.832,232.561 909.943,232.495 914.053,232.432 918.164,232.37 922.274,232.31 926.385,232.251 930.495,232.194 \n  934.606,232.139 938.717,232.086 942.827,232.034 946.938,231.983 951.048,231.935 955.159,231.887 959.27,231.842 963.38,231.797 967.491,231.755 971.601,231.713 \n  975.712,231.673 979.822,231.635 983.933,231.598 988.044,231.562 992.154,231.528 996.265,231.494 1000.38,231.462 1004.49,231.432 1008.6,231.402 1012.71,231.374 \n  1016.82,231.346 1020.93,231.32 1025.04,231.295 1029.15,231.271 1033.26,231.248 1037.37,231.227 1041.48,231.206 1045.59,231.186 1049.7,231.167 1053.81,231.148 \n  1057.92,231.131 1062.03,231.115 1066.14,231.099 1070.26,231.084 1074.37,231.07 1078.48,231.057 1082.59,231.045 1086.7,231.033 1090.81,231.022 1094.92,231.011 \n  1099.03,231.001 1103.14,230.992 1107.25,230.984 1111.36,230.976 1115.47,230.968 1119.58,230.961 1123.69,230.955 1127.8,230.949 1131.91,230.943 1136.02,230.938 \n  1140.14,230.934 1144.25,230.93 1148.36,230.926 1152.47,230.923 1156.58,230.92 1160.69,230.917 1164.8,230.915 1168.91,230.913 1173.02,230.911 1177.13,230.91 \n  1181.24,230.909 1185.35,230.908 1189.46,230.908 1193.57,230.907 1197.68,230.907 1201.79,230.908 1205.9,230.908 1210.01,230.909 1214.13,230.909 1218.24,230.91 \n  1222.35,230.911 1226.46,230.913 1230.57,230.914 1234.68,230.916 1238.79,230.917 1242.9,230.919 1247.01,230.921 1251.12,230.923 1255.23,230.925 1259.34,230.927 \n  1263.45,230.93 1267.56,230.932 1271.67,230.934 1275.78,230.937 1279.89,230.939 1284.01,230.942 1288.12,230.945 1292.23,230.947 1296.34,230.95 1300.45,230.953 \n  1304.56,230.955 1308.67,230.958 1312.78,230.961 1316.89,230.964 1321,230.967 1325.11,230.969 1329.22,230.972 1333.33,230.975 1337.44,230.978 1341.55,230.98 \n  1345.66,230.983 1349.77,230.986 1353.89,230.989 1358,230.991 1362.11,230.994 1366.22,230.997 1370.33,230.999 1374.44,231.002 1378.55,231.005 1382.66,231.007 \n  1386.77,231.01 1390.88,231.012 1394.99,231.014 1399.1,231.017 1403.21,231.019 1407.32,231.022 1411.43,231.024 1415.54,231.026 1419.65,231.028 1423.77,231.03 \n  1427.88,231.033 1431.99,231.035 1436.1,231.037 1440.21,231.039 1444.32,231.041 1448.43,231.043 1452.54,231.044 1456.65,231.046 1460.76,231.048 1464.87,231.05 \n  1468.98,231.052 1473.09,231.053 1477.2,231.055 1481.31,231.056 1485.42,231.058 1489.53,231.059 1493.64,231.061 1497.76,231.062 1501.87,231.064 1505.98,231.065 \n  1510.09,231.066 1514.2,231.068 1518.31,231.069 1522.42,231.07 1526.53,231.071 1530.64,231.072 1534.75,231.073 1538.86,231.074 1542.97,231.075 1547.08,231.076 \n  1551.19,231.077 1555.3,231.078 1559.41,231.079 1563.52,231.08 1567.64,231.081 1571.75,231.082 1575.86,231.082 1579.97,231.083 1584.08,231.084 1588.19,231.084 \n  1592.3,231.085 1596.41,231.086 1600.52,231.086 1604.63,231.087 1608.74,231.087 1612.85,231.088 1616.96,231.088 1621.07,231.089 1625.18,231.089 1629.29,231.09 \n  1633.4,231.09 1637.52,231.09 1641.63,231.091 1645.74,231.091 1649.85,231.092 1653.96,231.092 1658.07,231.092 1662.18,231.092 1666.29,231.093 1670.4,231.093 \n  1674.51,231.093 1678.62,231.093 1682.73,231.094 1686.84,231.094 1690.95,231.094 1695.06,231.094 1699.17,231.094 1703.28,231.094 1707.39,231.095 1711.51,231.095 \n  1715.62,231.095 1719.73,231.095 1723.84,231.095 1727.95,231.095 1732.06,231.095 1736.17,231.095 1740.28,231.095 1744.39,231.095 1748.5,231.095 1752.61,231.095 \n  1756.72,231.095 1760.83,231.095 1764.94,231.095 1769.05,231.095 1773.16,231.095 1777.27,231.095 1781.39,231.095 1785.5,231.095 1789.61,231.095 1793.72,231.095 \n  1797.83,231.095 1801.94,231.095 1806.05,231.095 1810.16,231.095 1814.27,231.095 1818.38,231.095 1822.49,231.095 1826.6,231.095 1830.71,231.095 1834.82,231.095 \n  1838.93,231.095 1843.04,231.095 1847.15,231.095 1851.27,231.095 1855.38,231.095 1859.49,231.095 1863.6,231.095 1867.71,231.094 1871.82,231.094 1875.93,231.094 \n  1880.04,231.094 1884.15,231.094 1888.26,231.094 1892.37,231.094 1896.48,231.094 1900.59,231.094 1904.7,231.094 1908.81,231.094 1912.92,231.094 1917.03,231.094 \n  1921.15,231.094 1925.26,231.094 1929.37,231.093 1933.48,231.093 1937.59,231.093 1941.7,231.093 1945.81,231.093 1949.92,231.093 1954.03,231.093 1958.14,231.093 \n  1962.25,231.093 1966.36,231.093 1970.47,231.093 1974.58,231.093 1978.69,231.093 1982.8,231.093 1986.91,231.093 1991.02,231.093 1995.14,231.093 1999.25,231.092 \n  2003.36,231.092 2007.47,231.092 2011.58,231.092 2015.69,231.092 2019.8,231.092 2023.91,231.092 2028.02,231.092 2032.13,231.092 2036.24,231.092 2040.35,231.092 \n  2044.46,231.092 2048.57,231.092 2052.68,231.092 2056.79,231.092 2060.9,231.092 2065.02,231.092 2069.13,231.092 2073.24,231.092 2077.35,231.092 2081.46,231.092 \n  2085.57,231.092 2089.68,231.092 2093.79,231.092 2097.9,231.092 2102.01,231.092 2106.12,231.092 2110.23,231.091 2114.34,231.091 2118.45,231.091 2122.56,231.091 \n  2126.67,231.091 2130.78,231.091 2134.9,231.091 2139.01,231.091 2143.12,231.091 2147.23,231.091 2151.34,231.091 2155.45,231.091 2159.56,231.091 2163.67,231.091 \n  2167.78,231.091 2171.89,231.091 2176,231.091 2180.11,231.091 2184.22,231.091 2188.33,231.091 2192.44,231.091 2196.55,231.091 2200.66,231.091 2204.78,231.091 \n  2208.89,231.091 2213,231.091 2217.11,231.091 2221.22,231.091 2225.33,231.091 2229.44,231.091 2233.55,231.091 2237.66,231.091 2241.77,231.091 2245.88,231.091 \n  2249.99,231.091 2254.1,231.091 2258.21,231.091 2262.32,231.091 2266.43,231.091 2270.54,231.091 2274.65,231.091 2278.77,231.091 2282.88,231.091 2286.99,231.091 \n  2291.1,231.091 \n  \"/>\n<path clip-path=\"url(#clip610)\" d=\"\nM246.769 787.052 L513.975 787.052 L513.975 631.532 L246.769 631.532  Z\n  \" fill=\"#ffffff\" fill-rule=\"evenodd\" fill-opacity=\"1\"/>\n<polyline clip-path=\"url(#clip610)\" style=\"stroke:#000000; stroke-linecap:butt; stroke-linejoin:round; stroke-width:4; stroke-opacity:1; fill:none\" points=\"\n  246.769,787.052 513.975,787.052 513.975,631.532 246.769,631.532 246.769,787.052 \n  \"/>\n<polyline clip-path=\"url(#clip610)\" style=\"stroke:#009af9; stroke-linecap:butt; stroke-linejoin:round; stroke-width:4; stroke-opacity:1; fill:none\" points=\"\n  270.976,683.372 416.216,683.372 \n  \"/>\n<path clip-path=\"url(#clip610)\" d=\"M465.076 674.726 L455.701 687.342 L465.562 700.652 L460.539 700.652 L452.992 690.467 L445.446 700.652 L440.423 700.652 L450.492 687.087 L441.28 674.726 L446.303 674.726 L453.178 683.962 L460.053 674.726 L465.076 674.726 Z\" fill=\"#000000\" fill-rule=\"evenodd\" fill-opacity=\"1\" /><polyline clip-path=\"url(#clip610)\" style=\"stroke:#e26f46; stroke-linecap:butt; stroke-linejoin:round; stroke-width:4; stroke-opacity:1; fill:none\" points=\"\n  270.976,735.212 416.216,735.212 \n  \"/>\n<path clip-path=\"url(#clip610)\" d=\"M459.682 736.057 L444.937 736.057 Q445.284 742.978 446.881 745.918 Q448.872 749.529 452.321 749.529 Q455.793 749.529 457.715 745.895 Q459.404 742.7 459.682 736.057 M459.613 732.122 Q458.965 725.548 457.715 723.233 Q455.724 719.575 452.321 719.575 Q448.78 719.575 446.905 723.187 Q445.423 726.103 444.983 732.122 L459.613 732.122 M452.321 716.103 Q457.877 716.103 461.048 721.011 Q464.219 725.895 464.219 734.552 Q464.219 743.186 461.048 748.094 Q457.877 753.024 452.321 753.024 Q446.743 753.024 443.594 748.094 Q440.423 743.186 440.423 734.552 Q440.423 725.895 443.594 721.011 Q446.743 716.103 452.321 716.103 Z\" fill=\"#000000\" fill-rule=\"evenodd\" fill-opacity=\"1\" /></svg>\n",
      "text/html": [
       "<?xml version=\"1.0\" encoding=\"utf-8\"?>\n",
       "<svg xmlns=\"http://www.w3.org/2000/svg\" xmlns:xlink=\"http://www.w3.org/1999/xlink\" width=\"600\" height=\"400\" viewBox=\"0 0 2400 1600\">\n",
       "<defs>\n",
       "  <clipPath id=\"clip660\">\n",
       "    <rect x=\"0\" y=\"0\" width=\"2400\" height=\"1600\"/>\n",
       "  </clipPath>\n",
       "</defs>\n",
       "<path clip-path=\"url(#clip660)\" d=\"\n",
       "M0 1600 L2400 1600 L2400 0 L0 0  Z\n",
       "  \" fill=\"#ffffff\" fill-rule=\"evenodd\" fill-opacity=\"1\"/>\n",
       "<defs>\n",
       "  <clipPath id=\"clip661\">\n",
       "    <rect x=\"480\" y=\"0\" width=\"1681\" height=\"1600\"/>\n",
       "  </clipPath>\n",
       "</defs>\n",
       "<path clip-path=\"url(#clip660)\" d=\"\n",
       "M174.149 1423.18 L2352.76 1423.18 L2352.76 47.2441 L174.149 47.2441  Z\n",
       "  \" fill=\"#ffffff\" fill-rule=\"evenodd\" fill-opacity=\"1\"/>\n",
       "<defs>\n",
       "  <clipPath id=\"clip662\">\n",
       "    <rect x=\"174\" y=\"47\" width=\"2180\" height=\"1377\"/>\n",
       "  </clipPath>\n",
       "</defs>\n",
       "<polyline clip-path=\"url(#clip662)\" style=\"stroke:#000000; stroke-linecap:butt; stroke-linejoin:round; stroke-width:2; stroke-opacity:0.1; fill:none\" points=\"\n",
       "  235.808,1423.18 235.808,47.2441 \n",
       "  \"/>\n",
       "<polyline clip-path=\"url(#clip662)\" style=\"stroke:#000000; stroke-linecap:butt; stroke-linejoin:round; stroke-width:2; stroke-opacity:0.1; fill:none\" points=\"\n",
       "  749.63,1423.18 749.63,47.2441 \n",
       "  \"/>\n",
       "<polyline clip-path=\"url(#clip662)\" style=\"stroke:#000000; stroke-linecap:butt; stroke-linejoin:round; stroke-width:2; stroke-opacity:0.1; fill:none\" points=\"\n",
       "  1263.45,1423.18 1263.45,47.2441 \n",
       "  \"/>\n",
       "<polyline clip-path=\"url(#clip662)\" style=\"stroke:#000000; stroke-linecap:butt; stroke-linejoin:round; stroke-width:2; stroke-opacity:0.1; fill:none\" points=\"\n",
       "  1777.27,1423.18 1777.27,47.2441 \n",
       "  \"/>\n",
       "<polyline clip-path=\"url(#clip662)\" style=\"stroke:#000000; stroke-linecap:butt; stroke-linejoin:round; stroke-width:2; stroke-opacity:0.1; fill:none\" points=\"\n",
       "  2291.1,1423.18 2291.1,47.2441 \n",
       "  \"/>\n",
       "<polyline clip-path=\"url(#clip660)\" style=\"stroke:#000000; stroke-linecap:butt; stroke-linejoin:round; stroke-width:4; stroke-opacity:1; fill:none\" points=\"\n",
       "  174.149,1423.18 2352.76,1423.18 \n",
       "  \"/>\n",
       "<polyline clip-path=\"url(#clip660)\" style=\"stroke:#000000; stroke-linecap:butt; stroke-linejoin:round; stroke-width:4; stroke-opacity:1; fill:none\" points=\"\n",
       "  235.808,1423.18 235.808,1404.28 \n",
       "  \"/>\n",
       "<polyline clip-path=\"url(#clip660)\" style=\"stroke:#000000; stroke-linecap:butt; stroke-linejoin:round; stroke-width:4; stroke-opacity:1; fill:none\" points=\"\n",
       "  749.63,1423.18 749.63,1404.28 \n",
       "  \"/>\n",
       "<polyline clip-path=\"url(#clip660)\" style=\"stroke:#000000; stroke-linecap:butt; stroke-linejoin:round; stroke-width:4; stroke-opacity:1; fill:none\" points=\"\n",
       "  1263.45,1423.18 1263.45,1404.28 \n",
       "  \"/>\n",
       "<polyline clip-path=\"url(#clip660)\" style=\"stroke:#000000; stroke-linecap:butt; stroke-linejoin:round; stroke-width:4; stroke-opacity:1; fill:none\" points=\"\n",
       "  1777.27,1423.18 1777.27,1404.28 \n",
       "  \"/>\n",
       "<polyline clip-path=\"url(#clip660)\" style=\"stroke:#000000; stroke-linecap:butt; stroke-linejoin:round; stroke-width:4; stroke-opacity:1; fill:none\" points=\"\n",
       "  2291.1,1423.18 2291.1,1404.28 \n",
       "  \"/>\n",
       "<path clip-path=\"url(#clip660)\" d=\"M213.192 1454.1 Q209.581 1454.1 207.752 1457.66 Q205.947 1461.2 205.947 1468.33 Q205.947 1475.44 207.752 1479.01 Q209.581 1482.55 213.192 1482.55 Q216.826 1482.55 218.632 1479.01 Q220.46 1475.44 220.46 1468.33 Q220.46 1461.2 218.632 1457.66 Q216.826 1454.1 213.192 1454.1 M213.192 1450.39 Q219.002 1450.39 222.058 1455 Q225.136 1459.58 225.136 1468.33 Q225.136 1477.06 222.058 1481.67 Q219.002 1486.25 213.192 1486.25 Q207.382 1486.25 204.303 1481.67 Q201.248 1477.06 201.248 1468.33 Q201.248 1459.58 204.303 1455 Q207.382 1450.39 213.192 1450.39 Z\" fill=\"#000000\" fill-rule=\"evenodd\" fill-opacity=\"1\" /><path clip-path=\"url(#clip660)\" d=\"M233.354 1479.7 L238.238 1479.7 L238.238 1485.58 L233.354 1485.58 L233.354 1479.7 Z\" fill=\"#000000\" fill-rule=\"evenodd\" fill-opacity=\"1\" /><path clip-path=\"url(#clip660)\" d=\"M258.423 1454.1 Q254.812 1454.1 252.983 1457.66 Q251.178 1461.2 251.178 1468.33 Q251.178 1475.44 252.983 1479.01 Q254.812 1482.55 258.423 1482.55 Q262.057 1482.55 263.863 1479.01 Q265.692 1475.44 265.692 1468.33 Q265.692 1461.2 263.863 1457.66 Q262.057 1454.1 258.423 1454.1 M258.423 1450.39 Q264.233 1450.39 267.289 1455 Q270.368 1459.58 270.368 1468.33 Q270.368 1477.06 267.289 1481.67 Q264.233 1486.25 258.423 1486.25 Q252.613 1486.25 249.534 1481.67 Q246.479 1477.06 246.479 1468.33 Q246.479 1459.58 249.534 1455 Q252.613 1450.39 258.423 1450.39 Z\" fill=\"#000000\" fill-rule=\"evenodd\" fill-opacity=\"1\" /><path clip-path=\"url(#clip660)\" d=\"M721.366 1481.64 L737.686 1481.64 L737.686 1485.58 L715.741 1485.58 L715.741 1481.64 Q718.403 1478.89 722.987 1474.26 Q727.593 1469.61 728.774 1468.27 Q731.019 1465.74 731.899 1464.01 Q732.801 1462.25 732.801 1460.56 Q732.801 1457.8 730.857 1456.07 Q728.936 1454.33 725.834 1454.33 Q723.635 1454.33 721.181 1455.09 Q718.751 1455.86 715.973 1457.41 L715.973 1452.69 Q718.797 1451.55 721.251 1450.97 Q723.704 1450.39 725.741 1450.39 Q731.112 1450.39 734.306 1453.08 Q737.5 1455.77 737.5 1460.26 Q737.5 1462.39 736.69 1464.31 Q735.903 1466.2 733.797 1468.8 Q733.218 1469.47 730.116 1472.69 Q727.014 1475.88 721.366 1481.64 Z\" fill=\"#000000\" fill-rule=\"evenodd\" fill-opacity=\"1\" /><path clip-path=\"url(#clip660)\" d=\"M747.5 1479.7 L752.385 1479.7 L752.385 1485.58 L747.5 1485.58 L747.5 1479.7 Z\" fill=\"#000000\" fill-rule=\"evenodd\" fill-opacity=\"1\" /><path clip-path=\"url(#clip660)\" d=\"M762.616 1451.02 L780.972 1451.02 L780.972 1454.96 L766.898 1454.96 L766.898 1463.43 Q767.917 1463.08 768.935 1462.92 Q769.954 1462.73 770.972 1462.73 Q776.759 1462.73 780.139 1465.9 Q783.519 1469.08 783.519 1474.49 Q783.519 1480.07 780.047 1483.17 Q776.574 1486.25 770.255 1486.25 Q768.079 1486.25 765.81 1485.88 Q763.565 1485.51 761.158 1484.77 L761.158 1480.07 Q763.241 1481.2 765.463 1481.76 Q767.685 1482.32 770.162 1482.32 Q774.167 1482.32 776.505 1480.21 Q778.843 1478.1 778.843 1474.49 Q778.843 1470.88 776.505 1468.77 Q774.167 1466.67 770.162 1466.67 Q768.287 1466.67 766.412 1467.08 Q764.56 1467.5 762.616 1468.38 L762.616 1451.02 Z\" fill=\"#000000\" fill-rule=\"evenodd\" fill-opacity=\"1\" /><path clip-path=\"url(#clip660)\" d=\"M1230.62 1451.02 L1248.97 1451.02 L1248.97 1454.96 L1234.9 1454.96 L1234.9 1463.43 Q1235.92 1463.08 1236.94 1462.92 Q1237.95 1462.73 1238.97 1462.73 Q1244.76 1462.73 1248.14 1465.9 Q1251.52 1469.08 1251.52 1474.49 Q1251.52 1480.07 1248.05 1483.17 Q1244.58 1486.25 1238.26 1486.25 Q1236.08 1486.25 1233.81 1485.88 Q1231.57 1485.51 1229.16 1484.77 L1229.16 1480.07 Q1231.24 1481.2 1233.46 1481.76 Q1235.69 1482.32 1238.16 1482.32 Q1242.17 1482.32 1244.51 1480.21 Q1246.84 1478.1 1246.84 1474.49 Q1246.84 1470.88 1244.51 1468.77 Q1242.17 1466.67 1238.16 1466.67 Q1236.29 1466.67 1234.41 1467.08 Q1232.56 1467.5 1230.62 1468.38 L1230.62 1451.02 Z\" fill=\"#000000\" fill-rule=\"evenodd\" fill-opacity=\"1\" /><path clip-path=\"url(#clip660)\" d=\"M1260.73 1479.7 L1265.62 1479.7 L1265.62 1485.58 L1260.73 1485.58 L1260.73 1479.7 Z\" fill=\"#000000\" fill-rule=\"evenodd\" fill-opacity=\"1\" /><path clip-path=\"url(#clip660)\" d=\"M1285.8 1454.1 Q1282.19 1454.1 1280.36 1457.66 Q1278.56 1461.2 1278.56 1468.33 Q1278.56 1475.44 1280.36 1479.01 Q1282.19 1482.55 1285.8 1482.55 Q1289.44 1482.55 1291.24 1479.01 Q1293.07 1475.44 1293.07 1468.33 Q1293.07 1461.2 1291.24 1457.66 Q1289.44 1454.1 1285.8 1454.1 M1285.8 1450.39 Q1291.61 1450.39 1294.67 1455 Q1297.75 1459.58 1297.75 1468.33 Q1297.75 1477.06 1294.67 1481.67 Q1291.61 1486.25 1285.8 1486.25 Q1279.99 1486.25 1276.91 1481.67 Q1273.86 1477.06 1273.86 1468.33 Q1273.86 1459.58 1276.91 1455 Q1279.99 1450.39 1285.8 1450.39 Z\" fill=\"#000000\" fill-rule=\"evenodd\" fill-opacity=\"1\" /><path clip-path=\"url(#clip660)\" d=\"M1743.59 1451.02 L1765.82 1451.02 L1765.82 1453.01 L1753.27 1485.58 L1748.39 1485.58 L1760.19 1454.96 L1743.59 1454.96 L1743.59 1451.02 Z\" fill=\"#000000\" fill-rule=\"evenodd\" fill-opacity=\"1\" /><path clip-path=\"url(#clip660)\" d=\"M1774.94 1479.7 L1779.82 1479.7 L1779.82 1485.58 L1774.94 1485.58 L1774.94 1479.7 Z\" fill=\"#000000\" fill-rule=\"evenodd\" fill-opacity=\"1\" /><path clip-path=\"url(#clip660)\" d=\"M1790.05 1451.02 L1808.41 1451.02 L1808.41 1454.96 L1794.33 1454.96 L1794.33 1463.43 Q1795.35 1463.08 1796.37 1462.92 Q1797.39 1462.73 1798.41 1462.73 Q1804.2 1462.73 1807.58 1465.9 Q1810.96 1469.08 1810.96 1474.49 Q1810.96 1480.07 1807.48 1483.17 Q1804.01 1486.25 1797.69 1486.25 Q1795.52 1486.25 1793.25 1485.88 Q1791 1485.51 1788.59 1484.77 L1788.59 1480.07 Q1790.68 1481.2 1792.9 1481.76 Q1795.12 1482.32 1797.6 1482.32 Q1801.6 1482.32 1803.94 1480.21 Q1806.28 1478.1 1806.28 1474.49 Q1806.28 1470.88 1803.94 1468.77 Q1801.6 1466.67 1797.6 1466.67 Q1795.72 1466.67 1793.85 1467.08 Q1792 1467.5 1790.05 1468.38 L1790.05 1451.02 Z\" fill=\"#000000\" fill-rule=\"evenodd\" fill-opacity=\"1\" /><path clip-path=\"url(#clip660)\" d=\"M2243.17 1481.64 L2250.81 1481.64 L2250.81 1455.28 L2242.5 1456.95 L2242.5 1452.69 L2250.76 1451.02 L2255.44 1451.02 L2255.44 1481.64 L2263.08 1481.64 L2263.08 1485.58 L2243.17 1485.58 L2243.17 1481.64 Z\" fill=\"#000000\" fill-rule=\"evenodd\" fill-opacity=\"1\" /><path clip-path=\"url(#clip660)\" d=\"M2282.52 1454.1 Q2278.91 1454.1 2277.08 1457.66 Q2275.28 1461.2 2275.28 1468.33 Q2275.28 1475.44 2277.08 1479.01 Q2278.91 1482.55 2282.52 1482.55 Q2286.16 1482.55 2287.96 1479.01 Q2289.79 1475.44 2289.79 1468.33 Q2289.79 1461.2 2287.96 1457.66 Q2286.16 1454.1 2282.52 1454.1 M2282.52 1450.39 Q2288.33 1450.39 2291.39 1455 Q2294.47 1459.58 2294.47 1468.33 Q2294.47 1477.06 2291.39 1481.67 Q2288.33 1486.25 2282.52 1486.25 Q2276.71 1486.25 2273.63 1481.67 Q2270.58 1477.06 2270.58 1468.33 Q2270.58 1459.58 2273.63 1455 Q2276.71 1450.39 2282.52 1450.39 Z\" fill=\"#000000\" fill-rule=\"evenodd\" fill-opacity=\"1\" /><path clip-path=\"url(#clip660)\" d=\"M2302.68 1479.7 L2307.57 1479.7 L2307.57 1485.58 L2302.68 1485.58 L2302.68 1479.7 Z\" fill=\"#000000\" fill-rule=\"evenodd\" fill-opacity=\"1\" /><path clip-path=\"url(#clip660)\" d=\"M2327.75 1454.1 Q2324.14 1454.1 2322.31 1457.66 Q2320.51 1461.2 2320.51 1468.33 Q2320.51 1475.44 2322.31 1479.01 Q2324.14 1482.55 2327.75 1482.55 Q2331.39 1482.55 2333.19 1479.01 Q2335.02 1475.44 2335.02 1468.33 Q2335.02 1461.2 2333.19 1457.66 Q2331.39 1454.1 2327.75 1454.1 M2327.75 1450.39 Q2333.56 1450.39 2336.62 1455 Q2339.7 1459.58 2339.7 1468.33 Q2339.7 1477.06 2336.62 1481.67 Q2333.56 1486.25 2327.75 1486.25 Q2321.94 1486.25 2318.86 1481.67 Q2315.81 1477.06 2315.81 1468.33 Q2315.81 1459.58 2318.86 1455 Q2321.94 1450.39 2327.75 1450.39 Z\" fill=\"#000000\" fill-rule=\"evenodd\" fill-opacity=\"1\" /><path clip-path=\"url(#clip660)\" d=\"M1150.91 1522.27 L1150.91 1532.4 L1162.97 1532.4 L1162.97 1536.95 L1150.91 1536.95 L1150.91 1556.3 Q1150.91 1560.66 1152.08 1561.9 Q1153.29 1563.14 1156.95 1563.14 L1162.97 1563.14 L1162.97 1568.04 L1156.95 1568.04 Q1150.17 1568.04 1147.6 1565.53 Q1145.02 1562.98 1145.02 1556.3 L1145.02 1536.95 L1140.72 1536.95 L1140.72 1532.4 L1145.02 1532.4 L1145.02 1522.27 L1150.91 1522.27 Z\" fill=\"#000000\" fill-rule=\"evenodd\" fill-opacity=\"1\" /><path clip-path=\"url(#clip660)\" d=\"M1170.67 1532.4 L1176.53 1532.4 L1176.53 1568.04 L1170.67 1568.04 L1170.67 1532.4 M1170.67 1518.52 L1176.53 1518.52 L1176.53 1525.93 L1170.67 1525.93 L1170.67 1518.52 Z\" fill=\"#000000\" fill-rule=\"evenodd\" fill-opacity=\"1\" /><path clip-path=\"url(#clip660)\" d=\"M1216.54 1539.24 Q1218.73 1535.29 1221.79 1533.41 Q1224.84 1531.54 1228.98 1531.54 Q1234.55 1531.54 1237.58 1535.45 Q1240.6 1539.33 1240.6 1546.53 L1240.6 1568.04 L1234.71 1568.04 L1234.71 1546.72 Q1234.71 1541.59 1232.9 1539.11 Q1231.08 1536.63 1227.36 1536.63 Q1222.81 1536.63 1220.17 1539.65 Q1217.52 1542.68 1217.52 1547.9 L1217.52 1568.04 L1211.64 1568.04 L1211.64 1546.72 Q1211.64 1541.56 1209.82 1539.11 Q1208.01 1536.63 1204.22 1536.63 Q1199.73 1536.63 1197.09 1539.68 Q1194.45 1542.71 1194.45 1547.9 L1194.45 1568.04 L1188.56 1568.04 L1188.56 1532.4 L1194.45 1532.4 L1194.45 1537.93 Q1196.45 1534.66 1199.25 1533.1 Q1202.06 1531.54 1205.91 1531.54 Q1209.79 1531.54 1212.49 1533.51 Q1215.23 1535.48 1216.54 1539.24 Z\" fill=\"#000000\" fill-rule=\"evenodd\" fill-opacity=\"1\" /><path clip-path=\"url(#clip660)\" d=\"M1282.77 1548.76 L1282.77 1551.62 L1255.85 1551.62 Q1256.23 1557.67 1259.47 1560.85 Q1262.75 1564 1268.58 1564 Q1271.95 1564 1275.1 1563.17 Q1278.28 1562.35 1281.4 1560.69 L1281.4 1566.23 Q1278.25 1567.57 1274.94 1568.27 Q1271.63 1568.97 1268.23 1568.97 Q1259.7 1568.97 1254.7 1564 Q1249.73 1559.04 1249.73 1550.57 Q1249.73 1541.82 1254.44 1536.69 Q1259.19 1531.54 1267.21 1531.54 Q1274.4 1531.54 1278.57 1536.18 Q1282.77 1540.8 1282.77 1548.76 M1276.92 1547.04 Q1276.85 1542.23 1274.21 1539.37 Q1271.6 1536.5 1267.27 1536.5 Q1262.37 1536.5 1259.41 1539.27 Q1256.48 1542.04 1256.04 1547.07 L1276.92 1547.04 Z\" fill=\"#000000\" fill-rule=\"evenodd\" fill-opacity=\"1\" /><path clip-path=\"url(#clip660)\" d=\"M1327.17 1518.58 Q1322.91 1525.9 1320.84 1533.06 Q1318.77 1540.23 1318.77 1547.58 Q1318.77 1554.93 1320.84 1562.16 Q1322.94 1569.35 1327.17 1576.64 L1322.08 1576.64 Q1317.31 1569.16 1314.92 1561.93 Q1312.56 1554.71 1312.56 1547.58 Q1312.56 1540.48 1314.92 1533.29 Q1317.27 1526.09 1322.08 1518.58 L1327.17 1518.58 Z\" fill=\"#000000\" fill-rule=\"evenodd\" fill-opacity=\"1\" /><path clip-path=\"url(#clip660)\" d=\"M1361.26 1533.45 L1361.26 1538.98 Q1358.78 1537.71 1356.11 1537.07 Q1353.43 1536.44 1350.57 1536.44 Q1346.21 1536.44 1344.01 1537.77 Q1341.85 1539.11 1341.85 1541.79 Q1341.85 1543.82 1343.41 1545 Q1344.97 1546.15 1349.68 1547.2 L1351.68 1547.64 Q1357.92 1548.98 1360.53 1551.43 Q1363.17 1553.85 1363.17 1558.21 Q1363.17 1563.17 1359.22 1566.07 Q1355.31 1568.97 1348.43 1568.97 Q1345.57 1568.97 1342.45 1568.39 Q1339.36 1567.85 1335.93 1566.74 L1335.93 1560.69 Q1339.17 1562.38 1342.32 1563.24 Q1345.47 1564.07 1348.56 1564.07 Q1352.7 1564.07 1354.93 1562.66 Q1357.16 1561.23 1357.16 1558.65 Q1357.16 1556.27 1355.53 1554.99 Q1353.94 1553.72 1348.5 1552.54 L1346.46 1552.07 Q1341.02 1550.92 1338.6 1548.56 Q1336.18 1546.18 1336.18 1542.04 Q1336.18 1537.01 1339.75 1534.27 Q1343.31 1531.54 1349.87 1531.54 Q1353.11 1531.54 1355.98 1532.01 Q1358.84 1532.49 1361.26 1533.45 Z\" fill=\"#000000\" fill-rule=\"evenodd\" fill-opacity=\"1\" /><path clip-path=\"url(#clip660)\" d=\"M1371.57 1518.58 L1376.67 1518.58 Q1381.44 1526.09 1383.8 1533.29 Q1386.18 1540.48 1386.18 1547.58 Q1386.18 1554.71 1383.8 1561.93 Q1381.44 1569.16 1376.67 1576.64 L1371.57 1576.64 Q1375.81 1569.35 1377.88 1562.16 Q1379.98 1554.93 1379.98 1547.58 Q1379.98 1540.23 1377.88 1533.06 Q1375.81 1525.9 1371.57 1518.58 Z\" fill=\"#000000\" fill-rule=\"evenodd\" fill-opacity=\"1\" /><polyline clip-path=\"url(#clip662)\" style=\"stroke:#000000; stroke-linecap:butt; stroke-linejoin:round; stroke-width:2; stroke-opacity:0.1; fill:none\" points=\"\n",
       "  174.149,1254 2352.76,1254 \n",
       "  \"/>\n",
       "<polyline clip-path=\"url(#clip662)\" style=\"stroke:#000000; stroke-linecap:butt; stroke-linejoin:round; stroke-width:2; stroke-opacity:0.1; fill:none\" points=\"\n",
       "  174.149,928.396 2352.76,928.396 \n",
       "  \"/>\n",
       "<polyline clip-path=\"url(#clip662)\" style=\"stroke:#000000; stroke-linecap:butt; stroke-linejoin:round; stroke-width:2; stroke-opacity:0.1; fill:none\" points=\"\n",
       "  174.149,602.795 2352.76,602.795 \n",
       "  \"/>\n",
       "<polyline clip-path=\"url(#clip662)\" style=\"stroke:#000000; stroke-linecap:butt; stroke-linejoin:round; stroke-width:2; stroke-opacity:0.1; fill:none\" points=\"\n",
       "  174.149,277.194 2352.76,277.194 \n",
       "  \"/>\n",
       "<polyline clip-path=\"url(#clip660)\" style=\"stroke:#000000; stroke-linecap:butt; stroke-linejoin:round; stroke-width:4; stroke-opacity:1; fill:none\" points=\"\n",
       "  174.149,1423.18 174.149,47.2441 \n",
       "  \"/>\n",
       "<polyline clip-path=\"url(#clip660)\" style=\"stroke:#000000; stroke-linecap:butt; stroke-linejoin:round; stroke-width:4; stroke-opacity:1; fill:none\" points=\"\n",
       "  174.149,1254 193.047,1254 \n",
       "  \"/>\n",
       "<polyline clip-path=\"url(#clip660)\" style=\"stroke:#000000; stroke-linecap:butt; stroke-linejoin:round; stroke-width:4; stroke-opacity:1; fill:none\" points=\"\n",
       "  174.149,928.396 193.047,928.396 \n",
       "  \"/>\n",
       "<polyline clip-path=\"url(#clip660)\" style=\"stroke:#000000; stroke-linecap:butt; stroke-linejoin:round; stroke-width:4; stroke-opacity:1; fill:none\" points=\"\n",
       "  174.149,602.795 193.047,602.795 \n",
       "  \"/>\n",
       "<polyline clip-path=\"url(#clip660)\" style=\"stroke:#000000; stroke-linecap:butt; stroke-linejoin:round; stroke-width:4; stroke-opacity:1; fill:none\" points=\"\n",
       "  174.149,277.194 193.047,277.194 \n",
       "  \"/>\n",
       "<path clip-path=\"url(#clip660)\" d=\"M126.205 1239.8 Q122.593 1239.8 120.765 1243.36 Q118.959 1246.9 118.959 1254.03 Q118.959 1261.14 120.765 1264.7 Q122.593 1268.25 126.205 1268.25 Q129.839 1268.25 131.644 1264.7 Q133.473 1261.14 133.473 1254.03 Q133.473 1246.9 131.644 1243.36 Q129.839 1239.8 126.205 1239.8 M126.205 1236.09 Q132.015 1236.09 135.07 1240.7 Q138.149 1245.28 138.149 1254.03 Q138.149 1262.76 135.07 1267.37 Q132.015 1271.95 126.205 1271.95 Q120.394 1271.95 117.316 1267.37 Q114.26 1262.76 114.26 1254.03 Q114.26 1245.28 117.316 1240.7 Q120.394 1236.09 126.205 1236.09 Z\" fill=\"#000000\" fill-rule=\"evenodd\" fill-opacity=\"1\" /><path clip-path=\"url(#clip660)\" d=\"M118.242 941.741 L125.88 941.741 L125.88 915.376 L117.57 917.042 L117.57 912.783 L125.834 911.116 L130.51 911.116 L130.51 941.741 L138.149 941.741 L138.149 945.676 L118.242 945.676 L118.242 941.741 Z\" fill=\"#000000\" fill-rule=\"evenodd\" fill-opacity=\"1\" /><path clip-path=\"url(#clip660)\" d=\"M121.83 616.14 L138.149 616.14 L138.149 620.075 L116.205 620.075 L116.205 616.14 Q118.867 613.385 123.45 608.756 Q128.056 604.103 129.237 602.76 Q131.482 600.237 132.362 598.501 Q133.265 596.742 133.265 595.052 Q133.265 592.297 131.32 590.561 Q129.399 588.825 126.297 588.825 Q124.098 588.825 121.644 589.589 Q119.214 590.353 116.436 591.904 L116.436 587.182 Q119.26 586.048 121.714 585.469 Q124.168 584.89 126.205 584.89 Q131.575 584.89 134.769 587.575 Q137.964 590.26 137.964 594.751 Q137.964 596.881 137.154 598.802 Q136.367 600.7 134.26 603.293 Q133.681 603.964 130.58 607.182 Q127.478 610.376 121.83 616.14 Z\" fill=\"#000000\" fill-rule=\"evenodd\" fill-opacity=\"1\" /><path clip-path=\"url(#clip660)\" d=\"M131.019 275.84 Q134.376 276.557 136.251 278.826 Q138.149 281.094 138.149 284.428 Q138.149 289.543 134.63 292.344 Q131.112 295.145 124.63 295.145 Q122.455 295.145 120.14 294.705 Q117.848 294.289 115.394 293.432 L115.394 288.918 Q117.339 290.053 119.654 290.631 Q121.968 291.21 124.492 291.21 Q128.89 291.21 131.181 289.474 Q133.496 287.738 133.496 284.428 Q133.496 281.372 131.343 279.659 Q129.214 277.923 125.394 277.923 L121.367 277.923 L121.367 274.08 L125.58 274.08 Q129.029 274.08 130.857 272.715 Q132.686 271.326 132.686 268.733 Q132.686 266.071 130.788 264.659 Q128.913 263.224 125.394 263.224 Q123.473 263.224 121.274 263.641 Q119.075 264.057 116.436 264.937 L116.436 260.77 Q119.098 260.03 121.413 259.659 Q123.751 259.289 125.811 259.289 Q131.135 259.289 134.237 261.719 Q137.339 264.127 137.339 268.247 Q137.339 271.117 135.695 273.108 Q134.052 275.076 131.019 275.84 Z\" fill=\"#000000\" fill-rule=\"evenodd\" fill-opacity=\"1\" /><path clip-path=\"url(#clip660)\" d=\"M29.4065 806.062 L34.9447 806.062 Q33.6716 808.545 33.035 811.219 Q32.3984 813.892 32.3984 816.757 Q32.3984 821.117 33.7352 823.313 Q35.072 825.478 37.7456 825.478 Q39.7826 825.478 40.9603 823.918 Q42.1061 822.358 43.1565 817.648 L43.6021 815.643 Q44.9389 809.404 47.3897 806.794 Q49.8086 804.153 54.1691 804.153 Q59.1344 804.153 62.0308 808.099 Q64.9272 812.014 64.9272 818.889 Q64.9272 821.754 64.3543 824.873 Q63.8132 827.96 62.6992 831.398 L56.6518 831.398 Q58.3387 828.151 59.198 825 Q60.0256 821.849 60.0256 818.762 Q60.0256 814.624 58.6251 812.396 Q57.1929 810.168 54.6147 810.168 Q52.2276 810.168 50.9545 811.791 Q49.6813 813.383 48.5037 818.826 L48.0262 820.863 Q46.8804 826.305 44.5251 828.724 Q42.138 831.143 38.0002 831.143 Q32.9713 831.143 30.2341 827.578 Q27.4968 824.014 27.4968 817.457 Q27.4968 814.21 27.9743 811.346 Q28.4517 808.481 29.4065 806.062 Z\" fill=\"#000000\" fill-rule=\"evenodd\" fill-opacity=\"1\" /><path clip-path=\"url(#clip660)\" d=\"M18.2347 789.034 L28.3562 789.034 L28.3562 776.971 L32.9077 776.971 L32.9077 789.034 L52.2594 789.034 Q56.6199 789.034 57.8613 787.856 Q59.1026 786.647 59.1026 782.987 L59.1026 776.971 L64.0042 776.971 L64.0042 782.987 Q64.0042 789.766 61.4897 792.344 Q58.9434 794.922 52.2594 794.922 L32.9077 794.922 L32.9077 799.219 L28.3562 799.219 L28.3562 794.922 L18.2347 794.922 L18.2347 789.034 Z\" fill=\"#000000\" fill-rule=\"evenodd\" fill-opacity=\"1\" /><path clip-path=\"url(#clip660)\" d=\"M46.0847 753.068 Q46.0847 760.166 47.7079 762.903 Q49.3312 765.64 53.2461 765.64 Q56.3653 765.64 58.2114 763.603 Q60.0256 761.534 60.0256 758.001 Q60.0256 753.131 56.5881 750.203 Q53.1188 747.243 47.3897 747.243 L46.0847 747.243 L46.0847 753.068 M43.6657 741.387 L64.0042 741.387 L64.0042 747.243 L58.5933 747.243 Q61.8398 749.248 63.3994 752.24 Q64.9272 755.232 64.9272 759.561 Q64.9272 765.035 61.8716 768.282 Q58.7843 771.496 53.6281 771.496 Q47.6125 771.496 44.5569 767.486 Q41.5014 763.444 41.5014 755.455 L41.5014 747.243 L40.9285 747.243 Q36.8862 747.243 34.6901 749.917 Q32.4621 752.559 32.4621 757.365 Q32.4621 760.42 33.1941 763.317 Q33.9262 766.213 35.3903 768.887 L29.9795 768.887 Q28.7381 765.672 28.1334 762.648 Q27.4968 759.624 27.4968 756.76 Q27.4968 749.026 31.5072 745.206 Q35.5176 741.387 43.6657 741.387 Z\" fill=\"#000000\" fill-rule=\"evenodd\" fill-opacity=\"1\" /><path clip-path=\"url(#clip660)\" d=\"M18.2347 723.531 L28.3562 723.531 L28.3562 711.468 L32.9077 711.468 L32.9077 723.531 L52.2594 723.531 Q56.6199 723.531 57.8613 722.353 Q59.1026 721.144 59.1026 717.483 L59.1026 711.468 L64.0042 711.468 L64.0042 717.483 Q64.0042 724.263 61.4897 726.841 Q58.9434 729.419 52.2594 729.419 L32.9077 729.419 L32.9077 733.716 L28.3562 733.716 L28.3562 729.419 L18.2347 729.419 L18.2347 723.531 Z\" fill=\"#000000\" fill-rule=\"evenodd\" fill-opacity=\"1\" /><path clip-path=\"url(#clip660)\" d=\"M44.7161 673.274 L47.5806 673.274 L47.5806 700.201 Q53.6281 699.819 56.8109 696.572 Q59.9619 693.294 59.9619 687.469 Q59.9619 684.095 59.1344 680.944 Q58.3069 677.761 56.6518 674.642 L62.1899 674.642 Q63.5267 677.793 64.227 681.103 Q64.9272 684.414 64.9272 687.819 Q64.9272 696.349 59.9619 701.346 Q54.9967 706.312 46.5303 706.312 Q37.7774 706.312 32.6531 701.601 Q27.4968 696.859 27.4968 688.838 Q27.4968 681.645 32.1438 677.475 Q36.7589 673.274 44.7161 673.274 M42.9973 679.13 Q38.1912 679.194 35.3266 681.836 Q32.4621 684.445 32.4621 688.774 Q32.4621 693.676 35.2312 696.636 Q38.0002 699.564 43.0292 700.01 L42.9973 679.13 Z\" fill=\"#000000\" fill-rule=\"evenodd\" fill-opacity=\"1\" /><path clip-path=\"url(#clip660)\" d=\"M29.4065 640.936 L34.9447 640.936 Q33.6716 643.418 33.035 646.092 Q32.3984 648.766 32.3984 651.63 Q32.3984 655.991 33.7352 658.187 Q35.072 660.351 37.7456 660.351 Q39.7826 660.351 40.9603 658.792 Q42.1061 657.232 43.1565 652.521 L43.6021 650.516 Q44.9389 644.278 47.3897 641.668 Q49.8086 639.026 54.1691 639.026 Q59.1344 639.026 62.0308 642.973 Q64.9272 646.888 64.9272 653.763 Q64.9272 656.627 64.3543 659.747 Q63.8132 662.834 62.6992 666.271 L56.6518 666.271 Q58.3387 663.025 59.198 659.874 Q60.0256 656.723 60.0256 653.635 Q60.0256 649.498 58.6251 647.27 Q57.1929 645.042 54.6147 645.042 Q52.2276 645.042 50.9545 646.665 Q49.6813 648.256 48.5037 653.699 L48.0262 655.736 Q46.8804 661.179 44.5251 663.598 Q42.138 666.017 38.0002 666.017 Q32.9713 666.017 30.2341 662.452 Q27.4968 658.887 27.4968 652.33 Q27.4968 649.084 27.9743 646.219 Q28.4517 643.355 29.4065 640.936 Z\" fill=\"#000000\" fill-rule=\"evenodd\" fill-opacity=\"1\" /><polyline clip-path=\"url(#clip662)\" style=\"stroke:#009af9; stroke-linecap:butt; stroke-linejoin:round; stroke-width:4; stroke-opacity:1; fill:none\" points=\"\n",
       "  235.808,1384.24 239.918,1373.28 244.029,1342.7 248.139,1298.96 252.25,1251.38 256.361,1208.2 260.471,1173.18 264.582,1146.56 268.692,1127.48 272.803,1114.8 \n",
       "  276.913,1107.31 281.024,1103.7 285.135,1102.61 289.245,1102.84 293.356,1103.46 297.466,1103.86 301.577,1103.79 305.687,1103.25 309.798,1102.35 313.909,1101.26 \n",
       "  318.019,1100.13 322.13,1099.1 326.24,1098.23 330.351,1097.58 334.462,1097.16 338.572,1096.97 342.683,1097.01 346.793,1097.25 350.904,1097.69 355.014,1098.29 \n",
       "  359.125,1099.06 363.236,1099.97 367.346,1101.02 371.457,1102.2 375.567,1103.5 379.678,1104.9 383.788,1106.41 387.899,1108.02 392.01,1109.71 396.12,1111.48 \n",
       "  400.231,1113.34 404.341,1115.26 408.452,1117.25 412.563,1119.29 416.673,1121.39 420.784,1123.54 424.894,1125.73 429.005,1127.95 433.115,1130.21 437.226,1132.5 \n",
       "  441.337,1134.82 445.447,1137.16 449.558,1139.51 453.668,1141.87 457.779,1144.25 461.889,1146.63 466,1149.02 470.111,1151.4 474.221,1153.79 478.332,1156.16 \n",
       "  482.442,1158.53 486.553,1160.9 490.664,1163.24 494.774,1165.58 498.885,1167.89 502.995,1170.19 507.106,1172.47 511.216,1174.72 515.327,1176.96 519.438,1179.16 \n",
       "  523.548,1181.34 527.659,1183.5 531.769,1185.62 535.88,1187.72 539.99,1189.78 544.101,1191.82 548.212,1193.82 552.322,1195.79 556.433,1197.72 560.543,1199.62 \n",
       "  564.654,1201.49 568.765,1203.32 572.875,1205.12 576.986,1206.88 581.096,1208.6 585.207,1210.29 589.317,1211.94 593.428,1213.56 597.539,1215.14 601.649,1216.68 \n",
       "  605.76,1218.19 609.87,1219.66 613.981,1221.1 618.091,1222.5 622.202,1223.86 626.313,1225.19 630.423,1226.48 634.534,1227.74 638.644,1228.97 642.755,1230.16 \n",
       "  646.866,1231.31 650.976,1232.44 655.087,1233.53 659.197,1234.59 663.308,1235.61 667.418,1236.61 671.529,1237.57 675.64,1238.5 679.75,1239.4 683.861,1240.27 \n",
       "  687.971,1241.12 692.082,1241.93 696.192,1242.72 700.303,1243.48 704.414,1244.21 708.524,1244.91 712.635,1245.59 716.745,1246.25 720.856,1246.87 724.967,1247.48 \n",
       "  729.077,1248.06 733.188,1248.62 737.298,1249.15 741.409,1249.66 745.519,1250.16 749.63,1250.63 753.741,1251.08 757.851,1251.5 761.962,1251.91 766.072,1252.31 \n",
       "  770.183,1252.68 774.293,1253.03 778.404,1253.37 782.515,1253.69 786.625,1254 790.736,1254.28 794.846,1254.56 798.957,1254.82 803.068,1255.06 807.178,1255.29 \n",
       "  811.289,1255.51 815.399,1255.71 819.51,1255.9 823.62,1256.08 827.731,1256.24 831.842,1256.4 835.952,1256.54 840.063,1256.68 844.173,1256.8 848.284,1256.92 \n",
       "  852.394,1257.02 856.505,1257.11 860.616,1257.2 864.726,1257.28 868.837,1257.35 872.947,1257.41 877.058,1257.47 881.169,1257.52 885.279,1257.56 889.39,1257.59 \n",
       "  893.5,1257.62 897.611,1257.65 901.721,1257.66 905.832,1257.68 909.943,1257.68 914.053,1257.69 918.164,1257.69 922.274,1257.68 926.385,1257.67 930.495,1257.65 \n",
       "  934.606,1257.64 938.717,1257.62 942.827,1257.59 946.938,1257.56 951.048,1257.53 955.159,1257.5 959.27,1257.47 963.38,1257.43 967.491,1257.39 971.601,1257.35 \n",
       "  975.712,1257.31 979.822,1257.26 983.933,1257.21 988.044,1257.17 992.154,1257.12 996.265,1257.07 1000.38,1257.02 1004.49,1256.96 1008.6,1256.91 1012.71,1256.86 \n",
       "  1016.82,1256.8 1020.93,1256.75 1025.04,1256.69 1029.15,1256.64 1033.26,1256.58 1037.37,1256.52 1041.48,1256.47 1045.59,1256.41 1049.7,1256.36 1053.81,1256.3 \n",
       "  1057.92,1256.24 1062.03,1256.19 1066.14,1256.13 1070.26,1256.08 1074.37,1256.02 1078.48,1255.97 1082.59,1255.92 1086.7,1255.86 1090.81,1255.81 1094.92,1255.76 \n",
       "  1099.03,1255.71 1103.14,1255.66 1107.25,1255.61 1111.36,1255.56 1115.47,1255.51 1119.58,1255.46 1123.69,1255.42 1127.8,1255.37 1131.91,1255.32 1136.02,1255.28 \n",
       "  1140.14,1255.23 1144.25,1255.19 1148.36,1255.15 1152.47,1255.11 1156.58,1255.07 1160.69,1255.03 1164.8,1254.99 1168.91,1254.95 1173.02,1254.91 1177.13,1254.88 \n",
       "  1181.24,1254.84 1185.35,1254.81 1189.46,1254.77 1193.57,1254.74 1197.68,1254.71 1201.79,1254.68 1205.9,1254.65 1210.01,1254.62 1214.13,1254.59 1218.24,1254.56 \n",
       "  1222.35,1254.53 1226.46,1254.51 1230.57,1254.48 1234.68,1254.46 1238.79,1254.43 1242.9,1254.41 1247.01,1254.39 1251.12,1254.36 1255.23,1254.34 1259.34,1254.32 \n",
       "  1263.45,1254.3 1267.56,1254.28 1271.67,1254.26 1275.78,1254.25 1279.89,1254.23 1284.01,1254.21 1288.12,1254.2 1292.23,1254.18 1296.34,1254.17 1300.45,1254.15 \n",
       "  1304.56,1254.14 1308.67,1254.13 1312.78,1254.11 1316.89,1254.1 1321,1254.09 1325.11,1254.08 1329.22,1254.07 1333.33,1254.06 1337.44,1254.05 1341.55,1254.04 \n",
       "  1345.66,1254.03 1349.77,1254.02 1353.89,1254.01 1358,1254.01 1362.11,1254 1366.22,1253.99 1370.33,1253.98 1374.44,1253.98 1378.55,1253.97 1382.66,1253.97 \n",
       "  1386.77,1253.96 1390.88,1253.96 1394.99,1253.95 1399.1,1253.95 1403.21,1253.95 1407.32,1253.94 1411.43,1253.94 1415.54,1253.93 1419.65,1253.93 1423.77,1253.93 \n",
       "  1427.88,1253.93 1431.99,1253.92 1436.1,1253.92 1440.21,1253.92 1444.32,1253.92 1448.43,1253.92 1452.54,1253.92 1456.65,1253.92 1460.76,1253.91 1464.87,1253.91 \n",
       "  1468.98,1253.91 1473.09,1253.91 1477.2,1253.91 1481.31,1253.91 1485.42,1253.91 1489.53,1253.91 1493.64,1253.91 1497.76,1253.91 1501.87,1253.91 1505.98,1253.91 \n",
       "  1510.09,1253.91 1514.2,1253.91 1518.31,1253.91 1522.42,1253.91 1526.53,1253.91 1530.64,1253.92 1534.75,1253.92 1538.86,1253.92 1542.97,1253.92 1547.08,1253.92 \n",
       "  1551.19,1253.92 1555.3,1253.92 1559.41,1253.92 1563.52,1253.92 1567.64,1253.92 1571.75,1253.93 1575.86,1253.93 1579.97,1253.93 1584.08,1253.93 1588.19,1253.93 \n",
       "  1592.3,1253.93 1596.41,1253.93 1600.52,1253.93 1604.63,1253.94 1608.74,1253.94 1612.85,1253.94 1616.96,1253.94 1621.07,1253.94 1625.18,1253.94 1629.29,1253.94 \n",
       "  1633.4,1253.94 1637.52,1253.95 1641.63,1253.95 1645.74,1253.95 1649.85,1253.95 1653.96,1253.95 1658.07,1253.95 1662.18,1253.95 1666.29,1253.96 1670.4,1253.96 \n",
       "  1674.51,1253.96 1678.62,1253.96 1682.73,1253.96 1686.84,1253.96 1690.95,1253.96 1695.06,1253.96 1699.17,1253.96 1703.28,1253.97 1707.39,1253.97 1711.51,1253.97 \n",
       "  1715.62,1253.97 1719.73,1253.97 1723.84,1253.97 1727.95,1253.97 1732.06,1253.97 1736.17,1253.97 1740.28,1253.97 1744.39,1253.98 1748.5,1253.98 1752.61,1253.98 \n",
       "  1756.72,1253.98 1760.83,1253.98 1764.94,1253.98 1769.05,1253.98 1773.16,1253.98 1777.27,1253.98 1781.39,1253.98 1785.5,1253.98 1789.61,1253.98 1793.72,1253.98 \n",
       "  1797.83,1253.99 1801.94,1253.99 1806.05,1253.99 1810.16,1253.99 1814.27,1253.99 1818.38,1253.99 1822.49,1253.99 1826.6,1253.99 1830.71,1253.99 1834.82,1253.99 \n",
       "  1838.93,1253.99 1843.04,1253.99 1847.15,1253.99 1851.27,1253.99 1855.38,1253.99 1859.49,1253.99 1863.6,1253.99 1867.71,1253.99 1871.82,1253.99 1875.93,1253.99 \n",
       "  1880.04,1253.99 1884.15,1253.99 1888.26,1254 1892.37,1254 1896.48,1254 1900.59,1254 1904.7,1254 1908.81,1254 1912.92,1254 1917.03,1254 \n",
       "  1921.15,1254 1925.26,1254 1929.37,1254 1933.48,1254 1937.59,1254 1941.7,1254 1945.81,1254 1949.92,1254 1954.03,1254 1958.14,1254 \n",
       "  1962.25,1254 1966.36,1254 1970.47,1254 1974.58,1254 1978.69,1254 1982.8,1254 1986.91,1254 1991.02,1254 1995.14,1254 1999.25,1254 \n",
       "  2003.36,1254 2007.47,1254 2011.58,1254 2015.69,1254 2019.8,1254 2023.91,1254 2028.02,1254 2032.13,1254 2036.24,1254 2040.35,1254 \n",
       "  2044.46,1254 2048.57,1254 2052.68,1254 2056.79,1254 2060.9,1254 2065.02,1254 2069.13,1254 2073.24,1254 2077.35,1254 2081.46,1254 \n",
       "  2085.57,1254 2089.68,1254 2093.79,1254 2097.9,1254 2102.01,1254 2106.12,1254 2110.23,1254 2114.34,1254 2118.45,1254 2122.56,1254 \n",
       "  2126.67,1254 2130.78,1254 2134.9,1254 2139.01,1254 2143.12,1254 2147.23,1254 2151.34,1254 2155.45,1254 2159.56,1254 2163.67,1254 \n",
       "  2167.78,1254 2171.89,1254 2176,1254 2180.11,1254 2184.22,1254 2188.33,1254 2192.44,1254 2196.55,1254 2200.66,1254 2204.78,1254 \n",
       "  2208.89,1254 2213,1254 2217.11,1254 2221.22,1254 2225.33,1254 2229.44,1254 2233.55,1254 2237.66,1254 2241.77,1254 2245.88,1254 \n",
       "  2249.99,1254 2254.1,1254 2258.21,1254 2262.32,1254 2266.43,1254 2270.54,1254 2274.65,1254 2278.77,1254 2282.88,1254 2286.99,1254 \n",
       "  2291.1,1254 \n",
       "  \"/>\n",
       "<polyline clip-path=\"url(#clip662)\" style=\"stroke:#e26f46; stroke-linecap:butt; stroke-linejoin:round; stroke-width:4; stroke-opacity:1; fill:none\" points=\"\n",
       "  235.808,458.404 239.918,442.337 244.029,396.587 248.139,329.548 252.25,256.447 256.361,192.623 260.471,144.877 264.582,112.868 268.692,94.1553 272.803,86.1857 \n",
       "  276.913,86.5144 281.024,92.7258 285.135,102.461 289.245,113.6 293.356,124.498 297.466,134.135 301.577,142.096 305.687,148.416 309.798,153.377 313.909,157.344 \n",
       "  318.019,160.656 322.13,163.581 326.24,166.302 330.351,168.929 334.462,171.518 338.572,174.09 342.683,176.644 346.793,179.171 350.904,181.656 355.014,184.089 \n",
       "  359.125,186.462 363.236,188.767 367.346,191.003 371.457,193.167 375.567,195.261 379.678,197.285 383.788,199.24 387.899,201.129 392.01,202.954 396.12,204.714 \n",
       "  400.231,206.414 404.341,208.053 408.452,209.633 412.563,211.155 416.673,212.622 420.784,214.033 424.894,215.391 429.005,216.697 433.115,217.951 437.226,219.155 \n",
       "  441.337,220.311 445.447,221.419 449.558,222.48 453.668,223.497 457.779,224.469 461.889,225.399 466,226.287 470.111,227.134 474.221,227.942 478.332,228.711 \n",
       "  482.442,229.443 486.553,230.139 490.664,230.8 494.774,231.426 498.885,232.02 502.995,232.581 507.106,233.112 511.216,233.612 515.327,234.083 519.438,234.526 \n",
       "  523.548,234.942 527.659,235.332 531.769,235.696 535.88,236.036 539.99,236.353 544.101,236.646 548.212,236.918 552.322,237.168 556.433,237.399 560.543,237.609 \n",
       "  564.654,237.801 568.765,237.975 572.875,238.132 576.986,238.272 581.096,238.397 585.207,238.506 589.317,238.6 593.428,238.681 597.539,238.749 601.649,238.804 \n",
       "  605.76,238.847 609.87,238.878 613.981,238.899 618.091,238.909 622.202,238.909 626.313,238.9 630.423,238.883 634.534,238.857 638.644,238.823 642.755,238.781 \n",
       "  646.866,238.733 650.976,238.678 655.087,238.617 659.197,238.55 663.308,238.478 667.418,238.401 671.529,238.319 675.64,238.233 679.75,238.143 683.861,238.049 \n",
       "  687.971,237.952 692.082,237.852 696.192,237.749 700.303,237.643 704.414,237.535 708.524,237.425 712.635,237.314 716.745,237.2 720.856,237.086 724.967,236.97 \n",
       "  729.077,236.853 733.188,236.736 737.298,236.618 741.409,236.499 745.519,236.381 749.63,236.262 753.741,236.143 757.851,236.025 761.962,235.906 766.072,235.789 \n",
       "  770.183,235.671 774.293,235.555 778.404,235.439 782.515,235.324 786.625,235.21 790.736,235.097 794.846,234.986 798.957,234.875 803.068,234.766 807.178,234.658 \n",
       "  811.289,234.551 815.399,234.446 819.51,234.343 823.62,234.241 827.731,234.14 831.842,234.041 835.952,233.944 840.063,233.849 844.173,233.755 848.284,233.663 \n",
       "  852.394,233.572 856.505,233.484 860.616,233.397 864.726,233.312 868.837,233.229 872.947,233.147 877.058,233.068 881.169,232.99 885.279,232.914 889.39,232.84 \n",
       "  893.5,232.767 897.611,232.696 901.721,232.628 905.832,232.561 909.943,232.495 914.053,232.432 918.164,232.37 922.274,232.31 926.385,232.251 930.495,232.194 \n",
       "  934.606,232.139 938.717,232.086 942.827,232.034 946.938,231.983 951.048,231.935 955.159,231.887 959.27,231.842 963.38,231.797 967.491,231.755 971.601,231.713 \n",
       "  975.712,231.673 979.822,231.635 983.933,231.598 988.044,231.562 992.154,231.528 996.265,231.494 1000.38,231.462 1004.49,231.432 1008.6,231.402 1012.71,231.374 \n",
       "  1016.82,231.346 1020.93,231.32 1025.04,231.295 1029.15,231.271 1033.26,231.248 1037.37,231.227 1041.48,231.206 1045.59,231.186 1049.7,231.167 1053.81,231.148 \n",
       "  1057.92,231.131 1062.03,231.115 1066.14,231.099 1070.26,231.084 1074.37,231.07 1078.48,231.057 1082.59,231.045 1086.7,231.033 1090.81,231.022 1094.92,231.011 \n",
       "  1099.03,231.001 1103.14,230.992 1107.25,230.984 1111.36,230.976 1115.47,230.968 1119.58,230.961 1123.69,230.955 1127.8,230.949 1131.91,230.943 1136.02,230.938 \n",
       "  1140.14,230.934 1144.25,230.93 1148.36,230.926 1152.47,230.923 1156.58,230.92 1160.69,230.917 1164.8,230.915 1168.91,230.913 1173.02,230.911 1177.13,230.91 \n",
       "  1181.24,230.909 1185.35,230.908 1189.46,230.908 1193.57,230.907 1197.68,230.907 1201.79,230.908 1205.9,230.908 1210.01,230.909 1214.13,230.909 1218.24,230.91 \n",
       "  1222.35,230.911 1226.46,230.913 1230.57,230.914 1234.68,230.916 1238.79,230.917 1242.9,230.919 1247.01,230.921 1251.12,230.923 1255.23,230.925 1259.34,230.927 \n",
       "  1263.45,230.93 1267.56,230.932 1271.67,230.934 1275.78,230.937 1279.89,230.939 1284.01,230.942 1288.12,230.945 1292.23,230.947 1296.34,230.95 1300.45,230.953 \n",
       "  1304.56,230.955 1308.67,230.958 1312.78,230.961 1316.89,230.964 1321,230.967 1325.11,230.969 1329.22,230.972 1333.33,230.975 1337.44,230.978 1341.55,230.98 \n",
       "  1345.66,230.983 1349.77,230.986 1353.89,230.989 1358,230.991 1362.11,230.994 1366.22,230.997 1370.33,230.999 1374.44,231.002 1378.55,231.005 1382.66,231.007 \n",
       "  1386.77,231.01 1390.88,231.012 1394.99,231.014 1399.1,231.017 1403.21,231.019 1407.32,231.022 1411.43,231.024 1415.54,231.026 1419.65,231.028 1423.77,231.03 \n",
       "  1427.88,231.033 1431.99,231.035 1436.1,231.037 1440.21,231.039 1444.32,231.041 1448.43,231.043 1452.54,231.044 1456.65,231.046 1460.76,231.048 1464.87,231.05 \n",
       "  1468.98,231.052 1473.09,231.053 1477.2,231.055 1481.31,231.056 1485.42,231.058 1489.53,231.059 1493.64,231.061 1497.76,231.062 1501.87,231.064 1505.98,231.065 \n",
       "  1510.09,231.066 1514.2,231.068 1518.31,231.069 1522.42,231.07 1526.53,231.071 1530.64,231.072 1534.75,231.073 1538.86,231.074 1542.97,231.075 1547.08,231.076 \n",
       "  1551.19,231.077 1555.3,231.078 1559.41,231.079 1563.52,231.08 1567.64,231.081 1571.75,231.082 1575.86,231.082 1579.97,231.083 1584.08,231.084 1588.19,231.084 \n",
       "  1592.3,231.085 1596.41,231.086 1600.52,231.086 1604.63,231.087 1608.74,231.087 1612.85,231.088 1616.96,231.088 1621.07,231.089 1625.18,231.089 1629.29,231.09 \n",
       "  1633.4,231.09 1637.52,231.09 1641.63,231.091 1645.74,231.091 1649.85,231.092 1653.96,231.092 1658.07,231.092 1662.18,231.092 1666.29,231.093 1670.4,231.093 \n",
       "  1674.51,231.093 1678.62,231.093 1682.73,231.094 1686.84,231.094 1690.95,231.094 1695.06,231.094 1699.17,231.094 1703.28,231.094 1707.39,231.095 1711.51,231.095 \n",
       "  1715.62,231.095 1719.73,231.095 1723.84,231.095 1727.95,231.095 1732.06,231.095 1736.17,231.095 1740.28,231.095 1744.39,231.095 1748.5,231.095 1752.61,231.095 \n",
       "  1756.72,231.095 1760.83,231.095 1764.94,231.095 1769.05,231.095 1773.16,231.095 1777.27,231.095 1781.39,231.095 1785.5,231.095 1789.61,231.095 1793.72,231.095 \n",
       "  1797.83,231.095 1801.94,231.095 1806.05,231.095 1810.16,231.095 1814.27,231.095 1818.38,231.095 1822.49,231.095 1826.6,231.095 1830.71,231.095 1834.82,231.095 \n",
       "  1838.93,231.095 1843.04,231.095 1847.15,231.095 1851.27,231.095 1855.38,231.095 1859.49,231.095 1863.6,231.095 1867.71,231.094 1871.82,231.094 1875.93,231.094 \n",
       "  1880.04,231.094 1884.15,231.094 1888.26,231.094 1892.37,231.094 1896.48,231.094 1900.59,231.094 1904.7,231.094 1908.81,231.094 1912.92,231.094 1917.03,231.094 \n",
       "  1921.15,231.094 1925.26,231.094 1929.37,231.093 1933.48,231.093 1937.59,231.093 1941.7,231.093 1945.81,231.093 1949.92,231.093 1954.03,231.093 1958.14,231.093 \n",
       "  1962.25,231.093 1966.36,231.093 1970.47,231.093 1974.58,231.093 1978.69,231.093 1982.8,231.093 1986.91,231.093 1991.02,231.093 1995.14,231.093 1999.25,231.092 \n",
       "  2003.36,231.092 2007.47,231.092 2011.58,231.092 2015.69,231.092 2019.8,231.092 2023.91,231.092 2028.02,231.092 2032.13,231.092 2036.24,231.092 2040.35,231.092 \n",
       "  2044.46,231.092 2048.57,231.092 2052.68,231.092 2056.79,231.092 2060.9,231.092 2065.02,231.092 2069.13,231.092 2073.24,231.092 2077.35,231.092 2081.46,231.092 \n",
       "  2085.57,231.092 2089.68,231.092 2093.79,231.092 2097.9,231.092 2102.01,231.092 2106.12,231.092 2110.23,231.091 2114.34,231.091 2118.45,231.091 2122.56,231.091 \n",
       "  2126.67,231.091 2130.78,231.091 2134.9,231.091 2139.01,231.091 2143.12,231.091 2147.23,231.091 2151.34,231.091 2155.45,231.091 2159.56,231.091 2163.67,231.091 \n",
       "  2167.78,231.091 2171.89,231.091 2176,231.091 2180.11,231.091 2184.22,231.091 2188.33,231.091 2192.44,231.091 2196.55,231.091 2200.66,231.091 2204.78,231.091 \n",
       "  2208.89,231.091 2213,231.091 2217.11,231.091 2221.22,231.091 2225.33,231.091 2229.44,231.091 2233.55,231.091 2237.66,231.091 2241.77,231.091 2245.88,231.091 \n",
       "  2249.99,231.091 2254.1,231.091 2258.21,231.091 2262.32,231.091 2266.43,231.091 2270.54,231.091 2274.65,231.091 2278.77,231.091 2282.88,231.091 2286.99,231.091 \n",
       "  2291.1,231.091 \n",
       "  \"/>\n",
       "<path clip-path=\"url(#clip660)\" d=\"\n",
       "M246.769 787.052 L513.975 787.052 L513.975 631.532 L246.769 631.532  Z\n",
       "  \" fill=\"#ffffff\" fill-rule=\"evenodd\" fill-opacity=\"1\"/>\n",
       "<polyline clip-path=\"url(#clip660)\" style=\"stroke:#000000; stroke-linecap:butt; stroke-linejoin:round; stroke-width:4; stroke-opacity:1; fill:none\" points=\"\n",
       "  246.769,787.052 513.975,787.052 513.975,631.532 246.769,631.532 246.769,787.052 \n",
       "  \"/>\n",
       "<polyline clip-path=\"url(#clip660)\" style=\"stroke:#009af9; stroke-linecap:butt; stroke-linejoin:round; stroke-width:4; stroke-opacity:1; fill:none\" points=\"\n",
       "  270.976,683.372 416.216,683.372 \n",
       "  \"/>\n",
       "<path clip-path=\"url(#clip660)\" d=\"M465.076 674.726 L455.701 687.342 L465.562 700.652 L460.539 700.652 L452.992 690.467 L445.446 700.652 L440.423 700.652 L450.492 687.087 L441.28 674.726 L446.303 674.726 L453.178 683.962 L460.053 674.726 L465.076 674.726 Z\" fill=\"#000000\" fill-rule=\"evenodd\" fill-opacity=\"1\" /><polyline clip-path=\"url(#clip660)\" style=\"stroke:#e26f46; stroke-linecap:butt; stroke-linejoin:round; stroke-width:4; stroke-opacity:1; fill:none\" points=\"\n",
       "  270.976,735.212 416.216,735.212 \n",
       "  \"/>\n",
       "<path clip-path=\"url(#clip660)\" d=\"M459.682 736.057 L444.937 736.057 Q445.284 742.978 446.881 745.918 Q448.872 749.529 452.321 749.529 Q455.793 749.529 457.715 745.895 Q459.404 742.7 459.682 736.057 M459.613 732.122 Q458.965 725.548 457.715 723.233 Q455.724 719.575 452.321 719.575 Q448.78 719.575 446.905 723.187 Q445.423 726.103 444.983 732.122 L459.613 732.122 M452.321 716.103 Q457.877 716.103 461.048 721.011 Q464.219 725.895 464.219 734.552 Q464.219 743.186 461.048 748.094 Q457.877 753.024 452.321 753.024 Q446.743 753.024 443.594 748.094 Q440.423 743.186 440.423 734.552 Q440.423 725.895 443.594 721.011 Q446.743 716.103 452.321 716.103 Z\" fill=\"#000000\" fill-rule=\"evenodd\" fill-opacity=\"1\" /></svg>\n"
      ]
     },
     "metadata": {},
     "output_type": "display_data"
    }
   ],
   "source": [
    "ctrl_lqr2 = LQRController(K_bil2, xe, ue)\n",
    "t_sim = 10.0\n",
    "times_sim = range(0,t_sim,step=dt)\n",
    "x0 = [-0.4,pi-deg2rad(40),0,0]\n",
    "Xsim_lqr2, = simulatewithcontroller(dmodel, ctrl_lqr2, x0, t_sim, dt)\n",
    "plotstates(times_sim, Xsim_lqr2, inds=1:2, xlabel=\"time (s)\", ylabel=\"states\", label=[\"x\" \"θ\"], legend=:left)"
   ]
  },
  {
   "cell_type": "code",
   "execution_count": 63,
   "metadata": {},
   "outputs": [
    {
     "data": {
      "text/html": [
       "    <div style=\"height: 500px; width: 100%; overflow-x: auto; overflow-y: hidden; resize: both\">\n",
       "    <iframe src=\"http://127.0.0.1:8702\" style=\"width: 100%; height: 100%; border: none\"></iframe>\n",
       "    </div>\n"
      ],
      "text/plain": [
       "MeshCat.DisplayedVisualizer(MeshCat.CoreVisualizer(MeshCat.SceneTrees.SceneNode(nothing, nothing, Dict{String, Vector{UInt8}}(), nothing, Dict{String, MeshCat.SceneTrees.SceneNode}(\"meshcat\" => MeshCat.SceneTrees.SceneNode(nothing, nothing, Dict{String, Vector{UInt8}}(), nothing, Dict{String, MeshCat.SceneTrees.SceneNode}(\"robot\" => MeshCat.SceneTrees.SceneNode(nothing, nothing, Dict{String, Vector{UInt8}}(), nothing, Dict{String, MeshCat.SceneTrees.SceneNode}(\"rod\" => MeshCat.SceneTrees.SceneNode(UInt8[0x83, 0xa6, 0x6f, 0x62, 0x6a, 0x65, 0x63, 0x74, 0x84, 0xaa  …  0x2f, 0x72, 0x6f, 0x62, 0x6f, 0x74, 0x2f, 0x72, 0x6f, 0x64], nothing, Dict{String, Vector{UInt8}}(), nothing, Dict{String, MeshCat.SceneTrees.SceneNode}()), \"cart\" => MeshCat.SceneTrees.SceneNode(nothing, nothing, Dict{String, Vector{UInt8}}(), nothing, Dict{String, MeshCat.SceneTrees.SceneNode}(\"pole\" => MeshCat.SceneTrees.SceneNode(nothing, UInt8[0x83, 0xa6, 0x6d, 0x61, 0x74, 0x72, 0x69, 0x78, 0xc7, 0x40  …  0x2f, 0x63, 0x61, 0x72, 0x74, 0x2f, 0x70, 0x6f, 0x6c, 0x65], Dict{String, Vector{UInt8}}(), nothing, Dict{String, MeshCat.SceneTrees.SceneNode}(\"geom\" => MeshCat.SceneTrees.SceneNode(nothing, nothing, Dict{String, Vector{UInt8}}(), nothing, Dict{String, MeshCat.SceneTrees.SceneNode}(\"cyl\" => MeshCat.SceneTrees.SceneNode(UInt8[0x83, 0xa6, 0x6f, 0x62, 0x6a, 0x65, 0x63, 0x74, 0x84, 0xaa  …  0x65, 0x2f, 0x67, 0x65, 0x6f, 0x6d, 0x2f, 0x63, 0x79, 0x6c], nothing, Dict{String, Vector{UInt8}}(), nothing, Dict{String, MeshCat.SceneTrees.SceneNode}()), \"mass\" => MeshCat.SceneTrees.SceneNode(UInt8[0x83, 0xa6, 0x6f, 0x62, 0x6a, 0x65, 0x63, 0x74, 0x84, 0xaa  …  0x2f, 0x67, 0x65, 0x6f, 0x6d, 0x2f, 0x6d, 0x61, 0x73, 0x73], nothing, Dict{String, Vector{UInt8}}(), nothing, Dict{String, MeshCat.SceneTrees.SceneNode}()))))), \"box\" => MeshCat.SceneTrees.SceneNode(UInt8[0x83, 0xa6, 0x6f, 0x62, 0x6a, 0x65, 0x63, 0x74, 0x84, 0xaa  …  0x74, 0x2f, 0x63, 0x61, 0x72, 0x74, 0x2f, 0x62, 0x6f, 0x78], nothing, Dict{String, Vector{UInt8}}(), nothing, Dict{String, MeshCat.SceneTrees.SceneNode}()), \"hinge\" => MeshCat.SceneTrees.SceneNode(UInt8[0x83, 0xa6, 0x6f, 0x62, 0x6a, 0x65, 0x63, 0x74, 0x84, 0xaa  …  0x63, 0x61, 0x72, 0x74, 0x2f, 0x68, 0x69, 0x6e, 0x67, 0x65], nothing, Dict{String, Vector{UInt8}}(), nothing, Dict{String, MeshCat.SceneTrees.SceneNode}()))))))))), Set(Any[WebSocket(server, \u001b[32mCONNECTED\u001b[39m)]), ip\"127.0.0.1\", 8702))"
      ]
     },
     "metadata": {},
     "output_type": "display_data"
    }
   ],
   "source": [
    "render(vis)"
   ]
  },
  {
   "cell_type": "code",
   "execution_count": 64,
   "metadata": {},
   "outputs": [],
   "source": [
    "visualize!(vis, model, t_sim, Xsim_lqr2)"
   ]
  },
  {
   "cell_type": "code",
   "execution_count": null,
   "metadata": {},
   "outputs": [],
   "source": []
  }
 ],
 "metadata": {
  "kernelspec": {
   "display_name": "Julia 1.7.1",
   "language": "julia",
   "name": "julia-1.7"
  },
  "language_info": {
   "file_extension": ".jl",
   "mimetype": "application/julia",
   "name": "julia",
   "version": "1.7.1"
  },
  "orig_nbformat": 4
 },
 "nbformat": 4,
 "nbformat_minor": 2
}
