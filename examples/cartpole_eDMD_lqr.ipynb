{
 "cells": [
  {
   "cell_type": "code",
   "execution_count": 1,
   "metadata": {},
   "outputs": [
    {
     "name": "stderr",
     "output_type": "stream",
     "text": [
      "\u001b[32m\u001b[1m  Activating\u001b[22m\u001b[39m project at `~/.julia/dev/BilinearControl/examples`\n"
     ]
    }
   ],
   "source": [
    "import Pkg; Pkg.activate(joinpath(@__DIR__)); Pkg.instantiate();\n",
    "using BilinearControl\n",
    "using BilinearControl.Problems\n",
    "using BilinearControl.EDMD\n",
    "import RobotDynamics as RD\n",
    "using LinearAlgebra\n",
    "using RobotZoo\n",
    "using JLD2\n",
    "using SparseArrays\n",
    "using Plots\n",
    "using Distributions\n",
    "using Distributions: Normal\n",
    "using Random\n",
    "using FiniteDiff, ForwardDiff\n",
    "using Test"
   ]
  },
  {
   "cell_type": "code",
   "execution_count": 2,
   "metadata": {},
   "outputs": [
    {
     "data": {
      "text/plain": [
       "8"
      ]
     },
     "execution_count": 2,
     "metadata": {},
     "output_type": "execute_result"
    }
   ],
   "source": [
    "Threads.nthreads()"
   ]
  },
  {
   "cell_type": "code",
   "execution_count": 3,
   "metadata": {},
   "outputs": [],
   "source": [
    "include(\"learned_models/edmd_utils.jl\");"
   ]
  },
  {
   "cell_type": "code",
   "execution_count": 4,
   "metadata": {},
   "outputs": [
    {
     "name": "stderr",
     "output_type": "stream",
     "text": [
      "WARNING: using GeometryBasics.Normal in module Main conflicts with an existing identifier.\n",
      "┌ Info: MeshCat server started. You can open the visualizer by visiting the following URL in your browser:\n",
      "│ http://127.0.0.1:8701\n",
      "└ @ MeshCat /home/jeonghun/.julia/packages/MeshCat/Ax8pH/src/visualizer.jl:73\n"
     ]
    },
    {
     "data": {
      "text/plain": [
       "MeshCat Visualizer with path /meshcat/robot/cart/pole at http://127.0.0.1:8701"
      ]
     },
     "execution_count": 4,
     "metadata": {},
     "output_type": "execute_result"
    }
   ],
   "source": [
    "## Visualizer\n",
    "model = Cartpole2()\n",
    "include(joinpath(Problems.VISDIR, \"visualization.jl\"))\n",
    "vis = Visualizer()\n",
    "delete!(vis)\n",
    "set_cartpole!(vis)"
   ]
  },
  {
   "cell_type": "code",
   "execution_count": 5,
   "metadata": {},
   "outputs": [
    {
     "data": {
      "text/html": [
       "    <div style=\"height: 500px; width: 100%; overflow-x: auto; overflow-y: hidden; resize: both\">\n",
       "    <iframe src=\"http://127.0.0.1:8701\" style=\"width: 100%; height: 100%; border: none\"></iframe>\n",
       "    </div>\n"
      ],
      "text/plain": [
       "MeshCat.DisplayedVisualizer(MeshCat.CoreVisualizer(MeshCat.SceneTrees.SceneNode(nothing, nothing, Dict{String, Vector{UInt8}}(), nothing, Dict{String, MeshCat.SceneTrees.SceneNode}(\"meshcat\" => MeshCat.SceneTrees.SceneNode(nothing, nothing, Dict{String, Vector{UInt8}}(), nothing, Dict{String, MeshCat.SceneTrees.SceneNode}(\"robot\" => MeshCat.SceneTrees.SceneNode(nothing, nothing, Dict{String, Vector{UInt8}}(), nothing, Dict{String, MeshCat.SceneTrees.SceneNode}(\"rod\" => MeshCat.SceneTrees.SceneNode(UInt8[0x83, 0xa6, 0x6f, 0x62, 0x6a, 0x65, 0x63, 0x74, 0x84, 0xaa  …  0x2f, 0x72, 0x6f, 0x62, 0x6f, 0x74, 0x2f, 0x72, 0x6f, 0x64], nothing, Dict{String, Vector{UInt8}}(), nothing, Dict{String, MeshCat.SceneTrees.SceneNode}()), \"cart\" => MeshCat.SceneTrees.SceneNode(nothing, nothing, Dict{String, Vector{UInt8}}(), nothing, Dict{String, MeshCat.SceneTrees.SceneNode}(\"pole\" => MeshCat.SceneTrees.SceneNode(nothing, UInt8[0x83, 0xa6, 0x6d, 0x61, 0x74, 0x72, 0x69, 0x78, 0xc7, 0x40  …  0x2f, 0x63, 0x61, 0x72, 0x74, 0x2f, 0x70, 0x6f, 0x6c, 0x65], Dict{String, Vector{UInt8}}(), nothing, Dict{String, MeshCat.SceneTrees.SceneNode}(\"geom\" => MeshCat.SceneTrees.SceneNode(nothing, nothing, Dict{String, Vector{UInt8}}(), nothing, Dict{String, MeshCat.SceneTrees.SceneNode}(\"cyl\" => MeshCat.SceneTrees.SceneNode(UInt8[0x83, 0xa6, 0x6f, 0x62, 0x6a, 0x65, 0x63, 0x74, 0x84, 0xaa  …  0x65, 0x2f, 0x67, 0x65, 0x6f, 0x6d, 0x2f, 0x63, 0x79, 0x6c], nothing, Dict{String, Vector{UInt8}}(), nothing, Dict{String, MeshCat.SceneTrees.SceneNode}()), \"mass\" => MeshCat.SceneTrees.SceneNode(UInt8[0x83, 0xa6, 0x6f, 0x62, 0x6a, 0x65, 0x63, 0x74, 0x84, 0xaa  …  0x2f, 0x67, 0x65, 0x6f, 0x6d, 0x2f, 0x6d, 0x61, 0x73, 0x73], nothing, Dict{String, Vector{UInt8}}(), nothing, Dict{String, MeshCat.SceneTrees.SceneNode}()))))), \"box\" => MeshCat.SceneTrees.SceneNode(UInt8[0x83, 0xa6, 0x6f, 0x62, 0x6a, 0x65, 0x63, 0x74, 0x84, 0xaa  …  0x74, 0x2f, 0x63, 0x61, 0x72, 0x74, 0x2f, 0x62, 0x6f, 0x78], nothing, Dict{String, Vector{UInt8}}(), nothing, Dict{String, MeshCat.SceneTrees.SceneNode}()), \"hinge\" => MeshCat.SceneTrees.SceneNode(UInt8[0x83, 0xa6, 0x6f, 0x62, 0x6a, 0x65, 0x63, 0x74, 0x84, 0xaa  …  0x63, 0x61, 0x72, 0x74, 0x2f, 0x68, 0x69, 0x6e, 0x67, 0x65], nothing, Dict{String, Vector{UInt8}}(), nothing, Dict{String, MeshCat.SceneTrees.SceneNode}()))))))))), Set{Any}(), ip\"127.0.0.1\", 8701))"
      ]
     },
     "execution_count": 5,
     "metadata": {},
     "output_type": "execute_result"
    }
   ],
   "source": [
    "render(vis)"
   ]
  },
  {
   "cell_type": "markdown",
   "metadata": {},
   "source": [
    "# Define Cartpole Model"
   ]
  },
  {
   "cell_type": "code",
   "execution_count": 6,
   "metadata": {},
   "outputs": [],
   "source": [
    "model = Cartpole2()  # this model has damping\n",
    "dmodel = RD.DiscretizedDynamics{RD.RK4}(model)\n",
    "tf = 2.0\n",
    "dt = 0.02;"
   ]
  },
  {
   "cell_type": "markdown",
   "metadata": {},
   "source": [
    "# Generate Data"
   ]
  },
  {
   "cell_type": "code",
   "execution_count": 7,
   "metadata": {},
   "outputs": [],
   "source": [
    "Random.seed!(1)\n",
    "num_test = 50  # number of trajectories\n",
    "num_train = 50\n",
    "\n",
    "# Generate a stabilizing LQR controller about the top\n",
    "Qlqr = Diagonal([0.2,10,1e-2,1e-2])\n",
    "Rlqr = Diagonal([1e-3])\n",
    "xe = [0,pi,0,0]\n",
    "ue = [0.0]\n",
    "ctrl_lqr = LQRController(dmodel, Qlqr, Rlqr, xe, ue, dt)\n",
    "\n",
    "# Sample a bunch of initial conditions for the LQR controller\n",
    "x0_sampler = Product([\n",
    "    Uniform(-1.0,1.0),\n",
    "    Uniform(pi-pi/3,pi+pi/3),\n",
    "    Uniform(-.5,.5),\n",
    "    Uniform(-.5,.5),\n",
    "])\n",
    "initial_conditions_lqr = [rand(x0_sampler) for _ in 1:num_test]\n",
    "initial_conditions_test = [rand(x0_sampler) for _ in 1:num_train]\n",
    "\n",
    "# Create data set\n",
    "X_train, U_train = create_data(dmodel, ctrl_lqr, initial_conditions_lqr, tf, dt)\n",
    "X_test, U_test = create_data(dmodel, ctrl_lqr, initial_conditions_test, tf, dt);"
   ]
  },
  {
   "cell_type": "code",
   "execution_count": 8,
   "metadata": {},
   "outputs": [],
   "source": [
    "#save data\n",
    "jldsave(joinpath(Problems.DATADIR, \"cartpole_lqr_trajectories.jld2\"); \n",
    "    X_train, U_train, X_test, U_test, tf, dt)"
   ]
  },
  {
   "cell_type": "markdown",
   "metadata": {},
   "source": [
    "# Import Training/Test Data"
   ]
  },
  {
   "cell_type": "code",
   "execution_count": 9,
   "metadata": {},
   "outputs": [],
   "source": [
    "lqr_traj = load(joinpath(Problems.DATADIR, \"cartpole_lqr_trajectories.jld2\"))\n",
    "\n",
    "X_train = lqr_traj[\"X_train\"]\n",
    "U_train = lqr_traj[\"U_train\"]\n",
    "X_test = lqr_traj[\"X_test\"]\n",
    "U_test = lqr_traj[\"U_test\"]\n",
    "tf = lqr_traj[\"tf\"]\n",
    "dt = lqr_traj[\"dt\"]\n",
    "\n",
    "T_ref = range(0,tf,step=dt);"
   ]
  },
  {
   "cell_type": "markdown",
   "metadata": {},
   "source": [
    "# Fit the Data using Nominal eDMD\n",
    "This uses the standard eDMD model method used in the CalTech paper, which learns a model of the form:\n",
    "\n",
    "$$ x^+ = A x + \\sum_{i=1}^m u_i C_i x $$"
   ]
  },
  {
   "cell_type": "code",
   "execution_count": 10,
   "metadata": {},
   "outputs": [],
   "source": [
    "# Define the basis functions\n",
    "eigfuns = [\"state\", \"sine\", \"cosine\", \"sine\", \"sine\", \"chebyshev\"]\n",
    "eigorders = [[0],[1],[1],[2],[4],[2, 4]];"
   ]
  },
  {
   "cell_type": "code",
   "execution_count": 11,
   "metadata": {},
   "outputs": [],
   "source": [
    "# Fit the data\n",
    "Z_train, Zu_train, kf = build_eigenfunctions(X_train, U_train, eigfuns, eigorders);"
   ]
  },
  {
   "cell_type": "code",
   "execution_count": 12,
   "metadata": {},
   "outputs": [
    {
     "name": "stdout",
     "output_type": "stream",
     "text": [
      "(T, K) = (165000, 2211)\n",
      "issparse(X) = true\n",
      "lambda = 1.0e-6\n"
     ]
    }
   ],
   "source": [
    "# Learn nominal model\n",
    "\n",
    "A, B, C, g = learn_bilinear_model(X_train, Z_train, Zu_train,\n",
    "    [\"ridge\", \"na\"]; \n",
    "    edmd_weights=[1e-6], \n",
    "    mapping_weights=[0.0], \n",
    "    algorithm=:qr\n",
    ");\n",
    "\n",
    "# A, B, C, g = learn_bilinear_model(X_train, Z_train, Zu_train,\n",
    "#     [\"na\", \"na\"]; \n",
    "#     edmd_weights=[0.0], \n",
    "#     mapping_weights=[0.0],\n",
    "#     algorithm=:qr\n",
    "# );"
   ]
  },
  {
   "cell_type": "code",
   "execution_count": 13,
   "metadata": {},
   "outputs": [],
   "source": [
    "# Save model\n",
    "jldsave(joinpath(Problems.DATADIR,\"cartpole_lqr_nominal_eDMD_data.jld2\"); A, B, C, g, kf, eigfuns, eigorders, tf, dt)"
   ]
  },
  {
   "cell_type": "markdown",
   "metadata": {},
   "source": [
    "# Import Nominal EDMD Model"
   ]
  },
  {
   "cell_type": "code",
   "execution_count": 14,
   "metadata": {},
   "outputs": [],
   "source": [
    "cartpole_data = load(joinpath(Problems.DATADIR, \"cartpole_lqr_nominal_eDMD_data.jld2\"))\n",
    "A_nom = cartpole_data[\"A\"]\n",
    "B_nom = cartpole_data[\"B\"]\n",
    "C_nom = cartpole_data[\"C\"]\n",
    "g = cartpole_data[\"g\"]\n",
    "kf = cartpole_data[\"kf\"]\n",
    "tf = cartpole_data[\"tf\"]\n",
    "dt = cartpole_data[\"dt\"];"
   ]
  },
  {
   "cell_type": "markdown",
   "metadata": {},
   "source": [
    "# Evaluate the Nominal Fit\n",
    "The fit is evaluated using:\n",
    "$$ \\frac{1}{P} \\sum_{j=1}^P || g (A \\varphi(x_j) + \\sum_{i=1}^m u_{j,i} C_i \\varphi(x_j)) - x_j^+ || $$\n",
    "\n",
    "where $y = \\varphi(x)$ is the Koopman transform."
   ]
  },
  {
   "cell_type": "code",
   "execution_count": 15,
   "metadata": {},
   "outputs": [
    {
     "name": "stdout",
     "output_type": "stream",
     "text": [
      "Train Error: 0.003513161952515057\n",
      "Test Error:  0.011753841994893259\n"
     ]
    }
   ],
   "source": [
    "err_train = BilinearControl.EDMD.fiterror(A_nom, B_nom, C_nom, g, kf, X_train, U_train)\n",
    "err_test = BilinearControl.EDMD.fiterror(A_nom, B_nom, C_nom, g, kf, X_test, U_test)\n",
    "println(\"Train Error: \", err_train)\n",
    "println(\"Test Error:  \", err_test)"
   ]
  },
  {
   "cell_type": "markdown",
   "metadata": {},
   "source": [
    "### Define the Bilinear Model"
   ]
  },
  {
   "cell_type": "code",
   "execution_count": 16,
   "metadata": {},
   "outputs": [
    {
     "name": "stdout",
     "output_type": "stream",
     "text": [
      "New state dimension: 33\n"
     ]
    }
   ],
   "source": [
    "model_bilinear = EDMDModel(A_nom,B_nom,C_nom,g,kf,dt,\"cartpole\")\n",
    "n,m = RD.dims(model_bilinear)\n",
    "n0 = originalstatedim(model_bilinear)\n",
    "println(\"New state dimension: \", n)"
   ]
  },
  {
   "cell_type": "markdown",
   "metadata": {},
   "source": [
    "### Compare Linearization\n",
    "To see if the learned model captures the dynamics, we'll evaluate the effective `A` and `B` dynamics Jaocbians of the learned model on the original dynamics, and compare to the nominal Jacobians."
   ]
  },
  {
   "cell_type": "code",
   "execution_count": 17,
   "metadata": {},
   "outputs": [],
   "source": [
    "# Define the equilibrium\n",
    "xe = [0.,pi,0,0]\n",
    "ue = [0.0]\n",
    "ze = RD.KnotPoint{n0,m}(xe,ue,0.0,dt)\n",
    "ye = expandstate(model_bilinear, xe);"
   ]
  },
  {
   "cell_type": "code",
   "execution_count": 18,
   "metadata": {},
   "outputs": [],
   "source": [
    "# Nominal Jacobians\n",
    "J = zeros(n0,n0+m)\n",
    "xn = zeros(n0)\n",
    "RD.jacobian!(RD.InPlace(), RD.ForwardAD(), dmodel, J, xn, ze)\n",
    "A_og = J[:,1:n0]\n",
    "B_og = J[:,n0+1:end];"
   ]
  },
  {
   "cell_type": "code",
   "execution_count": 19,
   "metadata": {},
   "outputs": [],
   "source": [
    "# Bilinear Jacobians\n",
    "function dynamics_bilinear(x,u,t,dt)\n",
    "    y = expandstate(model_bilinear, x)\n",
    "    yn = zero(y)\n",
    "    RD.discrete_dynamics!(model_bilinear, yn, y, u, t, dt)\n",
    "    originalstate(model_bilinear, yn)\n",
    "end\n",
    "\n",
    "A_bil_nom = FiniteDiff.finite_difference_jacobian(x->dynamics_bilinear(x,ue,0.0,dt), xe)\n",
    "B_bil_nom = FiniteDiff.finite_difference_jacobian(u->dynamics_bilinear(xe,u,0.0,dt), ue);"
   ]
  },
  {
   "cell_type": "code",
   "execution_count": 20,
   "metadata": {},
   "outputs": [
    {
     "data": {
      "text/plain": [
       "4×4 Matrix{Float64}:\n",
       " 1.0  0.000392055   0.019998     -1.38375e-6\n",
       " 0.0  1.0047       -3.99648e-6    0.0199834\n",
       " 0.0  0.0392035     0.9998       -7.57316e-6\n",
       " 0.0  0.470481     -0.000399628   0.999909"
      ]
     },
     "execution_count": 20,
     "metadata": {},
     "output_type": "execute_result"
    }
   ],
   "source": [
    "A_og"
   ]
  },
  {
   "cell_type": "code",
   "execution_count": 21,
   "metadata": {},
   "outputs": [
    {
     "data": {
      "text/plain": [
       "4×4 Matrix{Float64}:\n",
       "  0.991517    0.0897082   0.00807152  0.0140564\n",
       " -0.0312682   1.33392    -0.0439631   0.0718347\n",
       " -0.140679    1.52099     0.802128    0.233367\n",
       "  0.105988   -0.642614    0.149418    0.829033"
      ]
     },
     "execution_count": 21,
     "metadata": {},
     "output_type": "execute_result"
    }
   ],
   "source": [
    "A_bil_nom"
   ]
  },
  {
   "cell_type": "code",
   "execution_count": 22,
   "metadata": {},
   "outputs": [
    {
     "data": {
      "text/plain": [
       "4×1 Matrix{Float64}:\n",
       " 0.00019995956333333334\n",
       " 0.00039964806000000004\n",
       " 0.01999523290316667\n",
       " 0.03996279079433334"
      ]
     },
     "execution_count": 22,
     "metadata": {},
     "output_type": "execute_result"
    }
   ],
   "source": [
    "B_og"
   ]
  },
  {
   "cell_type": "code",
   "execution_count": 23,
   "metadata": {},
   "outputs": [
    {
     "data": {
      "text/plain": [
       "4×1 Matrix{Float64}:\n",
       " 0.0009698236622175394\n",
       " 0.003237098455429077\n",
       " 0.03280546525388672\n",
       " 0.030533497796568554"
      ]
     },
     "execution_count": 23,
     "metadata": {},
     "output_type": "execute_result"
    }
   ],
   "source": [
    "B_bil_nom"
   ]
  },
  {
   "cell_type": "markdown",
   "metadata": {},
   "source": [
    "# Try Stabilizing Nominal Model using LQR"
   ]
  },
  {
   "cell_type": "code",
   "execution_count": 24,
   "metadata": {},
   "outputs": [],
   "source": [
    "# Calculate LQR Gain \n",
    "Qlqr = Diagonal([1.0,10.0,1e-2,1e-2])\n",
    "Rlqr = Diagonal([1e-4])\n",
    "K_og = dlqr(A_og, B_og, Qlqr, Rlqr)\n",
    "K_bil_nom = dlqr(A_bil_nom, B_bil_nom, Qlqr, Rlqr);"
   ]
  },
  {
   "cell_type": "code",
   "execution_count": 25,
   "metadata": {},
   "outputs": [
    {
     "name": "stdout",
     "output_type": "stream",
     "text": [
      "Stability Summary:\n",
      "  Dynamics  |  Controller  |  is stable? \n",
      "------------|--------------|--------------\n",
      "  Nominal   |  Nominal     |  true\n",
      "  Bilinear  |  Bilinear    |  true\n",
      "  Nominal   |  Bilinear    |  false\n"
     ]
    }
   ],
   "source": [
    "# Evaluate stability\n",
    "isstable_nominal = maximum(abs.(eigvals(A_og - B_og*K_og))) < 1.0\n",
    "isstable_bilinear = maximum(abs.(eigvals(A_bil_nom - B_bil_nom*K_bil_nom))) < 1.0\n",
    "isstable_nominal_with_bilinear = maximum(abs.(eigvals(A_og - B_og*K_bil_nom))) < 1.0\n",
    "\n",
    "println(\"Stability Summary:\")\n",
    "println(\"  Dynamics  |  Controller  |  is stable? \")\n",
    "println(\"------------|--------------|--------------\")\n",
    "println(\"  Nominal   |  Nominal     |  \", isstable_nominal)\n",
    "println(\"  Bilinear  |  Bilinear    |  \", isstable_bilinear)\n",
    "println(\"  Nominal   |  Bilinear    |  \", isstable_nominal_with_bilinear)"
   ]
  },
  {
   "cell_type": "code",
   "execution_count": 26,
   "metadata": {},
   "outputs": [
    {
     "data": {
      "image/svg+xml": "<?xml version=\"1.0\" encoding=\"utf-8\"?>\n<svg xmlns=\"http://www.w3.org/2000/svg\" xmlns:xlink=\"http://www.w3.org/1999/xlink\" width=\"600\" height=\"400\" viewBox=\"0 0 2400 1600\">\n<defs>\n  <clipPath id=\"clip520\">\n    <rect x=\"0\" y=\"0\" width=\"2400\" height=\"1600\"/>\n  </clipPath>\n</defs>\n<path clip-path=\"url(#clip520)\" d=\"\nM0 1600 L2400 1600 L2400 0 L0 0  Z\n  \" fill=\"#ffffff\" fill-rule=\"evenodd\" fill-opacity=\"1\"/>\n<defs>\n  <clipPath id=\"clip521\">\n    <rect x=\"480\" y=\"0\" width=\"1681\" height=\"1600\"/>\n  </clipPath>\n</defs>\n<path clip-path=\"url(#clip520)\" d=\"\nM247.459 1423.18 L2352.76 1423.18 L2352.76 47.2441 L247.459 47.2441  Z\n  \" fill=\"#ffffff\" fill-rule=\"evenodd\" fill-opacity=\"1\"/>\n<defs>\n  <clipPath id=\"clip522\">\n    <rect x=\"247\" y=\"47\" width=\"2106\" height=\"1377\"/>\n  </clipPath>\n</defs>\n<polyline clip-path=\"url(#clip522)\" style=\"stroke:#000000; stroke-linecap:butt; stroke-linejoin:round; stroke-width:2; stroke-opacity:0.1; fill:none\" points=\"\n  307.043,1423.18 307.043,47.2441 \n  \"/>\n<polyline clip-path=\"url(#clip522)\" style=\"stroke:#000000; stroke-linecap:butt; stroke-linejoin:round; stroke-width:2; stroke-opacity:0.1; fill:none\" points=\"\n  969.086,1423.18 969.086,47.2441 \n  \"/>\n<polyline clip-path=\"url(#clip522)\" style=\"stroke:#000000; stroke-linecap:butt; stroke-linejoin:round; stroke-width:2; stroke-opacity:0.1; fill:none\" points=\"\n  1631.13,1423.18 1631.13,47.2441 \n  \"/>\n<polyline clip-path=\"url(#clip522)\" style=\"stroke:#000000; stroke-linecap:butt; stroke-linejoin:round; stroke-width:2; stroke-opacity:0.1; fill:none\" points=\"\n  2293.17,1423.18 2293.17,47.2441 \n  \"/>\n<polyline clip-path=\"url(#clip520)\" style=\"stroke:#000000; stroke-linecap:butt; stroke-linejoin:round; stroke-width:4; stroke-opacity:1; fill:none\" points=\"\n  247.459,1423.18 2352.76,1423.18 \n  \"/>\n<polyline clip-path=\"url(#clip520)\" style=\"stroke:#000000; stroke-linecap:butt; stroke-linejoin:round; stroke-width:4; stroke-opacity:1; fill:none\" points=\"\n  307.043,1423.18 307.043,1404.28 \n  \"/>\n<polyline clip-path=\"url(#clip520)\" style=\"stroke:#000000; stroke-linecap:butt; stroke-linejoin:round; stroke-width:4; stroke-opacity:1; fill:none\" points=\"\n  969.086,1423.18 969.086,1404.28 \n  \"/>\n<polyline clip-path=\"url(#clip520)\" style=\"stroke:#000000; stroke-linecap:butt; stroke-linejoin:round; stroke-width:4; stroke-opacity:1; fill:none\" points=\"\n  1631.13,1423.18 1631.13,1404.28 \n  \"/>\n<polyline clip-path=\"url(#clip520)\" style=\"stroke:#000000; stroke-linecap:butt; stroke-linejoin:round; stroke-width:4; stroke-opacity:1; fill:none\" points=\"\n  2293.17,1423.18 2293.17,1404.28 \n  \"/>\n<path clip-path=\"url(#clip520)\" d=\"M307.043 1454.1 Q303.432 1454.1 301.603 1457.66 Q299.797 1461.2 299.797 1468.33 Q299.797 1475.44 301.603 1479.01 Q303.432 1482.55 307.043 1482.55 Q310.677 1482.55 312.482 1479.01 Q314.311 1475.44 314.311 1468.33 Q314.311 1461.2 312.482 1457.66 Q310.677 1454.1 307.043 1454.1 M307.043 1450.39 Q312.853 1450.39 315.908 1455 Q318.987 1459.58 318.987 1468.33 Q318.987 1477.06 315.908 1481.67 Q312.853 1486.25 307.043 1486.25 Q301.232 1486.25 298.154 1481.67 Q295.098 1477.06 295.098 1468.33 Q295.098 1459.58 298.154 1455 Q301.232 1450.39 307.043 1450.39 Z\" fill=\"#000000\" fill-rule=\"evenodd\" fill-opacity=\"1\" /><path clip-path=\"url(#clip520)\" d=\"M959.468 1481.64 L967.107 1481.64 L967.107 1455.28 L958.796 1456.95 L958.796 1452.69 L967.06 1451.02 L971.736 1451.02 L971.736 1481.64 L979.375 1481.64 L979.375 1485.58 L959.468 1485.58 L959.468 1481.64 Z\" fill=\"#000000\" fill-rule=\"evenodd\" fill-opacity=\"1\" /><path clip-path=\"url(#clip520)\" d=\"M1625.78 1481.64 L1642.1 1481.64 L1642.1 1485.58 L1620.16 1485.58 L1620.16 1481.64 Q1622.82 1478.89 1627.4 1474.26 Q1632.01 1469.61 1633.19 1468.27 Q1635.43 1465.74 1636.31 1464.01 Q1637.22 1462.25 1637.22 1460.56 Q1637.22 1457.8 1635.27 1456.07 Q1633.35 1454.33 1630.25 1454.33 Q1628.05 1454.33 1625.6 1455.09 Q1623.17 1455.86 1620.39 1457.41 L1620.39 1452.69 Q1623.21 1451.55 1625.67 1450.97 Q1628.12 1450.39 1630.16 1450.39 Q1635.53 1450.39 1638.72 1453.08 Q1641.92 1455.77 1641.92 1460.26 Q1641.92 1462.39 1641.11 1464.31 Q1640.32 1466.2 1638.21 1468.8 Q1637.63 1469.47 1634.53 1472.69 Q1631.43 1475.88 1625.78 1481.64 Z\" fill=\"#000000\" fill-rule=\"evenodd\" fill-opacity=\"1\" /><path clip-path=\"url(#clip520)\" d=\"M2297.42 1466.95 Q2300.78 1467.66 2302.65 1469.93 Q2304.55 1472.2 2304.55 1475.53 Q2304.55 1480.65 2301.03 1483.45 Q2297.51 1486.25 2291.03 1486.25 Q2288.85 1486.25 2286.54 1485.81 Q2284.25 1485.39 2281.79 1484.54 L2281.79 1480.02 Q2283.74 1481.16 2286.05 1481.74 Q2288.37 1482.32 2290.89 1482.32 Q2295.29 1482.32 2297.58 1480.58 Q2299.9 1478.84 2299.9 1475.53 Q2299.9 1472.48 2297.74 1470.77 Q2295.61 1469.03 2291.79 1469.03 L2287.77 1469.03 L2287.77 1465.19 L2291.98 1465.19 Q2295.43 1465.19 2297.26 1463.82 Q2299.09 1462.43 2299.09 1459.84 Q2299.09 1457.18 2297.19 1455.77 Q2295.31 1454.33 2291.79 1454.33 Q2289.87 1454.33 2287.67 1454.75 Q2285.48 1455.16 2282.84 1456.04 L2282.84 1451.88 Q2285.5 1451.14 2287.81 1450.77 Q2290.15 1450.39 2292.21 1450.39 Q2297.54 1450.39 2300.64 1452.83 Q2303.74 1455.23 2303.74 1459.35 Q2303.74 1462.22 2302.1 1464.21 Q2300.45 1466.18 2297.42 1466.95 Z\" fill=\"#000000\" fill-rule=\"evenodd\" fill-opacity=\"1\" /><path clip-path=\"url(#clip520)\" d=\"M1187.56 1522.27 L1187.56 1532.4 L1199.62 1532.4 L1199.62 1536.95 L1187.56 1536.95 L1187.56 1556.3 Q1187.56 1560.66 1188.74 1561.9 Q1189.95 1563.14 1193.61 1563.14 L1199.62 1563.14 L1199.62 1568.04 L1193.61 1568.04 Q1186.83 1568.04 1184.25 1565.53 Q1181.67 1562.98 1181.67 1556.3 L1181.67 1536.95 L1177.38 1536.95 L1177.38 1532.4 L1181.67 1532.4 L1181.67 1522.27 L1187.56 1522.27 Z\" fill=\"#000000\" fill-rule=\"evenodd\" fill-opacity=\"1\" /><path clip-path=\"url(#clip520)\" d=\"M1207.33 1532.4 L1213.18 1532.4 L1213.18 1568.04 L1207.33 1568.04 L1207.33 1532.4 M1207.33 1518.52 L1213.18 1518.52 L1213.18 1525.93 L1207.33 1525.93 L1207.33 1518.52 Z\" fill=\"#000000\" fill-rule=\"evenodd\" fill-opacity=\"1\" /><path clip-path=\"url(#clip520)\" d=\"M1253.19 1539.24 Q1255.39 1535.29 1258.44 1533.41 Q1261.5 1531.54 1265.64 1531.54 Q1271.21 1531.54 1274.23 1535.45 Q1277.25 1539.33 1277.25 1546.53 L1277.25 1568.04 L1271.37 1568.04 L1271.37 1546.72 Q1271.37 1541.59 1269.55 1539.11 Q1267.74 1536.63 1264.01 1536.63 Q1259.46 1536.63 1256.82 1539.65 Q1254.18 1542.68 1254.18 1547.9 L1254.18 1568.04 L1248.29 1568.04 L1248.29 1546.72 Q1248.29 1541.56 1246.48 1539.11 Q1244.66 1536.63 1240.87 1536.63 Q1236.39 1536.63 1233.74 1539.68 Q1231.1 1542.71 1231.1 1547.9 L1231.1 1568.04 L1225.21 1568.04 L1225.21 1532.4 L1231.1 1532.4 L1231.1 1537.93 Q1233.11 1534.66 1235.91 1533.1 Q1238.71 1531.54 1242.56 1531.54 Q1246.44 1531.54 1249.15 1533.51 Q1251.89 1535.48 1253.19 1539.24 Z\" fill=\"#000000\" fill-rule=\"evenodd\" fill-opacity=\"1\" /><path clip-path=\"url(#clip520)\" d=\"M1319.43 1548.76 L1319.43 1551.62 L1292.5 1551.62 Q1292.88 1557.67 1296.13 1560.85 Q1299.41 1564 1305.23 1564 Q1308.61 1564 1311.76 1563.17 Q1314.94 1562.35 1318.06 1560.69 L1318.06 1566.23 Q1314.91 1567.57 1311.6 1568.27 Q1308.29 1568.97 1304.88 1568.97 Q1296.35 1568.97 1291.35 1564 Q1286.39 1559.04 1286.39 1550.57 Q1286.39 1541.82 1291.1 1536.69 Q1295.84 1531.54 1303.86 1531.54 Q1311.06 1531.54 1315.23 1536.18 Q1319.43 1540.8 1319.43 1548.76 M1313.57 1547.04 Q1313.51 1542.23 1310.87 1539.37 Q1308.26 1536.5 1303.93 1536.5 Q1299.03 1536.5 1296.07 1539.27 Q1293.14 1542.04 1292.69 1547.07 L1313.57 1547.04 Z\" fill=\"#000000\" fill-rule=\"evenodd\" fill-opacity=\"1\" /><path clip-path=\"url(#clip520)\" d=\"M1363.83 1518.58 Q1359.56 1525.9 1357.49 1533.06 Q1355.43 1540.23 1355.43 1547.58 Q1355.43 1554.93 1357.49 1562.16 Q1359.59 1569.35 1363.83 1576.64 L1358.74 1576.64 Q1353.96 1569.16 1351.57 1561.93 Q1349.22 1554.71 1349.22 1547.58 Q1349.22 1540.48 1351.57 1533.29 Q1353.93 1526.09 1358.74 1518.58 L1363.83 1518.58 Z\" fill=\"#000000\" fill-rule=\"evenodd\" fill-opacity=\"1\" /><path clip-path=\"url(#clip520)\" d=\"M1397.92 1533.45 L1397.92 1538.98 Q1395.43 1537.71 1392.76 1537.07 Q1390.09 1536.44 1387.22 1536.44 Q1382.86 1536.44 1380.67 1537.77 Q1378.5 1539.11 1378.5 1541.79 Q1378.5 1543.82 1380.06 1545 Q1381.62 1546.15 1386.33 1547.2 L1388.34 1547.64 Q1394.57 1548.98 1397.18 1551.43 Q1399.83 1553.85 1399.83 1558.21 Q1399.83 1563.17 1395.88 1566.07 Q1391.96 1568.97 1385.09 1568.97 Q1382.22 1568.97 1379.11 1568.39 Q1376.02 1567.85 1372.58 1566.74 L1372.58 1560.69 Q1375.83 1562.38 1378.98 1563.24 Q1382.13 1564.07 1385.22 1564.07 Q1389.35 1564.07 1391.58 1562.66 Q1393.81 1561.23 1393.81 1558.65 Q1393.81 1556.27 1392.19 1554.99 Q1390.6 1553.72 1385.15 1552.54 L1383.12 1552.07 Q1377.67 1550.92 1375.25 1548.56 Q1372.84 1546.18 1372.84 1542.04 Q1372.84 1537.01 1376.4 1534.27 Q1379.97 1531.54 1386.52 1531.54 Q1389.77 1531.54 1392.63 1532.01 Q1395.5 1532.49 1397.92 1533.45 Z\" fill=\"#000000\" fill-rule=\"evenodd\" fill-opacity=\"1\" /><path clip-path=\"url(#clip520)\" d=\"M1408.23 1518.58 L1413.32 1518.58 Q1418.1 1526.09 1420.45 1533.29 Q1422.84 1540.48 1422.84 1547.58 Q1422.84 1554.71 1420.45 1561.93 Q1418.1 1569.16 1413.32 1576.64 L1408.23 1576.64 Q1412.46 1569.35 1414.53 1562.16 Q1416.63 1554.93 1416.63 1547.58 Q1416.63 1540.23 1414.53 1533.06 Q1412.46 1525.9 1408.23 1518.58 Z\" fill=\"#000000\" fill-rule=\"evenodd\" fill-opacity=\"1\" /><polyline clip-path=\"url(#clip522)\" style=\"stroke:#000000; stroke-linecap:butt; stroke-linejoin:round; stroke-width:2; stroke-opacity:0.1; fill:none\" points=\"\n  247.459,1338.14 2352.76,1338.14 \n  \"/>\n<polyline clip-path=\"url(#clip522)\" style=\"stroke:#000000; stroke-linecap:butt; stroke-linejoin:round; stroke-width:2; stroke-opacity:0.1; fill:none\" points=\"\n  247.459,1050.03 2352.76,1050.03 \n  \"/>\n<polyline clip-path=\"url(#clip522)\" style=\"stroke:#000000; stroke-linecap:butt; stroke-linejoin:round; stroke-width:2; stroke-opacity:0.1; fill:none\" points=\"\n  247.459,761.918 2352.76,761.918 \n  \"/>\n<polyline clip-path=\"url(#clip522)\" style=\"stroke:#000000; stroke-linecap:butt; stroke-linejoin:round; stroke-width:2; stroke-opacity:0.1; fill:none\" points=\"\n  247.459,473.807 2352.76,473.807 \n  \"/>\n<polyline clip-path=\"url(#clip522)\" style=\"stroke:#000000; stroke-linecap:butt; stroke-linejoin:round; stroke-width:2; stroke-opacity:0.1; fill:none\" points=\"\n  247.459,185.696 2352.76,185.696 \n  \"/>\n<polyline clip-path=\"url(#clip520)\" style=\"stroke:#000000; stroke-linecap:butt; stroke-linejoin:round; stroke-width:4; stroke-opacity:1; fill:none\" points=\"\n  247.459,1423.18 247.459,47.2441 \n  \"/>\n<polyline clip-path=\"url(#clip520)\" style=\"stroke:#000000; stroke-linecap:butt; stroke-linejoin:round; stroke-width:4; stroke-opacity:1; fill:none\" points=\"\n  247.459,1338.14 266.356,1338.14 \n  \"/>\n<polyline clip-path=\"url(#clip520)\" style=\"stroke:#000000; stroke-linecap:butt; stroke-linejoin:round; stroke-width:4; stroke-opacity:1; fill:none\" points=\"\n  247.459,1050.03 266.356,1050.03 \n  \"/>\n<polyline clip-path=\"url(#clip520)\" style=\"stroke:#000000; stroke-linecap:butt; stroke-linejoin:round; stroke-width:4; stroke-opacity:1; fill:none\" points=\"\n  247.459,761.918 266.356,761.918 \n  \"/>\n<polyline clip-path=\"url(#clip520)\" style=\"stroke:#000000; stroke-linecap:butt; stroke-linejoin:round; stroke-width:4; stroke-opacity:1; fill:none\" points=\"\n  247.459,473.807 266.356,473.807 \n  \"/>\n<polyline clip-path=\"url(#clip520)\" style=\"stroke:#000000; stroke-linecap:butt; stroke-linejoin:round; stroke-width:4; stroke-opacity:1; fill:none\" points=\"\n  247.459,185.696 266.356,185.696 \n  \"/>\n<path clip-path=\"url(#clip520)\" d=\"M154.283 1323.94 Q150.672 1323.94 148.843 1327.5 Q147.038 1331.05 147.038 1338.18 Q147.038 1345.28 148.843 1348.85 Q150.672 1352.39 154.283 1352.39 Q157.917 1352.39 159.723 1348.85 Q161.552 1345.28 161.552 1338.18 Q161.552 1331.05 159.723 1327.5 Q157.917 1323.94 154.283 1323.94 M154.283 1320.24 Q160.093 1320.24 163.149 1324.84 Q166.227 1329.43 166.227 1338.18 Q166.227 1346.9 163.149 1351.51 Q160.093 1356.09 154.283 1356.09 Q148.473 1356.09 145.394 1351.51 Q142.339 1346.9 142.339 1338.18 Q142.339 1329.43 145.394 1324.84 Q148.473 1320.24 154.283 1320.24 Z\" fill=\"#000000\" fill-rule=\"evenodd\" fill-opacity=\"1\" /><path clip-path=\"url(#clip520)\" d=\"M174.445 1349.54 L179.329 1349.54 L179.329 1355.42 L174.445 1355.42 L174.445 1349.54 Z\" fill=\"#000000\" fill-rule=\"evenodd\" fill-opacity=\"1\" /><path clip-path=\"url(#clip520)\" d=\"M199.514 1323.94 Q195.903 1323.94 194.075 1327.5 Q192.269 1331.05 192.269 1338.18 Q192.269 1345.28 194.075 1348.85 Q195.903 1352.39 199.514 1352.39 Q203.149 1352.39 204.954 1348.85 Q206.783 1345.28 206.783 1338.18 Q206.783 1331.05 204.954 1327.5 Q203.149 1323.94 199.514 1323.94 M199.514 1320.24 Q205.324 1320.24 208.38 1324.84 Q211.459 1329.43 211.459 1338.18 Q211.459 1346.9 208.38 1351.51 Q205.324 1356.09 199.514 1356.09 Q193.704 1356.09 190.625 1351.51 Q187.57 1346.9 187.57 1338.18 Q187.57 1329.43 190.625 1324.84 Q193.704 1320.24 199.514 1320.24 Z\" fill=\"#000000\" fill-rule=\"evenodd\" fill-opacity=\"1\" /><path clip-path=\"url(#clip520)\" d=\"M149.306 1063.37 L165.626 1063.37 L165.626 1067.31 L143.681 1067.31 L143.681 1063.37 Q146.343 1060.62 150.927 1055.99 Q155.533 1051.34 156.714 1049.99 Q158.959 1047.47 159.839 1045.74 Q160.741 1043.98 160.741 1042.29 Q160.741 1039.53 158.797 1037.8 Q156.876 1036.06 153.774 1036.06 Q151.575 1036.06 149.121 1036.82 Q146.691 1037.59 143.913 1039.14 L143.913 1034.42 Q146.737 1033.28 149.191 1032.7 Q151.644 1032.12 153.681 1032.12 Q159.052 1032.12 162.246 1034.81 Q165.44 1037.49 165.44 1041.99 Q165.44 1044.11 164.63 1046.04 Q163.843 1047.93 161.737 1050.53 Q161.158 1051.2 158.056 1054.42 Q154.954 1057.61 149.306 1063.37 Z\" fill=\"#000000\" fill-rule=\"evenodd\" fill-opacity=\"1\" /><path clip-path=\"url(#clip520)\" d=\"M175.44 1061.43 L180.325 1061.43 L180.325 1067.31 L175.44 1067.31 L175.44 1061.43 Z\" fill=\"#000000\" fill-rule=\"evenodd\" fill-opacity=\"1\" /><path clip-path=\"url(#clip520)\" d=\"M190.556 1032.75 L208.912 1032.75 L208.912 1036.68 L194.838 1036.68 L194.838 1045.16 Q195.857 1044.81 196.875 1044.65 Q197.894 1044.46 198.912 1044.46 Q204.699 1044.46 208.079 1047.63 Q211.459 1050.8 211.459 1056.22 Q211.459 1061.8 207.987 1064.9 Q204.514 1067.98 198.195 1067.98 Q196.019 1067.98 193.75 1067.61 Q191.505 1067.24 189.098 1066.5 L189.098 1061.8 Q191.181 1062.93 193.403 1063.49 Q195.625 1064.05 198.102 1064.05 Q202.107 1064.05 204.445 1061.94 Q206.783 1059.83 206.783 1056.22 Q206.783 1052.61 204.445 1050.5 Q202.107 1048.4 198.102 1048.4 Q196.227 1048.4 194.352 1048.81 Q192.5 1049.23 190.556 1050.11 L190.556 1032.75 Z\" fill=\"#000000\" fill-rule=\"evenodd\" fill-opacity=\"1\" /><path clip-path=\"url(#clip520)\" d=\"M144.329 744.638 L162.686 744.638 L162.686 748.573 L148.612 748.573 L148.612 757.045 Q149.63 756.698 150.649 756.536 Q151.667 756.351 152.686 756.351 Q158.473 756.351 161.852 759.522 Q165.232 762.694 165.232 768.11 Q165.232 773.689 161.76 776.791 Q158.288 779.869 151.968 779.869 Q149.792 779.869 147.524 779.499 Q145.279 779.129 142.871 778.388 L142.871 773.689 Q144.954 774.823 147.177 775.379 Q149.399 775.934 151.876 775.934 Q155.88 775.934 158.218 773.828 Q160.556 771.721 160.556 768.11 Q160.556 764.499 158.218 762.393 Q155.88 760.286 151.876 760.286 Q150.001 760.286 148.126 760.703 Q146.274 761.119 144.329 761.999 L144.329 744.638 Z\" fill=\"#000000\" fill-rule=\"evenodd\" fill-opacity=\"1\" /><path clip-path=\"url(#clip520)\" d=\"M174.445 773.318 L179.329 773.318 L179.329 779.198 L174.445 779.198 L174.445 773.318 Z\" fill=\"#000000\" fill-rule=\"evenodd\" fill-opacity=\"1\" /><path clip-path=\"url(#clip520)\" d=\"M199.514 747.717 Q195.903 747.717 194.075 751.282 Q192.269 754.823 192.269 761.953 Q192.269 769.059 194.075 772.624 Q195.903 776.166 199.514 776.166 Q203.149 776.166 204.954 772.624 Q206.783 769.059 206.783 761.953 Q206.783 754.823 204.954 751.282 Q203.149 747.717 199.514 747.717 M199.514 744.013 Q205.324 744.013 208.38 748.62 Q211.459 753.203 211.459 761.953 Q211.459 770.68 208.38 775.286 Q205.324 779.869 199.514 779.869 Q193.704 779.869 190.625 775.286 Q187.57 770.68 187.57 761.953 Q187.57 753.203 190.625 748.62 Q193.704 744.013 199.514 744.013 Z\" fill=\"#000000\" fill-rule=\"evenodd\" fill-opacity=\"1\" /><path clip-path=\"url(#clip520)\" d=\"M144.098 456.527 L166.32 456.527 L166.32 458.518 L153.774 491.087 L148.89 491.087 L160.695 460.462 L144.098 460.462 L144.098 456.527 Z\" fill=\"#000000\" fill-rule=\"evenodd\" fill-opacity=\"1\" /><path clip-path=\"url(#clip520)\" d=\"M175.44 485.207 L180.325 485.207 L180.325 491.087 L175.44 491.087 L175.44 485.207 Z\" fill=\"#000000\" fill-rule=\"evenodd\" fill-opacity=\"1\" /><path clip-path=\"url(#clip520)\" d=\"M190.556 456.527 L208.912 456.527 L208.912 460.462 L194.838 460.462 L194.838 468.934 Q195.857 468.587 196.875 468.425 Q197.894 468.24 198.912 468.24 Q204.699 468.24 208.079 471.411 Q211.459 474.582 211.459 479.999 Q211.459 485.578 207.987 488.679 Q204.514 491.758 198.195 491.758 Q196.019 491.758 193.75 491.388 Q191.505 491.017 189.098 490.277 L189.098 485.578 Q191.181 486.712 193.403 487.267 Q195.625 487.823 198.102 487.823 Q202.107 487.823 204.445 485.717 Q206.783 483.61 206.783 479.999 Q206.783 476.388 204.445 474.281 Q202.107 472.175 198.102 472.175 Q196.227 472.175 194.352 472.592 Q192.5 473.008 190.556 473.888 L190.556 456.527 Z\" fill=\"#000000\" fill-rule=\"evenodd\" fill-opacity=\"1\" /><path clip-path=\"url(#clip520)\" d=\"M114.931 199.041 L122.57 199.041 L122.57 172.675 L114.26 174.342 L114.26 170.082 L122.524 168.416 L127.2 168.416 L127.2 199.041 L134.839 199.041 L134.839 202.976 L114.931 202.976 L114.931 199.041 Z\" fill=\"#000000\" fill-rule=\"evenodd\" fill-opacity=\"1\" /><path clip-path=\"url(#clip520)\" d=\"M154.283 171.494 Q150.672 171.494 148.843 175.059 Q147.038 178.601 147.038 185.73 Q147.038 192.837 148.843 196.402 Q150.672 199.943 154.283 199.943 Q157.917 199.943 159.723 196.402 Q161.552 192.837 161.552 185.73 Q161.552 178.601 159.723 175.059 Q157.917 171.494 154.283 171.494 M154.283 167.791 Q160.093 167.791 163.149 172.397 Q166.227 176.98 166.227 185.73 Q166.227 194.457 163.149 199.064 Q160.093 203.647 154.283 203.647 Q148.473 203.647 145.394 199.064 Q142.339 194.457 142.339 185.73 Q142.339 176.98 145.394 172.397 Q148.473 167.791 154.283 167.791 Z\" fill=\"#000000\" fill-rule=\"evenodd\" fill-opacity=\"1\" /><path clip-path=\"url(#clip520)\" d=\"M174.445 197.096 L179.329 197.096 L179.329 202.976 L174.445 202.976 L174.445 197.096 Z\" fill=\"#000000\" fill-rule=\"evenodd\" fill-opacity=\"1\" /><path clip-path=\"url(#clip520)\" d=\"M199.514 171.494 Q195.903 171.494 194.075 175.059 Q192.269 178.601 192.269 185.73 Q192.269 192.837 194.075 196.402 Q195.903 199.943 199.514 199.943 Q203.149 199.943 204.954 196.402 Q206.783 192.837 206.783 185.73 Q206.783 178.601 204.954 175.059 Q203.149 171.494 199.514 171.494 M199.514 167.791 Q205.324 167.791 208.38 172.397 Q211.459 176.98 211.459 185.73 Q211.459 194.457 208.38 199.064 Q205.324 203.647 199.514 203.647 Q193.704 203.647 190.625 199.064 Q187.57 194.457 187.57 185.73 Q187.57 176.98 190.625 172.397 Q193.704 167.791 199.514 167.791 Z\" fill=\"#000000\" fill-rule=\"evenodd\" fill-opacity=\"1\" /><path clip-path=\"url(#clip520)\" d=\"M29.4065 806.062 L34.9447 806.062 Q33.6716 808.545 33.035 811.219 Q32.3984 813.892 32.3984 816.757 Q32.3984 821.117 33.7352 823.313 Q35.072 825.478 37.7456 825.478 Q39.7826 825.478 40.9603 823.918 Q42.1061 822.358 43.1565 817.648 L43.6021 815.643 Q44.9389 809.404 47.3897 806.794 Q49.8086 804.153 54.1691 804.153 Q59.1344 804.153 62.0308 808.099 Q64.9272 812.014 64.9272 818.889 Q64.9272 821.754 64.3543 824.873 Q63.8132 827.96 62.6992 831.398 L56.6518 831.398 Q58.3387 828.151 59.198 825 Q60.0256 821.849 60.0256 818.762 Q60.0256 814.624 58.6251 812.396 Q57.1929 810.168 54.6147 810.168 Q52.2276 810.168 50.9545 811.791 Q49.6813 813.383 48.5037 818.826 L48.0262 820.863 Q46.8804 826.305 44.5251 828.724 Q42.138 831.143 38.0002 831.143 Q32.9713 831.143 30.2341 827.578 Q27.4968 824.014 27.4968 817.457 Q27.4968 814.21 27.9743 811.346 Q28.4517 808.481 29.4065 806.062 Z\" fill=\"#000000\" fill-rule=\"evenodd\" fill-opacity=\"1\" /><path clip-path=\"url(#clip520)\" d=\"M18.2347 789.034 L28.3562 789.034 L28.3562 776.971 L32.9077 776.971 L32.9077 789.034 L52.2594 789.034 Q56.6199 789.034 57.8613 787.856 Q59.1026 786.647 59.1026 782.987 L59.1026 776.971 L64.0042 776.971 L64.0042 782.987 Q64.0042 789.766 61.4897 792.344 Q58.9434 794.922 52.2594 794.922 L32.9077 794.922 L32.9077 799.219 L28.3562 799.219 L28.3562 794.922 L18.2347 794.922 L18.2347 789.034 Z\" fill=\"#000000\" fill-rule=\"evenodd\" fill-opacity=\"1\" /><path clip-path=\"url(#clip520)\" d=\"M46.0847 753.068 Q46.0847 760.166 47.7079 762.903 Q49.3312 765.64 53.2461 765.64 Q56.3653 765.64 58.2114 763.603 Q60.0256 761.534 60.0256 758.001 Q60.0256 753.131 56.5881 750.203 Q53.1188 747.243 47.3897 747.243 L46.0847 747.243 L46.0847 753.068 M43.6657 741.387 L64.0042 741.387 L64.0042 747.243 L58.5933 747.243 Q61.8398 749.248 63.3994 752.24 Q64.9272 755.232 64.9272 759.561 Q64.9272 765.035 61.8716 768.282 Q58.7843 771.496 53.6281 771.496 Q47.6125 771.496 44.5569 767.486 Q41.5014 763.444 41.5014 755.455 L41.5014 747.243 L40.9285 747.243 Q36.8862 747.243 34.6901 749.917 Q32.4621 752.559 32.4621 757.365 Q32.4621 760.42 33.1941 763.317 Q33.9262 766.213 35.3903 768.887 L29.9795 768.887 Q28.7381 765.672 28.1334 762.648 Q27.4968 759.624 27.4968 756.76 Q27.4968 749.026 31.5072 745.206 Q35.5176 741.387 43.6657 741.387 Z\" fill=\"#000000\" fill-rule=\"evenodd\" fill-opacity=\"1\" /><path clip-path=\"url(#clip520)\" d=\"M18.2347 723.531 L28.3562 723.531 L28.3562 711.468 L32.9077 711.468 L32.9077 723.531 L52.2594 723.531 Q56.6199 723.531 57.8613 722.353 Q59.1026 721.144 59.1026 717.483 L59.1026 711.468 L64.0042 711.468 L64.0042 717.483 Q64.0042 724.263 61.4897 726.841 Q58.9434 729.419 52.2594 729.419 L32.9077 729.419 L32.9077 733.716 L28.3562 733.716 L28.3562 729.419 L18.2347 729.419 L18.2347 723.531 Z\" fill=\"#000000\" fill-rule=\"evenodd\" fill-opacity=\"1\" /><path clip-path=\"url(#clip520)\" d=\"M44.7161 673.274 L47.5806 673.274 L47.5806 700.201 Q53.6281 699.819 56.8109 696.572 Q59.9619 693.294 59.9619 687.469 Q59.9619 684.095 59.1344 680.944 Q58.3069 677.761 56.6518 674.642 L62.1899 674.642 Q63.5267 677.793 64.227 681.103 Q64.9272 684.414 64.9272 687.819 Q64.9272 696.349 59.9619 701.346 Q54.9967 706.312 46.5303 706.312 Q37.7774 706.312 32.6531 701.601 Q27.4968 696.859 27.4968 688.838 Q27.4968 681.645 32.1438 677.475 Q36.7589 673.274 44.7161 673.274 M42.9973 679.13 Q38.1912 679.194 35.3266 681.836 Q32.4621 684.445 32.4621 688.774 Q32.4621 693.676 35.2312 696.636 Q38.0002 699.564 43.0292 700.01 L42.9973 679.13 Z\" fill=\"#000000\" fill-rule=\"evenodd\" fill-opacity=\"1\" /><path clip-path=\"url(#clip520)\" d=\"M29.4065 640.936 L34.9447 640.936 Q33.6716 643.418 33.035 646.092 Q32.3984 648.766 32.3984 651.63 Q32.3984 655.991 33.7352 658.187 Q35.072 660.351 37.7456 660.351 Q39.7826 660.351 40.9603 658.792 Q42.1061 657.232 43.1565 652.521 L43.6021 650.516 Q44.9389 644.278 47.3897 641.668 Q49.8086 639.026 54.1691 639.026 Q59.1344 639.026 62.0308 642.973 Q64.9272 646.888 64.9272 653.763 Q64.9272 656.627 64.3543 659.747 Q63.8132 662.834 62.6992 666.271 L56.6518 666.271 Q58.3387 663.025 59.198 659.874 Q60.0256 656.723 60.0256 653.635 Q60.0256 649.498 58.6251 647.27 Q57.1929 645.042 54.6147 645.042 Q52.2276 645.042 50.9545 646.665 Q49.6813 648.256 48.5037 653.699 L48.0262 655.736 Q46.8804 661.179 44.5251 663.598 Q42.138 666.017 38.0002 666.017 Q32.9713 666.017 30.2341 662.452 Q27.4968 658.887 27.4968 652.33 Q27.4968 649.084 27.9743 646.219 Q28.4517 643.355 29.4065 640.936 Z\" fill=\"#000000\" fill-rule=\"evenodd\" fill-opacity=\"1\" /><polyline clip-path=\"url(#clip522)\" style=\"stroke:#009af9; stroke-linecap:butt; stroke-linejoin:round; stroke-width:8; stroke-opacity:1; fill:none\" stroke-dasharray=\"32, 20\" points=\"\n  307.043,1384.24 320.283,1380.34 333.524,1369.5 346.765,1354.06 360.006,1337.36 373.247,1322.26 386.488,1310.01 399.729,1300.68 412.969,1293.91 426.21,1289.32 \n  439.451,1286.48 452.692,1284.94 465.933,1284.28 479.174,1284.09 492.415,1284.07 505.656,1284.02 518.896,1283.86 532.137,1283.58 545.378,1283.21 558.619,1282.79 \n  571.86,1282.37 585.101,1282 598.342,1281.68 611.582,1281.44 624.823,1281.28 638.064,1281.2 651.305,1281.2 664.546,1281.28 677.787,1281.42 691.028,1281.63 \n  704.268,1281.89 717.509,1282.21 730.75,1282.58 743.991,1282.99 757.232,1283.45 770.473,1283.95 783.714,1284.49 796.955,1285.06 810.195,1285.67 823.436,1286.31 \n  836.677,1286.97 849.918,1287.66 863.159,1288.38 876.4,1289.12 889.641,1289.87 902.881,1290.65 916.122,1291.44 929.363,1292.24 942.604,1293.06 955.845,1293.89 \n  969.086,1294.73 982.327,1295.58 995.567,1296.43 1008.81,1297.29 1022.05,1298.15 1035.29,1299.01 1048.53,1299.88 1061.77,1300.75 1075.01,1301.61 1088.25,1302.48 \n  1101.49,1303.34 1114.74,1304.2 1127.98,1305.05 1141.22,1305.9 1154.46,1306.74 1167.7,1307.58 1180.94,1308.41 1194.18,1309.23 1207.42,1310.04 1220.66,1310.85 \n  1233.9,1311.64 1247.14,1312.43 1260.38,1313.2 1273.63,1313.96 1286.87,1314.72 1300.11,1315.46 1313.35,1316.19 1326.59,1316.91 1339.83,1317.61 1353.07,1318.31 \n  1366.31,1318.99 1379.55,1319.66 1392.79,1320.31 1406.03,1320.95 1419.28,1321.58 1432.52,1322.2 1445.76,1322.8 1459,1323.39 1472.24,1323.97 1485.48,1324.54 \n  1498.72,1325.09 1511.96,1325.62 1525.2,1326.15 1538.44,1326.66 1551.68,1327.16 1564.92,1327.64 1578.17,1328.12 1591.41,1328.58 1604.65,1329.03 1617.89,1329.46 \n  1631.13,1329.88 1644.37,1330.29 1657.61,1330.69 1670.85,1331.08 1684.09,1331.45 1697.33,1331.82 1710.57,1332.17 1723.81,1332.51 1737.06,1332.84 1750.3,1333.16 \n  1763.54,1333.47 1776.78,1333.77 1790.02,1334.05 1803.26,1334.33 1816.5,1334.6 1829.74,1334.86 1842.98,1335.1 1856.22,1335.34 1869.46,1335.57 1882.71,1335.79 \n  1895.95,1336.01 1909.19,1336.21 1922.43,1336.41 1935.67,1336.59 1948.91,1336.77 1962.15,1336.94 1975.39,1337.11 1988.63,1337.27 2001.87,1337.42 2015.11,1337.56 \n  2028.35,1337.69 2041.6,1337.82 2054.84,1337.95 2068.08,1338.06 2081.32,1338.18 2094.56,1338.28 2107.8,1338.38 2121.04,1338.47 2134.28,1338.56 2147.52,1338.65 \n  2160.76,1338.73 2174,1338.8 2187.25,1338.87 2200.49,1338.93 2213.73,1338.99 2226.97,1339.05 2240.21,1339.1 2253.45,1339.15 2266.69,1339.2 2279.93,1339.24 \n  2293.17,1339.28 \n  \"/>\n<polyline clip-path=\"url(#clip522)\" style=\"stroke:#e26f46; stroke-linecap:butt; stroke-linejoin:round; stroke-width:8; stroke-opacity:1; fill:none\" stroke-dasharray=\"32, 20\" points=\"\n  307.043,1056.55 320.283,1050.83 333.524,1034.6 346.765,1010.96 360.006,985.337 373.247,963.09 386.488,946.49 399.729,935.337 412.969,928.742 426.21,925.799 \n  439.451,925.66 452.692,927.506 465.933,930.555 479.174,934.115 492.415,937.654 505.656,940.84 518.896,943.527 532.137,945.715 545.378,947.481 558.619,948.931 \n  571.86,950.167 585.101,951.271 598.342,952.299 611.582,953.286 624.823,954.252 638.064,955.203 651.305,956.142 664.546,957.066 677.787,957.973 691.028,958.858 \n  704.268,959.721 717.509,960.56 730.75,961.373 743.991,962.161 757.232,962.923 770.473,963.661 783.714,964.374 796.955,965.063 810.195,965.729 823.436,966.372 \n  836.677,966.992 849.918,967.591 863.159,968.168 876.4,968.724 889.641,969.26 902.881,969.777 916.122,970.273 929.363,970.751 942.604,971.21 955.845,971.651 \n  969.086,972.074 982.327,972.48 995.567,972.869 1008.81,973.242 1022.05,973.598 1035.29,973.94 1048.53,974.265 1061.77,974.576 1075.01,974.873 1088.25,975.156 \n  1101.49,975.425 1114.74,975.681 1127.98,975.924 1141.22,976.155 1154.46,976.373 1167.7,976.58 1180.94,976.776 1194.18,976.96 1207.42,977.134 1220.66,977.298 \n  1233.9,977.451 1247.14,977.595 1260.38,977.73 1273.63,977.856 1286.87,977.973 1300.11,978.082 1313.35,978.183 1326.59,978.276 1339.83,978.362 1353.07,978.44 \n  1366.31,978.512 1379.55,978.577 1392.79,978.636 1406.03,978.688 1419.28,978.735 1432.52,978.776 1445.76,978.812 1459,978.843 1472.24,978.869 1485.48,978.89 \n  1498.72,978.907 1511.96,978.919 1525.2,978.928 1538.44,978.933 1551.68,978.934 1564.92,978.932 1578.17,978.926 1591.41,978.917 1604.65,978.906 1617.89,978.892 \n  1631.13,978.875 1644.37,978.855 1657.61,978.834 1670.85,978.81 1684.09,978.784 1697.33,978.757 1710.57,978.727 1723.81,978.696 1737.06,978.664 1750.3,978.63 \n  1763.54,978.595 1776.78,978.559 1790.02,978.522 1803.26,978.483 1816.5,978.444 1829.74,978.405 1842.98,978.364 1856.22,978.323 1869.46,978.281 1882.71,978.239 \n  1895.95,978.197 1909.19,978.154 1922.43,978.111 1935.67,978.068 1948.91,978.025 1962.15,977.982 1975.39,977.938 1988.63,977.895 2001.87,977.852 2015.11,977.809 \n  2028.35,977.766 2041.6,977.724 2054.84,977.681 2068.08,977.639 2081.32,977.598 2094.56,977.557 2107.8,977.516 2121.04,977.475 2134.28,977.435 2147.52,977.396 \n  2160.76,977.357 2174,977.318 2187.25,977.28 2200.49,977.243 2213.73,977.206 2226.97,977.17 2240.21,977.135 2253.45,977.1 2266.69,977.065 2279.93,977.031 \n  2293.17,976.998 \n  \"/>\n<polyline clip-path=\"url(#clip522)\" style=\"stroke:#009af9; stroke-linecap:butt; stroke-linejoin:round; stroke-width:8; stroke-opacity:1; fill:none\" points=\"\n  307.043,1384.24 320.283,1380.7 333.524,1371.47 346.765,1359.31 360.006,1346.73 373.247,1335.57 386.488,1326.63 399.729,1319.94 412.969,1315.08 426.21,1311.52 \n  439.451,1308.72 452.692,1306.28 465.933,1303.9 479.174,1301.43 492.415,1298.78 505.656,1295.94 518.896,1292.96 532.137,1289.86 545.378,1286.69 558.619,1283.48 \n  571.86,1280.25 585.101,1277.03 598.342,1273.82 611.582,1270.61 624.823,1267.4 638.064,1264.19 651.305,1260.97 664.546,1257.74 677.787,1254.5 691.028,1251.23 \n  704.268,1247.95 717.509,1244.64 730.75,1241.31 743.991,1237.96 757.232,1234.58 770.473,1231.17 783.714,1227.74 796.955,1224.27 810.195,1220.78 823.436,1217.25 \n  836.677,1213.69 849.918,1210.09 863.159,1206.46 876.4,1202.78 889.641,1199.07 902.881,1195.32 916.122,1191.52 929.363,1187.67 942.604,1183.79 955.845,1179.85 \n  969.086,1175.86 982.327,1171.83 995.567,1167.74 1008.81,1163.59 1022.05,1159.39 1035.29,1155.14 1048.53,1150.82 1061.77,1146.44 1075.01,1142 1088.25,1137.5 \n  1101.49,1132.93 1114.74,1128.29 1127.98,1123.58 1141.22,1118.8 1154.46,1113.95 1167.7,1109.02 1180.94,1104.02 1194.18,1098.93 1207.42,1093.77 1220.66,1088.52 \n  1233.9,1083.18 1247.14,1077.76 1260.38,1072.25 1273.63,1066.65 1286.87,1060.95 1300.11,1055.16 1313.35,1049.27 1326.59,1043.28 1339.83,1037.19 1353.07,1031 \n  1366.31,1024.69 1379.55,1018.28 1392.79,1011.75 1406.03,1005.11 1419.28,998.35 1432.52,991.471 1445.76,984.469 1459,977.342 1472.24,970.087 1485.48,962.7 \n  1498.72,955.18 1511.96,947.522 1525.2,939.725 1538.44,931.785 1551.68,923.698 1564.92,915.462 1578.17,907.073 1591.41,898.527 1604.65,889.823 1617.89,880.955 \n  1631.13,871.92 1644.37,862.715 1657.61,853.335 1670.85,843.778 1684.09,834.038 1697.33,824.112 1710.57,813.996 1723.81,803.686 1737.06,793.176 1750.3,782.463 \n  1763.54,771.541 1776.78,760.407 1790.02,749.055 1803.26,737.48 1816.5,725.677 1829.74,713.641 1842.98,701.366 1856.22,688.847 1869.46,676.077 1882.71,663.051 \n  1895.95,649.763 1909.19,636.206 1922.43,622.374 1935.67,608.259 1948.91,593.855 1962.15,579.155 1975.39,564.151 1988.63,548.835 2001.87,533.198 2015.11,517.234 \n  2028.35,500.931 2041.6,484.283 2054.84,467.278 2068.08,449.908 2081.32,432.161 2094.56,414.028 2107.8,395.496 2121.04,376.553 2134.28,357.188 2147.52,337.386 \n  2160.76,317.135 2174,296.42 2187.25,275.225 2200.49,253.533 2213.73,231.328 2226.97,208.591 2240.21,185.303 2253.45,161.441 2266.69,136.984 2279.93,111.908 \n  2293.17,86.1857 \n  \"/>\n<polyline clip-path=\"url(#clip522)\" style=\"stroke:#e26f46; stroke-linecap:butt; stroke-linejoin:round; stroke-width:8; stroke-opacity:1; fill:none\" points=\"\n  307.043,1056.55 320.283,1051.39 333.524,1037.78 346.765,1019.72 360.006,1001.36 373.247,986.007 386.488,975.228 399.729,968.972 412.969,966.346 426.21,966.219 \n  439.451,967.548 452.692,969.509 465.933,971.544 479.174,973.333 492.415,974.746 505.656,975.779 518.896,976.496 532.137,976.987 545.378,977.341 558.619,977.629 \n  571.86,977.902 585.101,978.188 598.342,978.502 611.582,978.844 624.823,979.212 638.064,979.598 651.305,979.996 664.546,980.398 677.787,980.802 691.028,981.204 \n  704.268,981.604 717.509,982.002 730.75,982.397 743.991,982.791 757.232,983.185 770.473,983.578 783.714,983.973 796.955,984.368 810.195,984.765 823.436,985.164 \n  836.677,985.564 849.918,985.966 863.159,986.371 876.4,986.778 889.641,987.187 902.881,987.599 916.122,988.013 929.363,988.43 942.604,988.851 955.845,989.274 \n  969.086,989.701 982.327,990.132 995.567,990.567 1008.81,991.005 1022.05,991.448 1035.29,991.895 1048.53,992.347 1061.77,992.803 1075.01,993.264 1088.25,993.731 \n  1101.49,994.203 1114.74,994.68 1127.98,995.163 1141.22,995.652 1154.46,996.147 1167.7,996.649 1180.94,997.157 1194.18,997.671 1207.42,998.193 1220.66,998.721 \n  1233.9,999.257 1247.14,999.801 1260.38,1000.35 1273.63,1000.91 1286.87,1001.48 1300.11,1002.05 1313.35,1002.64 1326.59,1003.23 1339.83,1003.84 1353.07,1004.45 \n  1366.31,1005.07 1379.55,1005.7 1392.79,1006.34 1406.03,1006.99 1419.28,1007.66 1432.52,1008.33 1445.76,1009.01 1459,1009.71 1472.24,1010.42 1485.48,1011.14 \n  1498.72,1011.87 1511.96,1012.61 1525.2,1013.37 1538.44,1014.14 1551.68,1014.92 1564.92,1015.72 1578.17,1016.53 1591.41,1017.36 1604.65,1018.2 1617.89,1019.05 \n  1631.13,1019.92 1644.37,1020.81 1657.61,1021.71 1670.85,1022.63 1684.09,1023.57 1697.33,1024.52 1710.57,1025.49 1723.81,1026.48 1737.06,1027.49 1750.3,1028.51 \n  1763.54,1029.56 1776.78,1030.62 1790.02,1031.71 1803.26,1032.81 1816.5,1033.94 1829.74,1035.09 1842.98,1036.26 1856.22,1037.45 1869.46,1038.67 1882.71,1039.91 \n  1895.95,1041.17 1909.19,1042.46 1922.43,1043.78 1935.67,1045.12 1948.91,1046.48 1962.15,1047.88 1975.39,1049.3 1988.63,1050.76 2001.87,1052.24 2015.11,1053.75 \n  2028.35,1055.29 2041.6,1056.87 2054.84,1058.48 2068.08,1060.12 2081.32,1061.8 2094.56,1063.51 2107.8,1065.26 2121.04,1067.05 2134.28,1068.87 2147.52,1070.74 \n  2160.76,1072.65 2174,1074.6 2187.25,1076.6 2200.49,1078.64 2213.73,1080.73 2226.97,1082.87 2240.21,1085.07 2253.45,1087.31 2266.69,1089.62 2279.93,1091.98 \n  2293.17,1094.41 \n  \"/>\n<path clip-path=\"url(#clip520)\" d=\"\nM1625.16 838.892 L2282.58 838.892 L2282.58 579.692 L1625.16 579.692  Z\n  \" fill=\"#ffffff\" fill-rule=\"evenodd\" fill-opacity=\"1\"/>\n<polyline clip-path=\"url(#clip520)\" style=\"stroke:#000000; stroke-linecap:butt; stroke-linejoin:round; stroke-width:4; stroke-opacity:1; fill:none\" points=\"\n  1625.16,838.892 2282.58,838.892 2282.58,579.692 1625.16,579.692 1625.16,838.892 \n  \"/>\n<polyline clip-path=\"url(#clip520)\" style=\"stroke:#009af9; stroke-linecap:butt; stroke-linejoin:round; stroke-width:4; stroke-opacity:1; fill:none\" stroke-dasharray=\"16, 10\" points=\"\n  1648.56,631.532 1788.91,631.532 \n  \"/>\n<path clip-path=\"url(#clip520)\" d=\"M1836.95 622.886 L1827.58 635.502 L1837.44 648.812 L1832.42 648.812 L1824.87 638.627 L1817.32 648.812 L1812.3 648.812 L1822.37 635.247 L1813.16 622.886 L1818.18 622.886 L1825.06 632.122 L1831.93 622.886 L1836.95 622.886 Z\" fill=\"#000000\" fill-rule=\"evenodd\" fill-opacity=\"1\" /><path clip-path=\"url(#clip520)\" d=\"M1868.76 612.84 Q1865.66 618.164 1864.15 623.372 Q1862.65 628.581 1862.65 633.928 Q1862.65 639.275 1864.15 644.53 Q1865.68 649.761 1868.76 655.062 L1865.06 655.062 Q1861.58 649.622 1859.85 644.368 Q1858.13 639.113 1858.13 633.928 Q1858.13 628.766 1859.85 623.534 Q1861.56 618.303 1865.06 612.84 L1868.76 612.84 Z\" fill=\"#000000\" fill-rule=\"evenodd\" fill-opacity=\"1\" /><path clip-path=\"url(#clip520)\" d=\"M1887.07 625.872 Q1883.64 625.872 1881.65 628.557 Q1879.66 631.219 1879.66 635.872 Q1879.66 640.525 1881.63 643.21 Q1883.62 645.872 1887.07 645.872 Q1890.47 645.872 1892.46 643.187 Q1894.45 640.502 1894.45 635.872 Q1894.45 631.266 1892.46 628.581 Q1890.47 625.872 1887.07 625.872 M1887.07 622.261 Q1892.63 622.261 1895.8 625.872 Q1898.97 629.483 1898.97 635.872 Q1898.97 642.238 1895.8 645.872 Q1892.63 649.483 1887.07 649.483 Q1881.49 649.483 1878.32 645.872 Q1875.17 642.238 1875.17 635.872 Q1875.17 629.483 1878.32 625.872 Q1881.49 622.261 1887.07 622.261 Z\" fill=\"#000000\" fill-rule=\"evenodd\" fill-opacity=\"1\" /><path clip-path=\"url(#clip520)\" d=\"M1923.09 635.548 Q1923.09 630.919 1921.17 628.372 Q1919.27 625.826 1915.82 625.826 Q1912.39 625.826 1910.47 628.372 Q1908.57 630.919 1908.57 635.548 Q1908.57 640.155 1910.47 642.701 Q1912.39 645.247 1915.82 645.247 Q1919.27 645.247 1921.17 642.701 Q1923.09 640.155 1923.09 635.548 M1927.35 645.594 Q1927.35 652.215 1924.41 655.432 Q1921.47 658.673 1915.4 658.673 Q1913.16 658.673 1911.17 658.326 Q1909.18 658.002 1907.3 657.307 L1907.3 653.164 Q1909.18 654.182 1911.01 654.668 Q1912.83 655.155 1914.73 655.155 Q1918.92 655.155 1921 652.955 Q1923.09 650.78 1923.09 646.358 L1923.09 644.252 Q1921.77 646.543 1919.71 647.678 Q1917.65 648.812 1914.78 648.812 Q1910.01 648.812 1907.09 645.178 Q1904.18 641.543 1904.18 635.548 Q1904.18 629.53 1907.09 625.895 Q1910.01 622.261 1914.78 622.261 Q1917.65 622.261 1919.71 623.395 Q1921.77 624.53 1923.09 626.821 L1923.09 622.886 L1927.35 622.886 L1927.35 645.594 Z\" fill=\"#000000\" fill-rule=\"evenodd\" fill-opacity=\"1\" /><path clip-path=\"url(#clip520)\" d=\"M1968.25 626.821 L1968.25 612.794 L1972.51 612.794 L1972.51 648.812 L1968.25 648.812 L1968.25 644.923 Q1966.91 647.238 1964.85 648.372 Q1962.81 649.483 1959.94 649.483 Q1955.24 649.483 1952.28 645.733 Q1949.34 641.983 1949.34 635.872 Q1949.34 629.761 1952.28 626.011 Q1955.24 622.261 1959.94 622.261 Q1962.81 622.261 1964.85 623.395 Q1966.91 624.507 1968.25 626.821 M1953.74 635.872 Q1953.74 640.571 1955.66 643.256 Q1957.6 645.918 1960.98 645.918 Q1964.36 645.918 1966.31 643.256 Q1968.25 640.571 1968.25 635.872 Q1968.25 631.173 1966.31 628.511 Q1964.36 625.826 1960.98 625.826 Q1957.6 625.826 1955.66 628.511 Q1953.74 631.173 1953.74 635.872 Z\" fill=\"#000000\" fill-rule=\"evenodd\" fill-opacity=\"1\" /><path clip-path=\"url(#clip520)\" d=\"M1992.07 651.219 Q1990.26 655.849 1988.55 657.261 Q1986.84 658.673 1983.97 658.673 L1980.56 658.673 L1980.56 655.108 L1983.06 655.108 Q1984.82 655.108 1985.8 654.275 Q1986.77 653.442 1987.95 650.34 L1988.71 648.395 L1978.23 622.886 L1982.74 622.886 L1990.84 643.164 L1998.94 622.886 L2003.46 622.886 L1992.07 651.219 Z\" fill=\"#000000\" fill-rule=\"evenodd\" fill-opacity=\"1\" /><path clip-path=\"url(#clip520)\" d=\"M2030.89 633.164 L2030.89 648.812 L2026.63 648.812 L2026.63 633.303 Q2026.63 629.622 2025.19 627.794 Q2023.76 625.965 2020.89 625.965 Q2017.44 625.965 2015.45 628.164 Q2013.46 630.363 2013.46 634.159 L2013.46 648.812 L2009.18 648.812 L2009.18 622.886 L2013.46 622.886 L2013.46 626.914 Q2014.99 624.576 2017.05 623.419 Q2019.13 622.261 2021.84 622.261 Q2026.31 622.261 2028.6 625.039 Q2030.89 627.794 2030.89 633.164 Z\" fill=\"#000000\" fill-rule=\"evenodd\" fill-opacity=\"1\" /><path clip-path=\"url(#clip520)\" d=\"M2051.17 635.78 Q2046 635.78 2044.01 636.96 Q2042.02 638.141 2042.02 640.988 Q2042.02 643.256 2043.5 644.599 Q2045.01 645.918 2047.58 645.918 Q2051.12 645.918 2053.25 643.418 Q2055.4 640.895 2055.4 636.729 L2055.4 635.78 L2051.17 635.78 M2059.66 634.02 L2059.66 648.812 L2055.4 648.812 L2055.4 644.877 Q2053.94 647.238 2051.77 648.372 Q2049.59 649.483 2046.44 649.483 Q2042.46 649.483 2040.1 647.261 Q2037.76 645.016 2037.76 641.266 Q2037.76 636.891 2040.68 634.669 Q2043.62 632.446 2049.43 632.446 L2055.4 632.446 L2055.4 632.03 Q2055.4 629.09 2053.46 627.493 Q2051.54 625.872 2048.04 625.872 Q2045.82 625.872 2043.71 626.405 Q2041.61 626.937 2039.66 628.002 L2039.66 624.067 Q2042 623.164 2044.2 622.724 Q2046.4 622.261 2048.48 622.261 Q2054.11 622.261 2056.88 625.178 Q2059.66 628.094 2059.66 634.02 Z\" fill=\"#000000\" fill-rule=\"evenodd\" fill-opacity=\"1\" /><path clip-path=\"url(#clip520)\" d=\"M2088.62 627.863 Q2090.22 624.993 2092.44 623.627 Q2094.66 622.261 2097.67 622.261 Q2101.72 622.261 2103.92 625.108 Q2106.12 627.932 2106.12 633.164 L2106.12 648.812 L2101.84 648.812 L2101.84 633.303 Q2101.84 629.576 2100.52 627.77 Q2099.2 625.965 2096.49 625.965 Q2093.18 625.965 2091.26 628.164 Q2089.34 630.363 2089.34 634.159 L2089.34 648.812 L2085.06 648.812 L2085.06 633.303 Q2085.06 629.553 2083.74 627.77 Q2082.42 625.965 2079.66 625.965 Q2076.4 625.965 2074.48 628.187 Q2072.56 630.386 2072.56 634.159 L2072.56 648.812 L2068.27 648.812 L2068.27 622.886 L2072.56 622.886 L2072.56 626.914 Q2074.01 624.53 2076.05 623.395 Q2078.09 622.261 2080.89 622.261 Q2083.71 622.261 2085.68 623.696 Q2087.67 625.132 2088.62 627.863 Z\" fill=\"#000000\" fill-rule=\"evenodd\" fill-opacity=\"1\" /><path clip-path=\"url(#clip520)\" d=\"M2114.62 622.886 L2118.87 622.886 L2118.87 648.812 L2114.62 648.812 L2114.62 622.886 M2114.62 612.794 L2118.87 612.794 L2118.87 618.187 L2114.62 618.187 L2114.62 612.794 Z\" fill=\"#000000\" fill-rule=\"evenodd\" fill-opacity=\"1\" /><path clip-path=\"url(#clip520)\" d=\"M2146.44 623.882 L2146.44 627.863 Q2144.64 626.868 2142.81 626.382 Q2141 625.872 2139.15 625.872 Q2135.01 625.872 2132.72 628.511 Q2130.43 631.127 2130.43 635.872 Q2130.43 640.618 2132.72 643.256 Q2135.01 645.872 2139.15 645.872 Q2141 645.872 2142.81 645.386 Q2144.64 644.877 2146.44 643.881 L2146.44 647.817 Q2144.66 648.65 2142.74 649.067 Q2140.84 649.483 2138.69 649.483 Q2132.83 649.483 2129.38 645.803 Q2125.93 642.122 2125.93 635.872 Q2125.93 629.53 2129.41 625.895 Q2132.9 622.261 2138.97 622.261 Q2140.93 622.261 2142.81 622.678 Q2144.68 623.071 2146.44 623.882 Z\" fill=\"#000000\" fill-rule=\"evenodd\" fill-opacity=\"1\" /><path clip-path=\"url(#clip520)\" d=\"M2170.38 623.65 L2170.38 627.678 Q2168.57 626.752 2166.63 626.289 Q2164.68 625.826 2162.6 625.826 Q2159.43 625.826 2157.83 626.798 Q2156.26 627.77 2156.26 629.715 Q2156.26 631.196 2157.39 632.053 Q2158.53 632.886 2161.95 633.65 L2163.41 633.974 Q2167.95 634.946 2169.85 636.729 Q2171.77 638.488 2171.77 641.659 Q2171.77 645.27 2168.9 647.377 Q2166.05 649.483 2161.05 649.483 Q2158.97 649.483 2156.7 649.067 Q2154.45 648.673 2151.95 647.863 L2151.95 643.465 Q2154.31 644.692 2156.61 645.317 Q2158.9 645.918 2161.14 645.918 Q2164.15 645.918 2165.77 644.9 Q2167.39 643.858 2167.39 641.983 Q2167.39 640.247 2166.21 639.321 Q2165.05 638.395 2161.1 637.539 L2159.61 637.192 Q2155.66 636.358 2153.9 634.645 Q2152.14 632.909 2152.14 629.9 Q2152.14 626.243 2154.73 624.252 Q2157.32 622.261 2162.09 622.261 Q2164.45 622.261 2166.54 622.608 Q2168.62 622.956 2170.38 623.65 Z\" fill=\"#000000\" fill-rule=\"evenodd\" fill-opacity=\"1\" /><path clip-path=\"url(#clip520)\" d=\"M2177.88 612.84 L2181.58 612.84 Q2185.05 618.303 2186.77 623.534 Q2188.5 628.766 2188.5 633.928 Q2188.5 639.113 2186.77 644.368 Q2185.05 649.622 2181.58 655.062 L2177.88 655.062 Q2180.96 649.761 2182.46 644.53 Q2183.99 639.275 2183.99 633.928 Q2183.99 628.581 2182.46 623.372 Q2180.96 618.164 2177.88 612.84 Z\" fill=\"#000000\" fill-rule=\"evenodd\" fill-opacity=\"1\" /><polyline clip-path=\"url(#clip520)\" style=\"stroke:#e26f46; stroke-linecap:butt; stroke-linejoin:round; stroke-width:4; stroke-opacity:1; fill:none\" stroke-dasharray=\"16, 10\" points=\"\n  1648.56,683.372 1788.91,683.372 \n  \"/>\n<path clip-path=\"url(#clip520)\" d=\"M1831.56 684.217 L1816.82 684.217 Q1817.16 691.138 1818.76 694.078 Q1820.75 697.689 1824.2 697.689 Q1827.67 697.689 1829.59 694.055 Q1831.28 690.86 1831.56 684.217 M1831.49 680.282 Q1830.84 673.708 1829.59 671.393 Q1827.6 667.735 1824.2 667.735 Q1820.66 667.735 1818.78 671.347 Q1817.3 674.263 1816.86 680.282 L1831.49 680.282 M1824.2 664.263 Q1829.76 664.263 1832.93 669.171 Q1836.1 674.055 1836.1 682.712 Q1836.1 691.346 1832.93 696.254 Q1829.76 701.184 1824.2 701.184 Q1818.62 701.184 1815.47 696.254 Q1812.3 691.346 1812.3 682.712 Q1812.3 674.055 1815.47 669.171 Q1818.62 664.263 1824.2 664.263 Z\" fill=\"#000000\" fill-rule=\"evenodd\" fill-opacity=\"1\" /><path clip-path=\"url(#clip520)\" d=\"M1868.46 664.68 Q1865.36 670.004 1863.85 675.212 Q1862.35 680.421 1862.35 685.768 Q1862.35 691.115 1863.85 696.37 Q1865.38 701.601 1868.46 706.902 L1864.76 706.902 Q1861.28 701.462 1859.55 696.208 Q1857.83 690.953 1857.83 685.768 Q1857.83 680.606 1859.55 675.374 Q1861.26 670.143 1864.76 664.68 L1868.46 664.68 Z\" fill=\"#000000\" fill-rule=\"evenodd\" fill-opacity=\"1\" /><path clip-path=\"url(#clip520)\" d=\"M1886.77 677.712 Q1883.34 677.712 1881.35 680.397 Q1879.36 683.059 1879.36 687.712 Q1879.36 692.365 1881.33 695.05 Q1883.32 697.712 1886.77 697.712 Q1890.17 697.712 1892.16 695.027 Q1894.15 692.342 1894.15 687.712 Q1894.15 683.106 1892.16 680.421 Q1890.17 677.712 1886.77 677.712 M1886.77 674.101 Q1892.32 674.101 1895.5 677.712 Q1898.67 681.323 1898.67 687.712 Q1898.67 694.078 1895.5 697.712 Q1892.32 701.323 1886.77 701.323 Q1881.19 701.323 1878.02 697.712 Q1874.87 694.078 1874.87 687.712 Q1874.87 681.323 1878.02 677.712 Q1881.19 674.101 1886.77 674.101 Z\" fill=\"#000000\" fill-rule=\"evenodd\" fill-opacity=\"1\" /><path clip-path=\"url(#clip520)\" d=\"M1922.79 687.388 Q1922.79 682.759 1920.87 680.212 Q1918.97 677.666 1915.52 677.666 Q1912.09 677.666 1910.17 680.212 Q1908.27 682.759 1908.27 687.388 Q1908.27 691.995 1910.17 694.541 Q1912.09 697.087 1915.52 697.087 Q1918.97 697.087 1920.87 694.541 Q1922.79 691.995 1922.79 687.388 M1927.05 697.434 Q1927.05 704.055 1924.11 707.272 Q1921.17 710.513 1915.1 710.513 Q1912.86 710.513 1910.87 710.166 Q1908.88 709.842 1907 709.147 L1907 705.004 Q1908.88 706.022 1910.7 706.508 Q1912.53 706.995 1914.43 706.995 Q1918.62 706.995 1920.7 704.795 Q1922.79 702.62 1922.79 698.198 L1922.79 696.092 Q1921.47 698.383 1919.41 699.518 Q1917.35 700.652 1914.48 700.652 Q1909.71 700.652 1906.79 697.018 Q1903.88 693.383 1903.88 687.388 Q1903.88 681.37 1906.79 677.735 Q1909.71 674.101 1914.48 674.101 Q1917.35 674.101 1919.41 675.235 Q1921.47 676.37 1922.79 678.661 L1922.79 674.726 L1927.05 674.726 L1927.05 697.434 Z\" fill=\"#000000\" fill-rule=\"evenodd\" fill-opacity=\"1\" /><path clip-path=\"url(#clip520)\" d=\"M1967.95 678.661 L1967.95 664.634 L1972.21 664.634 L1972.21 700.652 L1967.95 700.652 L1967.95 696.763 Q1966.61 699.078 1964.55 700.212 Q1962.51 701.323 1959.64 701.323 Q1954.94 701.323 1951.98 697.573 Q1949.04 693.823 1949.04 687.712 Q1949.04 681.601 1951.98 677.851 Q1954.94 674.101 1959.64 674.101 Q1962.51 674.101 1964.55 675.235 Q1966.61 676.347 1967.95 678.661 M1953.44 687.712 Q1953.44 692.411 1955.36 695.096 Q1957.3 697.758 1960.68 697.758 Q1964.06 697.758 1966 695.096 Q1967.95 692.411 1967.95 687.712 Q1967.95 683.013 1966 680.351 Q1964.06 677.666 1960.68 677.666 Q1957.3 677.666 1955.36 680.351 Q1953.44 683.013 1953.44 687.712 Z\" fill=\"#000000\" fill-rule=\"evenodd\" fill-opacity=\"1\" /><path clip-path=\"url(#clip520)\" d=\"M1991.77 703.059 Q1989.96 707.689 1988.25 709.101 Q1986.54 710.513 1983.67 710.513 L1980.26 710.513 L1980.26 706.948 L1982.76 706.948 Q1984.52 706.948 1985.5 706.115 Q1986.47 705.282 1987.65 702.18 L1988.41 700.235 L1977.93 674.726 L1982.44 674.726 L1990.54 695.004 L1998.64 674.726 L2003.16 674.726 L1991.77 703.059 Z\" fill=\"#000000\" fill-rule=\"evenodd\" fill-opacity=\"1\" /><path clip-path=\"url(#clip520)\" d=\"M2030.59 685.004 L2030.59 700.652 L2026.33 700.652 L2026.33 685.143 Q2026.33 681.462 2024.89 679.634 Q2023.46 677.805 2020.59 677.805 Q2017.14 677.805 2015.15 680.004 Q2013.16 682.203 2013.16 685.999 L2013.16 700.652 L2008.87 700.652 L2008.87 674.726 L2013.16 674.726 L2013.16 678.754 Q2014.69 676.416 2016.75 675.259 Q2018.83 674.101 2021.54 674.101 Q2026 674.101 2028.3 676.879 Q2030.59 679.634 2030.59 685.004 Z\" fill=\"#000000\" fill-rule=\"evenodd\" fill-opacity=\"1\" /><path clip-path=\"url(#clip520)\" d=\"M2050.87 687.62 Q2045.7 687.62 2043.71 688.8 Q2041.72 689.981 2041.72 692.828 Q2041.72 695.096 2043.2 696.439 Q2044.71 697.758 2047.28 697.758 Q2050.82 697.758 2052.95 695.258 Q2055.1 692.735 2055.1 688.569 L2055.1 687.62 L2050.87 687.62 M2059.36 685.86 L2059.36 700.652 L2055.1 700.652 L2055.1 696.717 Q2053.64 699.078 2051.47 700.212 Q2049.29 701.323 2046.14 701.323 Q2042.16 701.323 2039.8 699.101 Q2037.46 696.856 2037.46 693.106 Q2037.46 688.731 2040.38 686.509 Q2043.32 684.286 2049.13 684.286 L2055.1 684.286 L2055.1 683.87 Q2055.1 680.93 2053.16 679.333 Q2051.24 677.712 2047.74 677.712 Q2045.52 677.712 2043.41 678.245 Q2041.31 678.777 2039.36 679.842 L2039.36 675.907 Q2041.7 675.004 2043.9 674.564 Q2046.1 674.101 2048.18 674.101 Q2053.81 674.101 2056.58 677.018 Q2059.36 679.934 2059.36 685.86 Z\" fill=\"#000000\" fill-rule=\"evenodd\" fill-opacity=\"1\" /><path clip-path=\"url(#clip520)\" d=\"M2088.32 679.703 Q2089.92 676.833 2092.14 675.467 Q2094.36 674.101 2097.37 674.101 Q2101.42 674.101 2103.62 676.948 Q2105.82 679.772 2105.82 685.004 L2105.82 700.652 L2101.54 700.652 L2101.54 685.143 Q2101.54 681.416 2100.22 679.61 Q2098.9 677.805 2096.19 677.805 Q2092.88 677.805 2090.96 680.004 Q2089.04 682.203 2089.04 685.999 L2089.04 700.652 L2084.75 700.652 L2084.75 685.143 Q2084.75 681.393 2083.43 679.61 Q2082.12 677.805 2079.36 677.805 Q2076.1 677.805 2074.18 680.027 Q2072.25 682.226 2072.25 685.999 L2072.25 700.652 L2067.97 700.652 L2067.97 674.726 L2072.25 674.726 L2072.25 678.754 Q2073.71 676.37 2075.75 675.235 Q2077.79 674.101 2080.59 674.101 Q2083.41 674.101 2085.38 675.536 Q2087.37 676.972 2088.32 679.703 Z\" fill=\"#000000\" fill-rule=\"evenodd\" fill-opacity=\"1\" /><path clip-path=\"url(#clip520)\" d=\"M2114.31 674.726 L2118.57 674.726 L2118.57 700.652 L2114.31 700.652 L2114.31 674.726 M2114.31 664.634 L2118.57 664.634 L2118.57 670.027 L2114.31 670.027 L2114.31 664.634 Z\" fill=\"#000000\" fill-rule=\"evenodd\" fill-opacity=\"1\" /><path clip-path=\"url(#clip520)\" d=\"M2146.14 675.722 L2146.14 679.703 Q2144.34 678.708 2142.51 678.222 Q2140.7 677.712 2138.85 677.712 Q2134.71 677.712 2132.42 680.351 Q2130.12 682.967 2130.12 687.712 Q2130.12 692.458 2132.42 695.096 Q2134.71 697.712 2138.85 697.712 Q2140.7 697.712 2142.51 697.226 Q2144.34 696.717 2146.14 695.721 L2146.14 699.657 Q2144.36 700.49 2142.44 700.907 Q2140.54 701.323 2138.39 701.323 Q2132.53 701.323 2129.08 697.643 Q2125.63 693.962 2125.63 687.712 Q2125.63 681.37 2129.11 677.735 Q2132.6 674.101 2138.67 674.101 Q2140.63 674.101 2142.51 674.518 Q2144.38 674.911 2146.14 675.722 Z\" fill=\"#000000\" fill-rule=\"evenodd\" fill-opacity=\"1\" /><path clip-path=\"url(#clip520)\" d=\"M2170.08 675.49 L2170.08 679.518 Q2168.27 678.592 2166.33 678.129 Q2164.38 677.666 2162.3 677.666 Q2159.13 677.666 2157.53 678.638 Q2155.96 679.61 2155.96 681.555 Q2155.96 683.036 2157.09 683.893 Q2158.23 684.726 2161.65 685.49 L2163.11 685.814 Q2167.65 686.786 2169.55 688.569 Q2171.47 690.328 2171.47 693.499 Q2171.47 697.11 2168.6 699.217 Q2165.75 701.323 2160.75 701.323 Q2158.67 701.323 2156.4 700.907 Q2154.15 700.513 2151.65 699.703 L2151.65 695.305 Q2154.01 696.532 2156.3 697.157 Q2158.6 697.758 2160.84 697.758 Q2163.85 697.758 2165.47 696.74 Q2167.09 695.698 2167.09 693.823 Q2167.09 692.087 2165.91 691.161 Q2164.75 690.235 2160.8 689.379 L2159.31 689.032 Q2155.36 688.198 2153.6 686.485 Q2151.84 684.749 2151.84 681.74 Q2151.84 678.083 2154.43 676.092 Q2157.02 674.101 2161.79 674.101 Q2164.15 674.101 2166.24 674.448 Q2168.32 674.796 2170.08 675.49 Z\" fill=\"#000000\" fill-rule=\"evenodd\" fill-opacity=\"1\" /><path clip-path=\"url(#clip520)\" d=\"M2177.58 664.68 L2181.28 664.68 Q2184.75 670.143 2186.47 675.374 Q2188.2 680.606 2188.2 685.768 Q2188.2 690.953 2186.47 696.208 Q2184.75 701.462 2181.28 706.902 L2177.58 706.902 Q2180.66 701.601 2182.16 696.37 Q2183.69 691.115 2183.69 685.768 Q2183.69 680.421 2182.16 675.212 Q2180.66 670.004 2177.58 664.68 Z\" fill=\"#000000\" fill-rule=\"evenodd\" fill-opacity=\"1\" /><polyline clip-path=\"url(#clip520)\" style=\"stroke:#009af9; stroke-linecap:butt; stroke-linejoin:round; stroke-width:4; stroke-opacity:1; fill:none\" points=\"\n  1648.56,735.212 1788.91,735.212 \n  \"/>\n<path clip-path=\"url(#clip520)\" d=\"M1836.95 726.566 L1827.58 739.182 L1837.44 752.492 L1832.42 752.492 L1824.87 742.307 L1817.32 752.492 L1812.3 752.492 L1822.37 738.927 L1813.16 726.566 L1818.18 726.566 L1825.06 735.802 L1831.93 726.566 L1836.95 726.566 Z\" fill=\"#000000\" fill-rule=\"evenodd\" fill-opacity=\"1\" /><path clip-path=\"url(#clip520)\" d=\"M1868.76 716.52 Q1865.66 721.844 1864.15 727.052 Q1862.65 732.261 1862.65 737.608 Q1862.65 742.955 1864.15 748.21 Q1865.68 753.441 1868.76 758.742 L1865.06 758.742 Q1861.58 753.302 1859.85 748.048 Q1858.13 742.793 1858.13 737.608 Q1858.13 732.446 1859.85 727.214 Q1861.56 721.983 1865.06 716.52 L1868.76 716.52 Z\" fill=\"#000000\" fill-rule=\"evenodd\" fill-opacity=\"1\" /><path clip-path=\"url(#clip520)\" d=\"M1898.57 736.844 L1898.57 752.492 L1894.32 752.492 L1894.32 736.983 Q1894.32 733.302 1892.88 731.474 Q1891.44 729.645 1888.57 729.645 Q1885.13 729.645 1883.13 731.844 Q1881.14 734.043 1881.14 737.839 L1881.14 752.492 L1876.86 752.492 L1876.86 726.566 L1881.14 726.566 L1881.14 730.594 Q1882.67 728.256 1884.73 727.099 Q1886.82 725.941 1889.52 725.941 Q1893.99 725.941 1896.28 728.719 Q1898.57 731.474 1898.57 736.844 Z\" fill=\"#000000\" fill-rule=\"evenodd\" fill-opacity=\"1\" /><path clip-path=\"url(#clip520)\" d=\"M1917.12 729.552 Q1913.69 729.552 1911.7 732.237 Q1909.71 734.899 1909.71 739.552 Q1909.71 744.205 1911.68 746.89 Q1913.67 749.552 1917.12 749.552 Q1920.52 749.552 1922.51 746.867 Q1924.5 744.182 1924.5 739.552 Q1924.5 734.946 1922.51 732.261 Q1920.52 729.552 1917.12 729.552 M1917.12 725.941 Q1922.67 725.941 1925.84 729.552 Q1929.01 733.163 1929.01 739.552 Q1929.01 745.918 1925.84 749.552 Q1922.67 753.163 1917.12 753.163 Q1911.54 753.163 1908.37 749.552 Q1905.22 745.918 1905.22 739.552 Q1905.22 733.163 1908.37 729.552 Q1911.54 725.941 1917.12 725.941 Z\" fill=\"#000000\" fill-rule=\"evenodd\" fill-opacity=\"1\" /><path clip-path=\"url(#clip520)\" d=\"M1956.26 731.543 Q1957.86 728.673 1960.08 727.307 Q1962.3 725.941 1965.31 725.941 Q1969.36 725.941 1971.56 728.788 Q1973.76 731.612 1973.76 736.844 L1973.76 752.492 L1969.48 752.492 L1969.48 736.983 Q1969.48 733.256 1968.16 731.45 Q1966.84 729.645 1964.13 729.645 Q1960.82 729.645 1958.9 731.844 Q1956.98 734.043 1956.98 737.839 L1956.98 752.492 L1952.69 752.492 L1952.69 736.983 Q1952.69 733.233 1951.38 731.45 Q1950.06 729.645 1947.3 729.645 Q1944.04 729.645 1942.12 731.867 Q1940.19 734.066 1940.19 737.839 L1940.19 752.492 L1935.91 752.492 L1935.91 726.566 L1940.19 726.566 L1940.19 730.594 Q1941.65 728.21 1943.69 727.075 Q1945.73 725.941 1948.53 725.941 Q1951.35 725.941 1953.32 727.376 Q1955.31 728.812 1956.26 731.543 Z\" fill=\"#000000\" fill-rule=\"evenodd\" fill-opacity=\"1\" /><path clip-path=\"url(#clip520)\" d=\"M1982.25 726.566 L1986.51 726.566 L1986.51 752.492 L1982.25 752.492 L1982.25 726.566 M1982.25 716.474 L1986.51 716.474 L1986.51 721.867 L1982.25 721.867 L1982.25 716.474 Z\" fill=\"#000000\" fill-rule=\"evenodd\" fill-opacity=\"1\" /><path clip-path=\"url(#clip520)\" d=\"M2016.98 736.844 L2016.98 752.492 L2012.72 752.492 L2012.72 736.983 Q2012.72 733.302 2011.28 731.474 Q2009.85 729.645 2006.98 729.645 Q2003.53 729.645 2001.54 731.844 Q1999.55 734.043 1999.55 737.839 L1999.55 752.492 L1995.26 752.492 L1995.26 726.566 L1999.55 726.566 L1999.55 730.594 Q2001.07 728.256 2003.13 727.099 Q2005.22 725.941 2007.93 725.941 Q2012.39 725.941 2014.69 728.719 Q2016.98 731.474 2016.98 736.844 Z\" fill=\"#000000\" fill-rule=\"evenodd\" fill-opacity=\"1\" /><path clip-path=\"url(#clip520)\" d=\"M2037.25 739.46 Q2032.09 739.46 2030.1 740.64 Q2028.11 741.821 2028.11 744.668 Q2028.11 746.936 2029.59 748.279 Q2031.1 749.598 2033.67 749.598 Q2037.21 749.598 2039.34 747.098 Q2041.49 744.575 2041.49 740.409 L2041.49 739.46 L2037.25 739.46 M2045.75 737.7 L2045.75 752.492 L2041.49 752.492 L2041.49 748.557 Q2040.03 750.918 2037.86 752.052 Q2035.68 753.163 2032.53 753.163 Q2028.55 753.163 2026.19 750.941 Q2023.85 748.696 2023.85 744.946 Q2023.85 740.571 2026.77 738.349 Q2029.71 736.126 2035.52 736.126 L2041.49 736.126 L2041.49 735.71 Q2041.49 732.77 2039.55 731.173 Q2037.62 729.552 2034.13 729.552 Q2031.91 729.552 2029.8 730.085 Q2027.69 730.617 2025.75 731.682 L2025.75 727.747 Q2028.09 726.844 2030.29 726.404 Q2032.49 725.941 2034.57 725.941 Q2040.19 725.941 2042.97 728.858 Q2045.75 731.774 2045.75 737.7 Z\" fill=\"#000000\" fill-rule=\"evenodd\" fill-opacity=\"1\" /><path clip-path=\"url(#clip520)\" d=\"M2054.52 716.474 L2058.78 716.474 L2058.78 752.492 L2054.52 752.492 L2054.52 716.474 Z\" fill=\"#000000\" fill-rule=\"evenodd\" fill-opacity=\"1\" /><path clip-path=\"url(#clip520)\" d=\"M2104.94 738.464 L2104.94 740.548 L2085.36 740.548 Q2085.63 744.946 2087.99 747.261 Q2090.38 749.552 2094.62 749.552 Q2097.07 749.552 2099.36 748.95 Q2101.68 748.348 2103.94 747.145 L2103.94 751.173 Q2101.65 752.145 2099.24 752.654 Q2096.84 753.163 2094.36 753.163 Q2088.16 753.163 2084.52 749.552 Q2080.91 745.941 2080.91 739.784 Q2080.91 733.418 2084.34 729.691 Q2087.79 725.941 2093.62 725.941 Q2098.85 725.941 2101.88 729.321 Q2104.94 732.677 2104.94 738.464 M2100.68 737.214 Q2100.63 733.719 2098.71 731.636 Q2096.81 729.552 2093.67 729.552 Q2090.1 729.552 2087.95 731.566 Q2085.82 733.58 2085.49 737.237 L2100.68 737.214 Z\" fill=\"#000000\" fill-rule=\"evenodd\" fill-opacity=\"1\" /><path clip-path=\"url(#clip520)\" d=\"M2116.79 721.775 L2116.79 748.649 L2122.44 748.649 Q2129.59 748.649 2132.9 745.409 Q2136.24 742.168 2136.24 735.177 Q2136.24 728.233 2132.9 725.015 Q2129.59 721.775 2122.44 721.775 L2116.79 721.775 M2112.12 717.932 L2121.72 717.932 Q2131.77 717.932 2136.47 722.122 Q2141.17 726.288 2141.17 735.177 Q2141.17 744.112 2136.44 748.302 Q2131.72 752.492 2121.72 752.492 L2112.12 752.492 L2112.12 717.932 Z\" fill=\"#000000\" fill-rule=\"evenodd\" fill-opacity=\"1\" /><path clip-path=\"url(#clip520)\" d=\"M2148.62 717.932 L2155.59 717.932 L2164.41 741.45 L2173.27 717.932 L2180.24 717.932 L2180.24 752.492 L2175.68 752.492 L2175.68 722.145 L2166.77 745.848 L2162.07 745.848 L2153.16 722.145 L2153.16 752.492 L2148.62 752.492 L2148.62 717.932 Z\" fill=\"#000000\" fill-rule=\"evenodd\" fill-opacity=\"1\" /><path clip-path=\"url(#clip520)\" d=\"M2194.2 721.775 L2194.2 748.649 L2199.85 748.649 Q2207 748.649 2210.31 745.409 Q2213.64 742.168 2213.64 735.177 Q2213.64 728.233 2210.31 725.015 Q2207 721.775 2199.85 721.775 L2194.2 721.775 M2189.52 717.932 L2199.13 717.932 Q2209.17 717.932 2213.87 722.122 Q2218.57 726.288 2218.57 735.177 Q2218.57 744.112 2213.85 748.302 Q2209.13 752.492 2199.13 752.492 L2189.52 752.492 L2189.52 717.932 Z\" fill=\"#000000\" fill-rule=\"evenodd\" fill-opacity=\"1\" /><path clip-path=\"url(#clip520)\" d=\"M2225.17 716.52 L2228.87 716.52 Q2232.35 721.983 2234.06 727.214 Q2235.79 732.446 2235.79 737.608 Q2235.79 742.793 2234.06 748.048 Q2232.35 753.302 2228.87 758.742 L2225.17 758.742 Q2228.25 753.441 2229.75 748.21 Q2231.28 742.955 2231.28 737.608 Q2231.28 732.261 2229.75 727.052 Q2228.25 721.844 2225.17 716.52 Z\" fill=\"#000000\" fill-rule=\"evenodd\" fill-opacity=\"1\" /><polyline clip-path=\"url(#clip520)\" style=\"stroke:#e26f46; stroke-linecap:butt; stroke-linejoin:round; stroke-width:4; stroke-opacity:1; fill:none\" points=\"\n  1648.56,787.052 1788.91,787.052 \n  \"/>\n<path clip-path=\"url(#clip520)\" d=\"M1831.56 787.897 L1816.82 787.897 Q1817.16 794.818 1818.76 797.758 Q1820.75 801.369 1824.2 801.369 Q1827.67 801.369 1829.59 797.735 Q1831.28 794.54 1831.56 787.897 M1831.49 783.962 Q1830.84 777.388 1829.59 775.073 Q1827.6 771.415 1824.2 771.415 Q1820.66 771.415 1818.78 775.027 Q1817.3 777.943 1816.86 783.962 L1831.49 783.962 M1824.2 767.943 Q1829.76 767.943 1832.93 772.851 Q1836.1 777.735 1836.1 786.392 Q1836.1 795.026 1832.93 799.934 Q1829.76 804.864 1824.2 804.864 Q1818.62 804.864 1815.47 799.934 Q1812.3 795.026 1812.3 786.392 Q1812.3 777.735 1815.47 772.851 Q1818.62 767.943 1824.2 767.943 Z\" fill=\"#000000\" fill-rule=\"evenodd\" fill-opacity=\"1\" /><path clip-path=\"url(#clip520)\" d=\"M1868.46 768.36 Q1865.36 773.684 1863.85 778.892 Q1862.35 784.101 1862.35 789.448 Q1862.35 794.795 1863.85 800.05 Q1865.38 805.281 1868.46 810.582 L1864.76 810.582 Q1861.28 805.142 1859.55 799.888 Q1857.83 794.633 1857.83 789.448 Q1857.83 784.286 1859.55 779.054 Q1861.26 773.823 1864.76 768.36 L1868.46 768.36 Z\" fill=\"#000000\" fill-rule=\"evenodd\" fill-opacity=\"1\" /><path clip-path=\"url(#clip520)\" d=\"M1898.27 788.684 L1898.27 804.332 L1894.01 804.332 L1894.01 788.823 Q1894.01 785.142 1892.58 783.314 Q1891.14 781.485 1888.27 781.485 Q1884.82 781.485 1882.83 783.684 Q1880.84 785.883 1880.84 789.679 L1880.84 804.332 L1876.56 804.332 L1876.56 778.406 L1880.84 778.406 L1880.84 782.434 Q1882.37 780.096 1884.43 778.939 Q1886.51 777.781 1889.22 777.781 Q1893.69 777.781 1895.98 780.559 Q1898.27 783.314 1898.27 788.684 Z\" fill=\"#000000\" fill-rule=\"evenodd\" fill-opacity=\"1\" /><path clip-path=\"url(#clip520)\" d=\"M1916.82 781.392 Q1913.39 781.392 1911.4 784.077 Q1909.41 786.739 1909.41 791.392 Q1909.41 796.045 1911.38 798.73 Q1913.37 801.392 1916.82 801.392 Q1920.22 801.392 1922.21 798.707 Q1924.2 796.022 1924.2 791.392 Q1924.2 786.786 1922.21 784.101 Q1920.22 781.392 1916.82 781.392 M1916.82 777.781 Q1922.37 777.781 1925.54 781.392 Q1928.71 785.003 1928.71 791.392 Q1928.71 797.758 1925.54 801.392 Q1922.37 805.003 1916.82 805.003 Q1911.24 805.003 1908.07 801.392 Q1904.92 797.758 1904.92 791.392 Q1904.92 785.003 1908.07 781.392 Q1911.24 777.781 1916.82 777.781 Z\" fill=\"#000000\" fill-rule=\"evenodd\" fill-opacity=\"1\" /><path clip-path=\"url(#clip520)\" d=\"M1955.96 783.383 Q1957.56 780.513 1959.78 779.147 Q1962 777.781 1965.01 777.781 Q1969.06 777.781 1971.26 780.628 Q1973.46 783.452 1973.46 788.684 L1973.46 804.332 L1969.18 804.332 L1969.18 788.823 Q1969.18 785.096 1967.86 783.29 Q1966.54 781.485 1963.83 781.485 Q1960.52 781.485 1958.6 783.684 Q1956.68 785.883 1956.68 789.679 L1956.68 804.332 L1952.39 804.332 L1952.39 788.823 Q1952.39 785.073 1951.07 783.29 Q1949.75 781.485 1947 781.485 Q1943.74 781.485 1941.82 783.707 Q1939.89 785.906 1939.89 789.679 L1939.89 804.332 L1935.61 804.332 L1935.61 778.406 L1939.89 778.406 L1939.89 782.434 Q1941.35 780.05 1943.39 778.915 Q1945.43 777.781 1948.23 777.781 Q1951.05 777.781 1953.02 779.216 Q1955.01 780.652 1955.96 783.383 Z\" fill=\"#000000\" fill-rule=\"evenodd\" fill-opacity=\"1\" /><path clip-path=\"url(#clip520)\" d=\"M1981.95 778.406 L1986.21 778.406 L1986.21 804.332 L1981.95 804.332 L1981.95 778.406 M1981.95 768.314 L1986.21 768.314 L1986.21 773.707 L1981.95 773.707 L1981.95 768.314 Z\" fill=\"#000000\" fill-rule=\"evenodd\" fill-opacity=\"1\" /><path clip-path=\"url(#clip520)\" d=\"M2016.68 788.684 L2016.68 804.332 L2012.42 804.332 L2012.42 788.823 Q2012.42 785.142 2010.98 783.314 Q2009.55 781.485 2006.68 781.485 Q2003.23 781.485 2001.24 783.684 Q1999.25 785.883 1999.25 789.679 L1999.25 804.332 L1994.96 804.332 L1994.96 778.406 L1999.25 778.406 L1999.25 782.434 Q2000.77 780.096 2002.83 778.939 Q2004.92 777.781 2007.62 777.781 Q2012.09 777.781 2014.38 780.559 Q2016.68 783.314 2016.68 788.684 Z\" fill=\"#000000\" fill-rule=\"evenodd\" fill-opacity=\"1\" /><path clip-path=\"url(#clip520)\" d=\"M2036.95 791.3 Q2031.79 791.3 2029.8 792.48 Q2027.81 793.661 2027.81 796.508 Q2027.81 798.776 2029.29 800.119 Q2030.8 801.438 2033.37 801.438 Q2036.91 801.438 2039.04 798.938 Q2041.19 796.415 2041.19 792.249 L2041.19 791.3 L2036.95 791.3 M2045.45 789.54 L2045.45 804.332 L2041.19 804.332 L2041.19 800.397 Q2039.73 802.758 2037.56 803.892 Q2035.38 805.003 2032.23 805.003 Q2028.25 805.003 2025.89 802.781 Q2023.55 800.536 2023.55 796.786 Q2023.55 792.411 2026.47 790.189 Q2029.41 787.966 2035.22 787.966 L2041.19 787.966 L2041.19 787.55 Q2041.19 784.61 2039.25 783.013 Q2037.32 781.392 2033.83 781.392 Q2031.61 781.392 2029.5 781.925 Q2027.39 782.457 2025.45 783.522 L2025.45 779.587 Q2027.79 778.684 2029.99 778.244 Q2032.18 777.781 2034.27 777.781 Q2039.89 777.781 2042.67 780.698 Q2045.45 783.614 2045.45 789.54 Z\" fill=\"#000000\" fill-rule=\"evenodd\" fill-opacity=\"1\" /><path clip-path=\"url(#clip520)\" d=\"M2054.22 768.314 L2058.48 768.314 L2058.48 804.332 L2054.22 804.332 L2054.22 768.314 Z\" fill=\"#000000\" fill-rule=\"evenodd\" fill-opacity=\"1\" /><path clip-path=\"url(#clip520)\" d=\"M2104.64 790.304 L2104.64 792.388 L2085.06 792.388 Q2085.33 796.786 2087.69 799.101 Q2090.08 801.392 2094.31 801.392 Q2096.77 801.392 2099.06 800.79 Q2101.37 800.188 2103.64 798.985 L2103.64 803.013 Q2101.35 803.985 2098.94 804.494 Q2096.54 805.003 2094.06 805.003 Q2087.86 805.003 2084.22 801.392 Q2080.61 797.781 2080.61 791.624 Q2080.61 785.258 2084.04 781.531 Q2087.49 777.781 2093.32 777.781 Q2098.55 777.781 2101.58 781.161 Q2104.64 784.517 2104.64 790.304 M2100.38 789.054 Q2100.33 785.559 2098.41 783.476 Q2096.51 781.392 2093.37 781.392 Q2089.8 781.392 2087.65 783.406 Q2085.52 785.42 2085.19 789.077 L2100.38 789.054 Z\" fill=\"#000000\" fill-rule=\"evenodd\" fill-opacity=\"1\" /><path clip-path=\"url(#clip520)\" d=\"M2116.49 773.615 L2116.49 800.489 L2122.14 800.489 Q2129.29 800.489 2132.6 797.249 Q2135.93 794.008 2135.93 787.017 Q2135.93 780.073 2132.6 776.855 Q2129.29 773.615 2122.14 773.615 L2116.49 773.615 M2111.81 769.772 L2121.42 769.772 Q2131.47 769.772 2136.17 773.962 Q2140.86 778.128 2140.86 787.017 Q2140.86 795.952 2136.14 800.142 Q2131.42 804.332 2121.42 804.332 L2111.81 804.332 L2111.81 769.772 Z\" fill=\"#000000\" fill-rule=\"evenodd\" fill-opacity=\"1\" /><path clip-path=\"url(#clip520)\" d=\"M2148.32 769.772 L2155.29 769.772 L2164.11 793.29 L2172.97 769.772 L2179.94 769.772 L2179.94 804.332 L2175.38 804.332 L2175.38 773.985 L2166.47 797.688 L2161.77 797.688 L2152.86 773.985 L2152.86 804.332 L2148.32 804.332 L2148.32 769.772 Z\" fill=\"#000000\" fill-rule=\"evenodd\" fill-opacity=\"1\" /><path clip-path=\"url(#clip520)\" d=\"M2193.9 773.615 L2193.9 800.489 L2199.55 800.489 Q2206.7 800.489 2210.01 797.249 Q2213.34 794.008 2213.34 787.017 Q2213.34 780.073 2210.01 776.855 Q2206.7 773.615 2199.55 773.615 L2193.9 773.615 M2189.22 769.772 L2198.83 769.772 Q2208.87 769.772 2213.57 773.962 Q2218.27 778.128 2218.27 787.017 Q2218.27 795.952 2213.55 800.142 Q2208.83 804.332 2198.83 804.332 L2189.22 804.332 L2189.22 769.772 Z\" fill=\"#000000\" fill-rule=\"evenodd\" fill-opacity=\"1\" /><path clip-path=\"url(#clip520)\" d=\"M2224.87 768.36 L2228.57 768.36 Q2232.04 773.823 2233.76 779.054 Q2235.49 784.286 2235.49 789.448 Q2235.49 794.633 2233.76 799.888 Q2232.04 805.142 2228.57 810.582 L2224.87 810.582 Q2227.95 805.281 2229.45 800.05 Q2230.98 794.795 2230.98 789.448 Q2230.98 784.101 2229.45 778.892 Q2227.95 773.684 2224.87 768.36 Z\" fill=\"#000000\" fill-rule=\"evenodd\" fill-opacity=\"1\" /></svg>\n"
     },
     "execution_count": 26,
     "metadata": {},
     "output_type": "execute_result"
    }
   ],
   "source": [
    "# Simulate nominal model with LQR gain from bilinear model\n",
    "\n",
    "tf_sim = 3.0\n",
    "Tsim_lqr_nominal = range(0,tf_sim,step=dt)\n",
    "\n",
    "# x0 = [0,pi-deg2rad(1),0,0]\n",
    "x0 = [-0.4,pi-deg2rad(40),0,0]\n",
    "\n",
    "ctrl_lqr_og = LQRController(K_og, xe, ue)\n",
    "ctrl_lqr_nominal = LQRController(K_bil_nom, xe, ue)\n",
    "\n",
    "Xsim_lqr_og, = simulatewithcontroller(dmodel, ctrl_lqr_og, x0, tf_sim, dt)\n",
    "Xsim_lqr_nominal, = simulatewithcontroller(dmodel, ctrl_lqr_nominal, x0, tf_sim, dt)\n",
    "\n",
    "plotstates(Tsim_lqr_nominal, Xsim_lqr_og, inds=1:2, xlabel=\"time (s)\", ylabel=\"states\",\n",
    "            label=[\"x (og dynamics)\" \"θ (og dynamics)\"], legend=:right, lw=2,\n",
    "            linestyle=:dash, color=[1 2])\n",
    "plotstates!(Tsim_lqr_nominal, Xsim_lqr_nominal, inds=1:2, xlabel=\"time (s)\", ylabel=\"states\",\n",
    "            label=[\"x (nominal eDMD)\" \"θ (nominal eDMD)\"], legend=:right, lw=2,\n",
    "            color=[1 2])"
   ]
  },
  {
   "cell_type": "markdown",
   "metadata": {},
   "source": [
    "# Evaluate New eDMD Model with Penalties on Jacobians\n",
    "Here we incorporate derivative data by penalizing the difference of the Jacobian of the learned model from the expected Jacobians of the nominal model, e.g.:\n",
    "\n",
    "$$ \\sum_{j=1}^P || \\frac{\\partial}{\\partial x} G \\hat{f}(\\varphi(x_j), u_j) - A_j ||^2 $$\n",
    "\n",
    "where \n",
    "\n",
    "$$ \\hat{f}(y,u) = A y + B u + \\sum_{i=1}^m u_i C_i y $$\n",
    "\n",
    "are the learned bilinear dynamics."
   ]
  },
  {
   "cell_type": "code",
   "execution_count": 27,
   "metadata": {},
   "outputs": [],
   "source": [
    "# Generate Jacobians\n",
    "xn = zeros(n0)\n",
    "jacobians = map(CartesianIndices(U_train)) do cind\n",
    "    k = cind[1]\n",
    "    x = X_train[cind]\n",
    "    u = U_train[cind]\n",
    "    z = RD.KnotPoint{n0,m}(x,u,T_ref[k],dt)\n",
    "    J = zeros(n0,n0+m)\n",
    "    RD.jacobian!(\n",
    "        RD.InPlace(), RD.ForwardAD(), dmodel, J, xn, z \n",
    "    )\n",
    "    J\n",
    "end\n",
    "A_train = map(J->J[:,1:n0], jacobians)\n",
    "B_train = map(J->J[:,n0+1:end], jacobians)\n",
    "\n",
    "# Convert states to lifted Koopman states\n",
    "Y_train = map(kf, X_train)\n",
    "\n",
    "# Calculate Jacobian of Koopman transform\n",
    "F_train = map(@view X_train[1:end-1,:]) do x\n",
    "    sparse(ForwardDiff.jacobian(x->expandstate(model_bilinear,x), x))\n",
    "end;"
   ]
  },
  {
   "cell_type": "markdown",
   "metadata": {},
   "source": [
    "### Build Least-squares problem\n",
    "Find the eDMD data `A`, `B`, and `C` that minimize the following residual:\n",
    "\n",
    "$$\\sum_{j=1}^P (1-\\alpha)|| A y_j + B u_j + \\sum_{i=1}^m u_{j,i} C_i x_j - y_j^+ ||^2 + \n",
    "\\alpha || G (A + \\sum_{i=1}^m u_{j,i} C_j) F_j  - A_j ||^2 + \n",
    "\\alpha || G (B + [C_1 x_j \\dots C_m x_j]) - B_j ||^2  $$\n",
    "\n",
    "where $F_j = \\partial \\varphi(x_j) / \\partial x$.\n",
    "\n",
    "This is equivalent to \n",
    "\n",
    "$$ (1-\\alpha)|| E Z_{1:P} - Y_{1:P}^+ ||^2 + \n",
    "\\alpha || G E \\hat{A}_{1:P} - A_{1:P} ||^2 +\n",
    "\\alpha || G E \\hat{B}_{1:P} - B_{1:P} ||^2 $$\n",
    "\n",
    "where\n",
    "\n",
    "$$ E = \\begin{bmatrix} A & B & C_1 & \\dots & C_m \\end{bmatrix} \\in \\mathbb{R}^{n \\times p} $$\n",
    "$$ Z_j = \\begin{bmatrix} \n",
    "    x_j \\\\ u_j \\\\ u_{j,1} x_j \\\\ \\vdots \\\\ u_{j,m} x_j \n",
    "\\end{bmatrix} \\in \\mathbb{R}^{p}, \\quad\n",
    "\\hat{A}_j = \\begin{bmatrix} \n",
    "    I_n \\\\ 0_{m,n} \\\\ u_{j,1} I_n \\\\ \\vdots \\\\ u_{j,m} I_n \n",
    "\\end{bmatrix} \\in \\mathbb{R}^{p \\times n}, \\quad\n",
    "\\hat{B}_j = \\begin{bmatrix} \n",
    "    0_{n,m} \\\\ I_m \\\\ [x_j \\; 0 \\; \\dots \\; 0] \\\\ \\vdots \\\\ [0 \\; \\dots \\; 0 \\; x_j] \n",
    "\\end{bmatrix} \\in \\mathbb{R}^{p \\times m}\n",
    "$$\n",
    "\n",
    "which is equivalent to \n",
    "\n",
    "$$ \\left\\lVert \n",
    "\\begin{bmatrix} \n",
    "    Z_{1:P}^T \\otimes I_n \\\\\n",
    "    \\hat{A}_{1:P}^T \\otimes G \\\\\n",
    "    \\hat{B}_{1:P}^T \\otimes G \n",
    "\\end{bmatrix} \\text{vec}(E) - \n",
    "\\begin{bmatrix}\n",
    "    \\text{vec}{Y_{1:P}^+}\\\\\n",
    "    \\text{vec}{A_{1:P}^+}\\\\\n",
    "    \\text{vec}{B_{1:P}^+}\\\\\n",
    "\\end{bmatrix}\n",
    "\\right\\rVert^2 $$"
   ]
  },
  {
   "cell_type": "code",
   "execution_count": 28,
   "metadata": {},
   "outputs": [
    {
     "name": "stdout",
     "output_type": "stream",
     "text": [
      "Concatentating data\n",
      "Creating feature matrix\n",
      "Creating state Jacobian matrix\n",
      "Creating control Jacobian matrix\n",
      "Creating least-squares data\n"
     ]
    }
   ],
   "source": [
    "# Create a sparse version of the G Jacobian\n",
    "G = spdiagm(n0,n,1=>ones(n0)) \n",
    "@test norm(G - model_bilinear.g) < 1e-8\n",
    "\n",
    "# Build Least Squares Problem\n",
    "W,s = BilinearControl.EDMD.build_edmd_data(\n",
    "    Z_train, U_train, A_train, B_train, F_train, model_bilinear.g)\n",
    "\n",
    "n = length(Z_train[1]);"
   ]
  },
  {
   "cell_type": "markdown",
   "metadata": {},
   "source": [
    "### Solve the Least-squares Problem"
   ]
  },
  {
   "cell_type": "code",
   "execution_count": 29,
   "metadata": {},
   "outputs": [
    {
     "name": "stdout",
     "output_type": "stream",
     "text": [
      "  8.837134 seconds (439.85 k allocations: 316.542 MiB, 1.06% compilation time)\n"
     ]
    }
   ],
   "source": [
    "@time Wsparse = sparse(W);"
   ]
  },
  {
   "cell_type": "code",
   "execution_count": 30,
   "metadata": {},
   "outputs": [
    {
     "data": {
      "text/plain": [
       "0.022213119650461244"
      ]
     },
     "execution_count": 30,
     "metadata": {},
     "output_type": "execute_result"
    }
   ],
   "source": [
    "BilinearControl.matdensity(Wsparse)"
   ]
  },
  {
   "cell_type": "code",
   "execution_count": 31,
   "metadata": {},
   "outputs": [],
   "source": [
    "# Solve directly\n",
    " \n",
    "# @time F = qr(Wsparse)\n",
    "# @time x = F \\ s\n",
    "# norm(W*x - s)\n",
    "# E = reshape(x,n,:)"
   ]
  },
  {
   "cell_type": "code",
   "execution_count": 32,
   "metadata": {},
   "outputs": [
    {
     "name": "stdout",
     "output_type": "stream",
     "text": [
      "  2.525209 seconds (107.99 k allocations: 2.477 GiB, 14.99% gc time, 4.58% compilation time)\n"
     ]
    }
   ],
   "source": [
    "# Solve with RLS\n",
    "\n",
    "@time x_rls = BilinearControl.EDMD.rls_qr(Vector(s), Wsparse; Q=1e-5)\n",
    "E = reshape(x_rls,n,:);"
   ]
  },
  {
   "cell_type": "code",
   "execution_count": 33,
   "metadata": {},
   "outputs": [],
   "source": [
    "# Extract out bilinear dynamics\n",
    "A = E[:,1:n]\n",
    "B = E[:,n .+ (1:m)]\n",
    "C = E[:,n+m .+ (1:n*m)]\n",
    "\n",
    "C_list = Matrix{Float64}[]\n",
    "    \n",
    "for i in 1:m\n",
    "    C_i = C[:, (i-1)*n+1:i*n]\n",
    "    push!(C_list, C_i)\n",
    "end\n",
    "\n",
    "C = C_list;"
   ]
  },
  {
   "cell_type": "code",
   "execution_count": 34,
   "metadata": {},
   "outputs": [],
   "source": [
    "# Save data\n",
    "jldsave(joinpath(Problems.DATADIR,\"cartpole_lqr_jacobian_penalized_eDMD_data.jld2\"); A, B, C, g, kf, eigfuns, eigorders, tf, dt)"
   ]
  },
  {
   "cell_type": "markdown",
   "metadata": {},
   "source": [
    "# Import New Model"
   ]
  },
  {
   "cell_type": "code",
   "execution_count": 35,
   "metadata": {},
   "outputs": [],
   "source": [
    "cartpole_data = load(joinpath(Problems.DATADIR, \"cartpole_lqr_jacobian_penalized_eDMD_data.jld2\"))\n",
    "A_jacpen = cartpole_data[\"A\"]\n",
    "B_jacpen = cartpole_data[\"B\"]\n",
    "C_jacpen = cartpole_data[\"C\"]\n",
    "g = cartpole_data[\"g\"]\n",
    "kf = cartpole_data[\"kf\"]\n",
    "tf = cartpole_data[\"tf\"]\n",
    "dt = cartpole_data[\"dt\"]\n",
    "\n",
    "T_ref = range(0,tf,step=dt);"
   ]
  },
  {
   "cell_type": "markdown",
   "metadata": {},
   "source": [
    "# Evaluate the New Fit"
   ]
  },
  {
   "cell_type": "code",
   "execution_count": 36,
   "metadata": {},
   "outputs": [
    {
     "name": "stdout",
     "output_type": "stream",
     "text": [
      "Train Error: 0.003513161952515057\n",
      "Test Error:  0.011753841994893259\n",
      "\n",
      "New Train Error: 0.006225579149582293\n",
      "New Test Error:  0.006418502665302174\n"
     ]
    }
   ],
   "source": [
    "# Evaluate the Fit\n",
    "err_train2 = BilinearControl.EDMD.fiterror(A_jacpen, B_jacpen, C_jacpen, g, kf, X_train, U_train)\n",
    "err_test2 = BilinearControl.EDMD.fiterror(A_jacpen, B_jacpen, C_jacpen, g, kf, X_test, U_test)\n",
    "println(\"Train Error: \", err_train)\n",
    "println(\"Test Error:  \", err_test)\n",
    "println(\"\")\n",
    "println(\"New Train Error: \", err_train2)\n",
    "println(\"New Test Error:  \", err_test2)"
   ]
  },
  {
   "cell_type": "code",
   "execution_count": 37,
   "metadata": {},
   "outputs": [],
   "source": [
    "model_bilinear_jacpen = EDMDModel(A_jacpen, B_jacpen, C_jacpen, g, kf, dt, \"cartpole\")\n",
    "n,m = RD.dims(model_bilinear_jacpen)\n",
    "n0 = originalstatedim(model_bilinear_jacpen);"
   ]
  },
  {
   "cell_type": "code",
   "execution_count": 38,
   "metadata": {},
   "outputs": [],
   "source": [
    "# Get A,B for new system\n",
    "function dynamics_bilinear_jacpen(x,u,t,dt)\n",
    "    y = expandstate(model_bilinear_jacpen, x)\n",
    "    yn = zero(y)\n",
    "    RD.discrete_dynamics!(model_bilinear_jacpen, yn, y, u, t, dt)\n",
    "    originalstate(model_bilinear_jacpen, yn)\n",
    "end\n",
    "\n",
    "A_bil_jacpen = FiniteDiff.finite_difference_jacobian(x->dynamics_bilinear_jacpen(x,ue,0.0,dt), xe)\n",
    "B_bil_jacpen = FiniteDiff.finite_difference_jacobian(u->dynamics_bilinear_jacpen(xe,u,0.0,dt), ue);"
   ]
  },
  {
   "cell_type": "markdown",
   "metadata": {},
   "source": [
    "**Compare the Jacobians with Nominal model**"
   ]
  },
  {
   "cell_type": "code",
   "execution_count": 39,
   "metadata": {},
   "outputs": [
    {
     "data": {
      "text/plain": [
       "4×4 Matrix{Float64}:\n",
       " 1.0  0.000392055   0.019998     -1.38375e-6\n",
       " 0.0  1.0047       -3.99648e-6    0.0199834\n",
       " 0.0  0.0392035     0.9998       -7.57316e-6\n",
       " 0.0  0.470481     -0.000399628   0.999909"
      ]
     },
     "execution_count": 39,
     "metadata": {},
     "output_type": "execute_result"
    }
   ],
   "source": [
    "A_og"
   ]
  },
  {
   "cell_type": "code",
   "execution_count": 40,
   "metadata": {},
   "outputs": [
    {
     "data": {
      "text/plain": [
       "4×4 Matrix{Float64}:\n",
       " 1.0          0.000384568   0.0199987   -1.10478e-6\n",
       " 2.38419e-6   1.0047       -1.3113e-6    0.0199848\n",
       " 7.53105e-5   0.03861       0.999888     3.11881e-5\n",
       " 0.000319242  0.470446     -3.43323e-5   1.00011"
      ]
     },
     "execution_count": 40,
     "metadata": {},
     "output_type": "execute_result"
    }
   ],
   "source": [
    "A_bil_jacpen"
   ]
  },
  {
   "cell_type": "code",
   "execution_count": 41,
   "metadata": {},
   "outputs": [
    {
     "data": {
      "text/plain": [
       "4×1 Matrix{Float64}:\n",
       " 0.00019995956333333334\n",
       " 0.00039964806000000004\n",
       " 0.01999523290316667\n",
       " 0.03996279079433334"
      ]
     },
     "execution_count": 41,
     "metadata": {},
     "output_type": "execute_result"
    }
   ],
   "source": [
    "B_og"
   ]
  },
  {
   "cell_type": "code",
   "execution_count": 42,
   "metadata": {},
   "outputs": [
    {
     "data": {
      "text/plain": [
       "4×1 Matrix{Float64}:\n",
       " 0.00019876825876963267\n",
       " 0.0004000365734100342\n",
       " 0.01989858519579002\n",
       " 0.04011449396830358"
      ]
     },
     "execution_count": 42,
     "metadata": {},
     "output_type": "execute_result"
    }
   ],
   "source": [
    "B_bil_jacpen"
   ]
  },
  {
   "cell_type": "markdown",
   "metadata": {},
   "source": [
    "# Try Stabilizing New Model using LQR"
   ]
  },
  {
   "cell_type": "code",
   "execution_count": 43,
   "metadata": {},
   "outputs": [],
   "source": [
    "K_bil_jacpen = dlqr(A_bil_jacpen, B_bil_jacpen, Qlqr, Rlqr);"
   ]
  },
  {
   "cell_type": "code",
   "execution_count": 44,
   "metadata": {},
   "outputs": [
    {
     "name": "stdout",
     "output_type": "stream",
     "text": [
      "Stability Summary:\n",
      "  Dynamics  |  Controller  |  is stable? \n",
      "------------|--------------|--------------\n",
      "  Nominal   |  Nominal     |  true\n",
      "  Bilinear  |  Bilinear    |  true\n",
      "  Nominal   |  Bilinear    |  true\n"
     ]
    }
   ],
   "source": [
    "# Evaluate stability\n",
    "isstable_bilinear2 = maximum(abs.(eigvals(A_bil_jacpen - B_bil_jacpen*K_bil_jacpen))) < 1.0\n",
    "isstable_nominal_with_bilinear2 = maximum(abs.(eigvals(A_og - B_og*K_bil_jacpen))) < 1.0\n",
    "\n",
    "println(\"Stability Summary:\")\n",
    "println(\"  Dynamics  |  Controller  |  is stable? \")\n",
    "println(\"------------|--------------|--------------\")\n",
    "println(\"  Nominal   |  Nominal     |  \", isstable_nominal)\n",
    "println(\"  Bilinear  |  Bilinear    |  \", isstable_bilinear2)\n",
    "println(\"  Nominal   |  Bilinear    |  \", isstable_nominal_with_bilinear2)"
   ]
  },
  {
   "cell_type": "code",
   "execution_count": 45,
   "metadata": {},
   "outputs": [
    {
     "data": {
      "image/svg+xml": "<?xml version=\"1.0\" encoding=\"utf-8\"?>\n<svg xmlns=\"http://www.w3.org/2000/svg\" xmlns:xlink=\"http://www.w3.org/1999/xlink\" width=\"600\" height=\"400\" viewBox=\"0 0 2400 1600\">\n<defs>\n  <clipPath id=\"clip560\">\n    <rect x=\"0\" y=\"0\" width=\"2400\" height=\"1600\"/>\n  </clipPath>\n</defs>\n<path clip-path=\"url(#clip560)\" d=\"\nM0 1600 L2400 1600 L2400 0 L0 0  Z\n  \" fill=\"#ffffff\" fill-rule=\"evenodd\" fill-opacity=\"1\"/>\n<defs>\n  <clipPath id=\"clip561\">\n    <rect x=\"480\" y=\"0\" width=\"1681\" height=\"1600\"/>\n  </clipPath>\n</defs>\n<path clip-path=\"url(#clip560)\" d=\"\nM247.459 1423.18 L2352.76 1423.18 L2352.76 47.2441 L247.459 47.2441  Z\n  \" fill=\"#ffffff\" fill-rule=\"evenodd\" fill-opacity=\"1\"/>\n<defs>\n  <clipPath id=\"clip562\">\n    <rect x=\"247\" y=\"47\" width=\"2106\" height=\"1377\"/>\n  </clipPath>\n</defs>\n<polyline clip-path=\"url(#clip562)\" style=\"stroke:#000000; stroke-linecap:butt; stroke-linejoin:round; stroke-width:2; stroke-opacity:0.1; fill:none\" points=\"\n  307.043,1423.18 307.043,47.2441 \n  \"/>\n<polyline clip-path=\"url(#clip562)\" style=\"stroke:#000000; stroke-linecap:butt; stroke-linejoin:round; stroke-width:2; stroke-opacity:0.1; fill:none\" points=\"\n  969.086,1423.18 969.086,47.2441 \n  \"/>\n<polyline clip-path=\"url(#clip562)\" style=\"stroke:#000000; stroke-linecap:butt; stroke-linejoin:round; stroke-width:2; stroke-opacity:0.1; fill:none\" points=\"\n  1631.13,1423.18 1631.13,47.2441 \n  \"/>\n<polyline clip-path=\"url(#clip562)\" style=\"stroke:#000000; stroke-linecap:butt; stroke-linejoin:round; stroke-width:2; stroke-opacity:0.1; fill:none\" points=\"\n  2293.17,1423.18 2293.17,47.2441 \n  \"/>\n<polyline clip-path=\"url(#clip560)\" style=\"stroke:#000000; stroke-linecap:butt; stroke-linejoin:round; stroke-width:4; stroke-opacity:1; fill:none\" points=\"\n  247.459,1423.18 2352.76,1423.18 \n  \"/>\n<polyline clip-path=\"url(#clip560)\" style=\"stroke:#000000; stroke-linecap:butt; stroke-linejoin:round; stroke-width:4; stroke-opacity:1; fill:none\" points=\"\n  307.043,1423.18 307.043,1404.28 \n  \"/>\n<polyline clip-path=\"url(#clip560)\" style=\"stroke:#000000; stroke-linecap:butt; stroke-linejoin:round; stroke-width:4; stroke-opacity:1; fill:none\" points=\"\n  969.086,1423.18 969.086,1404.28 \n  \"/>\n<polyline clip-path=\"url(#clip560)\" style=\"stroke:#000000; stroke-linecap:butt; stroke-linejoin:round; stroke-width:4; stroke-opacity:1; fill:none\" points=\"\n  1631.13,1423.18 1631.13,1404.28 \n  \"/>\n<polyline clip-path=\"url(#clip560)\" style=\"stroke:#000000; stroke-linecap:butt; stroke-linejoin:round; stroke-width:4; stroke-opacity:1; fill:none\" points=\"\n  2293.17,1423.18 2293.17,1404.28 \n  \"/>\n<path clip-path=\"url(#clip560)\" d=\"M307.043 1454.1 Q303.432 1454.1 301.603 1457.66 Q299.797 1461.2 299.797 1468.33 Q299.797 1475.44 301.603 1479.01 Q303.432 1482.55 307.043 1482.55 Q310.677 1482.55 312.482 1479.01 Q314.311 1475.44 314.311 1468.33 Q314.311 1461.2 312.482 1457.66 Q310.677 1454.1 307.043 1454.1 M307.043 1450.39 Q312.853 1450.39 315.908 1455 Q318.987 1459.58 318.987 1468.33 Q318.987 1477.06 315.908 1481.67 Q312.853 1486.25 307.043 1486.25 Q301.232 1486.25 298.154 1481.67 Q295.098 1477.06 295.098 1468.33 Q295.098 1459.58 298.154 1455 Q301.232 1450.39 307.043 1450.39 Z\" fill=\"#000000\" fill-rule=\"evenodd\" fill-opacity=\"1\" /><path clip-path=\"url(#clip560)\" d=\"M959.468 1481.64 L967.107 1481.64 L967.107 1455.28 L958.796 1456.95 L958.796 1452.69 L967.06 1451.02 L971.736 1451.02 L971.736 1481.64 L979.375 1481.64 L979.375 1485.58 L959.468 1485.58 L959.468 1481.64 Z\" fill=\"#000000\" fill-rule=\"evenodd\" fill-opacity=\"1\" /><path clip-path=\"url(#clip560)\" d=\"M1625.78 1481.64 L1642.1 1481.64 L1642.1 1485.58 L1620.16 1485.58 L1620.16 1481.64 Q1622.82 1478.89 1627.4 1474.26 Q1632.01 1469.61 1633.19 1468.27 Q1635.43 1465.74 1636.31 1464.01 Q1637.22 1462.25 1637.22 1460.56 Q1637.22 1457.8 1635.27 1456.07 Q1633.35 1454.33 1630.25 1454.33 Q1628.05 1454.33 1625.6 1455.09 Q1623.17 1455.86 1620.39 1457.41 L1620.39 1452.69 Q1623.21 1451.55 1625.67 1450.97 Q1628.12 1450.39 1630.16 1450.39 Q1635.53 1450.39 1638.72 1453.08 Q1641.92 1455.77 1641.92 1460.26 Q1641.92 1462.39 1641.11 1464.31 Q1640.32 1466.2 1638.21 1468.8 Q1637.63 1469.47 1634.53 1472.69 Q1631.43 1475.88 1625.78 1481.64 Z\" fill=\"#000000\" fill-rule=\"evenodd\" fill-opacity=\"1\" /><path clip-path=\"url(#clip560)\" d=\"M2297.42 1466.95 Q2300.78 1467.66 2302.65 1469.93 Q2304.55 1472.2 2304.55 1475.53 Q2304.55 1480.65 2301.03 1483.45 Q2297.51 1486.25 2291.03 1486.25 Q2288.85 1486.25 2286.54 1485.81 Q2284.25 1485.39 2281.79 1484.54 L2281.79 1480.02 Q2283.74 1481.16 2286.05 1481.74 Q2288.37 1482.32 2290.89 1482.32 Q2295.29 1482.32 2297.58 1480.58 Q2299.9 1478.84 2299.9 1475.53 Q2299.9 1472.48 2297.74 1470.77 Q2295.61 1469.03 2291.79 1469.03 L2287.77 1469.03 L2287.77 1465.19 L2291.98 1465.19 Q2295.43 1465.19 2297.26 1463.82 Q2299.09 1462.43 2299.09 1459.84 Q2299.09 1457.18 2297.19 1455.77 Q2295.31 1454.33 2291.79 1454.33 Q2289.87 1454.33 2287.67 1454.75 Q2285.48 1455.16 2282.84 1456.04 L2282.84 1451.88 Q2285.5 1451.14 2287.81 1450.77 Q2290.15 1450.39 2292.21 1450.39 Q2297.54 1450.39 2300.64 1452.83 Q2303.74 1455.23 2303.74 1459.35 Q2303.74 1462.22 2302.1 1464.21 Q2300.45 1466.18 2297.42 1466.95 Z\" fill=\"#000000\" fill-rule=\"evenodd\" fill-opacity=\"1\" /><path clip-path=\"url(#clip560)\" d=\"M1187.56 1522.27 L1187.56 1532.4 L1199.62 1532.4 L1199.62 1536.95 L1187.56 1536.95 L1187.56 1556.3 Q1187.56 1560.66 1188.74 1561.9 Q1189.95 1563.14 1193.61 1563.14 L1199.62 1563.14 L1199.62 1568.04 L1193.61 1568.04 Q1186.83 1568.04 1184.25 1565.53 Q1181.67 1562.98 1181.67 1556.3 L1181.67 1536.95 L1177.38 1536.95 L1177.38 1532.4 L1181.67 1532.4 L1181.67 1522.27 L1187.56 1522.27 Z\" fill=\"#000000\" fill-rule=\"evenodd\" fill-opacity=\"1\" /><path clip-path=\"url(#clip560)\" d=\"M1207.33 1532.4 L1213.18 1532.4 L1213.18 1568.04 L1207.33 1568.04 L1207.33 1532.4 M1207.33 1518.52 L1213.18 1518.52 L1213.18 1525.93 L1207.33 1525.93 L1207.33 1518.52 Z\" fill=\"#000000\" fill-rule=\"evenodd\" fill-opacity=\"1\" /><path clip-path=\"url(#clip560)\" d=\"M1253.19 1539.24 Q1255.39 1535.29 1258.44 1533.41 Q1261.5 1531.54 1265.64 1531.54 Q1271.21 1531.54 1274.23 1535.45 Q1277.25 1539.33 1277.25 1546.53 L1277.25 1568.04 L1271.37 1568.04 L1271.37 1546.72 Q1271.37 1541.59 1269.55 1539.11 Q1267.74 1536.63 1264.01 1536.63 Q1259.46 1536.63 1256.82 1539.65 Q1254.18 1542.68 1254.18 1547.9 L1254.18 1568.04 L1248.29 1568.04 L1248.29 1546.72 Q1248.29 1541.56 1246.48 1539.11 Q1244.66 1536.63 1240.87 1536.63 Q1236.39 1536.63 1233.74 1539.68 Q1231.1 1542.71 1231.1 1547.9 L1231.1 1568.04 L1225.21 1568.04 L1225.21 1532.4 L1231.1 1532.4 L1231.1 1537.93 Q1233.11 1534.66 1235.91 1533.1 Q1238.71 1531.54 1242.56 1531.54 Q1246.44 1531.54 1249.15 1533.51 Q1251.89 1535.48 1253.19 1539.24 Z\" fill=\"#000000\" fill-rule=\"evenodd\" fill-opacity=\"1\" /><path clip-path=\"url(#clip560)\" d=\"M1319.43 1548.76 L1319.43 1551.62 L1292.5 1551.62 Q1292.88 1557.67 1296.13 1560.85 Q1299.41 1564 1305.23 1564 Q1308.61 1564 1311.76 1563.17 Q1314.94 1562.35 1318.06 1560.69 L1318.06 1566.23 Q1314.91 1567.57 1311.6 1568.27 Q1308.29 1568.97 1304.88 1568.97 Q1296.35 1568.97 1291.35 1564 Q1286.39 1559.04 1286.39 1550.57 Q1286.39 1541.82 1291.1 1536.69 Q1295.84 1531.54 1303.86 1531.54 Q1311.06 1531.54 1315.23 1536.18 Q1319.43 1540.8 1319.43 1548.76 M1313.57 1547.04 Q1313.51 1542.23 1310.87 1539.37 Q1308.26 1536.5 1303.93 1536.5 Q1299.03 1536.5 1296.07 1539.27 Q1293.14 1542.04 1292.69 1547.07 L1313.57 1547.04 Z\" fill=\"#000000\" fill-rule=\"evenodd\" fill-opacity=\"1\" /><path clip-path=\"url(#clip560)\" d=\"M1363.83 1518.58 Q1359.56 1525.9 1357.49 1533.06 Q1355.43 1540.23 1355.43 1547.58 Q1355.43 1554.93 1357.49 1562.16 Q1359.59 1569.35 1363.83 1576.64 L1358.74 1576.64 Q1353.96 1569.16 1351.57 1561.93 Q1349.22 1554.71 1349.22 1547.58 Q1349.22 1540.48 1351.57 1533.29 Q1353.93 1526.09 1358.74 1518.58 L1363.83 1518.58 Z\" fill=\"#000000\" fill-rule=\"evenodd\" fill-opacity=\"1\" /><path clip-path=\"url(#clip560)\" d=\"M1397.92 1533.45 L1397.92 1538.98 Q1395.43 1537.71 1392.76 1537.07 Q1390.09 1536.44 1387.22 1536.44 Q1382.86 1536.44 1380.67 1537.77 Q1378.5 1539.11 1378.5 1541.79 Q1378.5 1543.82 1380.06 1545 Q1381.62 1546.15 1386.33 1547.2 L1388.34 1547.64 Q1394.57 1548.98 1397.18 1551.43 Q1399.83 1553.85 1399.83 1558.21 Q1399.83 1563.17 1395.88 1566.07 Q1391.96 1568.97 1385.09 1568.97 Q1382.22 1568.97 1379.11 1568.39 Q1376.02 1567.85 1372.58 1566.74 L1372.58 1560.69 Q1375.83 1562.38 1378.98 1563.24 Q1382.13 1564.07 1385.22 1564.07 Q1389.35 1564.07 1391.58 1562.66 Q1393.81 1561.23 1393.81 1558.65 Q1393.81 1556.27 1392.19 1554.99 Q1390.6 1553.72 1385.15 1552.54 L1383.12 1552.07 Q1377.67 1550.92 1375.25 1548.56 Q1372.84 1546.18 1372.84 1542.04 Q1372.84 1537.01 1376.4 1534.27 Q1379.97 1531.54 1386.52 1531.54 Q1389.77 1531.54 1392.63 1532.01 Q1395.5 1532.49 1397.92 1533.45 Z\" fill=\"#000000\" fill-rule=\"evenodd\" fill-opacity=\"1\" /><path clip-path=\"url(#clip560)\" d=\"M1408.23 1518.58 L1413.32 1518.58 Q1418.1 1526.09 1420.45 1533.29 Q1422.84 1540.48 1422.84 1547.58 Q1422.84 1554.71 1420.45 1561.93 Q1418.1 1569.16 1413.32 1576.64 L1408.23 1576.64 Q1412.46 1569.35 1414.53 1562.16 Q1416.63 1554.93 1416.63 1547.58 Q1416.63 1540.23 1414.53 1533.06 Q1412.46 1525.9 1408.23 1518.58 Z\" fill=\"#000000\" fill-rule=\"evenodd\" fill-opacity=\"1\" /><polyline clip-path=\"url(#clip562)\" style=\"stroke:#000000; stroke-linecap:butt; stroke-linejoin:round; stroke-width:2; stroke-opacity:0.1; fill:none\" points=\"\n  247.459,1338.14 2352.76,1338.14 \n  \"/>\n<polyline clip-path=\"url(#clip562)\" style=\"stroke:#000000; stroke-linecap:butt; stroke-linejoin:round; stroke-width:2; stroke-opacity:0.1; fill:none\" points=\"\n  247.459,1050.03 2352.76,1050.03 \n  \"/>\n<polyline clip-path=\"url(#clip562)\" style=\"stroke:#000000; stroke-linecap:butt; stroke-linejoin:round; stroke-width:2; stroke-opacity:0.1; fill:none\" points=\"\n  247.459,761.918 2352.76,761.918 \n  \"/>\n<polyline clip-path=\"url(#clip562)\" style=\"stroke:#000000; stroke-linecap:butt; stroke-linejoin:round; stroke-width:2; stroke-opacity:0.1; fill:none\" points=\"\n  247.459,473.807 2352.76,473.807 \n  \"/>\n<polyline clip-path=\"url(#clip562)\" style=\"stroke:#000000; stroke-linecap:butt; stroke-linejoin:round; stroke-width:2; stroke-opacity:0.1; fill:none\" points=\"\n  247.459,185.696 2352.76,185.696 \n  \"/>\n<polyline clip-path=\"url(#clip560)\" style=\"stroke:#000000; stroke-linecap:butt; stroke-linejoin:round; stroke-width:4; stroke-opacity:1; fill:none\" points=\"\n  247.459,1423.18 247.459,47.2441 \n  \"/>\n<polyline clip-path=\"url(#clip560)\" style=\"stroke:#000000; stroke-linecap:butt; stroke-linejoin:round; stroke-width:4; stroke-opacity:1; fill:none\" points=\"\n  247.459,1338.14 266.356,1338.14 \n  \"/>\n<polyline clip-path=\"url(#clip560)\" style=\"stroke:#000000; stroke-linecap:butt; stroke-linejoin:round; stroke-width:4; stroke-opacity:1; fill:none\" points=\"\n  247.459,1050.03 266.356,1050.03 \n  \"/>\n<polyline clip-path=\"url(#clip560)\" style=\"stroke:#000000; stroke-linecap:butt; stroke-linejoin:round; stroke-width:4; stroke-opacity:1; fill:none\" points=\"\n  247.459,761.918 266.356,761.918 \n  \"/>\n<polyline clip-path=\"url(#clip560)\" style=\"stroke:#000000; stroke-linecap:butt; stroke-linejoin:round; stroke-width:4; stroke-opacity:1; fill:none\" points=\"\n  247.459,473.807 266.356,473.807 \n  \"/>\n<polyline clip-path=\"url(#clip560)\" style=\"stroke:#000000; stroke-linecap:butt; stroke-linejoin:round; stroke-width:4; stroke-opacity:1; fill:none\" points=\"\n  247.459,185.696 266.356,185.696 \n  \"/>\n<path clip-path=\"url(#clip560)\" d=\"M154.283 1323.94 Q150.672 1323.94 148.843 1327.5 Q147.038 1331.05 147.038 1338.18 Q147.038 1345.28 148.843 1348.85 Q150.672 1352.39 154.283 1352.39 Q157.917 1352.39 159.723 1348.85 Q161.552 1345.28 161.552 1338.18 Q161.552 1331.05 159.723 1327.5 Q157.917 1323.94 154.283 1323.94 M154.283 1320.24 Q160.093 1320.24 163.149 1324.84 Q166.227 1329.43 166.227 1338.18 Q166.227 1346.9 163.149 1351.51 Q160.093 1356.09 154.283 1356.09 Q148.473 1356.09 145.394 1351.51 Q142.339 1346.9 142.339 1338.18 Q142.339 1329.43 145.394 1324.84 Q148.473 1320.24 154.283 1320.24 Z\" fill=\"#000000\" fill-rule=\"evenodd\" fill-opacity=\"1\" /><path clip-path=\"url(#clip560)\" d=\"M174.445 1349.54 L179.329 1349.54 L179.329 1355.42 L174.445 1355.42 L174.445 1349.54 Z\" fill=\"#000000\" fill-rule=\"evenodd\" fill-opacity=\"1\" /><path clip-path=\"url(#clip560)\" d=\"M199.514 1323.94 Q195.903 1323.94 194.075 1327.5 Q192.269 1331.05 192.269 1338.18 Q192.269 1345.28 194.075 1348.85 Q195.903 1352.39 199.514 1352.39 Q203.149 1352.39 204.954 1348.85 Q206.783 1345.28 206.783 1338.18 Q206.783 1331.05 204.954 1327.5 Q203.149 1323.94 199.514 1323.94 M199.514 1320.24 Q205.324 1320.24 208.38 1324.84 Q211.459 1329.43 211.459 1338.18 Q211.459 1346.9 208.38 1351.51 Q205.324 1356.09 199.514 1356.09 Q193.704 1356.09 190.625 1351.51 Q187.57 1346.9 187.57 1338.18 Q187.57 1329.43 190.625 1324.84 Q193.704 1320.24 199.514 1320.24 Z\" fill=\"#000000\" fill-rule=\"evenodd\" fill-opacity=\"1\" /><path clip-path=\"url(#clip560)\" d=\"M149.306 1063.37 L165.626 1063.37 L165.626 1067.31 L143.681 1067.31 L143.681 1063.37 Q146.343 1060.62 150.927 1055.99 Q155.533 1051.34 156.714 1049.99 Q158.959 1047.47 159.839 1045.74 Q160.741 1043.98 160.741 1042.29 Q160.741 1039.53 158.797 1037.8 Q156.876 1036.06 153.774 1036.06 Q151.575 1036.06 149.121 1036.82 Q146.691 1037.59 143.913 1039.14 L143.913 1034.42 Q146.737 1033.28 149.191 1032.7 Q151.644 1032.12 153.681 1032.12 Q159.052 1032.12 162.246 1034.81 Q165.44 1037.49 165.44 1041.99 Q165.44 1044.11 164.63 1046.04 Q163.843 1047.93 161.737 1050.53 Q161.158 1051.2 158.056 1054.42 Q154.954 1057.61 149.306 1063.37 Z\" fill=\"#000000\" fill-rule=\"evenodd\" fill-opacity=\"1\" /><path clip-path=\"url(#clip560)\" d=\"M175.44 1061.43 L180.325 1061.43 L180.325 1067.31 L175.44 1067.31 L175.44 1061.43 Z\" fill=\"#000000\" fill-rule=\"evenodd\" fill-opacity=\"1\" /><path clip-path=\"url(#clip560)\" d=\"M190.556 1032.75 L208.912 1032.75 L208.912 1036.68 L194.838 1036.68 L194.838 1045.16 Q195.857 1044.81 196.875 1044.65 Q197.894 1044.46 198.912 1044.46 Q204.699 1044.46 208.079 1047.63 Q211.459 1050.8 211.459 1056.22 Q211.459 1061.8 207.987 1064.9 Q204.514 1067.98 198.195 1067.98 Q196.019 1067.98 193.75 1067.61 Q191.505 1067.24 189.098 1066.5 L189.098 1061.8 Q191.181 1062.93 193.403 1063.49 Q195.625 1064.05 198.102 1064.05 Q202.107 1064.05 204.445 1061.94 Q206.783 1059.83 206.783 1056.22 Q206.783 1052.61 204.445 1050.5 Q202.107 1048.4 198.102 1048.4 Q196.227 1048.4 194.352 1048.81 Q192.5 1049.23 190.556 1050.11 L190.556 1032.75 Z\" fill=\"#000000\" fill-rule=\"evenodd\" fill-opacity=\"1\" /><path clip-path=\"url(#clip560)\" d=\"M144.329 744.638 L162.686 744.638 L162.686 748.573 L148.612 748.573 L148.612 757.045 Q149.63 756.698 150.649 756.536 Q151.667 756.351 152.686 756.351 Q158.473 756.351 161.852 759.522 Q165.232 762.694 165.232 768.11 Q165.232 773.689 161.76 776.791 Q158.288 779.869 151.968 779.869 Q149.792 779.869 147.524 779.499 Q145.279 779.129 142.871 778.388 L142.871 773.689 Q144.954 774.823 147.177 775.379 Q149.399 775.934 151.876 775.934 Q155.88 775.934 158.218 773.828 Q160.556 771.721 160.556 768.11 Q160.556 764.499 158.218 762.393 Q155.88 760.286 151.876 760.286 Q150.001 760.286 148.126 760.703 Q146.274 761.119 144.329 761.999 L144.329 744.638 Z\" fill=\"#000000\" fill-rule=\"evenodd\" fill-opacity=\"1\" /><path clip-path=\"url(#clip560)\" d=\"M174.445 773.318 L179.329 773.318 L179.329 779.198 L174.445 779.198 L174.445 773.318 Z\" fill=\"#000000\" fill-rule=\"evenodd\" fill-opacity=\"1\" /><path clip-path=\"url(#clip560)\" d=\"M199.514 747.717 Q195.903 747.717 194.075 751.282 Q192.269 754.823 192.269 761.953 Q192.269 769.059 194.075 772.624 Q195.903 776.166 199.514 776.166 Q203.149 776.166 204.954 772.624 Q206.783 769.059 206.783 761.953 Q206.783 754.823 204.954 751.282 Q203.149 747.717 199.514 747.717 M199.514 744.013 Q205.324 744.013 208.38 748.62 Q211.459 753.203 211.459 761.953 Q211.459 770.68 208.38 775.286 Q205.324 779.869 199.514 779.869 Q193.704 779.869 190.625 775.286 Q187.57 770.68 187.57 761.953 Q187.57 753.203 190.625 748.62 Q193.704 744.013 199.514 744.013 Z\" fill=\"#000000\" fill-rule=\"evenodd\" fill-opacity=\"1\" /><path clip-path=\"url(#clip560)\" d=\"M144.098 456.527 L166.32 456.527 L166.32 458.518 L153.774 491.087 L148.89 491.087 L160.695 460.462 L144.098 460.462 L144.098 456.527 Z\" fill=\"#000000\" fill-rule=\"evenodd\" fill-opacity=\"1\" /><path clip-path=\"url(#clip560)\" d=\"M175.44 485.207 L180.325 485.207 L180.325 491.087 L175.44 491.087 L175.44 485.207 Z\" fill=\"#000000\" fill-rule=\"evenodd\" fill-opacity=\"1\" /><path clip-path=\"url(#clip560)\" d=\"M190.556 456.527 L208.912 456.527 L208.912 460.462 L194.838 460.462 L194.838 468.934 Q195.857 468.587 196.875 468.425 Q197.894 468.24 198.912 468.24 Q204.699 468.24 208.079 471.411 Q211.459 474.582 211.459 479.999 Q211.459 485.578 207.987 488.679 Q204.514 491.758 198.195 491.758 Q196.019 491.758 193.75 491.388 Q191.505 491.017 189.098 490.277 L189.098 485.578 Q191.181 486.712 193.403 487.267 Q195.625 487.823 198.102 487.823 Q202.107 487.823 204.445 485.717 Q206.783 483.61 206.783 479.999 Q206.783 476.388 204.445 474.281 Q202.107 472.175 198.102 472.175 Q196.227 472.175 194.352 472.592 Q192.5 473.008 190.556 473.888 L190.556 456.527 Z\" fill=\"#000000\" fill-rule=\"evenodd\" fill-opacity=\"1\" /><path clip-path=\"url(#clip560)\" d=\"M114.931 199.041 L122.57 199.041 L122.57 172.675 L114.26 174.342 L114.26 170.082 L122.524 168.416 L127.2 168.416 L127.2 199.041 L134.839 199.041 L134.839 202.976 L114.931 202.976 L114.931 199.041 Z\" fill=\"#000000\" fill-rule=\"evenodd\" fill-opacity=\"1\" /><path clip-path=\"url(#clip560)\" d=\"M154.283 171.494 Q150.672 171.494 148.843 175.059 Q147.038 178.601 147.038 185.73 Q147.038 192.837 148.843 196.402 Q150.672 199.943 154.283 199.943 Q157.917 199.943 159.723 196.402 Q161.552 192.837 161.552 185.73 Q161.552 178.601 159.723 175.059 Q157.917 171.494 154.283 171.494 M154.283 167.791 Q160.093 167.791 163.149 172.397 Q166.227 176.98 166.227 185.73 Q166.227 194.457 163.149 199.064 Q160.093 203.647 154.283 203.647 Q148.473 203.647 145.394 199.064 Q142.339 194.457 142.339 185.73 Q142.339 176.98 145.394 172.397 Q148.473 167.791 154.283 167.791 Z\" fill=\"#000000\" fill-rule=\"evenodd\" fill-opacity=\"1\" /><path clip-path=\"url(#clip560)\" d=\"M174.445 197.096 L179.329 197.096 L179.329 202.976 L174.445 202.976 L174.445 197.096 Z\" fill=\"#000000\" fill-rule=\"evenodd\" fill-opacity=\"1\" /><path clip-path=\"url(#clip560)\" d=\"M199.514 171.494 Q195.903 171.494 194.075 175.059 Q192.269 178.601 192.269 185.73 Q192.269 192.837 194.075 196.402 Q195.903 199.943 199.514 199.943 Q203.149 199.943 204.954 196.402 Q206.783 192.837 206.783 185.73 Q206.783 178.601 204.954 175.059 Q203.149 171.494 199.514 171.494 M199.514 167.791 Q205.324 167.791 208.38 172.397 Q211.459 176.98 211.459 185.73 Q211.459 194.457 208.38 199.064 Q205.324 203.647 199.514 203.647 Q193.704 203.647 190.625 199.064 Q187.57 194.457 187.57 185.73 Q187.57 176.98 190.625 172.397 Q193.704 167.791 199.514 167.791 Z\" fill=\"#000000\" fill-rule=\"evenodd\" fill-opacity=\"1\" /><path clip-path=\"url(#clip560)\" d=\"M29.4065 806.062 L34.9447 806.062 Q33.6716 808.545 33.035 811.219 Q32.3984 813.892 32.3984 816.757 Q32.3984 821.117 33.7352 823.313 Q35.072 825.478 37.7456 825.478 Q39.7826 825.478 40.9603 823.918 Q42.1061 822.358 43.1565 817.648 L43.6021 815.643 Q44.9389 809.404 47.3897 806.794 Q49.8086 804.153 54.1691 804.153 Q59.1344 804.153 62.0308 808.099 Q64.9272 812.014 64.9272 818.889 Q64.9272 821.754 64.3543 824.873 Q63.8132 827.96 62.6992 831.398 L56.6518 831.398 Q58.3387 828.151 59.198 825 Q60.0256 821.849 60.0256 818.762 Q60.0256 814.624 58.6251 812.396 Q57.1929 810.168 54.6147 810.168 Q52.2276 810.168 50.9545 811.791 Q49.6813 813.383 48.5037 818.826 L48.0262 820.863 Q46.8804 826.305 44.5251 828.724 Q42.138 831.143 38.0002 831.143 Q32.9713 831.143 30.2341 827.578 Q27.4968 824.014 27.4968 817.457 Q27.4968 814.21 27.9743 811.346 Q28.4517 808.481 29.4065 806.062 Z\" fill=\"#000000\" fill-rule=\"evenodd\" fill-opacity=\"1\" /><path clip-path=\"url(#clip560)\" d=\"M18.2347 789.034 L28.3562 789.034 L28.3562 776.971 L32.9077 776.971 L32.9077 789.034 L52.2594 789.034 Q56.6199 789.034 57.8613 787.856 Q59.1026 786.647 59.1026 782.987 L59.1026 776.971 L64.0042 776.971 L64.0042 782.987 Q64.0042 789.766 61.4897 792.344 Q58.9434 794.922 52.2594 794.922 L32.9077 794.922 L32.9077 799.219 L28.3562 799.219 L28.3562 794.922 L18.2347 794.922 L18.2347 789.034 Z\" fill=\"#000000\" fill-rule=\"evenodd\" fill-opacity=\"1\" /><path clip-path=\"url(#clip560)\" d=\"M46.0847 753.068 Q46.0847 760.166 47.7079 762.903 Q49.3312 765.64 53.2461 765.64 Q56.3653 765.64 58.2114 763.603 Q60.0256 761.534 60.0256 758.001 Q60.0256 753.131 56.5881 750.203 Q53.1188 747.243 47.3897 747.243 L46.0847 747.243 L46.0847 753.068 M43.6657 741.387 L64.0042 741.387 L64.0042 747.243 L58.5933 747.243 Q61.8398 749.248 63.3994 752.24 Q64.9272 755.232 64.9272 759.561 Q64.9272 765.035 61.8716 768.282 Q58.7843 771.496 53.6281 771.496 Q47.6125 771.496 44.5569 767.486 Q41.5014 763.444 41.5014 755.455 L41.5014 747.243 L40.9285 747.243 Q36.8862 747.243 34.6901 749.917 Q32.4621 752.559 32.4621 757.365 Q32.4621 760.42 33.1941 763.317 Q33.9262 766.213 35.3903 768.887 L29.9795 768.887 Q28.7381 765.672 28.1334 762.648 Q27.4968 759.624 27.4968 756.76 Q27.4968 749.026 31.5072 745.206 Q35.5176 741.387 43.6657 741.387 Z\" fill=\"#000000\" fill-rule=\"evenodd\" fill-opacity=\"1\" /><path clip-path=\"url(#clip560)\" d=\"M18.2347 723.531 L28.3562 723.531 L28.3562 711.468 L32.9077 711.468 L32.9077 723.531 L52.2594 723.531 Q56.6199 723.531 57.8613 722.353 Q59.1026 721.144 59.1026 717.483 L59.1026 711.468 L64.0042 711.468 L64.0042 717.483 Q64.0042 724.263 61.4897 726.841 Q58.9434 729.419 52.2594 729.419 L32.9077 729.419 L32.9077 733.716 L28.3562 733.716 L28.3562 729.419 L18.2347 729.419 L18.2347 723.531 Z\" fill=\"#000000\" fill-rule=\"evenodd\" fill-opacity=\"1\" /><path clip-path=\"url(#clip560)\" d=\"M44.7161 673.274 L47.5806 673.274 L47.5806 700.201 Q53.6281 699.819 56.8109 696.572 Q59.9619 693.294 59.9619 687.469 Q59.9619 684.095 59.1344 680.944 Q58.3069 677.761 56.6518 674.642 L62.1899 674.642 Q63.5267 677.793 64.227 681.103 Q64.9272 684.414 64.9272 687.819 Q64.9272 696.349 59.9619 701.346 Q54.9967 706.312 46.5303 706.312 Q37.7774 706.312 32.6531 701.601 Q27.4968 696.859 27.4968 688.838 Q27.4968 681.645 32.1438 677.475 Q36.7589 673.274 44.7161 673.274 M42.9973 679.13 Q38.1912 679.194 35.3266 681.836 Q32.4621 684.445 32.4621 688.774 Q32.4621 693.676 35.2312 696.636 Q38.0002 699.564 43.0292 700.01 L42.9973 679.13 Z\" fill=\"#000000\" fill-rule=\"evenodd\" fill-opacity=\"1\" /><path clip-path=\"url(#clip560)\" d=\"M29.4065 640.936 L34.9447 640.936 Q33.6716 643.418 33.035 646.092 Q32.3984 648.766 32.3984 651.63 Q32.3984 655.991 33.7352 658.187 Q35.072 660.351 37.7456 660.351 Q39.7826 660.351 40.9603 658.792 Q42.1061 657.232 43.1565 652.521 L43.6021 650.516 Q44.9389 644.278 47.3897 641.668 Q49.8086 639.026 54.1691 639.026 Q59.1344 639.026 62.0308 642.973 Q64.9272 646.888 64.9272 653.763 Q64.9272 656.627 64.3543 659.747 Q63.8132 662.834 62.6992 666.271 L56.6518 666.271 Q58.3387 663.025 59.198 659.874 Q60.0256 656.723 60.0256 653.635 Q60.0256 649.498 58.6251 647.27 Q57.1929 645.042 54.6147 645.042 Q52.2276 645.042 50.9545 646.665 Q49.6813 648.256 48.5037 653.699 L48.0262 655.736 Q46.8804 661.179 44.5251 663.598 Q42.138 666.017 38.0002 666.017 Q32.9713 666.017 30.2341 662.452 Q27.4968 658.887 27.4968 652.33 Q27.4968 649.084 27.9743 646.219 Q28.4517 643.355 29.4065 640.936 Z\" fill=\"#000000\" fill-rule=\"evenodd\" fill-opacity=\"1\" /><polyline clip-path=\"url(#clip562)\" style=\"stroke:#009af9; stroke-linecap:butt; stroke-linejoin:round; stroke-width:8; stroke-opacity:1; fill:none\" stroke-dasharray=\"32, 20\" points=\"\n  307.043,1384.24 320.283,1380.34 333.524,1369.5 346.765,1354.06 360.006,1337.36 373.247,1322.26 386.488,1310.01 399.729,1300.68 412.969,1293.91 426.21,1289.32 \n  439.451,1286.48 452.692,1284.94 465.933,1284.28 479.174,1284.09 492.415,1284.07 505.656,1284.02 518.896,1283.86 532.137,1283.58 545.378,1283.21 558.619,1282.79 \n  571.86,1282.37 585.101,1282 598.342,1281.68 611.582,1281.44 624.823,1281.28 638.064,1281.2 651.305,1281.2 664.546,1281.28 677.787,1281.42 691.028,1281.63 \n  704.268,1281.89 717.509,1282.21 730.75,1282.58 743.991,1282.99 757.232,1283.45 770.473,1283.95 783.714,1284.49 796.955,1285.06 810.195,1285.67 823.436,1286.31 \n  836.677,1286.97 849.918,1287.66 863.159,1288.38 876.4,1289.12 889.641,1289.87 902.881,1290.65 916.122,1291.44 929.363,1292.24 942.604,1293.06 955.845,1293.89 \n  969.086,1294.73 982.327,1295.58 995.567,1296.43 1008.81,1297.29 1022.05,1298.15 1035.29,1299.01 1048.53,1299.88 1061.77,1300.75 1075.01,1301.61 1088.25,1302.48 \n  1101.49,1303.34 1114.74,1304.2 1127.98,1305.05 1141.22,1305.9 1154.46,1306.74 1167.7,1307.58 1180.94,1308.41 1194.18,1309.23 1207.42,1310.04 1220.66,1310.85 \n  1233.9,1311.64 1247.14,1312.43 1260.38,1313.2 1273.63,1313.96 1286.87,1314.72 1300.11,1315.46 1313.35,1316.19 1326.59,1316.91 1339.83,1317.61 1353.07,1318.31 \n  1366.31,1318.99 1379.55,1319.66 1392.79,1320.31 1406.03,1320.95 1419.28,1321.58 1432.52,1322.2 1445.76,1322.8 1459,1323.39 1472.24,1323.97 1485.48,1324.54 \n  1498.72,1325.09 1511.96,1325.62 1525.2,1326.15 1538.44,1326.66 1551.68,1327.16 1564.92,1327.64 1578.17,1328.12 1591.41,1328.58 1604.65,1329.03 1617.89,1329.46 \n  1631.13,1329.88 1644.37,1330.29 1657.61,1330.69 1670.85,1331.08 1684.09,1331.45 1697.33,1331.82 1710.57,1332.17 1723.81,1332.51 1737.06,1332.84 1750.3,1333.16 \n  1763.54,1333.47 1776.78,1333.77 1790.02,1334.05 1803.26,1334.33 1816.5,1334.6 1829.74,1334.86 1842.98,1335.1 1856.22,1335.34 1869.46,1335.57 1882.71,1335.79 \n  1895.95,1336.01 1909.19,1336.21 1922.43,1336.41 1935.67,1336.59 1948.91,1336.77 1962.15,1336.94 1975.39,1337.11 1988.63,1337.27 2001.87,1337.42 2015.11,1337.56 \n  2028.35,1337.69 2041.6,1337.82 2054.84,1337.95 2068.08,1338.06 2081.32,1338.18 2094.56,1338.28 2107.8,1338.38 2121.04,1338.47 2134.28,1338.56 2147.52,1338.65 \n  2160.76,1338.73 2174,1338.8 2187.25,1338.87 2200.49,1338.93 2213.73,1338.99 2226.97,1339.05 2240.21,1339.1 2253.45,1339.15 2266.69,1339.2 2279.93,1339.24 \n  2293.17,1339.28 \n  \"/>\n<polyline clip-path=\"url(#clip562)\" style=\"stroke:#e26f46; stroke-linecap:butt; stroke-linejoin:round; stroke-width:8; stroke-opacity:1; fill:none\" stroke-dasharray=\"32, 20\" points=\"\n  307.043,1056.55 320.283,1050.83 333.524,1034.6 346.765,1010.96 360.006,985.337 373.247,963.09 386.488,946.49 399.729,935.337 412.969,928.742 426.21,925.799 \n  439.451,925.66 452.692,927.506 465.933,930.555 479.174,934.115 492.415,937.654 505.656,940.84 518.896,943.527 532.137,945.715 545.378,947.481 558.619,948.931 \n  571.86,950.167 585.101,951.271 598.342,952.299 611.582,953.286 624.823,954.252 638.064,955.203 651.305,956.142 664.546,957.066 677.787,957.973 691.028,958.858 \n  704.268,959.721 717.509,960.56 730.75,961.373 743.991,962.161 757.232,962.923 770.473,963.661 783.714,964.374 796.955,965.063 810.195,965.729 823.436,966.372 \n  836.677,966.992 849.918,967.591 863.159,968.168 876.4,968.724 889.641,969.26 902.881,969.777 916.122,970.273 929.363,970.751 942.604,971.21 955.845,971.651 \n  969.086,972.074 982.327,972.48 995.567,972.869 1008.81,973.242 1022.05,973.598 1035.29,973.94 1048.53,974.265 1061.77,974.576 1075.01,974.873 1088.25,975.156 \n  1101.49,975.425 1114.74,975.681 1127.98,975.924 1141.22,976.155 1154.46,976.373 1167.7,976.58 1180.94,976.776 1194.18,976.96 1207.42,977.134 1220.66,977.298 \n  1233.9,977.451 1247.14,977.595 1260.38,977.73 1273.63,977.856 1286.87,977.973 1300.11,978.082 1313.35,978.183 1326.59,978.276 1339.83,978.362 1353.07,978.44 \n  1366.31,978.512 1379.55,978.577 1392.79,978.636 1406.03,978.688 1419.28,978.735 1432.52,978.776 1445.76,978.812 1459,978.843 1472.24,978.869 1485.48,978.89 \n  1498.72,978.907 1511.96,978.919 1525.2,978.928 1538.44,978.933 1551.68,978.934 1564.92,978.932 1578.17,978.926 1591.41,978.917 1604.65,978.906 1617.89,978.892 \n  1631.13,978.875 1644.37,978.855 1657.61,978.834 1670.85,978.81 1684.09,978.784 1697.33,978.757 1710.57,978.727 1723.81,978.696 1737.06,978.664 1750.3,978.63 \n  1763.54,978.595 1776.78,978.559 1790.02,978.522 1803.26,978.483 1816.5,978.444 1829.74,978.405 1842.98,978.364 1856.22,978.323 1869.46,978.281 1882.71,978.239 \n  1895.95,978.197 1909.19,978.154 1922.43,978.111 1935.67,978.068 1948.91,978.025 1962.15,977.982 1975.39,977.938 1988.63,977.895 2001.87,977.852 2015.11,977.809 \n  2028.35,977.766 2041.6,977.724 2054.84,977.681 2068.08,977.639 2081.32,977.598 2094.56,977.557 2107.8,977.516 2121.04,977.475 2134.28,977.435 2147.52,977.396 \n  2160.76,977.357 2174,977.318 2187.25,977.28 2200.49,977.243 2213.73,977.206 2226.97,977.17 2240.21,977.135 2253.45,977.1 2266.69,977.065 2279.93,977.031 \n  2293.17,976.998 \n  \"/>\n<polyline clip-path=\"url(#clip562)\" style=\"stroke:#009af9; stroke-linecap:butt; stroke-linejoin:round; stroke-width:8; stroke-opacity:1; fill:none\" stroke-dasharray=\"4, 8\" points=\"\n  307.043,1384.24 320.283,1380.7 333.524,1371.47 346.765,1359.31 360.006,1346.73 373.247,1335.57 386.488,1326.63 399.729,1319.94 412.969,1315.08 426.21,1311.52 \n  439.451,1308.72 452.692,1306.28 465.933,1303.9 479.174,1301.43 492.415,1298.78 505.656,1295.94 518.896,1292.96 532.137,1289.86 545.378,1286.69 558.619,1283.48 \n  571.86,1280.25 585.101,1277.03 598.342,1273.82 611.582,1270.61 624.823,1267.4 638.064,1264.19 651.305,1260.97 664.546,1257.74 677.787,1254.5 691.028,1251.23 \n  704.268,1247.95 717.509,1244.64 730.75,1241.31 743.991,1237.96 757.232,1234.58 770.473,1231.17 783.714,1227.74 796.955,1224.27 810.195,1220.78 823.436,1217.25 \n  836.677,1213.69 849.918,1210.09 863.159,1206.46 876.4,1202.78 889.641,1199.07 902.881,1195.32 916.122,1191.52 929.363,1187.67 942.604,1183.79 955.845,1179.85 \n  969.086,1175.86 982.327,1171.83 995.567,1167.74 1008.81,1163.59 1022.05,1159.39 1035.29,1155.14 1048.53,1150.82 1061.77,1146.44 1075.01,1142 1088.25,1137.5 \n  1101.49,1132.93 1114.74,1128.29 1127.98,1123.58 1141.22,1118.8 1154.46,1113.95 1167.7,1109.02 1180.94,1104.02 1194.18,1098.93 1207.42,1093.77 1220.66,1088.52 \n  1233.9,1083.18 1247.14,1077.76 1260.38,1072.25 1273.63,1066.65 1286.87,1060.95 1300.11,1055.16 1313.35,1049.27 1326.59,1043.28 1339.83,1037.19 1353.07,1031 \n  1366.31,1024.69 1379.55,1018.28 1392.79,1011.75 1406.03,1005.11 1419.28,998.35 1432.52,991.471 1445.76,984.469 1459,977.342 1472.24,970.087 1485.48,962.7 \n  1498.72,955.18 1511.96,947.522 1525.2,939.725 1538.44,931.785 1551.68,923.698 1564.92,915.462 1578.17,907.073 1591.41,898.527 1604.65,889.823 1617.89,880.955 \n  1631.13,871.92 1644.37,862.715 1657.61,853.335 1670.85,843.778 1684.09,834.038 1697.33,824.112 1710.57,813.996 1723.81,803.686 1737.06,793.176 1750.3,782.463 \n  1763.54,771.541 1776.78,760.407 1790.02,749.055 1803.26,737.48 1816.5,725.677 1829.74,713.641 1842.98,701.366 1856.22,688.847 1869.46,676.077 1882.71,663.051 \n  1895.95,649.763 1909.19,636.206 1922.43,622.374 1935.67,608.259 1948.91,593.855 1962.15,579.155 1975.39,564.151 1988.63,548.835 2001.87,533.198 2015.11,517.234 \n  2028.35,500.931 2041.6,484.283 2054.84,467.278 2068.08,449.908 2081.32,432.161 2094.56,414.028 2107.8,395.496 2121.04,376.553 2134.28,357.188 2147.52,337.386 \n  2160.76,317.135 2174,296.42 2187.25,275.225 2200.49,253.533 2213.73,231.328 2226.97,208.591 2240.21,185.303 2253.45,161.441 2266.69,136.984 2279.93,111.908 \n  2293.17,86.1857 \n  \"/>\n<polyline clip-path=\"url(#clip562)\" style=\"stroke:#e26f46; stroke-linecap:butt; stroke-linejoin:round; stroke-width:8; stroke-opacity:1; fill:none\" stroke-dasharray=\"4, 8\" points=\"\n  307.043,1056.55 320.283,1051.39 333.524,1037.78 346.765,1019.72 360.006,1001.36 373.247,986.007 386.488,975.228 399.729,968.972 412.969,966.346 426.21,966.219 \n  439.451,967.548 452.692,969.509 465.933,971.544 479.174,973.333 492.415,974.746 505.656,975.779 518.896,976.496 532.137,976.987 545.378,977.341 558.619,977.629 \n  571.86,977.902 585.101,978.188 598.342,978.502 611.582,978.844 624.823,979.212 638.064,979.598 651.305,979.996 664.546,980.398 677.787,980.802 691.028,981.204 \n  704.268,981.604 717.509,982.002 730.75,982.397 743.991,982.791 757.232,983.185 770.473,983.578 783.714,983.973 796.955,984.368 810.195,984.765 823.436,985.164 \n  836.677,985.564 849.918,985.966 863.159,986.371 876.4,986.778 889.641,987.187 902.881,987.599 916.122,988.013 929.363,988.43 942.604,988.851 955.845,989.274 \n  969.086,989.701 982.327,990.132 995.567,990.567 1008.81,991.005 1022.05,991.448 1035.29,991.895 1048.53,992.347 1061.77,992.803 1075.01,993.264 1088.25,993.731 \n  1101.49,994.203 1114.74,994.68 1127.98,995.163 1141.22,995.652 1154.46,996.147 1167.7,996.649 1180.94,997.157 1194.18,997.671 1207.42,998.193 1220.66,998.721 \n  1233.9,999.257 1247.14,999.801 1260.38,1000.35 1273.63,1000.91 1286.87,1001.48 1300.11,1002.05 1313.35,1002.64 1326.59,1003.23 1339.83,1003.84 1353.07,1004.45 \n  1366.31,1005.07 1379.55,1005.7 1392.79,1006.34 1406.03,1006.99 1419.28,1007.66 1432.52,1008.33 1445.76,1009.01 1459,1009.71 1472.24,1010.42 1485.48,1011.14 \n  1498.72,1011.87 1511.96,1012.61 1525.2,1013.37 1538.44,1014.14 1551.68,1014.92 1564.92,1015.72 1578.17,1016.53 1591.41,1017.36 1604.65,1018.2 1617.89,1019.05 \n  1631.13,1019.92 1644.37,1020.81 1657.61,1021.71 1670.85,1022.63 1684.09,1023.57 1697.33,1024.52 1710.57,1025.49 1723.81,1026.48 1737.06,1027.49 1750.3,1028.51 \n  1763.54,1029.56 1776.78,1030.62 1790.02,1031.71 1803.26,1032.81 1816.5,1033.94 1829.74,1035.09 1842.98,1036.26 1856.22,1037.45 1869.46,1038.67 1882.71,1039.91 \n  1895.95,1041.17 1909.19,1042.46 1922.43,1043.78 1935.67,1045.12 1948.91,1046.48 1962.15,1047.88 1975.39,1049.3 1988.63,1050.76 2001.87,1052.24 2015.11,1053.75 \n  2028.35,1055.29 2041.6,1056.87 2054.84,1058.48 2068.08,1060.12 2081.32,1061.8 2094.56,1063.51 2107.8,1065.26 2121.04,1067.05 2134.28,1068.87 2147.52,1070.74 \n  2160.76,1072.65 2174,1074.6 2187.25,1076.6 2200.49,1078.64 2213.73,1080.73 2226.97,1082.87 2240.21,1085.07 2253.45,1087.31 2266.69,1089.62 2279.93,1091.98 \n  2293.17,1094.41 \n  \"/>\n<polyline clip-path=\"url(#clip562)\" style=\"stroke:#009af9; stroke-linecap:butt; stroke-linejoin:round; stroke-width:8; stroke-opacity:1; fill:none\" points=\"\n  307.043,1384.24 320.283,1380.36 333.524,1369.53 346.765,1354.06 360.006,1337.22 373.247,1321.94 386.488,1309.55 399.729,1300.13 412.969,1293.38 426.21,1288.89 \n  439.451,1286.23 452.692,1284.94 465.933,1284.55 479.174,1284.62 492.415,1284.83 505.656,1284.97 518.896,1284.94 532.137,1284.74 545.378,1284.42 558.619,1284.03 \n  571.86,1283.63 585.101,1283.27 598.342,1282.96 611.582,1282.73 624.823,1282.58 638.064,1282.51 651.305,1282.52 664.546,1282.61 677.787,1282.76 691.028,1282.98 \n  704.268,1283.25 717.509,1283.57 730.75,1283.94 743.991,1284.36 757.232,1284.82 770.473,1285.31 783.714,1285.85 796.955,1286.42 810.195,1287.02 823.436,1287.65 \n  836.677,1288.3 849.918,1288.98 863.159,1289.69 876.4,1290.41 889.641,1291.15 902.881,1291.91 916.122,1292.69 929.363,1293.48 942.604,1294.28 955.845,1295.09 \n  969.086,1295.91 982.327,1296.74 995.567,1297.57 1008.81,1298.41 1022.05,1299.25 1035.29,1300.09 1048.53,1300.94 1061.77,1301.79 1075.01,1302.63 1088.25,1303.47 \n  1101.49,1304.31 1114.74,1305.15 1127.98,1305.98 1141.22,1306.81 1154.46,1307.63 1167.7,1308.44 1180.94,1309.25 1194.18,1310.05 1207.42,1310.84 1220.66,1311.62 \n  1233.9,1312.39 1247.14,1313.16 1260.38,1313.91 1273.63,1314.65 1286.87,1315.39 1300.11,1316.11 1313.35,1316.82 1326.59,1317.51 1339.83,1318.2 1353.07,1318.87 \n  1366.31,1319.53 1379.55,1320.18 1392.79,1320.82 1406.03,1321.44 1419.28,1322.05 1432.52,1322.65 1445.76,1323.24 1459,1323.81 1472.24,1324.37 1485.48,1324.92 \n  1498.72,1325.45 1511.96,1325.97 1525.2,1326.48 1538.44,1326.98 1551.68,1327.46 1564.92,1327.93 1578.17,1328.39 1591.41,1328.84 1604.65,1329.27 1617.89,1329.69 \n  1631.13,1330.1 1644.37,1330.5 1657.61,1330.89 1670.85,1331.26 1684.09,1331.63 1697.33,1331.98 1710.57,1332.32 1723.81,1332.65 1737.06,1332.97 1750.3,1333.28 \n  1763.54,1333.58 1776.78,1333.87 1790.02,1334.15 1803.26,1334.42 1816.5,1334.67 1829.74,1334.92 1842.98,1335.17 1856.22,1335.4 1869.46,1335.62 1882.71,1335.83 \n  1895.95,1336.04 1909.19,1336.24 1922.43,1336.43 1935.67,1336.61 1948.91,1336.78 1962.15,1336.95 1975.39,1337.11 1988.63,1337.26 2001.87,1337.41 2015.11,1337.54 \n  2028.35,1337.68 2041.6,1337.8 2054.84,1337.92 2068.08,1338.04 2081.32,1338.14 2094.56,1338.25 2107.8,1338.34 2121.04,1338.43 2134.28,1338.52 2147.52,1338.6 \n  2160.76,1338.68 2174,1338.75 2187.25,1338.82 2200.49,1338.88 2213.73,1338.94 2226.97,1338.99 2240.21,1339.05 2253.45,1339.09 2266.69,1339.14 2279.93,1339.18 \n  2293.17,1339.21 \n  \"/>\n<polyline clip-path=\"url(#clip562)\" style=\"stroke:#e26f46; stroke-linecap:butt; stroke-linejoin:round; stroke-width:8; stroke-opacity:1; fill:none\" points=\"\n  307.043,1056.55 320.283,1050.86 333.524,1034.66 346.765,1010.94 360.006,985.074 373.247,962.496 386.488,945.607 399.729,934.284 412.969,927.662 426.21,924.837 \n  439.451,924.945 452.692,927.132 465.933,930.564 479.174,934.493 492.415,938.339 505.656,941.741 518.896,944.554 532.137,946.789 545.378,948.545 558.619,949.95 \n  571.86,951.124 585.101,952.162 598.342,953.127 611.582,954.058 624.823,954.976 638.064,955.888 651.305,956.793 664.546,957.688 677.787,958.569 691.028,959.431 \n  704.268,960.271 717.509,961.088 730.75,961.88 743.991,962.647 757.232,963.388 770.473,964.105 783.714,964.798 796.955,965.468 810.195,966.114 823.436,966.738 \n  836.677,967.34 849.918,967.921 863.159,968.481 876.4,969.02 889.641,969.54 902.881,970.04 916.122,970.521 929.363,970.984 942.604,971.429 955.845,971.855 \n  969.086,972.265 982.327,972.658 995.567,973.034 1008.81,973.394 1022.05,973.739 1035.29,974.068 1048.53,974.383 1061.77,974.683 1075.01,974.97 1088.25,975.243 \n  1101.49,975.502 1114.74,975.749 1127.98,975.983 1141.22,976.205 1154.46,976.416 1167.7,976.615 1180.94,976.803 1194.18,976.98 1207.42,977.147 1220.66,977.304 \n  1233.9,977.452 1247.14,977.59 1260.38,977.719 1273.63,977.84 1286.87,977.952 1300.11,978.056 1313.35,978.153 1326.59,978.241 1339.83,978.323 1353.07,978.398 \n  1366.31,978.466 1379.55,978.528 1392.79,978.583 1406.03,978.633 1419.28,978.677 1432.52,978.716 1445.76,978.75 1459,978.778 1472.24,978.802 1485.48,978.822 \n  1498.72,978.837 1511.96,978.849 1525.2,978.856 1538.44,978.86 1551.68,978.86 1564.92,978.857 1578.17,978.85 1591.41,978.841 1604.65,978.829 1617.89,978.815 \n  1631.13,978.798 1644.37,978.778 1657.61,978.757 1670.85,978.733 1684.09,978.707 1697.33,978.68 1710.57,978.651 1723.81,978.621 1737.06,978.589 1750.3,978.555 \n  1763.54,978.521 1776.78,978.485 1790.02,978.449 1803.26,978.412 1816.5,978.373 1829.74,978.334 1842.98,978.295 1856.22,978.255 1869.46,978.214 1882.71,978.173 \n  1895.95,978.132 1909.19,978.09 1922.43,978.048 1935.67,978.006 1948.91,977.964 1962.15,977.922 1975.39,977.88 1988.63,977.838 2001.87,977.796 2015.11,977.754 \n  2028.35,977.713 2041.6,977.672 2054.84,977.631 2068.08,977.59 2081.32,977.549 2094.56,977.509 2107.8,977.47 2121.04,977.431 2134.28,977.392 2147.52,977.354 \n  2160.76,977.316 2174,977.279 2187.25,977.242 2200.49,977.206 2213.73,977.17 2226.97,977.135 2240.21,977.101 2253.45,977.067 2266.69,977.033 2279.93,977.001 \n  2293.17,976.969 \n  \"/>\n<path clip-path=\"url(#clip560)\" d=\"\nM1509.77 890.732 L2282.58 890.732 L2282.58 527.852 L1509.77 527.852  Z\n  \" fill=\"#ffffff\" fill-rule=\"evenodd\" fill-opacity=\"1\"/>\n<polyline clip-path=\"url(#clip560)\" style=\"stroke:#000000; stroke-linecap:butt; stroke-linejoin:round; stroke-width:4; stroke-opacity:1; fill:none\" points=\"\n  1509.77,890.732 2282.58,890.732 2282.58,527.852 1509.77,527.852 1509.77,890.732 \n  \"/>\n<polyline clip-path=\"url(#clip560)\" style=\"stroke:#009af9; stroke-linecap:butt; stroke-linejoin:round; stroke-width:4; stroke-opacity:1; fill:none\" stroke-dasharray=\"16, 10\" points=\"\n  1533.16,579.692 1673.52,579.692 \n  \"/>\n<path clip-path=\"url(#clip560)\" d=\"M1721.56 571.046 L1712.19 583.662 L1722.05 596.972 L1717.02 596.972 L1709.48 586.787 L1701.93 596.972 L1696.91 596.972 L1706.98 583.407 L1697.77 571.046 L1702.79 571.046 L1709.66 580.282 L1716.54 571.046 L1721.56 571.046 Z\" fill=\"#000000\" fill-rule=\"evenodd\" fill-opacity=\"1\" /><path clip-path=\"url(#clip560)\" d=\"M1753.37 561 Q1750.27 566.324 1748.76 571.532 Q1747.26 576.741 1747.26 582.088 Q1747.26 587.435 1748.76 592.69 Q1750.29 597.921 1753.37 603.222 L1749.66 603.222 Q1746.19 597.782 1744.45 592.528 Q1742.74 587.273 1742.74 582.088 Q1742.74 576.926 1744.45 571.694 Q1746.17 566.463 1749.66 561 L1753.37 561 Z\" fill=\"#000000\" fill-rule=\"evenodd\" fill-opacity=\"1\" /><path clip-path=\"url(#clip560)\" d=\"M1771.68 574.032 Q1768.25 574.032 1766.26 576.717 Q1764.27 579.379 1764.27 584.032 Q1764.27 588.685 1766.24 591.37 Q1768.23 594.032 1771.68 594.032 Q1775.08 594.032 1777.07 591.347 Q1779.06 588.662 1779.06 584.032 Q1779.06 579.426 1777.07 576.741 Q1775.08 574.032 1771.68 574.032 M1771.68 570.421 Q1777.23 570.421 1780.4 574.032 Q1783.58 577.643 1783.58 584.032 Q1783.58 590.398 1780.4 594.032 Q1777.23 597.643 1771.68 597.643 Q1766.1 597.643 1762.93 594.032 Q1759.78 590.398 1759.78 584.032 Q1759.78 577.643 1762.93 574.032 Q1766.1 570.421 1771.68 570.421 Z\" fill=\"#000000\" fill-rule=\"evenodd\" fill-opacity=\"1\" /><path clip-path=\"url(#clip560)\" d=\"M1807.7 583.708 Q1807.7 579.079 1805.77 576.532 Q1803.88 573.986 1800.43 573.986 Q1797 573.986 1795.08 576.532 Q1793.18 579.079 1793.18 583.708 Q1793.18 588.315 1795.08 590.861 Q1797 593.407 1800.43 593.407 Q1803.88 593.407 1805.77 590.861 Q1807.7 588.315 1807.7 583.708 M1811.95 593.754 Q1811.95 600.375 1809.01 603.592 Q1806.08 606.833 1800.01 606.833 Q1797.76 606.833 1795.77 606.486 Q1793.78 606.162 1791.91 605.467 L1791.91 601.324 Q1793.78 602.342 1795.61 602.828 Q1797.44 603.315 1799.34 603.315 Q1803.53 603.315 1805.61 601.115 Q1807.7 598.94 1807.7 594.518 L1807.7 592.412 Q1806.38 594.703 1804.32 595.838 Q1802.26 596.972 1799.39 596.972 Q1794.62 596.972 1791.7 593.338 Q1788.78 589.703 1788.78 583.708 Q1788.78 577.69 1791.7 574.055 Q1794.62 570.421 1799.39 570.421 Q1802.26 570.421 1804.32 571.555 Q1806.38 572.69 1807.7 574.981 L1807.7 571.046 L1811.95 571.046 L1811.95 593.754 Z\" fill=\"#000000\" fill-rule=\"evenodd\" fill-opacity=\"1\" /><path clip-path=\"url(#clip560)\" d=\"M1852.86 574.981 L1852.86 560.954 L1857.12 560.954 L1857.12 596.972 L1852.86 596.972 L1852.86 593.083 Q1851.51 595.398 1849.45 596.532 Q1847.42 597.643 1844.55 597.643 Q1839.85 597.643 1836.89 593.893 Q1833.95 590.143 1833.95 584.032 Q1833.95 577.921 1836.89 574.171 Q1839.85 570.421 1844.55 570.421 Q1847.42 570.421 1849.45 571.555 Q1851.51 572.667 1852.86 574.981 M1838.34 584.032 Q1838.34 588.731 1840.26 591.416 Q1842.21 594.078 1845.59 594.078 Q1848.97 594.078 1850.91 591.416 Q1852.86 588.731 1852.86 584.032 Q1852.86 579.333 1850.91 576.671 Q1848.97 573.986 1845.59 573.986 Q1842.21 573.986 1840.26 576.671 Q1838.34 579.333 1838.34 584.032 Z\" fill=\"#000000\" fill-rule=\"evenodd\" fill-opacity=\"1\" /><path clip-path=\"url(#clip560)\" d=\"M1876.68 599.379 Q1874.87 604.009 1873.16 605.421 Q1871.45 606.833 1868.57 606.833 L1865.17 606.833 L1865.17 603.268 L1867.67 603.268 Q1869.43 603.268 1870.4 602.435 Q1871.38 601.602 1872.56 598.5 L1873.32 596.555 L1862.83 571.046 L1867.35 571.046 L1875.45 591.324 L1883.55 571.046 L1888.07 571.046 L1876.68 599.379 Z\" fill=\"#000000\" fill-rule=\"evenodd\" fill-opacity=\"1\" /><path clip-path=\"url(#clip560)\" d=\"M1915.5 581.324 L1915.5 596.972 L1911.24 596.972 L1911.24 581.463 Q1911.24 577.782 1909.8 575.954 Q1908.37 574.125 1905.5 574.125 Q1902.05 574.125 1900.06 576.324 Q1898.07 578.523 1898.07 582.319 L1898.07 596.972 L1893.78 596.972 L1893.78 571.046 L1898.07 571.046 L1898.07 575.074 Q1899.59 572.736 1901.65 571.579 Q1903.74 570.421 1906.44 570.421 Q1910.91 570.421 1913.2 573.199 Q1915.5 575.954 1915.5 581.324 Z\" fill=\"#000000\" fill-rule=\"evenodd\" fill-opacity=\"1\" /><path clip-path=\"url(#clip560)\" d=\"M1935.77 583.94 Q1930.61 583.94 1928.62 585.12 Q1926.63 586.301 1926.63 589.148 Q1926.63 591.416 1928.11 592.759 Q1929.62 594.078 1932.19 594.078 Q1935.73 594.078 1937.86 591.578 Q1940.01 589.055 1940.01 584.889 L1940.01 583.94 L1935.77 583.94 M1944.27 582.18 L1944.27 596.972 L1940.01 596.972 L1940.01 593.037 Q1938.55 595.398 1936.38 596.532 Q1934.2 597.643 1931.05 597.643 Q1927.07 597.643 1924.71 595.421 Q1922.37 593.176 1922.37 589.426 Q1922.37 585.051 1925.29 582.829 Q1928.23 580.606 1934.04 580.606 L1940.01 580.606 L1940.01 580.19 Q1940.01 577.25 1938.07 575.653 Q1936.14 574.032 1932.65 574.032 Q1930.43 574.032 1928.32 574.565 Q1926.21 575.097 1924.27 576.162 L1924.27 572.227 Q1926.61 571.324 1928.81 570.884 Q1931 570.421 1933.09 570.421 Q1938.71 570.421 1941.49 573.338 Q1944.27 576.254 1944.27 582.18 Z\" fill=\"#000000\" fill-rule=\"evenodd\" fill-opacity=\"1\" /><path clip-path=\"url(#clip560)\" d=\"M1973.23 576.023 Q1974.82 573.153 1977.05 571.787 Q1979.27 570.421 1982.28 570.421 Q1986.33 570.421 1988.53 573.268 Q1990.73 576.092 1990.73 581.324 L1990.73 596.972 L1986.44 596.972 L1986.44 581.463 Q1986.44 577.736 1985.12 575.93 Q1983.81 574.125 1981.1 574.125 Q1977.79 574.125 1975.87 576.324 Q1973.94 578.523 1973.94 582.319 L1973.94 596.972 L1969.66 596.972 L1969.66 581.463 Q1969.66 577.713 1968.34 575.93 Q1967.02 574.125 1964.27 574.125 Q1961 574.125 1959.08 576.347 Q1957.16 578.546 1957.16 582.319 L1957.16 596.972 L1952.88 596.972 L1952.88 571.046 L1957.16 571.046 L1957.16 575.074 Q1958.62 572.69 1960.66 571.555 Q1962.69 570.421 1965.5 570.421 Q1968.32 570.421 1970.29 571.856 Q1972.28 573.292 1973.23 576.023 Z\" fill=\"#000000\" fill-rule=\"evenodd\" fill-opacity=\"1\" /><path clip-path=\"url(#clip560)\" d=\"M1999.22 571.046 L2003.48 571.046 L2003.48 596.972 L1999.22 596.972 L1999.22 571.046 M1999.22 560.954 L2003.48 560.954 L2003.48 566.347 L1999.22 566.347 L1999.22 560.954 Z\" fill=\"#000000\" fill-rule=\"evenodd\" fill-opacity=\"1\" /><path clip-path=\"url(#clip560)\" d=\"M2031.05 572.042 L2031.05 576.023 Q2029.25 575.028 2027.42 574.542 Q2025.61 574.032 2023.76 574.032 Q2019.62 574.032 2017.32 576.671 Q2015.03 579.287 2015.03 584.032 Q2015.03 588.778 2017.32 591.416 Q2019.62 594.032 2023.76 594.032 Q2025.61 594.032 2027.42 593.546 Q2029.25 593.037 2031.05 592.041 L2031.05 595.977 Q2029.27 596.81 2027.35 597.227 Q2025.45 597.643 2023.3 597.643 Q2017.44 597.643 2013.99 593.963 Q2010.54 590.282 2010.54 584.032 Q2010.54 577.69 2014.01 574.055 Q2017.51 570.421 2023.57 570.421 Q2025.54 570.421 2027.42 570.838 Q2029.29 571.231 2031.05 572.042 Z\" fill=\"#000000\" fill-rule=\"evenodd\" fill-opacity=\"1\" /><path clip-path=\"url(#clip560)\" d=\"M2054.99 571.81 L2054.99 575.838 Q2053.18 574.912 2051.24 574.449 Q2049.29 573.986 2047.21 573.986 Q2044.04 573.986 2042.44 574.958 Q2040.87 575.93 2040.87 577.875 Q2040.87 579.356 2042 580.213 Q2043.13 581.046 2046.56 581.81 L2048.02 582.134 Q2052.56 583.106 2054.45 584.889 Q2056.37 586.648 2056.37 589.819 Q2056.37 593.43 2053.5 595.537 Q2050.66 597.643 2045.66 597.643 Q2043.57 597.643 2041.31 597.227 Q2039.06 596.833 2036.56 596.023 L2036.56 591.625 Q2038.92 592.852 2041.21 593.477 Q2043.5 594.078 2045.75 594.078 Q2048.76 594.078 2050.38 593.06 Q2052 592.018 2052 590.143 Q2052 588.407 2050.82 587.481 Q2049.66 586.555 2045.7 585.699 L2044.22 585.352 Q2040.26 584.518 2038.5 582.805 Q2036.75 581.069 2036.75 578.06 Q2036.75 574.403 2039.34 572.412 Q2041.93 570.421 2046.7 570.421 Q2049.06 570.421 2051.14 570.768 Q2053.23 571.116 2054.99 571.81 Z\" fill=\"#000000\" fill-rule=\"evenodd\" fill-opacity=\"1\" /><path clip-path=\"url(#clip560)\" d=\"M2062.49 561 L2066.19 561 Q2069.66 566.463 2071.37 571.694 Q2073.11 576.926 2073.11 582.088 Q2073.11 587.273 2071.37 592.528 Q2069.66 597.782 2066.19 603.222 L2062.49 603.222 Q2065.56 597.921 2067.07 592.69 Q2068.6 587.435 2068.6 582.088 Q2068.6 576.741 2067.07 571.532 Q2065.56 566.324 2062.49 561 Z\" fill=\"#000000\" fill-rule=\"evenodd\" fill-opacity=\"1\" /><polyline clip-path=\"url(#clip560)\" style=\"stroke:#e26f46; stroke-linecap:butt; stroke-linejoin:round; stroke-width:4; stroke-opacity:1; fill:none\" stroke-dasharray=\"16, 10\" points=\"\n  1533.16,631.532 1673.52,631.532 \n  \"/>\n<path clip-path=\"url(#clip560)\" d=\"M1716.17 632.377 L1701.42 632.377 Q1701.77 639.298 1703.37 642.238 Q1705.36 645.849 1708.81 645.849 Q1712.28 645.849 1714.2 642.215 Q1715.89 639.02 1716.17 632.377 M1716.1 628.442 Q1715.45 621.868 1714.2 619.553 Q1712.21 615.895 1708.81 615.895 Q1705.27 615.895 1703.39 619.507 Q1701.91 622.423 1701.47 628.442 L1716.1 628.442 M1708.81 612.423 Q1714.36 612.423 1717.53 617.331 Q1720.71 622.215 1720.71 630.872 Q1720.71 639.506 1717.53 644.414 Q1714.36 649.344 1708.81 649.344 Q1703.23 649.344 1700.08 644.414 Q1696.91 639.506 1696.91 630.872 Q1696.91 622.215 1700.08 617.331 Q1703.23 612.423 1708.81 612.423 Z\" fill=\"#000000\" fill-rule=\"evenodd\" fill-opacity=\"1\" /><path clip-path=\"url(#clip560)\" d=\"M1753.07 612.84 Q1749.96 618.164 1748.46 623.372 Q1746.95 628.581 1746.95 633.928 Q1746.95 639.275 1748.46 644.53 Q1749.99 649.761 1753.07 655.062 L1749.36 655.062 Q1745.89 649.622 1744.15 644.368 Q1742.44 639.113 1742.44 633.928 Q1742.44 628.766 1744.15 623.534 Q1745.87 618.303 1749.36 612.84 L1753.07 612.84 Z\" fill=\"#000000\" fill-rule=\"evenodd\" fill-opacity=\"1\" /><path clip-path=\"url(#clip560)\" d=\"M1771.38 625.872 Q1767.95 625.872 1765.96 628.557 Q1763.97 631.219 1763.97 635.872 Q1763.97 640.525 1765.94 643.21 Q1767.93 645.872 1771.38 645.872 Q1774.78 645.872 1776.77 643.187 Q1778.76 640.502 1778.76 635.872 Q1778.76 631.266 1776.77 628.581 Q1774.78 625.872 1771.38 625.872 M1771.38 622.261 Q1776.93 622.261 1780.1 625.872 Q1783.27 629.483 1783.27 635.872 Q1783.27 642.238 1780.1 645.872 Q1776.93 649.483 1771.38 649.483 Q1765.8 649.483 1762.63 645.872 Q1759.48 642.238 1759.48 635.872 Q1759.48 629.483 1762.63 625.872 Q1765.8 622.261 1771.38 622.261 Z\" fill=\"#000000\" fill-rule=\"evenodd\" fill-opacity=\"1\" /><path clip-path=\"url(#clip560)\" d=\"M1807.39 635.548 Q1807.39 630.919 1805.47 628.372 Q1803.58 625.826 1800.13 625.826 Q1796.7 625.826 1794.78 628.372 Q1792.88 630.919 1792.88 635.548 Q1792.88 640.155 1794.78 642.701 Q1796.7 645.247 1800.13 645.247 Q1803.58 645.247 1805.47 642.701 Q1807.39 640.155 1807.39 635.548 M1811.65 645.594 Q1811.65 652.215 1808.71 655.432 Q1805.77 658.673 1799.71 658.673 Q1797.46 658.673 1795.47 658.326 Q1793.48 658.002 1791.61 657.307 L1791.61 653.164 Q1793.48 654.182 1795.31 654.668 Q1797.14 655.155 1799.04 655.155 Q1803.23 655.155 1805.31 652.955 Q1807.39 650.78 1807.39 646.358 L1807.39 644.252 Q1806.08 646.543 1804.01 647.678 Q1801.95 648.812 1799.08 648.812 Q1794.32 648.812 1791.4 645.178 Q1788.48 641.543 1788.48 635.548 Q1788.48 629.53 1791.4 625.895 Q1794.32 622.261 1799.08 622.261 Q1801.95 622.261 1804.01 623.395 Q1806.08 624.53 1807.39 626.821 L1807.39 622.886 L1811.65 622.886 L1811.65 645.594 Z\" fill=\"#000000\" fill-rule=\"evenodd\" fill-opacity=\"1\" /><path clip-path=\"url(#clip560)\" d=\"M1852.56 626.821 L1852.56 612.794 L1856.82 612.794 L1856.82 648.812 L1852.56 648.812 L1852.56 644.923 Q1851.21 647.238 1849.15 648.372 Q1847.12 649.483 1844.25 649.483 Q1839.55 649.483 1836.58 645.733 Q1833.64 641.983 1833.64 635.872 Q1833.64 629.761 1836.58 626.011 Q1839.55 622.261 1844.25 622.261 Q1847.12 622.261 1849.15 623.395 Q1851.21 624.507 1852.56 626.821 M1838.04 635.872 Q1838.04 640.571 1839.96 643.256 Q1841.91 645.918 1845.29 645.918 Q1848.67 645.918 1850.61 643.256 Q1852.56 640.571 1852.56 635.872 Q1852.56 631.173 1850.61 628.511 Q1848.67 625.826 1845.29 625.826 Q1841.91 625.826 1839.96 628.511 Q1838.04 631.173 1838.04 635.872 Z\" fill=\"#000000\" fill-rule=\"evenodd\" fill-opacity=\"1\" /><path clip-path=\"url(#clip560)\" d=\"M1876.38 651.219 Q1874.57 655.849 1872.86 657.261 Q1871.14 658.673 1868.27 658.673 L1864.87 658.673 L1864.87 655.108 L1867.37 655.108 Q1869.13 655.108 1870.1 654.275 Q1871.07 653.442 1872.26 650.34 L1873.02 648.395 L1862.53 622.886 L1867.05 622.886 L1875.15 643.164 L1883.25 622.886 L1887.76 622.886 L1876.38 651.219 Z\" fill=\"#000000\" fill-rule=\"evenodd\" fill-opacity=\"1\" /><path clip-path=\"url(#clip560)\" d=\"M1915.19 633.164 L1915.19 648.812 L1910.94 648.812 L1910.94 633.303 Q1910.94 629.622 1909.5 627.794 Q1908.07 625.965 1905.19 625.965 Q1901.75 625.965 1899.76 628.164 Q1897.76 630.363 1897.76 634.159 L1897.76 648.812 L1893.48 648.812 L1893.48 622.886 L1897.76 622.886 L1897.76 626.914 Q1899.29 624.576 1901.35 623.419 Q1903.44 622.261 1906.14 622.261 Q1910.61 622.261 1912.9 625.039 Q1915.19 627.794 1915.19 633.164 Z\" fill=\"#000000\" fill-rule=\"evenodd\" fill-opacity=\"1\" /><path clip-path=\"url(#clip560)\" d=\"M1935.47 635.78 Q1930.31 635.78 1928.32 636.96 Q1926.33 638.141 1926.33 640.988 Q1926.33 643.256 1927.81 644.599 Q1929.32 645.918 1931.88 645.918 Q1935.43 645.918 1937.56 643.418 Q1939.71 640.895 1939.71 636.729 L1939.71 635.78 L1935.47 635.78 M1943.97 634.02 L1943.97 648.812 L1939.71 648.812 L1939.71 644.877 Q1938.25 647.238 1936.07 648.372 Q1933.9 649.483 1930.75 649.483 Q1926.77 649.483 1924.41 647.261 Q1922.07 645.016 1922.07 641.266 Q1922.07 636.891 1924.99 634.669 Q1927.93 632.446 1933.74 632.446 L1939.71 632.446 L1939.71 632.03 Q1939.71 629.09 1937.76 627.493 Q1935.84 625.872 1932.35 625.872 Q1930.13 625.872 1928.02 626.405 Q1925.91 626.937 1923.97 628.002 L1923.97 624.067 Q1926.31 623.164 1928.5 622.724 Q1930.7 622.261 1932.79 622.261 Q1938.41 622.261 1941.19 625.178 Q1943.97 628.094 1943.97 634.02 Z\" fill=\"#000000\" fill-rule=\"evenodd\" fill-opacity=\"1\" /><path clip-path=\"url(#clip560)\" d=\"M1972.93 627.863 Q1974.52 624.993 1976.75 623.627 Q1978.97 622.261 1981.98 622.261 Q1986.03 622.261 1988.23 625.108 Q1990.43 627.932 1990.43 633.164 L1990.43 648.812 L1986.14 648.812 L1986.14 633.303 Q1986.14 629.576 1984.82 627.77 Q1983.5 625.965 1980.8 625.965 Q1977.49 625.965 1975.56 628.164 Q1973.64 630.363 1973.64 634.159 L1973.64 648.812 L1969.36 648.812 L1969.36 633.303 Q1969.36 629.553 1968.04 627.77 Q1966.72 625.965 1963.97 625.965 Q1960.7 625.965 1958.78 628.187 Q1956.86 630.386 1956.86 634.159 L1956.86 648.812 L1952.58 648.812 L1952.58 622.886 L1956.86 622.886 L1956.86 626.914 Q1958.32 624.53 1960.36 623.395 Q1962.39 622.261 1965.19 622.261 Q1968.02 622.261 1969.99 623.696 Q1971.98 625.132 1972.93 627.863 Z\" fill=\"#000000\" fill-rule=\"evenodd\" fill-opacity=\"1\" /><path clip-path=\"url(#clip560)\" d=\"M1998.92 622.886 L2003.18 622.886 L2003.18 648.812 L1998.92 648.812 L1998.92 622.886 M1998.92 612.794 L2003.18 612.794 L2003.18 618.187 L1998.92 618.187 L1998.92 612.794 Z\" fill=\"#000000\" fill-rule=\"evenodd\" fill-opacity=\"1\" /><path clip-path=\"url(#clip560)\" d=\"M2030.75 623.882 L2030.75 627.863 Q2028.94 626.868 2027.12 626.382 Q2025.31 625.872 2023.46 625.872 Q2019.31 625.872 2017.02 628.511 Q2014.73 631.127 2014.73 635.872 Q2014.73 640.618 2017.02 643.256 Q2019.31 645.872 2023.46 645.872 Q2025.31 645.872 2027.12 645.386 Q2028.94 644.877 2030.75 643.881 L2030.75 647.817 Q2028.97 648.65 2027.05 649.067 Q2025.15 649.483 2023 649.483 Q2017.14 649.483 2013.69 645.803 Q2010.24 642.122 2010.24 635.872 Q2010.24 629.53 2013.71 625.895 Q2017.21 622.261 2023.27 622.261 Q2025.24 622.261 2027.12 622.678 Q2028.99 623.071 2030.75 623.882 Z\" fill=\"#000000\" fill-rule=\"evenodd\" fill-opacity=\"1\" /><path clip-path=\"url(#clip560)\" d=\"M2054.68 623.65 L2054.68 627.678 Q2052.88 626.752 2050.93 626.289 Q2048.99 625.826 2046.91 625.826 Q2043.74 625.826 2042.14 626.798 Q2040.56 627.77 2040.56 629.715 Q2040.56 631.196 2041.7 632.053 Q2042.83 632.886 2046.26 633.65 L2047.72 633.974 Q2052.25 634.946 2054.15 636.729 Q2056.07 638.488 2056.07 641.659 Q2056.07 645.27 2053.2 647.377 Q2050.36 649.483 2045.36 649.483 Q2043.27 649.483 2041 649.067 Q2038.76 648.673 2036.26 647.863 L2036.26 643.465 Q2038.62 644.692 2040.91 645.317 Q2043.2 645.918 2045.45 645.918 Q2048.46 645.918 2050.08 644.9 Q2051.7 643.858 2051.7 641.983 Q2051.7 640.247 2050.52 639.321 Q2049.36 638.395 2045.4 637.539 L2043.92 637.192 Q2039.96 636.358 2038.2 634.645 Q2036.44 632.909 2036.44 629.9 Q2036.44 626.243 2039.04 624.252 Q2041.63 622.261 2046.4 622.261 Q2048.76 622.261 2050.84 622.608 Q2052.93 622.956 2054.68 623.65 Z\" fill=\"#000000\" fill-rule=\"evenodd\" fill-opacity=\"1\" /><path clip-path=\"url(#clip560)\" d=\"M2062.18 612.84 L2065.89 612.84 Q2069.36 618.303 2071.07 623.534 Q2072.81 628.766 2072.81 633.928 Q2072.81 639.113 2071.07 644.368 Q2069.36 649.622 2065.89 655.062 L2062.18 655.062 Q2065.26 649.761 2066.77 644.53 Q2068.3 639.275 2068.3 633.928 Q2068.3 628.581 2066.77 623.372 Q2065.26 618.164 2062.18 612.84 Z\" fill=\"#000000\" fill-rule=\"evenodd\" fill-opacity=\"1\" /><polyline clip-path=\"url(#clip560)\" style=\"stroke:#009af9; stroke-linecap:butt; stroke-linejoin:round; stroke-width:4; stroke-opacity:1; fill:none\" stroke-dasharray=\"2, 4\" points=\"\n  1533.16,683.372 1673.52,683.372 \n  \"/>\n<path clip-path=\"url(#clip560)\" d=\"M1721.56 674.726 L1712.19 687.342 L1722.05 700.652 L1717.02 700.652 L1709.48 690.467 L1701.93 700.652 L1696.91 700.652 L1706.98 687.087 L1697.77 674.726 L1702.79 674.726 L1709.66 683.962 L1716.54 674.726 L1721.56 674.726 Z\" fill=\"#000000\" fill-rule=\"evenodd\" fill-opacity=\"1\" /><path clip-path=\"url(#clip560)\" d=\"M1753.37 664.68 Q1750.27 670.004 1748.76 675.212 Q1747.26 680.421 1747.26 685.768 Q1747.26 691.115 1748.76 696.37 Q1750.29 701.601 1753.37 706.902 L1749.66 706.902 Q1746.19 701.462 1744.45 696.208 Q1742.74 690.953 1742.74 685.768 Q1742.74 680.606 1744.45 675.374 Q1746.17 670.143 1749.66 664.68 L1753.37 664.68 Z\" fill=\"#000000\" fill-rule=\"evenodd\" fill-opacity=\"1\" /><path clip-path=\"url(#clip560)\" d=\"M1783.18 685.004 L1783.18 700.652 L1778.92 700.652 L1778.92 685.143 Q1778.92 681.462 1777.49 679.634 Q1776.05 677.805 1773.18 677.805 Q1769.73 677.805 1767.74 680.004 Q1765.75 682.203 1765.75 685.999 L1765.75 700.652 L1761.47 700.652 L1761.47 674.726 L1765.75 674.726 L1765.75 678.754 Q1767.28 676.416 1769.34 675.259 Q1771.42 674.101 1774.13 674.101 Q1778.6 674.101 1780.89 676.879 Q1783.18 679.634 1783.18 685.004 Z\" fill=\"#000000\" fill-rule=\"evenodd\" fill-opacity=\"1\" /><path clip-path=\"url(#clip560)\" d=\"M1801.72 677.712 Q1798.3 677.712 1796.31 680.397 Q1794.32 683.059 1794.32 687.712 Q1794.32 692.365 1796.28 695.05 Q1798.27 697.712 1801.72 697.712 Q1805.13 697.712 1807.12 695.027 Q1809.11 692.342 1809.11 687.712 Q1809.11 683.106 1807.12 680.421 Q1805.13 677.712 1801.72 677.712 M1801.72 674.101 Q1807.28 674.101 1810.45 677.712 Q1813.62 681.323 1813.62 687.712 Q1813.62 694.078 1810.45 697.712 Q1807.28 701.323 1801.72 701.323 Q1796.14 701.323 1792.97 697.712 Q1789.83 694.078 1789.83 687.712 Q1789.83 681.323 1792.97 677.712 Q1796.14 674.101 1801.72 674.101 Z\" fill=\"#000000\" fill-rule=\"evenodd\" fill-opacity=\"1\" /><path clip-path=\"url(#clip560)\" d=\"M1840.87 679.703 Q1842.46 676.833 1844.69 675.467 Q1846.91 674.101 1849.92 674.101 Q1853.97 674.101 1856.17 676.948 Q1858.37 679.772 1858.37 685.004 L1858.37 700.652 L1854.08 700.652 L1854.08 685.143 Q1854.08 681.416 1852.76 679.61 Q1851.45 677.805 1848.74 677.805 Q1845.43 677.805 1843.51 680.004 Q1841.58 682.203 1841.58 685.999 L1841.58 700.652 L1837.3 700.652 L1837.3 685.143 Q1837.3 681.393 1835.98 679.61 Q1834.66 677.805 1831.91 677.805 Q1828.64 677.805 1826.72 680.027 Q1824.8 682.226 1824.8 685.999 L1824.8 700.652 L1820.52 700.652 L1820.52 674.726 L1824.8 674.726 L1824.8 678.754 Q1826.26 676.37 1828.3 675.235 Q1830.33 674.101 1833.14 674.101 Q1835.96 674.101 1837.93 675.536 Q1839.92 676.972 1840.87 679.703 Z\" fill=\"#000000\" fill-rule=\"evenodd\" fill-opacity=\"1\" /><path clip-path=\"url(#clip560)\" d=\"M1866.86 674.726 L1871.12 674.726 L1871.12 700.652 L1866.86 700.652 L1866.86 674.726 M1866.86 664.634 L1871.12 664.634 L1871.12 670.027 L1866.86 670.027 L1866.86 664.634 Z\" fill=\"#000000\" fill-rule=\"evenodd\" fill-opacity=\"1\" /><path clip-path=\"url(#clip560)\" d=\"M1901.58 685.004 L1901.58 700.652 L1897.32 700.652 L1897.32 685.143 Q1897.32 681.462 1895.89 679.634 Q1894.45 677.805 1891.58 677.805 Q1888.13 677.805 1886.14 680.004 Q1884.15 682.203 1884.15 685.999 L1884.15 700.652 L1879.87 700.652 L1879.87 674.726 L1884.15 674.726 L1884.15 678.754 Q1885.68 676.416 1887.74 675.259 Q1889.82 674.101 1892.53 674.101 Q1897 674.101 1899.29 676.879 Q1901.58 679.634 1901.58 685.004 Z\" fill=\"#000000\" fill-rule=\"evenodd\" fill-opacity=\"1\" /><path clip-path=\"url(#clip560)\" d=\"M1921.86 687.62 Q1916.7 687.62 1914.71 688.8 Q1912.72 689.981 1912.72 692.828 Q1912.72 695.096 1914.2 696.439 Q1915.7 697.758 1918.27 697.758 Q1921.82 697.758 1923.94 695.258 Q1926.1 692.735 1926.1 688.569 L1926.1 687.62 L1921.86 687.62 M1930.36 685.86 L1930.36 700.652 L1926.1 700.652 L1926.1 696.717 Q1924.64 699.078 1922.46 700.212 Q1920.29 701.323 1917.14 701.323 Q1913.16 701.323 1910.8 699.101 Q1908.46 696.856 1908.46 693.106 Q1908.46 688.731 1911.38 686.509 Q1914.32 684.286 1920.13 684.286 L1926.1 684.286 L1926.1 683.87 Q1926.1 680.93 1924.15 679.333 Q1922.23 677.712 1918.74 677.712 Q1916.51 677.712 1914.41 678.245 Q1912.3 678.777 1910.36 679.842 L1910.36 675.907 Q1912.69 675.004 1914.89 674.564 Q1917.09 674.101 1919.18 674.101 Q1924.8 674.101 1927.58 677.018 Q1930.36 679.934 1930.36 685.86 Z\" fill=\"#000000\" fill-rule=\"evenodd\" fill-opacity=\"1\" /><path clip-path=\"url(#clip560)\" d=\"M1939.13 664.634 L1943.39 664.634 L1943.39 700.652 L1939.13 700.652 L1939.13 664.634 Z\" fill=\"#000000\" fill-rule=\"evenodd\" fill-opacity=\"1\" /><path clip-path=\"url(#clip560)\" d=\"M1989.55 686.624 L1989.55 688.708 L1969.96 688.708 Q1970.24 693.106 1972.6 695.421 Q1974.99 697.712 1979.22 697.712 Q1981.68 697.712 1983.97 697.11 Q1986.28 696.508 1988.55 695.305 L1988.55 699.333 Q1986.26 700.305 1983.85 700.814 Q1981.44 701.323 1978.97 701.323 Q1972.76 701.323 1969.13 697.712 Q1965.52 694.101 1965.52 687.944 Q1965.52 681.578 1968.94 677.851 Q1972.39 674.101 1978.23 674.101 Q1983.46 674.101 1986.49 677.481 Q1989.55 680.837 1989.55 686.624 M1985.29 685.374 Q1985.24 681.879 1983.32 679.796 Q1981.42 677.712 1978.27 677.712 Q1974.71 677.712 1972.56 679.726 Q1970.43 681.74 1970.1 685.397 L1985.29 685.374 Z\" fill=\"#000000\" fill-rule=\"evenodd\" fill-opacity=\"1\" /><path clip-path=\"url(#clip560)\" d=\"M2001.4 669.935 L2001.4 696.809 L2007.05 696.809 Q2014.2 696.809 2017.51 693.569 Q2020.84 690.328 2020.84 683.337 Q2020.84 676.393 2017.51 673.175 Q2014.2 669.935 2007.05 669.935 L2001.4 669.935 M1996.72 666.092 L2006.33 666.092 Q2016.37 666.092 2021.07 670.282 Q2025.77 674.448 2025.77 683.337 Q2025.77 692.272 2021.05 696.462 Q2016.33 700.652 2006.33 700.652 L1996.72 700.652 L1996.72 666.092 Z\" fill=\"#000000\" fill-rule=\"evenodd\" fill-opacity=\"1\" /><path clip-path=\"url(#clip560)\" d=\"M2033.23 666.092 L2040.19 666.092 L2049.01 689.61 L2057.88 666.092 L2064.85 666.092 L2064.85 700.652 L2060.29 700.652 L2060.29 670.305 L2051.37 694.008 L2046.68 694.008 L2037.76 670.305 L2037.76 700.652 L2033.23 700.652 L2033.23 666.092 Z\" fill=\"#000000\" fill-rule=\"evenodd\" fill-opacity=\"1\" /><path clip-path=\"url(#clip560)\" d=\"M2078.81 669.935 L2078.81 696.809 L2084.45 696.809 Q2091.61 696.809 2094.92 693.569 Q2098.25 690.328 2098.25 683.337 Q2098.25 676.393 2094.92 673.175 Q2091.61 669.935 2084.45 669.935 L2078.81 669.935 M2074.13 666.092 L2083.74 666.092 Q2093.78 666.092 2098.48 670.282 Q2103.18 674.448 2103.18 683.337 Q2103.18 692.272 2098.46 696.462 Q2093.74 700.652 2083.74 700.652 L2074.13 700.652 L2074.13 666.092 Z\" fill=\"#000000\" fill-rule=\"evenodd\" fill-opacity=\"1\" /><path clip-path=\"url(#clip560)\" d=\"M2109.78 664.68 L2113.48 664.68 Q2116.95 670.143 2118.67 675.374 Q2120.4 680.606 2120.4 685.768 Q2120.4 690.953 2118.67 696.208 Q2116.95 701.462 2113.48 706.902 L2109.78 706.902 Q2112.86 701.601 2114.36 696.37 Q2115.89 691.115 2115.89 685.768 Q2115.89 680.421 2114.36 675.212 Q2112.86 670.004 2109.78 664.68 Z\" fill=\"#000000\" fill-rule=\"evenodd\" fill-opacity=\"1\" /><polyline clip-path=\"url(#clip560)\" style=\"stroke:#e26f46; stroke-linecap:butt; stroke-linejoin:round; stroke-width:4; stroke-opacity:1; fill:none\" stroke-dasharray=\"2, 4\" points=\"\n  1533.16,735.212 1673.52,735.212 \n  \"/>\n<path clip-path=\"url(#clip560)\" d=\"M1716.17 736.057 L1701.42 736.057 Q1701.77 742.978 1703.37 745.918 Q1705.36 749.529 1708.81 749.529 Q1712.28 749.529 1714.2 745.895 Q1715.89 742.7 1716.17 736.057 M1716.1 732.122 Q1715.45 725.548 1714.2 723.233 Q1712.21 719.575 1708.81 719.575 Q1705.27 719.575 1703.39 723.187 Q1701.91 726.103 1701.47 732.122 L1716.1 732.122 M1708.81 716.103 Q1714.36 716.103 1717.53 721.011 Q1720.71 725.895 1720.71 734.552 Q1720.71 743.186 1717.53 748.094 Q1714.36 753.024 1708.81 753.024 Q1703.23 753.024 1700.08 748.094 Q1696.91 743.186 1696.91 734.552 Q1696.91 725.895 1700.08 721.011 Q1703.23 716.103 1708.81 716.103 Z\" fill=\"#000000\" fill-rule=\"evenodd\" fill-opacity=\"1\" /><path clip-path=\"url(#clip560)\" d=\"M1753.07 716.52 Q1749.96 721.844 1748.46 727.052 Q1746.95 732.261 1746.95 737.608 Q1746.95 742.955 1748.46 748.21 Q1749.99 753.441 1753.07 758.742 L1749.36 758.742 Q1745.89 753.302 1744.15 748.048 Q1742.44 742.793 1742.44 737.608 Q1742.44 732.446 1744.15 727.214 Q1745.87 721.983 1749.36 716.52 L1753.07 716.52 Z\" fill=\"#000000\" fill-rule=\"evenodd\" fill-opacity=\"1\" /><path clip-path=\"url(#clip560)\" d=\"M1782.88 736.844 L1782.88 752.492 L1778.62 752.492 L1778.62 736.983 Q1778.62 733.302 1777.19 731.474 Q1775.75 729.645 1772.88 729.645 Q1769.43 729.645 1767.44 731.844 Q1765.45 734.043 1765.45 737.839 L1765.45 752.492 L1761.17 752.492 L1761.17 726.566 L1765.45 726.566 L1765.45 730.594 Q1766.98 728.256 1769.04 727.099 Q1771.12 725.941 1773.83 725.941 Q1778.3 725.941 1780.59 728.719 Q1782.88 731.474 1782.88 736.844 Z\" fill=\"#000000\" fill-rule=\"evenodd\" fill-opacity=\"1\" /><path clip-path=\"url(#clip560)\" d=\"M1801.42 729.552 Q1798 729.552 1796.01 732.237 Q1794.01 734.899 1794.01 739.552 Q1794.01 744.205 1795.98 746.89 Q1797.97 749.552 1801.42 749.552 Q1804.83 749.552 1806.82 746.867 Q1808.81 744.182 1808.81 739.552 Q1808.81 734.946 1806.82 732.261 Q1804.83 729.552 1801.42 729.552 M1801.42 725.941 Q1806.98 725.941 1810.15 729.552 Q1813.32 733.163 1813.32 739.552 Q1813.32 745.918 1810.15 749.552 Q1806.98 753.163 1801.42 753.163 Q1795.84 753.163 1792.67 749.552 Q1789.52 745.918 1789.52 739.552 Q1789.52 733.163 1792.67 729.552 Q1795.84 725.941 1801.42 725.941 Z\" fill=\"#000000\" fill-rule=\"evenodd\" fill-opacity=\"1\" /><path clip-path=\"url(#clip560)\" d=\"M1840.57 731.543 Q1842.16 728.673 1844.39 727.307 Q1846.61 725.941 1849.62 725.941 Q1853.67 725.941 1855.87 728.788 Q1858.07 731.612 1858.07 736.844 L1858.07 752.492 L1853.78 752.492 L1853.78 736.983 Q1853.78 733.256 1852.46 731.45 Q1851.14 729.645 1848.44 729.645 Q1845.13 729.645 1843.2 731.844 Q1841.28 734.043 1841.28 737.839 L1841.28 752.492 L1837 752.492 L1837 736.983 Q1837 733.233 1835.68 731.45 Q1834.36 729.645 1831.61 729.645 Q1828.34 729.645 1826.42 731.867 Q1824.5 734.066 1824.5 737.839 L1824.5 752.492 L1820.22 752.492 L1820.22 726.566 L1824.5 726.566 L1824.5 730.594 Q1825.96 728.21 1828 727.075 Q1830.03 725.941 1832.83 725.941 Q1835.66 725.941 1837.63 727.376 Q1839.62 728.812 1840.57 731.543 Z\" fill=\"#000000\" fill-rule=\"evenodd\" fill-opacity=\"1\" /><path clip-path=\"url(#clip560)\" d=\"M1866.56 726.566 L1870.82 726.566 L1870.82 752.492 L1866.56 752.492 L1866.56 726.566 M1866.56 716.474 L1870.82 716.474 L1870.82 721.867 L1866.56 721.867 L1866.56 716.474 Z\" fill=\"#000000\" fill-rule=\"evenodd\" fill-opacity=\"1\" /><path clip-path=\"url(#clip560)\" d=\"M1901.28 736.844 L1901.28 752.492 L1897.02 752.492 L1897.02 736.983 Q1897.02 733.302 1895.59 731.474 Q1894.15 729.645 1891.28 729.645 Q1887.83 729.645 1885.84 731.844 Q1883.85 734.043 1883.85 737.839 L1883.85 752.492 L1879.57 752.492 L1879.57 726.566 L1883.85 726.566 L1883.85 730.594 Q1885.38 728.256 1887.44 727.099 Q1889.52 725.941 1892.23 725.941 Q1896.7 725.941 1898.99 728.719 Q1901.28 731.474 1901.28 736.844 Z\" fill=\"#000000\" fill-rule=\"evenodd\" fill-opacity=\"1\" /><path clip-path=\"url(#clip560)\" d=\"M1921.56 739.46 Q1916.4 739.46 1914.41 740.64 Q1912.42 741.821 1912.42 744.668 Q1912.42 746.936 1913.9 748.279 Q1915.4 749.598 1917.97 749.598 Q1921.51 749.598 1923.64 747.098 Q1925.8 744.575 1925.8 740.409 L1925.8 739.46 L1921.56 739.46 M1930.06 737.7 L1930.06 752.492 L1925.8 752.492 L1925.8 748.557 Q1924.34 750.918 1922.16 752.052 Q1919.99 753.163 1916.84 753.163 Q1912.86 753.163 1910.5 750.941 Q1908.16 748.696 1908.16 744.946 Q1908.16 740.571 1911.07 738.349 Q1914.01 736.126 1919.82 736.126 L1925.8 736.126 L1925.8 735.71 Q1925.8 732.77 1923.85 731.173 Q1921.93 729.552 1918.44 729.552 Q1916.21 729.552 1914.11 730.085 Q1912 730.617 1910.06 731.682 L1910.06 727.747 Q1912.39 726.844 1914.59 726.404 Q1916.79 725.941 1918.88 725.941 Q1924.5 725.941 1927.28 728.858 Q1930.06 731.774 1930.06 737.7 Z\" fill=\"#000000\" fill-rule=\"evenodd\" fill-opacity=\"1\" /><path clip-path=\"url(#clip560)\" d=\"M1938.83 716.474 L1943.09 716.474 L1943.09 752.492 L1938.83 752.492 L1938.83 716.474 Z\" fill=\"#000000\" fill-rule=\"evenodd\" fill-opacity=\"1\" /><path clip-path=\"url(#clip560)\" d=\"M1989.25 738.464 L1989.25 740.548 L1969.66 740.548 Q1969.94 744.946 1972.3 747.261 Q1974.69 749.552 1978.92 749.552 Q1981.38 749.552 1983.67 748.95 Q1985.98 748.348 1988.25 747.145 L1988.25 751.173 Q1985.96 752.145 1983.55 752.654 Q1981.14 753.163 1978.67 753.163 Q1972.46 753.163 1968.83 749.552 Q1965.22 745.941 1965.22 739.784 Q1965.22 733.418 1968.64 729.691 Q1972.09 725.941 1977.93 725.941 Q1983.16 725.941 1986.19 729.321 Q1989.25 732.677 1989.25 738.464 M1984.99 737.214 Q1984.94 733.719 1983.02 731.636 Q1981.12 729.552 1977.97 729.552 Q1974.41 729.552 1972.25 731.566 Q1970.13 733.58 1969.8 737.237 L1984.99 737.214 Z\" fill=\"#000000\" fill-rule=\"evenodd\" fill-opacity=\"1\" /><path clip-path=\"url(#clip560)\" d=\"M2001.1 721.775 L2001.1 748.649 L2006.75 748.649 Q2013.9 748.649 2017.21 745.409 Q2020.54 742.168 2020.54 735.177 Q2020.54 728.233 2017.21 725.015 Q2013.9 721.775 2006.75 721.775 L2001.1 721.775 M1996.42 717.932 L2006.03 717.932 Q2016.07 717.932 2020.77 722.122 Q2025.47 726.288 2025.47 735.177 Q2025.47 744.112 2020.75 748.302 Q2016.03 752.492 2006.03 752.492 L1996.42 752.492 L1996.42 717.932 Z\" fill=\"#000000\" fill-rule=\"evenodd\" fill-opacity=\"1\" /><path clip-path=\"url(#clip560)\" d=\"M2032.93 717.932 L2039.89 717.932 L2048.71 741.45 L2057.58 717.932 L2064.55 717.932 L2064.55 752.492 L2059.99 752.492 L2059.99 722.145 L2051.07 745.848 L2046.37 745.848 L2037.46 722.145 L2037.46 752.492 L2032.93 752.492 L2032.93 717.932 Z\" fill=\"#000000\" fill-rule=\"evenodd\" fill-opacity=\"1\" /><path clip-path=\"url(#clip560)\" d=\"M2078.5 721.775 L2078.5 748.649 L2084.15 748.649 Q2091.3 748.649 2094.62 745.409 Q2097.95 742.168 2097.95 735.177 Q2097.95 728.233 2094.62 725.015 Q2091.3 721.775 2084.15 721.775 L2078.5 721.775 M2073.83 717.932 L2083.43 717.932 Q2093.48 717.932 2098.18 722.122 Q2102.88 726.288 2102.88 735.177 Q2102.88 744.112 2098.16 748.302 Q2093.43 752.492 2083.43 752.492 L2073.83 752.492 L2073.83 717.932 Z\" fill=\"#000000\" fill-rule=\"evenodd\" fill-opacity=\"1\" /><path clip-path=\"url(#clip560)\" d=\"M2109.48 716.52 L2113.18 716.52 Q2116.65 721.983 2118.37 727.214 Q2120.1 732.446 2120.1 737.608 Q2120.1 742.793 2118.37 748.048 Q2116.65 753.302 2113.18 758.742 L2109.48 758.742 Q2112.55 753.441 2114.06 748.21 Q2115.59 742.955 2115.59 737.608 Q2115.59 732.261 2114.06 727.052 Q2112.55 721.844 2109.48 716.52 Z\" fill=\"#000000\" fill-rule=\"evenodd\" fill-opacity=\"1\" /><polyline clip-path=\"url(#clip560)\" style=\"stroke:#009af9; stroke-linecap:butt; stroke-linejoin:round; stroke-width:4; stroke-opacity:1; fill:none\" points=\"\n  1533.16,787.052 1673.52,787.052 \n  \"/>\n<path clip-path=\"url(#clip560)\" d=\"M1721.56 778.406 L1712.19 791.022 L1722.05 804.332 L1717.02 804.332 L1709.48 794.147 L1701.93 804.332 L1696.91 804.332 L1706.98 790.767 L1697.77 778.406 L1702.79 778.406 L1709.66 787.642 L1716.54 778.406 L1721.56 778.406 Z\" fill=\"#000000\" fill-rule=\"evenodd\" fill-opacity=\"1\" /><path clip-path=\"url(#clip560)\" d=\"M1753.37 768.36 Q1750.27 773.684 1748.76 778.892 Q1747.26 784.101 1747.26 789.448 Q1747.26 794.795 1748.76 800.05 Q1750.29 805.281 1753.37 810.582 L1749.66 810.582 Q1746.19 805.142 1744.45 799.888 Q1742.74 794.633 1742.74 789.448 Q1742.74 784.286 1744.45 779.054 Q1746.17 773.823 1749.66 768.36 L1753.37 768.36 Z\" fill=\"#000000\" fill-rule=\"evenodd\" fill-opacity=\"1\" /><path clip-path=\"url(#clip560)\" d=\"M1761.63 778.406 L1765.89 778.406 L1765.89 804.795 Q1765.89 809.749 1763.99 811.971 Q1762.12 814.193 1757.93 814.193 L1756.31 814.193 L1756.31 810.582 L1757.44 810.582 Q1759.87 810.582 1760.75 809.448 Q1761.63 808.337 1761.63 804.795 L1761.63 778.406 M1761.63 768.314 L1765.89 768.314 L1765.89 773.707 L1761.63 773.707 L1761.63 768.314 Z\" fill=\"#000000\" fill-rule=\"evenodd\" fill-opacity=\"1\" /><path clip-path=\"url(#clip560)\" d=\"M1786.58 791.3 Q1781.42 791.3 1779.43 792.48 Q1777.44 793.661 1777.44 796.508 Q1777.44 798.776 1778.92 800.119 Q1780.43 801.438 1783 801.438 Q1786.54 801.438 1788.67 798.938 Q1790.82 796.415 1790.82 792.249 L1790.82 791.3 L1786.58 791.3 M1795.08 789.54 L1795.08 804.332 L1790.82 804.332 L1790.82 800.397 Q1789.36 802.758 1787.19 803.892 Q1785.01 805.003 1781.86 805.003 Q1777.88 805.003 1775.52 802.781 Q1773.18 800.536 1773.18 796.786 Q1773.18 792.411 1776.1 790.189 Q1779.04 787.966 1784.85 787.966 L1790.82 787.966 L1790.82 787.55 Q1790.82 784.61 1788.88 783.013 Q1786.95 781.392 1783.46 781.392 Q1781.24 781.392 1779.13 781.925 Q1777.02 782.457 1775.08 783.522 L1775.08 779.587 Q1777.42 778.684 1779.62 778.244 Q1781.82 777.781 1783.9 777.781 Q1789.52 777.781 1792.3 780.698 Q1795.08 783.614 1795.08 789.54 Z\" fill=\"#000000\" fill-rule=\"evenodd\" fill-opacity=\"1\" /><path clip-path=\"url(#clip560)\" d=\"M1822.51 779.402 L1822.51 783.383 Q1820.7 782.388 1818.88 781.902 Q1817.07 781.392 1815.22 781.392 Q1811.08 781.392 1808.78 784.031 Q1806.49 786.647 1806.49 791.392 Q1806.49 796.138 1808.78 798.776 Q1811.08 801.392 1815.22 801.392 Q1817.07 801.392 1818.88 800.906 Q1820.7 800.397 1822.51 799.401 L1822.51 803.337 Q1820.73 804.17 1818.81 804.587 Q1816.91 805.003 1814.76 805.003 Q1808.9 805.003 1805.45 801.323 Q1802 797.642 1802 791.392 Q1802 785.05 1805.47 781.415 Q1808.97 777.781 1815.03 777.781 Q1817 777.781 1818.88 778.198 Q1820.75 778.591 1822.51 779.402 Z\" fill=\"#000000\" fill-rule=\"evenodd\" fill-opacity=\"1\" /><path clip-path=\"url(#clip560)\" d=\"M1839.96 781.392 Q1836.54 781.392 1834.55 784.077 Q1832.56 786.739 1832.56 791.392 Q1832.56 796.045 1834.52 798.73 Q1836.51 801.392 1839.96 801.392 Q1843.37 801.392 1845.36 798.707 Q1847.35 796.022 1847.35 791.392 Q1847.35 786.786 1845.36 784.101 Q1843.37 781.392 1839.96 781.392 M1839.96 777.781 Q1845.52 777.781 1848.69 781.392 Q1851.86 785.003 1851.86 791.392 Q1851.86 797.758 1848.69 801.392 Q1845.52 805.003 1839.96 805.003 Q1834.39 805.003 1831.21 801.392 Q1828.07 797.758 1828.07 791.392 Q1828.07 785.003 1831.21 781.392 Q1834.39 777.781 1839.96 777.781 Z\" fill=\"#000000\" fill-rule=\"evenodd\" fill-opacity=\"1\" /><path clip-path=\"url(#clip560)\" d=\"M1877.53 791.392 Q1877.53 786.693 1875.59 784.031 Q1873.67 781.346 1870.29 781.346 Q1866.91 781.346 1864.96 784.031 Q1863.04 786.693 1863.04 791.392 Q1863.04 796.091 1864.96 798.776 Q1866.91 801.438 1870.29 801.438 Q1873.67 801.438 1875.59 798.776 Q1877.53 796.091 1877.53 791.392 M1863.04 782.341 Q1864.38 780.027 1866.42 778.915 Q1868.48 777.781 1871.33 777.781 Q1876.05 777.781 1878.99 781.531 Q1881.95 785.281 1881.95 791.392 Q1881.95 797.503 1878.99 801.253 Q1876.05 805.003 1871.33 805.003 Q1868.48 805.003 1866.42 803.892 Q1864.38 802.758 1863.04 800.443 L1863.04 804.332 L1858.76 804.332 L1858.76 768.314 L1863.04 768.314 L1863.04 782.341 Z\" fill=\"#000000\" fill-rule=\"evenodd\" fill-opacity=\"1\" /><path clip-path=\"url(#clip560)\" d=\"M1889.01 778.406 L1893.27 778.406 L1893.27 804.332 L1889.01 804.332 L1889.01 778.406 M1889.01 768.314 L1893.27 768.314 L1893.27 773.707 L1889.01 773.707 L1889.01 768.314 Z\" fill=\"#000000\" fill-rule=\"evenodd\" fill-opacity=\"1\" /><path clip-path=\"url(#clip560)\" d=\"M1913.97 791.3 Q1908.81 791.3 1906.82 792.48 Q1904.82 793.661 1904.82 796.508 Q1904.82 798.776 1906.31 800.119 Q1907.81 801.438 1910.38 801.438 Q1913.92 801.438 1916.05 798.938 Q1918.2 796.415 1918.2 792.249 L1918.2 791.3 L1913.97 791.3 M1922.46 789.54 L1922.46 804.332 L1918.2 804.332 L1918.2 800.397 Q1916.75 802.758 1914.57 803.892 Q1912.39 805.003 1909.25 805.003 Q1905.26 805.003 1902.9 802.781 Q1900.57 800.536 1900.57 796.786 Q1900.57 792.411 1903.48 790.189 Q1906.42 787.966 1912.23 787.966 L1918.2 787.966 L1918.2 787.55 Q1918.2 784.61 1916.26 783.013 Q1914.34 781.392 1910.84 781.392 Q1908.62 781.392 1906.51 781.925 Q1904.41 782.457 1902.46 783.522 L1902.46 779.587 Q1904.8 778.684 1907 778.244 Q1909.2 777.781 1911.28 777.781 Q1916.91 777.781 1919.69 780.698 Q1922.46 783.614 1922.46 789.54 Z\" fill=\"#000000\" fill-rule=\"evenodd\" fill-opacity=\"1\" /><path clip-path=\"url(#clip560)\" d=\"M1952.79 788.684 L1952.79 804.332 L1948.53 804.332 L1948.53 788.823 Q1948.53 785.142 1947.09 783.314 Q1945.66 781.485 1942.79 781.485 Q1939.34 781.485 1937.35 783.684 Q1935.36 785.883 1935.36 789.679 L1935.36 804.332 L1931.07 804.332 L1931.07 778.406 L1935.36 778.406 L1935.36 782.434 Q1936.88 780.096 1938.94 778.939 Q1941.03 777.781 1943.74 777.781 Q1948.2 777.781 1950.5 780.559 Q1952.79 783.314 1952.79 788.684 Z\" fill=\"#000000\" fill-rule=\"evenodd\" fill-opacity=\"1\" /><path clip-path=\"url(#clip560)\" d=\"M1959.13 789.448 L1971.61 789.448 L1971.61 793.244 L1959.13 793.244 L1959.13 789.448 Z\" fill=\"#000000\" fill-rule=\"evenodd\" fill-opacity=\"1\" /><path clip-path=\"url(#clip560)\" d=\"M1982.51 800.443 L1982.51 814.193 L1978.23 814.193 L1978.23 778.406 L1982.51 778.406 L1982.51 782.341 Q1983.85 780.027 1985.89 778.915 Q1987.95 777.781 1990.8 777.781 Q1995.52 777.781 1998.46 781.531 Q2001.42 785.281 2001.42 791.392 Q2001.42 797.503 1998.46 801.253 Q1995.52 805.003 1990.8 805.003 Q1987.95 805.003 1985.89 803.892 Q1983.85 802.758 1982.51 800.443 M1997 791.392 Q1997 786.693 1995.06 784.031 Q1993.13 781.346 1989.75 781.346 Q1986.37 781.346 1984.43 784.031 Q1982.51 786.693 1982.51 791.392 Q1982.51 796.091 1984.43 798.776 Q1986.37 801.438 1989.75 801.438 Q1993.13 801.438 1995.06 798.776 Q1997 796.091 1997 791.392 Z\" fill=\"#000000\" fill-rule=\"evenodd\" fill-opacity=\"1\" /><path clip-path=\"url(#clip560)\" d=\"M2030.66 790.304 L2030.66 792.388 L2011.07 792.388 Q2011.35 796.786 2013.71 799.101 Q2016.1 801.392 2020.33 801.392 Q2022.79 801.392 2025.08 800.79 Q2027.39 800.188 2029.66 798.985 L2029.66 803.013 Q2027.37 803.985 2024.96 804.494 Q2022.56 805.003 2020.08 805.003 Q2013.87 805.003 2010.24 801.392 Q2006.63 797.781 2006.63 791.624 Q2006.63 785.258 2010.06 781.531 Q2013.5 777.781 2019.34 777.781 Q2024.57 777.781 2027.6 781.161 Q2030.66 784.517 2030.66 790.304 M2026.4 789.054 Q2026.35 785.559 2024.43 783.476 Q2022.53 781.392 2019.38 781.392 Q2015.82 781.392 2013.67 783.406 Q2011.54 785.42 2011.21 789.077 L2026.4 789.054 Z\" fill=\"#000000\" fill-rule=\"evenodd\" fill-opacity=\"1\" /><path clip-path=\"url(#clip560)\" d=\"M2059.2 788.684 L2059.2 804.332 L2054.94 804.332 L2054.94 788.823 Q2054.94 785.142 2053.5 783.314 Q2052.07 781.485 2049.2 781.485 Q2045.75 781.485 2043.76 783.684 Q2041.77 785.883 2041.77 789.679 L2041.77 804.332 L2037.49 804.332 L2037.49 778.406 L2041.77 778.406 L2041.77 782.434 Q2043.3 780.096 2045.36 778.939 Q2047.44 777.781 2050.15 777.781 Q2054.62 777.781 2056.91 780.559 Q2059.2 783.314 2059.2 788.684 Z\" fill=\"#000000\" fill-rule=\"evenodd\" fill-opacity=\"1\" /><path clip-path=\"url(#clip560)\" d=\"M2104.94 790.304 L2104.94 792.388 L2085.36 792.388 Q2085.63 796.786 2087.99 799.101 Q2090.38 801.392 2094.62 801.392 Q2097.07 801.392 2099.36 800.79 Q2101.68 800.188 2103.94 798.985 L2103.94 803.013 Q2101.65 803.985 2099.24 804.494 Q2096.84 805.003 2094.36 805.003 Q2088.16 805.003 2084.52 801.392 Q2080.91 797.781 2080.91 791.624 Q2080.91 785.258 2084.34 781.531 Q2087.79 777.781 2093.62 777.781 Q2098.85 777.781 2101.88 781.161 Q2104.94 784.517 2104.94 790.304 M2100.68 789.054 Q2100.63 785.559 2098.71 783.476 Q2096.81 781.392 2093.67 781.392 Q2090.1 781.392 2087.95 783.406 Q2085.82 785.42 2085.49 789.077 L2100.68 789.054 Z\" fill=\"#000000\" fill-rule=\"evenodd\" fill-opacity=\"1\" /><path clip-path=\"url(#clip560)\" d=\"M2116.79 773.615 L2116.79 800.489 L2122.44 800.489 Q2129.59 800.489 2132.9 797.249 Q2136.24 794.008 2136.24 787.017 Q2136.24 780.073 2132.9 776.855 Q2129.59 773.615 2122.44 773.615 L2116.79 773.615 M2112.12 769.772 L2121.72 769.772 Q2131.77 769.772 2136.47 773.962 Q2141.17 778.128 2141.17 787.017 Q2141.17 795.952 2136.44 800.142 Q2131.72 804.332 2121.72 804.332 L2112.12 804.332 L2112.12 769.772 Z\" fill=\"#000000\" fill-rule=\"evenodd\" fill-opacity=\"1\" /><path clip-path=\"url(#clip560)\" d=\"M2148.62 769.772 L2155.59 769.772 L2164.41 793.29 L2173.27 769.772 L2180.24 769.772 L2180.24 804.332 L2175.68 804.332 L2175.68 773.985 L2166.77 797.688 L2162.07 797.688 L2153.16 773.985 L2153.16 804.332 L2148.62 804.332 L2148.62 769.772 Z\" fill=\"#000000\" fill-rule=\"evenodd\" fill-opacity=\"1\" /><path clip-path=\"url(#clip560)\" d=\"M2194.2 773.615 L2194.2 800.489 L2199.85 800.489 Q2207 800.489 2210.31 797.249 Q2213.64 794.008 2213.64 787.017 Q2213.64 780.073 2210.31 776.855 Q2207 773.615 2199.85 773.615 L2194.2 773.615 M2189.52 769.772 L2199.13 769.772 Q2209.17 769.772 2213.87 773.962 Q2218.57 778.128 2218.57 787.017 Q2218.57 795.952 2213.85 800.142 Q2209.13 804.332 2199.13 804.332 L2189.52 804.332 L2189.52 769.772 Z\" fill=\"#000000\" fill-rule=\"evenodd\" fill-opacity=\"1\" /><path clip-path=\"url(#clip560)\" d=\"M2225.17 768.36 L2228.87 768.36 Q2232.35 773.823 2234.06 779.054 Q2235.79 784.286 2235.79 789.448 Q2235.79 794.633 2234.06 799.888 Q2232.35 805.142 2228.87 810.582 L2225.17 810.582 Q2228.25 805.281 2229.75 800.05 Q2231.28 794.795 2231.28 789.448 Q2231.28 784.101 2229.75 778.892 Q2228.25 773.684 2225.17 768.36 Z\" fill=\"#000000\" fill-rule=\"evenodd\" fill-opacity=\"1\" /><polyline clip-path=\"url(#clip560)\" style=\"stroke:#e26f46; stroke-linecap:butt; stroke-linejoin:round; stroke-width:4; stroke-opacity:1; fill:none\" points=\"\n  1533.16,838.892 1673.52,838.892 \n  \"/>\n<path clip-path=\"url(#clip560)\" d=\"M1716.17 839.737 L1701.42 839.737 Q1701.77 846.658 1703.37 849.598 Q1705.36 853.209 1708.81 853.209 Q1712.28 853.209 1714.2 849.575 Q1715.89 846.38 1716.17 839.737 M1716.1 835.802 Q1715.45 829.228 1714.2 826.913 Q1712.21 823.255 1708.81 823.255 Q1705.27 823.255 1703.39 826.867 Q1701.91 829.783 1701.47 835.802 L1716.1 835.802 M1708.81 819.783 Q1714.36 819.783 1717.53 824.691 Q1720.71 829.575 1720.71 838.232 Q1720.71 846.866 1717.53 851.774 Q1714.36 856.704 1708.81 856.704 Q1703.23 856.704 1700.08 851.774 Q1696.91 846.866 1696.91 838.232 Q1696.91 829.575 1700.08 824.691 Q1703.23 819.783 1708.81 819.783 Z\" fill=\"#000000\" fill-rule=\"evenodd\" fill-opacity=\"1\" /><path clip-path=\"url(#clip560)\" d=\"M1753.07 820.2 Q1749.96 825.524 1748.46 830.732 Q1746.95 835.941 1746.95 841.288 Q1746.95 846.635 1748.46 851.89 Q1749.99 857.121 1753.07 862.422 L1749.36 862.422 Q1745.89 856.982 1744.15 851.728 Q1742.44 846.473 1742.44 841.288 Q1742.44 836.126 1744.15 830.894 Q1745.87 825.663 1749.36 820.2 L1753.07 820.2 Z\" fill=\"#000000\" fill-rule=\"evenodd\" fill-opacity=\"1\" /><path clip-path=\"url(#clip560)\" d=\"M1761.33 830.246 L1765.59 830.246 L1765.59 856.635 Q1765.59 861.589 1763.69 863.811 Q1761.82 866.033 1757.63 866.033 L1756.01 866.033 L1756.01 862.422 L1757.14 862.422 Q1759.57 862.422 1760.45 861.288 Q1761.33 860.177 1761.33 856.635 L1761.33 830.246 M1761.33 820.154 L1765.59 820.154 L1765.59 825.547 L1761.33 825.547 L1761.33 820.154 Z\" fill=\"#000000\" fill-rule=\"evenodd\" fill-opacity=\"1\" /><path clip-path=\"url(#clip560)\" d=\"M1786.28 843.14 Q1781.12 843.14 1779.13 844.32 Q1777.14 845.501 1777.14 848.348 Q1777.14 850.616 1778.62 851.959 Q1780.13 853.278 1782.7 853.278 Q1786.24 853.278 1788.37 850.778 Q1790.52 848.255 1790.52 844.089 L1790.52 843.14 L1786.28 843.14 M1794.78 841.38 L1794.78 856.172 L1790.52 856.172 L1790.52 852.237 Q1789.06 854.598 1786.89 855.732 Q1784.71 856.843 1781.56 856.843 Q1777.58 856.843 1775.22 854.621 Q1772.88 852.376 1772.88 848.626 Q1772.88 844.251 1775.8 842.029 Q1778.74 839.806 1784.55 839.806 L1790.52 839.806 L1790.52 839.39 Q1790.52 836.45 1788.58 834.853 Q1786.65 833.232 1783.16 833.232 Q1780.94 833.232 1778.83 833.765 Q1776.72 834.297 1774.78 835.362 L1774.78 831.427 Q1777.12 830.524 1779.32 830.084 Q1781.51 829.621 1783.6 829.621 Q1789.22 829.621 1792 832.538 Q1794.78 835.454 1794.78 841.38 Z\" fill=\"#000000\" fill-rule=\"evenodd\" fill-opacity=\"1\" /><path clip-path=\"url(#clip560)\" d=\"M1822.21 831.242 L1822.21 835.223 Q1820.4 834.228 1818.57 833.742 Q1816.77 833.232 1814.92 833.232 Q1810.77 833.232 1808.48 835.871 Q1806.19 838.487 1806.19 843.232 Q1806.19 847.978 1808.48 850.616 Q1810.77 853.232 1814.92 853.232 Q1816.77 853.232 1818.57 852.746 Q1820.4 852.237 1822.21 851.241 L1822.21 855.177 Q1820.43 856.01 1818.51 856.427 Q1816.61 856.843 1814.45 856.843 Q1808.6 856.843 1805.15 853.163 Q1801.7 849.482 1801.7 843.232 Q1801.7 836.89 1805.17 833.255 Q1808.67 829.621 1814.73 829.621 Q1816.7 829.621 1818.57 830.038 Q1820.45 830.431 1822.21 831.242 Z\" fill=\"#000000\" fill-rule=\"evenodd\" fill-opacity=\"1\" /><path clip-path=\"url(#clip560)\" d=\"M1839.66 833.232 Q1836.24 833.232 1834.25 835.917 Q1832.26 838.579 1832.26 843.232 Q1832.26 847.885 1834.22 850.57 Q1836.21 853.232 1839.66 853.232 Q1843.07 853.232 1845.06 850.547 Q1847.05 847.862 1847.05 843.232 Q1847.05 838.626 1845.06 835.941 Q1843.07 833.232 1839.66 833.232 M1839.66 829.621 Q1845.22 829.621 1848.39 833.232 Q1851.56 836.843 1851.56 843.232 Q1851.56 849.598 1848.39 853.232 Q1845.22 856.843 1839.66 856.843 Q1834.08 856.843 1830.91 853.232 Q1827.76 849.598 1827.76 843.232 Q1827.76 836.843 1830.91 833.232 Q1834.08 829.621 1839.66 829.621 Z\" fill=\"#000000\" fill-rule=\"evenodd\" fill-opacity=\"1\" /><path clip-path=\"url(#clip560)\" d=\"M1877.23 843.232 Q1877.23 838.533 1875.29 835.871 Q1873.37 833.186 1869.99 833.186 Q1866.61 833.186 1864.66 835.871 Q1862.74 838.533 1862.74 843.232 Q1862.74 847.931 1864.66 850.616 Q1866.61 853.278 1869.99 853.278 Q1873.37 853.278 1875.29 850.616 Q1877.23 847.931 1877.23 843.232 M1862.74 834.181 Q1864.08 831.867 1866.12 830.755 Q1868.18 829.621 1871.03 829.621 Q1875.75 829.621 1878.69 833.371 Q1881.65 837.121 1881.65 843.232 Q1881.65 849.343 1878.69 853.093 Q1875.75 856.843 1871.03 856.843 Q1868.18 856.843 1866.12 855.732 Q1864.08 854.598 1862.74 852.283 L1862.74 856.172 L1858.46 856.172 L1858.46 820.154 L1862.74 820.154 L1862.74 834.181 Z\" fill=\"#000000\" fill-rule=\"evenodd\" fill-opacity=\"1\" /><path clip-path=\"url(#clip560)\" d=\"M1888.71 830.246 L1892.97 830.246 L1892.97 856.172 L1888.71 856.172 L1888.71 830.246 M1888.71 820.154 L1892.97 820.154 L1892.97 825.547 L1888.71 825.547 L1888.71 820.154 Z\" fill=\"#000000\" fill-rule=\"evenodd\" fill-opacity=\"1\" /><path clip-path=\"url(#clip560)\" d=\"M1913.67 843.14 Q1908.51 843.14 1906.51 844.32 Q1904.52 845.501 1904.52 848.348 Q1904.52 850.616 1906.01 851.959 Q1907.51 853.278 1910.08 853.278 Q1913.62 853.278 1915.75 850.778 Q1917.9 848.255 1917.9 844.089 L1917.9 843.14 L1913.67 843.14 M1922.16 841.38 L1922.16 856.172 L1917.9 856.172 L1917.9 852.237 Q1916.44 854.598 1914.27 855.732 Q1912.09 856.843 1908.94 856.843 Q1904.96 856.843 1902.6 854.621 Q1900.26 852.376 1900.26 848.626 Q1900.26 844.251 1903.18 842.029 Q1906.12 839.806 1911.93 839.806 L1917.9 839.806 L1917.9 839.39 Q1917.9 836.45 1915.96 834.853 Q1914.04 833.232 1910.54 833.232 Q1908.32 833.232 1906.21 833.765 Q1904.11 834.297 1902.16 835.362 L1902.16 831.427 Q1904.5 830.524 1906.7 830.084 Q1908.9 829.621 1910.98 829.621 Q1916.61 829.621 1919.38 832.538 Q1922.16 835.454 1922.16 841.38 Z\" fill=\"#000000\" fill-rule=\"evenodd\" fill-opacity=\"1\" /><path clip-path=\"url(#clip560)\" d=\"M1952.49 840.524 L1952.49 856.172 L1948.23 856.172 L1948.23 840.663 Q1948.23 836.982 1946.79 835.154 Q1945.36 833.325 1942.49 833.325 Q1939.04 833.325 1937.05 835.524 Q1935.06 837.723 1935.06 841.519 L1935.06 856.172 L1930.77 856.172 L1930.77 830.246 L1935.06 830.246 L1935.06 834.274 Q1936.58 831.936 1938.64 830.779 Q1940.73 829.621 1943.44 829.621 Q1947.9 829.621 1950.19 832.399 Q1952.49 835.154 1952.49 840.524 Z\" fill=\"#000000\" fill-rule=\"evenodd\" fill-opacity=\"1\" /><path clip-path=\"url(#clip560)\" d=\"M1958.83 841.288 L1971.31 841.288 L1971.31 845.084 L1958.83 845.084 L1958.83 841.288 Z\" fill=\"#000000\" fill-rule=\"evenodd\" fill-opacity=\"1\" /><path clip-path=\"url(#clip560)\" d=\"M1982.21 852.283 L1982.21 866.033 L1977.93 866.033 L1977.93 830.246 L1982.21 830.246 L1982.21 834.181 Q1983.55 831.867 1985.59 830.755 Q1987.65 829.621 1990.5 829.621 Q1995.22 829.621 1998.16 833.371 Q2001.12 837.121 2001.12 843.232 Q2001.12 849.343 1998.16 853.093 Q1995.22 856.843 1990.5 856.843 Q1987.65 856.843 1985.59 855.732 Q1983.55 854.598 1982.21 852.283 M1996.7 843.232 Q1996.7 838.533 1994.75 835.871 Q1992.83 833.186 1989.45 833.186 Q1986.07 833.186 1984.13 835.871 Q1982.21 838.533 1982.21 843.232 Q1982.21 847.931 1984.13 850.616 Q1986.07 853.278 1989.45 853.278 Q1992.83 853.278 1994.75 850.616 Q1996.7 847.931 1996.7 843.232 Z\" fill=\"#000000\" fill-rule=\"evenodd\" fill-opacity=\"1\" /><path clip-path=\"url(#clip560)\" d=\"M2030.36 842.144 L2030.36 844.228 L2010.77 844.228 Q2011.05 848.626 2013.41 850.941 Q2015.8 853.232 2020.03 853.232 Q2022.49 853.232 2024.78 852.63 Q2027.09 852.028 2029.36 850.825 L2029.36 854.853 Q2027.07 855.825 2024.66 856.334 Q2022.25 856.843 2019.78 856.843 Q2013.57 856.843 2009.94 853.232 Q2006.33 849.621 2006.33 843.464 Q2006.33 837.098 2009.75 833.371 Q2013.2 829.621 2019.04 829.621 Q2024.27 829.621 2027.3 833.001 Q2030.36 836.357 2030.36 842.144 M2026.1 840.894 Q2026.05 837.399 2024.13 835.316 Q2022.23 833.232 2019.08 833.232 Q2015.52 833.232 2013.37 835.246 Q2011.24 837.26 2010.91 840.917 L2026.1 840.894 Z\" fill=\"#000000\" fill-rule=\"evenodd\" fill-opacity=\"1\" /><path clip-path=\"url(#clip560)\" d=\"M2058.9 840.524 L2058.9 856.172 L2054.64 856.172 L2054.64 840.663 Q2054.64 836.982 2053.2 835.154 Q2051.77 833.325 2048.9 833.325 Q2045.45 833.325 2043.46 835.524 Q2041.47 837.723 2041.47 841.519 L2041.47 856.172 L2037.18 856.172 L2037.18 830.246 L2041.47 830.246 L2041.47 834.274 Q2043 831.936 2045.06 830.779 Q2047.14 829.621 2049.85 829.621 Q2054.31 829.621 2056.61 832.399 Q2058.9 835.154 2058.9 840.524 Z\" fill=\"#000000\" fill-rule=\"evenodd\" fill-opacity=\"1\" /><path clip-path=\"url(#clip560)\" d=\"M2104.64 842.144 L2104.64 844.228 L2085.06 844.228 Q2085.33 848.626 2087.69 850.941 Q2090.08 853.232 2094.31 853.232 Q2096.77 853.232 2099.06 852.63 Q2101.37 852.028 2103.64 850.825 L2103.64 854.853 Q2101.35 855.825 2098.94 856.334 Q2096.54 856.843 2094.06 856.843 Q2087.86 856.843 2084.22 853.232 Q2080.61 849.621 2080.61 843.464 Q2080.61 837.098 2084.04 833.371 Q2087.49 829.621 2093.32 829.621 Q2098.55 829.621 2101.58 833.001 Q2104.64 836.357 2104.64 842.144 M2100.38 840.894 Q2100.33 837.399 2098.41 835.316 Q2096.51 833.232 2093.37 833.232 Q2089.8 833.232 2087.65 835.246 Q2085.52 837.26 2085.19 840.917 L2100.38 840.894 Z\" fill=\"#000000\" fill-rule=\"evenodd\" fill-opacity=\"1\" /><path clip-path=\"url(#clip560)\" d=\"M2116.49 825.455 L2116.49 852.329 L2122.14 852.329 Q2129.29 852.329 2132.6 849.089 Q2135.93 845.848 2135.93 838.857 Q2135.93 831.913 2132.6 828.695 Q2129.29 825.455 2122.14 825.455 L2116.49 825.455 M2111.81 821.612 L2121.42 821.612 Q2131.47 821.612 2136.17 825.802 Q2140.86 829.968 2140.86 838.857 Q2140.86 847.792 2136.14 851.982 Q2131.42 856.172 2121.42 856.172 L2111.81 856.172 L2111.81 821.612 Z\" fill=\"#000000\" fill-rule=\"evenodd\" fill-opacity=\"1\" /><path clip-path=\"url(#clip560)\" d=\"M2148.32 821.612 L2155.29 821.612 L2164.11 845.13 L2172.97 821.612 L2179.94 821.612 L2179.94 856.172 L2175.38 856.172 L2175.38 825.825 L2166.47 849.528 L2161.77 849.528 L2152.86 825.825 L2152.86 856.172 L2148.32 856.172 L2148.32 821.612 Z\" fill=\"#000000\" fill-rule=\"evenodd\" fill-opacity=\"1\" /><path clip-path=\"url(#clip560)\" d=\"M2193.9 825.455 L2193.9 852.329 L2199.55 852.329 Q2206.7 852.329 2210.01 849.089 Q2213.34 845.848 2213.34 838.857 Q2213.34 831.913 2210.01 828.695 Q2206.7 825.455 2199.55 825.455 L2193.9 825.455 M2189.22 821.612 L2198.83 821.612 Q2208.87 821.612 2213.57 825.802 Q2218.27 829.968 2218.27 838.857 Q2218.27 847.792 2213.55 851.982 Q2208.83 856.172 2198.83 856.172 L2189.22 856.172 L2189.22 821.612 Z\" fill=\"#000000\" fill-rule=\"evenodd\" fill-opacity=\"1\" /><path clip-path=\"url(#clip560)\" d=\"M2224.87 820.2 L2228.57 820.2 Q2232.04 825.663 2233.76 830.894 Q2235.49 836.126 2235.49 841.288 Q2235.49 846.473 2233.76 851.728 Q2232.04 856.982 2228.57 862.422 L2224.87 862.422 Q2227.95 857.121 2229.45 851.89 Q2230.98 846.635 2230.98 841.288 Q2230.98 835.941 2229.45 830.732 Q2227.95 825.524 2224.87 820.2 Z\" fill=\"#000000\" fill-rule=\"evenodd\" fill-opacity=\"1\" /></svg>\n"
     },
     "execution_count": 45,
     "metadata": {},
     "output_type": "execute_result"
    }
   ],
   "source": [
    "tf_sim = 3.0\n",
    "Tsim_lqr_jacpen = range(0,tf_sim,step=dt)\n",
    "\n",
    "x0 = [-0.4,pi-deg2rad(40),0,0]\n",
    "\n",
    "ctrl_lqr_jacpen = LQRController(K_bil_jacpen, xe, ue)\n",
    "Xsim_lqr_jacpen, = simulatewithcontroller(dmodel, ctrl_lqr_jacpen, x0, tf_sim, dt)\n",
    "\n",
    "plotstates(Tsim_lqr_nominal, Xsim_lqr_og, inds=1:2, xlabel=\"time (s)\", ylabel=\"states\",\n",
    "            label=[\"x (og dynamics)\" \"θ (og dynamics)\"], legend=:right, lw=2,\n",
    "            linestyle=:dash, color=[1 2])\n",
    "plotstates!(Tsim_lqr_nominal, Xsim_lqr_nominal, inds=1:2, xlabel=\"time (s)\", ylabel=\"states\",\n",
    "            label=[\"x (nominal eDMD)\" \"θ (nominal eDMD)\"], legend=:right, lw=2,\n",
    "            linestyle=:dot, color=[1 2])\n",
    "plotstates!(Tsim_lqr_jacpen, Xsim_lqr_jacpen, inds=1:2, xlabel=\"time (s)\", ylabel=\"states\",\n",
    "            label=[\"x (jacobian-pen eDMD)\" \"θ (jacobian-pen eDMD)\"], legend=:right, lw=2,\n",
    "            color=[1 2])"
   ]
  },
  {
   "cell_type": "code",
   "execution_count": 46,
   "metadata": {},
   "outputs": [
    {
     "data": {
      "text/html": [
       "    <div style=\"height: 500px; width: 100%; overflow-x: auto; overflow-y: hidden; resize: both\">\n",
       "    <iframe src=\"http://127.0.0.1:8701\" style=\"width: 100%; height: 100%; border: none\"></iframe>\n",
       "    </div>\n"
      ],
      "text/plain": [
       "MeshCat.DisplayedVisualizer(MeshCat.CoreVisualizer(MeshCat.SceneTrees.SceneNode(nothing, nothing, Dict{String, Vector{UInt8}}(), nothing, Dict{String, MeshCat.SceneTrees.SceneNode}(\"meshcat\" => MeshCat.SceneTrees.SceneNode(nothing, nothing, Dict{String, Vector{UInt8}}(), nothing, Dict{String, MeshCat.SceneTrees.SceneNode}(\"robot\" => MeshCat.SceneTrees.SceneNode(nothing, nothing, Dict{String, Vector{UInt8}}(), nothing, Dict{String, MeshCat.SceneTrees.SceneNode}(\"rod\" => MeshCat.SceneTrees.SceneNode(UInt8[0x83, 0xa6, 0x6f, 0x62, 0x6a, 0x65, 0x63, 0x74, 0x84, 0xaa  …  0x2f, 0x72, 0x6f, 0x62, 0x6f, 0x74, 0x2f, 0x72, 0x6f, 0x64], nothing, Dict{String, Vector{UInt8}}(), nothing, Dict{String, MeshCat.SceneTrees.SceneNode}()), \"cart\" => MeshCat.SceneTrees.SceneNode(nothing, nothing, Dict{String, Vector{UInt8}}(), nothing, Dict{String, MeshCat.SceneTrees.SceneNode}(\"pole\" => MeshCat.SceneTrees.SceneNode(nothing, UInt8[0x83, 0xa6, 0x6d, 0x61, 0x74, 0x72, 0x69, 0x78, 0xc7, 0x40  …  0x2f, 0x63, 0x61, 0x72, 0x74, 0x2f, 0x70, 0x6f, 0x6c, 0x65], Dict{String, Vector{UInt8}}(), nothing, Dict{String, MeshCat.SceneTrees.SceneNode}(\"geom\" => MeshCat.SceneTrees.SceneNode(nothing, nothing, Dict{String, Vector{UInt8}}(), nothing, Dict{String, MeshCat.SceneTrees.SceneNode}(\"cyl\" => MeshCat.SceneTrees.SceneNode(UInt8[0x83, 0xa6, 0x6f, 0x62, 0x6a, 0x65, 0x63, 0x74, 0x84, 0xaa  …  0x65, 0x2f, 0x67, 0x65, 0x6f, 0x6d, 0x2f, 0x63, 0x79, 0x6c], nothing, Dict{String, Vector{UInt8}}(), nothing, Dict{String, MeshCat.SceneTrees.SceneNode}()), \"mass\" => MeshCat.SceneTrees.SceneNode(UInt8[0x83, 0xa6, 0x6f, 0x62, 0x6a, 0x65, 0x63, 0x74, 0x84, 0xaa  …  0x2f, 0x67, 0x65, 0x6f, 0x6d, 0x2f, 0x6d, 0x61, 0x73, 0x73], nothing, Dict{String, Vector{UInt8}}(), nothing, Dict{String, MeshCat.SceneTrees.SceneNode}()))))), \"box\" => MeshCat.SceneTrees.SceneNode(UInt8[0x83, 0xa6, 0x6f, 0x62, 0x6a, 0x65, 0x63, 0x74, 0x84, 0xaa  …  0x74, 0x2f, 0x63, 0x61, 0x72, 0x74, 0x2f, 0x62, 0x6f, 0x78], nothing, Dict{String, Vector{UInt8}}(), nothing, Dict{String, MeshCat.SceneTrees.SceneNode}()), \"hinge\" => MeshCat.SceneTrees.SceneNode(UInt8[0x83, 0xa6, 0x6f, 0x62, 0x6a, 0x65, 0x63, 0x74, 0x84, 0xaa  …  0x63, 0x61, 0x72, 0x74, 0x2f, 0x68, 0x69, 0x6e, 0x67, 0x65], nothing, Dict{String, Vector{UInt8}}(), nothing, Dict{String, MeshCat.SceneTrees.SceneNode}()))))))))), Set(Any[WebSocket(server, \u001b[32mCONNECTED\u001b[39m)]), ip\"127.0.0.1\", 8701))"
      ]
     },
     "execution_count": 46,
     "metadata": {},
     "output_type": "execute_result"
    }
   ],
   "source": [
    "render(vis)"
   ]
  },
  {
   "cell_type": "code",
   "execution_count": 47,
   "metadata": {},
   "outputs": [],
   "source": [
    "# visualize!(vis, model, tf_sim, Xsim_lqr_nominal)\n",
    "visualize!(vis, model, tf_sim, Xsim_lqr_jacpen)"
   ]
  }
 ],
 "metadata": {
  "kernelspec": {
   "display_name": "Julia (8 threads) 1.7.2",
   "language": "julia",
   "name": "julia-(8-threads)-1.7"
  },
  "language_info": {
   "file_extension": ".jl",
   "mimetype": "application/julia",
   "name": "julia",
   "version": "1.7.2"
  },
  "orig_nbformat": 4
 },
 "nbformat": 4,
 "nbformat_minor": 2
}
