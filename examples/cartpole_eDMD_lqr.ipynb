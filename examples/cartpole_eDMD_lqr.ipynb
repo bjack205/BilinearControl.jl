{
 "cells": [
  {
   "cell_type": "code",
   "execution_count": 1,
   "metadata": {},
   "outputs": [
    {
     "name": "stderr",
     "output_type": "stream",
     "text": [
      "\u001b[32m\u001b[1m  Activating\u001b[22m\u001b[39m project at `~/.julia/dev/BilinearControl/examples`\n"
     ]
    }
   ],
   "source": [
    "import Pkg; Pkg.activate(joinpath(@__DIR__)); Pkg.instantiate();\n",
    "using BilinearControl\n",
    "using BilinearControl.Problems\n",
    "using BilinearControl.EDMD\n",
    "import RobotDynamics as RD\n",
    "using LinearAlgebra\n",
    "using RobotZoo\n",
    "using JLD2\n",
    "using SparseArrays\n",
    "using Plots\n",
    "using Distributions\n",
    "using Distributions: Normal\n",
    "using Random\n",
    "using FiniteDiff, ForwardDiff\n",
    "using Test"
   ]
  },
  {
   "cell_type": "code",
   "execution_count": 2,
   "metadata": {},
   "outputs": [
    {
     "data": {
      "text/plain": [
       "10"
      ]
     },
     "execution_count": 2,
     "metadata": {},
     "output_type": "execute_result"
    }
   ],
   "source": [
    "Threads.nthreads()"
   ]
  },
  {
   "cell_type": "code",
   "execution_count": 3,
   "metadata": {},
   "outputs": [],
   "source": [
    "include(\"learned_models/edmd_utils.jl\");"
   ]
  },
  {
   "cell_type": "code",
   "execution_count": 4,
   "metadata": {},
   "outputs": [
    {
     "name": "stderr",
     "output_type": "stream",
     "text": [
      "WARNING: using GeometryBasics.Normal in module Main conflicts with an existing identifier.\n",
      "┌ Info: MeshCat server started. You can open the visualizer by visiting the following URL in your browser:\n",
      "│ http://127.0.0.1:8701\n",
      "└ @ MeshCat /home/jeonghun/.julia/packages/MeshCat/Ax8pH/src/visualizer.jl:73\n"
     ]
    },
    {
     "data": {
      "text/plain": [
       "MeshCat Visualizer with path /meshcat/robot/cart/pole at http://127.0.0.1:8701"
      ]
     },
     "execution_count": 4,
     "metadata": {},
     "output_type": "execute_result"
    }
   ],
   "source": [
    "## Visualizer\n",
    "model = Cartpole2()\n",
    "include(joinpath(Problems.VISDIR, \"visualization.jl\"))\n",
    "vis = Visualizer()\n",
    "delete!(vis)\n",
    "set_cartpole!(vis)"
   ]
  },
  {
   "cell_type": "code",
   "execution_count": 5,
   "metadata": {},
   "outputs": [
    {
     "data": {
      "text/html": [
       "    <div style=\"height: 500px; width: 100%; overflow-x: auto; overflow-y: hidden; resize: both\">\n",
       "    <iframe src=\"http://127.0.0.1:8701\" style=\"width: 100%; height: 100%; border: none\"></iframe>\n",
       "    </div>\n"
      ],
      "text/plain": [
       "MeshCat.DisplayedVisualizer(MeshCat.CoreVisualizer(MeshCat.SceneTrees.SceneNode(nothing, nothing, Dict{String, Vector{UInt8}}(), nothing, Dict{String, MeshCat.SceneTrees.SceneNode}(\"meshcat\" => MeshCat.SceneTrees.SceneNode(nothing, nothing, Dict{String, Vector{UInt8}}(), nothing, Dict{String, MeshCat.SceneTrees.SceneNode}(\"robot\" => MeshCat.SceneTrees.SceneNode(nothing, nothing, Dict{String, Vector{UInt8}}(), nothing, Dict{String, MeshCat.SceneTrees.SceneNode}(\"rod\" => MeshCat.SceneTrees.SceneNode(UInt8[0x83, 0xa6, 0x6f, 0x62, 0x6a, 0x65, 0x63, 0x74, 0x84, 0xaa  …  0x2f, 0x72, 0x6f, 0x62, 0x6f, 0x74, 0x2f, 0x72, 0x6f, 0x64], nothing, Dict{String, Vector{UInt8}}(), nothing, Dict{String, MeshCat.SceneTrees.SceneNode}()), \"cart\" => MeshCat.SceneTrees.SceneNode(nothing, nothing, Dict{String, Vector{UInt8}}(), nothing, Dict{String, MeshCat.SceneTrees.SceneNode}(\"pole\" => MeshCat.SceneTrees.SceneNode(nothing, UInt8[0x83, 0xa6, 0x6d, 0x61, 0x74, 0x72, 0x69, 0x78, 0xc7, 0x40  …  0x2f, 0x63, 0x61, 0x72, 0x74, 0x2f, 0x70, 0x6f, 0x6c, 0x65], Dict{String, Vector{UInt8}}(), nothing, Dict{String, MeshCat.SceneTrees.SceneNode}(\"geom\" => MeshCat.SceneTrees.SceneNode(nothing, nothing, Dict{String, Vector{UInt8}}(), nothing, Dict{String, MeshCat.SceneTrees.SceneNode}(\"cyl\" => MeshCat.SceneTrees.SceneNode(UInt8[0x83, 0xa6, 0x6f, 0x62, 0x6a, 0x65, 0x63, 0x74, 0x84, 0xaa  …  0x65, 0x2f, 0x67, 0x65, 0x6f, 0x6d, 0x2f, 0x63, 0x79, 0x6c], nothing, Dict{String, Vector{UInt8}}(), nothing, Dict{String, MeshCat.SceneTrees.SceneNode}()), \"mass\" => MeshCat.SceneTrees.SceneNode(UInt8[0x83, 0xa6, 0x6f, 0x62, 0x6a, 0x65, 0x63, 0x74, 0x84, 0xaa  …  0x2f, 0x67, 0x65, 0x6f, 0x6d, 0x2f, 0x6d, 0x61, 0x73, 0x73], nothing, Dict{String, Vector{UInt8}}(), nothing, Dict{String, MeshCat.SceneTrees.SceneNode}()))))), \"box\" => MeshCat.SceneTrees.SceneNode(UInt8[0x83, 0xa6, 0x6f, 0x62, 0x6a, 0x65, 0x63, 0x74, 0x84, 0xaa  …  0x74, 0x2f, 0x63, 0x61, 0x72, 0x74, 0x2f, 0x62, 0x6f, 0x78], nothing, Dict{String, Vector{UInt8}}(), nothing, Dict{String, MeshCat.SceneTrees.SceneNode}()), \"hinge\" => MeshCat.SceneTrees.SceneNode(UInt8[0x83, 0xa6, 0x6f, 0x62, 0x6a, 0x65, 0x63, 0x74, 0x84, 0xaa  …  0x63, 0x61, 0x72, 0x74, 0x2f, 0x68, 0x69, 0x6e, 0x67, 0x65], nothing, Dict{String, Vector{UInt8}}(), nothing, Dict{String, MeshCat.SceneTrees.SceneNode}()))))))))), Set{Any}(), ip\"127.0.0.1\", 8701))"
      ]
     },
     "execution_count": 5,
     "metadata": {},
     "output_type": "execute_result"
    }
   ],
   "source": [
    "render(vis)"
   ]
  },
  {
   "cell_type": "markdown",
   "metadata": {},
   "source": [
    "# Define Cartpole Model"
   ]
  },
  {
   "cell_type": "code",
   "execution_count": 6,
   "metadata": {},
   "outputs": [],
   "source": [
    "model = Cartpole2()  # this model has damping\n",
    "dmodel = RD.DiscretizedDynamics{RD.RK4}(model)\n",
    "num_traj = 100\n",
    "tf = 2.0\n",
    "dt = 0.02;"
   ]
  },
  {
   "cell_type": "markdown",
   "metadata": {},
   "source": [
    "# Generate Data"
   ]
  },
  {
   "cell_type": "code",
   "execution_count": 7,
   "metadata": {},
   "outputs": [],
   "source": [
    "Random.seed!(1)\n",
    "num_test = 50  # number of trajectories\n",
    "num_train = 50\n",
    "\n",
    "# Generate a stabilizing LQR controller about the top\n",
    "Qlqr = Diagonal([0.2,10,1e-2,1e-2])\n",
    "Rlqr = Diagonal([1e-3])\n",
    "xe = [0,pi,0,0]\n",
    "ue = [0.0]\n",
    "ctrl_lqr = LQRController(dmodel, Qlqr, Rlqr, xe, ue, dt)\n",
    "\n",
    "# Sample a bunch of initial conditions for the LQR controller\n",
    "x0_sampler = Product([\n",
    "    Uniform(-1.0,1.0),\n",
    "    Uniform(pi-pi/3,pi+pi/3),\n",
    "    Uniform(-.5,.5),\n",
    "    Uniform(-.5,.5),\n",
    "])\n",
    "initial_conditions_lqr = [rand(x0_sampler) for _ in 1:num_test]\n",
    "initial_conditions_test = [rand(x0_sampler) for _ in 1:num_train]\n",
    "\n",
    "# Create data set\n",
    "X_train, U_train = create_data(dmodel, ctrl_lqr, initial_conditions_lqr, tf, dt)\n",
    "X_test, U_test = create_data(dmodel, ctrl_lqr, initial_conditions_test, tf, dt);"
   ]
  },
  {
   "cell_type": "code",
   "execution_count": 8,
   "metadata": {},
   "outputs": [],
   "source": [
    "#save data\n",
    "jldsave(joinpath(Problems.DATADIR, \"cartpole_lqr_trajectories.jld2\"); \n",
    "    X_train, U_train, X_test, U_test, tf, dt)"
   ]
  },
  {
   "cell_type": "markdown",
   "metadata": {},
   "source": [
    "# Import Training/Test Data"
   ]
  },
  {
   "cell_type": "code",
   "execution_count": 9,
   "metadata": {},
   "outputs": [],
   "source": [
    "lqr_traj = load(joinpath(Problems.DATADIR, \"cartpole_lqr_trajectories.jld2\"))\n",
    "\n",
    "X_train = lqr_traj[\"X_train\"]\n",
    "U_train = lqr_traj[\"U_train\"]\n",
    "X_test = lqr_traj[\"X_test\"]\n",
    "U_test = lqr_traj[\"U_test\"]\n",
    "tf = lqr_traj[\"tf\"]\n",
    "dt = lqr_traj[\"dt\"]\n",
    "\n",
    "T_ref = range(0,tf,step=dt);"
   ]
  },
  {
   "cell_type": "markdown",
   "metadata": {},
   "source": [
    "# Fit the Data using Nominal eDMD\n",
    "This uses the standard eDMD model method used in the CalTech paper, which learns a model of the form:\n",
    "\n",
    "$$ x^+ = A x + \\sum_{i=1}^m u_i C_i x $$"
   ]
  },
  {
   "cell_type": "code",
   "execution_count": 10,
   "metadata": {},
   "outputs": [],
   "source": [
    "# Define the basis functions\n",
    "eigfuns = [\"state\", \"sine\", \"cosine\", \"sine\", \"sine\", \"chebyshev\"]\n",
    "eigorders = [0,0,0,2,4,4];"
   ]
  },
  {
   "cell_type": "code",
   "execution_count": 11,
   "metadata": {},
   "outputs": [
    {
     "name": "stdout",
     "output_type": "stream",
     "text": [
      "(T, K) = (165000, 2211)\n",
      "issparse(X) = true\n",
      "lambda = 10.1\n",
      "(T, K) = (20000, 132)\n",
      "issparse(X) = true\n",
      "lambda = 0.0\n"
     ]
    }
   ],
   "source": [
    "# Fit the data\n",
    "Z_train, Zu_train, kf = build_eigenfunctions(X_train, U_train, eigfuns, eigorders)\n",
    "A, B, C, g = learn_bilinear_model(X_train, Z_train, Zu_train,\n",
    "    [\"ridge\", \"lasso\"]; \n",
    "    edmd_weights=[10.1], \n",
    "    mapping_weights=[0.0], \n",
    "    algorithm=:qr\n",
    ");"
   ]
  },
  {
   "cell_type": "code",
   "execution_count": 12,
   "metadata": {},
   "outputs": [],
   "source": [
    "# Save model\n",
    "jldsave(joinpath(Problems.DATADIR,\"cartpole_lqr_nominal_eDMD_data.jld2\"); A, B, C, g, kf, eigfuns, eigorders, tf, dt)"
   ]
  },
  {
   "cell_type": "markdown",
   "metadata": {},
   "source": [
    "# Import Nominal EDMD Model"
   ]
  },
  {
   "cell_type": "code",
   "execution_count": 13,
   "metadata": {},
   "outputs": [],
   "source": [
    "cartpole_data = load(joinpath(Problems.DATADIR, \"cartpole_lqr_nominal_eDMD_data.jld2\"))\n",
    "A_nom = cartpole_data[\"A\"]\n",
    "B_nom = cartpole_data[\"B\"]\n",
    "C_nom = cartpole_data[\"C\"]\n",
    "g_nom = cartpole_data[\"g\"]\n",
    "kf = cartpole_data[\"kf\"]\n",
    "tf = cartpole_data[\"tf\"]\n",
    "dt = cartpole_data[\"dt\"];"
   ]
  },
  {
   "cell_type": "markdown",
   "metadata": {},
   "source": [
    "# Evaluate the Nominal Fit\n",
    "The fit is evaluated using:\n",
    "$$ \\frac{1}{P} \\sum_{j=1}^P || g (A \\varphi(x_j) + \\sum_{i=1}^m u_{j,i} C_i \\varphi(x_j)) - x_j^+ || $$\n",
    "\n",
    "where $y = \\varphi(x)$ is the Koopman transform."
   ]
  },
  {
   "cell_type": "code",
   "execution_count": 14,
   "metadata": {},
   "outputs": [
    {
     "name": "stdout",
     "output_type": "stream",
     "text": [
      "Train Error: 0.025612508720672666\n",
      "Test Error:  0.04551649039431906\n"
     ]
    }
   ],
   "source": [
    "err_train = BilinearControl.EDMD.fiterror(A_nom, B_nom, C_nom, g_nom, kf, X_train, U_train)\n",
    "err_test = BilinearControl.EDMD.fiterror(A_nom, B_nom, C_nom, g_nom, kf, X_test, U_test)\n",
    "println(\"Train Error: \", err_train)\n",
    "println(\"Test Error:  \", err_test)"
   ]
  },
  {
   "cell_type": "markdown",
   "metadata": {},
   "source": [
    "### Define the Bilinear Model"
   ]
  },
  {
   "cell_type": "code",
   "execution_count": 15,
   "metadata": {},
   "outputs": [
    {
     "name": "stdout",
     "output_type": "stream",
     "text": [
      "New state dimension: 33\n"
     ]
    }
   ],
   "source": [
    "model_bilinear = EDMDModel(A_nom,B_nom,C_nom,g_nom,kf,dt,\"cartpole\")\n",
    "n,m = RD.dims(model_bilinear)\n",
    "n0 = originalstatedim(model_bilinear)\n",
    "println(\"New state dimension: \", n)"
   ]
  },
  {
   "cell_type": "markdown",
   "metadata": {},
   "source": [
    "### Compare Linearization\n",
    "To see if the learned model captures the dynamics, we'll evaluate the effective `A` and `B` dynamics Jaocbians of the learned model on the original dynamics, and compare to the nominal Jacobians."
   ]
  },
  {
   "cell_type": "code",
   "execution_count": 16,
   "metadata": {},
   "outputs": [],
   "source": [
    "# Define the equilibrium\n",
    "xe = [0.,pi,0,0]\n",
    "ue = [0.0]\n",
    "ze = RD.KnotPoint{n0,m}(xe,ue,0.0,dt)\n",
    "ye = expandstate(model_bilinear, xe);"
   ]
  },
  {
   "cell_type": "code",
   "execution_count": 17,
   "metadata": {},
   "outputs": [],
   "source": [
    "# Nominal Jacobians\n",
    "J = zeros(n0,n0+m)\n",
    "xn = zeros(n0)\n",
    "RD.jacobian!(RD.InPlace(), RD.ForwardAD(), dmodel, J, xn, ze)\n",
    "A_og = J[:,1:n0]\n",
    "B_og = J[:,n0+1:end];"
   ]
  },
  {
   "cell_type": "code",
   "execution_count": 18,
   "metadata": {},
   "outputs": [],
   "source": [
    "# Bilinear Jacobians\n",
    "function dynamics_bilinear(x,u,t,dt)\n",
    "    y = expandstate(model_bilinear, x)\n",
    "    yn = zero(y)\n",
    "    RD.discrete_dynamics!(model_bilinear, yn, y, u, t, dt)\n",
    "    originalstate(model_bilinear, yn)\n",
    "end\n",
    "\n",
    "A_bil_nom = FiniteDiff.finite_difference_jacobian(x->dynamics_bilinear(x,ue,0.0,dt), xe)\n",
    "B_bil_nom = FiniteDiff.finite_difference_jacobian(u->dynamics_bilinear(xe,u,0.0,dt), ue);"
   ]
  },
  {
   "cell_type": "code",
   "execution_count": 19,
   "metadata": {},
   "outputs": [
    {
     "data": {
      "text/plain": [
       "4×4 Matrix{Float64}:\n",
       " 1.0  0.000392055   0.019998     -1.38375e-6\n",
       " 0.0  1.0047       -3.99648e-6    0.0199834\n",
       " 0.0  0.0392035     0.9998       -7.57316e-6\n",
       " 0.0  0.470481     -0.000399628   0.999909"
      ]
     },
     "execution_count": 19,
     "metadata": {},
     "output_type": "execute_result"
    }
   ],
   "source": [
    "A_og"
   ]
  },
  {
   "cell_type": "code",
   "execution_count": 20,
   "metadata": {},
   "outputs": [
    {
     "data": {
      "text/plain": [
       "4×4 Matrix{Float64}:\n",
       "  0.934512    0.567451  -0.0513756  0.0672662\n",
       " -0.0516893   1.54715   -0.0753688  0.106496\n",
       " -0.107765    1.20547    0.850427   0.186067\n",
       "  0.151917   -1.19866    0.211354   0.734307"
      ]
     },
     "execution_count": 20,
     "metadata": {},
     "output_type": "execute_result"
    }
   ],
   "source": [
    "A_bil_nom"
   ]
  },
  {
   "cell_type": "code",
   "execution_count": 21,
   "metadata": {},
   "outputs": [
    {
     "data": {
      "text/plain": [
       "4×1 Matrix{Float64}:\n",
       " 0.00019995956333333334\n",
       " 0.00039964806000000004\n",
       " 0.01999523290316667\n",
       " 0.03996279079433334"
      ]
     },
     "execution_count": 21,
     "metadata": {},
     "output_type": "execute_result"
    }
   ],
   "source": [
    "B_og"
   ]
  },
  {
   "cell_type": "code",
   "execution_count": 22,
   "metadata": {},
   "outputs": [
    {
     "data": {
      "text/plain": [
       "4×1 Matrix{Float64}:\n",
       " 0.005342508084140718\n",
       " 0.005134165287017822\n",
       " 0.029596340842545033\n",
       " 0.024768851355474908"
      ]
     },
     "execution_count": 22,
     "metadata": {},
     "output_type": "execute_result"
    }
   ],
   "source": [
    "B_bil_nom"
   ]
  },
  {
   "cell_type": "markdown",
   "metadata": {},
   "source": [
    "# Try Stabilizing Nominal Model using LQR"
   ]
  },
  {
   "cell_type": "code",
   "execution_count": 23,
   "metadata": {},
   "outputs": [],
   "source": [
    "# Calculate LQR Gain \n",
    "Qlqr = Diagonal([1.0,10.0,1e-2,1e-2])\n",
    "Rlqr = Diagonal([1e-4])\n",
    "K_og = dlqr(A_og, B_og, Qlqr, Rlqr)\n",
    "K_bil_nom = dlqr(A_bil_nom, B_bil_nom, Qlqr, Rlqr);"
   ]
  },
  {
   "cell_type": "code",
   "execution_count": 24,
   "metadata": {},
   "outputs": [
    {
     "name": "stdout",
     "output_type": "stream",
     "text": [
      "Stability Summary:\n",
      "  Dynamics  |  Controller  |  is stable? \n",
      "------------|--------------|--------------\n",
      "  Nominal   |  Nominal     |  true\n",
      "  Bilinear  |  Bilinear    |  true\n",
      "  Nominal   |  Bilinear    |  false\n"
     ]
    }
   ],
   "source": [
    "# Evaluate stability\n",
    "isstable_nominal = maximum(abs.(eigvals(A_og - B_og*K_og))) < 1.0\n",
    "isstable_bilinear = maximum(abs.(eigvals(A_bil_nom - B_bil_nom*K_bil_nom))) < 1.0\n",
    "isstable_nominal_with_bilinear = maximum(abs.(eigvals(A_og - B_og*K_bil_nom))) < 1.0\n",
    "\n",
    "println(\"Stability Summary:\")\n",
    "println(\"  Dynamics  |  Controller  |  is stable? \")\n",
    "println(\"------------|--------------|--------------\")\n",
    "println(\"  Nominal   |  Nominal     |  \", isstable_nominal)\n",
    "println(\"  Bilinear  |  Bilinear    |  \", isstable_bilinear)\n",
    "println(\"  Nominal   |  Bilinear    |  \", isstable_nominal_with_bilinear)"
   ]
  },
  {
   "cell_type": "code",
   "execution_count": 25,
   "metadata": {},
   "outputs": [
    {
     "data": {
      "image/svg+xml": "<?xml version=\"1.0\" encoding=\"utf-8\"?>\n<svg xmlns=\"http://www.w3.org/2000/svg\" xmlns:xlink=\"http://www.w3.org/1999/xlink\" width=\"600\" height=\"400\" viewBox=\"0 0 2400 1600\">\n<defs>\n  <clipPath id=\"clip960\">\n    <rect x=\"0\" y=\"0\" width=\"2400\" height=\"1600\"/>\n  </clipPath>\n</defs>\n<path clip-path=\"url(#clip960)\" d=\"\nM0 1600 L2400 1600 L2400 0 L0 0  Z\n  \" fill=\"#ffffff\" fill-rule=\"evenodd\" fill-opacity=\"1\"/>\n<defs>\n  <clipPath id=\"clip961\">\n    <rect x=\"480\" y=\"0\" width=\"1681\" height=\"1600\"/>\n  </clipPath>\n</defs>\n<path clip-path=\"url(#clip960)\" d=\"\nM175.445 1423.18 L2352.76 1423.18 L2352.76 47.2441 L175.445 47.2441  Z\n  \" fill=\"#ffffff\" fill-rule=\"evenodd\" fill-opacity=\"1\"/>\n<defs>\n  <clipPath id=\"clip962\">\n    <rect x=\"175\" y=\"47\" width=\"2178\" height=\"1377\"/>\n  </clipPath>\n</defs>\n<polyline clip-path=\"url(#clip962)\" style=\"stroke:#000000; stroke-linecap:butt; stroke-linejoin:round; stroke-width:2; stroke-opacity:0.1; fill:none\" points=\"\n  237.067,1423.18 237.067,47.2441 \n  \"/>\n<polyline clip-path=\"url(#clip962)\" style=\"stroke:#000000; stroke-linecap:butt; stroke-linejoin:round; stroke-width:2; stroke-opacity:0.1; fill:none\" points=\"\n  921.756,1423.18 921.756,47.2441 \n  \"/>\n<polyline clip-path=\"url(#clip962)\" style=\"stroke:#000000; stroke-linecap:butt; stroke-linejoin:round; stroke-width:2; stroke-opacity:0.1; fill:none\" points=\"\n  1606.45,1423.18 1606.45,47.2441 \n  \"/>\n<polyline clip-path=\"url(#clip962)\" style=\"stroke:#000000; stroke-linecap:butt; stroke-linejoin:round; stroke-width:2; stroke-opacity:0.1; fill:none\" points=\"\n  2291.13,1423.18 2291.13,47.2441 \n  \"/>\n<polyline clip-path=\"url(#clip960)\" style=\"stroke:#000000; stroke-linecap:butt; stroke-linejoin:round; stroke-width:4; stroke-opacity:1; fill:none\" points=\"\n  175.445,1423.18 2352.76,1423.18 \n  \"/>\n<polyline clip-path=\"url(#clip960)\" style=\"stroke:#000000; stroke-linecap:butt; stroke-linejoin:round; stroke-width:4; stroke-opacity:1; fill:none\" points=\"\n  237.067,1423.18 237.067,1404.28 \n  \"/>\n<polyline clip-path=\"url(#clip960)\" style=\"stroke:#000000; stroke-linecap:butt; stroke-linejoin:round; stroke-width:4; stroke-opacity:1; fill:none\" points=\"\n  921.756,1423.18 921.756,1404.28 \n  \"/>\n<polyline clip-path=\"url(#clip960)\" style=\"stroke:#000000; stroke-linecap:butt; stroke-linejoin:round; stroke-width:4; stroke-opacity:1; fill:none\" points=\"\n  1606.45,1423.18 1606.45,1404.28 \n  \"/>\n<polyline clip-path=\"url(#clip960)\" style=\"stroke:#000000; stroke-linecap:butt; stroke-linejoin:round; stroke-width:4; stroke-opacity:1; fill:none\" points=\"\n  2291.13,1423.18 2291.13,1404.28 \n  \"/>\n<path clip-path=\"url(#clip960)\" d=\"M237.067 1454.1 Q233.456 1454.1 231.627 1457.66 Q229.822 1461.2 229.822 1468.33 Q229.822 1475.44 231.627 1479.01 Q233.456 1482.55 237.067 1482.55 Q240.701 1482.55 242.507 1479.01 Q244.336 1475.44 244.336 1468.33 Q244.336 1461.2 242.507 1457.66 Q240.701 1454.1 237.067 1454.1 M237.067 1450.39 Q242.877 1450.39 245.933 1455 Q249.012 1459.58 249.012 1468.33 Q249.012 1477.06 245.933 1481.67 Q242.877 1486.25 237.067 1486.25 Q231.257 1486.25 228.178 1481.67 Q225.123 1477.06 225.123 1468.33 Q225.123 1459.58 228.178 1455 Q231.257 1450.39 237.067 1450.39 Z\" fill=\"#000000\" fill-rule=\"evenodd\" fill-opacity=\"1\" /><path clip-path=\"url(#clip960)\" d=\"M912.138 1481.64 L919.777 1481.64 L919.777 1455.28 L911.467 1456.95 L911.467 1452.69 L919.731 1451.02 L924.407 1451.02 L924.407 1481.64 L932.045 1481.64 L932.045 1485.58 L912.138 1485.58 L912.138 1481.64 Z\" fill=\"#000000\" fill-rule=\"evenodd\" fill-opacity=\"1\" /><path clip-path=\"url(#clip960)\" d=\"M1601.1 1481.64 L1617.42 1481.64 L1617.42 1485.58 L1595.47 1485.58 L1595.47 1481.64 Q1598.13 1478.89 1602.72 1474.26 Q1607.32 1469.61 1608.51 1468.27 Q1610.75 1465.74 1611.63 1464.01 Q1612.53 1462.25 1612.53 1460.56 Q1612.53 1457.8 1610.59 1456.07 Q1608.67 1454.33 1605.57 1454.33 Q1603.37 1454.33 1600.91 1455.09 Q1598.48 1455.86 1595.7 1457.41 L1595.7 1452.69 Q1598.53 1451.55 1600.98 1450.97 Q1603.44 1450.39 1605.47 1450.39 Q1610.84 1450.39 1614.04 1453.08 Q1617.23 1455.77 1617.23 1460.26 Q1617.23 1462.39 1616.42 1464.31 Q1615.63 1466.2 1613.53 1468.8 Q1612.95 1469.47 1609.85 1472.69 Q1606.75 1475.88 1601.1 1481.64 Z\" fill=\"#000000\" fill-rule=\"evenodd\" fill-opacity=\"1\" /><path clip-path=\"url(#clip960)\" d=\"M2295.38 1466.95 Q2298.74 1467.66 2300.61 1469.93 Q2302.51 1472.2 2302.51 1475.53 Q2302.51 1480.65 2298.99 1483.45 Q2295.47 1486.25 2288.99 1486.25 Q2286.82 1486.25 2284.5 1485.81 Q2282.21 1485.39 2279.76 1484.54 L2279.76 1480.02 Q2281.7 1481.16 2284.02 1481.74 Q2286.33 1482.32 2288.85 1482.32 Q2293.25 1482.32 2295.54 1480.58 Q2297.86 1478.84 2297.86 1475.53 Q2297.86 1472.48 2295.71 1470.77 Q2293.58 1469.03 2289.76 1469.03 L2285.73 1469.03 L2285.73 1465.19 L2289.94 1465.19 Q2293.39 1465.19 2295.22 1463.82 Q2297.05 1462.43 2297.05 1459.84 Q2297.05 1457.18 2295.15 1455.77 Q2293.28 1454.33 2289.76 1454.33 Q2287.84 1454.33 2285.64 1454.75 Q2283.44 1455.16 2280.8 1456.04 L2280.8 1451.88 Q2283.46 1451.14 2285.78 1450.77 Q2288.11 1450.39 2290.17 1450.39 Q2295.5 1450.39 2298.6 1452.83 Q2301.7 1455.23 2301.7 1459.35 Q2301.7 1462.22 2300.06 1464.21 Q2298.41 1466.18 2295.38 1466.95 Z\" fill=\"#000000\" fill-rule=\"evenodd\" fill-opacity=\"1\" /><path clip-path=\"url(#clip960)\" d=\"M1151.55 1522.27 L1151.55 1532.4 L1163.62 1532.4 L1163.62 1536.95 L1151.55 1536.95 L1151.55 1556.3 Q1151.55 1560.66 1152.73 1561.9 Q1153.94 1563.14 1157.6 1563.14 L1163.62 1563.14 L1163.62 1568.04 L1157.6 1568.04 Q1150.82 1568.04 1148.24 1565.53 Q1145.67 1562.98 1145.67 1556.3 L1145.67 1536.95 L1141.37 1536.95 L1141.37 1532.4 L1145.67 1532.4 L1145.67 1522.27 L1151.55 1522.27 Z\" fill=\"#000000\" fill-rule=\"evenodd\" fill-opacity=\"1\" /><path clip-path=\"url(#clip960)\" d=\"M1171.32 1532.4 L1177.18 1532.4 L1177.18 1568.04 L1171.32 1568.04 L1171.32 1532.4 M1171.32 1518.52 L1177.18 1518.52 L1177.18 1525.93 L1171.32 1525.93 L1171.32 1518.52 Z\" fill=\"#000000\" fill-rule=\"evenodd\" fill-opacity=\"1\" /><path clip-path=\"url(#clip960)\" d=\"M1217.19 1539.24 Q1219.38 1535.29 1222.44 1533.41 Q1225.49 1531.54 1229.63 1531.54 Q1235.2 1531.54 1238.22 1535.45 Q1241.25 1539.33 1241.25 1546.53 L1241.25 1568.04 L1235.36 1568.04 L1235.36 1546.72 Q1235.36 1541.59 1233.55 1539.11 Q1231.73 1536.63 1228.01 1536.63 Q1223.46 1536.63 1220.81 1539.65 Q1218.17 1542.68 1218.17 1547.9 L1218.17 1568.04 L1212.28 1568.04 L1212.28 1546.72 Q1212.28 1541.56 1210.47 1539.11 Q1208.66 1536.63 1204.87 1536.63 Q1200.38 1536.63 1197.74 1539.68 Q1195.1 1542.71 1195.1 1547.9 L1195.1 1568.04 L1189.21 1568.04 L1189.21 1532.4 L1195.1 1532.4 L1195.1 1537.93 Q1197.1 1534.66 1199.9 1533.1 Q1202.7 1531.54 1206.55 1531.54 Q1210.44 1531.54 1213.14 1533.51 Q1215.88 1535.48 1217.19 1539.24 Z\" fill=\"#000000\" fill-rule=\"evenodd\" fill-opacity=\"1\" /><path clip-path=\"url(#clip960)\" d=\"M1283.42 1548.76 L1283.42 1551.62 L1256.49 1551.62 Q1256.88 1557.67 1260.12 1560.85 Q1263.4 1564 1269.22 1564 Q1272.6 1564 1275.75 1563.17 Q1278.93 1562.35 1282.05 1560.69 L1282.05 1566.23 Q1278.9 1567.57 1275.59 1568.27 Q1272.28 1568.97 1268.87 1568.97 Q1260.34 1568.97 1255.35 1564 Q1250.38 1559.04 1250.38 1550.57 Q1250.38 1541.82 1255.09 1536.69 Q1259.84 1531.54 1267.86 1531.54 Q1275.05 1531.54 1279.22 1536.18 Q1283.42 1540.8 1283.42 1548.76 M1277.56 1547.04 Q1277.5 1542.23 1274.86 1539.37 Q1272.25 1536.5 1267.92 1536.5 Q1263.02 1536.5 1260.06 1539.27 Q1257.13 1542.04 1256.68 1547.07 L1277.56 1547.04 Z\" fill=\"#000000\" fill-rule=\"evenodd\" fill-opacity=\"1\" /><path clip-path=\"url(#clip960)\" d=\"M1327.82 1518.58 Q1323.56 1525.9 1321.49 1533.06 Q1319.42 1540.23 1319.42 1547.58 Q1319.42 1554.93 1321.49 1562.16 Q1323.59 1569.35 1327.82 1576.64 L1322.73 1576.64 Q1317.95 1569.16 1315.57 1561.93 Q1313.21 1554.71 1313.21 1547.58 Q1313.21 1540.48 1315.57 1533.29 Q1317.92 1526.09 1322.73 1518.58 L1327.82 1518.58 Z\" fill=\"#000000\" fill-rule=\"evenodd\" fill-opacity=\"1\" /><path clip-path=\"url(#clip960)\" d=\"M1361.91 1533.45 L1361.91 1538.98 Q1359.43 1537.71 1356.75 1537.07 Q1354.08 1536.44 1351.22 1536.44 Q1346.85 1536.44 1344.66 1537.77 Q1342.49 1539.11 1342.49 1541.79 Q1342.49 1543.82 1344.05 1545 Q1345.61 1546.15 1350.32 1547.2 L1352.33 1547.64 Q1358.57 1548.98 1361.18 1551.43 Q1363.82 1553.85 1363.82 1558.21 Q1363.82 1563.17 1359.87 1566.07 Q1355.96 1568.97 1349.08 1568.97 Q1346.22 1568.97 1343.1 1568.39 Q1340.01 1567.85 1336.57 1566.74 L1336.57 1560.69 Q1339.82 1562.38 1342.97 1563.24 Q1346.12 1564.07 1349.21 1564.07 Q1353.35 1564.07 1355.58 1562.66 Q1357.8 1561.23 1357.8 1558.65 Q1357.8 1556.27 1356.18 1554.99 Q1354.59 1553.72 1349.15 1552.54 L1347.11 1552.07 Q1341.67 1550.92 1339.25 1548.56 Q1336.83 1546.18 1336.83 1542.04 Q1336.83 1537.01 1340.39 1534.27 Q1343.96 1531.54 1350.52 1531.54 Q1353.76 1531.54 1356.63 1532.01 Q1359.49 1532.49 1361.91 1533.45 Z\" fill=\"#000000\" fill-rule=\"evenodd\" fill-opacity=\"1\" /><path clip-path=\"url(#clip960)\" d=\"M1372.22 1518.58 L1377.31 1518.58 Q1382.09 1526.09 1384.44 1533.29 Q1386.83 1540.48 1386.83 1547.58 Q1386.83 1554.71 1384.44 1561.93 Q1382.09 1569.16 1377.31 1576.64 L1372.22 1576.64 Q1376.46 1569.35 1378.52 1562.16 Q1380.62 1554.93 1380.62 1547.58 Q1380.62 1540.23 1378.52 1533.06 Q1376.46 1525.9 1372.22 1518.58 Z\" fill=\"#000000\" fill-rule=\"evenodd\" fill-opacity=\"1\" /><polyline clip-path=\"url(#clip962)\" style=\"stroke:#000000; stroke-linecap:butt; stroke-linejoin:round; stroke-width:2; stroke-opacity:0.1; fill:none\" points=\"\n  175.445,1273.57 2352.76,1273.57 \n  \"/>\n<polyline clip-path=\"url(#clip962)\" style=\"stroke:#000000; stroke-linecap:butt; stroke-linejoin:round; stroke-width:2; stroke-opacity:0.1; fill:none\" points=\"\n  175.445,996.901 2352.76,996.901 \n  \"/>\n<polyline clip-path=\"url(#clip962)\" style=\"stroke:#000000; stroke-linecap:butt; stroke-linejoin:round; stroke-width:2; stroke-opacity:0.1; fill:none\" points=\"\n  175.445,720.231 2352.76,720.231 \n  \"/>\n<polyline clip-path=\"url(#clip962)\" style=\"stroke:#000000; stroke-linecap:butt; stroke-linejoin:round; stroke-width:2; stroke-opacity:0.1; fill:none\" points=\"\n  175.445,443.561 2352.76,443.561 \n  \"/>\n<polyline clip-path=\"url(#clip962)\" style=\"stroke:#000000; stroke-linecap:butt; stroke-linejoin:round; stroke-width:2; stroke-opacity:0.1; fill:none\" points=\"\n  175.445,166.892 2352.76,166.892 \n  \"/>\n<polyline clip-path=\"url(#clip960)\" style=\"stroke:#000000; stroke-linecap:butt; stroke-linejoin:round; stroke-width:4; stroke-opacity:1; fill:none\" points=\"\n  175.445,1423.18 175.445,47.2441 \n  \"/>\n<polyline clip-path=\"url(#clip960)\" style=\"stroke:#000000; stroke-linecap:butt; stroke-linejoin:round; stroke-width:4; stroke-opacity:1; fill:none\" points=\"\n  175.445,1273.57 194.343,1273.57 \n  \"/>\n<polyline clip-path=\"url(#clip960)\" style=\"stroke:#000000; stroke-linecap:butt; stroke-linejoin:round; stroke-width:4; stroke-opacity:1; fill:none\" points=\"\n  175.445,996.901 194.343,996.901 \n  \"/>\n<polyline clip-path=\"url(#clip960)\" style=\"stroke:#000000; stroke-linecap:butt; stroke-linejoin:round; stroke-width:4; stroke-opacity:1; fill:none\" points=\"\n  175.445,720.231 194.343,720.231 \n  \"/>\n<polyline clip-path=\"url(#clip960)\" style=\"stroke:#000000; stroke-linecap:butt; stroke-linejoin:round; stroke-width:4; stroke-opacity:1; fill:none\" points=\"\n  175.445,443.561 194.343,443.561 \n  \"/>\n<polyline clip-path=\"url(#clip960)\" style=\"stroke:#000000; stroke-linecap:butt; stroke-linejoin:round; stroke-width:4; stroke-opacity:1; fill:none\" points=\"\n  175.445,166.892 194.343,166.892 \n  \"/>\n<path clip-path=\"url(#clip960)\" d=\"M127.501 1259.37 Q123.89 1259.37 122.061 1262.93 Q120.255 1266.48 120.255 1273.61 Q120.255 1280.71 122.061 1284.28 Q123.89 1287.82 127.501 1287.82 Q131.135 1287.82 132.941 1284.28 Q134.769 1280.71 134.769 1273.61 Q134.769 1266.48 132.941 1262.93 Q131.135 1259.37 127.501 1259.37 M127.501 1255.67 Q133.311 1255.67 136.367 1260.27 Q139.445 1264.86 139.445 1273.61 Q139.445 1282.33 136.367 1286.94 Q133.311 1291.52 127.501 1291.52 Q121.691 1291.52 118.612 1286.94 Q115.556 1282.33 115.556 1273.61 Q115.556 1264.86 118.612 1260.27 Q121.691 1255.67 127.501 1255.67 Z\" fill=\"#000000\" fill-rule=\"evenodd\" fill-opacity=\"1\" /><path clip-path=\"url(#clip960)\" d=\"M119.538 1010.25 L127.177 1010.25 L127.177 983.88 L118.867 985.547 L118.867 981.287 L127.13 979.621 L131.806 979.621 L131.806 1010.25 L139.445 1010.25 L139.445 1014.18 L119.538 1014.18 L119.538 1010.25 Z\" fill=\"#000000\" fill-rule=\"evenodd\" fill-opacity=\"1\" /><path clip-path=\"url(#clip960)\" d=\"M123.126 733.576 L139.445 733.576 L139.445 737.511 L117.501 737.511 L117.501 733.576 Q120.163 730.821 124.746 726.192 Q129.353 721.539 130.533 720.196 Q132.779 717.673 133.658 715.937 Q134.561 714.178 134.561 712.488 Q134.561 709.733 132.617 707.997 Q130.695 706.261 127.593 706.261 Q125.394 706.261 122.941 707.025 Q120.51 707.789 117.732 709.34 L117.732 704.618 Q120.556 703.484 123.01 702.905 Q125.464 702.326 127.501 702.326 Q132.871 702.326 136.066 705.011 Q139.26 707.696 139.26 712.187 Q139.26 714.317 138.45 716.238 Q137.663 718.136 135.556 720.729 Q134.978 721.4 131.876 724.618 Q128.774 727.812 123.126 733.576 Z\" fill=\"#000000\" fill-rule=\"evenodd\" fill-opacity=\"1\" /><path clip-path=\"url(#clip960)\" d=\"M132.316 442.207 Q135.672 442.925 137.547 445.193 Q139.445 447.462 139.445 450.795 Q139.445 455.911 135.927 458.712 Q132.408 461.513 125.927 461.513 Q123.751 461.513 121.436 461.073 Q119.144 460.656 116.691 459.8 L116.691 455.286 Q118.635 456.42 120.95 456.999 Q123.265 457.578 125.788 457.578 Q130.186 457.578 132.478 455.841 Q134.792 454.105 134.792 450.795 Q134.792 447.74 132.64 446.027 Q130.51 444.291 126.691 444.291 L122.663 444.291 L122.663 440.448 L126.876 440.448 Q130.325 440.448 132.154 439.082 Q133.982 437.693 133.982 435.101 Q133.982 432.439 132.084 431.027 Q130.209 429.592 126.691 429.592 Q124.769 429.592 122.57 430.008 Q120.371 430.425 117.732 431.305 L117.732 427.138 Q120.394 426.397 122.709 426.027 Q125.047 425.656 127.107 425.656 Q132.431 425.656 135.533 428.087 Q138.635 430.494 138.635 434.615 Q138.635 437.485 136.992 439.476 Q135.348 441.443 132.316 442.207 Z\" fill=\"#000000\" fill-rule=\"evenodd\" fill-opacity=\"1\" /><path clip-path=\"url(#clip960)\" d=\"M129.862 153.686 L118.056 172.135 L129.862 172.135 L129.862 153.686 M128.635 149.612 L134.515 149.612 L134.515 172.135 L139.445 172.135 L139.445 176.024 L134.515 176.024 L134.515 184.172 L129.862 184.172 L129.862 176.024 L114.26 176.024 L114.26 171.51 L128.635 149.612 Z\" fill=\"#000000\" fill-rule=\"evenodd\" fill-opacity=\"1\" /><path clip-path=\"url(#clip960)\" d=\"M29.4065 806.062 L34.9447 806.062 Q33.6716 808.545 33.035 811.219 Q32.3984 813.892 32.3984 816.757 Q32.3984 821.117 33.7352 823.313 Q35.072 825.478 37.7456 825.478 Q39.7826 825.478 40.9603 823.918 Q42.1061 822.358 43.1565 817.648 L43.6021 815.643 Q44.9389 809.404 47.3897 806.794 Q49.8086 804.153 54.1691 804.153 Q59.1344 804.153 62.0308 808.099 Q64.9272 812.014 64.9272 818.889 Q64.9272 821.754 64.3543 824.873 Q63.8132 827.96 62.6992 831.398 L56.6518 831.398 Q58.3387 828.151 59.198 825 Q60.0256 821.849 60.0256 818.762 Q60.0256 814.624 58.6251 812.396 Q57.1929 810.168 54.6147 810.168 Q52.2276 810.168 50.9545 811.791 Q49.6813 813.383 48.5037 818.826 L48.0262 820.863 Q46.8804 826.305 44.5251 828.724 Q42.138 831.143 38.0002 831.143 Q32.9713 831.143 30.2341 827.578 Q27.4968 824.014 27.4968 817.457 Q27.4968 814.21 27.9743 811.346 Q28.4517 808.481 29.4065 806.062 Z\" fill=\"#000000\" fill-rule=\"evenodd\" fill-opacity=\"1\" /><path clip-path=\"url(#clip960)\" d=\"M18.2347 789.034 L28.3562 789.034 L28.3562 776.971 L32.9077 776.971 L32.9077 789.034 L52.2594 789.034 Q56.6199 789.034 57.8613 787.856 Q59.1026 786.647 59.1026 782.987 L59.1026 776.971 L64.0042 776.971 L64.0042 782.987 Q64.0042 789.766 61.4897 792.344 Q58.9434 794.922 52.2594 794.922 L32.9077 794.922 L32.9077 799.219 L28.3562 799.219 L28.3562 794.922 L18.2347 794.922 L18.2347 789.034 Z\" fill=\"#000000\" fill-rule=\"evenodd\" fill-opacity=\"1\" /><path clip-path=\"url(#clip960)\" d=\"M46.0847 753.068 Q46.0847 760.166 47.7079 762.903 Q49.3312 765.64 53.2461 765.64 Q56.3653 765.64 58.2114 763.603 Q60.0256 761.534 60.0256 758.001 Q60.0256 753.131 56.5881 750.203 Q53.1188 747.243 47.3897 747.243 L46.0847 747.243 L46.0847 753.068 M43.6657 741.387 L64.0042 741.387 L64.0042 747.243 L58.5933 747.243 Q61.8398 749.248 63.3994 752.24 Q64.9272 755.232 64.9272 759.561 Q64.9272 765.035 61.8716 768.282 Q58.7843 771.496 53.6281 771.496 Q47.6125 771.496 44.5569 767.486 Q41.5014 763.444 41.5014 755.455 L41.5014 747.243 L40.9285 747.243 Q36.8862 747.243 34.6901 749.917 Q32.4621 752.559 32.4621 757.365 Q32.4621 760.42 33.1941 763.317 Q33.9262 766.213 35.3903 768.887 L29.9795 768.887 Q28.7381 765.672 28.1334 762.648 Q27.4968 759.624 27.4968 756.76 Q27.4968 749.026 31.5072 745.206 Q35.5176 741.387 43.6657 741.387 Z\" fill=\"#000000\" fill-rule=\"evenodd\" fill-opacity=\"1\" /><path clip-path=\"url(#clip960)\" d=\"M18.2347 723.531 L28.3562 723.531 L28.3562 711.468 L32.9077 711.468 L32.9077 723.531 L52.2594 723.531 Q56.6199 723.531 57.8613 722.353 Q59.1026 721.144 59.1026 717.483 L59.1026 711.468 L64.0042 711.468 L64.0042 717.483 Q64.0042 724.263 61.4897 726.841 Q58.9434 729.419 52.2594 729.419 L32.9077 729.419 L32.9077 733.716 L28.3562 733.716 L28.3562 729.419 L18.2347 729.419 L18.2347 723.531 Z\" fill=\"#000000\" fill-rule=\"evenodd\" fill-opacity=\"1\" /><path clip-path=\"url(#clip960)\" d=\"M44.7161 673.274 L47.5806 673.274 L47.5806 700.201 Q53.6281 699.819 56.8109 696.572 Q59.9619 693.294 59.9619 687.469 Q59.9619 684.095 59.1344 680.944 Q58.3069 677.761 56.6518 674.642 L62.1899 674.642 Q63.5267 677.793 64.227 681.103 Q64.9272 684.414 64.9272 687.819 Q64.9272 696.349 59.9619 701.346 Q54.9967 706.312 46.5303 706.312 Q37.7774 706.312 32.6531 701.601 Q27.4968 696.859 27.4968 688.838 Q27.4968 681.645 32.1438 677.475 Q36.7589 673.274 44.7161 673.274 M42.9973 679.13 Q38.1912 679.194 35.3266 681.836 Q32.4621 684.445 32.4621 688.774 Q32.4621 693.676 35.2312 696.636 Q38.0002 699.564 43.0292 700.01 L42.9973 679.13 Z\" fill=\"#000000\" fill-rule=\"evenodd\" fill-opacity=\"1\" /><path clip-path=\"url(#clip960)\" d=\"M29.4065 640.936 L34.9447 640.936 Q33.6716 643.418 33.035 646.092 Q32.3984 648.766 32.3984 651.63 Q32.3984 655.991 33.7352 658.187 Q35.072 660.351 37.7456 660.351 Q39.7826 660.351 40.9603 658.792 Q42.1061 657.232 43.1565 652.521 L43.6021 650.516 Q44.9389 644.278 47.3897 641.668 Q49.8086 639.026 54.1691 639.026 Q59.1344 639.026 62.0308 642.973 Q64.9272 646.888 64.9272 653.763 Q64.9272 656.627 64.3543 659.747 Q63.8132 662.834 62.6992 666.271 L56.6518 666.271 Q58.3387 663.025 59.198 659.874 Q60.0256 656.723 60.0256 653.635 Q60.0256 649.498 58.6251 647.27 Q57.1929 645.042 54.6147 645.042 Q52.2276 645.042 50.9545 646.665 Q49.6813 648.256 48.5037 653.699 L48.0262 655.736 Q46.8804 661.179 44.5251 663.598 Q42.138 666.017 38.0002 666.017 Q32.9713 666.017 30.2341 662.452 Q27.4968 658.887 27.4968 652.33 Q27.4968 649.084 27.9743 646.219 Q28.4517 643.355 29.4065 640.936 Z\" fill=\"#000000\" fill-rule=\"evenodd\" fill-opacity=\"1\" /><polyline clip-path=\"url(#clip962)\" style=\"stroke:#009af9; stroke-linecap:butt; stroke-linejoin:round; stroke-width:8; stroke-opacity:1; fill:none\" points=\"\n  237.067,1384.24 250.761,1375.98 264.455,1353.58 278.149,1322.37 291.842,1288.33 305.536,1256.79 319.23,1230.98 332.924,1211.84 346.617,1198.81 360.311,1190.58 \n  374.005,1185.6 387.699,1182.34 401.393,1179.58 415.086,1176.45 428.78,1172.45 442.474,1167.46 456.168,1161.56 469.861,1154.98 483.555,1147.98 497.249,1140.8 \n  510.943,1133.63 524.637,1126.61 538.33,1119.79 552.024,1113.18 565.718,1106.77 579.412,1100.51 593.105,1094.36 606.799,1088.28 620.493,1082.23 634.187,1076.21 \n  647.881,1070.19 661.574,1064.18 675.268,1058.17 688.962,1052.17 702.656,1046.17 716.349,1040.2 730.043,1034.24 743.737,1028.31 757.431,1022.38 771.125,1016.48 \n  784.818,1010.59 798.512,1004.71 812.206,998.837 825.9,992.97 839.593,987.105 853.287,981.241 866.981,975.375 880.675,969.507 894.369,963.633 908.062,957.754 \n  921.756,951.867 935.45,945.97 949.144,940.063 962.837,934.144 976.531,928.211 990.225,922.262 1003.92,916.297 1017.61,910.313 1031.31,904.309 1045,898.284 \n  1058.69,892.236 1072.39,886.163 1086.08,880.065 1099.78,873.939 1113.47,867.785 1127.16,861.6 1140.86,855.384 1154.55,849.135 1168.24,842.853 1181.94,836.534 \n  1195.63,830.179 1209.33,823.785 1223.02,817.352 1236.71,810.878 1250.41,804.362 1264.1,797.802 1277.79,791.197 1291.49,784.546 1305.18,777.848 1318.88,771.101 \n  1332.57,764.305 1346.26,757.456 1359.96,750.556 1373.65,743.601 1387.34,736.592 1401.04,729.526 1414.73,722.402 1428.43,715.22 1442.12,707.977 1455.81,700.673 \n  1469.51,693.306 1483.2,685.875 1496.89,678.379 1510.59,670.817 1524.28,663.187 1537.98,655.487 1551.67,647.718 1565.36,639.877 1579.06,631.963 1592.75,623.975 \n  1606.45,615.911 1620.14,607.771 1633.83,599.552 1647.53,591.255 1661.22,582.877 1674.91,574.417 1688.61,565.873 1702.3,557.246 1716,548.532 1729.69,539.731 \n  1743.38,530.842 1757.08,521.863 1770.77,512.792 1784.46,503.629 1798.16,494.372 1811.85,485.02 1825.55,475.571 1839.24,466.024 1852.93,456.377 1866.63,446.63 \n  1880.32,436.78 1894.01,426.827 1907.71,416.768 1921.4,406.603 1935.1,396.329 1948.79,385.946 1962.48,375.452 1976.18,364.845 1989.87,354.125 2003.56,343.288 \n  2017.26,332.335 2030.95,321.263 2044.65,310.07 2058.34,298.756 2072.03,287.319 2085.73,275.756 2099.42,264.067 2113.11,252.25 2126.81,240.303 2140.5,228.224 \n  2154.2,216.012 2167.89,203.665 2181.58,191.182 2195.28,178.56 2208.97,165.798 2222.67,152.894 2236.36,139.847 2250.05,126.654 2263.75,113.314 2277.44,99.8255 \n  2291.13,86.1857 \n  \"/>\n<polyline clip-path=\"url(#clip962)\" style=\"stroke:#e26f46; stroke-linecap:butt; stroke-linejoin:round; stroke-width:8; stroke-opacity:1; fill:none\" points=\"\n  237.067,597.539 250.761,585.514 264.455,552.45 278.149,505.625 291.842,454.644 305.536,409.193 319.23,375.377 332.924,354.724 346.617,345.778 360.311,345.793 \n  374.005,351.682 387.699,360.539 401.393,369.984 415.086,378.369 428.78,384.817 442.474,389.099 456.168,391.436 469.861,392.296 483.555,392.219 497.249,391.697 \n  510.943,391.107 524.637,390.695 538.33,390.582 552.024,390.789 565.718,391.273 579.412,391.961 593.105,392.767 606.799,393.619 620.493,394.459 634.187,395.254 \n  647.881,395.987 661.574,396.657 675.268,397.272 688.962,397.844 702.656,398.386 716.349,398.912 730.043,399.428 743.737,399.94 757.431,400.451 771.125,400.961 \n  784.818,401.469 798.512,401.974 812.206,402.473 825.9,402.965 839.593,403.45 853.287,403.926 866.981,404.394 880.675,404.854 894.369,405.307 908.062,405.752 \n  921.756,406.191 935.45,406.624 949.144,407.052 962.837,407.474 976.531,407.891 990.225,408.303 1003.92,408.711 1017.61,409.113 1031.31,409.512 1045,409.906 \n  1058.69,410.296 1072.39,410.682 1086.08,411.065 1099.78,411.444 1113.47,411.819 1127.16,412.191 1140.86,412.56 1154.55,412.925 1168.24,413.288 1181.94,413.649 \n  1195.63,414.007 1209.33,414.362 1223.02,414.715 1236.71,415.067 1250.41,415.416 1264.1,415.763 1277.79,416.109 1291.49,416.453 1305.18,416.795 1318.88,417.137 \n  1332.57,417.477 1346.26,417.816 1359.96,418.154 1373.65,418.491 1387.34,418.827 1401.04,419.163 1414.73,419.498 1428.43,419.833 1442.12,420.167 1455.81,420.501 \n  1469.51,420.835 1483.2,421.169 1496.89,421.503 1510.59,421.837 1524.28,422.172 1537.98,422.507 1551.67,422.842 1565.36,423.178 1579.06,423.515 1592.75,423.852 \n  1606.45,424.19 1620.14,424.529 1633.83,424.869 1647.53,425.21 1661.22,425.552 1674.91,425.896 1688.61,426.241 1702.3,426.587 1716,426.935 1729.69,427.284 \n  1743.38,427.635 1757.08,427.988 1770.77,428.342 1784.46,428.699 1798.16,429.057 1811.85,429.417 1825.55,429.78 1839.24,430.145 1852.93,430.512 1866.63,430.881 \n  1880.32,431.253 1894.01,431.627 1907.71,432.004 1921.4,432.383 1935.1,432.766 1948.79,433.151 1962.48,433.538 1976.18,433.929 1989.87,434.323 2003.56,434.72 \n  2017.26,435.12 2030.95,435.523 2044.65,435.93 2058.34,436.339 2072.03,436.753 2085.73,437.17 2099.42,437.59 2113.11,438.014 2126.81,438.442 2140.5,438.873 \n  2154.2,439.309 2167.89,439.748 2181.58,440.192 2195.28,440.639 2208.97,441.091 2222.67,441.546 2236.36,442.007 2250.05,442.471 2263.75,442.94 2277.44,443.413 \n  2291.13,443.891 \n  \"/>\n<path clip-path=\"url(#clip960)\" d=\"\nM1772.91 787.052 L2280.18 787.052 L2280.18 631.532 L1772.91 631.532  Z\n  \" fill=\"#ffffff\" fill-rule=\"evenodd\" fill-opacity=\"1\"/>\n<polyline clip-path=\"url(#clip960)\" style=\"stroke:#000000; stroke-linecap:butt; stroke-linejoin:round; stroke-width:4; stroke-opacity:1; fill:none\" points=\"\n  1772.91,787.052 2280.18,787.052 2280.18,631.532 1772.91,631.532 1772.91,787.052 \n  \"/>\n<polyline clip-path=\"url(#clip960)\" style=\"stroke:#009af9; stroke-linecap:butt; stroke-linejoin:round; stroke-width:4; stroke-opacity:1; fill:none\" points=\"\n  1797.1,683.372 1942.26,683.372 \n  \"/>\n<path clip-path=\"url(#clip960)\" d=\"M1991.1 674.726 L1981.73 687.342 L1991.59 700.652 L1986.56 700.652 L1979.02 690.467 L1971.47 700.652 L1966.45 700.652 L1976.52 687.087 L1967.3 674.726 L1972.33 674.726 L1979.2 683.962 L1986.08 674.726 L1991.1 674.726 Z\" fill=\"#000000\" fill-rule=\"evenodd\" fill-opacity=\"1\" /><path clip-path=\"url(#clip960)\" d=\"M2022.91 664.68 Q2019.8 670.004 2018.3 675.212 Q2016.8 680.421 2016.8 685.768 Q2016.8 691.115 2018.3 696.37 Q2019.83 701.601 2022.91 706.902 L2019.2 706.902 Q2015.73 701.462 2013.99 696.208 Q2012.28 690.953 2012.28 685.768 Q2012.28 680.606 2013.99 675.374 Q2015.71 670.143 2019.2 664.68 L2022.91 664.68 Z\" fill=\"#000000\" fill-rule=\"evenodd\" fill-opacity=\"1\" /><path clip-path=\"url(#clip960)\" d=\"M2052.72 685.004 L2052.72 700.652 L2048.46 700.652 L2048.46 685.143 Q2048.46 681.462 2047.03 679.634 Q2045.59 677.805 2042.72 677.805 Q2039.27 677.805 2037.28 680.004 Q2035.29 682.203 2035.29 685.999 L2035.29 700.652 L2031.01 700.652 L2031.01 674.726 L2035.29 674.726 L2035.29 678.754 Q2036.82 676.416 2038.88 675.259 Q2040.96 674.101 2043.67 674.101 Q2048.14 674.101 2050.43 676.879 Q2052.72 679.634 2052.72 685.004 Z\" fill=\"#000000\" fill-rule=\"evenodd\" fill-opacity=\"1\" /><path clip-path=\"url(#clip960)\" d=\"M2071.26 677.712 Q2067.84 677.712 2065.85 680.397 Q2063.86 683.059 2063.86 687.712 Q2063.86 692.365 2065.82 695.05 Q2067.81 697.712 2071.26 697.712 Q2074.67 697.712 2076.66 695.027 Q2078.65 692.342 2078.65 687.712 Q2078.65 683.106 2076.66 680.421 Q2074.67 677.712 2071.26 677.712 M2071.26 674.101 Q2076.82 674.101 2079.99 677.712 Q2083.16 681.323 2083.16 687.712 Q2083.16 694.078 2079.99 697.712 Q2076.82 701.323 2071.26 701.323 Q2065.68 701.323 2062.51 697.712 Q2059.36 694.078 2059.36 687.712 Q2059.36 681.323 2062.51 677.712 Q2065.68 674.101 2071.26 674.101 Z\" fill=\"#000000\" fill-rule=\"evenodd\" fill-opacity=\"1\" /><path clip-path=\"url(#clip960)\" d=\"M2110.41 679.703 Q2112 676.833 2114.23 675.467 Q2116.45 674.101 2119.46 674.101 Q2123.51 674.101 2125.71 676.948 Q2127.91 679.772 2127.91 685.004 L2127.91 700.652 L2123.62 700.652 L2123.62 685.143 Q2123.62 681.416 2122.3 679.61 Q2120.98 677.805 2118.28 677.805 Q2114.97 677.805 2113.04 680.004 Q2111.12 682.203 2111.12 685.999 L2111.12 700.652 L2106.84 700.652 L2106.84 685.143 Q2106.84 681.393 2105.52 679.61 Q2104.2 677.805 2101.45 677.805 Q2098.18 677.805 2096.26 680.027 Q2094.34 682.226 2094.34 685.999 L2094.34 700.652 L2090.06 700.652 L2090.06 674.726 L2094.34 674.726 L2094.34 678.754 Q2095.8 676.37 2097.84 675.235 Q2099.87 674.101 2102.67 674.101 Q2105.5 674.101 2107.47 675.536 Q2109.46 676.972 2110.41 679.703 Z\" fill=\"#000000\" fill-rule=\"evenodd\" fill-opacity=\"1\" /><path clip-path=\"url(#clip960)\" d=\"M2136.4 674.726 L2140.66 674.726 L2140.66 700.652 L2136.4 700.652 L2136.4 674.726 M2136.4 664.634 L2140.66 664.634 L2140.66 670.027 L2136.4 670.027 L2136.4 664.634 Z\" fill=\"#000000\" fill-rule=\"evenodd\" fill-opacity=\"1\" /><path clip-path=\"url(#clip960)\" d=\"M2171.12 685.004 L2171.12 700.652 L2166.86 700.652 L2166.86 685.143 Q2166.86 681.462 2165.43 679.634 Q2163.99 677.805 2161.12 677.805 Q2157.67 677.805 2155.68 680.004 Q2153.69 682.203 2153.69 685.999 L2153.69 700.652 L2149.41 700.652 L2149.41 674.726 L2153.69 674.726 L2153.69 678.754 Q2155.22 676.416 2157.28 675.259 Q2159.36 674.101 2162.07 674.101 Q2166.54 674.101 2168.83 676.879 Q2171.12 679.634 2171.12 685.004 Z\" fill=\"#000000\" fill-rule=\"evenodd\" fill-opacity=\"1\" /><path clip-path=\"url(#clip960)\" d=\"M2191.4 687.62 Q2186.24 687.62 2184.25 688.8 Q2182.26 689.981 2182.26 692.828 Q2182.26 695.096 2183.74 696.439 Q2185.24 697.758 2187.81 697.758 Q2191.35 697.758 2193.48 695.258 Q2195.64 692.735 2195.64 688.569 L2195.64 687.62 L2191.4 687.62 M2199.9 685.86 L2199.9 700.652 L2195.64 700.652 L2195.64 696.717 Q2194.18 699.078 2192 700.212 Q2189.83 701.323 2186.68 701.323 Q2182.7 701.323 2180.34 699.101 Q2178 696.856 2178 693.106 Q2178 688.731 2180.91 686.509 Q2183.85 684.286 2189.66 684.286 L2195.64 684.286 L2195.64 683.87 Q2195.64 680.93 2193.69 679.333 Q2191.77 677.712 2188.28 677.712 Q2186.05 677.712 2183.95 678.245 Q2181.84 678.777 2179.9 679.842 L2179.9 675.907 Q2182.23 675.004 2184.43 674.564 Q2186.63 674.101 2188.72 674.101 Q2194.34 674.101 2197.12 677.018 Q2199.9 679.934 2199.9 685.86 Z\" fill=\"#000000\" fill-rule=\"evenodd\" fill-opacity=\"1\" /><path clip-path=\"url(#clip960)\" d=\"M2208.67 664.634 L2212.93 664.634 L2212.93 700.652 L2208.67 700.652 L2208.67 664.634 Z\" fill=\"#000000\" fill-rule=\"evenodd\" fill-opacity=\"1\" /><path clip-path=\"url(#clip960)\" d=\"M2221.17 664.68 L2224.87 664.68 Q2228.35 670.143 2230.06 675.374 Q2231.79 680.606 2231.79 685.768 Q2231.79 690.953 2230.06 696.208 Q2228.35 701.462 2224.87 706.902 L2221.17 706.902 Q2224.25 701.601 2225.75 696.37 Q2227.28 691.115 2227.28 685.768 Q2227.28 680.421 2225.75 675.212 Q2224.25 670.004 2221.17 664.68 Z\" fill=\"#000000\" fill-rule=\"evenodd\" fill-opacity=\"1\" /><polyline clip-path=\"url(#clip960)\" style=\"stroke:#e26f46; stroke-linecap:butt; stroke-linejoin:round; stroke-width:4; stroke-opacity:1; fill:none\" points=\"\n  1797.1,735.212 1942.26,735.212 \n  \"/>\n<path clip-path=\"url(#clip960)\" d=\"M1985.71 736.057 L1970.96 736.057 Q1971.31 742.978 1972.91 745.918 Q1974.9 749.529 1978.35 749.529 Q1981.82 749.529 1983.74 745.895 Q1985.43 742.7 1985.71 736.057 M1985.64 732.122 Q1984.99 725.548 1983.74 723.233 Q1981.75 719.575 1978.35 719.575 Q1974.8 719.575 1972.93 723.187 Q1971.45 726.103 1971.01 732.122 L1985.64 732.122 M1978.35 716.103 Q1983.9 716.103 1987.07 721.011 Q1990.24 725.895 1990.24 734.552 Q1990.24 743.186 1987.07 748.094 Q1983.9 753.024 1978.35 753.024 Q1972.77 753.024 1969.62 748.094 Q1966.45 743.186 1966.45 734.552 Q1966.45 725.895 1969.62 721.011 Q1972.77 716.103 1978.35 716.103 Z\" fill=\"#000000\" fill-rule=\"evenodd\" fill-opacity=\"1\" /><path clip-path=\"url(#clip960)\" d=\"M2022.61 716.52 Q2019.5 721.844 2018 727.052 Q2016.49 732.261 2016.49 737.608 Q2016.49 742.955 2018 748.21 Q2019.53 753.441 2022.61 758.742 L2018.9 758.742 Q2015.43 753.302 2013.69 748.048 Q2011.98 742.793 2011.98 737.608 Q2011.98 732.446 2013.69 727.214 Q2015.41 721.983 2018.9 716.52 L2022.61 716.52 Z\" fill=\"#000000\" fill-rule=\"evenodd\" fill-opacity=\"1\" /><path clip-path=\"url(#clip960)\" d=\"M2052.42 736.844 L2052.42 752.492 L2048.16 752.492 L2048.16 736.983 Q2048.16 733.302 2046.73 731.474 Q2045.29 729.645 2042.42 729.645 Q2038.97 729.645 2036.98 731.844 Q2034.99 734.043 2034.99 737.839 L2034.99 752.492 L2030.71 752.492 L2030.71 726.566 L2034.99 726.566 L2034.99 730.594 Q2036.52 728.256 2038.58 727.099 Q2040.66 725.941 2043.37 725.941 Q2047.84 725.941 2050.13 728.719 Q2052.42 731.474 2052.42 736.844 Z\" fill=\"#000000\" fill-rule=\"evenodd\" fill-opacity=\"1\" /><path clip-path=\"url(#clip960)\" d=\"M2070.96 729.552 Q2067.54 729.552 2065.55 732.237 Q2063.55 734.899 2063.55 739.552 Q2063.55 744.205 2065.52 746.89 Q2067.51 749.552 2070.96 749.552 Q2074.36 749.552 2076.36 746.867 Q2078.35 744.182 2078.35 739.552 Q2078.35 734.946 2076.36 732.261 Q2074.36 729.552 2070.96 729.552 M2070.96 725.941 Q2076.52 725.941 2079.69 729.552 Q2082.86 733.163 2082.86 739.552 Q2082.86 745.918 2079.69 749.552 Q2076.52 753.163 2070.96 753.163 Q2065.38 753.163 2062.21 749.552 Q2059.06 745.918 2059.06 739.552 Q2059.06 733.163 2062.21 729.552 Q2065.38 725.941 2070.96 725.941 Z\" fill=\"#000000\" fill-rule=\"evenodd\" fill-opacity=\"1\" /><path clip-path=\"url(#clip960)\" d=\"M2110.11 731.543 Q2111.7 728.673 2113.92 727.307 Q2116.15 725.941 2119.16 725.941 Q2123.21 725.941 2125.41 728.788 Q2127.6 731.612 2127.6 736.844 L2127.6 752.492 L2123.32 752.492 L2123.32 736.983 Q2123.32 733.256 2122 731.45 Q2120.68 729.645 2117.98 729.645 Q2114.67 729.645 2112.74 731.844 Q2110.82 734.043 2110.82 737.839 L2110.82 752.492 L2106.54 752.492 L2106.54 736.983 Q2106.54 733.233 2105.22 731.45 Q2103.9 729.645 2101.15 729.645 Q2097.88 729.645 2095.96 731.867 Q2094.04 734.066 2094.04 737.839 L2094.04 752.492 L2089.76 752.492 L2089.76 726.566 L2094.04 726.566 L2094.04 730.594 Q2095.5 728.21 2097.54 727.075 Q2099.57 725.941 2102.37 725.941 Q2105.2 725.941 2107.17 727.376 Q2109.16 728.812 2110.11 731.543 Z\" fill=\"#000000\" fill-rule=\"evenodd\" fill-opacity=\"1\" /><path clip-path=\"url(#clip960)\" d=\"M2136.1 726.566 L2140.36 726.566 L2140.36 752.492 L2136.1 752.492 L2136.1 726.566 M2136.1 716.474 L2140.36 716.474 L2140.36 721.867 L2136.1 721.867 L2136.1 716.474 Z\" fill=\"#000000\" fill-rule=\"evenodd\" fill-opacity=\"1\" /><path clip-path=\"url(#clip960)\" d=\"M2170.82 736.844 L2170.82 752.492 L2166.56 752.492 L2166.56 736.983 Q2166.56 733.302 2165.13 731.474 Q2163.69 729.645 2160.82 729.645 Q2157.37 729.645 2155.38 731.844 Q2153.39 734.043 2153.39 737.839 L2153.39 752.492 L2149.11 752.492 L2149.11 726.566 L2153.39 726.566 L2153.39 730.594 Q2154.92 728.256 2156.98 727.099 Q2159.06 725.941 2161.77 725.941 Q2166.24 725.941 2168.53 728.719 Q2170.82 731.474 2170.82 736.844 Z\" fill=\"#000000\" fill-rule=\"evenodd\" fill-opacity=\"1\" /><path clip-path=\"url(#clip960)\" d=\"M2191.1 739.46 Q2185.94 739.46 2183.95 740.64 Q2181.96 741.821 2181.96 744.668 Q2181.96 746.936 2183.44 748.279 Q2184.94 749.598 2187.51 749.598 Q2191.05 749.598 2193.18 747.098 Q2195.34 744.575 2195.34 740.409 L2195.34 739.46 L2191.1 739.46 M2199.6 737.7 L2199.6 752.492 L2195.34 752.492 L2195.34 748.557 Q2193.88 750.918 2191.7 752.052 Q2189.53 753.163 2186.38 753.163 Q2182.4 753.163 2180.04 750.941 Q2177.7 748.696 2177.7 744.946 Q2177.7 740.571 2180.61 738.349 Q2183.55 736.126 2189.36 736.126 L2195.34 736.126 L2195.34 735.71 Q2195.34 732.77 2193.39 731.173 Q2191.47 729.552 2187.97 729.552 Q2185.75 729.552 2183.65 730.085 Q2181.54 730.617 2179.6 731.682 L2179.6 727.747 Q2181.93 726.844 2184.13 726.404 Q2186.33 725.941 2188.41 725.941 Q2194.04 725.941 2196.82 728.858 Q2199.6 731.774 2199.6 737.7 Z\" fill=\"#000000\" fill-rule=\"evenodd\" fill-opacity=\"1\" /><path clip-path=\"url(#clip960)\" d=\"M2208.37 716.474 L2212.63 716.474 L2212.63 752.492 L2208.37 752.492 L2208.37 716.474 Z\" fill=\"#000000\" fill-rule=\"evenodd\" fill-opacity=\"1\" /><path clip-path=\"url(#clip960)\" d=\"M2220.87 716.52 L2224.57 716.52 Q2228.04 721.983 2229.76 727.214 Q2231.49 732.446 2231.49 737.608 Q2231.49 742.793 2229.76 748.048 Q2228.04 753.302 2224.57 758.742 L2220.87 758.742 Q2223.95 753.441 2225.45 748.21 Q2226.98 742.955 2226.98 737.608 Q2226.98 732.261 2225.45 727.052 Q2223.95 721.844 2220.87 716.52 Z\" fill=\"#000000\" fill-rule=\"evenodd\" fill-opacity=\"1\" /></svg>\n"
     },
     "execution_count": 25,
     "metadata": {},
     "output_type": "execute_result"
    }
   ],
   "source": [
    "# Simulate nominal model with LQR gain from bilinear model\n",
    "\n",
    "tf_sim = 3.0\n",
    "Tsim_lqr_nominal = range(0,tf_sim,step=dt)\n",
    "\n",
    "# x0 = [0,pi-deg2rad(1),0,0]\n",
    "x0 = [-0.4,pi-deg2rad(40),0,0]\n",
    "\n",
    "ctrl_lqr = LQRController(K_bil_nom, xe, ue)\n",
    "Xsim_lqr_nominal, = simulatewithcontroller(dmodel, ctrl_lqr, x0, tf_sim, dt)\n",
    "\n",
    "plotstates(Tsim_lqr_nominal, Xsim_lqr_nominal, inds=1:2, xlabel=\"time (s)\", ylabel=\"states\", label=[\"x (nominal)\" \"θ (nominal)\"], legend=:right, lw=2)"
   ]
  },
  {
   "cell_type": "markdown",
   "metadata": {},
   "source": [
    "# Evaluate New eDMD Model with Penalties on Jacobians\n",
    "Here we incorporate derivative data by penalizing the difference of the Jacobian of the learned model from the expected Jacobians of the nominal model, e.g.:\n",
    "\n",
    "$$ \\sum_{j=1}^P || \\frac{\\partial}{\\partial x} G \\hat{f}(\\varphi(x_j), u_j) - A_j ||^2 $$\n",
    "\n",
    "where \n",
    "\n",
    "$$ \\hat{f}(y,u) = A y + B u + \\sum_{i=1}^m u_i C_i y $$\n",
    "\n",
    "are the learned bilinear dynamics."
   ]
  },
  {
   "cell_type": "code",
   "execution_count": 26,
   "metadata": {},
   "outputs": [],
   "source": [
    "# Generate Jacobians\n",
    "xn = zeros(n0)\n",
    "jacobians = map(CartesianIndices(U_train)) do cind\n",
    "    k = cind[1]\n",
    "    x = X_train[cind]\n",
    "    u = U_train[cind]\n",
    "    z = RD.KnotPoint{n0,m}(x,u,T_ref[k],dt)\n",
    "    J = zeros(n0,n0+m)\n",
    "    RD.jacobian!(\n",
    "        RD.InPlace(), RD.ForwardAD(), dmodel, J, xn, z \n",
    "    )\n",
    "    J\n",
    "end\n",
    "A_train = map(J->J[:,1:n0], jacobians)\n",
    "B_train = map(J->J[:,n0+1:end], jacobians)\n",
    "\n",
    "# Convert states to lifted Koopman states\n",
    "Y_train = map(kf, X_train)\n",
    "\n",
    "# Calculate Jacobian of Koopman transform\n",
    "F_train = map(@view X_train[1:end-1,:]) do x\n",
    "    sparse(ForwardDiff.jacobian(x->expandstate(model_bilinear,x), x))\n",
    "end;"
   ]
  },
  {
   "cell_type": "markdown",
   "metadata": {},
   "source": [
    "### Build Least-squares problem\n",
    "Find the eDMD data `A`, `B`, and `C` that minimize the following residual:\n",
    "\n",
    "$$\\sum_{j=1}^P (1-\\alpha)|| A y_j + B u_j + \\sum_{i=1}^m u_{j,i} C_i x_j - y_j^+ ||^2 + \n",
    "\\alpha || G (A + \\sum_{i=1}^m u_{j,i} C_j) F_j  - A_j ||^2 + \n",
    "\\alpha || G (B + [C_1 x_j \\dots C_m x_j]) - B_j ||^2  $$\n",
    "\n",
    "where $F_j = \\partial \\varphi(x_j) / \\partial x$.\n",
    "\n",
    "This is equivalent to \n",
    "\n",
    "$$ (1-\\alpha)|| E Z_{1:P} - Y_{1:P}^+ ||^2 + \n",
    "\\alpha || G E \\hat{A}_{1:P} - A_{1:P} ||^2 +\n",
    "\\alpha || G E \\hat{B}_{1:P} - B_{1:P} ||^2 $$\n",
    "\n",
    "where\n",
    "\n",
    "$$ E = \\begin{bmatrix} A & B & C_1 & \\dots & C_m \\end{bmatrix} \\in \\mathbb{R}^{n \\times p} $$\n",
    "$$ Z_j = \\begin{bmatrix} \n",
    "    x_j \\\\ u_j \\\\ u_{j,1} x_j \\\\ \\vdots \\\\ u_{j,m} x_j \n",
    "\\end{bmatrix} \\in \\mathbb{R}^{p}, \\quad\n",
    "\\hat{A}_j = \\begin{bmatrix} \n",
    "    I_n \\\\ 0_{m,n} \\\\ u_{j,1} I_n \\\\ \\vdots \\\\ u_{j,m} I_n \n",
    "\\end{bmatrix} \\in \\mathbb{R}^{p \\times n}, \\quad\n",
    "\\hat{B}_j = \\begin{bmatrix} \n",
    "    0_{n,m} \\\\ I_m \\\\ [x_j \\; 0 \\; \\dots \\; 0] \\\\ \\vdots \\\\ [0 \\; \\dots \\; 0 \\; x_j] \n",
    "\\end{bmatrix} \\in \\mathbb{R}^{p \\times m}\n",
    "$$\n",
    "\n",
    "which is equivalent to \n",
    "\n",
    "$$ \\left\\lVert \n",
    "\\begin{bmatrix} \n",
    "    Z_{1:P}^T \\otimes I_n \\\\\n",
    "    \\hat{A}_{1:P}^T \\otimes G \\\\\n",
    "    \\hat{B}_{1:P}^T \\otimes G \n",
    "\\end{bmatrix} \\text{vec}(E) - \n",
    "\\begin{bmatrix}\n",
    "    \\text{vec}{Y_{1:P}^+}\\\\\n",
    "    \\text{vec}{A_{1:P}^+}\\\\\n",
    "    \\text{vec}{B_{1:P}^+}\\\\\n",
    "\\end{bmatrix}\n",
    "\\right\\rVert^2 $$"
   ]
  },
  {
   "cell_type": "code",
   "execution_count": 27,
   "metadata": {},
   "outputs": [
    {
     "name": "stdout",
     "output_type": "stream",
     "text": [
      "Concatentating data\n",
      "Creating feature matrix\n",
      "Creating state Jacobian matrix\n",
      "Creating control Jacobian matrix\n",
      "Creating least-squares data\n"
     ]
    }
   ],
   "source": [
    "# Create a sparse version of the G Jacobian\n",
    "G = spdiagm(n0,n,1=>ones(n0)) \n",
    "@test norm(G - model_bilinear.g) < 1e-8\n",
    "\n",
    "# Build Least Squares Problem\n",
    "W,s = BilinearControl.EDMD.build_edmd_data(\n",
    "    Z_train, U_train, A_train, B_train, F_train, model_bilinear.g\n",
    ");"
   ]
  },
  {
   "cell_type": "markdown",
   "metadata": {},
   "source": [
    "### Solve the Least-squares Problem"
   ]
  },
  {
   "cell_type": "code",
   "execution_count": 28,
   "metadata": {},
   "outputs": [
    {
     "name": "stdout",
     "output_type": "stream",
     "text": [
      " 10.619552 seconds (451.15 k allocations: 1.349 GiB, 3.50% gc time, 0.99% compilation time)\n",
      " 45.041349 seconds (622 allocations: 27.529 GiB, 1.73% gc time, 0.02% compilation time)\n",
      "  1.801568 seconds (33 allocations: 34.782 MiB, 0.46% gc time, 0.14% compilation time)\n"
     ]
    },
    {
     "data": {
      "text/plain": [
       "13671.16757513551"
      ]
     },
     "execution_count": 28,
     "metadata": {},
     "output_type": "execute_result"
    }
   ],
   "source": [
    "@time Wsparse = sparse(W)\n",
    "@time F = qr(Wsparse)\n",
    "@time x = F \\ s\n",
    "norm(W*x - s)"
   ]
  },
  {
   "cell_type": "code",
   "execution_count": 29,
   "metadata": {},
   "outputs": [
    {
     "data": {
      "text/plain": [
       "0.1292593635595607"
      ]
     },
     "execution_count": 29,
     "metadata": {},
     "output_type": "execute_result"
    }
   ],
   "source": [
    "BilinearControl.matdensity(Wsparse)"
   ]
  },
  {
   "cell_type": "code",
   "execution_count": 30,
   "metadata": {},
   "outputs": [],
   "source": [
    "# Extract out bilinear dynamics\n",
    "n = length(Z_train[1])\n",
    "E = reshape(x,n,:)\n",
    "A = E[:,1:n]\n",
    "B = E[:,n .+ (1:m)]\n",
    "C = E[:,n+m .+ (1:n*m)]\n",
    "\n",
    "C_list = Matrix{Float64}[]\n",
    "    \n",
    "for i in 1:m\n",
    "    C_i = C[:, (i-1)*n+1:i*n]\n",
    "    push!(C_list, C_i)\n",
    "end\n",
    "\n",
    "return A, B, C_list, Matrix(g)\n",
    "\n",
    "C = C_list;"
   ]
  },
  {
   "cell_type": "code",
   "execution_count": 31,
   "metadata": {},
   "outputs": [],
   "source": [
    "# Save data\n",
    "jldsave(joinpath(Problems.DATADIR,\"cartpole_lqr_jacobian_penalized_eDMD_data.jld2\"); A, B, C, g, kf, eigfuns, eigorders, tf, dt)"
   ]
  },
  {
   "cell_type": "markdown",
   "metadata": {},
   "source": [
    "# Import New Model"
   ]
  },
  {
   "cell_type": "code",
   "execution_count": 32,
   "metadata": {},
   "outputs": [],
   "source": [
    "cartpole_data = load(joinpath(Problems.DATADIR, \"cartpole_lqr_jacobian_penalized_eDMD_data.jld2\"))\n",
    "A_jacpen = cartpole_data[\"A\"]\n",
    "B_jacpen = cartpole_data[\"B\"]\n",
    "C_jacpen = cartpole_data[\"C\"]\n",
    "g_jacpen = cartpole_data[\"g\"]\n",
    "kf = cartpole_data[\"kf\"]\n",
    "tf = cartpole_data[\"tf\"]\n",
    "dt = cartpole_data[\"dt\"]\n",
    "\n",
    "T_ref = range(0,tf,step=dt);"
   ]
  },
  {
   "cell_type": "markdown",
   "metadata": {},
   "source": [
    "# Evaluate the New Fit"
   ]
  },
  {
   "cell_type": "code",
   "execution_count": 33,
   "metadata": {},
   "outputs": [
    {
     "name": "stdout",
     "output_type": "stream",
     "text": [
      "Train Error: 0.025612508720672666\n",
      "Test Error:  0.04551649039431906\n",
      "\n",
      "New Train Error: 0.0062163136534720545\n",
      "New Test Error:  0.006365613094846368\n"
     ]
    }
   ],
   "source": [
    "# Evaluate the Fit\n",
    "err_train2 = BilinearControl.EDMD.fiterror(A_jacpen, B_jacpen, C_jacpen, g_jacpen, kf, X_train, U_train)\n",
    "err_test2 = BilinearControl.EDMD.fiterror(A_jacpen, B_jacpen, C_jacpen, g_jacpen, kf, X_test, U_test)\n",
    "println(\"Train Error: \", err_train)\n",
    "println(\"Test Error:  \", err_test)\n",
    "println(\"\")\n",
    "println(\"New Train Error: \", err_train2)\n",
    "println(\"New Test Error:  \", err_test2)"
   ]
  },
  {
   "cell_type": "code",
   "execution_count": 34,
   "metadata": {},
   "outputs": [],
   "source": [
    "model_bilinear_jacpen = EDMDModel(A_jacpen, B_jacpen, C_jacpen, g_jacpen, kf, dt, \"cartpole\")\n",
    "n,m = RD.dims(model_bilinear_jacpen)\n",
    "n0 = originalstatedim(model_bilinear_jacpen);"
   ]
  },
  {
   "cell_type": "code",
   "execution_count": 35,
   "metadata": {},
   "outputs": [],
   "source": [
    "# Get A,B for new system\n",
    "function dynamics_bilinear_jacpen(x,u,t,dt)\n",
    "    y = expandstate(model_bilinear_jacpen, x)\n",
    "    yn = zero(y)\n",
    "    RD.discrete_dynamics!(model_bilinear_jacpen, yn, y, u, t, dt)\n",
    "    originalstate(model_bilinear_jacpen, yn)\n",
    "end\n",
    "\n",
    "A_bil_jacpen = FiniteDiff.finite_difference_jacobian(x->dynamics_bilinear_jacpen(x,ue,0.0,dt), xe)\n",
    "B_bil_jacpen = FiniteDiff.finite_difference_jacobian(u->dynamics_bilinear_jacpen(xe,u,0.0,dt), ue);"
   ]
  },
  {
   "cell_type": "markdown",
   "metadata": {},
   "source": [
    "**Compare the Jacobians with Nominal model**"
   ]
  },
  {
   "cell_type": "code",
   "execution_count": 36,
   "metadata": {},
   "outputs": [
    {
     "data": {
      "text/plain": [
       "4×4 Matrix{Float64}:\n",
       " 1.0  0.000392055   0.019998     -1.38375e-6\n",
       " 0.0  1.0047       -3.99648e-6    0.0199834\n",
       " 0.0  0.0392035     0.9998       -7.57316e-6\n",
       " 0.0  0.470481     -0.000399628   0.999909"
      ]
     },
     "execution_count": 36,
     "metadata": {},
     "output_type": "execute_result"
    }
   ],
   "source": [
    "A_og"
   ]
  },
  {
   "cell_type": "code",
   "execution_count": 37,
   "metadata": {},
   "outputs": [
    {
     "data": {
      "text/plain": [
       "4×4 Matrix{Float64}:\n",
       " 1.0          0.000384806   0.0199987   -1.10295e-6\n",
       " 2.47359e-6   1.0047       -1.3113e-6    0.0199848\n",
       " 7.52507e-5   0.0386225     0.999888     3.14119e-5\n",
       " 0.000321389  0.470412     -3.24245e-5   1.00011"
      ]
     },
     "execution_count": 37,
     "metadata": {},
     "output_type": "execute_result"
    }
   ],
   "source": [
    "A_bil_jacpen"
   ]
  },
  {
   "cell_type": "code",
   "execution_count": 38,
   "metadata": {},
   "outputs": [
    {
     "data": {
      "text/plain": [
       "4×1 Matrix{Float64}:\n",
       " 0.00019995956333333334\n",
       " 0.00039964806000000004\n",
       " 0.01999523290316667\n",
       " 0.03996279079433334"
      ]
     },
     "execution_count": 38,
     "metadata": {},
     "output_type": "execute_result"
    }
   ],
   "source": [
    "B_og"
   ]
  },
  {
   "cell_type": "code",
   "execution_count": 39,
   "metadata": {},
   "outputs": [
    {
     "data": {
      "text/plain": [
       "4×1 Matrix{Float64}:\n",
       " 0.00019874977174083597\n",
       " 0.0004000663757324219\n",
       " 0.0198978412249744\n",
       " 0.04012235753089044"
      ]
     },
     "execution_count": 39,
     "metadata": {},
     "output_type": "execute_result"
    }
   ],
   "source": [
    "B_bil_jacpen"
   ]
  },
  {
   "cell_type": "markdown",
   "metadata": {},
   "source": [
    "# Try Stabilizing New Model using LQR"
   ]
  },
  {
   "cell_type": "code",
   "execution_count": 40,
   "metadata": {},
   "outputs": [],
   "source": [
    "K_bil_jacpen = dlqr(A_bil_jacpen, B_bil_jacpen, Qlqr, Rlqr);"
   ]
  },
  {
   "cell_type": "code",
   "execution_count": 41,
   "metadata": {},
   "outputs": [
    {
     "name": "stdout",
     "output_type": "stream",
     "text": [
      "Stability Summary:\n",
      "  Dynamics  |  Controller  |  is stable? \n",
      "------------|--------------|--------------\n",
      "  Nominal   |  Nominal     |  true\n",
      "  Bilinear  |  Bilinear    |  true\n",
      "  Nominal   |  Bilinear    |  true\n"
     ]
    }
   ],
   "source": [
    "# Evaluate stability\n",
    "isstable_bilinear2 = maximum(abs.(eigvals(A_bil_jacpen - B_bil_jacpen*K_bil_jacpen))) < 1.0\n",
    "isstable_nominal_with_bilinear2 = maximum(abs.(eigvals(A_og - B_og*K_bil_jacpen))) < 1.0\n",
    "\n",
    "println(\"Stability Summary:\")\n",
    "println(\"  Dynamics  |  Controller  |  is stable? \")\n",
    "println(\"------------|--------------|--------------\")\n",
    "println(\"  Nominal   |  Nominal     |  \", isstable_nominal)\n",
    "println(\"  Bilinear  |  Bilinear    |  \", isstable_bilinear2)\n",
    "println(\"  Nominal   |  Bilinear    |  \", isstable_nominal_with_bilinear2)"
   ]
  },
  {
   "cell_type": "code",
   "execution_count": 42,
   "metadata": {},
   "outputs": [
    {
     "data": {
      "image/svg+xml": "<?xml version=\"1.0\" encoding=\"utf-8\"?>\n<svg xmlns=\"http://www.w3.org/2000/svg\" xmlns:xlink=\"http://www.w3.org/1999/xlink\" width=\"600\" height=\"400\" viewBox=\"0 0 2400 1600\">\n<defs>\n  <clipPath id=\"clip000\">\n    <rect x=\"0\" y=\"0\" width=\"2400\" height=\"1600\"/>\n  </clipPath>\n</defs>\n<path clip-path=\"url(#clip000)\" d=\"\nM0 1600 L2400 1600 L2400 0 L0 0  Z\n  \" fill=\"#ffffff\" fill-rule=\"evenodd\" fill-opacity=\"1\"/>\n<defs>\n  <clipPath id=\"clip001\">\n    <rect x=\"480\" y=\"0\" width=\"1681\" height=\"1600\"/>\n  </clipPath>\n</defs>\n<path clip-path=\"url(#clip000)\" d=\"\nM175.445 1423.18 L2352.76 1423.18 L2352.76 47.2441 L175.445 47.2441  Z\n  \" fill=\"#ffffff\" fill-rule=\"evenodd\" fill-opacity=\"1\"/>\n<defs>\n  <clipPath id=\"clip002\">\n    <rect x=\"175\" y=\"47\" width=\"2178\" height=\"1377\"/>\n  </clipPath>\n</defs>\n<polyline clip-path=\"url(#clip002)\" style=\"stroke:#000000; stroke-linecap:butt; stroke-linejoin:round; stroke-width:2; stroke-opacity:0.1; fill:none\" points=\"\n  237.067,1423.18 237.067,47.2441 \n  \"/>\n<polyline clip-path=\"url(#clip002)\" style=\"stroke:#000000; stroke-linecap:butt; stroke-linejoin:round; stroke-width:2; stroke-opacity:0.1; fill:none\" points=\"\n  921.756,1423.18 921.756,47.2441 \n  \"/>\n<polyline clip-path=\"url(#clip002)\" style=\"stroke:#000000; stroke-linecap:butt; stroke-linejoin:round; stroke-width:2; stroke-opacity:0.1; fill:none\" points=\"\n  1606.45,1423.18 1606.45,47.2441 \n  \"/>\n<polyline clip-path=\"url(#clip002)\" style=\"stroke:#000000; stroke-linecap:butt; stroke-linejoin:round; stroke-width:2; stroke-opacity:0.1; fill:none\" points=\"\n  2291.13,1423.18 2291.13,47.2441 \n  \"/>\n<polyline clip-path=\"url(#clip000)\" style=\"stroke:#000000; stroke-linecap:butt; stroke-linejoin:round; stroke-width:4; stroke-opacity:1; fill:none\" points=\"\n  175.445,1423.18 2352.76,1423.18 \n  \"/>\n<polyline clip-path=\"url(#clip000)\" style=\"stroke:#000000; stroke-linecap:butt; stroke-linejoin:round; stroke-width:4; stroke-opacity:1; fill:none\" points=\"\n  237.067,1423.18 237.067,1404.28 \n  \"/>\n<polyline clip-path=\"url(#clip000)\" style=\"stroke:#000000; stroke-linecap:butt; stroke-linejoin:round; stroke-width:4; stroke-opacity:1; fill:none\" points=\"\n  921.756,1423.18 921.756,1404.28 \n  \"/>\n<polyline clip-path=\"url(#clip000)\" style=\"stroke:#000000; stroke-linecap:butt; stroke-linejoin:round; stroke-width:4; stroke-opacity:1; fill:none\" points=\"\n  1606.45,1423.18 1606.45,1404.28 \n  \"/>\n<polyline clip-path=\"url(#clip000)\" style=\"stroke:#000000; stroke-linecap:butt; stroke-linejoin:round; stroke-width:4; stroke-opacity:1; fill:none\" points=\"\n  2291.13,1423.18 2291.13,1404.28 \n  \"/>\n<path clip-path=\"url(#clip000)\" d=\"M237.067 1454.1 Q233.456 1454.1 231.627 1457.66 Q229.822 1461.2 229.822 1468.33 Q229.822 1475.44 231.627 1479.01 Q233.456 1482.55 237.067 1482.55 Q240.701 1482.55 242.507 1479.01 Q244.336 1475.44 244.336 1468.33 Q244.336 1461.2 242.507 1457.66 Q240.701 1454.1 237.067 1454.1 M237.067 1450.39 Q242.877 1450.39 245.933 1455 Q249.012 1459.58 249.012 1468.33 Q249.012 1477.06 245.933 1481.67 Q242.877 1486.25 237.067 1486.25 Q231.257 1486.25 228.178 1481.67 Q225.123 1477.06 225.123 1468.33 Q225.123 1459.58 228.178 1455 Q231.257 1450.39 237.067 1450.39 Z\" fill=\"#000000\" fill-rule=\"evenodd\" fill-opacity=\"1\" /><path clip-path=\"url(#clip000)\" d=\"M912.138 1481.64 L919.777 1481.64 L919.777 1455.28 L911.467 1456.95 L911.467 1452.69 L919.731 1451.02 L924.407 1451.02 L924.407 1481.64 L932.045 1481.64 L932.045 1485.58 L912.138 1485.58 L912.138 1481.64 Z\" fill=\"#000000\" fill-rule=\"evenodd\" fill-opacity=\"1\" /><path clip-path=\"url(#clip000)\" d=\"M1601.1 1481.64 L1617.42 1481.64 L1617.42 1485.58 L1595.47 1485.58 L1595.47 1481.64 Q1598.13 1478.89 1602.72 1474.26 Q1607.32 1469.61 1608.51 1468.27 Q1610.75 1465.74 1611.63 1464.01 Q1612.53 1462.25 1612.53 1460.56 Q1612.53 1457.8 1610.59 1456.07 Q1608.67 1454.33 1605.57 1454.33 Q1603.37 1454.33 1600.91 1455.09 Q1598.48 1455.86 1595.7 1457.41 L1595.7 1452.69 Q1598.53 1451.55 1600.98 1450.97 Q1603.44 1450.39 1605.47 1450.39 Q1610.84 1450.39 1614.04 1453.08 Q1617.23 1455.77 1617.23 1460.26 Q1617.23 1462.39 1616.42 1464.31 Q1615.63 1466.2 1613.53 1468.8 Q1612.95 1469.47 1609.85 1472.69 Q1606.75 1475.88 1601.1 1481.64 Z\" fill=\"#000000\" fill-rule=\"evenodd\" fill-opacity=\"1\" /><path clip-path=\"url(#clip000)\" d=\"M2295.38 1466.95 Q2298.74 1467.66 2300.61 1469.93 Q2302.51 1472.2 2302.51 1475.53 Q2302.51 1480.65 2298.99 1483.45 Q2295.47 1486.25 2288.99 1486.25 Q2286.82 1486.25 2284.5 1485.81 Q2282.21 1485.39 2279.76 1484.54 L2279.76 1480.02 Q2281.7 1481.16 2284.02 1481.74 Q2286.33 1482.32 2288.85 1482.32 Q2293.25 1482.32 2295.54 1480.58 Q2297.86 1478.84 2297.86 1475.53 Q2297.86 1472.48 2295.71 1470.77 Q2293.58 1469.03 2289.76 1469.03 L2285.73 1469.03 L2285.73 1465.19 L2289.94 1465.19 Q2293.39 1465.19 2295.22 1463.82 Q2297.05 1462.43 2297.05 1459.84 Q2297.05 1457.18 2295.15 1455.77 Q2293.28 1454.33 2289.76 1454.33 Q2287.84 1454.33 2285.64 1454.75 Q2283.44 1455.16 2280.8 1456.04 L2280.8 1451.88 Q2283.46 1451.14 2285.78 1450.77 Q2288.11 1450.39 2290.17 1450.39 Q2295.5 1450.39 2298.6 1452.83 Q2301.7 1455.23 2301.7 1459.35 Q2301.7 1462.22 2300.06 1464.21 Q2298.41 1466.18 2295.38 1466.95 Z\" fill=\"#000000\" fill-rule=\"evenodd\" fill-opacity=\"1\" /><path clip-path=\"url(#clip000)\" d=\"M1151.55 1522.27 L1151.55 1532.4 L1163.62 1532.4 L1163.62 1536.95 L1151.55 1536.95 L1151.55 1556.3 Q1151.55 1560.66 1152.73 1561.9 Q1153.94 1563.14 1157.6 1563.14 L1163.62 1563.14 L1163.62 1568.04 L1157.6 1568.04 Q1150.82 1568.04 1148.24 1565.53 Q1145.67 1562.98 1145.67 1556.3 L1145.67 1536.95 L1141.37 1536.95 L1141.37 1532.4 L1145.67 1532.4 L1145.67 1522.27 L1151.55 1522.27 Z\" fill=\"#000000\" fill-rule=\"evenodd\" fill-opacity=\"1\" /><path clip-path=\"url(#clip000)\" d=\"M1171.32 1532.4 L1177.18 1532.4 L1177.18 1568.04 L1171.32 1568.04 L1171.32 1532.4 M1171.32 1518.52 L1177.18 1518.52 L1177.18 1525.93 L1171.32 1525.93 L1171.32 1518.52 Z\" fill=\"#000000\" fill-rule=\"evenodd\" fill-opacity=\"1\" /><path clip-path=\"url(#clip000)\" d=\"M1217.19 1539.24 Q1219.38 1535.29 1222.44 1533.41 Q1225.49 1531.54 1229.63 1531.54 Q1235.2 1531.54 1238.22 1535.45 Q1241.25 1539.33 1241.25 1546.53 L1241.25 1568.04 L1235.36 1568.04 L1235.36 1546.72 Q1235.36 1541.59 1233.55 1539.11 Q1231.73 1536.63 1228.01 1536.63 Q1223.46 1536.63 1220.81 1539.65 Q1218.17 1542.68 1218.17 1547.9 L1218.17 1568.04 L1212.28 1568.04 L1212.28 1546.72 Q1212.28 1541.56 1210.47 1539.11 Q1208.66 1536.63 1204.87 1536.63 Q1200.38 1536.63 1197.74 1539.68 Q1195.1 1542.71 1195.1 1547.9 L1195.1 1568.04 L1189.21 1568.04 L1189.21 1532.4 L1195.1 1532.4 L1195.1 1537.93 Q1197.1 1534.66 1199.9 1533.1 Q1202.7 1531.54 1206.55 1531.54 Q1210.44 1531.54 1213.14 1533.51 Q1215.88 1535.48 1217.19 1539.24 Z\" fill=\"#000000\" fill-rule=\"evenodd\" fill-opacity=\"1\" /><path clip-path=\"url(#clip000)\" d=\"M1283.42 1548.76 L1283.42 1551.62 L1256.49 1551.62 Q1256.88 1557.67 1260.12 1560.85 Q1263.4 1564 1269.22 1564 Q1272.6 1564 1275.75 1563.17 Q1278.93 1562.35 1282.05 1560.69 L1282.05 1566.23 Q1278.9 1567.57 1275.59 1568.27 Q1272.28 1568.97 1268.87 1568.97 Q1260.34 1568.97 1255.35 1564 Q1250.38 1559.04 1250.38 1550.57 Q1250.38 1541.82 1255.09 1536.69 Q1259.84 1531.54 1267.86 1531.54 Q1275.05 1531.54 1279.22 1536.18 Q1283.42 1540.8 1283.42 1548.76 M1277.56 1547.04 Q1277.5 1542.23 1274.86 1539.37 Q1272.25 1536.5 1267.92 1536.5 Q1263.02 1536.5 1260.06 1539.27 Q1257.13 1542.04 1256.68 1547.07 L1277.56 1547.04 Z\" fill=\"#000000\" fill-rule=\"evenodd\" fill-opacity=\"1\" /><path clip-path=\"url(#clip000)\" d=\"M1327.82 1518.58 Q1323.56 1525.9 1321.49 1533.06 Q1319.42 1540.23 1319.42 1547.58 Q1319.42 1554.93 1321.49 1562.16 Q1323.59 1569.35 1327.82 1576.64 L1322.73 1576.64 Q1317.95 1569.16 1315.57 1561.93 Q1313.21 1554.71 1313.21 1547.58 Q1313.21 1540.48 1315.57 1533.29 Q1317.92 1526.09 1322.73 1518.58 L1327.82 1518.58 Z\" fill=\"#000000\" fill-rule=\"evenodd\" fill-opacity=\"1\" /><path clip-path=\"url(#clip000)\" d=\"M1361.91 1533.45 L1361.91 1538.98 Q1359.43 1537.71 1356.75 1537.07 Q1354.08 1536.44 1351.22 1536.44 Q1346.85 1536.44 1344.66 1537.77 Q1342.49 1539.11 1342.49 1541.79 Q1342.49 1543.82 1344.05 1545 Q1345.61 1546.15 1350.32 1547.2 L1352.33 1547.64 Q1358.57 1548.98 1361.18 1551.43 Q1363.82 1553.85 1363.82 1558.21 Q1363.82 1563.17 1359.87 1566.07 Q1355.96 1568.97 1349.08 1568.97 Q1346.22 1568.97 1343.1 1568.39 Q1340.01 1567.85 1336.57 1566.74 L1336.57 1560.69 Q1339.82 1562.38 1342.97 1563.24 Q1346.12 1564.07 1349.21 1564.07 Q1353.35 1564.07 1355.58 1562.66 Q1357.8 1561.23 1357.8 1558.65 Q1357.8 1556.27 1356.18 1554.99 Q1354.59 1553.72 1349.15 1552.54 L1347.11 1552.07 Q1341.67 1550.92 1339.25 1548.56 Q1336.83 1546.18 1336.83 1542.04 Q1336.83 1537.01 1340.39 1534.27 Q1343.96 1531.54 1350.52 1531.54 Q1353.76 1531.54 1356.63 1532.01 Q1359.49 1532.49 1361.91 1533.45 Z\" fill=\"#000000\" fill-rule=\"evenodd\" fill-opacity=\"1\" /><path clip-path=\"url(#clip000)\" d=\"M1372.22 1518.58 L1377.31 1518.58 Q1382.09 1526.09 1384.44 1533.29 Q1386.83 1540.48 1386.83 1547.58 Q1386.83 1554.71 1384.44 1561.93 Q1382.09 1569.16 1377.31 1576.64 L1372.22 1576.64 Q1376.46 1569.35 1378.52 1562.16 Q1380.62 1554.93 1380.62 1547.58 Q1380.62 1540.23 1378.52 1533.06 Q1376.46 1525.9 1372.22 1518.58 Z\" fill=\"#000000\" fill-rule=\"evenodd\" fill-opacity=\"1\" /><polyline clip-path=\"url(#clip002)\" style=\"stroke:#000000; stroke-linecap:butt; stroke-linejoin:round; stroke-width:2; stroke-opacity:0.1; fill:none\" points=\"\n  175.445,1273.57 2352.76,1273.57 \n  \"/>\n<polyline clip-path=\"url(#clip002)\" style=\"stroke:#000000; stroke-linecap:butt; stroke-linejoin:round; stroke-width:2; stroke-opacity:0.1; fill:none\" points=\"\n  175.445,996.901 2352.76,996.901 \n  \"/>\n<polyline clip-path=\"url(#clip002)\" style=\"stroke:#000000; stroke-linecap:butt; stroke-linejoin:round; stroke-width:2; stroke-opacity:0.1; fill:none\" points=\"\n  175.445,720.231 2352.76,720.231 \n  \"/>\n<polyline clip-path=\"url(#clip002)\" style=\"stroke:#000000; stroke-linecap:butt; stroke-linejoin:round; stroke-width:2; stroke-opacity:0.1; fill:none\" points=\"\n  175.445,443.561 2352.76,443.561 \n  \"/>\n<polyline clip-path=\"url(#clip002)\" style=\"stroke:#000000; stroke-linecap:butt; stroke-linejoin:round; stroke-width:2; stroke-opacity:0.1; fill:none\" points=\"\n  175.445,166.892 2352.76,166.892 \n  \"/>\n<polyline clip-path=\"url(#clip000)\" style=\"stroke:#000000; stroke-linecap:butt; stroke-linejoin:round; stroke-width:4; stroke-opacity:1; fill:none\" points=\"\n  175.445,1423.18 175.445,47.2441 \n  \"/>\n<polyline clip-path=\"url(#clip000)\" style=\"stroke:#000000; stroke-linecap:butt; stroke-linejoin:round; stroke-width:4; stroke-opacity:1; fill:none\" points=\"\n  175.445,1273.57 194.343,1273.57 \n  \"/>\n<polyline clip-path=\"url(#clip000)\" style=\"stroke:#000000; stroke-linecap:butt; stroke-linejoin:round; stroke-width:4; stroke-opacity:1; fill:none\" points=\"\n  175.445,996.901 194.343,996.901 \n  \"/>\n<polyline clip-path=\"url(#clip000)\" style=\"stroke:#000000; stroke-linecap:butt; stroke-linejoin:round; stroke-width:4; stroke-opacity:1; fill:none\" points=\"\n  175.445,720.231 194.343,720.231 \n  \"/>\n<polyline clip-path=\"url(#clip000)\" style=\"stroke:#000000; stroke-linecap:butt; stroke-linejoin:round; stroke-width:4; stroke-opacity:1; fill:none\" points=\"\n  175.445,443.561 194.343,443.561 \n  \"/>\n<polyline clip-path=\"url(#clip000)\" style=\"stroke:#000000; stroke-linecap:butt; stroke-linejoin:round; stroke-width:4; stroke-opacity:1; fill:none\" points=\"\n  175.445,166.892 194.343,166.892 \n  \"/>\n<path clip-path=\"url(#clip000)\" d=\"M127.501 1259.37 Q123.89 1259.37 122.061 1262.93 Q120.255 1266.48 120.255 1273.61 Q120.255 1280.71 122.061 1284.28 Q123.89 1287.82 127.501 1287.82 Q131.135 1287.82 132.941 1284.28 Q134.769 1280.71 134.769 1273.61 Q134.769 1266.48 132.941 1262.93 Q131.135 1259.37 127.501 1259.37 M127.501 1255.67 Q133.311 1255.67 136.367 1260.27 Q139.445 1264.86 139.445 1273.61 Q139.445 1282.33 136.367 1286.94 Q133.311 1291.52 127.501 1291.52 Q121.691 1291.52 118.612 1286.94 Q115.556 1282.33 115.556 1273.61 Q115.556 1264.86 118.612 1260.27 Q121.691 1255.67 127.501 1255.67 Z\" fill=\"#000000\" fill-rule=\"evenodd\" fill-opacity=\"1\" /><path clip-path=\"url(#clip000)\" d=\"M119.538 1010.25 L127.177 1010.25 L127.177 983.88 L118.867 985.547 L118.867 981.287 L127.13 979.621 L131.806 979.621 L131.806 1010.25 L139.445 1010.25 L139.445 1014.18 L119.538 1014.18 L119.538 1010.25 Z\" fill=\"#000000\" fill-rule=\"evenodd\" fill-opacity=\"1\" /><path clip-path=\"url(#clip000)\" d=\"M123.126 733.576 L139.445 733.576 L139.445 737.511 L117.501 737.511 L117.501 733.576 Q120.163 730.821 124.746 726.192 Q129.353 721.539 130.533 720.196 Q132.779 717.673 133.658 715.937 Q134.561 714.178 134.561 712.488 Q134.561 709.733 132.617 707.997 Q130.695 706.261 127.593 706.261 Q125.394 706.261 122.941 707.025 Q120.51 707.789 117.732 709.34 L117.732 704.618 Q120.556 703.484 123.01 702.905 Q125.464 702.326 127.501 702.326 Q132.871 702.326 136.066 705.011 Q139.26 707.696 139.26 712.187 Q139.26 714.317 138.45 716.238 Q137.663 718.136 135.556 720.729 Q134.978 721.4 131.876 724.618 Q128.774 727.812 123.126 733.576 Z\" fill=\"#000000\" fill-rule=\"evenodd\" fill-opacity=\"1\" /><path clip-path=\"url(#clip000)\" d=\"M132.316 442.207 Q135.672 442.925 137.547 445.193 Q139.445 447.462 139.445 450.795 Q139.445 455.911 135.927 458.712 Q132.408 461.513 125.927 461.513 Q123.751 461.513 121.436 461.073 Q119.144 460.656 116.691 459.8 L116.691 455.286 Q118.635 456.42 120.95 456.999 Q123.265 457.578 125.788 457.578 Q130.186 457.578 132.478 455.841 Q134.792 454.105 134.792 450.795 Q134.792 447.74 132.64 446.027 Q130.51 444.291 126.691 444.291 L122.663 444.291 L122.663 440.448 L126.876 440.448 Q130.325 440.448 132.154 439.082 Q133.982 437.693 133.982 435.101 Q133.982 432.439 132.084 431.027 Q130.209 429.592 126.691 429.592 Q124.769 429.592 122.57 430.008 Q120.371 430.425 117.732 431.305 L117.732 427.138 Q120.394 426.397 122.709 426.027 Q125.047 425.656 127.107 425.656 Q132.431 425.656 135.533 428.087 Q138.635 430.494 138.635 434.615 Q138.635 437.485 136.992 439.476 Q135.348 441.443 132.316 442.207 Z\" fill=\"#000000\" fill-rule=\"evenodd\" fill-opacity=\"1\" /><path clip-path=\"url(#clip000)\" d=\"M129.862 153.686 L118.056 172.135 L129.862 172.135 L129.862 153.686 M128.635 149.612 L134.515 149.612 L134.515 172.135 L139.445 172.135 L139.445 176.024 L134.515 176.024 L134.515 184.172 L129.862 184.172 L129.862 176.024 L114.26 176.024 L114.26 171.51 L128.635 149.612 Z\" fill=\"#000000\" fill-rule=\"evenodd\" fill-opacity=\"1\" /><path clip-path=\"url(#clip000)\" d=\"M29.4065 806.062 L34.9447 806.062 Q33.6716 808.545 33.035 811.219 Q32.3984 813.892 32.3984 816.757 Q32.3984 821.117 33.7352 823.313 Q35.072 825.478 37.7456 825.478 Q39.7826 825.478 40.9603 823.918 Q42.1061 822.358 43.1565 817.648 L43.6021 815.643 Q44.9389 809.404 47.3897 806.794 Q49.8086 804.153 54.1691 804.153 Q59.1344 804.153 62.0308 808.099 Q64.9272 812.014 64.9272 818.889 Q64.9272 821.754 64.3543 824.873 Q63.8132 827.96 62.6992 831.398 L56.6518 831.398 Q58.3387 828.151 59.198 825 Q60.0256 821.849 60.0256 818.762 Q60.0256 814.624 58.6251 812.396 Q57.1929 810.168 54.6147 810.168 Q52.2276 810.168 50.9545 811.791 Q49.6813 813.383 48.5037 818.826 L48.0262 820.863 Q46.8804 826.305 44.5251 828.724 Q42.138 831.143 38.0002 831.143 Q32.9713 831.143 30.2341 827.578 Q27.4968 824.014 27.4968 817.457 Q27.4968 814.21 27.9743 811.346 Q28.4517 808.481 29.4065 806.062 Z\" fill=\"#000000\" fill-rule=\"evenodd\" fill-opacity=\"1\" /><path clip-path=\"url(#clip000)\" d=\"M18.2347 789.034 L28.3562 789.034 L28.3562 776.971 L32.9077 776.971 L32.9077 789.034 L52.2594 789.034 Q56.6199 789.034 57.8613 787.856 Q59.1026 786.647 59.1026 782.987 L59.1026 776.971 L64.0042 776.971 L64.0042 782.987 Q64.0042 789.766 61.4897 792.344 Q58.9434 794.922 52.2594 794.922 L32.9077 794.922 L32.9077 799.219 L28.3562 799.219 L28.3562 794.922 L18.2347 794.922 L18.2347 789.034 Z\" fill=\"#000000\" fill-rule=\"evenodd\" fill-opacity=\"1\" /><path clip-path=\"url(#clip000)\" d=\"M46.0847 753.068 Q46.0847 760.166 47.7079 762.903 Q49.3312 765.64 53.2461 765.64 Q56.3653 765.64 58.2114 763.603 Q60.0256 761.534 60.0256 758.001 Q60.0256 753.131 56.5881 750.203 Q53.1188 747.243 47.3897 747.243 L46.0847 747.243 L46.0847 753.068 M43.6657 741.387 L64.0042 741.387 L64.0042 747.243 L58.5933 747.243 Q61.8398 749.248 63.3994 752.24 Q64.9272 755.232 64.9272 759.561 Q64.9272 765.035 61.8716 768.282 Q58.7843 771.496 53.6281 771.496 Q47.6125 771.496 44.5569 767.486 Q41.5014 763.444 41.5014 755.455 L41.5014 747.243 L40.9285 747.243 Q36.8862 747.243 34.6901 749.917 Q32.4621 752.559 32.4621 757.365 Q32.4621 760.42 33.1941 763.317 Q33.9262 766.213 35.3903 768.887 L29.9795 768.887 Q28.7381 765.672 28.1334 762.648 Q27.4968 759.624 27.4968 756.76 Q27.4968 749.026 31.5072 745.206 Q35.5176 741.387 43.6657 741.387 Z\" fill=\"#000000\" fill-rule=\"evenodd\" fill-opacity=\"1\" /><path clip-path=\"url(#clip000)\" d=\"M18.2347 723.531 L28.3562 723.531 L28.3562 711.468 L32.9077 711.468 L32.9077 723.531 L52.2594 723.531 Q56.6199 723.531 57.8613 722.353 Q59.1026 721.144 59.1026 717.483 L59.1026 711.468 L64.0042 711.468 L64.0042 717.483 Q64.0042 724.263 61.4897 726.841 Q58.9434 729.419 52.2594 729.419 L32.9077 729.419 L32.9077 733.716 L28.3562 733.716 L28.3562 729.419 L18.2347 729.419 L18.2347 723.531 Z\" fill=\"#000000\" fill-rule=\"evenodd\" fill-opacity=\"1\" /><path clip-path=\"url(#clip000)\" d=\"M44.7161 673.274 L47.5806 673.274 L47.5806 700.201 Q53.6281 699.819 56.8109 696.572 Q59.9619 693.294 59.9619 687.469 Q59.9619 684.095 59.1344 680.944 Q58.3069 677.761 56.6518 674.642 L62.1899 674.642 Q63.5267 677.793 64.227 681.103 Q64.9272 684.414 64.9272 687.819 Q64.9272 696.349 59.9619 701.346 Q54.9967 706.312 46.5303 706.312 Q37.7774 706.312 32.6531 701.601 Q27.4968 696.859 27.4968 688.838 Q27.4968 681.645 32.1438 677.475 Q36.7589 673.274 44.7161 673.274 M42.9973 679.13 Q38.1912 679.194 35.3266 681.836 Q32.4621 684.445 32.4621 688.774 Q32.4621 693.676 35.2312 696.636 Q38.0002 699.564 43.0292 700.01 L42.9973 679.13 Z\" fill=\"#000000\" fill-rule=\"evenodd\" fill-opacity=\"1\" /><path clip-path=\"url(#clip000)\" d=\"M29.4065 640.936 L34.9447 640.936 Q33.6716 643.418 33.035 646.092 Q32.3984 648.766 32.3984 651.63 Q32.3984 655.991 33.7352 658.187 Q35.072 660.351 37.7456 660.351 Q39.7826 660.351 40.9603 658.792 Q42.1061 657.232 43.1565 652.521 L43.6021 650.516 Q44.9389 644.278 47.3897 641.668 Q49.8086 639.026 54.1691 639.026 Q59.1344 639.026 62.0308 642.973 Q64.9272 646.888 64.9272 653.763 Q64.9272 656.627 64.3543 659.747 Q63.8132 662.834 62.6992 666.271 L56.6518 666.271 Q58.3387 663.025 59.198 659.874 Q60.0256 656.723 60.0256 653.635 Q60.0256 649.498 58.6251 647.27 Q57.1929 645.042 54.6147 645.042 Q52.2276 645.042 50.9545 646.665 Q49.6813 648.256 48.5037 653.699 L48.0262 655.736 Q46.8804 661.179 44.5251 663.598 Q42.138 666.017 38.0002 666.017 Q32.9713 666.017 30.2341 662.452 Q27.4968 658.887 27.4968 652.33 Q27.4968 649.084 27.9743 646.219 Q28.4517 643.355 29.4065 640.936 Z\" fill=\"#000000\" fill-rule=\"evenodd\" fill-opacity=\"1\" /><polyline clip-path=\"url(#clip002)\" style=\"stroke:#009af9; stroke-linecap:butt; stroke-linejoin:round; stroke-width:8; stroke-opacity:1; fill:none\" points=\"\n  237.067,1384.24 250.761,1375.98 264.455,1353.58 278.149,1322.37 291.842,1288.33 305.536,1256.79 319.23,1230.98 332.924,1211.84 346.617,1198.81 360.311,1190.58 \n  374.005,1185.6 387.699,1182.34 401.393,1179.58 415.086,1176.45 428.78,1172.45 442.474,1167.46 456.168,1161.56 469.861,1154.98 483.555,1147.98 497.249,1140.8 \n  510.943,1133.63 524.637,1126.61 538.33,1119.79 552.024,1113.18 565.718,1106.77 579.412,1100.51 593.105,1094.36 606.799,1088.28 620.493,1082.23 634.187,1076.21 \n  647.881,1070.19 661.574,1064.18 675.268,1058.17 688.962,1052.17 702.656,1046.17 716.349,1040.2 730.043,1034.24 743.737,1028.31 757.431,1022.38 771.125,1016.48 \n  784.818,1010.59 798.512,1004.71 812.206,998.837 825.9,992.97 839.593,987.105 853.287,981.241 866.981,975.375 880.675,969.507 894.369,963.633 908.062,957.754 \n  921.756,951.867 935.45,945.97 949.144,940.063 962.837,934.144 976.531,928.211 990.225,922.262 1003.92,916.297 1017.61,910.313 1031.31,904.309 1045,898.284 \n  1058.69,892.236 1072.39,886.163 1086.08,880.065 1099.78,873.939 1113.47,867.785 1127.16,861.6 1140.86,855.384 1154.55,849.135 1168.24,842.853 1181.94,836.534 \n  1195.63,830.179 1209.33,823.785 1223.02,817.352 1236.71,810.878 1250.41,804.362 1264.1,797.802 1277.79,791.197 1291.49,784.546 1305.18,777.848 1318.88,771.101 \n  1332.57,764.305 1346.26,757.456 1359.96,750.556 1373.65,743.601 1387.34,736.592 1401.04,729.526 1414.73,722.402 1428.43,715.22 1442.12,707.977 1455.81,700.673 \n  1469.51,693.306 1483.2,685.875 1496.89,678.379 1510.59,670.817 1524.28,663.187 1537.98,655.487 1551.67,647.718 1565.36,639.877 1579.06,631.963 1592.75,623.975 \n  1606.45,615.911 1620.14,607.771 1633.83,599.552 1647.53,591.255 1661.22,582.877 1674.91,574.417 1688.61,565.873 1702.3,557.246 1716,548.532 1729.69,539.731 \n  1743.38,530.842 1757.08,521.863 1770.77,512.792 1784.46,503.629 1798.16,494.372 1811.85,485.02 1825.55,475.571 1839.24,466.024 1852.93,456.377 1866.63,446.63 \n  1880.32,436.78 1894.01,426.827 1907.71,416.768 1921.4,406.603 1935.1,396.329 1948.79,385.946 1962.48,375.452 1976.18,364.845 1989.87,354.125 2003.56,343.288 \n  2017.26,332.335 2030.95,321.263 2044.65,310.07 2058.34,298.756 2072.03,287.319 2085.73,275.756 2099.42,264.067 2113.11,252.25 2126.81,240.303 2140.5,228.224 \n  2154.2,216.012 2167.89,203.665 2181.58,191.182 2195.28,178.56 2208.97,165.798 2222.67,152.894 2236.36,139.847 2250.05,126.654 2263.75,113.314 2277.44,99.8255 \n  2291.13,86.1857 \n  \"/>\n<polyline clip-path=\"url(#clip002)\" style=\"stroke:#e26f46; stroke-linecap:butt; stroke-linejoin:round; stroke-width:8; stroke-opacity:1; fill:none\" points=\"\n  237.067,597.539 250.761,585.514 264.455,552.45 278.149,505.625 291.842,454.644 305.536,409.193 319.23,375.377 332.924,354.724 346.617,345.778 360.311,345.793 \n  374.005,351.682 387.699,360.539 401.393,369.984 415.086,378.369 428.78,384.817 442.474,389.099 456.168,391.436 469.861,392.296 483.555,392.219 497.249,391.697 \n  510.943,391.107 524.637,390.695 538.33,390.582 552.024,390.789 565.718,391.273 579.412,391.961 593.105,392.767 606.799,393.619 620.493,394.459 634.187,395.254 \n  647.881,395.987 661.574,396.657 675.268,397.272 688.962,397.844 702.656,398.386 716.349,398.912 730.043,399.428 743.737,399.94 757.431,400.451 771.125,400.961 \n  784.818,401.469 798.512,401.974 812.206,402.473 825.9,402.965 839.593,403.45 853.287,403.926 866.981,404.394 880.675,404.854 894.369,405.307 908.062,405.752 \n  921.756,406.191 935.45,406.624 949.144,407.052 962.837,407.474 976.531,407.891 990.225,408.303 1003.92,408.711 1017.61,409.113 1031.31,409.512 1045,409.906 \n  1058.69,410.296 1072.39,410.682 1086.08,411.065 1099.78,411.444 1113.47,411.819 1127.16,412.191 1140.86,412.56 1154.55,412.925 1168.24,413.288 1181.94,413.649 \n  1195.63,414.007 1209.33,414.362 1223.02,414.715 1236.71,415.067 1250.41,415.416 1264.1,415.763 1277.79,416.109 1291.49,416.453 1305.18,416.795 1318.88,417.137 \n  1332.57,417.477 1346.26,417.816 1359.96,418.154 1373.65,418.491 1387.34,418.827 1401.04,419.163 1414.73,419.498 1428.43,419.833 1442.12,420.167 1455.81,420.501 \n  1469.51,420.835 1483.2,421.169 1496.89,421.503 1510.59,421.837 1524.28,422.172 1537.98,422.507 1551.67,422.842 1565.36,423.178 1579.06,423.515 1592.75,423.852 \n  1606.45,424.19 1620.14,424.529 1633.83,424.869 1647.53,425.21 1661.22,425.552 1674.91,425.896 1688.61,426.241 1702.3,426.587 1716,426.935 1729.69,427.284 \n  1743.38,427.635 1757.08,427.988 1770.77,428.342 1784.46,428.699 1798.16,429.057 1811.85,429.417 1825.55,429.78 1839.24,430.145 1852.93,430.512 1866.63,430.881 \n  1880.32,431.253 1894.01,431.627 1907.71,432.004 1921.4,432.383 1935.1,432.766 1948.79,433.151 1962.48,433.538 1976.18,433.929 1989.87,434.323 2003.56,434.72 \n  2017.26,435.12 2030.95,435.523 2044.65,435.93 2058.34,436.339 2072.03,436.753 2085.73,437.17 2099.42,437.59 2113.11,438.014 2126.81,438.442 2140.5,438.873 \n  2154.2,439.309 2167.89,439.748 2181.58,440.192 2195.28,440.639 2208.97,441.091 2222.67,441.546 2236.36,442.007 2250.05,442.471 2263.75,442.94 2277.44,443.413 \n  2291.13,443.891 \n  \"/>\n<polyline clip-path=\"url(#clip002)\" style=\"stroke:#3da44d; stroke-linecap:butt; stroke-linejoin:round; stroke-width:8; stroke-opacity:1; fill:none\" points=\"\n  237.067,1384.24 250.761,1374.93 264.455,1348.94 278.149,1311.78 291.842,1271.34 305.536,1234.65 319.23,1204.89 332.924,1182.28 346.617,1166.06 360.311,1155.29 \n  374.005,1148.93 387.699,1145.86 401.393,1144.94 415.086,1145.14 428.78,1145.66 442.474,1146 456.168,1145.95 469.861,1145.49 483.555,1144.72 497.249,1143.79 \n  510.943,1142.83 524.637,1141.95 538.33,1141.22 552.024,1140.66 565.718,1140.31 579.412,1140.15 593.105,1140.18 606.799,1140.39 620.493,1140.75 634.187,1141.27 \n  647.881,1141.92 661.574,1142.7 675.268,1143.59 688.962,1144.59 702.656,1145.69 716.349,1146.89 730.043,1148.17 743.737,1149.53 757.431,1150.97 771.125,1152.48 \n  784.818,1154.05 798.512,1155.69 812.206,1157.37 825.9,1159.11 839.593,1160.9 853.287,1162.72 866.981,1164.58 880.675,1166.47 894.369,1168.39 908.062,1170.34 \n  921.756,1172.31 935.45,1174.29 949.144,1176.29 962.837,1178.3 976.531,1180.32 990.225,1182.34 1003.92,1184.37 1017.61,1186.4 1031.31,1188.42 1045,1190.44 \n  1058.69,1192.46 1072.39,1194.46 1086.08,1196.46 1099.78,1198.44 1113.47,1200.41 1127.16,1202.36 1140.86,1204.29 1154.55,1206.21 1168.24,1208.11 1181.94,1209.98 \n  1195.63,1211.84 1209.33,1213.67 1223.02,1215.47 1236.71,1217.25 1250.41,1219.01 1264.1,1220.73 1277.79,1222.43 1291.49,1224.11 1305.18,1225.75 1318.88,1227.37 \n  1332.57,1228.95 1346.26,1230.51 1359.96,1232.03 1373.65,1233.53 1387.34,1235 1401.04,1236.43 1414.73,1237.83 1428.43,1239.21 1442.12,1240.55 1455.81,1241.86 \n  1469.51,1243.14 1483.2,1244.39 1496.89,1245.61 1510.59,1246.8 1524.28,1247.96 1537.98,1249.09 1551.67,1250.19 1565.36,1251.26 1579.06,1252.3 1592.75,1253.31 \n  1606.45,1254.29 1620.14,1255.25 1633.83,1256.18 1647.53,1257.07 1661.22,1257.95 1674.91,1258.79 1688.61,1259.61 1702.3,1260.4 1716,1261.17 1729.69,1261.91 \n  1743.38,1262.62 1757.08,1263.32 1770.77,1263.98 1784.46,1264.63 1798.16,1265.25 1811.85,1265.85 1825.55,1266.43 1839.24,1266.98 1852.93,1267.52 1866.63,1268.03 \n  1880.32,1268.52 1894.01,1269 1907.71,1269.45 1921.4,1269.89 1935.1,1270.3 1948.79,1270.7 1962.48,1271.09 1976.18,1271.45 1989.87,1271.8 2003.56,1272.13 \n  2017.26,1272.45 2030.95,1272.75 2044.65,1273.04 2058.34,1273.31 2072.03,1273.57 2085.73,1273.81 2099.42,1274.05 2113.11,1274.26 2126.81,1274.47 2140.5,1274.67 \n  2154.2,1274.85 2167.89,1275.02 2181.58,1275.19 2195.28,1275.34 2208.97,1275.48 2222.67,1275.61 2236.36,1275.73 2250.05,1275.85 2263.75,1275.95 2277.44,1276.05 \n  2291.13,1276.14 \n  \"/>\n<polyline clip-path=\"url(#clip002)\" style=\"stroke:#c271d2; stroke-linecap:butt; stroke-linejoin:round; stroke-width:8; stroke-opacity:1; fill:none\" points=\"\n  237.067,597.539 250.761,583.886 264.455,545.01 278.149,488.044 291.842,425.926 305.536,371.691 319.23,331.12 332.924,303.922 346.617,288.022 360.311,281.252 \n  374.005,281.534 387.699,286.815 401.393,295.091 415.086,304.558 428.78,313.82 442.474,322.01 456.168,328.774 469.861,334.144 483.555,338.359 497.249,341.729 \n  510.943,344.543 524.637,347.028 538.33,349.339 552.024,351.571 565.718,353.771 579.412,355.956 593.105,358.126 606.799,360.273 620.493,362.384 634.187,364.452 \n  647.881,366.468 661.574,368.426 675.268,370.326 688.962,372.165 702.656,373.944 716.349,375.663 730.043,377.325 743.737,378.93 757.431,380.48 771.125,381.976 \n  784.818,383.42 798.512,384.812 812.206,386.155 825.9,387.448 839.593,388.694 853.287,389.894 866.981,391.047 880.675,392.156 894.369,393.222 908.062,394.245 \n  921.756,395.227 935.45,396.169 949.144,397.071 962.837,397.934 976.531,398.761 990.225,399.55 1003.92,400.305 1017.61,401.025 1031.31,401.711 1045,402.364 \n  1058.69,402.986 1072.39,403.578 1086.08,404.139 1099.78,404.671 1113.47,405.176 1127.16,405.653 1140.86,406.104 1154.55,406.529 1168.24,406.929 1181.94,407.306 \n  1195.63,407.659 1209.33,407.99 1223.02,408.3 1236.71,408.589 1250.41,408.857 1264.1,409.107 1277.79,409.338 1291.49,409.55 1305.18,409.746 1318.88,409.925 \n  1332.57,410.088 1346.26,410.236 1359.96,410.369 1373.65,410.488 1387.34,410.594 1401.04,410.687 1414.73,410.767 1428.43,410.836 1442.12,410.893 1455.81,410.94 \n  1469.51,410.977 1483.2,411.003 1496.89,411.021 1510.59,411.03 1524.28,411.03 1537.98,411.022 1551.67,411.007 1565.36,410.985 1579.06,410.956 1592.75,410.921 \n  1606.45,410.88 1620.14,410.834 1633.83,410.782 1647.53,410.725 1661.22,410.664 1674.91,410.598 1688.61,410.529 1702.3,410.455 1716,410.379 1729.69,410.299 \n  1743.38,410.217 1757.08,410.131 1770.77,410.044 1784.46,409.954 1798.16,409.862 1811.85,409.769 1825.55,409.674 1839.24,409.578 1852.93,409.481 1866.63,409.382 \n  1880.32,409.283 1894.01,409.183 1907.71,409.083 1921.4,408.982 1935.1,408.881 1948.79,408.781 1962.48,408.68 1976.18,408.579 1989.87,408.479 2003.56,408.378 \n  2017.26,408.279 2030.95,408.18 2044.65,408.082 2058.34,407.984 2072.03,407.887 2085.73,407.791 2099.42,407.696 2113.11,407.602 2126.81,407.51 2140.5,407.418 \n  2154.2,407.327 2167.89,407.238 2181.58,407.15 2195.28,407.063 2208.97,406.978 2222.67,406.894 2236.36,406.811 2250.05,406.73 2263.75,406.65 2277.44,406.572 \n  2291.13,406.495 \n  \"/>\n<path clip-path=\"url(#clip000)\" d=\"\nM1763.93 838.892 L2280.18 838.892 L2280.18 579.692 L1763.93 579.692  Z\n  \" fill=\"#ffffff\" fill-rule=\"evenodd\" fill-opacity=\"1\"/>\n<polyline clip-path=\"url(#clip000)\" style=\"stroke:#000000; stroke-linecap:butt; stroke-linejoin:round; stroke-width:4; stroke-opacity:1; fill:none\" points=\"\n  1763.93,838.892 2280.18,838.892 2280.18,579.692 1763.93,579.692 1763.93,838.892 \n  \"/>\n<polyline clip-path=\"url(#clip000)\" style=\"stroke:#009af9; stroke-linecap:butt; stroke-linejoin:round; stroke-width:4; stroke-opacity:1; fill:none\" points=\"\n  1788.12,631.532 1933.27,631.532 \n  \"/>\n<path clip-path=\"url(#clip000)\" d=\"M1982.12 622.886 L1972.74 635.502 L1982.61 648.812 L1977.58 648.812 L1970.04 638.627 L1962.49 648.812 L1957.47 648.812 L1967.54 635.247 L1958.32 622.886 L1963.35 622.886 L1970.22 632.122 L1977.1 622.886 L1982.12 622.886 Z\" fill=\"#000000\" fill-rule=\"evenodd\" fill-opacity=\"1\" /><path clip-path=\"url(#clip000)\" d=\"M2013.92 612.84 Q2010.82 618.164 2009.32 623.372 Q2007.81 628.581 2007.81 633.928 Q2007.81 639.275 2009.32 644.53 Q2010.85 649.761 2013.92 655.062 L2010.22 655.062 Q2006.75 649.622 2005.01 644.368 Q2003.3 639.113 2003.3 633.928 Q2003.3 628.766 2005.01 623.534 Q2006.73 618.303 2010.22 612.84 L2013.92 612.84 Z\" fill=\"#000000\" fill-rule=\"evenodd\" fill-opacity=\"1\" /><path clip-path=\"url(#clip000)\" d=\"M2043.74 633.164 L2043.74 648.812 L2039.48 648.812 L2039.48 633.303 Q2039.48 629.622 2038.05 627.794 Q2036.61 625.965 2033.74 625.965 Q2030.29 625.965 2028.3 628.164 Q2026.31 630.363 2026.31 634.159 L2026.31 648.812 L2022.03 648.812 L2022.03 622.886 L2026.31 622.886 L2026.31 626.914 Q2027.84 624.576 2029.9 623.419 Q2031.98 622.261 2034.69 622.261 Q2039.16 622.261 2041.45 625.039 Q2043.74 627.794 2043.74 633.164 Z\" fill=\"#000000\" fill-rule=\"evenodd\" fill-opacity=\"1\" /><path clip-path=\"url(#clip000)\" d=\"M2062.28 625.872 Q2058.86 625.872 2056.86 628.557 Q2054.87 631.219 2054.87 635.872 Q2054.87 640.525 2056.84 643.21 Q2058.83 645.872 2062.28 645.872 Q2065.68 645.872 2067.67 643.187 Q2069.67 640.502 2069.67 635.872 Q2069.67 631.266 2067.67 628.581 Q2065.68 625.872 2062.28 625.872 M2062.28 622.261 Q2067.84 622.261 2071.01 625.872 Q2074.18 629.483 2074.18 635.872 Q2074.18 642.238 2071.01 645.872 Q2067.84 649.483 2062.28 649.483 Q2056.7 649.483 2053.53 645.872 Q2050.38 642.238 2050.38 635.872 Q2050.38 629.483 2053.53 625.872 Q2056.7 622.261 2062.28 622.261 Z\" fill=\"#000000\" fill-rule=\"evenodd\" fill-opacity=\"1\" /><path clip-path=\"url(#clip000)\" d=\"M2101.42 627.863 Q2103.02 624.993 2105.24 623.627 Q2107.47 622.261 2110.48 622.261 Q2114.53 622.261 2116.73 625.108 Q2118.92 627.932 2118.92 633.164 L2118.92 648.812 L2114.64 648.812 L2114.64 633.303 Q2114.64 629.576 2113.32 627.77 Q2112 625.965 2109.29 625.965 Q2105.98 625.965 2104.06 628.164 Q2102.14 630.363 2102.14 634.159 L2102.14 648.812 L2097.86 648.812 L2097.86 633.303 Q2097.86 629.553 2096.54 627.77 Q2095.22 625.965 2092.47 625.965 Q2089.2 625.965 2087.28 628.187 Q2085.36 630.386 2085.36 634.159 L2085.36 648.812 L2081.08 648.812 L2081.08 622.886 L2085.36 622.886 L2085.36 626.914 Q2086.82 624.53 2088.86 623.395 Q2090.89 622.261 2093.69 622.261 Q2096.52 622.261 2098.48 623.696 Q2100.48 625.132 2101.42 627.863 Z\" fill=\"#000000\" fill-rule=\"evenodd\" fill-opacity=\"1\" /><path clip-path=\"url(#clip000)\" d=\"M2127.42 622.886 L2131.68 622.886 L2131.68 648.812 L2127.42 648.812 L2127.42 622.886 M2127.42 612.794 L2131.68 612.794 L2131.68 618.187 L2127.42 618.187 L2127.42 612.794 Z\" fill=\"#000000\" fill-rule=\"evenodd\" fill-opacity=\"1\" /><path clip-path=\"url(#clip000)\" d=\"M2162.14 633.164 L2162.14 648.812 L2157.88 648.812 L2157.88 633.303 Q2157.88 629.622 2156.45 627.794 Q2155.01 625.965 2152.14 625.965 Q2148.69 625.965 2146.7 628.164 Q2144.71 630.363 2144.71 634.159 L2144.71 648.812 L2140.43 648.812 L2140.43 622.886 L2144.71 622.886 L2144.71 626.914 Q2146.24 624.576 2148.3 623.419 Q2150.38 622.261 2153.09 622.261 Q2157.56 622.261 2159.85 625.039 Q2162.14 627.794 2162.14 633.164 Z\" fill=\"#000000\" fill-rule=\"evenodd\" fill-opacity=\"1\" /><path clip-path=\"url(#clip000)\" d=\"M2182.42 635.78 Q2177.26 635.78 2175.27 636.96 Q2173.28 638.141 2173.28 640.988 Q2173.28 643.256 2174.76 644.599 Q2176.26 645.918 2178.83 645.918 Q2182.37 645.918 2184.5 643.418 Q2186.66 640.895 2186.66 636.729 L2186.66 635.78 L2182.42 635.78 M2190.91 634.02 L2190.91 648.812 L2186.66 648.812 L2186.66 644.877 Q2185.2 647.238 2183.02 648.372 Q2180.85 649.483 2177.7 649.483 Q2173.72 649.483 2171.35 647.261 Q2169.02 645.016 2169.02 641.266 Q2169.02 636.891 2171.93 634.669 Q2174.87 632.446 2180.68 632.446 L2186.66 632.446 L2186.66 632.03 Q2186.66 629.09 2184.71 627.493 Q2182.79 625.872 2179.29 625.872 Q2177.07 625.872 2174.97 626.405 Q2172.86 626.937 2170.91 628.002 L2170.91 624.067 Q2173.25 623.164 2175.45 622.724 Q2177.65 622.261 2179.73 622.261 Q2185.36 622.261 2188.14 625.178 Q2190.91 628.094 2190.91 634.02 Z\" fill=\"#000000\" fill-rule=\"evenodd\" fill-opacity=\"1\" /><path clip-path=\"url(#clip000)\" d=\"M2199.69 612.794 L2203.95 612.794 L2203.95 648.812 L2199.69 648.812 L2199.69 612.794 Z\" fill=\"#000000\" fill-rule=\"evenodd\" fill-opacity=\"1\" /><path clip-path=\"url(#clip000)\" d=\"M2212.19 612.84 L2215.89 612.84 Q2219.36 618.303 2221.08 623.534 Q2222.81 628.766 2222.81 633.928 Q2222.81 639.113 2221.08 644.368 Q2219.36 649.622 2215.89 655.062 L2212.19 655.062 Q2215.27 649.761 2216.77 644.53 Q2218.3 639.275 2218.3 633.928 Q2218.3 628.581 2216.77 623.372 Q2215.27 618.164 2212.19 612.84 Z\" fill=\"#000000\" fill-rule=\"evenodd\" fill-opacity=\"1\" /><polyline clip-path=\"url(#clip000)\" style=\"stroke:#e26f46; stroke-linecap:butt; stroke-linejoin:round; stroke-width:4; stroke-opacity:1; fill:none\" points=\"\n  1788.12,683.372 1933.27,683.372 \n  \"/>\n<path clip-path=\"url(#clip000)\" d=\"M1976.73 684.217 L1961.98 684.217 Q1962.33 691.138 1963.93 694.078 Q1965.92 697.689 1969.37 697.689 Q1972.84 697.689 1974.76 694.055 Q1976.45 690.86 1976.73 684.217 M1976.66 680.282 Q1976.01 673.708 1974.76 671.393 Q1972.77 667.735 1969.37 667.735 Q1965.82 667.735 1963.95 671.347 Q1962.47 674.263 1962.03 680.282 L1976.66 680.282 M1969.37 664.263 Q1974.92 664.263 1978.09 669.171 Q1981.26 674.055 1981.26 682.712 Q1981.26 691.346 1978.09 696.254 Q1974.92 701.184 1969.37 701.184 Q1963.79 701.184 1960.64 696.254 Q1957.47 691.346 1957.47 682.712 Q1957.47 674.055 1960.64 669.171 Q1963.79 664.263 1969.37 664.263 Z\" fill=\"#000000\" fill-rule=\"evenodd\" fill-opacity=\"1\" /><path clip-path=\"url(#clip000)\" d=\"M2013.62 664.68 Q2010.52 670.004 2009.02 675.212 Q2007.51 680.421 2007.51 685.768 Q2007.51 691.115 2009.02 696.37 Q2010.55 701.601 2013.62 706.902 L2009.92 706.902 Q2006.45 701.462 2004.71 696.208 Q2003 690.953 2003 685.768 Q2003 680.606 2004.71 675.374 Q2006.43 670.143 2009.92 664.68 L2013.62 664.68 Z\" fill=\"#000000\" fill-rule=\"evenodd\" fill-opacity=\"1\" /><path clip-path=\"url(#clip000)\" d=\"M2043.44 685.004 L2043.44 700.652 L2039.18 700.652 L2039.18 685.143 Q2039.18 681.462 2037.74 679.634 Q2036.31 677.805 2033.44 677.805 Q2029.99 677.805 2028 680.004 Q2026.01 682.203 2026.01 685.999 L2026.01 700.652 L2021.73 700.652 L2021.73 674.726 L2026.01 674.726 L2026.01 678.754 Q2027.54 676.416 2029.6 675.259 Q2031.68 674.101 2034.39 674.101 Q2038.86 674.101 2041.15 676.879 Q2043.44 679.634 2043.44 685.004 Z\" fill=\"#000000\" fill-rule=\"evenodd\" fill-opacity=\"1\" /><path clip-path=\"url(#clip000)\" d=\"M2061.98 677.712 Q2058.55 677.712 2056.56 680.397 Q2054.57 683.059 2054.57 687.712 Q2054.57 692.365 2056.54 695.05 Q2058.53 697.712 2061.98 697.712 Q2065.38 697.712 2067.37 695.027 Q2069.36 692.342 2069.36 687.712 Q2069.36 683.106 2067.37 680.421 Q2065.38 677.712 2061.98 677.712 M2061.98 674.101 Q2067.54 674.101 2070.71 677.712 Q2073.88 681.323 2073.88 687.712 Q2073.88 694.078 2070.71 697.712 Q2067.54 701.323 2061.98 701.323 Q2056.4 701.323 2053.23 697.712 Q2050.08 694.078 2050.08 687.712 Q2050.08 681.323 2053.23 677.712 Q2056.4 674.101 2061.98 674.101 Z\" fill=\"#000000\" fill-rule=\"evenodd\" fill-opacity=\"1\" /><path clip-path=\"url(#clip000)\" d=\"M2101.12 679.703 Q2102.72 676.833 2104.94 675.467 Q2107.17 674.101 2110.17 674.101 Q2114.23 674.101 2116.42 676.948 Q2118.62 679.772 2118.62 685.004 L2118.62 700.652 L2114.34 700.652 L2114.34 685.143 Q2114.34 681.416 2113.02 679.61 Q2111.7 677.805 2108.99 677.805 Q2105.68 677.805 2103.76 680.004 Q2101.84 682.203 2101.84 685.999 L2101.84 700.652 L2097.56 700.652 L2097.56 685.143 Q2097.56 681.393 2096.24 679.61 Q2094.92 677.805 2092.17 677.805 Q2088.9 677.805 2086.98 680.027 Q2085.06 682.226 2085.06 685.999 L2085.06 700.652 L2080.78 700.652 L2080.78 674.726 L2085.06 674.726 L2085.06 678.754 Q2086.52 676.37 2088.55 675.235 Q2090.59 674.101 2093.39 674.101 Q2096.22 674.101 2098.18 675.536 Q2100.17 676.972 2101.12 679.703 Z\" fill=\"#000000\" fill-rule=\"evenodd\" fill-opacity=\"1\" /><path clip-path=\"url(#clip000)\" d=\"M2127.12 674.726 L2131.38 674.726 L2131.38 700.652 L2127.12 700.652 L2127.12 674.726 M2127.12 664.634 L2131.38 664.634 L2131.38 670.027 L2127.12 670.027 L2127.12 664.634 Z\" fill=\"#000000\" fill-rule=\"evenodd\" fill-opacity=\"1\" /><path clip-path=\"url(#clip000)\" d=\"M2161.84 685.004 L2161.84 700.652 L2157.58 700.652 L2157.58 685.143 Q2157.58 681.462 2156.15 679.634 Q2154.71 677.805 2151.84 677.805 Q2148.39 677.805 2146.4 680.004 Q2144.41 682.203 2144.41 685.999 L2144.41 700.652 L2140.13 700.652 L2140.13 674.726 L2144.41 674.726 L2144.41 678.754 Q2145.94 676.416 2148 675.259 Q2150.08 674.101 2152.79 674.101 Q2157.26 674.101 2159.55 676.879 Q2161.84 679.634 2161.84 685.004 Z\" fill=\"#000000\" fill-rule=\"evenodd\" fill-opacity=\"1\" /><path clip-path=\"url(#clip000)\" d=\"M2182.12 687.62 Q2176.96 687.62 2174.97 688.8 Q2172.98 689.981 2172.98 692.828 Q2172.98 695.096 2174.46 696.439 Q2175.96 697.758 2178.53 697.758 Q2182.07 697.758 2184.2 695.258 Q2186.35 692.735 2186.35 688.569 L2186.35 687.62 L2182.12 687.62 M2190.61 685.86 L2190.61 700.652 L2186.35 700.652 L2186.35 696.717 Q2184.9 699.078 2182.72 700.212 Q2180.54 701.323 2177.4 701.323 Q2173.41 701.323 2171.05 699.101 Q2168.72 696.856 2168.72 693.106 Q2168.72 688.731 2171.63 686.509 Q2174.57 684.286 2180.38 684.286 L2186.35 684.286 L2186.35 683.87 Q2186.35 680.93 2184.41 679.333 Q2182.49 677.712 2178.99 677.712 Q2176.77 677.712 2174.66 678.245 Q2172.56 678.777 2170.61 679.842 L2170.61 675.907 Q2172.95 675.004 2175.15 674.564 Q2177.35 674.101 2179.43 674.101 Q2185.06 674.101 2187.84 677.018 Q2190.61 679.934 2190.61 685.86 Z\" fill=\"#000000\" fill-rule=\"evenodd\" fill-opacity=\"1\" /><path clip-path=\"url(#clip000)\" d=\"M2199.39 664.634 L2203.65 664.634 L2203.65 700.652 L2199.39 700.652 L2199.39 664.634 Z\" fill=\"#000000\" fill-rule=\"evenodd\" fill-opacity=\"1\" /><path clip-path=\"url(#clip000)\" d=\"M2211.89 664.68 L2215.59 664.68 Q2219.06 670.143 2220.78 675.374 Q2222.51 680.606 2222.51 685.768 Q2222.51 690.953 2220.78 696.208 Q2219.06 701.462 2215.59 706.902 L2211.89 706.902 Q2214.97 701.601 2216.47 696.37 Q2218 691.115 2218 685.768 Q2218 680.421 2216.47 675.212 Q2214.97 670.004 2211.89 664.68 Z\" fill=\"#000000\" fill-rule=\"evenodd\" fill-opacity=\"1\" /><polyline clip-path=\"url(#clip000)\" style=\"stroke:#3da44d; stroke-linecap:butt; stroke-linejoin:round; stroke-width:4; stroke-opacity:1; fill:none\" points=\"\n  1788.12,735.212 1933.27,735.212 \n  \"/>\n<path clip-path=\"url(#clip000)\" d=\"M1982.12 726.566 L1972.74 739.182 L1982.61 752.492 L1977.58 752.492 L1970.04 742.307 L1962.49 752.492 L1957.47 752.492 L1967.54 738.927 L1958.32 726.566 L1963.35 726.566 L1970.22 735.802 L1977.1 726.566 L1982.12 726.566 Z\" fill=\"#000000\" fill-rule=\"evenodd\" fill-opacity=\"1\" /><path clip-path=\"url(#clip000)\" d=\"M2013.92 716.52 Q2010.82 721.844 2009.32 727.052 Q2007.81 732.261 2007.81 737.608 Q2007.81 742.955 2009.32 748.21 Q2010.85 753.441 2013.92 758.742 L2010.22 758.742 Q2006.75 753.302 2005.01 748.048 Q2003.3 742.793 2003.3 737.608 Q2003.3 732.446 2005.01 727.214 Q2006.73 721.983 2010.22 716.52 L2013.92 716.52 Z\" fill=\"#000000\" fill-rule=\"evenodd\" fill-opacity=\"1\" /><path clip-path=\"url(#clip000)\" d=\"M2022.19 726.566 L2026.45 726.566 L2026.45 752.955 Q2026.45 757.909 2024.55 760.131 Q2022.67 762.353 2018.49 762.353 L2016.86 762.353 L2016.86 758.742 L2018 758.742 Q2020.43 758.742 2021.31 757.608 Q2022.19 756.497 2022.19 752.955 L2022.19 726.566 M2022.19 716.474 L2026.45 716.474 L2026.45 721.867 L2022.19 721.867 L2022.19 716.474 Z\" fill=\"#000000\" fill-rule=\"evenodd\" fill-opacity=\"1\" /><path clip-path=\"url(#clip000)\" d=\"M2047.14 739.46 Q2041.98 739.46 2039.99 740.64 Q2038 741.821 2038 744.668 Q2038 746.936 2039.48 748.279 Q2040.99 749.598 2043.55 749.598 Q2047.1 749.598 2049.23 747.098 Q2051.38 744.575 2051.38 740.409 L2051.38 739.46 L2047.14 739.46 M2055.64 737.7 L2055.64 752.492 L2051.38 752.492 L2051.38 748.557 Q2049.92 750.918 2047.74 752.052 Q2045.57 753.163 2042.42 753.163 Q2038.44 753.163 2036.08 750.941 Q2033.74 748.696 2033.74 744.946 Q2033.74 740.571 2036.66 738.349 Q2039.6 736.126 2045.41 736.126 L2051.38 736.126 L2051.38 735.71 Q2051.38 732.77 2049.43 731.173 Q2047.51 729.552 2044.02 729.552 Q2041.8 729.552 2039.69 730.085 Q2037.58 730.617 2035.64 731.682 L2035.64 727.747 Q2037.98 726.844 2040.17 726.404 Q2042.37 725.941 2044.46 725.941 Q2050.08 725.941 2052.86 728.858 Q2055.64 731.774 2055.64 737.7 Z\" fill=\"#000000\" fill-rule=\"evenodd\" fill-opacity=\"1\" /><path clip-path=\"url(#clip000)\" d=\"M2083.07 727.562 L2083.07 731.543 Q2081.26 730.548 2079.43 730.062 Q2077.63 729.552 2075.78 729.552 Q2071.63 729.552 2069.34 732.191 Q2067.05 734.807 2067.05 739.552 Q2067.05 744.298 2069.34 746.936 Q2071.63 749.552 2075.78 749.552 Q2077.63 749.552 2079.43 749.066 Q2081.26 748.557 2083.07 747.561 L2083.07 751.497 Q2081.29 752.33 2079.36 752.747 Q2077.47 753.163 2075.31 753.163 Q2069.46 753.163 2066.01 749.483 Q2062.56 745.802 2062.56 739.552 Q2062.56 733.21 2066.03 729.575 Q2069.53 725.941 2075.59 725.941 Q2077.56 725.941 2079.43 726.358 Q2081.31 726.751 2083.07 727.562 Z\" fill=\"#000000\" fill-rule=\"evenodd\" fill-opacity=\"1\" /><path clip-path=\"url(#clip000)\" d=\"M2100.52 729.552 Q2097.1 729.552 2095.11 732.237 Q2093.11 734.899 2093.11 739.552 Q2093.11 744.205 2095.08 746.89 Q2097.07 749.552 2100.52 749.552 Q2103.92 749.552 2105.92 746.867 Q2107.91 744.182 2107.91 739.552 Q2107.91 734.946 2105.92 732.261 Q2103.92 729.552 2100.52 729.552 M2100.52 725.941 Q2106.08 725.941 2109.25 729.552 Q2112.42 733.163 2112.42 739.552 Q2112.42 745.918 2109.25 749.552 Q2106.08 753.163 2100.52 753.163 Q2094.94 753.163 2091.77 749.552 Q2088.62 745.918 2088.62 739.552 Q2088.62 733.163 2091.77 729.552 Q2094.94 725.941 2100.52 725.941 Z\" fill=\"#000000\" fill-rule=\"evenodd\" fill-opacity=\"1\" /><path clip-path=\"url(#clip000)\" d=\"M2138.09 739.552 Q2138.09 734.853 2136.15 732.191 Q2134.23 729.506 2130.85 729.506 Q2127.47 729.506 2125.52 732.191 Q2123.6 734.853 2123.6 739.552 Q2123.6 744.251 2125.52 746.936 Q2127.47 749.598 2130.85 749.598 Q2134.23 749.598 2136.15 746.936 Q2138.09 744.251 2138.09 739.552 M2123.6 730.501 Q2124.94 728.187 2126.98 727.075 Q2129.04 725.941 2131.89 725.941 Q2136.61 725.941 2139.55 729.691 Q2142.51 733.441 2142.51 739.552 Q2142.51 745.663 2139.55 749.413 Q2136.61 753.163 2131.89 753.163 Q2129.04 753.163 2126.98 752.052 Q2124.94 750.918 2123.6 748.603 L2123.6 752.492 L2119.32 752.492 L2119.32 716.474 L2123.6 716.474 L2123.6 730.501 Z\" fill=\"#000000\" fill-rule=\"evenodd\" fill-opacity=\"1\" /><path clip-path=\"url(#clip000)\" d=\"M2149.57 726.566 L2153.83 726.566 L2153.83 752.492 L2149.57 752.492 L2149.57 726.566 M2149.57 716.474 L2153.83 716.474 L2153.83 721.867 L2149.57 721.867 L2149.57 716.474 Z\" fill=\"#000000\" fill-rule=\"evenodd\" fill-opacity=\"1\" /><path clip-path=\"url(#clip000)\" d=\"M2174.53 739.46 Q2169.36 739.46 2167.37 740.64 Q2165.38 741.821 2165.38 744.668 Q2165.38 746.936 2166.86 748.279 Q2168.37 749.598 2170.94 749.598 Q2174.48 749.598 2176.61 747.098 Q2178.76 744.575 2178.76 740.409 L2178.76 739.46 L2174.53 739.46 M2183.02 737.7 L2183.02 752.492 L2178.76 752.492 L2178.76 748.557 Q2177.3 750.918 2175.13 752.052 Q2172.95 753.163 2169.8 753.163 Q2165.82 753.163 2163.46 750.941 Q2161.12 748.696 2161.12 744.946 Q2161.12 740.571 2164.04 738.349 Q2166.98 736.126 2172.79 736.126 L2178.76 736.126 L2178.76 735.71 Q2178.76 732.77 2176.82 731.173 Q2174.9 729.552 2171.4 729.552 Q2169.18 729.552 2167.07 730.085 Q2164.97 730.617 2163.02 731.682 L2163.02 727.747 Q2165.36 726.844 2167.56 726.404 Q2169.76 725.941 2171.84 725.941 Q2177.47 725.941 2180.24 728.858 Q2183.02 731.774 2183.02 737.7 Z\" fill=\"#000000\" fill-rule=\"evenodd\" fill-opacity=\"1\" /><path clip-path=\"url(#clip000)\" d=\"M2213.35 736.844 L2213.35 752.492 L2209.09 752.492 L2209.09 736.983 Q2209.09 733.302 2207.65 731.474 Q2206.22 729.645 2203.35 729.645 Q2199.9 729.645 2197.91 731.844 Q2195.91 734.043 2195.91 737.839 L2195.91 752.492 L2191.63 752.492 L2191.63 726.566 L2195.91 726.566 L2195.91 730.594 Q2197.44 728.256 2199.5 727.099 Q2201.59 725.941 2204.29 725.941 Q2208.76 725.941 2211.05 728.719 Q2213.35 731.474 2213.35 736.844 Z\" fill=\"#000000\" fill-rule=\"evenodd\" fill-opacity=\"1\" /><path clip-path=\"url(#clip000)\" d=\"M2221.17 716.52 L2224.87 716.52 Q2228.35 721.983 2230.06 727.214 Q2231.79 732.446 2231.79 737.608 Q2231.79 742.793 2230.06 748.048 Q2228.35 753.302 2224.87 758.742 L2221.17 758.742 Q2224.25 753.441 2225.75 748.21 Q2227.28 742.955 2227.28 737.608 Q2227.28 732.261 2225.75 727.052 Q2224.25 721.844 2221.17 716.52 Z\" fill=\"#000000\" fill-rule=\"evenodd\" fill-opacity=\"1\" /><polyline clip-path=\"url(#clip000)\" style=\"stroke:#c271d2; stroke-linecap:butt; stroke-linejoin:round; stroke-width:4; stroke-opacity:1; fill:none\" points=\"\n  1788.12,787.052 1933.27,787.052 \n  \"/>\n<path clip-path=\"url(#clip000)\" d=\"M1976.73 787.897 L1961.98 787.897 Q1962.33 794.818 1963.93 797.758 Q1965.92 801.369 1969.37 801.369 Q1972.84 801.369 1974.76 797.735 Q1976.45 794.54 1976.73 787.897 M1976.66 783.962 Q1976.01 777.388 1974.76 775.073 Q1972.77 771.415 1969.37 771.415 Q1965.82 771.415 1963.95 775.027 Q1962.47 777.943 1962.03 783.962 L1976.66 783.962 M1969.37 767.943 Q1974.92 767.943 1978.09 772.851 Q1981.26 777.735 1981.26 786.392 Q1981.26 795.026 1978.09 799.934 Q1974.92 804.864 1969.37 804.864 Q1963.79 804.864 1960.64 799.934 Q1957.47 795.026 1957.47 786.392 Q1957.47 777.735 1960.64 772.851 Q1963.79 767.943 1969.37 767.943 Z\" fill=\"#000000\" fill-rule=\"evenodd\" fill-opacity=\"1\" /><path clip-path=\"url(#clip000)\" d=\"M2013.62 768.36 Q2010.52 773.684 2009.02 778.892 Q2007.51 784.101 2007.51 789.448 Q2007.51 794.795 2009.02 800.05 Q2010.55 805.281 2013.62 810.582 L2009.92 810.582 Q2006.45 805.142 2004.71 799.888 Q2003 794.633 2003 789.448 Q2003 784.286 2004.71 779.054 Q2006.43 773.823 2009.92 768.36 L2013.62 768.36 Z\" fill=\"#000000\" fill-rule=\"evenodd\" fill-opacity=\"1\" /><path clip-path=\"url(#clip000)\" d=\"M2021.89 778.406 L2026.15 778.406 L2026.15 804.795 Q2026.15 809.749 2024.25 811.971 Q2022.37 814.193 2018.18 814.193 L2016.56 814.193 L2016.56 810.582 L2017.7 810.582 Q2020.13 810.582 2021.01 809.448 Q2021.89 808.337 2021.89 804.795 L2021.89 778.406 M2021.89 768.314 L2026.15 768.314 L2026.15 773.707 L2021.89 773.707 L2021.89 768.314 Z\" fill=\"#000000\" fill-rule=\"evenodd\" fill-opacity=\"1\" /><path clip-path=\"url(#clip000)\" d=\"M2046.84 791.3 Q2041.68 791.3 2039.69 792.48 Q2037.7 793.661 2037.7 796.508 Q2037.7 798.776 2039.18 800.119 Q2040.68 801.438 2043.25 801.438 Q2046.8 801.438 2048.92 798.938 Q2051.08 796.415 2051.08 792.249 L2051.08 791.3 L2046.84 791.3 M2055.34 789.54 L2055.34 804.332 L2051.08 804.332 L2051.08 800.397 Q2049.62 802.758 2047.44 803.892 Q2045.27 805.003 2042.12 805.003 Q2038.14 805.003 2035.78 802.781 Q2033.44 800.536 2033.44 796.786 Q2033.44 792.411 2036.36 790.189 Q2039.3 787.966 2045.11 787.966 L2051.08 787.966 L2051.08 787.55 Q2051.08 784.61 2049.13 783.013 Q2047.21 781.392 2043.72 781.392 Q2041.49 781.392 2039.39 781.925 Q2037.28 782.457 2035.34 783.522 L2035.34 779.587 Q2037.67 778.684 2039.87 778.244 Q2042.07 777.781 2044.16 777.781 Q2049.78 777.781 2052.56 780.698 Q2055.34 783.614 2055.34 789.54 Z\" fill=\"#000000\" fill-rule=\"evenodd\" fill-opacity=\"1\" /><path clip-path=\"url(#clip000)\" d=\"M2082.77 779.402 L2082.77 783.383 Q2080.96 782.388 2079.13 781.902 Q2077.33 781.392 2075.48 781.392 Q2071.33 781.392 2069.04 784.031 Q2066.75 786.647 2066.75 791.392 Q2066.75 796.138 2069.04 798.776 Q2071.33 801.392 2075.48 801.392 Q2077.33 801.392 2079.13 800.906 Q2080.96 800.397 2082.77 799.401 L2082.77 803.337 Q2080.98 804.17 2079.06 804.587 Q2077.17 805.003 2075.01 805.003 Q2069.16 805.003 2065.71 801.323 Q2062.26 797.642 2062.26 791.392 Q2062.26 785.05 2065.73 781.415 Q2069.23 777.781 2075.29 777.781 Q2077.26 777.781 2079.13 778.198 Q2081.01 778.591 2082.77 779.402 Z\" fill=\"#000000\" fill-rule=\"evenodd\" fill-opacity=\"1\" /><path clip-path=\"url(#clip000)\" d=\"M2100.22 781.392 Q2096.79 781.392 2094.8 784.077 Q2092.81 786.739 2092.81 791.392 Q2092.81 796.045 2094.78 798.73 Q2096.77 801.392 2100.22 801.392 Q2103.62 801.392 2105.61 798.707 Q2107.61 796.022 2107.61 791.392 Q2107.61 786.786 2105.61 784.101 Q2103.62 781.392 2100.22 781.392 M2100.22 777.781 Q2105.78 777.781 2108.95 781.392 Q2112.12 785.003 2112.12 791.392 Q2112.12 797.758 2108.95 801.392 Q2105.78 805.003 2100.22 805.003 Q2094.64 805.003 2091.47 801.392 Q2088.32 797.758 2088.32 791.392 Q2088.32 785.003 2091.47 781.392 Q2094.64 777.781 2100.22 777.781 Z\" fill=\"#000000\" fill-rule=\"evenodd\" fill-opacity=\"1\" /><path clip-path=\"url(#clip000)\" d=\"M2137.79 791.392 Q2137.79 786.693 2135.85 784.031 Q2133.92 781.346 2130.54 781.346 Q2127.17 781.346 2125.22 784.031 Q2123.3 786.693 2123.3 791.392 Q2123.3 796.091 2125.22 798.776 Q2127.17 801.438 2130.54 801.438 Q2133.92 801.438 2135.85 798.776 Q2137.79 796.091 2137.79 791.392 M2123.3 782.341 Q2124.64 780.027 2126.68 778.915 Q2128.74 777.781 2131.59 777.781 Q2136.31 777.781 2139.25 781.531 Q2142.21 785.281 2142.21 791.392 Q2142.21 797.503 2139.25 801.253 Q2136.31 805.003 2131.59 805.003 Q2128.74 805.003 2126.68 803.892 Q2124.64 802.758 2123.3 800.443 L2123.3 804.332 L2119.02 804.332 L2119.02 768.314 L2123.3 768.314 L2123.3 782.341 Z\" fill=\"#000000\" fill-rule=\"evenodd\" fill-opacity=\"1\" /><path clip-path=\"url(#clip000)\" d=\"M2149.27 778.406 L2153.53 778.406 L2153.53 804.332 L2149.27 804.332 L2149.27 778.406 M2149.27 768.314 L2153.53 768.314 L2153.53 773.707 L2149.27 773.707 L2149.27 768.314 Z\" fill=\"#000000\" fill-rule=\"evenodd\" fill-opacity=\"1\" /><path clip-path=\"url(#clip000)\" d=\"M2174.23 791.3 Q2169.06 791.3 2167.07 792.48 Q2165.08 793.661 2165.08 796.508 Q2165.08 798.776 2166.56 800.119 Q2168.07 801.438 2170.64 801.438 Q2174.18 801.438 2176.31 798.938 Q2178.46 796.415 2178.46 792.249 L2178.46 791.3 L2174.23 791.3 M2182.72 789.54 L2182.72 804.332 L2178.46 804.332 L2178.46 800.397 Q2177 802.758 2174.83 803.892 Q2172.65 805.003 2169.5 805.003 Q2165.52 805.003 2163.16 802.781 Q2160.82 800.536 2160.82 796.786 Q2160.82 792.411 2163.74 790.189 Q2166.68 787.966 2172.49 787.966 L2178.46 787.966 L2178.46 787.55 Q2178.46 784.61 2176.52 783.013 Q2174.6 781.392 2171.1 781.392 Q2168.88 781.392 2166.77 781.925 Q2164.66 782.457 2162.72 783.522 L2162.72 779.587 Q2165.06 778.684 2167.26 778.244 Q2169.46 777.781 2171.54 777.781 Q2177.16 777.781 2179.94 780.698 Q2182.72 783.614 2182.72 789.54 Z\" fill=\"#000000\" fill-rule=\"evenodd\" fill-opacity=\"1\" /><path clip-path=\"url(#clip000)\" d=\"M2213.04 788.684 L2213.04 804.332 L2208.79 804.332 L2208.79 788.823 Q2208.79 785.142 2207.35 783.314 Q2205.91 781.485 2203.04 781.485 Q2199.6 781.485 2197.6 783.684 Q2195.61 785.883 2195.61 789.679 L2195.61 804.332 L2191.33 804.332 L2191.33 778.406 L2195.61 778.406 L2195.61 782.434 Q2197.14 780.096 2199.2 778.939 Q2201.29 777.781 2203.99 777.781 Q2208.46 777.781 2210.75 780.559 Q2213.04 783.314 2213.04 788.684 Z\" fill=\"#000000\" fill-rule=\"evenodd\" fill-opacity=\"1\" /><path clip-path=\"url(#clip000)\" d=\"M2220.87 768.36 L2224.57 768.36 Q2228.04 773.823 2229.76 779.054 Q2231.49 784.286 2231.49 789.448 Q2231.49 794.633 2229.76 799.888 Q2228.04 805.142 2224.57 810.582 L2220.87 810.582 Q2223.95 805.281 2225.45 800.05 Q2226.98 794.795 2226.98 789.448 Q2226.98 784.101 2225.45 778.892 Q2223.95 773.684 2220.87 768.36 Z\" fill=\"#000000\" fill-rule=\"evenodd\" fill-opacity=\"1\" /></svg>\n"
     },
     "execution_count": 42,
     "metadata": {},
     "output_type": "execute_result"
    }
   ],
   "source": [
    "tf_sim = 3.0\n",
    "Tsim_lqr_jacpen = range(0,tf_sim,step=dt)\n",
    "\n",
    "x0 = [-0.4,pi-deg2rad(40),0,0]\n",
    "\n",
    "ctrl_lqr_jacpen = LQRController(K_bil_jacpen, xe, ue)\n",
    "Xsim_lqr_jacpen, = simulatewithcontroller(dmodel, ctrl_lqr_jacpen, x0, tf_sim, dt)\n",
    "\n",
    "plotstates(Tsim_lqr_nominal, Xsim_lqr_nominal, inds=1:2, xlabel=\"time (s)\", ylabel=\"states\", label=[\"x (nominal)\" \"θ (nominal)\"], legend=:right, lw=2)\n",
    "plotstates!(Tsim_lqr_jacpen, Xsim_lqr_jacpen, inds=1:2, xlabel=\"time (s)\", ylabel=\"states\", label=[\"x (jacobian)\" \"θ (jacobian)\"], legend=:right, lw=2)"
   ]
  },
  {
   "cell_type": "code",
   "execution_count": 43,
   "metadata": {},
   "outputs": [
    {
     "data": {
      "text/html": [
       "    <div style=\"height: 500px; width: 100%; overflow-x: auto; overflow-y: hidden; resize: both\">\n",
       "    <iframe src=\"http://127.0.0.1:8701\" style=\"width: 100%; height: 100%; border: none\"></iframe>\n",
       "    </div>\n"
      ],
      "text/plain": [
       "MeshCat.DisplayedVisualizer(MeshCat.CoreVisualizer(MeshCat.SceneTrees.SceneNode(nothing, nothing, Dict{String, Vector{UInt8}}(), nothing, Dict{String, MeshCat.SceneTrees.SceneNode}(\"meshcat\" => MeshCat.SceneTrees.SceneNode(nothing, nothing, Dict{String, Vector{UInt8}}(), nothing, Dict{String, MeshCat.SceneTrees.SceneNode}(\"robot\" => MeshCat.SceneTrees.SceneNode(nothing, nothing, Dict{String, Vector{UInt8}}(), nothing, Dict{String, MeshCat.SceneTrees.SceneNode}(\"rod\" => MeshCat.SceneTrees.SceneNode(UInt8[0x83, 0xa6, 0x6f, 0x62, 0x6a, 0x65, 0x63, 0x74, 0x84, 0xaa  …  0x2f, 0x72, 0x6f, 0x62, 0x6f, 0x74, 0x2f, 0x72, 0x6f, 0x64], nothing, Dict{String, Vector{UInt8}}(), nothing, Dict{String, MeshCat.SceneTrees.SceneNode}()), \"cart\" => MeshCat.SceneTrees.SceneNode(nothing, nothing, Dict{String, Vector{UInt8}}(), nothing, Dict{String, MeshCat.SceneTrees.SceneNode}(\"pole\" => MeshCat.SceneTrees.SceneNode(nothing, UInt8[0x83, 0xa6, 0x6d, 0x61, 0x74, 0x72, 0x69, 0x78, 0xc7, 0x40  …  0x2f, 0x63, 0x61, 0x72, 0x74, 0x2f, 0x70, 0x6f, 0x6c, 0x65], Dict{String, Vector{UInt8}}(), nothing, Dict{String, MeshCat.SceneTrees.SceneNode}(\"geom\" => MeshCat.SceneTrees.SceneNode(nothing, nothing, Dict{String, Vector{UInt8}}(), nothing, Dict{String, MeshCat.SceneTrees.SceneNode}(\"cyl\" => MeshCat.SceneTrees.SceneNode(UInt8[0x83, 0xa6, 0x6f, 0x62, 0x6a, 0x65, 0x63, 0x74, 0x84, 0xaa  …  0x65, 0x2f, 0x67, 0x65, 0x6f, 0x6d, 0x2f, 0x63, 0x79, 0x6c], nothing, Dict{String, Vector{UInt8}}(), nothing, Dict{String, MeshCat.SceneTrees.SceneNode}()), \"mass\" => MeshCat.SceneTrees.SceneNode(UInt8[0x83, 0xa6, 0x6f, 0x62, 0x6a, 0x65, 0x63, 0x74, 0x84, 0xaa  …  0x2f, 0x67, 0x65, 0x6f, 0x6d, 0x2f, 0x6d, 0x61, 0x73, 0x73], nothing, Dict{String, Vector{UInt8}}(), nothing, Dict{String, MeshCat.SceneTrees.SceneNode}()))))), \"box\" => MeshCat.SceneTrees.SceneNode(UInt8[0x83, 0xa6, 0x6f, 0x62, 0x6a, 0x65, 0x63, 0x74, 0x84, 0xaa  …  0x74, 0x2f, 0x63, 0x61, 0x72, 0x74, 0x2f, 0x62, 0x6f, 0x78], nothing, Dict{String, Vector{UInt8}}(), nothing, Dict{String, MeshCat.SceneTrees.SceneNode}()), \"hinge\" => MeshCat.SceneTrees.SceneNode(UInt8[0x83, 0xa6, 0x6f, 0x62, 0x6a, 0x65, 0x63, 0x74, 0x84, 0xaa  …  0x63, 0x61, 0x72, 0x74, 0x2f, 0x68, 0x69, 0x6e, 0x67, 0x65], nothing, Dict{String, Vector{UInt8}}(), nothing, Dict{String, MeshCat.SceneTrees.SceneNode}()))))))))), Set(Any[WebSocket(server, \u001b[32mCONNECTED\u001b[39m)]), ip\"127.0.0.1\", 8701))"
      ]
     },
     "execution_count": 43,
     "metadata": {},
     "output_type": "execute_result"
    }
   ],
   "source": [
    "render(vis)"
   ]
  },
  {
   "cell_type": "code",
   "execution_count": 44,
   "metadata": {},
   "outputs": [],
   "source": [
    "# visualize!(vis, model, tf_sim, Xsim_lqr_nominal)\n",
    "visualize!(vis, model, tf_sim, Xsim_lqr_jacpen)"
   ]
  }
 ],
 "metadata": {
  "kernelspec": {
   "display_name": "Julia (10 Threads) 1.7.2",
   "language": "julia",
   "name": "julia-(10-threads)-1.7"
  },
  "language_info": {
   "file_extension": ".jl",
   "mimetype": "application/julia",
   "name": "julia",
   "version": "1.7.2"
  },
  "orig_nbformat": 4
 },
 "nbformat": 4,
 "nbformat_minor": 2
}
