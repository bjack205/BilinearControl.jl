{
 "cells": [
  {
   "cell_type": "code",
   "execution_count": 1,
   "id": "af4ef5b1-d0ba-46e2-935c-b761bef96a9b",
   "metadata": {},
   "outputs": [],
   "source": [
    "using LinearAlgebra"
   ]
  },
  {
   "cell_type": "code",
   "execution_count": 2,
   "id": "79fd9fbf-ec41-4bdf-a25c-983388495e3f",
   "metadata": {},
   "outputs": [
    {
     "data": {
      "text/plain": [
       "1.0"
      ]
     },
     "execution_count": 2,
     "metadata": {},
     "output_type": "execute_result"
    }
   ],
   "source": [
    "g = 9.81\n",
    "ℓ = 1.0\n",
    "J = 1.0"
   ]
  },
  {
   "cell_type": "code",
   "execution_count": 3,
   "id": "4eeaa8aa-41ec-4c4d-8e79-eaa57e714665",
   "metadata": {},
   "outputs": [
    {
     "data": {
      "text/plain": [
       "dynamics (generic function with 1 method)"
      ]
     },
     "execution_count": 3,
     "metadata": {},
     "output_type": "execute_result"
    }
   ],
   "source": [
    "#Nonlinear dynamics\n",
    "function dynamics(x,u)\n",
    "    θ = x[1]\n",
    "    θ̇ = x[2]\n",
    "    \n",
    "    θ̈ = -(g/ℓ)*sin(θ) + u/J\n",
    "    \n",
    "    return [θ̇; θ̈]\n",
    "end"
   ]
  },
  {
   "cell_type": "code",
   "execution_count": 4,
   "id": "88684714-36bc-46cf-8faa-0e263d3811c0",
   "metadata": {},
   "outputs": [
    {
     "data": {
      "text/plain": [
       "2×9 SparseArrays.SparseMatrixCSC{Float64, Int64} with 2 stored entries:\n",
       " 1.0   ⋅    ⋅    ⋅    ⋅    ⋅    ⋅    ⋅    ⋅ \n",
       "  ⋅   1.0   ⋅    ⋅    ⋅    ⋅    ⋅    ⋅    ⋅ "
      ]
     },
     "execution_count": 4,
     "metadata": {},
     "output_type": "execute_result"
    }
   ],
   "source": [
    "#x = [θ θ̇ θ^2 θ*θ̇ θ̇^2 θ^3 θ^2*θ̇ θ*θ̇^2 θ̇^3] #extended state vector\n",
    "A = [0 1 0 0 0 0 0 0 0;\n",
    "     -g/ℓ 0 0 0 0 g/(6*ℓ) 0 0 0;\n",
    "    0 0 0 2 0 0 0 0 0;\n",
    "    0 0 -g/ℓ 0 1 0 0 0 0;\n",
    "    0 0 0 -2*g/ℓ 0 0 0 0 0;\n",
    "    0 0 0 0 0 0 3 0 0;\n",
    "    0 0 0 0 0 -g/ℓ 0 2 0;\n",
    "    0 0 0 0 0 0 -2*g/ℓ 0 1;\n",
    "    0 0 0 0 0 0 0 -3*g/ℓ 0];\n",
    "\n",
    "B0 = [0; 1.0/J; 0; 0; 0; 0; 0; 0; 0]\n",
    "\n",
    "B = [zeros(3,9);\n",
    "     1.0/J 0 0 0 0 0 0 0 0;\n",
    "     0 1.0/J 0 0 0 0 0 0 0;\n",
    "     zeros(1,9);\n",
    "     0 0 1.0/J 0 0 0 0 0 0;\n",
    "     0 0 0 2.0/J 0 0 0 0 0;\n",
    "     0 0 0 0 3.0/J 0 0 0 0];\n",
    "\n",
    "C = [I(2) zeros(2,7)]"
   ]
  },
  {
   "cell_type": "code",
   "execution_count": 5,
   "id": "dd95c343-f0f3-4da5-b440-964f984e025e",
   "metadata": {},
   "outputs": [
    {
     "data": {
      "text/plain": [
       "extend (generic function with 1 method)"
      ]
     },
     "execution_count": 5,
     "metadata": {},
     "output_type": "execute_result"
    }
   ],
   "source": [
    "function extend(x)\n",
    "    θ = x[1]\n",
    "    θ̇ = x[2]\n",
    "    \n",
    "    x̃ = [θ; θ̇; θ^2; θ*θ̇; θ̇^2; θ^3; θ^2*θ̇; θ*θ̇^2; θ̇^3] #extended state vector\n",
    "end"
   ]
  },
  {
   "cell_type": "code",
   "execution_count": 6,
   "id": "9aac2498-43af-4c2f-aa49-c069ff69772b",
   "metadata": {},
   "outputs": [
    {
     "data": {
      "text/plain": [
       "dynamics1 (generic function with 1 method)"
      ]
     },
     "execution_count": 6,
     "metadata": {},
     "output_type": "execute_result"
    }
   ],
   "source": [
    "function dynamics3(x,u)    \n",
    "    x̃ = extend(x)\n",
    "    \n",
    "    x̃̇ = A*x̃ + B0*u + u*(B*x̃)\n",
    "    \n",
    "    return C*x̃̇\n",
    "end \n",
    "\n",
    "function dynamics1(x,u)\n",
    "    θ = x[1]\n",
    "    θ̇ = x[2]\n",
    "    \n",
    "    θ̈ = -(g/ℓ)*θ + u/J\n",
    "    \n",
    "    return [θ̇; θ̈]\n",
    "end "
   ]
  },
  {
   "cell_type": "code",
   "execution_count": 7,
   "id": "7479b6e5-878f-4be1-9c70-db978577cb05",
   "metadata": {},
   "outputs": [
    {
     "data": {
      "text/plain": [
       "2"
      ]
     },
     "execution_count": 7,
     "metadata": {},
     "output_type": "execute_result"
    }
   ],
   "source": [
    "#The original 2D state is controllable at the origin, but not the extended state\n",
    "CRB = [B0 A*B0 A*A*B0 A*A*A*B0 A*A*A*A*B0 A*A*A*A*A*B0 A*A*A*A*A*A*B0 A*A*A*A*A*A*A*B0 A*A*A*A*A*A*A*A*B0]\n",
    "rank(CRB)"
   ]
  },
  {
   "cell_type": "code",
   "execution_count": 18,
   "id": "1e77085f-7cc9-4bdb-9749-cc575b08fabf",
   "metadata": {},
   "outputs": [
    {
     "data": {
      "text/plain": [
       "0.0"
      ]
     },
     "execution_count": 18,
     "metadata": {},
     "output_type": "execute_result"
    }
   ],
   "source": [
    "xsamp = randn(2)\n",
    "usamp = 0.0 #randn()"
   ]
  },
  {
   "cell_type": "code",
   "execution_count": 19,
   "id": "47ce12c3-f9e5-44dd-abbc-06241d0f430f",
   "metadata": {},
   "outputs": [
    {
     "data": {
      "text/plain": [
       "9"
      ]
     },
     "execution_count": 19,
     "metadata": {},
     "output_type": "execute_result"
    }
   ],
   "source": [
    "#Extended state is controllable as long as you're away from the origin\n",
    "B̃ = B0 + B*extend(xsamp)\n",
    "CRB = [B̃ A*B̃ A*A*B̃ A*A*A*B̃ A*A*A*A*B̃ A*A*A*A*A*B̃ A*A*A*A*A*A*B̃ A*A*A*A*A*A*A*B̃ A*A*A*A*A*A*A*A*B̃]\n",
    "rank(CRB)"
   ]
  },
  {
   "cell_type": "code",
   "execution_count": 20,
   "id": "639c0c3f-e2ef-4db5-a9e0-a8e7ef9aca21",
   "metadata": {},
   "outputs": [
    {
     "data": {
      "text/plain": [
       "2-element Vector{Float64}:\n",
       " -0.8032568824704643\n",
       " -9.164331170088818"
      ]
     },
     "execution_count": 20,
     "metadata": {},
     "output_type": "execute_result"
    }
   ],
   "source": [
    "dynamics(xsamp, usamp)"
   ]
  },
  {
   "cell_type": "code",
   "execution_count": 21,
   "id": "18807058-74e5-460d-8e8e-10cce2a34dca",
   "metadata": {},
   "outputs": [
    {
     "data": {
      "text/plain": [
       "2-element Vector{Float64}:\n",
       " -0.8032568824704643\n",
       " -7.131245295163822"
      ]
     },
     "execution_count": 21,
     "metadata": {},
     "output_type": "execute_result"
    }
   ],
   "source": [
    "dynamics3(xsamp, usamp)"
   ]
  },
  {
   "cell_type": "code",
   "execution_count": 22,
   "id": "34efea99-ced6-4862-958e-46e32922b340",
   "metadata": {},
   "outputs": [
    {
     "data": {
      "text/plain": [
       "2-element Vector{Float64}:\n",
       "  -0.8032568824704643\n",
       " -18.988544936305313"
      ]
     },
     "execution_count": 22,
     "metadata": {},
     "output_type": "execute_result"
    }
   ],
   "source": [
    "dynamics1(xsamp, usamp)"
   ]
  },
  {
   "cell_type": "code",
   "execution_count": 23,
   "id": "66bbe006-1f7c-4725-8295-bf1654026411",
   "metadata": {},
   "outputs": [
    {
     "data": {
      "text/plain": [
       "2-element Vector{Float64}:\n",
       "  1.9356314919781155\n",
       " -0.8032568824704643"
      ]
     },
     "execution_count": 23,
     "metadata": {},
     "output_type": "execute_result"
    }
   ],
   "source": [
    "xsamp"
   ]
  },
  {
   "cell_type": "code",
   "execution_count": null,
   "id": "09432a75-7e52-4ad3-aaad-853c584a79a2",
   "metadata": {},
   "outputs": [],
   "source": []
  }
 ],
 "metadata": {
  "kernelspec": {
   "display_name": "Julia 1.7.2",
   "language": "julia",
   "name": "julia-1.7"
  },
  "language_info": {
   "file_extension": ".jl",
   "mimetype": "application/julia",
   "name": "julia",
   "version": "1.7.2"
  }
 },
 "nbformat": 4,
 "nbformat_minor": 5
}
