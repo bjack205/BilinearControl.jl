{
 "cells": [
  {
   "cell_type": "code",
   "execution_count": 5,
   "metadata": {},
   "outputs": [
    {
     "name": "stderr",
     "output_type": "stream",
     "text": [
      "\u001b[32m\u001b[1m  Activating\u001b[22m\u001b[39m project at `~/.julia/dev/BilinearControl/examples`\n"
     ]
    }
   ],
   "source": [
    "import Pkg; Pkg.activate(joinpath(@__DIR__)); Pkg.instantiate();\n",
    "using BilinearControl\n",
    "using BilinearControl.Problems\n",
    "using BilinearControl.EDMD\n",
    "import RobotDynamics as RD\n",
    "using LinearAlgebra\n",
    "using RobotZoo\n",
    "using JLD2\n",
    "using SparseArrays\n",
    "using Plots\n",
    "using Distributions\n",
    "using Distributions: Normal\n",
    "using Random\n",
    "using FiniteDiff, ForwardDiff\n",
    "using Test\n",
    "using Rotations"
   ]
  },
  {
   "cell_type": "code",
   "execution_count": 6,
   "metadata": {},
   "outputs": [
    {
     "data": {
      "text/plain": [
       "10"
      ]
     },
     "execution_count": 6,
     "metadata": {},
     "output_type": "execute_result"
    }
   ],
   "source": [
    "Threads.nthreads()"
   ]
  },
  {
   "cell_type": "code",
   "execution_count": 7,
   "metadata": {},
   "outputs": [],
   "source": [
    "# include(\"learned_models/edmd_utils.jl\");"
   ]
  },
  {
   "cell_type": "code",
   "execution_count": 8,
   "metadata": {},
   "outputs": [
    {
     "name": "stderr",
     "output_type": "stream",
     "text": [
      "WARNING: using GeometryBasics.Normal in module Main conflicts with an existing identifier.\n",
      "┌ Info: MeshCat server started. You can open the visualizer by visiting the following URL in your browser:\n",
      "│ http://127.0.0.1:8700\n",
      "└ @ MeshCat /home/jeonghun/.julia/packages/MeshCat/Ax8pH/src/visualizer.jl:73\n"
     ]
    },
    {
     "data": {
      "text/plain": [
       "false"
      ]
     },
     "execution_count": 8,
     "metadata": {},
     "output_type": "execute_result"
    }
   ],
   "source": [
    "## Visualizer\n",
    "model = RobotZoo.Quadrotor{MRP{Float64}}()\n",
    "include(joinpath(Problems.VISDIR, \"visualization.jl\"))\n",
    "vis = Visualizer()\n",
    "delete!(vis)\n",
    "set_quadrotor!(vis, model)"
   ]
  },
  {
   "cell_type": "code",
   "execution_count": 9,
   "metadata": {},
   "outputs": [
    {
     "data": {
      "text/html": [
       "    <div style=\"height: 500px; width: 100%; overflow-x: auto; overflow-y: hidden; resize: both\">\n",
       "    <iframe src=\"http://127.0.0.1:8700\" style=\"width: 100%; height: 100%; border: none\"></iframe>\n",
       "    </div>\n"
      ],
      "text/plain": [
       "MeshCat.DisplayedVisualizer(MeshCat.CoreVisualizer(MeshCat.SceneTrees.SceneNode(nothing, nothing, Dict{String, Vector{UInt8}}(), nothing, Dict{String, MeshCat.SceneTrees.SceneNode}(\"meshcat\" => MeshCat.SceneTrees.SceneNode(nothing, nothing, Dict{String, Vector{UInt8}}(), nothing, Dict{String, MeshCat.SceneTrees.SceneNode}(\"robot\" => MeshCat.SceneTrees.SceneNode(nothing, nothing, Dict{String, Vector{UInt8}}(), nothing, Dict{String, MeshCat.SceneTrees.SceneNode}(\"geom\" => MeshCat.SceneTrees.SceneNode(UInt8[0x83, 0xa6, 0x6f, 0x62, 0x6a, 0x65, 0x63, 0x74, 0x84, 0xaa  …  0x72, 0x6f, 0x62, 0x6f, 0x74, 0x2f, 0x67, 0x65, 0x6f, 0x6d], nothing, Dict{String, Vector{UInt8}}(), nothing, Dict{String, MeshCat.SceneTrees.SceneNode}()))))))), Set{Any}(), ip\"127.0.0.1\", 8700))"
      ]
     },
     "execution_count": 9,
     "metadata": {},
     "output_type": "execute_result"
    }
   ],
   "source": [
    "render(vis)"
   ]
  },
  {
   "cell_type": "markdown",
   "metadata": {},
   "source": [
    "# Define Full Quadrotor Model"
   ]
  },
  {
   "cell_type": "code",
   "execution_count": 10,
   "metadata": {},
   "outputs": [],
   "source": [
    "model = RobotZoo.Quadrotor{MRP{Float64}}()\n",
    "dmodel = RD.DiscretizedDynamics{RD.RK4}(model)\n",
    "tf = 5.0\n",
    "dt = 0.05\n",
    "\n",
    "T_ref = range(0,tf,step=dt);"
   ]
  },
  {
   "cell_type": "code",
   "execution_count": 11,
   "metadata": {},
   "outputs": [
    {
     "data": {
      "text/plain": [
       "12"
      ]
     },
     "execution_count": 11,
     "metadata": {},
     "output_type": "execute_result"
    }
   ],
   "source": [
    "n, m = RD.dims(model)\n",
    "n"
   ]
  },
  {
   "cell_type": "markdown",
   "metadata": {},
   "source": [
    "# Generate Data"
   ]
  },
  {
   "cell_type": "code",
   "execution_count": 51,
   "metadata": {},
   "outputs": [],
   "source": [
    "Random.seed!(1)\n",
    "\n",
    "# number of trajectories\n",
    "num_train = 30\n",
    "num_test = 20\n",
    "\n",
    "# Generate a stabilizing LQR controller\n",
    "Qlqr = Diagonal(fill(1.0, 12))\n",
    "Rlqr = Diagonal([1e-4, 1e-4, 1e-4, 1e-4])\n",
    "xe = [0.0, 0.0, 0.0, 0.0, 0.0, 0.0, 0.0, 0.0, 0.0, 0.0, 0.0, 0.0]\n",
    "ue = [9.81*0.5/4.0, 9.81*0.5/4.0, 9.81*0.5/4.0, 9.81*0.5/4.0]\n",
    "ctrl_lqr = LQRController(dmodel, Qlqr, Rlqr, xe, ue, dt)\n",
    "\n",
    "# Sample a bunch of initial conditions for the LQR controller\n",
    "x0_train_sampler = Product([\n",
    "    Uniform(-1.0,1.0),\n",
    "    Uniform(-1.0,1.0),\n",
    "    Uniform(-1.0,1.0),\n",
    "    Uniform(-deg2rad(70),deg2rad(70)),\n",
    "    Uniform(-deg2rad(70),deg2rad(70)),\n",
    "    Uniform(-deg2rad(70),deg2rad(70)),\n",
    "    Uniform(-0.5,0.5),\n",
    "    Uniform(-0.5,0.5),\n",
    "    Uniform(-0.5,0.5),\n",
    "    Uniform(-0.25,0.25),\n",
    "    Uniform(-0.25,0.25),\n",
    "    Uniform(-0.25,0.25)\n",
    "])\n",
    "\n",
    "x0_test_sampler = Product([\n",
    "    Uniform(-2.0,2.0),\n",
    "    Uniform(-2.0,2.0),\n",
    "    Uniform(-2.0,2.0),\n",
    "    Uniform(-deg2rad(80),deg2rad(80)),\n",
    "    Uniform(-deg2rad(80),deg2rad(80)),\n",
    "    Uniform(-deg2rad(80),deg2rad(80)),\n",
    "    Uniform(-1,1),\n",
    "    Uniform(-1,1),\n",
    "    Uniform(-1,1),\n",
    "    Uniform(-0.25,0.25),\n",
    "    Uniform(-0.25,0.25),\n",
    "    Uniform(-0.25,0.25)\n",
    "])\n",
    "\n",
    "initial_conditions_train = [rand(x0_train_sampler) for _ in 1:num_train]\n",
    "initial_conditions_test = [rand(x0_test_sampler) for _ in 1:num_test]\n",
    "\n",
    "initial_conditions_train = map((x) -> vcat(x[1:3], Rotations.params(MRP(RotXYZ(x[4], x[5], x[6]))), \n",
    "    x[7:end]), initial_conditions_train)\n",
    "initial_conditions_test = map((x) -> vcat(x[1:3], Rotations.params(MRP(RotXYZ(x[4], x[5], x[6]))), \n",
    "    x[7:end]), initial_conditions_test)\n",
    "\n",
    "# Create data set\n",
    "X_train, U_train = create_data(dmodel, ctrl_lqr, initial_conditions_train, tf, dt)\n",
    "X_test, U_test = create_data(dmodel, ctrl_lqr, initial_conditions_test, tf*1.5, dt);"
   ]
  },
  {
   "cell_type": "code",
   "execution_count": 52,
   "metadata": {},
   "outputs": [
    {
     "data": {
      "text/plain": [
       "\u001b[32m\u001b[1mTest Passed\u001b[22m\u001b[39m\n",
       "  Expression: all((x->begin\n",
       "            x < 0.1\n",
       "        end), map((x->begin\n",
       "                norm(x - xe)\n",
       "            end), X_test[end, :]))"
      ]
     },
     "execution_count": 52,
     "metadata": {},
     "output_type": "execute_result"
    }
   ],
   "source": [
    "@test all(x->x<0.1, map(x->norm(x-xe), X_train[end,:]))\n",
    "@test all(x->x<0.1, map(x->norm(x-xe), X_test[end,:]))"
   ]
  },
  {
   "cell_type": "code",
   "execution_count": 24,
   "metadata": {},
   "outputs": [],
   "source": [
    "#save data\n",
    "jldsave(joinpath(Problems.DATADIR, \"rex_full_quadrotor_lqr_trajectories.jld2\"); \n",
    "    X_train, U_train, X_test, U_test, tf, dt)"
   ]
  },
  {
   "cell_type": "markdown",
   "metadata": {},
   "source": [
    "# Import Training/Test Data"
   ]
  },
  {
   "cell_type": "code",
   "execution_count": null,
   "metadata": {},
   "outputs": [],
   "source": [
    "lqr_traj = load(joinpath(Problems.DATADIR, \"rex_full_quadrotor_lqr_trajectories.jld2\"))\n",
    "\n",
    "X_train = lqr_traj[\"X_train\"]\n",
    "U_train = lqr_traj[\"U_train\"]\n",
    "X_test = lqr_traj[\"X_test\"]\n",
    "U_test = lqr_traj[\"U_test\"]\n",
    "tf = lqr_traj[\"tf\"]\n",
    "dt = lqr_traj[\"dt\"]\n",
    "\n",
    "T_ref = range(0,tf,step=dt);"
   ]
  },
  {
   "cell_type": "markdown",
   "metadata": {},
   "source": [
    "# Fit the Data using Nominal eDMD\n",
    "This uses the standard eDMD model method used in the CalTech paper, which learns a model of the form:\n",
    "\n",
    "$$ x^+ = A x + \\sum_{i=1}^m u_i C_i x $$"
   ]
  },
  {
   "cell_type": "code",
   "execution_count": null,
   "metadata": {},
   "outputs": [],
   "source": [
    "# Define the basis functions\n",
    "eigfuns = [\"state\", \"monomial\"]\n",
    "eigorders = [[0],[2, 2]];"
   ]
  },
  {
   "cell_type": "code",
   "execution_count": null,
   "metadata": {},
   "outputs": [],
   "source": [
    "# Fit the data\n",
    "Z_train, Zu_train, kf = build_eigenfunctions(X_train, U_train, eigfuns, eigorders);"
   ]
  },
  {
   "cell_type": "code",
   "execution_count": null,
   "metadata": {},
   "outputs": [],
   "source": [
    "# Learn Nominal model\n",
    "\n",
    "# A, B, C, g = learn_bilinear_model(X_train, Z_train, Zu_train,\n",
    "#     [\"ridge\", \"na\"]; \n",
    "#     edmd_weights=[1e-6], \n",
    "#     mapping_weights=[0.0], \n",
    "#     algorithm=:qr\n",
    "# );\n",
    "\n",
    "A, B, C, g = learn_bilinear_model(X_train, Z_train, Zu_train,\n",
    "    [\"na\", \"na\"]; \n",
    "    edmd_weights=[0.0], \n",
    "    mapping_weights=[0.0], \n",
    "    algorithm=:qr\n",
    ");"
   ]
  },
  {
   "cell_type": "code",
   "execution_count": null,
   "metadata": {},
   "outputs": [],
   "source": [
    "# Save model\n",
    "jldsave(joinpath(Problems.DATADIR,\"rex_full_quadrotor_lqr_nominal_eDMD_data.jld2\"); A, B, C, g, kf, eigfuns, eigorders, tf, dt)"
   ]
  },
  {
   "cell_type": "markdown",
   "metadata": {},
   "source": [
    "# Import Nominal EDMD Model"
   ]
  },
  {
   "cell_type": "code",
   "execution_count": null,
   "metadata": {},
   "outputs": [],
   "source": [
    "cartpole_data = load(joinpath(Problems.DATADIR, \"rex_full_quadrotor_lqr_nominal_eDMD_data.jld2\"))\n",
    "A_nom = cartpole_data[\"A\"]\n",
    "B_nom = cartpole_data[\"B\"]\n",
    "C_nom = cartpole_data[\"C\"]\n",
    "g = cartpole_data[\"g\"]\n",
    "kf = cartpole_data[\"kf\"]\n",
    "tf = cartpole_data[\"tf\"]\n",
    "dt = cartpole_data[\"dt\"];"
   ]
  },
  {
   "cell_type": "markdown",
   "metadata": {},
   "source": [
    "# Evaluate the Nominal Fit\n",
    "The fit is evaluated using:\n",
    "$$ \\frac{1}{P} \\sum_{j=1}^P || g (A \\varphi(x_j) + \\sum_{i=1}^m u_{j,i} C_i \\varphi(x_j)) - x_j^+ || $$\n",
    "\n",
    "where $y = \\varphi(x)$ is the Koopman transform."
   ]
  },
  {
   "cell_type": "code",
   "execution_count": null,
   "metadata": {},
   "outputs": [],
   "source": [
    "err_train = BilinearControl.EDMD.fiterror(A_nom, B_nom, C_nom, g, kf, X_train, U_train)\n",
    "err_test = BilinearControl.EDMD.fiterror(A_nom, B_nom, C_nom, g, kf, X_test, U_test)\n",
    "println(\"Train Error: \", err_train)\n",
    "println(\"Test Error:  \", err_test)"
   ]
  },
  {
   "cell_type": "markdown",
   "metadata": {},
   "source": [
    "### Define the Bilinear Model"
   ]
  },
  {
   "cell_type": "code",
   "execution_count": null,
   "metadata": {},
   "outputs": [],
   "source": [
    "model_bilinear = EDMDModel(A_nom,B_nom,C_nom,g,kf,dt,\"full_quadrotor\")\n",
    "dmodel_bilinear = EDMD.ProjectedEDMDModel(model_bilinear)\n",
    "n,m = RD.dims(model_bilinear)\n",
    "n0 = EDMD.originalstatedim(model_bilinear)\n",
    "println(\"New state dimension: \", n)"
   ]
  },
  {
   "cell_type": "markdown",
   "metadata": {},
   "source": [
    "### Compare Linearization\n",
    "To see if the learned model captures the dynamics, we'll evaluate the effective `A` and `B` dynamics Jaocbians of the learned model on the original dynamics, and compare to the nominal Jacobians."
   ]
  },
  {
   "cell_type": "code",
   "execution_count": null,
   "metadata": {},
   "outputs": [],
   "source": [
    "# Define the equilibrium\n",
    "xe = [0.0, 0.0, 0.0, 0.0, 0.0, 0.0, 0.0, 0.0, 0.0, 0.0, 0.0, 0.0]\n",
    "ue = Problems.trim_controls(model)\n",
    "ze = RD.KnotPoint{n0,m}(xe,ue,0.0,dt)\n",
    "ye = EDMD.expandstate(model_bilinear, xe);"
   ]
  },
  {
   "cell_type": "code",
   "execution_count": null,
   "metadata": {},
   "outputs": [],
   "source": [
    "# Nominal Jacobians\n",
    "J = zeros(n0,n0+m)\n",
    "xn = zeros(n0)\n",
    "RD.jacobian!(RD.InPlace(), RD.ForwardAD(), dmodel, J, xn, ze)\n",
    "A_og = J[:,1:n0]\n",
    "B_og = J[:,n0+1:end];"
   ]
  },
  {
   "cell_type": "code",
   "execution_count": null,
   "metadata": {},
   "outputs": [],
   "source": [
    "# Bilinear Jacobians\n",
    "function dynamics_bilinear(x,u,t,dt)\n",
    "    y = EDMD.expandstate(model_bilinear, x)\n",
    "    yn = zero(y)\n",
    "    RD.discrete_dynamics!(model_bilinear, yn, y, u, t, dt)\n",
    "    EDMD.originalstate(model_bilinear, yn)\n",
    "end\n",
    "\n",
    "A_bil_nom = FiniteDiff.finite_difference_jacobian(x->dynamics_bilinear(x,ue,0.0,dt), xe)\n",
    "B_bil_nom = FiniteDiff.finite_difference_jacobian(u->dynamics_bilinear(xe,u,0.0,dt), ue);"
   ]
  },
  {
   "cell_type": "code",
   "execution_count": null,
   "metadata": {},
   "outputs": [],
   "source": [
    "A_og"
   ]
  },
  {
   "cell_type": "code",
   "execution_count": null,
   "metadata": {},
   "outputs": [],
   "source": [
    "A_bil_nom"
   ]
  },
  {
   "cell_type": "code",
   "execution_count": null,
   "metadata": {},
   "outputs": [],
   "source": [
    "B_og"
   ]
  },
  {
   "cell_type": "code",
   "execution_count": null,
   "metadata": {},
   "outputs": [],
   "source": [
    "B_bil_nom"
   ]
  },
  {
   "cell_type": "markdown",
   "metadata": {},
   "source": [
    "# Try Stabilizing Nominal Model using LQR"
   ]
  },
  {
   "cell_type": "code",
   "execution_count": null,
   "metadata": {},
   "outputs": [],
   "source": [
    "# Calculate LQR Gain \n",
    "Qlqr = Diagonal([10.0, 10.0, 10.0, 10.0, 10.0, 10.0, 1e-4, 1e-4, 1e-4, 1e-4, 1e-4, 1e-4])\n",
    "Rlqr = Diagonal([1e-4, 1e-4, 1e-4, 1e-4])\n",
    "\n",
    "K_og, = EDMD.dlqr(A_og, B_og, Qlqr, Rlqr)\n",
    "K_bil_nom, = EDMD.dlqr(A_bil_nom, B_bil_nom, Qlqr, Rlqr);"
   ]
  },
  {
   "cell_type": "code",
   "execution_count": null,
   "metadata": {},
   "outputs": [],
   "source": [
    "# Evaluate stability\n",
    "isstable_nominal = maximum(abs.(eigvals(A_og - B_og*K_og))) < 1.0\n",
    "isstable_bilinear = maximum(abs.(eigvals(A_bil_nom - B_bil_nom*K_bil_nom))) < 1.0\n",
    "isstable_nominal_with_bilinear = maximum(abs.(eigvals(A_og - B_og*K_bil_nom))) < 1.0\n",
    "\n",
    "println(\"Stability Summary:\")\n",
    "println(\"  Dynamics  |  Controller  |  is stable? \")\n",
    "println(\"------------|--------------|--------------\")\n",
    "println(\"  Nominal   |  Nominal     |  \", isstable_nominal)\n",
    "println(\"  Bilinear  |  Bilinear    |  \", isstable_bilinear)\n",
    "println(\"  Nominal   |  Bilinear    |  \", isstable_nominal_with_bilinear)"
   ]
  },
  {
   "cell_type": "code",
   "execution_count": null,
   "metadata": {},
   "outputs": [],
   "source": [
    "# Simulate nominal model with LQR gain from bilinear model\n",
    "\n",
    "tf_sim = 5.0\n",
    "Tsim_lqr_nominal = range(0,tf_sim,step=dt)\n",
    "\n",
    "x0 = [-0.5, -0.5, 0.5, 0.15, 0.15, 0.16, -1.0, 1.0, 1.0, 0.0, 0.0, 0.0]\n",
    "\n",
    "ctrl_lqr_og = EDMD.LQRController(dmodel, Qlqr, Rlqr, xe, ue, dt, max_iters=10000, verbose=true)\n",
    "ctrl_lqr_nominal = EDMD.LQRController(dmodel_bilinear, Qlqr, Rlqr, xe, ue, dt, max_iters=10000, verbose=true)\n",
    "\n",
    "Xsim_lqr_og, = EDMD.simulatewithcontroller(dmodel, ctrl_lqr_og, x0, tf_sim, dt)\n",
    "Xsim_lqr_nominal, = EDMD.simulatewithcontroller(dmodel, ctrl_lqr_nominal, x0, tf_sim, dt)\n",
    "\n",
    "plotstates(Tsim_lqr_nominal, Xsim_lqr_og, inds=1:3, xlabel=\"time (s)\", ylabel=\"states\",\n",
    "            label=[\"x (og dynamics)\" \"y (og dynamics)\" \"z (og dynamics)\"], legend=:topright, lw=2,\n",
    "            linestyle=:dash, color=[1 2 3])\n",
    "plotstates!(Tsim_lqr_nominal, Xsim_lqr_nominal, inds=1:3, xlabel=\"time (s)\", ylabel=\"states\",\n",
    "            label=[\"x (nominal eDMD)\" \"y (nominal eDMD)\" \"z (nominal eDMD)\"], legend=:topright, lw=2,\n",
    "            color=[1 2 3])\n",
    "ylims!((-0.75, 0.75))"
   ]
  },
  {
   "cell_type": "code",
   "execution_count": null,
   "metadata": {},
   "outputs": [],
   "source": [
    "plotstates(Tsim_lqr_nominal, Xsim_lqr_og, inds=4:6, xlabel=\"time (s)\", ylabel=\"states\",\n",
    "            label=[\"MRP-x (og dynamics)\" \"MRP-y (og dynamics)\" \"MRP-z (og dynamics)\"], legend=:topright, lw=2,\n",
    "            linestyle=:dash, color=[1 2 3])\n",
    "plotstates!(Tsim_lqr_nominal, Xsim_lqr_nominal, inds=4:6, xlabel=\"time (s)\", ylabel=\"states\",\n",
    "            label=[\"MRP-x (nominal eDMD)\" \"MRP-y (nominal eDMD)\" \"MRP-z (nominal eDMD)\"], legend=:topright, lw=2,\n",
    "            color=[1 2 3])"
   ]
  },
  {
   "cell_type": "markdown",
   "metadata": {},
   "source": [
    "# Evaluate New eDMD Model with Penalties on Jacobians\n",
    "Here we incorporate derivative data by penalizing the difference of the Jacobian of the learned model from the expected Jacobians of the nominal model, e.g.:\n",
    "\n",
    "$$ \\sum_{j=1}^P || \\frac{\\partial}{\\partial x} G \\hat{f}(\\varphi(x_j), u_j) - A_j ||^2 $$\n",
    "\n",
    "where \n",
    "\n",
    "$$ \\hat{f}(y,u) = A y + B u + \\sum_{i=1}^m u_i C_i y $$\n",
    "\n",
    "are the learned bilinear dynamics."
   ]
  },
  {
   "cell_type": "code",
   "execution_count": null,
   "metadata": {},
   "outputs": [],
   "source": [
    "# Generate Jacobians\n",
    "xn = zeros(n0)\n",
    "jacobians = map(CartesianIndices(U_train)) do cind\n",
    "    k = cind[1]\n",
    "    x = X_train[cind]\n",
    "    u = U_train[cind]\n",
    "    z = RD.KnotPoint{n0,m}(x,u,T_ref[k],dt)\n",
    "    J = zeros(n0,n0+m)\n",
    "    RD.jacobian!(\n",
    "        RD.InPlace(), RD.ForwardAD(), dmodel, J, xn, z \n",
    "    )\n",
    "    J\n",
    "end\n",
    "A_train = map(J->J[:,1:n0], jacobians)\n",
    "B_train = map(J->J[:,n0+1:end], jacobians)\n",
    "\n",
    "# Convert states to lifted Koopman states\n",
    "Y_train = map(kf, X_train)\n",
    "\n",
    "# Calculate Jacobian of Koopman transform\n",
    "F_train = map(@view X_train[1:end-1,:]) do x\n",
    "    sparse(ForwardDiff.jacobian(x->EDMD.expandstate(model_bilinear,x), x))\n",
    "end;"
   ]
  },
  {
   "cell_type": "markdown",
   "metadata": {},
   "source": [
    "### Build Least-squares problem\n",
    "Find the eDMD data `A`, `B`, and `C` that minimize the following residual:\n",
    "\n",
    "$$\\sum_{j=1}^P (1-\\alpha)|| A y_j + B u_j + \\sum_{i=1}^m u_{j,i} C_i x_j - y_j^+ ||^2 + \n",
    "\\alpha || G (A + \\sum_{i=1}^m u_{j,i} C_j) F_j  - A_j ||^2 + \n",
    "\\alpha || G (B + [C_1 x_j \\dots C_m x_j]) - B_j ||^2  $$\n",
    "\n",
    "where $F_j = \\partial \\varphi(x_j) / \\partial x$.\n",
    "\n",
    "This is equivalent to \n",
    "\n",
    "$$ (1-\\alpha)|| E Z_{1:P} - Y_{1:P}^+ ||^2 + \n",
    "\\alpha || G E \\hat{A}_{1:P} - A_{1:P} ||^2 +\n",
    "\\alpha || G E \\hat{B}_{1:P} - B_{1:P} ||^2 $$\n",
    "\n",
    "where\n",
    "\n",
    "$$ E = \\begin{bmatrix} A & B & C_1 & \\dots & C_m \\end{bmatrix} \\in \\mathbb{R}^{n \\times p} $$\n",
    "$$ Z_j = \\begin{bmatrix} \n",
    "    x_j \\\\ u_j \\\\ u_{j,1} x_j \\\\ \\vdots \\\\ u_{j,m} x_j \n",
    "\\end{bmatrix} \\in \\mathbb{R}^{p}, \\quad\n",
    "\\hat{A}_j = \\begin{bmatrix} \n",
    "    I_n \\\\ 0_{m,n} \\\\ u_{j,1} I_n \\\\ \\vdots \\\\ u_{j,m} I_n \n",
    "\\end{bmatrix} \\in \\mathbb{R}^{p \\times n}, \\quad\n",
    "\\hat{B}_j = \\begin{bmatrix} \n",
    "    0_{n,m} \\\\ I_m \\\\ [x_j \\; 0 \\; \\dots \\; 0] \\\\ \\vdots \\\\ [0 \\; \\dots \\; 0 \\; x_j] \n",
    "\\end{bmatrix} \\in \\mathbb{R}^{p \\times m}\n",
    "$$\n",
    "\n",
    "which is equivalent to \n",
    "\n",
    "$$ \\left\\lVert \n",
    "\\begin{bmatrix} \n",
    "    Z_{1:P}^T \\otimes I_n \\\\\n",
    "    \\hat{A}_{1:P}^T \\otimes G \\\\\n",
    "    \\hat{B}_{1:P}^T \\otimes G \n",
    "\\end{bmatrix} \\text{vec}(E) - \n",
    "\\begin{bmatrix}\n",
    "    \\text{vec}{Y_{1:P}^+}\\\\\n",
    "    \\text{vec}{A_{1:P}^+}\\\\\n",
    "    \\text{vec}{B_{1:P}^+}\\\\\n",
    "\\end{bmatrix}\n",
    "\\right\\rVert^2 $$"
   ]
  },
  {
   "cell_type": "code",
   "execution_count": null,
   "metadata": {},
   "outputs": [],
   "source": [
    "# Create a sparse version of the G Jacobian\n",
    "G = spdiagm(n0,n,1=>ones(n0)) \n",
    "@test norm(G - model_bilinear.g) < 1e-8\n",
    "\n",
    "# Build Least Squares Problem\n",
    "W,s = BilinearControl.EDMD.build_edmd_data(\n",
    "    Z_train, U_train, A_train, B_train, F_train, model_bilinear.g\n",
    ")\n",
    "\n",
    "n = length(Z_train[1]);"
   ]
  },
  {
   "cell_type": "markdown",
   "metadata": {},
   "source": [
    "### Solve the Least-squares Problem"
   ]
  },
  {
   "cell_type": "code",
   "execution_count": null,
   "metadata": {},
   "outputs": [],
   "source": [
    "@time Wsparse = sparse(W);"
   ]
  },
  {
   "cell_type": "code",
   "execution_count": null,
   "metadata": {},
   "outputs": [],
   "source": [
    "@show size(Wsparse);"
   ]
  },
  {
   "cell_type": "code",
   "execution_count": null,
   "metadata": {},
   "outputs": [],
   "source": [
    "BilinearControl.matdensity(Wsparse)"
   ]
  },
  {
   "cell_type": "code",
   "execution_count": null,
   "metadata": {},
   "outputs": [],
   "source": [
    "# Solve directly\n",
    " \n",
    "# @time F = qr(Wsparse)\n",
    "# @time x = F \\ s\n",
    "# norm(W*x - s)\n",
    "# E = reshape(x,n,:)"
   ]
  },
  {
   "cell_type": "code",
   "execution_count": null,
   "metadata": {},
   "outputs": [],
   "source": [
    "# Solve with RLS\n",
    "\n",
    "@time x_rls = BilinearControl.EDMD.rls_qr(Vector(s), Wsparse; Q=1e-6)\n",
    "E = reshape(x_rls,n,:);"
   ]
  },
  {
   "cell_type": "code",
   "execution_count": null,
   "metadata": {},
   "outputs": [],
   "source": [
    "# Extract out bilinear dynamics\n",
    "A = E[:,1:n]\n",
    "B = E[:,n .+ (1:m)]\n",
    "C = E[:,n+m .+ (1:n*m)]\n",
    "\n",
    "C_list = Matrix{Float64}[]\n",
    "    \n",
    "for i in 1:m\n",
    "    C_i = C[:, (i-1)*n+1:i*n]\n",
    "    push!(C_list, C_i)\n",
    "end\n",
    "\n",
    "return A, B, C_list, Matrix(g)\n",
    "\n",
    "C = C_list;"
   ]
  },
  {
   "cell_type": "code",
   "execution_count": null,
   "metadata": {},
   "outputs": [],
   "source": [
    "# Save data\n",
    "jldsave(joinpath(Problems.DATADIR,\"rex_full_quadrotor_lqr_jacobian_penalized_eDMD_data.jld2\"); A, B, C, g, kf, eigfuns, eigorders, tf, dt)"
   ]
  },
  {
   "cell_type": "markdown",
   "metadata": {},
   "source": [
    "# Import New Model"
   ]
  },
  {
   "cell_type": "code",
   "execution_count": null,
   "metadata": {},
   "outputs": [],
   "source": [
    "cartpole_data = load(joinpath(Problems.DATADIR, \"rex_full_quadrotor_lqr_jacobian_penalized_eDMD_data.jld2\"))\n",
    "A_jacpen = cartpole_data[\"A\"]\n",
    "B_jacpen = cartpole_data[\"B\"]\n",
    "C_jacpen = cartpole_data[\"C\"]\n",
    "g = cartpole_data[\"g\"]\n",
    "kf = cartpole_data[\"kf\"]\n",
    "tf = cartpole_data[\"tf\"]\n",
    "dt = cartpole_data[\"dt\"]\n",
    "\n",
    "T_ref = range(0,tf,step=dt);"
   ]
  },
  {
   "cell_type": "markdown",
   "metadata": {},
   "source": [
    "# Evaluate the New Fit"
   ]
  },
  {
   "cell_type": "code",
   "execution_count": null,
   "metadata": {},
   "outputs": [],
   "source": [
    "# Evaluate the Fit\n",
    "err_train2 = BilinearControl.EDMD.fiterror(A_jacpen, B_jacpen, C_jacpen, g, kf, X_train, U_train)\n",
    "err_test2 = BilinearControl.EDMD.fiterror(A_jacpen, B_jacpen, C_jacpen, g, kf, X_test, U_test)\n",
    "println(\"Train Error: \", err_train)\n",
    "println(\"Test Error:  \", err_test)\n",
    "println(\"\")\n",
    "println(\"New Train Error: \", err_train2)\n",
    "println(\"New Test Error:  \", err_test2)"
   ]
  },
  {
   "cell_type": "code",
   "execution_count": null,
   "metadata": {},
   "outputs": [],
   "source": [
    "model_bilinear_jacpen = EDMDModel(A_jacpen, B_jacpen, C_jacpen, g, kf, dt, \"rex_full_quadrotor\")\n",
    "dmodel_bilinear_jacpen = EDMD.ProjectedEDMDModel(model_bilinear_jacpen)\n",
    "n,m = RD.dims(model_bilinear_jacpen)\n",
    "n0 = EDMD.originalstatedim(model_bilinear_jacpen);"
   ]
  },
  {
   "cell_type": "code",
   "execution_count": null,
   "metadata": {},
   "outputs": [],
   "source": [
    "# Get A,B for new system\n",
    "function dynamics_bilinear_jacpen(x,u,t,dt)\n",
    "    y = EDMD.expandstate(model_bilinear_jacpen, x)\n",
    "    yn = zero(y)\n",
    "    RD.discrete_dynamics!(model_bilinear_jacpen, yn, y, u, t, dt)\n",
    "    EDMD.originalstate(model_bilinear_jacpen, yn)\n",
    "end\n",
    "\n",
    "A_bil_jacpen = FiniteDiff.finite_difference_jacobian(x->dynamics_bilinear_jacpen(x,ue,0.0,dt), xe)\n",
    "B_bil_jacpen = FiniteDiff.finite_difference_jacobian(u->dynamics_bilinear_jacpen(xe,u,0.0,dt), ue);"
   ]
  },
  {
   "cell_type": "markdown",
   "metadata": {},
   "source": [
    "**Compare the Jacobians with Nominal model**"
   ]
  },
  {
   "cell_type": "code",
   "execution_count": null,
   "metadata": {},
   "outputs": [],
   "source": [
    "A_og"
   ]
  },
  {
   "cell_type": "code",
   "execution_count": null,
   "metadata": {},
   "outputs": [],
   "source": [
    "A_bil_jacpen"
   ]
  },
  {
   "cell_type": "code",
   "execution_count": null,
   "metadata": {},
   "outputs": [],
   "source": [
    "B_og"
   ]
  },
  {
   "cell_type": "code",
   "execution_count": null,
   "metadata": {},
   "outputs": [],
   "source": [
    "B_bil_jacpen"
   ]
  },
  {
   "cell_type": "markdown",
   "metadata": {},
   "source": [
    "# Try Stabilizing New Model using LQR"
   ]
  },
  {
   "cell_type": "code",
   "execution_count": null,
   "metadata": {},
   "outputs": [],
   "source": [
    "K_bil_jacpen, = EDMD.dlqr(A_bil_jacpen, B_bil_jacpen, Qlqr, Rlqr);"
   ]
  },
  {
   "cell_type": "code",
   "execution_count": null,
   "metadata": {},
   "outputs": [],
   "source": [
    "# Evaluate stability\n",
    "isstable_bilinear2 = maximum(abs.(eigvals(A_bil_jacpen - B_bil_jacpen*K_bil_jacpen))) < 1.0\n",
    "isstable_nominal_with_bilinear2 = maximum(abs.(eigvals(A_og - B_og*K_bil_jacpen))) < 1.0\n",
    "\n",
    "println(\"Stability Summary:\")\n",
    "println(\"  Dynamics  |  Controller  |  is stable? \")\n",
    "println(\"------------|--------------|--------------\")\n",
    "println(\"  Nominal   |  Nominal     |  \", isstable_nominal)\n",
    "println(\"  Bilinear  |  Bilinear    |  \", isstable_bilinear2)\n",
    "println(\"  Nominal   |  Bilinear    |  \", isstable_nominal_with_bilinear2)"
   ]
  },
  {
   "cell_type": "code",
   "execution_count": null,
   "metadata": {},
   "outputs": [],
   "source": [
    "tf_sim = 5.0\n",
    "Tsim_lqr_jacpen = range(0,tf_sim,step=dt)\n",
    "\n",
    "x0 = [-0.5, -0.5, 0.5, 0.15, 0.15, 0.16, -1.0, 1.0, 1.0, 0.0, 0.0, 0.0]\n",
    "\n",
    "ctrl_lqr_jacpen = EDMD.LQRController(dmodel_bilinear_jacpen, Qlqr, Rlqr, xe, ue, dt, max_iters=10000, verbose=true)\n",
    "Xsim_lqr_jacpen, = EDMD.simulatewithcontroller(dmodel, ctrl_lqr_jacpen, x0, tf_sim, dt)\n",
    "\n",
    "plotstates(Tsim_lqr_nominal, Xsim_lqr_og, inds=1:3, xlabel=\"time (s)\", ylabel=\"states\",\n",
    "            label=[\"x (og dynamics)\" \"y (og dynamics)\" \"z (og dynamics)\"], legend=:topright, lw=2,\n",
    "            linestyle=:dash, color=[1 2 3])\n",
    "plotstates!(Tsim_lqr_nominal, Xsim_lqr_nominal, inds=1:3, xlabel=\"time (s)\", ylabel=\"states\",\n",
    "            label=[\"x (nominal eDMD)\" \"y (nominal eDMD)\" \"z (nominal eDMD)\"], legend=:topright, lw=2,\n",
    "            linestyle=:dot, color=[1 2 3])\n",
    "plotstates!(Tsim_lqr_jacpen, Xsim_lqr_jacpen, inds=1:3, xlabel=\"time (s)\", ylabel=\"states\",\n",
    "            label=[\"x (jacobian eDMD)\" \"y (jacobian eDMD)\" \"z (jacobian eDMD)\"], legend=:topright, lw=2,\n",
    "            color=[1 2 3])\n",
    "ylims!((-0.75, 0.75))"
   ]
  },
  {
   "cell_type": "code",
   "execution_count": null,
   "metadata": {},
   "outputs": [],
   "source": [
    "plotstates(Tsim_lqr_nominal, Xsim_lqr_og, inds=4:6, xlabel=\"time (s)\", ylabel=\"states\",\n",
    "            label=[\"MRP-x (og dynamics)\" \"MRP-y (og dynamics)\" \"MRP-z (og dynamics)\"], legend=:topright, lw=2,\n",
    "            linestyle=:dash, color=[1 2 3])\n",
    "plotstates!(Tsim_lqr_nominal, Xsim_lqr_nominal, inds=4:6, xlabel=\"time (s)\", ylabel=\"states\",\n",
    "            label=[\"MRP-x (nominal eDMD)\" \"MRP-y (nominal eDMD)\" \"MRP-z (nominal eDMD)\"], legend=:topright, lw=2,\n",
    "            linestyle=:dot, color=[1 2 3])\n",
    "plotstates!(Tsim_lqr_jacpen, Xsim_lqr_jacpen, inds=4:6, xlabel=\"time (s)\", ylabel=\"states\",\n",
    "            label=[\"MRP-x (jacobian eDMD)\" \"MRP-y (jacobian eDMD)\" \"MRP-z (jacobian eDMD)\"], legend=:topright, lw=2,\n",
    "            color=[1 2 3])\n",
    "ylims!((-0.15, 0.25))"
   ]
  },
  {
   "cell_type": "code",
   "execution_count": null,
   "metadata": {},
   "outputs": [],
   "source": [
    "render(vis)"
   ]
  },
  {
   "cell_type": "code",
   "execution_count": null,
   "metadata": {},
   "outputs": [],
   "source": [
    "# visualize!(vis, model, tf_sim, Xsim_lqr_nominal)\n",
    "visualize!(vis, model, tf_sim, Xsim_lqr_jacpen)"
   ]
  }
 ],
 "metadata": {
  "kernelspec": {
   "display_name": "Julia (10 Threads) 1.7.2",
   "language": "julia",
   "name": "julia-(10-threads)-1.7"
  },
  "language_info": {
   "file_extension": ".jl",
   "mimetype": "application/julia",
   "name": "julia",
   "version": "1.7.2"
  },
  "orig_nbformat": 4
 },
 "nbformat": 4,
 "nbformat_minor": 2
}
