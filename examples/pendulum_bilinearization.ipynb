{
 "cells": [
  {
   "cell_type": "code",
   "execution_count": 1,
   "metadata": {},
   "outputs": [
    {
     "name": "stderr",
     "output_type": "stream",
     "text": [
      "\u001b[32m\u001b[1m  Activating\u001b[22m\u001b[39m project at `~/.julia/dev/BilinearControl/examples`\n"
     ]
    }
   ],
   "source": [
    "import Pkg; Pkg.activate(@__DIR__)\n",
    "include(\"taylorseries.jl\")\n",
    "using Test\n",
    "using Symbolics\n",
    "using SparseArrays\n",
    "using BenchmarkTools "
   ]
  },
  {
   "cell_type": "code",
   "execution_count": 2,
   "metadata": {},
   "outputs": [],
   "source": [
    "# Define the dynamics\n",
    "function pendulum_dynamics(states, controls)\n",
    "    x = states[1]\n",
    "    xdot = states[2]\n",
    "    tau = controls[1]\n",
    "    a = -2.1 # g / J⋅ℓ\n",
    "    b = 0.1  # damping / J\n",
    "    c = 0.5  # 1/J\n",
    "    xddot = a * sin(x)  + b * xdot  + c*tau\n",
    "    return [xdot, xddot]\n",
    "end\n",
    "\n",
    "# Build state and control vectors\n",
    "@variables t x(t) τ\n",
    "Dt = Differential(t)\n",
    "xdot = Dt(x)\n",
    "ẋ = xdot\n",
    "states = [x, xdot]\n",
    "controls = [τ];"
   ]
  },
  {
   "cell_type": "code",
   "execution_count": 3,
   "metadata": {},
   "outputs": [
    {
     "data": {
      "text/latex": [
       "\\begin{equation}\n",
       "\\left[\n",
       "\\begin{array}{c}\n",
       "\\frac{dx(t)}{dt} \\\\\n",
       "0.5 \\tau + 0.1 \\frac{dx(t)}{dt} - 2.1 \\sin\\left( x\\left( t \\right) \\right) \\\\\n",
       "\\end{array}\n",
       "\\right]\n",
       "\\end{equation}\n"
      ],
      "text/plain": [
       "2-element Vector{Num}:\n",
       " Differential(t)(x(t))\n",
       "  0.5τ + 0.1Differential(t)(x(t)) - 2.1sin(x(t))"
      ]
     },
     "execution_count": 3,
     "metadata": {},
     "output_type": "execute_result"
    }
   ],
   "source": [
    "# Get symbolic expression for dynamics\n",
    "statederivative = pendulum_dynamics(states, controls)"
   ]
  },
  {
   "cell_type": "code",
   "execution_count": 4,
   "metadata": {},
   "outputs": [
    {
     "data": {
      "text/latex": [
       "\\begin{equation}\n",
       "\\left[\n",
       "\\begin{array}{c}\n",
       "\\frac{dx(t)}{dt} \\\\\n",
       "0.5 \\tau + 0.1 \\frac{dx(t)}{dt} - 2.1 \\sin\\left( _{x0{_1}} \\right) + 1.05 \\left(  - _{x0{_1}} + x\\left( t \\right) \\right)^{2} \\sin\\left( _{x0{_1}} \\right) + 0.35 \\left(  - _{x0{_1}} + x\\left( t \\right) \\right)^{3} \\cos\\left( _{x0{_1}} \\right) - 2.1 \\left(  - _{x0{_1}} + x\\left( t \\right) \\right) \\cos\\left( _{x0{_1}} \\right) \\\\\n",
       "\\end{array}\n",
       "\\right]\n",
       "\\end{equation}\n"
      ],
      "text/plain": [
       "2-element Vector{Num}:\n",
       " Differential(t)(x(t))\n",
       "  0.5τ + 0.1Differential(t)(x(t)) + 1.05((x(t) - _x0₁)^2)*sin(_x0₁) + 0.35((x(t) - _x0₁)^3)*cos(_x0₁) - 2.1sin(_x0₁) - 2.1(x(t) - _x0₁)*cos(_x0₁)"
      ]
     },
     "execution_count": 4,
     "metadata": {},
     "output_type": "execute_result"
    }
   ],
   "source": [
    "# Get Taylor series approximation of dynamics\n",
    "order = 3\n",
    "states0 = [Symbolics.variable(Symbol(\"_x0\"), i) for i = 1:length(states)]\n",
    "approx_dynamics = map(statederivative) do xdot\n",
    "    Num(taylorexpand(xdot, states, states0, order))\n",
    "end"
   ]
  },
  {
   "cell_type": "code",
   "execution_count": 5,
   "metadata": {},
   "outputs": [
    {
     "data": {
      "text/latex": [
       "\\begin{equation}\n",
       "\\left[\n",
       "\\begin{array}{c}\n",
       "x\\left( t \\right) \\\\\n",
       "\\frac{dx(t)}{dt} \\\\\n",
       "\\left( x\\left( t \\right) \\right)^{2} \\\\\n",
       "x\\left( t \\right) \\frac{dx(t)}{dt} \\\\\n",
       "\\left( \\frac{dx(t)}{dt} \\right)^{2} \\\\\n",
       "\\left( x\\left( t \\right) \\right)^{3} \\\\\n",
       "\\left( x\\left( t \\right) \\right)^{2} \\frac{dx(t)}{dt} \\\\\n",
       "\\left( \\frac{dx(t)}{dt} \\right)^{2} x\\left( t \\right) \\\\\n",
       "\\left( \\frac{dx(t)}{dt} \\right)^{3} \\\\\n",
       "\\end{array}\n",
       "\\right]\n",
       "\\end{equation}\n"
      ],
      "text/plain": [
       "9-element Vector{Num}:\n",
       "        x(t)\n",
       "          Differential(t)(x(t))\n",
       "      x(t)^2\n",
       "     x(t)*Differential(t)(x(t))\n",
       "          Differential(t)(x(t))^2\n",
       "      x(t)^3\n",
       " (x(t)^2)*Differential(t)(x(t))\n",
       "         (Differential(t)(x(t))^2)*x(t)\n",
       "          Differential(t)(x(t))^3"
      ]
     },
     "execution_count": 5,
     "metadata": {},
     "output_type": "execute_result"
    }
   ],
   "source": [
    "# Build expanded state vector\n",
    "y = buildstatevector(states, 3)"
   ]
  },
  {
   "cell_type": "code",
   "execution_count": 6,
   "metadata": {},
   "outputs": [
    {
     "data": {
      "text/latex": [
       "\\begin{equation}\n",
       "\\left[\n",
       "\\begin{array}{c}\n",
       "\\frac{dx(t)}{dt} \\\\\n",
       "\\mathrm{\\frac{d}{d t}}\\left( \\frac{dx(t)}{dt} \\right) \\\\\n",
       "2 x\\left( t \\right) \\frac{dx(t)}{dt} \\\\\n",
       "x\\left( t \\right) \\mathrm{\\frac{d}{d t}}\\left( \\frac{dx(t)}{dt} \\right) + \\left( \\frac{dx(t)}{dt} \\right)^{2} \\\\\n",
       "2 \\frac{dx(t)}{dt} \\mathrm{\\frac{d}{d t}}\\left( \\frac{dx(t)}{dt} \\right) \\\\\n",
       "3 \\left( x\\left( t \\right) \\right)^{2} \\frac{dx(t)}{dt} \\\\\n",
       "\\left( x\\left( t \\right) \\right)^{2} \\mathrm{\\frac{d}{d t}}\\left( \\frac{dx(t)}{dt} \\right) + 2 \\left( \\frac{dx(t)}{dt} \\right)^{2} x\\left( t \\right) \\\\\n",
       "\\left( \\frac{dx(t)}{dt} \\right)^{3} + 2 x\\left( t \\right) \\frac{dx(t)}{dt} \\mathrm{\\frac{d}{d t}}\\left( \\frac{dx(t)}{dt} \\right) \\\\\n",
       "3 \\left( \\frac{dx(t)}{dt} \\right)^{2} \\mathrm{\\frac{d}{d t}}\\left( \\frac{dx(t)}{dt} \\right) \\\\\n",
       "\\end{array}\n",
       "\\right]\n",
       "\\end{equation}\n"
      ],
      "text/plain": [
       "9-element Vector{Num}:\n",
       "           Differential(t)(x(t))\n",
       "           Differential(t)(Differential(t)(x(t)))\n",
       "     2x(t)*Differential(t)(x(t))\n",
       "      x(t)*Differential(t)(Differential(t)(x(t))) + Differential(t)(x(t))^2\n",
       "          2Differential(t)(x(t))*Differential(t)(Differential(t)(x(t)))\n",
       " 3(x(t)^2)*Differential(t)(x(t))\n",
       "  (x(t)^2)*Differential(t)(Differential(t)(x(t))) + 2(Differential(t)(x(t))^2)*x(t)\n",
       "           Differential(t)(x(t))^3 + 2x(t)*Differential(t)(x(t))*Differential(t)(Differential(t)(x(t)))\n",
       "         3(Differential(t)(x(t))^2)*Differential(t)(Differential(t)(x(t)))"
      ]
     },
     "execution_count": 6,
     "metadata": {},
     "output_type": "execute_result"
    }
   ],
   "source": [
    "# Form expanded state derivative\n",
    "ydot = expand_derivatives.(Dt.(y))"
   ]
  },
  {
   "cell_type": "code",
   "execution_count": 7,
   "metadata": {},
   "outputs": [
    {
     "data": {
      "text/latex": [
       "\\begin{equation}\n",
       "\\left[\n",
       "\\begin{array}{c}\n",
       "\\frac{dx(t)}{dt} \\\\\n",
       "0.5 \\tau + 0.1 \\frac{dx(t)}{dt} - 2.1 \\sin\\left( _{x0{_1}} \\right) + 1.05 \\left(  - _{x0{_1}} + x\\left( t \\right) \\right)^{2} \\sin\\left( _{x0{_1}} \\right) + 0.35 \\left(  - _{x0{_1}} + x\\left( t \\right) \\right)^{3} \\cos\\left( _{x0{_1}} \\right) - 2.1 \\left(  - _{x0{_1}} + x\\left( t \\right) \\right) \\cos\\left( _{x0{_1}} \\right) \\\\\n",
       "2 x\\left( t \\right) \\frac{dx(t)}{dt} \\\\\n",
       "\\left( 0.5 \\tau + 0.1 \\frac{dx(t)}{dt} - 2.1 \\sin\\left( _{x0{_1}} \\right) + 1.05 \\left(  - _{x0{_1}} + x\\left( t \\right) \\right)^{2} \\sin\\left( _{x0{_1}} \\right) + 0.35 \\left(  - _{x0{_1}} + x\\left( t \\right) \\right)^{3} \\cos\\left( _{x0{_1}} \\right) - 2.1 \\left(  - _{x0{_1}} + x\\left( t \\right) \\right) \\cos\\left( _{x0{_1}} \\right) \\right) x\\left( t \\right) + \\left( \\frac{dx(t)}{dt} \\right)^{2} \\\\\n",
       "2 \\left( 0.5 \\tau + 0.1 \\frac{dx(t)}{dt} - 2.1 \\sin\\left( _{x0{_1}} \\right) + 1.05 \\left(  - _{x0{_1}} + x\\left( t \\right) \\right)^{2} \\sin\\left( _{x0{_1}} \\right) + 0.35 \\left(  - _{x0{_1}} + x\\left( t \\right) \\right)^{3} \\cos\\left( _{x0{_1}} \\right) - 2.1 \\left(  - _{x0{_1}} + x\\left( t \\right) \\right) \\cos\\left( _{x0{_1}} \\right) \\right) \\frac{dx(t)}{dt} \\\\\n",
       "3 \\left( x\\left( t \\right) \\right)^{2} \\frac{dx(t)}{dt} \\\\\n",
       "\\left( x\\left( t \\right) \\right)^{2} \\left( 0.5 \\tau + 0.1 \\frac{dx(t)}{dt} - 2.1 \\sin\\left( _{x0{_1}} \\right) + 1.05 \\left(  - _{x0{_1}} + x\\left( t \\right) \\right)^{2} \\sin\\left( _{x0{_1}} \\right) + 0.35 \\left(  - _{x0{_1}} + x\\left( t \\right) \\right)^{3} \\cos\\left( _{x0{_1}} \\right) - 2.1 \\left(  - _{x0{_1}} + x\\left( t \\right) \\right) \\cos\\left( _{x0{_1}} \\right) \\right) + 2 \\left( \\frac{dx(t)}{dt} \\right)^{2} x\\left( t \\right) \\\\\n",
       "\\left( \\frac{dx(t)}{dt} \\right)^{3} + 2 \\left( 0.5 \\tau + 0.1 \\frac{dx(t)}{dt} - 2.1 \\sin\\left( _{x0{_1}} \\right) + 1.05 \\left(  - _{x0{_1}} + x\\left( t \\right) \\right)^{2} \\sin\\left( _{x0{_1}} \\right) + 0.35 \\left(  - _{x0{_1}} + x\\left( t \\right) \\right)^{3} \\cos\\left( _{x0{_1}} \\right) - 2.1 \\left(  - _{x0{_1}} + x\\left( t \\right) \\right) \\cos\\left( _{x0{_1}} \\right) \\right) x\\left( t \\right) \\frac{dx(t)}{dt} \\\\\n",
       "3 \\left( \\frac{dx(t)}{dt} \\right)^{2} \\left( 0.5 \\tau + 0.1 \\frac{dx(t)}{dt} - 2.1 \\sin\\left( _{x0{_1}} \\right) + 1.05 \\left(  - _{x0{_1}} + x\\left( t \\right) \\right)^{2} \\sin\\left( _{x0{_1}} \\right) + 0.35 \\left(  - _{x0{_1}} + x\\left( t \\right) \\right)^{3} \\cos\\left( _{x0{_1}} \\right) - 2.1 \\left(  - _{x0{_1}} + x\\left( t \\right) \\right) \\cos\\left( _{x0{_1}} \\right) \\right) \\\\\n",
       "\\end{array}\n",
       "\\right]\n",
       "\\end{equation}\n"
      ],
      "text/plain": [
       "9-element Vector{Num}:\n",
       "           Differential(t)(x(t))\n",
       "            0.5τ + 0.1Differential(t)(x(t)) + 1.05((x(t) - _x0₁)^2)*sin(_x0₁) + 0.35((x(t) - _x0₁)^3)*cos(_x0₁) - 2.1sin(_x0₁) - 2.1(x(t) - _x0₁)*cos(_x0₁)\n",
       "     2x(t)*Differential(t)(x(t))\n",
       "           (0.5τ + 0.1Differential(t)(x(t)) + 1.05((x(t) - _x0₁)^2)*sin(_x0₁) + 0.35((x(t) - _x0₁)^3)*cos(_x0₁) - 2.1sin(_x0₁) - 2.1(x(t) - _x0₁)*cos(_x0₁))*x(t) + Differential(t)(x(t))^2\n",
       "          2(0.5τ + 0.1Differential(t)(x(t)) + 1.05((x(t) - _x0₁)^2)*sin(_x0₁) + 0.35((x(t) - _x0₁)^3)*cos(_x0₁) - 2.1sin(_x0₁) - 2.1(x(t) - _x0₁)*cos(_x0₁))*Differential(t)(x(t))\n",
       " 3(x(t)^2)*Differential(t)(x(t))\n",
       "           (0.5τ + 0.1Differential(t)(x(t)) + 1.05((x(t) - _x0₁)^2)*sin(_x0₁) + 0.35((x(t) - _x0₁)^3)*cos(_x0₁) - 2.1sin(_x0₁) - 2.1(x(t) - _x0₁)*cos(_x0₁))*(x(t)^2) + 2(Differential(t)(x(t))^2)*x(t)\n",
       "           Differential(t)(x(t))^3 + 2(0.5τ + 0.1Differential(t)(x(t)) + 1.05((x(t) - _x0₁)^2)*sin(_x0₁) + 0.35((x(t) - _x0₁)^3)*cos(_x0₁) - 2.1sin(_x0₁) - 2.1(x(t) - _x0₁)*cos(_x0₁))*x(t)*Differential(t)(x(t))\n",
       "          3(0.5τ + 0.1Differential(t)(x(t)) + 1.05((x(t) - _x0₁)^2)*sin(_x0₁) + 0.35((x(t) - _x0₁)^3)*cos(_x0₁) - 2.1sin(_x0₁) - 2.1(x(t) - _x0₁)*cos(_x0₁))*(Differential(t)(x(t))^2)"
      ]
     },
     "execution_count": 7,
     "metadata": {},
     "output_type": "execute_result"
    }
   ],
   "source": [
    "# Substitute in the approximate dynamics\n",
    "subs = Dict(Dt(states[i])=>approx_dynamics[i] for i = 1:length(states))\n",
    "ydot_approx = map(ydot) do yi\n",
    "    substitute(yi, subs)\n",
    "end"
   ]
  },
  {
   "cell_type": "code",
   "execution_count": 8,
   "metadata": {},
   "outputs": [],
   "source": [
    "# Build symbolic sparse matrices\n",
    "Asym = getAsym(ydot_approx, y, controls)\n",
    "Bsym = getBsym(ydot_approx, y, controls)\n",
    "Csym = getCsym(ydot_approx, y, controls)\n",
    "Dsym = getDsym(ydot_approx, y, controls);"
   ]
  },
  {
   "cell_type": "code",
   "execution_count": 9,
   "metadata": {},
   "outputs": [
    {
     "data": {
      "text/latex": [
       "\\begin{equation}\n",
       "\\left[\n",
       "\\begin{array}{ccccccccc}\n",
       "0 & 1 & 0 & 0 & 0 & 0 & 0 & 0 & 0 \\\\\n",
       " - 2.1 \\cos\\left( _{x0{_1}} \\right) + 1.0499999999999998 _{x0{_1}}^{2} \\cos\\left( _{x0{_1}} \\right) - 2.1 _{x0{_1}} \\sin\\left( _{x0{_1}} \\right) & 0.1 & 1.05 \\sin\\left( _{x0{_1}} \\right) - 1.0499999999999998 _{x0{_1}} \\cos\\left( _{x0{_1}} \\right) & 0 & 0 & 0.35 \\cos\\left( _{x0{_1}} \\right) & 0 & 0 & 0 \\\\\n",
       "0 & 0 & 0 & 2 & 0 & 0 & 0 & 0 & 0 \\\\\n",
       " - 2.1 \\sin\\left( _{x0{_1}} \\right) + 2.1 _{x0{_1}} \\cos\\left( _{x0{_1}} \\right) + 1.05 _{x0{_1}}^{2} \\sin\\left( _{x0{_1}} \\right) - 0.35 _{x0{_1}}^{3} \\cos\\left( _{x0{_1}} \\right) & 0 &  - 2.1 \\cos\\left( _{x0{_1}} \\right) + 1.0499999999999998 _{x0{_1}}^{2} \\cos\\left( _{x0{_1}} \\right) - 2.1 _{x0{_1}} \\sin\\left( _{x0{_1}} \\right) & 0.1 & 1 & 1.05 \\sin\\left( _{x0{_1}} \\right) - 1.0499999999999998 _{x0{_1}} \\cos\\left( _{x0{_1}} \\right) & 0 & 0 & 0 \\\\\n",
       "0 &  - 4.2 \\sin\\left( _{x0{_1}} \\right) + 4.2 _{x0{_1}} \\cos\\left( _{x0{_1}} \\right) + 2.1 _{x0{_1}}^{2} \\sin\\left( _{x0{_1}} \\right) - 0.7 _{x0{_1}}^{3} \\cos\\left( _{x0{_1}} \\right) & 0 &  - 4.2 \\cos\\left( _{x0{_1}} \\right) + 2.0999999999999996 _{x0{_1}}^{2} \\cos\\left( _{x0{_1}} \\right) - 4.2 _{x0{_1}} \\sin\\left( _{x0{_1}} \\right) & 0.2 & 0 & 2.1 \\sin\\left( _{x0{_1}} \\right) - 2.0999999999999996 _{x0{_1}} \\cos\\left( _{x0{_1}} \\right) & 0 & 0 \\\\\n",
       "0 & 0 & 0 & 0 & 0 & 0 & 3 & 0 & 0 \\\\\n",
       "0 & 0 &  - 2.1 \\sin\\left( _{x0{_1}} \\right) + 2.1 _{x0{_1}} \\cos\\left( _{x0{_1}} \\right) + 1.05 _{x0{_1}}^{2} \\sin\\left( _{x0{_1}} \\right) - 0.35 _{x0{_1}}^{3} \\cos\\left( _{x0{_1}} \\right) & 0 & 0 &  - 2.1 \\cos\\left( _{x0{_1}} \\right) + 1.0499999999999998 _{x0{_1}}^{2} \\cos\\left( _{x0{_1}} \\right) - 2.1 _{x0{_1}} \\sin\\left( _{x0{_1}} \\right) & 0.1 & 2.0 & 0 \\\\\n",
       "0 & 0 & 0 &  - 4.2 \\sin\\left( _{x0{_1}} \\right) + 4.2 _{x0{_1}} \\cos\\left( _{x0{_1}} \\right) + 2.1 _{x0{_1}}^{2} \\sin\\left( _{x0{_1}} \\right) - 0.7 _{x0{_1}}^{3} \\cos\\left( _{x0{_1}} \\right) & 0 & 0 &  - 4.2 \\cos\\left( _{x0{_1}} \\right) + 2.0999999999999996 _{x0{_1}}^{2} \\cos\\left( _{x0{_1}} \\right) - 4.2 _{x0{_1}} \\sin\\left( _{x0{_1}} \\right) & 0.2 & 1 \\\\\n",
       "0 & 0 & 0 & 0 &  - 6.300000000000001 \\sin\\left( _{x0{_1}} \\right) + 6.300000000000001 _{x0{_1}} \\cos\\left( _{x0{_1}} \\right) + 3.1500000000000004 _{x0{_1}}^{2} \\sin\\left( _{x0{_1}} \\right) - 1.0499999999999998 _{x0{_1}}^{3} \\cos\\left( _{x0{_1}} \\right) & 0 & 0 &  - 6.300000000000001 \\cos\\left( _{x0{_1}} \\right) + 3.1499999999999995 _{x0{_1}}^{2} \\cos\\left( _{x0{_1}} \\right) - 6.300000000000001 _{x0{_1}} \\sin\\left( _{x0{_1}} \\right) & 0.30000000000000004 \\\\\n",
       "\\end{array}\n",
       "\\right]\n",
       "\\end{equation}\n"
      ],
      "text/plain": [
       "9×9 SparseMatrixCSC{Num, Int64} with 27 stored entries:\n",
       " ⋅                                                                                   …  ⋅\n",
       " 1.05(_x0₁^2)*cos(_x0₁) - 2.1cos(_x0₁) - 2.1_x0₁*sin(_x0₁)                              ⋅\n",
       " ⋅                                                                                      ⋅\n",
       " 2.1_x0₁*cos(_x0₁) + 1.05(_x0₁^2)*sin(_x0₁) - 2.1sin(_x0₁) - 0.35(_x0₁^3)*cos(_x0₁)     ⋅\n",
       " ⋅                                                                                      ⋅\n",
       " ⋅                                                                                   …  ⋅\n",
       " ⋅                                                                                      ⋅\n",
       " ⋅                                                                                      1\n",
       " ⋅                                                                                      0.3"
      ]
     },
     "execution_count": 9,
     "metadata": {},
     "output_type": "execute_result"
    }
   ],
   "source": [
    "Asym"
   ]
  },
  {
   "cell_type": "code",
   "execution_count": 10,
   "metadata": {},
   "outputs": [],
   "source": [
    "# Build expressions for updating A,B,C,D\n",
    "updateA_expr, updateB_expr, updateC_expr, updateD_expr = \n",
    "    build_bilinear_dynamics_functions(Asym, Bsym, Csym, Dsym, states0, controls);"
   ]
  },
  {
   "cell_type": "code",
   "execution_count": 11,
   "metadata": {},
   "outputs": [
    {
     "data": {
      "text/plain": [
       "quote\n",
       "    \u001b[90m#= /home/brian/.julia/dev/BilinearControl/examples/taylorseries.jl:380 =#\u001b[39m\n",
       "    function (A, x0)\n",
       "        \u001b[90m#= /home/brian/.julia/dev/BilinearControl/examples/taylorseries.jl:380 =#\u001b[39m\n",
       "        \u001b[90m#= /home/brian/.julia/dev/BilinearControl/examples/taylorseries.jl:381 =#\u001b[39m\n",
       "        _x0 = x0\n",
       "        \u001b[90m#= /home/brian/.julia/dev/BilinearControl/examples/taylorseries.jl:383 =#\u001b[39m\n",
       "        nzval = A.nzval\n",
       "        \u001b[90m#= /home/brian/.julia/dev/BilinearControl/examples/taylorseries.jl:384 =#\u001b[39m\n",
       "        nzval[1] = (+)((+)((*)(-2.1, (cos)((getindex)(_x0, 1))), (*)((*)(1.0499999999999998, (^)((getindex)(_x0, 1), 2)), (cos)((getindex)(_x0, 1)))), (*)((*)(-2.1, (sin)((getindex)(_x0, 1))), (getindex)(_x0, 1)))\n",
       "        nzval[2] = (+)((+)((+)((*)(-2.1, (sin)((getindex)(_x0, 1))), (*)((*)(1.05, (^)((getindex)(_x0, 1), 2)), (sin)((getindex)(_x0, 1)))), (*)((*)(-0.35, (^)((getindex)(_x0, 1), 3)), (cos)((getindex)(_x0, 1)))), (*)((*)(2.1, (cos)((getindex)(_x0, 1))), (getindex)(_x0, 1)))\n",
       "        nzval[3] = 1\n",
       "        nzval[4] = 0.1\n",
       "        nzval[5] = (+)((+)((+)((*)(-4.2, (sin)((getindex)(_x0, 1))), (*)((*)(2.1, (^)((getindex)(_x0, 1), 2)), (sin)((getindex)(_x0, 1)))), (*)((*)(-0.7, (^)((getindex)(_x0, 1), 3)), (cos)((getindex)(_x0, 1)))), (*)((*)(4.2, (cos)((getindex)(_x0, 1))), (getindex)(_x0, 1)))\n",
       "        nzval[6] = (+)((*)(1.05, (sin)((getindex)(_x0, 1))), (*)((*)(-1.0499999999999998, (cos)((getindex)(_x0, 1))), (getindex)(_x0, 1)))\n",
       "        nzval[7] = (+)((+)((*)(-2.1, (cos)((getindex)(_x0, 1))), (*)((*)(1.0499999999999998, (^)((getindex)(_x0, 1), 2)), (cos)((getindex)(_x0, 1)))), (*)((*)(-2.1, (sin)((getindex)(_x0, 1))), (getindex)(_x0, 1)))\n",
       "        nzval[8] = (+)((+)((+)((*)(-2.1, (sin)((getindex)(_x0, 1))), (*)((*)(1.05, (^)((getindex)(_x0, 1), 2)), (sin)((getindex)(_x0, 1)))), (*)((*)(-0.35, (^)((getindex)(_x0, 1), 3)), (cos)((getindex)(_x0, 1)))), (*)((*)(2.1, (cos)((getindex)(_x0, 1))), (getindex)(_x0, 1)))\n",
       "        nzval[9] = 2\n",
       "        nzval[10] = 0.1\n",
       "        nzval[11] = (+)((+)((*)(-4.2, (cos)((getindex)(_x0, 1))), (*)((*)(2.0999999999999996, (^)((getindex)(_x0, 1), 2)), (cos)((getindex)(_x0, 1)))), (*)((*)(-4.2, (sin)((getindex)(_x0, 1))), (getindex)(_x0, 1)))\n",
       "        nzval[12] = (+)((+)((+)((*)(-4.2, (sin)((getindex)(_x0, 1))), (*)((*)(2.1, (^)((getindex)(_x0, 1), 2)), (sin)((getindex)(_x0, 1)))), (*)((*)(-0.7, (^)((getindex)(_x0, 1), 3)), (cos)((getindex)(_x0, 1)))), (*)((*)(4.2, (cos)((getindex)(_x0, 1))), (getindex)(_x0, 1)))\n",
       "        nzval[13] = 1\n",
       "        nzval[14] = 0.2\n",
       "        nzval[15] = (+)((+)((+)((*)(-6.300000000000001, (sin)((getindex)(_x0, 1))), (*)((*)(3.1500000000000004, (^)((getindex)(_x0, 1), 2)), (sin)((getindex)(_x0, 1)))), (*)((*)(-1.0499999999999998, (^)((getindex)(_x0, 1), 3)), (cos)((getindex)(_x0, 1)))), (*)((*)(6.300000000000001, (cos)((getindex)(_x0, 1))), (getindex)(_x0, 1)))\n",
       "        nzval[16] = (*)(0.35, (cos)((getindex)(_x0, 1)))\n",
       "        nzval[17] = (+)((*)(1.05, (sin)((getindex)(_x0, 1))), (*)((*)(-1.0499999999999998, (cos)((getindex)(_x0, 1))), (getindex)(_x0, 1)))\n",
       "        nzval[18] = (+)((+)((*)(-2.1, (cos)((getindex)(_x0, 1))), (*)((*)(1.0499999999999998, (^)((getindex)(_x0, 1), 2)), (cos)((getindex)(_x0, 1)))), (*)((*)(-2.1, (sin)((getindex)(_x0, 1))), (getindex)(_x0, 1)))\n",
       "        nzval[19] = (+)((*)(2.1, (sin)((getindex)(_x0, 1))), (*)((*)(-2.0999999999999996, (cos)((getindex)(_x0, 1))), (getindex)(_x0, 1)))\n",
       "        nzval[20] = 3\n",
       "        nzval[21] = 0.1\n",
       "        nzval[22] = (+)((+)((*)(-4.2, (cos)((getindex)(_x0, 1))), (*)((*)(2.0999999999999996, (^)((getindex)(_x0, 1), 2)), (cos)((getindex)(_x0, 1)))), (*)((*)(-4.2, (sin)((getindex)(_x0, 1))), (getindex)(_x0, 1)))\n",
       "        nzval[23] = 2.0\n",
       "        nzval[24] = 0.2\n",
       "        nzval[25] = (+)((+)((*)(-6.300000000000001, (cos)((getindex)(_x0, 1))), (*)((*)(3.1499999999999995, (^)((getindex)(_x0, 1), 2)), (cos)((getindex)(_x0, 1)))), (*)((*)(-6.300000000000001, (sin)((getindex)(_x0, 1))), (getindex)(_x0, 1)))\n",
       "        nzval[26] = 1\n",
       "        nzval[27] = 0.30000000000000004\n",
       "        \u001b[90m#= /home/brian/.julia/dev/BilinearControl/examples/taylorseries.jl:385 =#\u001b[39m\n",
       "        return A\n",
       "    end\n",
       "end"
      ]
     },
     "execution_count": 11,
     "metadata": {},
     "output_type": "execute_result"
    }
   ],
   "source": [
    "updateA_expr"
   ]
  },
  {
   "cell_type": "code",
   "execution_count": 12,
   "metadata": {},
   "outputs": [],
   "source": [
    "# Evaluate the expressions to build the functions\n",
    "pendulum_updateA! = eval(updateA_expr)\n",
    "pendulum_updateB! = eval(updateB_expr)\n",
    "pendulum_updateC! = eval(updateC_expr)\n",
    "pendulum_updateD! = eval(updateD_expr);\n",
    "# pendulum_expand! = eval(state_expand_expr)"
   ]
  },
  {
   "cell_type": "code",
   "execution_count": 13,
   "metadata": {},
   "outputs": [],
   "source": [
    "# Build the function to build the expanded state vector\n",
    "state_expand_expr = build_expanded_vector_function(y)\n",
    "pendulum_expand! = eval(state_expand_expr);"
   ]
  },
  {
   "cell_type": "code",
   "execution_count": 14,
   "metadata": {},
   "outputs": [
    {
     "data": {
      "text/plain": [
       "0.0006842232718358154"
      ]
     },
     "execution_count": 14,
     "metadata": {},
     "output_type": "execute_result"
    }
   ],
   "source": [
    "# Test the dynamics\n",
    "x0_ = zeros(length(states))\n",
    "x_ = [deg2rad(30), deg2rad(10)]\n",
    "y_ = zeros(length(y))\n",
    "u_ = [0.5]\n",
    "pendulum_expand!(y_, x_)\n",
    "\n",
    "# Create matrices \n",
    "A = similar(Asym, Float64)\n",
    "B = similar(Bsym, Float64)\n",
    "C = [similar(C, Float64) for C in Csym]\n",
    "D = similar(Dsym, Float64)\n",
    "\n",
    "# Update matrices (updates the nonzeros vector directly)\n",
    "pendulum_updateA!(A, x0_)\n",
    "pendulum_updateB!(B, x0_)\n",
    "pendulum_updateC!(C, x0_)\n",
    "pendulum_updateD!(D, x0_)\n",
    "\n",
    "ydot_ = A*y_ + B*u_ + u_[1]*C[1]*y_ + D\n",
    "xdot1 = ydot_[1:2]\n",
    "xdot0 = pendulum_dynamics(x_, u_)\n",
    "norm(xdot1 - xdot0)"
   ]
  },
  {
   "cell_type": "code",
   "execution_count": 18,
   "metadata": {},
   "outputs": [],
   "source": [
    "using Plots"
   ]
  },
  {
   "cell_type": "code",
   "execution_count": 19,
   "metadata": {},
   "outputs": [],
   "source": [
    "thetas = range(-pi,pi,length=101)\n",
    "X = [[theta; 0] for theta in thetas]\n",
    "u = [0.5]\n",
    "x0 = zeros(2);"
   ]
  },
  {
   "cell_type": "code",
   "execution_count": 30,
   "metadata": {},
   "outputs": [
    {
     "name": "stdout",
     "output_type": "stream",
     "text": [
      "  0.264967 seconds (2.49 M allocations: 95.274 MiB, 8.35% gc time, 19.65% compilation time)\n"
     ]
    }
   ],
   "source": [
    "order = 3\n",
    "@time bilinear_pendulum = bilinearize_dynamics(pendulum_dynamics, states, controls, t, order)\n",
    "\n",
    "state_expand_expr = build_expanded_vector_function(bilinear_pendulum)\n",
    "\n",
    "updateA_expr, updateB_expr, updateC_expr, updateD_expr = \n",
    "    build_bilinear_dynamics_functions(bilinear_pendulum)\n",
    "\n",
    "_pendulum_updateA! = eval(updateA_expr)\n",
    "_pendulum_updateB! = eval(updateB_expr)\n",
    "_pendulum_updateC! = eval(updateC_expr)\n",
    "_pendulum_updateD! = eval(updateD_expr)\n",
    "_pendulum_expand! = eval(state_expand_expr)\n",
    "\n",
    "A = similar(bilinear_pendulum.A, Float64)\n",
    "B = similar(bilinear_pendulum.B, Float64)\n",
    "C = [similar(C, Float64) for C in bilinear_pendulum.C]\n",
    "D = similar(bilinear_pendulum.D, Float64)\n",
    "\n",
    "# Update matrices\n",
    "y = zeros(bilinear_pendulum.n)\n",
    "err3 = map(X) do x\n",
    "    _pendulum_expand!(y, x)\n",
    "    _pendulum_updateA!(A, x0)\n",
    "    _pendulum_updateB!(B, x0)\n",
    "    _pendulum_updateC!(C, x0)\n",
    "    _pendulum_updateD!(D, x0)\n",
    "    ydot = A*y + B*u + u[1]*C[1]*y + D\n",
    "    xdot1 = ydot[1:2]\n",
    "    xdot0 = pendulum_dynamics(x, u)\n",
    "    norm(xdot1 - xdot0)\n",
    "end;"
   ]
  },
  {
   "cell_type": "code",
   "execution_count": 24,
   "metadata": {},
   "outputs": [
    {
     "name": "stdout",
     "output_type": "stream",
     "text": [
      "  2.561320 seconds (30.08 M allocations: 1.109 GiB, 8.50% gc time, 5.69% compilation time)\n"
     ]
    }
   ],
   "source": [
    "order = 5\n",
    "@time bilinear_pendulum = bilinearize_dynamics(pendulum_dynamics, states, controls, t, order)\n",
    "\n",
    "state_expand_expr = build_expanded_vector_function(bilinear_pendulum)\n",
    "\n",
    "updateA_expr, updateB_expr, updateC_expr, updateD_expr = \n",
    "    build_bilinear_dynamics_functions(bilinear_pendulum)\n",
    "\n",
    "_pendulum_updateA! = eval(updateA_expr)\n",
    "_pendulum_updateB! = eval(updateB_expr)\n",
    "_pendulum_updateC! = eval(updateC_expr)\n",
    "_pendulum_updateD! = eval(updateD_expr)\n",
    "_pendulum_expand! = eval(state_expand_expr)\n",
    "\n",
    "A = similar(bilinear_pendulum.A, Float64)\n",
    "B = similar(bilinear_pendulum.B, Float64)\n",
    "C = [similar(C, Float64) for C in bilinear_pendulum.C]\n",
    "D = similar(bilinear_pendulum.D, Float64)\n",
    "\n",
    "# Update matrices\n",
    "y = zeros(bilinear_pendulum.n)\n",
    "err5 = map(X) do x\n",
    "    _pendulum_expand!(y, x)\n",
    "    _pendulum_updateA!(A, x0)\n",
    "    _pendulum_updateB!(B, x0)\n",
    "    _pendulum_updateC!(C, x0)\n",
    "    _pendulum_updateD!(D, x0)\n",
    "    ydot = A*y + B*u + u[1]*C[1]*y + D\n",
    "    xdot1 = ydot[1:2]\n",
    "    xdot0 = pendulum_dynamics(x, u)\n",
    "    norm(xdot1 - xdot0)\n",
    "end;"
   ]
  },
  {
   "cell_type": "code",
   "execution_count": 25,
   "metadata": {},
   "outputs": [
    {
     "name": "stdout",
     "output_type": "stream",
     "text": [
      " 15.892231 seconds (208.14 M allocations: 7.470 GiB, 9.58% gc time, 2.93% compilation time)\n"
     ]
    }
   ],
   "source": [
    "order = 7\n",
    "@time bilinear_pendulum = bilinearize_dynamics(pendulum_dynamics, states, controls, t, order)\n",
    "\n",
    "state_expand_expr = build_expanded_vector_function(bilinear_pendulum)\n",
    "\n",
    "updateA_expr, updateB_expr, updateC_expr, updateD_expr = \n",
    "    build_bilinear_dynamics_functions(bilinear_pendulum)\n",
    "\n",
    "_pendulum_updateA! = eval(updateA_expr)\n",
    "_pendulum_updateB! = eval(updateB_expr)\n",
    "_pendulum_updateC! = eval(updateC_expr)\n",
    "_pendulum_updateD! = eval(updateD_expr)\n",
    "_pendulum_expand! = eval(state_expand_expr)\n",
    "\n",
    "A = similar(bilinear_pendulum.A, Float64)\n",
    "B = similar(bilinear_pendulum.B, Float64)\n",
    "C = [similar(C, Float64) for C in bilinear_pendulum.C]\n",
    "D = similar(bilinear_pendulum.D, Float64)\n",
    "\n",
    "# Update matrices\n",
    "y = zeros(bilinear_pendulum.n)\n",
    "err7 = map(X) do x\n",
    "    _pendulum_expand!(y, x)\n",
    "    _pendulum_updateA!(A, x0)\n",
    "    _pendulum_updateB!(B, x0)\n",
    "    _pendulum_updateC!(C, x0)\n",
    "    _pendulum_updateD!(D, x0)\n",
    "    ydot = A*y + B*u + u[1]*C[1]*y + D\n",
    "    xdot1 = ydot[1:2]\n",
    "    xdot0 = pendulum_dynamics(x, u)\n",
    "    norm(xdot1 - xdot0)\n",
    "end;"
   ]
  },
  {
   "cell_type": "code",
   "execution_count": 32,
   "metadata": {},
   "outputs": [
    {
     "name": "stdout",
     "output_type": "stream",
     "text": [
      " 52.983048 seconds (732.22 M allocations: 27.178 GiB, 10.35% gc time, 0.14% compilation time)\n"
     ]
    }
   ],
   "source": [
    "order = 9\n",
    "@time bilinear_pendulum = bilinearize_dynamics(pendulum_dynamics, states, controls, t, order)\n",
    "\n",
    "state_expand_expr = build_expanded_vector_function(bilinear_pendulum)\n",
    "\n",
    "updateA_expr, updateB_expr, updateC_expr, updateD_expr = \n",
    "    build_bilinear_dynamics_functions(bilinear_pendulum)\n",
    "\n",
    "_pendulum_updateA! = eval(updateA_expr)\n",
    "_pendulum_updateB! = eval(updateB_expr)\n",
    "_pendulum_updateC! = eval(updateC_expr)\n",
    "_pendulum_updateD! = eval(updateD_expr)\n",
    "_pendulum_expand! = eval(state_expand_expr)\n",
    "\n",
    "A = similar(bilinear_pendulum.A, Float64)\n",
    "B = similar(bilinear_pendulum.B, Float64)\n",
    "C = [similar(C, Float64) for C in bilinear_pendulum.C]\n",
    "D = similar(bilinear_pendulum.D, Float64)\n",
    "\n",
    "# Update matrices\n",
    "y = zeros(bilinear_pendulum.n)\n",
    "err9 = map(X) do x\n",
    "    _pendulum_expand!(y, x)\n",
    "    _pendulum_updateA!(A, x0)\n",
    "    _pendulum_updateB!(B, x0)\n",
    "    _pendulum_updateC!(C, x0)\n",
    "    _pendulum_updateD!(D, x0)\n",
    "    ydot = A*y + B*u + u[1]*C[1]*y + D\n",
    "    xdot1 = ydot[1:2]\n",
    "    xdot0 = pendulum_dynamics(x, u)\n",
    "    norm(xdot1 - xdot0)\n",
    "end;"
   ]
  },
  {
   "cell_type": "code",
   "execution_count": 28,
   "metadata": {},
   "outputs": [
    {
     "data": {
      "text/plain": [
       "54×54 SparseMatrixCSC{Float64, Int64} with 299 stored entries:\n",
       "⡚⣢⣐⠀⢐⠀⠀⡂⠀⠀⡂⠀⠀⢐⠀⠀⠀⢐⠀⠀⠀⠀⡂⠀⠀⠀⠀\n",
       "⠈⢌⠡⣧⡠⡁⠀⢌⠀⠀⢌⠀⠀⠠⡁⠀⠀⠠⡁⠀⠀⠀⢌⠀⠀⠀⠀\n",
       "⠀⠀⠡⡈⠡⣮⡀⢄⠁⠀⢄⠁⠀⠠⡈⠀⠀⠠⡈⠀⠀⠀⢄⠁⠀⠀⠀\n",
       "⠀⠀⠀⠈⢂⠈⠛⣠⡑⠀⡀⠑⠀⢀⠈⠂⠀⢀⠈⠂⠀⠀⡀⠑⠀⠀⠀\n",
       "⠀⠀⠀⠀⠀⠑⢄⠈⠻⣦⠈⠢⡀⠀⠑⢄⠀⠀⠑⢄⠀⠀⠈⠢⡀⠀⠀\n",
       "⠀⠀⠀⠀⠀⠀⠀⠢⡀⠀⠺⣦⡀⠐⢄⠀⠀⠐⢄⠀⠀⠀⠢⡀⠀⠀⠀\n",
       "⠀⠀⠀⠀⠀⠀⠀⠀⠈⠢⠀⠈⠻⠆⡀⠑⠄⠀⠀⠑⠄⠀⠀⠈⠢⠀⠀\n",
       "⠀⠀⠀⠀⠀⠀⠀⠀⠀⠀⠑⢄⠀⠈⠻⣦⡀⠈⠢⡀⠀⠀⠑⢄⠀⠀⠀\n",
       "⠀⠀⠀⠀⠀⠀⠀⠀⠀⠀⠀⠀⠑⠄⠀⠈⠻⠆⡀⠈⠢⠀⠀⠀⠑⠄⠀\n",
       "⠀⠀⠀⠀⠀⠀⠀⠀⠀⠀⠀⠀⠀⠈⠢⡀⠀⠈⠻⣦⡀⠀⠑⢄⠀⠀⠀\n",
       "⠀⠀⠀⠀⠀⠀⠀⠀⠀⠀⠀⠀⠀⠀⠀⠈⠢⡀⠀⠈⠻⣦⠀⠀⠑⢄⠀\n",
       "⠀⠀⠀⠀⠀⠀⠀⠀⠀⠀⠀⠀⠀⠀⠀⠀⠀⠐⢄⠀⠀⠀⠺⣦⡀⠀⠀\n",
       "⠀⠀⠀⠀⠀⠀⠀⠀⠀⠀⠀⠀⠀⠀⠀⠀⠀⠀⠀⠑⢄⠀⠀⠈⠻⣦⡀\n",
       "⠀⠀⠀⠀⠀⠀⠀⠀⠀⠀⠀⠀⠀⠀⠀⠀⠀⠀⠀⠀⠀⠑⠀⠀⠀⠈⠛"
      ]
     },
     "execution_count": 28,
     "metadata": {},
     "output_type": "execute_result"
    }
   ],
   "source": [
    "A9 = copy(A)"
   ]
  },
  {
   "cell_type": "code",
   "execution_count": 33,
   "metadata": {},
   "outputs": [
    {
     "data": {
      "image/svg+xml": [
       "<?xml version=\"1.0\" encoding=\"utf-8\"?>\n",
       "<svg xmlns=\"http://www.w3.org/2000/svg\" xmlns:xlink=\"http://www.w3.org/1999/xlink\" width=\"600\" height=\"400\" viewBox=\"0 0 2400 1600\">\n",
       "<defs>\n",
       "  <clipPath id=\"clip650\">\n",
       "    <rect x=\"0\" y=\"0\" width=\"2400\" height=\"1600\"/>\n",
       "  </clipPath>\n",
       "</defs>\n",
       "<path clip-path=\"url(#clip650)\" d=\"\n",
       "M0 1600 L2400 1600 L2400 0 L0 0  Z\n",
       "  \" fill=\"#ffffff\" fill-rule=\"evenodd\" fill-opacity=\"1\"/>\n",
       "<defs>\n",
       "  <clipPath id=\"clip651\">\n",
       "    <rect x=\"480\" y=\"0\" width=\"1681\" height=\"1600\"/>\n",
       "  </clipPath>\n",
       "</defs>\n",
       "<path clip-path=\"url(#clip650)\" d=\"\n",
       "M112.177 1486.45 L2352.76 1486.45 L2352.76 47.2441 L112.177 47.2441  Z\n",
       "  \" fill=\"#ffffff\" fill-rule=\"evenodd\" fill-opacity=\"1\"/>\n",
       "<defs>\n",
       "  <clipPath id=\"clip652\">\n",
       "    <rect x=\"112\" y=\"47\" width=\"2242\" height=\"1440\"/>\n",
       "  </clipPath>\n",
       "</defs>\n",
       "<polyline clip-path=\"url(#clip652)\" style=\"stroke:#000000; stroke-linecap:butt; stroke-linejoin:round; stroke-width:2; stroke-opacity:0.1; fill:none\" points=\"\n",
       "  223.224,1486.45 223.224,47.2441 \n",
       "  \"/>\n",
       "<polyline clip-path=\"url(#clip652)\" style=\"stroke:#000000; stroke-linecap:butt; stroke-linejoin:round; stroke-width:2; stroke-opacity:0.1; fill:none\" points=\"\n",
       "  559.638,1486.45 559.638,47.2441 \n",
       "  \"/>\n",
       "<polyline clip-path=\"url(#clip652)\" style=\"stroke:#000000; stroke-linecap:butt; stroke-linejoin:round; stroke-width:2; stroke-opacity:0.1; fill:none\" points=\"\n",
       "  896.052,1486.45 896.052,47.2441 \n",
       "  \"/>\n",
       "<polyline clip-path=\"url(#clip652)\" style=\"stroke:#000000; stroke-linecap:butt; stroke-linejoin:round; stroke-width:2; stroke-opacity:0.1; fill:none\" points=\"\n",
       "  1232.47,1486.45 1232.47,47.2441 \n",
       "  \"/>\n",
       "<polyline clip-path=\"url(#clip652)\" style=\"stroke:#000000; stroke-linecap:butt; stroke-linejoin:round; stroke-width:2; stroke-opacity:0.1; fill:none\" points=\"\n",
       "  1568.88,1486.45 1568.88,47.2441 \n",
       "  \"/>\n",
       "<polyline clip-path=\"url(#clip652)\" style=\"stroke:#000000; stroke-linecap:butt; stroke-linejoin:round; stroke-width:2; stroke-opacity:0.1; fill:none\" points=\"\n",
       "  1905.3,1486.45 1905.3,47.2441 \n",
       "  \"/>\n",
       "<polyline clip-path=\"url(#clip652)\" style=\"stroke:#000000; stroke-linecap:butt; stroke-linejoin:round; stroke-width:2; stroke-opacity:0.1; fill:none\" points=\"\n",
       "  2241.71,1486.45 2241.71,47.2441 \n",
       "  \"/>\n",
       "<polyline clip-path=\"url(#clip650)\" style=\"stroke:#000000; stroke-linecap:butt; stroke-linejoin:round; stroke-width:4; stroke-opacity:1; fill:none\" points=\"\n",
       "  112.177,1486.45 2352.76,1486.45 \n",
       "  \"/>\n",
       "<polyline clip-path=\"url(#clip650)\" style=\"stroke:#000000; stroke-linecap:butt; stroke-linejoin:round; stroke-width:4; stroke-opacity:1; fill:none\" points=\"\n",
       "  223.224,1486.45 223.224,1467.55 \n",
       "  \"/>\n",
       "<polyline clip-path=\"url(#clip650)\" style=\"stroke:#000000; stroke-linecap:butt; stroke-linejoin:round; stroke-width:4; stroke-opacity:1; fill:none\" points=\"\n",
       "  559.638,1486.45 559.638,1467.55 \n",
       "  \"/>\n",
       "<polyline clip-path=\"url(#clip650)\" style=\"stroke:#000000; stroke-linecap:butt; stroke-linejoin:round; stroke-width:4; stroke-opacity:1; fill:none\" points=\"\n",
       "  896.052,1486.45 896.052,1467.55 \n",
       "  \"/>\n",
       "<polyline clip-path=\"url(#clip650)\" style=\"stroke:#000000; stroke-linecap:butt; stroke-linejoin:round; stroke-width:4; stroke-opacity:1; fill:none\" points=\"\n",
       "  1232.47,1486.45 1232.47,1467.55 \n",
       "  \"/>\n",
       "<polyline clip-path=\"url(#clip650)\" style=\"stroke:#000000; stroke-linecap:butt; stroke-linejoin:round; stroke-width:4; stroke-opacity:1; fill:none\" points=\"\n",
       "  1568.88,1486.45 1568.88,1467.55 \n",
       "  \"/>\n",
       "<polyline clip-path=\"url(#clip650)\" style=\"stroke:#000000; stroke-linecap:butt; stroke-linejoin:round; stroke-width:4; stroke-opacity:1; fill:none\" points=\"\n",
       "  1905.3,1486.45 1905.3,1467.55 \n",
       "  \"/>\n",
       "<polyline clip-path=\"url(#clip650)\" style=\"stroke:#000000; stroke-linecap:butt; stroke-linejoin:round; stroke-width:4; stroke-opacity:1; fill:none\" points=\"\n",
       "  2241.71,1486.45 2241.71,1467.55 \n",
       "  \"/>\n",
       "<path clip-path=\"url(#clip650)\" d=\"M192.691 1532.02 L222.367 1532.02 L222.367 1535.95 L192.691 1535.95 L192.691 1532.02 Z\" fill=\"#000000\" fill-rule=\"evenodd\" fill-opacity=\"1\" /><path clip-path=\"url(#clip650)\" d=\"M246.626 1530.21 Q249.983 1530.93 251.858 1533.2 Q253.756 1535.47 253.756 1538.8 Q253.756 1543.92 250.237 1546.72 Q246.719 1549.52 240.237 1549.52 Q238.061 1549.52 235.747 1549.08 Q233.455 1548.66 231.001 1547.81 L231.001 1543.29 Q232.946 1544.43 235.261 1545.01 Q237.575 1545.58 240.098 1545.58 Q244.497 1545.58 246.788 1543.85 Q249.103 1542.11 249.103 1538.8 Q249.103 1535.75 246.95 1534.03 Q244.821 1532.3 241.001 1532.3 L236.974 1532.3 L236.974 1528.45 L241.186 1528.45 Q244.636 1528.45 246.464 1527.09 Q248.293 1525.7 248.293 1523.11 Q248.293 1520.45 246.395 1519.03 Q244.52 1517.6 241.001 1517.6 Q239.08 1517.6 236.881 1518.01 Q234.682 1518.43 232.043 1519.31 L232.043 1515.14 Q234.705 1514.4 237.02 1514.03 Q239.358 1513.66 241.418 1513.66 Q246.742 1513.66 249.844 1516.09 Q252.946 1518.5 252.946 1522.62 Q252.946 1525.49 251.302 1527.48 Q249.659 1529.45 246.626 1530.21 Z\" fill=\"#000000\" fill-rule=\"evenodd\" fill-opacity=\"1\" /><path clip-path=\"url(#clip650)\" d=\"M529.58 1532.02 L559.256 1532.02 L559.256 1535.95 L529.58 1535.95 L529.58 1532.02 Z\" fill=\"#000000\" fill-rule=\"evenodd\" fill-opacity=\"1\" /><path clip-path=\"url(#clip650)\" d=\"M573.376 1544.91 L589.696 1544.91 L589.696 1548.85 L567.751 1548.85 L567.751 1544.91 Q570.413 1542.16 574.997 1537.53 Q579.603 1532.88 580.784 1531.53 Q583.029 1529.01 583.909 1527.27 Q584.811 1525.51 584.811 1523.82 Q584.811 1521.07 582.867 1519.33 Q580.946 1517.6 577.844 1517.6 Q575.645 1517.6 573.191 1518.36 Q570.761 1519.13 567.983 1520.68 L567.983 1515.95 Q570.807 1514.82 573.261 1514.24 Q575.714 1513.66 577.751 1513.66 Q583.122 1513.66 586.316 1516.35 Q589.51 1519.03 589.51 1523.52 Q589.51 1525.65 588.7 1527.57 Q587.913 1529.47 585.807 1532.07 Q585.228 1532.74 582.126 1535.95 Q579.024 1539.15 573.376 1544.91 Z\" fill=\"#000000\" fill-rule=\"evenodd\" fill-opacity=\"1\" /><path clip-path=\"url(#clip650)\" d=\"M865.809 1532.02 L895.485 1532.02 L895.485 1535.95 L865.809 1535.95 L865.809 1532.02 Z\" fill=\"#000000\" fill-rule=\"evenodd\" fill-opacity=\"1\" /><path clip-path=\"url(#clip650)\" d=\"M906.388 1544.91 L914.027 1544.91 L914.027 1518.55 L905.717 1520.21 L905.717 1515.95 L913.98 1514.29 L918.656 1514.29 L918.656 1544.91 L926.295 1544.91 L926.295 1548.85 L906.388 1548.85 L906.388 1544.91 Z\" fill=\"#000000\" fill-rule=\"evenodd\" fill-opacity=\"1\" /><path clip-path=\"url(#clip650)\" d=\"M1232.47 1517.37 Q1228.86 1517.37 1227.03 1520.93 Q1225.22 1524.47 1225.22 1531.6 Q1225.22 1538.71 1227.03 1542.27 Q1228.86 1545.82 1232.47 1545.82 Q1236.1 1545.82 1237.91 1542.27 Q1239.74 1538.71 1239.74 1531.6 Q1239.74 1524.47 1237.91 1520.93 Q1236.1 1517.37 1232.47 1517.37 M1232.47 1513.66 Q1238.28 1513.66 1241.33 1518.27 Q1244.41 1522.85 1244.41 1531.6 Q1244.41 1540.33 1241.33 1544.94 Q1238.28 1549.52 1232.47 1549.52 Q1226.66 1549.52 1223.58 1544.94 Q1220.52 1540.33 1220.52 1531.6 Q1220.52 1522.85 1223.58 1518.27 Q1226.66 1513.66 1232.47 1513.66 Z\" fill=\"#000000\" fill-rule=\"evenodd\" fill-opacity=\"1\" /><path clip-path=\"url(#clip650)\" d=\"M1559.26 1544.91 L1566.9 1544.91 L1566.9 1518.55 L1558.59 1520.21 L1558.59 1515.95 L1566.86 1514.29 L1571.53 1514.29 L1571.53 1544.91 L1579.17 1544.91 L1579.17 1548.85 L1559.26 1548.85 L1559.26 1544.91 Z\" fill=\"#000000\" fill-rule=\"evenodd\" fill-opacity=\"1\" /><path clip-path=\"url(#clip650)\" d=\"M1899.95 1544.91 L1916.27 1544.91 L1916.27 1548.85 L1894.32 1548.85 L1894.32 1544.91 Q1896.99 1542.16 1901.57 1537.53 Q1906.17 1532.88 1907.36 1531.53 Q1909.6 1529.01 1910.48 1527.27 Q1911.38 1525.51 1911.38 1523.82 Q1911.38 1521.07 1909.44 1519.33 Q1907.52 1517.6 1904.42 1517.6 Q1902.22 1517.6 1899.76 1518.36 Q1897.33 1519.13 1894.55 1520.68 L1894.55 1515.95 Q1897.38 1514.82 1899.83 1514.24 Q1902.29 1513.66 1904.32 1513.66 Q1909.69 1513.66 1912.89 1516.35 Q1916.08 1519.03 1916.08 1523.52 Q1916.08 1525.65 1915.27 1527.57 Q1914.48 1529.47 1912.38 1532.07 Q1911.8 1532.74 1908.7 1535.95 Q1905.6 1539.15 1899.95 1544.91 Z\" fill=\"#000000\" fill-rule=\"evenodd\" fill-opacity=\"1\" /><path clip-path=\"url(#clip650)\" d=\"M2245.96 1530.21 Q2249.31 1530.93 2251.19 1533.2 Q2253.09 1535.47 2253.09 1538.8 Q2253.09 1543.92 2249.57 1546.72 Q2246.05 1549.52 2239.57 1549.52 Q2237.39 1549.52 2235.08 1549.08 Q2232.79 1548.66 2230.33 1547.81 L2230.33 1543.29 Q2232.28 1544.43 2234.59 1545.01 Q2236.91 1545.58 2239.43 1545.58 Q2243.83 1545.58 2246.12 1543.85 Q2248.43 1542.11 2248.43 1538.8 Q2248.43 1535.75 2246.28 1534.03 Q2244.15 1532.3 2240.33 1532.3 L2236.3 1532.3 L2236.3 1528.45 L2240.52 1528.45 Q2243.97 1528.45 2245.8 1527.09 Q2247.62 1525.7 2247.62 1523.11 Q2247.62 1520.45 2245.73 1519.03 Q2243.85 1517.6 2240.33 1517.6 Q2238.41 1517.6 2236.21 1518.01 Q2234.01 1518.43 2231.37 1519.31 L2231.37 1515.14 Q2234.04 1514.4 2236.35 1514.03 Q2238.69 1513.66 2240.75 1513.66 Q2246.07 1513.66 2249.17 1516.09 Q2252.28 1518.5 2252.28 1522.62 Q2252.28 1525.49 2250.63 1527.48 Q2248.99 1529.45 2245.96 1530.21 Z\" fill=\"#000000\" fill-rule=\"evenodd\" fill-opacity=\"1\" /><polyline clip-path=\"url(#clip652)\" style=\"stroke:#000000; stroke-linecap:butt; stroke-linejoin:round; stroke-width:2; stroke-opacity:0.1; fill:none\" points=\"\n",
       "  112.177,1445.72 2352.76,1445.72 \n",
       "  \"/>\n",
       "<polyline clip-path=\"url(#clip652)\" style=\"stroke:#000000; stroke-linecap:butt; stroke-linejoin:round; stroke-width:2; stroke-opacity:0.1; fill:none\" points=\"\n",
       "  112.177,1126.61 2352.76,1126.61 \n",
       "  \"/>\n",
       "<polyline clip-path=\"url(#clip652)\" style=\"stroke:#000000; stroke-linecap:butt; stroke-linejoin:round; stroke-width:2; stroke-opacity:0.1; fill:none\" points=\"\n",
       "  112.177,807.508 2352.76,807.508 \n",
       "  \"/>\n",
       "<polyline clip-path=\"url(#clip652)\" style=\"stroke:#000000; stroke-linecap:butt; stroke-linejoin:round; stroke-width:2; stroke-opacity:0.1; fill:none\" points=\"\n",
       "  112.177,488.404 2352.76,488.404 \n",
       "  \"/>\n",
       "<polyline clip-path=\"url(#clip652)\" style=\"stroke:#000000; stroke-linecap:butt; stroke-linejoin:round; stroke-width:2; stroke-opacity:0.1; fill:none\" points=\"\n",
       "  112.177,169.301 2352.76,169.301 \n",
       "  \"/>\n",
       "<polyline clip-path=\"url(#clip650)\" style=\"stroke:#000000; stroke-linecap:butt; stroke-linejoin:round; stroke-width:4; stroke-opacity:1; fill:none\" points=\"\n",
       "  112.177,1486.45 112.177,47.2441 \n",
       "  \"/>\n",
       "<polyline clip-path=\"url(#clip650)\" style=\"stroke:#000000; stroke-linecap:butt; stroke-linejoin:round; stroke-width:4; stroke-opacity:1; fill:none\" points=\"\n",
       "  112.177,1445.72 131.075,1445.72 \n",
       "  \"/>\n",
       "<polyline clip-path=\"url(#clip650)\" style=\"stroke:#000000; stroke-linecap:butt; stroke-linejoin:round; stroke-width:4; stroke-opacity:1; fill:none\" points=\"\n",
       "  112.177,1126.61 131.075,1126.61 \n",
       "  \"/>\n",
       "<polyline clip-path=\"url(#clip650)\" style=\"stroke:#000000; stroke-linecap:butt; stroke-linejoin:round; stroke-width:4; stroke-opacity:1; fill:none\" points=\"\n",
       "  112.177,807.508 131.075,807.508 \n",
       "  \"/>\n",
       "<polyline clip-path=\"url(#clip650)\" style=\"stroke:#000000; stroke-linecap:butt; stroke-linejoin:round; stroke-width:4; stroke-opacity:1; fill:none\" points=\"\n",
       "  112.177,488.404 131.075,488.404 \n",
       "  \"/>\n",
       "<polyline clip-path=\"url(#clip650)\" style=\"stroke:#000000; stroke-linecap:butt; stroke-linejoin:round; stroke-width:4; stroke-opacity:1; fill:none\" points=\"\n",
       "  112.177,169.301 131.075,169.301 \n",
       "  \"/>\n",
       "<path clip-path=\"url(#clip650)\" d=\"M64.2328 1431.51 Q60.6217 1431.51 58.793 1435.08 Q56.9875 1438.62 56.9875 1445.75 Q56.9875 1452.86 58.793 1456.42 Q60.6217 1459.96 64.2328 1459.96 Q67.867 1459.96 69.6726 1456.42 Q71.5013 1452.86 71.5013 1445.75 Q71.5013 1438.62 69.6726 1435.08 Q67.867 1431.51 64.2328 1431.51 M64.2328 1427.81 Q70.0429 1427.81 73.0985 1432.42 Q76.1772 1437 76.1772 1445.75 Q76.1772 1454.48 73.0985 1459.08 Q70.0429 1463.67 64.2328 1463.67 Q58.4226 1463.67 55.344 1459.08 Q52.2884 1454.48 52.2884 1445.75 Q52.2884 1437 55.344 1432.42 Q58.4226 1427.81 64.2328 1427.81 Z\" fill=\"#000000\" fill-rule=\"evenodd\" fill-opacity=\"1\" /><path clip-path=\"url(#clip650)\" d=\"M56.2699 1139.96 L63.9087 1139.96 L63.9087 1113.59 L55.5986 1115.26 L55.5986 1111 L63.8624 1109.33 L68.5383 1109.33 L68.5383 1139.96 L76.1772 1139.96 L76.1772 1143.89 L56.2699 1143.89 L56.2699 1139.96 Z\" fill=\"#000000\" fill-rule=\"evenodd\" fill-opacity=\"1\" /><path clip-path=\"url(#clip650)\" d=\"M59.8578 820.853 L76.1772 820.853 L76.1772 824.788 L54.2328 824.788 L54.2328 820.853 Q56.8949 818.098 61.4782 813.469 Q66.0846 808.816 67.2652 807.473 Q69.5105 804.95 70.3902 803.214 Q71.2929 801.455 71.2929 799.765 Q71.2929 797.011 69.3485 795.274 Q67.4272 793.538 64.3254 793.538 Q62.1263 793.538 59.6726 794.302 Q57.2421 795.066 54.4643 796.617 L54.4643 791.895 Q57.2884 790.761 59.7421 790.182 Q62.1958 789.603 64.2328 789.603 Q69.6031 789.603 72.7976 792.288 Q75.992 794.973 75.992 799.464 Q75.992 801.594 75.1818 803.515 Q74.3948 805.413 72.2883 808.006 Q71.7096 808.677 68.6078 811.895 Q65.5059 815.089 59.8578 820.853 Z\" fill=\"#000000\" fill-rule=\"evenodd\" fill-opacity=\"1\" /><path clip-path=\"url(#clip650)\" d=\"M69.0476 487.05 Q72.404 487.768 74.279 490.036 Q76.1772 492.305 76.1772 495.638 Q76.1772 500.754 72.6587 503.555 Q69.1402 506.356 62.6587 506.356 Q60.4828 506.356 58.168 505.916 Q55.8764 505.499 53.4227 504.643 L53.4227 500.129 Q55.3671 501.263 57.6819 501.842 Q59.9967 502.42 62.5198 502.42 Q66.918 502.42 69.2096 500.684 Q71.5244 498.948 71.5244 495.638 Q71.5244 492.583 69.3717 490.87 Q67.242 489.134 63.4226 489.134 L59.3949 489.134 L59.3949 485.291 L63.6078 485.291 Q67.0569 485.291 68.8855 483.925 Q70.7142 482.536 70.7142 479.944 Q70.7142 477.282 68.8161 475.87 Q66.9411 474.435 63.4226 474.435 Q61.5013 474.435 59.3023 474.851 Q57.1032 475.268 54.4643 476.147 L54.4643 471.981 Q57.1264 471.24 59.4412 470.87 Q61.7791 470.499 63.8393 470.499 Q69.1633 470.499 72.2652 472.93 Q75.367 475.337 75.367 479.458 Q75.367 482.328 73.7235 484.319 Q72.08 486.286 69.0476 487.05 Z\" fill=\"#000000\" fill-rule=\"evenodd\" fill-opacity=\"1\" /><path clip-path=\"url(#clip650)\" d=\"M66.5939 156.095 L54.7884 174.544 L66.5939 174.544 L66.5939 156.095 M65.367 152.021 L71.2466 152.021 L71.2466 174.544 L76.1772 174.544 L76.1772 178.432 L71.2466 178.432 L71.2466 186.581 L66.5939 186.581 L66.5939 178.432 L50.9921 178.432 L50.9921 173.919 L65.367 152.021 Z\" fill=\"#000000\" fill-rule=\"evenodd\" fill-opacity=\"1\" /><polyline clip-path=\"url(#clip652)\" style=\"stroke:#009af9; stroke-linecap:butt; stroke-linejoin:round; stroke-width:4; stroke-opacity:1; fill:none\" points=\"\n",
       "  175.59,87.9763 196.727,207.445 217.865,318.935 239.002,422.778 260.14,519.304 281.277,608.841 302.415,691.716 323.553,768.25 344.69,838.763 365.828,903.569 \n",
       "  386.965,962.976 408.103,1017.29 429.24,1066.81 450.378,1111.82 471.515,1152.6 492.653,1189.44 513.79,1222.61 534.928,1252.35 556.065,1278.93 577.203,1302.58 \n",
       "  598.34,1323.54 619.478,1342.02 640.616,1358.25 661.753,1372.42 682.891,1384.72 704.028,1395.34 725.166,1404.46 746.303,1412.22 767.441,1418.78 788.578,1424.29 \n",
       "  809.716,1428.86 830.853,1432.63 851.991,1435.69 873.128,1438.16 894.266,1440.12 915.404,1441.65 936.541,1442.83 957.679,1443.72 978.816,1444.37 999.954,1444.84 \n",
       "  1021.09,1445.17 1042.23,1445.4 1063.37,1445.54 1084.5,1445.62 1105.64,1445.67 1126.78,1445.7 1147.92,1445.71 1169.05,1445.71 1190.19,1445.72 1211.33,1445.72 \n",
       "  1232.47,1445.72 1253.6,1445.72 1274.74,1445.72 1295.88,1445.71 1317.02,1445.71 1338.15,1445.7 1359.29,1445.67 1380.43,1445.62 1401.57,1445.54 1422.7,1445.4 \n",
       "  1443.84,1445.17 1464.98,1444.84 1486.12,1444.37 1507.25,1443.72 1528.39,1442.83 1549.53,1441.65 1570.67,1440.12 1591.8,1438.16 1612.94,1435.69 1634.08,1432.63 \n",
       "  1655.22,1428.86 1676.35,1424.29 1697.49,1418.78 1718.63,1412.22 1739.77,1404.46 1760.9,1395.34 1782.04,1384.72 1803.18,1372.42 1824.32,1358.25 1845.46,1342.02 \n",
       "  1866.59,1323.54 1887.73,1302.58 1908.87,1278.93 1930.01,1252.35 1951.14,1222.61 1972.28,1189.44 1993.42,1152.6 2014.56,1111.82 2035.69,1066.81 2056.83,1017.29 \n",
       "  2077.97,962.976 2099.11,903.569 2120.24,838.763 2141.38,768.25 2162.52,691.716 2183.66,608.841 2204.79,519.304 2225.93,422.778 2247.07,318.935 2268.21,207.445 \n",
       "  2289.34,87.9763 \n",
       "  \"/>\n",
       "<polyline clip-path=\"url(#clip652)\" style=\"stroke:#e26f46; stroke-linecap:butt; stroke-linejoin:round; stroke-width:4; stroke-opacity:1; fill:none\" points=\"\n",
       "  175.59,1094.54 196.727,1139.27 217.865,1179.1 239.002,1214.48 260.14,1245.82 281.277,1273.5 302.415,1297.87 323.553,1319.26 344.69,1337.98 365.828,1354.3 \n",
       "  386.965,1368.48 408.103,1380.75 429.24,1391.33 450.378,1400.41 471.515,1408.17 492.653,1414.77 513.79,1420.36 534.928,1425.07 556.065,1429.01 577.203,1432.29 \n",
       "  598.34,1435.01 619.478,1437.25 640.616,1439.07 661.753,1440.55 682.891,1441.74 704.028,1442.68 725.166,1443.43 746.303,1444.02 767.441,1444.47 788.578,1444.81 \n",
       "  809.716,1445.07 830.853,1445.27 851.991,1445.41 873.128,1445.51 894.266,1445.58 915.404,1445.63 936.541,1445.66 957.679,1445.68 978.816,1445.7 999.954,1445.71 \n",
       "  1021.09,1445.71 1042.23,1445.71 1063.37,1445.71 1084.5,1445.72 1105.64,1445.72 1126.78,1445.72 1147.92,1445.72 1169.05,1445.72 1190.19,1445.72 1211.33,1445.72 \n",
       "  1232.47,1445.72 1253.6,1445.72 1274.74,1445.72 1295.88,1445.72 1317.02,1445.72 1338.15,1445.72 1359.29,1445.72 1380.43,1445.72 1401.57,1445.71 1422.7,1445.71 \n",
       "  1443.84,1445.71 1464.98,1445.71 1486.12,1445.7 1507.25,1445.68 1528.39,1445.66 1549.53,1445.63 1570.67,1445.58 1591.8,1445.51 1612.94,1445.41 1634.08,1445.27 \n",
       "  1655.22,1445.07 1676.35,1444.81 1697.49,1444.47 1718.63,1444.02 1739.77,1443.43 1760.9,1442.68 1782.04,1441.74 1803.18,1440.55 1824.32,1439.07 1845.46,1437.25 \n",
       "  1866.59,1435.01 1887.73,1432.29 1908.87,1429.01 1930.01,1425.07 1951.14,1420.36 1972.28,1414.77 1993.42,1408.17 2014.56,1400.41 2035.69,1391.33 2056.83,1380.75 \n",
       "  2077.97,1368.48 2099.11,1354.3 2120.24,1337.98 2141.38,1319.26 2162.52,1297.87 2183.66,1273.5 2204.79,1245.82 2225.93,1214.48 2247.07,1179.1 2268.21,1139.27 \n",
       "  2289.34,1094.54 \n",
       "  \"/>\n",
       "<polyline clip-path=\"url(#clip652)\" style=\"stroke:#3da44d; stroke-linecap:butt; stroke-linejoin:round; stroke-width:4; stroke-opacity:1; fill:none\" points=\"\n",
       "  175.59,1441.07 196.727,1441.99 217.865,1442.74 239.002,1443.35 260.14,1443.84 281.277,1444.24 302.415,1444.56 323.553,1444.82 344.69,1445.02 365.828,1445.18 \n",
       "  386.965,1445.31 408.103,1445.41 429.24,1445.48 450.378,1445.54 471.515,1445.59 492.653,1445.62 513.79,1445.65 534.928,1445.67 556.065,1445.68 577.203,1445.69 \n",
       "  598.34,1445.7 619.478,1445.7 640.616,1445.71 661.753,1445.71 682.891,1445.71 704.028,1445.71 725.166,1445.71 746.303,1445.71 767.441,1445.72 788.578,1445.72 \n",
       "  809.716,1445.72 830.853,1445.72 851.991,1445.72 873.128,1445.72 894.266,1445.72 915.404,1445.72 936.541,1445.72 957.679,1445.72 978.816,1445.72 999.954,1445.72 \n",
       "  1021.09,1445.72 1042.23,1445.72 1063.37,1445.72 1084.5,1445.72 1105.64,1445.72 1126.78,1445.72 1147.92,1445.72 1169.05,1445.72 1190.19,1445.72 1211.33,1445.72 \n",
       "  1232.47,1445.72 1253.6,1445.72 1274.74,1445.72 1295.88,1445.72 1317.02,1445.72 1338.15,1445.72 1359.29,1445.72 1380.43,1445.72 1401.57,1445.72 1422.7,1445.72 \n",
       "  1443.84,1445.72 1464.98,1445.72 1486.12,1445.72 1507.25,1445.72 1528.39,1445.72 1549.53,1445.72 1570.67,1445.72 1591.8,1445.72 1612.94,1445.72 1634.08,1445.72 \n",
       "  1655.22,1445.72 1676.35,1445.72 1697.49,1445.72 1718.63,1445.71 1739.77,1445.71 1760.9,1445.71 1782.04,1445.71 1803.18,1445.71 1824.32,1445.71 1845.46,1445.7 \n",
       "  1866.59,1445.7 1887.73,1445.69 1908.87,1445.68 1930.01,1445.67 1951.14,1445.65 1972.28,1445.62 1993.42,1445.59 2014.56,1445.54 2035.69,1445.48 2056.83,1445.41 \n",
       "  2077.97,1445.31 2099.11,1445.18 2120.24,1445.02 2141.38,1444.82 2162.52,1444.56 2183.66,1444.24 2204.79,1443.84 2225.93,1443.35 2247.07,1442.74 2268.21,1441.99 \n",
       "  2289.34,1441.07 \n",
       "  \"/>\n",
       "<polyline clip-path=\"url(#clip652)\" style=\"stroke:#c271d2; stroke-linecap:butt; stroke-linejoin:round; stroke-width:4; stroke-opacity:1; fill:none\" points=\"\n",
       "  175.59,1441.07 196.727,1441.99 217.865,1442.74 239.002,1443.35 260.14,1443.84 281.277,1444.24 302.415,1444.56 323.553,1444.82 344.69,1445.02 365.828,1445.18 \n",
       "  386.965,1445.31 408.103,1445.41 429.24,1445.48 450.378,1445.54 471.515,1445.59 492.653,1445.62 513.79,1445.65 534.928,1445.67 556.065,1445.68 577.203,1445.69 \n",
       "  598.34,1445.7 619.478,1445.7 640.616,1445.71 661.753,1445.71 682.891,1445.71 704.028,1445.71 725.166,1445.71 746.303,1445.71 767.441,1445.72 788.578,1445.72 \n",
       "  809.716,1445.72 830.853,1445.72 851.991,1445.72 873.128,1445.72 894.266,1445.72 915.404,1445.72 936.541,1445.72 957.679,1445.72 978.816,1445.72 999.954,1445.72 \n",
       "  1021.09,1445.72 1042.23,1445.72 1063.37,1445.72 1084.5,1445.72 1105.64,1445.72 1126.78,1445.72 1147.92,1445.72 1169.05,1445.72 1190.19,1445.72 1211.33,1445.72 \n",
       "  1232.47,1445.72 1253.6,1445.72 1274.74,1445.72 1295.88,1445.72 1317.02,1445.72 1338.15,1445.72 1359.29,1445.72 1380.43,1445.72 1401.57,1445.72 1422.7,1445.72 \n",
       "  1443.84,1445.72 1464.98,1445.72 1486.12,1445.72 1507.25,1445.72 1528.39,1445.72 1549.53,1445.72 1570.67,1445.72 1591.8,1445.72 1612.94,1445.72 1634.08,1445.72 \n",
       "  1655.22,1445.72 1676.35,1445.72 1697.49,1445.72 1718.63,1445.71 1739.77,1445.71 1760.9,1445.71 1782.04,1445.71 1803.18,1445.71 1824.32,1445.71 1845.46,1445.7 \n",
       "  1866.59,1445.7 1887.73,1445.69 1908.87,1445.68 1930.01,1445.67 1951.14,1445.65 1972.28,1445.62 1993.42,1445.59 2014.56,1445.54 2035.69,1445.48 2056.83,1445.41 \n",
       "  2077.97,1445.31 2099.11,1445.18 2120.24,1445.02 2141.38,1444.82 2162.52,1444.56 2183.66,1444.24 2204.79,1443.84 2225.93,1443.35 2247.07,1442.74 2268.21,1441.99 \n",
       "  2289.34,1441.07 \n",
       "  \"/>\n",
       "<path clip-path=\"url(#clip650)\" d=\"\n",
       "M1847.72 354.418 L2278.07 354.418 L2278.07 95.2176 L1847.72 95.2176  Z\n",
       "  \" fill=\"#ffffff\" fill-rule=\"evenodd\" fill-opacity=\"1\"/>\n",
       "<polyline clip-path=\"url(#clip650)\" style=\"stroke:#000000; stroke-linecap:butt; stroke-linejoin:round; stroke-width:4; stroke-opacity:1; fill:none\" points=\"\n",
       "  1847.72,354.418 2278.07,354.418 2278.07,95.2176 1847.72,95.2176 1847.72,354.418 \n",
       "  \"/>\n",
       "<polyline clip-path=\"url(#clip650)\" style=\"stroke:#009af9; stroke-linecap:butt; stroke-linejoin:round; stroke-width:4; stroke-opacity:1; fill:none\" points=\"\n",
       "  1871.72,147.058 2015.72,147.058 \n",
       "  \"/>\n",
       "<path clip-path=\"url(#clip650)\" d=\"M2051.62 141.398 Q2048.2 141.398 2046.21 144.083 Q2044.21 146.745 2044.21 151.398 Q2044.21 156.051 2046.18 158.736 Q2048.17 161.398 2051.62 161.398 Q2055.02 161.398 2057.02 158.713 Q2059.01 156.027 2059.01 151.398 Q2059.01 146.791 2057.02 144.106 Q2055.02 141.398 2051.62 141.398 M2051.62 137.787 Q2057.18 137.787 2060.35 141.398 Q2063.52 145.009 2063.52 151.398 Q2063.52 157.764 2060.35 161.398 Q2057.18 165.009 2051.62 165.009 Q2046.04 165.009 2042.87 161.398 Q2039.72 157.764 2039.72 151.398 Q2039.72 145.009 2042.87 141.398 Q2046.04 137.787 2051.62 137.787 Z\" fill=\"#000000\" fill-rule=\"evenodd\" fill-opacity=\"1\" /><path clip-path=\"url(#clip650)\" d=\"M2085.6 142.393 Q2084.89 141.977 2084.03 141.791 Q2083.2 141.583 2082.18 141.583 Q2078.57 141.583 2076.62 143.944 Q2074.7 146.282 2074.7 150.68 L2074.7 164.338 L2070.42 164.338 L2070.42 138.412 L2074.7 138.412 L2074.7 142.44 Q2076.04 140.078 2078.2 138.944 Q2080.35 137.787 2083.43 137.787 Q2083.87 137.787 2084.4 137.856 Q2084.93 137.903 2085.58 138.018 L2085.6 142.393 Z\" fill=\"#000000\" fill-rule=\"evenodd\" fill-opacity=\"1\" /><path clip-path=\"url(#clip650)\" d=\"M2106.3 142.347 L2106.3 128.319 L2110.56 128.319 L2110.56 164.338 L2106.3 164.338 L2106.3 160.449 Q2104.95 162.763 2102.89 163.898 Q2100.86 165.009 2097.99 165.009 Q2093.29 165.009 2090.33 161.259 Q2087.39 157.509 2087.39 151.398 Q2087.39 145.287 2090.33 141.537 Q2093.29 137.787 2097.99 137.787 Q2100.86 137.787 2102.89 138.921 Q2104.95 140.032 2106.3 142.347 M2091.78 151.398 Q2091.78 156.097 2093.7 158.782 Q2095.65 161.444 2099.03 161.444 Q2102.41 161.444 2104.35 158.782 Q2106.3 156.097 2106.3 151.398 Q2106.3 146.699 2104.35 144.037 Q2102.41 141.352 2099.03 141.352 Q2095.65 141.352 2093.7 144.037 Q2091.78 146.699 2091.78 151.398 Z\" fill=\"#000000\" fill-rule=\"evenodd\" fill-opacity=\"1\" /><path clip-path=\"url(#clip650)\" d=\"M2141.51 150.31 L2141.51 152.393 L2121.92 152.393 Q2122.2 156.791 2124.56 159.106 Q2126.95 161.398 2131.18 161.398 Q2133.64 161.398 2135.93 160.796 Q2138.24 160.194 2140.51 158.99 L2140.51 163.018 Q2138.22 163.99 2135.81 164.5 Q2133.4 165.009 2130.93 165.009 Q2124.72 165.009 2121.09 161.398 Q2117.48 157.787 2117.48 151.629 Q2117.48 145.264 2120.9 141.537 Q2124.35 137.787 2130.19 137.787 Q2135.42 137.787 2138.45 141.166 Q2141.51 144.523 2141.51 150.31 M2137.25 149.06 Q2137.2 145.565 2135.28 143.481 Q2133.38 141.398 2130.23 141.398 Q2126.67 141.398 2124.51 143.412 Q2122.39 145.426 2122.06 149.083 L2137.25 149.06 Z\" fill=\"#000000\" fill-rule=\"evenodd\" fill-opacity=\"1\" /><path clip-path=\"url(#clip650)\" d=\"M2163.52 142.393 Q2162.8 141.977 2161.95 141.791 Q2161.11 141.583 2160.09 141.583 Q2156.48 141.583 2154.54 143.944 Q2152.62 146.282 2152.62 150.68 L2152.62 164.338 L2148.33 164.338 L2148.33 138.412 L2152.62 138.412 L2152.62 142.44 Q2153.96 140.078 2156.11 138.944 Q2158.26 137.787 2161.34 137.787 Q2161.78 137.787 2162.32 137.856 Q2162.85 137.903 2163.5 138.018 L2163.52 142.393 Z\" fill=\"#000000\" fill-rule=\"evenodd\" fill-opacity=\"1\" /><path clip-path=\"url(#clip650)\" d=\"M2168.54 142.81 L2198.22 142.81 L2198.22 146.699 L2168.54 146.699 L2168.54 142.81 M2168.54 152.254 L2198.22 152.254 L2198.22 156.189 L2168.54 156.189 L2168.54 152.254 Z\" fill=\"#000000\" fill-rule=\"evenodd\" fill-opacity=\"1\" /><path clip-path=\"url(#clip650)\" d=\"M2222.48 145.703 Q2225.83 146.421 2227.71 148.689 Q2229.61 150.958 2229.61 154.291 Q2229.61 159.407 2226.09 162.208 Q2222.57 165.009 2216.09 165.009 Q2213.91 165.009 2211.6 164.569 Q2209.31 164.152 2206.85 163.296 L2206.85 158.782 Q2208.8 159.916 2211.11 160.495 Q2213.43 161.074 2215.95 161.074 Q2220.35 161.074 2222.64 159.338 Q2224.95 157.601 2224.95 154.291 Q2224.95 151.236 2222.8 149.523 Q2220.67 147.787 2216.85 147.787 L2212.82 147.787 L2212.82 143.944 L2217.04 143.944 Q2220.49 143.944 2222.32 142.578 Q2224.14 141.19 2224.14 138.597 Q2224.14 135.935 2222.25 134.523 Q2220.37 133.088 2216.85 133.088 Q2214.93 133.088 2212.73 133.504 Q2210.53 133.921 2207.89 134.801 L2207.89 130.634 Q2210.56 129.893 2212.87 129.523 Q2215.21 129.153 2217.27 129.153 Q2222.59 129.153 2225.69 131.583 Q2228.8 133.99 2228.8 138.111 Q2228.8 140.981 2227.15 142.972 Q2225.51 144.94 2222.48 145.703 Z\" fill=\"#000000\" fill-rule=\"evenodd\" fill-opacity=\"1\" /><polyline clip-path=\"url(#clip650)\" style=\"stroke:#e26f46; stroke-linecap:butt; stroke-linejoin:round; stroke-width:4; stroke-opacity:1; fill:none\" points=\"\n",
       "  1871.72,198.898 2015.72,198.898 \n",
       "  \"/>\n",
       "<path clip-path=\"url(#clip650)\" d=\"M2051.62 193.238 Q2048.2 193.238 2046.21 195.923 Q2044.21 198.585 2044.21 203.238 Q2044.21 207.891 2046.18 210.576 Q2048.17 213.238 2051.62 213.238 Q2055.02 213.238 2057.02 210.553 Q2059.01 207.867 2059.01 203.238 Q2059.01 198.631 2057.02 195.946 Q2055.02 193.238 2051.62 193.238 M2051.62 189.627 Q2057.18 189.627 2060.35 193.238 Q2063.52 196.849 2063.52 203.238 Q2063.52 209.604 2060.35 213.238 Q2057.18 216.849 2051.62 216.849 Q2046.04 216.849 2042.87 213.238 Q2039.72 209.604 2039.72 203.238 Q2039.72 196.849 2042.87 193.238 Q2046.04 189.627 2051.62 189.627 Z\" fill=\"#000000\" fill-rule=\"evenodd\" fill-opacity=\"1\" /><path clip-path=\"url(#clip650)\" d=\"M2085.6 194.233 Q2084.89 193.817 2084.03 193.631 Q2083.2 193.423 2082.18 193.423 Q2078.57 193.423 2076.62 195.784 Q2074.7 198.122 2074.7 202.52 L2074.7 216.178 L2070.42 216.178 L2070.42 190.252 L2074.7 190.252 L2074.7 194.28 Q2076.04 191.918 2078.2 190.784 Q2080.35 189.627 2083.43 189.627 Q2083.87 189.627 2084.4 189.696 Q2084.93 189.743 2085.58 189.858 L2085.6 194.233 Z\" fill=\"#000000\" fill-rule=\"evenodd\" fill-opacity=\"1\" /><path clip-path=\"url(#clip650)\" d=\"M2106.3 194.187 L2106.3 180.159 L2110.56 180.159 L2110.56 216.178 L2106.3 216.178 L2106.3 212.289 Q2104.95 214.603 2102.89 215.738 Q2100.86 216.849 2097.99 216.849 Q2093.29 216.849 2090.33 213.099 Q2087.39 209.349 2087.39 203.238 Q2087.39 197.127 2090.33 193.377 Q2093.29 189.627 2097.99 189.627 Q2100.86 189.627 2102.89 190.761 Q2104.95 191.872 2106.3 194.187 M2091.78 203.238 Q2091.78 207.937 2093.7 210.622 Q2095.65 213.284 2099.03 213.284 Q2102.41 213.284 2104.35 210.622 Q2106.3 207.937 2106.3 203.238 Q2106.3 198.539 2104.35 195.877 Q2102.41 193.192 2099.03 193.192 Q2095.65 193.192 2093.7 195.877 Q2091.78 198.539 2091.78 203.238 Z\" fill=\"#000000\" fill-rule=\"evenodd\" fill-opacity=\"1\" /><path clip-path=\"url(#clip650)\" d=\"M2141.51 202.15 L2141.51 204.233 L2121.92 204.233 Q2122.2 208.631 2124.56 210.946 Q2126.95 213.238 2131.18 213.238 Q2133.64 213.238 2135.93 212.636 Q2138.24 212.034 2140.51 210.83 L2140.51 214.858 Q2138.22 215.83 2135.81 216.34 Q2133.4 216.849 2130.93 216.849 Q2124.72 216.849 2121.09 213.238 Q2117.48 209.627 2117.48 203.469 Q2117.48 197.104 2120.9 193.377 Q2124.35 189.627 2130.19 189.627 Q2135.42 189.627 2138.45 193.006 Q2141.51 196.363 2141.51 202.15 M2137.25 200.9 Q2137.2 197.405 2135.28 195.321 Q2133.38 193.238 2130.23 193.238 Q2126.67 193.238 2124.51 195.252 Q2122.39 197.266 2122.06 200.923 L2137.25 200.9 Z\" fill=\"#000000\" fill-rule=\"evenodd\" fill-opacity=\"1\" /><path clip-path=\"url(#clip650)\" d=\"M2163.52 194.233 Q2162.8 193.817 2161.95 193.631 Q2161.11 193.423 2160.09 193.423 Q2156.48 193.423 2154.54 195.784 Q2152.62 198.122 2152.62 202.52 L2152.62 216.178 L2148.33 216.178 L2148.33 190.252 L2152.62 190.252 L2152.62 194.28 Q2153.96 191.918 2156.11 190.784 Q2158.26 189.627 2161.34 189.627 Q2161.78 189.627 2162.32 189.696 Q2162.85 189.743 2163.5 189.858 L2163.52 194.233 Z\" fill=\"#000000\" fill-rule=\"evenodd\" fill-opacity=\"1\" /><path clip-path=\"url(#clip650)\" d=\"M2168.54 194.65 L2198.22 194.65 L2198.22 198.539 L2168.54 198.539 L2168.54 194.65 M2168.54 204.094 L2198.22 204.094 L2198.22 208.029 L2168.54 208.029 L2168.54 204.094 Z\" fill=\"#000000\" fill-rule=\"evenodd\" fill-opacity=\"1\" /><path clip-path=\"url(#clip650)\" d=\"M2208.36 181.618 L2226.71 181.618 L2226.71 185.553 L2212.64 185.553 L2212.64 194.025 Q2213.66 193.678 2214.68 193.516 Q2215.7 193.33 2216.71 193.33 Q2222.5 193.33 2225.88 196.502 Q2229.26 199.673 2229.26 205.09 Q2229.26 210.668 2225.79 213.77 Q2222.32 216.849 2216 216.849 Q2213.82 216.849 2211.55 216.478 Q2209.31 216.108 2206.9 215.367 L2206.9 210.668 Q2208.98 211.803 2211.2 212.358 Q2213.43 212.914 2215.9 212.914 Q2219.91 212.914 2222.25 210.807 Q2224.58 208.701 2224.58 205.09 Q2224.58 201.479 2222.25 199.372 Q2219.91 197.266 2215.9 197.266 Q2214.03 197.266 2212.15 197.682 Q2210.3 198.099 2208.36 198.979 L2208.36 181.618 Z\" fill=\"#000000\" fill-rule=\"evenodd\" fill-opacity=\"1\" /><polyline clip-path=\"url(#clip650)\" style=\"stroke:#3da44d; stroke-linecap:butt; stroke-linejoin:round; stroke-width:4; stroke-opacity:1; fill:none\" points=\"\n",
       "  1871.72,250.738 2015.72,250.738 \n",
       "  \"/>\n",
       "<path clip-path=\"url(#clip650)\" d=\"M2051.62 245.078 Q2048.2 245.078 2046.21 247.763 Q2044.21 250.425 2044.21 255.078 Q2044.21 259.731 2046.18 262.416 Q2048.17 265.078 2051.62 265.078 Q2055.02 265.078 2057.02 262.393 Q2059.01 259.707 2059.01 255.078 Q2059.01 250.471 2057.02 247.786 Q2055.02 245.078 2051.62 245.078 M2051.62 241.467 Q2057.18 241.467 2060.35 245.078 Q2063.52 248.689 2063.52 255.078 Q2063.52 261.444 2060.35 265.078 Q2057.18 268.689 2051.62 268.689 Q2046.04 268.689 2042.87 265.078 Q2039.72 261.444 2039.72 255.078 Q2039.72 248.689 2042.87 245.078 Q2046.04 241.467 2051.62 241.467 Z\" fill=\"#000000\" fill-rule=\"evenodd\" fill-opacity=\"1\" /><path clip-path=\"url(#clip650)\" d=\"M2085.6 246.073 Q2084.89 245.657 2084.03 245.471 Q2083.2 245.263 2082.18 245.263 Q2078.57 245.263 2076.62 247.624 Q2074.7 249.962 2074.7 254.36 L2074.7 268.018 L2070.42 268.018 L2070.42 242.092 L2074.7 242.092 L2074.7 246.12 Q2076.04 243.758 2078.2 242.624 Q2080.35 241.467 2083.43 241.467 Q2083.87 241.467 2084.4 241.536 Q2084.93 241.583 2085.58 241.698 L2085.6 246.073 Z\" fill=\"#000000\" fill-rule=\"evenodd\" fill-opacity=\"1\" /><path clip-path=\"url(#clip650)\" d=\"M2106.3 246.027 L2106.3 231.999 L2110.56 231.999 L2110.56 268.018 L2106.3 268.018 L2106.3 264.129 Q2104.95 266.443 2102.89 267.578 Q2100.86 268.689 2097.99 268.689 Q2093.29 268.689 2090.33 264.939 Q2087.39 261.189 2087.39 255.078 Q2087.39 248.967 2090.33 245.217 Q2093.29 241.467 2097.99 241.467 Q2100.86 241.467 2102.89 242.601 Q2104.95 243.712 2106.3 246.027 M2091.78 255.078 Q2091.78 259.777 2093.7 262.462 Q2095.65 265.124 2099.03 265.124 Q2102.41 265.124 2104.35 262.462 Q2106.3 259.777 2106.3 255.078 Q2106.3 250.379 2104.35 247.717 Q2102.41 245.032 2099.03 245.032 Q2095.65 245.032 2093.7 247.717 Q2091.78 250.379 2091.78 255.078 Z\" fill=\"#000000\" fill-rule=\"evenodd\" fill-opacity=\"1\" /><path clip-path=\"url(#clip650)\" d=\"M2141.51 253.99 L2141.51 256.073 L2121.92 256.073 Q2122.2 260.471 2124.56 262.786 Q2126.95 265.078 2131.18 265.078 Q2133.64 265.078 2135.93 264.476 Q2138.24 263.874 2140.51 262.67 L2140.51 266.698 Q2138.22 267.67 2135.81 268.18 Q2133.4 268.689 2130.93 268.689 Q2124.72 268.689 2121.09 265.078 Q2117.48 261.467 2117.48 255.309 Q2117.48 248.944 2120.9 245.217 Q2124.35 241.467 2130.19 241.467 Q2135.42 241.467 2138.45 244.846 Q2141.51 248.203 2141.51 253.99 M2137.25 252.74 Q2137.2 249.245 2135.28 247.161 Q2133.38 245.078 2130.23 245.078 Q2126.67 245.078 2124.51 247.092 Q2122.39 249.106 2122.06 252.763 L2137.25 252.74 Z\" fill=\"#000000\" fill-rule=\"evenodd\" fill-opacity=\"1\" /><path clip-path=\"url(#clip650)\" d=\"M2163.52 246.073 Q2162.8 245.657 2161.95 245.471 Q2161.11 245.263 2160.09 245.263 Q2156.48 245.263 2154.54 247.624 Q2152.62 249.962 2152.62 254.36 L2152.62 268.018 L2148.33 268.018 L2148.33 242.092 L2152.62 242.092 L2152.62 246.12 Q2153.96 243.758 2156.11 242.624 Q2158.26 241.467 2161.34 241.467 Q2161.78 241.467 2162.32 241.536 Q2162.85 241.583 2163.5 241.698 L2163.52 246.073 Z\" fill=\"#000000\" fill-rule=\"evenodd\" fill-opacity=\"1\" /><path clip-path=\"url(#clip650)\" d=\"M2168.54 246.49 L2198.22 246.49 L2198.22 250.379 L2168.54 250.379 L2168.54 246.49 M2168.54 255.934 L2198.22 255.934 L2198.22 259.869 L2168.54 259.869 L2168.54 255.934 Z\" fill=\"#000000\" fill-rule=\"evenodd\" fill-opacity=\"1\" /><path clip-path=\"url(#clip650)\" d=\"M2207.13 233.458 L2229.35 233.458 L2229.35 235.448 L2216.81 268.018 L2211.92 268.018 L2223.73 237.393 L2207.13 237.393 L2207.13 233.458 Z\" fill=\"#000000\" fill-rule=\"evenodd\" fill-opacity=\"1\" /><polyline clip-path=\"url(#clip650)\" style=\"stroke:#c271d2; stroke-linecap:butt; stroke-linejoin:round; stroke-width:4; stroke-opacity:1; fill:none\" points=\"\n",
       "  1871.72,302.578 2015.72,302.578 \n",
       "  \"/>\n",
       "<path clip-path=\"url(#clip650)\" d=\"M2051.62 296.918 Q2048.2 296.918 2046.21 299.603 Q2044.21 302.265 2044.21 306.918 Q2044.21 311.571 2046.18 314.256 Q2048.17 316.918 2051.62 316.918 Q2055.02 316.918 2057.02 314.233 Q2059.01 311.547 2059.01 306.918 Q2059.01 302.311 2057.02 299.626 Q2055.02 296.918 2051.62 296.918 M2051.62 293.307 Q2057.18 293.307 2060.35 296.918 Q2063.52 300.529 2063.52 306.918 Q2063.52 313.284 2060.35 316.918 Q2057.18 320.529 2051.62 320.529 Q2046.04 320.529 2042.87 316.918 Q2039.72 313.284 2039.72 306.918 Q2039.72 300.529 2042.87 296.918 Q2046.04 293.307 2051.62 293.307 Z\" fill=\"#000000\" fill-rule=\"evenodd\" fill-opacity=\"1\" /><path clip-path=\"url(#clip650)\" d=\"M2085.6 297.913 Q2084.89 297.497 2084.03 297.311 Q2083.2 297.103 2082.18 297.103 Q2078.57 297.103 2076.62 299.464 Q2074.7 301.802 2074.7 306.2 L2074.7 319.858 L2070.42 319.858 L2070.42 293.932 L2074.7 293.932 L2074.7 297.96 Q2076.04 295.598 2078.2 294.464 Q2080.35 293.307 2083.43 293.307 Q2083.87 293.307 2084.4 293.376 Q2084.93 293.423 2085.58 293.538 L2085.6 297.913 Z\" fill=\"#000000\" fill-rule=\"evenodd\" fill-opacity=\"1\" /><path clip-path=\"url(#clip650)\" d=\"M2106.3 297.867 L2106.3 283.839 L2110.56 283.839 L2110.56 319.858 L2106.3 319.858 L2106.3 315.969 Q2104.95 318.283 2102.89 319.418 Q2100.86 320.529 2097.99 320.529 Q2093.29 320.529 2090.33 316.779 Q2087.39 313.029 2087.39 306.918 Q2087.39 300.807 2090.33 297.057 Q2093.29 293.307 2097.99 293.307 Q2100.86 293.307 2102.89 294.441 Q2104.95 295.552 2106.3 297.867 M2091.78 306.918 Q2091.78 311.617 2093.7 314.302 Q2095.65 316.964 2099.03 316.964 Q2102.41 316.964 2104.35 314.302 Q2106.3 311.617 2106.3 306.918 Q2106.3 302.219 2104.35 299.557 Q2102.41 296.872 2099.03 296.872 Q2095.65 296.872 2093.7 299.557 Q2091.78 302.219 2091.78 306.918 Z\" fill=\"#000000\" fill-rule=\"evenodd\" fill-opacity=\"1\" /><path clip-path=\"url(#clip650)\" d=\"M2141.51 305.83 L2141.51 307.913 L2121.92 307.913 Q2122.2 312.311 2124.56 314.626 Q2126.95 316.918 2131.18 316.918 Q2133.64 316.918 2135.93 316.316 Q2138.24 315.714 2140.51 314.51 L2140.51 318.538 Q2138.22 319.51 2135.81 320.02 Q2133.4 320.529 2130.93 320.529 Q2124.72 320.529 2121.09 316.918 Q2117.48 313.307 2117.48 307.149 Q2117.48 300.784 2120.9 297.057 Q2124.35 293.307 2130.19 293.307 Q2135.42 293.307 2138.45 296.686 Q2141.51 300.043 2141.51 305.83 M2137.25 304.58 Q2137.2 301.085 2135.28 299.001 Q2133.38 296.918 2130.23 296.918 Q2126.67 296.918 2124.51 298.932 Q2122.39 300.946 2122.06 304.603 L2137.25 304.58 Z\" fill=\"#000000\" fill-rule=\"evenodd\" fill-opacity=\"1\" /><path clip-path=\"url(#clip650)\" d=\"M2163.52 297.913 Q2162.8 297.497 2161.95 297.311 Q2161.11 297.103 2160.09 297.103 Q2156.48 297.103 2154.54 299.464 Q2152.62 301.802 2152.62 306.2 L2152.62 319.858 L2148.33 319.858 L2148.33 293.932 L2152.62 293.932 L2152.62 297.96 Q2153.96 295.598 2156.11 294.464 Q2158.26 293.307 2161.34 293.307 Q2161.78 293.307 2162.32 293.376 Q2162.85 293.423 2163.5 293.538 L2163.52 297.913 Z\" fill=\"#000000\" fill-rule=\"evenodd\" fill-opacity=\"1\" /><path clip-path=\"url(#clip650)\" d=\"M2168.54 298.33 L2198.22 298.33 L2198.22 302.219 L2168.54 302.219 L2168.54 298.33 M2168.54 307.774 L2198.22 307.774 L2198.22 311.709 L2168.54 311.709 L2168.54 307.774 Z\" fill=\"#000000\" fill-rule=\"evenodd\" fill-opacity=\"1\" /><path clip-path=\"url(#clip650)\" d=\"M2208.45 319.14 L2208.45 314.881 Q2210.21 315.714 2212.01 316.154 Q2213.82 316.594 2215.56 316.594 Q2220.19 316.594 2222.62 313.492 Q2225.07 310.367 2225.42 304.024 Q2224.07 306.015 2222.01 307.08 Q2219.95 308.145 2217.45 308.145 Q2212.27 308.145 2209.24 305.02 Q2206.23 301.872 2206.23 296.432 Q2206.23 291.108 2209.38 287.89 Q2212.52 284.673 2217.76 284.673 Q2223.75 284.673 2226.9 289.279 Q2230.07 293.862 2230.07 302.612 Q2230.07 310.784 2226.18 315.668 Q2222.32 320.529 2215.76 320.529 Q2214.01 320.529 2212.2 320.182 Q2210.39 319.834 2208.45 319.14 M2217.76 304.487 Q2220.9 304.487 2222.73 302.334 Q2224.58 300.182 2224.58 296.432 Q2224.58 292.705 2222.73 290.552 Q2220.9 288.376 2217.76 288.376 Q2214.61 288.376 2212.76 290.552 Q2210.93 292.705 2210.93 296.432 Q2210.93 300.182 2212.76 302.334 Q2214.61 304.487 2217.76 304.487 Z\" fill=\"#000000\" fill-rule=\"evenodd\" fill-opacity=\"1\" /></svg>\n"
      ]
     },
     "execution_count": 33,
     "metadata": {},
     "output_type": "execute_result"
    }
   ],
   "source": [
    "plot(thetas, err3, label=\"order=3\")\n",
    "plot!(thetas, err5, label=\"order=5\")\n",
    "plot!(thetas, err7, label=\"order=7\")\n",
    "plot!(thetas, err9, label=\"order=9\")"
   ]
  },
  {
   "cell_type": "code",
   "execution_count": 35,
   "metadata": {},
   "outputs": [
    {
     "data": {
      "image/svg+xml": [
       "<?xml version=\"1.0\" encoding=\"utf-8\"?>\n",
       "<svg xmlns=\"http://www.w3.org/2000/svg\" xmlns:xlink=\"http://www.w3.org/1999/xlink\" width=\"600\" height=\"400\" viewBox=\"0 0 2400 1600\">\n",
       "<defs>\n",
       "  <clipPath id=\"clip730\">\n",
       "    <rect x=\"0\" y=\"0\" width=\"2400\" height=\"1600\"/>\n",
       "  </clipPath>\n",
       "</defs>\n",
       "<path clip-path=\"url(#clip730)\" d=\"\n",
       "M0 1600 L2400 1600 L2400 0 L0 0  Z\n",
       "  \" fill=\"#ffffff\" fill-rule=\"evenodd\" fill-opacity=\"1\"/>\n",
       "<defs>\n",
       "  <clipPath id=\"clip731\">\n",
       "    <rect x=\"480\" y=\"0\" width=\"1681\" height=\"1600\"/>\n",
       "  </clipPath>\n",
       "</defs>\n",
       "<path clip-path=\"url(#clip730)\" d=\"\n",
       "M216.598 1486.45 L2352.76 1486.45 L2352.76 47.2441 L216.598 47.2441  Z\n",
       "  \" fill=\"#ffffff\" fill-rule=\"evenodd\" fill-opacity=\"1\"/>\n",
       "<defs>\n",
       "  <clipPath id=\"clip732\">\n",
       "    <rect x=\"216\" y=\"47\" width=\"2137\" height=\"1440\"/>\n",
       "  </clipPath>\n",
       "</defs>\n",
       "<polyline clip-path=\"url(#clip732)\" style=\"stroke:#000000; stroke-linecap:butt; stroke-linejoin:round; stroke-width:2; stroke-opacity:0.1; fill:none\" points=\"\n",
       "  322.469,1486.45 322.469,47.2441 \n",
       "  \"/>\n",
       "<polyline clip-path=\"url(#clip732)\" style=\"stroke:#000000; stroke-linecap:butt; stroke-linejoin:round; stroke-width:2; stroke-opacity:0.1; fill:none\" points=\"\n",
       "  643.205,1486.45 643.205,47.2441 \n",
       "  \"/>\n",
       "<polyline clip-path=\"url(#clip732)\" style=\"stroke:#000000; stroke-linecap:butt; stroke-linejoin:round; stroke-width:2; stroke-opacity:0.1; fill:none\" points=\"\n",
       "  963.941,1486.45 963.941,47.2441 \n",
       "  \"/>\n",
       "<polyline clip-path=\"url(#clip732)\" style=\"stroke:#000000; stroke-linecap:butt; stroke-linejoin:round; stroke-width:2; stroke-opacity:0.1; fill:none\" points=\"\n",
       "  1284.68,1486.45 1284.68,47.2441 \n",
       "  \"/>\n",
       "<polyline clip-path=\"url(#clip732)\" style=\"stroke:#000000; stroke-linecap:butt; stroke-linejoin:round; stroke-width:2; stroke-opacity:0.1; fill:none\" points=\"\n",
       "  1605.41,1486.45 1605.41,47.2441 \n",
       "  \"/>\n",
       "<polyline clip-path=\"url(#clip732)\" style=\"stroke:#000000; stroke-linecap:butt; stroke-linejoin:round; stroke-width:2; stroke-opacity:0.1; fill:none\" points=\"\n",
       "  1926.15,1486.45 1926.15,47.2441 \n",
       "  \"/>\n",
       "<polyline clip-path=\"url(#clip732)\" style=\"stroke:#000000; stroke-linecap:butt; stroke-linejoin:round; stroke-width:2; stroke-opacity:0.1; fill:none\" points=\"\n",
       "  2246.88,1486.45 2246.88,47.2441 \n",
       "  \"/>\n",
       "<polyline clip-path=\"url(#clip730)\" style=\"stroke:#000000; stroke-linecap:butt; stroke-linejoin:round; stroke-width:4; stroke-opacity:1; fill:none\" points=\"\n",
       "  216.598,1486.45 2352.76,1486.45 \n",
       "  \"/>\n",
       "<polyline clip-path=\"url(#clip730)\" style=\"stroke:#000000; stroke-linecap:butt; stroke-linejoin:round; stroke-width:4; stroke-opacity:1; fill:none\" points=\"\n",
       "  322.469,1486.45 322.469,1467.55 \n",
       "  \"/>\n",
       "<polyline clip-path=\"url(#clip730)\" style=\"stroke:#000000; stroke-linecap:butt; stroke-linejoin:round; stroke-width:4; stroke-opacity:1; fill:none\" points=\"\n",
       "  643.205,1486.45 643.205,1467.55 \n",
       "  \"/>\n",
       "<polyline clip-path=\"url(#clip730)\" style=\"stroke:#000000; stroke-linecap:butt; stroke-linejoin:round; stroke-width:4; stroke-opacity:1; fill:none\" points=\"\n",
       "  963.941,1486.45 963.941,1467.55 \n",
       "  \"/>\n",
       "<polyline clip-path=\"url(#clip730)\" style=\"stroke:#000000; stroke-linecap:butt; stroke-linejoin:round; stroke-width:4; stroke-opacity:1; fill:none\" points=\"\n",
       "  1284.68,1486.45 1284.68,1467.55 \n",
       "  \"/>\n",
       "<polyline clip-path=\"url(#clip730)\" style=\"stroke:#000000; stroke-linecap:butt; stroke-linejoin:round; stroke-width:4; stroke-opacity:1; fill:none\" points=\"\n",
       "  1605.41,1486.45 1605.41,1467.55 \n",
       "  \"/>\n",
       "<polyline clip-path=\"url(#clip730)\" style=\"stroke:#000000; stroke-linecap:butt; stroke-linejoin:round; stroke-width:4; stroke-opacity:1; fill:none\" points=\"\n",
       "  1926.15,1486.45 1926.15,1467.55 \n",
       "  \"/>\n",
       "<polyline clip-path=\"url(#clip730)\" style=\"stroke:#000000; stroke-linecap:butt; stroke-linejoin:round; stroke-width:4; stroke-opacity:1; fill:none\" points=\"\n",
       "  2246.88,1486.45 2246.88,1467.55 \n",
       "  \"/>\n",
       "<path clip-path=\"url(#clip730)\" d=\"M291.937 1532.02 L321.613 1532.02 L321.613 1535.95 L291.937 1535.95 L291.937 1532.02 Z\" fill=\"#000000\" fill-rule=\"evenodd\" fill-opacity=\"1\" /><path clip-path=\"url(#clip730)\" d=\"M345.872 1530.21 Q349.228 1530.93 351.103 1533.2 Q353.001 1535.47 353.001 1538.8 Q353.001 1543.92 349.483 1546.72 Q345.964 1549.52 339.483 1549.52 Q337.307 1549.52 334.992 1549.08 Q332.7 1548.66 330.247 1547.81 L330.247 1543.29 Q332.191 1544.43 334.506 1545.01 Q336.821 1545.58 339.344 1545.58 Q343.742 1545.58 346.034 1543.85 Q348.349 1542.11 348.349 1538.8 Q348.349 1535.75 346.196 1534.03 Q344.066 1532.3 340.247 1532.3 L336.219 1532.3 L336.219 1528.45 L340.432 1528.45 Q343.881 1528.45 345.71 1527.09 Q347.538 1525.7 347.538 1523.11 Q347.538 1520.45 345.64 1519.03 Q343.765 1517.6 340.247 1517.6 Q338.325 1517.6 336.126 1518.01 Q333.927 1518.43 331.288 1519.31 L331.288 1515.14 Q333.95 1514.4 336.265 1514.03 Q338.603 1513.66 340.663 1513.66 Q345.987 1513.66 349.089 1516.09 Q352.191 1518.5 352.191 1522.62 Q352.191 1525.49 350.548 1527.48 Q348.904 1529.45 345.872 1530.21 Z\" fill=\"#000000\" fill-rule=\"evenodd\" fill-opacity=\"1\" /><path clip-path=\"url(#clip730)\" d=\"M613.147 1532.02 L642.823 1532.02 L642.823 1535.95 L613.147 1535.95 L613.147 1532.02 Z\" fill=\"#000000\" fill-rule=\"evenodd\" fill-opacity=\"1\" /><path clip-path=\"url(#clip730)\" d=\"M656.943 1544.91 L673.263 1544.91 L673.263 1548.85 L651.318 1548.85 L651.318 1544.91 Q653.98 1542.16 658.564 1537.53 Q663.17 1532.88 664.351 1531.53 Q666.596 1529.01 667.476 1527.27 Q668.378 1525.51 668.378 1523.82 Q668.378 1521.07 666.434 1519.33 Q664.513 1517.6 661.411 1517.6 Q659.212 1517.6 656.758 1518.36 Q654.328 1519.13 651.55 1520.68 L651.55 1515.95 Q654.374 1514.82 656.828 1514.24 Q659.281 1513.66 661.318 1513.66 Q666.689 1513.66 669.883 1516.35 Q673.078 1519.03 673.078 1523.52 Q673.078 1525.65 672.267 1527.57 Q671.48 1529.47 669.374 1532.07 Q668.795 1532.74 665.693 1535.95 Q662.591 1539.15 656.943 1544.91 Z\" fill=\"#000000\" fill-rule=\"evenodd\" fill-opacity=\"1\" /><path clip-path=\"url(#clip730)\" d=\"M933.698 1532.02 L963.374 1532.02 L963.374 1535.95 L933.698 1535.95 L933.698 1532.02 Z\" fill=\"#000000\" fill-rule=\"evenodd\" fill-opacity=\"1\" /><path clip-path=\"url(#clip730)\" d=\"M974.277 1544.91 L981.915 1544.91 L981.915 1518.55 L973.605 1520.21 L973.605 1515.95 L981.869 1514.29 L986.545 1514.29 L986.545 1544.91 L994.184 1544.91 L994.184 1548.85 L974.277 1548.85 L974.277 1544.91 Z\" fill=\"#000000\" fill-rule=\"evenodd\" fill-opacity=\"1\" /><path clip-path=\"url(#clip730)\" d=\"M1284.68 1517.37 Q1281.07 1517.37 1279.24 1520.93 Q1277.43 1524.47 1277.43 1531.6 Q1277.43 1538.71 1279.24 1542.27 Q1281.07 1545.82 1284.68 1545.82 Q1288.31 1545.82 1290.12 1542.27 Q1291.95 1538.71 1291.95 1531.6 Q1291.95 1524.47 1290.12 1520.93 Q1288.31 1517.37 1284.68 1517.37 M1284.68 1513.66 Q1290.49 1513.66 1293.54 1518.27 Q1296.62 1522.85 1296.62 1531.6 Q1296.62 1540.33 1293.54 1544.94 Q1290.49 1549.52 1284.68 1549.52 Q1278.87 1549.52 1275.79 1544.94 Q1272.73 1540.33 1272.73 1531.6 Q1272.73 1522.85 1275.79 1518.27 Q1278.87 1513.66 1284.68 1513.66 Z\" fill=\"#000000\" fill-rule=\"evenodd\" fill-opacity=\"1\" /><path clip-path=\"url(#clip730)\" d=\"M1595.79 1544.91 L1603.43 1544.91 L1603.43 1518.55 L1595.12 1520.21 L1595.12 1515.95 L1603.39 1514.29 L1608.06 1514.29 L1608.06 1544.91 L1615.7 1544.91 L1615.7 1548.85 L1595.79 1548.85 L1595.79 1544.91 Z\" fill=\"#000000\" fill-rule=\"evenodd\" fill-opacity=\"1\" /><path clip-path=\"url(#clip730)\" d=\"M1920.8 1544.91 L1937.12 1544.91 L1937.12 1548.85 L1915.18 1548.85 L1915.18 1544.91 Q1917.84 1542.16 1922.42 1537.53 Q1927.03 1532.88 1928.21 1531.53 Q1930.45 1529.01 1931.33 1527.27 Q1932.24 1525.51 1932.24 1523.82 Q1932.24 1521.07 1930.29 1519.33 Q1928.37 1517.6 1925.27 1517.6 Q1923.07 1517.6 1920.62 1518.36 Q1918.19 1519.13 1915.41 1520.68 L1915.41 1515.95 Q1918.23 1514.82 1920.69 1514.24 Q1923.14 1513.66 1925.18 1513.66 Q1930.55 1513.66 1933.74 1516.35 Q1936.94 1519.03 1936.94 1523.52 Q1936.94 1525.65 1936.13 1527.57 Q1935.34 1529.47 1933.23 1532.07 Q1932.65 1532.74 1929.55 1535.95 Q1926.45 1539.15 1920.8 1544.91 Z\" fill=\"#000000\" fill-rule=\"evenodd\" fill-opacity=\"1\" /><path clip-path=\"url(#clip730)\" d=\"M2251.13 1530.21 Q2254.49 1530.93 2256.36 1533.2 Q2258.26 1535.47 2258.26 1538.8 Q2258.26 1543.92 2254.74 1546.72 Q2251.23 1549.52 2244.74 1549.52 Q2242.57 1549.52 2240.25 1549.08 Q2237.96 1548.66 2235.51 1547.81 L2235.51 1543.29 Q2237.45 1544.43 2239.77 1545.01 Q2242.08 1545.58 2244.6 1545.58 Q2249 1545.58 2251.29 1543.85 Q2253.61 1542.11 2253.61 1538.8 Q2253.61 1535.75 2251.46 1534.03 Q2249.33 1532.3 2245.51 1532.3 L2241.48 1532.3 L2241.48 1528.45 L2245.69 1528.45 Q2249.14 1528.45 2250.97 1527.09 Q2252.8 1525.7 2252.8 1523.11 Q2252.8 1520.45 2250.9 1519.03 Q2249.03 1517.6 2245.51 1517.6 Q2243.59 1517.6 2241.39 1518.01 Q2239.19 1518.43 2236.55 1519.31 L2236.55 1515.14 Q2239.21 1514.4 2241.53 1514.03 Q2243.86 1513.66 2245.92 1513.66 Q2251.25 1513.66 2254.35 1516.09 Q2257.45 1518.5 2257.45 1522.62 Q2257.45 1525.49 2255.81 1527.48 Q2254.16 1529.45 2251.13 1530.21 Z\" fill=\"#000000\" fill-rule=\"evenodd\" fill-opacity=\"1\" /><polyline clip-path=\"url(#clip732)\" style=\"stroke:#000000; stroke-linecap:butt; stroke-linejoin:round; stroke-width:2; stroke-opacity:0.1; fill:none\" points=\"\n",
       "  216.598,1445.72 2352.76,1445.72 \n",
       "  \"/>\n",
       "<polyline clip-path=\"url(#clip732)\" style=\"stroke:#000000; stroke-linecap:butt; stroke-linejoin:round; stroke-width:2; stroke-opacity:0.1; fill:none\" points=\"\n",
       "  216.598,1165.64 2352.76,1165.64 \n",
       "  \"/>\n",
       "<polyline clip-path=\"url(#clip732)\" style=\"stroke:#000000; stroke-linecap:butt; stroke-linejoin:round; stroke-width:2; stroke-opacity:0.1; fill:none\" points=\"\n",
       "  216.598,885.556 2352.76,885.556 \n",
       "  \"/>\n",
       "<polyline clip-path=\"url(#clip732)\" style=\"stroke:#000000; stroke-linecap:butt; stroke-linejoin:round; stroke-width:2; stroke-opacity:0.1; fill:none\" points=\"\n",
       "  216.598,605.477 2352.76,605.477 \n",
       "  \"/>\n",
       "<polyline clip-path=\"url(#clip732)\" style=\"stroke:#000000; stroke-linecap:butt; stroke-linejoin:round; stroke-width:2; stroke-opacity:0.1; fill:none\" points=\"\n",
       "  216.598,325.397 2352.76,325.397 \n",
       "  \"/>\n",
       "<polyline clip-path=\"url(#clip730)\" style=\"stroke:#000000; stroke-linecap:butt; stroke-linejoin:round; stroke-width:4; stroke-opacity:1; fill:none\" points=\"\n",
       "  216.598,1486.45 216.598,47.2441 \n",
       "  \"/>\n",
       "<polyline clip-path=\"url(#clip730)\" style=\"stroke:#000000; stroke-linecap:butt; stroke-linejoin:round; stroke-width:4; stroke-opacity:1; fill:none\" points=\"\n",
       "  216.598,1445.72 235.496,1445.72 \n",
       "  \"/>\n",
       "<polyline clip-path=\"url(#clip730)\" style=\"stroke:#000000; stroke-linecap:butt; stroke-linejoin:round; stroke-width:4; stroke-opacity:1; fill:none\" points=\"\n",
       "  216.598,1165.64 235.496,1165.64 \n",
       "  \"/>\n",
       "<polyline clip-path=\"url(#clip730)\" style=\"stroke:#000000; stroke-linecap:butt; stroke-linejoin:round; stroke-width:4; stroke-opacity:1; fill:none\" points=\"\n",
       "  216.598,885.556 235.496,885.556 \n",
       "  \"/>\n",
       "<polyline clip-path=\"url(#clip730)\" style=\"stroke:#000000; stroke-linecap:butt; stroke-linejoin:round; stroke-width:4; stroke-opacity:1; fill:none\" points=\"\n",
       "  216.598,605.477 235.496,605.477 \n",
       "  \"/>\n",
       "<polyline clip-path=\"url(#clip730)\" style=\"stroke:#000000; stroke-linecap:butt; stroke-linejoin:round; stroke-width:4; stroke-opacity:1; fill:none\" points=\"\n",
       "  216.598,325.397 235.496,325.397 \n",
       "  \"/>\n",
       "<path clip-path=\"url(#clip730)\" d=\"M63.0985 1431.51 Q59.4875 1431.51 57.6588 1435.08 Q55.8532 1438.62 55.8532 1445.75 Q55.8532 1452.86 57.6588 1456.42 Q59.4875 1459.96 63.0985 1459.96 Q66.7328 1459.96 68.5383 1456.42 Q70.367 1452.86 70.367 1445.75 Q70.367 1438.62 68.5383 1435.08 Q66.7328 1431.51 63.0985 1431.51 M63.0985 1427.81 Q68.9087 1427.81 71.9642 1432.42 Q75.0429 1437 75.0429 1445.75 Q75.0429 1454.48 71.9642 1459.08 Q68.9087 1463.67 63.0985 1463.67 Q57.2884 1463.67 54.2097 1459.08 Q51.1542 1454.48 51.1542 1445.75 Q51.1542 1437 54.2097 1432.42 Q57.2884 1427.81 63.0985 1427.81 Z\" fill=\"#000000\" fill-rule=\"evenodd\" fill-opacity=\"1\" /><path clip-path=\"url(#clip730)\" d=\"M83.2605 1457.12 L88.1447 1457.12 L88.1447 1463 L83.2605 1463 L83.2605 1457.12 Z\" fill=\"#000000\" fill-rule=\"evenodd\" fill-opacity=\"1\" /><path clip-path=\"url(#clip730)\" d=\"M108.33 1431.51 Q104.719 1431.51 102.89 1435.08 Q101.084 1438.62 101.084 1445.75 Q101.084 1452.86 102.89 1456.42 Q104.719 1459.96 108.33 1459.96 Q111.964 1459.96 113.77 1456.42 Q115.598 1452.86 115.598 1445.75 Q115.598 1438.62 113.77 1435.08 Q111.964 1431.51 108.33 1431.51 M108.33 1427.81 Q114.14 1427.81 117.195 1432.42 Q120.274 1437 120.274 1445.75 Q120.274 1454.48 117.195 1459.08 Q114.14 1463.67 108.33 1463.67 Q102.52 1463.67 99.4409 1459.08 Q96.3854 1454.48 96.3854 1445.75 Q96.3854 1437 99.4409 1432.42 Q102.52 1427.81 108.33 1427.81 Z\" fill=\"#000000\" fill-rule=\"evenodd\" fill-opacity=\"1\" /><path clip-path=\"url(#clip730)\" d=\"M138.492 1431.51 Q134.881 1431.51 133.052 1435.08 Q131.246 1438.62 131.246 1445.75 Q131.246 1452.86 133.052 1456.42 Q134.881 1459.96 138.492 1459.96 Q142.126 1459.96 143.931 1456.42 Q145.76 1452.86 145.76 1445.75 Q145.76 1438.62 143.931 1435.08 Q142.126 1431.51 138.492 1431.51 M138.492 1427.81 Q144.302 1427.81 147.357 1432.42 Q150.436 1437 150.436 1445.75 Q150.436 1454.48 147.357 1459.08 Q144.302 1463.67 138.492 1463.67 Q132.682 1463.67 129.603 1459.08 Q126.547 1454.48 126.547 1445.75 Q126.547 1437 129.603 1432.42 Q132.682 1427.81 138.492 1427.81 Z\" fill=\"#000000\" fill-rule=\"evenodd\" fill-opacity=\"1\" /><path clip-path=\"url(#clip730)\" d=\"M168.654 1431.51 Q165.042 1431.51 163.214 1435.08 Q161.408 1438.62 161.408 1445.75 Q161.408 1452.86 163.214 1456.42 Q165.042 1459.96 168.654 1459.96 Q172.288 1459.96 174.093 1456.42 Q175.922 1452.86 175.922 1445.75 Q175.922 1438.62 174.093 1435.08 Q172.288 1431.51 168.654 1431.51 M168.654 1427.81 Q174.464 1427.81 177.519 1432.42 Q180.598 1437 180.598 1445.75 Q180.598 1454.48 177.519 1459.08 Q174.464 1463.67 168.654 1463.67 Q162.843 1463.67 159.765 1459.08 Q156.709 1454.48 156.709 1445.75 Q156.709 1437 159.765 1432.42 Q162.843 1427.81 168.654 1427.81 Z\" fill=\"#000000\" fill-rule=\"evenodd\" fill-opacity=\"1\" /><path clip-path=\"url(#clip730)\" d=\"M63.7467 1151.43 Q60.1356 1151.43 58.3069 1155 Q56.5014 1158.54 56.5014 1165.67 Q56.5014 1172.78 58.3069 1176.34 Q60.1356 1179.88 63.7467 1179.88 Q67.3809 1179.88 69.1865 1176.34 Q71.0152 1172.78 71.0152 1165.67 Q71.0152 1158.54 69.1865 1155 Q67.3809 1151.43 63.7467 1151.43 M63.7467 1147.73 Q69.5568 1147.73 72.6124 1152.34 Q75.6911 1156.92 75.6911 1165.67 Q75.6911 1174.4 72.6124 1179 Q69.5568 1183.59 63.7467 1183.59 Q57.9365 1183.59 54.8578 1179 Q51.8023 1174.4 51.8023 1165.67 Q51.8023 1156.92 54.8578 1152.34 Q57.9365 1147.73 63.7467 1147.73 Z\" fill=\"#000000\" fill-rule=\"evenodd\" fill-opacity=\"1\" /><path clip-path=\"url(#clip730)\" d=\"M83.9086 1177.04 L88.7928 1177.04 L88.7928 1182.92 L83.9086 1182.92 L83.9086 1177.04 Z\" fill=\"#000000\" fill-rule=\"evenodd\" fill-opacity=\"1\" /><path clip-path=\"url(#clip730)\" d=\"M108.978 1151.43 Q105.367 1151.43 103.538 1155 Q101.733 1158.54 101.733 1165.67 Q101.733 1172.78 103.538 1176.34 Q105.367 1179.88 108.978 1179.88 Q112.612 1179.88 114.418 1176.34 Q116.246 1172.78 116.246 1165.67 Q116.246 1158.54 114.418 1155 Q112.612 1151.43 108.978 1151.43 M108.978 1147.73 Q114.788 1147.73 117.844 1152.34 Q120.922 1156.92 120.922 1165.67 Q120.922 1174.4 117.844 1179 Q114.788 1183.59 108.978 1183.59 Q103.168 1183.59 100.089 1179 Q97.0335 1174.4 97.0335 1165.67 Q97.0335 1156.92 100.089 1152.34 Q103.168 1147.73 108.978 1147.73 Z\" fill=\"#000000\" fill-rule=\"evenodd\" fill-opacity=\"1\" /><path clip-path=\"url(#clip730)\" d=\"M139.14 1151.43 Q135.529 1151.43 133.7 1155 Q131.894 1158.54 131.894 1165.67 Q131.894 1172.78 133.7 1176.34 Q135.529 1179.88 139.14 1179.88 Q142.774 1179.88 144.58 1176.34 Q146.408 1172.78 146.408 1165.67 Q146.408 1158.54 144.58 1155 Q142.774 1151.43 139.14 1151.43 M139.14 1147.73 Q144.95 1147.73 148.005 1152.34 Q151.084 1156.92 151.084 1165.67 Q151.084 1174.4 148.005 1179 Q144.95 1183.59 139.14 1183.59 Q133.33 1183.59 130.251 1179 Q127.195 1174.4 127.195 1165.67 Q127.195 1156.92 130.251 1152.34 Q133.33 1147.73 139.14 1147.73 Z\" fill=\"#000000\" fill-rule=\"evenodd\" fill-opacity=\"1\" /><path clip-path=\"url(#clip730)\" d=\"M173.468 1164.28 Q176.825 1165 178.7 1167.27 Q180.598 1169.54 180.598 1172.87 Q180.598 1177.99 177.079 1180.79 Q173.561 1183.59 167.079 1183.59 Q164.904 1183.59 162.589 1183.15 Q160.297 1182.73 157.843 1181.87 L157.843 1177.36 Q159.788 1178.49 162.103 1179.07 Q164.417 1179.65 166.941 1179.65 Q171.339 1179.65 173.63 1177.92 Q175.945 1176.18 175.945 1172.87 Q175.945 1169.81 173.792 1168.1 Q171.663 1166.37 167.843 1166.37 L163.816 1166.37 L163.816 1162.52 L168.029 1162.52 Q171.478 1162.52 173.306 1161.16 Q175.135 1159.77 175.135 1157.18 Q175.135 1154.51 173.237 1153.1 Q171.362 1151.67 167.843 1151.67 Q165.922 1151.67 163.723 1152.08 Q161.524 1152.5 158.885 1153.38 L158.885 1149.21 Q161.547 1148.47 163.862 1148.1 Q166.2 1147.73 168.26 1147.73 Q173.584 1147.73 176.686 1150.16 Q179.788 1152.57 179.788 1156.69 Q179.788 1159.56 178.144 1161.55 Q176.501 1163.52 173.468 1164.28 Z\" fill=\"#000000\" fill-rule=\"evenodd\" fill-opacity=\"1\" /><path clip-path=\"url(#clip730)\" d=\"M62.9365 871.355 Q59.3254 871.355 57.4967 874.92 Q55.6912 878.461 55.6912 885.591 Q55.6912 892.697 57.4967 896.262 Q59.3254 899.804 62.9365 899.804 Q66.5707 899.804 68.3763 896.262 Q70.205 892.697 70.205 885.591 Q70.205 878.461 68.3763 874.92 Q66.5707 871.355 62.9365 871.355 M62.9365 867.651 Q68.7467 867.651 71.8022 872.258 Q74.8809 876.841 74.8809 885.591 Q74.8809 894.318 71.8022 898.924 Q68.7467 903.508 62.9365 903.508 Q57.1264 903.508 54.0477 898.924 Q50.9921 894.318 50.9921 885.591 Q50.9921 876.841 54.0477 872.258 Q57.1264 867.651 62.9365 867.651 Z\" fill=\"#000000\" fill-rule=\"evenodd\" fill-opacity=\"1\" /><path clip-path=\"url(#clip730)\" d=\"M83.0984 896.957 L87.9827 896.957 L87.9827 902.836 L83.0984 902.836 L83.0984 896.957 Z\" fill=\"#000000\" fill-rule=\"evenodd\" fill-opacity=\"1\" /><path clip-path=\"url(#clip730)\" d=\"M108.168 871.355 Q104.557 871.355 102.728 874.92 Q100.922 878.461 100.922 885.591 Q100.922 892.697 102.728 896.262 Q104.557 899.804 108.168 899.804 Q111.802 899.804 113.608 896.262 Q115.436 892.697 115.436 885.591 Q115.436 878.461 113.608 874.92 Q111.802 871.355 108.168 871.355 M108.168 867.651 Q113.978 867.651 117.033 872.258 Q120.112 876.841 120.112 885.591 Q120.112 894.318 117.033 898.924 Q113.978 903.508 108.168 903.508 Q102.358 903.508 99.2789 898.924 Q96.2234 894.318 96.2234 885.591 Q96.2234 876.841 99.2789 872.258 Q102.358 867.651 108.168 867.651 Z\" fill=\"#000000\" fill-rule=\"evenodd\" fill-opacity=\"1\" /><path clip-path=\"url(#clip730)\" d=\"M138.33 871.355 Q134.719 871.355 132.89 874.92 Q131.084 878.461 131.084 885.591 Q131.084 892.697 132.89 896.262 Q134.719 899.804 138.33 899.804 Q141.964 899.804 143.769 896.262 Q145.598 892.697 145.598 885.591 Q145.598 878.461 143.769 874.92 Q141.964 871.355 138.33 871.355 M138.33 867.651 Q144.14 867.651 147.195 872.258 Q150.274 876.841 150.274 885.591 Q150.274 894.318 147.195 898.924 Q144.14 903.508 138.33 903.508 Q132.519 903.508 129.441 898.924 Q126.385 894.318 126.385 885.591 Q126.385 876.841 129.441 872.258 Q132.519 867.651 138.33 867.651 Z\" fill=\"#000000\" fill-rule=\"evenodd\" fill-opacity=\"1\" /><path clip-path=\"url(#clip730)\" d=\"M169.07 883.693 Q165.922 883.693 164.07 885.846 Q162.242 887.998 162.242 891.748 Q162.242 895.475 164.07 897.651 Q165.922 899.804 169.07 899.804 Q172.218 899.804 174.047 897.651 Q175.899 895.475 175.899 891.748 Q175.899 887.998 174.047 885.846 Q172.218 883.693 169.07 883.693 M178.353 869.04 L178.353 873.299 Q176.593 872.466 174.788 872.026 Q173.005 871.586 171.246 871.586 Q166.617 871.586 164.163 874.711 Q161.732 877.836 161.385 884.156 Q162.751 882.142 164.811 881.077 Q166.871 879.989 169.348 879.989 Q174.556 879.989 177.566 883.16 Q180.598 886.309 180.598 891.748 Q180.598 897.072 177.45 900.29 Q174.302 903.508 169.07 903.508 Q163.075 903.508 159.904 898.924 Q156.732 894.318 156.732 885.591 Q156.732 877.397 160.621 872.536 Q164.51 867.651 171.061 867.651 Q172.82 867.651 174.603 867.999 Q176.408 868.346 178.353 869.04 Z\" fill=\"#000000\" fill-rule=\"evenodd\" fill-opacity=\"1\" /><path clip-path=\"url(#clip730)\" d=\"M63.2837 591.275 Q59.6726 591.275 57.8439 594.84 Q56.0384 598.382 56.0384 605.511 Q56.0384 612.618 57.8439 616.183 Q59.6726 619.724 63.2837 619.724 Q66.918 619.724 68.7235 616.183 Q70.5522 612.618 70.5522 605.511 Q70.5522 598.382 68.7235 594.84 Q66.918 591.275 63.2837 591.275 M63.2837 587.572 Q69.0939 587.572 72.1494 592.178 Q75.2281 596.761 75.2281 605.511 Q75.2281 614.238 72.1494 618.845 Q69.0939 623.428 63.2837 623.428 Q57.4736 623.428 54.3949 618.845 Q51.3393 614.238 51.3393 605.511 Q51.3393 596.761 54.3949 592.178 Q57.4736 587.572 63.2837 587.572 Z\" fill=\"#000000\" fill-rule=\"evenodd\" fill-opacity=\"1\" /><path clip-path=\"url(#clip730)\" d=\"M83.4457 616.877 L88.3299 616.877 L88.3299 622.757 L83.4457 622.757 L83.4457 616.877 Z\" fill=\"#000000\" fill-rule=\"evenodd\" fill-opacity=\"1\" /><path clip-path=\"url(#clip730)\" d=\"M108.515 591.275 Q104.904 591.275 103.075 594.84 Q101.27 598.382 101.27 605.511 Q101.27 612.618 103.075 616.183 Q104.904 619.724 108.515 619.724 Q112.149 619.724 113.955 616.183 Q115.783 612.618 115.783 605.511 Q115.783 598.382 113.955 594.84 Q112.149 591.275 108.515 591.275 M108.515 587.572 Q114.325 587.572 117.381 592.178 Q120.459 596.761 120.459 605.511 Q120.459 614.238 117.381 618.845 Q114.325 623.428 108.515 623.428 Q102.705 623.428 99.6261 618.845 Q96.5706 614.238 96.5706 605.511 Q96.5706 596.761 99.6261 592.178 Q102.705 587.572 108.515 587.572 Z\" fill=\"#000000\" fill-rule=\"evenodd\" fill-opacity=\"1\" /><path clip-path=\"url(#clip730)\" d=\"M138.677 591.275 Q135.066 591.275 133.237 594.84 Q131.432 598.382 131.432 605.511 Q131.432 612.618 133.237 616.183 Q135.066 619.724 138.677 619.724 Q142.311 619.724 144.117 616.183 Q145.945 612.618 145.945 605.511 Q145.945 598.382 144.117 594.84 Q142.311 591.275 138.677 591.275 M138.677 587.572 Q144.487 587.572 147.543 592.178 Q150.621 596.761 150.621 605.511 Q150.621 614.238 147.543 618.845 Q144.487 623.428 138.677 623.428 Q132.867 623.428 129.788 618.845 Q126.732 614.238 126.732 605.511 Q126.732 596.761 129.788 592.178 Q132.867 587.572 138.677 587.572 Z\" fill=\"#000000\" fill-rule=\"evenodd\" fill-opacity=\"1\" /><path clip-path=\"url(#clip730)\" d=\"M158.978 622.039 L158.978 617.78 Q160.737 618.613 162.542 619.053 Q164.348 619.493 166.084 619.493 Q170.714 619.493 173.144 616.391 Q175.598 613.266 175.945 606.923 Q174.603 608.914 172.542 609.979 Q170.482 611.044 167.982 611.044 Q162.797 611.044 159.765 607.919 Q156.755 604.771 156.755 599.331 Q156.755 594.007 159.904 590.789 Q163.052 587.572 168.283 587.572 Q174.279 587.572 177.427 592.178 Q180.598 596.761 180.598 605.511 Q180.598 613.683 176.709 618.567 Q172.843 623.428 166.292 623.428 Q164.533 623.428 162.728 623.081 Q160.922 622.733 158.978 622.039 M168.283 607.386 Q171.431 607.386 173.26 605.234 Q175.112 603.081 175.112 599.331 Q175.112 595.604 173.26 593.451 Q171.431 591.275 168.283 591.275 Q165.135 591.275 163.283 593.451 Q161.454 595.604 161.454 599.331 Q161.454 603.081 163.283 605.234 Q165.135 607.386 168.283 607.386 Z\" fill=\"#000000\" fill-rule=\"evenodd\" fill-opacity=\"1\" /><path clip-path=\"url(#clip730)\" d=\"M64.6958 311.196 Q61.0847 311.196 59.256 314.76 Q57.4504 318.302 57.4504 325.432 Q57.4504 332.538 59.256 336.103 Q61.0847 339.645 64.6958 339.645 Q68.33 339.645 70.1355 336.103 Q71.9642 332.538 71.9642 325.432 Q71.9642 318.302 70.1355 314.76 Q68.33 311.196 64.6958 311.196 M64.6958 307.492 Q70.5059 307.492 73.5614 312.098 Q76.6401 316.682 76.6401 325.432 Q76.6401 334.158 73.5614 338.765 Q70.5059 343.348 64.6958 343.348 Q58.8856 343.348 55.8069 338.765 Q52.7514 334.158 52.7514 325.432 Q52.7514 316.682 55.8069 312.098 Q58.8856 307.492 64.6958 307.492 Z\" fill=\"#000000\" fill-rule=\"evenodd\" fill-opacity=\"1\" /><path clip-path=\"url(#clip730)\" d=\"M84.8577 336.797 L89.7419 336.797 L89.7419 342.677 L84.8577 342.677 L84.8577 336.797 Z\" fill=\"#000000\" fill-rule=\"evenodd\" fill-opacity=\"1\" /><path clip-path=\"url(#clip730)\" d=\"M109.927 311.196 Q106.316 311.196 104.487 314.76 Q102.682 318.302 102.682 325.432 Q102.682 332.538 104.487 336.103 Q106.316 339.645 109.927 339.645 Q113.561 339.645 115.367 336.103 Q117.195 332.538 117.195 325.432 Q117.195 318.302 115.367 314.76 Q113.561 311.196 109.927 311.196 M109.927 307.492 Q115.737 307.492 118.793 312.098 Q121.871 316.682 121.871 325.432 Q121.871 334.158 118.793 338.765 Q115.737 343.348 109.927 343.348 Q104.117 343.348 101.038 338.765 Q97.9826 334.158 97.9826 325.432 Q97.9826 316.682 101.038 312.098 Q104.117 307.492 109.927 307.492 Z\" fill=\"#000000\" fill-rule=\"evenodd\" fill-opacity=\"1\" /><path clip-path=\"url(#clip730)\" d=\"M130.899 338.742 L138.538 338.742 L138.538 312.376 L130.228 314.043 L130.228 309.784 L138.492 308.117 L143.168 308.117 L143.168 338.742 L150.806 338.742 L150.806 342.677 L130.899 342.677 L130.899 338.742 Z\" fill=\"#000000\" fill-rule=\"evenodd\" fill-opacity=\"1\" /><path clip-path=\"url(#clip730)\" d=\"M164.279 338.742 L180.598 338.742 L180.598 342.677 L158.654 342.677 L158.654 338.742 Q161.316 335.987 165.899 331.358 Q170.505 326.705 171.686 325.362 Q173.931 322.839 174.811 321.103 Q175.714 319.344 175.714 317.654 Q175.714 314.899 173.769 313.163 Q171.848 311.427 168.746 311.427 Q166.547 311.427 164.093 312.191 Q161.663 312.955 158.885 314.506 L158.885 309.784 Q161.709 308.649 164.163 308.071 Q166.617 307.492 168.654 307.492 Q174.024 307.492 177.218 310.177 Q180.413 312.862 180.413 317.353 Q180.413 319.483 179.603 321.404 Q178.816 323.302 176.709 325.895 Q176.13 326.566 173.029 329.783 Q169.927 332.978 164.279 338.742 Z\" fill=\"#000000\" fill-rule=\"evenodd\" fill-opacity=\"1\" /><polyline clip-path=\"url(#clip732)\" style=\"stroke:#009af9; stroke-linecap:butt; stroke-linejoin:round; stroke-width:4; stroke-opacity:1; fill:none\" points=\"\n",
       "  277.055,87.9763 297.208,355.886 317.36,574.971 337.513,753.36 357.665,897.964 377.817,1014.63 397.97,1108.31 418.122,1183.13 438.275,1242.59 458.427,1289.57 \n",
       "  478.58,1326.47 498.732,1355.28 518.884,1377.62 539.037,1394.84 559.189,1408.01 579.342,1418.01 599.494,1425.54 619.647,1431.16 639.799,1435.32 659.951,1438.38 \n",
       "  680.104,1440.59 700.256,1442.18 720.409,1443.31 740.561,1444.1 760.714,1444.65 780.866,1445.02 801.018,1445.27 821.171,1445.44 841.323,1445.54 861.476,1445.61 \n",
       "  881.628,1445.66 901.781,1445.68 921.933,1445.7 942.086,1445.71 962.238,1445.71 982.39,1445.71 1002.54,1445.71 1022.7,1445.72 1042.85,1445.72 1063,1445.72 \n",
       "  1083.15,1445.72 1103.31,1445.72 1123.46,1445.72 1143.61,1445.72 1163.76,1445.72 1183.91,1445.72 1204.07,1445.72 1224.22,1445.72 1244.37,1445.72 1264.52,1445.72 \n",
       "  1284.68,1445.72 1304.83,1445.72 1324.98,1445.72 1345.13,1445.72 1365.29,1445.72 1385.44,1445.72 1405.59,1445.72 1425.74,1445.72 1445.9,1445.72 1466.05,1445.72 \n",
       "  1486.2,1445.72 1506.35,1445.72 1526.51,1445.72 1546.66,1445.72 1566.81,1445.71 1586.96,1445.71 1607.12,1445.71 1627.27,1445.71 1647.42,1445.7 1667.57,1445.68 \n",
       "  1687.73,1445.66 1707.88,1445.61 1728.03,1445.54 1748.18,1445.44 1768.34,1445.27 1788.49,1445.02 1808.64,1444.65 1828.79,1444.1 1848.95,1443.31 1869.1,1442.18 \n",
       "  1889.25,1440.59 1909.4,1438.38 1929.55,1435.32 1949.71,1431.16 1969.86,1425.54 1990.01,1418.01 2010.16,1408.01 2030.32,1394.84 2050.47,1377.62 2070.62,1355.28 \n",
       "  2090.77,1326.47 2110.93,1289.57 2131.08,1242.59 2151.23,1183.13 2171.38,1108.31 2191.54,1014.63 2211.69,897.964 2231.84,753.36 2251.99,574.971 2272.15,355.886 \n",
       "  2292.3,87.9763 \n",
       "  \"/>\n",
       "<path clip-path=\"url(#clip730)\" d=\"\n",
       "M1851.2 198.898 L2281.55 198.898 L2281.55 95.2176 L1851.2 95.2176  Z\n",
       "  \" fill=\"#ffffff\" fill-rule=\"evenodd\" fill-opacity=\"1\"/>\n",
       "<polyline clip-path=\"url(#clip730)\" style=\"stroke:#000000; stroke-linecap:butt; stroke-linejoin:round; stroke-width:4; stroke-opacity:1; fill:none\" points=\"\n",
       "  1851.2,198.898 2281.55,198.898 2281.55,95.2176 1851.2,95.2176 1851.2,198.898 \n",
       "  \"/>\n",
       "<polyline clip-path=\"url(#clip730)\" style=\"stroke:#009af9; stroke-linecap:butt; stroke-linejoin:round; stroke-width:4; stroke-opacity:1; fill:none\" points=\"\n",
       "  1875.2,147.058 2019.2,147.058 \n",
       "  \"/>\n",
       "<path clip-path=\"url(#clip730)\" d=\"M2055.1 141.398 Q2051.68 141.398 2049.69 144.083 Q2047.7 146.745 2047.7 151.398 Q2047.7 156.051 2049.66 158.736 Q2051.65 161.398 2055.1 161.398 Q2058.51 161.398 2060.5 158.713 Q2062.49 156.027 2062.49 151.398 Q2062.49 146.791 2060.5 144.106 Q2058.51 141.398 2055.1 141.398 M2055.1 137.787 Q2060.66 137.787 2063.83 141.398 Q2067 145.009 2067 151.398 Q2067 157.764 2063.83 161.398 Q2060.66 165.009 2055.1 165.009 Q2049.52 165.009 2046.35 161.398 Q2043.2 157.764 2043.2 151.398 Q2043.2 145.009 2046.35 141.398 Q2049.52 137.787 2055.1 137.787 Z\" fill=\"#000000\" fill-rule=\"evenodd\" fill-opacity=\"1\" /><path clip-path=\"url(#clip730)\" d=\"M2089.08 142.393 Q2088.37 141.977 2087.51 141.791 Q2086.68 141.583 2085.66 141.583 Q2082.05 141.583 2080.1 143.944 Q2078.18 146.282 2078.18 150.68 L2078.18 164.338 L2073.9 164.338 L2073.9 138.412 L2078.18 138.412 L2078.18 142.44 Q2079.52 140.078 2081.68 138.944 Q2083.83 137.787 2086.91 137.787 Q2087.35 137.787 2087.88 137.856 Q2088.41 137.903 2089.06 138.018 L2089.08 142.393 Z\" fill=\"#000000\" fill-rule=\"evenodd\" fill-opacity=\"1\" /><path clip-path=\"url(#clip730)\" d=\"M2109.78 142.347 L2109.78 128.319 L2114.04 128.319 L2114.04 164.338 L2109.78 164.338 L2109.78 160.449 Q2108.44 162.763 2106.38 163.898 Q2104.34 165.009 2101.47 165.009 Q2096.77 165.009 2093.81 161.259 Q2090.87 157.509 2090.87 151.398 Q2090.87 145.287 2093.81 141.537 Q2096.77 137.787 2101.47 137.787 Q2104.34 137.787 2106.38 138.921 Q2108.44 140.032 2109.78 142.347 M2095.26 151.398 Q2095.26 156.097 2097.19 158.782 Q2099.13 161.444 2102.51 161.444 Q2105.89 161.444 2107.83 158.782 Q2109.78 156.097 2109.78 151.398 Q2109.78 146.699 2107.83 144.037 Q2105.89 141.352 2102.51 141.352 Q2099.13 141.352 2097.19 144.037 Q2095.26 146.699 2095.26 151.398 Z\" fill=\"#000000\" fill-rule=\"evenodd\" fill-opacity=\"1\" /><path clip-path=\"url(#clip730)\" d=\"M2144.99 150.31 L2144.99 152.393 L2125.4 152.393 Q2125.68 156.791 2128.04 159.106 Q2130.43 161.398 2134.66 161.398 Q2137.12 161.398 2139.41 160.796 Q2141.72 160.194 2143.99 158.99 L2143.99 163.018 Q2141.7 163.99 2139.29 164.5 Q2136.88 165.009 2134.41 165.009 Q2128.2 165.009 2124.57 161.398 Q2120.96 157.787 2120.96 151.629 Q2120.96 145.264 2124.38 141.537 Q2127.83 137.787 2133.67 137.787 Q2138.9 137.787 2141.93 141.166 Q2144.99 144.523 2144.99 150.31 M2140.73 149.06 Q2140.68 145.565 2138.76 143.481 Q2136.86 141.398 2133.71 141.398 Q2130.15 141.398 2128 143.412 Q2125.87 145.426 2125.54 149.083 L2140.73 149.06 Z\" fill=\"#000000\" fill-rule=\"evenodd\" fill-opacity=\"1\" /><path clip-path=\"url(#clip730)\" d=\"M2167 142.393 Q2166.28 141.977 2165.43 141.791 Q2164.59 141.583 2163.57 141.583 Q2159.96 141.583 2158.02 143.944 Q2156.1 146.282 2156.1 150.68 L2156.1 164.338 L2151.81 164.338 L2151.81 138.412 L2156.1 138.412 L2156.1 142.44 Q2157.44 140.078 2159.59 138.944 Q2161.75 137.787 2164.82 137.787 Q2165.26 137.787 2165.8 137.856 Q2166.33 137.903 2166.98 138.018 L2167 142.393 Z\" fill=\"#000000\" fill-rule=\"evenodd\" fill-opacity=\"1\" /><path clip-path=\"url(#clip730)\" d=\"M2172.02 142.81 L2201.7 142.81 L2201.7 146.699 L2172.02 146.699 L2172.02 142.81 M2172.02 152.254 L2201.7 152.254 L2201.7 156.189 L2172.02 156.189 L2172.02 152.254 Z\" fill=\"#000000\" fill-rule=\"evenodd\" fill-opacity=\"1\" /><path clip-path=\"url(#clip730)\" d=\"M2211.93 163.62 L2211.93 159.361 Q2213.69 160.194 2215.5 160.634 Q2217.3 161.074 2219.04 161.074 Q2223.67 161.074 2226.1 157.972 Q2228.55 154.847 2228.9 148.504 Q2227.56 150.495 2225.5 151.56 Q2223.43 152.625 2220.93 152.625 Q2215.75 152.625 2212.72 149.5 Q2209.71 146.352 2209.71 140.912 Q2209.71 135.588 2212.86 132.37 Q2216 129.153 2221.24 129.153 Q2227.23 129.153 2230.38 133.759 Q2233.55 138.342 2233.55 147.092 Q2233.55 155.264 2229.66 160.148 Q2225.8 165.009 2219.25 165.009 Q2217.49 165.009 2215.68 164.662 Q2213.87 164.314 2211.93 163.62 M2221.24 148.967 Q2224.38 148.967 2226.21 146.814 Q2228.06 144.662 2228.06 140.912 Q2228.06 137.185 2226.21 135.032 Q2224.38 132.856 2221.24 132.856 Q2218.09 132.856 2216.24 135.032 Q2214.41 137.185 2214.41 140.912 Q2214.41 144.662 2216.24 146.814 Q2218.09 148.967 2221.24 148.967 Z\" fill=\"#000000\" fill-rule=\"evenodd\" fill-opacity=\"1\" /></svg>\n"
      ]
     },
     "execution_count": 35,
     "metadata": {},
     "output_type": "execute_result"
    }
   ],
   "source": [
    "plot(thetas, err9, label=\"order=9\")"
   ]
  }
 ],
 "metadata": {
  "kernelspec": {
   "display_name": "Julia 1.7.1",
   "language": "julia",
   "name": "julia-1.7"
  },
  "language_info": {
   "file_extension": ".jl",
   "mimetype": "application/julia",
   "name": "julia",
   "version": "1.7.1"
  }
 },
 "nbformat": 4,
 "nbformat_minor": 2
}
