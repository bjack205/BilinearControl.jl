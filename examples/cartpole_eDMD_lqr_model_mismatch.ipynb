{
 "cells": [
  {
   "cell_type": "code",
   "execution_count": 1,
   "metadata": {},
   "outputs": [
    {
     "name": "stderr",
     "output_type": "stream",
     "text": [
      "\u001b[32m\u001b[1m  Activating\u001b[22m\u001b[39m project at `~/.julia/dev/BilinearControl/examples`\n"
     ]
    }
   ],
   "source": [
    "import Pkg; Pkg.activate(joinpath(@__DIR__)); Pkg.instantiate();\n",
    "using BilinearControl\n",
    "using BilinearControl.Problems\n",
    "using BilinearControl.EDMD\n",
    "import RobotDynamics as RD\n",
    "using LinearAlgebra\n",
    "using RobotZoo\n",
    "using JLD2\n",
    "using SparseArrays\n",
    "using Plots\n",
    "using Distributions\n",
    "using Distributions: Normal\n",
    "using Random\n",
    "using FiniteDiff, ForwardDiff\n",
    "using Test"
   ]
  },
  {
   "cell_type": "code",
   "execution_count": 2,
   "metadata": {},
   "outputs": [
    {
     "data": {
      "text/plain": [
       "10"
      ]
     },
     "execution_count": 2,
     "metadata": {},
     "output_type": "execute_result"
    }
   ],
   "source": [
    "Threads.nthreads()"
   ]
  },
  {
   "cell_type": "code",
   "execution_count": 3,
   "metadata": {},
   "outputs": [],
   "source": [
    "include(\"learned_models/edmd_utils.jl\");"
   ]
  },
  {
   "cell_type": "code",
   "execution_count": 4,
   "metadata": {},
   "outputs": [
    {
     "name": "stderr",
     "output_type": "stream",
     "text": [
      "WARNING: using GeometryBasics.Normal in module Main conflicts with an existing identifier.\n",
      "┌ Info: MeshCat server started. You can open the visualizer by visiting the following URL in your browser:\n",
      "│ http://127.0.0.1:8700\n",
      "└ @ MeshCat /home/jeonghun/.julia/packages/MeshCat/Ax8pH/src/visualizer.jl:73\n"
     ]
    },
    {
     "data": {
      "text/plain": [
       "MeshCat Visualizer with path /meshcat/robot/cart/pole at http://127.0.0.1:8700"
      ]
     },
     "execution_count": 4,
     "metadata": {},
     "output_type": "execute_result"
    }
   ],
   "source": [
    "## Visualizer\n",
    "model = RobotZoo.Cartpole()\n",
    "include(joinpath(Problems.VISDIR, \"visualization.jl\"))\n",
    "vis = Visualizer()\n",
    "delete!(vis)\n",
    "set_cartpole!(vis)"
   ]
  },
  {
   "cell_type": "code",
   "execution_count": 5,
   "metadata": {},
   "outputs": [
    {
     "data": {
      "text/html": [
       "    <div style=\"height: 500px; width: 100%; overflow-x: auto; overflow-y: hidden; resize: both\">\n",
       "    <iframe src=\"http://127.0.0.1:8700\" style=\"width: 100%; height: 100%; border: none\"></iframe>\n",
       "    </div>\n"
      ],
      "text/plain": [
       "MeshCat.DisplayedVisualizer(MeshCat.CoreVisualizer(MeshCat.SceneTrees.SceneNode(nothing, nothing, Dict{String, Vector{UInt8}}(), nothing, Dict{String, MeshCat.SceneTrees.SceneNode}(\"meshcat\" => MeshCat.SceneTrees.SceneNode(nothing, nothing, Dict{String, Vector{UInt8}}(), nothing, Dict{String, MeshCat.SceneTrees.SceneNode}(\"robot\" => MeshCat.SceneTrees.SceneNode(nothing, nothing, Dict{String, Vector{UInt8}}(), nothing, Dict{String, MeshCat.SceneTrees.SceneNode}(\"rod\" => MeshCat.SceneTrees.SceneNode(UInt8[0x83, 0xa6, 0x6f, 0x62, 0x6a, 0x65, 0x63, 0x74, 0x84, 0xaa  …  0x2f, 0x72, 0x6f, 0x62, 0x6f, 0x74, 0x2f, 0x72, 0x6f, 0x64], nothing, Dict{String, Vector{UInt8}}(), nothing, Dict{String, MeshCat.SceneTrees.SceneNode}()), \"cart\" => MeshCat.SceneTrees.SceneNode(nothing, nothing, Dict{String, Vector{UInt8}}(), nothing, Dict{String, MeshCat.SceneTrees.SceneNode}(\"pole\" => MeshCat.SceneTrees.SceneNode(nothing, UInt8[0x83, 0xa6, 0x6d, 0x61, 0x74, 0x72, 0x69, 0x78, 0xc7, 0x40  …  0x2f, 0x63, 0x61, 0x72, 0x74, 0x2f, 0x70, 0x6f, 0x6c, 0x65], Dict{String, Vector{UInt8}}(), nothing, Dict{String, MeshCat.SceneTrees.SceneNode}(\"geom\" => MeshCat.SceneTrees.SceneNode(nothing, nothing, Dict{String, Vector{UInt8}}(), nothing, Dict{String, MeshCat.SceneTrees.SceneNode}(\"cyl\" => MeshCat.SceneTrees.SceneNode(UInt8[0x83, 0xa6, 0x6f, 0x62, 0x6a, 0x65, 0x63, 0x74, 0x84, 0xaa  …  0x65, 0x2f, 0x67, 0x65, 0x6f, 0x6d, 0x2f, 0x63, 0x79, 0x6c], nothing, Dict{String, Vector{UInt8}}(), nothing, Dict{String, MeshCat.SceneTrees.SceneNode}()), \"mass\" => MeshCat.SceneTrees.SceneNode(UInt8[0x83, 0xa6, 0x6f, 0x62, 0x6a, 0x65, 0x63, 0x74, 0x84, 0xaa  …  0x2f, 0x67, 0x65, 0x6f, 0x6d, 0x2f, 0x6d, 0x61, 0x73, 0x73], nothing, Dict{String, Vector{UInt8}}(), nothing, Dict{String, MeshCat.SceneTrees.SceneNode}()))))), \"box\" => MeshCat.SceneTrees.SceneNode(UInt8[0x83, 0xa6, 0x6f, 0x62, 0x6a, 0x65, 0x63, 0x74, 0x84, 0xaa  …  0x74, 0x2f, 0x63, 0x61, 0x72, 0x74, 0x2f, 0x62, 0x6f, 0x78], nothing, Dict{String, Vector{UInt8}}(), nothing, Dict{String, MeshCat.SceneTrees.SceneNode}()), \"hinge\" => MeshCat.SceneTrees.SceneNode(UInt8[0x83, 0xa6, 0x6f, 0x62, 0x6a, 0x65, 0x63, 0x74, 0x84, 0xaa  …  0x63, 0x61, 0x72, 0x74, 0x2f, 0x68, 0x69, 0x6e, 0x67, 0x65], nothing, Dict{String, Vector{UInt8}}(), nothing, Dict{String, MeshCat.SceneTrees.SceneNode}()))))))))), Set{Any}(), ip\"127.0.0.1\", 8700))"
      ]
     },
     "execution_count": 5,
     "metadata": {},
     "output_type": "execute_result"
    }
   ],
   "source": [
    "render(vis)"
   ]
  },
  {
   "cell_type": "markdown",
   "metadata": {},
   "source": [
    "# Define Nominal Simulated Cartpole Model"
   ]
  },
  {
   "cell_type": "code",
   "execution_count": 6,
   "metadata": {},
   "outputs": [],
   "source": [
    "model_nom = RobotZoo.Cartpole(mc=1.0, mp=0.2, l=0.5)\n",
    "dmodel_nom = RD.DiscretizedDynamics{RD.RK4}(model_nom);"
   ]
  },
  {
   "cell_type": "markdown",
   "metadata": {},
   "source": [
    "# Define Mismatched \"Real\" Cartpole Model"
   ]
  },
  {
   "cell_type": "code",
   "execution_count": 7,
   "metadata": {},
   "outputs": [],
   "source": [
    "model_mismatch = Cartpole2(mc=1.05, mp=0.19, l=0.52, b=0.02)  # this model has damping\n",
    "dmodel_mismatch = RD.DiscretizedDynamics{RD.RK4}(model_mismatch)\n",
    "tf = 2.0\n",
    "dt = 0.02;"
   ]
  },
  {
   "cell_type": "markdown",
   "metadata": {},
   "source": [
    "# Generate Data From Mismatched Model"
   ]
  },
  {
   "cell_type": "code",
   "execution_count": 8,
   "metadata": {},
   "outputs": [],
   "source": [
    "Random.seed!(1)\n",
    "num_test = 50  # number of trajectories\n",
    "num_train = 50\n",
    "\n",
    "# Generate a stabilizing LQR controller about the top\n",
    "Qlqr = Diagonal([0.2,10,1e-2,1e-2])\n",
    "Rlqr = Diagonal([1e-3])\n",
    "xe = [0,pi,0,0]\n",
    "ue = [0.0]\n",
    "ctrl_lqr = LQRController(dmodel_mismatch, Qlqr, Rlqr, xe, ue, dt)\n",
    "\n",
    "# Sample a bunch of initial conditions for the LQR controller\n",
    "x0_sampler = Product([\n",
    "    Uniform(-1.0,1.0),\n",
    "    Uniform(pi-pi/3,pi+pi/3),\n",
    "    Uniform(-.5,.5),\n",
    "    Uniform(-.5,.5),\n",
    "])\n",
    "\n",
    "initial_conditions_lqr = [rand(x0_sampler) for _ in 1:num_test]\n",
    "initial_conditions_test = [rand(x0_sampler) for _ in 1:num_train]\n",
    "\n",
    "# Create data set\n",
    "X_train, U_train = create_data(dmodel_mismatch, ctrl_lqr, initial_conditions_lqr, tf, dt)\n",
    "X_test, U_test = create_data(dmodel_mismatch, ctrl_lqr, initial_conditions_test, tf, dt);"
   ]
  },
  {
   "cell_type": "code",
   "execution_count": 9,
   "metadata": {},
   "outputs": [],
   "source": [
    "#save data\n",
    "jldsave(joinpath(Problems.DATADIR, \"mismatch_exp_cartpole_lqr_trajectories.jld2\"); \n",
    "    X_train, U_train, X_test, U_test, tf, dt)"
   ]
  },
  {
   "cell_type": "markdown",
   "metadata": {},
   "source": [
    "# Import Training/Test Data"
   ]
  },
  {
   "cell_type": "code",
   "execution_count": 10,
   "metadata": {},
   "outputs": [],
   "source": [
    "lqr_traj = load(joinpath(Problems.DATADIR, \"mismatch_exp_cartpole_lqr_trajectories.jld2\"))\n",
    "\n",
    "X_train = lqr_traj[\"X_train\"]\n",
    "U_train = lqr_traj[\"U_train\"]\n",
    "X_test = lqr_traj[\"X_test\"]\n",
    "U_test = lqr_traj[\"U_test\"]\n",
    "tf = lqr_traj[\"tf\"]\n",
    "dt = lqr_traj[\"dt\"]\n",
    "\n",
    "T_ref = range(0,tf,step=dt);"
   ]
  },
  {
   "cell_type": "markdown",
   "metadata": {},
   "source": [
    "# Fit the Data using Nominal eDMD\n",
    "This uses the standard eDMD model method used in the CalTech paper, which learns a model of the form:\n",
    "\n",
    "$$ x^+ = A x + \\sum_{i=1}^m u_i C_i x $$"
   ]
  },
  {
   "cell_type": "code",
   "execution_count": 11,
   "metadata": {},
   "outputs": [],
   "source": [
    "# Define the basis functions\n",
    "eigfuns = [\"state\", \"sine\", \"cosine\", \"sine\", \"sine\", \"chebyshev\"]\n",
    "eigorders = [[0],[1],[1],[2],[4],[2, 4]];"
   ]
  },
  {
   "cell_type": "code",
   "execution_count": 12,
   "metadata": {},
   "outputs": [],
   "source": [
    "# Fit the data\n",
    "Z_train, Zu_train, kf = build_eigenfunctions(X_train, U_train, eigfuns, eigorders);"
   ]
  },
  {
   "cell_type": "code",
   "execution_count": 13,
   "metadata": {},
   "outputs": [
    {
     "name": "stdout",
     "output_type": "stream",
     "text": [
      "(T, K) = (165000, 2211)\n",
      "issparse(X) = true\n",
      "lambda = 0.0\n"
     ]
    }
   ],
   "source": [
    "# Learn nominal model\n",
    "\n",
    "# A, B, C, g = learn_bilinear_model(X_train, Z_train, Zu_train,\n",
    "#     [\"ridge\", \"na\"]; \n",
    "#     edmd_weights=[1e-6], \n",
    "#     mapping_weights=[0.0], \n",
    "#     algorithm=:qr\n",
    "# );\n",
    "\n",
    "A, B, C, g = learn_bilinear_model(X_train, Z_train, Zu_train,\n",
    "    [\"na\", \"na\"]; \n",
    "    edmd_weights=[0.0], \n",
    "    mapping_weights=[0.0],\n",
    "    algorithm=:qr\n",
    ");"
   ]
  },
  {
   "cell_type": "code",
   "execution_count": 14,
   "metadata": {},
   "outputs": [],
   "source": [
    "# Save model\n",
    "jldsave(joinpath(Problems.DATADIR,\"mismatch_exp_cartpole_lqr_nominal_eDMD_data.jld2\"); A, B, C, g, kf, eigfuns, eigorders, tf, dt)"
   ]
  },
  {
   "cell_type": "markdown",
   "metadata": {},
   "source": [
    "# Import Nominal EDMD Model"
   ]
  },
  {
   "cell_type": "code",
   "execution_count": 15,
   "metadata": {},
   "outputs": [],
   "source": [
    "cartpole_data = load(joinpath(Problems.DATADIR, \"mismatch_exp_cartpole_lqr_nominal_eDMD_data.jld2\"))\n",
    "A_nom = cartpole_data[\"A\"]\n",
    "B_nom = cartpole_data[\"B\"]\n",
    "C_nom = cartpole_data[\"C\"]\n",
    "g = cartpole_data[\"g\"]\n",
    "kf = cartpole_data[\"kf\"]\n",
    "tf = cartpole_data[\"tf\"]\n",
    "dt = cartpole_data[\"dt\"];"
   ]
  },
  {
   "cell_type": "markdown",
   "metadata": {},
   "source": [
    "# Evaluate the Nominal Fit\n",
    "The fit is evaluated using:\n",
    "$$ \\frac{1}{P} \\sum_{j=1}^P || g (A \\varphi(x_j) + \\sum_{i=1}^m u_{j,i} C_i \\varphi(x_j)) - x_j^+ || $$\n",
    "\n",
    "where $y = \\varphi(x)$ is the Koopman transform."
   ]
  },
  {
   "cell_type": "code",
   "execution_count": 16,
   "metadata": {},
   "outputs": [
    {
     "name": "stdout",
     "output_type": "stream",
     "text": [
      "Train Error: 0.003975025791415914\n",
      "Test Error:  0.019254187643156135\n"
     ]
    }
   ],
   "source": [
    "err_train = BilinearControl.EDMD.fiterror(A_nom, B_nom, C_nom, g, kf, X_train, U_train)\n",
    "err_test = BilinearControl.EDMD.fiterror(A_nom, B_nom, C_nom, g, kf, X_test, U_test)\n",
    "println(\"Train Error: \", err_train)\n",
    "println(\"Test Error:  \", err_test)"
   ]
  },
  {
   "cell_type": "markdown",
   "metadata": {},
   "source": [
    "### Define the Bilinear Model"
   ]
  },
  {
   "cell_type": "code",
   "execution_count": 17,
   "metadata": {},
   "outputs": [
    {
     "name": "stdout",
     "output_type": "stream",
     "text": [
      "New state dimension: 33\n"
     ]
    }
   ],
   "source": [
    "model_bilinear = EDMDModel(A_nom,B_nom,C_nom,g,kf,dt,\"cartpole\")\n",
    "n,m = RD.dims(model_bilinear)\n",
    "n0 = originalstatedim(model_bilinear)\n",
    "println(\"New state dimension: \", n)"
   ]
  },
  {
   "cell_type": "markdown",
   "metadata": {},
   "source": [
    "### Compare Linearization\n",
    "To see if the learned model captures the dynamics, we'll evaluate the effective `A` and `B` dynamics Jaocbians of the learned model on the original dynamics, and compare to the nominal Jacobians."
   ]
  },
  {
   "cell_type": "code",
   "execution_count": 18,
   "metadata": {},
   "outputs": [],
   "source": [
    "# Define the equilibrium\n",
    "xe = [0.,pi,0,0]\n",
    "ue = [0.0]\n",
    "ze = RD.KnotPoint{n0,m}(xe,ue,0.0,dt)\n",
    "ye = expandstate(model_bilinear, xe);"
   ]
  },
  {
   "cell_type": "code",
   "execution_count": 19,
   "metadata": {},
   "outputs": [],
   "source": [
    "# True Jacobians\n",
    "J = zeros(n0,n0+m)\n",
    "xn = zeros(n0)\n",
    "RD.jacobian!(RD.InPlace(), RD.ForwardAD(), dmodel_mismatch, J, xn, ze)\n",
    "A_og = J[:,1:n0]\n",
    "B_og = J[:,n0+1:end];"
   ]
  },
  {
   "cell_type": "code",
   "execution_count": 20,
   "metadata": {},
   "outputs": [],
   "source": [
    "# Bilinear Jacobians\n",
    "function dynamics_bilinear(x,u,t,dt)\n",
    "    y = expandstate(model_bilinear, x)\n",
    "    yn = zero(y)\n",
    "    RD.discrete_dynamics!(model_bilinear, yn, y, u, t, dt)\n",
    "    originalstate(model_bilinear, yn)\n",
    "end\n",
    "\n",
    "A_bil_nom = FiniteDiff.finite_difference_jacobian(x->dynamics_bilinear(x,ue,0.0,dt), xe)\n",
    "B_bil_nom = FiniteDiff.finite_difference_jacobian(u->dynamics_bilinear(xe,u,0.0,dt), ue);"
   ]
  },
  {
   "cell_type": "code",
   "execution_count": 21,
   "metadata": {},
   "outputs": [
    {
     "data": {
      "text/plain": [
       "4×4 Matrix{Float64}:\n",
       " 1.0  0.000354162   0.0199962    -4.94693e-6\n",
       " 0.0  1.00445      -7.30812e-6    0.0199379\n",
       " 0.0  0.0353859     0.999619     -0.000376025\n",
       " 0.0  0.444186     -0.000730187   0.99528"
      ]
     },
     "execution_count": 21,
     "metadata": {},
     "output_type": "execute_result"
    }
   ],
   "source": [
    "A_og"
   ]
  },
  {
   "cell_type": "code",
   "execution_count": 22,
   "metadata": {},
   "outputs": [
    {
     "data": {
      "text/plain": [
       "4×4 Matrix{Float64}:\n",
       "   0.168883     8.96936    -1.1639     1.43328\n",
       "  -1.30092     15.0434     -1.85312    2.26346\n",
       " -74.3946     802.866    -104.973    128.296\n",
       " -99.0618    1069.48     -141.111    171.838"
      ]
     },
     "execution_count": 22,
     "metadata": {},
     "output_type": "execute_result"
    }
   ],
   "source": [
    "A_bil_nom"
   ]
  },
  {
   "cell_type": "code",
   "execution_count": 23,
   "metadata": {},
   "outputs": [
    {
     "data": {
      "text/plain": [
       "4×1 Matrix{Float64}:\n",
       " 0.00019038445185762988\n",
       " 0.00036540592879603966\n",
       " 0.019034932370486982\n",
       " 0.03650935049029361"
      ]
     },
     "execution_count": 23,
     "metadata": {},
     "output_type": "execute_result"
    }
   ],
   "source": [
    "B_og"
   ]
  },
  {
   "cell_type": "code",
   "execution_count": 24,
   "metadata": {},
   "outputs": [
    {
     "data": {
      "text/plain": [
       "4×1 Matrix{Float64}:\n",
       " 0.0746724281917599\n",
       " 0.11695125699043274\n",
       " 6.686051579614059\n",
       " 8.914362686715322"
      ]
     },
     "execution_count": 24,
     "metadata": {},
     "output_type": "execute_result"
    }
   ],
   "source": [
    "B_bil_nom"
   ]
  },
  {
   "cell_type": "markdown",
   "metadata": {},
   "source": [
    "# Try Stabilizing Nominal Model using LQR"
   ]
  },
  {
   "cell_type": "code",
   "execution_count": 25,
   "metadata": {},
   "outputs": [],
   "source": [
    "# Calculate LQR Gain \n",
    "Qlqr = Diagonal([1.0,10.0,1e-2,1e-2])\n",
    "Rlqr = Diagonal([1e-4])\n",
    "K_og = dlqr(A_og, B_og, Qlqr, Rlqr)\n",
    "K_bil_nom = dlqr(A_bil_nom, B_bil_nom, Qlqr, Rlqr);"
   ]
  },
  {
   "cell_type": "code",
   "execution_count": 26,
   "metadata": {},
   "outputs": [
    {
     "name": "stdout",
     "output_type": "stream",
     "text": [
      "Stability Summary:\n",
      "  Dynamics  |  Controller  |  is stable? \n",
      "------------|--------------|--------------\n",
      "  Nominal   |  Nominal     |  true\n",
      "  Bilinear  |  Bilinear    |  true\n",
      "  Nominal   |  Bilinear    |  true\n"
     ]
    }
   ],
   "source": [
    "# Evaluate stability\n",
    "isstable_nominal = maximum(abs.(eigvals(A_og - B_og*K_og))) < 1.0\n",
    "isstable_bilinear = maximum(abs.(eigvals(A_bil_nom - B_bil_nom*K_bil_nom))) < 1.0\n",
    "isstable_nominal_with_bilinear = maximum(abs.(eigvals(A_og - B_og*K_bil_nom))) < 1.0\n",
    "\n",
    "println(\"Stability Summary:\")\n",
    "println(\"  Dynamics  |  Controller  |  is stable? \")\n",
    "println(\"------------|--------------|--------------\")\n",
    "println(\"  Nominal   |  Nominal     |  \", isstable_nominal)\n",
    "println(\"  Bilinear  |  Bilinear    |  \", isstable_bilinear)\n",
    "println(\"  Nominal   |  Bilinear    |  \", isstable_nominal_with_bilinear)"
   ]
  },
  {
   "cell_type": "code",
   "execution_count": 27,
   "metadata": {},
   "outputs": [
    {
     "data": {
      "image/svg+xml": "<?xml version=\"1.0\" encoding=\"utf-8\"?>\n<svg xmlns=\"http://www.w3.org/2000/svg\" xmlns:xlink=\"http://www.w3.org/1999/xlink\" width=\"600\" height=\"400\" viewBox=\"0 0 2400 1600\">\n<defs>\n  <clipPath id=\"clip060\">\n    <rect x=\"0\" y=\"0\" width=\"2400\" height=\"1600\"/>\n  </clipPath>\n</defs>\n<path clip-path=\"url(#clip060)\" d=\"\nM0 1600 L2400 1600 L2400 0 L0 0  Z\n  \" fill=\"#ffffff\" fill-rule=\"evenodd\" fill-opacity=\"1\"/>\n<defs>\n  <clipPath id=\"clip061\">\n    <rect x=\"480\" y=\"0\" width=\"1681\" height=\"1600\"/>\n  </clipPath>\n</defs>\n<path clip-path=\"url(#clip060)\" d=\"\nM174.149 1423.18 L2352.76 1423.18 L2352.76 47.2441 L174.149 47.2441  Z\n  \" fill=\"#ffffff\" fill-rule=\"evenodd\" fill-opacity=\"1\"/>\n<defs>\n  <clipPath id=\"clip062\">\n    <rect x=\"174\" y=\"47\" width=\"2180\" height=\"1377\"/>\n  </clipPath>\n</defs>\n<polyline clip-path=\"url(#clip062)\" style=\"stroke:#000000; stroke-linecap:butt; stroke-linejoin:round; stroke-width:2; stroke-opacity:0.1; fill:none\" points=\"\n  235.808,1423.18 235.808,47.2441 \n  \"/>\n<polyline clip-path=\"url(#clip062)\" style=\"stroke:#000000; stroke-linecap:butt; stroke-linejoin:round; stroke-width:2; stroke-opacity:0.1; fill:none\" points=\"\n  920.904,1423.18 920.904,47.2441 \n  \"/>\n<polyline clip-path=\"url(#clip062)\" style=\"stroke:#000000; stroke-linecap:butt; stroke-linejoin:round; stroke-width:2; stroke-opacity:0.1; fill:none\" points=\"\n  1606,1423.18 1606,47.2441 \n  \"/>\n<polyline clip-path=\"url(#clip062)\" style=\"stroke:#000000; stroke-linecap:butt; stroke-linejoin:round; stroke-width:2; stroke-opacity:0.1; fill:none\" points=\"\n  2291.1,1423.18 2291.1,47.2441 \n  \"/>\n<polyline clip-path=\"url(#clip060)\" style=\"stroke:#000000; stroke-linecap:butt; stroke-linejoin:round; stroke-width:4; stroke-opacity:1; fill:none\" points=\"\n  174.149,1423.18 2352.76,1423.18 \n  \"/>\n<polyline clip-path=\"url(#clip060)\" style=\"stroke:#000000; stroke-linecap:butt; stroke-linejoin:round; stroke-width:4; stroke-opacity:1; fill:none\" points=\"\n  235.808,1423.18 235.808,1404.28 \n  \"/>\n<polyline clip-path=\"url(#clip060)\" style=\"stroke:#000000; stroke-linecap:butt; stroke-linejoin:round; stroke-width:4; stroke-opacity:1; fill:none\" points=\"\n  920.904,1423.18 920.904,1404.28 \n  \"/>\n<polyline clip-path=\"url(#clip060)\" style=\"stroke:#000000; stroke-linecap:butt; stroke-linejoin:round; stroke-width:4; stroke-opacity:1; fill:none\" points=\"\n  1606,1423.18 1606,1404.28 \n  \"/>\n<polyline clip-path=\"url(#clip060)\" style=\"stroke:#000000; stroke-linecap:butt; stroke-linejoin:round; stroke-width:4; stroke-opacity:1; fill:none\" points=\"\n  2291.1,1423.18 2291.1,1404.28 \n  \"/>\n<path clip-path=\"url(#clip060)\" d=\"M235.808 1454.1 Q232.197 1454.1 230.368 1457.66 Q228.562 1461.2 228.562 1468.33 Q228.562 1475.44 230.368 1479.01 Q232.197 1482.55 235.808 1482.55 Q239.442 1482.55 241.247 1479.01 Q243.076 1475.44 243.076 1468.33 Q243.076 1461.2 241.247 1457.66 Q239.442 1454.1 235.808 1454.1 M235.808 1450.39 Q241.618 1450.39 244.673 1455 Q247.752 1459.58 247.752 1468.33 Q247.752 1477.06 244.673 1481.67 Q241.618 1486.25 235.808 1486.25 Q229.997 1486.25 226.919 1481.67 Q223.863 1477.06 223.863 1468.33 Q223.863 1459.58 226.919 1455 Q229.997 1450.39 235.808 1450.39 Z\" fill=\"#000000\" fill-rule=\"evenodd\" fill-opacity=\"1\" /><path clip-path=\"url(#clip060)\" d=\"M911.286 1481.64 L918.925 1481.64 L918.925 1455.28 L910.615 1456.95 L910.615 1452.69 L918.879 1451.02 L923.555 1451.02 L923.555 1481.64 L931.193 1481.64 L931.193 1485.58 L911.286 1485.58 L911.286 1481.64 Z\" fill=\"#000000\" fill-rule=\"evenodd\" fill-opacity=\"1\" /><path clip-path=\"url(#clip060)\" d=\"M1600.65 1481.64 L1616.97 1481.64 L1616.97 1485.58 L1595.03 1485.58 L1595.03 1481.64 Q1597.69 1478.89 1602.27 1474.26 Q1606.88 1469.61 1608.06 1468.27 Q1610.31 1465.74 1611.19 1464.01 Q1612.09 1462.25 1612.09 1460.56 Q1612.09 1457.8 1610.14 1456.07 Q1608.22 1454.33 1605.12 1454.33 Q1602.92 1454.33 1600.47 1455.09 Q1598.04 1455.86 1595.26 1457.41 L1595.26 1452.69 Q1598.08 1451.55 1600.54 1450.97 Q1602.99 1450.39 1605.03 1450.39 Q1610.4 1450.39 1613.59 1453.08 Q1616.79 1455.77 1616.79 1460.26 Q1616.79 1462.39 1615.98 1464.31 Q1615.19 1466.2 1613.08 1468.8 Q1612.51 1469.47 1609.4 1472.69 Q1606.3 1475.88 1600.65 1481.64 Z\" fill=\"#000000\" fill-rule=\"evenodd\" fill-opacity=\"1\" /><path clip-path=\"url(#clip060)\" d=\"M2295.34 1466.95 Q2298.7 1467.66 2300.58 1469.93 Q2302.47 1472.2 2302.47 1475.53 Q2302.47 1480.65 2298.96 1483.45 Q2295.44 1486.25 2288.96 1486.25 Q2286.78 1486.25 2284.47 1485.81 Q2282.17 1485.39 2279.72 1484.54 L2279.72 1480.02 Q2281.66 1481.16 2283.98 1481.74 Q2286.29 1482.32 2288.82 1482.32 Q2293.22 1482.32 2295.51 1480.58 Q2297.82 1478.84 2297.82 1475.53 Q2297.82 1472.48 2295.67 1470.77 Q2293.54 1469.03 2289.72 1469.03 L2285.69 1469.03 L2285.69 1465.19 L2289.91 1465.19 Q2293.35 1465.19 2295.18 1463.82 Q2297.01 1462.43 2297.01 1459.84 Q2297.01 1457.18 2295.11 1455.77 Q2293.24 1454.33 2289.72 1454.33 Q2287.8 1454.33 2285.6 1454.75 Q2283.4 1455.16 2280.76 1456.04 L2280.76 1451.88 Q2283.42 1451.14 2285.74 1450.77 Q2288.08 1450.39 2290.14 1450.39 Q2295.46 1450.39 2298.56 1452.83 Q2301.66 1455.23 2301.66 1459.35 Q2301.66 1462.22 2300.02 1464.21 Q2298.38 1466.18 2295.34 1466.95 Z\" fill=\"#000000\" fill-rule=\"evenodd\" fill-opacity=\"1\" /><path clip-path=\"url(#clip060)\" d=\"M1150.91 1522.27 L1150.91 1532.4 L1162.97 1532.4 L1162.97 1536.95 L1150.91 1536.95 L1150.91 1556.3 Q1150.91 1560.66 1152.08 1561.9 Q1153.29 1563.14 1156.95 1563.14 L1162.97 1563.14 L1162.97 1568.04 L1156.95 1568.04 Q1150.17 1568.04 1147.6 1565.53 Q1145.02 1562.98 1145.02 1556.3 L1145.02 1536.95 L1140.72 1536.95 L1140.72 1532.4 L1145.02 1532.4 L1145.02 1522.27 L1150.91 1522.27 Z\" fill=\"#000000\" fill-rule=\"evenodd\" fill-opacity=\"1\" /><path clip-path=\"url(#clip060)\" d=\"M1170.67 1532.4 L1176.53 1532.4 L1176.53 1568.04 L1170.67 1568.04 L1170.67 1532.4 M1170.67 1518.52 L1176.53 1518.52 L1176.53 1525.93 L1170.67 1525.93 L1170.67 1518.52 Z\" fill=\"#000000\" fill-rule=\"evenodd\" fill-opacity=\"1\" /><path clip-path=\"url(#clip060)\" d=\"M1216.54 1539.24 Q1218.73 1535.29 1221.79 1533.41 Q1224.84 1531.54 1228.98 1531.54 Q1234.55 1531.54 1237.58 1535.45 Q1240.6 1539.33 1240.6 1546.53 L1240.6 1568.04 L1234.71 1568.04 L1234.71 1546.72 Q1234.71 1541.59 1232.9 1539.11 Q1231.08 1536.63 1227.36 1536.63 Q1222.81 1536.63 1220.17 1539.65 Q1217.52 1542.68 1217.52 1547.9 L1217.52 1568.04 L1211.64 1568.04 L1211.64 1546.72 Q1211.64 1541.56 1209.82 1539.11 Q1208.01 1536.63 1204.22 1536.63 Q1199.73 1536.63 1197.09 1539.68 Q1194.45 1542.71 1194.45 1547.9 L1194.45 1568.04 L1188.56 1568.04 L1188.56 1532.4 L1194.45 1532.4 L1194.45 1537.93 Q1196.45 1534.66 1199.25 1533.1 Q1202.06 1531.54 1205.91 1531.54 Q1209.79 1531.54 1212.49 1533.51 Q1215.23 1535.48 1216.54 1539.24 Z\" fill=\"#000000\" fill-rule=\"evenodd\" fill-opacity=\"1\" /><path clip-path=\"url(#clip060)\" d=\"M1282.77 1548.76 L1282.77 1551.62 L1255.85 1551.62 Q1256.23 1557.67 1259.47 1560.85 Q1262.75 1564 1268.58 1564 Q1271.95 1564 1275.1 1563.17 Q1278.28 1562.35 1281.4 1560.69 L1281.4 1566.23 Q1278.25 1567.57 1274.94 1568.27 Q1271.63 1568.97 1268.23 1568.97 Q1259.7 1568.97 1254.7 1564 Q1249.73 1559.04 1249.73 1550.57 Q1249.73 1541.82 1254.44 1536.69 Q1259.19 1531.54 1267.21 1531.54 Q1274.4 1531.54 1278.57 1536.18 Q1282.77 1540.8 1282.77 1548.76 M1276.92 1547.04 Q1276.85 1542.23 1274.21 1539.37 Q1271.6 1536.5 1267.27 1536.5 Q1262.37 1536.5 1259.41 1539.27 Q1256.48 1542.04 1256.04 1547.07 L1276.92 1547.04 Z\" fill=\"#000000\" fill-rule=\"evenodd\" fill-opacity=\"1\" /><path clip-path=\"url(#clip060)\" d=\"M1327.17 1518.58 Q1322.91 1525.9 1320.84 1533.06 Q1318.77 1540.23 1318.77 1547.58 Q1318.77 1554.93 1320.84 1562.16 Q1322.94 1569.35 1327.17 1576.64 L1322.08 1576.64 Q1317.31 1569.16 1314.92 1561.93 Q1312.56 1554.71 1312.56 1547.58 Q1312.56 1540.48 1314.92 1533.29 Q1317.27 1526.09 1322.08 1518.58 L1327.17 1518.58 Z\" fill=\"#000000\" fill-rule=\"evenodd\" fill-opacity=\"1\" /><path clip-path=\"url(#clip060)\" d=\"M1361.26 1533.45 L1361.26 1538.98 Q1358.78 1537.71 1356.11 1537.07 Q1353.43 1536.44 1350.57 1536.44 Q1346.21 1536.44 1344.01 1537.77 Q1341.85 1539.11 1341.85 1541.79 Q1341.85 1543.82 1343.41 1545 Q1344.97 1546.15 1349.68 1547.2 L1351.68 1547.64 Q1357.92 1548.98 1360.53 1551.43 Q1363.17 1553.85 1363.17 1558.21 Q1363.17 1563.17 1359.22 1566.07 Q1355.31 1568.97 1348.43 1568.97 Q1345.57 1568.97 1342.45 1568.39 Q1339.36 1567.85 1335.93 1566.74 L1335.93 1560.69 Q1339.17 1562.38 1342.32 1563.24 Q1345.47 1564.07 1348.56 1564.07 Q1352.7 1564.07 1354.93 1562.66 Q1357.16 1561.23 1357.16 1558.65 Q1357.16 1556.27 1355.53 1554.99 Q1353.94 1553.72 1348.5 1552.54 L1346.46 1552.07 Q1341.02 1550.92 1338.6 1548.56 Q1336.18 1546.18 1336.18 1542.04 Q1336.18 1537.01 1339.75 1534.27 Q1343.31 1531.54 1349.87 1531.54 Q1353.11 1531.54 1355.98 1532.01 Q1358.84 1532.49 1361.26 1533.45 Z\" fill=\"#000000\" fill-rule=\"evenodd\" fill-opacity=\"1\" /><path clip-path=\"url(#clip060)\" d=\"M1371.57 1518.58 L1376.67 1518.58 Q1381.44 1526.09 1383.8 1533.29 Q1386.18 1540.48 1386.18 1547.58 Q1386.18 1554.71 1383.8 1561.93 Q1381.44 1569.16 1376.67 1576.64 L1371.57 1576.64 Q1375.81 1569.35 1377.88 1562.16 Q1379.98 1554.93 1379.98 1547.58 Q1379.98 1540.23 1377.88 1533.06 Q1375.81 1525.9 1371.57 1518.58 Z\" fill=\"#000000\" fill-rule=\"evenodd\" fill-opacity=\"1\" /><polyline clip-path=\"url(#clip062)\" style=\"stroke:#000000; stroke-linecap:butt; stroke-linejoin:round; stroke-width:2; stroke-opacity:0.1; fill:none\" points=\"\n  174.149,1255.05 2352.76,1255.05 \n  \"/>\n<polyline clip-path=\"url(#clip062)\" style=\"stroke:#000000; stroke-linecap:butt; stroke-linejoin:round; stroke-width:2; stroke-opacity:0.1; fill:none\" points=\"\n  174.149,932.086 2352.76,932.086 \n  \"/>\n<polyline clip-path=\"url(#clip062)\" style=\"stroke:#000000; stroke-linecap:butt; stroke-linejoin:round; stroke-width:2; stroke-opacity:0.1; fill:none\" points=\"\n  174.149,609.12 2352.76,609.12 \n  \"/>\n<polyline clip-path=\"url(#clip062)\" style=\"stroke:#000000; stroke-linecap:butt; stroke-linejoin:round; stroke-width:2; stroke-opacity:0.1; fill:none\" points=\"\n  174.149,286.153 2352.76,286.153 \n  \"/>\n<polyline clip-path=\"url(#clip060)\" style=\"stroke:#000000; stroke-linecap:butt; stroke-linejoin:round; stroke-width:4; stroke-opacity:1; fill:none\" points=\"\n  174.149,1423.18 174.149,47.2441 \n  \"/>\n<polyline clip-path=\"url(#clip060)\" style=\"stroke:#000000; stroke-linecap:butt; stroke-linejoin:round; stroke-width:4; stroke-opacity:1; fill:none\" points=\"\n  174.149,1255.05 193.047,1255.05 \n  \"/>\n<polyline clip-path=\"url(#clip060)\" style=\"stroke:#000000; stroke-linecap:butt; stroke-linejoin:round; stroke-width:4; stroke-opacity:1; fill:none\" points=\"\n  174.149,932.086 193.047,932.086 \n  \"/>\n<polyline clip-path=\"url(#clip060)\" style=\"stroke:#000000; stroke-linecap:butt; stroke-linejoin:round; stroke-width:4; stroke-opacity:1; fill:none\" points=\"\n  174.149,609.12 193.047,609.12 \n  \"/>\n<polyline clip-path=\"url(#clip060)\" style=\"stroke:#000000; stroke-linecap:butt; stroke-linejoin:round; stroke-width:4; stroke-opacity:1; fill:none\" points=\"\n  174.149,286.153 193.047,286.153 \n  \"/>\n<path clip-path=\"url(#clip060)\" d=\"M126.205 1240.85 Q122.593 1240.85 120.765 1244.42 Q118.959 1247.96 118.959 1255.09 Q118.959 1262.19 120.765 1265.76 Q122.593 1269.3 126.205 1269.3 Q129.839 1269.3 131.644 1265.76 Q133.473 1262.19 133.473 1255.09 Q133.473 1247.96 131.644 1244.42 Q129.839 1240.85 126.205 1240.85 M126.205 1237.15 Q132.015 1237.15 135.07 1241.75 Q138.149 1246.34 138.149 1255.09 Q138.149 1263.81 135.07 1268.42 Q132.015 1273 126.205 1273 Q120.394 1273 117.316 1268.42 Q114.26 1263.81 114.26 1255.09 Q114.26 1246.34 117.316 1241.75 Q120.394 1237.15 126.205 1237.15 Z\" fill=\"#000000\" fill-rule=\"evenodd\" fill-opacity=\"1\" /><path clip-path=\"url(#clip060)\" d=\"M118.242 945.431 L125.88 945.431 L125.88 919.065 L117.57 920.732 L117.57 916.472 L125.834 914.806 L130.51 914.806 L130.51 945.431 L138.149 945.431 L138.149 949.366 L118.242 949.366 L118.242 945.431 Z\" fill=\"#000000\" fill-rule=\"evenodd\" fill-opacity=\"1\" /><path clip-path=\"url(#clip060)\" d=\"M121.83 622.464 L138.149 622.464 L138.149 626.4 L116.205 626.4 L116.205 622.464 Q118.867 619.71 123.45 615.08 Q128.056 610.427 129.237 609.085 Q131.482 606.562 132.362 604.826 Q133.265 603.066 133.265 601.377 Q133.265 598.622 131.32 596.886 Q129.399 595.15 126.297 595.15 Q124.098 595.15 121.644 595.914 Q119.214 596.677 116.436 598.228 L116.436 593.506 Q119.26 592.372 121.714 591.793 Q124.168 591.215 126.205 591.215 Q131.575 591.215 134.769 593.9 Q137.964 596.585 137.964 601.076 Q137.964 603.205 137.154 605.126 Q136.367 607.025 134.26 609.617 Q133.681 610.288 130.58 613.506 Q127.478 616.701 121.83 622.464 Z\" fill=\"#000000\" fill-rule=\"evenodd\" fill-opacity=\"1\" /><path clip-path=\"url(#clip060)\" d=\"M131.019 284.799 Q134.376 285.517 136.251 287.785 Q138.149 290.054 138.149 293.387 Q138.149 298.503 134.63 301.304 Q131.112 304.105 124.63 304.105 Q122.455 304.105 120.14 303.665 Q117.848 303.248 115.394 302.392 L115.394 297.878 Q117.339 299.012 119.654 299.591 Q121.968 300.17 124.492 300.17 Q128.89 300.17 131.181 298.433 Q133.496 296.697 133.496 293.387 Q133.496 290.332 131.343 288.619 Q129.214 286.883 125.394 286.883 L121.367 286.883 L121.367 283.04 L125.58 283.04 Q129.029 283.04 130.857 281.674 Q132.686 280.285 132.686 277.693 Q132.686 275.031 130.788 273.619 Q128.913 272.184 125.394 272.184 Q123.473 272.184 121.274 272.6 Q119.075 273.017 116.436 273.897 L116.436 269.73 Q119.098 268.989 121.413 268.619 Q123.751 268.248 125.811 268.248 Q131.135 268.248 134.237 270.679 Q137.339 273.086 137.339 277.207 Q137.339 280.077 135.695 282.068 Q134.052 284.035 131.019 284.799 Z\" fill=\"#000000\" fill-rule=\"evenodd\" fill-opacity=\"1\" /><path clip-path=\"url(#clip060)\" d=\"M29.4065 806.062 L34.9447 806.062 Q33.6716 808.545 33.035 811.219 Q32.3984 813.892 32.3984 816.757 Q32.3984 821.117 33.7352 823.313 Q35.072 825.478 37.7456 825.478 Q39.7826 825.478 40.9603 823.918 Q42.1061 822.358 43.1565 817.648 L43.6021 815.643 Q44.9389 809.404 47.3897 806.794 Q49.8086 804.153 54.1691 804.153 Q59.1344 804.153 62.0308 808.099 Q64.9272 812.014 64.9272 818.889 Q64.9272 821.754 64.3543 824.873 Q63.8132 827.96 62.6992 831.398 L56.6518 831.398 Q58.3387 828.151 59.198 825 Q60.0256 821.849 60.0256 818.762 Q60.0256 814.624 58.6251 812.396 Q57.1929 810.168 54.6147 810.168 Q52.2276 810.168 50.9545 811.791 Q49.6813 813.383 48.5037 818.826 L48.0262 820.863 Q46.8804 826.305 44.5251 828.724 Q42.138 831.143 38.0002 831.143 Q32.9713 831.143 30.2341 827.578 Q27.4968 824.014 27.4968 817.457 Q27.4968 814.21 27.9743 811.346 Q28.4517 808.481 29.4065 806.062 Z\" fill=\"#000000\" fill-rule=\"evenodd\" fill-opacity=\"1\" /><path clip-path=\"url(#clip060)\" d=\"M18.2347 789.034 L28.3562 789.034 L28.3562 776.971 L32.9077 776.971 L32.9077 789.034 L52.2594 789.034 Q56.6199 789.034 57.8613 787.856 Q59.1026 786.647 59.1026 782.987 L59.1026 776.971 L64.0042 776.971 L64.0042 782.987 Q64.0042 789.766 61.4897 792.344 Q58.9434 794.922 52.2594 794.922 L32.9077 794.922 L32.9077 799.219 L28.3562 799.219 L28.3562 794.922 L18.2347 794.922 L18.2347 789.034 Z\" fill=\"#000000\" fill-rule=\"evenodd\" fill-opacity=\"1\" /><path clip-path=\"url(#clip060)\" d=\"M46.0847 753.068 Q46.0847 760.166 47.7079 762.903 Q49.3312 765.64 53.2461 765.64 Q56.3653 765.64 58.2114 763.603 Q60.0256 761.534 60.0256 758.001 Q60.0256 753.131 56.5881 750.203 Q53.1188 747.243 47.3897 747.243 L46.0847 747.243 L46.0847 753.068 M43.6657 741.387 L64.0042 741.387 L64.0042 747.243 L58.5933 747.243 Q61.8398 749.248 63.3994 752.24 Q64.9272 755.232 64.9272 759.561 Q64.9272 765.035 61.8716 768.282 Q58.7843 771.496 53.6281 771.496 Q47.6125 771.496 44.5569 767.486 Q41.5014 763.444 41.5014 755.455 L41.5014 747.243 L40.9285 747.243 Q36.8862 747.243 34.6901 749.917 Q32.4621 752.559 32.4621 757.365 Q32.4621 760.42 33.1941 763.317 Q33.9262 766.213 35.3903 768.887 L29.9795 768.887 Q28.7381 765.672 28.1334 762.648 Q27.4968 759.624 27.4968 756.76 Q27.4968 749.026 31.5072 745.206 Q35.5176 741.387 43.6657 741.387 Z\" fill=\"#000000\" fill-rule=\"evenodd\" fill-opacity=\"1\" /><path clip-path=\"url(#clip060)\" d=\"M18.2347 723.531 L28.3562 723.531 L28.3562 711.468 L32.9077 711.468 L32.9077 723.531 L52.2594 723.531 Q56.6199 723.531 57.8613 722.353 Q59.1026 721.144 59.1026 717.483 L59.1026 711.468 L64.0042 711.468 L64.0042 717.483 Q64.0042 724.263 61.4897 726.841 Q58.9434 729.419 52.2594 729.419 L32.9077 729.419 L32.9077 733.716 L28.3562 733.716 L28.3562 729.419 L18.2347 729.419 L18.2347 723.531 Z\" fill=\"#000000\" fill-rule=\"evenodd\" fill-opacity=\"1\" /><path clip-path=\"url(#clip060)\" d=\"M44.7161 673.274 L47.5806 673.274 L47.5806 700.201 Q53.6281 699.819 56.8109 696.572 Q59.9619 693.294 59.9619 687.469 Q59.9619 684.095 59.1344 680.944 Q58.3069 677.761 56.6518 674.642 L62.1899 674.642 Q63.5267 677.793 64.227 681.103 Q64.9272 684.414 64.9272 687.819 Q64.9272 696.349 59.9619 701.346 Q54.9967 706.312 46.5303 706.312 Q37.7774 706.312 32.6531 701.601 Q27.4968 696.859 27.4968 688.838 Q27.4968 681.645 32.1438 677.475 Q36.7589 673.274 44.7161 673.274 M42.9973 679.13 Q38.1912 679.194 35.3266 681.836 Q32.4621 684.445 32.4621 688.774 Q32.4621 693.676 35.2312 696.636 Q38.0002 699.564 43.0292 700.01 L42.9973 679.13 Z\" fill=\"#000000\" fill-rule=\"evenodd\" fill-opacity=\"1\" /><path clip-path=\"url(#clip060)\" d=\"M29.4065 640.936 L34.9447 640.936 Q33.6716 643.418 33.035 646.092 Q32.3984 648.766 32.3984 651.63 Q32.3984 655.991 33.7352 658.187 Q35.072 660.351 37.7456 660.351 Q39.7826 660.351 40.9603 658.792 Q42.1061 657.232 43.1565 652.521 L43.6021 650.516 Q44.9389 644.278 47.3897 641.668 Q49.8086 639.026 54.1691 639.026 Q59.1344 639.026 62.0308 642.973 Q64.9272 646.888 64.9272 653.763 Q64.9272 656.627 64.3543 659.747 Q63.8132 662.834 62.6992 666.271 L56.6518 666.271 Q58.3387 663.025 59.198 659.874 Q60.0256 656.723 60.0256 653.635 Q60.0256 649.498 58.6251 647.27 Q57.1929 645.042 54.6147 645.042 Q52.2276 645.042 50.9545 646.665 Q49.6813 648.256 48.5037 653.699 L48.0262 655.736 Q46.8804 661.179 44.5251 663.598 Q42.138 666.017 38.0002 666.017 Q32.9713 666.017 30.2341 662.452 Q27.4968 658.887 27.4968 652.33 Q27.4968 649.084 27.9743 646.219 Q28.4517 643.355 29.4065 640.936 Z\" fill=\"#000000\" fill-rule=\"evenodd\" fill-opacity=\"1\" /><polyline clip-path=\"url(#clip062)\" style=\"stroke:#009af9; stroke-linecap:butt; stroke-linejoin:round; stroke-width:8; stroke-opacity:1; fill:none\" stroke-dasharray=\"32, 20\" points=\"\n  235.808,1384.24 249.51,1373.12 263.211,1342.01 276.913,1297.26 290.615,1247.99 304.317,1202.47 318.019,1164.73 331.721,1135.34 345.423,1113.68 359.125,1098.84 \n  372.827,1089.77 386.529,1085.25 400.231,1083.98 413.933,1084.63 427.635,1086.08 441.337,1087.51 455.038,1088.49 468.74,1088.87 482.442,1088.73 496.144,1088.22 \n  509.846,1087.54 523.548,1086.83 537.25,1086.22 550.952,1085.78 564.654,1085.55 578.356,1085.55 592.058,1085.77 605.76,1086.2 619.462,1086.84 633.164,1087.66 \n  646.866,1088.64 660.567,1089.78 674.269,1091.06 687.971,1092.47 701.673,1094 715.375,1095.64 729.077,1097.38 742.779,1099.21 756.481,1101.14 770.183,1103.15 \n  783.885,1105.23 797.587,1107.38 811.289,1109.59 824.991,1111.86 838.693,1114.19 852.394,1116.55 866.096,1118.96 879.798,1121.41 893.5,1123.88 907.202,1126.38 \n  920.904,1128.91 934.606,1131.45 948.308,1134.01 962.01,1136.57 975.712,1139.15 989.414,1141.72 1003.12,1144.3 1016.82,1146.88 1030.52,1149.44 1044.22,1152 \n  1057.92,1154.55 1071.63,1157.09 1085.33,1159.61 1099.03,1162.11 1112.73,1164.59 1126.43,1167.05 1140.14,1169.48 1153.84,1171.89 1167.54,1174.28 1181.24,1176.63 \n  1194.94,1178.96 1208.64,1181.25 1222.35,1183.51 1236.05,1185.74 1249.75,1187.94 1263.45,1190.1 1277.15,1192.22 1290.86,1194.31 1304.56,1196.36 1318.26,1198.38 \n  1331.96,1200.36 1345.66,1202.29 1359.37,1204.19 1373.07,1206.06 1386.77,1207.88 1400.47,1209.66 1414.17,1211.41 1427.88,1213.11 1441.58,1214.78 1455.28,1216.41 \n  1468.98,1217.99 1482.68,1219.54 1496.39,1221.05 1510.09,1222.53 1523.79,1223.96 1537.49,1225.36 1551.19,1226.72 1564.89,1228.04 1578.6,1229.32 1592.3,1230.57 \n  1606,1231.78 1619.7,1232.96 1633.4,1234.1 1647.11,1235.21 1660.81,1236.28 1674.51,1237.32 1688.21,1238.33 1701.91,1239.3 1715.62,1240.24 1729.32,1241.15 \n  1743.02,1242.03 1756.72,1242.88 1770.42,1243.7 1784.13,1244.49 1797.83,1245.25 1811.53,1245.98 1825.23,1246.69 1838.93,1247.37 1852.64,1248.02 1866.34,1248.65 \n  1880.04,1249.25 1893.74,1249.83 1907.44,1250.38 1921.15,1250.91 1934.85,1251.42 1948.55,1251.9 1962.25,1252.37 1975.95,1252.81 1989.65,1253.23 2003.36,1253.63 \n  2017.06,1254.02 2030.76,1254.38 2044.46,1254.73 2058.16,1255.06 2071.87,1255.37 2085.57,1255.66 2099.27,1255.94 2112.97,1256.2 2126.67,1256.45 2140.38,1256.69 \n  2154.08,1256.91 2167.78,1257.11 2181.48,1257.3 2195.18,1257.48 2208.89,1257.65 2222.59,1257.81 2236.29,1257.95 2249.99,1258.09 2263.69,1258.21 2277.4,1258.32 \n  2291.1,1258.42 \n  \"/>\n<polyline clip-path=\"url(#clip062)\" style=\"stroke:#e26f46; stroke-linecap:butt; stroke-linejoin:round; stroke-width:8; stroke-opacity:1; fill:none\" stroke-dasharray=\"32, 20\" points=\"\n  235.808,465.897 249.51,450.218 263.211,405.567 276.913,339.866 290.615,267.406 304.317,202.895 318.019,153.366 331.721,119.011 345.423,97.8216 359.125,87.5909 \n  372.827,86.1857 386.529,91.4437 400.231,101.134 413.933,113.08 427.635,125.404 441.337,136.758 455.038,146.426 468.74,154.232 482.442,160.365 496.144,165.181 \n  509.846,169.063 523.548,172.342 537.25,175.267 550.952,178.003 564.654,180.65 578.356,183.256 592.058,185.839 605.76,188.398 619.462,190.924 633.164,193.405 \n  646.866,195.832 660.567,198.196 674.269,200.492 687.971,202.716 701.673,204.869 715.375,206.949 729.077,208.958 742.779,210.896 756.481,212.767 770.183,214.571 \n  783.885,216.311 797.587,217.987 811.289,219.601 824.991,221.155 838.693,222.651 852.394,224.089 866.096,225.471 879.798,226.799 893.5,228.074 907.202,229.296 \n  920.904,230.468 934.606,231.591 948.308,232.665 962.01,233.693 975.712,234.675 989.414,235.613 1003.12,236.507 1016.82,237.36 1030.52,238.172 1044.22,238.944 \n  1057.92,239.677 1071.63,240.374 1085.33,241.034 1099.03,241.659 1112.73,242.25 1126.43,242.808 1140.14,243.334 1153.84,243.829 1167.54,244.294 1181.24,244.731 \n  1194.94,245.14 1208.64,245.522 1222.35,245.877 1236.05,246.208 1249.75,246.515 1263.45,246.799 1277.15,247.06 1290.86,247.299 1304.56,247.518 1318.26,247.718 \n  1331.96,247.898 1345.66,248.06 1359.37,248.204 1373.07,248.332 1386.77,248.443 1400.47,248.54 1414.17,248.621 1427.88,248.689 1441.58,248.743 1455.28,248.785 \n  1468.98,248.814 1482.68,248.832 1496.39,248.839 1510.09,248.836 1523.79,248.823 1537.49,248.801 1551.19,248.769 1564.89,248.73 1578.6,248.683 1592.3,248.628 \n  1606,248.567 1619.7,248.499 1633.4,248.425 1647.11,248.345 1660.81,248.26 1674.51,248.171 1688.21,248.076 1701.91,247.978 1715.62,247.876 1729.32,247.77 \n  1743.02,247.661 1756.72,247.549 1770.42,247.435 1784.13,247.318 1797.83,247.199 1811.53,247.078 1825.23,246.956 1838.93,246.832 1852.64,246.707 1866.34,246.582 \n  1880.04,246.455 1893.74,246.328 1907.44,246.2 1921.15,246.073 1934.85,245.945 1948.55,245.817 1962.25,245.69 1975.95,245.563 1989.65,245.437 2003.36,245.311 \n  2017.06,245.186 2030.76,245.061 2044.46,244.938 2058.16,244.816 2071.87,244.695 2085.57,244.575 2099.27,244.457 2112.97,244.34 2126.67,244.224 2140.38,244.11 \n  2154.08,243.998 2167.78,243.887 2181.48,243.777 2195.18,243.67 2208.89,243.564 2222.59,243.46 2236.29,243.358 2249.99,243.258 2263.69,243.159 2277.4,243.063 \n  2291.1,242.968 \n  \"/>\n<polyline clip-path=\"url(#clip062)\" style=\"stroke:#009af9; stroke-linecap:butt; stroke-linejoin:round; stroke-width:8; stroke-opacity:1; fill:none\" points=\"\n  235.808,1384.24 249.51,1379.67 263.211,1366.8 276.913,1347.38 290.615,1323.28 304.317,1296.43 318.019,1268.6 331.721,1241.26 345.423,1215.42 359.125,1191.67 \n  372.827,1170.24 386.529,1151.17 400.231,1134.35 413.933,1119.6 427.635,1106.72 441.337,1095.47 455.038,1085.66 468.74,1077.05 482.442,1069.48 496.144,1062.76 \n  509.846,1056.74 523.548,1051.29 537.25,1046.31 550.952,1041.71 564.654,1037.43 578.356,1033.42 592.058,1029.64 605.76,1026.07 619.462,1022.7 633.164,1019.5 \n  646.866,1016.49 660.567,1013.65 674.269,1010.99 687.971,1008.51 701.673,1006.2 715.375,1004.07 729.077,1002.13 742.779,1000.36 756.481,998.767 770.183,997.349 \n  783.885,996.104 797.587,995.027 811.289,994.116 824.991,993.364 838.693,992.77 852.394,992.327 866.096,992.031 879.798,991.878 893.5,991.863 907.202,991.98 \n  920.904,992.227 934.606,992.596 948.308,993.086 962.01,993.69 975.712,994.405 989.414,995.226 1003.12,996.151 1016.82,997.173 1030.52,998.291 1044.22,999.499 \n  1057.92,1000.8 1071.63,1002.17 1085.33,1003.63 1099.03,1005.17 1112.73,1006.78 1126.43,1008.46 1140.14,1010.21 1153.84,1012.02 1167.54,1013.89 1181.24,1015.82 \n  1194.94,1017.81 1208.64,1019.85 1222.35,1021.94 1236.05,1024.07 1249.75,1026.25 1263.45,1028.47 1277.15,1030.73 1290.86,1033.03 1304.56,1035.36 1318.26,1037.72 \n  1331.96,1040.11 1345.66,1042.54 1359.37,1044.98 1373.07,1047.45 1386.77,1049.94 1400.47,1052.46 1414.17,1054.98 1427.88,1057.53 1441.58,1060.09 1455.28,1062.66 \n  1468.98,1065.24 1482.68,1067.83 1496.39,1070.43 1510.09,1073.03 1523.79,1075.64 1537.49,1078.25 1551.19,1080.86 1564.89,1083.48 1578.6,1086.09 1592.3,1088.7 \n  1606,1091.3 1619.7,1093.9 1633.4,1096.5 1647.11,1099.09 1660.81,1101.66 1674.51,1104.24 1688.21,1106.8 1701.91,1109.35 1715.62,1111.88 1729.32,1114.41 \n  1743.02,1116.92 1756.72,1119.41 1770.42,1121.9 1784.13,1124.36 1797.83,1126.81 1811.53,1129.24 1825.23,1131.66 1838.93,1134.05 1852.64,1136.43 1866.34,1138.78 \n  1880.04,1141.12 1893.74,1143.43 1907.44,1145.73 1921.15,1148 1934.85,1150.25 1948.55,1152.48 1962.25,1154.68 1975.95,1156.87 1989.65,1159.03 2003.36,1161.16 \n  2017.06,1163.27 2030.76,1165.36 2044.46,1167.42 2058.16,1169.46 2071.87,1171.47 2085.57,1173.46 2099.27,1175.42 2112.97,1177.36 2126.67,1179.27 2140.38,1181.15 \n  2154.08,1183.01 2167.78,1184.85 2181.48,1186.66 2195.18,1188.44 2208.89,1190.2 2222.59,1191.93 2236.29,1193.63 2249.99,1195.31 2263.69,1196.96 2277.4,1198.59 \n  2291.1,1200.19 \n  \"/>\n<polyline clip-path=\"url(#clip062)\" style=\"stroke:#e26f46; stroke-linecap:butt; stroke-linejoin:round; stroke-width:8; stroke-opacity:1; fill:none\" points=\"\n  235.808,465.897 249.51,459.943 263.211,443.177 276.913,417.816 290.615,386.305 304.317,351.376 318.019,315.806 331.721,281.986 345.423,251.593 359.125,225.509 \n  372.827,203.979 386.529,186.827 400.231,173.658 413.933,163.981 427.635,157.28 441.337,153.059 455.038,150.855 468.74,150.246 482.442,150.861 496.144,152.378 \n  509.846,154.525 523.548,157.077 537.25,159.856 550.952,162.726 564.654,165.585 578.356,168.364 592.058,171.019 605.76,173.526 619.462,175.875 633.164,178.068 \n  646.866,180.115 660.567,182.029 674.269,183.824 687.971,185.517 701.673,187.122 715.375,188.655 729.077,190.126 742.779,191.547 756.481,192.925 770.183,194.268 \n  783.885,195.581 797.587,196.868 811.289,198.131 824.991,199.373 838.693,200.595 852.394,201.797 866.096,202.98 879.798,204.145 893.5,205.29 907.202,206.416 \n  920.904,207.523 934.606,208.61 948.308,209.678 962.01,210.726 975.712,211.754 989.414,212.762 1003.12,213.751 1016.82,214.72 1030.52,215.669 1044.22,216.599 \n  1057.92,217.51 1071.63,218.401 1085.33,219.273 1099.03,220.127 1112.73,220.962 1126.43,221.779 1140.14,222.578 1153.84,223.359 1167.54,224.122 1181.24,224.868 \n  1194.94,225.597 1208.64,226.309 1222.35,227.004 1236.05,227.683 1249.75,228.345 1263.45,228.992 1277.15,229.622 1290.86,230.237 1304.56,230.837 1318.26,231.421 \n  1331.96,231.991 1345.66,232.546 1359.37,233.086 1373.07,233.612 1386.77,234.124 1400.47,234.622 1414.17,235.106 1427.88,235.577 1441.58,236.035 1455.28,236.48 \n  1468.98,236.912 1482.68,237.331 1496.39,237.738 1510.09,238.133 1523.79,238.516 1537.49,238.887 1551.19,239.247 1564.89,239.595 1578.6,239.932 1592.3,240.258 \n  1606,240.574 1619.7,240.879 1633.4,241.173 1647.11,241.458 1660.81,241.732 1674.51,241.997 1688.21,242.252 1701.91,242.498 1715.62,242.735 1729.32,242.962 \n  1743.02,243.181 1756.72,243.391 1770.42,243.593 1784.13,243.786 1797.83,243.972 1811.53,244.149 1825.23,244.319 1838.93,244.481 1852.64,244.636 1866.34,244.784 \n  1880.04,244.924 1893.74,245.058 1907.44,245.184 1921.15,245.305 1934.85,245.419 1948.55,245.526 1962.25,245.628 1975.95,245.723 1989.65,245.813 2003.36,245.897 \n  2017.06,245.975 2030.76,246.049 2044.46,246.117 2058.16,246.179 2071.87,246.237 2085.57,246.29 2099.27,246.339 2112.97,246.383 2126.67,246.422 2140.38,246.457 \n  2154.08,246.488 2167.78,246.515 2181.48,246.538 2195.18,246.557 2208.89,246.572 2222.59,246.584 2236.29,246.593 2249.99,246.598 2263.69,246.6 2277.4,246.598 \n  2291.1,246.594 \n  \"/>\n<path clip-path=\"url(#clip060)\" d=\"\nM1614.58 838.892 L2280.14 838.892 L2280.14 579.692 L1614.58 579.692  Z\n  \" fill=\"#ffffff\" fill-rule=\"evenodd\" fill-opacity=\"1\"/>\n<polyline clip-path=\"url(#clip060)\" style=\"stroke:#000000; stroke-linecap:butt; stroke-linejoin:round; stroke-width:4; stroke-opacity:1; fill:none\" points=\"\n  1614.58,838.892 2280.14,838.892 2280.14,579.692 1614.58,579.692 1614.58,838.892 \n  \"/>\n<polyline clip-path=\"url(#clip060)\" style=\"stroke:#009af9; stroke-linecap:butt; stroke-linejoin:round; stroke-width:4; stroke-opacity:1; fill:none\" stroke-dasharray=\"16, 10\" points=\"\n  1638.78,631.532 1784.02,631.532 \n  \"/>\n<path clip-path=\"url(#clip060)\" d=\"M1832.88 622.886 L1823.51 635.502 L1833.37 648.812 L1828.34 648.812 L1820.8 638.627 L1813.25 648.812 L1808.23 648.812 L1818.3 635.247 L1809.09 622.886 L1814.11 622.886 L1820.98 632.122 L1827.86 622.886 L1832.88 622.886 Z\" fill=\"#000000\" fill-rule=\"evenodd\" fill-opacity=\"1\" /><path clip-path=\"url(#clip060)\" d=\"M1864.69 612.84 Q1861.59 618.164 1860.08 623.372 Q1858.58 628.581 1858.58 633.928 Q1858.58 639.275 1860.08 644.53 Q1861.61 649.761 1864.69 655.062 L1860.98 655.062 Q1857.51 649.622 1855.78 644.368 Q1854.06 639.113 1854.06 633.928 Q1854.06 628.766 1855.78 623.534 Q1857.49 618.303 1860.98 612.84 L1864.69 612.84 Z\" fill=\"#000000\" fill-rule=\"evenodd\" fill-opacity=\"1\" /><path clip-path=\"url(#clip060)\" d=\"M1883 625.872 Q1879.57 625.872 1877.58 628.557 Q1875.59 631.219 1875.59 635.872 Q1875.59 640.525 1877.56 643.21 Q1879.55 645.872 1883 645.872 Q1886.4 645.872 1888.39 643.187 Q1890.38 640.502 1890.38 635.872 Q1890.38 631.266 1888.39 628.581 Q1886.4 625.872 1883 625.872 M1883 622.261 Q1888.55 622.261 1891.72 625.872 Q1894.9 629.483 1894.9 635.872 Q1894.9 642.238 1891.72 645.872 Q1888.55 649.483 1883 649.483 Q1877.42 649.483 1874.25 645.872 Q1871.1 642.238 1871.1 635.872 Q1871.1 629.483 1874.25 625.872 Q1877.42 622.261 1883 622.261 Z\" fill=\"#000000\" fill-rule=\"evenodd\" fill-opacity=\"1\" /><path clip-path=\"url(#clip060)\" d=\"M1919.02 635.548 Q1919.02 630.919 1917.09 628.372 Q1915.2 625.826 1911.75 625.826 Q1908.32 625.826 1906.4 628.372 Q1904.5 630.919 1904.5 635.548 Q1904.5 640.155 1906.4 642.701 Q1908.32 645.247 1911.75 645.247 Q1915.2 645.247 1917.09 642.701 Q1919.02 640.155 1919.02 635.548 M1923.27 645.594 Q1923.27 652.215 1920.33 655.432 Q1917.4 658.673 1911.33 658.673 Q1909.09 658.673 1907.09 658.326 Q1905.1 658.002 1903.23 657.307 L1903.23 653.164 Q1905.1 654.182 1906.93 654.668 Q1908.76 655.155 1910.66 655.155 Q1914.85 655.155 1916.93 652.955 Q1919.02 650.78 1919.02 646.358 L1919.02 644.252 Q1917.7 646.543 1915.64 647.678 Q1913.58 648.812 1910.71 648.812 Q1905.94 648.812 1903.02 645.178 Q1900.1 641.543 1900.1 635.548 Q1900.1 629.53 1903.02 625.895 Q1905.94 622.261 1910.71 622.261 Q1913.58 622.261 1915.64 623.395 Q1917.7 624.53 1919.02 626.821 L1919.02 622.886 L1923.27 622.886 L1923.27 645.594 Z\" fill=\"#000000\" fill-rule=\"evenodd\" fill-opacity=\"1\" /><path clip-path=\"url(#clip060)\" d=\"M1964.18 626.821 L1964.18 612.794 L1968.44 612.794 L1968.44 648.812 L1964.18 648.812 L1964.18 644.923 Q1962.83 647.238 1960.77 648.372 Q1958.74 649.483 1955.87 649.483 Q1951.17 649.483 1948.21 645.733 Q1945.27 641.983 1945.27 635.872 Q1945.27 629.761 1948.21 626.011 Q1951.17 622.261 1955.87 622.261 Q1958.74 622.261 1960.77 623.395 Q1962.83 624.507 1964.18 626.821 M1949.66 635.872 Q1949.66 640.571 1951.58 643.256 Q1953.53 645.918 1956.91 645.918 Q1960.29 645.918 1962.23 643.256 Q1964.18 640.571 1964.18 635.872 Q1964.18 631.173 1962.23 628.511 Q1960.29 625.826 1956.91 625.826 Q1953.53 625.826 1951.58 628.511 Q1949.66 631.173 1949.66 635.872 Z\" fill=\"#000000\" fill-rule=\"evenodd\" fill-opacity=\"1\" /><path clip-path=\"url(#clip060)\" d=\"M1988 651.219 Q1986.19 655.849 1984.48 657.261 Q1982.77 658.673 1979.89 658.673 L1976.49 658.673 L1976.49 655.108 L1978.99 655.108 Q1980.75 655.108 1981.72 654.275 Q1982.7 653.442 1983.88 650.34 L1984.64 648.395 L1974.15 622.886 L1978.67 622.886 L1986.77 643.164 L1994.87 622.886 L1999.39 622.886 L1988 651.219 Z\" fill=\"#000000\" fill-rule=\"evenodd\" fill-opacity=\"1\" /><path clip-path=\"url(#clip060)\" d=\"M2026.82 633.164 L2026.82 648.812 L2022.56 648.812 L2022.56 633.303 Q2022.56 629.622 2021.12 627.794 Q2019.69 625.965 2016.82 625.965 Q2013.37 625.965 2011.38 628.164 Q2009.39 630.363 2009.39 634.159 L2009.39 648.812 L2005.1 648.812 L2005.1 622.886 L2009.39 622.886 L2009.39 626.914 Q2010.91 624.576 2012.97 623.419 Q2015.06 622.261 2017.76 622.261 Q2022.23 622.261 2024.52 625.039 Q2026.82 627.794 2026.82 633.164 Z\" fill=\"#000000\" fill-rule=\"evenodd\" fill-opacity=\"1\" /><path clip-path=\"url(#clip060)\" d=\"M2047.09 635.78 Q2041.93 635.78 2039.94 636.96 Q2037.95 638.141 2037.95 640.988 Q2037.95 643.256 2039.43 644.599 Q2040.94 645.918 2043.51 645.918 Q2047.05 645.918 2049.18 643.418 Q2051.33 640.895 2051.33 636.729 L2051.33 635.78 L2047.09 635.78 M2055.59 634.02 L2055.59 648.812 L2051.33 648.812 L2051.33 644.877 Q2049.87 647.238 2047.7 648.372 Q2045.52 649.483 2042.37 649.483 Q2038.39 649.483 2036.03 647.261 Q2033.69 645.016 2033.69 641.266 Q2033.69 636.891 2036.61 634.669 Q2039.55 632.446 2045.36 632.446 L2051.33 632.446 L2051.33 632.03 Q2051.33 629.09 2049.39 627.493 Q2047.46 625.872 2043.97 625.872 Q2041.75 625.872 2039.64 626.405 Q2037.53 626.937 2035.59 628.002 L2035.59 624.067 Q2037.93 623.164 2040.13 622.724 Q2042.33 622.261 2044.41 622.261 Q2050.03 622.261 2052.81 625.178 Q2055.59 628.094 2055.59 634.02 Z\" fill=\"#000000\" fill-rule=\"evenodd\" fill-opacity=\"1\" /><path clip-path=\"url(#clip060)\" d=\"M2084.55 627.863 Q2086.14 624.993 2088.37 623.627 Q2090.59 622.261 2093.6 622.261 Q2097.65 622.261 2099.85 625.108 Q2102.05 627.932 2102.05 633.164 L2102.05 648.812 L2097.76 648.812 L2097.76 633.303 Q2097.76 629.576 2096.45 627.77 Q2095.13 625.965 2092.42 625.965 Q2089.11 625.965 2087.19 628.164 Q2085.26 630.363 2085.26 634.159 L2085.26 648.812 L2080.98 648.812 L2080.98 633.303 Q2080.98 629.553 2079.66 627.77 Q2078.34 625.965 2075.59 625.965 Q2072.32 625.965 2070.4 628.187 Q2068.48 630.386 2068.48 634.159 L2068.48 648.812 L2064.2 648.812 L2064.2 622.886 L2068.48 622.886 L2068.48 626.914 Q2069.94 624.53 2071.98 623.395 Q2074.01 622.261 2076.82 622.261 Q2079.64 622.261 2081.61 623.696 Q2083.6 625.132 2084.55 627.863 Z\" fill=\"#000000\" fill-rule=\"evenodd\" fill-opacity=\"1\" /><path clip-path=\"url(#clip060)\" d=\"M2110.54 622.886 L2114.8 622.886 L2114.8 648.812 L2110.54 648.812 L2110.54 622.886 M2110.54 612.794 L2114.8 612.794 L2114.8 618.187 L2110.54 618.187 L2110.54 612.794 Z\" fill=\"#000000\" fill-rule=\"evenodd\" fill-opacity=\"1\" /><path clip-path=\"url(#clip060)\" d=\"M2142.37 623.882 L2142.37 627.863 Q2140.57 626.868 2138.74 626.382 Q2136.93 625.872 2135.08 625.872 Q2130.94 625.872 2128.64 628.511 Q2126.35 631.127 2126.35 635.872 Q2126.35 640.618 2128.64 643.256 Q2130.94 645.872 2135.08 645.872 Q2136.93 645.872 2138.74 645.386 Q2140.57 644.877 2142.37 643.881 L2142.37 647.817 Q2140.59 648.65 2138.67 649.067 Q2136.77 649.483 2134.62 649.483 Q2128.76 649.483 2125.31 645.803 Q2121.86 642.122 2121.86 635.872 Q2121.86 629.53 2125.33 625.895 Q2128.83 622.261 2134.89 622.261 Q2136.86 622.261 2138.74 622.678 Q2140.61 623.071 2142.37 623.882 Z\" fill=\"#000000\" fill-rule=\"evenodd\" fill-opacity=\"1\" /><path clip-path=\"url(#clip060)\" d=\"M2166.31 623.65 L2166.31 627.678 Q2164.5 626.752 2162.56 626.289 Q2160.61 625.826 2158.53 625.826 Q2155.36 625.826 2153.76 626.798 Q2152.19 627.77 2152.19 629.715 Q2152.19 631.196 2153.32 632.053 Q2154.45 632.886 2157.88 633.65 L2159.34 633.974 Q2163.88 634.946 2165.77 636.729 Q2167.69 638.488 2167.69 641.659 Q2167.69 645.27 2164.82 647.377 Q2161.98 649.483 2156.98 649.483 Q2154.89 649.483 2152.63 649.067 Q2150.38 648.673 2147.88 647.863 L2147.88 643.465 Q2150.24 644.692 2152.53 645.317 Q2154.82 645.918 2157.07 645.918 Q2160.08 645.918 2161.7 644.9 Q2163.32 643.858 2163.32 641.983 Q2163.32 640.247 2162.14 639.321 Q2160.98 638.395 2157.02 637.539 L2155.54 637.192 Q2151.58 636.358 2149.82 634.645 Q2148.07 632.909 2148.07 629.9 Q2148.07 626.243 2150.66 624.252 Q2153.25 622.261 2158.02 622.261 Q2160.38 622.261 2162.46 622.608 Q2164.55 622.956 2166.31 623.65 Z\" fill=\"#000000\" fill-rule=\"evenodd\" fill-opacity=\"1\" /><path clip-path=\"url(#clip060)\" d=\"M2173.81 612.84 L2177.51 612.84 Q2180.98 618.303 2182.69 623.534 Q2184.43 628.766 2184.43 633.928 Q2184.43 639.113 2182.69 644.368 Q2180.98 649.622 2177.51 655.062 L2173.81 655.062 Q2176.88 649.761 2178.39 644.53 Q2179.92 639.275 2179.92 633.928 Q2179.92 628.581 2178.39 623.372 Q2176.88 618.164 2173.81 612.84 Z\" fill=\"#000000\" fill-rule=\"evenodd\" fill-opacity=\"1\" /><polyline clip-path=\"url(#clip060)\" style=\"stroke:#e26f46; stroke-linecap:butt; stroke-linejoin:round; stroke-width:4; stroke-opacity:1; fill:none\" stroke-dasharray=\"16, 10\" points=\"\n  1638.78,683.372 1784.02,683.372 \n  \"/>\n<path clip-path=\"url(#clip060)\" d=\"M1827.49 684.217 L1812.74 684.217 Q1813.09 691.138 1814.69 694.078 Q1816.68 697.689 1820.13 697.689 Q1823.6 697.689 1825.52 694.055 Q1827.21 690.86 1827.49 684.217 M1827.42 680.282 Q1826.77 673.708 1825.52 671.393 Q1823.53 667.735 1820.13 667.735 Q1816.59 667.735 1814.71 671.347 Q1813.23 674.263 1812.79 680.282 L1827.42 680.282 M1820.13 664.263 Q1825.68 664.263 1828.85 669.171 Q1832.03 674.055 1832.03 682.712 Q1832.03 691.346 1828.85 696.254 Q1825.68 701.184 1820.13 701.184 Q1814.55 701.184 1811.4 696.254 Q1808.23 691.346 1808.23 682.712 Q1808.23 674.055 1811.4 669.171 Q1814.55 664.263 1820.13 664.263 Z\" fill=\"#000000\" fill-rule=\"evenodd\" fill-opacity=\"1\" /><path clip-path=\"url(#clip060)\" d=\"M1864.39 664.68 Q1861.28 670.004 1859.78 675.212 Q1858.28 680.421 1858.28 685.768 Q1858.28 691.115 1859.78 696.37 Q1861.31 701.601 1864.39 706.902 L1860.68 706.902 Q1857.21 701.462 1855.47 696.208 Q1853.76 690.953 1853.76 685.768 Q1853.76 680.606 1855.47 675.374 Q1857.19 670.143 1860.68 664.68 L1864.39 664.68 Z\" fill=\"#000000\" fill-rule=\"evenodd\" fill-opacity=\"1\" /><path clip-path=\"url(#clip060)\" d=\"M1882.7 677.712 Q1879.27 677.712 1877.28 680.397 Q1875.29 683.059 1875.29 687.712 Q1875.29 692.365 1877.26 695.05 Q1879.25 697.712 1882.7 697.712 Q1886.1 697.712 1888.09 695.027 Q1890.08 692.342 1890.08 687.712 Q1890.08 683.106 1888.09 680.421 Q1886.1 677.712 1882.7 677.712 M1882.7 674.101 Q1888.25 674.101 1891.42 677.712 Q1894.59 681.323 1894.59 687.712 Q1894.59 694.078 1891.42 697.712 Q1888.25 701.323 1882.7 701.323 Q1877.12 701.323 1873.95 697.712 Q1870.8 694.078 1870.8 687.712 Q1870.8 681.323 1873.95 677.712 Q1877.12 674.101 1882.7 674.101 Z\" fill=\"#000000\" fill-rule=\"evenodd\" fill-opacity=\"1\" /><path clip-path=\"url(#clip060)\" d=\"M1918.71 687.388 Q1918.71 682.759 1916.79 680.212 Q1914.9 677.666 1911.45 677.666 Q1908.02 677.666 1906.1 680.212 Q1904.2 682.759 1904.2 687.388 Q1904.2 691.995 1906.1 694.541 Q1908.02 697.087 1911.45 697.087 Q1914.9 697.087 1916.79 694.541 Q1918.71 691.995 1918.71 687.388 M1922.97 697.434 Q1922.97 704.055 1920.03 707.272 Q1917.09 710.513 1911.03 710.513 Q1908.78 710.513 1906.79 710.166 Q1904.8 709.842 1902.93 709.147 L1902.93 705.004 Q1904.8 706.022 1906.63 706.508 Q1908.46 706.995 1910.36 706.995 Q1914.55 706.995 1916.63 704.795 Q1918.71 702.62 1918.71 698.198 L1918.71 696.092 Q1917.4 698.383 1915.33 699.518 Q1913.27 700.652 1910.4 700.652 Q1905.64 700.652 1902.72 697.018 Q1899.8 693.383 1899.8 687.388 Q1899.8 681.37 1902.72 677.735 Q1905.64 674.101 1910.4 674.101 Q1913.27 674.101 1915.33 675.235 Q1917.4 676.37 1918.71 678.661 L1918.71 674.726 L1922.97 674.726 L1922.97 697.434 Z\" fill=\"#000000\" fill-rule=\"evenodd\" fill-opacity=\"1\" /><path clip-path=\"url(#clip060)\" d=\"M1963.88 678.661 L1963.88 664.634 L1968.14 664.634 L1968.14 700.652 L1963.88 700.652 L1963.88 696.763 Q1962.53 699.078 1960.47 700.212 Q1958.44 701.323 1955.57 701.323 Q1950.87 701.323 1947.9 697.573 Q1944.96 693.823 1944.96 687.712 Q1944.96 681.601 1947.9 677.851 Q1950.87 674.101 1955.57 674.101 Q1958.44 674.101 1960.47 675.235 Q1962.53 676.347 1963.88 678.661 M1949.36 687.712 Q1949.36 692.411 1951.28 695.096 Q1953.23 697.758 1956.61 697.758 Q1959.99 697.758 1961.93 695.096 Q1963.88 692.411 1963.88 687.712 Q1963.88 683.013 1961.93 680.351 Q1959.99 677.666 1956.61 677.666 Q1953.23 677.666 1951.28 680.351 Q1949.36 683.013 1949.36 687.712 Z\" fill=\"#000000\" fill-rule=\"evenodd\" fill-opacity=\"1\" /><path clip-path=\"url(#clip060)\" d=\"M1987.7 703.059 Q1985.89 707.689 1984.18 709.101 Q1982.46 710.513 1979.59 710.513 L1976.19 710.513 L1976.19 706.948 L1978.69 706.948 Q1980.45 706.948 1981.42 706.115 Q1982.39 705.282 1983.58 702.18 L1984.34 700.235 L1973.85 674.726 L1978.37 674.726 L1986.47 695.004 L1994.57 674.726 L1999.08 674.726 L1987.7 703.059 Z\" fill=\"#000000\" fill-rule=\"evenodd\" fill-opacity=\"1\" /><path clip-path=\"url(#clip060)\" d=\"M2026.51 685.004 L2026.51 700.652 L2022.26 700.652 L2022.26 685.143 Q2022.26 681.462 2020.82 679.634 Q2019.39 677.805 2016.52 677.805 Q2013.07 677.805 2011.08 680.004 Q2009.08 682.203 2009.08 685.999 L2009.08 700.652 L2004.8 700.652 L2004.8 674.726 L2009.08 674.726 L2009.08 678.754 Q2010.61 676.416 2012.67 675.259 Q2014.76 674.101 2017.46 674.101 Q2021.93 674.101 2024.22 676.879 Q2026.51 679.634 2026.51 685.004 Z\" fill=\"#000000\" fill-rule=\"evenodd\" fill-opacity=\"1\" /><path clip-path=\"url(#clip060)\" d=\"M2046.79 687.62 Q2041.63 687.62 2039.64 688.8 Q2037.65 689.981 2037.65 692.828 Q2037.65 695.096 2039.13 696.439 Q2040.64 697.758 2043.2 697.758 Q2046.75 697.758 2048.88 695.258 Q2051.03 692.735 2051.03 688.569 L2051.03 687.62 L2046.79 687.62 M2055.29 685.86 L2055.29 700.652 L2051.03 700.652 L2051.03 696.717 Q2049.57 699.078 2047.39 700.212 Q2045.22 701.323 2042.07 701.323 Q2038.09 701.323 2035.73 699.101 Q2033.39 696.856 2033.39 693.106 Q2033.39 688.731 2036.31 686.509 Q2039.25 684.286 2045.06 684.286 L2051.03 684.286 L2051.03 683.87 Q2051.03 680.93 2049.08 679.333 Q2047.16 677.712 2043.67 677.712 Q2041.45 677.712 2039.34 678.245 Q2037.23 678.777 2035.29 679.842 L2035.29 675.907 Q2037.63 675.004 2039.83 674.564 Q2042.02 674.101 2044.11 674.101 Q2049.73 674.101 2052.51 677.018 Q2055.29 679.934 2055.29 685.86 Z\" fill=\"#000000\" fill-rule=\"evenodd\" fill-opacity=\"1\" /><path clip-path=\"url(#clip060)\" d=\"M2084.25 679.703 Q2085.84 676.833 2088.07 675.467 Q2090.29 674.101 2093.3 674.101 Q2097.35 674.101 2099.55 676.948 Q2101.75 679.772 2101.75 685.004 L2101.75 700.652 L2097.46 700.652 L2097.46 685.143 Q2097.46 681.416 2096.14 679.61 Q2094.82 677.805 2092.12 677.805 Q2088.81 677.805 2086.88 680.004 Q2084.96 682.203 2084.96 685.999 L2084.96 700.652 L2080.68 700.652 L2080.68 685.143 Q2080.68 681.393 2079.36 679.61 Q2078.04 677.805 2075.29 677.805 Q2072.02 677.805 2070.1 680.027 Q2068.18 682.226 2068.18 685.999 L2068.18 700.652 L2063.9 700.652 L2063.9 674.726 L2068.18 674.726 L2068.18 678.754 Q2069.64 676.37 2071.68 675.235 Q2073.71 674.101 2076.51 674.101 Q2079.34 674.101 2081.31 675.536 Q2083.3 676.972 2084.25 679.703 Z\" fill=\"#000000\" fill-rule=\"evenodd\" fill-opacity=\"1\" /><path clip-path=\"url(#clip060)\" d=\"M2110.24 674.726 L2114.5 674.726 L2114.5 700.652 L2110.24 700.652 L2110.24 674.726 M2110.24 664.634 L2114.5 664.634 L2114.5 670.027 L2110.24 670.027 L2110.24 664.634 Z\" fill=\"#000000\" fill-rule=\"evenodd\" fill-opacity=\"1\" /><path clip-path=\"url(#clip060)\" d=\"M2142.07 675.722 L2142.07 679.703 Q2140.26 678.708 2138.44 678.222 Q2136.63 677.712 2134.78 677.712 Q2130.63 677.712 2128.34 680.351 Q2126.05 682.967 2126.05 687.712 Q2126.05 692.458 2128.34 695.096 Q2130.63 697.712 2134.78 697.712 Q2136.63 697.712 2138.44 697.226 Q2140.26 696.717 2142.07 695.721 L2142.07 699.657 Q2140.29 700.49 2138.37 700.907 Q2136.47 701.323 2134.32 701.323 Q2128.46 701.323 2125.01 697.643 Q2121.56 693.962 2121.56 687.712 Q2121.56 681.37 2125.03 677.735 Q2128.53 674.101 2134.59 674.101 Q2136.56 674.101 2138.44 674.518 Q2140.31 674.911 2142.07 675.722 Z\" fill=\"#000000\" fill-rule=\"evenodd\" fill-opacity=\"1\" /><path clip-path=\"url(#clip060)\" d=\"M2166 675.49 L2166 679.518 Q2164.2 678.592 2162.25 678.129 Q2160.31 677.666 2158.23 677.666 Q2155.06 677.666 2153.46 678.638 Q2151.88 679.61 2151.88 681.555 Q2151.88 683.036 2153.02 683.893 Q2154.15 684.726 2157.58 685.49 L2159.04 685.814 Q2163.57 686.786 2165.47 688.569 Q2167.39 690.328 2167.39 693.499 Q2167.39 697.11 2164.52 699.217 Q2161.68 701.323 2156.68 701.323 Q2154.59 701.323 2152.32 700.907 Q2150.08 700.513 2147.58 699.703 L2147.58 695.305 Q2149.94 696.532 2152.23 697.157 Q2154.52 697.758 2156.77 697.758 Q2159.78 697.758 2161.4 696.74 Q2163.02 695.698 2163.02 693.823 Q2163.02 692.087 2161.84 691.161 Q2160.68 690.235 2156.72 689.379 L2155.24 689.032 Q2151.28 688.198 2149.52 686.485 Q2147.76 684.749 2147.76 681.74 Q2147.76 678.083 2150.36 676.092 Q2152.95 674.101 2157.72 674.101 Q2160.08 674.101 2162.16 674.448 Q2164.25 674.796 2166 675.49 Z\" fill=\"#000000\" fill-rule=\"evenodd\" fill-opacity=\"1\" /><path clip-path=\"url(#clip060)\" d=\"M2173.5 664.68 L2177.21 664.68 Q2180.68 670.143 2182.39 675.374 Q2184.13 680.606 2184.13 685.768 Q2184.13 690.953 2182.39 696.208 Q2180.68 701.462 2177.21 706.902 L2173.5 706.902 Q2176.58 701.601 2178.09 696.37 Q2179.62 691.115 2179.62 685.768 Q2179.62 680.421 2178.09 675.212 Q2176.58 670.004 2173.5 664.68 Z\" fill=\"#000000\" fill-rule=\"evenodd\" fill-opacity=\"1\" /><polyline clip-path=\"url(#clip060)\" style=\"stroke:#009af9; stroke-linecap:butt; stroke-linejoin:round; stroke-width:4; stroke-opacity:1; fill:none\" points=\"\n  1638.78,735.212 1784.02,735.212 \n  \"/>\n<path clip-path=\"url(#clip060)\" d=\"M1832.88 726.566 L1823.51 739.182 L1833.37 752.492 L1828.34 752.492 L1820.8 742.307 L1813.25 752.492 L1808.23 752.492 L1818.3 738.927 L1809.09 726.566 L1814.11 726.566 L1820.98 735.802 L1827.86 726.566 L1832.88 726.566 Z\" fill=\"#000000\" fill-rule=\"evenodd\" fill-opacity=\"1\" /><path clip-path=\"url(#clip060)\" d=\"M1864.69 716.52 Q1861.59 721.844 1860.08 727.052 Q1858.58 732.261 1858.58 737.608 Q1858.58 742.955 1860.08 748.21 Q1861.61 753.441 1864.69 758.742 L1860.98 758.742 Q1857.51 753.302 1855.78 748.048 Q1854.06 742.793 1854.06 737.608 Q1854.06 732.446 1855.78 727.214 Q1857.49 721.983 1860.98 716.52 L1864.69 716.52 Z\" fill=\"#000000\" fill-rule=\"evenodd\" fill-opacity=\"1\" /><path clip-path=\"url(#clip060)\" d=\"M1894.5 736.844 L1894.5 752.492 L1890.24 752.492 L1890.24 736.983 Q1890.24 733.302 1888.81 731.474 Q1887.37 729.645 1884.5 729.645 Q1881.05 729.645 1879.06 731.844 Q1877.07 734.043 1877.07 737.839 L1877.07 752.492 L1872.79 752.492 L1872.79 726.566 L1877.07 726.566 L1877.07 730.594 Q1878.6 728.256 1880.66 727.099 Q1882.74 725.941 1885.45 725.941 Q1889.92 725.941 1892.21 728.719 Q1894.5 731.474 1894.5 736.844 Z\" fill=\"#000000\" fill-rule=\"evenodd\" fill-opacity=\"1\" /><path clip-path=\"url(#clip060)\" d=\"M1913.04 729.552 Q1909.62 729.552 1907.63 732.237 Q1905.64 734.899 1905.64 739.552 Q1905.64 744.205 1907.6 746.89 Q1909.59 749.552 1913.04 749.552 Q1916.45 749.552 1918.44 746.867 Q1920.43 744.182 1920.43 739.552 Q1920.43 734.946 1918.44 732.261 Q1916.45 729.552 1913.04 729.552 M1913.04 725.941 Q1918.6 725.941 1921.77 729.552 Q1924.94 733.163 1924.94 739.552 Q1924.94 745.918 1921.77 749.552 Q1918.6 753.163 1913.04 753.163 Q1907.46 753.163 1904.29 749.552 Q1901.15 745.918 1901.15 739.552 Q1901.15 733.163 1904.29 729.552 Q1907.46 725.941 1913.04 725.941 Z\" fill=\"#000000\" fill-rule=\"evenodd\" fill-opacity=\"1\" /><path clip-path=\"url(#clip060)\" d=\"M1952.19 731.543 Q1953.78 728.673 1956.01 727.307 Q1958.23 725.941 1961.24 725.941 Q1965.29 725.941 1967.49 728.788 Q1969.69 731.612 1969.69 736.844 L1969.69 752.492 L1965.4 752.492 L1965.4 736.983 Q1965.4 733.256 1964.08 731.45 Q1962.77 729.645 1960.06 729.645 Q1956.75 729.645 1954.83 731.844 Q1952.9 734.043 1952.9 737.839 L1952.9 752.492 L1948.62 752.492 L1948.62 736.983 Q1948.62 733.233 1947.3 731.45 Q1945.98 729.645 1943.23 729.645 Q1939.96 729.645 1938.04 731.867 Q1936.12 734.066 1936.12 737.839 L1936.12 752.492 L1931.84 752.492 L1931.84 726.566 L1936.12 726.566 L1936.12 730.594 Q1937.58 728.21 1939.62 727.075 Q1941.65 725.941 1944.46 725.941 Q1947.28 725.941 1949.25 727.376 Q1951.24 728.812 1952.19 731.543 Z\" fill=\"#000000\" fill-rule=\"evenodd\" fill-opacity=\"1\" /><path clip-path=\"url(#clip060)\" d=\"M1978.18 726.566 L1982.44 726.566 L1982.44 752.492 L1978.18 752.492 L1978.18 726.566 M1978.18 716.474 L1982.44 716.474 L1982.44 721.867 L1978.18 721.867 L1978.18 716.474 Z\" fill=\"#000000\" fill-rule=\"evenodd\" fill-opacity=\"1\" /><path clip-path=\"url(#clip060)\" d=\"M2012.9 736.844 L2012.9 752.492 L2008.64 752.492 L2008.64 736.983 Q2008.64 733.302 2007.21 731.474 Q2005.77 729.645 2002.9 729.645 Q1999.45 729.645 1997.46 731.844 Q1995.47 734.043 1995.47 737.839 L1995.47 752.492 L1991.19 752.492 L1991.19 726.566 L1995.47 726.566 L1995.47 730.594 Q1997 728.256 1999.06 727.099 Q2001.14 725.941 2003.85 725.941 Q2008.32 725.941 2010.61 728.719 Q2012.9 731.474 2012.9 736.844 Z\" fill=\"#000000\" fill-rule=\"evenodd\" fill-opacity=\"1\" /><path clip-path=\"url(#clip060)\" d=\"M2033.18 739.46 Q2028.02 739.46 2026.03 740.64 Q2024.04 741.821 2024.04 744.668 Q2024.04 746.936 2025.52 748.279 Q2027.02 749.598 2029.59 749.598 Q2033.14 749.598 2035.26 747.098 Q2037.42 744.575 2037.42 740.409 L2037.42 739.46 L2033.18 739.46 M2041.68 737.7 L2041.68 752.492 L2037.42 752.492 L2037.42 748.557 Q2035.96 750.918 2033.78 752.052 Q2031.61 753.163 2028.46 753.163 Q2024.48 753.163 2022.12 750.941 Q2019.78 748.696 2019.78 744.946 Q2019.78 740.571 2022.7 738.349 Q2025.64 736.126 2031.45 736.126 L2037.42 736.126 L2037.42 735.71 Q2037.42 732.77 2035.47 731.173 Q2033.55 729.552 2030.06 729.552 Q2027.83 729.552 2025.73 730.085 Q2023.62 730.617 2021.68 731.682 L2021.68 727.747 Q2024.01 726.844 2026.21 726.404 Q2028.41 725.941 2030.5 725.941 Q2036.12 725.941 2038.9 728.858 Q2041.68 731.774 2041.68 737.7 Z\" fill=\"#000000\" fill-rule=\"evenodd\" fill-opacity=\"1\" /><path clip-path=\"url(#clip060)\" d=\"M2050.45 716.474 L2054.71 716.474 L2054.71 752.492 L2050.45 752.492 L2050.45 716.474 Z\" fill=\"#000000\" fill-rule=\"evenodd\" fill-opacity=\"1\" /><path clip-path=\"url(#clip060)\" d=\"M2100.87 738.464 L2100.87 740.548 L2081.28 740.548 Q2081.56 744.946 2083.92 747.261 Q2086.31 749.552 2090.54 749.552 Q2093 749.552 2095.29 748.95 Q2097.6 748.348 2099.87 747.145 L2099.87 751.173 Q2097.58 752.145 2095.17 752.654 Q2092.76 753.163 2090.29 753.163 Q2084.08 753.163 2080.45 749.552 Q2076.84 745.941 2076.84 739.784 Q2076.84 733.418 2080.26 729.691 Q2083.71 725.941 2089.55 725.941 Q2094.78 725.941 2097.81 729.321 Q2100.87 732.677 2100.87 738.464 M2096.61 737.214 Q2096.56 733.719 2094.64 731.636 Q2092.74 729.552 2089.59 729.552 Q2086.03 729.552 2083.88 731.566 Q2081.75 733.58 2081.42 737.237 L2096.61 737.214 Z\" fill=\"#000000\" fill-rule=\"evenodd\" fill-opacity=\"1\" /><path clip-path=\"url(#clip060)\" d=\"M2112.72 721.775 L2112.72 748.649 L2118.37 748.649 Q2125.52 748.649 2128.83 745.409 Q2132.16 742.168 2132.16 735.177 Q2132.16 728.233 2128.83 725.015 Q2125.52 721.775 2118.37 721.775 L2112.72 721.775 M2108.04 717.932 L2117.65 717.932 Q2127.69 717.932 2132.39 722.122 Q2137.09 726.288 2137.09 735.177 Q2137.09 744.112 2132.37 748.302 Q2127.65 752.492 2117.65 752.492 L2108.04 752.492 L2108.04 717.932 Z\" fill=\"#000000\" fill-rule=\"evenodd\" fill-opacity=\"1\" /><path clip-path=\"url(#clip060)\" d=\"M2144.55 717.932 L2151.51 717.932 L2160.33 741.45 L2169.2 717.932 L2176.17 717.932 L2176.17 752.492 L2171.61 752.492 L2171.61 722.145 L2162.69 745.848 L2158 745.848 L2149.08 722.145 L2149.08 752.492 L2144.55 752.492 L2144.55 717.932 Z\" fill=\"#000000\" fill-rule=\"evenodd\" fill-opacity=\"1\" /><path clip-path=\"url(#clip060)\" d=\"M2190.13 721.775 L2190.13 748.649 L2195.77 748.649 Q2202.93 748.649 2206.24 745.409 Q2209.57 742.168 2209.57 735.177 Q2209.57 728.233 2206.24 725.015 Q2202.93 721.775 2195.77 721.775 L2190.13 721.775 M2185.45 717.932 L2195.06 717.932 Q2205.1 717.932 2209.8 722.122 Q2214.5 726.288 2214.5 735.177 Q2214.5 744.112 2209.78 748.302 Q2205.06 752.492 2195.06 752.492 L2185.45 752.492 L2185.45 717.932 Z\" fill=\"#000000\" fill-rule=\"evenodd\" fill-opacity=\"1\" /><path clip-path=\"url(#clip060)\" d=\"M2221.1 716.52 L2224.8 716.52 Q2228.27 721.983 2229.99 727.214 Q2231.72 732.446 2231.72 737.608 Q2231.72 742.793 2229.99 748.048 Q2228.27 753.302 2224.8 758.742 L2221.1 758.742 Q2224.18 753.441 2225.68 748.21 Q2227.21 742.955 2227.21 737.608 Q2227.21 732.261 2225.68 727.052 Q2224.18 721.844 2221.1 716.52 Z\" fill=\"#000000\" fill-rule=\"evenodd\" fill-opacity=\"1\" /><polyline clip-path=\"url(#clip060)\" style=\"stroke:#e26f46; stroke-linecap:butt; stroke-linejoin:round; stroke-width:4; stroke-opacity:1; fill:none\" points=\"\n  1638.78,787.052 1784.02,787.052 \n  \"/>\n<path clip-path=\"url(#clip060)\" d=\"M1827.49 787.897 L1812.74 787.897 Q1813.09 794.818 1814.69 797.758 Q1816.68 801.369 1820.13 801.369 Q1823.6 801.369 1825.52 797.735 Q1827.21 794.54 1827.49 787.897 M1827.42 783.962 Q1826.77 777.388 1825.52 775.073 Q1823.53 771.415 1820.13 771.415 Q1816.59 771.415 1814.71 775.027 Q1813.23 777.943 1812.79 783.962 L1827.42 783.962 M1820.13 767.943 Q1825.68 767.943 1828.85 772.851 Q1832.03 777.735 1832.03 786.392 Q1832.03 795.026 1828.85 799.934 Q1825.68 804.864 1820.13 804.864 Q1814.55 804.864 1811.4 799.934 Q1808.23 795.026 1808.23 786.392 Q1808.23 777.735 1811.4 772.851 Q1814.55 767.943 1820.13 767.943 Z\" fill=\"#000000\" fill-rule=\"evenodd\" fill-opacity=\"1\" /><path clip-path=\"url(#clip060)\" d=\"M1864.39 768.36 Q1861.28 773.684 1859.78 778.892 Q1858.28 784.101 1858.28 789.448 Q1858.28 794.795 1859.78 800.05 Q1861.31 805.281 1864.39 810.582 L1860.68 810.582 Q1857.21 805.142 1855.47 799.888 Q1853.76 794.633 1853.76 789.448 Q1853.76 784.286 1855.47 779.054 Q1857.19 773.823 1860.68 768.36 L1864.39 768.36 Z\" fill=\"#000000\" fill-rule=\"evenodd\" fill-opacity=\"1\" /><path clip-path=\"url(#clip060)\" d=\"M1894.2 788.684 L1894.2 804.332 L1889.94 804.332 L1889.94 788.823 Q1889.94 785.142 1888.51 783.314 Q1887.07 781.485 1884.2 781.485 Q1880.75 781.485 1878.76 783.684 Q1876.77 785.883 1876.77 789.679 L1876.77 804.332 L1872.49 804.332 L1872.49 778.406 L1876.77 778.406 L1876.77 782.434 Q1878.3 780.096 1880.36 778.939 Q1882.44 777.781 1885.15 777.781 Q1889.62 777.781 1891.91 780.559 Q1894.2 783.314 1894.2 788.684 Z\" fill=\"#000000\" fill-rule=\"evenodd\" fill-opacity=\"1\" /><path clip-path=\"url(#clip060)\" d=\"M1912.74 781.392 Q1909.32 781.392 1907.33 784.077 Q1905.34 786.739 1905.34 791.392 Q1905.34 796.045 1907.3 798.73 Q1909.29 801.392 1912.74 801.392 Q1916.15 801.392 1918.14 798.707 Q1920.13 796.022 1920.13 791.392 Q1920.13 786.786 1918.14 784.101 Q1916.15 781.392 1912.74 781.392 M1912.74 777.781 Q1918.3 777.781 1921.47 781.392 Q1924.64 785.003 1924.64 791.392 Q1924.64 797.758 1921.47 801.392 Q1918.3 805.003 1912.74 805.003 Q1907.16 805.003 1903.99 801.392 Q1900.84 797.758 1900.84 791.392 Q1900.84 785.003 1903.99 781.392 Q1907.16 777.781 1912.74 777.781 Z\" fill=\"#000000\" fill-rule=\"evenodd\" fill-opacity=\"1\" /><path clip-path=\"url(#clip060)\" d=\"M1951.89 783.383 Q1953.48 780.513 1955.71 779.147 Q1957.93 777.781 1960.94 777.781 Q1964.99 777.781 1967.19 780.628 Q1969.39 783.452 1969.39 788.684 L1969.39 804.332 L1965.1 804.332 L1965.1 788.823 Q1965.1 785.096 1963.78 783.29 Q1962.46 781.485 1959.76 781.485 Q1956.45 781.485 1954.52 783.684 Q1952.6 785.883 1952.6 789.679 L1952.6 804.332 L1948.32 804.332 L1948.32 788.823 Q1948.32 785.073 1947 783.29 Q1945.68 781.485 1942.93 781.485 Q1939.66 781.485 1937.74 783.707 Q1935.82 785.906 1935.82 789.679 L1935.82 804.332 L1931.54 804.332 L1931.54 778.406 L1935.82 778.406 L1935.82 782.434 Q1937.28 780.05 1939.32 778.915 Q1941.35 777.781 1944.15 777.781 Q1946.98 777.781 1948.95 779.216 Q1950.94 780.652 1951.89 783.383 Z\" fill=\"#000000\" fill-rule=\"evenodd\" fill-opacity=\"1\" /><path clip-path=\"url(#clip060)\" d=\"M1977.88 778.406 L1982.14 778.406 L1982.14 804.332 L1977.88 804.332 L1977.88 778.406 M1977.88 768.314 L1982.14 768.314 L1982.14 773.707 L1977.88 773.707 L1977.88 768.314 Z\" fill=\"#000000\" fill-rule=\"evenodd\" fill-opacity=\"1\" /><path clip-path=\"url(#clip060)\" d=\"M2012.6 788.684 L2012.6 804.332 L2008.34 804.332 L2008.34 788.823 Q2008.34 785.142 2006.91 783.314 Q2005.47 781.485 2002.6 781.485 Q1999.15 781.485 1997.16 783.684 Q1995.17 785.883 1995.17 789.679 L1995.17 804.332 L1990.89 804.332 L1990.89 778.406 L1995.17 778.406 L1995.17 782.434 Q1996.7 780.096 1998.76 778.939 Q2000.84 777.781 2003.55 777.781 Q2008.02 777.781 2010.31 780.559 Q2012.6 783.314 2012.6 788.684 Z\" fill=\"#000000\" fill-rule=\"evenodd\" fill-opacity=\"1\" /><path clip-path=\"url(#clip060)\" d=\"M2032.88 791.3 Q2027.72 791.3 2025.73 792.48 Q2023.74 793.661 2023.74 796.508 Q2023.74 798.776 2025.22 800.119 Q2026.72 801.438 2029.29 801.438 Q2032.83 801.438 2034.96 798.938 Q2037.12 796.415 2037.12 792.249 L2037.12 791.3 L2032.88 791.3 M2041.38 789.54 L2041.38 804.332 L2037.12 804.332 L2037.12 800.397 Q2035.66 802.758 2033.48 803.892 Q2031.31 805.003 2028.16 805.003 Q2024.18 805.003 2021.82 802.781 Q2019.48 800.536 2019.48 796.786 Q2019.48 792.411 2022.39 790.189 Q2025.33 787.966 2031.14 787.966 L2037.12 787.966 L2037.12 787.55 Q2037.12 784.61 2035.17 783.013 Q2033.25 781.392 2029.76 781.392 Q2027.53 781.392 2025.43 781.925 Q2023.32 782.457 2021.38 783.522 L2021.38 779.587 Q2023.71 778.684 2025.91 778.244 Q2028.11 777.781 2030.2 777.781 Q2035.82 777.781 2038.6 780.698 Q2041.38 783.614 2041.38 789.54 Z\" fill=\"#000000\" fill-rule=\"evenodd\" fill-opacity=\"1\" /><path clip-path=\"url(#clip060)\" d=\"M2050.15 768.314 L2054.41 768.314 L2054.41 804.332 L2050.15 804.332 L2050.15 768.314 Z\" fill=\"#000000\" fill-rule=\"evenodd\" fill-opacity=\"1\" /><path clip-path=\"url(#clip060)\" d=\"M2100.57 790.304 L2100.57 792.388 L2080.98 792.388 Q2081.26 796.786 2083.62 799.101 Q2086.01 801.392 2090.24 801.392 Q2092.7 801.392 2094.99 800.79 Q2097.3 800.188 2099.57 798.985 L2099.57 803.013 Q2097.28 803.985 2094.87 804.494 Q2092.46 805.003 2089.99 805.003 Q2083.78 805.003 2080.15 801.392 Q2076.54 797.781 2076.54 791.624 Q2076.54 785.258 2079.96 781.531 Q2083.41 777.781 2089.25 777.781 Q2094.48 777.781 2097.51 781.161 Q2100.57 784.517 2100.57 790.304 M2096.31 789.054 Q2096.26 785.559 2094.34 783.476 Q2092.44 781.392 2089.29 781.392 Q2085.73 781.392 2083.57 783.406 Q2081.45 785.42 2081.12 789.077 L2096.31 789.054 Z\" fill=\"#000000\" fill-rule=\"evenodd\" fill-opacity=\"1\" /><path clip-path=\"url(#clip060)\" d=\"M2112.42 773.615 L2112.42 800.489 L2118.07 800.489 Q2125.22 800.489 2128.53 797.249 Q2131.86 794.008 2131.86 787.017 Q2131.86 780.073 2128.53 776.855 Q2125.22 773.615 2118.07 773.615 L2112.42 773.615 M2107.74 769.772 L2117.35 769.772 Q2127.39 769.772 2132.09 773.962 Q2136.79 778.128 2136.79 787.017 Q2136.79 795.952 2132.07 800.142 Q2127.35 804.332 2117.35 804.332 L2107.74 804.332 L2107.74 769.772 Z\" fill=\"#000000\" fill-rule=\"evenodd\" fill-opacity=\"1\" /><path clip-path=\"url(#clip060)\" d=\"M2144.25 769.772 L2151.21 769.772 L2160.03 793.29 L2168.9 769.772 L2175.87 769.772 L2175.87 804.332 L2171.31 804.332 L2171.31 773.985 L2162.39 797.688 L2157.69 797.688 L2148.78 773.985 L2148.78 804.332 L2144.25 804.332 L2144.25 769.772 Z\" fill=\"#000000\" fill-rule=\"evenodd\" fill-opacity=\"1\" /><path clip-path=\"url(#clip060)\" d=\"M2189.82 773.615 L2189.82 800.489 L2195.47 800.489 Q2202.63 800.489 2205.94 797.249 Q2209.27 794.008 2209.27 787.017 Q2209.27 780.073 2205.94 776.855 Q2202.63 773.615 2195.47 773.615 L2189.82 773.615 M2185.15 769.772 L2194.75 769.772 Q2204.8 769.772 2209.5 773.962 Q2214.2 778.128 2214.2 787.017 Q2214.2 795.952 2209.48 800.142 Q2204.75 804.332 2194.75 804.332 L2185.15 804.332 L2185.15 769.772 Z\" fill=\"#000000\" fill-rule=\"evenodd\" fill-opacity=\"1\" /><path clip-path=\"url(#clip060)\" d=\"M2220.8 768.36 L2224.5 768.36 Q2227.97 773.823 2229.69 779.054 Q2231.42 784.286 2231.42 789.448 Q2231.42 794.633 2229.69 799.888 Q2227.97 805.142 2224.5 810.582 L2220.8 810.582 Q2223.88 805.281 2225.38 800.05 Q2226.91 794.795 2226.91 789.448 Q2226.91 784.101 2225.38 778.892 Q2223.88 773.684 2220.8 768.36 Z\" fill=\"#000000\" fill-rule=\"evenodd\" fill-opacity=\"1\" /></svg>\n"
     },
     "execution_count": 27,
     "metadata": {},
     "output_type": "execute_result"
    }
   ],
   "source": [
    "# Simulate nominal model with LQR gain from bilinear model\n",
    "\n",
    "tf_sim = 3.0\n",
    "Tsim_lqr_nominal = range(0,tf_sim,step=dt)\n",
    "\n",
    "# x0 = [0,pi-deg2rad(1),0,0]\n",
    "x0 = [-0.4,pi-deg2rad(40),0,0]\n",
    "\n",
    "ctrl_lqr_og = LQRController(K_og, xe, ue)\n",
    "ctrl_lqr_nominal = LQRController(K_bil_nom, xe, ue)\n",
    "\n",
    "Xsim_lqr_og, = simulatewithcontroller(dmodel_mismatch, ctrl_lqr_og, x0, tf_sim, dt)\n",
    "Xsim_lqr_nominal, = simulatewithcontroller(dmodel_mismatch, ctrl_lqr_nominal, x0, tf_sim, dt)\n",
    "\n",
    "plotstates(Tsim_lqr_nominal, Xsim_lqr_og, inds=1:2, xlabel=\"time (s)\", ylabel=\"states\",\n",
    "            label=[\"x (og dynamics)\" \"θ (og dynamics)\"], legend=:right, lw=2,\n",
    "            linestyle=:dash, color=[1 2])\n",
    "plotstates!(Tsim_lqr_nominal, Xsim_lqr_nominal, inds=1:2, xlabel=\"time (s)\", ylabel=\"states\",\n",
    "            label=[\"x (nominal eDMD)\" \"θ (nominal eDMD)\"], legend=:right, lw=2,\n",
    "            color=[1 2])"
   ]
  },
  {
   "cell_type": "markdown",
   "metadata": {},
   "source": [
    "# Evaluate New eDMD Model with Penalties on Jacobians\n",
    "Here we incorporate derivative data by penalizing the difference of the Jacobian of the learned model from the expected Jacobians of the nominal model, e.g.:\n",
    "\n",
    "$$ \\sum_{j=1}^P || \\frac{\\partial}{\\partial x} G \\hat{f}(\\varphi(x_j), u_j) - A_j ||^2 $$\n",
    "\n",
    "where \n",
    "\n",
    "$$ \\hat{f}(y,u) = A y + B u + \\sum_{i=1}^m u_i C_i y $$\n",
    "\n",
    "are the learned bilinear dynamics."
   ]
  },
  {
   "cell_type": "code",
   "execution_count": 28,
   "metadata": {},
   "outputs": [],
   "source": [
    "# Generate Jacobians\n",
    "xn = zeros(n0)\n",
    "jacobians = map(CartesianIndices(U_train)) do cind\n",
    "    k = cind[1]\n",
    "    x = X_train[cind]\n",
    "    u = U_train[cind]\n",
    "    z = RD.KnotPoint{n0,m}(x,u,T_ref[k],dt)\n",
    "    J = zeros(n0,n0+m)\n",
    "    RD.jacobian!(\n",
    "        RD.InPlace(), RD.ForwardAD(), dmodel_nom, J, xn, z \n",
    "    )\n",
    "    J\n",
    "end\n",
    "A_train = map(J->J[:,1:n0], jacobians)\n",
    "B_train = map(J->J[:,n0+1:end], jacobians)\n",
    "\n",
    "# Convert states to lifted Koopman states\n",
    "Y_train = map(kf, X_train)\n",
    "\n",
    "# Calculate Jacobian of Koopman transform\n",
    "F_train = map(@view X_train[1:end-1,:]) do x\n",
    "    sparse(ForwardDiff.jacobian(x->expandstate(model_bilinear,x), x))\n",
    "end;"
   ]
  },
  {
   "cell_type": "markdown",
   "metadata": {},
   "source": [
    "### Build Least-squares problem\n",
    "Find the eDMD data `A`, `B`, and `C` that minimize the following residual:\n",
    "\n",
    "$$\\sum_{j=1}^P (1-\\alpha)|| A y_j + B u_j + \\sum_{i=1}^m u_{j,i} C_i x_j - y_j^+ ||^2 + \n",
    "\\alpha || G (A + \\sum_{i=1}^m u_{j,i} C_j) F_j  - A_j ||^2 + \n",
    "\\alpha || G (B + [C_1 x_j \\dots C_m x_j]) - B_j ||^2  $$\n",
    "\n",
    "where $F_j = \\partial \\varphi(x_j) / \\partial x$.\n",
    "\n",
    "This is equivalent to \n",
    "\n",
    "$$ (1-\\alpha)|| E Z_{1:P} - Y_{1:P}^+ ||^2 + \n",
    "\\alpha || G E \\hat{A}_{1:P} - A_{1:P} ||^2 +\n",
    "\\alpha || G E \\hat{B}_{1:P} - B_{1:P} ||^2 $$\n",
    "\n",
    "where\n",
    "\n",
    "$$ E = \\begin{bmatrix} A & B & C_1 & \\dots & C_m \\end{bmatrix} \\in \\mathbb{R}^{n \\times p} $$\n",
    "$$ Z_j = \\begin{bmatrix} \n",
    "    x_j \\\\ u_j \\\\ u_{j,1} x_j \\\\ \\vdots \\\\ u_{j,m} x_j \n",
    "\\end{bmatrix} \\in \\mathbb{R}^{p}, \\quad\n",
    "\\hat{A}_j = \\begin{bmatrix} \n",
    "    I_n \\\\ 0_{m,n} \\\\ u_{j,1} I_n \\\\ \\vdots \\\\ u_{j,m} I_n \n",
    "\\end{bmatrix} \\in \\mathbb{R}^{p \\times n}, \\quad\n",
    "\\hat{B}_j = \\begin{bmatrix} \n",
    "    0_{n,m} \\\\ I_m \\\\ [x_j \\; 0 \\; \\dots \\; 0] \\\\ \\vdots \\\\ [0 \\; \\dots \\; 0 \\; x_j] \n",
    "\\end{bmatrix} \\in \\mathbb{R}^{p \\times m}\n",
    "$$\n",
    "\n",
    "which is equivalent to \n",
    "\n",
    "$$ \\left\\lVert \n",
    "\\begin{bmatrix} \n",
    "    Z_{1:P}^T \\otimes I_n \\\\\n",
    "    \\hat{A}_{1:P}^T \\otimes G \\\\\n",
    "    \\hat{B}_{1:P}^T \\otimes G \n",
    "\\end{bmatrix} \\text{vec}(E) - \n",
    "\\begin{bmatrix}\n",
    "    \\text{vec}{Y_{1:P}^+}\\\\\n",
    "    \\text{vec}{A_{1:P}^+}\\\\\n",
    "    \\text{vec}{B_{1:P}^+}\\\\\n",
    "\\end{bmatrix}\n",
    "\\right\\rVert^2 $$"
   ]
  },
  {
   "cell_type": "code",
   "execution_count": 29,
   "metadata": {},
   "outputs": [
    {
     "name": "stdout",
     "output_type": "stream",
     "text": [
      "Concatentating data\n",
      "Creating feature matrix\n",
      "Creating state Jacobian matrix\n",
      "Creating control Jacobian matrix\n",
      "Creating least-squares data\n"
     ]
    }
   ],
   "source": [
    "# Create a sparse version of the G Jacobian\n",
    "G = spdiagm(n0,n,1=>ones(n0)) \n",
    "@test norm(G - model_bilinear.g) < 1e-8\n",
    "\n",
    "# Build Least Squares Problem\n",
    "W,s = BilinearControl.EDMD.build_edmd_data(\n",
    "    Z_train, U_train, A_train, B_train, F_train, model_bilinear.g)\n",
    "\n",
    "n = length(Z_train[1]);"
   ]
  },
  {
   "cell_type": "markdown",
   "metadata": {},
   "source": [
    "### Solve the Least-squares Problem"
   ]
  },
  {
   "cell_type": "code",
   "execution_count": 30,
   "metadata": {},
   "outputs": [
    {
     "name": "stdout",
     "output_type": "stream",
     "text": [
      "  8.044815 seconds (439.85 k allocations: 316.542 MiB, 0.92% gc time, 1.28% compilation time)\n"
     ]
    }
   ],
   "source": [
    "@time Wsparse = sparse(W);"
   ]
  },
  {
   "cell_type": "code",
   "execution_count": 31,
   "metadata": {},
   "outputs": [
    {
     "data": {
      "text/plain": [
       "0.022213119650461244"
      ]
     },
     "execution_count": 31,
     "metadata": {},
     "output_type": "execute_result"
    }
   ],
   "source": [
    "BilinearControl.matdensity(Wsparse)"
   ]
  },
  {
   "cell_type": "code",
   "execution_count": 32,
   "metadata": {},
   "outputs": [],
   "source": [
    "# Solve directly\n",
    " \n",
    "# @time F = qr(Wsparse)\n",
    "# @time x = F \\ s\n",
    "# norm(W*x - s)\n",
    "# E = reshape(x,n,:)"
   ]
  },
  {
   "cell_type": "code",
   "execution_count": 37,
   "metadata": {},
   "outputs": [
    {
     "name": "stdout",
     "output_type": "stream",
     "text": [
      "  1.889181 seconds (2.51 k allocations: 2.471 GiB, 2.07% gc time)\n"
     ]
    }
   ],
   "source": [
    "# Solve with RLS\n",
    "\n",
    "@time x_rls = BilinearControl.EDMD.rls_qr(Vector(s), Wsparse; Q=1e-5)\n",
    "E = reshape(x_rls,n,:);"
   ]
  },
  {
   "cell_type": "code",
   "execution_count": 38,
   "metadata": {},
   "outputs": [],
   "source": [
    "# Extract out bilinear dynamics\n",
    "A = E[:,1:n]\n",
    "B = E[:,n .+ (1:m)]\n",
    "C = E[:,n+m .+ (1:n*m)]\n",
    "\n",
    "C_list = Matrix{Float64}[]\n",
    "    \n",
    "for i in 1:m\n",
    "    C_i = C[:, (i-1)*n+1:i*n]\n",
    "    push!(C_list, C_i)\n",
    "end\n",
    "\n",
    "C = C_list;"
   ]
  },
  {
   "cell_type": "code",
   "execution_count": 39,
   "metadata": {},
   "outputs": [],
   "source": [
    "# Save data\n",
    "jldsave(joinpath(Problems.DATADIR,\"mismatch_exp_cartpole_lqr_jacobian_penalized_eDMD_data.jld2\"); A, B, C, g, kf, eigfuns, eigorders, tf, dt)"
   ]
  },
  {
   "cell_type": "markdown",
   "metadata": {},
   "source": [
    "# Import New Model"
   ]
  },
  {
   "cell_type": "code",
   "execution_count": 40,
   "metadata": {},
   "outputs": [],
   "source": [
    "cartpole_data = load(joinpath(Problems.DATADIR, \"mismatch_exp_cartpole_lqr_jacobian_penalized_eDMD_data.jld2\"))\n",
    "A_jacpen = cartpole_data[\"A\"]\n",
    "B_jacpen = cartpole_data[\"B\"]\n",
    "C_jacpen = cartpole_data[\"C\"]\n",
    "g = cartpole_data[\"g\"]\n",
    "kf = cartpole_data[\"kf\"]\n",
    "tf = cartpole_data[\"tf\"]\n",
    "dt = cartpole_data[\"dt\"]\n",
    "\n",
    "T_ref = range(0,tf,step=dt);"
   ]
  },
  {
   "cell_type": "markdown",
   "metadata": {},
   "source": [
    "# Evaluate the New Fit"
   ]
  },
  {
   "cell_type": "code",
   "execution_count": 41,
   "metadata": {},
   "outputs": [
    {
     "name": "stdout",
     "output_type": "stream",
     "text": [
      "Train Error: 0.003975025791415914\n",
      "Test Error:  0.019254187643156135\n",
      "\n",
      "New Train Error: 0.011688560175760367\n",
      "New Test Error:  0.011065279936443987\n"
     ]
    }
   ],
   "source": [
    "# Evaluate the Fit\n",
    "err_train2 = BilinearControl.EDMD.fiterror(A_jacpen, B_jacpen, C_jacpen, g, kf, X_train, U_train)\n",
    "err_test2 = BilinearControl.EDMD.fiterror(A_jacpen, B_jacpen, C_jacpen, g, kf, X_test, U_test)\n",
    "println(\"Train Error: \", err_train)\n",
    "println(\"Test Error:  \", err_test)\n",
    "println(\"\")\n",
    "println(\"New Train Error: \", err_train2)\n",
    "println(\"New Test Error:  \", err_test2)"
   ]
  },
  {
   "cell_type": "code",
   "execution_count": 42,
   "metadata": {},
   "outputs": [],
   "source": [
    "model_bilinear_jacpen = EDMDModel(A_jacpen, B_jacpen, C_jacpen, g, kf, dt, \"cartpole\")\n",
    "n,m = RD.dims(model_bilinear_jacpen)\n",
    "n0 = originalstatedim(model_bilinear_jacpen);"
   ]
  },
  {
   "cell_type": "code",
   "execution_count": 43,
   "metadata": {},
   "outputs": [],
   "source": [
    "# Get A,B for new system\n",
    "function dynamics_bilinear_jacpen(x,u,t,dt)\n",
    "    y = expandstate(model_bilinear_jacpen, x)\n",
    "    yn = zero(y)\n",
    "    RD.discrete_dynamics!(model_bilinear_jacpen, yn, y, u, t, dt)\n",
    "    originalstate(model_bilinear_jacpen, yn)\n",
    "end\n",
    "\n",
    "A_bil_jacpen = FiniteDiff.finite_difference_jacobian(x->dynamics_bilinear_jacpen(x,ue,0.0,dt), xe)\n",
    "B_bil_jacpen = FiniteDiff.finite_difference_jacobian(u->dynamics_bilinear_jacpen(xe,u,0.0,dt), ue);"
   ]
  },
  {
   "cell_type": "markdown",
   "metadata": {},
   "source": [
    "**Compare the Jacobians with Nominal model**"
   ]
  },
  {
   "cell_type": "code",
   "execution_count": 44,
   "metadata": {},
   "outputs": [
    {
     "data": {
      "text/plain": [
       "4×4 Matrix{Float64}:\n",
       " 1.0  0.000354162   0.0199962    -4.94693e-6\n",
       " 0.0  1.00445      -7.30812e-6    0.0199379\n",
       " 0.0  0.0353859     0.999619     -0.000376025\n",
       " 0.0  0.444186     -0.000730187   0.99528"
      ]
     },
     "execution_count": 44,
     "metadata": {},
     "output_type": "execute_result"
    }
   ],
   "source": [
    "A_og"
   ]
  },
  {
   "cell_type": "code",
   "execution_count": 45,
   "metadata": {},
   "outputs": [
    {
     "data": {
      "text/plain": [
       "4×4 Matrix{Float64}:\n",
       " 1.0          0.000384245   0.0199992    2.60025e-6\n",
       " 5.63264e-6   1.0047       -3.30806e-6   0.0200306\n",
       " 0.000113726  0.0386164     0.999945     0.000405073\n",
       " 0.00064379   0.471613     -0.000219166  1.00472"
      ]
     },
     "execution_count": 45,
     "metadata": {},
     "output_type": "execute_result"
    }
   ],
   "source": [
    "A_bil_jacpen"
   ]
  },
  {
   "cell_type": "code",
   "execution_count": 46,
   "metadata": {},
   "outputs": [
    {
     "data": {
      "text/plain": [
       "4×1 Matrix{Float64}:\n",
       " 0.00019038445185762988\n",
       " 0.00036540592879603966\n",
       " 0.019034932370486982\n",
       " 0.03650935049029361"
      ]
     },
     "execution_count": 46,
     "metadata": {},
     "output_type": "execute_result"
    }
   ],
   "source": [
    "B_og"
   ]
  },
  {
   "cell_type": "code",
   "execution_count": 47,
   "metadata": {},
   "outputs": [
    {
     "data": {
      "text/plain": [
       "4×1 Matrix{Float64}:\n",
       " 0.00019111561697648938\n",
       " 0.0003796815872192383\n",
       " 0.019130050306046087\n",
       " 0.03805937116317182"
      ]
     },
     "execution_count": 47,
     "metadata": {},
     "output_type": "execute_result"
    }
   ],
   "source": [
    "B_bil_jacpen"
   ]
  },
  {
   "cell_type": "markdown",
   "metadata": {},
   "source": [
    "# Try Stabilizing New Model using LQR"
   ]
  },
  {
   "cell_type": "code",
   "execution_count": 48,
   "metadata": {},
   "outputs": [],
   "source": [
    "K_bil_jacpen = dlqr(A_bil_jacpen, B_bil_jacpen, Qlqr, Rlqr);"
   ]
  },
  {
   "cell_type": "code",
   "execution_count": 49,
   "metadata": {},
   "outputs": [
    {
     "name": "stdout",
     "output_type": "stream",
     "text": [
      "Stability Summary:\n",
      "  Dynamics  |  Controller  |  is stable? \n",
      "------------|--------------|--------------\n",
      "  Nominal   |  Nominal     |  true\n",
      "  Bilinear  |  Bilinear    |  true\n",
      "  Nominal   |  Bilinear    |  true\n"
     ]
    }
   ],
   "source": [
    "# Evaluate stability\n",
    "isstable_bilinear2 = maximum(abs.(eigvals(A_bil_jacpen - B_bil_jacpen*K_bil_jacpen))) < 1.0\n",
    "isstable_nominal_with_bilinear2 = maximum(abs.(eigvals(A_og - B_og*K_bil_jacpen))) < 1.0\n",
    "\n",
    "println(\"Stability Summary:\")\n",
    "println(\"  Dynamics  |  Controller  |  is stable? \")\n",
    "println(\"------------|--------------|--------------\")\n",
    "println(\"  Nominal   |  Nominal     |  \", isstable_nominal)\n",
    "println(\"  Bilinear  |  Bilinear    |  \", isstable_bilinear2)\n",
    "println(\"  Nominal   |  Bilinear    |  \", isstable_nominal_with_bilinear2)"
   ]
  },
  {
   "cell_type": "code",
   "execution_count": 50,
   "metadata": {},
   "outputs": [
    {
     "data": {
      "image/svg+xml": "<?xml version=\"1.0\" encoding=\"utf-8\"?>\n<svg xmlns=\"http://www.w3.org/2000/svg\" xmlns:xlink=\"http://www.w3.org/1999/xlink\" width=\"600\" height=\"400\" viewBox=\"0 0 2400 1600\">\n<defs>\n  <clipPath id=\"clip100\">\n    <rect x=\"0\" y=\"0\" width=\"2400\" height=\"1600\"/>\n  </clipPath>\n</defs>\n<path clip-path=\"url(#clip100)\" d=\"\nM0 1600 L2400 1600 L2400 0 L0 0  Z\n  \" fill=\"#ffffff\" fill-rule=\"evenodd\" fill-opacity=\"1\"/>\n<defs>\n  <clipPath id=\"clip101\">\n    <rect x=\"480\" y=\"0\" width=\"1681\" height=\"1600\"/>\n  </clipPath>\n</defs>\n<path clip-path=\"url(#clip100)\" d=\"\nM174.149 1423.18 L2352.76 1423.18 L2352.76 47.2441 L174.149 47.2441  Z\n  \" fill=\"#ffffff\" fill-rule=\"evenodd\" fill-opacity=\"1\"/>\n<defs>\n  <clipPath id=\"clip102\">\n    <rect x=\"174\" y=\"47\" width=\"2180\" height=\"1377\"/>\n  </clipPath>\n</defs>\n<polyline clip-path=\"url(#clip102)\" style=\"stroke:#000000; stroke-linecap:butt; stroke-linejoin:round; stroke-width:2; stroke-opacity:0.1; fill:none\" points=\"\n  235.808,1423.18 235.808,47.2441 \n  \"/>\n<polyline clip-path=\"url(#clip102)\" style=\"stroke:#000000; stroke-linecap:butt; stroke-linejoin:round; stroke-width:2; stroke-opacity:0.1; fill:none\" points=\"\n  920.904,1423.18 920.904,47.2441 \n  \"/>\n<polyline clip-path=\"url(#clip102)\" style=\"stroke:#000000; stroke-linecap:butt; stroke-linejoin:round; stroke-width:2; stroke-opacity:0.1; fill:none\" points=\"\n  1606,1423.18 1606,47.2441 \n  \"/>\n<polyline clip-path=\"url(#clip102)\" style=\"stroke:#000000; stroke-linecap:butt; stroke-linejoin:round; stroke-width:2; stroke-opacity:0.1; fill:none\" points=\"\n  2291.1,1423.18 2291.1,47.2441 \n  \"/>\n<polyline clip-path=\"url(#clip100)\" style=\"stroke:#000000; stroke-linecap:butt; stroke-linejoin:round; stroke-width:4; stroke-opacity:1; fill:none\" points=\"\n  174.149,1423.18 2352.76,1423.18 \n  \"/>\n<polyline clip-path=\"url(#clip100)\" style=\"stroke:#000000; stroke-linecap:butt; stroke-linejoin:round; stroke-width:4; stroke-opacity:1; fill:none\" points=\"\n  235.808,1423.18 235.808,1404.28 \n  \"/>\n<polyline clip-path=\"url(#clip100)\" style=\"stroke:#000000; stroke-linecap:butt; stroke-linejoin:round; stroke-width:4; stroke-opacity:1; fill:none\" points=\"\n  920.904,1423.18 920.904,1404.28 \n  \"/>\n<polyline clip-path=\"url(#clip100)\" style=\"stroke:#000000; stroke-linecap:butt; stroke-linejoin:round; stroke-width:4; stroke-opacity:1; fill:none\" points=\"\n  1606,1423.18 1606,1404.28 \n  \"/>\n<polyline clip-path=\"url(#clip100)\" style=\"stroke:#000000; stroke-linecap:butt; stroke-linejoin:round; stroke-width:4; stroke-opacity:1; fill:none\" points=\"\n  2291.1,1423.18 2291.1,1404.28 \n  \"/>\n<path clip-path=\"url(#clip100)\" d=\"M235.808 1454.1 Q232.197 1454.1 230.368 1457.66 Q228.562 1461.2 228.562 1468.33 Q228.562 1475.44 230.368 1479.01 Q232.197 1482.55 235.808 1482.55 Q239.442 1482.55 241.247 1479.01 Q243.076 1475.44 243.076 1468.33 Q243.076 1461.2 241.247 1457.66 Q239.442 1454.1 235.808 1454.1 M235.808 1450.39 Q241.618 1450.39 244.673 1455 Q247.752 1459.58 247.752 1468.33 Q247.752 1477.06 244.673 1481.67 Q241.618 1486.25 235.808 1486.25 Q229.997 1486.25 226.919 1481.67 Q223.863 1477.06 223.863 1468.33 Q223.863 1459.58 226.919 1455 Q229.997 1450.39 235.808 1450.39 Z\" fill=\"#000000\" fill-rule=\"evenodd\" fill-opacity=\"1\" /><path clip-path=\"url(#clip100)\" d=\"M911.286 1481.64 L918.925 1481.64 L918.925 1455.28 L910.615 1456.95 L910.615 1452.69 L918.879 1451.02 L923.555 1451.02 L923.555 1481.64 L931.193 1481.64 L931.193 1485.58 L911.286 1485.58 L911.286 1481.64 Z\" fill=\"#000000\" fill-rule=\"evenodd\" fill-opacity=\"1\" /><path clip-path=\"url(#clip100)\" d=\"M1600.65 1481.64 L1616.97 1481.64 L1616.97 1485.58 L1595.03 1485.58 L1595.03 1481.64 Q1597.69 1478.89 1602.27 1474.26 Q1606.88 1469.61 1608.06 1468.27 Q1610.31 1465.74 1611.19 1464.01 Q1612.09 1462.25 1612.09 1460.56 Q1612.09 1457.8 1610.14 1456.07 Q1608.22 1454.33 1605.12 1454.33 Q1602.92 1454.33 1600.47 1455.09 Q1598.04 1455.86 1595.26 1457.41 L1595.26 1452.69 Q1598.08 1451.55 1600.54 1450.97 Q1602.99 1450.39 1605.03 1450.39 Q1610.4 1450.39 1613.59 1453.08 Q1616.79 1455.77 1616.79 1460.26 Q1616.79 1462.39 1615.98 1464.31 Q1615.19 1466.2 1613.08 1468.8 Q1612.51 1469.47 1609.4 1472.69 Q1606.3 1475.88 1600.65 1481.64 Z\" fill=\"#000000\" fill-rule=\"evenodd\" fill-opacity=\"1\" /><path clip-path=\"url(#clip100)\" d=\"M2295.34 1466.95 Q2298.7 1467.66 2300.58 1469.93 Q2302.47 1472.2 2302.47 1475.53 Q2302.47 1480.65 2298.96 1483.45 Q2295.44 1486.25 2288.96 1486.25 Q2286.78 1486.25 2284.47 1485.81 Q2282.17 1485.39 2279.72 1484.54 L2279.72 1480.02 Q2281.66 1481.16 2283.98 1481.74 Q2286.29 1482.32 2288.82 1482.32 Q2293.22 1482.32 2295.51 1480.58 Q2297.82 1478.84 2297.82 1475.53 Q2297.82 1472.48 2295.67 1470.77 Q2293.54 1469.03 2289.72 1469.03 L2285.69 1469.03 L2285.69 1465.19 L2289.91 1465.19 Q2293.35 1465.19 2295.18 1463.82 Q2297.01 1462.43 2297.01 1459.84 Q2297.01 1457.18 2295.11 1455.77 Q2293.24 1454.33 2289.72 1454.33 Q2287.8 1454.33 2285.6 1454.75 Q2283.4 1455.16 2280.76 1456.04 L2280.76 1451.88 Q2283.42 1451.14 2285.74 1450.77 Q2288.08 1450.39 2290.14 1450.39 Q2295.46 1450.39 2298.56 1452.83 Q2301.66 1455.23 2301.66 1459.35 Q2301.66 1462.22 2300.02 1464.21 Q2298.38 1466.18 2295.34 1466.95 Z\" fill=\"#000000\" fill-rule=\"evenodd\" fill-opacity=\"1\" /><path clip-path=\"url(#clip100)\" d=\"M1150.91 1522.27 L1150.91 1532.4 L1162.97 1532.4 L1162.97 1536.95 L1150.91 1536.95 L1150.91 1556.3 Q1150.91 1560.66 1152.08 1561.9 Q1153.29 1563.14 1156.95 1563.14 L1162.97 1563.14 L1162.97 1568.04 L1156.95 1568.04 Q1150.17 1568.04 1147.6 1565.53 Q1145.02 1562.98 1145.02 1556.3 L1145.02 1536.95 L1140.72 1536.95 L1140.72 1532.4 L1145.02 1532.4 L1145.02 1522.27 L1150.91 1522.27 Z\" fill=\"#000000\" fill-rule=\"evenodd\" fill-opacity=\"1\" /><path clip-path=\"url(#clip100)\" d=\"M1170.67 1532.4 L1176.53 1532.4 L1176.53 1568.04 L1170.67 1568.04 L1170.67 1532.4 M1170.67 1518.52 L1176.53 1518.52 L1176.53 1525.93 L1170.67 1525.93 L1170.67 1518.52 Z\" fill=\"#000000\" fill-rule=\"evenodd\" fill-opacity=\"1\" /><path clip-path=\"url(#clip100)\" d=\"M1216.54 1539.24 Q1218.73 1535.29 1221.79 1533.41 Q1224.84 1531.54 1228.98 1531.54 Q1234.55 1531.54 1237.58 1535.45 Q1240.6 1539.33 1240.6 1546.53 L1240.6 1568.04 L1234.71 1568.04 L1234.71 1546.72 Q1234.71 1541.59 1232.9 1539.11 Q1231.08 1536.63 1227.36 1536.63 Q1222.81 1536.63 1220.17 1539.65 Q1217.52 1542.68 1217.52 1547.9 L1217.52 1568.04 L1211.64 1568.04 L1211.64 1546.72 Q1211.64 1541.56 1209.82 1539.11 Q1208.01 1536.63 1204.22 1536.63 Q1199.73 1536.63 1197.09 1539.68 Q1194.45 1542.71 1194.45 1547.9 L1194.45 1568.04 L1188.56 1568.04 L1188.56 1532.4 L1194.45 1532.4 L1194.45 1537.93 Q1196.45 1534.66 1199.25 1533.1 Q1202.06 1531.54 1205.91 1531.54 Q1209.79 1531.54 1212.49 1533.51 Q1215.23 1535.48 1216.54 1539.24 Z\" fill=\"#000000\" fill-rule=\"evenodd\" fill-opacity=\"1\" /><path clip-path=\"url(#clip100)\" d=\"M1282.77 1548.76 L1282.77 1551.62 L1255.85 1551.62 Q1256.23 1557.67 1259.47 1560.85 Q1262.75 1564 1268.58 1564 Q1271.95 1564 1275.1 1563.17 Q1278.28 1562.35 1281.4 1560.69 L1281.4 1566.23 Q1278.25 1567.57 1274.94 1568.27 Q1271.63 1568.97 1268.23 1568.97 Q1259.7 1568.97 1254.7 1564 Q1249.73 1559.04 1249.73 1550.57 Q1249.73 1541.82 1254.44 1536.69 Q1259.19 1531.54 1267.21 1531.54 Q1274.4 1531.54 1278.57 1536.18 Q1282.77 1540.8 1282.77 1548.76 M1276.92 1547.04 Q1276.85 1542.23 1274.21 1539.37 Q1271.6 1536.5 1267.27 1536.5 Q1262.37 1536.5 1259.41 1539.27 Q1256.48 1542.04 1256.04 1547.07 L1276.92 1547.04 Z\" fill=\"#000000\" fill-rule=\"evenodd\" fill-opacity=\"1\" /><path clip-path=\"url(#clip100)\" d=\"M1327.17 1518.58 Q1322.91 1525.9 1320.84 1533.06 Q1318.77 1540.23 1318.77 1547.58 Q1318.77 1554.93 1320.84 1562.16 Q1322.94 1569.35 1327.17 1576.64 L1322.08 1576.64 Q1317.31 1569.16 1314.92 1561.93 Q1312.56 1554.71 1312.56 1547.58 Q1312.56 1540.48 1314.92 1533.29 Q1317.27 1526.09 1322.08 1518.58 L1327.17 1518.58 Z\" fill=\"#000000\" fill-rule=\"evenodd\" fill-opacity=\"1\" /><path clip-path=\"url(#clip100)\" d=\"M1361.26 1533.45 L1361.26 1538.98 Q1358.78 1537.71 1356.11 1537.07 Q1353.43 1536.44 1350.57 1536.44 Q1346.21 1536.44 1344.01 1537.77 Q1341.85 1539.11 1341.85 1541.79 Q1341.85 1543.82 1343.41 1545 Q1344.97 1546.15 1349.68 1547.2 L1351.68 1547.64 Q1357.92 1548.98 1360.53 1551.43 Q1363.17 1553.85 1363.17 1558.21 Q1363.17 1563.17 1359.22 1566.07 Q1355.31 1568.97 1348.43 1568.97 Q1345.57 1568.97 1342.45 1568.39 Q1339.36 1567.85 1335.93 1566.74 L1335.93 1560.69 Q1339.17 1562.38 1342.32 1563.24 Q1345.47 1564.07 1348.56 1564.07 Q1352.7 1564.07 1354.93 1562.66 Q1357.16 1561.23 1357.16 1558.65 Q1357.16 1556.27 1355.53 1554.99 Q1353.94 1553.72 1348.5 1552.54 L1346.46 1552.07 Q1341.02 1550.92 1338.6 1548.56 Q1336.18 1546.18 1336.18 1542.04 Q1336.18 1537.01 1339.75 1534.27 Q1343.31 1531.54 1349.87 1531.54 Q1353.11 1531.54 1355.98 1532.01 Q1358.84 1532.49 1361.26 1533.45 Z\" fill=\"#000000\" fill-rule=\"evenodd\" fill-opacity=\"1\" /><path clip-path=\"url(#clip100)\" d=\"M1371.57 1518.58 L1376.67 1518.58 Q1381.44 1526.09 1383.8 1533.29 Q1386.18 1540.48 1386.18 1547.58 Q1386.18 1554.71 1383.8 1561.93 Q1381.44 1569.16 1376.67 1576.64 L1371.57 1576.64 Q1375.81 1569.35 1377.88 1562.16 Q1379.98 1554.93 1379.98 1547.58 Q1379.98 1540.23 1377.88 1533.06 Q1375.81 1525.9 1371.57 1518.58 Z\" fill=\"#000000\" fill-rule=\"evenodd\" fill-opacity=\"1\" /><polyline clip-path=\"url(#clip102)\" style=\"stroke:#000000; stroke-linecap:butt; stroke-linejoin:round; stroke-width:2; stroke-opacity:0.1; fill:none\" points=\"\n  174.149,1255.78 2352.76,1255.78 \n  \"/>\n<polyline clip-path=\"url(#clip102)\" style=\"stroke:#000000; stroke-linecap:butt; stroke-linejoin:round; stroke-width:2; stroke-opacity:0.1; fill:none\" points=\"\n  174.149,934.649 2352.76,934.649 \n  \"/>\n<polyline clip-path=\"url(#clip102)\" style=\"stroke:#000000; stroke-linecap:butt; stroke-linejoin:round; stroke-width:2; stroke-opacity:0.1; fill:none\" points=\"\n  174.149,613.514 2352.76,613.514 \n  \"/>\n<polyline clip-path=\"url(#clip102)\" style=\"stroke:#000000; stroke-linecap:butt; stroke-linejoin:round; stroke-width:2; stroke-opacity:0.1; fill:none\" points=\"\n  174.149,292.379 2352.76,292.379 \n  \"/>\n<polyline clip-path=\"url(#clip100)\" style=\"stroke:#000000; stroke-linecap:butt; stroke-linejoin:round; stroke-width:4; stroke-opacity:1; fill:none\" points=\"\n  174.149,1423.18 174.149,47.2441 \n  \"/>\n<polyline clip-path=\"url(#clip100)\" style=\"stroke:#000000; stroke-linecap:butt; stroke-linejoin:round; stroke-width:4; stroke-opacity:1; fill:none\" points=\"\n  174.149,1255.78 193.047,1255.78 \n  \"/>\n<polyline clip-path=\"url(#clip100)\" style=\"stroke:#000000; stroke-linecap:butt; stroke-linejoin:round; stroke-width:4; stroke-opacity:1; fill:none\" points=\"\n  174.149,934.649 193.047,934.649 \n  \"/>\n<polyline clip-path=\"url(#clip100)\" style=\"stroke:#000000; stroke-linecap:butt; stroke-linejoin:round; stroke-width:4; stroke-opacity:1; fill:none\" points=\"\n  174.149,613.514 193.047,613.514 \n  \"/>\n<polyline clip-path=\"url(#clip100)\" style=\"stroke:#000000; stroke-linecap:butt; stroke-linejoin:round; stroke-width:4; stroke-opacity:1; fill:none\" points=\"\n  174.149,292.379 193.047,292.379 \n  \"/>\n<path clip-path=\"url(#clip100)\" d=\"M126.205 1241.58 Q122.593 1241.58 120.765 1245.15 Q118.959 1248.69 118.959 1255.82 Q118.959 1262.93 120.765 1266.49 Q122.593 1270.03 126.205 1270.03 Q129.839 1270.03 131.644 1266.49 Q133.473 1262.93 133.473 1255.82 Q133.473 1248.69 131.644 1245.15 Q129.839 1241.58 126.205 1241.58 M126.205 1237.88 Q132.015 1237.88 135.07 1242.49 Q138.149 1247.07 138.149 1255.82 Q138.149 1264.55 135.07 1269.15 Q132.015 1273.74 126.205 1273.74 Q120.394 1273.74 117.316 1269.15 Q114.26 1264.55 114.26 1255.82 Q114.26 1247.07 117.316 1242.49 Q120.394 1237.88 126.205 1237.88 Z\" fill=\"#000000\" fill-rule=\"evenodd\" fill-opacity=\"1\" /><path clip-path=\"url(#clip100)\" d=\"M118.242 947.994 L125.88 947.994 L125.88 921.628 L117.57 923.295 L117.57 919.036 L125.834 917.369 L130.51 917.369 L130.51 947.994 L138.149 947.994 L138.149 951.929 L118.242 951.929 L118.242 947.994 Z\" fill=\"#000000\" fill-rule=\"evenodd\" fill-opacity=\"1\" /><path clip-path=\"url(#clip100)\" d=\"M121.83 626.859 L138.149 626.859 L138.149 630.794 L116.205 630.794 L116.205 626.859 Q118.867 624.104 123.45 619.475 Q128.056 614.822 129.237 613.479 Q131.482 610.956 132.362 609.22 Q133.265 607.461 133.265 605.771 Q133.265 603.016 131.32 601.28 Q129.399 599.544 126.297 599.544 Q124.098 599.544 121.644 600.308 Q119.214 601.072 116.436 602.623 L116.436 597.901 Q119.26 596.766 121.714 596.188 Q124.168 595.609 126.205 595.609 Q131.575 595.609 134.769 598.294 Q137.964 600.979 137.964 605.47 Q137.964 607.6 137.154 609.521 Q136.367 611.419 134.26 614.012 Q133.681 614.683 130.58 617.901 Q127.478 621.095 121.83 626.859 Z\" fill=\"#000000\" fill-rule=\"evenodd\" fill-opacity=\"1\" /><path clip-path=\"url(#clip100)\" d=\"M131.019 291.025 Q134.376 291.742 136.251 294.011 Q138.149 296.279 138.149 299.613 Q138.149 304.728 134.63 307.529 Q131.112 310.33 124.63 310.33 Q122.455 310.33 120.14 309.89 Q117.848 309.474 115.394 308.617 L115.394 304.103 Q117.339 305.238 119.654 305.816 Q121.968 306.395 124.492 306.395 Q128.89 306.395 131.181 304.659 Q133.496 302.923 133.496 299.613 Q133.496 296.557 131.343 294.844 Q129.214 293.108 125.394 293.108 L121.367 293.108 L121.367 289.265 L125.58 289.265 Q129.029 289.265 130.857 287.9 Q132.686 286.511 132.686 283.918 Q132.686 281.256 130.788 279.844 Q128.913 278.409 125.394 278.409 Q123.473 278.409 121.274 278.826 Q119.075 279.242 116.436 280.122 L116.436 275.955 Q119.098 275.215 121.413 274.844 Q123.751 274.474 125.811 274.474 Q131.135 274.474 134.237 276.904 Q137.339 279.312 137.339 283.432 Q137.339 286.303 135.695 288.293 Q134.052 290.261 131.019 291.025 Z\" fill=\"#000000\" fill-rule=\"evenodd\" fill-opacity=\"1\" /><path clip-path=\"url(#clip100)\" d=\"M29.4065 806.062 L34.9447 806.062 Q33.6716 808.545 33.035 811.219 Q32.3984 813.892 32.3984 816.757 Q32.3984 821.117 33.7352 823.313 Q35.072 825.478 37.7456 825.478 Q39.7826 825.478 40.9603 823.918 Q42.1061 822.358 43.1565 817.648 L43.6021 815.643 Q44.9389 809.404 47.3897 806.794 Q49.8086 804.153 54.1691 804.153 Q59.1344 804.153 62.0308 808.099 Q64.9272 812.014 64.9272 818.889 Q64.9272 821.754 64.3543 824.873 Q63.8132 827.96 62.6992 831.398 L56.6518 831.398 Q58.3387 828.151 59.198 825 Q60.0256 821.849 60.0256 818.762 Q60.0256 814.624 58.6251 812.396 Q57.1929 810.168 54.6147 810.168 Q52.2276 810.168 50.9545 811.791 Q49.6813 813.383 48.5037 818.826 L48.0262 820.863 Q46.8804 826.305 44.5251 828.724 Q42.138 831.143 38.0002 831.143 Q32.9713 831.143 30.2341 827.578 Q27.4968 824.014 27.4968 817.457 Q27.4968 814.21 27.9743 811.346 Q28.4517 808.481 29.4065 806.062 Z\" fill=\"#000000\" fill-rule=\"evenodd\" fill-opacity=\"1\" /><path clip-path=\"url(#clip100)\" d=\"M18.2347 789.034 L28.3562 789.034 L28.3562 776.971 L32.9077 776.971 L32.9077 789.034 L52.2594 789.034 Q56.6199 789.034 57.8613 787.856 Q59.1026 786.647 59.1026 782.987 L59.1026 776.971 L64.0042 776.971 L64.0042 782.987 Q64.0042 789.766 61.4897 792.344 Q58.9434 794.922 52.2594 794.922 L32.9077 794.922 L32.9077 799.219 L28.3562 799.219 L28.3562 794.922 L18.2347 794.922 L18.2347 789.034 Z\" fill=\"#000000\" fill-rule=\"evenodd\" fill-opacity=\"1\" /><path clip-path=\"url(#clip100)\" d=\"M46.0847 753.068 Q46.0847 760.166 47.7079 762.903 Q49.3312 765.64 53.2461 765.64 Q56.3653 765.64 58.2114 763.603 Q60.0256 761.534 60.0256 758.001 Q60.0256 753.131 56.5881 750.203 Q53.1188 747.243 47.3897 747.243 L46.0847 747.243 L46.0847 753.068 M43.6657 741.387 L64.0042 741.387 L64.0042 747.243 L58.5933 747.243 Q61.8398 749.248 63.3994 752.24 Q64.9272 755.232 64.9272 759.561 Q64.9272 765.035 61.8716 768.282 Q58.7843 771.496 53.6281 771.496 Q47.6125 771.496 44.5569 767.486 Q41.5014 763.444 41.5014 755.455 L41.5014 747.243 L40.9285 747.243 Q36.8862 747.243 34.6901 749.917 Q32.4621 752.559 32.4621 757.365 Q32.4621 760.42 33.1941 763.317 Q33.9262 766.213 35.3903 768.887 L29.9795 768.887 Q28.7381 765.672 28.1334 762.648 Q27.4968 759.624 27.4968 756.76 Q27.4968 749.026 31.5072 745.206 Q35.5176 741.387 43.6657 741.387 Z\" fill=\"#000000\" fill-rule=\"evenodd\" fill-opacity=\"1\" /><path clip-path=\"url(#clip100)\" d=\"M18.2347 723.531 L28.3562 723.531 L28.3562 711.468 L32.9077 711.468 L32.9077 723.531 L52.2594 723.531 Q56.6199 723.531 57.8613 722.353 Q59.1026 721.144 59.1026 717.483 L59.1026 711.468 L64.0042 711.468 L64.0042 717.483 Q64.0042 724.263 61.4897 726.841 Q58.9434 729.419 52.2594 729.419 L32.9077 729.419 L32.9077 733.716 L28.3562 733.716 L28.3562 729.419 L18.2347 729.419 L18.2347 723.531 Z\" fill=\"#000000\" fill-rule=\"evenodd\" fill-opacity=\"1\" /><path clip-path=\"url(#clip100)\" d=\"M44.7161 673.274 L47.5806 673.274 L47.5806 700.201 Q53.6281 699.819 56.8109 696.572 Q59.9619 693.294 59.9619 687.469 Q59.9619 684.095 59.1344 680.944 Q58.3069 677.761 56.6518 674.642 L62.1899 674.642 Q63.5267 677.793 64.227 681.103 Q64.9272 684.414 64.9272 687.819 Q64.9272 696.349 59.9619 701.346 Q54.9967 706.312 46.5303 706.312 Q37.7774 706.312 32.6531 701.601 Q27.4968 696.859 27.4968 688.838 Q27.4968 681.645 32.1438 677.475 Q36.7589 673.274 44.7161 673.274 M42.9973 679.13 Q38.1912 679.194 35.3266 681.836 Q32.4621 684.445 32.4621 688.774 Q32.4621 693.676 35.2312 696.636 Q38.0002 699.564 43.0292 700.01 L42.9973 679.13 Z\" fill=\"#000000\" fill-rule=\"evenodd\" fill-opacity=\"1\" /><path clip-path=\"url(#clip100)\" d=\"M29.4065 640.936 L34.9447 640.936 Q33.6716 643.418 33.035 646.092 Q32.3984 648.766 32.3984 651.63 Q32.3984 655.991 33.7352 658.187 Q35.072 660.351 37.7456 660.351 Q39.7826 660.351 40.9603 658.792 Q42.1061 657.232 43.1565 652.521 L43.6021 650.516 Q44.9389 644.278 47.3897 641.668 Q49.8086 639.026 54.1691 639.026 Q59.1344 639.026 62.0308 642.973 Q64.9272 646.888 64.9272 653.763 Q64.9272 656.627 64.3543 659.747 Q63.8132 662.834 62.6992 666.271 L56.6518 666.271 Q58.3387 663.025 59.198 659.874 Q60.0256 656.723 60.0256 653.635 Q60.0256 649.498 58.6251 647.27 Q57.1929 645.042 54.6147 645.042 Q52.2276 645.042 50.9545 646.665 Q49.6813 648.256 48.5037 653.699 L48.0262 655.736 Q46.8804 661.179 44.5251 663.598 Q42.138 666.017 38.0002 666.017 Q32.9713 666.017 30.2341 662.452 Q27.4968 658.887 27.4968 652.33 Q27.4968 649.084 27.9743 646.219 Q28.4517 643.355 29.4065 640.936 Z\" fill=\"#000000\" fill-rule=\"evenodd\" fill-opacity=\"1\" /><polyline clip-path=\"url(#clip102)\" style=\"stroke:#009af9; stroke-linecap:butt; stroke-linejoin:round; stroke-width:8; stroke-opacity:1; fill:none\" stroke-dasharray=\"32, 20\" points=\"\n  235.808,1384.24 249.51,1373.18 263.211,1342.25 276.913,1297.75 290.615,1248.76 304.317,1203.5 318.019,1165.97 331.721,1136.75 345.423,1115.22 359.125,1100.46 \n  372.827,1091.44 386.529,1086.95 400.231,1085.68 413.933,1086.33 427.635,1087.77 441.337,1089.19 455.038,1090.16 468.74,1090.55 482.442,1090.4 496.144,1089.9 \n  509.846,1089.22 523.548,1088.52 537.25,1087.91 550.952,1087.47 564.654,1087.24 578.356,1087.24 592.058,1087.46 605.76,1087.89 619.462,1088.53 633.164,1089.34 \n  646.866,1090.32 660.567,1091.45 674.269,1092.72 687.971,1094.12 701.673,1095.64 715.375,1097.27 729.077,1099 742.779,1100.83 756.481,1102.75 770.183,1104.74 \n  783.885,1106.81 797.587,1108.95 811.289,1111.15 824.991,1113.41 838.693,1115.72 852.394,1118.07 866.096,1120.47 879.798,1122.9 893.5,1125.36 907.202,1127.85 \n  920.904,1130.36 934.606,1132.88 948.308,1135.43 962.01,1137.98 975.712,1140.54 989.414,1143.1 1003.12,1145.66 1016.82,1148.22 1030.52,1150.78 1044.22,1153.32 \n  1057.92,1155.86 1071.63,1158.38 1085.33,1160.88 1099.03,1163.37 1112.73,1165.83 1126.43,1168.28 1140.14,1170.7 1153.84,1173.1 1167.54,1175.47 1181.24,1177.81 \n  1194.94,1180.12 1208.64,1182.4 1222.35,1184.65 1236.05,1186.87 1249.75,1189.05 1263.45,1191.2 1277.15,1193.31 1290.86,1195.39 1304.56,1197.43 1318.26,1199.43 \n  1331.96,1201.4 1345.66,1203.33 1359.37,1205.22 1373.07,1207.07 1386.77,1208.88 1400.47,1210.65 1414.17,1212.39 1427.88,1214.08 1441.58,1215.74 1455.28,1217.36 \n  1468.98,1218.94 1482.68,1220.48 1496.39,1221.98 1510.09,1223.44 1523.79,1224.87 1537.49,1226.26 1551.19,1227.61 1564.89,1228.92 1578.6,1230.2 1592.3,1231.44 \n  1606,1232.65 1619.7,1233.82 1633.4,1234.95 1647.11,1236.05 1660.81,1237.12 1674.51,1238.15 1688.21,1239.15 1701.91,1240.12 1715.62,1241.06 1729.32,1241.96 \n  1743.02,1242.84 1756.72,1243.68 1770.42,1244.5 1784.13,1245.28 1797.83,1246.04 1811.53,1246.77 1825.23,1247.47 1838.93,1248.14 1852.64,1248.79 1866.34,1249.42 \n  1880.04,1250.01 1893.74,1250.59 1907.44,1251.14 1921.15,1251.67 1934.85,1252.17 1948.55,1252.65 1962.25,1253.11 1975.95,1253.55 1989.65,1253.97 2003.36,1254.37 \n  2017.06,1254.75 2030.76,1255.12 2044.46,1255.46 2058.16,1255.79 2071.87,1256.1 2085.57,1256.39 2099.27,1256.67 2112.97,1256.93 2126.67,1257.18 2140.38,1257.41 \n  2154.08,1257.63 2167.78,1257.83 2181.48,1258.02 2195.18,1258.2 2208.89,1258.37 2222.59,1258.52 2236.29,1258.67 2249.99,1258.8 2263.69,1258.92 2277.4,1259.04 \n  2291.1,1259.14 \n  \"/>\n<polyline clip-path=\"url(#clip102)\" style=\"stroke:#e26f46; stroke-linecap:butt; stroke-linejoin:round; stroke-width:8; stroke-opacity:1; fill:none\" stroke-dasharray=\"32, 20\" points=\"\n  235.808,471.103 249.51,455.514 263.211,411.115 276.913,345.787 290.615,273.737 304.317,209.593 318.019,160.344 331.721,126.184 345.423,105.115 359.125,94.9422 \n  372.827,93.5449 386.529,98.7731 400.231,108.409 413.933,120.287 427.635,132.54 441.337,143.831 455.038,153.443 468.74,161.206 482.442,167.304 496.144,172.092 \n  509.846,175.952 523.548,179.212 537.25,182.121 550.952,184.842 564.654,187.474 578.356,190.065 592.058,192.633 605.76,195.178 619.462,197.689 633.164,200.157 \n  646.866,202.57 660.567,204.92 674.269,207.203 687.971,209.415 701.673,211.555 715.375,213.623 729.077,215.621 742.779,217.549 756.481,219.409 770.183,221.203 \n  783.885,222.932 797.587,224.599 811.289,226.204 824.991,227.749 838.693,229.236 852.394,230.666 866.096,232.041 879.798,233.361 893.5,234.628 907.202,235.844 \n  920.904,237.009 934.606,238.126 948.308,239.194 962.01,240.216 975.712,241.193 989.414,242.125 1003.12,243.014 1016.82,243.862 1030.52,244.669 1044.22,245.437 \n  1057.92,246.166 1071.63,246.859 1085.33,247.515 1099.03,248.137 1112.73,248.724 1126.43,249.279 1140.14,249.802 1153.84,250.295 1167.54,250.757 1181.24,251.191 \n  1194.94,251.598 1208.64,251.977 1222.35,252.331 1236.05,252.66 1249.75,252.965 1263.45,253.247 1277.15,253.507 1290.86,253.745 1304.56,253.963 1318.26,254.161 \n  1331.96,254.34 1345.66,254.501 1359.37,254.645 1373.07,254.772 1386.77,254.883 1400.47,254.978 1414.17,255.059 1427.88,255.127 1441.58,255.181 1455.28,255.222 \n  1468.98,255.251 1482.68,255.269 1496.39,255.276 1510.09,255.273 1523.79,255.26 1537.49,255.238 1551.19,255.207 1564.89,255.168 1578.6,255.121 1592.3,255.066 \n  1606,255.005 1619.7,254.938 1633.4,254.864 1647.11,254.785 1660.81,254.701 1674.51,254.612 1688.21,254.518 1701.91,254.42 1715.62,254.318 1729.32,254.213 \n  1743.02,254.105 1756.72,253.994 1770.42,253.88 1784.13,253.764 1797.83,253.646 1811.53,253.525 1825.23,253.404 1838.93,253.281 1852.64,253.157 1866.34,253.032 \n  1880.04,252.906 1893.74,252.779 1907.44,252.652 1921.15,252.526 1934.85,252.398 1948.55,252.272 1962.25,252.145 1975.95,252.019 1989.65,251.893 2003.36,251.768 \n  2017.06,251.643 2030.76,251.52 2044.46,251.397 2058.16,251.276 2071.87,251.156 2085.57,251.037 2099.27,250.919 2112.97,250.802 2126.67,250.687 2140.38,250.574 \n  2154.08,250.462 2167.78,250.352 2181.48,250.243 2195.18,250.136 2208.89,250.031 2222.59,249.928 2236.29,249.826 2249.99,249.726 2263.69,249.629 2277.4,249.533 \n  2291.1,249.438 \n  \"/>\n<polyline clip-path=\"url(#clip102)\" style=\"stroke:#009af9; stroke-linecap:butt; stroke-linejoin:round; stroke-width:8; stroke-opacity:1; fill:none\" stroke-dasharray=\"4, 8\" points=\"\n  235.808,1384.24 249.51,1379.69 263.211,1366.9 276.913,1347.59 290.615,1323.63 304.317,1296.92 318.019,1269.26 331.721,1242.07 345.423,1216.38 359.125,1192.76 \n  372.827,1171.45 386.529,1152.49 400.231,1135.77 413.933,1121.1 427.635,1108.29 441.337,1097.11 455.038,1087.35 468.74,1078.8 482.442,1071.26 496.144,1064.58 \n  509.846,1058.59 523.548,1053.18 537.25,1048.22 550.952,1043.65 564.654,1039.4 578.356,1035.41 592.058,1031.65 605.76,1028.1 619.462,1024.75 633.164,1021.57 \n  646.866,1018.57 660.567,1015.75 674.269,1013.11 687.971,1010.64 701.673,1008.34 715.375,1006.23 729.077,1004.29 742.779,1002.54 756.481,1000.95 770.183,999.543 \n  783.885,998.305 797.587,997.234 811.289,996.327 824.991,995.581 838.693,994.989 852.394,994.549 866.096,994.255 879.798,994.103 893.5,994.087 907.202,994.204 \n  920.904,994.449 934.606,994.817 948.308,995.303 962.01,995.904 975.712,996.615 989.414,997.432 1003.12,998.351 1016.82,999.368 1030.52,1000.48 1044.22,1001.68 \n  1057.92,1002.97 1071.63,1004.34 1085.33,1005.79 1099.03,1007.32 1112.73,1008.92 1126.43,1010.59 1140.14,1012.33 1153.84,1014.13 1167.54,1015.99 1181.24,1017.91 \n  1194.94,1019.89 1208.64,1021.91 1222.35,1023.99 1236.05,1026.11 1249.75,1028.28 1263.45,1030.49 1277.15,1032.73 1290.86,1035.02 1304.56,1037.34 1318.26,1039.69 \n  1331.96,1042.07 1345.66,1044.47 1359.37,1046.91 1373.07,1049.36 1386.77,1051.84 1400.47,1054.34 1414.17,1056.85 1427.88,1059.38 1441.58,1061.92 1455.28,1064.48 \n  1468.98,1067.05 1482.68,1069.62 1496.39,1072.21 1510.09,1074.8 1523.79,1077.39 1537.49,1079.99 1551.19,1082.58 1564.89,1085.18 1578.6,1087.78 1592.3,1090.37 \n  1606,1092.96 1619.7,1095.55 1633.4,1098.13 1647.11,1100.7 1660.81,1103.27 1674.51,1105.82 1688.21,1108.37 1701.91,1110.9 1715.62,1113.43 1729.32,1115.94 \n  1743.02,1118.43 1756.72,1120.92 1770.42,1123.38 1784.13,1125.84 1797.83,1128.27 1811.53,1130.69 1825.23,1133.09 1838.93,1135.47 1852.64,1137.83 1866.34,1140.17 \n  1880.04,1142.5 1893.74,1144.8 1907.44,1147.08 1921.15,1149.34 1934.85,1151.58 1948.55,1153.79 1962.25,1155.99 1975.95,1158.16 1989.65,1160.3 2003.36,1162.43 \n  2017.06,1164.52 2030.76,1166.6 2044.46,1168.65 2058.16,1170.68 2071.87,1172.68 2085.57,1174.65 2099.27,1176.6 2112.97,1178.53 2126.67,1180.43 2140.38,1182.31 \n  2154.08,1184.16 2167.78,1185.98 2181.48,1187.78 2195.18,1189.55 2208.89,1191.3 2222.59,1193.02 2236.29,1194.71 2249.99,1196.38 2263.69,1198.03 2277.4,1199.64 \n  2291.1,1201.24 \n  \"/>\n<polyline clip-path=\"url(#clip102)\" style=\"stroke:#e26f46; stroke-linecap:butt; stroke-linejoin:round; stroke-width:8; stroke-opacity:1; fill:none\" stroke-dasharray=\"4, 8\" points=\"\n  235.808,471.103 249.51,465.183 263.211,448.513 276.913,423.295 290.615,391.962 304.317,357.232 318.019,321.864 331.721,288.236 345.423,258.014 359.125,232.079 \n  372.827,210.67 386.529,193.616 400.231,180.522 413.933,170.899 427.635,164.236 441.337,160.039 455.038,157.847 468.74,157.242 482.442,157.854 496.144,159.362 \n  509.846,161.497 523.548,164.034 537.25,166.798 550.952,169.651 564.654,172.494 578.356,175.257 592.058,177.897 605.76,180.39 619.462,182.726 633.164,184.907 \n  646.866,186.942 660.567,188.844 674.269,190.629 687.971,192.313 701.673,193.909 715.375,195.433 729.077,196.896 742.779,198.308 756.481,199.679 770.183,201.015 \n  783.885,202.32 797.587,203.6 811.289,204.856 824.991,206.091 838.693,207.305 852.394,208.501 866.096,209.677 879.798,210.835 893.5,211.974 907.202,213.094 \n  920.904,214.194 934.606,215.275 948.308,216.337 962.01,217.379 975.712,218.401 989.414,219.404 1003.12,220.387 1016.82,221.35 1030.52,222.294 1044.22,223.219 \n  1057.92,224.124 1071.63,225.011 1085.33,225.878 1099.03,226.727 1112.73,227.557 1126.43,228.37 1140.14,229.164 1153.84,229.94 1167.54,230.7 1181.24,231.441 \n  1194.94,232.166 1208.64,232.874 1222.35,233.565 1236.05,234.24 1249.75,234.899 1263.45,235.541 1277.15,236.168 1290.86,236.78 1304.56,237.376 1318.26,237.957 \n  1331.96,238.523 1345.66,239.075 1359.37,239.612 1373.07,240.135 1386.77,240.644 1400.47,241.139 1414.17,241.621 1427.88,242.089 1441.58,242.545 1455.28,242.987 \n  1468.98,243.416 1482.68,243.833 1496.39,244.238 1510.09,244.631 1523.79,245.011 1537.49,245.38 1551.19,245.738 1564.89,246.084 1578.6,246.42 1592.3,246.744 \n  1606,247.058 1619.7,247.361 1633.4,247.654 1647.11,247.937 1660.81,248.209 1674.51,248.473 1688.21,248.726 1701.91,248.971 1715.62,249.206 1729.32,249.433 \n  1743.02,249.65 1756.72,249.859 1770.42,250.06 1784.13,250.252 1797.83,250.437 1811.53,250.613 1825.23,250.782 1838.93,250.943 1852.64,251.097 1866.34,251.244 \n  1880.04,251.383 1893.74,251.516 1907.44,251.642 1921.15,251.762 1934.85,251.875 1948.55,251.982 1962.25,252.083 1975.95,252.178 1989.65,252.267 2003.36,252.351 \n  2017.06,252.429 2030.76,252.501 2044.46,252.569 2058.16,252.631 2071.87,252.689 2085.57,252.742 2099.27,252.79 2112.97,252.834 2126.67,252.873 2140.38,252.908 \n  2154.08,252.938 2167.78,252.965 2181.48,252.988 2195.18,253.007 2208.89,253.022 2222.59,253.034 2236.29,253.043 2249.99,253.048 2263.69,253.049 2277.4,253.048 \n  2291.1,253.044 \n  \"/>\n<polyline clip-path=\"url(#clip102)\" style=\"stroke:#009af9; stroke-linecap:butt; stroke-linejoin:round; stroke-width:8; stroke-opacity:1; fill:none\" points=\"\n  235.808,1384.24 249.51,1373.88 263.211,1344.63 276.913,1301.77 290.615,1253.3 304.317,1207.22 318.019,1168.1 331.721,1137.19 345.423,1114.24 359.125,1098.6 \n  372.827,1089.4 386.529,1085.53 400.231,1085.66 413.933,1088.31 427.635,1092.11 441.337,1095.94 455.038,1099.12 468.74,1101.37 482.442,1102.71 496.144,1103.32 \n  509.846,1103.45 523.548,1103.34 537.25,1103.17 550.952,1103.07 564.654,1103.13 578.356,1103.39 592.058,1103.86 605.76,1104.54 619.462,1105.41 633.164,1106.46 \n  646.866,1107.66 660.567,1109 674.269,1110.46 687.971,1112.03 701.673,1113.7 715.375,1115.46 729.077,1117.29 742.779,1119.2 756.481,1121.18 770.183,1123.22 \n  783.885,1125.32 797.587,1127.46 811.289,1129.66 824.991,1131.89 838.693,1134.16 852.394,1136.46 866.096,1138.78 879.798,1141.13 893.5,1143.49 907.202,1145.87 \n  920.904,1148.26 934.606,1150.66 948.308,1153.06 962.01,1155.46 975.712,1157.86 989.414,1160.25 1003.12,1162.64 1016.82,1165.01 1030.52,1167.37 1044.22,1169.71 \n  1057.92,1172.04 1071.63,1174.35 1085.33,1176.64 1099.03,1178.9 1112.73,1181.14 1126.43,1183.35 1140.14,1185.53 1153.84,1187.69 1167.54,1189.81 1181.24,1191.91 \n  1194.94,1193.97 1208.64,1196 1222.35,1198 1236.05,1199.96 1249.75,1201.89 1263.45,1203.78 1277.15,1205.63 1290.86,1207.45 1304.56,1209.23 1318.26,1210.98 \n  1331.96,1212.69 1345.66,1214.36 1359.37,1215.99 1373.07,1217.59 1386.77,1219.14 1400.47,1220.66 1414.17,1222.15 1427.88,1223.59 1441.58,1225 1455.28,1226.38 \n  1468.98,1227.71 1482.68,1229.01 1496.39,1230.27 1510.09,1231.5 1523.79,1232.69 1537.49,1233.85 1551.19,1234.98 1564.89,1236.06 1578.6,1237.12 1592.3,1238.14 \n  1606,1239.13 1619.7,1240.09 1633.4,1241.02 1647.11,1241.91 1660.81,1242.78 1674.51,1243.61 1688.21,1244.42 1701.91,1245.19 1715.62,1245.94 1729.32,1246.66 \n  1743.02,1247.36 1756.72,1248.02 1770.42,1248.66 1784.13,1249.28 1797.83,1249.87 1811.53,1250.44 1825.23,1250.98 1838.93,1251.5 1852.64,1252 1866.34,1252.47 \n  1880.04,1252.93 1893.74,1253.36 1907.44,1253.78 1921.15,1254.17 1934.85,1254.55 1948.55,1254.9 1962.25,1255.24 1975.95,1255.56 1989.65,1255.87 2003.36,1256.15 \n  2017.06,1256.42 2030.76,1256.68 2044.46,1256.92 2058.16,1257.15 2071.87,1257.36 2085.57,1257.56 2099.27,1257.75 2112.97,1257.93 2126.67,1258.09 2140.38,1258.24 \n  2154.08,1258.38 2167.78,1258.51 2181.48,1258.63 2195.18,1258.74 2208.89,1258.84 2222.59,1258.93 2236.29,1259.01 2249.99,1259.08 2263.69,1259.15 2277.4,1259.2 \n  2291.1,1259.25 \n  \"/>\n<polyline clip-path=\"url(#clip102)\" style=\"stroke:#e26f46; stroke-linecap:butt; stroke-linejoin:round; stroke-width:8; stroke-opacity:1; fill:none\" points=\"\n  235.808,471.103 249.51,456.562 263.211,414.769 276.913,352.058 290.615,280.693 304.317,214.709 318.019,162.24 331.721,124.71 345.423,100.768 359.125,88.5572 \n  372.827,86.1857 386.529,91.647 400.231,102.716 413.933,117.01 427.635,132.242 441.337,146.575 455.038,158.866 468.74,168.688 482.442,176.152 496.144,181.675 \n  509.846,185.769 523.548,188.912 537.25,191.49 550.952,193.774 564.654,195.939 578.356,198.082 592.058,200.244 605.76,202.433 619.462,204.638 633.164,206.84 \n  646.866,209.02 660.567,211.16 674.269,213.247 687.971,215.272 701.673,217.231 715.375,219.122 729.077,220.943 742.779,222.696 756.481,224.382 770.183,226.004 \n  783.885,227.563 797.587,229.061 811.289,230.501 824.991,231.883 838.693,233.209 852.394,234.482 866.096,235.702 879.798,236.87 893.5,237.989 907.202,239.059 \n  920.904,240.081 934.606,241.058 948.308,241.989 962.01,242.877 975.712,243.723 989.414,244.527 1003.12,245.291 1016.82,246.016 1030.52,246.704 1044.22,247.355 \n  1057.92,247.971 1071.63,248.552 1085.33,249.101 1099.03,249.617 1112.73,250.102 1126.43,250.558 1140.14,250.984 1153.84,251.383 1167.54,251.754 1181.24,252.1 \n  1194.94,252.421 1208.64,252.717 1222.35,252.991 1236.05,253.242 1249.75,253.472 1263.45,253.681 1277.15,253.871 1290.86,254.041 1304.56,254.194 1318.26,254.33 \n  1331.96,254.448 1345.66,254.551 1359.37,254.639 1373.07,254.713 1386.77,254.773 1400.47,254.82 1414.17,254.854 1427.88,254.876 1441.58,254.888 1455.28,254.889 \n  1468.98,254.879 1482.68,254.861 1496.39,254.833 1510.09,254.797 1523.79,254.753 1537.49,254.701 1551.19,254.642 1564.89,254.577 1578.6,254.506 1592.3,254.429 \n  1606,254.347 1619.7,254.26 1633.4,254.168 1647.11,254.072 1660.81,253.972 1674.51,253.869 1688.21,253.763 1701.91,253.653 1715.62,253.541 1729.32,253.427 \n  1743.02,253.311 1756.72,253.193 1770.42,253.073 1784.13,252.952 1797.83,252.83 1811.53,252.707 1825.23,252.583 1838.93,252.459 1852.64,252.335 1866.34,252.21 \n  1880.04,252.085 1893.74,251.961 1907.44,251.837 1921.15,251.713 1934.85,251.59 1948.55,251.468 1962.25,251.347 1975.95,251.226 1989.65,251.106 2003.36,250.988 \n  2017.06,250.871 2030.76,250.755 2044.46,250.641 2058.16,250.528 2071.87,250.416 2085.57,250.306 2099.27,250.198 2112.97,250.091 2126.67,249.986 2140.38,249.883 \n  2154.08,249.782 2167.78,249.682 2181.48,249.585 2195.18,249.489 2208.89,249.395 2222.59,249.303 2236.29,249.213 2249.99,249.125 2263.69,249.038 2277.4,248.954 \n  2291.1,248.872 \n  \"/>\n<path clip-path=\"url(#clip100)\" d=\"\nM1499.18 890.732 L2280.14 890.732 L2280.14 527.852 L1499.18 527.852  Z\n  \" fill=\"#ffffff\" fill-rule=\"evenodd\" fill-opacity=\"1\"/>\n<polyline clip-path=\"url(#clip100)\" style=\"stroke:#000000; stroke-linecap:butt; stroke-linejoin:round; stroke-width:4; stroke-opacity:1; fill:none\" points=\"\n  1499.18,890.732 2280.14,890.732 2280.14,527.852 1499.18,527.852 1499.18,890.732 \n  \"/>\n<polyline clip-path=\"url(#clip100)\" style=\"stroke:#009af9; stroke-linecap:butt; stroke-linejoin:round; stroke-width:4; stroke-opacity:1; fill:none\" stroke-dasharray=\"16, 10\" points=\"\n  1523.39,579.692 1668.63,579.692 \n  \"/>\n<path clip-path=\"url(#clip100)\" d=\"M1717.49 571.046 L1708.11 583.662 L1717.97 596.972 L1712.95 596.972 L1705.41 586.787 L1697.86 596.972 L1692.84 596.972 L1702.91 583.407 L1693.69 571.046 L1698.72 571.046 L1705.59 580.282 L1712.47 571.046 L1717.49 571.046 Z\" fill=\"#000000\" fill-rule=\"evenodd\" fill-opacity=\"1\" /><path clip-path=\"url(#clip100)\" d=\"M1749.29 561 Q1746.19 566.324 1744.69 571.532 Q1743.18 576.741 1743.18 582.088 Q1743.18 587.435 1744.69 592.69 Q1746.22 597.921 1749.29 603.222 L1745.59 603.222 Q1742.12 597.782 1740.38 592.528 Q1738.67 587.273 1738.67 582.088 Q1738.67 576.926 1740.38 571.694 Q1742.1 566.463 1745.59 561 L1749.29 561 Z\" fill=\"#000000\" fill-rule=\"evenodd\" fill-opacity=\"1\" /><path clip-path=\"url(#clip100)\" d=\"M1767.6 574.032 Q1764.18 574.032 1762.19 576.717 Q1760.2 579.379 1760.2 584.032 Q1760.2 588.685 1762.16 591.37 Q1764.16 594.032 1767.6 594.032 Q1771.01 594.032 1773 591.347 Q1774.99 588.662 1774.99 584.032 Q1774.99 579.426 1773 576.741 Q1771.01 574.032 1767.6 574.032 M1767.6 570.421 Q1773.16 570.421 1776.33 574.032 Q1779.5 577.643 1779.5 584.032 Q1779.5 590.398 1776.33 594.032 Q1773.16 597.643 1767.6 597.643 Q1762.03 597.643 1758.85 594.032 Q1755.71 590.398 1755.71 584.032 Q1755.71 577.643 1758.85 574.032 Q1762.03 570.421 1767.6 570.421 Z\" fill=\"#000000\" fill-rule=\"evenodd\" fill-opacity=\"1\" /><path clip-path=\"url(#clip100)\" d=\"M1803.62 583.708 Q1803.62 579.079 1801.7 576.532 Q1799.8 573.986 1796.35 573.986 Q1792.93 573.986 1791.01 576.532 Q1789.11 579.079 1789.11 583.708 Q1789.11 588.315 1791.01 590.861 Q1792.93 593.407 1796.35 593.407 Q1799.8 593.407 1801.7 590.861 Q1803.62 588.315 1803.62 583.708 M1807.88 593.754 Q1807.88 600.375 1804.94 603.592 Q1802 606.833 1795.94 606.833 Q1793.69 606.833 1791.7 606.486 Q1789.71 606.162 1787.84 605.467 L1787.84 601.324 Q1789.71 602.342 1791.54 602.828 Q1793.37 603.315 1795.27 603.315 Q1799.46 603.315 1801.54 601.115 Q1803.62 598.94 1803.62 594.518 L1803.62 592.412 Q1802.3 594.703 1800.24 595.838 Q1798.18 596.972 1795.31 596.972 Q1790.54 596.972 1787.63 593.338 Q1784.71 589.703 1784.71 583.708 Q1784.71 577.69 1787.63 574.055 Q1790.54 570.421 1795.31 570.421 Q1798.18 570.421 1800.24 571.555 Q1802.3 572.69 1803.62 574.981 L1803.62 571.046 L1807.88 571.046 L1807.88 593.754 Z\" fill=\"#000000\" fill-rule=\"evenodd\" fill-opacity=\"1\" /><path clip-path=\"url(#clip100)\" d=\"M1848.78 574.981 L1848.78 560.954 L1853.04 560.954 L1853.04 596.972 L1848.78 596.972 L1848.78 593.083 Q1847.44 595.398 1845.38 596.532 Q1843.34 597.643 1840.47 597.643 Q1835.78 597.643 1832.81 593.893 Q1829.87 590.143 1829.87 584.032 Q1829.87 577.921 1832.81 574.171 Q1835.78 570.421 1840.47 570.421 Q1843.34 570.421 1845.38 571.555 Q1847.44 572.667 1848.78 574.981 M1834.27 584.032 Q1834.27 588.731 1836.19 591.416 Q1838.14 594.078 1841.52 594.078 Q1844.9 594.078 1846.84 591.416 Q1848.78 588.731 1848.78 584.032 Q1848.78 579.333 1846.84 576.671 Q1844.9 573.986 1841.52 573.986 Q1838.14 573.986 1836.19 576.671 Q1834.27 579.333 1834.27 584.032 Z\" fill=\"#000000\" fill-rule=\"evenodd\" fill-opacity=\"1\" /><path clip-path=\"url(#clip100)\" d=\"M1872.6 599.379 Q1870.8 604.009 1869.09 605.421 Q1867.37 606.833 1864.5 606.833 L1861.1 606.833 L1861.1 603.268 L1863.6 603.268 Q1865.36 603.268 1866.33 602.435 Q1867.3 601.602 1868.48 598.5 L1869.25 596.555 L1858.76 571.046 L1863.28 571.046 L1871.38 591.324 L1879.48 571.046 L1883.99 571.046 L1872.6 599.379 Z\" fill=\"#000000\" fill-rule=\"evenodd\" fill-opacity=\"1\" /><path clip-path=\"url(#clip100)\" d=\"M1911.42 581.324 L1911.42 596.972 L1907.16 596.972 L1907.16 581.463 Q1907.16 577.782 1905.73 575.954 Q1904.29 574.125 1901.42 574.125 Q1897.97 574.125 1895.98 576.324 Q1893.99 578.523 1893.99 582.319 L1893.99 596.972 L1889.71 596.972 L1889.71 571.046 L1893.99 571.046 L1893.99 575.074 Q1895.52 572.736 1897.58 571.579 Q1899.66 570.421 1902.37 570.421 Q1906.84 570.421 1909.13 573.199 Q1911.42 575.954 1911.42 581.324 Z\" fill=\"#000000\" fill-rule=\"evenodd\" fill-opacity=\"1\" /><path clip-path=\"url(#clip100)\" d=\"M1931.7 583.94 Q1926.54 583.94 1924.55 585.12 Q1922.56 586.301 1922.56 589.148 Q1922.56 591.416 1924.04 592.759 Q1925.54 594.078 1928.11 594.078 Q1931.65 594.078 1933.78 591.578 Q1935.94 589.055 1935.94 584.889 L1935.94 583.94 L1931.7 583.94 M1940.2 582.18 L1940.2 596.972 L1935.94 596.972 L1935.94 593.037 Q1934.48 595.398 1932.3 596.532 Q1930.13 597.643 1926.98 597.643 Q1923 597.643 1920.64 595.421 Q1918.3 593.176 1918.3 589.426 Q1918.3 585.051 1921.21 582.829 Q1924.15 580.606 1929.96 580.606 L1935.94 580.606 L1935.94 580.19 Q1935.94 577.25 1933.99 575.653 Q1932.07 574.032 1928.58 574.032 Q1926.35 574.032 1924.25 574.565 Q1922.14 575.097 1920.2 576.162 L1920.2 572.227 Q1922.53 571.324 1924.73 570.884 Q1926.93 570.421 1929.02 570.421 Q1934.64 570.421 1937.42 573.338 Q1940.2 576.254 1940.2 582.18 Z\" fill=\"#000000\" fill-rule=\"evenodd\" fill-opacity=\"1\" /><path clip-path=\"url(#clip100)\" d=\"M1969.15 576.023 Q1970.75 573.153 1972.97 571.787 Q1975.2 570.421 1978.21 570.421 Q1982.26 570.421 1984.45 573.268 Q1986.65 576.092 1986.65 581.324 L1986.65 596.972 L1982.37 596.972 L1982.37 581.463 Q1982.37 577.736 1981.05 575.93 Q1979.73 574.125 1977.02 574.125 Q1973.71 574.125 1971.79 576.324 Q1969.87 578.523 1969.87 582.319 L1969.87 596.972 L1965.59 596.972 L1965.59 581.463 Q1965.59 577.713 1964.27 575.93 Q1962.95 574.125 1960.2 574.125 Q1956.93 574.125 1955.01 576.347 Q1953.09 578.546 1953.09 582.319 L1953.09 596.972 L1948.81 596.972 L1948.81 571.046 L1953.09 571.046 L1953.09 575.074 Q1954.55 572.69 1956.58 571.555 Q1958.62 570.421 1961.42 570.421 Q1964.25 570.421 1966.21 571.856 Q1968.21 573.292 1969.15 576.023 Z\" fill=\"#000000\" fill-rule=\"evenodd\" fill-opacity=\"1\" /><path clip-path=\"url(#clip100)\" d=\"M1995.15 571.046 L1999.41 571.046 L1999.41 596.972 L1995.15 596.972 L1995.15 571.046 M1995.15 560.954 L1999.41 560.954 L1999.41 566.347 L1995.15 566.347 L1995.15 560.954 Z\" fill=\"#000000\" fill-rule=\"evenodd\" fill-opacity=\"1\" /><path clip-path=\"url(#clip100)\" d=\"M2026.98 572.042 L2026.98 576.023 Q2025.17 575.028 2023.34 574.542 Q2021.54 574.032 2019.69 574.032 Q2015.54 574.032 2013.25 576.671 Q2010.96 579.287 2010.96 584.032 Q2010.96 588.778 2013.25 591.416 Q2015.54 594.032 2019.69 594.032 Q2021.54 594.032 2023.34 593.546 Q2025.17 593.037 2026.98 592.041 L2026.98 595.977 Q2025.2 596.81 2023.27 597.227 Q2021.38 597.643 2019.22 597.643 Q2013.37 597.643 2009.92 593.963 Q2006.47 590.282 2006.47 584.032 Q2006.47 577.69 2009.94 574.055 Q2013.44 570.421 2019.5 570.421 Q2021.47 570.421 2023.34 570.838 Q2025.22 571.231 2026.98 572.042 Z\" fill=\"#000000\" fill-rule=\"evenodd\" fill-opacity=\"1\" /><path clip-path=\"url(#clip100)\" d=\"M2050.91 571.81 L2050.91 575.838 Q2049.11 574.912 2047.16 574.449 Q2045.22 573.986 2043.14 573.986 Q2039.96 573.986 2038.37 574.958 Q2036.79 575.93 2036.79 577.875 Q2036.79 579.356 2037.93 580.213 Q2039.06 581.046 2042.49 581.81 L2043.95 582.134 Q2048.48 583.106 2050.38 584.889 Q2052.3 586.648 2052.3 589.819 Q2052.3 593.43 2049.43 595.537 Q2046.58 597.643 2041.58 597.643 Q2039.5 597.643 2037.23 597.227 Q2034.99 596.833 2032.49 596.023 L2032.49 591.625 Q2034.85 592.852 2037.14 593.477 Q2039.43 594.078 2041.68 594.078 Q2044.69 594.078 2046.31 593.06 Q2047.93 592.018 2047.93 590.143 Q2047.93 588.407 2046.75 587.481 Q2045.59 586.555 2041.63 585.699 L2040.15 585.352 Q2036.19 584.518 2034.43 582.805 Q2032.67 581.069 2032.67 578.06 Q2032.67 574.403 2035.26 572.412 Q2037.86 570.421 2042.63 570.421 Q2044.99 570.421 2047.07 570.768 Q2049.15 571.116 2050.91 571.81 Z\" fill=\"#000000\" fill-rule=\"evenodd\" fill-opacity=\"1\" /><path clip-path=\"url(#clip100)\" d=\"M2058.41 561 L2062.12 561 Q2065.59 566.463 2067.3 571.694 Q2069.04 576.926 2069.04 582.088 Q2069.04 587.273 2067.3 592.528 Q2065.59 597.782 2062.12 603.222 L2058.41 603.222 Q2061.49 597.921 2063 592.69 Q2064.52 587.435 2064.52 582.088 Q2064.52 576.741 2063 571.532 Q2061.49 566.324 2058.41 561 Z\" fill=\"#000000\" fill-rule=\"evenodd\" fill-opacity=\"1\" /><polyline clip-path=\"url(#clip100)\" style=\"stroke:#e26f46; stroke-linecap:butt; stroke-linejoin:round; stroke-width:4; stroke-opacity:1; fill:none\" stroke-dasharray=\"16, 10\" points=\"\n  1523.39,631.532 1668.63,631.532 \n  \"/>\n<path clip-path=\"url(#clip100)\" d=\"M1712.1 632.377 L1697.35 632.377 Q1697.7 639.298 1699.29 642.238 Q1701.29 645.849 1704.73 645.849 Q1708.21 645.849 1710.13 642.215 Q1711.82 639.02 1712.1 632.377 M1712.03 628.442 Q1711.38 621.868 1710.13 619.553 Q1708.14 615.895 1704.73 615.895 Q1701.19 615.895 1699.32 619.507 Q1697.84 622.423 1697.4 628.442 L1712.03 628.442 M1704.73 612.423 Q1710.29 612.423 1713.46 617.331 Q1716.63 622.215 1716.63 630.872 Q1716.63 639.506 1713.46 644.414 Q1710.29 649.344 1704.73 649.344 Q1699.16 649.344 1696.01 644.414 Q1692.84 639.506 1692.84 630.872 Q1692.84 622.215 1696.01 617.331 Q1699.16 612.423 1704.73 612.423 Z\" fill=\"#000000\" fill-rule=\"evenodd\" fill-opacity=\"1\" /><path clip-path=\"url(#clip100)\" d=\"M1748.99 612.84 Q1745.89 618.164 1744.39 623.372 Q1742.88 628.581 1742.88 633.928 Q1742.88 639.275 1744.39 644.53 Q1745.91 649.761 1748.99 655.062 L1745.29 655.062 Q1741.82 649.622 1740.08 644.368 Q1738.37 639.113 1738.37 633.928 Q1738.37 628.766 1740.08 623.534 Q1741.79 618.303 1745.29 612.84 L1748.99 612.84 Z\" fill=\"#000000\" fill-rule=\"evenodd\" fill-opacity=\"1\" /><path clip-path=\"url(#clip100)\" d=\"M1767.3 625.872 Q1763.88 625.872 1761.89 628.557 Q1759.9 631.219 1759.9 635.872 Q1759.9 640.525 1761.86 643.21 Q1763.85 645.872 1767.3 645.872 Q1770.71 645.872 1772.7 643.187 Q1774.69 640.502 1774.69 635.872 Q1774.69 631.266 1772.7 628.581 Q1770.71 625.872 1767.3 625.872 M1767.3 622.261 Q1772.86 622.261 1776.03 625.872 Q1779.2 629.483 1779.2 635.872 Q1779.2 642.238 1776.03 645.872 Q1772.86 649.483 1767.3 649.483 Q1761.72 649.483 1758.55 645.872 Q1755.41 642.238 1755.41 635.872 Q1755.41 629.483 1758.55 625.872 Q1761.72 622.261 1767.3 622.261 Z\" fill=\"#000000\" fill-rule=\"evenodd\" fill-opacity=\"1\" /><path clip-path=\"url(#clip100)\" d=\"M1803.32 635.548 Q1803.32 630.919 1801.4 628.372 Q1799.5 625.826 1796.05 625.826 Q1792.63 625.826 1790.71 628.372 Q1788.81 630.919 1788.81 635.548 Q1788.81 640.155 1790.71 642.701 Q1792.63 645.247 1796.05 645.247 Q1799.5 645.247 1801.4 642.701 Q1803.32 640.155 1803.32 635.548 M1807.58 645.594 Q1807.58 652.215 1804.64 655.432 Q1801.7 658.673 1795.64 658.673 Q1793.39 658.673 1791.4 658.326 Q1789.41 658.002 1787.53 657.307 L1787.53 653.164 Q1789.41 654.182 1791.24 654.668 Q1793.07 655.155 1794.97 655.155 Q1799.16 655.155 1801.24 652.955 Q1803.32 650.78 1803.32 646.358 L1803.32 644.252 Q1802 646.543 1799.94 647.678 Q1797.88 648.812 1795.01 648.812 Q1790.24 648.812 1787.33 645.178 Q1784.41 641.543 1784.41 635.548 Q1784.41 629.53 1787.33 625.895 Q1790.24 622.261 1795.01 622.261 Q1797.88 622.261 1799.94 623.395 Q1802 624.53 1803.32 626.821 L1803.32 622.886 L1807.58 622.886 L1807.58 645.594 Z\" fill=\"#000000\" fill-rule=\"evenodd\" fill-opacity=\"1\" /><path clip-path=\"url(#clip100)\" d=\"M1848.48 626.821 L1848.48 612.794 L1852.74 612.794 L1852.74 648.812 L1848.48 648.812 L1848.48 644.923 Q1847.14 647.238 1845.08 648.372 Q1843.04 649.483 1840.17 649.483 Q1835.47 649.483 1832.51 645.733 Q1829.57 641.983 1829.57 635.872 Q1829.57 629.761 1832.51 626.011 Q1835.47 622.261 1840.17 622.261 Q1843.04 622.261 1845.08 623.395 Q1847.14 624.507 1848.48 626.821 M1833.97 635.872 Q1833.97 640.571 1835.89 643.256 Q1837.84 645.918 1841.22 645.918 Q1844.59 645.918 1846.54 643.256 Q1848.48 640.571 1848.48 635.872 Q1848.48 631.173 1846.54 628.511 Q1844.59 625.826 1841.22 625.826 Q1837.84 625.826 1835.89 628.511 Q1833.97 631.173 1833.97 635.872 Z\" fill=\"#000000\" fill-rule=\"evenodd\" fill-opacity=\"1\" /><path clip-path=\"url(#clip100)\" d=\"M1872.3 651.219 Q1870.5 655.849 1868.78 657.261 Q1867.07 658.673 1864.2 658.673 L1860.8 658.673 L1860.8 655.108 L1863.3 655.108 Q1865.06 655.108 1866.03 654.275 Q1867 653.442 1868.18 650.34 L1868.95 648.395 L1858.46 622.886 L1862.97 622.886 L1871.08 643.164 L1879.18 622.886 L1883.69 622.886 L1872.3 651.219 Z\" fill=\"#000000\" fill-rule=\"evenodd\" fill-opacity=\"1\" /><path clip-path=\"url(#clip100)\" d=\"M1911.12 633.164 L1911.12 648.812 L1906.86 648.812 L1906.86 633.303 Q1906.86 629.622 1905.43 627.794 Q1903.99 625.965 1901.12 625.965 Q1897.67 625.965 1895.68 628.164 Q1893.69 630.363 1893.69 634.159 L1893.69 648.812 L1889.41 648.812 L1889.41 622.886 L1893.69 622.886 L1893.69 626.914 Q1895.22 624.576 1897.28 623.419 Q1899.36 622.261 1902.07 622.261 Q1906.54 622.261 1908.83 625.039 Q1911.12 627.794 1911.12 633.164 Z\" fill=\"#000000\" fill-rule=\"evenodd\" fill-opacity=\"1\" /><path clip-path=\"url(#clip100)\" d=\"M1931.4 635.78 Q1926.24 635.78 1924.25 636.96 Q1922.26 638.141 1922.26 640.988 Q1922.26 643.256 1923.74 644.599 Q1925.24 645.918 1927.81 645.918 Q1931.35 645.918 1933.48 643.418 Q1935.64 640.895 1935.64 636.729 L1935.64 635.78 L1931.4 635.78 M1939.9 634.02 L1939.9 648.812 L1935.64 648.812 L1935.64 644.877 Q1934.18 647.238 1932 648.372 Q1929.83 649.483 1926.68 649.483 Q1922.7 649.483 1920.33 647.261 Q1918 645.016 1918 641.266 Q1918 636.891 1920.91 634.669 Q1923.85 632.446 1929.66 632.446 L1935.64 632.446 L1935.64 632.03 Q1935.64 629.09 1933.69 627.493 Q1931.77 625.872 1928.27 625.872 Q1926.05 625.872 1923.95 626.405 Q1921.84 626.937 1919.9 628.002 L1919.9 624.067 Q1922.23 623.164 1924.43 622.724 Q1926.63 622.261 1928.71 622.261 Q1934.34 622.261 1937.12 625.178 Q1939.9 628.094 1939.9 634.02 Z\" fill=\"#000000\" fill-rule=\"evenodd\" fill-opacity=\"1\" /><path clip-path=\"url(#clip100)\" d=\"M1968.85 627.863 Q1970.45 624.993 1972.67 623.627 Q1974.89 622.261 1977.9 622.261 Q1981.96 622.261 1984.15 625.108 Q1986.35 627.932 1986.35 633.164 L1986.35 648.812 L1982.07 648.812 L1982.07 633.303 Q1982.07 629.576 1980.75 627.77 Q1979.43 625.965 1976.72 625.965 Q1973.41 625.965 1971.49 628.164 Q1969.57 630.363 1969.57 634.159 L1969.57 648.812 L1965.29 648.812 L1965.29 633.303 Q1965.29 629.553 1963.97 627.77 Q1962.65 625.965 1959.89 625.965 Q1956.63 625.965 1954.71 628.187 Q1952.79 630.386 1952.79 634.159 L1952.79 648.812 L1948.51 648.812 L1948.51 622.886 L1952.79 622.886 L1952.79 626.914 Q1954.25 624.53 1956.28 623.395 Q1958.32 622.261 1961.12 622.261 Q1963.95 622.261 1965.91 623.696 Q1967.9 625.132 1968.85 627.863 Z\" fill=\"#000000\" fill-rule=\"evenodd\" fill-opacity=\"1\" /><path clip-path=\"url(#clip100)\" d=\"M1994.85 622.886 L1999.11 622.886 L1999.11 648.812 L1994.85 648.812 L1994.85 622.886 M1994.85 612.794 L1999.11 612.794 L1999.11 618.187 L1994.85 618.187 L1994.85 612.794 Z\" fill=\"#000000\" fill-rule=\"evenodd\" fill-opacity=\"1\" /><path clip-path=\"url(#clip100)\" d=\"M2026.68 623.882 L2026.68 627.863 Q2024.87 626.868 2023.04 626.382 Q2021.24 625.872 2019.39 625.872 Q2015.24 625.872 2012.95 628.511 Q2010.66 631.127 2010.66 635.872 Q2010.66 640.618 2012.95 643.256 Q2015.24 645.872 2019.39 645.872 Q2021.24 645.872 2023.04 645.386 Q2024.87 644.877 2026.68 643.881 L2026.68 647.817 Q2024.89 648.65 2022.97 649.067 Q2021.08 649.483 2018.92 649.483 Q2013.07 649.483 2009.62 645.803 Q2006.17 642.122 2006.17 635.872 Q2006.17 629.53 2009.64 625.895 Q2013.14 622.261 2019.2 622.261 Q2021.17 622.261 2023.04 622.678 Q2024.92 623.071 2026.68 623.882 Z\" fill=\"#000000\" fill-rule=\"evenodd\" fill-opacity=\"1\" /><path clip-path=\"url(#clip100)\" d=\"M2050.61 623.65 L2050.61 627.678 Q2048.81 626.752 2046.86 626.289 Q2044.92 625.826 2042.83 625.826 Q2039.66 625.826 2038.07 626.798 Q2036.49 627.77 2036.49 629.715 Q2036.49 631.196 2037.63 632.053 Q2038.76 632.886 2042.19 633.65 L2043.64 633.974 Q2048.18 634.946 2050.08 636.729 Q2052 638.488 2052 641.659 Q2052 645.27 2049.13 647.377 Q2046.28 649.483 2041.28 649.483 Q2039.2 649.483 2036.93 649.067 Q2034.69 648.673 2032.19 647.863 L2032.19 643.465 Q2034.55 644.692 2036.84 645.317 Q2039.13 645.918 2041.38 645.918 Q2044.39 645.918 2046.01 644.9 Q2047.63 643.858 2047.63 641.983 Q2047.63 640.247 2046.45 639.321 Q2045.29 638.395 2041.33 637.539 L2039.85 637.192 Q2035.89 636.358 2034.13 634.645 Q2032.37 632.909 2032.37 629.9 Q2032.37 626.243 2034.96 624.252 Q2037.56 622.261 2042.33 622.261 Q2044.69 622.261 2046.77 622.608 Q2048.85 622.956 2050.61 623.65 Z\" fill=\"#000000\" fill-rule=\"evenodd\" fill-opacity=\"1\" /><path clip-path=\"url(#clip100)\" d=\"M2058.11 612.84 L2061.82 612.84 Q2065.29 618.303 2067 623.534 Q2068.74 628.766 2068.74 633.928 Q2068.74 639.113 2067 644.368 Q2065.29 649.622 2061.82 655.062 L2058.11 655.062 Q2061.19 649.761 2062.7 644.53 Q2064.22 639.275 2064.22 633.928 Q2064.22 628.581 2062.7 623.372 Q2061.19 618.164 2058.11 612.84 Z\" fill=\"#000000\" fill-rule=\"evenodd\" fill-opacity=\"1\" /><polyline clip-path=\"url(#clip100)\" style=\"stroke:#009af9; stroke-linecap:butt; stroke-linejoin:round; stroke-width:4; stroke-opacity:1; fill:none\" stroke-dasharray=\"2, 4\" points=\"\n  1523.39,683.372 1668.63,683.372 \n  \"/>\n<path clip-path=\"url(#clip100)\" d=\"M1717.49 674.726 L1708.11 687.342 L1717.97 700.652 L1712.95 700.652 L1705.41 690.467 L1697.86 700.652 L1692.84 700.652 L1702.91 687.087 L1693.69 674.726 L1698.72 674.726 L1705.59 683.962 L1712.47 674.726 L1717.49 674.726 Z\" fill=\"#000000\" fill-rule=\"evenodd\" fill-opacity=\"1\" /><path clip-path=\"url(#clip100)\" d=\"M1749.29 664.68 Q1746.19 670.004 1744.69 675.212 Q1743.18 680.421 1743.18 685.768 Q1743.18 691.115 1744.69 696.37 Q1746.22 701.601 1749.29 706.902 L1745.59 706.902 Q1742.12 701.462 1740.38 696.208 Q1738.67 690.953 1738.67 685.768 Q1738.67 680.606 1740.38 675.374 Q1742.1 670.143 1745.59 664.68 L1749.29 664.68 Z\" fill=\"#000000\" fill-rule=\"evenodd\" fill-opacity=\"1\" /><path clip-path=\"url(#clip100)\" d=\"M1779.11 685.004 L1779.11 700.652 L1774.85 700.652 L1774.85 685.143 Q1774.85 681.462 1773.41 679.634 Q1771.98 677.805 1769.11 677.805 Q1765.66 677.805 1763.67 680.004 Q1761.68 682.203 1761.68 685.999 L1761.68 700.652 L1757.4 700.652 L1757.4 674.726 L1761.68 674.726 L1761.68 678.754 Q1763.21 676.416 1765.27 675.259 Q1767.35 674.101 1770.06 674.101 Q1774.53 674.101 1776.82 676.879 Q1779.11 679.634 1779.11 685.004 Z\" fill=\"#000000\" fill-rule=\"evenodd\" fill-opacity=\"1\" /><path clip-path=\"url(#clip100)\" d=\"M1797.65 677.712 Q1794.22 677.712 1792.23 680.397 Q1790.24 683.059 1790.24 687.712 Q1790.24 692.365 1792.21 695.05 Q1794.2 697.712 1797.65 697.712 Q1801.05 697.712 1803.04 695.027 Q1805.03 692.342 1805.03 687.712 Q1805.03 683.106 1803.04 680.421 Q1801.05 677.712 1797.65 677.712 M1797.65 674.101 Q1803.21 674.101 1806.38 677.712 Q1809.55 681.323 1809.55 687.712 Q1809.55 694.078 1806.38 697.712 Q1803.21 701.323 1797.65 701.323 Q1792.07 701.323 1788.9 697.712 Q1785.75 694.078 1785.75 687.712 Q1785.75 681.323 1788.9 677.712 Q1792.07 674.101 1797.65 674.101 Z\" fill=\"#000000\" fill-rule=\"evenodd\" fill-opacity=\"1\" /><path clip-path=\"url(#clip100)\" d=\"M1836.79 679.703 Q1838.39 676.833 1840.61 675.467 Q1842.84 674.101 1845.84 674.101 Q1849.9 674.101 1852.09 676.948 Q1854.29 679.772 1854.29 685.004 L1854.29 700.652 L1850.01 700.652 L1850.01 685.143 Q1850.01 681.416 1848.69 679.61 Q1847.37 677.805 1844.66 677.805 Q1841.35 677.805 1839.43 680.004 Q1837.51 682.203 1837.51 685.999 L1837.51 700.652 L1833.23 700.652 L1833.23 685.143 Q1833.23 681.393 1831.91 679.61 Q1830.59 677.805 1827.84 677.805 Q1824.57 677.805 1822.65 680.027 Q1820.73 682.226 1820.73 685.999 L1820.73 700.652 L1816.45 700.652 L1816.45 674.726 L1820.73 674.726 L1820.73 678.754 Q1822.19 676.37 1824.22 675.235 Q1826.26 674.101 1829.06 674.101 Q1831.89 674.101 1833.85 675.536 Q1835.84 676.972 1836.79 679.703 Z\" fill=\"#000000\" fill-rule=\"evenodd\" fill-opacity=\"1\" /><path clip-path=\"url(#clip100)\" d=\"M1862.79 674.726 L1867.05 674.726 L1867.05 700.652 L1862.79 700.652 L1862.79 674.726 M1862.79 664.634 L1867.05 664.634 L1867.05 670.027 L1862.79 670.027 L1862.79 664.634 Z\" fill=\"#000000\" fill-rule=\"evenodd\" fill-opacity=\"1\" /><path clip-path=\"url(#clip100)\" d=\"M1897.51 685.004 L1897.51 700.652 L1893.25 700.652 L1893.25 685.143 Q1893.25 681.462 1891.82 679.634 Q1890.38 677.805 1887.51 677.805 Q1884.06 677.805 1882.07 680.004 Q1880.08 682.203 1880.08 685.999 L1880.08 700.652 L1875.8 700.652 L1875.8 674.726 L1880.08 674.726 L1880.08 678.754 Q1881.61 676.416 1883.67 675.259 Q1885.75 674.101 1888.46 674.101 Q1892.93 674.101 1895.22 676.879 Q1897.51 679.634 1897.51 685.004 Z\" fill=\"#000000\" fill-rule=\"evenodd\" fill-opacity=\"1\" /><path clip-path=\"url(#clip100)\" d=\"M1917.79 687.62 Q1912.63 687.62 1910.64 688.8 Q1908.65 689.981 1908.65 692.828 Q1908.65 695.096 1910.13 696.439 Q1911.63 697.758 1914.2 697.758 Q1917.74 697.758 1919.87 695.258 Q1922.02 692.735 1922.02 688.569 L1922.02 687.62 L1917.79 687.62 M1926.28 685.86 L1926.28 700.652 L1922.02 700.652 L1922.02 696.717 Q1920.57 699.078 1918.39 700.212 Q1916.21 701.323 1913.07 701.323 Q1909.09 701.323 1906.72 699.101 Q1904.39 696.856 1904.39 693.106 Q1904.39 688.731 1907.3 686.509 Q1910.24 684.286 1916.05 684.286 L1922.02 684.286 L1922.02 683.87 Q1922.02 680.93 1920.08 679.333 Q1918.16 677.712 1914.66 677.712 Q1912.44 677.712 1910.34 678.245 Q1908.23 678.777 1906.28 679.842 L1906.28 675.907 Q1908.62 675.004 1910.82 674.564 Q1913.02 674.101 1915.1 674.101 Q1920.73 674.101 1923.51 677.018 Q1926.28 679.934 1926.28 685.86 Z\" fill=\"#000000\" fill-rule=\"evenodd\" fill-opacity=\"1\" /><path clip-path=\"url(#clip100)\" d=\"M1935.06 664.634 L1939.32 664.634 L1939.32 700.652 L1935.06 700.652 L1935.06 664.634 Z\" fill=\"#000000\" fill-rule=\"evenodd\" fill-opacity=\"1\" /><path clip-path=\"url(#clip100)\" d=\"M1985.47 686.624 L1985.47 688.708 L1965.89 688.708 Q1966.17 693.106 1968.53 695.421 Q1970.91 697.712 1975.15 697.712 Q1977.6 697.712 1979.89 697.11 Q1982.21 696.508 1984.48 695.305 L1984.48 699.333 Q1982.19 700.305 1979.78 700.814 Q1977.37 701.323 1974.89 701.323 Q1968.69 701.323 1965.06 697.712 Q1961.45 694.101 1961.45 687.944 Q1961.45 681.578 1964.87 677.851 Q1968.32 674.101 1974.15 674.101 Q1979.39 674.101 1982.42 677.481 Q1985.47 680.837 1985.47 686.624 M1981.21 685.374 Q1981.17 681.879 1979.25 679.796 Q1977.35 677.712 1974.2 677.712 Q1970.64 677.712 1968.48 679.726 Q1966.35 681.74 1966.03 685.397 L1981.21 685.374 Z\" fill=\"#000000\" fill-rule=\"evenodd\" fill-opacity=\"1\" /><path clip-path=\"url(#clip100)\" d=\"M1997.33 669.935 L1997.33 696.809 L2002.97 696.809 Q2010.13 696.809 2013.44 693.569 Q2016.77 690.328 2016.77 683.337 Q2016.77 676.393 2013.44 673.175 Q2010.13 669.935 2002.97 669.935 L1997.33 669.935 M1992.65 666.092 L2002.26 666.092 Q2012.3 666.092 2017 670.282 Q2021.7 674.448 2021.7 683.337 Q2021.7 692.272 2016.98 696.462 Q2012.26 700.652 2002.26 700.652 L1992.65 700.652 L1992.65 666.092 Z\" fill=\"#000000\" fill-rule=\"evenodd\" fill-opacity=\"1\" /><path clip-path=\"url(#clip100)\" d=\"M2029.15 666.092 L2036.12 666.092 L2044.94 689.61 L2053.81 666.092 L2060.77 666.092 L2060.77 700.652 L2056.21 700.652 L2056.21 670.305 L2047.3 694.008 L2042.6 694.008 L2033.69 670.305 L2033.69 700.652 L2029.15 700.652 L2029.15 666.092 Z\" fill=\"#000000\" fill-rule=\"evenodd\" fill-opacity=\"1\" /><path clip-path=\"url(#clip100)\" d=\"M2074.73 669.935 L2074.73 696.809 L2080.38 696.809 Q2087.53 696.809 2090.84 693.569 Q2094.18 690.328 2094.18 683.337 Q2094.18 676.393 2090.84 673.175 Q2087.53 669.935 2080.38 669.935 L2074.73 669.935 M2070.06 666.092 L2079.66 666.092 Q2089.71 666.092 2094.41 670.282 Q2099.11 674.448 2099.11 683.337 Q2099.11 692.272 2094.38 696.462 Q2089.66 700.652 2079.66 700.652 L2070.06 700.652 L2070.06 666.092 Z\" fill=\"#000000\" fill-rule=\"evenodd\" fill-opacity=\"1\" /><path clip-path=\"url(#clip100)\" d=\"M2105.7 664.68 L2109.41 664.68 Q2112.88 670.143 2114.59 675.374 Q2116.33 680.606 2116.33 685.768 Q2116.33 690.953 2114.59 696.208 Q2112.88 701.462 2109.41 706.902 L2105.7 706.902 Q2108.78 701.601 2110.29 696.37 Q2111.82 691.115 2111.82 685.768 Q2111.82 680.421 2110.29 675.212 Q2108.78 670.004 2105.7 664.68 Z\" fill=\"#000000\" fill-rule=\"evenodd\" fill-opacity=\"1\" /><polyline clip-path=\"url(#clip100)\" style=\"stroke:#e26f46; stroke-linecap:butt; stroke-linejoin:round; stroke-width:4; stroke-opacity:1; fill:none\" stroke-dasharray=\"2, 4\" points=\"\n  1523.39,735.212 1668.63,735.212 \n  \"/>\n<path clip-path=\"url(#clip100)\" d=\"M1712.1 736.057 L1697.35 736.057 Q1697.7 742.978 1699.29 745.918 Q1701.29 749.529 1704.73 749.529 Q1708.21 749.529 1710.13 745.895 Q1711.82 742.7 1712.1 736.057 M1712.03 732.122 Q1711.38 725.548 1710.13 723.233 Q1708.14 719.575 1704.73 719.575 Q1701.19 719.575 1699.32 723.187 Q1697.84 726.103 1697.4 732.122 L1712.03 732.122 M1704.73 716.103 Q1710.29 716.103 1713.46 721.011 Q1716.63 725.895 1716.63 734.552 Q1716.63 743.186 1713.46 748.094 Q1710.29 753.024 1704.73 753.024 Q1699.16 753.024 1696.01 748.094 Q1692.84 743.186 1692.84 734.552 Q1692.84 725.895 1696.01 721.011 Q1699.16 716.103 1704.73 716.103 Z\" fill=\"#000000\" fill-rule=\"evenodd\" fill-opacity=\"1\" /><path clip-path=\"url(#clip100)\" d=\"M1748.99 716.52 Q1745.89 721.844 1744.39 727.052 Q1742.88 732.261 1742.88 737.608 Q1742.88 742.955 1744.39 748.21 Q1745.91 753.441 1748.99 758.742 L1745.29 758.742 Q1741.82 753.302 1740.08 748.048 Q1738.37 742.793 1738.37 737.608 Q1738.37 732.446 1740.08 727.214 Q1741.79 721.983 1745.29 716.52 L1748.99 716.52 Z\" fill=\"#000000\" fill-rule=\"evenodd\" fill-opacity=\"1\" /><path clip-path=\"url(#clip100)\" d=\"M1778.81 736.844 L1778.81 752.492 L1774.55 752.492 L1774.55 736.983 Q1774.55 733.302 1773.11 731.474 Q1771.68 729.645 1768.81 729.645 Q1765.36 729.645 1763.37 731.844 Q1761.38 734.043 1761.38 737.839 L1761.38 752.492 L1757.1 752.492 L1757.1 726.566 L1761.38 726.566 L1761.38 730.594 Q1762.91 728.256 1764.97 727.099 Q1767.05 725.941 1769.76 725.941 Q1774.22 725.941 1776.52 728.719 Q1778.81 731.474 1778.81 736.844 Z\" fill=\"#000000\" fill-rule=\"evenodd\" fill-opacity=\"1\" /><path clip-path=\"url(#clip100)\" d=\"M1797.35 729.552 Q1793.92 729.552 1791.93 732.237 Q1789.94 734.899 1789.94 739.552 Q1789.94 744.205 1791.91 746.89 Q1793.9 749.552 1797.35 749.552 Q1800.75 749.552 1802.74 746.867 Q1804.73 744.182 1804.73 739.552 Q1804.73 734.946 1802.74 732.261 Q1800.75 729.552 1797.35 729.552 M1797.35 725.941 Q1802.91 725.941 1806.08 729.552 Q1809.25 733.163 1809.25 739.552 Q1809.25 745.918 1806.08 749.552 Q1802.91 753.163 1797.35 753.163 Q1791.77 753.163 1788.6 749.552 Q1785.45 745.918 1785.45 739.552 Q1785.45 733.163 1788.6 729.552 Q1791.77 725.941 1797.35 725.941 Z\" fill=\"#000000\" fill-rule=\"evenodd\" fill-opacity=\"1\" /><path clip-path=\"url(#clip100)\" d=\"M1836.49 731.543 Q1838.09 728.673 1840.31 727.307 Q1842.53 725.941 1845.54 725.941 Q1849.59 725.941 1851.79 728.788 Q1853.99 731.612 1853.99 736.844 L1853.99 752.492 L1849.71 752.492 L1849.71 736.983 Q1849.71 733.256 1848.39 731.45 Q1847.07 729.645 1844.36 729.645 Q1841.05 729.645 1839.13 731.844 Q1837.21 734.043 1837.21 737.839 L1837.21 752.492 L1832.93 752.492 L1832.93 736.983 Q1832.93 733.233 1831.61 731.45 Q1830.29 729.645 1827.53 729.645 Q1824.27 729.645 1822.35 731.867 Q1820.43 734.066 1820.43 737.839 L1820.43 752.492 L1816.15 752.492 L1816.15 726.566 L1820.43 726.566 L1820.43 730.594 Q1821.89 728.21 1823.92 727.075 Q1825.96 725.941 1828.76 725.941 Q1831.59 725.941 1833.55 727.376 Q1835.54 728.812 1836.49 731.543 Z\" fill=\"#000000\" fill-rule=\"evenodd\" fill-opacity=\"1\" /><path clip-path=\"url(#clip100)\" d=\"M1862.49 726.566 L1866.75 726.566 L1866.75 752.492 L1862.49 752.492 L1862.49 726.566 M1862.49 716.474 L1866.75 716.474 L1866.75 721.867 L1862.49 721.867 L1862.49 716.474 Z\" fill=\"#000000\" fill-rule=\"evenodd\" fill-opacity=\"1\" /><path clip-path=\"url(#clip100)\" d=\"M1897.21 736.844 L1897.21 752.492 L1892.95 752.492 L1892.95 736.983 Q1892.95 733.302 1891.52 731.474 Q1890.08 729.645 1887.21 729.645 Q1883.76 729.645 1881.77 731.844 Q1879.78 734.043 1879.78 737.839 L1879.78 752.492 L1875.5 752.492 L1875.5 726.566 L1879.78 726.566 L1879.78 730.594 Q1881.31 728.256 1883.37 727.099 Q1885.45 725.941 1888.16 725.941 Q1892.63 725.941 1894.92 728.719 Q1897.21 731.474 1897.21 736.844 Z\" fill=\"#000000\" fill-rule=\"evenodd\" fill-opacity=\"1\" /><path clip-path=\"url(#clip100)\" d=\"M1917.49 739.46 Q1912.33 739.46 1910.34 740.64 Q1908.34 741.821 1908.34 744.668 Q1908.34 746.936 1909.83 748.279 Q1911.33 749.598 1913.9 749.598 Q1917.44 749.598 1919.57 747.098 Q1921.72 744.575 1921.72 740.409 L1921.72 739.46 L1917.49 739.46 M1925.98 737.7 L1925.98 752.492 L1921.72 752.492 L1921.72 748.557 Q1920.27 750.918 1918.09 752.052 Q1915.91 753.163 1912.77 753.163 Q1908.78 753.163 1906.42 750.941 Q1904.09 748.696 1904.09 744.946 Q1904.09 740.571 1907 738.349 Q1909.94 736.126 1915.75 736.126 L1921.72 736.126 L1921.72 735.71 Q1921.72 732.77 1919.78 731.173 Q1917.86 729.552 1914.36 729.552 Q1912.14 729.552 1910.03 730.085 Q1907.93 730.617 1905.98 731.682 L1905.98 727.747 Q1908.32 726.844 1910.52 726.404 Q1912.72 725.941 1914.8 725.941 Q1920.43 725.941 1923.21 728.858 Q1925.98 731.774 1925.98 737.7 Z\" fill=\"#000000\" fill-rule=\"evenodd\" fill-opacity=\"1\" /><path clip-path=\"url(#clip100)\" d=\"M1934.76 716.474 L1939.02 716.474 L1939.02 752.492 L1934.76 752.492 L1934.76 716.474 Z\" fill=\"#000000\" fill-rule=\"evenodd\" fill-opacity=\"1\" /><path clip-path=\"url(#clip100)\" d=\"M1985.17 738.464 L1985.17 740.548 L1965.59 740.548 Q1965.87 744.946 1968.23 747.261 Q1970.61 749.552 1974.85 749.552 Q1977.3 749.552 1979.59 748.95 Q1981.91 748.348 1984.18 747.145 L1984.18 751.173 Q1981.89 752.145 1979.48 752.654 Q1977.07 753.163 1974.59 753.163 Q1968.39 753.163 1964.76 749.552 Q1961.14 745.941 1961.14 739.784 Q1961.14 733.418 1964.57 729.691 Q1968.02 725.941 1973.85 725.941 Q1979.08 725.941 1982.12 729.321 Q1985.17 732.677 1985.17 738.464 M1980.91 737.214 Q1980.87 733.719 1978.95 731.636 Q1977.05 729.552 1973.9 729.552 Q1970.33 729.552 1968.18 731.566 Q1966.05 733.58 1965.73 737.237 L1980.91 737.214 Z\" fill=\"#000000\" fill-rule=\"evenodd\" fill-opacity=\"1\" /><path clip-path=\"url(#clip100)\" d=\"M1997.02 721.775 L1997.02 748.649 L2002.67 748.649 Q2009.83 748.649 2013.14 745.409 Q2016.47 742.168 2016.47 735.177 Q2016.47 728.233 2013.14 725.015 Q2009.83 721.775 2002.67 721.775 L1997.02 721.775 M1992.35 717.932 L2001.95 717.932 Q2012 717.932 2016.7 722.122 Q2021.4 726.288 2021.4 735.177 Q2021.4 744.112 2016.68 748.302 Q2011.95 752.492 2001.95 752.492 L1992.35 752.492 L1992.35 717.932 Z\" fill=\"#000000\" fill-rule=\"evenodd\" fill-opacity=\"1\" /><path clip-path=\"url(#clip100)\" d=\"M2028.85 717.932 L2035.82 717.932 L2044.64 741.45 L2053.51 717.932 L2060.47 717.932 L2060.47 752.492 L2055.91 752.492 L2055.91 722.145 L2047 745.848 L2042.3 745.848 L2033.39 722.145 L2033.39 752.492 L2028.85 752.492 L2028.85 717.932 Z\" fill=\"#000000\" fill-rule=\"evenodd\" fill-opacity=\"1\" /><path clip-path=\"url(#clip100)\" d=\"M2074.43 721.775 L2074.43 748.649 L2080.08 748.649 Q2087.23 748.649 2090.54 745.409 Q2093.88 742.168 2093.88 735.177 Q2093.88 728.233 2090.54 725.015 Q2087.23 721.775 2080.08 721.775 L2074.43 721.775 M2069.76 717.932 L2079.36 717.932 Q2089.41 717.932 2094.11 722.122 Q2098.81 726.288 2098.81 735.177 Q2098.81 744.112 2094.08 748.302 Q2089.36 752.492 2079.36 752.492 L2069.76 752.492 L2069.76 717.932 Z\" fill=\"#000000\" fill-rule=\"evenodd\" fill-opacity=\"1\" /><path clip-path=\"url(#clip100)\" d=\"M2105.4 716.52 L2109.11 716.52 Q2112.58 721.983 2114.29 727.214 Q2116.03 732.446 2116.03 737.608 Q2116.03 742.793 2114.29 748.048 Q2112.58 753.302 2109.11 758.742 L2105.4 758.742 Q2108.48 753.441 2109.99 748.21 Q2111.51 742.955 2111.51 737.608 Q2111.51 732.261 2109.99 727.052 Q2108.48 721.844 2105.4 716.52 Z\" fill=\"#000000\" fill-rule=\"evenodd\" fill-opacity=\"1\" /><polyline clip-path=\"url(#clip100)\" style=\"stroke:#009af9; stroke-linecap:butt; stroke-linejoin:round; stroke-width:4; stroke-opacity:1; fill:none\" points=\"\n  1523.39,787.052 1668.63,787.052 \n  \"/>\n<path clip-path=\"url(#clip100)\" d=\"M1717.49 778.406 L1708.11 791.022 L1717.97 804.332 L1712.95 804.332 L1705.41 794.147 L1697.86 804.332 L1692.84 804.332 L1702.91 790.767 L1693.69 778.406 L1698.72 778.406 L1705.59 787.642 L1712.47 778.406 L1717.49 778.406 Z\" fill=\"#000000\" fill-rule=\"evenodd\" fill-opacity=\"1\" /><path clip-path=\"url(#clip100)\" d=\"M1749.29 768.36 Q1746.19 773.684 1744.69 778.892 Q1743.18 784.101 1743.18 789.448 Q1743.18 794.795 1744.69 800.05 Q1746.22 805.281 1749.29 810.582 L1745.59 810.582 Q1742.12 805.142 1740.38 799.888 Q1738.67 794.633 1738.67 789.448 Q1738.67 784.286 1740.38 779.054 Q1742.1 773.823 1745.59 768.36 L1749.29 768.36 Z\" fill=\"#000000\" fill-rule=\"evenodd\" fill-opacity=\"1\" /><path clip-path=\"url(#clip100)\" d=\"M1757.56 778.406 L1761.82 778.406 L1761.82 804.795 Q1761.82 809.749 1759.92 811.971 Q1758.04 814.193 1753.85 814.193 L1752.23 814.193 L1752.23 810.582 L1753.37 810.582 Q1755.8 810.582 1756.68 809.448 Q1757.56 808.337 1757.56 804.795 L1757.56 778.406 M1757.56 768.314 L1761.82 768.314 L1761.82 773.707 L1757.56 773.707 L1757.56 768.314 Z\" fill=\"#000000\" fill-rule=\"evenodd\" fill-opacity=\"1\" /><path clip-path=\"url(#clip100)\" d=\"M1782.51 791.3 Q1777.35 791.3 1775.36 792.48 Q1773.37 793.661 1773.37 796.508 Q1773.37 798.776 1774.85 800.119 Q1776.35 801.438 1778.92 801.438 Q1782.47 801.438 1784.59 798.938 Q1786.75 796.415 1786.75 792.249 L1786.75 791.3 L1782.51 791.3 M1791.01 789.54 L1791.01 804.332 L1786.75 804.332 L1786.75 800.397 Q1785.29 802.758 1783.11 803.892 Q1780.94 805.003 1777.79 805.003 Q1773.81 805.003 1771.45 802.781 Q1769.11 800.536 1769.11 796.786 Q1769.11 792.411 1772.03 790.189 Q1774.97 787.966 1780.78 787.966 L1786.75 787.966 L1786.75 787.55 Q1786.75 784.61 1784.8 783.013 Q1782.88 781.392 1779.39 781.392 Q1777.16 781.392 1775.06 781.925 Q1772.95 782.457 1771.01 783.522 L1771.01 779.587 Q1773.35 778.684 1775.54 778.244 Q1777.74 777.781 1779.83 777.781 Q1785.45 777.781 1788.23 780.698 Q1791.01 783.614 1791.01 789.54 Z\" fill=\"#000000\" fill-rule=\"evenodd\" fill-opacity=\"1\" /><path clip-path=\"url(#clip100)\" d=\"M1818.44 779.402 L1818.44 783.383 Q1816.63 782.388 1814.8 781.902 Q1813 781.392 1811.15 781.392 Q1807 781.392 1804.71 784.031 Q1802.42 786.647 1802.42 791.392 Q1802.42 796.138 1804.71 798.776 Q1807 801.392 1811.15 801.392 Q1813 801.392 1814.8 800.906 Q1816.63 800.397 1818.44 799.401 L1818.44 803.337 Q1816.65 804.17 1814.73 804.587 Q1812.84 805.003 1810.68 805.003 Q1804.83 805.003 1801.38 801.323 Q1797.93 797.642 1797.93 791.392 Q1797.93 785.05 1801.4 781.415 Q1804.9 777.781 1810.96 777.781 Q1812.93 777.781 1814.8 778.198 Q1816.68 778.591 1818.44 779.402 Z\" fill=\"#000000\" fill-rule=\"evenodd\" fill-opacity=\"1\" /><path clip-path=\"url(#clip100)\" d=\"M1835.89 781.392 Q1832.47 781.392 1830.47 784.077 Q1828.48 786.739 1828.48 791.392 Q1828.48 796.045 1830.45 798.73 Q1832.44 801.392 1835.89 801.392 Q1839.29 801.392 1841.28 798.707 Q1843.28 796.022 1843.28 791.392 Q1843.28 786.786 1841.28 784.101 Q1839.29 781.392 1835.89 781.392 M1835.89 777.781 Q1841.45 777.781 1844.62 781.392 Q1847.79 785.003 1847.79 791.392 Q1847.79 797.758 1844.62 801.392 Q1841.45 805.003 1835.89 805.003 Q1830.31 805.003 1827.14 801.392 Q1823.99 797.758 1823.99 791.392 Q1823.99 785.003 1827.14 781.392 Q1830.31 777.781 1835.89 777.781 Z\" fill=\"#000000\" fill-rule=\"evenodd\" fill-opacity=\"1\" /><path clip-path=\"url(#clip100)\" d=\"M1873.46 791.392 Q1873.46 786.693 1871.52 784.031 Q1869.59 781.346 1866.21 781.346 Q1862.84 781.346 1860.89 784.031 Q1858.97 786.693 1858.97 791.392 Q1858.97 796.091 1860.89 798.776 Q1862.84 801.438 1866.21 801.438 Q1869.59 801.438 1871.52 798.776 Q1873.46 796.091 1873.46 791.392 M1858.97 782.341 Q1860.31 780.027 1862.35 778.915 Q1864.41 777.781 1867.26 777.781 Q1871.98 777.781 1874.92 781.531 Q1877.88 785.281 1877.88 791.392 Q1877.88 797.503 1874.92 801.253 Q1871.98 805.003 1867.26 805.003 Q1864.41 805.003 1862.35 803.892 Q1860.31 802.758 1858.97 800.443 L1858.97 804.332 L1854.69 804.332 L1854.69 768.314 L1858.97 768.314 L1858.97 782.341 Z\" fill=\"#000000\" fill-rule=\"evenodd\" fill-opacity=\"1\" /><path clip-path=\"url(#clip100)\" d=\"M1884.94 778.406 L1889.2 778.406 L1889.2 804.332 L1884.94 804.332 L1884.94 778.406 M1884.94 768.314 L1889.2 768.314 L1889.2 773.707 L1884.94 773.707 L1884.94 768.314 Z\" fill=\"#000000\" fill-rule=\"evenodd\" fill-opacity=\"1\" /><path clip-path=\"url(#clip100)\" d=\"M1909.9 791.3 Q1904.73 791.3 1902.74 792.48 Q1900.75 793.661 1900.75 796.508 Q1900.75 798.776 1902.23 800.119 Q1903.74 801.438 1906.31 801.438 Q1909.85 801.438 1911.98 798.938 Q1914.13 796.415 1914.13 792.249 L1914.13 791.3 L1909.9 791.3 M1918.39 789.54 L1918.39 804.332 L1914.13 804.332 L1914.13 800.397 Q1912.67 802.758 1910.5 803.892 Q1908.32 805.003 1905.17 805.003 Q1901.19 805.003 1898.83 802.781 Q1896.49 800.536 1896.49 796.786 Q1896.49 792.411 1899.41 790.189 Q1902.35 787.966 1908.16 787.966 L1914.13 787.966 L1914.13 787.55 Q1914.13 784.61 1912.19 783.013 Q1910.27 781.392 1906.77 781.392 Q1904.55 781.392 1902.44 781.925 Q1900.34 782.457 1898.39 783.522 L1898.39 779.587 Q1900.73 778.684 1902.93 778.244 Q1905.13 777.781 1907.21 777.781 Q1912.84 777.781 1915.61 780.698 Q1918.39 783.614 1918.39 789.54 Z\" fill=\"#000000\" fill-rule=\"evenodd\" fill-opacity=\"1\" /><path clip-path=\"url(#clip100)\" d=\"M1948.71 788.684 L1948.71 804.332 L1944.46 804.332 L1944.46 788.823 Q1944.46 785.142 1943.02 783.314 Q1941.58 781.485 1938.71 781.485 Q1935.27 781.485 1933.27 783.684 Q1931.28 785.883 1931.28 789.679 L1931.28 804.332 L1927 804.332 L1927 778.406 L1931.28 778.406 L1931.28 782.434 Q1932.81 780.096 1934.87 778.939 Q1936.96 777.781 1939.66 777.781 Q1944.13 777.781 1946.42 780.559 Q1948.71 783.314 1948.71 788.684 Z\" fill=\"#000000\" fill-rule=\"evenodd\" fill-opacity=\"1\" /><path clip-path=\"url(#clip100)\" d=\"M1955.06 789.448 L1967.53 789.448 L1967.53 793.244 L1955.06 793.244 L1955.06 789.448 Z\" fill=\"#000000\" fill-rule=\"evenodd\" fill-opacity=\"1\" /><path clip-path=\"url(#clip100)\" d=\"M1978.44 800.443 L1978.44 814.193 L1974.15 814.193 L1974.15 778.406 L1978.44 778.406 L1978.44 782.341 Q1979.78 780.027 1981.82 778.915 Q1983.88 777.781 1986.72 777.781 Q1991.45 777.781 1994.39 781.531 Q1997.35 785.281 1997.35 791.392 Q1997.35 797.503 1994.39 801.253 Q1991.45 805.003 1986.72 805.003 Q1983.88 805.003 1981.82 803.892 Q1979.78 802.758 1978.44 800.443 M1992.93 791.392 Q1992.93 786.693 1990.98 784.031 Q1989.06 781.346 1985.68 781.346 Q1982.3 781.346 1980.36 784.031 Q1978.44 786.693 1978.44 791.392 Q1978.44 796.091 1980.36 798.776 Q1982.3 801.438 1985.68 801.438 Q1989.06 801.438 1990.98 798.776 Q1992.93 796.091 1992.93 791.392 Z\" fill=\"#000000\" fill-rule=\"evenodd\" fill-opacity=\"1\" /><path clip-path=\"url(#clip100)\" d=\"M2026.58 790.304 L2026.58 792.388 L2007 792.388 Q2007.28 796.786 2009.64 799.101 Q2012.02 801.392 2016.26 801.392 Q2018.71 801.392 2021.01 800.79 Q2023.32 800.188 2025.59 798.985 L2025.59 803.013 Q2023.3 803.985 2020.89 804.494 Q2018.48 805.003 2016.01 805.003 Q2009.8 805.003 2006.17 801.392 Q2002.56 797.781 2002.56 791.624 Q2002.56 785.258 2005.98 781.531 Q2009.43 777.781 2015.27 777.781 Q2020.5 777.781 2023.53 781.161 Q2026.58 784.517 2026.58 790.304 M2022.33 789.054 Q2022.28 785.559 2020.36 783.476 Q2018.46 781.392 2015.31 781.392 Q2011.75 781.392 2009.59 783.406 Q2007.46 785.42 2007.14 789.077 L2022.33 789.054 Z\" fill=\"#000000\" fill-rule=\"evenodd\" fill-opacity=\"1\" /><path clip-path=\"url(#clip100)\" d=\"M2055.13 788.684 L2055.13 804.332 L2050.87 804.332 L2050.87 788.823 Q2050.87 785.142 2049.43 783.314 Q2048 781.485 2045.13 781.485 Q2041.68 781.485 2039.69 783.684 Q2037.7 785.883 2037.7 789.679 L2037.7 804.332 L2033.41 804.332 L2033.41 778.406 L2037.7 778.406 L2037.7 782.434 Q2039.22 780.096 2041.28 778.939 Q2043.37 777.781 2046.08 777.781 Q2050.54 777.781 2052.83 780.559 Q2055.13 783.314 2055.13 788.684 Z\" fill=\"#000000\" fill-rule=\"evenodd\" fill-opacity=\"1\" /><path clip-path=\"url(#clip100)\" d=\"M2100.87 790.304 L2100.87 792.388 L2081.28 792.388 Q2081.56 796.786 2083.92 799.101 Q2086.31 801.392 2090.54 801.392 Q2093 801.392 2095.29 800.79 Q2097.6 800.188 2099.87 798.985 L2099.87 803.013 Q2097.58 803.985 2095.17 804.494 Q2092.76 805.003 2090.29 805.003 Q2084.08 805.003 2080.45 801.392 Q2076.84 797.781 2076.84 791.624 Q2076.84 785.258 2080.26 781.531 Q2083.71 777.781 2089.55 777.781 Q2094.78 777.781 2097.81 781.161 Q2100.87 784.517 2100.87 790.304 M2096.61 789.054 Q2096.56 785.559 2094.64 783.476 Q2092.74 781.392 2089.59 781.392 Q2086.03 781.392 2083.88 783.406 Q2081.75 785.42 2081.42 789.077 L2096.61 789.054 Z\" fill=\"#000000\" fill-rule=\"evenodd\" fill-opacity=\"1\" /><path clip-path=\"url(#clip100)\" d=\"M2112.72 773.615 L2112.72 800.489 L2118.37 800.489 Q2125.52 800.489 2128.83 797.249 Q2132.16 794.008 2132.16 787.017 Q2132.16 780.073 2128.83 776.855 Q2125.52 773.615 2118.37 773.615 L2112.72 773.615 M2108.04 769.772 L2117.65 769.772 Q2127.69 769.772 2132.39 773.962 Q2137.09 778.128 2137.09 787.017 Q2137.09 795.952 2132.37 800.142 Q2127.65 804.332 2117.65 804.332 L2108.04 804.332 L2108.04 769.772 Z\" fill=\"#000000\" fill-rule=\"evenodd\" fill-opacity=\"1\" /><path clip-path=\"url(#clip100)\" d=\"M2144.55 769.772 L2151.51 769.772 L2160.33 793.29 L2169.2 769.772 L2176.17 769.772 L2176.17 804.332 L2171.61 804.332 L2171.61 773.985 L2162.69 797.688 L2158 797.688 L2149.08 773.985 L2149.08 804.332 L2144.55 804.332 L2144.55 769.772 Z\" fill=\"#000000\" fill-rule=\"evenodd\" fill-opacity=\"1\" /><path clip-path=\"url(#clip100)\" d=\"M2190.13 773.615 L2190.13 800.489 L2195.77 800.489 Q2202.93 800.489 2206.24 797.249 Q2209.57 794.008 2209.57 787.017 Q2209.57 780.073 2206.24 776.855 Q2202.93 773.615 2195.77 773.615 L2190.13 773.615 M2185.45 769.772 L2195.06 769.772 Q2205.1 769.772 2209.8 773.962 Q2214.5 778.128 2214.5 787.017 Q2214.5 795.952 2209.78 800.142 Q2205.06 804.332 2195.06 804.332 L2185.45 804.332 L2185.45 769.772 Z\" fill=\"#000000\" fill-rule=\"evenodd\" fill-opacity=\"1\" /><path clip-path=\"url(#clip100)\" d=\"M2221.1 768.36 L2224.8 768.36 Q2228.27 773.823 2229.99 779.054 Q2231.72 784.286 2231.72 789.448 Q2231.72 794.633 2229.99 799.888 Q2228.27 805.142 2224.8 810.582 L2221.1 810.582 Q2224.18 805.281 2225.68 800.05 Q2227.21 794.795 2227.21 789.448 Q2227.21 784.101 2225.68 778.892 Q2224.18 773.684 2221.1 768.36 Z\" fill=\"#000000\" fill-rule=\"evenodd\" fill-opacity=\"1\" /><polyline clip-path=\"url(#clip100)\" style=\"stroke:#e26f46; stroke-linecap:butt; stroke-linejoin:round; stroke-width:4; stroke-opacity:1; fill:none\" points=\"\n  1523.39,838.892 1668.63,838.892 \n  \"/>\n<path clip-path=\"url(#clip100)\" d=\"M1712.1 839.737 L1697.35 839.737 Q1697.7 846.658 1699.29 849.598 Q1701.29 853.209 1704.73 853.209 Q1708.21 853.209 1710.13 849.575 Q1711.82 846.38 1712.1 839.737 M1712.03 835.802 Q1711.38 829.228 1710.13 826.913 Q1708.14 823.255 1704.73 823.255 Q1701.19 823.255 1699.32 826.867 Q1697.84 829.783 1697.4 835.802 L1712.03 835.802 M1704.73 819.783 Q1710.29 819.783 1713.46 824.691 Q1716.63 829.575 1716.63 838.232 Q1716.63 846.866 1713.46 851.774 Q1710.29 856.704 1704.73 856.704 Q1699.16 856.704 1696.01 851.774 Q1692.84 846.866 1692.84 838.232 Q1692.84 829.575 1696.01 824.691 Q1699.16 819.783 1704.73 819.783 Z\" fill=\"#000000\" fill-rule=\"evenodd\" fill-opacity=\"1\" /><path clip-path=\"url(#clip100)\" d=\"M1748.99 820.2 Q1745.89 825.524 1744.39 830.732 Q1742.88 835.941 1742.88 841.288 Q1742.88 846.635 1744.39 851.89 Q1745.91 857.121 1748.99 862.422 L1745.29 862.422 Q1741.82 856.982 1740.08 851.728 Q1738.37 846.473 1738.37 841.288 Q1738.37 836.126 1740.08 830.894 Q1741.79 825.663 1745.29 820.2 L1748.99 820.2 Z\" fill=\"#000000\" fill-rule=\"evenodd\" fill-opacity=\"1\" /><path clip-path=\"url(#clip100)\" d=\"M1757.26 830.246 L1761.52 830.246 L1761.52 856.635 Q1761.52 861.589 1759.62 863.811 Q1757.74 866.033 1753.55 866.033 L1751.93 866.033 L1751.93 862.422 L1753.07 862.422 Q1755.5 862.422 1756.38 861.288 Q1757.26 860.177 1757.26 856.635 L1757.26 830.246 M1757.26 820.154 L1761.52 820.154 L1761.52 825.547 L1757.26 825.547 L1757.26 820.154 Z\" fill=\"#000000\" fill-rule=\"evenodd\" fill-opacity=\"1\" /><path clip-path=\"url(#clip100)\" d=\"M1782.21 843.14 Q1777.05 843.14 1775.06 844.32 Q1773.07 845.501 1773.07 848.348 Q1773.07 850.616 1774.55 851.959 Q1776.05 853.278 1778.62 853.278 Q1782.16 853.278 1784.29 850.778 Q1786.45 848.255 1786.45 844.089 L1786.45 843.14 L1782.21 843.14 M1790.71 841.38 L1790.71 856.172 L1786.45 856.172 L1786.45 852.237 Q1784.99 854.598 1782.81 855.732 Q1780.64 856.843 1777.49 856.843 Q1773.51 856.843 1771.15 854.621 Q1768.81 852.376 1768.81 848.626 Q1768.81 844.251 1771.72 842.029 Q1774.66 839.806 1780.47 839.806 L1786.45 839.806 L1786.45 839.39 Q1786.45 836.45 1784.5 834.853 Q1782.58 833.232 1779.09 833.232 Q1776.86 833.232 1774.76 833.765 Q1772.65 834.297 1770.71 835.362 L1770.71 831.427 Q1773.04 830.524 1775.24 830.084 Q1777.44 829.621 1779.53 829.621 Q1785.15 829.621 1787.93 832.538 Q1790.71 835.454 1790.71 841.38 Z\" fill=\"#000000\" fill-rule=\"evenodd\" fill-opacity=\"1\" /><path clip-path=\"url(#clip100)\" d=\"M1818.14 831.242 L1818.14 835.223 Q1816.33 834.228 1814.5 833.742 Q1812.7 833.232 1810.84 833.232 Q1806.7 833.232 1804.41 835.871 Q1802.12 838.487 1802.12 843.232 Q1802.12 847.978 1804.41 850.616 Q1806.7 853.232 1810.84 853.232 Q1812.7 853.232 1814.5 852.746 Q1816.33 852.237 1818.14 851.241 L1818.14 855.177 Q1816.35 856.01 1814.43 856.427 Q1812.53 856.843 1810.38 856.843 Q1804.53 856.843 1801.08 853.163 Q1797.63 849.482 1797.63 843.232 Q1797.63 836.89 1801.1 833.255 Q1804.59 829.621 1810.66 829.621 Q1812.63 829.621 1814.5 830.038 Q1816.38 830.431 1818.14 831.242 Z\" fill=\"#000000\" fill-rule=\"evenodd\" fill-opacity=\"1\" /><path clip-path=\"url(#clip100)\" d=\"M1835.59 833.232 Q1832.16 833.232 1830.17 835.917 Q1828.18 838.579 1828.18 843.232 Q1828.18 847.885 1830.15 850.57 Q1832.14 853.232 1835.59 853.232 Q1838.99 853.232 1840.98 850.547 Q1842.97 847.862 1842.97 843.232 Q1842.97 838.626 1840.98 835.941 Q1838.99 833.232 1835.59 833.232 M1835.59 829.621 Q1841.15 829.621 1844.32 833.232 Q1847.49 836.843 1847.49 843.232 Q1847.49 849.598 1844.32 853.232 Q1841.15 856.843 1835.59 856.843 Q1830.01 856.843 1826.84 853.232 Q1823.69 849.598 1823.69 843.232 Q1823.69 836.843 1826.84 833.232 Q1830.01 829.621 1835.59 829.621 Z\" fill=\"#000000\" fill-rule=\"evenodd\" fill-opacity=\"1\" /><path clip-path=\"url(#clip100)\" d=\"M1873.16 843.232 Q1873.16 838.533 1871.21 835.871 Q1869.29 833.186 1865.91 833.186 Q1862.53 833.186 1860.59 835.871 Q1858.67 838.533 1858.67 843.232 Q1858.67 847.931 1860.59 850.616 Q1862.53 853.278 1865.91 853.278 Q1869.29 853.278 1871.21 850.616 Q1873.16 847.931 1873.16 843.232 M1858.67 834.181 Q1860.01 831.867 1862.05 830.755 Q1864.11 829.621 1866.96 829.621 Q1871.68 829.621 1874.62 833.371 Q1877.58 837.121 1877.58 843.232 Q1877.58 849.343 1874.62 853.093 Q1871.68 856.843 1866.96 856.843 Q1864.11 856.843 1862.05 855.732 Q1860.01 854.598 1858.67 852.283 L1858.67 856.172 L1854.39 856.172 L1854.39 820.154 L1858.67 820.154 L1858.67 834.181 Z\" fill=\"#000000\" fill-rule=\"evenodd\" fill-opacity=\"1\" /><path clip-path=\"url(#clip100)\" d=\"M1884.64 830.246 L1888.9 830.246 L1888.9 856.172 L1884.64 856.172 L1884.64 830.246 M1884.64 820.154 L1888.9 820.154 L1888.9 825.547 L1884.64 825.547 L1884.64 820.154 Z\" fill=\"#000000\" fill-rule=\"evenodd\" fill-opacity=\"1\" /><path clip-path=\"url(#clip100)\" d=\"M1909.59 843.14 Q1904.43 843.14 1902.44 844.32 Q1900.45 845.501 1900.45 848.348 Q1900.45 850.616 1901.93 851.959 Q1903.44 853.278 1906.01 853.278 Q1909.55 853.278 1911.68 850.778 Q1913.83 848.255 1913.83 844.089 L1913.83 843.14 L1909.59 843.14 M1918.09 841.38 L1918.09 856.172 L1913.83 856.172 L1913.83 852.237 Q1912.37 854.598 1910.2 855.732 Q1908.02 856.843 1904.87 856.843 Q1900.89 856.843 1898.53 854.621 Q1896.19 852.376 1896.19 848.626 Q1896.19 844.251 1899.11 842.029 Q1902.05 839.806 1907.86 839.806 L1913.83 839.806 L1913.83 839.39 Q1913.83 836.45 1911.89 834.853 Q1909.96 833.232 1906.47 833.232 Q1904.25 833.232 1902.14 833.765 Q1900.03 834.297 1898.09 835.362 L1898.09 831.427 Q1900.43 830.524 1902.63 830.084 Q1904.83 829.621 1906.91 829.621 Q1912.53 829.621 1915.31 832.538 Q1918.09 835.454 1918.09 841.38 Z\" fill=\"#000000\" fill-rule=\"evenodd\" fill-opacity=\"1\" /><path clip-path=\"url(#clip100)\" d=\"M1948.41 840.524 L1948.41 856.172 L1944.15 856.172 L1944.15 840.663 Q1944.15 836.982 1942.72 835.154 Q1941.28 833.325 1938.41 833.325 Q1934.96 833.325 1932.97 835.524 Q1930.98 837.723 1930.98 841.519 L1930.98 856.172 L1926.7 856.172 L1926.7 830.246 L1930.98 830.246 L1930.98 834.274 Q1932.51 831.936 1934.57 830.779 Q1936.65 829.621 1939.36 829.621 Q1943.83 829.621 1946.12 832.399 Q1948.41 835.154 1948.41 840.524 Z\" fill=\"#000000\" fill-rule=\"evenodd\" fill-opacity=\"1\" /><path clip-path=\"url(#clip100)\" d=\"M1954.76 841.288 L1967.23 841.288 L1967.23 845.084 L1954.76 845.084 L1954.76 841.288 Z\" fill=\"#000000\" fill-rule=\"evenodd\" fill-opacity=\"1\" /><path clip-path=\"url(#clip100)\" d=\"M1978.14 852.283 L1978.14 866.033 L1973.85 866.033 L1973.85 830.246 L1978.14 830.246 L1978.14 834.181 Q1979.48 831.867 1981.52 830.755 Q1983.58 829.621 1986.42 829.621 Q1991.14 829.621 1994.08 833.371 Q1997.05 837.121 1997.05 843.232 Q1997.05 849.343 1994.08 853.093 Q1991.14 856.843 1986.42 856.843 Q1983.58 856.843 1981.52 855.732 Q1979.48 854.598 1978.14 852.283 M1992.63 843.232 Q1992.63 838.533 1990.68 835.871 Q1988.76 833.186 1985.38 833.186 Q1982 833.186 1980.06 835.871 Q1978.14 838.533 1978.14 843.232 Q1978.14 847.931 1980.06 850.616 Q1982 853.278 1985.38 853.278 Q1988.76 853.278 1990.68 850.616 Q1992.63 847.931 1992.63 843.232 Z\" fill=\"#000000\" fill-rule=\"evenodd\" fill-opacity=\"1\" /><path clip-path=\"url(#clip100)\" d=\"M2026.28 842.144 L2026.28 844.228 L2006.7 844.228 Q2006.98 848.626 2009.34 850.941 Q2011.72 853.232 2015.96 853.232 Q2018.41 853.232 2020.7 852.63 Q2023.02 852.028 2025.29 850.825 L2025.29 854.853 Q2023 855.825 2020.59 856.334 Q2018.18 856.843 2015.7 856.843 Q2009.5 856.843 2005.87 853.232 Q2002.26 849.621 2002.26 843.464 Q2002.26 837.098 2005.68 833.371 Q2009.13 829.621 2014.96 829.621 Q2020.2 829.621 2023.23 833.001 Q2026.28 836.357 2026.28 842.144 M2022.02 840.894 Q2021.98 837.399 2020.06 835.316 Q2018.16 833.232 2015.01 833.232 Q2011.45 833.232 2009.29 835.246 Q2007.16 837.26 2006.84 840.917 L2022.02 840.894 Z\" fill=\"#000000\" fill-rule=\"evenodd\" fill-opacity=\"1\" /><path clip-path=\"url(#clip100)\" d=\"M2054.82 840.524 L2054.82 856.172 L2050.57 856.172 L2050.57 840.663 Q2050.57 836.982 2049.13 835.154 Q2047.7 833.325 2044.83 833.325 Q2041.38 833.325 2039.39 835.524 Q2037.39 837.723 2037.39 841.519 L2037.39 856.172 L2033.11 856.172 L2033.11 830.246 L2037.39 830.246 L2037.39 834.274 Q2038.92 831.936 2040.98 830.779 Q2043.07 829.621 2045.77 829.621 Q2050.24 829.621 2052.53 832.399 Q2054.82 835.154 2054.82 840.524 Z\" fill=\"#000000\" fill-rule=\"evenodd\" fill-opacity=\"1\" /><path clip-path=\"url(#clip100)\" d=\"M2100.57 842.144 L2100.57 844.228 L2080.98 844.228 Q2081.26 848.626 2083.62 850.941 Q2086.01 853.232 2090.24 853.232 Q2092.7 853.232 2094.99 852.63 Q2097.3 852.028 2099.57 850.825 L2099.57 854.853 Q2097.28 855.825 2094.87 856.334 Q2092.46 856.843 2089.99 856.843 Q2083.78 856.843 2080.15 853.232 Q2076.54 849.621 2076.54 843.464 Q2076.54 837.098 2079.96 833.371 Q2083.41 829.621 2089.25 829.621 Q2094.48 829.621 2097.51 833.001 Q2100.57 836.357 2100.57 842.144 M2096.31 840.894 Q2096.26 837.399 2094.34 835.316 Q2092.44 833.232 2089.29 833.232 Q2085.73 833.232 2083.57 835.246 Q2081.45 837.26 2081.12 840.917 L2096.31 840.894 Z\" fill=\"#000000\" fill-rule=\"evenodd\" fill-opacity=\"1\" /><path clip-path=\"url(#clip100)\" d=\"M2112.42 825.455 L2112.42 852.329 L2118.07 852.329 Q2125.22 852.329 2128.53 849.089 Q2131.86 845.848 2131.86 838.857 Q2131.86 831.913 2128.53 828.695 Q2125.22 825.455 2118.07 825.455 L2112.42 825.455 M2107.74 821.612 L2117.35 821.612 Q2127.39 821.612 2132.09 825.802 Q2136.79 829.968 2136.79 838.857 Q2136.79 847.792 2132.07 851.982 Q2127.35 856.172 2117.35 856.172 L2107.74 856.172 L2107.74 821.612 Z\" fill=\"#000000\" fill-rule=\"evenodd\" fill-opacity=\"1\" /><path clip-path=\"url(#clip100)\" d=\"M2144.25 821.612 L2151.21 821.612 L2160.03 845.13 L2168.9 821.612 L2175.87 821.612 L2175.87 856.172 L2171.31 856.172 L2171.31 825.825 L2162.39 849.528 L2157.69 849.528 L2148.78 825.825 L2148.78 856.172 L2144.25 856.172 L2144.25 821.612 Z\" fill=\"#000000\" fill-rule=\"evenodd\" fill-opacity=\"1\" /><path clip-path=\"url(#clip100)\" d=\"M2189.82 825.455 L2189.82 852.329 L2195.47 852.329 Q2202.63 852.329 2205.94 849.089 Q2209.27 845.848 2209.27 838.857 Q2209.27 831.913 2205.94 828.695 Q2202.63 825.455 2195.47 825.455 L2189.82 825.455 M2185.15 821.612 L2194.75 821.612 Q2204.8 821.612 2209.5 825.802 Q2214.2 829.968 2214.2 838.857 Q2214.2 847.792 2209.48 851.982 Q2204.75 856.172 2194.75 856.172 L2185.15 856.172 L2185.15 821.612 Z\" fill=\"#000000\" fill-rule=\"evenodd\" fill-opacity=\"1\" /><path clip-path=\"url(#clip100)\" d=\"M2220.8 820.2 L2224.5 820.2 Q2227.97 825.663 2229.69 830.894 Q2231.42 836.126 2231.42 841.288 Q2231.42 846.473 2229.69 851.728 Q2227.97 856.982 2224.5 862.422 L2220.8 862.422 Q2223.88 857.121 2225.38 851.89 Q2226.91 846.635 2226.91 841.288 Q2226.91 835.941 2225.38 830.732 Q2223.88 825.524 2220.8 820.2 Z\" fill=\"#000000\" fill-rule=\"evenodd\" fill-opacity=\"1\" /></svg>\n"
     },
     "execution_count": 50,
     "metadata": {},
     "output_type": "execute_result"
    }
   ],
   "source": [
    "tf_sim = 3.0\n",
    "Tsim_lqr_jacpen = range(0,tf_sim,step=dt)\n",
    "\n",
    "x0 = [-0.4,pi-deg2rad(40),0,0]\n",
    "\n",
    "ctrl_lqr_jacpen = LQRController(K_bil_jacpen, xe, ue)\n",
    "Xsim_lqr_jacpen, = simulatewithcontroller(dmodel_mismatch, ctrl_lqr_jacpen, x0, tf_sim, dt)\n",
    "\n",
    "plotstates(Tsim_lqr_nominal, Xsim_lqr_og, inds=1:2, xlabel=\"time (s)\", ylabel=\"states\",\n",
    "            label=[\"x (og dynamics)\" \"θ (og dynamics)\"], legend=:right, lw=2,\n",
    "            linestyle=:dash, color=[1 2])\n",
    "plotstates!(Tsim_lqr_nominal, Xsim_lqr_nominal, inds=1:2, xlabel=\"time (s)\", ylabel=\"states\",\n",
    "            label=[\"x (nominal eDMD)\" \"θ (nominal eDMD)\"], legend=:right, lw=2,\n",
    "            linestyle=:dot, color=[1 2])\n",
    "plotstates!(Tsim_lqr_jacpen, Xsim_lqr_jacpen, inds=1:2, xlabel=\"time (s)\", ylabel=\"states\",\n",
    "            label=[\"x (jacobian-pen eDMD)\" \"θ (jacobian-pen eDMD)\"], legend=:right, lw=2,\n",
    "            color=[1 2])"
   ]
  },
  {
   "cell_type": "code",
   "execution_count": 51,
   "metadata": {},
   "outputs": [
    {
     "data": {
      "text/html": [
       "    <div style=\"height: 500px; width: 100%; overflow-x: auto; overflow-y: hidden; resize: both\">\n",
       "    <iframe src=\"http://127.0.0.1:8700\" style=\"width: 100%; height: 100%; border: none\"></iframe>\n",
       "    </div>\n"
      ],
      "text/plain": [
       "MeshCat.DisplayedVisualizer(MeshCat.CoreVisualizer(MeshCat.SceneTrees.SceneNode(nothing, nothing, Dict{String, Vector{UInt8}}(), nothing, Dict{String, MeshCat.SceneTrees.SceneNode}(\"meshcat\" => MeshCat.SceneTrees.SceneNode(nothing, nothing, Dict{String, Vector{UInt8}}(), nothing, Dict{String, MeshCat.SceneTrees.SceneNode}(\"robot\" => MeshCat.SceneTrees.SceneNode(nothing, nothing, Dict{String, Vector{UInt8}}(), nothing, Dict{String, MeshCat.SceneTrees.SceneNode}(\"rod\" => MeshCat.SceneTrees.SceneNode(UInt8[0x83, 0xa6, 0x6f, 0x62, 0x6a, 0x65, 0x63, 0x74, 0x84, 0xaa  …  0x2f, 0x72, 0x6f, 0x62, 0x6f, 0x74, 0x2f, 0x72, 0x6f, 0x64], nothing, Dict{String, Vector{UInt8}}(), nothing, Dict{String, MeshCat.SceneTrees.SceneNode}()), \"cart\" => MeshCat.SceneTrees.SceneNode(nothing, nothing, Dict{String, Vector{UInt8}}(), nothing, Dict{String, MeshCat.SceneTrees.SceneNode}(\"pole\" => MeshCat.SceneTrees.SceneNode(nothing, UInt8[0x83, 0xa6, 0x6d, 0x61, 0x74, 0x72, 0x69, 0x78, 0xc7, 0x40  …  0x2f, 0x63, 0x61, 0x72, 0x74, 0x2f, 0x70, 0x6f, 0x6c, 0x65], Dict{String, Vector{UInt8}}(), nothing, Dict{String, MeshCat.SceneTrees.SceneNode}(\"geom\" => MeshCat.SceneTrees.SceneNode(nothing, nothing, Dict{String, Vector{UInt8}}(), nothing, Dict{String, MeshCat.SceneTrees.SceneNode}(\"cyl\" => MeshCat.SceneTrees.SceneNode(UInt8[0x83, 0xa6, 0x6f, 0x62, 0x6a, 0x65, 0x63, 0x74, 0x84, 0xaa  …  0x65, 0x2f, 0x67, 0x65, 0x6f, 0x6d, 0x2f, 0x63, 0x79, 0x6c], nothing, Dict{String, Vector{UInt8}}(), nothing, Dict{String, MeshCat.SceneTrees.SceneNode}()), \"mass\" => MeshCat.SceneTrees.SceneNode(UInt8[0x83, 0xa6, 0x6f, 0x62, 0x6a, 0x65, 0x63, 0x74, 0x84, 0xaa  …  0x2f, 0x67, 0x65, 0x6f, 0x6d, 0x2f, 0x6d, 0x61, 0x73, 0x73], nothing, Dict{String, Vector{UInt8}}(), nothing, Dict{String, MeshCat.SceneTrees.SceneNode}()))))), \"box\" => MeshCat.SceneTrees.SceneNode(UInt8[0x83, 0xa6, 0x6f, 0x62, 0x6a, 0x65, 0x63, 0x74, 0x84, 0xaa  …  0x74, 0x2f, 0x63, 0x61, 0x72, 0x74, 0x2f, 0x62, 0x6f, 0x78], nothing, Dict{String, Vector{UInt8}}(), nothing, Dict{String, MeshCat.SceneTrees.SceneNode}()), \"hinge\" => MeshCat.SceneTrees.SceneNode(UInt8[0x83, 0xa6, 0x6f, 0x62, 0x6a, 0x65, 0x63, 0x74, 0x84, 0xaa  …  0x63, 0x61, 0x72, 0x74, 0x2f, 0x68, 0x69, 0x6e, 0x67, 0x65], nothing, Dict{String, Vector{UInt8}}(), nothing, Dict{String, MeshCat.SceneTrees.SceneNode}()))))))))), Set(Any[WebSocket(server, \u001b[32mCONNECTED\u001b[39m)]), ip\"127.0.0.1\", 8700))"
      ]
     },
     "execution_count": 51,
     "metadata": {},
     "output_type": "execute_result"
    }
   ],
   "source": [
    "render(vis)"
   ]
  },
  {
   "cell_type": "code",
   "execution_count": 52,
   "metadata": {},
   "outputs": [],
   "source": [
    "# visualize!(vis, model, tf_sim, Xsim_lqr_nominal)\n",
    "visualize!(vis, model, tf_sim, Xsim_lqr_jacpen)"
   ]
  }
 ],
 "metadata": {
  "kernelspec": {
   "display_name": "Julia (10 Threads) 1.7.2",
   "language": "julia",
   "name": "julia-(10-threads)-1.7"
  },
  "language_info": {
   "file_extension": ".jl",
   "mimetype": "application/julia",
   "name": "julia",
   "version": "1.7.2"
  },
  "orig_nbformat": 4
 },
 "nbformat": 4,
 "nbformat_minor": 2
}
