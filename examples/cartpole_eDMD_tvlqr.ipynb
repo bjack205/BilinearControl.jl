{
 "cells": [
  {
   "cell_type": "code",
   "execution_count": 1,
   "metadata": {},
   "outputs": [
    {
     "name": "stderr",
     "output_type": "stream",
     "text": [
      "\u001b[32m\u001b[1m  Activating\u001b[22m\u001b[39m project at `~/.julia/dev/BilinearControl/examples`\n"
     ]
    }
   ],
   "source": [
    "import Pkg; Pkg.activate(joinpath(@__DIR__)); Pkg.instantiate();\n",
    "using BilinearControl\n",
    "using BilinearControl.Problems\n",
    "using BilinearControl.EDMD\n",
    "import RobotDynamics as RD\n",
    "using LinearAlgebra\n",
    "using RobotZoo\n",
    "using JLD2\n",
    "using SparseArrays\n",
    "using Plots\n",
    "using Distributions\n",
    "using Distributions: Normal\n",
    "using Random\n",
    "using FiniteDiff, ForwardDiff\n",
    "using Test"
   ]
  },
  {
   "cell_type": "code",
   "execution_count": 2,
   "metadata": {},
   "outputs": [
    {
     "data": {
      "text/plain": [
       "10"
      ]
     },
     "execution_count": 2,
     "metadata": {},
     "output_type": "execute_result"
    }
   ],
   "source": [
    "Threads.nthreads()"
   ]
  },
  {
   "cell_type": "code",
   "execution_count": 3,
   "metadata": {},
   "outputs": [
    {
     "data": {
      "text/plain": [
       "calc_error (generic function with 1 method)"
      ]
     },
     "execution_count": 3,
     "metadata": {},
     "output_type": "execute_result"
    }
   ],
   "source": [
    "include(\"learned_models/edmd_utils.jl\")"
   ]
  },
  {
   "cell_type": "code",
   "execution_count": 4,
   "metadata": {},
   "outputs": [
    {
     "name": "stderr",
     "output_type": "stream",
     "text": [
      "WARNING: using GeometryBasics.Normal in module Main conflicts with an existing identifier.\n",
      "┌ Info: MeshCat server started. You can open the visualizer by visiting the following URL in your browser:\n",
      "│ http://127.0.0.1:8702\n",
      "└ @ MeshCat /home/jeonghun/.julia/packages/MeshCat/Ax8pH/src/visualizer.jl:73\n"
     ]
    },
    {
     "data": {
      "text/plain": [
       "MeshCat Visualizer with path /meshcat/robot/cart/pole at http://127.0.0.1:8702"
      ]
     },
     "execution_count": 4,
     "metadata": {},
     "output_type": "execute_result"
    }
   ],
   "source": [
    "## Visualizer\n",
    "model = RobotZoo.Cartpole()\n",
    "include(joinpath(Problems.VISDIR, \"visualization.jl\"))\n",
    "vis = Visualizer()\n",
    "delete!(vis)\n",
    "set_cartpole!(vis)"
   ]
  },
  {
   "cell_type": "code",
   "execution_count": 5,
   "metadata": {},
   "outputs": [
    {
     "data": {
      "text/html": [
       "    <div style=\"height: 500px; width: 100%; overflow-x: auto; overflow-y: hidden; resize: both\">\n",
       "    <iframe src=\"http://127.0.0.1:8702\" style=\"width: 100%; height: 100%; border: none\"></iframe>\n",
       "    </div>\n"
      ],
      "text/plain": [
       "MeshCat.DisplayedVisualizer(MeshCat.CoreVisualizer(MeshCat.SceneTrees.SceneNode(nothing, nothing, Dict{String, Vector{UInt8}}(), nothing, Dict{String, MeshCat.SceneTrees.SceneNode}(\"meshcat\" => MeshCat.SceneTrees.SceneNode(nothing, nothing, Dict{String, Vector{UInt8}}(), nothing, Dict{String, MeshCat.SceneTrees.SceneNode}(\"robot\" => MeshCat.SceneTrees.SceneNode(nothing, nothing, Dict{String, Vector{UInt8}}(), nothing, Dict{String, MeshCat.SceneTrees.SceneNode}(\"rod\" => MeshCat.SceneTrees.SceneNode(UInt8[0x83, 0xa6, 0x6f, 0x62, 0x6a, 0x65, 0x63, 0x74, 0x84, 0xaa  …  0x2f, 0x72, 0x6f, 0x62, 0x6f, 0x74, 0x2f, 0x72, 0x6f, 0x64], nothing, Dict{String, Vector{UInt8}}(), nothing, Dict{String, MeshCat.SceneTrees.SceneNode}()), \"cart\" => MeshCat.SceneTrees.SceneNode(nothing, nothing, Dict{String, Vector{UInt8}}(), nothing, Dict{String, MeshCat.SceneTrees.SceneNode}(\"pole\" => MeshCat.SceneTrees.SceneNode(nothing, UInt8[0x83, 0xa6, 0x6d, 0x61, 0x74, 0x72, 0x69, 0x78, 0xc7, 0x40  …  0x2f, 0x63, 0x61, 0x72, 0x74, 0x2f, 0x70, 0x6f, 0x6c, 0x65], Dict{String, Vector{UInt8}}(), nothing, Dict{String, MeshCat.SceneTrees.SceneNode}(\"geom\" => MeshCat.SceneTrees.SceneNode(nothing, nothing, Dict{String, Vector{UInt8}}(), nothing, Dict{String, MeshCat.SceneTrees.SceneNode}(\"cyl\" => MeshCat.SceneTrees.SceneNode(UInt8[0x83, 0xa6, 0x6f, 0x62, 0x6a, 0x65, 0x63, 0x74, 0x84, 0xaa  …  0x65, 0x2f, 0x67, 0x65, 0x6f, 0x6d, 0x2f, 0x63, 0x79, 0x6c], nothing, Dict{String, Vector{UInt8}}(), nothing, Dict{String, MeshCat.SceneTrees.SceneNode}()), \"mass\" => MeshCat.SceneTrees.SceneNode(UInt8[0x83, 0xa6, 0x6f, 0x62, 0x6a, 0x65, 0x63, 0x74, 0x84, 0xaa  …  0x2f, 0x67, 0x65, 0x6f, 0x6d, 0x2f, 0x6d, 0x61, 0x73, 0x73], nothing, Dict{String, Vector{UInt8}}(), nothing, Dict{String, MeshCat.SceneTrees.SceneNode}()))))), \"box\" => MeshCat.SceneTrees.SceneNode(UInt8[0x83, 0xa6, 0x6f, 0x62, 0x6a, 0x65, 0x63, 0x74, 0x84, 0xaa  …  0x74, 0x2f, 0x63, 0x61, 0x72, 0x74, 0x2f, 0x62, 0x6f, 0x78], nothing, Dict{String, Vector{UInt8}}(), nothing, Dict{String, MeshCat.SceneTrees.SceneNode}()), \"hinge\" => MeshCat.SceneTrees.SceneNode(UInt8[0x83, 0xa6, 0x6f, 0x62, 0x6a, 0x65, 0x63, 0x74, 0x84, 0xaa  …  0x63, 0x61, 0x72, 0x74, 0x2f, 0x68, 0x69, 0x6e, 0x67, 0x65], nothing, Dict{String, Vector{UInt8}}(), nothing, Dict{String, MeshCat.SceneTrees.SceneNode}()))))))))), Set{Any}(), ip\"127.0.0.1\", 8702))"
      ]
     },
     "execution_count": 5,
     "metadata": {},
     "output_type": "execute_result"
    }
   ],
   "source": [
    "render(vis)"
   ]
  },
  {
   "cell_type": "markdown",
   "metadata": {},
   "source": [
    "# Generate Data"
   ]
  },
  {
   "cell_type": "code",
   "execution_count": 6,
   "metadata": {},
   "outputs": [],
   "source": [
    "altro_traj = load(joinpath(Problems.DATADIR, \"cartpole_altro_trajectories.jld2\"))\n",
    "\n",
    "X_train_altro = altro_traj[\"X_train\"][:, 1:30]\n",
    "U_train_altro = altro_traj[\"U_train\"][:, 1:30]\n",
    "X_test = altro_traj[\"X_test\"][:, 1:10]\n",
    "U_test = altro_traj[\"U_test\"][:, 1:10]\n",
    "tf = altro_traj[\"tf\"]\n",
    "dt = altro_traj[\"dt\"]\n",
    "\n",
    "times = range(0,tf,step=dt);"
   ]
  },
  {
   "cell_type": "code",
   "execution_count": 7,
   "metadata": {},
   "outputs": [],
   "source": [
    "model = RobotZoo.Cartpole()  # this model has damping\n",
    "dmodel = RD.DiscretizedDynamics{RD.RK4}(model);\n",
    "\n",
    "Random.seed!(1)\n",
    "\n",
    "# number of trajectories\n",
    "num_train = 20\n",
    "num_test = 10\n",
    "\n",
    "# Generate a stabilizing LQR controller about the top\n",
    "Qlqr = Diagonal([0.2,10,1e-2,1e-2])\n",
    "Rlqr = Diagonal([1e-3])\n",
    "xe = [0,pi,0,0]\n",
    "ue = [0.0]\n",
    "ctrl_lqr = LQRController(dmodel, Qlqr, Rlqr, xe, ue, dt)\n",
    "\n",
    "# Sample a bunch of initial conditions for the LQR controller\n",
    "x0_sampler = Product([\n",
    "    Uniform(-1.0,1.0),\n",
    "    Uniform(pi-pi/3,pi+pi/3),\n",
    "    Uniform(-.5,.5),\n",
    "    Uniform(-.5,.5),\n",
    "])\n",
    "initial_conditions_lqr = [rand(x0_sampler) for _ in 1:num_train]\n",
    "initial_conditions_test = [rand(x0_sampler) for _ in 1:num_test]\n",
    "\n",
    "# Create data set\n",
    "X_train_lqr, U_train_lqr = create_data(dmodel, ctrl_lqr, initial_conditions_lqr, tf, dt)\n",
    "X_test_lqr, U_test_lqr = create_data(dmodel, ctrl_lqr, initial_conditions_test, tf, dt);"
   ]
  },
  {
   "cell_type": "code",
   "execution_count": 8,
   "metadata": {},
   "outputs": [],
   "source": [
    "# X_train = X_train_altro\n",
    "# U_train = U_train_altro;\n",
    "\n",
    "X_train = [X_train_altro X_train_lqr]\n",
    "U_train = [U_train_altro U_train_lqr];"
   ]
  },
  {
   "cell_type": "markdown",
   "metadata": {},
   "source": [
    "# Fit the Data using normal eDMD\n",
    "This uses the standard eDMD model method used in the CalTech paper, which learns a model of the form:\n",
    "\n",
    "$$ x^+ = A x + \\sum_{i=1}^m u_i C_i x $$"
   ]
  },
  {
   "cell_type": "code",
   "execution_count": 9,
   "metadata": {},
   "outputs": [],
   "source": [
    "# Define the basis functions\n",
    "eigfuns = [\"state\", \"sine\", \"cosine\", \"sine\", \"sine\", \"chebyshev\"]\n",
    "eigorders = [0,0,0,2,4,4];"
   ]
  },
  {
   "cell_type": "code",
   "execution_count": 10,
   "metadata": {},
   "outputs": [
    {
     "name": "stdout",
     "output_type": "stream",
     "text": [
      "(T, K) = (495000, 2178)\n",
      "issparse(X) = true\n",
      "lambda = 10.1\n",
      "(T, K) = (60000, 132)\n",
      "issparse(X) = true\n",
      "lambda = 0.0\n"
     ]
    }
   ],
   "source": [
    "# Fit the data\n",
    "Z_train, Zu_train, kf = build_eigenfunctions(X_train, U_train, eigfuns, eigorders)\n",
    "F, C, g = learn_bilinear_model(X_train, Z_train, Zu_train,\n",
    "    [\"ridge\", \"lasso\"];\n",
    "    edmd_weights=[10.1], \n",
    "    mapping_weights=[0.0], \n",
    "    algorithm=:qr\n",
    ");"
   ]
  },
  {
   "cell_type": "markdown",
   "metadata": {},
   "source": [
    "### Evaluate the fit\n",
    "The fit is evaluated using:\n",
    "$$ \\frac{1}{P} \\sum_{j=1}^P || g (A \\varphi(x_j) + \\sum_{i=1}^m u_{j,i} C_i \\varphi(x_j)) - x_j^+ || $$\n",
    "\n",
    "where $y = \\varphi(x)$ is the Koopman transform."
   ]
  },
  {
   "cell_type": "code",
   "execution_count": 11,
   "metadata": {},
   "outputs": [
    {
     "name": "stdout",
     "output_type": "stream",
     "text": [
      "Train Error: 0.026243805798943632\n",
      "Test Error:  0.058379562302208886\n"
     ]
    }
   ],
   "source": [
    "err_train = BilinearControl.EDMD.fiterror(F,C,g,kf, X_train, U_train)\n",
    "err_test = BilinearControl.EDMD.fiterror(F,C,g,kf, X_test, U_test)\n",
    "println(\"Train Error: \", err_train)\n",
    "println(\"Test Error:  \", err_test)"
   ]
  },
  {
   "cell_type": "markdown",
   "metadata": {},
   "source": [
    "### Define the Bilinear Model"
   ]
  },
  {
   "cell_type": "code",
   "execution_count": 12,
   "metadata": {},
   "outputs": [
    {
     "name": "stdout",
     "output_type": "stream",
     "text": [
      "New state dimension: 33\n"
     ]
    }
   ],
   "source": [
    "model_bilinear = EDMDModel(F,C,g,kf,dt,\"cartpole\")\n",
    "n,m = RD.dims(model_bilinear)\n",
    "n0 = originalstatedim(model_bilinear);\n",
    "println(\"New state dimension: \", n)"
   ]
  },
  {
   "cell_type": "markdown",
   "metadata": {},
   "source": [
    "### Compare Linearization\n",
    "To see if the learned model captures the dynamics, we'll evaluate the effective `A` and `B` dynamics Jaocbians of the learned model on the original dynamics, and compare to the nominal Jacobians."
   ]
  },
  {
   "cell_type": "code",
   "execution_count": 13,
   "metadata": {},
   "outputs": [],
   "source": [
    "# Define the equilibrium\n",
    "xe = [0.,pi,0,0]\n",
    "ue = [0.0]\n",
    "ze = RD.KnotPoint{n0,m}(xe,ue,0.0,dt)\n",
    "ye = expandstate(model_bilinear, xe);"
   ]
  },
  {
   "cell_type": "code",
   "execution_count": 14,
   "metadata": {},
   "outputs": [],
   "source": [
    "# Nominal Jacobians\n",
    "J = zeros(n0,n0+m)\n",
    "xn = zeros(n0)\n",
    "RD.jacobian!(RD.InPlace(), RD.ForwardAD(), dmodel, J, xn, ze)\n",
    "A_nom = J[:,1:n0]\n",
    "B_nom = J[:,n0+1:end];"
   ]
  },
  {
   "cell_type": "code",
   "execution_count": 15,
   "metadata": {},
   "outputs": [],
   "source": [
    "# Bilinear Jacobians\n",
    "function dynamics_bilinear(x,u,t,dt)\n",
    "    y = expandstate(model_bilinear, x)\n",
    "    yn = zero(y)\n",
    "    RD.discrete_dynamics!(model_bilinear, yn, y, u, t, dt)\n",
    "    originalstate(model_bilinear, yn)\n",
    "end\n",
    "\n",
    "A_bil = FiniteDiff.finite_difference_jacobian(x->dynamics_bilinear(x,ue,0.0,dt), xe)\n",
    "B_bil = FiniteDiff.finite_difference_jacobian(u->dynamics_bilinear(xe,u,0.0,dt), ue);"
   ]
  },
  {
   "cell_type": "code",
   "execution_count": 16,
   "metadata": {},
   "outputs": [
    {
     "data": {
      "text/plain": [
       "4×4 Matrix{Float64}:\n",
       " 1.0  9.81192e-5  0.01  3.27e-7\n",
       " 0.0  1.00118     0.0   0.0100039\n",
       " 0.0  0.0196277   1.0   9.81192e-5\n",
       " 0.0  0.235532    0.0   1.00118"
      ]
     },
     "execution_count": 16,
     "metadata": {},
     "output_type": "execute_result"
    }
   ],
   "source": [
    "A_nom"
   ]
  },
  {
   "cell_type": "code",
   "execution_count": 17,
   "metadata": {},
   "outputs": [
    {
     "data": {
      "text/plain": [
       "4×4 Matrix{Float64}:\n",
       "  0.968074    -0.00790191   0.00359882  -0.00453379\n",
       "  0.00214446   0.998042    -0.00399345   0.00802594\n",
       "  0.0143793    0.00383764   1.00219     -0.00211818\n",
       " -0.0159743    0.206091    -0.00526763   0.997736"
      ]
     },
     "execution_count": 17,
     "metadata": {},
     "output_type": "execute_result"
    }
   ],
   "source": [
    "A_bil"
   ]
  },
  {
   "cell_type": "code",
   "execution_count": 18,
   "metadata": {},
   "outputs": [
    {
     "data": {
      "text/plain": [
       "4×1 Matrix{Float64}:\n",
       " 5.0001635e-5\n",
       " 0.00010001962000000002\n",
       " 0.010000654\n",
       " 0.020007847999999998"
      ]
     },
     "execution_count": 18,
     "metadata": {},
     "output_type": "execute_result"
    }
   ],
   "source": [
    "B_nom"
   ]
  },
  {
   "cell_type": "code",
   "execution_count": 19,
   "metadata": {},
   "outputs": [
    {
     "data": {
      "text/plain": [
       "4×1 Matrix{Float64}:\n",
       " 0.0001898356458696071\n",
       " 1.958012580871582e-5\n",
       " 0.009686576719104778\n",
       " 0.019285797054180875"
      ]
     },
     "execution_count": 19,
     "metadata": {},
     "output_type": "execute_result"
    }
   ],
   "source": [
    "B_bil"
   ]
  },
  {
   "cell_type": "markdown",
   "metadata": {},
   "source": [
    "# Train with Derivative Data\n",
    "Here we incorporate derivative data by penalizing the difference of the Jacobian of the learned model from the expected Jacobians of the nominal model, e.g.:\n",
    "\n",
    "$$ \\sum_{j=1}^P || \\frac{\\partial}{\\partial x} G \\hat{f}(\\varphi(x_j), u_j) - A_j ||^2 $$\n",
    "\n",
    "where \n",
    "\n",
    "$$ \\hat{f}(y,u) = A y + B u + \\sum_{i=1}^m u_i C_i y $$\n",
    "\n",
    "are the learned bilinear dynamics."
   ]
  },
  {
   "cell_type": "code",
   "execution_count": 20,
   "metadata": {},
   "outputs": [],
   "source": [
    "# Generate Jacobians\n",
    "xn = zeros(n0)\n",
    "jacobians = map(CartesianIndices(U_train)) do cind\n",
    "    k = cind[1]\n",
    "    x = X_train[cind]\n",
    "    u = U_train[cind]\n",
    "    z = RD.KnotPoint{n0,m}(x,u,times[k],dt)\n",
    "    J = zeros(n0,n0+m)\n",
    "    RD.jacobian!(\n",
    "        RD.InPlace(), RD.ForwardAD(), dmodel, J, xn, z \n",
    "    )\n",
    "    J\n",
    "end\n",
    "A_train = map(J->J[:,1:n0], jacobians)\n",
    "B_train = map(J->J[:,n0+1:end], jacobians)\n",
    "\n",
    "# Convert states to lifted Koopman states\n",
    "Y_train = map(kf, X_train)\n",
    "\n",
    "# Calculate Jacobian of Koopman transform\n",
    "F_train = map(@view X_train[1:end-1,:]) do x\n",
    "    sparse(ForwardDiff.jacobian(x->expandstate(model_bilinear,x), x))\n",
    "end;"
   ]
  },
  {
   "cell_type": "markdown",
   "metadata": {},
   "source": [
    "### Build Least-squares problem\n",
    "Find the eDMD data `A`, `B`, and `C` that minimize the following residual:\n",
    "\n",
    "$$\\sum_{j=1}^P (1-\\alpha)|| A y_j + B u_j + \\sum_{i=1}^m u_{j,i} C_i x_j - y_j^+ ||^2 + \n",
    "\\alpha || G (A + \\sum_{i=1}^m u_{j,i} C_j) F_j  - A_j ||^2 + \n",
    "\\alpha || G (B + [C_1 x_j \\dots C_m x_j]) - B_j ||^2  $$\n",
    "\n",
    "where $F_j = \\partial \\varphi(x_j) / \\partial x$.\n",
    "\n",
    "This is equivalent to \n",
    "\n",
    "$$ (1-\\alpha)|| E Z_{1:P} - Y_{1:P}^+ ||^2 + \n",
    "\\alpha || G E \\hat{A}_{1:P} - A_{1:P} ||^2 +\n",
    "\\alpha || G E \\hat{B}_{1:P} - B_{1:P} ||^2 $$\n",
    "\n",
    "where\n",
    "\n",
    "$$ E = \\begin{bmatrix} A & B & C_1 & \\dots & C_m \\end{bmatrix} \\in \\mathbb{R}^{n \\times p} $$\n",
    "$$ Z_j = \\begin{bmatrix} \n",
    "    x_j \\\\ u_j \\\\ u_{j,1} x_j \\\\ \\vdots \\\\ u_{j,m} x_j \n",
    "\\end{bmatrix} \\in \\mathbb{R}^{p}, \\quad\n",
    "\\hat{A}_j = \\begin{bmatrix} \n",
    "    I_n \\\\ 0_{m,n} \\\\ u_{j,1} I_n \\\\ \\vdots \\\\ u_{j,m} I_n \n",
    "\\end{bmatrix} \\in \\mathbb{R}^{p \\times n}, \\quad\n",
    "\\hat{B}_j = \\begin{bmatrix} \n",
    "    0_{n,m} \\\\ I_m \\\\ [x_j \\; 0 \\; \\dots \\; 0] \\\\ \\vdots \\\\ [0 \\; \\dots \\; 0 \\; x_j] \n",
    "\\end{bmatrix} \\in \\mathbb{R}^{p \\times m}\n",
    "$$\n",
    "\n",
    "which is equivalent to \n",
    "\n",
    "$$ \\left\\lVert \n",
    "\\begin{bmatrix} \n",
    "    Z_{1:P}^T \\otimes I_n \\\\\n",
    "    \\hat{A}_{1:P}^T \\otimes G \\\\\n",
    "    \\hat{B}_{1:P}^T \\otimes G \n",
    "\\end{bmatrix} \\text{vec}(E) - \n",
    "\\begin{bmatrix}\n",
    "    \\text{vec}{Y_{1:P}^+}\\\\\n",
    "    \\text{vec}{A_{1:P}^+}\\\\\n",
    "    \\text{vec}{B_{1:P}^+}\\\\\n",
    "\\end{bmatrix}\n",
    "\\right\\rVert^2 $$"
   ]
  },
  {
   "cell_type": "code",
   "execution_count": 21,
   "metadata": {},
   "outputs": [
    {
     "name": "stdout",
     "output_type": "stream",
     "text": [
      "Concatentating data\n",
      "Creating feature matrix\n",
      "Creating state Jacobian matrix\n",
      "Creating control Jacobian matrix\n",
      "Creating least-squares data\n"
     ]
    }
   ],
   "source": [
    "# Create a sparse version of the G Jacobian\n",
    "G = spdiagm(n0,n,1=>ones(n0)) \n",
    "@test norm(G - model_bilinear.g) < 1e-8\n",
    "\n",
    "# Build Least Squares Problem\n",
    "W,s = BilinearControl.EDMD.build_edmd_data(\n",
    "    Z_train, U_train, A_train, B_train, F_train, model_bilinear.g\n",
    ");"
   ]
  },
  {
   "cell_type": "markdown",
   "metadata": {},
   "source": [
    "### Solve the Least-squares Problem"
   ]
  },
  {
   "cell_type": "code",
   "execution_count": 22,
   "metadata": {},
   "outputs": [
    {
     "name": "stdout",
     "output_type": "stream",
     "text": [
      " 35.736292 seconds (451.15 k allocations: 2.389 GiB, 1.22% gc time, 0.34% compilation time)\n",
      "147.730944 seconds (627 allocations: 83.927 GiB, 0.60% gc time, 0.01% compilation time)\n",
      "  5.820438 seconds (33 allocations: 40.744 MiB, 0.14% gc time, 0.05% compilation time)\n"
     ]
    },
    {
     "data": {
      "text/plain": [
       "37931.69364928344"
      ]
     },
     "execution_count": 22,
     "metadata": {},
     "output_type": "execute_result"
    }
   ],
   "source": [
    "@time Wsparse = sparse(W)\n",
    "@time F = qr(Wsparse)\n",
    "@time x = F \\ s\n",
    "norm(W*x - s)"
   ]
  },
  {
   "cell_type": "code",
   "execution_count": 23,
   "metadata": {},
   "outputs": [],
   "source": [
    "# Extract out bilinear dynamics\n",
    "n = length(Z_train[1])\n",
    "E = reshape(x,n,:)\n",
    "A = E[:,1:n]\n",
    "B = E[:,n .+ (1:m)]\n",
    "C = E[:,n+m .+ (1:n*m)];"
   ]
  },
  {
   "cell_type": "code",
   "execution_count": 24,
   "metadata": {},
   "outputs": [
    {
     "name": "stdout",
     "output_type": "stream",
     "text": [
      "Train Error: 0.026243805798943632\n",
      "Test Error:  0.058379562302208886\n",
      "New Train Error: 0.02347627570144455\n",
      "New Test Error:  0.06186634653569404\n"
     ]
    }
   ],
   "source": [
    "# Evaluate the Fit\n",
    "err_train2 = BilinearControl.EDMD.fiterror(A,B,C,g,kf, X_train, U_train)\n",
    "err_test2 = BilinearControl.EDMD.fiterror(A,B,C,g,kf, X_test, U_test)\n",
    "println(\"Train Error: \", err_train)\n",
    "println(\"Test Error:  \", err_test)\n",
    "println(\"New Train Error: \", err_train2)\n",
    "println(\"New Test Error:  \", err_test2)"
   ]
  },
  {
   "cell_type": "code",
   "execution_count": 25,
   "metadata": {},
   "outputs": [
    {
     "data": {
      "text/plain": [
       "0.1292593635595607"
      ]
     },
     "execution_count": 25,
     "metadata": {},
     "output_type": "execute_result"
    }
   ],
   "source": [
    "BilinearControl.matdensity(Wsparse)"
   ]
  },
  {
   "cell_type": "code",
   "execution_count": 26,
   "metadata": {},
   "outputs": [],
   "source": [
    "# Save data\n",
    "jldsave(joinpath(Problems.DATADIR,\"cartpole_eDMD_jac_tvlqr_data.jld2\"); A, B, C, g, kf, eigfuns, eigorders, tf, dt)"
   ]
  },
  {
   "cell_type": "markdown",
   "metadata": {},
   "source": [
    "### Create and Test new eDMD Model"
   ]
  },
  {
   "cell_type": "code",
   "execution_count": 27,
   "metadata": {},
   "outputs": [],
   "source": [
    "# import test trajectories\n",
    "altro_traj = load(joinpath(Problems.DATADIR, \"cartpole_altro_trajectories.jld2\"))\n",
    "X_test = altro_traj[\"X_test\"]\n",
    "U_test = altro_traj[\"U_test\"];"
   ]
  },
  {
   "cell_type": "code",
   "execution_count": 28,
   "metadata": {},
   "outputs": [],
   "source": [
    "cartpole_data = load(joinpath(Problems.DATADIR, \"cartpole_eDMD_jac_tvlqr_data.jld2\"))\n",
    "A = cartpole_data[\"A\"]\n",
    "B = cartpole_data[\"B\"]\n",
    "C = cartpole_data[\"C\"]\n",
    "g = cartpole_data[\"g\"]\n",
    "kf = cartpole_data[\"kf\"]\n",
    "tf = cartpole_data[\"tf\"]\n",
    "dt = cartpole_data[\"dt\"]\n",
    "\n",
    "model_bilinear2 = EDMDModel(A,B,[C],g,kf,dt,\"cartpole\")\n",
    "n,m = RD.dims(model_bilinear2)\n",
    "n0 = originalstatedim(model_bilinear2)\n",
    "times = range(0,tf,step=dt)\n",
    "\n",
    "# create cartpole model\n",
    "model = RobotZoo.Cartpole()\n",
    "dmodel = RD.DiscretizedDynamics{RD.RK4}(model);\n",
    "\n",
    "# Define the equilibrium\n",
    "xe = [0.0,pi,0.0,0.0]\n",
    "ue = [0.0]\n",
    "ze = RD.KnotPoint{n0,m}(xe,ue,0.0,dt)\n",
    "\n",
    "# Nominal Jacobians\n",
    "J = zeros(n0,n0+m)\n",
    "xn = zeros(n0)\n",
    "RD.jacobian!(RD.InPlace(), RD.ForwardAD(), dmodel, J, xn, ze)\n",
    "A_nom = J[:,1:n0]\n",
    "B_nom = J[:,n0+1:end];"
   ]
  },
  {
   "cell_type": "code",
   "execution_count": 29,
   "metadata": {},
   "outputs": [],
   "source": [
    "# Get A,B for new system\n",
    "function dynamics_bilinear2(x,u,t,dt)\n",
    "    y = expandstate(model_bilinear2, x)\n",
    "    yn = zero(y)\n",
    "    RD.discrete_dynamics!(model_bilinear2, yn, y, u, t, dt)\n",
    "    originalstate(model_bilinear2, yn)\n",
    "end\n",
    "\n",
    "A_bil2 = FiniteDiff.finite_difference_jacobian(x->dynamics_bilinear2(x,ue,0.0,dt), xe)\n",
    "B_bil2 = FiniteDiff.finite_difference_jacobian(u->dynamics_bilinear2(xe,u,0.0,dt), ue);"
   ]
  },
  {
   "cell_type": "markdown",
   "metadata": {},
   "source": [
    "**Compare the Jacobians with Nominal model**"
   ]
  },
  {
   "cell_type": "code",
   "execution_count": 30,
   "metadata": {},
   "outputs": [
    {
     "data": {
      "text/plain": [
       "4×4 Matrix{Float64}:\n",
       " 1.0  9.81192e-5  0.01  3.27e-7\n",
       " 0.0  1.00118     0.0   0.0100039\n",
       " 0.0  0.0196277   1.0   9.81192e-5\n",
       " 0.0  0.235532    0.0   1.00118"
      ]
     },
     "execution_count": 30,
     "metadata": {},
     "output_type": "execute_result"
    }
   ],
   "source": [
    "A_nom"
   ]
  },
  {
   "cell_type": "code",
   "execution_count": 31,
   "metadata": {},
   "outputs": [
    {
     "data": {
      "text/plain": [
       "4×4 Matrix{Float64}:\n",
       "  1.0          9.61104e-5   0.0100007    2.18366e-7\n",
       " -1.66893e-6   1.00117     -2.71201e-6   0.0100029\n",
       " -6.83218e-6   0.0192338    1.00015      5.07012e-5\n",
       " -0.000342578  0.233975    -0.000508785  1.00089"
      ]
     },
     "execution_count": 31,
     "metadata": {},
     "output_type": "execute_result"
    }
   ],
   "source": [
    "A_bil2"
   ]
  },
  {
   "cell_type": "code",
   "execution_count": 32,
   "metadata": {},
   "outputs": [
    {
     "data": {
      "text/plain": [
       "4×1 Matrix{Float64}:\n",
       " 5.0001635e-5\n",
       " 0.00010001962000000002\n",
       " 0.010000654\n",
       " 0.020007847999999998"
      ]
     },
     "execution_count": 32,
     "metadata": {},
     "output_type": "execute_result"
    }
   ],
   "source": [
    "B_nom"
   ]
  },
  {
   "cell_type": "code",
   "execution_count": 33,
   "metadata": {},
   "outputs": [
    {
     "data": {
      "text/plain": [
       "4×1 Matrix{Float64}:\n",
       " 4.993066579572769e-5\n",
       " 9.882450103759766e-5\n",
       " 0.009996284898079466\n",
       " 0.019772949555772357"
      ]
     },
     "execution_count": 33,
     "metadata": {},
     "output_type": "execute_result"
    }
   ],
   "source": [
    "B_bil2"
   ]
  },
  {
   "cell_type": "markdown",
   "metadata": {},
   "source": [
    "### Stabilize with LQR"
   ]
  },
  {
   "cell_type": "code",
   "execution_count": 34,
   "metadata": {},
   "outputs": [],
   "source": [
    "Qlqr = Diagonal([0.2,10,1e-2,1e-2])\n",
    "Rlqr = Diagonal([1e-2])\n",
    "K_nom = dlqr(A_nom, B_nom, Qlqr, Rlqr)\n",
    "K_bil2 = dlqr(A_bil2, B_bil2, Qlqr, Rlqr);"
   ]
  },
  {
   "cell_type": "code",
   "execution_count": 35,
   "metadata": {},
   "outputs": [
    {
     "name": "stdout",
     "output_type": "stream",
     "text": [
      "Stability Summary:\n",
      "  Dynamics  |  Controller  |  is stable? \n",
      "------------|--------------|--------------\n",
      "  Nominal   |  Nominal     |  true\n",
      "  Bilinear  |  Bilinear    |  true\n",
      "  Nominal   |  Bilinear    |  true\n"
     ]
    }
   ],
   "source": [
    "# Evaluate stability\n",
    "isstable_nominal = maximum(abs.(eigvals(A_nom - B_nom*K_nom))) < 1.0\n",
    "isstable_bilinear2 = maximum(abs.(eigvals(A_bil2 - B_bil2*K_bil2))) < 1.0\n",
    "isstable_nominal_with_bilinear2 = maximum(abs.(eigvals(A_nom - B_nom*K_bil2))) < 1.0\n",
    "\n",
    "println(\"Stability Summary:\")\n",
    "println(\"  Dynamics  |  Controller  |  is stable? \")\n",
    "println(\"------------|--------------|--------------\")\n",
    "println(\"  Nominal   |  Nominal     |  \", isstable_nominal)\n",
    "println(\"  Bilinear  |  Bilinear    |  \", isstable_bilinear2)\n",
    "println(\"  Nominal   |  Bilinear    |  \", isstable_nominal_with_bilinear2)"
   ]
  },
  {
   "cell_type": "code",
   "execution_count": 36,
   "metadata": {},
   "outputs": [
    {
     "data": {
      "image/svg+xml": "<?xml version=\"1.0\" encoding=\"utf-8\"?>\n<svg xmlns=\"http://www.w3.org/2000/svg\" xmlns:xlink=\"http://www.w3.org/1999/xlink\" width=\"600\" height=\"400\" viewBox=\"0 0 2400 1600\">\n<defs>\n  <clipPath id=\"clip330\">\n    <rect x=\"0\" y=\"0\" width=\"2400\" height=\"1600\"/>\n  </clipPath>\n</defs>\n<path clip-path=\"url(#clip330)\" d=\"\nM0 1600 L2400 1600 L2400 0 L0 0  Z\n  \" fill=\"#ffffff\" fill-rule=\"evenodd\" fill-opacity=\"1\"/>\n<defs>\n  <clipPath id=\"clip331\">\n    <rect x=\"480\" y=\"0\" width=\"1681\" height=\"1600\"/>\n  </clipPath>\n</defs>\n<path clip-path=\"url(#clip330)\" d=\"\nM174.149 1423.18 L2352.76 1423.18 L2352.76 47.2441 L174.149 47.2441  Z\n  \" fill=\"#ffffff\" fill-rule=\"evenodd\" fill-opacity=\"1\"/>\n<defs>\n  <clipPath id=\"clip332\">\n    <rect x=\"174\" y=\"47\" width=\"2180\" height=\"1377\"/>\n  </clipPath>\n</defs>\n<polyline clip-path=\"url(#clip332)\" style=\"stroke:#000000; stroke-linecap:butt; stroke-linejoin:round; stroke-width:2; stroke-opacity:0.1; fill:none\" points=\"\n  235.808,1423.18 235.808,47.2441 \n  \"/>\n<polyline clip-path=\"url(#clip332)\" style=\"stroke:#000000; stroke-linecap:butt; stroke-linejoin:round; stroke-width:2; stroke-opacity:0.1; fill:none\" points=\"\n  749.63,1423.18 749.63,47.2441 \n  \"/>\n<polyline clip-path=\"url(#clip332)\" style=\"stroke:#000000; stroke-linecap:butt; stroke-linejoin:round; stroke-width:2; stroke-opacity:0.1; fill:none\" points=\"\n  1263.45,1423.18 1263.45,47.2441 \n  \"/>\n<polyline clip-path=\"url(#clip332)\" style=\"stroke:#000000; stroke-linecap:butt; stroke-linejoin:round; stroke-width:2; stroke-opacity:0.1; fill:none\" points=\"\n  1777.27,1423.18 1777.27,47.2441 \n  \"/>\n<polyline clip-path=\"url(#clip332)\" style=\"stroke:#000000; stroke-linecap:butt; stroke-linejoin:round; stroke-width:2; stroke-opacity:0.1; fill:none\" points=\"\n  2291.1,1423.18 2291.1,47.2441 \n  \"/>\n<polyline clip-path=\"url(#clip330)\" style=\"stroke:#000000; stroke-linecap:butt; stroke-linejoin:round; stroke-width:4; stroke-opacity:1; fill:none\" points=\"\n  174.149,1423.18 2352.76,1423.18 \n  \"/>\n<polyline clip-path=\"url(#clip330)\" style=\"stroke:#000000; stroke-linecap:butt; stroke-linejoin:round; stroke-width:4; stroke-opacity:1; fill:none\" points=\"\n  235.808,1423.18 235.808,1404.28 \n  \"/>\n<polyline clip-path=\"url(#clip330)\" style=\"stroke:#000000; stroke-linecap:butt; stroke-linejoin:round; stroke-width:4; stroke-opacity:1; fill:none\" points=\"\n  749.63,1423.18 749.63,1404.28 \n  \"/>\n<polyline clip-path=\"url(#clip330)\" style=\"stroke:#000000; stroke-linecap:butt; stroke-linejoin:round; stroke-width:4; stroke-opacity:1; fill:none\" points=\"\n  1263.45,1423.18 1263.45,1404.28 \n  \"/>\n<polyline clip-path=\"url(#clip330)\" style=\"stroke:#000000; stroke-linecap:butt; stroke-linejoin:round; stroke-width:4; stroke-opacity:1; fill:none\" points=\"\n  1777.27,1423.18 1777.27,1404.28 \n  \"/>\n<polyline clip-path=\"url(#clip330)\" style=\"stroke:#000000; stroke-linecap:butt; stroke-linejoin:round; stroke-width:4; stroke-opacity:1; fill:none\" points=\"\n  2291.1,1423.18 2291.1,1404.28 \n  \"/>\n<path clip-path=\"url(#clip330)\" d=\"M213.192 1454.1 Q209.581 1454.1 207.752 1457.66 Q205.947 1461.2 205.947 1468.33 Q205.947 1475.44 207.752 1479.01 Q209.581 1482.55 213.192 1482.55 Q216.826 1482.55 218.632 1479.01 Q220.46 1475.44 220.46 1468.33 Q220.46 1461.2 218.632 1457.66 Q216.826 1454.1 213.192 1454.1 M213.192 1450.39 Q219.002 1450.39 222.058 1455 Q225.136 1459.58 225.136 1468.33 Q225.136 1477.06 222.058 1481.67 Q219.002 1486.25 213.192 1486.25 Q207.382 1486.25 204.303 1481.67 Q201.248 1477.06 201.248 1468.33 Q201.248 1459.58 204.303 1455 Q207.382 1450.39 213.192 1450.39 Z\" fill=\"#000000\" fill-rule=\"evenodd\" fill-opacity=\"1\" /><path clip-path=\"url(#clip330)\" d=\"M233.354 1479.7 L238.238 1479.7 L238.238 1485.58 L233.354 1485.58 L233.354 1479.7 Z\" fill=\"#000000\" fill-rule=\"evenodd\" fill-opacity=\"1\" /><path clip-path=\"url(#clip330)\" d=\"M258.423 1454.1 Q254.812 1454.1 252.983 1457.66 Q251.178 1461.2 251.178 1468.33 Q251.178 1475.44 252.983 1479.01 Q254.812 1482.55 258.423 1482.55 Q262.057 1482.55 263.863 1479.01 Q265.692 1475.44 265.692 1468.33 Q265.692 1461.2 263.863 1457.66 Q262.057 1454.1 258.423 1454.1 M258.423 1450.39 Q264.233 1450.39 267.289 1455 Q270.368 1459.58 270.368 1468.33 Q270.368 1477.06 267.289 1481.67 Q264.233 1486.25 258.423 1486.25 Q252.613 1486.25 249.534 1481.67 Q246.479 1477.06 246.479 1468.33 Q246.479 1459.58 249.534 1455 Q252.613 1450.39 258.423 1450.39 Z\" fill=\"#000000\" fill-rule=\"evenodd\" fill-opacity=\"1\" /><path clip-path=\"url(#clip330)\" d=\"M721.366 1481.64 L737.686 1481.64 L737.686 1485.58 L715.741 1485.58 L715.741 1481.64 Q718.403 1478.89 722.987 1474.26 Q727.593 1469.61 728.774 1468.27 Q731.019 1465.74 731.899 1464.01 Q732.801 1462.25 732.801 1460.56 Q732.801 1457.8 730.857 1456.07 Q728.936 1454.33 725.834 1454.33 Q723.635 1454.33 721.181 1455.09 Q718.751 1455.86 715.973 1457.41 L715.973 1452.69 Q718.797 1451.55 721.251 1450.97 Q723.704 1450.39 725.741 1450.39 Q731.112 1450.39 734.306 1453.08 Q737.5 1455.77 737.5 1460.26 Q737.5 1462.39 736.69 1464.31 Q735.903 1466.2 733.797 1468.8 Q733.218 1469.47 730.116 1472.69 Q727.014 1475.88 721.366 1481.64 Z\" fill=\"#000000\" fill-rule=\"evenodd\" fill-opacity=\"1\" /><path clip-path=\"url(#clip330)\" d=\"M747.5 1479.7 L752.385 1479.7 L752.385 1485.58 L747.5 1485.58 L747.5 1479.7 Z\" fill=\"#000000\" fill-rule=\"evenodd\" fill-opacity=\"1\" /><path clip-path=\"url(#clip330)\" d=\"M762.616 1451.02 L780.972 1451.02 L780.972 1454.96 L766.898 1454.96 L766.898 1463.43 Q767.917 1463.08 768.935 1462.92 Q769.954 1462.73 770.972 1462.73 Q776.759 1462.73 780.139 1465.9 Q783.519 1469.08 783.519 1474.49 Q783.519 1480.07 780.047 1483.17 Q776.574 1486.25 770.255 1486.25 Q768.079 1486.25 765.81 1485.88 Q763.565 1485.51 761.158 1484.77 L761.158 1480.07 Q763.241 1481.2 765.463 1481.76 Q767.685 1482.32 770.162 1482.32 Q774.167 1482.32 776.505 1480.21 Q778.843 1478.1 778.843 1474.49 Q778.843 1470.88 776.505 1468.77 Q774.167 1466.67 770.162 1466.67 Q768.287 1466.67 766.412 1467.08 Q764.56 1467.5 762.616 1468.38 L762.616 1451.02 Z\" fill=\"#000000\" fill-rule=\"evenodd\" fill-opacity=\"1\" /><path clip-path=\"url(#clip330)\" d=\"M1230.62 1451.02 L1248.97 1451.02 L1248.97 1454.96 L1234.9 1454.96 L1234.9 1463.43 Q1235.92 1463.08 1236.94 1462.92 Q1237.95 1462.73 1238.97 1462.73 Q1244.76 1462.73 1248.14 1465.9 Q1251.52 1469.08 1251.52 1474.49 Q1251.52 1480.07 1248.05 1483.17 Q1244.58 1486.25 1238.26 1486.25 Q1236.08 1486.25 1233.81 1485.88 Q1231.57 1485.51 1229.16 1484.77 L1229.16 1480.07 Q1231.24 1481.2 1233.46 1481.76 Q1235.69 1482.32 1238.16 1482.32 Q1242.17 1482.32 1244.51 1480.21 Q1246.84 1478.1 1246.84 1474.49 Q1246.84 1470.88 1244.51 1468.77 Q1242.17 1466.67 1238.16 1466.67 Q1236.29 1466.67 1234.41 1467.08 Q1232.56 1467.5 1230.62 1468.38 L1230.62 1451.02 Z\" fill=\"#000000\" fill-rule=\"evenodd\" fill-opacity=\"1\" /><path clip-path=\"url(#clip330)\" d=\"M1260.73 1479.7 L1265.62 1479.7 L1265.62 1485.58 L1260.73 1485.58 L1260.73 1479.7 Z\" fill=\"#000000\" fill-rule=\"evenodd\" fill-opacity=\"1\" /><path clip-path=\"url(#clip330)\" d=\"M1285.8 1454.1 Q1282.19 1454.1 1280.36 1457.66 Q1278.56 1461.2 1278.56 1468.33 Q1278.56 1475.44 1280.36 1479.01 Q1282.19 1482.55 1285.8 1482.55 Q1289.44 1482.55 1291.24 1479.01 Q1293.07 1475.44 1293.07 1468.33 Q1293.07 1461.2 1291.24 1457.66 Q1289.44 1454.1 1285.8 1454.1 M1285.8 1450.39 Q1291.61 1450.39 1294.67 1455 Q1297.75 1459.58 1297.75 1468.33 Q1297.75 1477.06 1294.67 1481.67 Q1291.61 1486.25 1285.8 1486.25 Q1279.99 1486.25 1276.91 1481.67 Q1273.86 1477.06 1273.86 1468.33 Q1273.86 1459.58 1276.91 1455 Q1279.99 1450.39 1285.8 1450.39 Z\" fill=\"#000000\" fill-rule=\"evenodd\" fill-opacity=\"1\" /><path clip-path=\"url(#clip330)\" d=\"M1743.59 1451.02 L1765.82 1451.02 L1765.82 1453.01 L1753.27 1485.58 L1748.39 1485.58 L1760.19 1454.96 L1743.59 1454.96 L1743.59 1451.02 Z\" fill=\"#000000\" fill-rule=\"evenodd\" fill-opacity=\"1\" /><path clip-path=\"url(#clip330)\" d=\"M1774.94 1479.7 L1779.82 1479.7 L1779.82 1485.58 L1774.94 1485.58 L1774.94 1479.7 Z\" fill=\"#000000\" fill-rule=\"evenodd\" fill-opacity=\"1\" /><path clip-path=\"url(#clip330)\" d=\"M1790.05 1451.02 L1808.41 1451.02 L1808.41 1454.96 L1794.33 1454.96 L1794.33 1463.43 Q1795.35 1463.08 1796.37 1462.92 Q1797.39 1462.73 1798.41 1462.73 Q1804.2 1462.73 1807.58 1465.9 Q1810.96 1469.08 1810.96 1474.49 Q1810.96 1480.07 1807.48 1483.17 Q1804.01 1486.25 1797.69 1486.25 Q1795.52 1486.25 1793.25 1485.88 Q1791 1485.51 1788.59 1484.77 L1788.59 1480.07 Q1790.68 1481.2 1792.9 1481.76 Q1795.12 1482.32 1797.6 1482.32 Q1801.6 1482.32 1803.94 1480.21 Q1806.28 1478.1 1806.28 1474.49 Q1806.28 1470.88 1803.94 1468.77 Q1801.6 1466.67 1797.6 1466.67 Q1795.72 1466.67 1793.85 1467.08 Q1792 1467.5 1790.05 1468.38 L1790.05 1451.02 Z\" fill=\"#000000\" fill-rule=\"evenodd\" fill-opacity=\"1\" /><path clip-path=\"url(#clip330)\" d=\"M2243.17 1481.64 L2250.81 1481.64 L2250.81 1455.28 L2242.5 1456.95 L2242.5 1452.69 L2250.76 1451.02 L2255.44 1451.02 L2255.44 1481.64 L2263.08 1481.64 L2263.08 1485.58 L2243.17 1485.58 L2243.17 1481.64 Z\" fill=\"#000000\" fill-rule=\"evenodd\" fill-opacity=\"1\" /><path clip-path=\"url(#clip330)\" d=\"M2282.52 1454.1 Q2278.91 1454.1 2277.08 1457.66 Q2275.28 1461.2 2275.28 1468.33 Q2275.28 1475.44 2277.08 1479.01 Q2278.91 1482.55 2282.52 1482.55 Q2286.16 1482.55 2287.96 1479.01 Q2289.79 1475.44 2289.79 1468.33 Q2289.79 1461.2 2287.96 1457.66 Q2286.16 1454.1 2282.52 1454.1 M2282.52 1450.39 Q2288.33 1450.39 2291.39 1455 Q2294.47 1459.58 2294.47 1468.33 Q2294.47 1477.06 2291.39 1481.67 Q2288.33 1486.25 2282.52 1486.25 Q2276.71 1486.25 2273.63 1481.67 Q2270.58 1477.06 2270.58 1468.33 Q2270.58 1459.58 2273.63 1455 Q2276.71 1450.39 2282.52 1450.39 Z\" fill=\"#000000\" fill-rule=\"evenodd\" fill-opacity=\"1\" /><path clip-path=\"url(#clip330)\" d=\"M2302.68 1479.7 L2307.57 1479.7 L2307.57 1485.58 L2302.68 1485.58 L2302.68 1479.7 Z\" fill=\"#000000\" fill-rule=\"evenodd\" fill-opacity=\"1\" /><path clip-path=\"url(#clip330)\" d=\"M2327.75 1454.1 Q2324.14 1454.1 2322.31 1457.66 Q2320.51 1461.2 2320.51 1468.33 Q2320.51 1475.44 2322.31 1479.01 Q2324.14 1482.55 2327.75 1482.55 Q2331.39 1482.55 2333.19 1479.01 Q2335.02 1475.44 2335.02 1468.33 Q2335.02 1461.2 2333.19 1457.66 Q2331.39 1454.1 2327.75 1454.1 M2327.75 1450.39 Q2333.56 1450.39 2336.62 1455 Q2339.7 1459.58 2339.7 1468.33 Q2339.7 1477.06 2336.62 1481.67 Q2333.56 1486.25 2327.75 1486.25 Q2321.94 1486.25 2318.86 1481.67 Q2315.81 1477.06 2315.81 1468.33 Q2315.81 1459.58 2318.86 1455 Q2321.94 1450.39 2327.75 1450.39 Z\" fill=\"#000000\" fill-rule=\"evenodd\" fill-opacity=\"1\" /><path clip-path=\"url(#clip330)\" d=\"M1150.91 1522.27 L1150.91 1532.4 L1162.97 1532.4 L1162.97 1536.95 L1150.91 1536.95 L1150.91 1556.3 Q1150.91 1560.66 1152.08 1561.9 Q1153.29 1563.14 1156.95 1563.14 L1162.97 1563.14 L1162.97 1568.04 L1156.95 1568.04 Q1150.17 1568.04 1147.6 1565.53 Q1145.02 1562.98 1145.02 1556.3 L1145.02 1536.95 L1140.72 1536.95 L1140.72 1532.4 L1145.02 1532.4 L1145.02 1522.27 L1150.91 1522.27 Z\" fill=\"#000000\" fill-rule=\"evenodd\" fill-opacity=\"1\" /><path clip-path=\"url(#clip330)\" d=\"M1170.67 1532.4 L1176.53 1532.4 L1176.53 1568.04 L1170.67 1568.04 L1170.67 1532.4 M1170.67 1518.52 L1176.53 1518.52 L1176.53 1525.93 L1170.67 1525.93 L1170.67 1518.52 Z\" fill=\"#000000\" fill-rule=\"evenodd\" fill-opacity=\"1\" /><path clip-path=\"url(#clip330)\" d=\"M1216.54 1539.24 Q1218.73 1535.29 1221.79 1533.41 Q1224.84 1531.54 1228.98 1531.54 Q1234.55 1531.54 1237.58 1535.45 Q1240.6 1539.33 1240.6 1546.53 L1240.6 1568.04 L1234.71 1568.04 L1234.71 1546.72 Q1234.71 1541.59 1232.9 1539.11 Q1231.08 1536.63 1227.36 1536.63 Q1222.81 1536.63 1220.17 1539.65 Q1217.52 1542.68 1217.52 1547.9 L1217.52 1568.04 L1211.64 1568.04 L1211.64 1546.72 Q1211.64 1541.56 1209.82 1539.11 Q1208.01 1536.63 1204.22 1536.63 Q1199.73 1536.63 1197.09 1539.68 Q1194.45 1542.71 1194.45 1547.9 L1194.45 1568.04 L1188.56 1568.04 L1188.56 1532.4 L1194.45 1532.4 L1194.45 1537.93 Q1196.45 1534.66 1199.25 1533.1 Q1202.06 1531.54 1205.91 1531.54 Q1209.79 1531.54 1212.49 1533.51 Q1215.23 1535.48 1216.54 1539.24 Z\" fill=\"#000000\" fill-rule=\"evenodd\" fill-opacity=\"1\" /><path clip-path=\"url(#clip330)\" d=\"M1282.77 1548.76 L1282.77 1551.62 L1255.85 1551.62 Q1256.23 1557.67 1259.47 1560.85 Q1262.75 1564 1268.58 1564 Q1271.95 1564 1275.1 1563.17 Q1278.28 1562.35 1281.4 1560.69 L1281.4 1566.23 Q1278.25 1567.57 1274.94 1568.27 Q1271.63 1568.97 1268.23 1568.97 Q1259.7 1568.97 1254.7 1564 Q1249.73 1559.04 1249.73 1550.57 Q1249.73 1541.82 1254.44 1536.69 Q1259.19 1531.54 1267.21 1531.54 Q1274.4 1531.54 1278.57 1536.18 Q1282.77 1540.8 1282.77 1548.76 M1276.92 1547.04 Q1276.85 1542.23 1274.21 1539.37 Q1271.6 1536.5 1267.27 1536.5 Q1262.37 1536.5 1259.41 1539.27 Q1256.48 1542.04 1256.04 1547.07 L1276.92 1547.04 Z\" fill=\"#000000\" fill-rule=\"evenodd\" fill-opacity=\"1\" /><path clip-path=\"url(#clip330)\" d=\"M1327.17 1518.58 Q1322.91 1525.9 1320.84 1533.06 Q1318.77 1540.23 1318.77 1547.58 Q1318.77 1554.93 1320.84 1562.16 Q1322.94 1569.35 1327.17 1576.64 L1322.08 1576.64 Q1317.31 1569.16 1314.92 1561.93 Q1312.56 1554.71 1312.56 1547.58 Q1312.56 1540.48 1314.92 1533.29 Q1317.27 1526.09 1322.08 1518.58 L1327.17 1518.58 Z\" fill=\"#000000\" fill-rule=\"evenodd\" fill-opacity=\"1\" /><path clip-path=\"url(#clip330)\" d=\"M1361.26 1533.45 L1361.26 1538.98 Q1358.78 1537.71 1356.11 1537.07 Q1353.43 1536.44 1350.57 1536.44 Q1346.21 1536.44 1344.01 1537.77 Q1341.85 1539.11 1341.85 1541.79 Q1341.85 1543.82 1343.41 1545 Q1344.97 1546.15 1349.68 1547.2 L1351.68 1547.64 Q1357.92 1548.98 1360.53 1551.43 Q1363.17 1553.85 1363.17 1558.21 Q1363.17 1563.17 1359.22 1566.07 Q1355.31 1568.97 1348.43 1568.97 Q1345.57 1568.97 1342.45 1568.39 Q1339.36 1567.85 1335.93 1566.74 L1335.93 1560.69 Q1339.17 1562.38 1342.32 1563.24 Q1345.47 1564.07 1348.56 1564.07 Q1352.7 1564.07 1354.93 1562.66 Q1357.16 1561.23 1357.16 1558.65 Q1357.16 1556.27 1355.53 1554.99 Q1353.94 1553.72 1348.5 1552.54 L1346.46 1552.07 Q1341.02 1550.92 1338.6 1548.56 Q1336.18 1546.18 1336.18 1542.04 Q1336.18 1537.01 1339.75 1534.27 Q1343.31 1531.54 1349.87 1531.54 Q1353.11 1531.54 1355.98 1532.01 Q1358.84 1532.49 1361.26 1533.45 Z\" fill=\"#000000\" fill-rule=\"evenodd\" fill-opacity=\"1\" /><path clip-path=\"url(#clip330)\" d=\"M1371.57 1518.58 L1376.67 1518.58 Q1381.44 1526.09 1383.8 1533.29 Q1386.18 1540.48 1386.18 1547.58 Q1386.18 1554.71 1383.8 1561.93 Q1381.44 1569.16 1376.67 1576.64 L1371.57 1576.64 Q1375.81 1569.35 1377.88 1562.16 Q1379.98 1554.93 1379.98 1547.58 Q1379.98 1540.23 1377.88 1533.06 Q1375.81 1525.9 1371.57 1518.58 Z\" fill=\"#000000\" fill-rule=\"evenodd\" fill-opacity=\"1\" /><polyline clip-path=\"url(#clip332)\" style=\"stroke:#000000; stroke-linecap:butt; stroke-linejoin:round; stroke-width:2; stroke-opacity:0.1; fill:none\" points=\"\n  174.149,1247.41 2352.76,1247.41 \n  \"/>\n<polyline clip-path=\"url(#clip332)\" style=\"stroke:#000000; stroke-linecap:butt; stroke-linejoin:round; stroke-width:2; stroke-opacity:0.1; fill:none\" points=\"\n  174.149,905.341 2352.76,905.341 \n  \"/>\n<polyline clip-path=\"url(#clip332)\" style=\"stroke:#000000; stroke-linecap:butt; stroke-linejoin:round; stroke-width:2; stroke-opacity:0.1; fill:none\" points=\"\n  174.149,563.271 2352.76,563.271 \n  \"/>\n<polyline clip-path=\"url(#clip332)\" style=\"stroke:#000000; stroke-linecap:butt; stroke-linejoin:round; stroke-width:2; stroke-opacity:0.1; fill:none\" points=\"\n  174.149,221.202 2352.76,221.202 \n  \"/>\n<polyline clip-path=\"url(#clip330)\" style=\"stroke:#000000; stroke-linecap:butt; stroke-linejoin:round; stroke-width:4; stroke-opacity:1; fill:none\" points=\"\n  174.149,1423.18 174.149,47.2441 \n  \"/>\n<polyline clip-path=\"url(#clip330)\" style=\"stroke:#000000; stroke-linecap:butt; stroke-linejoin:round; stroke-width:4; stroke-opacity:1; fill:none\" points=\"\n  174.149,1247.41 193.047,1247.41 \n  \"/>\n<polyline clip-path=\"url(#clip330)\" style=\"stroke:#000000; stroke-linecap:butt; stroke-linejoin:round; stroke-width:4; stroke-opacity:1; fill:none\" points=\"\n  174.149,905.341 193.047,905.341 \n  \"/>\n<polyline clip-path=\"url(#clip330)\" style=\"stroke:#000000; stroke-linecap:butt; stroke-linejoin:round; stroke-width:4; stroke-opacity:1; fill:none\" points=\"\n  174.149,563.271 193.047,563.271 \n  \"/>\n<polyline clip-path=\"url(#clip330)\" style=\"stroke:#000000; stroke-linecap:butt; stroke-linejoin:round; stroke-width:4; stroke-opacity:1; fill:none\" points=\"\n  174.149,221.202 193.047,221.202 \n  \"/>\n<path clip-path=\"url(#clip330)\" d=\"M126.205 1233.21 Q122.593 1233.21 120.765 1236.77 Q118.959 1240.32 118.959 1247.45 Q118.959 1254.55 120.765 1258.12 Q122.593 1261.66 126.205 1261.66 Q129.839 1261.66 131.644 1258.12 Q133.473 1254.55 133.473 1247.45 Q133.473 1240.32 131.644 1236.77 Q129.839 1233.21 126.205 1233.21 M126.205 1229.51 Q132.015 1229.51 135.07 1234.11 Q138.149 1238.7 138.149 1247.45 Q138.149 1256.17 135.07 1260.78 Q132.015 1265.36 126.205 1265.36 Q120.394 1265.36 117.316 1260.78 Q114.26 1256.17 114.26 1247.45 Q114.26 1238.7 117.316 1234.11 Q120.394 1229.51 126.205 1229.51 Z\" fill=\"#000000\" fill-rule=\"evenodd\" fill-opacity=\"1\" /><path clip-path=\"url(#clip330)\" d=\"M118.242 918.686 L125.88 918.686 L125.88 892.32 L117.57 893.987 L117.57 889.727 L125.834 888.061 L130.51 888.061 L130.51 918.686 L138.149 918.686 L138.149 922.621 L118.242 922.621 L118.242 918.686 Z\" fill=\"#000000\" fill-rule=\"evenodd\" fill-opacity=\"1\" /><path clip-path=\"url(#clip330)\" d=\"M121.83 576.616 L138.149 576.616 L138.149 580.551 L116.205 580.551 L116.205 576.616 Q118.867 573.861 123.45 569.232 Q128.056 564.579 129.237 563.236 Q131.482 560.713 132.362 558.977 Q133.265 557.218 133.265 555.528 Q133.265 552.774 131.32 551.037 Q129.399 549.301 126.297 549.301 Q124.098 549.301 121.644 550.065 Q119.214 550.829 116.436 552.38 L116.436 547.658 Q119.26 546.524 121.714 545.945 Q124.168 545.366 126.205 545.366 Q131.575 545.366 134.769 548.051 Q137.964 550.736 137.964 555.227 Q137.964 557.357 137.154 559.278 Q136.367 561.176 134.26 563.769 Q133.681 564.44 130.58 567.658 Q127.478 570.852 121.83 576.616 Z\" fill=\"#000000\" fill-rule=\"evenodd\" fill-opacity=\"1\" /><path clip-path=\"url(#clip330)\" d=\"M131.019 219.847 Q134.376 220.565 136.251 222.833 Q138.149 225.102 138.149 228.435 Q138.149 233.551 134.63 236.352 Q131.112 239.153 124.63 239.153 Q122.455 239.153 120.14 238.713 Q117.848 238.296 115.394 237.44 L115.394 232.926 Q117.339 234.06 119.654 234.639 Q121.968 235.218 124.492 235.218 Q128.89 235.218 131.181 233.482 Q133.496 231.745 133.496 228.435 Q133.496 225.38 131.343 223.667 Q129.214 221.931 125.394 221.931 L121.367 221.931 L121.367 218.088 L125.58 218.088 Q129.029 218.088 130.857 216.722 Q132.686 215.333 132.686 212.741 Q132.686 210.079 130.788 208.667 Q128.913 207.232 125.394 207.232 Q123.473 207.232 121.274 207.648 Q119.075 208.065 116.436 208.945 L116.436 204.778 Q119.098 204.037 121.413 203.667 Q123.751 203.297 125.811 203.297 Q131.135 203.297 134.237 205.727 Q137.339 208.134 137.339 212.255 Q137.339 215.125 135.695 217.116 Q134.052 219.083 131.019 219.847 Z\" fill=\"#000000\" fill-rule=\"evenodd\" fill-opacity=\"1\" /><path clip-path=\"url(#clip330)\" d=\"M29.4065 806.062 L34.9447 806.062 Q33.6716 808.545 33.035 811.219 Q32.3984 813.892 32.3984 816.757 Q32.3984 821.117 33.7352 823.313 Q35.072 825.478 37.7456 825.478 Q39.7826 825.478 40.9603 823.918 Q42.1061 822.358 43.1565 817.648 L43.6021 815.643 Q44.9389 809.404 47.3897 806.794 Q49.8086 804.153 54.1691 804.153 Q59.1344 804.153 62.0308 808.099 Q64.9272 812.014 64.9272 818.889 Q64.9272 821.754 64.3543 824.873 Q63.8132 827.96 62.6992 831.398 L56.6518 831.398 Q58.3387 828.151 59.198 825 Q60.0256 821.849 60.0256 818.762 Q60.0256 814.624 58.6251 812.396 Q57.1929 810.168 54.6147 810.168 Q52.2276 810.168 50.9545 811.791 Q49.6813 813.383 48.5037 818.826 L48.0262 820.863 Q46.8804 826.305 44.5251 828.724 Q42.138 831.143 38.0002 831.143 Q32.9713 831.143 30.2341 827.578 Q27.4968 824.014 27.4968 817.457 Q27.4968 814.21 27.9743 811.346 Q28.4517 808.481 29.4065 806.062 Z\" fill=\"#000000\" fill-rule=\"evenodd\" fill-opacity=\"1\" /><path clip-path=\"url(#clip330)\" d=\"M18.2347 789.034 L28.3562 789.034 L28.3562 776.971 L32.9077 776.971 L32.9077 789.034 L52.2594 789.034 Q56.6199 789.034 57.8613 787.856 Q59.1026 786.647 59.1026 782.987 L59.1026 776.971 L64.0042 776.971 L64.0042 782.987 Q64.0042 789.766 61.4897 792.344 Q58.9434 794.922 52.2594 794.922 L32.9077 794.922 L32.9077 799.219 L28.3562 799.219 L28.3562 794.922 L18.2347 794.922 L18.2347 789.034 Z\" fill=\"#000000\" fill-rule=\"evenodd\" fill-opacity=\"1\" /><path clip-path=\"url(#clip330)\" d=\"M46.0847 753.068 Q46.0847 760.166 47.7079 762.903 Q49.3312 765.64 53.2461 765.64 Q56.3653 765.64 58.2114 763.603 Q60.0256 761.534 60.0256 758.001 Q60.0256 753.131 56.5881 750.203 Q53.1188 747.243 47.3897 747.243 L46.0847 747.243 L46.0847 753.068 M43.6657 741.387 L64.0042 741.387 L64.0042 747.243 L58.5933 747.243 Q61.8398 749.248 63.3994 752.24 Q64.9272 755.232 64.9272 759.561 Q64.9272 765.035 61.8716 768.282 Q58.7843 771.496 53.6281 771.496 Q47.6125 771.496 44.5569 767.486 Q41.5014 763.444 41.5014 755.455 L41.5014 747.243 L40.9285 747.243 Q36.8862 747.243 34.6901 749.917 Q32.4621 752.559 32.4621 757.365 Q32.4621 760.42 33.1941 763.317 Q33.9262 766.213 35.3903 768.887 L29.9795 768.887 Q28.7381 765.672 28.1334 762.648 Q27.4968 759.624 27.4968 756.76 Q27.4968 749.026 31.5072 745.206 Q35.5176 741.387 43.6657 741.387 Z\" fill=\"#000000\" fill-rule=\"evenodd\" fill-opacity=\"1\" /><path clip-path=\"url(#clip330)\" d=\"M18.2347 723.531 L28.3562 723.531 L28.3562 711.468 L32.9077 711.468 L32.9077 723.531 L52.2594 723.531 Q56.6199 723.531 57.8613 722.353 Q59.1026 721.144 59.1026 717.483 L59.1026 711.468 L64.0042 711.468 L64.0042 717.483 Q64.0042 724.263 61.4897 726.841 Q58.9434 729.419 52.2594 729.419 L32.9077 729.419 L32.9077 733.716 L28.3562 733.716 L28.3562 729.419 L18.2347 729.419 L18.2347 723.531 Z\" fill=\"#000000\" fill-rule=\"evenodd\" fill-opacity=\"1\" /><path clip-path=\"url(#clip330)\" d=\"M44.7161 673.274 L47.5806 673.274 L47.5806 700.201 Q53.6281 699.819 56.8109 696.572 Q59.9619 693.294 59.9619 687.469 Q59.9619 684.095 59.1344 680.944 Q58.3069 677.761 56.6518 674.642 L62.1899 674.642 Q63.5267 677.793 64.227 681.103 Q64.9272 684.414 64.9272 687.819 Q64.9272 696.349 59.9619 701.346 Q54.9967 706.312 46.5303 706.312 Q37.7774 706.312 32.6531 701.601 Q27.4968 696.859 27.4968 688.838 Q27.4968 681.645 32.1438 677.475 Q36.7589 673.274 44.7161 673.274 M42.9973 679.13 Q38.1912 679.194 35.3266 681.836 Q32.4621 684.445 32.4621 688.774 Q32.4621 693.676 35.2312 696.636 Q38.0002 699.564 43.0292 700.01 L42.9973 679.13 Z\" fill=\"#000000\" fill-rule=\"evenodd\" fill-opacity=\"1\" /><path clip-path=\"url(#clip330)\" d=\"M29.4065 640.936 L34.9447 640.936 Q33.6716 643.418 33.035 646.092 Q32.3984 648.766 32.3984 651.63 Q32.3984 655.991 33.7352 658.187 Q35.072 660.351 37.7456 660.351 Q39.7826 660.351 40.9603 658.792 Q42.1061 657.232 43.1565 652.521 L43.6021 650.516 Q44.9389 644.278 47.3897 641.668 Q49.8086 639.026 54.1691 639.026 Q59.1344 639.026 62.0308 642.973 Q64.9272 646.888 64.9272 653.763 Q64.9272 656.627 64.3543 659.747 Q63.8132 662.834 62.6992 666.271 L56.6518 666.271 Q58.3387 663.025 59.198 659.874 Q60.0256 656.723 60.0256 653.635 Q60.0256 649.498 58.6251 647.27 Q57.1929 645.042 54.6147 645.042 Q52.2276 645.042 50.9545 646.665 Q49.6813 648.256 48.5037 653.699 L48.0262 655.736 Q46.8804 661.179 44.5251 663.598 Q42.138 666.017 38.0002 666.017 Q32.9713 666.017 30.2341 662.452 Q27.4968 658.887 27.4968 652.33 Q27.4968 649.084 27.9743 646.219 Q28.4517 643.355 29.4065 640.936 Z\" fill=\"#000000\" fill-rule=\"evenodd\" fill-opacity=\"1\" /><polyline clip-path=\"url(#clip332)\" style=\"stroke:#009af9; stroke-linecap:butt; stroke-linejoin:round; stroke-width:8; stroke-opacity:1; fill:none\" points=\"\n  235.808,1384.24 237.863,1383.66 239.918,1381.96 241.973,1379.2 244.029,1375.46 246.084,1370.79 248.139,1365.28 250.195,1358.97 252.25,1351.96 254.305,1344.29 \n  256.361,1336.05 258.416,1327.3 260.471,1318.11 262.526,1308.54 264.582,1298.66 266.637,1288.52 268.692,1278.2 270.748,1267.73 272.803,1257.18 274.858,1246.59 \n  276.913,1236 278.969,1225.44 281.024,1214.97 283.079,1204.59 285.135,1194.35 287.19,1184.25 289.245,1174.33 291.3,1164.59 293.356,1155.04 295.411,1145.71 \n  297.466,1136.59 299.522,1127.7 301.577,1119.03 303.632,1110.59 305.687,1102.38 307.743,1094.4 309.798,1086.66 311.853,1079.14 313.909,1071.85 315.964,1064.78 \n  318.019,1057.94 320.074,1051.32 322.13,1044.91 324.185,1038.71 326.24,1032.72 328.296,1026.93 330.351,1021.33 332.406,1015.93 334.462,1010.72 336.517,1005.69 \n  338.572,1000.84 340.627,996.17 342.683,991.664 344.738,987.322 346.793,983.14 348.849,979.112 350.904,975.235 352.959,971.504 355.014,967.915 357.07,964.462 \n  359.125,961.142 361.18,957.95 363.236,954.883 365.291,951.937 367.346,949.108 369.401,946.392 371.457,943.786 373.512,941.285 375.567,938.888 377.623,936.591 \n  379.678,934.39 381.733,932.283 383.788,930.268 385.844,928.34 387.899,926.498 389.954,924.74 392.01,923.062 394.065,921.463 396.12,919.941 398.175,918.493 \n  400.231,917.117 402.286,915.812 404.341,914.576 406.397,913.408 408.452,912.305 410.507,911.266 412.563,910.289 414.618,909.374 416.673,908.519 418.728,907.722 \n  420.784,906.983 422.839,906.299 424.894,905.671 426.95,905.097 429.005,904.576 431.06,904.107 433.115,903.689 435.171,903.321 437.226,903.002 439.281,902.732 \n  441.337,902.509 443.392,902.333 445.447,902.203 447.502,902.119 449.558,902.079 451.613,902.082 453.668,902.129 455.724,902.218 457.779,902.349 459.834,902.52 \n  461.889,902.733 463.945,902.985 466,903.276 468.055,903.606 470.111,903.973 472.166,904.378 474.221,904.82 476.276,905.298 478.332,905.811 480.387,906.36 \n  482.442,906.943 484.498,907.559 486.553,908.209 488.608,908.892 490.664,909.607 492.719,910.354 494.774,911.131 496.829,911.939 498.885,912.778 500.94,913.645 \n  502.995,914.542 505.051,915.467 507.106,916.42 509.161,917.401 511.216,918.408 513.272,919.442 515.327,920.501 517.382,921.586 519.438,922.696 521.493,923.83 \n  523.548,924.987 525.603,926.169 527.659,927.373 529.714,928.599 531.769,929.848 533.825,931.117 535.88,932.408 537.935,933.719 539.99,935.051 542.046,936.402 \n  544.101,937.771 546.156,939.16 548.212,940.567 550.267,941.991 552.322,943.433 554.377,944.892 556.433,946.367 558.488,947.858 560.543,949.365 562.599,950.886 \n  564.654,952.423 566.709,953.974 568.765,955.538 570.82,957.117 572.875,958.708 574.93,960.312 576.986,961.928 579.041,963.557 581.096,965.196 583.152,966.847 \n  585.207,968.509 587.262,970.181 589.317,971.863 591.373,973.555 593.428,975.256 595.483,976.966 597.539,978.685 599.594,980.412 601.649,982.147 603.704,983.889 \n  605.76,985.639 607.815,987.395 609.87,989.159 611.926,990.928 613.981,992.703 616.036,994.484 618.091,996.271 620.147,998.062 622.202,999.858 624.257,1001.66 \n  626.313,1003.46 628.368,1005.27 630.423,1007.08 632.479,1008.9 634.534,1010.72 636.589,1012.54 638.644,1014.36 640.7,1016.19 642.755,1018.01 644.81,1019.84 \n  646.866,1021.67 648.921,1023.5 650.976,1025.33 653.031,1027.17 655.087,1029 657.142,1030.83 659.197,1032.67 661.253,1034.5 663.308,1036.33 665.363,1038.16 \n  667.418,1039.99 669.474,1041.82 671.529,1043.65 673.584,1045.48 675.64,1047.3 677.695,1049.13 679.75,1050.95 681.805,1052.76 683.861,1054.58 685.916,1056.39 \n  687.971,1058.2 690.027,1060.01 692.082,1061.81 694.137,1063.61 696.192,1065.4 698.248,1067.19 700.303,1068.98 702.358,1070.76 704.414,1072.54 706.469,1074.32 \n  708.524,1076.09 710.58,1077.85 712.635,1079.61 714.69,1081.37 716.745,1083.11 718.801,1084.86 720.856,1086.6 722.911,1088.33 724.967,1090.05 727.022,1091.78 \n  729.077,1093.49 731.132,1095.2 733.188,1096.9 735.243,1098.59 737.298,1100.28 739.354,1101.96 741.409,1103.64 743.464,1105.31 745.519,1106.97 747.575,1108.62 \n  749.63,1110.27 751.685,1111.91 753.741,1113.54 755.796,1115.16 757.851,1116.78 759.906,1118.39 761.962,1119.99 764.017,1121.58 766.072,1123.17 768.128,1124.74 \n  770.183,1126.31 772.238,1127.87 774.293,1129.43 776.349,1130.97 778.404,1132.5 780.459,1134.03 782.515,1135.55 784.57,1137.06 786.625,1138.56 788.681,1140.05 \n  790.736,1141.54 792.791,1143.01 794.846,1144.48 796.902,1145.93 798.957,1147.38 801.012,1148.82 803.068,1150.25 805.123,1151.67 807.178,1153.08 809.233,1154.48 \n  811.289,1155.87 813.344,1157.25 815.399,1158.63 817.455,1159.99 819.51,1161.35 821.565,1162.69 823.62,1164.03 825.676,1165.35 827.731,1166.67 829.786,1167.98 \n  831.842,1169.28 833.897,1170.56 835.952,1171.84 838.007,1173.11 840.063,1174.37 842.118,1175.62 844.173,1176.86 846.229,1178.09 848.284,1179.31 850.339,1180.52 \n  852.394,1181.72 854.45,1182.91 856.505,1184.09 858.56,1185.26 860.616,1186.43 862.671,1187.58 864.726,1188.72 866.782,1189.85 868.837,1190.98 870.892,1192.09 \n  872.947,1193.19 875.003,1194.29 877.058,1195.37 879.113,1196.44 881.169,1197.51 883.224,1198.56 885.279,1199.61 887.334,1200.64 889.39,1201.67 891.445,1202.69 \n  893.5,1203.69 895.556,1204.69 897.611,1205.68 899.666,1206.65 901.721,1207.62 903.777,1208.58 905.832,1209.53 907.887,1210.47 909.943,1211.4 911.998,1212.32 \n  914.053,1213.23 916.108,1214.13 918.164,1215.03 920.219,1215.91 922.274,1216.78 924.33,1217.65 926.385,1218.51 928.44,1219.35 930.495,1220.19 932.551,1221.02 \n  934.606,1221.84 936.661,1222.65 938.717,1223.45 940.772,1224.24 942.827,1225.02 944.883,1225.79 946.938,1226.56 948.993,1227.32 951.048,1228.06 953.104,1228.8 \n  955.159,1229.53 957.214,1230.25 959.27,1230.96 961.325,1231.67 963.38,1232.36 965.435,1233.05 967.491,1233.73 969.546,1234.4 971.601,1235.06 973.657,1235.71 \n  975.712,1236.36 977.767,1236.99 979.822,1237.62 981.878,1238.24 983.933,1238.85 985.988,1239.45 988.044,1240.05 990.099,1240.64 992.154,1241.22 994.209,1241.79 \n  996.265,1242.35 998.32,1242.91 1000.38,1243.45 1002.43,1243.99 1004.49,1244.53 1006.54,1245.05 1008.6,1245.57 1010.65,1246.08 1012.71,1246.58 1014.76,1247.07 \n  1016.82,1247.56 1018.87,1248.04 1020.93,1248.51 1022.98,1248.98 1025.04,1249.44 1027.09,1249.89 1029.15,1250.33 1031.2,1250.77 1033.26,1251.2 1035.32,1251.62 \n  1037.37,1252.04 1039.43,1252.45 1041.48,1252.85 1043.54,1253.24 1045.59,1253.63 1047.65,1254.01 1049.7,1254.39 1051.76,1254.76 1053.81,1255.12 1055.87,1255.48 \n  1057.92,1255.83 1059.98,1256.17 1062.03,1256.51 1064.09,1256.84 1066.14,1257.16 1068.2,1257.48 1070.26,1257.8 1072.31,1258.1 1074.37,1258.4 1076.42,1258.7 \n  1078.48,1258.99 1080.53,1259.27 1082.59,1259.55 1084.64,1259.82 1086.7,1260.08 1088.75,1260.34 1090.81,1260.6 1092.86,1260.85 1094.92,1261.09 1096.97,1261.33 \n  1099.03,1261.56 1101.08,1261.79 1103.14,1262.01 1105.2,1262.23 1107.25,1262.44 1109.31,1262.65 1111.36,1262.85 1113.42,1263.05 1115.47,1263.24 1117.53,1263.42 \n  1119.58,1263.61 1121.64,1263.78 1123.69,1263.96 1125.75,1264.12 1127.8,1264.29 1129.86,1264.45 1131.91,1264.6 1133.97,1264.75 1136.02,1264.9 1138.08,1265.04 \n  1140.14,1265.17 1142.19,1265.3 1144.25,1265.43 1146.3,1265.56 1148.36,1265.68 1150.41,1265.79 1152.47,1265.9 1154.52,1266.01 1156.58,1266.11 1158.63,1266.21 \n  1160.69,1266.31 1162.74,1266.4 1164.8,1266.49 1166.85,1266.57 1168.91,1266.65 1170.96,1266.73 1173.02,1266.8 1175.07,1266.87 1177.13,1266.94 1179.19,1267 \n  1181.24,1267.06 1183.3,1267.11 1185.35,1267.17 1187.41,1267.21 1189.46,1267.26 1191.52,1267.3 1193.57,1267.34 1195.63,1267.38 1197.68,1267.41 1199.74,1267.44 \n  1201.79,1267.47 1203.85,1267.49 1205.9,1267.52 1207.96,1267.53 1210.01,1267.55 1212.07,1267.56 1214.13,1267.57 1216.18,1267.58 1218.24,1267.58 1220.29,1267.59 \n  1222.35,1267.59 1224.4,1267.58 1226.46,1267.58 1228.51,1267.57 1230.57,1267.56 1232.62,1267.55 1234.68,1267.53 1236.73,1267.51 1238.79,1267.49 1240.84,1267.47 \n  1242.9,1267.45 1244.95,1267.42 1247.01,1267.39 1249.07,1267.36 1251.12,1267.33 1253.18,1267.29 1255.23,1267.26 1257.29,1267.22 1259.34,1267.18 1261.4,1267.13 \n  1263.45,1267.09 1265.51,1267.04 1267.56,1266.99 1269.62,1266.94 1271.67,1266.89 1273.73,1266.84 1275.78,1266.78 1277.84,1266.73 1279.89,1266.67 1281.95,1266.61 \n  1284.01,1266.55 1286.06,1266.49 1288.12,1266.42 1290.17,1266.36 1292.23,1266.29 1294.28,1266.22 1296.34,1266.15 1298.39,1266.08 1300.45,1266.01 1302.5,1265.93 \n  1304.56,1265.86 1306.61,1265.78 1308.67,1265.7 1310.72,1265.62 1312.78,1265.54 1314.83,1265.46 1316.89,1265.38 1318.95,1265.3 1321,1265.21 1323.06,1265.13 \n  1325.11,1265.04 1327.17,1264.96 1329.22,1264.87 1331.28,1264.78 1333.33,1264.69 1335.39,1264.6 1337.44,1264.51 1339.5,1264.42 1341.55,1264.32 1343.61,1264.23 \n  1345.66,1264.14 1347.72,1264.04 1349.77,1263.95 1351.83,1263.85 1353.89,1263.75 1355.94,1263.65 1358,1263.56 1360.05,1263.46 1362.11,1263.36 1364.16,1263.26 \n  1366.22,1263.16 1368.27,1263.06 1370.33,1262.96 1372.38,1262.85 1374.44,1262.75 1376.49,1262.65 1378.55,1262.55 1380.6,1262.44 1382.66,1262.34 1384.71,1262.23 \n  1386.77,1262.13 1388.83,1262.03 1390.88,1261.92 1392.94,1261.82 1394.99,1261.71 1397.05,1261.6 1399.1,1261.5 1401.16,1261.39 1403.21,1261.29 1405.27,1261.18 \n  1407.32,1261.07 1409.38,1260.97 1411.43,1260.86 1413.49,1260.75 1415.54,1260.65 1417.6,1260.54 1419.65,1260.43 1421.71,1260.32 1423.77,1260.22 1425.82,1260.11 \n  1427.88,1260 1429.93,1259.89 1431.99,1259.79 1434.04,1259.68 1436.1,1259.57 1438.15,1259.47 1440.21,1259.36 1442.26,1259.25 1444.32,1259.15 1446.37,1259.04 \n  1448.43,1258.93 1450.48,1258.83 1452.54,1258.72 1454.59,1258.61 1456.65,1258.51 1458.7,1258.4 1460.76,1258.3 1462.82,1258.19 1464.87,1258.09 1466.93,1257.98 \n  1468.98,1257.88 1471.04,1257.77 1473.09,1257.67 1475.15,1257.56 1477.2,1257.46 1479.26,1257.36 1481.31,1257.25 1483.37,1257.15 1485.42,1257.05 1487.48,1256.95 \n  1489.53,1256.85 1491.59,1256.74 1493.64,1256.64 1495.7,1256.54 1497.76,1256.44 1499.81,1256.34 1501.87,1256.24 1503.92,1256.14 1505.98,1256.04 1508.03,1255.95 \n  1510.09,1255.85 1512.14,1255.75 1514.2,1255.65 1516.25,1255.56 1518.31,1255.46 1520.36,1255.36 1522.42,1255.27 1524.47,1255.17 1526.53,1255.08 1528.58,1254.98 \n  1530.64,1254.89 1532.7,1254.8 1534.75,1254.7 1536.81,1254.61 1538.86,1254.52 1540.92,1254.43 1542.97,1254.34 1545.03,1254.25 1547.08,1254.16 1549.14,1254.07 \n  1551.19,1253.98 1553.25,1253.89 1555.3,1253.8 1557.36,1253.71 1559.41,1253.63 1561.47,1253.54 1563.52,1253.46 1565.58,1253.37 1567.64,1253.29 1569.69,1253.2 \n  1571.75,1253.12 1573.8,1253.03 1575.86,1252.95 1577.91,1252.87 1579.97,1252.79 1582.02,1252.71 1584.08,1252.63 1586.13,1252.55 1588.19,1252.47 1590.24,1252.39 \n  1592.3,1252.31 1594.35,1252.23 1596.41,1252.15 1598.46,1252.08 1600.52,1252 1602.58,1251.93 1604.63,1251.85 1606.69,1251.78 1608.74,1251.7 1610.8,1251.63 \n  1612.85,1251.56 1614.91,1251.49 1616.96,1251.41 1619.02,1251.34 1621.07,1251.27 1623.13,1251.2 1625.18,1251.13 1627.24,1251.06 1629.29,1251 1631.35,1250.93 \n  1633.4,1250.86 1635.46,1250.8 1637.52,1250.73 1639.57,1250.66 1641.63,1250.6 1643.68,1250.54 1645.74,1250.47 1647.79,1250.41 1649.85,1250.35 1651.9,1250.28 \n  1653.96,1250.22 1656.01,1250.16 1658.07,1250.1 1660.12,1250.04 1662.18,1249.98 1664.23,1249.93 1666.29,1249.87 1668.34,1249.81 1670.4,1249.75 1672.46,1249.7 \n  1674.51,1249.64 1676.57,1249.59 1678.62,1249.53 1680.68,1249.48 1682.73,1249.42 1684.79,1249.37 1686.84,1249.32 1688.9,1249.27 1690.95,1249.22 1693.01,1249.17 \n  1695.06,1249.11 1697.12,1249.07 1699.17,1249.02 1701.23,1248.97 1703.28,1248.92 1705.34,1248.87 1707.39,1248.82 1709.45,1248.78 1711.51,1248.73 1713.56,1248.69 \n  1715.62,1248.64 1717.67,1248.6 1719.73,1248.55 1721.78,1248.51 1723.84,1248.47 1725.89,1248.43 1727.95,1248.38 1730,1248.34 1732.06,1248.3 1734.11,1248.26 \n  1736.17,1248.22 1738.22,1248.18 1740.28,1248.14 1742.33,1248.1 1744.39,1248.07 1746.45,1248.03 1748.5,1247.99 1750.56,1247.96 1752.61,1247.92 1754.67,1247.89 \n  1756.72,1247.85 1758.78,1247.82 1760.83,1247.78 1762.89,1247.75 1764.94,1247.71 1767,1247.68 1769.05,1247.65 1771.11,1247.62 1773.16,1247.59 1775.22,1247.56 \n  1777.27,1247.53 1779.33,1247.5 1781.39,1247.47 1783.44,1247.44 1785.5,1247.41 1787.55,1247.38 1789.61,1247.35 1791.66,1247.33 1793.72,1247.3 1795.77,1247.27 \n  1797.83,1247.25 1799.88,1247.22 1801.94,1247.2 1803.99,1247.17 1806.05,1247.15 1808.1,1247.12 1810.16,1247.1 1812.21,1247.07 1814.27,1247.05 1816.33,1247.03 \n  1818.38,1247.01 1820.44,1246.99 1822.49,1246.96 1824.55,1246.94 1826.6,1246.92 1828.66,1246.9 1830.71,1246.88 1832.77,1246.86 1834.82,1246.84 1836.88,1246.83 \n  1838.93,1246.81 1840.99,1246.79 1843.04,1246.77 1845.1,1246.75 1847.15,1246.74 1849.21,1246.72 1851.27,1246.7 1853.32,1246.69 1855.38,1246.67 1857.43,1246.66 \n  1859.49,1246.64 1861.54,1246.63 1863.6,1246.61 1865.65,1246.6 1867.71,1246.59 1869.76,1246.57 1871.82,1246.56 1873.87,1246.55 1875.93,1246.53 1877.98,1246.52 \n  1880.04,1246.51 1882.09,1246.5 1884.15,1246.49 1886.21,1246.48 1888.26,1246.46 1890.32,1246.45 1892.37,1246.44 1894.43,1246.43 1896.48,1246.42 1898.54,1246.42 \n  1900.59,1246.41 1902.65,1246.4 1904.7,1246.39 1906.76,1246.38 1908.81,1246.37 1910.87,1246.36 1912.92,1246.36 1914.98,1246.35 1917.03,1246.34 1919.09,1246.34 \n  1921.15,1246.33 1923.2,1246.32 1925.26,1246.32 1927.31,1246.31 1929.37,1246.31 1931.42,1246.3 1933.48,1246.29 1935.53,1246.29 1937.59,1246.29 1939.64,1246.28 \n  1941.7,1246.28 1943.75,1246.27 1945.81,1246.27 1947.86,1246.26 1949.92,1246.26 1951.97,1246.26 1954.03,1246.25 1956.09,1246.25 1958.14,1246.25 1960.2,1246.25 \n  1962.25,1246.24 1964.31,1246.24 1966.36,1246.24 1968.42,1246.24 1970.47,1246.24 1972.53,1246.24 1974.58,1246.23 1976.64,1246.23 1978.69,1246.23 1980.75,1246.23 \n  1982.8,1246.23 1984.86,1246.23 1986.91,1246.23 1988.97,1246.23 1991.02,1246.23 1993.08,1246.23 1995.14,1246.23 1997.19,1246.23 1999.25,1246.23 2001.3,1246.23 \n  2003.36,1246.23 2005.41,1246.23 2007.47,1246.23 2009.52,1246.24 2011.58,1246.24 2013.63,1246.24 2015.69,1246.24 2017.74,1246.24 2019.8,1246.24 2021.85,1246.25 \n  2023.91,1246.25 2025.96,1246.25 2028.02,1246.25 2030.08,1246.26 2032.13,1246.26 2034.19,1246.26 2036.24,1246.26 2038.3,1246.27 2040.35,1246.27 2042.41,1246.27 \n  2044.46,1246.28 2046.52,1246.28 2048.57,1246.28 2050.63,1246.29 2052.68,1246.29 2054.74,1246.29 2056.79,1246.3 2058.85,1246.3 2060.9,1246.3 2062.96,1246.31 \n  2065.02,1246.31 2067.07,1246.32 2069.13,1246.32 2071.18,1246.32 2073.24,1246.33 2075.29,1246.33 2077.35,1246.34 2079.4,1246.34 2081.46,1246.35 2083.51,1246.35 \n  2085.57,1246.36 2087.62,1246.36 2089.68,1246.37 2091.73,1246.37 2093.79,1246.38 2095.84,1246.38 2097.9,1246.39 2099.96,1246.39 2102.01,1246.4 2104.07,1246.4 \n  2106.12,1246.41 2108.18,1246.41 2110.23,1246.42 2112.29,1246.42 2114.34,1246.43 2116.4,1246.44 2118.45,1246.44 2120.51,1246.45 2122.56,1246.45 2124.62,1246.46 \n  2126.67,1246.46 2128.73,1246.47 2130.78,1246.48 2132.84,1246.48 2134.9,1246.49 2136.95,1246.49 2139.01,1246.5 2141.06,1246.5 2143.12,1246.51 2145.17,1246.52 \n  2147.23,1246.52 2149.28,1246.53 2151.34,1246.53 2153.39,1246.54 2155.45,1246.55 2157.5,1246.55 2159.56,1246.56 2161.61,1246.57 2163.67,1246.57 2165.72,1246.58 \n  2167.78,1246.58 2169.84,1246.59 2171.89,1246.6 2173.95,1246.6 2176,1246.61 2178.06,1246.62 2180.11,1246.62 2182.17,1246.63 2184.22,1246.63 2186.28,1246.64 \n  2188.33,1246.65 2190.39,1246.65 2192.44,1246.66 2194.5,1246.67 2196.55,1246.67 2198.61,1246.68 2200.66,1246.68 2202.72,1246.69 2204.78,1246.7 2206.83,1246.7 \n  2208.89,1246.71 2210.94,1246.72 2213,1246.72 2215.05,1246.73 2217.11,1246.73 2219.16,1246.74 2221.22,1246.75 2223.27,1246.75 2225.33,1246.76 2227.38,1246.77 \n  2229.44,1246.77 2231.49,1246.78 2233.55,1246.78 2235.6,1246.79 2237.66,1246.8 2239.71,1246.8 2241.77,1246.81 2243.83,1246.81 2245.88,1246.82 2247.94,1246.83 \n  2249.99,1246.83 2252.05,1246.84 2254.1,1246.84 2256.16,1246.85 2258.21,1246.86 2260.27,1246.86 2262.32,1246.87 2264.38,1246.87 2266.43,1246.88 2268.49,1246.89 \n  2270.54,1246.89 2272.6,1246.9 2274.65,1246.9 2276.71,1246.91 2278.77,1246.91 2280.82,1246.92 2282.88,1246.93 2284.93,1246.93 2286.99,1246.94 2289.04,1246.94 \n  2291.1,1246.95 \n  \"/>\n<polyline clip-path=\"url(#clip332)\" style=\"stroke:#e26f46; stroke-linecap:butt; stroke-linejoin:round; stroke-width:8; stroke-opacity:1; fill:none\" points=\"\n  235.808,411.577 237.863,410.906 239.918,408.943 241.973,405.779 244.029,401.503 246.084,396.197 248.139,389.945 250.195,382.828 252.25,374.928 254.305,366.328 \n  256.361,357.113 258.416,347.369 260.471,337.182 262.526,326.638 264.582,315.823 266.637,304.822 268.692,293.716 270.748,282.583 272.803,271.495 274.858,260.52 \n  276.913,249.719 278.969,239.144 281.024,228.843 283.079,218.856 285.135,209.215 287.19,199.946 289.245,191.068 291.3,182.597 293.356,174.541 295.411,166.905 \n  297.466,159.69 299.522,152.893 301.577,146.509 303.632,140.531 305.687,134.949 307.743,129.753 309.798,124.93 311.853,120.468 313.909,116.353 315.964,112.573 \n  318.019,109.111 320.074,105.955 322.13,103.091 324.185,100.504 326.24,98.1796 328.296,96.1053 330.351,94.2673 332.406,92.6525 334.462,91.2484 336.517,90.0425 \n  338.572,89.0229 340.627,88.178 342.683,87.4969 344.738,86.9687 346.793,86.5831 348.849,86.3303 350.904,86.2009 352.959,86.1857 355.014,86.2761 357.07,86.464 \n  359.125,86.7414 361.18,87.101 363.236,87.5357 365.291,88.0388 367.346,88.604 369.401,89.2253 371.457,89.8973 373.512,90.6145 375.567,91.3721 377.623,92.1654 \n  379.678,92.9902 381.733,93.8424 383.788,94.7182 385.844,95.6144 387.899,96.5275 389.954,97.4547 392.01,98.3933 394.065,99.3407 396.12,100.295 398.175,101.253 \n  400.231,102.214 402.286,103.176 404.341,104.138 406.397,105.097 408.452,106.053 410.507,107.005 412.563,107.951 414.618,108.891 416.673,109.825 418.728,110.75 \n  420.784,111.668 422.839,112.576 424.894,113.476 426.95,114.367 429.005,115.247 431.06,116.118 433.115,116.98 435.171,117.831 437.226,118.672 439.281,119.503 \n  441.337,120.323 443.392,121.134 445.447,121.935 447.502,122.726 449.558,123.507 451.613,124.278 453.668,125.04 455.724,125.793 457.779,126.536 459.834,127.27 \n  461.889,127.996 463.945,128.713 466,129.421 468.055,130.12 470.111,130.812 472.166,131.496 474.221,132.171 476.276,132.84 478.332,133.5 480.387,134.153 \n  482.442,134.799 484.498,135.438 486.553,136.07 488.608,136.696 490.664,137.314 492.719,137.926 494.774,138.532 496.829,139.132 498.885,139.725 500.94,140.313 \n  502.995,140.894 505.051,141.47 507.106,142.039 509.161,142.604 511.216,143.162 513.272,143.716 515.327,144.263 517.382,144.806 519.438,145.343 521.493,145.875 \n  523.548,146.402 525.603,146.923 527.659,147.44 529.714,147.951 531.769,148.458 533.825,148.96 535.88,149.457 537.935,149.949 539.99,150.436 542.046,150.918 \n  544.101,151.396 546.156,151.869 548.212,152.338 550.267,152.802 552.322,153.261 554.377,153.715 556.433,154.165 558.488,154.611 560.543,155.052 562.599,155.488 \n  564.654,155.92 566.709,156.348 568.765,156.771 570.82,157.19 572.875,157.604 574.93,158.014 576.986,158.42 579.041,158.821 581.096,159.218 583.152,159.611 \n  585.207,159.999 587.262,160.384 589.317,160.763 591.373,161.139 593.428,161.511 595.483,161.878 597.539,162.241 599.594,162.6 601.649,162.955 603.704,163.306 \n  605.76,163.653 607.815,163.995 609.87,164.334 611.926,164.668 613.981,164.999 616.036,165.325 618.091,165.648 620.147,165.966 622.202,166.281 624.257,166.592 \n  626.313,166.898 628.368,167.201 630.423,167.5 632.479,167.796 634.534,168.087 636.589,168.375 638.644,168.659 640.7,168.939 642.755,169.215 644.81,169.488 \n  646.866,169.756 648.921,170.022 650.976,170.283 653.031,170.541 655.087,170.796 657.142,171.047 659.197,171.294 661.253,171.537 663.308,171.778 665.363,172.014 \n  667.418,172.248 669.474,172.477 671.529,172.704 673.584,172.927 675.64,173.146 677.695,173.362 679.75,173.575 681.805,173.785 683.861,173.991 685.916,174.194 \n  687.971,174.394 690.027,174.591 692.082,174.784 694.137,174.974 696.192,175.161 698.248,175.345 700.303,175.526 702.358,175.704 704.414,175.879 706.469,176.05 \n  708.524,176.219 710.58,176.385 712.635,176.548 714.69,176.708 716.745,176.864 718.801,177.019 720.856,177.17 722.911,177.318 724.967,177.464 727.022,177.606 \n  729.077,177.746 731.132,177.884 733.188,178.018 735.243,178.15 737.298,178.279 739.354,178.406 741.409,178.53 743.464,178.651 745.519,178.77 747.575,178.886 \n  749.63,179 751.685,179.111 753.741,179.22 755.796,179.326 757.851,179.43 759.906,179.531 761.962,179.63 764.017,179.727 766.072,179.821 768.128,179.913 \n  770.183,180.003 772.238,180.09 774.293,180.176 776.349,180.259 778.404,180.339 780.459,180.418 782.515,180.494 784.57,180.569 786.625,180.641 788.681,180.711 \n  790.736,180.779 792.791,180.845 794.846,180.909 796.902,180.971 798.957,181.031 801.012,181.089 803.068,181.145 805.123,181.199 807.178,181.252 809.233,181.302 \n  811.289,181.351 813.344,181.398 815.399,181.443 817.455,181.486 819.51,181.527 821.565,181.567 823.62,181.605 825.676,181.641 827.731,181.676 829.786,181.709 \n  831.842,181.74 833.897,181.77 835.952,181.798 838.007,181.825 840.063,181.85 842.118,181.873 844.173,181.895 846.229,181.916 848.284,181.935 850.339,181.952 \n  852.394,181.968 854.45,181.983 856.505,181.996 858.56,182.008 860.616,182.019 862.671,182.028 864.726,182.036 866.782,182.043 868.837,182.048 870.892,182.052 \n  872.947,182.055 875.003,182.057 877.058,182.057 879.113,182.056 881.169,182.055 883.224,182.051 885.279,182.047 887.334,182.042 889.39,182.036 891.445,182.028 \n  893.5,182.019 895.556,182.01 897.611,181.999 899.666,181.988 901.721,181.975 903.777,181.961 905.832,181.947 907.887,181.931 909.943,181.915 911.998,181.897 \n  914.053,181.879 916.108,181.86 918.164,181.84 920.219,181.819 922.274,181.797 924.33,181.775 926.385,181.751 928.44,181.727 930.495,181.702 932.551,181.677 \n  934.606,181.65 936.661,181.623 938.717,181.595 940.772,181.567 942.827,181.537 944.883,181.507 946.938,181.477 948.993,181.446 951.048,181.414 953.104,181.381 \n  955.159,181.348 957.214,181.314 959.27,181.28 961.325,181.245 963.38,181.21 965.435,181.174 967.491,181.138 969.546,181.101 971.601,181.063 973.657,181.025 \n  975.712,180.987 977.767,180.948 979.822,180.909 981.878,180.869 983.933,180.828 985.988,180.788 988.044,180.747 990.099,180.705 992.154,180.664 994.209,180.621 \n  996.265,180.579 998.32,180.536 1000.38,180.493 1002.43,180.449 1004.49,180.405 1006.54,180.361 1008.6,180.316 1010.65,180.272 1012.71,180.227 1014.76,180.181 \n  1016.82,180.136 1018.87,180.09 1020.93,180.044 1022.98,179.997 1025.04,179.951 1027.09,179.904 1029.15,179.857 1031.2,179.81 1033.26,179.763 1035.32,179.715 \n  1037.37,179.667 1039.43,179.619 1041.48,179.571 1043.54,179.523 1045.59,179.475 1047.65,179.427 1049.7,179.378 1051.76,179.33 1053.81,179.281 1055.87,179.232 \n  1057.92,179.183 1059.98,179.134 1062.03,179.085 1064.09,179.036 1066.14,178.987 1068.2,178.938 1070.26,178.888 1072.31,178.839 1074.37,178.79 1076.42,178.74 \n  1078.48,178.691 1080.53,178.642 1082.59,178.592 1084.64,178.543 1086.7,178.494 1088.75,178.444 1090.81,178.395 1092.86,178.346 1094.92,178.296 1096.97,178.247 \n  1099.03,178.198 1101.08,178.149 1103.14,178.1 1105.2,178.051 1107.25,178.002 1109.31,177.953 1111.36,177.904 1113.42,177.855 1115.47,177.807 1117.53,177.758 \n  1119.58,177.71 1121.64,177.662 1123.69,177.613 1125.75,177.565 1127.8,177.517 1129.86,177.469 1131.91,177.422 1133.97,177.374 1136.02,177.326 1138.08,177.279 \n  1140.14,177.232 1142.19,177.185 1144.25,177.138 1146.3,177.091 1148.36,177.045 1150.41,176.998 1152.47,176.952 1154.52,176.906 1156.58,176.86 1158.63,176.814 \n  1160.69,176.768 1162.74,176.723 1164.8,176.678 1166.85,176.632 1168.91,176.588 1170.96,176.543 1173.02,176.498 1175.07,176.454 1177.13,176.41 1179.19,176.366 \n  1181.24,176.322 1183.3,176.279 1185.35,176.236 1187.41,176.193 1189.46,176.15 1191.52,176.107 1193.57,176.065 1195.63,176.022 1197.68,175.98 1199.74,175.939 \n  1201.79,175.897 1203.85,175.856 1205.9,175.815 1207.96,175.774 1210.01,175.733 1212.07,175.693 1214.13,175.653 1216.18,175.613 1218.24,175.573 1220.29,175.534 \n  1222.35,175.495 1224.4,175.456 1226.46,175.417 1228.51,175.379 1230.57,175.34 1232.62,175.302 1234.68,175.265 1236.73,175.227 1238.79,175.19 1240.84,175.153 \n  1242.9,175.116 1244.95,175.08 1247.01,175.044 1249.07,175.008 1251.12,174.972 1253.18,174.937 1255.23,174.902 1257.29,174.867 1259.34,174.832 1261.4,174.798 \n  1263.45,174.764 1265.51,174.73 1267.56,174.696 1269.62,174.663 1271.67,174.63 1273.73,174.597 1275.78,174.564 1277.84,174.532 1279.89,174.5 1281.95,174.468 \n  1284.01,174.437 1286.06,174.405 1288.12,174.374 1290.17,174.344 1292.23,174.313 1294.28,174.283 1296.34,174.253 1298.39,174.223 1300.45,174.194 1302.5,174.165 \n  1304.56,174.136 1306.61,174.107 1308.67,174.079 1310.72,174.051 1312.78,174.023 1314.83,173.995 1316.89,173.968 1318.95,173.941 1321,173.914 1323.06,173.888 \n  1325.11,173.861 1327.17,173.835 1329.22,173.81 1331.28,173.784 1333.33,173.759 1335.39,173.734 1337.44,173.709 1339.5,173.684 1341.55,173.66 1343.61,173.636 \n  1345.66,173.612 1347.72,173.589 1349.77,173.566 1351.83,173.543 1353.89,173.52 1355.94,173.497 1358,173.475 1360.05,173.453 1362.11,173.431 1364.16,173.41 \n  1366.22,173.388 1368.27,173.367 1370.33,173.347 1372.38,173.326 1374.44,173.306 1376.49,173.286 1378.55,173.266 1380.6,173.246 1382.66,173.227 1384.71,173.208 \n  1386.77,173.189 1388.83,173.17 1390.88,173.152 1392.94,173.133 1394.99,173.115 1397.05,173.098 1399.1,173.08 1401.16,173.063 1403.21,173.046 1405.27,173.029 \n  1407.32,173.012 1409.38,172.996 1411.43,172.979 1413.49,172.963 1415.54,172.948 1417.6,172.932 1419.65,172.917 1421.71,172.901 1423.77,172.887 1425.82,172.872 \n  1427.88,172.857 1429.93,172.843 1431.99,172.829 1434.04,172.815 1436.1,172.801 1438.15,172.788 1440.21,172.774 1442.26,172.761 1444.32,172.748 1446.37,172.736 \n  1448.43,172.723 1450.48,172.711 1452.54,172.699 1454.59,172.687 1456.65,172.675 1458.7,172.664 1460.76,172.652 1462.82,172.641 1464.87,172.63 1466.93,172.619 \n  1468.98,172.609 1471.04,172.598 1473.09,172.588 1475.15,172.578 1477.2,172.568 1479.26,172.558 1481.31,172.549 1483.37,172.539 1485.42,172.53 1487.48,172.521 \n  1489.53,172.512 1491.59,172.503 1493.64,172.495 1495.7,172.486 1497.76,172.478 1499.81,172.47 1501.87,172.462 1503.92,172.454 1505.98,172.447 1508.03,172.439 \n  1510.09,172.432 1512.14,172.425 1514.2,172.418 1516.25,172.411 1518.31,172.404 1520.36,172.398 1522.42,172.391 1524.47,172.385 1526.53,172.379 1528.58,172.373 \n  1530.64,172.367 1532.7,172.361 1534.75,172.356 1536.81,172.35 1538.86,172.345 1540.92,172.34 1542.97,172.335 1545.03,172.33 1547.08,172.325 1549.14,172.321 \n  1551.19,172.316 1553.25,172.312 1555.3,172.308 1557.36,172.303 1559.41,172.299 1561.47,172.296 1563.52,172.292 1565.58,172.288 1567.64,172.285 1569.69,172.281 \n  1571.75,172.278 1573.8,172.275 1575.86,172.272 1577.91,172.269 1579.97,172.266 1582.02,172.263 1584.08,172.26 1586.13,172.258 1588.19,172.255 1590.24,172.253 \n  1592.3,172.251 1594.35,172.248 1596.41,172.246 1598.46,172.244 1600.52,172.243 1602.58,172.241 1604.63,172.239 1606.69,172.238 1608.74,172.236 1610.8,172.235 \n  1612.85,172.233 1614.91,172.232 1616.96,172.231 1619.02,172.23 1621.07,172.229 1623.13,172.228 1625.18,172.227 1627.24,172.227 1629.29,172.226 1631.35,172.225 \n  1633.4,172.225 1635.46,172.224 1637.52,172.224 1639.57,172.224 1641.63,172.224 1643.68,172.224 1645.74,172.224 1647.79,172.224 1649.85,172.224 1651.9,172.224 \n  1653.96,172.224 1656.01,172.224 1658.07,172.225 1660.12,172.225 1662.18,172.226 1664.23,172.226 1666.29,172.227 1668.34,172.227 1670.4,172.228 1672.46,172.229 \n  1674.51,172.23 1676.57,172.231 1678.62,172.232 1680.68,172.233 1682.73,172.234 1684.79,172.235 1686.84,172.236 1688.9,172.237 1690.95,172.238 1693.01,172.24 \n  1695.06,172.241 1697.12,172.242 1699.17,172.244 1701.23,172.245 1703.28,172.247 1705.34,172.248 1707.39,172.25 1709.45,172.252 1711.51,172.253 1713.56,172.255 \n  1715.62,172.257 1717.67,172.259 1719.73,172.261 1721.78,172.262 1723.84,172.264 1725.89,172.266 1727.95,172.268 1730,172.27 1732.06,172.272 1734.11,172.274 \n  1736.17,172.277 1738.22,172.279 1740.28,172.281 1742.33,172.283 1744.39,172.285 1746.45,172.288 1748.5,172.29 1750.56,172.292 1752.61,172.295 1754.67,172.297 \n  1756.72,172.299 1758.78,172.302 1760.83,172.304 1762.89,172.307 1764.94,172.309 1767,172.312 1769.05,172.314 1771.11,172.317 1773.16,172.319 1775.22,172.322 \n  1777.27,172.324 1779.33,172.327 1781.39,172.33 1783.44,172.332 1785.5,172.335 1787.55,172.338 1789.61,172.34 1791.66,172.343 1793.72,172.346 1795.77,172.349 \n  1797.83,172.351 1799.88,172.354 1801.94,172.357 1803.99,172.36 1806.05,172.362 1808.1,172.365 1810.16,172.368 1812.21,172.371 1814.27,172.374 1816.33,172.376 \n  1818.38,172.379 1820.44,172.382 1822.49,172.385 1824.55,172.388 1826.6,172.391 1828.66,172.394 1830.71,172.396 1832.77,172.399 1834.82,172.402 1836.88,172.405 \n  1838.93,172.408 1840.99,172.411 1843.04,172.414 1845.1,172.417 1847.15,172.419 1849.21,172.422 1851.27,172.425 1853.32,172.428 1855.38,172.431 1857.43,172.434 \n  1859.49,172.437 1861.54,172.44 1863.6,172.443 1865.65,172.445 1867.71,172.448 1869.76,172.451 1871.82,172.454 1873.87,172.457 1875.93,172.46 1877.98,172.463 \n  1880.04,172.466 1882.09,172.468 1884.15,172.471 1886.21,172.474 1888.26,172.477 1890.32,172.48 1892.37,172.483 1894.43,172.485 1896.48,172.488 1898.54,172.491 \n  1900.59,172.494 1902.65,172.497 1904.7,172.499 1906.76,172.502 1908.81,172.505 1910.87,172.508 1912.92,172.51 1914.98,172.513 1917.03,172.516 1919.09,172.519 \n  1921.15,172.521 1923.2,172.524 1925.26,172.527 1927.31,172.529 1929.37,172.532 1931.42,172.535 1933.48,172.537 1935.53,172.54 1937.59,172.543 1939.64,172.545 \n  1941.7,172.548 1943.75,172.55 1945.81,172.553 1947.86,172.556 1949.92,172.558 1951.97,172.561 1954.03,172.563 1956.09,172.566 1958.14,172.568 1960.2,172.571 \n  1962.25,172.573 1964.31,172.576 1966.36,172.578 1968.42,172.581 1970.47,172.583 1972.53,172.586 1974.58,172.588 1976.64,172.59 1978.69,172.593 1980.75,172.595 \n  1982.8,172.597 1984.86,172.6 1986.91,172.602 1988.97,172.604 1991.02,172.607 1993.08,172.609 1995.14,172.611 1997.19,172.613 1999.25,172.616 2001.3,172.618 \n  2003.36,172.62 2005.41,172.622 2007.47,172.625 2009.52,172.627 2011.58,172.629 2013.63,172.631 2015.69,172.633 2017.74,172.635 2019.8,172.637 2021.85,172.639 \n  2023.91,172.641 2025.96,172.644 2028.02,172.646 2030.08,172.648 2032.13,172.65 2034.19,172.652 2036.24,172.654 2038.3,172.655 2040.35,172.657 2042.41,172.659 \n  2044.46,172.661 2046.52,172.663 2048.57,172.665 2050.63,172.667 2052.68,172.669 2054.74,172.671 2056.79,172.672 2058.85,172.674 2060.9,172.676 2062.96,172.678 \n  2065.02,172.68 2067.07,172.681 2069.13,172.683 2071.18,172.685 2073.24,172.686 2075.29,172.688 2077.35,172.69 2079.4,172.691 2081.46,172.693 2083.51,172.695 \n  2085.57,172.696 2087.62,172.698 2089.68,172.699 2091.73,172.701 2093.79,172.702 2095.84,172.704 2097.9,172.706 2099.96,172.707 2102.01,172.709 2104.07,172.71 \n  2106.12,172.711 2108.18,172.713 2110.23,172.714 2112.29,172.716 2114.34,172.717 2116.4,172.718 2118.45,172.72 2120.51,172.721 2122.56,172.723 2124.62,172.724 \n  2126.67,172.725 2128.73,172.726 2130.78,172.728 2132.84,172.729 2134.9,172.73 2136.95,172.731 2139.01,172.733 2141.06,172.734 2143.12,172.735 2145.17,172.736 \n  2147.23,172.737 2149.28,172.739 2151.34,172.74 2153.39,172.741 2155.45,172.742 2157.5,172.743 2159.56,172.744 2161.61,172.745 2163.67,172.746 2165.72,172.747 \n  2167.78,172.748 2169.84,172.749 2171.89,172.75 2173.95,172.751 2176,172.752 2178.06,172.753 2180.11,172.754 2182.17,172.755 2184.22,172.756 2186.28,172.757 \n  2188.33,172.758 2190.39,172.759 2192.44,172.76 2194.5,172.761 2196.55,172.761 2198.61,172.762 2200.66,172.763 2202.72,172.764 2204.78,172.765 2206.83,172.766 \n  2208.89,172.766 2210.94,172.767 2213,172.768 2215.05,172.769 2217.11,172.769 2219.16,172.77 2221.22,172.771 2223.27,172.771 2225.33,172.772 2227.38,172.773 \n  2229.44,172.774 2231.49,172.774 2233.55,172.775 2235.6,172.775 2237.66,172.776 2239.71,172.777 2241.77,172.777 2243.83,172.778 2245.88,172.778 2247.94,172.779 \n  2249.99,172.78 2252.05,172.78 2254.1,172.781 2256.16,172.781 2258.21,172.782 2260.27,172.782 2262.32,172.783 2264.38,172.783 2266.43,172.784 2268.49,172.784 \n  2270.54,172.785 2272.6,172.785 2274.65,172.786 2276.71,172.786 2278.77,172.786 2280.82,172.787 2282.88,172.787 2284.93,172.788 2286.99,172.788 2289.04,172.788 \n  2291.1,172.789 \n  \"/>\n<path clip-path=\"url(#clip330)\" d=\"\nM246.769 787.052 L513.975 787.052 L513.975 631.532 L246.769 631.532  Z\n  \" fill=\"#ffffff\" fill-rule=\"evenodd\" fill-opacity=\"1\"/>\n<polyline clip-path=\"url(#clip330)\" style=\"stroke:#000000; stroke-linecap:butt; stroke-linejoin:round; stroke-width:4; stroke-opacity:1; fill:none\" points=\"\n  246.769,787.052 513.975,787.052 513.975,631.532 246.769,631.532 246.769,787.052 \n  \"/>\n<polyline clip-path=\"url(#clip330)\" style=\"stroke:#009af9; stroke-linecap:butt; stroke-linejoin:round; stroke-width:4; stroke-opacity:1; fill:none\" points=\"\n  270.976,683.372 416.216,683.372 \n  \"/>\n<path clip-path=\"url(#clip330)\" d=\"M465.076 674.726 L455.701 687.342 L465.562 700.652 L460.539 700.652 L452.992 690.467 L445.446 700.652 L440.423 700.652 L450.492 687.087 L441.28 674.726 L446.303 674.726 L453.178 683.962 L460.053 674.726 L465.076 674.726 Z\" fill=\"#000000\" fill-rule=\"evenodd\" fill-opacity=\"1\" /><polyline clip-path=\"url(#clip330)\" style=\"stroke:#e26f46; stroke-linecap:butt; stroke-linejoin:round; stroke-width:4; stroke-opacity:1; fill:none\" points=\"\n  270.976,735.212 416.216,735.212 \n  \"/>\n<path clip-path=\"url(#clip330)\" d=\"M459.682 736.057 L444.937 736.057 Q445.284 742.978 446.881 745.918 Q448.872 749.529 452.321 749.529 Q455.793 749.529 457.715 745.895 Q459.404 742.7 459.682 736.057 M459.613 732.122 Q458.965 725.548 457.715 723.233 Q455.724 719.575 452.321 719.575 Q448.78 719.575 446.905 723.187 Q445.423 726.103 444.983 732.122 L459.613 732.122 M452.321 716.103 Q457.877 716.103 461.048 721.011 Q464.219 725.895 464.219 734.552 Q464.219 743.186 461.048 748.094 Q457.877 753.024 452.321 753.024 Q446.743 753.024 443.594 748.094 Q440.423 743.186 440.423 734.552 Q440.423 725.895 443.594 721.011 Q446.743 716.103 452.321 716.103 Z\" fill=\"#000000\" fill-rule=\"evenodd\" fill-opacity=\"1\" /></svg>\n"
     },
     "execution_count": 36,
     "metadata": {},
     "output_type": "execute_result"
    }
   ],
   "source": [
    "ctrl_lqr2 = LQRController(K_bil2, xe, ue)\n",
    "t_sim = 10.0\n",
    "times_sim = range(0,t_sim,step=dt)\n",
    "x0 = [-0.4,pi-deg2rad(40),0,0]\n",
    "Xsim_lqr2, = simulatewithcontroller(dmodel, ctrl_lqr2, x0, t_sim, dt)\n",
    "plotstates(times_sim, Xsim_lqr2, inds=1:2, xlabel=\"time (s)\", ylabel=\"states\", label=[\"x\" \"θ\"], legend=:left, lw=2)"
   ]
  },
  {
   "cell_type": "code",
   "execution_count": 37,
   "metadata": {},
   "outputs": [
    {
     "data": {
      "text/html": [
       "    <div style=\"height: 500px; width: 100%; overflow-x: auto; overflow-y: hidden; resize: both\">\n",
       "    <iframe src=\"http://127.0.0.1:8702\" style=\"width: 100%; height: 100%; border: none\"></iframe>\n",
       "    </div>\n"
      ],
      "text/plain": [
       "MeshCat.DisplayedVisualizer(MeshCat.CoreVisualizer(MeshCat.SceneTrees.SceneNode(nothing, nothing, Dict{String, Vector{UInt8}}(), nothing, Dict{String, MeshCat.SceneTrees.SceneNode}(\"meshcat\" => MeshCat.SceneTrees.SceneNode(nothing, nothing, Dict{String, Vector{UInt8}}(), nothing, Dict{String, MeshCat.SceneTrees.SceneNode}(\"robot\" => MeshCat.SceneTrees.SceneNode(nothing, nothing, Dict{String, Vector{UInt8}}(), nothing, Dict{String, MeshCat.SceneTrees.SceneNode}(\"rod\" => MeshCat.SceneTrees.SceneNode(UInt8[0x83, 0xa6, 0x6f, 0x62, 0x6a, 0x65, 0x63, 0x74, 0x84, 0xaa  …  0x2f, 0x72, 0x6f, 0x62, 0x6f, 0x74, 0x2f, 0x72, 0x6f, 0x64], nothing, Dict{String, Vector{UInt8}}(), nothing, Dict{String, MeshCat.SceneTrees.SceneNode}()), \"cart\" => MeshCat.SceneTrees.SceneNode(nothing, nothing, Dict{String, Vector{UInt8}}(), nothing, Dict{String, MeshCat.SceneTrees.SceneNode}(\"pole\" => MeshCat.SceneTrees.SceneNode(nothing, UInt8[0x83, 0xa6, 0x6d, 0x61, 0x74, 0x72, 0x69, 0x78, 0xc7, 0x40  …  0x2f, 0x63, 0x61, 0x72, 0x74, 0x2f, 0x70, 0x6f, 0x6c, 0x65], Dict{String, Vector{UInt8}}(), nothing, Dict{String, MeshCat.SceneTrees.SceneNode}(\"geom\" => MeshCat.SceneTrees.SceneNode(nothing, nothing, Dict{String, Vector{UInt8}}(), nothing, Dict{String, MeshCat.SceneTrees.SceneNode}(\"cyl\" => MeshCat.SceneTrees.SceneNode(UInt8[0x83, 0xa6, 0x6f, 0x62, 0x6a, 0x65, 0x63, 0x74, 0x84, 0xaa  …  0x65, 0x2f, 0x67, 0x65, 0x6f, 0x6d, 0x2f, 0x63, 0x79, 0x6c], nothing, Dict{String, Vector{UInt8}}(), nothing, Dict{String, MeshCat.SceneTrees.SceneNode}()), \"mass\" => MeshCat.SceneTrees.SceneNode(UInt8[0x83, 0xa6, 0x6f, 0x62, 0x6a, 0x65, 0x63, 0x74, 0x84, 0xaa  …  0x2f, 0x67, 0x65, 0x6f, 0x6d, 0x2f, 0x6d, 0x61, 0x73, 0x73], nothing, Dict{String, Vector{UInt8}}(), nothing, Dict{String, MeshCat.SceneTrees.SceneNode}()))))), \"box\" => MeshCat.SceneTrees.SceneNode(UInt8[0x83, 0xa6, 0x6f, 0x62, 0x6a, 0x65, 0x63, 0x74, 0x84, 0xaa  …  0x74, 0x2f, 0x63, 0x61, 0x72, 0x74, 0x2f, 0x62, 0x6f, 0x78], nothing, Dict{String, Vector{UInt8}}(), nothing, Dict{String, MeshCat.SceneTrees.SceneNode}()), \"hinge\" => MeshCat.SceneTrees.SceneNode(UInt8[0x83, 0xa6, 0x6f, 0x62, 0x6a, 0x65, 0x63, 0x74, 0x84, 0xaa  …  0x63, 0x61, 0x72, 0x74, 0x2f, 0x68, 0x69, 0x6e, 0x67, 0x65], nothing, Dict{String, Vector{UInt8}}(), nothing, Dict{String, MeshCat.SceneTrees.SceneNode}()))))))))), Set(Any[WebSocket(server, \u001b[32mCONNECTED\u001b[39m), WebSocket(server, \u001b[32mCONNECTED\u001b[39m), WebSocket(server, \u001b[32mCONNECTED\u001b[39m)]), ip\"127.0.0.1\", 8702))"
      ]
     },
     "execution_count": 37,
     "metadata": {},
     "output_type": "execute_result"
    }
   ],
   "source": [
    "render(vis)"
   ]
  },
  {
   "cell_type": "code",
   "execution_count": 38,
   "metadata": {},
   "outputs": [],
   "source": [
    "visualize!(vis, model, t_sim, Xsim_lqr2)"
   ]
  },
  {
   "cell_type": "markdown",
   "metadata": {},
   "source": [
    "### Tracking with TVLQR"
   ]
  },
  {
   "cell_type": "code",
   "execution_count": 39,
   "metadata": {},
   "outputs": [],
   "source": [
    "# # Extract Reference Trajectory\n",
    "# X_ref = vec(Matrix(map(x -> vec(x), X_test[:,1]')))\n",
    "# U_ref = vec(Matrix(map(u -> vec(u), U_test[:,1]')))\n",
    "\n",
    "# # Linearize in Koopman Space\n",
    "# Z_ref = map(x -> expandstate(model_bilinear2, x), X_ref)\n",
    "# A, B = linearize(model_bilinear2, Z_ref, U_ref, times)\n",
    "\n",
    "# # TVLQRController\n",
    "# Qtvlqr = [Diagonal(1e-2*ones(n)) for knot in 1:num_knot]\n",
    "# Rtvlqr = [Diagonal([1e-4]) for knot in 1:num_knot]\n",
    "\n",
    "# # Simulate with controller\n",
    "# ctrl_tvlqr = TVLQRController(A,B,Qtvlqr,Rtvlqr, Z_ref, U_ref, times)\n",
    "# t_sim = 3\n",
    "# times_sim = range(0,t_sim,step=dt)\n",
    "# z0 = Z_ref[1]\n",
    "# Zsim_tvlqr, = simulatewithcontroller(model_bilinear2, ctrl_tvlqr, z0, t_sim, dt)\n",
    "# Xsim_tvlqr_koopman = map(z -> originalstate(model_bilinear2, z), Zsim_tvlqr)\n",
    "# plotstates(times, X_ref, inds=1:2, xlabel=\"time (s)\", ylabel=\"states\", label=[\"x (reference)\" \"θ (reference)\"], legend=:top, lw=2)\n",
    "# plotstates!(times_sim, Xsim_tvlqr_koopman, inds=1:2, xlabel=\"time (s)\", ylabel=\"states\", label=[\"x (TVLQR)\" \"θ (TVLQR)\"], legend=:top, lw=2)"
   ]
  },
  {
   "cell_type": "code",
   "execution_count": 44,
   "metadata": {},
   "outputs": [
    {
     "data": {
      "image/svg+xml": "<?xml version=\"1.0\" encoding=\"utf-8\"?>\n<svg xmlns=\"http://www.w3.org/2000/svg\" xmlns:xlink=\"http://www.w3.org/1999/xlink\" width=\"600\" height=\"400\" viewBox=\"0 0 2400 1600\">\n<defs>\n  <clipPath id=\"clip450\">\n    <rect x=\"0\" y=\"0\" width=\"2400\" height=\"1600\"/>\n  </clipPath>\n</defs>\n<path clip-path=\"url(#clip450)\" d=\"\nM0 1600 L2400 1600 L2400 0 L0 0  Z\n  \" fill=\"#ffffff\" fill-rule=\"evenodd\" fill-opacity=\"1\"/>\n<defs>\n  <clipPath id=\"clip451\">\n    <rect x=\"480\" y=\"0\" width=\"1681\" height=\"1600\"/>\n  </clipPath>\n</defs>\n<path clip-path=\"url(#clip450)\" d=\"\nM210.746 1423.18 L2352.76 1423.18 L2352.76 47.2441 L210.746 47.2441  Z\n  \" fill=\"#ffffff\" fill-rule=\"evenodd\" fill-opacity=\"1\"/>\n<defs>\n  <clipPath id=\"clip452\">\n    <rect x=\"210\" y=\"47\" width=\"2143\" height=\"1377\"/>\n  </clipPath>\n</defs>\n<polyline clip-path=\"url(#clip452)\" style=\"stroke:#000000; stroke-linecap:butt; stroke-linejoin:round; stroke-width:2; stroke-opacity:0.1; fill:none\" points=\"\n  271.369,1423.18 271.369,47.2441 \n  \"/>\n<polyline clip-path=\"url(#clip452)\" style=\"stroke:#000000; stroke-linecap:butt; stroke-linejoin:round; stroke-width:2; stroke-opacity:0.1; fill:none\" points=\"\n  848.73,1423.18 848.73,47.2441 \n  \"/>\n<polyline clip-path=\"url(#clip452)\" style=\"stroke:#000000; stroke-linecap:butt; stroke-linejoin:round; stroke-width:2; stroke-opacity:0.1; fill:none\" points=\"\n  1426.09,1423.18 1426.09,47.2441 \n  \"/>\n<polyline clip-path=\"url(#clip452)\" style=\"stroke:#000000; stroke-linecap:butt; stroke-linejoin:round; stroke-width:2; stroke-opacity:0.1; fill:none\" points=\"\n  2003.45,1423.18 2003.45,47.2441 \n  \"/>\n<polyline clip-path=\"url(#clip450)\" style=\"stroke:#000000; stroke-linecap:butt; stroke-linejoin:round; stroke-width:4; stroke-opacity:1; fill:none\" points=\"\n  210.746,1423.18 2352.76,1423.18 \n  \"/>\n<polyline clip-path=\"url(#clip450)\" style=\"stroke:#000000; stroke-linecap:butt; stroke-linejoin:round; stroke-width:4; stroke-opacity:1; fill:none\" points=\"\n  271.369,1423.18 271.369,1404.28 \n  \"/>\n<polyline clip-path=\"url(#clip450)\" style=\"stroke:#000000; stroke-linecap:butt; stroke-linejoin:round; stroke-width:4; stroke-opacity:1; fill:none\" points=\"\n  848.73,1423.18 848.73,1404.28 \n  \"/>\n<polyline clip-path=\"url(#clip450)\" style=\"stroke:#000000; stroke-linecap:butt; stroke-linejoin:round; stroke-width:4; stroke-opacity:1; fill:none\" points=\"\n  1426.09,1423.18 1426.09,1404.28 \n  \"/>\n<polyline clip-path=\"url(#clip450)\" style=\"stroke:#000000; stroke-linecap:butt; stroke-linejoin:round; stroke-width:4; stroke-opacity:1; fill:none\" points=\"\n  2003.45,1423.18 2003.45,1404.28 \n  \"/>\n<path clip-path=\"url(#clip450)\" d=\"M271.369 1454.1 Q267.758 1454.1 265.929 1457.66 Q264.124 1461.2 264.124 1468.33 Q264.124 1475.44 265.929 1479.01 Q267.758 1482.55 271.369 1482.55 Q275.003 1482.55 276.809 1479.01 Q278.637 1475.44 278.637 1468.33 Q278.637 1461.2 276.809 1457.66 Q275.003 1454.1 271.369 1454.1 M271.369 1450.39 Q277.179 1450.39 280.235 1455 Q283.313 1459.58 283.313 1468.33 Q283.313 1477.06 280.235 1481.67 Q277.179 1486.25 271.369 1486.25 Q265.559 1486.25 262.48 1481.67 Q259.424 1477.06 259.424 1468.33 Q259.424 1459.58 262.48 1455 Q265.559 1450.39 271.369 1450.39 Z\" fill=\"#000000\" fill-rule=\"evenodd\" fill-opacity=\"1\" /><path clip-path=\"url(#clip450)\" d=\"M839.112 1481.64 L846.751 1481.64 L846.751 1455.28 L838.441 1456.95 L838.441 1452.69 L846.705 1451.02 L851.38 1451.02 L851.38 1481.64 L859.019 1481.64 L859.019 1485.58 L839.112 1485.58 L839.112 1481.64 Z\" fill=\"#000000\" fill-rule=\"evenodd\" fill-opacity=\"1\" /><path clip-path=\"url(#clip450)\" d=\"M1420.74 1481.64 L1437.06 1481.64 L1437.06 1485.58 L1415.12 1485.58 L1415.12 1481.64 Q1417.78 1478.89 1422.36 1474.26 Q1426.97 1469.61 1428.15 1468.27 Q1430.4 1465.74 1431.28 1464.01 Q1432.18 1462.25 1432.18 1460.56 Q1432.18 1457.8 1430.23 1456.07 Q1428.31 1454.33 1425.21 1454.33 Q1423.01 1454.33 1420.56 1455.09 Q1418.13 1455.86 1415.35 1457.41 L1415.35 1452.69 Q1418.17 1451.55 1420.63 1450.97 Q1423.08 1450.39 1425.12 1450.39 Q1430.49 1450.39 1433.68 1453.08 Q1436.88 1455.77 1436.88 1460.26 Q1436.88 1462.39 1436.07 1464.31 Q1435.28 1466.2 1433.17 1468.8 Q1432.6 1469.47 1429.49 1472.69 Q1426.39 1475.88 1420.74 1481.64 Z\" fill=\"#000000\" fill-rule=\"evenodd\" fill-opacity=\"1\" /><path clip-path=\"url(#clip450)\" d=\"M2007.7 1466.95 Q2011.06 1467.66 2012.93 1469.93 Q2014.83 1472.2 2014.83 1475.53 Q2014.83 1480.65 2011.31 1483.45 Q2007.79 1486.25 2001.31 1486.25 Q1999.14 1486.25 1996.82 1485.81 Q1994.53 1485.39 1992.08 1484.54 L1992.08 1480.02 Q1994.02 1481.16 1996.33 1481.74 Q1998.65 1482.32 2001.17 1482.32 Q2005.57 1482.32 2007.86 1480.58 Q2010.18 1478.84 2010.18 1475.53 Q2010.18 1472.48 2008.02 1470.77 Q2005.89 1469.03 2002.08 1469.03 L1998.05 1469.03 L1998.05 1465.19 L2002.26 1465.19 Q2005.71 1465.19 2007.54 1463.82 Q2009.37 1462.43 2009.37 1459.84 Q2009.37 1457.18 2007.47 1455.77 Q2005.59 1454.33 2002.08 1454.33 Q2000.15 1454.33 1997.95 1454.75 Q1995.76 1455.16 1993.12 1456.04 L1993.12 1451.88 Q1995.78 1451.14 1998.09 1450.77 Q2000.43 1450.39 2002.49 1450.39 Q2007.82 1450.39 2010.92 1452.83 Q2014.02 1455.23 2014.02 1459.35 Q2014.02 1462.22 2012.38 1464.21 Q2010.73 1466.18 2007.7 1466.95 Z\" fill=\"#000000\" fill-rule=\"evenodd\" fill-opacity=\"1\" /><path clip-path=\"url(#clip450)\" d=\"M1169.21 1522.27 L1169.21 1532.4 L1181.27 1532.4 L1181.27 1536.95 L1169.21 1536.95 L1169.21 1556.3 Q1169.21 1560.66 1170.38 1561.9 Q1171.59 1563.14 1175.25 1563.14 L1181.27 1563.14 L1181.27 1568.04 L1175.25 1568.04 Q1168.47 1568.04 1165.9 1565.53 Q1163.32 1562.98 1163.32 1556.3 L1163.32 1536.95 L1159.02 1536.95 L1159.02 1532.4 L1163.32 1532.4 L1163.32 1522.27 L1169.21 1522.27 Z\" fill=\"#000000\" fill-rule=\"evenodd\" fill-opacity=\"1\" /><path clip-path=\"url(#clip450)\" d=\"M1188.97 1532.4 L1194.83 1532.4 L1194.83 1568.04 L1188.97 1568.04 L1188.97 1532.4 M1188.97 1518.52 L1194.83 1518.52 L1194.83 1525.93 L1188.97 1525.93 L1188.97 1518.52 Z\" fill=\"#000000\" fill-rule=\"evenodd\" fill-opacity=\"1\" /><path clip-path=\"url(#clip450)\" d=\"M1234.84 1539.24 Q1237.03 1535.29 1240.09 1533.41 Q1243.14 1531.54 1247.28 1531.54 Q1252.85 1531.54 1255.87 1535.45 Q1258.9 1539.33 1258.9 1546.53 L1258.9 1568.04 L1253.01 1568.04 L1253.01 1546.72 Q1253.01 1541.59 1251.2 1539.11 Q1249.38 1536.63 1245.66 1536.63 Q1241.11 1536.63 1238.46 1539.65 Q1235.82 1542.68 1235.82 1547.9 L1235.82 1568.04 L1229.93 1568.04 L1229.93 1546.72 Q1229.93 1541.56 1228.12 1539.11 Q1226.31 1536.63 1222.52 1536.63 Q1218.03 1536.63 1215.39 1539.68 Q1212.75 1542.71 1212.75 1547.9 L1212.75 1568.04 L1206.86 1568.04 L1206.86 1532.4 L1212.75 1532.4 L1212.75 1537.93 Q1214.75 1534.66 1217.55 1533.1 Q1220.35 1531.54 1224.2 1531.54 Q1228.09 1531.54 1230.79 1533.51 Q1233.53 1535.48 1234.84 1539.24 Z\" fill=\"#000000\" fill-rule=\"evenodd\" fill-opacity=\"1\" /><path clip-path=\"url(#clip450)\" d=\"M1301.07 1548.76 L1301.07 1551.62 L1274.14 1551.62 Q1274.53 1557.67 1277.77 1560.85 Q1281.05 1564 1286.88 1564 Q1290.25 1564 1293.4 1563.17 Q1296.58 1562.35 1299.7 1560.69 L1299.7 1566.23 Q1296.55 1567.57 1293.24 1568.27 Q1289.93 1568.97 1286.53 1568.97 Q1278 1568.97 1273 1564 Q1268.03 1559.04 1268.03 1550.57 Q1268.03 1541.82 1272.74 1536.69 Q1277.49 1531.54 1285.51 1531.54 Q1292.7 1531.54 1296.87 1536.18 Q1301.07 1540.8 1301.07 1548.76 M1295.21 1547.04 Q1295.15 1542.23 1292.51 1539.37 Q1289.9 1536.5 1285.57 1536.5 Q1280.67 1536.5 1277.71 1539.27 Q1274.78 1542.04 1274.33 1547.07 L1295.21 1547.04 Z\" fill=\"#000000\" fill-rule=\"evenodd\" fill-opacity=\"1\" /><path clip-path=\"url(#clip450)\" d=\"M1345.47 1518.58 Q1341.21 1525.9 1339.14 1533.06 Q1337.07 1540.23 1337.07 1547.58 Q1337.07 1554.93 1339.14 1562.16 Q1341.24 1569.35 1345.47 1576.64 L1340.38 1576.64 Q1335.6 1569.16 1333.22 1561.93 Q1330.86 1554.71 1330.86 1547.58 Q1330.86 1540.48 1333.22 1533.29 Q1335.57 1526.09 1340.38 1518.58 L1345.47 1518.58 Z\" fill=\"#000000\" fill-rule=\"evenodd\" fill-opacity=\"1\" /><path clip-path=\"url(#clip450)\" d=\"M1379.56 1533.45 L1379.56 1538.98 Q1377.08 1537.71 1374.4 1537.07 Q1371.73 1536.44 1368.87 1536.44 Q1364.51 1536.44 1362.31 1537.77 Q1360.14 1539.11 1360.14 1541.79 Q1360.14 1543.82 1361.7 1545 Q1363.26 1546.15 1367.97 1547.2 L1369.98 1547.64 Q1376.22 1548.98 1378.83 1551.43 Q1381.47 1553.85 1381.47 1558.21 Q1381.47 1563.17 1377.52 1566.07 Q1373.61 1568.97 1366.73 1568.97 Q1363.87 1568.97 1360.75 1568.39 Q1357.66 1567.85 1354.22 1566.74 L1354.22 1560.69 Q1357.47 1562.38 1360.62 1563.24 Q1363.77 1564.07 1366.86 1564.07 Q1371 1564.07 1373.23 1562.66 Q1375.45 1561.23 1375.45 1558.65 Q1375.45 1556.27 1373.83 1554.99 Q1372.24 1553.72 1366.8 1552.54 L1364.76 1552.07 Q1359.32 1550.92 1356.9 1548.56 Q1354.48 1546.18 1354.48 1542.04 Q1354.48 1537.01 1358.04 1534.27 Q1361.61 1531.54 1368.17 1531.54 Q1371.41 1531.54 1374.28 1532.01 Q1377.14 1532.49 1379.56 1533.45 Z\" fill=\"#000000\" fill-rule=\"evenodd\" fill-opacity=\"1\" /><path clip-path=\"url(#clip450)\" d=\"M1389.87 1518.58 L1394.97 1518.58 Q1399.74 1526.09 1402.09 1533.29 Q1404.48 1540.48 1404.48 1547.58 Q1404.48 1554.71 1402.09 1561.93 Q1399.74 1569.16 1394.97 1576.64 L1389.87 1576.64 Q1394.11 1569.35 1396.17 1562.16 Q1398.28 1554.93 1398.28 1547.58 Q1398.28 1540.23 1396.17 1533.06 Q1394.11 1525.9 1389.87 1518.58 Z\" fill=\"#000000\" fill-rule=\"evenodd\" fill-opacity=\"1\" /><polyline clip-path=\"url(#clip452)\" style=\"stroke:#000000; stroke-linecap:butt; stroke-linejoin:round; stroke-width:2; stroke-opacity:0.1; fill:none\" points=\"\n  210.746,1207.6 2352.76,1207.6 \n  \"/>\n<polyline clip-path=\"url(#clip452)\" style=\"stroke:#000000; stroke-linecap:butt; stroke-linejoin:round; stroke-width:2; stroke-opacity:0.1; fill:none\" points=\"\n  210.746,936.83 2352.76,936.83 \n  \"/>\n<polyline clip-path=\"url(#clip452)\" style=\"stroke:#000000; stroke-linecap:butt; stroke-linejoin:round; stroke-width:2; stroke-opacity:0.1; fill:none\" points=\"\n  210.746,666.062 2352.76,666.062 \n  \"/>\n<polyline clip-path=\"url(#clip452)\" style=\"stroke:#000000; stroke-linecap:butt; stroke-linejoin:round; stroke-width:2; stroke-opacity:0.1; fill:none\" points=\"\n  210.746,395.293 2352.76,395.293 \n  \"/>\n<polyline clip-path=\"url(#clip452)\" style=\"stroke:#000000; stroke-linecap:butt; stroke-linejoin:round; stroke-width:2; stroke-opacity:0.1; fill:none\" points=\"\n  210.746,124.525 2352.76,124.525 \n  \"/>\n<polyline clip-path=\"url(#clip450)\" style=\"stroke:#000000; stroke-linecap:butt; stroke-linejoin:round; stroke-width:4; stroke-opacity:1; fill:none\" points=\"\n  210.746,1423.18 210.746,47.2441 \n  \"/>\n<polyline clip-path=\"url(#clip450)\" style=\"stroke:#000000; stroke-linecap:butt; stroke-linejoin:round; stroke-width:4; stroke-opacity:1; fill:none\" points=\"\n  210.746,1207.6 229.644,1207.6 \n  \"/>\n<polyline clip-path=\"url(#clip450)\" style=\"stroke:#000000; stroke-linecap:butt; stroke-linejoin:round; stroke-width:4; stroke-opacity:1; fill:none\" points=\"\n  210.746,936.83 229.644,936.83 \n  \"/>\n<polyline clip-path=\"url(#clip450)\" style=\"stroke:#000000; stroke-linecap:butt; stroke-linejoin:round; stroke-width:4; stroke-opacity:1; fill:none\" points=\"\n  210.746,666.062 229.644,666.062 \n  \"/>\n<polyline clip-path=\"url(#clip450)\" style=\"stroke:#000000; stroke-linecap:butt; stroke-linejoin:round; stroke-width:4; stroke-opacity:1; fill:none\" points=\"\n  210.746,395.293 229.644,395.293 \n  \"/>\n<polyline clip-path=\"url(#clip450)\" style=\"stroke:#000000; stroke-linecap:butt; stroke-linejoin:round; stroke-width:4; stroke-opacity:1; fill:none\" points=\"\n  210.746,124.525 229.644,124.525 \n  \"/>\n<path clip-path=\"url(#clip450)\" d=\"M114.26 1208.05 L143.936 1208.05 L143.936 1211.99 L114.26 1211.99 L114.26 1208.05 Z\" fill=\"#000000\" fill-rule=\"evenodd\" fill-opacity=\"1\" /><path clip-path=\"url(#clip450)\" d=\"M154.839 1220.94 L162.477 1220.94 L162.477 1194.58 L154.167 1196.24 L154.167 1191.99 L162.431 1190.32 L167.107 1190.32 L167.107 1220.94 L174.746 1220.94 L174.746 1224.88 L154.839 1224.88 L154.839 1220.94 Z\" fill=\"#000000\" fill-rule=\"evenodd\" fill-opacity=\"1\" /><path clip-path=\"url(#clip450)\" d=\"M162.802 922.629 Q159.19 922.629 157.362 926.193 Q155.556 929.735 155.556 936.865 Q155.556 943.971 157.362 947.536 Q159.19 951.078 162.802 951.078 Q166.436 951.078 168.241 947.536 Q170.07 943.971 170.07 936.865 Q170.07 929.735 168.241 926.193 Q166.436 922.629 162.802 922.629 M162.802 918.925 Q168.612 918.925 171.667 923.531 Q174.746 928.115 174.746 936.865 Q174.746 945.592 171.667 950.198 Q168.612 954.781 162.802 954.781 Q156.991 954.781 153.913 950.198 Q150.857 945.592 150.857 936.865 Q150.857 928.115 153.913 923.531 Q156.991 918.925 162.802 918.925 Z\" fill=\"#000000\" fill-rule=\"evenodd\" fill-opacity=\"1\" /><path clip-path=\"url(#clip450)\" d=\"M154.839 679.406 L162.477 679.406 L162.477 653.041 L154.167 654.707 L154.167 650.448 L162.431 648.782 L167.107 648.782 L167.107 679.406 L174.746 679.406 L174.746 683.342 L154.839 683.342 L154.839 679.406 Z\" fill=\"#000000\" fill-rule=\"evenodd\" fill-opacity=\"1\" /><path clip-path=\"url(#clip450)\" d=\"M158.427 408.638 L174.746 408.638 L174.746 412.573 L152.802 412.573 L152.802 408.638 Q155.464 405.883 160.047 401.254 Q164.653 396.601 165.834 395.258 Q168.079 392.735 168.959 390.999 Q169.862 389.24 169.862 387.55 Q169.862 384.795 167.917 383.059 Q165.996 381.323 162.894 381.323 Q160.695 381.323 158.241 382.087 Q155.811 382.851 153.033 384.402 L153.033 379.68 Q155.857 378.545 158.311 377.967 Q160.765 377.388 162.802 377.388 Q168.172 377.388 171.366 380.073 Q174.561 382.758 174.561 387.249 Q174.561 389.379 173.751 391.3 Q172.964 393.198 170.857 395.791 Q170.278 396.462 167.177 399.68 Q164.075 402.874 158.427 408.638 Z\" fill=\"#000000\" fill-rule=\"evenodd\" fill-opacity=\"1\" /><path clip-path=\"url(#clip450)\" d=\"M167.616 123.17 Q170.973 123.888 172.848 126.156 Q174.746 128.425 174.746 131.758 Q174.746 136.874 171.227 139.675 Q167.709 142.476 161.227 142.476 Q159.052 142.476 156.737 142.036 Q154.445 141.619 151.991 140.763 L151.991 136.249 Q153.936 137.383 156.251 137.962 Q158.565 138.541 161.089 138.541 Q165.487 138.541 167.778 136.805 Q170.093 135.068 170.093 131.758 Q170.093 128.703 167.94 126.99 Q165.811 125.254 161.991 125.254 L157.964 125.254 L157.964 121.411 L162.177 121.411 Q165.626 121.411 167.454 120.045 Q169.283 118.656 169.283 116.064 Q169.283 113.402 167.385 111.99 Q165.51 110.555 161.991 110.555 Q160.07 110.555 157.871 110.971 Q155.672 111.388 153.033 112.268 L153.033 108.101 Q155.695 107.36 158.01 106.99 Q160.348 106.62 162.408 106.62 Q167.732 106.62 170.834 109.05 Q173.936 111.457 173.936 115.578 Q173.936 118.448 172.292 120.439 Q170.649 122.406 167.616 123.17 Z\" fill=\"#000000\" fill-rule=\"evenodd\" fill-opacity=\"1\" /><path clip-path=\"url(#clip450)\" d=\"M29.4065 806.062 L34.9447 806.062 Q33.6716 808.545 33.035 811.219 Q32.3984 813.892 32.3984 816.757 Q32.3984 821.117 33.7352 823.313 Q35.072 825.478 37.7456 825.478 Q39.7826 825.478 40.9603 823.918 Q42.1061 822.358 43.1565 817.648 L43.6021 815.643 Q44.9389 809.404 47.3897 806.794 Q49.8086 804.153 54.1691 804.153 Q59.1344 804.153 62.0308 808.099 Q64.9272 812.014 64.9272 818.889 Q64.9272 821.754 64.3543 824.873 Q63.8132 827.96 62.6992 831.398 L56.6518 831.398 Q58.3387 828.151 59.198 825 Q60.0256 821.849 60.0256 818.762 Q60.0256 814.624 58.6251 812.396 Q57.1929 810.168 54.6147 810.168 Q52.2276 810.168 50.9545 811.791 Q49.6813 813.383 48.5037 818.826 L48.0262 820.863 Q46.8804 826.305 44.5251 828.724 Q42.138 831.143 38.0002 831.143 Q32.9713 831.143 30.2341 827.578 Q27.4968 824.014 27.4968 817.457 Q27.4968 814.21 27.9743 811.346 Q28.4517 808.481 29.4065 806.062 Z\" fill=\"#000000\" fill-rule=\"evenodd\" fill-opacity=\"1\" /><path clip-path=\"url(#clip450)\" d=\"M18.2347 789.034 L28.3562 789.034 L28.3562 776.971 L32.9077 776.971 L32.9077 789.034 L52.2594 789.034 Q56.6199 789.034 57.8613 787.856 Q59.1026 786.647 59.1026 782.987 L59.1026 776.971 L64.0042 776.971 L64.0042 782.987 Q64.0042 789.766 61.4897 792.344 Q58.9434 794.922 52.2594 794.922 L32.9077 794.922 L32.9077 799.219 L28.3562 799.219 L28.3562 794.922 L18.2347 794.922 L18.2347 789.034 Z\" fill=\"#000000\" fill-rule=\"evenodd\" fill-opacity=\"1\" /><path clip-path=\"url(#clip450)\" d=\"M46.0847 753.068 Q46.0847 760.166 47.7079 762.903 Q49.3312 765.64 53.2461 765.64 Q56.3653 765.64 58.2114 763.603 Q60.0256 761.534 60.0256 758.001 Q60.0256 753.131 56.5881 750.203 Q53.1188 747.243 47.3897 747.243 L46.0847 747.243 L46.0847 753.068 M43.6657 741.387 L64.0042 741.387 L64.0042 747.243 L58.5933 747.243 Q61.8398 749.248 63.3994 752.24 Q64.9272 755.232 64.9272 759.561 Q64.9272 765.035 61.8716 768.282 Q58.7843 771.496 53.6281 771.496 Q47.6125 771.496 44.5569 767.486 Q41.5014 763.444 41.5014 755.455 L41.5014 747.243 L40.9285 747.243 Q36.8862 747.243 34.6901 749.917 Q32.4621 752.559 32.4621 757.365 Q32.4621 760.42 33.1941 763.317 Q33.9262 766.213 35.3903 768.887 L29.9795 768.887 Q28.7381 765.672 28.1334 762.648 Q27.4968 759.624 27.4968 756.76 Q27.4968 749.026 31.5072 745.206 Q35.5176 741.387 43.6657 741.387 Z\" fill=\"#000000\" fill-rule=\"evenodd\" fill-opacity=\"1\" /><path clip-path=\"url(#clip450)\" d=\"M18.2347 723.531 L28.3562 723.531 L28.3562 711.468 L32.9077 711.468 L32.9077 723.531 L52.2594 723.531 Q56.6199 723.531 57.8613 722.353 Q59.1026 721.144 59.1026 717.483 L59.1026 711.468 L64.0042 711.468 L64.0042 717.483 Q64.0042 724.263 61.4897 726.841 Q58.9434 729.419 52.2594 729.419 L32.9077 729.419 L32.9077 733.716 L28.3562 733.716 L28.3562 729.419 L18.2347 729.419 L18.2347 723.531 Z\" fill=\"#000000\" fill-rule=\"evenodd\" fill-opacity=\"1\" /><path clip-path=\"url(#clip450)\" d=\"M44.7161 673.274 L47.5806 673.274 L47.5806 700.201 Q53.6281 699.819 56.8109 696.572 Q59.9619 693.294 59.9619 687.469 Q59.9619 684.095 59.1344 680.944 Q58.3069 677.761 56.6518 674.642 L62.1899 674.642 Q63.5267 677.793 64.227 681.103 Q64.9272 684.414 64.9272 687.819 Q64.9272 696.349 59.9619 701.346 Q54.9967 706.312 46.5303 706.312 Q37.7774 706.312 32.6531 701.601 Q27.4968 696.859 27.4968 688.838 Q27.4968 681.645 32.1438 677.475 Q36.7589 673.274 44.7161 673.274 M42.9973 679.13 Q38.1912 679.194 35.3266 681.836 Q32.4621 684.445 32.4621 688.774 Q32.4621 693.676 35.2312 696.636 Q38.0002 699.564 43.0292 700.01 L42.9973 679.13 Z\" fill=\"#000000\" fill-rule=\"evenodd\" fill-opacity=\"1\" /><path clip-path=\"url(#clip450)\" d=\"M29.4065 640.936 L34.9447 640.936 Q33.6716 643.418 33.035 646.092 Q32.3984 648.766 32.3984 651.63 Q32.3984 655.991 33.7352 658.187 Q35.072 660.351 37.7456 660.351 Q39.7826 660.351 40.9603 658.792 Q42.1061 657.232 43.1565 652.521 L43.6021 650.516 Q44.9389 644.278 47.3897 641.668 Q49.8086 639.026 54.1691 639.026 Q59.1344 639.026 62.0308 642.973 Q64.9272 646.888 64.9272 653.763 Q64.9272 656.627 64.3543 659.747 Q63.8132 662.834 62.6992 666.271 L56.6518 666.271 Q58.3387 663.025 59.198 659.874 Q60.0256 656.723 60.0256 653.635 Q60.0256 649.498 58.6251 647.27 Q57.1929 645.042 54.6147 645.042 Q52.2276 645.042 50.9545 646.665 Q49.6813 648.256 48.5037 653.699 L48.0262 655.736 Q46.8804 661.179 44.5251 663.598 Q42.138 666.017 38.0002 666.017 Q32.9713 666.017 30.2341 662.452 Q27.4968 658.887 27.4968 652.33 Q27.4968 649.084 27.9743 646.219 Q28.4517 643.355 29.4065 640.936 Z\" fill=\"#000000\" fill-rule=\"evenodd\" fill-opacity=\"1\" /><polyline clip-path=\"url(#clip452)\" style=\"stroke:#009af9; stroke-linecap:butt; stroke-linejoin:round; stroke-width:8; stroke-opacity:1; fill:none\" points=\"\n  271.369,936.83 277.142,936.766 282.916,936.574 288.69,936.258 294.463,935.82 300.237,935.265 306.011,934.595 311.784,933.814 317.558,932.928 323.331,931.941 \n  329.105,930.859 334.879,929.685 340.652,928.427 346.426,927.091 352.199,925.681 357.973,924.206 363.747,922.67 369.52,921.083 375.294,919.449 381.067,917.777 \n  386.841,916.073 392.615,914.346 398.388,912.601 404.162,910.848 409.936,909.092 415.709,907.341 421.483,905.604 427.256,903.886 433.03,902.195 438.804,900.538 \n  444.577,898.923 450.351,897.356 456.124,895.843 461.898,894.392 467.672,893.008 473.445,891.699 479.219,890.47 484.993,889.328 490.766,888.278 496.54,887.326 \n  502.313,886.478 508.087,885.739 513.861,885.115 519.634,884.611 525.408,884.232 531.181,883.983 536.955,883.868 542.729,883.891 548.502,884.057 554.276,884.367 \n  560.049,884.82 565.823,885.417 571.597,886.155 577.37,887.035 583.144,888.054 588.918,889.212 594.691,890.508 600.465,891.938 606.238,893.503 612.012,895.199 \n  617.786,897.024 623.559,898.977 629.333,901.055 635.106,903.255 640.88,905.575 646.654,908.011 652.427,910.563 658.201,913.226 663.974,915.998 669.748,918.876 \n  675.522,921.855 681.295,924.927 687.069,928.082 692.843,931.314 698.616,934.615 704.39,937.978 710.163,941.394 715.937,944.857 721.711,948.36 727.484,951.896 \n  733.258,955.46 739.031,959.045 744.805,962.646 750.579,966.259 756.352,969.877 762.126,973.496 767.899,977.113 773.673,980.723 779.447,984.321 785.22,987.905 \n  790.994,991.471 796.768,995.014 802.541,998.532 808.315,1002.02 814.088,1005.48 819.862,1008.9 825.636,1012.28 831.409,1015.62 837.183,1018.9 842.956,1022.14 \n  848.73,1025.32 854.504,1028.44 860.277,1031.49 866.051,1034.48 871.824,1037.38 877.598,1040.2 883.372,1042.93 889.145,1045.57 894.919,1048.1 900.693,1050.52 \n  906.466,1052.83 912.24,1055 918.013,1057.04 923.787,1058.94 929.561,1060.68 935.334,1062.26 941.108,1063.67 946.881,1064.91 952.655,1065.98 958.429,1066.88 \n  964.202,1067.6 969.976,1068.16 975.75,1068.54 981.523,1068.77 987.297,1068.83 993.07,1068.73 998.844,1068.48 1004.62,1068.09 1010.39,1067.56 1016.16,1066.9 \n  1021.94,1066.13 1027.71,1065.24 1033.49,1064.25 1039.26,1063.17 1045.03,1062 1050.81,1060.76 1056.58,1059.45 1062.35,1058.08 1068.13,1056.65 1073.9,1055.17 \n  1079.67,1053.64 1085.45,1052.06 1091.22,1050.43 1097,1048.76 1102.77,1047.06 1108.54,1045.33 1114.32,1043.58 1120.09,1041.82 1125.86,1040.05 1131.64,1038.28 \n  1137.41,1036.51 1143.18,1034.74 1148.96,1032.96 1154.73,1031.19 1160.51,1029.42 1166.28,1027.66 1172.05,1025.89 1177.83,1024.12 1183.6,1022.35 1189.37,1020.58 \n  1195.15,1018.8 1200.92,1017.02 1206.69,1015.22 1212.47,1013.42 1218.24,1011.6 1224.01,1009.77 1229.79,1007.92 1235.56,1006.05 1241.34,1004.17 1247.11,1002.26 \n  1252.88,1000.33 1258.66,998.37 1264.43,996.389 1270.2,994.384 1275.98,992.354 1281.75,990.299 1287.52,988.221 1293.3,986.119 1299.07,983.997 1304.85,981.856 \n  1310.62,979.699 1316.39,977.53 1322.17,975.353 1327.94,973.172 1333.71,970.993 1339.49,968.823 1345.26,966.668 1351.03,964.536 1356.81,962.435 1362.58,960.376 \n  1368.36,958.368 1374.13,956.422 1379.9,954.551 1385.68,952.767 1391.45,951.084 1397.22,949.518 1403,948.082 1408.77,946.794 1414.54,945.672 1420.32,944.731 \n  1426.09,943.991 1431.86,943.462 1437.64,943.147 1443.41,943.048 1449.19,943.166 1454.96,943.498 1460.73,944.041 1466.51,944.79 1472.28,945.734 1478.05,946.862 \n  1483.83,948.159 1489.6,949.608 1495.37,951.19 1501.15,952.884 1506.92,954.67 1512.7,956.528 1518.47,958.438 1524.24,960.383 1530.02,962.348 1535.79,964.322 \n  1541.56,966.295 1547.34,968.259 1553.11,970.211 1558.88,972.149 1564.66,974.07 1570.43,975.974 1576.21,977.836 1581.98,979.629 1587.75,981.344 1593.53,982.972 \n  1599.3,984.509 1605.07,985.948 1610.85,987.287 1616.62,988.523 1622.39,989.655 1628.17,990.68 1633.94,991.6 1639.71,992.413 1645.49,993.121 1651.26,993.723 \n  1657.04,994.222 1662.81,994.619 1668.58,994.915 1674.36,995.112 1680.13,995.212 1685.9,995.217 1691.68,995.13 1697.45,994.953 1703.22,994.688 1709,994.338 \n  1714.77,993.905 1720.55,993.392 1726.32,992.802 1732.09,992.137 1737.87,991.4 1743.64,990.594 1749.41,989.721 1755.19,988.785 1760.96,987.788 1766.73,986.733 \n  1772.51,985.623 1778.28,984.461 1784.06,983.25 1789.83,981.992 1795.6,980.691 1801.38,979.35 1807.15,977.972 1812.92,976.56 1818.7,975.117 1824.47,973.646 \n  1830.24,972.151 1836.02,970.635 1841.79,969.102 1847.56,967.554 1853.34,965.995 1859.11,964.43 1864.89,962.861 1870.66,961.293 1876.43,959.73 1882.21,958.175 \n  1887.98,956.634 1893.75,955.11 1899.53,953.608 1905.3,952.132 1911.07,950.689 1916.85,949.282 1922.62,947.916 1928.4,946.599 1934.17,945.334 1939.94,944.129 \n  1945.72,942.989 1951.49,941.922 1957.26,940.933 1963.04,940.03 1968.81,939.22 1974.58,938.512 1980.36,937.913 1986.13,937.439 1991.91,937.101 1997.68,936.898 \n  2003.45,936.83 \n  \"/>\n<polyline clip-path=\"url(#clip452)\" style=\"stroke:#e26f46; stroke-linecap:butt; stroke-linejoin:round; stroke-width:8; stroke-opacity:1; fill:none\" points=\"\n  271.369,936.83 277.142,936.959 282.916,937.341 288.69,937.972 294.463,938.844 300.237,939.948 306.011,941.274 311.784,942.812 317.558,944.549 323.331,946.474 \n  329.105,948.57 334.879,950.825 340.652,953.221 346.426,955.743 352.199,958.372 357.973,961.091 363.747,963.881 369.52,966.723 375.294,969.597 381.067,972.484 \n  386.841,975.363 392.615,978.215 398.388,981.019 404.162,983.755 409.936,986.403 415.709,988.945 421.483,991.359 427.256,993.629 433.03,995.735 438.804,997.659 \n  444.577,999.385 450.351,1000.9 456.124,1002.18 461.898,1003.21 467.672,1003.98 473.445,1004.48 479.219,1004.69 484.993,1004.61 490.766,1004.21 496.54,1003.49 \n  502.313,1002.44 508.087,1001.05 513.861,999.314 519.634,997.222 525.408,994.768 531.181,991.949 536.955,988.76 542.729,985.197 548.502,981.259 554.276,976.95 \n  560.049,972.279 565.823,967.255 571.597,961.889 577.37,956.194 583.144,950.181 588.918,943.865 594.691,937.262 600.465,930.386 606.238,923.256 612.012,915.89 \n  617.786,908.307 623.559,900.526 629.333,892.569 635.106,884.457 640.88,876.212 646.654,867.857 652.427,859.415 658.201,850.907 663.974,842.359 669.748,833.791 \n  675.522,825.235 681.295,816.722 687.069,808.284 692.843,799.954 698.616,791.76 704.39,783.732 710.163,775.897 715.937,768.282 721.711,760.912 727.484,753.81 \n  733.258,746.997 739.031,740.495 744.805,734.32 750.579,728.491 756.352,723.022 762.126,717.929 767.899,713.224 773.673,708.919 779.447,705.025 785.22,701.551 \n  790.994,698.507 796.768,695.9 802.541,693.737 808.315,692.027 814.088,690.774 819.862,689.984 825.636,689.663 831.409,689.816 837.183,690.448 842.956,691.563 \n  848.73,693.165 854.504,695.26 860.277,697.851 866.051,700.944 871.824,704.542 877.598,708.65 883.372,713.274 889.145,718.419 894.919,724.091 900.693,730.295 \n  906.466,737.038 912.24,744.326 918.013,752.166 923.787,760.566 929.561,769.532 935.334,779.071 941.108,789.184 946.881,799.865 952.655,811.102 958.429,822.884 \n  964.202,835.195 969.976,848.018 975.75,861.331 981.523,875.108 987.297,889.32 993.07,903.933 998.844,918.911 1004.62,934.211 1010.39,949.79 1016.16,965.6 \n  1021.94,981.591 1027.71,997.713 1033.49,1013.91 1039.26,1030.14 1045.03,1046.35 1050.81,1062.49 1056.58,1078.51 1062.35,1094.38 1068.13,1110.04 1073.9,1125.48 \n  1079.67,1140.65 1085.45,1155.53 1091.22,1170.09 1097,1184.31 1102.77,1198.14 1108.54,1211.57 1114.32,1224.57 1120.09,1237.11 1125.86,1249.19 1131.64,1260.78 \n  1137.41,1271.88 1143.18,1282.48 1148.96,1292.57 1154.73,1302.14 1160.51,1311.2 1166.28,1319.73 1172.05,1327.74 1177.83,1335.22 1183.6,1342.18 1189.37,1348.6 \n  1195.15,1354.49 1200.92,1359.86 1206.69,1364.69 1212.47,1368.99 1218.24,1372.76 1224.01,1376 1229.79,1378.7 1235.56,1380.88 1241.34,1382.52 1247.11,1383.62 \n  1252.88,1384.2 1258.66,1384.24 1264.43,1383.75 1270.2,1382.72 1275.98,1381.16 1281.75,1379.06 1287.52,1376.44 1293.3,1373.28 1299.07,1369.59 1304.85,1365.36 \n  1310.62,1360.61 1316.39,1355.32 1322.17,1349.5 1327.94,1343.15 1333.71,1336.28 1339.49,1328.87 1345.26,1320.93 1351.03,1312.46 1356.81,1303.45 1362.58,1293.91 \n  1368.36,1283.83 1374.13,1273.2 1379.9,1262.02 1385.68,1250.28 1391.45,1237.98 1397.22,1225.1 1403,1211.62 1408.77,1197.54 1414.54,1182.83 1420.32,1167.48 \n  1426.09,1151.46 1431.86,1134.77 1437.64,1117.41 1443.41,1099.38 1449.19,1080.7 1454.96,1061.37 1460.73,1041.43 1466.51,1020.91 1472.28,999.855 1478.05,978.321 \n  1483.83,956.372 1489.6,934.082 1495.37,911.531 1501.15,888.807 1506.92,865.995 1512.7,843.182 1518.47,820.451 1524.24,797.877 1530.02,775.528 1535.79,753.463 \n  1541.56,731.732 1547.34,710.378 1553.11,689.434 1558.88,668.928 1564.66,648.884 1570.43,629.321 1576.21,610.274 1581.98,591.772 1587.75,573.823 1593.53,556.43 \n  1599.3,539.592 1605.07,523.302 1610.85,507.551 1616.62,492.328 1622.39,477.62 1628.17,463.413 1633.94,449.691 1639.71,436.438 1645.49,423.638 1651.26,411.275 \n  1657.04,399.333 1662.81,387.794 1668.58,376.643 1674.36,365.864 1680.13,355.442 1685.9,345.363 1691.68,335.611 1697.45,326.173 1703.22,317.036 1709,308.187 \n  1714.77,299.614 1720.55,291.304 1726.32,283.247 1732.09,275.432 1737.87,267.849 1743.64,260.487 1749.41,253.338 1755.19,246.393 1760.96,239.644 1766.73,233.081 \n  1772.51,226.699 1778.28,220.49 1784.06,214.447 1789.83,208.565 1795.6,202.836 1801.38,197.257 1807.15,191.821 1812.92,186.524 1818.7,181.362 1824.47,176.331 \n  1830.24,171.428 1836.02,166.649 1841.79,161.992 1847.56,157.455 1853.34,153.035 1859.11,148.732 1864.89,144.544 1870.66,140.471 1876.43,136.513 1882.21,132.671 \n  1887.98,128.945 1893.75,125.337 1899.53,121.849 1905.3,118.484 1911.07,115.244 1916.85,112.135 1922.62,109.16 1928.4,106.325 1934.17,103.635 1939.94,101.098 \n  1945.72,98.7204 1951.49,96.5116 1957.26,94.4807 1963.04,92.6379 1968.81,90.9948 1974.58,89.5637 1980.36,88.3583 1986.13,87.4063 1991.91,86.7276 1997.68,86.3211 \n  2003.45,86.1857 \n  \"/>\n<polyline clip-path=\"url(#clip452)\" style=\"stroke:#3da44d; stroke-linecap:butt; stroke-linejoin:round; stroke-width:8; stroke-opacity:1; fill:none\" points=\"\n  271.369,936.83 277.142,936.766 282.916,936.574 288.69,936.258 294.463,935.82 300.237,935.265 306.011,934.595 311.784,933.814 317.558,932.928 323.331,931.941 \n  329.105,930.859 334.879,929.685 340.652,928.427 346.426,927.091 352.199,925.681 357.973,924.206 363.747,922.67 369.52,921.083 375.294,919.449 381.067,917.777 \n  386.841,916.073 392.615,914.346 398.388,912.601 404.162,910.848 409.936,909.092 415.709,907.341 421.483,905.604 427.256,903.886 433.03,902.195 438.804,900.538 \n  444.577,898.923 450.351,897.356 456.124,895.843 461.898,894.392 467.672,893.008 473.445,891.699 479.219,890.47 484.993,889.328 490.766,888.278 496.54,887.326 \n  502.313,886.478 508.087,885.739 513.861,885.115 519.634,884.611 525.408,884.232 531.181,883.983 536.955,883.868 542.729,883.891 548.502,884.057 554.276,884.367 \n  560.049,884.82 565.823,885.417 571.597,886.155 577.37,887.035 583.144,888.054 588.918,889.212 594.691,890.508 600.465,891.938 606.238,893.503 612.012,895.199 \n  617.786,897.024 623.559,898.977 629.333,901.055 635.106,903.255 640.88,905.575 646.654,908.011 652.427,910.563 658.201,913.226 663.974,915.998 669.748,918.876 \n  675.522,921.855 681.295,924.927 687.069,928.082 692.843,931.314 698.616,934.615 704.39,937.978 710.163,941.394 715.937,944.857 721.711,948.36 727.484,951.896 \n  733.258,955.46 739.031,959.045 744.805,962.646 750.579,966.259 756.352,969.877 762.126,973.496 767.899,977.113 773.673,980.723 779.447,984.321 785.22,987.905 \n  790.994,991.471 796.768,995.014 802.541,998.532 808.315,1002.02 814.088,1005.48 819.862,1008.9 825.636,1012.28 831.409,1015.62 837.183,1018.9 842.956,1022.14 \n  848.73,1025.32 854.504,1028.44 860.277,1031.49 866.051,1034.48 871.824,1037.38 877.598,1040.2 883.372,1042.93 889.145,1045.57 894.919,1048.1 900.693,1050.52 \n  906.466,1052.83 912.24,1055 918.013,1057.04 923.787,1058.94 929.561,1060.68 935.334,1062.26 941.108,1063.67 946.881,1064.91 952.655,1065.98 958.429,1066.88 \n  964.202,1067.6 969.976,1068.16 975.75,1068.54 981.523,1068.77 987.297,1068.83 993.07,1068.73 998.844,1068.48 1004.62,1068.09 1010.39,1067.56 1016.16,1066.9 \n  1021.94,1066.13 1027.71,1065.24 1033.49,1064.25 1039.26,1063.17 1045.03,1062 1050.81,1060.76 1056.58,1059.45 1062.35,1058.08 1068.13,1056.65 1073.9,1055.17 \n  1079.67,1053.64 1085.45,1052.06 1091.22,1050.43 1097,1048.76 1102.77,1047.06 1108.54,1045.33 1114.32,1043.58 1120.09,1041.82 1125.86,1040.05 1131.64,1038.28 \n  1137.41,1036.51 1143.18,1034.74 1148.96,1032.96 1154.73,1031.19 1160.51,1029.42 1166.28,1027.66 1172.05,1025.89 1177.83,1024.12 1183.6,1022.35 1189.37,1020.58 \n  1195.15,1018.8 1200.92,1017.02 1206.69,1015.22 1212.47,1013.42 1218.24,1011.6 1224.01,1009.77 1229.79,1007.92 1235.56,1006.05 1241.34,1004.17 1247.11,1002.26 \n  1252.88,1000.33 1258.66,998.37 1264.43,996.389 1270.2,994.384 1275.98,992.354 1281.75,990.299 1287.52,988.221 1293.3,986.119 1299.07,983.997 1304.85,981.856 \n  1310.62,979.699 1316.39,977.53 1322.17,975.353 1327.94,973.172 1333.71,970.993 1339.49,968.823 1345.26,966.668 1351.03,964.536 1356.81,962.435 1362.58,960.376 \n  1368.36,958.368 1374.13,956.422 1379.9,954.551 1385.68,952.767 1391.45,951.084 1397.22,949.518 1403,948.082 1408.77,946.794 1414.54,945.672 1420.32,944.731 \n  1426.09,943.992 1431.86,943.462 1437.64,943.147 1443.41,943.048 1449.19,943.166 1454.96,943.498 1460.73,944.041 1466.51,944.79 1472.28,945.734 1478.05,946.862 \n  1483.83,948.159 1489.6,949.608 1495.37,951.19 1501.15,952.884 1506.92,954.67 1512.7,956.528 1518.47,958.438 1524.24,960.383 1530.02,962.348 1535.79,964.322 \n  1541.56,966.295 1547.34,968.259 1553.11,970.211 1558.88,972.149 1564.66,974.07 1570.43,975.974 1576.21,977.836 1581.98,979.629 1587.75,981.344 1593.53,982.972 \n  1599.3,984.509 1605.07,985.948 1610.85,987.287 1616.62,988.523 1622.39,989.655 1628.17,990.68 1633.94,991.6 1639.71,992.413 1645.49,993.121 1651.26,993.723 \n  1657.04,994.222 1662.81,994.619 1668.58,994.915 1674.36,995.112 1680.13,995.212 1685.9,995.217 1691.68,995.13 1697.45,994.953 1703.22,994.688 1709,994.338 \n  1714.77,993.905 1720.55,993.392 1726.32,992.802 1732.09,992.137 1737.87,991.4 1743.64,990.594 1749.41,989.721 1755.19,988.785 1760.96,987.788 1766.73,986.733 \n  1772.51,985.623 1778.28,984.461 1784.06,983.25 1789.83,981.992 1795.6,980.691 1801.38,979.35 1807.15,977.972 1812.92,976.56 1818.7,975.117 1824.47,973.647 \n  1830.24,972.152 1836.02,970.635 1841.79,969.102 1847.56,967.554 1853.34,965.995 1859.11,964.43 1864.89,962.861 1870.66,961.294 1876.43,959.73 1882.21,958.176 \n  1887.98,956.634 1893.75,955.11 1899.53,953.608 1905.3,952.133 1911.07,950.689 1916.85,949.282 1922.62,947.917 1928.4,946.599 1934.17,945.335 1939.94,944.13 \n  1945.72,942.99 1951.49,941.922 1957.26,940.933 1963.04,940.031 1968.81,939.221 1974.58,938.513 1980.36,937.915 1986.13,937.441 1991.91,937.102 1997.68,936.899 \n  2003.45,936.831 2009.23,936.831 2015,936.831 2020.77,936.832 2026.55,936.832 2032.32,936.832 2038.09,936.832 2043.87,936.832 2049.64,936.832 2055.41,936.832 \n  2061.19,936.832 2066.96,936.832 2072.74,936.832 2078.51,936.832 2084.28,936.832 2090.06,936.832 2095.83,936.833 2101.6,936.833 2107.38,936.833 2113.15,936.833 \n  2118.92,936.833 2124.7,936.833 2130.47,936.833 2136.25,936.833 2142.02,936.834 2147.79,936.834 2153.57,936.834 2159.34,936.834 2165.11,936.834 2170.89,936.834 \n  2176.66,936.835 2182.43,936.835 2188.21,936.835 2193.98,936.835 2199.76,936.835 2205.53,936.836 2211.3,936.836 2217.08,936.836 2222.85,936.836 2228.62,936.837 \n  2234.4,936.837 2240.17,936.837 2245.94,936.837 2251.72,936.838 2257.49,936.838 2263.26,936.839 2269.04,936.839 2274.81,936.839 2280.59,936.84 2286.36,936.84 \n  2292.13,936.841 \n  \"/>\n<polyline clip-path=\"url(#clip452)\" style=\"stroke:#c271d2; stroke-linecap:butt; stroke-linejoin:round; stroke-width:8; stroke-opacity:1; fill:none\" points=\"\n  271.369,936.83 277.142,936.959 282.916,937.341 288.69,937.972 294.463,938.844 300.237,939.948 306.011,941.274 311.784,942.812 317.558,944.549 323.331,946.474 \n  329.105,948.57 334.879,950.825 340.652,953.221 346.426,955.743 352.199,958.372 357.973,961.091 363.747,963.881 369.52,966.723 375.294,969.597 381.067,972.484 \n  386.841,975.363 392.615,978.215 398.388,981.019 404.162,983.755 409.936,986.403 415.709,988.945 421.483,991.359 427.256,993.629 433.03,995.735 438.804,997.659 \n  444.577,999.385 450.351,1000.9 456.124,1002.18 461.898,1003.21 467.672,1003.98 473.445,1004.48 479.219,1004.69 484.993,1004.61 490.766,1004.21 496.54,1003.49 \n  502.313,1002.44 508.087,1001.05 513.861,999.314 519.634,997.222 525.408,994.768 531.181,991.949 536.955,988.76 542.729,985.197 548.502,981.259 554.276,976.95 \n  560.049,972.279 565.823,967.255 571.597,961.889 577.37,956.194 583.144,950.181 588.918,943.865 594.691,937.262 600.465,930.386 606.238,923.256 612.012,915.89 \n  617.786,908.307 623.559,900.526 629.333,892.569 635.106,884.457 640.88,876.212 646.654,867.857 652.427,859.415 658.201,850.907 663.974,842.359 669.748,833.791 \n  675.522,825.235 681.295,816.722 687.069,808.284 692.843,799.954 698.616,791.76 704.39,783.732 710.163,775.897 715.937,768.282 721.711,760.912 727.484,753.81 \n  733.258,746.997 739.031,740.495 744.805,734.32 750.579,728.491 756.352,723.022 762.126,717.929 767.899,713.224 773.673,708.919 779.447,705.025 785.22,701.551 \n  790.994,698.507 796.768,695.9 802.541,693.737 808.315,692.027 814.088,690.774 819.862,689.984 825.636,689.663 831.409,689.816 837.183,690.448 842.956,691.563 \n  848.73,693.165 854.504,695.26 860.277,697.851 866.051,700.944 871.824,704.542 877.598,708.65 883.372,713.274 889.145,718.419 894.919,724.091 900.693,730.295 \n  906.466,737.038 912.24,744.326 918.013,752.166 923.787,760.566 929.561,769.532 935.334,779.071 941.108,789.184 946.881,799.865 952.655,811.102 958.429,822.884 \n  964.202,835.195 969.976,848.018 975.75,861.331 981.523,875.108 987.297,889.32 993.07,903.933 998.844,918.911 1004.62,934.211 1010.39,949.79 1016.16,965.6 \n  1021.94,981.591 1027.71,997.713 1033.49,1013.91 1039.26,1030.14 1045.03,1046.35 1050.81,1062.49 1056.58,1078.51 1062.35,1094.38 1068.13,1110.04 1073.9,1125.48 \n  1079.67,1140.65 1085.45,1155.53 1091.22,1170.09 1097,1184.31 1102.77,1198.14 1108.54,1211.57 1114.32,1224.57 1120.09,1237.11 1125.86,1249.19 1131.64,1260.78 \n  1137.41,1271.88 1143.18,1282.48 1148.96,1292.57 1154.73,1302.14 1160.51,1311.2 1166.28,1319.73 1172.05,1327.74 1177.83,1335.22 1183.6,1342.18 1189.37,1348.6 \n  1195.15,1354.49 1200.92,1359.86 1206.69,1364.69 1212.47,1368.99 1218.24,1372.76 1224.01,1376 1229.79,1378.7 1235.56,1380.88 1241.34,1382.52 1247.11,1383.62 \n  1252.88,1384.2 1258.66,1384.24 1264.43,1383.75 1270.2,1382.72 1275.98,1381.16 1281.75,1379.06 1287.52,1376.44 1293.3,1373.28 1299.07,1369.59 1304.85,1365.36 \n  1310.62,1360.61 1316.39,1355.32 1322.17,1349.5 1327.94,1343.15 1333.71,1336.28 1339.49,1328.87 1345.26,1320.93 1351.03,1312.46 1356.81,1303.45 1362.58,1293.91 \n  1368.36,1283.83 1374.13,1273.2 1379.9,1262.02 1385.68,1250.28 1391.45,1237.98 1397.22,1225.1 1403,1211.62 1408.77,1197.54 1414.54,1182.83 1420.32,1167.48 \n  1426.09,1151.46 1431.86,1134.77 1437.64,1117.41 1443.41,1099.38 1449.19,1080.7 1454.96,1061.37 1460.73,1041.43 1466.51,1020.91 1472.28,999.855 1478.05,978.321 \n  1483.83,956.372 1489.6,934.082 1495.37,911.531 1501.15,888.807 1506.92,865.995 1512.7,843.182 1518.47,820.451 1524.24,797.877 1530.02,775.528 1535.79,753.463 \n  1541.56,731.732 1547.34,710.378 1553.11,689.434 1558.88,668.928 1564.66,648.884 1570.43,629.321 1576.21,610.274 1581.98,591.772 1587.75,573.823 1593.53,556.43 \n  1599.3,539.592 1605.07,523.302 1610.85,507.551 1616.62,492.328 1622.39,477.62 1628.17,463.413 1633.94,449.691 1639.71,436.438 1645.49,423.638 1651.26,411.276 \n  1657.04,399.333 1662.81,387.794 1668.58,376.643 1674.36,365.864 1680.13,355.442 1685.9,345.363 1691.68,335.611 1697.45,326.174 1703.22,317.036 1709,308.187 \n  1714.77,299.614 1720.55,291.304 1726.32,283.247 1732.09,275.432 1737.87,267.849 1743.64,260.487 1749.41,253.339 1755.19,246.393 1760.96,239.644 1766.73,233.082 \n  1772.51,226.7 1778.28,220.491 1784.06,214.448 1789.83,208.565 1795.6,202.837 1801.38,197.257 1807.15,191.821 1812.92,186.525 1818.7,181.363 1824.47,176.332 \n  1830.24,171.429 1836.02,166.65 1841.79,161.993 1847.56,157.456 1853.34,153.036 1859.11,148.733 1864.89,144.545 1870.66,140.472 1876.43,136.515 1882.21,132.672 \n  1887.98,128.946 1893.75,125.338 1899.53,121.851 1905.3,118.485 1911.07,115.246 1916.85,112.137 1922.62,109.162 1928.4,106.327 1934.17,103.637 1939.94,101.1 \n  1945.72,98.7231 1951.49,96.5145 1957.26,94.4837 1963.04,92.6412 1968.81,90.9982 1974.58,89.5674 1980.36,88.3622 1986.13,87.4104 1991.91,86.732 1997.68,86.3256 \n  2003.45,86.1905 2009.23,86.1908 2015,86.1911 2020.77,86.1914 2026.55,86.1917 2032.32,86.192 2038.09,86.1924 2043.87,86.1927 2049.64,86.1931 2055.41,86.1935 \n  2061.19,86.1939 2066.96,86.1944 2072.74,86.1949 2078.51,86.1954 2084.28,86.1959 2090.06,86.1964 2095.83,86.197 2101.6,86.1976 2107.38,86.1983 2113.15,86.1989 \n  2118.92,86.1996 2124.7,86.2004 2130.47,86.2012 2136.25,86.202 2142.02,86.2029 2147.79,86.2038 2153.57,86.2047 2159.34,86.2058 2165.11,86.2068 2170.89,86.2079 \n  2176.66,86.2091 2182.43,86.2104 2188.21,86.2117 2193.98,86.2131 2199.76,86.2145 2205.53,86.2161 2211.3,86.2177 2217.08,86.2194 2222.85,86.2211 2228.62,86.223 \n  2234.4,86.225 2240.17,86.2271 2245.94,86.2293 2251.72,86.2316 2257.49,86.234 2263.26,86.2366 2269.04,86.2393 2274.81,86.2421 2280.59,86.2451 2286.36,86.2483 \n  2292.13,86.2516 \n  \"/>\n<path clip-path=\"url(#clip450)\" d=\"\nM790.31 352.309 L1329.35 352.309 L1329.35 93.1086 L790.31 93.1086  Z\n  \" fill=\"#ffffff\" fill-rule=\"evenodd\" fill-opacity=\"1\"/>\n<polyline clip-path=\"url(#clip450)\" style=\"stroke:#000000; stroke-linecap:butt; stroke-linejoin:round; stroke-width:4; stroke-opacity:1; fill:none\" points=\"\n  790.31,352.309 1329.35,352.309 1329.35,93.1086 790.31,93.1086 790.31,352.309 \n  \"/>\n<polyline clip-path=\"url(#clip450)\" style=\"stroke:#009af9; stroke-linecap:butt; stroke-linejoin:round; stroke-width:4; stroke-opacity:1; fill:none\" points=\"\n  814.11,144.949 956.911,144.949 \n  \"/>\n<path clip-path=\"url(#clip450)\" d=\"M1005.36 136.303 L995.989 148.919 L1005.85 162.229 L1000.83 162.229 L993.28 152.043 L985.734 162.229 L980.711 162.229 L990.78 148.664 L981.567 136.303 L986.59 136.303 L993.465 145.539 L1000.34 136.303 L1005.36 136.303 Z\" fill=\"#000000\" fill-rule=\"evenodd\" fill-opacity=\"1\" /><path clip-path=\"url(#clip450)\" d=\"M1037.17 126.257 Q1034.07 131.581 1032.56 136.789 Q1031.06 141.997 1031.06 147.344 Q1031.06 152.692 1032.56 157.946 Q1034.09 163.178 1037.17 168.479 L1033.47 168.479 Q1029.99 163.039 1028.26 157.784 Q1026.54 152.53 1026.54 147.344 Q1026.54 142.182 1028.26 136.951 Q1029.97 131.72 1033.47 126.257 L1037.17 126.257 Z\" fill=\"#000000\" fill-rule=\"evenodd\" fill-opacity=\"1\" /><path clip-path=\"url(#clip450)\" d=\"M1060.46 140.284 Q1059.74 139.868 1058.88 139.682 Q1058.05 139.474 1057.03 139.474 Q1053.42 139.474 1051.47 141.835 Q1049.55 144.173 1049.55 148.571 L1049.55 162.229 L1045.27 162.229 L1045.27 136.303 L1049.55 136.303 L1049.55 140.331 Q1050.9 137.969 1053.05 136.835 Q1055.2 135.678 1058.28 135.678 Q1058.72 135.678 1059.25 135.747 Q1059.78 135.794 1060.43 135.909 L1060.46 140.284 Z\" fill=\"#000000\" fill-rule=\"evenodd\" fill-opacity=\"1\" /><path clip-path=\"url(#clip450)\" d=\"M1086.06 148.201 L1086.06 150.284 L1066.47 150.284 Q1066.75 154.682 1069.11 156.997 Q1071.5 159.289 1075.73 159.289 Q1078.19 159.289 1080.48 158.687 Q1082.79 158.085 1085.06 156.881 L1085.06 160.909 Q1082.77 161.881 1080.36 162.391 Q1077.96 162.9 1075.48 162.9 Q1069.28 162.9 1065.64 159.289 Q1062.03 155.678 1062.03 149.52 Q1062.03 143.155 1065.46 139.428 Q1068.9 135.678 1074.74 135.678 Q1079.97 135.678 1083 139.057 Q1086.06 142.414 1086.06 148.201 M1081.8 146.951 Q1081.75 143.456 1079.83 141.372 Q1077.93 139.289 1074.78 139.289 Q1071.22 139.289 1069.07 141.303 Q1066.94 143.317 1066.61 146.974 L1081.8 146.951 Z\" fill=\"#000000\" fill-rule=\"evenodd\" fill-opacity=\"1\" /><path clip-path=\"url(#clip450)\" d=\"M1106.17 126.21 L1106.17 129.752 L1102.1 129.752 Q1099.81 129.752 1098.9 130.678 Q1098.03 131.604 1098.03 134.011 L1098.03 136.303 L1105.04 136.303 L1105.04 139.613 L1098.03 139.613 L1098.03 162.229 L1093.74 162.229 L1093.74 139.613 L1089.67 139.613 L1089.67 136.303 L1093.74 136.303 L1093.74 134.497 Q1093.74 130.169 1095.76 128.201 Q1097.77 126.21 1102.15 126.21 L1106.17 126.21 Z\" fill=\"#000000\" fill-rule=\"evenodd\" fill-opacity=\"1\" /><path clip-path=\"url(#clip450)\" d=\"M1131.91 148.201 L1131.91 150.284 L1112.33 150.284 Q1112.61 154.682 1114.97 156.997 Q1117.35 159.289 1121.59 159.289 Q1124.04 159.289 1126.34 158.687 Q1128.65 158.085 1130.92 156.881 L1130.92 160.909 Q1128.63 161.881 1126.22 162.391 Q1123.81 162.9 1121.34 162.9 Q1115.13 162.9 1111.5 159.289 Q1107.89 155.678 1107.89 149.52 Q1107.89 143.155 1111.31 139.428 Q1114.76 135.678 1120.59 135.678 Q1125.83 135.678 1128.86 139.057 Q1131.91 142.414 1131.91 148.201 M1127.65 146.951 Q1127.61 143.456 1125.69 141.372 Q1123.79 139.289 1120.64 139.289 Q1117.08 139.289 1114.92 141.303 Q1112.79 143.317 1112.47 146.974 L1127.65 146.951 Z\" fill=\"#000000\" fill-rule=\"evenodd\" fill-opacity=\"1\" /><path clip-path=\"url(#clip450)\" d=\"M1153.93 140.284 Q1153.21 139.868 1152.35 139.682 Q1151.52 139.474 1150.5 139.474 Q1146.89 139.474 1144.95 141.835 Q1143.02 144.173 1143.02 148.571 L1143.02 162.229 L1138.74 162.229 L1138.74 136.303 L1143.02 136.303 L1143.02 140.331 Q1144.37 137.969 1146.52 136.835 Q1148.67 135.678 1151.75 135.678 Q1152.19 135.678 1152.72 135.747 Q1153.26 135.794 1153.9 135.909 L1153.93 140.284 Z\" fill=\"#000000\" fill-rule=\"evenodd\" fill-opacity=\"1\" /><path clip-path=\"url(#clip450)\" d=\"M1179.53 148.201 L1179.53 150.284 L1159.95 150.284 Q1160.22 154.682 1162.58 156.997 Q1164.97 159.289 1169.21 159.289 Q1171.66 159.289 1173.95 158.687 Q1176.27 158.085 1178.53 156.881 L1178.53 160.909 Q1176.24 161.881 1173.83 162.391 Q1171.43 162.9 1168.95 162.9 Q1162.75 162.9 1159.11 159.289 Q1155.5 155.678 1155.5 149.52 Q1155.5 143.155 1158.93 139.428 Q1162.38 135.678 1168.21 135.678 Q1173.44 135.678 1176.47 139.057 Q1179.53 142.414 1179.53 148.201 M1175.27 146.951 Q1175.22 143.456 1173.3 141.372 Q1171.4 139.289 1168.26 139.289 Q1164.69 139.289 1162.54 141.303 Q1160.41 143.317 1160.08 146.974 L1175.27 146.951 Z\" fill=\"#000000\" fill-rule=\"evenodd\" fill-opacity=\"1\" /><path clip-path=\"url(#clip450)\" d=\"M1208.07 146.581 L1208.07 162.229 L1203.81 162.229 L1203.81 146.719 Q1203.81 143.039 1202.38 141.21 Q1200.94 139.382 1198.07 139.382 Q1194.62 139.382 1192.63 141.581 Q1190.64 143.78 1190.64 147.576 L1190.64 162.229 L1186.36 162.229 L1186.36 136.303 L1190.64 136.303 L1190.64 140.331 Q1192.17 137.993 1194.23 136.835 Q1196.31 135.678 1199.02 135.678 Q1203.49 135.678 1205.78 138.456 Q1208.07 141.21 1208.07 146.581 Z\" fill=\"#000000\" fill-rule=\"evenodd\" fill-opacity=\"1\" /><path clip-path=\"url(#clip450)\" d=\"M1235.22 137.298 L1235.22 141.28 Q1233.42 140.284 1231.59 139.798 Q1229.78 139.289 1227.93 139.289 Q1223.79 139.289 1221.5 141.928 Q1219.2 144.544 1219.2 149.289 Q1219.2 154.034 1221.5 156.673 Q1223.79 159.289 1227.93 159.289 Q1229.78 159.289 1231.59 158.803 Q1233.42 158.293 1235.22 157.298 L1235.22 161.233 Q1233.44 162.067 1231.52 162.483 Q1229.62 162.9 1227.47 162.9 Q1221.61 162.9 1218.16 159.219 Q1214.71 155.539 1214.71 149.289 Q1214.71 142.946 1218.19 139.312 Q1221.68 135.678 1227.75 135.678 Q1229.71 135.678 1231.59 136.095 Q1233.46 136.488 1235.22 137.298 Z\" fill=\"#000000\" fill-rule=\"evenodd\" fill-opacity=\"1\" /><path clip-path=\"url(#clip450)\" d=\"M1264.81 148.201 L1264.81 150.284 L1245.22 150.284 Q1245.5 154.682 1247.86 156.997 Q1250.25 159.289 1254.48 159.289 Q1256.94 159.289 1259.23 158.687 Q1261.54 158.085 1263.81 156.881 L1263.81 160.909 Q1261.52 161.881 1259.11 162.391 Q1256.7 162.9 1254.23 162.9 Q1248.02 162.9 1244.39 159.289 Q1240.78 155.678 1240.78 149.52 Q1240.78 143.155 1244.2 139.428 Q1247.65 135.678 1253.49 135.678 Q1258.72 135.678 1261.75 139.057 Q1264.81 142.414 1264.81 148.201 M1260.55 146.951 Q1260.5 143.456 1258.58 141.372 Q1256.68 139.289 1253.53 139.289 Q1249.97 139.289 1247.82 141.303 Q1245.69 143.317 1245.36 146.974 L1260.55 146.951 Z\" fill=\"#000000\" fill-rule=\"evenodd\" fill-opacity=\"1\" /><path clip-path=\"url(#clip450)\" d=\"M1271.13 126.257 L1274.83 126.257 Q1278.3 131.72 1280.01 136.951 Q1281.75 142.182 1281.75 147.344 Q1281.75 152.53 1280.01 157.784 Q1278.3 163.039 1274.83 168.479 L1271.13 168.479 Q1274.2 163.178 1275.71 157.946 Q1277.24 152.692 1277.24 147.344 Q1277.24 141.997 1275.71 136.789 Q1274.2 131.581 1271.13 126.257 Z\" fill=\"#000000\" fill-rule=\"evenodd\" fill-opacity=\"1\" /><polyline clip-path=\"url(#clip450)\" style=\"stroke:#e26f46; stroke-linecap:butt; stroke-linejoin:round; stroke-width:4; stroke-opacity:1; fill:none\" points=\"\n  814.11,196.789 956.911,196.789 \n  \"/>\n<path clip-path=\"url(#clip450)\" d=\"M999.97 197.634 L985.225 197.634 Q985.572 204.555 987.169 207.495 Q989.16 211.106 992.609 211.106 Q996.081 211.106 998.002 207.471 Q999.692 204.277 999.97 197.634 M999.901 193.698 Q999.252 187.124 998.002 184.81 Q996.012 181.152 992.609 181.152 Q989.067 181.152 987.192 184.763 Q985.711 187.68 985.271 193.698 L999.901 193.698 M992.609 177.68 Q998.164 177.68 1001.34 182.587 Q1004.51 187.472 1004.51 196.129 Q1004.51 204.763 1001.34 209.67 Q998.164 214.601 992.609 214.601 Q987.03 214.601 983.882 209.67 Q980.711 204.763 980.711 196.129 Q980.711 187.472 983.882 182.587 Q987.03 177.68 992.609 177.68 Z\" fill=\"#000000\" fill-rule=\"evenodd\" fill-opacity=\"1\" /><path clip-path=\"url(#clip450)\" d=\"M1036.87 178.097 Q1033.77 183.421 1032.26 188.629 Q1030.76 193.837 1030.76 199.184 Q1030.76 204.532 1032.26 209.786 Q1033.79 215.018 1036.87 220.319 L1033.16 220.319 Q1029.69 214.879 1027.96 209.624 Q1026.24 204.37 1026.24 199.184 Q1026.24 194.022 1027.96 188.791 Q1029.67 183.56 1033.16 178.097 L1036.87 178.097 Z\" fill=\"#000000\" fill-rule=\"evenodd\" fill-opacity=\"1\" /><path clip-path=\"url(#clip450)\" d=\"M1060.15 192.124 Q1059.44 191.708 1058.58 191.522 Q1057.75 191.314 1056.73 191.314 Q1053.12 191.314 1051.17 193.675 Q1049.25 196.013 1049.25 200.411 L1049.25 214.069 L1044.97 214.069 L1044.97 188.143 L1049.25 188.143 L1049.25 192.171 Q1050.59 189.809 1052.75 188.675 Q1054.9 187.518 1057.98 187.518 Q1058.42 187.518 1058.95 187.587 Q1059.48 187.634 1060.13 187.749 L1060.15 192.124 Z\" fill=\"#000000\" fill-rule=\"evenodd\" fill-opacity=\"1\" /><path clip-path=\"url(#clip450)\" d=\"M1085.76 200.041 L1085.76 202.124 L1066.17 202.124 Q1066.45 206.522 1068.81 208.837 Q1071.2 211.129 1075.43 211.129 Q1077.89 211.129 1080.18 210.527 Q1082.49 209.925 1084.76 208.721 L1084.76 212.749 Q1082.47 213.721 1080.06 214.231 Q1077.65 214.74 1075.18 214.74 Q1068.97 214.74 1065.34 211.129 Q1061.73 207.518 1061.73 201.36 Q1061.73 194.995 1065.15 191.268 Q1068.6 187.518 1074.44 187.518 Q1079.67 187.518 1082.7 190.897 Q1085.76 194.254 1085.76 200.041 M1081.5 198.791 Q1081.45 195.296 1079.53 193.212 Q1077.63 191.129 1074.48 191.129 Q1070.92 191.129 1068.77 193.143 Q1066.64 195.157 1066.31 198.814 L1081.5 198.791 Z\" fill=\"#000000\" fill-rule=\"evenodd\" fill-opacity=\"1\" /><path clip-path=\"url(#clip450)\" d=\"M1105.87 178.05 L1105.87 181.592 L1101.8 181.592 Q1099.51 181.592 1098.6 182.518 Q1097.72 183.444 1097.72 185.851 L1097.72 188.143 L1104.74 188.143 L1104.74 191.453 L1097.72 191.453 L1097.72 214.069 L1093.44 214.069 L1093.44 191.453 L1089.37 191.453 L1089.37 188.143 L1093.44 188.143 L1093.44 186.337 Q1093.44 182.009 1095.46 180.041 Q1097.47 178.05 1101.84 178.05 L1105.87 178.05 Z\" fill=\"#000000\" fill-rule=\"evenodd\" fill-opacity=\"1\" /><path clip-path=\"url(#clip450)\" d=\"M1131.61 200.041 L1131.61 202.124 L1112.03 202.124 Q1112.31 206.522 1114.67 208.837 Q1117.05 211.129 1121.29 211.129 Q1123.74 211.129 1126.03 210.527 Q1128.35 209.925 1130.62 208.721 L1130.62 212.749 Q1128.33 213.721 1125.92 214.231 Q1123.51 214.74 1121.03 214.74 Q1114.83 214.74 1111.2 211.129 Q1107.59 207.518 1107.59 201.36 Q1107.59 194.995 1111.01 191.268 Q1114.46 187.518 1120.29 187.518 Q1125.52 187.518 1128.56 190.897 Q1131.61 194.254 1131.61 200.041 M1127.35 198.791 Q1127.31 195.296 1125.39 193.212 Q1123.49 191.129 1120.34 191.129 Q1116.77 191.129 1114.62 193.143 Q1112.49 195.157 1112.17 198.814 L1127.35 198.791 Z\" fill=\"#000000\" fill-rule=\"evenodd\" fill-opacity=\"1\" /><path clip-path=\"url(#clip450)\" d=\"M1153.63 192.124 Q1152.91 191.708 1152.05 191.522 Q1151.22 191.314 1150.2 191.314 Q1146.59 191.314 1144.65 193.675 Q1142.72 196.013 1142.72 200.411 L1142.72 214.069 L1138.44 214.069 L1138.44 188.143 L1142.72 188.143 L1142.72 192.171 Q1144.07 189.809 1146.22 188.675 Q1148.37 187.518 1151.45 187.518 Q1151.89 187.518 1152.42 187.587 Q1152.96 187.634 1153.6 187.749 L1153.63 192.124 Z\" fill=\"#000000\" fill-rule=\"evenodd\" fill-opacity=\"1\" /><path clip-path=\"url(#clip450)\" d=\"M1179.23 200.041 L1179.23 202.124 L1159.65 202.124 Q1159.92 206.522 1162.28 208.837 Q1164.67 211.129 1168.9 211.129 Q1171.36 211.129 1173.65 210.527 Q1175.96 209.925 1178.23 208.721 L1178.23 212.749 Q1175.94 213.721 1173.53 214.231 Q1171.13 214.74 1168.65 214.74 Q1162.45 214.74 1158.81 211.129 Q1155.2 207.518 1155.2 201.36 Q1155.2 194.995 1158.63 191.268 Q1162.08 187.518 1167.91 187.518 Q1173.14 187.518 1176.17 190.897 Q1179.23 194.254 1179.23 200.041 M1174.97 198.791 Q1174.92 195.296 1173 193.212 Q1171.1 191.129 1167.96 191.129 Q1164.39 191.129 1162.24 193.143 Q1160.11 195.157 1159.78 198.814 L1174.97 198.791 Z\" fill=\"#000000\" fill-rule=\"evenodd\" fill-opacity=\"1\" /><path clip-path=\"url(#clip450)\" d=\"M1207.77 198.421 L1207.77 214.069 L1203.51 214.069 L1203.51 198.559 Q1203.51 194.879 1202.08 193.05 Q1200.64 191.222 1197.77 191.222 Q1194.32 191.222 1192.33 193.421 Q1190.34 195.62 1190.34 199.416 L1190.34 214.069 L1186.06 214.069 L1186.06 188.143 L1190.34 188.143 L1190.34 192.171 Q1191.87 189.833 1193.93 188.675 Q1196.01 187.518 1198.72 187.518 Q1203.19 187.518 1205.48 190.296 Q1207.77 193.05 1207.77 198.421 Z\" fill=\"#000000\" fill-rule=\"evenodd\" fill-opacity=\"1\" /><path clip-path=\"url(#clip450)\" d=\"M1234.92 189.138 L1234.92 193.12 Q1233.12 192.124 1231.29 191.638 Q1229.48 191.129 1227.63 191.129 Q1223.49 191.129 1221.2 193.768 Q1218.9 196.384 1218.9 201.129 Q1218.9 205.874 1221.2 208.513 Q1223.49 211.129 1227.63 211.129 Q1229.48 211.129 1231.29 210.643 Q1233.12 210.133 1234.92 209.138 L1234.92 213.073 Q1233.14 213.907 1231.22 214.323 Q1229.32 214.74 1227.17 214.74 Q1221.31 214.74 1217.86 211.059 Q1214.41 207.379 1214.41 201.129 Q1214.41 194.786 1217.89 191.152 Q1221.38 187.518 1227.45 187.518 Q1229.41 187.518 1231.29 187.935 Q1233.16 188.328 1234.92 189.138 Z\" fill=\"#000000\" fill-rule=\"evenodd\" fill-opacity=\"1\" /><path clip-path=\"url(#clip450)\" d=\"M1264.51 200.041 L1264.51 202.124 L1244.92 202.124 Q1245.2 206.522 1247.56 208.837 Q1249.95 211.129 1254.18 211.129 Q1256.64 211.129 1258.93 210.527 Q1261.24 209.925 1263.51 208.721 L1263.51 212.749 Q1261.22 213.721 1258.81 214.231 Q1256.4 214.74 1253.93 214.74 Q1247.72 214.74 1244.09 211.129 Q1240.48 207.518 1240.48 201.36 Q1240.48 194.995 1243.9 191.268 Q1247.35 187.518 1253.19 187.518 Q1258.42 187.518 1261.45 190.897 Q1264.51 194.254 1264.51 200.041 M1260.25 198.791 Q1260.2 195.296 1258.28 193.212 Q1256.38 191.129 1253.23 191.129 Q1249.67 191.129 1247.51 193.143 Q1245.39 195.157 1245.06 198.814 L1260.25 198.791 Z\" fill=\"#000000\" fill-rule=\"evenodd\" fill-opacity=\"1\" /><path clip-path=\"url(#clip450)\" d=\"M1270.83 178.097 L1274.53 178.097 Q1278 183.56 1279.71 188.791 Q1281.45 194.022 1281.45 199.184 Q1281.45 204.37 1279.71 209.624 Q1278 214.879 1274.53 220.319 L1270.83 220.319 Q1273.9 215.018 1275.41 209.786 Q1276.94 204.532 1276.94 199.184 Q1276.94 193.837 1275.41 188.629 Q1273.9 183.421 1270.83 178.097 Z\" fill=\"#000000\" fill-rule=\"evenodd\" fill-opacity=\"1\" /><polyline clip-path=\"url(#clip450)\" style=\"stroke:#3da44d; stroke-linecap:butt; stroke-linejoin:round; stroke-width:4; stroke-opacity:1; fill:none\" points=\"\n  814.11,248.629 956.911,248.629 \n  \"/>\n<path clip-path=\"url(#clip450)\" d=\"M1005.36 239.983 L995.989 252.599 L1005.85 265.909 L1000.83 265.909 L993.28 255.723 L985.734 265.909 L980.711 265.909 L990.78 252.344 L981.567 239.983 L986.59 239.983 L993.465 249.219 L1000.34 239.983 L1005.36 239.983 Z\" fill=\"#000000\" fill-rule=\"evenodd\" fill-opacity=\"1\" /><path clip-path=\"url(#clip450)\" d=\"M1037.17 229.937 Q1034.07 235.261 1032.56 240.469 Q1031.06 245.677 1031.06 251.024 Q1031.06 256.372 1032.56 261.626 Q1034.09 266.858 1037.17 272.159 L1033.47 272.159 Q1029.99 266.719 1028.26 261.464 Q1026.54 256.21 1026.54 251.024 Q1026.54 245.862 1028.26 240.631 Q1029.97 235.4 1033.47 229.937 L1037.17 229.937 Z\" fill=\"#000000\" fill-rule=\"evenodd\" fill-opacity=\"1\" /><path clip-path=\"url(#clip450)\" d=\"M1040.83 231.349 L1070.06 231.349 L1070.06 235.284 L1057.79 235.284 L1057.79 265.909 L1053.09 265.909 L1053.09 235.284 L1040.83 235.284 L1040.83 231.349 Z\" fill=\"#000000\" fill-rule=\"evenodd\" fill-opacity=\"1\" /><path clip-path=\"url(#clip450)\" d=\"M1083.49 265.909 L1070.29 231.349 L1075.18 231.349 L1086.13 260.446 L1097.1 231.349 L1101.96 231.349 L1088.79 265.909 L1083.49 265.909 Z\" fill=\"#000000\" fill-rule=\"evenodd\" fill-opacity=\"1\" /><path clip-path=\"url(#clip450)\" d=\"M1107.01 231.349 L1111.68 231.349 L1111.68 261.973 L1128.51 261.973 L1128.51 265.909 L1107.01 265.909 L1107.01 231.349 Z\" fill=\"#000000\" fill-rule=\"evenodd\" fill-opacity=\"1\" /><path clip-path=\"url(#clip450)\" d=\"M1147.45 234.52 Q1142.35 234.52 1139.34 238.316 Q1136.36 242.112 1136.36 248.663 Q1136.36 255.191 1139.34 258.987 Q1142.35 262.784 1147.45 262.784 Q1152.54 262.784 1155.5 258.987 Q1158.49 255.191 1158.49 248.663 Q1158.49 242.112 1155.5 238.316 Q1152.54 234.52 1147.45 234.52 M1154 265.284 L1160.15 272.02 L1154.51 272.02 L1149.39 266.487 Q1148.63 266.534 1148.21 266.557 Q1147.82 266.58 1147.45 266.58 Q1140.15 266.58 1135.78 261.719 Q1131.43 256.835 1131.43 248.663 Q1131.43 240.469 1135.78 235.608 Q1140.15 230.724 1147.45 230.724 Q1154.71 230.724 1159.07 235.608 Q1163.42 240.469 1163.42 248.663 Q1163.42 254.682 1160.99 258.964 Q1158.58 263.247 1154 265.284 Z\" fill=\"#000000\" fill-rule=\"evenodd\" fill-opacity=\"1\" /><path clip-path=\"url(#clip450)\" d=\"M1187.12 249.705 Q1188.63 250.214 1190.04 251.881 Q1191.47 253.548 1192.91 256.464 L1197.65 265.909 L1192.63 265.909 L1188.21 257.043 Q1186.5 253.571 1184.88 252.436 Q1183.28 251.302 1180.5 251.302 L1175.41 251.302 L1175.41 265.909 L1170.73 265.909 L1170.73 231.349 L1181.29 231.349 Q1187.21 231.349 1190.13 233.825 Q1193.05 236.302 1193.05 241.302 Q1193.05 244.566 1191.52 246.719 Q1190.02 248.872 1187.12 249.705 M1175.41 235.191 L1175.41 247.46 L1181.29 247.46 Q1184.67 247.46 1186.38 245.909 Q1188.12 244.335 1188.12 241.302 Q1188.12 238.27 1186.38 236.742 Q1184.67 235.191 1181.29 235.191 L1175.41 235.191 Z\" fill=\"#000000\" fill-rule=\"evenodd\" fill-opacity=\"1\" /><path clip-path=\"url(#clip450)\" d=\"M1202.82 229.937 L1206.52 229.937 Q1209.99 235.4 1211.71 240.631 Q1213.44 245.862 1213.44 251.024 Q1213.44 256.21 1211.71 261.464 Q1209.99 266.719 1206.52 272.159 L1202.82 272.159 Q1205.89 266.858 1207.4 261.626 Q1208.93 256.372 1208.93 251.024 Q1208.93 245.677 1207.4 240.469 Q1205.89 235.261 1202.82 229.937 Z\" fill=\"#000000\" fill-rule=\"evenodd\" fill-opacity=\"1\" /><polyline clip-path=\"url(#clip450)\" style=\"stroke:#c271d2; stroke-linecap:butt; stroke-linejoin:round; stroke-width:4; stroke-opacity:1; fill:none\" points=\"\n  814.11,300.469 956.911,300.469 \n  \"/>\n<path clip-path=\"url(#clip450)\" d=\"M999.97 301.314 L985.225 301.314 Q985.572 308.235 987.169 311.175 Q989.16 314.786 992.609 314.786 Q996.081 314.786 998.002 311.151 Q999.692 307.957 999.97 301.314 M999.901 297.378 Q999.252 290.804 998.002 288.49 Q996.012 284.832 992.609 284.832 Q989.067 284.832 987.192 288.443 Q985.711 291.36 985.271 297.378 L999.901 297.378 M992.609 281.36 Q998.164 281.36 1001.34 286.267 Q1004.51 291.152 1004.51 299.809 Q1004.51 308.443 1001.34 313.35 Q998.164 318.281 992.609 318.281 Q987.03 318.281 983.882 313.35 Q980.711 308.443 980.711 299.809 Q980.711 291.152 983.882 286.267 Q987.03 281.36 992.609 281.36 Z\" fill=\"#000000\" fill-rule=\"evenodd\" fill-opacity=\"1\" /><path clip-path=\"url(#clip450)\" d=\"M1036.87 281.777 Q1033.77 287.101 1032.26 292.309 Q1030.76 297.517 1030.76 302.864 Q1030.76 308.212 1032.26 313.466 Q1033.79 318.698 1036.87 323.999 L1033.16 323.999 Q1029.69 318.559 1027.96 313.304 Q1026.24 308.05 1026.24 302.864 Q1026.24 297.702 1027.96 292.471 Q1029.67 287.24 1033.16 281.777 L1036.87 281.777 Z\" fill=\"#000000\" fill-rule=\"evenodd\" fill-opacity=\"1\" /><path clip-path=\"url(#clip450)\" d=\"M1040.53 283.189 L1069.76 283.189 L1069.76 287.124 L1057.49 287.124 L1057.49 317.749 L1052.79 317.749 L1052.79 287.124 L1040.53 287.124 L1040.53 283.189 Z\" fill=\"#000000\" fill-rule=\"evenodd\" fill-opacity=\"1\" /><path clip-path=\"url(#clip450)\" d=\"M1083.19 317.749 L1069.99 283.189 L1074.88 283.189 L1085.83 312.286 L1096.8 283.189 L1101.66 283.189 L1088.49 317.749 L1083.19 317.749 Z\" fill=\"#000000\" fill-rule=\"evenodd\" fill-opacity=\"1\" /><path clip-path=\"url(#clip450)\" d=\"M1106.71 283.189 L1111.38 283.189 L1111.38 313.813 L1128.21 313.813 L1128.21 317.749 L1106.71 317.749 L1106.71 283.189 Z\" fill=\"#000000\" fill-rule=\"evenodd\" fill-opacity=\"1\" /><path clip-path=\"url(#clip450)\" d=\"M1147.15 286.36 Q1142.05 286.36 1139.04 290.156 Q1136.06 293.952 1136.06 300.503 Q1136.06 307.031 1139.04 310.827 Q1142.05 314.624 1147.15 314.624 Q1152.24 314.624 1155.2 310.827 Q1158.19 307.031 1158.19 300.503 Q1158.19 293.952 1155.2 290.156 Q1152.24 286.36 1147.15 286.36 M1153.7 317.124 L1159.85 323.86 L1154.21 323.86 L1149.09 318.327 Q1148.33 318.374 1147.91 318.397 Q1147.52 318.42 1147.15 318.42 Q1139.85 318.42 1135.48 313.559 Q1131.13 308.675 1131.13 300.503 Q1131.13 292.309 1135.48 287.448 Q1139.85 282.564 1147.15 282.564 Q1154.41 282.564 1158.77 287.448 Q1163.12 292.309 1163.12 300.503 Q1163.12 306.522 1160.69 310.804 Q1158.28 315.087 1153.7 317.124 Z\" fill=\"#000000\" fill-rule=\"evenodd\" fill-opacity=\"1\" /><path clip-path=\"url(#clip450)\" d=\"M1186.82 301.545 Q1188.33 302.054 1189.74 303.721 Q1191.17 305.388 1192.61 308.304 L1197.35 317.749 L1192.33 317.749 L1187.91 308.883 Q1186.2 305.411 1184.58 304.276 Q1182.98 303.142 1180.2 303.142 L1175.11 303.142 L1175.11 317.749 L1170.43 317.749 L1170.43 283.189 L1180.99 283.189 Q1186.91 283.189 1189.83 285.665 Q1192.75 288.142 1192.75 293.142 Q1192.75 296.406 1191.22 298.559 Q1189.71 300.712 1186.82 301.545 M1175.11 287.031 L1175.11 299.3 L1180.99 299.3 Q1184.37 299.3 1186.08 297.749 Q1187.82 296.175 1187.82 293.142 Q1187.82 290.11 1186.08 288.582 Q1184.37 287.031 1180.99 287.031 L1175.11 287.031 Z\" fill=\"#000000\" fill-rule=\"evenodd\" fill-opacity=\"1\" /><path clip-path=\"url(#clip450)\" d=\"M1202.52 281.777 L1206.22 281.777 Q1209.69 287.24 1211.4 292.471 Q1213.14 297.702 1213.14 302.864 Q1213.14 308.05 1211.4 313.304 Q1209.69 318.559 1206.22 323.999 L1202.52 323.999 Q1205.59 318.698 1207.1 313.466 Q1208.63 308.212 1208.63 302.864 Q1208.63 297.517 1207.1 292.309 Q1205.59 287.101 1202.52 281.777 Z\" fill=\"#000000\" fill-rule=\"evenodd\" fill-opacity=\"1\" /></svg>\n"
     },
     "execution_count": 44,
     "metadata": {},
     "output_type": "execute_result"
    }
   ],
   "source": [
    "X_ref = vec(Matrix(map(x -> vec(x), X_test[:,2]')))\n",
    "U_ref = vec(Matrix(map(u -> vec(u), U_test[:,2]')))\n",
    "\n",
    "push!(X_ref, [0.0, pi, 0.0, 0.0])\n",
    "push!(U_ref, [0.0])\n",
    "\n",
    "num_knot = length(X_ref)\n",
    "uN = length(U_ref)\n",
    "\n",
    "A = [zeros(n,n) for k = 1:uN]\n",
    "B = [zeros(n,m) for k = 1:uN]\n",
    "\n",
    "for k in 1:uN\n",
    "    A[k] = FiniteDiff.finite_difference_jacobian(x -> dynamics_bilinear2(x, U_ref[k], 0.0, dt), X_ref[k])\n",
    "    B[k] = FiniteDiff.finite_difference_jacobian(u -> dynamics_bilinear2(X_ref[k], u, 0.0, dt), U_ref[k])\n",
    "end\n",
    "\n",
    "Qtvlqr = [Diagonal([0.2,10,1e-2,1e-2]) for k in 1:num_knot]\n",
    "Rtvlqr = [Diagonal([1]) for k in 1:num_knot]\n",
    "\n",
    "tvlqr_ctrl = TVLQRController(A, B, Qtvlqr, Rtvlqr, X_ref, U_ref, times)\n",
    "t_sim = 3.5\n",
    "times_sim = range(0,t_sim,step=dt)\n",
    "x0 = [0.0, 0.0, 0.0, 0.0]\n",
    "\n",
    "Xsim_tvlqr, = simulatewithcontroller(dmodel, tvlqr_ctrl, x0, t_sim, dt)\n",
    "plotstates(times, X_ref[1:end-1], inds=1:2, xlabel=\"time (s)\", ylabel=\"states\", label=[\"x (reference)\" \"θ (reference)\"], legend=:top, lw=2)\n",
    "plotstates!(times_sim, Xsim_tvlqr, inds=1:2, xlabel=\"time (s)\", ylabel=\"states\", label=[\"x (TVLQR)\" \"θ (TVLQR)\"], legend=:top, lw=2)"
   ]
  },
  {
   "cell_type": "code",
   "execution_count": 41,
   "metadata": {},
   "outputs": [
    {
     "data": {
      "text/html": [
       "    <div style=\"height: 500px; width: 100%; overflow-x: auto; overflow-y: hidden; resize: both\">\n",
       "    <iframe src=\"http://127.0.0.1:8702\" style=\"width: 100%; height: 100%; border: none\"></iframe>\n",
       "    </div>\n"
      ],
      "text/plain": [
       "MeshCat.DisplayedVisualizer(MeshCat.CoreVisualizer(MeshCat.SceneTrees.SceneNode(nothing, nothing, Dict{String, Vector{UInt8}}(), UInt8[0x83, 0xa7, 0x6f, 0x70, 0x74, 0x69, 0x6f, 0x6e, 0x73, 0x82  …  0x5f, 0x61, 0x6e, 0x69, 0x6d, 0x61, 0x74, 0x69, 0x6f, 0x6e], Dict{String, MeshCat.SceneTrees.SceneNode}(\"meshcat\" => MeshCat.SceneTrees.SceneNode(nothing, nothing, Dict{String, Vector{UInt8}}(), nothing, Dict{String, MeshCat.SceneTrees.SceneNode}(\"robot\" => MeshCat.SceneTrees.SceneNode(nothing, nothing, Dict{String, Vector{UInt8}}(), nothing, Dict{String, MeshCat.SceneTrees.SceneNode}(\"rod\" => MeshCat.SceneTrees.SceneNode(UInt8[0x83, 0xa6, 0x6f, 0x62, 0x6a, 0x65, 0x63, 0x74, 0x84, 0xaa  …  0x2f, 0x72, 0x6f, 0x62, 0x6f, 0x74, 0x2f, 0x72, 0x6f, 0x64], nothing, Dict{String, Vector{UInt8}}(), nothing, Dict{String, MeshCat.SceneTrees.SceneNode}()), \"cart\" => MeshCat.SceneTrees.SceneNode(nothing, nothing, Dict{String, Vector{UInt8}}(), nothing, Dict{String, MeshCat.SceneTrees.SceneNode}(\"pole\" => MeshCat.SceneTrees.SceneNode(nothing, UInt8[0x83, 0xa6, 0x6d, 0x61, 0x74, 0x72, 0x69, 0x78, 0xc7, 0x40  …  0x2f, 0x63, 0x61, 0x72, 0x74, 0x2f, 0x70, 0x6f, 0x6c, 0x65], Dict{String, Vector{UInt8}}(), nothing, Dict{String, MeshCat.SceneTrees.SceneNode}(\"geom\" => MeshCat.SceneTrees.SceneNode(nothing, nothing, Dict{String, Vector{UInt8}}(), nothing, Dict{String, MeshCat.SceneTrees.SceneNode}(\"cyl\" => MeshCat.SceneTrees.SceneNode(UInt8[0x83, 0xa6, 0x6f, 0x62, 0x6a, 0x65, 0x63, 0x74, 0x84, 0xaa  …  0x65, 0x2f, 0x67, 0x65, 0x6f, 0x6d, 0x2f, 0x63, 0x79, 0x6c], nothing, Dict{String, Vector{UInt8}}(), nothing, Dict{String, MeshCat.SceneTrees.SceneNode}()), \"mass\" => MeshCat.SceneTrees.SceneNode(UInt8[0x83, 0xa6, 0x6f, 0x62, 0x6a, 0x65, 0x63, 0x74, 0x84, 0xaa  …  0x2f, 0x67, 0x65, 0x6f, 0x6d, 0x2f, 0x6d, 0x61, 0x73, 0x73], nothing, Dict{String, Vector{UInt8}}(), nothing, Dict{String, MeshCat.SceneTrees.SceneNode}()))))), \"box\" => MeshCat.SceneTrees.SceneNode(UInt8[0x83, 0xa6, 0x6f, 0x62, 0x6a, 0x65, 0x63, 0x74, 0x84, 0xaa  …  0x74, 0x2f, 0x63, 0x61, 0x72, 0x74, 0x2f, 0x62, 0x6f, 0x78], nothing, Dict{String, Vector{UInt8}}(), nothing, Dict{String, MeshCat.SceneTrees.SceneNode}()), \"hinge\" => MeshCat.SceneTrees.SceneNode(UInt8[0x83, 0xa6, 0x6f, 0x62, 0x6a, 0x65, 0x63, 0x74, 0x84, 0xaa  …  0x63, 0x61, 0x72, 0x74, 0x2f, 0x68, 0x69, 0x6e, 0x67, 0x65], nothing, Dict{String, Vector{UInt8}}(), nothing, Dict{String, MeshCat.SceneTrees.SceneNode}()))))))))), Set(Any[WebSocket(server, \u001b[32mCONNECTED\u001b[39m), WebSocket(server, \u001b[32mCONNECTED\u001b[39m), WebSocket(server, \u001b[32mCONNECTED\u001b[39m)]), ip\"127.0.0.1\", 8702))"
      ]
     },
     "execution_count": 41,
     "metadata": {},
     "output_type": "execute_result"
    }
   ],
   "source": [
    "render(vis)"
   ]
  },
  {
   "cell_type": "code",
   "execution_count": 42,
   "metadata": {},
   "outputs": [],
   "source": [
    "visualize!(vis, model, t_sim, Xsim_tvlqr)"
   ]
  }
 ],
 "metadata": {
  "kernelspec": {
   "display_name": "Julia (10 Threads) 1.7.2",
   "language": "julia",
   "name": "julia-(10-threads)-1.7"
  },
  "language_info": {
   "file_extension": ".jl",
   "mimetype": "application/julia",
   "name": "julia",
   "version": "1.7.2"
  },
  "orig_nbformat": 4
 },
 "nbformat": 4,
 "nbformat_minor": 2
}
